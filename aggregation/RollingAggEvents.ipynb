{
 "cells": [
  {
   "cell_type": "code",
   "execution_count": 1,
   "metadata": {
    "ExecuteTime": {
     "end_time": "2019-03-05T03:32:05.995024Z",
     "start_time": "2019-03-05T03:32:04.688853Z"
    }
   },
   "outputs": [],
   "source": [
    "import pandas as pd\n",
    "import numpy as np\n",
    "import matplotlib.pyplot as plt\n",
    "plt.rcParams['figure.figsize'] = [16, 6]\n",
    "plt.style.use('ggplot')"
   ]
  },
  {
   "cell_type": "code",
   "execution_count": 2,
   "metadata": {
    "ExecuteTime": {
     "end_time": "2019-03-05T03:32:06.889427Z",
     "start_time": "2019-03-05T03:32:06.825465Z"
    }
   },
   "outputs": [],
   "source": [
    "from concurrent.futures import ProcessPoolExecutor, as_completed\n",
    "from fastprogress import progress_bar\n",
    "\n",
    "def parallel(func, job_list, n_jobs=12):\n",
    "    with ProcessPoolExecutor(max_workers=n_jobs) as pool:\n",
    "        futures = [pool.submit(func, job) for job in job_list]\n",
    "        for f in progress_bar(as_completed(futures), total=len(job_list)):\n",
    "            pass\n",
    "    return [f.result() for f in futures]"
   ]
  },
  {
   "cell_type": "code",
   "execution_count": 3,
   "metadata": {
    "ExecuteTime": {
     "end_time": "2019-03-05T03:32:07.357137Z",
     "start_time": "2019-03-05T03:32:07.354150Z"
    }
   },
   "outputs": [],
   "source": [
    "import gc\n",
    "from warnings import filterwarnings\n",
    "filterwarnings(\"ignore\")"
   ]
  },
  {
   "cell_type": "code",
   "execution_count": 4,
   "metadata": {
    "ExecuteTime": {
     "end_time": "2019-03-05T03:32:07.920864Z",
     "start_time": "2019-03-05T03:32:07.917800Z"
    }
   },
   "outputs": [],
   "source": [
    "import datetime as dt\n",
    "def to_dt(x):\n",
    "    return dt.datetime.fromtimestamp(int(x/1000))"
   ]
  },
  {
   "cell_type": "code",
   "execution_count": 5,
   "metadata": {
    "ExecuteTime": {
     "end_time": "2019-03-05T03:32:08.523772Z",
     "start_time": "2019-03-05T03:32:08.519295Z"
    }
   },
   "outputs": [],
   "source": [
    "from multiprocessing import Pool\n",
    "num_partitions = 100\n",
    "num_cores = 12\n",
    "def parallelize_dataframe(df, func):\n",
    "    df_split = np.array_split(df, num_partitions)\n",
    "    pool = Pool(num_cores)\n",
    "    df = pd.concat(pool.map(func, df_split))\n",
    "    pool.close()\n",
    "    pool.join()\n",
    "    return df"
   ]
  },
  {
   "cell_type": "code",
   "execution_count": null,
   "metadata": {
    "ExecuteTime": {
     "start_time": "2019-02-27T08:07:59.787Z"
    }
   },
   "outputs": [],
   "source": [
    "atr = pd.read_pickle('../attributes2.pkl')"
   ]
  },
  {
   "cell_type": "code",
   "execution_count": null,
   "metadata": {
    "ExecuteTime": {
     "start_time": "2019-02-27T08:08:01.375Z"
    }
   },
   "outputs": [],
   "source": [
    "atr.head()"
   ]
  },
  {
   "cell_type": "code",
   "execution_count": null,
   "metadata": {
    "ExecuteTime": {
     "start_time": "2019-02-27T01:54:45.827Z"
    }
   },
   "outputs": [],
   "source": [
    "atr.drop(['week_start'], inplace=True, axis=1)"
   ]
  },
  {
   "cell_type": "code",
   "execution_count": null,
   "metadata": {
    "ExecuteTime": {
     "start_time": "2019-02-27T01:54:46.362Z"
    }
   },
   "outputs": [],
   "source": [
    "events.dtypes"
   ]
  },
  {
   "cell_type": "code",
   "execution_count": null,
   "metadata": {
    "ExecuteTime": {
     "start_time": "2019-02-27T01:54:46.961Z"
    }
   },
   "outputs": [],
   "source": [
    "events.sort_values(['system_time', 'user_id_hash'], inplace=True)"
   ]
  },
  {
   "cell_type": "code",
   "execution_count": null,
   "metadata": {
    "ExecuteTime": {
     "start_time": "2019-02-27T01:54:47.570Z"
    }
   },
   "outputs": [],
   "source": [
    "{'ab': 97, 'message': 98, 'campaing': 99}"
   ]
  },
  {
   "cell_type": "code",
   "execution_count": null,
   "metadata": {
    "ExecuteTime": {
     "start_time": "2019-02-27T01:54:49.630Z"
    }
   },
   "outputs": [],
   "source": [
    "events.shape"
   ]
  },
  {
   "cell_type": "code",
   "execution_count": 12,
   "metadata": {
    "ExecuteTime": {
     "end_time": "2019-02-27T00:53:01.802777Z",
     "start_time": "2019-02-27T00:53:01.742861Z"
    }
   },
   "outputs": [],
   "source": [
    "events.event = events.event.cat.add_categories([97, 98, 99])"
   ]
  },
  {
   "cell_type": "code",
   "execution_count": 13,
   "metadata": {
    "ExecuteTime": {
     "end_time": "2019-02-27T00:53:06.381251Z",
     "start_time": "2019-02-27T00:53:02.742259Z"
    }
   },
   "outputs": [],
   "source": [
    "events.loc[events.event_type == 'ab', 'event'] = 97\n",
    "events.loc[events.event_type == 'message', 'event'] = 98\n",
    "events.loc[events.event_type == 'campaing', 'event'] = 99"
   ]
  },
  {
   "cell_type": "code",
   "execution_count": 14,
   "metadata": {
    "ExecuteTime": {
     "end_time": "2019-02-27T00:53:19.635063Z",
     "start_time": "2019-02-27T00:53:07.734640Z"
    }
   },
   "outputs": [],
   "source": [
    "events.event = events.event.cat.remove_unused_categories()"
   ]
  },
  {
   "cell_type": "code",
   "execution_count": 15,
   "metadata": {
    "ExecuteTime": {
     "end_time": "2019-02-27T00:53:20.984049Z",
     "start_time": "2019-02-27T00:53:19.641749Z"
    }
   },
   "outputs": [
    {
     "data": {
      "text/plain": [
       "45    75493931\n",
       "1      5363926\n",
       "5      4887922\n",
       "6      4068474\n",
       "14     3491117\n",
       "4      3435363\n",
       "40     2775997\n",
       "7      1970903\n",
       "41     1969223\n",
       "97     1855428\n",
       "3      1828494\n",
       "42     1598212\n",
       "44      495590\n",
       "98      463225\n",
       "0       407118\n",
       "63      347198\n",
       "47      310038\n",
       "57      271268\n",
       "8       265034\n",
       "55      194341\n",
       "50       88641\n",
       "9        85832\n",
       "11       68328\n",
       "64       67966\n",
       "54       51687\n",
       "43       23850\n",
       "49       17955\n",
       "48       11912\n",
       "56        8267\n",
       "52        6688\n",
       "59        6651\n",
       "60        6370\n",
       "58        4167\n",
       "10        2362\n",
       "51        1446\n",
       "61        1062\n",
       "62         464\n",
       "99          83\n",
       "0/          35\n",
       "1/          28\n",
       "32           1\n",
       "Name: event, dtype: int64"
      ]
     },
     "execution_count": 15,
     "metadata": {},
     "output_type": "execute_result"
    }
   ],
   "source": [
    "events.event.value_counts()"
   ]
  },
  {
   "cell_type": "code",
   "execution_count": 16,
   "metadata": {
    "ExecuteTime": {
     "end_time": "2019-02-26T18:52:52.220541Z",
     "start_time": "2019-02-26T18:52:52.216894Z"
    }
   },
   "outputs": [],
   "source": [
    "drop_events = ['10', '51', '61', '62', '99', '0/', '1/', '32']"
   ]
  },
  {
   "cell_type": "code",
   "execution_count": 17,
   "metadata": {
    "ExecuteTime": {
     "end_time": "2019-02-26T18:54:12.525949Z",
     "start_time": "2019-02-26T18:52:52.222494Z"
    }
   },
   "outputs": [],
   "source": [
    "for e in drop_events:\n",
    "    even = events[events.event != e]"
   ]
  },
  {
   "cell_type": "code",
   "execution_count": 18,
   "metadata": {
    "ExecuteTime": {
     "end_time": "2019-02-26T18:54:15.099043Z",
     "start_time": "2019-02-26T18:54:12.529999Z"
    }
   },
   "outputs": [],
   "source": [
    "events.drop(['event_type'], inplace=True, axis=1)"
   ]
  },
  {
   "cell_type": "code",
   "execution_count": 34,
   "metadata": {
    "ExecuteTime": {
     "end_time": "2019-02-26T19:06:34.561685Z",
     "start_time": "2019-02-26T19:06:14.350154Z"
    }
   },
   "outputs": [],
   "source": [
    "events.to_pickle('../events2.pkl')"
   ]
  },
  {
   "cell_type": "code",
   "execution_count": 6,
   "metadata": {
    "ExecuteTime": {
     "end_time": "2019-02-27T02:21:47.269258Z",
     "start_time": "2019-02-27T02:21:31.801751Z"
    }
   },
   "outputs": [],
   "source": [
    "events = pd.read_pickle('../events2.pkl')"
   ]
  },
  {
   "cell_type": "code",
   "execution_count": 7,
   "metadata": {
    "ExecuteTime": {
     "end_time": "2019-02-27T02:23:11.398534Z",
     "start_time": "2019-02-27T02:23:07.567981Z"
    }
   },
   "outputs": [],
   "source": [
    "events.drop(['session_id', 'system_date', 'event_timestamp'], inplace=True, axis=1)"
   ]
  },
  {
   "cell_type": "code",
   "execution_count": 8,
   "metadata": {
    "ExecuteTime": {
     "end_time": "2019-02-27T02:23:12.515876Z",
     "start_time": "2019-02-27T02:23:12.507750Z"
    }
   },
   "outputs": [
    {
     "data": {
      "text/plain": [
       "event                 category\n",
       "event_value            float64\n",
       "user_id_hash          category\n",
       "system_time     datetime64[ns]\n",
       "anchor_date     datetime64[ns]\n",
       "dtype: object"
      ]
     },
     "execution_count": 8,
     "metadata": {},
     "output_type": "execute_result"
    }
   ],
   "source": [
    "events.dtypes"
   ]
  },
  {
   "cell_type": "code",
   "execution_count": 9,
   "metadata": {
    "ExecuteTime": {
     "end_time": "2019-02-27T02:23:13.599335Z",
     "start_time": "2019-02-27T02:23:13.551901Z"
    }
   },
   "outputs": [
    {
     "data": {
      "text/plain": [
       "7"
      ]
     },
     "execution_count": 9,
     "metadata": {},
     "output_type": "execute_result"
    }
   ],
   "source": [
    "gc.collect()"
   ]
  },
  {
   "cell_type": "code",
   "execution_count": 10,
   "metadata": {
    "ExecuteTime": {
     "end_time": "2019-02-27T02:23:15.890861Z",
     "start_time": "2019-02-27T02:23:15.885819Z"
    }
   },
   "outputs": [],
   "source": [
    "def wrapper_get_anchor_date(i, df):\n",
    "#     df['anchor_date'] = (df.system_time - \\\n",
    "#                             df.system_time.dt.weekday\\\n",
    "#                               .apply(lambda x: x + i)\\\n",
    "#                               .astype('timedelta64[D]')).dt.date\n",
    "\n",
    "    df['anchor_date'] = (df.system_time - df.system_time.dt.weekday\\\n",
    "                                   .apply(lambda x: dt.timedelta(days=(x+i) % 7)))\\\n",
    "                                   .dt.date\n",
    "    df.anchor_date = df.anchor_date.astype('datetime64[ns]')\n",
    "\n",
    "    return df"
   ]
  },
  {
   "cell_type": "code",
   "execution_count": 11,
   "metadata": {
    "ExecuteTime": {
     "end_time": "2019-02-27T02:23:23.955697Z",
     "start_time": "2019-02-27T02:23:23.952227Z"
    }
   },
   "outputs": [],
   "source": [
    "from functools import partial"
   ]
  },
  {
   "cell_type": "code",
   "execution_count": 12,
   "metadata": {
    "ExecuteTime": {
     "end_time": "2019-02-27T02:23:25.890651Z",
     "start_time": "2019-02-27T02:23:25.882490Z"
    }
   },
   "outputs": [],
   "source": [
    "def get_mode(x):\n",
    "    try:\n",
    "        return x.value_counts().index[0]\n",
    "    except:\n",
    "        return None\n",
    "\n",
    "def custom_aggregate(df):\n",
    "\n",
    "    grp_cols = ['anchor_date', 'event', 'user_id_hash']\n",
    "    grpby_obj = df.groupby(grp_cols)\n",
    "    \n",
    "    temp = grpby_obj.event_value.count().to_frame().reset_index()\\\n",
    "                .rename(columns={'event_value': 'event_count'})\n",
    "    temp1 = grpby_obj.event_value.sum().to_frame().reset_index()\\\n",
    "                .rename(columns={'event_value': 'event_sum'})\n",
    "    temp2 = grpby_obj.event_value.mean().to_frame().reset_index()\\\n",
    "                .rename(columns={'event_value': 'event_mean'})\n",
    "    temp3 = grpby_obj.event_value.agg(lambda x: get_mode(x))\\\n",
    "                                 .to_frame().reset_index()\\\n",
    "                                 .rename(columns={'event_value': 'event_mode'})\n",
    "\n",
    "    for i in range(1, 4):\n",
    "        temp = temp.merge(locals()[f'temp{i}'], \n",
    "                          on=grp_cols)\n",
    "    return temp"
   ]
  },
  {
   "cell_type": "code",
   "execution_count": 13,
   "metadata": {
    "ExecuteTime": {
     "end_time": "2019-02-27T02:23:29.052305Z",
     "start_time": "2019-02-27T02:23:29.048766Z"
    }
   },
   "outputs": [],
   "source": [
    "def wrapper_agg(wst):\n",
    "    events_ss = events[events.anchor_date == wst].copy()\n",
    "    return custom_aggregate(events_ss)"
   ]
  },
  {
   "cell_type": "code",
   "execution_count": 14,
   "metadata": {
    "ExecuteTime": {
     "end_time": "2019-02-27T02:24:10.747623Z",
     "start_time": "2019-02-27T02:23:29.757779Z"
    }
   },
   "outputs": [],
   "source": [
    "time_df = events.system_time.dt.date.unique()"
   ]
  },
  {
   "cell_type": "code",
   "execution_count": 15,
   "metadata": {
    "ExecuteTime": {
     "end_time": "2019-02-27T02:25:04.378169Z",
     "start_time": "2019-02-27T02:25:04.373602Z"
    }
   },
   "outputs": [],
   "source": [
    "time_df = pd.DataFrame({'system_time': time_df})"
   ]
  },
  {
   "cell_type": "code",
   "execution_count": 16,
   "metadata": {
    "ExecuteTime": {
     "end_time": "2019-02-27T02:25:05.981019Z",
     "start_time": "2019-02-27T02:25:05.973926Z"
    }
   },
   "outputs": [],
   "source": [
    "time_df.system_time = time_df.system_time.astype('datetime64[ns]')"
   ]
  },
  {
   "cell_type": "code",
   "execution_count": 17,
   "metadata": {
    "ExecuteTime": {
     "end_time": "2019-02-27T02:25:08.611655Z",
     "start_time": "2019-02-27T02:25:08.607898Z"
    }
   },
   "outputs": [],
   "source": [
    "events.reset_index(inplace=True, drop=True)"
   ]
  },
  {
   "cell_type": "code",
   "execution_count": 19,
   "metadata": {
    "ExecuteTime": {
     "end_time": "2019-02-27T03:35:53.167684Z",
     "start_time": "2019-02-27T02:25:43.295792Z"
    }
   },
   "outputs": [
    {
     "name": "stdout",
     "output_type": "stream",
     "text": [
      "0\n"
     ]
    },
    {
     "data": {
      "text/html": [
       "\n",
       "    <div>\n",
       "        <style>\n",
       "            /* Turns off some styling */\n",
       "            progress {\n",
       "                /* gets rid of default border in Firefox and Opera. */\n",
       "                border: none;\n",
       "                /* Needs to be in here for Safari polyfill so background images work as expected. */\n",
       "                background-size: auto;\n",
       "            }\n",
       "            .progress-bar-interrupted, .progress-bar-interrupted::-webkit-progress-bar {\n",
       "                background: #F44336;\n",
       "            }\n",
       "        </style>\n",
       "      <progress value='11' class='' max='11', style='width:300px; height:20px; vertical-align: middle;'></progress>\n",
       "      100.00% [11/11 08:28<00:00]\n",
       "    </div>\n",
       "    "
      ],
      "text/plain": [
       "<IPython.core.display.HTML object>"
      ]
     },
     "metadata": {},
     "output_type": "display_data"
    },
    {
     "name": "stdout",
     "output_type": "stream",
     "text": [
      "1\n"
     ]
    },
    {
     "data": {
      "text/html": [
       "\n",
       "    <div>\n",
       "        <style>\n",
       "            /* Turns off some styling */\n",
       "            progress {\n",
       "                /* gets rid of default border in Firefox and Opera. */\n",
       "                border: none;\n",
       "                /* Needs to be in here for Safari polyfill so background images work as expected. */\n",
       "                background-size: auto;\n",
       "            }\n",
       "            .progress-bar-interrupted, .progress-bar-interrupted::-webkit-progress-bar {\n",
       "                background: #F44336;\n",
       "            }\n",
       "        </style>\n",
       "      <progress value='11' class='' max='11', style='width:300px; height:20px; vertical-align: middle;'></progress>\n",
       "      100.00% [11/11 08:53<00:00]\n",
       "    </div>\n",
       "    "
      ],
      "text/plain": [
       "<IPython.core.display.HTML object>"
      ]
     },
     "metadata": {},
     "output_type": "display_data"
    },
    {
     "name": "stdout",
     "output_type": "stream",
     "text": [
      "2\n"
     ]
    },
    {
     "data": {
      "text/html": [
       "\n",
       "    <div>\n",
       "        <style>\n",
       "            /* Turns off some styling */\n",
       "            progress {\n",
       "                /* gets rid of default border in Firefox and Opera. */\n",
       "                border: none;\n",
       "                /* Needs to be in here for Safari polyfill so background images work as expected. */\n",
       "                background-size: auto;\n",
       "            }\n",
       "            .progress-bar-interrupted, .progress-bar-interrupted::-webkit-progress-bar {\n",
       "                background: #F44336;\n",
       "            }\n",
       "        </style>\n",
       "      <progress value='11' class='' max='11', style='width:300px; height:20px; vertical-align: middle;'></progress>\n",
       "      100.00% [11/11 08:20<00:00]\n",
       "    </div>\n",
       "    "
      ],
      "text/plain": [
       "<IPython.core.display.HTML object>"
      ]
     },
     "metadata": {},
     "output_type": "display_data"
    },
    {
     "name": "stdout",
     "output_type": "stream",
     "text": [
      "3\n"
     ]
    },
    {
     "data": {
      "text/html": [
       "\n",
       "    <div>\n",
       "        <style>\n",
       "            /* Turns off some styling */\n",
       "            progress {\n",
       "                /* gets rid of default border in Firefox and Opera. */\n",
       "                border: none;\n",
       "                /* Needs to be in here for Safari polyfill so background images work as expected. */\n",
       "                background-size: auto;\n",
       "            }\n",
       "            .progress-bar-interrupted, .progress-bar-interrupted::-webkit-progress-bar {\n",
       "                background: #F44336;\n",
       "            }\n",
       "        </style>\n",
       "      <progress value='12' class='' max='12', style='width:300px; height:20px; vertical-align: middle;'></progress>\n",
       "      100.00% [12/12 08:25<00:00]\n",
       "    </div>\n",
       "    "
      ],
      "text/plain": [
       "<IPython.core.display.HTML object>"
      ]
     },
     "metadata": {},
     "output_type": "display_data"
    },
    {
     "name": "stdout",
     "output_type": "stream",
     "text": [
      "4\n"
     ]
    },
    {
     "data": {
      "text/html": [
       "\n",
       "    <div>\n",
       "        <style>\n",
       "            /* Turns off some styling */\n",
       "            progress {\n",
       "                /* gets rid of default border in Firefox and Opera. */\n",
       "                border: none;\n",
       "                /* Needs to be in here for Safari polyfill so background images work as expected. */\n",
       "                background-size: auto;\n",
       "            }\n",
       "            .progress-bar-interrupted, .progress-bar-interrupted::-webkit-progress-bar {\n",
       "                background: #F44336;\n",
       "            }\n",
       "        </style>\n",
       "      <progress value='12' class='' max='12', style='width:300px; height:20px; vertical-align: middle;'></progress>\n",
       "      100.00% [12/12 09:30<00:00]\n",
       "    </div>\n",
       "    "
      ],
      "text/plain": [
       "<IPython.core.display.HTML object>"
      ]
     },
     "metadata": {},
     "output_type": "display_data"
    },
    {
     "name": "stdout",
     "output_type": "stream",
     "text": [
      "5\n"
     ]
    },
    {
     "data": {
      "text/html": [
       "\n",
       "    <div>\n",
       "        <style>\n",
       "            /* Turns off some styling */\n",
       "            progress {\n",
       "                /* gets rid of default border in Firefox and Opera. */\n",
       "                border: none;\n",
       "                /* Needs to be in here for Safari polyfill so background images work as expected. */\n",
       "                background-size: auto;\n",
       "            }\n",
       "            .progress-bar-interrupted, .progress-bar-interrupted::-webkit-progress-bar {\n",
       "                background: #F44336;\n",
       "            }\n",
       "        </style>\n",
       "      <progress value='12' class='' max='12', style='width:300px; height:20px; vertical-align: middle;'></progress>\n",
       "      100.00% [12/12 08:11<00:00]\n",
       "    </div>\n",
       "    "
      ],
      "text/plain": [
       "<IPython.core.display.HTML object>"
      ]
     },
     "metadata": {},
     "output_type": "display_data"
    },
    {
     "name": "stdout",
     "output_type": "stream",
     "text": [
      "6\n"
     ]
    },
    {
     "data": {
      "text/html": [
       "\n",
       "    <div>\n",
       "        <style>\n",
       "            /* Turns off some styling */\n",
       "            progress {\n",
       "                /* gets rid of default border in Firefox and Opera. */\n",
       "                border: none;\n",
       "                /* Needs to be in here for Safari polyfill so background images work as expected. */\n",
       "                background-size: auto;\n",
       "            }\n",
       "            .progress-bar-interrupted, .progress-bar-interrupted::-webkit-progress-bar {\n",
       "                background: #F44336;\n",
       "            }\n",
       "        </style>\n",
       "      <progress value='12' class='' max='12', style='width:300px; height:20px; vertical-align: middle;'></progress>\n",
       "      100.00% [12/12 08:25<00:00]\n",
       "    </div>\n",
       "    "
      ],
      "text/plain": [
       "<IPython.core.display.HTML object>"
      ]
     },
     "metadata": {},
     "output_type": "display_data"
    }
   ],
   "source": [
    "results = []\n",
    "for i in range(7):\n",
    "    temp = dict(zip(time_df.system_time.dt.date.values,\n",
    "                    (time_df.system_time - time_df.system_time.dt.weekday\\\n",
    "                     .apply(lambda x: dt.timedelta(days=(x+i) % 7)))\\\n",
    "                    .dt.date.values))\n",
    "    events['anchor_date'] = events.system_time.dt.date.apply(lambda x: temp[x])\n",
    "    events.anchor_date = events.anchor_date.astype('datetime64[ns]')\n",
    "    print(f'{i}')\n",
    "    result = parallel(wrapper_agg, events.anchor_date.unique())\n",
    "    result = pd.concat(result)\n",
    "    results += [result]\n",
    "    gc.collect()"
   ]
  },
  {
   "cell_type": "code",
   "execution_count": 20,
   "metadata": {
    "ExecuteTime": {
     "end_time": "2019-02-27T03:46:45.205352Z",
     "start_time": "2019-02-27T03:46:37.764423Z"
    }
   },
   "outputs": [],
   "source": [
    "result = pd.concat(results)"
   ]
  },
  {
   "cell_type": "code",
   "execution_count": 21,
   "metadata": {
    "ExecuteTime": {
     "end_time": "2019-02-27T03:46:45.213234Z",
     "start_time": "2019-02-27T03:46:45.208486Z"
    }
   },
   "outputs": [
    {
     "data": {
      "text/plain": [
       "(56566389, 7)"
      ]
     },
     "execution_count": 21,
     "metadata": {},
     "output_type": "execute_result"
    }
   ],
   "source": [
    "result.shape"
   ]
  },
  {
   "cell_type": "code",
   "execution_count": 22,
   "metadata": {
    "ExecuteTime": {
     "end_time": "2019-02-27T03:46:57.130726Z",
     "start_time": "2019-02-27T03:46:47.815643Z"
    }
   },
   "outputs": [],
   "source": [
    "result.to_pickle('../events_roll_agg.pkl')"
   ]
  },
  {
   "cell_type": "code",
   "execution_count": null,
   "metadata": {},
   "outputs": [],
   "source": []
  }
 ],
 "metadata": {
  "kernelspec": {
   "display_name": "Python 3",
   "language": "python",
   "name": "python3"
  },
  "language_info": {
   "codemirror_mode": {
    "name": "ipython",
    "version": 3
   },
   "file_extension": ".py",
   "mimetype": "text/x-python",
   "name": "python",
   "nbconvert_exporter": "python",
   "pygments_lexer": "ipython3",
   "version": "3.7.1"
  },
  "toc": {
   "base_numbering": 1,
   "nav_menu": {},
   "number_sections": true,
   "sideBar": true,
   "skip_h1_title": false,
   "title_cell": "Table of Contents",
   "title_sidebar": "Contents",
   "toc_cell": false,
   "toc_position": {},
   "toc_section_display": true,
   "toc_window_display": false
  }
 },
 "nbformat": 4,
 "nbformat_minor": 2
}
