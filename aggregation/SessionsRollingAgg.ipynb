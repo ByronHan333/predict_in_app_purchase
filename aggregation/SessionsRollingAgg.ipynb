{
 "cells": [
  {
   "cell_type": "markdown",
   "metadata": {
    "heading_collapsed": true
   },
   "source": [
    "# lat long stuff"
   ]
  },
  {
   "cell_type": "code",
   "execution_count": 40,
   "metadata": {
    "ExecuteTime": {
     "end_time": "2019-02-26T07:13:39.766613Z",
     "start_time": "2019-02-26T07:13:39.745897Z"
    },
    "hidden": true
   },
   "outputs": [],
   "source": [
    "from geopy.geocoders import Nominatim"
   ]
  },
  {
   "cell_type": "code",
   "execution_count": 41,
   "metadata": {
    "ExecuteTime": {
     "end_time": "2019-02-26T07:14:10.535213Z",
     "start_time": "2019-02-26T07:14:10.530905Z"
    },
    "hidden": true
   },
   "outputs": [],
   "source": [
    "geolocator = Nominatim()"
   ]
  },
  {
   "cell_type": "code",
   "execution_count": 43,
   "metadata": {
    "ExecuteTime": {
     "end_time": "2019-02-26T07:14:39.053727Z",
     "start_time": "2019-02-26T07:14:38.407400Z"
    },
    "hidden": true
   },
   "outputs": [],
   "source": [
    "location = geolocator.reverse(\"48.8588443, 2.2943506\")"
   ]
  },
  {
   "cell_type": "code",
   "execution_count": 47,
   "metadata": {
    "ExecuteTime": {
     "end_time": "2019-02-26T07:15:56.074651Z",
     "start_time": "2019-02-26T07:15:56.069731Z"
    },
    "hidden": true
   },
   "outputs": [
    {
     "data": {
      "text/plain": [
       "{'place_id': '241370569',\n",
       " 'licence': 'Data © OpenStreetMap contributors, ODbL 1.0. https://osm.org/copyright',\n",
       " 'osm_type': 'relation',\n",
       " 'osm_id': '5489555',\n",
       " 'lat': '48.8561357',\n",
       " 'lon': '2.29782184060949',\n",
       " 'display_name': 'Champ de Mars, Place Jacques Rueff, Gros-Caillou, 7e, Paris, Île-de-France, France métropolitaine, 75007, France',\n",
       " 'address': {'attraction': 'Champ de Mars',\n",
       "  'road': 'Place Jacques Rueff',\n",
       "  'suburb': 'Gros-Caillou',\n",
       "  'city_district': '7e',\n",
       "  'city': 'Paris',\n",
       "  'county': 'Paris',\n",
       "  'state': 'Île-de-France',\n",
       "  'country': 'France',\n",
       "  'postcode': '75007',\n",
       "  'country_code': 'fr'},\n",
       " 'boundingbox': ['48.8522459', '48.8600801', '2.2918711', '2.3037935']}"
      ]
     },
     "execution_count": 47,
     "metadata": {},
     "output_type": "execute_result"
    }
   ],
   "source": [
    "location.raw"
   ]
  },
  {
   "cell_type": "markdown",
   "metadata": {},
   "source": [
    "# agg"
   ]
  },
  {
   "cell_type": "code",
   "execution_count": 1,
   "metadata": {
    "ExecuteTime": {
     "end_time": "2019-02-26T23:29:20.563621Z",
     "start_time": "2019-02-26T23:29:20.268525Z"
    }
   },
   "outputs": [],
   "source": [
    "import pandas as pd\n",
    "import numpy as np"
   ]
  },
  {
   "cell_type": "code",
   "execution_count": 2,
   "metadata": {
    "ExecuteTime": {
     "end_time": "2019-02-26T23:29:22.069389Z",
     "start_time": "2019-02-26T23:29:21.885294Z"
    }
   },
   "outputs": [],
   "source": [
    "import matplotlib.pyplot as plt\n",
    "plt.rcParams['figure.figsize'] = [16, 6]\n",
    "plt.style.use('ggplot')"
   ]
  },
  {
   "cell_type": "code",
   "execution_count": 3,
   "metadata": {
    "ExecuteTime": {
     "end_time": "2019-02-26T23:29:26.248828Z",
     "start_time": "2019-02-26T23:29:26.236470Z"
    }
   },
   "outputs": [],
   "source": [
    "from concurrent.futures import ProcessPoolExecutor, as_completed\n",
    "from fastprogress import progress_bar\n",
    "\n",
    "def parallel(func, job_list, n_jobs=14):\n",
    "    with ProcessPoolExecutor(max_workers=n_jobs) as pool:\n",
    "        futures = [pool.submit(func, job) for job in job_list]\n",
    "        for f in progress_bar(as_completed(futures), total=len(job_list)):\n",
    "            pass\n",
    "    return [f.result() for f in futures]"
   ]
  },
  {
   "cell_type": "code",
   "execution_count": 4,
   "metadata": {
    "ExecuteTime": {
     "end_time": "2019-02-26T23:29:27.039184Z",
     "start_time": "2019-02-26T23:29:27.035895Z"
    }
   },
   "outputs": [],
   "source": [
    "import gc"
   ]
  },
  {
   "cell_type": "code",
   "execution_count": 5,
   "metadata": {
    "ExecuteTime": {
     "end_time": "2019-02-26T23:29:27.628877Z",
     "start_time": "2019-02-26T23:29:27.625394Z"
    }
   },
   "outputs": [],
   "source": [
    "from warnings import filterwarnings\n",
    "filterwarnings(\"ignore\")"
   ]
  },
  {
   "cell_type": "code",
   "execution_count": 6,
   "metadata": {
    "ExecuteTime": {
     "end_time": "2019-02-26T23:29:28.148457Z",
     "start_time": "2019-02-26T23:29:28.144486Z"
    }
   },
   "outputs": [],
   "source": [
    "import datetime as dt\n",
    "def to_dt(x):\n",
    "    return dt.datetime.fromtimestamp(int(x/1000))"
   ]
  },
  {
   "cell_type": "code",
   "execution_count": 7,
   "metadata": {
    "ExecuteTime": {
     "end_time": "2019-02-26T23:29:28.711905Z",
     "start_time": "2019-02-26T23:29:28.706850Z"
    }
   },
   "outputs": [],
   "source": [
    "from multiprocessing import Pool\n",
    "num_partitions = 100\n",
    "num_cores = 12\n",
    "def parallelize_dataframe(df, func):\n",
    "    df_split = np.array_split(df, num_partitions)\n",
    "    pool = Pool(num_cores)\n",
    "    df = pd.concat(pool.map(func, df_split))\n",
    "    pool.close()\n",
    "    pool.join()\n",
    "    return df"
   ]
  },
  {
   "cell_type": "code",
   "execution_count": 8,
   "metadata": {
    "ExecuteTime": {
     "end_time": "2019-02-26T23:29:32.732015Z",
     "start_time": "2019-02-26T23:29:29.309263Z"
    }
   },
   "outputs": [],
   "source": [
    "sessions = pd.read_pickle('../session.pkl')"
   ]
  },
  {
   "cell_type": "code",
   "execution_count": 9,
   "metadata": {
    "ExecuteTime": {
     "end_time": "2019-02-26T23:29:46.369619Z",
     "start_time": "2019-02-26T23:29:32.734539Z"
    }
   },
   "outputs": [],
   "source": [
    "sessions.sort_values(['system_time', 'user_id_hash'], inplace=True)"
   ]
  },
  {
   "cell_type": "code",
   "execution_count": 10,
   "metadata": {
    "ExecuteTime": {
     "end_time": "2019-02-26T23:29:54.428099Z",
     "start_time": "2019-02-26T23:29:47.496106Z"
    }
   },
   "outputs": [],
   "source": [
    "sessions.user_created_timestamp = sessions.user_created_timestamp.apply(to_dt)"
   ]
  },
  {
   "cell_type": "code",
   "execution_count": 11,
   "metadata": {
    "ExecuteTime": {
     "end_time": "2019-02-26T23:29:54.814391Z",
     "start_time": "2019-02-26T23:29:54.431046Z"
    }
   },
   "outputs": [],
   "source": [
    "sessions.drop(['week_start', 'device_id', 'user_days'], inplace=True, axis=1)"
   ]
  },
  {
   "cell_type": "code",
   "execution_count": 12,
   "metadata": {
    "ExecuteTime": {
     "end_time": "2019-02-26T23:29:54.850435Z",
     "start_time": "2019-02-26T23:29:54.816773Z"
    }
   },
   "outputs": [
    {
     "data": {
      "text/plain": [
       "(229,)"
      ]
     },
     "execution_count": 12,
     "metadata": {},
     "output_type": "execute_result"
    }
   ],
   "source": [
    "sessions.country.unique().shape"
   ]
  },
  {
   "cell_type": "code",
   "execution_count": 13,
   "metadata": {
    "ExecuteTime": {
     "end_time": "2019-02-26T23:29:54.901386Z",
     "start_time": "2019-02-26T23:29:54.853239Z"
    }
   },
   "outputs": [
    {
     "data": {
      "text/plain": [
       "(756,)"
      ]
     },
     "execution_count": 13,
     "metadata": {},
     "output_type": "execute_result"
    }
   ],
   "source": [
    "sessions.region.unique().shape"
   ]
  },
  {
   "cell_type": "code",
   "execution_count": 14,
   "metadata": {
    "ExecuteTime": {
     "end_time": "2019-02-26T23:29:54.980584Z",
     "start_time": "2019-02-26T23:29:54.903640Z"
    }
   },
   "outputs": [
    {
     "data": {
      "text/plain": [
       "o      4007\n",
       "alx    3964\n",
       "05     3924\n",
       "62     3862\n",
       "wy     3840\n",
       "pm     3806\n",
       "85     3734\n",
       "83     3709\n",
       "sh     3662\n",
       "lma    3571\n",
       "Name: region, dtype: int64"
      ]
     },
     "execution_count": 14,
     "metadata": {},
     "output_type": "execute_result"
    }
   ],
   "source": [
    "sessions.region.value_counts()[160:170]"
   ]
  },
  {
   "cell_type": "code",
   "execution_count": 15,
   "metadata": {
    "ExecuteTime": {
     "end_time": "2019-02-26T23:29:55.029068Z",
     "start_time": "2019-02-26T23:29:54.982430Z"
    }
   },
   "outputs": [],
   "source": [
    "region_remove = set([k for k, v in dict(sessions.region.value_counts()).items() if v <= 1000])"
   ]
  },
  {
   "cell_type": "code",
   "execution_count": 16,
   "metadata": {
    "ExecuteTime": {
     "end_time": "2019-02-26T23:29:55.035333Z",
     "start_time": "2019-02-26T23:29:55.031283Z"
    }
   },
   "outputs": [
    {
     "data": {
      "text/plain": [
       "471"
      ]
     },
     "execution_count": 16,
     "metadata": {},
     "output_type": "execute_result"
    }
   ],
   "source": [
    "len(region_remove)"
   ]
  },
  {
   "cell_type": "code",
   "execution_count": 17,
   "metadata": {
    "ExecuteTime": {
     "end_time": "2019-02-26T23:29:55.042136Z",
     "start_time": "2019-02-26T23:29:55.037157Z"
    }
   },
   "outputs": [],
   "source": [
    "sessions.region = sessions.region.cat.add_categories(['unk'])"
   ]
  },
  {
   "cell_type": "code",
   "execution_count": 18,
   "metadata": {
    "ExecuteTime": {
     "end_time": "2019-02-26T23:29:56.041939Z",
     "start_time": "2019-02-26T23:29:55.044116Z"
    }
   },
   "outputs": [],
   "source": [
    "sessions.loc[sessions.region.isin(region_remove), ['region']] = 'unk'"
   ]
  },
  {
   "cell_type": "code",
   "execution_count": 19,
   "metadata": {
    "ExecuteTime": {
     "end_time": "2019-02-26T23:29:56.664876Z",
     "start_time": "2019-02-26T23:29:56.045379Z"
    }
   },
   "outputs": [],
   "source": [
    "sessions.region = sessions.region.cat.remove_unused_categories()"
   ]
  },
  {
   "cell_type": "code",
   "execution_count": 20,
   "metadata": {
    "ExecuteTime": {
     "end_time": "2019-02-26T23:29:56.705065Z",
     "start_time": "2019-02-26T23:29:56.667473Z"
    }
   },
   "outputs": [
    {
     "data": {
      "text/plain": [
       "eng    328237\n",
       "tx     238275\n",
       "ca     218335\n",
       "fl     141941\n",
       "00     129040\n",
       "ny     128095\n",
       "il     126364\n",
       "ga     125351\n",
       "?      120463\n",
       "unk    111717\n",
       "Name: region, dtype: int64"
      ]
     },
     "execution_count": 20,
     "metadata": {},
     "output_type": "execute_result"
    }
   ],
   "source": [
    "sessions.region.value_counts()[:10]"
   ]
  },
  {
   "cell_type": "code",
   "execution_count": 21,
   "metadata": {
    "ExecuteTime": {
     "end_time": "2019-02-26T23:29:56.776164Z",
     "start_time": "2019-02-26T23:29:56.706878Z"
    }
   },
   "outputs": [
    {
     "data": {
      "text/plain": [
       "(31541,)"
      ]
     },
     "execution_count": 21,
     "metadata": {},
     "output_type": "execute_result"
    }
   ],
   "source": [
    "sessions.city.unique().shape"
   ]
  },
  {
   "cell_type": "code",
   "execution_count": 22,
   "metadata": {
    "ExecuteTime": {
     "end_time": "2019-02-26T23:29:58.949962Z",
     "start_time": "2019-02-26T23:29:58.899896Z"
    }
   },
   "outputs": [
    {
     "data": {
      "text/plain": [
       "independence      1607\n",
       "belo horizonte    1599\n",
       "newport news      1594\n",
       "durban north      1591\n",
       "chula vista       1589\n",
       "gaborone          1585\n",
       "hull              1584\n",
       "meridian          1584\n",
       "curitiba          1583\n",
       "monroe            1576\n",
       "Name: city, dtype: int64"
      ]
     },
     "execution_count": 22,
     "metadata": {},
     "output_type": "execute_result"
    }
   ],
   "source": [
    "sessions.city.value_counts()[400:410]"
   ]
  },
  {
   "cell_type": "code",
   "execution_count": 23,
   "metadata": {
    "ExecuteTime": {
     "end_time": "2019-02-26T23:30:00.211162Z",
     "start_time": "2019-02-26T23:29:59.638838Z"
    }
   },
   "outputs": [],
   "source": [
    "city_remove = set([k for k, v in dict(sessions.city.value_counts()).items() if v <= 1000])"
   ]
  },
  {
   "cell_type": "code",
   "execution_count": 24,
   "metadata": {
    "ExecuteTime": {
     "end_time": "2019-02-26T23:30:00.218279Z",
     "start_time": "2019-02-26T23:30:00.213648Z"
    }
   },
   "outputs": [
    {
     "data": {
      "text/plain": [
       "30899"
      ]
     },
     "execution_count": 24,
     "metadata": {},
     "output_type": "execute_result"
    }
   ],
   "source": [
    "len(city_remove)"
   ]
  },
  {
   "cell_type": "code",
   "execution_count": 25,
   "metadata": {
    "ExecuteTime": {
     "end_time": "2019-02-26T23:30:02.467584Z",
     "start_time": "2019-02-26T23:30:00.631703Z"
    }
   },
   "outputs": [],
   "source": [
    "sessions.city = sessions.city.cat.add_categories(['unk'])\n",
    "sessions.loc[sessions.city.isin(city_remove), ['city']] = 'unk'\n",
    "sessions.city = sessions.city.cat.remove_unused_categories()"
   ]
  },
  {
   "cell_type": "code",
   "execution_count": 26,
   "metadata": {
    "ExecuteTime": {
     "end_time": "2019-02-26T23:30:02.716170Z",
     "start_time": "2019-02-26T23:30:02.678768Z"
    }
   },
   "outputs": [
    {
     "data": {
      "text/plain": [
       "(659,)"
      ]
     },
     "execution_count": 26,
     "metadata": {},
     "output_type": "execute_result"
    }
   ],
   "source": [
    "sessions.city.unique().shape"
   ]
  },
  {
   "cell_type": "code",
   "execution_count": 27,
   "metadata": {
    "ExecuteTime": {
     "end_time": "2019-02-26T23:30:06.973340Z",
     "start_time": "2019-02-26T23:30:05.351836Z"
    }
   },
   "outputs": [],
   "source": [
    "sessions['lat_long'] = list(zip(sessions.latitude, sessions.longitude))"
   ]
  },
  {
   "cell_type": "code",
   "execution_count": 28,
   "metadata": {
    "ExecuteTime": {
     "end_time": "2019-02-26T23:30:07.484145Z",
     "start_time": "2019-02-26T23:30:06.976004Z"
    }
   },
   "outputs": [],
   "source": [
    "sessions.drop(['longitude', 'longitude'], inplace=True, axis=1)"
   ]
  },
  {
   "cell_type": "code",
   "execution_count": 29,
   "metadata": {
    "ExecuteTime": {
     "end_time": "2019-02-26T23:30:07.525203Z",
     "start_time": "2019-02-26T23:30:07.486163Z"
    }
   },
   "outputs": [
    {
     "data": {
      "text/plain": [
       "(1760,)"
      ]
     },
     "execution_count": 29,
     "metadata": {},
     "output_type": "execute_result"
    }
   ],
   "source": [
    "sessions.locale.unique().shape"
   ]
  },
  {
   "cell_type": "code",
   "execution_count": 30,
   "metadata": {
    "ExecuteTime": {
     "end_time": "2019-02-26T23:30:10.320716Z",
     "start_time": "2019-02-26T23:30:10.287577Z"
    }
   },
   "outputs": [
    {
     "data": {
      "text/plain": [
       "zh-Hans-CN_CN    1243\n",
       "zh_HK            1232\n",
       "ko_KR            1224\n",
       "es_CR            1221\n",
       "en-NO_NO         1189\n",
       "en-SI_SI         1172\n",
       "en-RS_RS         1142\n",
       "en-BG_BG         1055\n",
       "en-QA_QA         1029\n",
       "en_DE            1024\n",
       "Name: locale, dtype: int64"
      ]
     },
     "execution_count": 30,
     "metadata": {},
     "output_type": "execute_result"
    }
   ],
   "source": [
    "sessions.locale.value_counts()[120:130]"
   ]
  },
  {
   "cell_type": "code",
   "execution_count": 31,
   "metadata": {
    "ExecuteTime": {
     "end_time": "2019-02-26T23:30:10.762731Z",
     "start_time": "2019-02-26T23:30:10.704454Z"
    }
   },
   "outputs": [],
   "source": [
    "locale_remove = set([k for k, v in dict(sessions.locale.value_counts()).items() if v <= 1000])"
   ]
  },
  {
   "cell_type": "code",
   "execution_count": 32,
   "metadata": {
    "ExecuteTime": {
     "end_time": "2019-02-26T23:30:29.320319Z",
     "start_time": "2019-02-26T23:30:28.223503Z"
    }
   },
   "outputs": [],
   "source": [
    "sessions.locale = sessions.locale.cat.add_categories(['unk'])\n",
    "sessions.loc[sessions.locale.isin(locale_remove), ['locale']] = 'unk'\n",
    "sessions.locale = sessions.locale.cat.remove_unused_categories()"
   ]
  },
  {
   "cell_type": "code",
   "execution_count": 33,
   "metadata": {
    "ExecuteTime": {
     "end_time": "2019-02-26T23:30:40.399064Z",
     "start_time": "2019-02-26T23:30:40.366874Z"
    }
   },
   "outputs": [
    {
     "data": {
      "text/plain": [
       "(134,)"
      ]
     },
     "execution_count": 33,
     "metadata": {},
     "output_type": "execute_result"
    }
   ],
   "source": [
    "sessions.locale.unique().shape"
   ]
  },
  {
   "cell_type": "code",
   "execution_count": 34,
   "metadata": {
    "ExecuteTime": {
     "end_time": "2019-02-26T23:31:07.131170Z",
     "start_time": "2019-02-26T23:31:07.124536Z"
    }
   },
   "outputs": [
    {
     "data": {
      "text/plain": [
       "session_id                          category\n",
       "start_timestamp                        int64\n",
       "timezone                            category\n",
       "timezone_offset                     category\n",
       "previous_sessions_duration             int64\n",
       "user_created_timestamp        datetime64[ns]\n",
       "is_user_first_session                   bool\n",
       "country                             category\n",
       "region                              category\n",
       "city                                category\n",
       "latitude                             float64\n",
       "locale                              category\n",
       "os_name                             category\n",
       "session_index                          int64\n",
       "user_id_hash                        category\n",
       "user_time                     datetime64[ns]\n",
       "system_time                   datetime64[ns]\n",
       "lat_long                              object\n",
       "dtype: object"
      ]
     },
     "execution_count": 34,
     "metadata": {},
     "output_type": "execute_result"
    }
   ],
   "source": [
    "sessions.dtypes"
   ]
  },
  {
   "cell_type": "code",
   "execution_count": 35,
   "metadata": {
    "ExecuteTime": {
     "end_time": "2019-02-26T23:31:41.357124Z",
     "start_time": "2019-02-26T23:31:41.345407Z"
    }
   },
   "outputs": [],
   "source": [
    "def custom_aggregate(df, t='anchor_date'):\n",
    "    grp_cols = [t, 'user_id_hash']\n",
    "    grpby_obj = df.groupby(grp_cols)\n",
    "\n",
    "    # number of sessions\n",
    "    temp = grpby_obj.city.count().to_frame().reset_index().\\\n",
    "                rename(columns={'city': 'no_sessions'})\n",
    "\n",
    "    # number of cities\n",
    "    temp1 = grpby_obj.city.agg(lambda x: x.unique().shape[0])\\\n",
    "                     .to_frame().reset_index()\\\n",
    "                     .rename(columns={'city': 'no_city'})\n",
    "\n",
    "    # last city\n",
    "    temp2 = grpby_obj.city.last().to_frame().reset_index()\\\n",
    "                     .rename(columns={'city': 'last_city'})\n",
    "    \n",
    "    # last country\n",
    "    temp3 = grpby_obj.country.last().to_frame().reset_index()\\\n",
    "                     .rename(columns={'country': 'last_country'})\n",
    "\n",
    "    # last region\n",
    "    temp4 = grpby_obj.region.last().to_frame().reset_index()\\\n",
    "                     .rename(columns={'region': 'last_region'})\n",
    "\n",
    "    # no of region\n",
    "    temp5 = grpby_obj.region.agg(lambda x: x.unique().shape[0])\\\n",
    "                     .to_frame().reset_index()\\\n",
    "                     .rename(columns={'region': 'region_count'})\n",
    "\n",
    "    # last locale\n",
    "    temp6 = grpby_obj.locale.last().to_frame().reset_index()\\\n",
    "                     .rename(columns={'locale': 'last_locale'})\n",
    "\n",
    "    # agg session time\n",
    "    temp7 = grpby_obj.previous_sessions_duration.sum()\\\n",
    "                      .to_frame().reset_index()\\\n",
    "                      .rename(columns={'previous_sessions_duration': 'total_session_time'})\n",
    "\n",
    "    # mean session time\n",
    "    temp8 = grpby_obj.previous_sessions_duration.mean().\\\n",
    "                to_frame().reset_index().\\\n",
    "                rename(columns={'previous_sessions_duration': 'mean_session_time'})\n",
    "\n",
    "    # mean session time\n",
    "    temp9 = grpby_obj.previous_sessions_duration.median().\\\n",
    "                to_frame().reset_index().\\\n",
    "                rename(columns={'previous_sessions_duration': 'median_session_time'})\n",
    "\n",
    "    # last lat_long\n",
    "    temp10 = grpby_obj.lat_long.last().to_frame().reset_index()\\\n",
    "                     .rename(columns={'lat_long': 'last_lat_long'})\n",
    "    \n",
    "    for i in range(1, 11):\n",
    "        temp = temp.merge(locals()[f'temp{i}'], \n",
    "                          on=grp_cols)\n",
    "    return temp"
   ]
  },
  {
   "cell_type": "code",
   "execution_count": 36,
   "metadata": {
    "ExecuteTime": {
     "end_time": "2019-02-26T23:31:43.225770Z",
     "start_time": "2019-02-26T23:31:43.221827Z"
    }
   },
   "outputs": [],
   "source": [
    "def wrapper_agg(wst):\n",
    "    sessions_ss = sessions[sessions['anchor_date'] == wst].copy()\n",
    "    return custom_aggregate(sessions_ss)"
   ]
  },
  {
   "cell_type": "code",
   "execution_count": 37,
   "metadata": {
    "ExecuteTime": {
     "end_time": "2019-02-26T23:31:50.383513Z",
     "start_time": "2019-02-26T23:31:50.380158Z"
    }
   },
   "outputs": [],
   "source": [
    "sessions.reset_index(inplace=True, drop=True)"
   ]
  },
  {
   "cell_type": "code",
   "execution_count": 38,
   "metadata": {
    "ExecuteTime": {
     "end_time": "2019-02-26T23:32:10.230615Z",
     "start_time": "2019-02-26T23:32:05.740817Z"
    }
   },
   "outputs": [],
   "source": [
    "sessions.sort_values(['system_time', 'user_id_hash'], inplace=True)"
   ]
  },
  {
   "cell_type": "code",
   "execution_count": 37,
   "metadata": {
    "ExecuteTime": {
     "end_time": "2019-02-26T16:31:44.380345Z",
     "start_time": "2019-02-26T16:31:44.377873Z"
    }
   },
   "outputs": [],
   "source": [
    "# for i in range(7):\n",
    "#     print((sessions.system_time -\\\n",
    "#           sessions.system_time.dt.weekday.apply(lambda x: x + i\n",
    "#                                                 ).astype('timedelta64[D]')\n",
    "#           ).dt.date.unique())"
   ]
  },
  {
   "cell_type": "code",
   "execution_count": 39,
   "metadata": {
    "ExecuteTime": {
     "end_time": "2019-02-26T23:32:10.237378Z",
     "start_time": "2019-02-26T23:32:10.233243Z"
    }
   },
   "outputs": [
    {
     "data": {
      "text/plain": [
       "(5165760, 18)"
      ]
     },
     "execution_count": 39,
     "metadata": {},
     "output_type": "execute_result"
    }
   ],
   "source": [
    "sessions.shape"
   ]
  },
  {
   "cell_type": "code",
   "execution_count": 45,
   "metadata": {
    "ExecuteTime": {
     "end_time": "2019-02-26T23:38:29.129501Z",
     "start_time": "2019-02-26T23:38:02.910925Z"
    }
   },
   "outputs": [
    {
     "data": {
      "text/plain": [
       "2018-11-23    618447\n",
       "2018-11-16    618051\n",
       "2018-11-09    617304\n",
       "2018-11-02    595912\n",
       "2018-10-26    550508\n",
       "2018-10-19    540153\n",
       "2018-10-12    451345\n",
       "2018-11-30    406861\n",
       "2018-10-05    345490\n",
       "2018-12-07    289887\n",
       "2018-09-28     97709\n",
       "2018-12-14     34093\n",
       "Name: system_time, dtype: int64"
      ]
     },
     "execution_count": 45,
     "metadata": {},
     "output_type": "execute_result"
    }
   ],
   "source": [
    "(sessions.system_time - sessions.system_time.dt.weekday\\\n",
    "                                .apply(lambda x: dt.timedelta(days=(x+3) % 7)))\\\n",
    "    .dt.date.value_counts()"
   ]
  },
  {
   "cell_type": "code",
   "execution_count": 47,
   "metadata": {
    "ExecuteTime": {
     "end_time": "2019-02-27T00:17:46.435410Z",
     "start_time": "2019-02-26T23:46:15.506026Z"
    }
   },
   "outputs": [
    {
     "name": "stdout",
     "output_type": "stream",
     "text": [
      "0\n"
     ]
    },
    {
     "data": {
      "text/html": [
       "\n",
       "    <div>\n",
       "        <style>\n",
       "            /* Turns off some styling */\n",
       "            progress {\n",
       "                /* gets rid of default border in Firefox and Opera. */\n",
       "                border: none;\n",
       "                /* Needs to be in here for Safari polyfill so background images work as expected. */\n",
       "                background-size: auto;\n",
       "            }\n",
       "            .progress-bar-interrupted, .progress-bar-interrupted::-webkit-progress-bar {\n",
       "                background: #F44336;\n",
       "            }\n",
       "        </style>\n",
       "      <progress value='11' class='' max='11', style='width:300px; height:20px; vertical-align: middle;'></progress>\n",
       "      100.00% [11/11 04:21<00:00]\n",
       "    </div>\n",
       "    "
      ],
      "text/plain": [
       "<IPython.core.display.HTML object>"
      ]
     },
     "metadata": {},
     "output_type": "display_data"
    },
    {
     "name": "stdout",
     "output_type": "stream",
     "text": [
      "1\n"
     ]
    },
    {
     "data": {
      "text/html": [
       "\n",
       "    <div>\n",
       "        <style>\n",
       "            /* Turns off some styling */\n",
       "            progress {\n",
       "                /* gets rid of default border in Firefox and Opera. */\n",
       "                border: none;\n",
       "                /* Needs to be in here for Safari polyfill so background images work as expected. */\n",
       "                background-size: auto;\n",
       "            }\n",
       "            .progress-bar-interrupted, .progress-bar-interrupted::-webkit-progress-bar {\n",
       "                background: #F44336;\n",
       "            }\n",
       "        </style>\n",
       "      <progress value='11' class='' max='11', style='width:300px; height:20px; vertical-align: middle;'></progress>\n",
       "      100.00% [11/11 03:59<00:00]\n",
       "    </div>\n",
       "    "
      ],
      "text/plain": [
       "<IPython.core.display.HTML object>"
      ]
     },
     "metadata": {},
     "output_type": "display_data"
    },
    {
     "name": "stdout",
     "output_type": "stream",
     "text": [
      "2\n"
     ]
    },
    {
     "data": {
      "text/html": [
       "\n",
       "    <div>\n",
       "        <style>\n",
       "            /* Turns off some styling */\n",
       "            progress {\n",
       "                /* gets rid of default border in Firefox and Opera. */\n",
       "                border: none;\n",
       "                /* Needs to be in here for Safari polyfill so background images work as expected. */\n",
       "                background-size: auto;\n",
       "            }\n",
       "            .progress-bar-interrupted, .progress-bar-interrupted::-webkit-progress-bar {\n",
       "                background: #F44336;\n",
       "            }\n",
       "        </style>\n",
       "      <progress value='11' class='' max='11', style='width:300px; height:20px; vertical-align: middle;'></progress>\n",
       "      100.00% [11/11 04:00<00:00]\n",
       "    </div>\n",
       "    "
      ],
      "text/plain": [
       "<IPython.core.display.HTML object>"
      ]
     },
     "metadata": {},
     "output_type": "display_data"
    },
    {
     "name": "stdout",
     "output_type": "stream",
     "text": [
      "3\n"
     ]
    },
    {
     "data": {
      "text/html": [
       "\n",
       "    <div>\n",
       "        <style>\n",
       "            /* Turns off some styling */\n",
       "            progress {\n",
       "                /* gets rid of default border in Firefox and Opera. */\n",
       "                border: none;\n",
       "                /* Needs to be in here for Safari polyfill so background images work as expected. */\n",
       "                background-size: auto;\n",
       "            }\n",
       "            .progress-bar-interrupted, .progress-bar-interrupted::-webkit-progress-bar {\n",
       "                background: #F44336;\n",
       "            }\n",
       "        </style>\n",
       "      <progress value='12' class='' max='12', style='width:300px; height:20px; vertical-align: middle;'></progress>\n",
       "      100.00% [12/12 03:59<00:00]\n",
       "    </div>\n",
       "    "
      ],
      "text/plain": [
       "<IPython.core.display.HTML object>"
      ]
     },
     "metadata": {},
     "output_type": "display_data"
    },
    {
     "name": "stdout",
     "output_type": "stream",
     "text": [
      "4\n"
     ]
    },
    {
     "data": {
      "text/html": [
       "\n",
       "    <div>\n",
       "        <style>\n",
       "            /* Turns off some styling */\n",
       "            progress {\n",
       "                /* gets rid of default border in Firefox and Opera. */\n",
       "                border: none;\n",
       "                /* Needs to be in here for Safari polyfill so background images work as expected. */\n",
       "                background-size: auto;\n",
       "            }\n",
       "            .progress-bar-interrupted, .progress-bar-interrupted::-webkit-progress-bar {\n",
       "                background: #F44336;\n",
       "            }\n",
       "        </style>\n",
       "      <progress value='12' class='' max='12', style='width:300px; height:20px; vertical-align: middle;'></progress>\n",
       "      100.00% [12/12 03:55<00:00]\n",
       "    </div>\n",
       "    "
      ],
      "text/plain": [
       "<IPython.core.display.HTML object>"
      ]
     },
     "metadata": {},
     "output_type": "display_data"
    },
    {
     "name": "stdout",
     "output_type": "stream",
     "text": [
      "5\n"
     ]
    },
    {
     "data": {
      "text/html": [
       "\n",
       "    <div>\n",
       "        <style>\n",
       "            /* Turns off some styling */\n",
       "            progress {\n",
       "                /* gets rid of default border in Firefox and Opera. */\n",
       "                border: none;\n",
       "                /* Needs to be in here for Safari polyfill so background images work as expected. */\n",
       "                background-size: auto;\n",
       "            }\n",
       "            .progress-bar-interrupted, .progress-bar-interrupted::-webkit-progress-bar {\n",
       "                background: #F44336;\n",
       "            }\n",
       "        </style>\n",
       "      <progress value='12' class='' max='12', style='width:300px; height:20px; vertical-align: middle;'></progress>\n",
       "      100.00% [12/12 03:48<00:00]\n",
       "    </div>\n",
       "    "
      ],
      "text/plain": [
       "<IPython.core.display.HTML object>"
      ]
     },
     "metadata": {},
     "output_type": "display_data"
    },
    {
     "name": "stdout",
     "output_type": "stream",
     "text": [
      "6\n"
     ]
    },
    {
     "data": {
      "text/html": [
       "\n",
       "    <div>\n",
       "        <style>\n",
       "            /* Turns off some styling */\n",
       "            progress {\n",
       "                /* gets rid of default border in Firefox and Opera. */\n",
       "                border: none;\n",
       "                /* Needs to be in here for Safari polyfill so background images work as expected. */\n",
       "                background-size: auto;\n",
       "            }\n",
       "            .progress-bar-interrupted, .progress-bar-interrupted::-webkit-progress-bar {\n",
       "                background: #F44336;\n",
       "            }\n",
       "        </style>\n",
       "      <progress value='12' class='' max='12', style='width:300px; height:20px; vertical-align: middle;'></progress>\n",
       "      100.00% [12/12 04:07<00:00]\n",
       "    </div>\n",
       "    "
      ],
      "text/plain": [
       "<IPython.core.display.HTML object>"
      ]
     },
     "metadata": {},
     "output_type": "display_data"
    }
   ],
   "source": [
    "results = []\n",
    "for i in range(7):\n",
    "    sessions['anchor_date'] = (sessions.system_time - \\\n",
    "                               sessions.system_time.dt.weekday\\\n",
    "                                       .apply(lambda x: dt.timedelta(days=(x+i) % 7)))\\\n",
    "                                       .dt.date\n",
    "\n",
    "    sessions.anchor_date = sessions.anchor_date.astype('datetime64[ns]')\n",
    "    print(f'{i}')\n",
    "    result = parallel(wrapper_agg, sessions.anchor_date.unique())\n",
    "    result = pd.concat(result)\n",
    "    results += [result]"
   ]
  },
  {
   "cell_type": "code",
   "execution_count": 48,
   "metadata": {
    "ExecuteTime": {
     "end_time": "2019-02-27T00:22:00.813854Z",
     "start_time": "2019-02-27T00:21:55.051518Z"
    }
   },
   "outputs": [],
   "source": [
    "result = pd.concat(results)"
   ]
  },
  {
   "cell_type": "code",
   "execution_count": 49,
   "metadata": {
    "ExecuteTime": {
     "end_time": "2019-02-27T00:33:27.367930Z",
     "start_time": "2019-02-27T00:33:27.360521Z"
    }
   },
   "outputs": [
    {
     "data": {
      "text/plain": [
       "(6976625, 13)"
      ]
     },
     "execution_count": 49,
     "metadata": {},
     "output_type": "execute_result"
    }
   ],
   "source": [
    "result.shape"
   ]
  },
  {
   "cell_type": "code",
   "execution_count": 50,
   "metadata": {
    "ExecuteTime": {
     "end_time": "2019-02-27T00:33:30.430616Z",
     "start_time": "2019-02-27T00:33:30.404353Z"
    }
   },
   "outputs": [
    {
     "data": {
      "text/html": [
       "<div>\n",
       "<style scoped>\n",
       "    .dataframe tbody tr th:only-of-type {\n",
       "        vertical-align: middle;\n",
       "    }\n",
       "\n",
       "    .dataframe tbody tr th {\n",
       "        vertical-align: top;\n",
       "    }\n",
       "\n",
       "    .dataframe thead th {\n",
       "        text-align: right;\n",
       "    }\n",
       "</style>\n",
       "<table border=\"1\" class=\"dataframe\">\n",
       "  <thead>\n",
       "    <tr style=\"text-align: right;\">\n",
       "      <th></th>\n",
       "      <th>anchor_date</th>\n",
       "      <th>user_id_hash</th>\n",
       "      <th>no_sessions</th>\n",
       "      <th>no_city</th>\n",
       "      <th>last_city</th>\n",
       "      <th>last_country</th>\n",
       "      <th>last_region</th>\n",
       "      <th>region_count</th>\n",
       "      <th>last_locale</th>\n",
       "      <th>total_session_time</th>\n",
       "      <th>mean_session_time</th>\n",
       "      <th>median_session_time</th>\n",
       "      <th>last_lat_long</th>\n",
       "    </tr>\n",
       "  </thead>\n",
       "  <tbody>\n",
       "    <tr>\n",
       "      <th>0</th>\n",
       "      <td>2018-10-01</td>\n",
       "      <td>000062e9be78f3da274fec338e78f89d12000e781967f2...</td>\n",
       "      <td>5</td>\n",
       "      <td>1</td>\n",
       "      <td>unk</td>\n",
       "      <td>US</td>\n",
       "      <td>ca</td>\n",
       "      <td>1</td>\n",
       "      <td>en_US</td>\n",
       "      <td>4730609</td>\n",
       "      <td>946121.8</td>\n",
       "      <td>1176899.0</td>\n",
       "      <td>(37.28716659545898, -121.94995880126952)</td>\n",
       "    </tr>\n",
       "    <tr>\n",
       "      <th>1</th>\n",
       "      <td>2018-10-01</td>\n",
       "      <td>00026e5050a70ef12d421f75c6a5c80d0f62d37acab8bd...</td>\n",
       "      <td>2</td>\n",
       "      <td>1</td>\n",
       "      <td>unk</td>\n",
       "      <td>US</td>\n",
       "      <td>ga</td>\n",
       "      <td>1</td>\n",
       "      <td>en_US</td>\n",
       "      <td>403432</td>\n",
       "      <td>201716.0</td>\n",
       "      <td>201716.0</td>\n",
       "      <td>(33.751495361328125, -84.74771118164062)</td>\n",
       "    </tr>\n",
       "    <tr>\n",
       "      <th>2</th>\n",
       "      <td>2018-10-01</td>\n",
       "      <td>0003f8bda56230a49445880e559b718e94ba37344494a7...</td>\n",
       "      <td>2</td>\n",
       "      <td>1</td>\n",
       "      <td>unk</td>\n",
       "      <td>US</td>\n",
       "      <td>ky</td>\n",
       "      <td>1</td>\n",
       "      <td>en_US</td>\n",
       "      <td>150138</td>\n",
       "      <td>75069.0</td>\n",
       "      <td>75069.0</td>\n",
       "      <td>(36.60725784301758, -83.71428680419922)</td>\n",
       "    </tr>\n",
       "    <tr>\n",
       "      <th>3</th>\n",
       "      <td>2018-10-01</td>\n",
       "      <td>000542d6fc6e9dcb83328d30503a7e022e5a6b4ea6357b...</td>\n",
       "      <td>1</td>\n",
       "      <td>1</td>\n",
       "      <td>omaha</td>\n",
       "      <td>US</td>\n",
       "      <td>ne</td>\n",
       "      <td>1</td>\n",
       "      <td>en_US</td>\n",
       "      <td>0</td>\n",
       "      <td>0.0</td>\n",
       "      <td>0.0</td>\n",
       "      <td>(41.25653839111328, -95.93450164794922)</td>\n",
       "    </tr>\n",
       "    <tr>\n",
       "      <th>4</th>\n",
       "      <td>2018-10-01</td>\n",
       "      <td>00059c820dca1ccadfd45361c40f68b656df8a5212b993...</td>\n",
       "      <td>1</td>\n",
       "      <td>1</td>\n",
       "      <td>rio de janeiro</td>\n",
       "      <td>BR</td>\n",
       "      <td>rj</td>\n",
       "      <td>1</td>\n",
       "      <td>pt-BR_BR</td>\n",
       "      <td>123131</td>\n",
       "      <td>123131.0</td>\n",
       "      <td>123131.0</td>\n",
       "      <td>(-22.90684700012207, -43.17289733886719)</td>\n",
       "    </tr>\n",
       "  </tbody>\n",
       "</table>\n",
       "</div>"
      ],
      "text/plain": [
       "  anchor_date                                       user_id_hash  no_sessions  \\\n",
       "0  2018-10-01  000062e9be78f3da274fec338e78f89d12000e781967f2...            5   \n",
       "1  2018-10-01  00026e5050a70ef12d421f75c6a5c80d0f62d37acab8bd...            2   \n",
       "2  2018-10-01  0003f8bda56230a49445880e559b718e94ba37344494a7...            2   \n",
       "3  2018-10-01  000542d6fc6e9dcb83328d30503a7e022e5a6b4ea6357b...            1   \n",
       "4  2018-10-01  00059c820dca1ccadfd45361c40f68b656df8a5212b993...            1   \n",
       "\n",
       "   no_city       last_city last_country last_region  region_count last_locale  \\\n",
       "0        1             unk           US          ca             1       en_US   \n",
       "1        1             unk           US          ga             1       en_US   \n",
       "2        1             unk           US          ky             1       en_US   \n",
       "3        1           omaha           US          ne             1       en_US   \n",
       "4        1  rio de janeiro           BR          rj             1    pt-BR_BR   \n",
       "\n",
       "   total_session_time  mean_session_time  median_session_time  \\\n",
       "0             4730609           946121.8            1176899.0   \n",
       "1              403432           201716.0             201716.0   \n",
       "2              150138            75069.0              75069.0   \n",
       "3                   0                0.0                  0.0   \n",
       "4              123131           123131.0             123131.0   \n",
       "\n",
       "                              last_lat_long  \n",
       "0  (37.28716659545898, -121.94995880126952)  \n",
       "1  (33.751495361328125, -84.74771118164062)  \n",
       "2   (36.60725784301758, -83.71428680419922)  \n",
       "3   (41.25653839111328, -95.93450164794922)  \n",
       "4  (-22.90684700012207, -43.17289733886719)  "
      ]
     },
     "execution_count": 50,
     "metadata": {},
     "output_type": "execute_result"
    }
   ],
   "source": [
    "result.head()"
   ]
  },
  {
   "cell_type": "code",
   "execution_count": 44,
   "metadata": {
    "ExecuteTime": {
     "end_time": "2019-02-26T17:01:52.963921Z",
     "start_time": "2019-02-26T17:01:52.948494Z"
    }
   },
   "outputs": [
    {
     "data": {
      "text/html": [
       "<div>\n",
       "<style scoped>\n",
       "    .dataframe tbody tr th:only-of-type {\n",
       "        vertical-align: middle;\n",
       "    }\n",
       "\n",
       "    .dataframe tbody tr th {\n",
       "        vertical-align: top;\n",
       "    }\n",
       "\n",
       "    .dataframe thead th {\n",
       "        text-align: right;\n",
       "    }\n",
       "</style>\n",
       "<table border=\"1\" class=\"dataframe\">\n",
       "  <thead>\n",
       "    <tr style=\"text-align: right;\">\n",
       "      <th></th>\n",
       "      <th>anchor_date</th>\n",
       "      <th>user_id_hash</th>\n",
       "      <th>no_sessions</th>\n",
       "      <th>no_city</th>\n",
       "      <th>last_city</th>\n",
       "      <th>last_country</th>\n",
       "      <th>last_region</th>\n",
       "      <th>region_count</th>\n",
       "      <th>last_locale</th>\n",
       "      <th>total_session_time</th>\n",
       "      <th>mean_session_time</th>\n",
       "      <th>median_session_time</th>\n",
       "    </tr>\n",
       "  </thead>\n",
       "  <tbody>\n",
       "    <tr>\n",
       "      <th>29516</th>\n",
       "      <td>2018-12-04</td>\n",
       "      <td>fff344ce906c9c4bec2f3ec1b7497f03d071c22b118892...</td>\n",
       "      <td>4</td>\n",
       "      <td>1</td>\n",
       "      <td>jakarta</td>\n",
       "      <td>ID</td>\n",
       "      <td>jk</td>\n",
       "      <td>1</td>\n",
       "      <td>in_ID</td>\n",
       "      <td>568190667</td>\n",
       "      <td>1.420477e+08</td>\n",
       "      <td>142175260.5</td>\n",
       "    </tr>\n",
       "    <tr>\n",
       "      <th>29517</th>\n",
       "      <td>2018-12-04</td>\n",
       "      <td>fff51a2561e713b5908da891f97da981f815b3bacfd67c...</td>\n",
       "      <td>19</td>\n",
       "      <td>1</td>\n",
       "      <td>unk</td>\n",
       "      <td>BR</td>\n",
       "      <td>mg</td>\n",
       "      <td>1</td>\n",
       "      <td>pt_BR</td>\n",
       "      <td>2389490765</td>\n",
       "      <td>1.257627e+08</td>\n",
       "      <td>126621278.0</td>\n",
       "    </tr>\n",
       "    <tr>\n",
       "      <th>29518</th>\n",
       "      <td>2018-12-04</td>\n",
       "      <td>fff78ff8c11a4d3b9370f88d7117229322e137e8083aa7...</td>\n",
       "      <td>2</td>\n",
       "      <td>2</td>\n",
       "      <td>charlotte</td>\n",
       "      <td>US</td>\n",
       "      <td>nc</td>\n",
       "      <td>1</td>\n",
       "      <td>es_US</td>\n",
       "      <td>10504583</td>\n",
       "      <td>5.252292e+06</td>\n",
       "      <td>5252291.5</td>\n",
       "    </tr>\n",
       "    <tr>\n",
       "      <th>29519</th>\n",
       "      <td>2018-12-04</td>\n",
       "      <td>fff8c078f8a874679661cdc5dddfacf64fa1bdd14c5b62...</td>\n",
       "      <td>23</td>\n",
       "      <td>1</td>\n",
       "      <td>lagos</td>\n",
       "      <td>NG</td>\n",
       "      <td>la</td>\n",
       "      <td>1</td>\n",
       "      <td>en_US</td>\n",
       "      <td>9054280346</td>\n",
       "      <td>3.936644e+08</td>\n",
       "      <td>392921913.0</td>\n",
       "    </tr>\n",
       "    <tr>\n",
       "      <th>29520</th>\n",
       "      <td>2018-12-04</td>\n",
       "      <td>fffdb3fdf921294adb7e5db84d846ed79dd2395bcf006f...</td>\n",
       "      <td>1</td>\n",
       "      <td>1</td>\n",
       "      <td>unk</td>\n",
       "      <td>US</td>\n",
       "      <td>tn</td>\n",
       "      <td>1</td>\n",
       "      <td>en-US_US</td>\n",
       "      <td>88274983</td>\n",
       "      <td>8.827498e+07</td>\n",
       "      <td>88274983.0</td>\n",
       "    </tr>\n",
       "  </tbody>\n",
       "</table>\n",
       "</div>"
      ],
      "text/plain": [
       "      anchor_date                                       user_id_hash  \\\n",
       "29516  2018-12-04  fff344ce906c9c4bec2f3ec1b7497f03d071c22b118892...   \n",
       "29517  2018-12-04  fff51a2561e713b5908da891f97da981f815b3bacfd67c...   \n",
       "29518  2018-12-04  fff78ff8c11a4d3b9370f88d7117229322e137e8083aa7...   \n",
       "29519  2018-12-04  fff8c078f8a874679661cdc5dddfacf64fa1bdd14c5b62...   \n",
       "29520  2018-12-04  fffdb3fdf921294adb7e5db84d846ed79dd2395bcf006f...   \n",
       "\n",
       "       no_sessions  no_city  last_city last_country last_region  region_count  \\\n",
       "29516            4        1    jakarta           ID          jk             1   \n",
       "29517           19        1        unk           BR          mg             1   \n",
       "29518            2        2  charlotte           US          nc             1   \n",
       "29519           23        1      lagos           NG          la             1   \n",
       "29520            1        1        unk           US          tn             1   \n",
       "\n",
       "      last_locale  total_session_time  mean_session_time  median_session_time  \n",
       "29516       in_ID           568190667       1.420477e+08          142175260.5  \n",
       "29517       pt_BR          2389490765       1.257627e+08          126621278.0  \n",
       "29518       es_US            10504583       5.252292e+06            5252291.5  \n",
       "29519       en_US          9054280346       3.936644e+08          392921913.0  \n",
       "29520    en-US_US            88274983       8.827498e+07           88274983.0  "
      ]
     },
     "execution_count": 44,
     "metadata": {},
     "output_type": "execute_result"
    }
   ],
   "source": [
    "result.tail()"
   ]
  },
  {
   "cell_type": "code",
   "execution_count": 51,
   "metadata": {
    "ExecuteTime": {
     "end_time": "2019-02-27T00:33:39.598624Z",
     "start_time": "2019-02-27T00:33:39.592206Z"
    }
   },
   "outputs": [
    {
     "data": {
      "text/plain": [
       "anchor_date            datetime64[ns]\n",
       "user_id_hash                   object\n",
       "no_sessions                     int64\n",
       "no_city                         int64\n",
       "last_city                      object\n",
       "last_country                   object\n",
       "last_region                    object\n",
       "region_count                    int64\n",
       "last_locale                    object\n",
       "total_session_time              int64\n",
       "mean_session_time             float64\n",
       "median_session_time           float64\n",
       "last_lat_long                  object\n",
       "dtype: object"
      ]
     },
     "execution_count": 51,
     "metadata": {},
     "output_type": "execute_result"
    }
   ],
   "source": [
    "result.dtypes"
   ]
  },
  {
   "cell_type": "code",
   "execution_count": 52,
   "metadata": {
    "ExecuteTime": {
     "end_time": "2019-02-27T00:34:05.149752Z",
     "start_time": "2019-02-27T00:33:42.154702Z"
    }
   },
   "outputs": [],
   "source": [
    "result.to_pickle('../session_roll_agg.pkl')"
   ]
  },
  {
   "cell_type": "code",
   "execution_count": null,
   "metadata": {},
   "outputs": [],
   "source": []
  }
 ],
 "metadata": {
  "kernelspec": {
   "display_name": "Python 3",
   "language": "python",
   "name": "python3"
  },
  "language_info": {
   "codemirror_mode": {
    "name": "ipython",
    "version": 3
   },
   "file_extension": ".py",
   "mimetype": "text/x-python",
   "name": "python",
   "nbconvert_exporter": "python",
   "pygments_lexer": "ipython3",
   "version": "3.7.1"
  },
  "toc": {
   "base_numbering": 1,
   "nav_menu": {},
   "number_sections": true,
   "sideBar": true,
   "skip_h1_title": false,
   "title_cell": "Table of Contents",
   "title_sidebar": "Contents",
   "toc_cell": false,
   "toc_position": {},
   "toc_section_display": true,
   "toc_window_display": false
  }
 },
 "nbformat": 4,
 "nbformat_minor": 2
}
