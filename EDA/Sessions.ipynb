{
 "cells": [
  {
   "cell_type": "code",
   "execution_count": 1,
   "metadata": {
    "ExecuteTime": {
     "end_time": "2019-03-06T02:52:50.789129Z",
     "start_time": "2019-03-06T02:52:50.553957Z"
    }
   },
   "outputs": [],
   "source": [
    "import pandas as pd\n",
    "import numpy as np"
   ]
  },
  {
   "cell_type": "code",
   "execution_count": 2,
   "metadata": {
    "ExecuteTime": {
     "end_time": "2019-03-06T02:52:51.122083Z",
     "start_time": "2019-03-06T02:52:50.973452Z"
    }
   },
   "outputs": [],
   "source": [
    "import matplotlib.pyplot as plt\n",
    "plt.rcParams['figure.figsize'] = [16, 6]\n",
    "plt.style.use('ggplot')"
   ]
  },
  {
   "cell_type": "markdown",
   "metadata": {},
   "source": [
    "# Files"
   ]
  },
  {
   "cell_type": "code",
   "execution_count": 2,
   "metadata": {
    "ExecuteTime": {
     "end_time": "2019-02-18T18:14:45.880263Z",
     "start_time": "2019-02-18T18:14:45.765252Z"
    }
   },
   "outputs": [
    {
     "name": "stdout",
     "output_type": "stream",
     "text": [
      "-rw-r--r-- 1 jupyter jupyter 1.8G Feb  8 18:06 sessions.csv\r\n",
      "-rw-rw-r-- 1 jupyter jupyter 251M Feb 15 22:13 sessions.csv.zip\r\n",
      "-rw-rw-r-- 1 jupyter jupyter 585K Feb 16 07:31 sessions_sample.csv\r\n"
     ]
    }
   ],
   "source": [
    "!ls -lh ../ | grep sessions"
   ]
  },
  {
   "cell_type": "code",
   "execution_count": 3,
   "metadata": {},
   "outputs": [
    {
     "name": "stdout",
     "output_type": "stream",
     "text": [
      "-rw-r--r-- 1 jupyter jupyter  13G Feb  8 19:16 events.csv\r\n",
      "-rw-rw-r-- 1 jupyter jupyter 852M Feb 15 22:12 events.csv.zip\r\n",
      "-rw-rw-r-- 1 jupyter jupyter 3.4G Feb 16 08:47 events.pkl\r\n",
      "-rw-rw-r-- 1 jupyter jupyter 241K Feb 16 07:53 events_sample.csv\r\n"
     ]
    }
   ],
   "source": [
    "!ls -lh ../ | grep events"
   ]
  },
  {
   "cell_type": "code",
   "execution_count": 4,
   "metadata": {
    "ExecuteTime": {
     "end_time": "2019-03-06T02:53:00.544792Z",
     "start_time": "2019-03-06T02:52:57.202420Z"
    }
   },
   "outputs": [],
   "source": [
    "sessions = pd.read_pickle('../../session.pkl')"
   ]
  },
  {
   "cell_type": "code",
   "execution_count": 5,
   "metadata": {
    "ExecuteTime": {
     "end_time": "2019-03-06T02:53:00.551970Z",
     "start_time": "2019-03-06T02:53:00.547080Z"
    }
   },
   "outputs": [
    {
     "data": {
      "text/plain": [
       "(6239836, 22)"
      ]
     },
     "execution_count": 5,
     "metadata": {},
     "output_type": "execute_result"
    }
   ],
   "source": [
    "sessions.shape"
   ]
  },
  {
   "cell_type": "code",
   "execution_count": 6,
   "metadata": {
    "ExecuteTime": {
     "end_time": "2019-03-06T02:53:01.964699Z",
     "start_time": "2019-03-06T02:53:01.950507Z"
    }
   },
   "outputs": [
    {
     "data": {
      "text/html": [
       "<div>\n",
       "<style scoped>\n",
       "    .dataframe tbody tr th:only-of-type {\n",
       "        vertical-align: middle;\n",
       "    }\n",
       "\n",
       "    .dataframe tbody tr th {\n",
       "        vertical-align: top;\n",
       "    }\n",
       "\n",
       "    .dataframe thead th {\n",
       "        text-align: right;\n",
       "    }\n",
       "</style>\n",
       "<table border=\"1\" class=\"dataframe\">\n",
       "  <thead>\n",
       "    <tr style=\"text-align: right;\">\n",
       "      <th></th>\n",
       "      <th>0</th>\n",
       "      <th>1</th>\n",
       "      <th>2</th>\n",
       "    </tr>\n",
       "  </thead>\n",
       "  <tbody>\n",
       "    <tr>\n",
       "      <th>app_id</th>\n",
       "      <td>4724682771660800</td>\n",
       "      <td>4724682771660800</td>\n",
       "      <td>4724682771660800</td>\n",
       "    </tr>\n",
       "    <tr>\n",
       "      <th>session_id</th>\n",
       "      <td>5558845121177764917</td>\n",
       "      <td>2201961907282901522</td>\n",
       "      <td>18781111175537580</td>\n",
       "    </tr>\n",
       "    <tr>\n",
       "      <th>start_timestamp</th>\n",
       "      <td>1542215364580</td>\n",
       "      <td>1543712977293</td>\n",
       "      <td>1539215568666</td>\n",
       "    </tr>\n",
       "    <tr>\n",
       "      <th>timezone</th>\n",
       "      <td>Asia/Manila</td>\n",
       "      <td>Asia/Manila</td>\n",
       "      <td>Asia/Manila</td>\n",
       "    </tr>\n",
       "    <tr>\n",
       "      <th>timezone_offset</th>\n",
       "      <td>28800000</td>\n",
       "      <td>28800000</td>\n",
       "      <td>28800000</td>\n",
       "    </tr>\n",
       "    <tr>\n",
       "      <th>previous_sessions_duration</th>\n",
       "      <td>25837591</td>\n",
       "      <td>35050130</td>\n",
       "      <td>11343848</td>\n",
       "    </tr>\n",
       "    <tr>\n",
       "      <th>user_created_timestamp</th>\n",
       "      <td>1538874289458</td>\n",
       "      <td>1538874289458</td>\n",
       "      <td>1538874289458</td>\n",
       "    </tr>\n",
       "    <tr>\n",
       "      <th>is_user_first_session</th>\n",
       "      <td>false</td>\n",
       "      <td>false</td>\n",
       "      <td>false</td>\n",
       "    </tr>\n",
       "    <tr>\n",
       "      <th>is_session</th>\n",
       "      <td>true</td>\n",
       "      <td>true</td>\n",
       "      <td>true</td>\n",
       "    </tr>\n",
       "    <tr>\n",
       "      <th>is_developer</th>\n",
       "      <td>false</td>\n",
       "      <td>false</td>\n",
       "      <td>false</td>\n",
       "    </tr>\n",
       "    <tr>\n",
       "      <th>is_wau</th>\n",
       "      <td>false</td>\n",
       "      <td>false</td>\n",
       "      <td>false</td>\n",
       "    </tr>\n",
       "    <tr>\n",
       "      <th>is_mau</th>\n",
       "      <td>false</td>\n",
       "      <td>false</td>\n",
       "      <td>false</td>\n",
       "    </tr>\n",
       "    <tr>\n",
       "      <th>country</th>\n",
       "      <td>PH</td>\n",
       "      <td>PH</td>\n",
       "      <td>PH</td>\n",
       "    </tr>\n",
       "    <tr>\n",
       "      <th>region</th>\n",
       "      <td>00</td>\n",
       "      <td>00</td>\n",
       "      <td>00</td>\n",
       "    </tr>\n",
       "    <tr>\n",
       "      <th>city</th>\n",
       "      <td>makati</td>\n",
       "      <td>quezon city</td>\n",
       "      <td>makati</td>\n",
       "    </tr>\n",
       "    <tr>\n",
       "      <th>latitude</th>\n",
       "      <td>14.5547</td>\n",
       "      <td>14.676</td>\n",
       "      <td>14.5547</td>\n",
       "    </tr>\n",
       "    <tr>\n",
       "      <th>longitude</th>\n",
       "      <td>121.024</td>\n",
       "      <td>121.044</td>\n",
       "      <td>121.024</td>\n",
       "    </tr>\n",
       "    <tr>\n",
       "      <th>locale</th>\n",
       "      <td>en_GB</td>\n",
       "      <td>en_GB</td>\n",
       "      <td>en_GB</td>\n",
       "    </tr>\n",
       "    <tr>\n",
       "      <th>os_name</th>\n",
       "      <td>Android OS</td>\n",
       "      <td>Android OS</td>\n",
       "      <td>Android OS</td>\n",
       "    </tr>\n",
       "    <tr>\n",
       "      <th>session_index</th>\n",
       "      <td>30</td>\n",
       "      <td>47</td>\n",
       "      <td>10</td>\n",
       "    </tr>\n",
       "    <tr>\n",
       "      <th>device_id</th>\n",
       "      <td>546a3d98-d540-4e72-ad82-9ebd64e0839b</td>\n",
       "      <td>546a3d98-d540-4e72-ad82-9ebd64e0839b</td>\n",
       "      <td>546a3d98-d540-4e72-ad82-9ebd64e0839b</td>\n",
       "    </tr>\n",
       "    <tr>\n",
       "      <th>user_id_hash</th>\n",
       "      <td>9943447915df3a45fd6720a026af905b6da6b56a37701b...</td>\n",
       "      <td>9943447915df3a45fd6720a026af905b6da6b56a37701b...</td>\n",
       "      <td>9943447915df3a45fd6720a026af905b6da6b56a37701b...</td>\n",
       "    </tr>\n",
       "  </tbody>\n",
       "</table>\n",
       "</div>"
      ],
      "text/plain": [
       "                                                                            0  \\\n",
       "app_id                                                       4724682771660800   \n",
       "session_id                                                5558845121177764917   \n",
       "start_timestamp                                                 1542215364580   \n",
       "timezone                                                          Asia/Manila   \n",
       "timezone_offset                                                      28800000   \n",
       "previous_sessions_duration                                           25837591   \n",
       "user_created_timestamp                                          1538874289458   \n",
       "is_user_first_session                                                   false   \n",
       "is_session                                                               true   \n",
       "is_developer                                                            false   \n",
       "is_wau                                                                  false   \n",
       "is_mau                                                                  false   \n",
       "country                                                                    PH   \n",
       "region                                                                     00   \n",
       "city                                                                   makati   \n",
       "latitude                                                              14.5547   \n",
       "longitude                                                             121.024   \n",
       "locale                                                                  en_GB   \n",
       "os_name                                                            Android OS   \n",
       "session_index                                                              30   \n",
       "device_id                                546a3d98-d540-4e72-ad82-9ebd64e0839b   \n",
       "user_id_hash                9943447915df3a45fd6720a026af905b6da6b56a37701b...   \n",
       "\n",
       "                                                                            1  \\\n",
       "app_id                                                       4724682771660800   \n",
       "session_id                                                2201961907282901522   \n",
       "start_timestamp                                                 1543712977293   \n",
       "timezone                                                          Asia/Manila   \n",
       "timezone_offset                                                      28800000   \n",
       "previous_sessions_duration                                           35050130   \n",
       "user_created_timestamp                                          1538874289458   \n",
       "is_user_first_session                                                   false   \n",
       "is_session                                                               true   \n",
       "is_developer                                                            false   \n",
       "is_wau                                                                  false   \n",
       "is_mau                                                                  false   \n",
       "country                                                                    PH   \n",
       "region                                                                     00   \n",
       "city                                                              quezon city   \n",
       "latitude                                                               14.676   \n",
       "longitude                                                             121.044   \n",
       "locale                                                                  en_GB   \n",
       "os_name                                                            Android OS   \n",
       "session_index                                                              47   \n",
       "device_id                                546a3d98-d540-4e72-ad82-9ebd64e0839b   \n",
       "user_id_hash                9943447915df3a45fd6720a026af905b6da6b56a37701b...   \n",
       "\n",
       "                                                                            2  \n",
       "app_id                                                       4724682771660800  \n",
       "session_id                                                  18781111175537580  \n",
       "start_timestamp                                                 1539215568666  \n",
       "timezone                                                          Asia/Manila  \n",
       "timezone_offset                                                      28800000  \n",
       "previous_sessions_duration                                           11343848  \n",
       "user_created_timestamp                                          1538874289458  \n",
       "is_user_first_session                                                   false  \n",
       "is_session                                                               true  \n",
       "is_developer                                                            false  \n",
       "is_wau                                                                  false  \n",
       "is_mau                                                                  false  \n",
       "country                                                                    PH  \n",
       "region                                                                     00  \n",
       "city                                                                   makati  \n",
       "latitude                                                              14.5547  \n",
       "longitude                                                             121.024  \n",
       "locale                                                                  en_GB  \n",
       "os_name                                                            Android OS  \n",
       "session_index                                                              10  \n",
       "device_id                                546a3d98-d540-4e72-ad82-9ebd64e0839b  \n",
       "user_id_hash                9943447915df3a45fd6720a026af905b6da6b56a37701b...  "
      ]
     },
     "execution_count": 6,
     "metadata": {},
     "output_type": "execute_result"
    }
   ],
   "source": [
    "sessions.head(3).T"
   ]
  },
  {
   "cell_type": "code",
   "execution_count": 10,
   "metadata": {},
   "outputs": [
    {
     "data": {
      "text/plain": [
       "app_id                        category\n",
       "session_id                      object\n",
       "start_timestamp                  int64\n",
       "timezone                        object\n",
       "timezone_offset                 object\n",
       "previous_sessions_duration       int64\n",
       "user_created_timestamp           int64\n",
       "is_user_first_session         category\n",
       "is_session                    category\n",
       "is_developer                  category\n",
       "is_wau                        category\n",
       "is_mau                        category\n",
       "country                         object\n",
       "region                          object\n",
       "city                            object\n",
       "latitude                       float64\n",
       "longitude                      float64\n",
       "locale                          object\n",
       "os_name                       category\n",
       "session_index                   object\n",
       "device_id                       object\n",
       "user_id_hash                    object\n",
       "dtype: object"
      ]
     },
     "execution_count": 10,
     "metadata": {},
     "output_type": "execute_result"
    }
   ],
   "source": [
    "sessions.dtypes"
   ]
  },
  {
   "cell_type": "code",
   "execution_count": 15,
   "metadata": {},
   "outputs": [
    {
     "data": {
      "text/plain": [
       "app_id                            0\n",
       "session_id                        0\n",
       "start_timestamp                   0\n",
       "timezone                       9538\n",
       "timezone_offset                9538\n",
       "previous_sessions_duration        0\n",
       "user_created_timestamp            0\n",
       "is_user_first_session             0\n",
       "is_session                        0\n",
       "is_developer                      0\n",
       "is_wau                            0\n",
       "is_mau                            0\n",
       "country                       16657\n",
       "region                        12926\n",
       "city                          12918\n",
       "latitude                      12918\n",
       "longitude                     12918\n",
       "locale                         9538\n",
       "os_name                       27444\n",
       "session_index                     0\n",
       "device_id                     18073\n",
       "user_id_hash                      0\n",
       "dtype: int64"
      ]
     },
     "execution_count": 15,
     "metadata": {},
     "output_type": "execute_result"
    }
   ],
   "source": [
    "sessions.isna().sum(axis=0)"
   ]
  },
  {
   "cell_type": "markdown",
   "metadata": {},
   "source": [
    "# Type conversions"
   ]
  },
  {
   "cell_type": "code",
   "execution_count": 7,
   "metadata": {
    "ExecuteTime": {
     "end_time": "2019-03-06T02:53:48.671519Z",
     "start_time": "2019-03-06T02:53:10.687093Z"
    }
   },
   "outputs": [],
   "source": [
    "sessions['timezone'] = sessions.timezone.astype('category')\n",
    "sessions['session_id'] = sessions.session_id.astype('category')\n",
    "\n",
    "sessions['timezone_offset'] = sessions.timezone_offset.astype('category')\n",
    "sessions['country'] = sessions.country.astype('category')\n",
    "\n",
    "sessions['region'] = sessions.region.astype('category')\n",
    "sessions['city'] = sessions.city.astype('category')\n",
    "sessions['locale'] = sessions.locale.astype('category')\n",
    "sessions['session_index'] = sessions.session_index.astype('category')\n",
    "sessions['device_id'] = sessions.device_id.astype('category')\n",
    "sessions['user_id_hash'] = sessions.user_id_hash.astype('category')"
   ]
  },
  {
   "cell_type": "code",
   "execution_count": 13,
   "metadata": {
    "ExecuteTime": {
     "end_time": "2019-03-06T02:54:30.775061Z",
     "start_time": "2019-03-06T02:54:30.771870Z"
    }
   },
   "outputs": [],
   "source": [
    "import datetime as dt\n",
    "def to_dt(x):\n",
    "    return dt.datetime.fromtimestamp(int(x / 1000)).date()"
   ]
  },
  {
   "cell_type": "code",
   "execution_count": 14,
   "metadata": {
    "ExecuteTime": {
     "end_time": "2019-03-06T02:54:31.236294Z",
     "start_time": "2019-03-06T02:54:31.232338Z"
    }
   },
   "outputs": [
    {
     "data": {
      "text/plain": [
       "datetime.date(2018, 11, 14)"
      ]
     },
     "execution_count": 14,
     "metadata": {},
     "output_type": "execute_result"
    }
   ],
   "source": [
    "to_dt(1542215364580)"
   ]
  },
  {
   "cell_type": "code",
   "execution_count": 15,
   "metadata": {
    "ExecuteTime": {
     "end_time": "2019-03-06T02:55:00.032534Z",
     "start_time": "2019-03-06T02:54:51.503113Z"
    }
   },
   "outputs": [],
   "source": [
    "sessions['system_time'] = sessions.start_timestamp.apply(to_dt)"
   ]
  },
  {
   "cell_type": "code",
   "execution_count": 16,
   "metadata": {
    "ExecuteTime": {
     "end_time": "2019-03-06T02:55:49.597169Z",
     "start_time": "2019-03-06T02:55:27.456415Z"
    }
   },
   "outputs": [
    {
     "data": {
      "text/plain": [
       "<matplotlib.axes._subplots.AxesSubplot at 0x7f9ebe092da0>"
      ]
     },
     "execution_count": 16,
     "metadata": {},
     "output_type": "execute_result"
    },
    {
     "data": {
      "image/png": "[encoded data removed]",
      "text/plain": [
       "<Figure size 432x288 with 1 Axes>"
      ]
     },
     "metadata": {
      "needs_background": "light"
     },
     "output_type": "display_data"
    }
   ],
   "source": [
    "sessions.groupby(['system_time'])['session_id'].agg('nunique').plot()"
   ]
  },
  {
   "cell_type": "markdown",
   "metadata": {},
   "source": [
    "# Filtering"
   ]
  },
  {
   "cell_type": "code",
   "execution_count": 7,
   "metadata": {},
   "outputs": [
    {
     "data": {
      "text/plain": [
       "false    6237248\n",
       "true        2588\n",
       "Name: is_developer, dtype: int64"
      ]
     },
     "execution_count": 7,
     "metadata": {},
     "output_type": "execute_result"
    }
   ],
   "source": [
    "sessions.is_developer.value_counts()"
   ]
  },
  {
   "cell_type": "code",
   "execution_count": 8,
   "metadata": {},
   "outputs": [],
   "source": [
    "sessions = sessions[sessions.is_developer == 'false']"
   ]
  },
  {
   "cell_type": "code",
   "execution_count": 9,
   "metadata": {},
   "outputs": [
    {
     "data": {
      "text/plain": [
       "false    6237248\n",
       "true           0\n",
       "Name: is_developer, dtype: int64"
      ]
     },
     "execution_count": 9,
     "metadata": {},
     "output_type": "execute_result"
    }
   ],
   "source": [
    "sessions.is_developer.value_counts()"
   ]
  },
  {
   "cell_type": "code",
   "execution_count": 10,
   "metadata": {},
   "outputs": [
    {
     "data": {
      "text/plain": [
       "false    6237248\n",
       "Name: is_wau, dtype: int64"
      ]
     },
     "execution_count": 10,
     "metadata": {},
     "output_type": "execute_result"
    }
   ],
   "source": [
    "sessions.is_wau.value_counts()"
   ]
  },
  {
   "cell_type": "code",
   "execution_count": 11,
   "metadata": {},
   "outputs": [
    {
     "data": {
      "text/plain": [
       "false    6237248\n",
       "Name: is_mau, dtype: int64"
      ]
     },
     "execution_count": 11,
     "metadata": {},
     "output_type": "execute_result"
    }
   ],
   "source": [
    "sessions.is_mau.value_counts()"
   ]
  },
  {
   "cell_type": "code",
   "execution_count": 12,
   "metadata": {},
   "outputs": [
    {
     "data": {
      "text/plain": [
       "true     5165760\n",
       "false    1071488\n",
       "Name: is_session, dtype: int64"
      ]
     },
     "execution_count": 12,
     "metadata": {},
     "output_type": "execute_result"
    }
   ],
   "source": [
    "sessions.is_session.value_counts()"
   ]
  },
  {
   "cell_type": "code",
   "execution_count": 13,
   "metadata": {},
   "outputs": [
    {
     "data": {
      "text/plain": [
       "4724682771660800    6237248\n",
       "Name: app_id, dtype: int64"
      ]
     },
     "execution_count": 13,
     "metadata": {},
     "output_type": "execute_result"
    }
   ],
   "source": [
    "sessions.app_id.value_counts()"
   ]
  },
  {
   "cell_type": "code",
   "execution_count": 14,
   "metadata": {},
   "outputs": [],
   "source": [
    "sessions.drop(['app_id', 'is_wau', 'is_mau', 'is_developer'], inplace=True, axis=1)"
   ]
  },
  {
   "cell_type": "code",
   "execution_count": 15,
   "metadata": {},
   "outputs": [
    {
     "data": {
      "text/plain": [
       "Index(['session_id', 'start_timestamp', 'timezone', 'timezone_offset',\n",
       "       'previous_sessions_duration', 'user_created_timestamp',\n",
       "       'is_user_first_session', 'is_session', 'country', 'region', 'city',\n",
       "       'latitude', 'longitude', 'locale', 'os_name', 'session_index',\n",
       "       'device_id', 'user_id_hash'],\n",
       "      dtype='object')"
      ]
     },
     "execution_count": 15,
     "metadata": {},
     "output_type": "execute_result"
    }
   ],
   "source": [
    "sessions.columns"
   ]
  },
  {
   "cell_type": "code",
   "execution_count": 57,
   "metadata": {},
   "outputs": [
    {
     "data": {
      "text/plain": [
       "3560659371756658029    5\n",
       "7433233798305959073    5\n",
       "5515145924555603809    4\n",
       "1363834584790394329    4\n",
       "609557900755891931     4\n",
       "3511270119029099784    4\n",
       "981050862813652801     4\n",
       "4282083427578376962    4\n",
       "2686845791995688200    4\n",
       "2948145498424154772    4\n",
       "8234507580735715676    4\n",
       "7073701035951898000    4\n",
       "7181203270392255054    4\n",
       "5733478419407814022    4\n",
       "6793221538399528226    4\n",
       "4946080563163772736    4\n",
       "8570057344190754166    4\n",
       "8013170233750737207    4\n",
       "2509137465339566307    4\n",
       "2265864138944660728    4\n",
       "8103651722053275035    4\n",
       "4370462978918949975    4\n",
       "1047968990076952849    4\n",
       "5692393984206377688    4\n",
       "4484590140357852242    4\n",
       "6889931461165314870    4\n",
       "2107568875380583163    4\n",
       "1762867885601308741    4\n",
       "2601699699101879084    4\n",
       "8178020951018310100    4\n",
       "                      ..\n",
       "4326597836319597893    0\n",
       "486750390491636433     0\n",
       "4933919772134430471    0\n",
       "5023318735079140726    0\n",
       "6294253828399601420    0\n",
       "4719732073464551617    0\n",
       "7717210729887145906    0\n",
       "6579214940402211110    0\n",
       "5240611513412107822    0\n",
       "597178232109899669     0\n",
       "2925103489646013679    0\n",
       "3473850835635486113    0\n",
       "3410897447252287264    0\n",
       "6265452810780063398    0\n",
       "2965632415306184147    0\n",
       "7557942179625673271    0\n",
       "1210485889912354746    0\n",
       "244231124987667479     0\n",
       "6763874159764633345    0\n",
       "752335329076770426     0\n",
       "6999115358882652177    0\n",
       "8856343633000989621    0\n",
       "1148686761701164082    0\n",
       "1651869468818402449    0\n",
       "7834149746546567842    0\n",
       "3370829305383992281    0\n",
       "820998718796998651     0\n",
       "7794219828793100285    0\n",
       "4979844042735551610    0\n",
       "3911548782212329934    0\n",
       "Name: session_id, Length: 6000342, dtype: int64"
      ]
     },
     "execution_count": 57,
     "metadata": {},
     "output_type": "execute_result"
    }
   ],
   "source": [
    "sessions.session_id.value_counts()"
   ]
  },
  {
   "cell_type": "code",
   "execution_count": 17,
   "metadata": {},
   "outputs": [
    {
     "data": {
      "text/html": [
       "<div>\n",
       "<style scoped>\n",
       "    .dataframe tbody tr th:only-of-type {\n",
       "        vertical-align: middle;\n",
       "    }\n",
       "\n",
       "    .dataframe tbody tr th {\n",
       "        vertical-align: top;\n",
       "    }\n",
       "\n",
       "    .dataframe thead th {\n",
       "        text-align: right;\n",
       "    }\n",
       "</style>\n",
       "<table border=\"1\" class=\"dataframe\">\n",
       "  <thead>\n",
       "    <tr style=\"text-align: right;\">\n",
       "      <th></th>\n",
       "      <th>6203394</th>\n",
       "      <th>6203412</th>\n",
       "      <th>6203430</th>\n",
       "      <th>6203431</th>\n",
       "      <th>6203432</th>\n",
       "    </tr>\n",
       "  </thead>\n",
       "  <tbody>\n",
       "    <tr>\n",
       "      <th>session_id</th>\n",
       "      <td>3560659371756658029</td>\n",
       "      <td>3560659371756658029</td>\n",
       "      <td>3560659371756658029</td>\n",
       "      <td>3560659371756658029</td>\n",
       "      <td>3560659371756658029</td>\n",
       "    </tr>\n",
       "    <tr>\n",
       "      <th>start_timestamp</th>\n",
       "      <td>1543898589156</td>\n",
       "      <td>1543898589156</td>\n",
       "      <td>1543898589156</td>\n",
       "      <td>1543898589156</td>\n",
       "      <td>1543898589156</td>\n",
       "    </tr>\n",
       "    <tr>\n",
       "      <th>timezone</th>\n",
       "      <td>Africa/Nairobi</td>\n",
       "      <td>Africa/Nairobi</td>\n",
       "      <td>Africa/Nairobi</td>\n",
       "      <td>Africa/Nairobi</td>\n",
       "      <td>Africa/Nairobi</td>\n",
       "    </tr>\n",
       "    <tr>\n",
       "      <th>timezone_offset</th>\n",
       "      <td>10800000</td>\n",
       "      <td>10800000</td>\n",
       "      <td>10800000</td>\n",
       "      <td>10800000</td>\n",
       "      <td>10800000</td>\n",
       "    </tr>\n",
       "    <tr>\n",
       "      <th>previous_sessions_duration</th>\n",
       "      <td>525962770</td>\n",
       "      <td>525962770</td>\n",
       "      <td>525962770</td>\n",
       "      <td>525962770</td>\n",
       "      <td>525962770</td>\n",
       "    </tr>\n",
       "    <tr>\n",
       "      <th>user_created_timestamp</th>\n",
       "      <td>1539461674060</td>\n",
       "      <td>1539461674060</td>\n",
       "      <td>1539461674060</td>\n",
       "      <td>1539461674060</td>\n",
       "      <td>1539461674060</td>\n",
       "    </tr>\n",
       "    <tr>\n",
       "      <th>is_user_first_session</th>\n",
       "      <td>false</td>\n",
       "      <td>false</td>\n",
       "      <td>false</td>\n",
       "      <td>false</td>\n",
       "      <td>false</td>\n",
       "    </tr>\n",
       "    <tr>\n",
       "      <th>is_session</th>\n",
       "      <td>false</td>\n",
       "      <td>true</td>\n",
       "      <td>false</td>\n",
       "      <td>false</td>\n",
       "      <td>false</td>\n",
       "    </tr>\n",
       "    <tr>\n",
       "      <th>country</th>\n",
       "      <td>KE</td>\n",
       "      <td>KE</td>\n",
       "      <td>KE</td>\n",
       "      <td>KE</td>\n",
       "      <td>KE</td>\n",
       "    </tr>\n",
       "    <tr>\n",
       "      <th>region</th>\n",
       "      <td>30</td>\n",
       "      <td>30</td>\n",
       "      <td>30</td>\n",
       "      <td>30</td>\n",
       "      <td>30</td>\n",
       "    </tr>\n",
       "    <tr>\n",
       "      <th>city</th>\n",
       "      <td>nairobi</td>\n",
       "      <td>nairobi</td>\n",
       "      <td>nairobi</td>\n",
       "      <td>nairobi</td>\n",
       "      <td>nairobi</td>\n",
       "    </tr>\n",
       "    <tr>\n",
       "      <th>latitude</th>\n",
       "      <td>-1.29207</td>\n",
       "      <td>-1.29207</td>\n",
       "      <td>-1.29207</td>\n",
       "      <td>-1.29207</td>\n",
       "      <td>-1.29207</td>\n",
       "    </tr>\n",
       "    <tr>\n",
       "      <th>longitude</th>\n",
       "      <td>36.8219</td>\n",
       "      <td>36.8219</td>\n",
       "      <td>36.8219</td>\n",
       "      <td>36.8219</td>\n",
       "      <td>36.8219</td>\n",
       "    </tr>\n",
       "    <tr>\n",
       "      <th>locale</th>\n",
       "      <td>en_KE</td>\n",
       "      <td>en_KE</td>\n",
       "      <td>en_KE</td>\n",
       "      <td>en_KE</td>\n",
       "      <td>en_KE</td>\n",
       "    </tr>\n",
       "    <tr>\n",
       "      <th>os_name</th>\n",
       "      <td>Android OS</td>\n",
       "      <td>Android OS</td>\n",
       "      <td>Android OS</td>\n",
       "      <td>Android OS</td>\n",
       "      <td>Android OS</td>\n",
       "    </tr>\n",
       "    <tr>\n",
       "      <th>session_index</th>\n",
       "      <td>264</td>\n",
       "      <td>264</td>\n",
       "      <td>264</td>\n",
       "      <td>264</td>\n",
       "      <td>264</td>\n",
       "    </tr>\n",
       "    <tr>\n",
       "      <th>device_id</th>\n",
       "      <td>ad762c3c-f7e4-43f8-b8c8-61edb5e90a06</td>\n",
       "      <td>ad762c3c-f7e4-43f8-b8c8-61edb5e90a06</td>\n",
       "      <td>ad762c3c-f7e4-43f8-b8c8-61edb5e90a06</td>\n",
       "      <td>ad762c3c-f7e4-43f8-b8c8-61edb5e90a06</td>\n",
       "      <td>ad762c3c-f7e4-43f8-b8c8-61edb5e90a06</td>\n",
       "    </tr>\n",
       "    <tr>\n",
       "      <th>user_id_hash</th>\n",
       "      <td>6b3be8a5a92c019722a784e9219c5a51a889fe3a145815...</td>\n",
       "      <td>6b3be8a5a92c019722a784e9219c5a51a889fe3a145815...</td>\n",
       "      <td>6b3be8a5a92c019722a784e9219c5a51a889fe3a145815...</td>\n",
       "      <td>6b3be8a5a92c019722a784e9219c5a51a889fe3a145815...</td>\n",
       "      <td>6b3be8a5a92c019722a784e9219c5a51a889fe3a145815...</td>\n",
       "    </tr>\n",
       "  </tbody>\n",
       "</table>\n",
       "</div>"
      ],
      "text/plain": [
       "                                                                      6203394  \\\n",
       "session_id                                                3560659371756658029   \n",
       "start_timestamp                                                 1543898589156   \n",
       "timezone                                                       Africa/Nairobi   \n",
       "timezone_offset                                                      10800000   \n",
       "previous_sessions_duration                                          525962770   \n",
       "user_created_timestamp                                          1539461674060   \n",
       "is_user_first_session                                                   false   \n",
       "is_session                                                              false   \n",
       "country                                                                    KE   \n",
       "region                                                                     30   \n",
       "city                                                                  nairobi   \n",
       "latitude                                                             -1.29207   \n",
       "longitude                                                             36.8219   \n",
       "locale                                                                  en_KE   \n",
       "os_name                                                            Android OS   \n",
       "session_index                                                             264   \n",
       "device_id                                ad762c3c-f7e4-43f8-b8c8-61edb5e90a06   \n",
       "user_id_hash                6b3be8a5a92c019722a784e9219c5a51a889fe3a145815...   \n",
       "\n",
       "                                                                      6203412  \\\n",
       "session_id                                                3560659371756658029   \n",
       "start_timestamp                                                 1543898589156   \n",
       "timezone                                                       Africa/Nairobi   \n",
       "timezone_offset                                                      10800000   \n",
       "previous_sessions_duration                                          525962770   \n",
       "user_created_timestamp                                          1539461674060   \n",
       "is_user_first_session                                                   false   \n",
       "is_session                                                               true   \n",
       "country                                                                    KE   \n",
       "region                                                                     30   \n",
       "city                                                                  nairobi   \n",
       "latitude                                                             -1.29207   \n",
       "longitude                                                             36.8219   \n",
       "locale                                                                  en_KE   \n",
       "os_name                                                            Android OS   \n",
       "session_index                                                             264   \n",
       "device_id                                ad762c3c-f7e4-43f8-b8c8-61edb5e90a06   \n",
       "user_id_hash                6b3be8a5a92c019722a784e9219c5a51a889fe3a145815...   \n",
       "\n",
       "                                                                      6203430  \\\n",
       "session_id                                                3560659371756658029   \n",
       "start_timestamp                                                 1543898589156   \n",
       "timezone                                                       Africa/Nairobi   \n",
       "timezone_offset                                                      10800000   \n",
       "previous_sessions_duration                                          525962770   \n",
       "user_created_timestamp                                          1539461674060   \n",
       "is_user_first_session                                                   false   \n",
       "is_session                                                              false   \n",
       "country                                                                    KE   \n",
       "region                                                                     30   \n",
       "city                                                                  nairobi   \n",
       "latitude                                                             -1.29207   \n",
       "longitude                                                             36.8219   \n",
       "locale                                                                  en_KE   \n",
       "os_name                                                            Android OS   \n",
       "session_index                                                             264   \n",
       "device_id                                ad762c3c-f7e4-43f8-b8c8-61edb5e90a06   \n",
       "user_id_hash                6b3be8a5a92c019722a784e9219c5a51a889fe3a145815...   \n",
       "\n",
       "                                                                      6203431  \\\n",
       "session_id                                                3560659371756658029   \n",
       "start_timestamp                                                 1543898589156   \n",
       "timezone                                                       Africa/Nairobi   \n",
       "timezone_offset                                                      10800000   \n",
       "previous_sessions_duration                                          525962770   \n",
       "user_created_timestamp                                          1539461674060   \n",
       "is_user_first_session                                                   false   \n",
       "is_session                                                              false   \n",
       "country                                                                    KE   \n",
       "region                                                                     30   \n",
       "city                                                                  nairobi   \n",
       "latitude                                                             -1.29207   \n",
       "longitude                                                             36.8219   \n",
       "locale                                                                  en_KE   \n",
       "os_name                                                            Android OS   \n",
       "session_index                                                             264   \n",
       "device_id                                ad762c3c-f7e4-43f8-b8c8-61edb5e90a06   \n",
       "user_id_hash                6b3be8a5a92c019722a784e9219c5a51a889fe3a145815...   \n",
       "\n",
       "                                                                      6203432  \n",
       "session_id                                                3560659371756658029  \n",
       "start_timestamp                                                 1543898589156  \n",
       "timezone                                                       Africa/Nairobi  \n",
       "timezone_offset                                                      10800000  \n",
       "previous_sessions_duration                                          525962770  \n",
       "user_created_timestamp                                          1539461674060  \n",
       "is_user_first_session                                                   false  \n",
       "is_session                                                              false  \n",
       "country                                                                    KE  \n",
       "region                                                                     30  \n",
       "city                                                                  nairobi  \n",
       "latitude                                                             -1.29207  \n",
       "longitude                                                             36.8219  \n",
       "locale                                                                  en_KE  \n",
       "os_name                                                            Android OS  \n",
       "session_index                                                             264  \n",
       "device_id                                ad762c3c-f7e4-43f8-b8c8-61edb5e90a06  \n",
       "user_id_hash                6b3be8a5a92c019722a784e9219c5a51a889fe3a145815...  "
      ]
     },
     "execution_count": 17,
     "metadata": {},
     "output_type": "execute_result"
    }
   ],
   "source": [
    "sessions[sessions.session_id == '3560659371756658029'].T"
   ]
  },
  {
   "cell_type": "code",
   "execution_count": 21,
   "metadata": {},
   "outputs": [
    {
     "data": {
      "text/plain": [
       "true     5165760\n",
       "false    1071488\n",
       "Name: is_session, dtype: int64"
      ]
     },
     "execution_count": 21,
     "metadata": {},
     "output_type": "execute_result"
    }
   ],
   "source": [
    "sessions.is_session.value_counts()"
   ]
  },
  {
   "cell_type": "code",
   "execution_count": 22,
   "metadata": {},
   "outputs": [],
   "source": [
    "sessions = sessions[sessions.is_session == 'true']"
   ]
  },
  {
   "cell_type": "code",
   "execution_count": 23,
   "metadata": {},
   "outputs": [
    {
     "data": {
      "text/plain": [
       "(5165760, 18)"
      ]
     },
     "execution_count": 23,
     "metadata": {},
     "output_type": "execute_result"
    }
   ],
   "source": [
    "sessions.shape"
   ]
  },
  {
   "cell_type": "code",
   "execution_count": 25,
   "metadata": {},
   "outputs": [],
   "source": [
    "sessions.drop(['is_session'], inplace=True, axis=1)"
   ]
  },
  {
   "cell_type": "markdown",
   "metadata": {},
   "source": [
    "# EDA"
   ]
  },
  {
   "cell_type": "code",
   "execution_count": 26,
   "metadata": {
    "scrolled": false
   },
   "outputs": [
    {
     "name": "stdout",
     "output_type": "stream",
     "text": [
      "session_id\n",
      "\t (5165730,)\n",
      "start_timestamp\n",
      "\t (5163281,)\n",
      "timezone\n",
      "\t (454,)\n",
      "timezone_offset\n",
      "\t (40,)\n",
      "previous_sessions_duration\n",
      "\t (4137765,)\n",
      "user_created_timestamp\n",
      "\t (619750,)\n",
      "is_user_first_session\n",
      "\t (2,)\n",
      "country\n",
      "\t (229,)\n",
      "region\n",
      "\t (756,)\n",
      "city\n",
      "\t (31541,)\n",
      "latitude\n",
      "\t (37501,)\n",
      "longitude\n",
      "\t (37237,)\n",
      "locale\n",
      "\t (1760,)\n",
      "os_name\n",
      "\t (4,)\n",
      "session_index\n",
      "\t (1404,)\n",
      "device_id\n",
      "\t (612318,)\n",
      "user_id_hash\n",
      "\t (619519,)\n"
     ]
    }
   ],
   "source": [
    "for col in sessions.columns:\n",
    "    print(f'{col}')\n",
    "    print(f'\\t {sessions[col].unique().shape}')"
   ]
  },
  {
   "cell_type": "code",
   "execution_count": 27,
   "metadata": {},
   "outputs": [
    {
     "data": {
      "text/plain": [
       "session_id                       0\n",
       "start_timestamp                  0\n",
       "timezone                         0\n",
       "timezone_offset                  0\n",
       "previous_sessions_duration       0\n",
       "user_created_timestamp           0\n",
       "is_user_first_session            0\n",
       "country                       5425\n",
       "region                        2737\n",
       "city                          2730\n",
       "latitude                      2730\n",
       "longitude                     2730\n",
       "locale                           0\n",
       "os_name                          8\n",
       "session_index                    0\n",
       "device_id                        0\n",
       "user_id_hash                     0\n",
       "dtype: int64"
      ]
     },
     "execution_count": 27,
     "metadata": {},
     "output_type": "execute_result"
    }
   ],
   "source": [
    "sessions.isna().sum(axis=0)"
   ]
  },
  {
   "cell_type": "code",
   "execution_count": 29,
   "metadata": {},
   "outputs": [
    {
     "data": {
      "text/plain": [
       "0    372255\n",
       "1    372255\n",
       "2    372255\n",
       "dtype: int32"
      ]
     },
     "execution_count": 29,
     "metadata": {},
     "output_type": "execute_result"
    }
   ],
   "source": [
    "sessions.user_id_hash.cat.codes[:3]"
   ]
  },
  {
   "cell_type": "code",
   "execution_count": 48,
   "metadata": {},
   "outputs": [
    {
     "data": {
      "image/png": "[encoded data removed]",
      "text/plain": [
       "<Figure size 1152x432 with 1 Axes>"
      ]
     },
     "metadata": {},
     "output_type": "display_data"
    }
   ],
   "source": [
    "t =sessions.loc[sessions.user_id_hash.cat.codes == 372255, ['start_timestamp',\n",
    "                                                            'session_index']].values\n",
    "plt.scatter(t[:, 0], t[:, 1])\n",
    "plt.grid(False)"
   ]
  },
  {
   "cell_type": "code",
   "execution_count": 53,
   "metadata": {},
   "outputs": [],
   "source": [
    "sessions.reset_index(inplace=True, drop=True)"
   ]
  },
  {
   "cell_type": "code",
   "execution_count": 7,
   "metadata": {},
   "outputs": [],
   "source": [
    "import datetime as dt"
   ]
  },
  {
   "cell_type": "code",
   "execution_count": 54,
   "metadata": {},
   "outputs": [],
   "source": [
    "sessions['user_time'] = sessions.start_timestamp + sessions.timezone_offset.astype(np.int)"
   ]
  },
  {
   "cell_type": "code",
   "execution_count": 8,
   "metadata": {},
   "outputs": [],
   "source": [
    "def to_dt(x):\n",
    "    return dt.datetime.fromtimestamp(int(x/1000))"
   ]
  },
  {
   "cell_type": "code",
   "execution_count": 66,
   "metadata": {},
   "outputs": [],
   "source": [
    "sessions.user_time = sessions.user_time.apply(lambda x: to_dt(x))"
   ]
  },
  {
   "cell_type": "code",
   "execution_count": 67,
   "metadata": {},
   "outputs": [
    {
     "data": {
      "text/plain": [
       "Index(['session_id', 'start_timestamp', 'timezone', 'timezone_offset',\n",
       "       'previous_sessions_duration', 'user_created_timestamp',\n",
       "       'is_user_first_session', 'country', 'region', 'city', 'latitude',\n",
       "       'longitude', 'locale', 'os_name', 'session_index', 'device_id',\n",
       "       'user_id_hash', 'user_time'],\n",
       "      dtype='object')"
      ]
     },
     "execution_count": 67,
     "metadata": {},
     "output_type": "execute_result"
    }
   ],
   "source": [
    "sessions.columns"
   ]
  },
  {
   "cell_type": "code",
   "execution_count": 68,
   "metadata": {},
   "outputs": [
    {
     "data": {
      "text/plain": [
       "[28800000, 0, -14400000, 19800000, 39600000, ..., 50400000, 49500000, 31500000, -43200000, -34200000]\n",
       "Length: 40\n",
       "Categories (40, object): [28800000, 0, -14400000, 19800000, ..., 49500000, 31500000, -43200000, -34200000]"
      ]
     },
     "execution_count": 68,
     "metadata": {},
     "output_type": "execute_result"
    }
   ],
   "source": [
    "sessions.timezone_offset.unique()"
   ]
  },
  {
   "cell_type": "code",
   "execution_count": 69,
   "metadata": {},
   "outputs": [
    {
     "data": {
      "text/plain": [
       "[Asia/Manila, Europe/London, America/New_York, Asia/Kolkata, Australia/Sydney, ..., Canada/Mountain, America/Argentina/La_Rioja, GMT+05:30, Asia/Macao, Africa/Asmara]\n",
       "Length: 454\n",
       "Categories (454, object): [Asia/Manila, Europe/London, America/New_York, Asia/Kolkata, ..., America/Argentina/La_Rioja, GMT+05:30, Asia/Macao, Africa/Asmara]"
      ]
     },
     "execution_count": 69,
     "metadata": {},
     "output_type": "execute_result"
    }
   ],
   "source": [
    "sessions.timezone.unique()"
   ]
  },
  {
   "cell_type": "code",
   "execution_count": 70,
   "metadata": {},
   "outputs": [],
   "source": [
    "sessions.to_pickle('../session2.pkl')"
   ]
  },
  {
   "cell_type": "code",
   "execution_count": 72,
   "metadata": {
    "scrolled": false
   },
   "outputs": [
    {
     "data": {
      "text/html": [
       "<div>\n",
       "<style scoped>\n",
       "    .dataframe tbody tr th:only-of-type {\n",
       "        vertical-align: middle;\n",
       "    }\n",
       "\n",
       "    .dataframe tbody tr th {\n",
       "        vertical-align: top;\n",
       "    }\n",
       "\n",
       "    .dataframe thead th {\n",
       "        text-align: right;\n",
       "    }\n",
       "</style>\n",
       "<table border=\"1\" class=\"dataframe\">\n",
       "  <thead>\n",
       "    <tr style=\"text-align: right;\">\n",
       "      <th></th>\n",
       "      <th>0</th>\n",
       "      <th>1</th>\n",
       "      <th>2</th>\n",
       "      <th>3</th>\n",
       "      <th>4</th>\n",
       "      <th>5</th>\n",
       "      <th>6</th>\n",
       "      <th>7</th>\n",
       "      <th>8</th>\n",
       "      <th>9</th>\n",
       "      <th>...</th>\n",
       "      <th>38</th>\n",
       "      <th>39</th>\n",
       "      <th>40</th>\n",
       "      <th>41</th>\n",
       "      <th>42</th>\n",
       "      <th>43</th>\n",
       "      <th>44</th>\n",
       "      <th>45</th>\n",
       "      <th>46</th>\n",
       "      <th>47</th>\n",
       "    </tr>\n",
       "  </thead>\n",
       "  <tbody>\n",
       "    <tr>\n",
       "      <th>session_id</th>\n",
       "      <td>5558845121177764917</td>\n",
       "      <td>2201961907282901522</td>\n",
       "      <td>18781111175537580</td>\n",
       "      <td>1477540082628742048</td>\n",
       "      <td>8184875317380844086</td>\n",
       "      <td>4706180700083856343</td>\n",
       "      <td>1672434284075955951</td>\n",
       "      <td>8451449588170786226</td>\n",
       "      <td>2261854641543944119</td>\n",
       "      <td>7620470736635924977</td>\n",
       "      <td>...</td>\n",
       "      <td>2658199659118296084</td>\n",
       "      <td>346242741644068108</td>\n",
       "      <td>1606256182540081395</td>\n",
       "      <td>570074261821414011</td>\n",
       "      <td>2232039880727664337</td>\n",
       "      <td>2722843010474960253</td>\n",
       "      <td>6460094204686017140</td>\n",
       "      <td>8475039498267991070</td>\n",
       "      <td>5459292485381163406</td>\n",
       "      <td>5226024100962698681</td>\n",
       "    </tr>\n",
       "    <tr>\n",
       "      <th>start_timestamp</th>\n",
       "      <td>1542215364580</td>\n",
       "      <td>1543712977293</td>\n",
       "      <td>1539215568666</td>\n",
       "      <td>1540120743010</td>\n",
       "      <td>1542671625528</td>\n",
       "      <td>1538997913013</td>\n",
       "      <td>1540106255109</td>\n",
       "      <td>1540123895593</td>\n",
       "      <td>1541320437287</td>\n",
       "      <td>1542674647158</td>\n",
       "      <td>...</td>\n",
       "      <td>1542669319744</td>\n",
       "      <td>1543070369677</td>\n",
       "      <td>1542504279101</td>\n",
       "      <td>1542797522007</td>\n",
       "      <td>1542271812801</td>\n",
       "      <td>1542165385484</td>\n",
       "      <td>1542525533146</td>\n",
       "      <td>1541915381950</td>\n",
       "      <td>1541980415987</td>\n",
       "      <td>1541978221244</td>\n",
       "    </tr>\n",
       "    <tr>\n",
       "      <th>timezone</th>\n",
       "      <td>Asia/Manila</td>\n",
       "      <td>Asia/Manila</td>\n",
       "      <td>Asia/Manila</td>\n",
       "      <td>Asia/Manila</td>\n",
       "      <td>Asia/Manila</td>\n",
       "      <td>Asia/Manila</td>\n",
       "      <td>Asia/Manila</td>\n",
       "      <td>Asia/Manila</td>\n",
       "      <td>Asia/Manila</td>\n",
       "      <td>Asia/Manila</td>\n",
       "      <td>...</td>\n",
       "      <td>Asia/Manila</td>\n",
       "      <td>Asia/Manila</td>\n",
       "      <td>Asia/Manila</td>\n",
       "      <td>Asia/Manila</td>\n",
       "      <td>Asia/Manila</td>\n",
       "      <td>Asia/Manila</td>\n",
       "      <td>Asia/Manila</td>\n",
       "      <td>Asia/Manila</td>\n",
       "      <td>Asia/Manila</td>\n",
       "      <td>Asia/Manila</td>\n",
       "    </tr>\n",
       "    <tr>\n",
       "      <th>timezone_offset</th>\n",
       "      <td>28800000</td>\n",
       "      <td>28800000</td>\n",
       "      <td>28800000</td>\n",
       "      <td>28800000</td>\n",
       "      <td>28800000</td>\n",
       "      <td>28800000</td>\n",
       "      <td>28800000</td>\n",
       "      <td>28800000</td>\n",
       "      <td>28800000</td>\n",
       "      <td>28800000</td>\n",
       "      <td>...</td>\n",
       "      <td>28800000</td>\n",
       "      <td>28800000</td>\n",
       "      <td>28800000</td>\n",
       "      <td>28800000</td>\n",
       "      <td>28800000</td>\n",
       "      <td>28800000</td>\n",
       "      <td>28800000</td>\n",
       "      <td>28800000</td>\n",
       "      <td>28800000</td>\n",
       "      <td>28800000</td>\n",
       "    </tr>\n",
       "    <tr>\n",
       "      <th>previous_sessions_duration</th>\n",
       "      <td>25837591</td>\n",
       "      <td>35050130</td>\n",
       "      <td>11343848</td>\n",
       "      <td>13499724</td>\n",
       "      <td>32788010</td>\n",
       "      <td>5872534</td>\n",
       "      <td>12495345</td>\n",
       "      <td>14036096</td>\n",
       "      <td>14113619</td>\n",
       "      <td>32827242</td>\n",
       "      <td>...</td>\n",
       "      <td>32787945</td>\n",
       "      <td>33341300</td>\n",
       "      <td>28057886</td>\n",
       "      <td>32828773</td>\n",
       "      <td>25994012</td>\n",
       "      <td>25330049</td>\n",
       "      <td>30676728</td>\n",
       "      <td>17557430</td>\n",
       "      <td>23253903</td>\n",
       "      <td>23236244</td>\n",
       "    </tr>\n",
       "    <tr>\n",
       "      <th>user_created_timestamp</th>\n",
       "      <td>1538874289458</td>\n",
       "      <td>1538874289458</td>\n",
       "      <td>1538874289458</td>\n",
       "      <td>1538874289458</td>\n",
       "      <td>1538874289458</td>\n",
       "      <td>1538874289458</td>\n",
       "      <td>1538874289458</td>\n",
       "      <td>1538874289458</td>\n",
       "      <td>1538874289458</td>\n",
       "      <td>1538874289458</td>\n",
       "      <td>...</td>\n",
       "      <td>1538874289458</td>\n",
       "      <td>1538874289458</td>\n",
       "      <td>1538874289458</td>\n",
       "      <td>1538874289458</td>\n",
       "      <td>1538874289458</td>\n",
       "      <td>1538874289458</td>\n",
       "      <td>1538874289458</td>\n",
       "      <td>1538874289458</td>\n",
       "      <td>1538874289458</td>\n",
       "      <td>1538874289458</td>\n",
       "    </tr>\n",
       "    <tr>\n",
       "      <th>is_user_first_session</th>\n",
       "      <td>false</td>\n",
       "      <td>false</td>\n",
       "      <td>false</td>\n",
       "      <td>false</td>\n",
       "      <td>false</td>\n",
       "      <td>false</td>\n",
       "      <td>false</td>\n",
       "      <td>false</td>\n",
       "      <td>false</td>\n",
       "      <td>false</td>\n",
       "      <td>...</td>\n",
       "      <td>false</td>\n",
       "      <td>false</td>\n",
       "      <td>false</td>\n",
       "      <td>false</td>\n",
       "      <td>false</td>\n",
       "      <td>false</td>\n",
       "      <td>false</td>\n",
       "      <td>false</td>\n",
       "      <td>false</td>\n",
       "      <td>false</td>\n",
       "    </tr>\n",
       "    <tr>\n",
       "      <th>country</th>\n",
       "      <td>PH</td>\n",
       "      <td>PH</td>\n",
       "      <td>PH</td>\n",
       "      <td>PH</td>\n",
       "      <td>PH</td>\n",
       "      <td>PH</td>\n",
       "      <td>PH</td>\n",
       "      <td>PH</td>\n",
       "      <td>PH</td>\n",
       "      <td>PH</td>\n",
       "      <td>...</td>\n",
       "      <td>PH</td>\n",
       "      <td>PH</td>\n",
       "      <td>PH</td>\n",
       "      <td>PH</td>\n",
       "      <td>PH</td>\n",
       "      <td>PH</td>\n",
       "      <td>PH</td>\n",
       "      <td>PH</td>\n",
       "      <td>PH</td>\n",
       "      <td>PH</td>\n",
       "    </tr>\n",
       "    <tr>\n",
       "      <th>region</th>\n",
       "      <td>00</td>\n",
       "      <td>00</td>\n",
       "      <td>00</td>\n",
       "      <td>11</td>\n",
       "      <td>00</td>\n",
       "      <td>11</td>\n",
       "      <td>11</td>\n",
       "      <td>11</td>\n",
       "      <td>00</td>\n",
       "      <td>00</td>\n",
       "      <td>...</td>\n",
       "      <td>00</td>\n",
       "      <td>00</td>\n",
       "      <td>00</td>\n",
       "      <td>00</td>\n",
       "      <td>00</td>\n",
       "      <td>00</td>\n",
       "      <td>00</td>\n",
       "      <td>00</td>\n",
       "      <td>11</td>\n",
       "      <td>11</td>\n",
       "    </tr>\n",
       "    <tr>\n",
       "      <th>city</th>\n",
       "      <td>makati</td>\n",
       "      <td>quezon city</td>\n",
       "      <td>makati</td>\n",
       "      <td>davao city</td>\n",
       "      <td>makati</td>\n",
       "      <td>davao city</td>\n",
       "      <td>davao city</td>\n",
       "      <td>davao city</td>\n",
       "      <td>quezon city</td>\n",
       "      <td>makati</td>\n",
       "      <td>...</td>\n",
       "      <td>makati</td>\n",
       "      <td>quezon city</td>\n",
       "      <td>makati</td>\n",
       "      <td>makati</td>\n",
       "      <td>makati</td>\n",
       "      <td>makati</td>\n",
       "      <td>makati</td>\n",
       "      <td>quezon city</td>\n",
       "      <td>davao city</td>\n",
       "      <td>davao city</td>\n",
       "    </tr>\n",
       "    <tr>\n",
       "      <th>latitude</th>\n",
       "      <td>14.5547</td>\n",
       "      <td>14.676</td>\n",
       "      <td>14.5547</td>\n",
       "      <td>7.19071</td>\n",
       "      <td>14.5547</td>\n",
       "      <td>7.19071</td>\n",
       "      <td>7.19071</td>\n",
       "      <td>7.19071</td>\n",
       "      <td>14.676</td>\n",
       "      <td>14.5547</td>\n",
       "      <td>...</td>\n",
       "      <td>14.5547</td>\n",
       "      <td>14.676</td>\n",
       "      <td>14.5547</td>\n",
       "      <td>14.5547</td>\n",
       "      <td>14.5547</td>\n",
       "      <td>14.5547</td>\n",
       "      <td>14.5547</td>\n",
       "      <td>14.676</td>\n",
       "      <td>7.19071</td>\n",
       "      <td>7.19071</td>\n",
       "    </tr>\n",
       "    <tr>\n",
       "      <th>longitude</th>\n",
       "      <td>121.024</td>\n",
       "      <td>121.044</td>\n",
       "      <td>121.024</td>\n",
       "      <td>125.455</td>\n",
       "      <td>121.024</td>\n",
       "      <td>125.455</td>\n",
       "      <td>125.455</td>\n",
       "      <td>125.455</td>\n",
       "      <td>121.044</td>\n",
       "      <td>121.024</td>\n",
       "      <td>...</td>\n",
       "      <td>121.024</td>\n",
       "      <td>121.044</td>\n",
       "      <td>121.024</td>\n",
       "      <td>121.024</td>\n",
       "      <td>121.024</td>\n",
       "      <td>121.024</td>\n",
       "      <td>121.024</td>\n",
       "      <td>121.044</td>\n",
       "      <td>125.455</td>\n",
       "      <td>125.455</td>\n",
       "    </tr>\n",
       "    <tr>\n",
       "      <th>locale</th>\n",
       "      <td>en_GB</td>\n",
       "      <td>en_GB</td>\n",
       "      <td>en_GB</td>\n",
       "      <td>en_GB</td>\n",
       "      <td>en_GB</td>\n",
       "      <td>en_GB</td>\n",
       "      <td>en_GB</td>\n",
       "      <td>en_GB</td>\n",
       "      <td>en_GB</td>\n",
       "      <td>en_GB</td>\n",
       "      <td>...</td>\n",
       "      <td>en_GB</td>\n",
       "      <td>en_GB</td>\n",
       "      <td>en_GB</td>\n",
       "      <td>en_GB</td>\n",
       "      <td>en_GB</td>\n",
       "      <td>en_GB</td>\n",
       "      <td>en_GB</td>\n",
       "      <td>en_GB</td>\n",
       "      <td>en_GB</td>\n",
       "      <td>en_GB</td>\n",
       "    </tr>\n",
       "    <tr>\n",
       "      <th>os_name</th>\n",
       "      <td>Android OS</td>\n",
       "      <td>Android OS</td>\n",
       "      <td>Android OS</td>\n",
       "      <td>Android OS</td>\n",
       "      <td>Android OS</td>\n",
       "      <td>Android OS</td>\n",
       "      <td>Android OS</td>\n",
       "      <td>Android OS</td>\n",
       "      <td>Android OS</td>\n",
       "      <td>Android OS</td>\n",
       "      <td>...</td>\n",
       "      <td>Android OS</td>\n",
       "      <td>Android OS</td>\n",
       "      <td>Android OS</td>\n",
       "      <td>Android OS</td>\n",
       "      <td>Android OS</td>\n",
       "      <td>Android OS</td>\n",
       "      <td>Android OS</td>\n",
       "      <td>Android OS</td>\n",
       "      <td>Android OS</td>\n",
       "      <td>Android OS</td>\n",
       "    </tr>\n",
       "    <tr>\n",
       "      <th>session_index</th>\n",
       "      <td>30</td>\n",
       "      <td>47</td>\n",
       "      <td>10</td>\n",
       "      <td>13</td>\n",
       "      <td>41</td>\n",
       "      <td>4</td>\n",
       "      <td>12</td>\n",
       "      <td>14</td>\n",
       "      <td>16</td>\n",
       "      <td>42</td>\n",
       "      <td>...</td>\n",
       "      <td>40</td>\n",
       "      <td>44</td>\n",
       "      <td>35</td>\n",
       "      <td>43</td>\n",
       "      <td>32</td>\n",
       "      <td>29</td>\n",
       "      <td>37</td>\n",
       "      <td>19</td>\n",
       "      <td>26</td>\n",
       "      <td>25</td>\n",
       "    </tr>\n",
       "    <tr>\n",
       "      <th>device_id</th>\n",
       "      <td>546a3d98-d540-4e72-ad82-9ebd64e0839b</td>\n",
       "      <td>546a3d98-d540-4e72-ad82-9ebd64e0839b</td>\n",
       "      <td>546a3d98-d540-4e72-ad82-9ebd64e0839b</td>\n",
       "      <td>546a3d98-d540-4e72-ad82-9ebd64e0839b</td>\n",
       "      <td>546a3d98-d540-4e72-ad82-9ebd64e0839b</td>\n",
       "      <td>546a3d98-d540-4e72-ad82-9ebd64e0839b</td>\n",
       "      <td>546a3d98-d540-4e72-ad82-9ebd64e0839b</td>\n",
       "      <td>546a3d98-d540-4e72-ad82-9ebd64e0839b</td>\n",
       "      <td>546a3d98-d540-4e72-ad82-9ebd64e0839b</td>\n",
       "      <td>546a3d98-d540-4e72-ad82-9ebd64e0839b</td>\n",
       "      <td>...</td>\n",
       "      <td>546a3d98-d540-4e72-ad82-9ebd64e0839b</td>\n",
       "      <td>546a3d98-d540-4e72-ad82-9ebd64e0839b</td>\n",
       "      <td>546a3d98-d540-4e72-ad82-9ebd64e0839b</td>\n",
       "      <td>546a3d98-d540-4e72-ad82-9ebd64e0839b</td>\n",
       "      <td>546a3d98-d540-4e72-ad82-9ebd64e0839b</td>\n",
       "      <td>546a3d98-d540-4e72-ad82-9ebd64e0839b</td>\n",
       "      <td>546a3d98-d540-4e72-ad82-9ebd64e0839b</td>\n",
       "      <td>546a3d98-d540-4e72-ad82-9ebd64e0839b</td>\n",
       "      <td>546a3d98-d540-4e72-ad82-9ebd64e0839b</td>\n",
       "      <td>546a3d98-d540-4e72-ad82-9ebd64e0839b</td>\n",
       "    </tr>\n",
       "    <tr>\n",
       "      <th>user_id_hash</th>\n",
       "      <td>9943447915df3a45fd6720a026af905b6da6b56a37701b...</td>\n",
       "      <td>9943447915df3a45fd6720a026af905b6da6b56a37701b...</td>\n",
       "      <td>9943447915df3a45fd6720a026af905b6da6b56a37701b...</td>\n",
       "      <td>9943447915df3a45fd6720a026af905b6da6b56a37701b...</td>\n",
       "      <td>9943447915df3a45fd6720a026af905b6da6b56a37701b...</td>\n",
       "      <td>9943447915df3a45fd6720a026af905b6da6b56a37701b...</td>\n",
       "      <td>9943447915df3a45fd6720a026af905b6da6b56a37701b...</td>\n",
       "      <td>9943447915df3a45fd6720a026af905b6da6b56a37701b...</td>\n",
       "      <td>9943447915df3a45fd6720a026af905b6da6b56a37701b...</td>\n",
       "      <td>9943447915df3a45fd6720a026af905b6da6b56a37701b...</td>\n",
       "      <td>...</td>\n",
       "      <td>9943447915df3a45fd6720a026af905b6da6b56a37701b...</td>\n",
       "      <td>9943447915df3a45fd6720a026af905b6da6b56a37701b...</td>\n",
       "      <td>9943447915df3a45fd6720a026af905b6da6b56a37701b...</td>\n",
       "      <td>9943447915df3a45fd6720a026af905b6da6b56a37701b...</td>\n",
       "      <td>9943447915df3a45fd6720a026af905b6da6b56a37701b...</td>\n",
       "      <td>9943447915df3a45fd6720a026af905b6da6b56a37701b...</td>\n",
       "      <td>9943447915df3a45fd6720a026af905b6da6b56a37701b...</td>\n",
       "      <td>9943447915df3a45fd6720a026af905b6da6b56a37701b...</td>\n",
       "      <td>9943447915df3a45fd6720a026af905b6da6b56a37701b...</td>\n",
       "      <td>9943447915df3a45fd6720a026af905b6da6b56a37701b...</td>\n",
       "    </tr>\n",
       "    <tr>\n",
       "      <th>user_time</th>\n",
       "      <td>2018-11-15 01:09:24</td>\n",
       "      <td>2018-12-02 09:09:37</td>\n",
       "      <td>2018-10-11 07:52:48</td>\n",
       "      <td>2018-10-21 19:19:03</td>\n",
       "      <td>2018-11-20 07:53:45</td>\n",
       "      <td>2018-10-08 19:25:13</td>\n",
       "      <td>2018-10-21 15:17:35</td>\n",
       "      <td>2018-10-21 20:11:35</td>\n",
       "      <td>2018-11-04 16:33:57</td>\n",
       "      <td>2018-11-20 08:44:07</td>\n",
       "      <td>...</td>\n",
       "      <td>2018-11-20 07:15:19</td>\n",
       "      <td>2018-11-24 22:39:29</td>\n",
       "      <td>2018-11-18 09:24:39</td>\n",
       "      <td>2018-11-21 18:52:02</td>\n",
       "      <td>2018-11-15 16:50:12</td>\n",
       "      <td>2018-11-14 11:16:25</td>\n",
       "      <td>2018-11-18 15:18:53</td>\n",
       "      <td>2018-11-11 13:49:41</td>\n",
       "      <td>2018-11-12 07:53:35</td>\n",
       "      <td>2018-11-12 07:17:01</td>\n",
       "    </tr>\n",
       "  </tbody>\n",
       "</table>\n",
       "<p>18 rows × 48 columns</p>\n",
       "</div>"
      ],
      "text/plain": [
       "                                                                           0   \\\n",
       "session_id                                                5558845121177764917   \n",
       "start_timestamp                                                 1542215364580   \n",
       "timezone                                                          Asia/Manila   \n",
       "timezone_offset                                                      28800000   \n",
       "previous_sessions_duration                                           25837591   \n",
       "user_created_timestamp                                          1538874289458   \n",
       "is_user_first_session                                                   false   \n",
       "country                                                                    PH   \n",
       "region                                                                     00   \n",
       "city                                                                   makati   \n",
       "latitude                                                              14.5547   \n",
       "longitude                                                             121.024   \n",
       "locale                                                                  en_GB   \n",
       "os_name                                                            Android OS   \n",
       "session_index                                                              30   \n",
       "device_id                                546a3d98-d540-4e72-ad82-9ebd64e0839b   \n",
       "user_id_hash                9943447915df3a45fd6720a026af905b6da6b56a37701b...   \n",
       "user_time                                                 2018-11-15 01:09:24   \n",
       "\n",
       "                                                                           1   \\\n",
       "session_id                                                2201961907282901522   \n",
       "start_timestamp                                                 1543712977293   \n",
       "timezone                                                          Asia/Manila   \n",
       "timezone_offset                                                      28800000   \n",
       "previous_sessions_duration                                           35050130   \n",
       "user_created_timestamp                                          1538874289458   \n",
       "is_user_first_session                                                   false   \n",
       "country                                                                    PH   \n",
       "region                                                                     00   \n",
       "city                                                              quezon city   \n",
       "latitude                                                               14.676   \n",
       "longitude                                                             121.044   \n",
       "locale                                                                  en_GB   \n",
       "os_name                                                            Android OS   \n",
       "session_index                                                              47   \n",
       "device_id                                546a3d98-d540-4e72-ad82-9ebd64e0839b   \n",
       "user_id_hash                9943447915df3a45fd6720a026af905b6da6b56a37701b...   \n",
       "user_time                                                 2018-12-02 09:09:37   \n",
       "\n",
       "                                                                           2   \\\n",
       "session_id                                                  18781111175537580   \n",
       "start_timestamp                                                 1539215568666   \n",
       "timezone                                                          Asia/Manila   \n",
       "timezone_offset                                                      28800000   \n",
       "previous_sessions_duration                                           11343848   \n",
       "user_created_timestamp                                          1538874289458   \n",
       "is_user_first_session                                                   false   \n",
       "country                                                                    PH   \n",
       "region                                                                     00   \n",
       "city                                                                   makati   \n",
       "latitude                                                              14.5547   \n",
       "longitude                                                             121.024   \n",
       "locale                                                                  en_GB   \n",
       "os_name                                                            Android OS   \n",
       "session_index                                                              10   \n",
       "device_id                                546a3d98-d540-4e72-ad82-9ebd64e0839b   \n",
       "user_id_hash                9943447915df3a45fd6720a026af905b6da6b56a37701b...   \n",
       "user_time                                                 2018-10-11 07:52:48   \n",
       "\n",
       "                                                                           3   \\\n",
       "session_id                                                1477540082628742048   \n",
       "start_timestamp                                                 1540120743010   \n",
       "timezone                                                          Asia/Manila   \n",
       "timezone_offset                                                      28800000   \n",
       "previous_sessions_duration                                           13499724   \n",
       "user_created_timestamp                                          1538874289458   \n",
       "is_user_first_session                                                   false   \n",
       "country                                                                    PH   \n",
       "region                                                                     11   \n",
       "city                                                               davao city   \n",
       "latitude                                                              7.19071   \n",
       "longitude                                                             125.455   \n",
       "locale                                                                  en_GB   \n",
       "os_name                                                            Android OS   \n",
       "session_index                                                              13   \n",
       "device_id                                546a3d98-d540-4e72-ad82-9ebd64e0839b   \n",
       "user_id_hash                9943447915df3a45fd6720a026af905b6da6b56a37701b...   \n",
       "user_time                                                 2018-10-21 19:19:03   \n",
       "\n",
       "                                                                           4   \\\n",
       "session_id                                                8184875317380844086   \n",
       "start_timestamp                                                 1542671625528   \n",
       "timezone                                                          Asia/Manila   \n",
       "timezone_offset                                                      28800000   \n",
       "previous_sessions_duration                                           32788010   \n",
       "user_created_timestamp                                          1538874289458   \n",
       "is_user_first_session                                                   false   \n",
       "country                                                                    PH   \n",
       "region                                                                     00   \n",
       "city                                                                   makati   \n",
       "latitude                                                              14.5547   \n",
       "longitude                                                             121.024   \n",
       "locale                                                                  en_GB   \n",
       "os_name                                                            Android OS   \n",
       "session_index                                                              41   \n",
       "device_id                                546a3d98-d540-4e72-ad82-9ebd64e0839b   \n",
       "user_id_hash                9943447915df3a45fd6720a026af905b6da6b56a37701b...   \n",
       "user_time                                                 2018-11-20 07:53:45   \n",
       "\n",
       "                                                                           5   \\\n",
       "session_id                                                4706180700083856343   \n",
       "start_timestamp                                                 1538997913013   \n",
       "timezone                                                          Asia/Manila   \n",
       "timezone_offset                                                      28800000   \n",
       "previous_sessions_duration                                            5872534   \n",
       "user_created_timestamp                                          1538874289458   \n",
       "is_user_first_session                                                   false   \n",
       "country                                                                    PH   \n",
       "region                                                                     11   \n",
       "city                                                               davao city   \n",
       "latitude                                                              7.19071   \n",
       "longitude                                                             125.455   \n",
       "locale                                                                  en_GB   \n",
       "os_name                                                            Android OS   \n",
       "session_index                                                               4   \n",
       "device_id                                546a3d98-d540-4e72-ad82-9ebd64e0839b   \n",
       "user_id_hash                9943447915df3a45fd6720a026af905b6da6b56a37701b...   \n",
       "user_time                                                 2018-10-08 19:25:13   \n",
       "\n",
       "                                                                           6   \\\n",
       "session_id                                                1672434284075955951   \n",
       "start_timestamp                                                 1540106255109   \n",
       "timezone                                                          Asia/Manila   \n",
       "timezone_offset                                                      28800000   \n",
       "previous_sessions_duration                                           12495345   \n",
       "user_created_timestamp                                          1538874289458   \n",
       "is_user_first_session                                                   false   \n",
       "country                                                                    PH   \n",
       "region                                                                     11   \n",
       "city                                                               davao city   \n",
       "latitude                                                              7.19071   \n",
       "longitude                                                             125.455   \n",
       "locale                                                                  en_GB   \n",
       "os_name                                                            Android OS   \n",
       "session_index                                                              12   \n",
       "device_id                                546a3d98-d540-4e72-ad82-9ebd64e0839b   \n",
       "user_id_hash                9943447915df3a45fd6720a026af905b6da6b56a37701b...   \n",
       "user_time                                                 2018-10-21 15:17:35   \n",
       "\n",
       "                                                                           7   \\\n",
       "session_id                                                8451449588170786226   \n",
       "start_timestamp                                                 1540123895593   \n",
       "timezone                                                          Asia/Manila   \n",
       "timezone_offset                                                      28800000   \n",
       "previous_sessions_duration                                           14036096   \n",
       "user_created_timestamp                                          1538874289458   \n",
       "is_user_first_session                                                   false   \n",
       "country                                                                    PH   \n",
       "region                                                                     11   \n",
       "city                                                               davao city   \n",
       "latitude                                                              7.19071   \n",
       "longitude                                                             125.455   \n",
       "locale                                                                  en_GB   \n",
       "os_name                                                            Android OS   \n",
       "session_index                                                              14   \n",
       "device_id                                546a3d98-d540-4e72-ad82-9ebd64e0839b   \n",
       "user_id_hash                9943447915df3a45fd6720a026af905b6da6b56a37701b...   \n",
       "user_time                                                 2018-10-21 20:11:35   \n",
       "\n",
       "                                                                           8   \\\n",
       "session_id                                                2261854641543944119   \n",
       "start_timestamp                                                 1541320437287   \n",
       "timezone                                                          Asia/Manila   \n",
       "timezone_offset                                                      28800000   \n",
       "previous_sessions_duration                                           14113619   \n",
       "user_created_timestamp                                          1538874289458   \n",
       "is_user_first_session                                                   false   \n",
       "country                                                                    PH   \n",
       "region                                                                     00   \n",
       "city                                                              quezon city   \n",
       "latitude                                                               14.676   \n",
       "longitude                                                             121.044   \n",
       "locale                                                                  en_GB   \n",
       "os_name                                                            Android OS   \n",
       "session_index                                                              16   \n",
       "device_id                                546a3d98-d540-4e72-ad82-9ebd64e0839b   \n",
       "user_id_hash                9943447915df3a45fd6720a026af905b6da6b56a37701b...   \n",
       "user_time                                                 2018-11-04 16:33:57   \n",
       "\n",
       "                                                                           9   \\\n",
       "session_id                                                7620470736635924977   \n",
       "start_timestamp                                                 1542674647158   \n",
       "timezone                                                          Asia/Manila   \n",
       "timezone_offset                                                      28800000   \n",
       "previous_sessions_duration                                           32827242   \n",
       "user_created_timestamp                                          1538874289458   \n",
       "is_user_first_session                                                   false   \n",
       "country                                                                    PH   \n",
       "region                                                                     00   \n",
       "city                                                                   makati   \n",
       "latitude                                                              14.5547   \n",
       "longitude                                                             121.024   \n",
       "locale                                                                  en_GB   \n",
       "os_name                                                            Android OS   \n",
       "session_index                                                              42   \n",
       "device_id                                546a3d98-d540-4e72-ad82-9ebd64e0839b   \n",
       "user_id_hash                9943447915df3a45fd6720a026af905b6da6b56a37701b...   \n",
       "user_time                                                 2018-11-20 08:44:07   \n",
       "\n",
       "                                                  ...                          \\\n",
       "session_id                                        ...                           \n",
       "start_timestamp                                   ...                           \n",
       "timezone                                          ...                           \n",
       "timezone_offset                                   ...                           \n",
       "previous_sessions_duration                        ...                           \n",
       "user_created_timestamp                            ...                           \n",
       "is_user_first_session                             ...                           \n",
       "country                                           ...                           \n",
       "region                                            ...                           \n",
       "city                                              ...                           \n",
       "latitude                                          ...                           \n",
       "longitude                                         ...                           \n",
       "locale                                            ...                           \n",
       "os_name                                           ...                           \n",
       "session_index                                     ...                           \n",
       "device_id                                         ...                           \n",
       "user_id_hash                                      ...                           \n",
       "user_time                                         ...                           \n",
       "\n",
       "                                                                           38  \\\n",
       "session_id                                                2658199659118296084   \n",
       "start_timestamp                                                 1542669319744   \n",
       "timezone                                                          Asia/Manila   \n",
       "timezone_offset                                                      28800000   \n",
       "previous_sessions_duration                                           32787945   \n",
       "user_created_timestamp                                          1538874289458   \n",
       "is_user_first_session                                                   false   \n",
       "country                                                                    PH   \n",
       "region                                                                     00   \n",
       "city                                                                   makati   \n",
       "latitude                                                              14.5547   \n",
       "longitude                                                             121.024   \n",
       "locale                                                                  en_GB   \n",
       "os_name                                                            Android OS   \n",
       "session_index                                                              40   \n",
       "device_id                                546a3d98-d540-4e72-ad82-9ebd64e0839b   \n",
       "user_id_hash                9943447915df3a45fd6720a026af905b6da6b56a37701b...   \n",
       "user_time                                                 2018-11-20 07:15:19   \n",
       "\n",
       "                                                                           39  \\\n",
       "session_id                                                 346242741644068108   \n",
       "start_timestamp                                                 1543070369677   \n",
       "timezone                                                          Asia/Manila   \n",
       "timezone_offset                                                      28800000   \n",
       "previous_sessions_duration                                           33341300   \n",
       "user_created_timestamp                                          1538874289458   \n",
       "is_user_first_session                                                   false   \n",
       "country                                                                    PH   \n",
       "region                                                                     00   \n",
       "city                                                              quezon city   \n",
       "latitude                                                               14.676   \n",
       "longitude                                                             121.044   \n",
       "locale                                                                  en_GB   \n",
       "os_name                                                            Android OS   \n",
       "session_index                                                              44   \n",
       "device_id                                546a3d98-d540-4e72-ad82-9ebd64e0839b   \n",
       "user_id_hash                9943447915df3a45fd6720a026af905b6da6b56a37701b...   \n",
       "user_time                                                 2018-11-24 22:39:29   \n",
       "\n",
       "                                                                           40  \\\n",
       "session_id                                                1606256182540081395   \n",
       "start_timestamp                                                 1542504279101   \n",
       "timezone                                                          Asia/Manila   \n",
       "timezone_offset                                                      28800000   \n",
       "previous_sessions_duration                                           28057886   \n",
       "user_created_timestamp                                          1538874289458   \n",
       "is_user_first_session                                                   false   \n",
       "country                                                                    PH   \n",
       "region                                                                     00   \n",
       "city                                                                   makati   \n",
       "latitude                                                              14.5547   \n",
       "longitude                                                             121.024   \n",
       "locale                                                                  en_GB   \n",
       "os_name                                                            Android OS   \n",
       "session_index                                                              35   \n",
       "device_id                                546a3d98-d540-4e72-ad82-9ebd64e0839b   \n",
       "user_id_hash                9943447915df3a45fd6720a026af905b6da6b56a37701b...   \n",
       "user_time                                                 2018-11-18 09:24:39   \n",
       "\n",
       "                                                                           41  \\\n",
       "session_id                                                 570074261821414011   \n",
       "start_timestamp                                                 1542797522007   \n",
       "timezone                                                          Asia/Manila   \n",
       "timezone_offset                                                      28800000   \n",
       "previous_sessions_duration                                           32828773   \n",
       "user_created_timestamp                                          1538874289458   \n",
       "is_user_first_session                                                   false   \n",
       "country                                                                    PH   \n",
       "region                                                                     00   \n",
       "city                                                                   makati   \n",
       "latitude                                                              14.5547   \n",
       "longitude                                                             121.024   \n",
       "locale                                                                  en_GB   \n",
       "os_name                                                            Android OS   \n",
       "session_index                                                              43   \n",
       "device_id                                546a3d98-d540-4e72-ad82-9ebd64e0839b   \n",
       "user_id_hash                9943447915df3a45fd6720a026af905b6da6b56a37701b...   \n",
       "user_time                                                 2018-11-21 18:52:02   \n",
       "\n",
       "                                                                           42  \\\n",
       "session_id                                                2232039880727664337   \n",
       "start_timestamp                                                 1542271812801   \n",
       "timezone                                                          Asia/Manila   \n",
       "timezone_offset                                                      28800000   \n",
       "previous_sessions_duration                                           25994012   \n",
       "user_created_timestamp                                          1538874289458   \n",
       "is_user_first_session                                                   false   \n",
       "country                                                                    PH   \n",
       "region                                                                     00   \n",
       "city                                                                   makati   \n",
       "latitude                                                              14.5547   \n",
       "longitude                                                             121.024   \n",
       "locale                                                                  en_GB   \n",
       "os_name                                                            Android OS   \n",
       "session_index                                                              32   \n",
       "device_id                                546a3d98-d540-4e72-ad82-9ebd64e0839b   \n",
       "user_id_hash                9943447915df3a45fd6720a026af905b6da6b56a37701b...   \n",
       "user_time                                                 2018-11-15 16:50:12   \n",
       "\n",
       "                                                                           43  \\\n",
       "session_id                                                2722843010474960253   \n",
       "start_timestamp                                                 1542165385484   \n",
       "timezone                                                          Asia/Manila   \n",
       "timezone_offset                                                      28800000   \n",
       "previous_sessions_duration                                           25330049   \n",
       "user_created_timestamp                                          1538874289458   \n",
       "is_user_first_session                                                   false   \n",
       "country                                                                    PH   \n",
       "region                                                                     00   \n",
       "city                                                                   makati   \n",
       "latitude                                                              14.5547   \n",
       "longitude                                                             121.024   \n",
       "locale                                                                  en_GB   \n",
       "os_name                                                            Android OS   \n",
       "session_index                                                              29   \n",
       "device_id                                546a3d98-d540-4e72-ad82-9ebd64e0839b   \n",
       "user_id_hash                9943447915df3a45fd6720a026af905b6da6b56a37701b...   \n",
       "user_time                                                 2018-11-14 11:16:25   \n",
       "\n",
       "                                                                           44  \\\n",
       "session_id                                                6460094204686017140   \n",
       "start_timestamp                                                 1542525533146   \n",
       "timezone                                                          Asia/Manila   \n",
       "timezone_offset                                                      28800000   \n",
       "previous_sessions_duration                                           30676728   \n",
       "user_created_timestamp                                          1538874289458   \n",
       "is_user_first_session                                                   false   \n",
       "country                                                                    PH   \n",
       "region                                                                     00   \n",
       "city                                                                   makati   \n",
       "latitude                                                              14.5547   \n",
       "longitude                                                             121.024   \n",
       "locale                                                                  en_GB   \n",
       "os_name                                                            Android OS   \n",
       "session_index                                                              37   \n",
       "device_id                                546a3d98-d540-4e72-ad82-9ebd64e0839b   \n",
       "user_id_hash                9943447915df3a45fd6720a026af905b6da6b56a37701b...   \n",
       "user_time                                                 2018-11-18 15:18:53   \n",
       "\n",
       "                                                                           45  \\\n",
       "session_id                                                8475039498267991070   \n",
       "start_timestamp                                                 1541915381950   \n",
       "timezone                                                          Asia/Manila   \n",
       "timezone_offset                                                      28800000   \n",
       "previous_sessions_duration                                           17557430   \n",
       "user_created_timestamp                                          1538874289458   \n",
       "is_user_first_session                                                   false   \n",
       "country                                                                    PH   \n",
       "region                                                                     00   \n",
       "city                                                              quezon city   \n",
       "latitude                                                               14.676   \n",
       "longitude                                                             121.044   \n",
       "locale                                                                  en_GB   \n",
       "os_name                                                            Android OS   \n",
       "session_index                                                              19   \n",
       "device_id                                546a3d98-d540-4e72-ad82-9ebd64e0839b   \n",
       "user_id_hash                9943447915df3a45fd6720a026af905b6da6b56a37701b...   \n",
       "user_time                                                 2018-11-11 13:49:41   \n",
       "\n",
       "                                                                           46  \\\n",
       "session_id                                                5459292485381163406   \n",
       "start_timestamp                                                 1541980415987   \n",
       "timezone                                                          Asia/Manila   \n",
       "timezone_offset                                                      28800000   \n",
       "previous_sessions_duration                                           23253903   \n",
       "user_created_timestamp                                          1538874289458   \n",
       "is_user_first_session                                                   false   \n",
       "country                                                                    PH   \n",
       "region                                                                     11   \n",
       "city                                                               davao city   \n",
       "latitude                                                              7.19071   \n",
       "longitude                                                             125.455   \n",
       "locale                                                                  en_GB   \n",
       "os_name                                                            Android OS   \n",
       "session_index                                                              26   \n",
       "device_id                                546a3d98-d540-4e72-ad82-9ebd64e0839b   \n",
       "user_id_hash                9943447915df3a45fd6720a026af905b6da6b56a37701b...   \n",
       "user_time                                                 2018-11-12 07:53:35   \n",
       "\n",
       "                                                                           47  \n",
       "session_id                                                5226024100962698681  \n",
       "start_timestamp                                                 1541978221244  \n",
       "timezone                                                          Asia/Manila  \n",
       "timezone_offset                                                      28800000  \n",
       "previous_sessions_duration                                           23236244  \n",
       "user_created_timestamp                                          1538874289458  \n",
       "is_user_first_session                                                   false  \n",
       "country                                                                    PH  \n",
       "region                                                                     11  \n",
       "city                                                               davao city  \n",
       "latitude                                                              7.19071  \n",
       "longitude                                                             125.455  \n",
       "locale                                                                  en_GB  \n",
       "os_name                                                            Android OS  \n",
       "session_index                                                              25  \n",
       "device_id                                546a3d98-d540-4e72-ad82-9ebd64e0839b  \n",
       "user_id_hash                9943447915df3a45fd6720a026af905b6da6b56a37701b...  \n",
       "user_time                                                 2018-11-12 07:17:01  \n",
       "\n",
       "[18 rows x 48 columns]"
      ]
     },
     "execution_count": 72,
     "metadata": {},
     "output_type": "execute_result"
    }
   ],
   "source": [
    "sessions.loc[sessions.user_id_hash.cat.codes == 372255].T"
   ]
  },
  {
   "cell_type": "markdown",
   "metadata": {},
   "source": [
    "* no of device id > user id\n",
    "* do we need include lat-long "
   ]
  },
  {
   "cell_type": "code",
   "execution_count": 5,
   "metadata": {},
   "outputs": [],
   "source": [
    "sessions = pd.read_pickle('../session2.pkl')"
   ]
  },
  {
   "cell_type": "markdown",
   "metadata": {},
   "source": [
    "# Features at User level"
   ]
  },
  {
   "cell_type": "code",
   "execution_count": 6,
   "metadata": {},
   "outputs": [
    {
     "data": {
      "text/html": [
       "<div>\n",
       "<style scoped>\n",
       "    .dataframe tbody tr th:only-of-type {\n",
       "        vertical-align: middle;\n",
       "    }\n",
       "\n",
       "    .dataframe tbody tr th {\n",
       "        vertical-align: top;\n",
       "    }\n",
       "\n",
       "    .dataframe thead th {\n",
       "        text-align: right;\n",
       "    }\n",
       "</style>\n",
       "<table border=\"1\" class=\"dataframe\">\n",
       "  <thead>\n",
       "    <tr style=\"text-align: right;\">\n",
       "      <th></th>\n",
       "      <th>0</th>\n",
       "      <th>1</th>\n",
       "      <th>2</th>\n",
       "      <th>3</th>\n",
       "      <th>4</th>\n",
       "    </tr>\n",
       "  </thead>\n",
       "  <tbody>\n",
       "    <tr>\n",
       "      <th>session_id</th>\n",
       "      <td>5558845121177764917</td>\n",
       "      <td>2201961907282901522</td>\n",
       "      <td>18781111175537580</td>\n",
       "      <td>1477540082628742048</td>\n",
       "      <td>8184875317380844086</td>\n",
       "    </tr>\n",
       "    <tr>\n",
       "      <th>start_timestamp</th>\n",
       "      <td>1542215364580</td>\n",
       "      <td>1543712977293</td>\n",
       "      <td>1539215568666</td>\n",
       "      <td>1540120743010</td>\n",
       "      <td>1542671625528</td>\n",
       "    </tr>\n",
       "    <tr>\n",
       "      <th>timezone</th>\n",
       "      <td>Asia/Manila</td>\n",
       "      <td>Asia/Manila</td>\n",
       "      <td>Asia/Manila</td>\n",
       "      <td>Asia/Manila</td>\n",
       "      <td>Asia/Manila</td>\n",
       "    </tr>\n",
       "    <tr>\n",
       "      <th>timezone_offset</th>\n",
       "      <td>28800000</td>\n",
       "      <td>28800000</td>\n",
       "      <td>28800000</td>\n",
       "      <td>28800000</td>\n",
       "      <td>28800000</td>\n",
       "    </tr>\n",
       "    <tr>\n",
       "      <th>previous_sessions_duration</th>\n",
       "      <td>25837591</td>\n",
       "      <td>35050130</td>\n",
       "      <td>11343848</td>\n",
       "      <td>13499724</td>\n",
       "      <td>32788010</td>\n",
       "    </tr>\n",
       "    <tr>\n",
       "      <th>user_created_timestamp</th>\n",
       "      <td>1538874289458</td>\n",
       "      <td>1538874289458</td>\n",
       "      <td>1538874289458</td>\n",
       "      <td>1538874289458</td>\n",
       "      <td>1538874289458</td>\n",
       "    </tr>\n",
       "    <tr>\n",
       "      <th>is_user_first_session</th>\n",
       "      <td>false</td>\n",
       "      <td>false</td>\n",
       "      <td>false</td>\n",
       "      <td>false</td>\n",
       "      <td>false</td>\n",
       "    </tr>\n",
       "    <tr>\n",
       "      <th>country</th>\n",
       "      <td>PH</td>\n",
       "      <td>PH</td>\n",
       "      <td>PH</td>\n",
       "      <td>PH</td>\n",
       "      <td>PH</td>\n",
       "    </tr>\n",
       "    <tr>\n",
       "      <th>region</th>\n",
       "      <td>00</td>\n",
       "      <td>00</td>\n",
       "      <td>00</td>\n",
       "      <td>11</td>\n",
       "      <td>00</td>\n",
       "    </tr>\n",
       "    <tr>\n",
       "      <th>city</th>\n",
       "      <td>makati</td>\n",
       "      <td>quezon city</td>\n",
       "      <td>makati</td>\n",
       "      <td>davao city</td>\n",
       "      <td>makati</td>\n",
       "    </tr>\n",
       "    <tr>\n",
       "      <th>latitude</th>\n",
       "      <td>14.5547</td>\n",
       "      <td>14.676</td>\n",
       "      <td>14.5547</td>\n",
       "      <td>7.19071</td>\n",
       "      <td>14.5547</td>\n",
       "    </tr>\n",
       "    <tr>\n",
       "      <th>longitude</th>\n",
       "      <td>121.024</td>\n",
       "      <td>121.044</td>\n",
       "      <td>121.024</td>\n",
       "      <td>125.455</td>\n",
       "      <td>121.024</td>\n",
       "    </tr>\n",
       "    <tr>\n",
       "      <th>locale</th>\n",
       "      <td>en_GB</td>\n",
       "      <td>en_GB</td>\n",
       "      <td>en_GB</td>\n",
       "      <td>en_GB</td>\n",
       "      <td>en_GB</td>\n",
       "    </tr>\n",
       "    <tr>\n",
       "      <th>os_name</th>\n",
       "      <td>Android OS</td>\n",
       "      <td>Android OS</td>\n",
       "      <td>Android OS</td>\n",
       "      <td>Android OS</td>\n",
       "      <td>Android OS</td>\n",
       "    </tr>\n",
       "    <tr>\n",
       "      <th>session_index</th>\n",
       "      <td>30</td>\n",
       "      <td>47</td>\n",
       "      <td>10</td>\n",
       "      <td>13</td>\n",
       "      <td>41</td>\n",
       "    </tr>\n",
       "    <tr>\n",
       "      <th>device_id</th>\n",
       "      <td>546a3d98-d540-4e72-ad82-9ebd64e0839b</td>\n",
       "      <td>546a3d98-d540-4e72-ad82-9ebd64e0839b</td>\n",
       "      <td>546a3d98-d540-4e72-ad82-9ebd64e0839b</td>\n",
       "      <td>546a3d98-d540-4e72-ad82-9ebd64e0839b</td>\n",
       "      <td>546a3d98-d540-4e72-ad82-9ebd64e0839b</td>\n",
       "    </tr>\n",
       "    <tr>\n",
       "      <th>user_id_hash</th>\n",
       "      <td>9943447915df3a45fd6720a026af905b6da6b56a37701b...</td>\n",
       "      <td>9943447915df3a45fd6720a026af905b6da6b56a37701b...</td>\n",
       "      <td>9943447915df3a45fd6720a026af905b6da6b56a37701b...</td>\n",
       "      <td>9943447915df3a45fd6720a026af905b6da6b56a37701b...</td>\n",
       "      <td>9943447915df3a45fd6720a026af905b6da6b56a37701b...</td>\n",
       "    </tr>\n",
       "    <tr>\n",
       "      <th>user_time</th>\n",
       "      <td>2018-11-15 01:09:24</td>\n",
       "      <td>2018-12-02 09:09:37</td>\n",
       "      <td>2018-10-11 07:52:48</td>\n",
       "      <td>2018-10-21 19:19:03</td>\n",
       "      <td>2018-11-20 07:53:45</td>\n",
       "    </tr>\n",
       "  </tbody>\n",
       "</table>\n",
       "</div>"
      ],
      "text/plain": [
       "                                                                            0  \\\n",
       "session_id                                                5558845121177764917   \n",
       "start_timestamp                                                 1542215364580   \n",
       "timezone                                                          Asia/Manila   \n",
       "timezone_offset                                                      28800000   \n",
       "previous_sessions_duration                                           25837591   \n",
       "user_created_timestamp                                          1538874289458   \n",
       "is_user_first_session                                                   false   \n",
       "country                                                                    PH   \n",
       "region                                                                     00   \n",
       "city                                                                   makati   \n",
       "latitude                                                              14.5547   \n",
       "longitude                                                             121.024   \n",
       "locale                                                                  en_GB   \n",
       "os_name                                                            Android OS   \n",
       "session_index                                                              30   \n",
       "device_id                                546a3d98-d540-4e72-ad82-9ebd64e0839b   \n",
       "user_id_hash                9943447915df3a45fd6720a026af905b6da6b56a37701b...   \n",
       "user_time                                                 2018-11-15 01:09:24   \n",
       "\n",
       "                                                                            1  \\\n",
       "session_id                                                2201961907282901522   \n",
       "start_timestamp                                                 1543712977293   \n",
       "timezone                                                          Asia/Manila   \n",
       "timezone_offset                                                      28800000   \n",
       "previous_sessions_duration                                           35050130   \n",
       "user_created_timestamp                                          1538874289458   \n",
       "is_user_first_session                                                   false   \n",
       "country                                                                    PH   \n",
       "region                                                                     00   \n",
       "city                                                              quezon city   \n",
       "latitude                                                               14.676   \n",
       "longitude                                                             121.044   \n",
       "locale                                                                  en_GB   \n",
       "os_name                                                            Android OS   \n",
       "session_index                                                              47   \n",
       "device_id                                546a3d98-d540-4e72-ad82-9ebd64e0839b   \n",
       "user_id_hash                9943447915df3a45fd6720a026af905b6da6b56a37701b...   \n",
       "user_time                                                 2018-12-02 09:09:37   \n",
       "\n",
       "                                                                            2  \\\n",
       "session_id                                                  18781111175537580   \n",
       "start_timestamp                                                 1539215568666   \n",
       "timezone                                                          Asia/Manila   \n",
       "timezone_offset                                                      28800000   \n",
       "previous_sessions_duration                                           11343848   \n",
       "user_created_timestamp                                          1538874289458   \n",
       "is_user_first_session                                                   false   \n",
       "country                                                                    PH   \n",
       "region                                                                     00   \n",
       "city                                                                   makati   \n",
       "latitude                                                              14.5547   \n",
       "longitude                                                             121.024   \n",
       "locale                                                                  en_GB   \n",
       "os_name                                                            Android OS   \n",
       "session_index                                                              10   \n",
       "device_id                                546a3d98-d540-4e72-ad82-9ebd64e0839b   \n",
       "user_id_hash                9943447915df3a45fd6720a026af905b6da6b56a37701b...   \n",
       "user_time                                                 2018-10-11 07:52:48   \n",
       "\n",
       "                                                                            3  \\\n",
       "session_id                                                1477540082628742048   \n",
       "start_timestamp                                                 1540120743010   \n",
       "timezone                                                          Asia/Manila   \n",
       "timezone_offset                                                      28800000   \n",
       "previous_sessions_duration                                           13499724   \n",
       "user_created_timestamp                                          1538874289458   \n",
       "is_user_first_session                                                   false   \n",
       "country                                                                    PH   \n",
       "region                                                                     11   \n",
       "city                                                               davao city   \n",
       "latitude                                                              7.19071   \n",
       "longitude                                                             125.455   \n",
       "locale                                                                  en_GB   \n",
       "os_name                                                            Android OS   \n",
       "session_index                                                              13   \n",
       "device_id                                546a3d98-d540-4e72-ad82-9ebd64e0839b   \n",
       "user_id_hash                9943447915df3a45fd6720a026af905b6da6b56a37701b...   \n",
       "user_time                                                 2018-10-21 19:19:03   \n",
       "\n",
       "                                                                            4  \n",
       "session_id                                                8184875317380844086  \n",
       "start_timestamp                                                 1542671625528  \n",
       "timezone                                                          Asia/Manila  \n",
       "timezone_offset                                                      28800000  \n",
       "previous_sessions_duration                                           32788010  \n",
       "user_created_timestamp                                          1538874289458  \n",
       "is_user_first_session                                                   false  \n",
       "country                                                                    PH  \n",
       "region                                                                     00  \n",
       "city                                                                   makati  \n",
       "latitude                                                              14.5547  \n",
       "longitude                                                             121.024  \n",
       "locale                                                                  en_GB  \n",
       "os_name                                                            Android OS  \n",
       "session_index                                                              41  \n",
       "device_id                                546a3d98-d540-4e72-ad82-9ebd64e0839b  \n",
       "user_id_hash                9943447915df3a45fd6720a026af905b6da6b56a37701b...  \n",
       "user_time                                                 2018-11-20 07:53:45  "
      ]
     },
     "execution_count": 6,
     "metadata": {},
     "output_type": "execute_result"
    }
   ],
   "source": [
    "sessions.head().T"
   ]
  },
  {
   "cell_type": "markdown",
   "metadata": {
    "heading_collapsed": true
   },
   "source": [
    "## divide by week subset"
   ]
  },
  {
   "cell_type": "markdown",
   "metadata": {
    "hidden": true
   },
   "source": [
    "* Number of sessions in a week (min - max of session_index)\n",
    "* did the user have first session this week ?\n",
    "* number of locations this week\n",
    "* median location this week\n",
    "* median timezone this week\n",
    "* median (country, region, city, locale, os)\n",
    "* how old is the user at the end of the week"
   ]
  },
  {
   "cell_type": "code",
   "execution_count": 9,
   "metadata": {
    "hidden": true
   },
   "outputs": [],
   "source": [
    "sessions['system_time'] = sessions.start_timestamp.apply(lambda x: to_dt(x))"
   ]
  },
  {
   "cell_type": "code",
   "execution_count": 61,
   "metadata": {
    "hidden": true
   },
   "outputs": [],
   "source": [
    "sessions_sub = sessions[:1000]"
   ]
  },
  {
   "cell_type": "code",
   "execution_count": 11,
   "metadata": {
    "hidden": true
   },
   "outputs": [
    {
     "data": {
      "text/plain": [
       "Timestamp('2018-10-01 07:00:04')"
      ]
     },
     "execution_count": 11,
     "metadata": {},
     "output_type": "execute_result"
    }
   ],
   "source": [
    "sessions.system_time.min()"
   ]
  },
  {
   "cell_type": "code",
   "execution_count": 12,
   "metadata": {
    "hidden": true
   },
   "outputs": [
    {
     "data": {
      "text/plain": [
       "Timestamp('2018-12-14 23:59:59')"
      ]
     },
     "execution_count": 12,
     "metadata": {},
     "output_type": "execute_result"
    }
   ],
   "source": [
    "sessions.system_time.max()"
   ]
  },
  {
   "cell_type": "code",
   "execution_count": 17,
   "metadata": {
    "hidden": true
   },
   "outputs": [
    {
     "data": {
      "text/plain": [
       "Timestamp('2018-10-01 07:42:55')"
      ]
     },
     "execution_count": 17,
     "metadata": {},
     "output_type": "execute_result"
    }
   ],
   "source": [
    "sessions_sub.system_time.min()"
   ]
  },
  {
   "cell_type": "code",
   "execution_count": 18,
   "metadata": {
    "hidden": true
   },
   "outputs": [
    {
     "data": {
      "text/plain": [
       "Timestamp('2018-12-14 23:49:12')"
      ]
     },
     "execution_count": 18,
     "metadata": {},
     "output_type": "execute_result"
    }
   ],
   "source": [
    "sessions_sub.system_time.max()"
   ]
  },
  {
   "cell_type": "code",
   "execution_count": 22,
   "metadata": {
    "hidden": true
   },
   "outputs": [],
   "source": [
    "sessions_sub.set_index('system_time', inplace=True)"
   ]
  },
  {
   "cell_type": "code",
   "execution_count": 31,
   "metadata": {
    "hidden": true
   },
   "outputs": [
    {
     "data": {
      "text/plain": [
       "<matplotlib.axes._subplots.AxesSubplot at 0x7f8927721278>"
      ]
     },
     "execution_count": 31,
     "metadata": {},
     "output_type": "execute_result"
    },
    {
     "data": {
      "image/png": "[encoded data removed]",
      "text/plain": [
       "<Figure size 1152x432 with 1 Axes>"
      ]
     },
     "metadata": {},
     "output_type": "display_data"
    }
   ],
   "source": [
    "sessions_sub.session_id.resample(rule='1D').count().plot()"
   ]
  },
  {
   "cell_type": "code",
   "execution_count": 33,
   "metadata": {
    "hidden": true
   },
   "outputs": [],
   "source": [
    "sessions.set_index('system_time', inplace=True)"
   ]
  },
  {
   "cell_type": "code",
   "execution_count": 55,
   "metadata": {
    "hidden": true
   },
   "outputs": [],
   "source": [
    "base = sessions.index.min().date()\n",
    "date_list = [base + dt.timedelta(days=x) for x in range(0, 76)]"
   ]
  },
  {
   "cell_type": "code",
   "execution_count": 56,
   "metadata": {
    "hidden": true
   },
   "outputs": [
    {
     "data": {
      "text/plain": [
       "datetime.date(2018, 12, 15)"
      ]
     },
     "execution_count": 56,
     "metadata": {},
     "output_type": "execute_result"
    }
   ],
   "source": [
    "date_list[-1]"
   ]
  },
  {
   "cell_type": "code",
   "execution_count": 57,
   "metadata": {
    "hidden": true
   },
   "outputs": [],
   "source": [
    "sunday_list = [f for f in date_list if f.weekday() == 6]"
   ]
  },
  {
   "cell_type": "code",
   "execution_count": 58,
   "metadata": {
    "hidden": true
   },
   "outputs": [
    {
     "data": {
      "text/plain": [
       "[datetime.date(2018, 10, 7),\n",
       " datetime.date(2018, 10, 14),\n",
       " datetime.date(2018, 10, 21),\n",
       " datetime.date(2018, 10, 28),\n",
       " datetime.date(2018, 11, 4),\n",
       " datetime.date(2018, 11, 11),\n",
       " datetime.date(2018, 11, 18),\n",
       " datetime.date(2018, 11, 25),\n",
       " datetime.date(2018, 12, 2),\n",
       " datetime.date(2018, 12, 9)]"
      ]
     },
     "execution_count": 58,
     "metadata": {},
     "output_type": "execute_result"
    }
   ],
   "source": [
    "sunday_list"
   ]
  },
  {
   "cell_type": "code",
   "execution_count": 59,
   "metadata": {
    "hidden": true
   },
   "outputs": [
    {
     "data": {
      "image/png": "[encoded data removed]",
      "text/plain": [
       "<Figure size 1152x432 with 1 Axes>"
      ]
     },
     "metadata": {},
     "output_type": "display_data"
    }
   ],
   "source": [
    "sessions.session_id.resample(rule='1D').count().plot()\n",
    "for d in sunday_list:\n",
    "    plt.vlines(x=d, ymin=0, ymax=100000)"
   ]
  },
  {
   "cell_type": "markdown",
   "metadata": {
    "heading_collapsed": true
   },
   "source": [
    "# subsample"
   ]
  },
  {
   "cell_type": "code",
   "execution_count": 58,
   "metadata": {
    "hidden": true
   },
   "outputs": [],
   "source": [
    "import datetime as dt"
   ]
  },
  {
   "cell_type": "code",
   "execution_count": 59,
   "metadata": {
    "hidden": true
   },
   "outputs": [],
   "source": [
    "def to_dt(x):\n",
    "    return dt.datetime.fromtimestamp(int(x/1000))"
   ]
  },
  {
   "cell_type": "code",
   "execution_count": 6,
   "metadata": {
    "ExecuteTime": {
     "end_time": "2019-02-18T18:16:08.881974Z",
     "start_time": "2019-02-18T18:16:05.094647Z"
    },
    "hidden": true
   },
   "outputs": [],
   "source": [
    "sessions_sub = sessions[:1000].copy()"
   ]
  },
  {
   "cell_type": "code",
   "execution_count": 61,
   "metadata": {
    "hidden": true
   },
   "outputs": [
    {
     "data": {
      "text/plain": [
       "(1000, 18)"
      ]
     },
     "execution_count": 61,
     "metadata": {},
     "output_type": "execute_result"
    }
   ],
   "source": [
    "sessions_sub.shape"
   ]
  },
  {
   "cell_type": "code",
   "execution_count": 62,
   "metadata": {
    "hidden": true
   },
   "outputs": [],
   "source": [
    "sessions_sub['system_time'] = sessions_sub.start_timestamp.apply(lambda x: to_dt(x))"
   ]
  },
  {
   "cell_type": "code",
   "execution_count": 69,
   "metadata": {
    "hidden": true
   },
   "outputs": [],
   "source": [
    "# sessions_sub.reset_index(inplace=True)"
   ]
  },
  {
   "cell_type": "code",
   "execution_count": 63,
   "metadata": {
    "hidden": true
   },
   "outputs": [],
   "source": [
    "sessions_sub['week_start'] = sessions_sub.system_time.dt.to_period('W').apply(lambda r: r.start_time)"
   ]
  },
  {
   "cell_type": "code",
   "execution_count": 64,
   "metadata": {
    "hidden": true
   },
   "outputs": [
    {
     "data": {
      "text/plain": [
       "session_id                          category\n",
       "start_timestamp                        int64\n",
       "timezone                            category\n",
       "timezone_offset                     category\n",
       "previous_sessions_duration             int64\n",
       "user_created_timestamp                 int64\n",
       "is_user_first_session               category\n",
       "country                             category\n",
       "region                              category\n",
       "city                                category\n",
       "latitude                             float64\n",
       "longitude                            float64\n",
       "locale                              category\n",
       "os_name                             category\n",
       "session_index                       category\n",
       "device_id                           category\n",
       "user_id_hash                        category\n",
       "user_time                     datetime64[ns]\n",
       "system_time                   datetime64[ns]\n",
       "week_start                    datetime64[ns]\n",
       "dtype: object"
      ]
     },
     "execution_count": 64,
     "metadata": {},
     "output_type": "execute_result"
    }
   ],
   "source": [
    "sessions_sub.dtypes"
   ]
  },
  {
   "cell_type": "code",
   "execution_count": 65,
   "metadata": {
    "hidden": true
   },
   "outputs": [],
   "source": [
    "sessions_sub.user_id_hash = sessions_sub.user_id_hash.astype('object')"
   ]
  },
  {
   "cell_type": "code",
   "execution_count": 66,
   "metadata": {
    "hidden": true
   },
   "outputs": [
    {
     "data": {
      "text/plain": [
       "(65,)"
      ]
     },
     "execution_count": 66,
     "metadata": {},
     "output_type": "execute_result"
    }
   ],
   "source": [
    "sessions_sub.user_id_hash.unique().shape"
   ]
  },
  {
   "cell_type": "code",
   "execution_count": 72,
   "metadata": {
    "hidden": true
   },
   "outputs": [],
   "source": [
    "sessions_sub.session_index = sessions_sub.session_index.astype(np.int)"
   ]
  },
  {
   "cell_type": "code",
   "execution_count": 85,
   "metadata": {
    "hidden": true
   },
   "outputs": [],
   "source": [
    "sessions_sub.is_user_first_session = \\\n",
    "    sessions_sub.is_user_first_session.apply(lambda x: True if x == 'true' else False)"
   ]
  },
  {
   "cell_type": "code",
   "execution_count": 95,
   "metadata": {
    "hidden": true
   },
   "outputs": [],
   "source": [
    "sessions_sub.is_user_first_session = sessions_sub.is_user_first_session.astype(bool)"
   ]
  },
  {
   "cell_type": "code",
   "execution_count": 140,
   "metadata": {
    "hidden": true
   },
   "outputs": [],
   "source": [
    "sessions_sub['user_days'] = sessions_sub.user_time.dt.date"
   ]
  },
  {
   "cell_type": "code",
   "execution_count": 96,
   "metadata": {
    "hidden": true
   },
   "outputs": [
    {
     "data": {
      "text/html": [
       "<div>\n",
       "<style scoped>\n",
       "    .dataframe tbody tr th:only-of-type {\n",
       "        vertical-align: middle;\n",
       "    }\n",
       "\n",
       "    .dataframe tbody tr th {\n",
       "        vertical-align: top;\n",
       "    }\n",
       "\n",
       "    .dataframe thead th {\n",
       "        text-align: right;\n",
       "    }\n",
       "</style>\n",
       "<table border=\"1\" class=\"dataframe\">\n",
       "  <thead>\n",
       "    <tr style=\"text-align: right;\">\n",
       "      <th></th>\n",
       "      <th>0</th>\n",
       "      <th>1</th>\n",
       "      <th>2</th>\n",
       "      <th>3</th>\n",
       "      <th>4</th>\n",
       "    </tr>\n",
       "  </thead>\n",
       "  <tbody>\n",
       "    <tr>\n",
       "      <th>session_id</th>\n",
       "      <td>5558845121177764917</td>\n",
       "      <td>2201961907282901522</td>\n",
       "      <td>18781111175537580</td>\n",
       "      <td>1477540082628742048</td>\n",
       "      <td>8184875317380844086</td>\n",
       "    </tr>\n",
       "    <tr>\n",
       "      <th>start_timestamp</th>\n",
       "      <td>1542215364580</td>\n",
       "      <td>1543712977293</td>\n",
       "      <td>1539215568666</td>\n",
       "      <td>1540120743010</td>\n",
       "      <td>1542671625528</td>\n",
       "    </tr>\n",
       "    <tr>\n",
       "      <th>timezone</th>\n",
       "      <td>Asia/Manila</td>\n",
       "      <td>Asia/Manila</td>\n",
       "      <td>Asia/Manila</td>\n",
       "      <td>Asia/Manila</td>\n",
       "      <td>Asia/Manila</td>\n",
       "    </tr>\n",
       "    <tr>\n",
       "      <th>timezone_offset</th>\n",
       "      <td>28800000</td>\n",
       "      <td>28800000</td>\n",
       "      <td>28800000</td>\n",
       "      <td>28800000</td>\n",
       "      <td>28800000</td>\n",
       "    </tr>\n",
       "    <tr>\n",
       "      <th>previous_sessions_duration</th>\n",
       "      <td>25837591</td>\n",
       "      <td>35050130</td>\n",
       "      <td>11343848</td>\n",
       "      <td>13499724</td>\n",
       "      <td>32788010</td>\n",
       "    </tr>\n",
       "    <tr>\n",
       "      <th>user_created_timestamp</th>\n",
       "      <td>1538874289458</td>\n",
       "      <td>1538874289458</td>\n",
       "      <td>1538874289458</td>\n",
       "      <td>1538874289458</td>\n",
       "      <td>1538874289458</td>\n",
       "    </tr>\n",
       "    <tr>\n",
       "      <th>is_user_first_session</th>\n",
       "      <td>False</td>\n",
       "      <td>False</td>\n",
       "      <td>False</td>\n",
       "      <td>False</td>\n",
       "      <td>False</td>\n",
       "    </tr>\n",
       "    <tr>\n",
       "      <th>country</th>\n",
       "      <td>PH</td>\n",
       "      <td>PH</td>\n",
       "      <td>PH</td>\n",
       "      <td>PH</td>\n",
       "      <td>PH</td>\n",
       "    </tr>\n",
       "    <tr>\n",
       "      <th>region</th>\n",
       "      <td>00</td>\n",
       "      <td>00</td>\n",
       "      <td>00</td>\n",
       "      <td>11</td>\n",
       "      <td>00</td>\n",
       "    </tr>\n",
       "    <tr>\n",
       "      <th>city</th>\n",
       "      <td>makati</td>\n",
       "      <td>quezon city</td>\n",
       "      <td>makati</td>\n",
       "      <td>davao city</td>\n",
       "      <td>makati</td>\n",
       "    </tr>\n",
       "    <tr>\n",
       "      <th>latitude</th>\n",
       "      <td>14.5547</td>\n",
       "      <td>14.676</td>\n",
       "      <td>14.5547</td>\n",
       "      <td>7.19071</td>\n",
       "      <td>14.5547</td>\n",
       "    </tr>\n",
       "    <tr>\n",
       "      <th>longitude</th>\n",
       "      <td>121.024</td>\n",
       "      <td>121.044</td>\n",
       "      <td>121.024</td>\n",
       "      <td>125.455</td>\n",
       "      <td>121.024</td>\n",
       "    </tr>\n",
       "    <tr>\n",
       "      <th>locale</th>\n",
       "      <td>en_GB</td>\n",
       "      <td>en_GB</td>\n",
       "      <td>en_GB</td>\n",
       "      <td>en_GB</td>\n",
       "      <td>en_GB</td>\n",
       "    </tr>\n",
       "    <tr>\n",
       "      <th>os_name</th>\n",
       "      <td>Android OS</td>\n",
       "      <td>Android OS</td>\n",
       "      <td>Android OS</td>\n",
       "      <td>Android OS</td>\n",
       "      <td>Android OS</td>\n",
       "    </tr>\n",
       "    <tr>\n",
       "      <th>session_index</th>\n",
       "      <td>30</td>\n",
       "      <td>47</td>\n",
       "      <td>10</td>\n",
       "      <td>13</td>\n",
       "      <td>41</td>\n",
       "    </tr>\n",
       "    <tr>\n",
       "      <th>device_id</th>\n",
       "      <td>546a3d98-d540-4e72-ad82-9ebd64e0839b</td>\n",
       "      <td>546a3d98-d540-4e72-ad82-9ebd64e0839b</td>\n",
       "      <td>546a3d98-d540-4e72-ad82-9ebd64e0839b</td>\n",
       "      <td>546a3d98-d540-4e72-ad82-9ebd64e0839b</td>\n",
       "      <td>546a3d98-d540-4e72-ad82-9ebd64e0839b</td>\n",
       "    </tr>\n",
       "    <tr>\n",
       "      <th>user_id_hash</th>\n",
       "      <td>9943447915df3a45fd6720a026af905b6da6b56a37701b...</td>\n",
       "      <td>9943447915df3a45fd6720a026af905b6da6b56a37701b...</td>\n",
       "      <td>9943447915df3a45fd6720a026af905b6da6b56a37701b...</td>\n",
       "      <td>9943447915df3a45fd6720a026af905b6da6b56a37701b...</td>\n",
       "      <td>9943447915df3a45fd6720a026af905b6da6b56a37701b...</td>\n",
       "    </tr>\n",
       "    <tr>\n",
       "      <th>user_time</th>\n",
       "      <td>2018-11-15 01:09:24</td>\n",
       "      <td>2018-12-02 09:09:37</td>\n",
       "      <td>2018-10-11 07:52:48</td>\n",
       "      <td>2018-10-21 19:19:03</td>\n",
       "      <td>2018-11-20 07:53:45</td>\n",
       "    </tr>\n",
       "    <tr>\n",
       "      <th>system_time</th>\n",
       "      <td>2018-11-14 17:09:24</td>\n",
       "      <td>2018-12-02 01:09:37</td>\n",
       "      <td>2018-10-10 23:52:48</td>\n",
       "      <td>2018-10-21 11:19:03</td>\n",
       "      <td>2018-11-19 23:53:45</td>\n",
       "    </tr>\n",
       "    <tr>\n",
       "      <th>week_start</th>\n",
       "      <td>2018-11-12 00:00:00</td>\n",
       "      <td>2018-11-26 00:00:00</td>\n",
       "      <td>2018-10-08 00:00:00</td>\n",
       "      <td>2018-10-15 00:00:00</td>\n",
       "      <td>2018-11-19 00:00:00</td>\n",
       "    </tr>\n",
       "  </tbody>\n",
       "</table>\n",
       "</div>"
      ],
      "text/plain": [
       "                                                                            0  \\\n",
       "session_id                                                5558845121177764917   \n",
       "start_timestamp                                                 1542215364580   \n",
       "timezone                                                          Asia/Manila   \n",
       "timezone_offset                                                      28800000   \n",
       "previous_sessions_duration                                           25837591   \n",
       "user_created_timestamp                                          1538874289458   \n",
       "is_user_first_session                                                   False   \n",
       "country                                                                    PH   \n",
       "region                                                                     00   \n",
       "city                                                                   makati   \n",
       "latitude                                                              14.5547   \n",
       "longitude                                                             121.024   \n",
       "locale                                                                  en_GB   \n",
       "os_name                                                            Android OS   \n",
       "session_index                                                              30   \n",
       "device_id                                546a3d98-d540-4e72-ad82-9ebd64e0839b   \n",
       "user_id_hash                9943447915df3a45fd6720a026af905b6da6b56a37701b...   \n",
       "user_time                                                 2018-11-15 01:09:24   \n",
       "system_time                                               2018-11-14 17:09:24   \n",
       "week_start                                                2018-11-12 00:00:00   \n",
       "\n",
       "                                                                            1  \\\n",
       "session_id                                                2201961907282901522   \n",
       "start_timestamp                                                 1543712977293   \n",
       "timezone                                                          Asia/Manila   \n",
       "timezone_offset                                                      28800000   \n",
       "previous_sessions_duration                                           35050130   \n",
       "user_created_timestamp                                          1538874289458   \n",
       "is_user_first_session                                                   False   \n",
       "country                                                                    PH   \n",
       "region                                                                     00   \n",
       "city                                                              quezon city   \n",
       "latitude                                                               14.676   \n",
       "longitude                                                             121.044   \n",
       "locale                                                                  en_GB   \n",
       "os_name                                                            Android OS   \n",
       "session_index                                                              47   \n",
       "device_id                                546a3d98-d540-4e72-ad82-9ebd64e0839b   \n",
       "user_id_hash                9943447915df3a45fd6720a026af905b6da6b56a37701b...   \n",
       "user_time                                                 2018-12-02 09:09:37   \n",
       "system_time                                               2018-12-02 01:09:37   \n",
       "week_start                                                2018-11-26 00:00:00   \n",
       "\n",
       "                                                                            2  \\\n",
       "session_id                                                  18781111175537580   \n",
       "start_timestamp                                                 1539215568666   \n",
       "timezone                                                          Asia/Manila   \n",
       "timezone_offset                                                      28800000   \n",
       "previous_sessions_duration                                           11343848   \n",
       "user_created_timestamp                                          1538874289458   \n",
       "is_user_first_session                                                   False   \n",
       "country                                                                    PH   \n",
       "region                                                                     00   \n",
       "city                                                                   makati   \n",
       "latitude                                                              14.5547   \n",
       "longitude                                                             121.024   \n",
       "locale                                                                  en_GB   \n",
       "os_name                                                            Android OS   \n",
       "session_index                                                              10   \n",
       "device_id                                546a3d98-d540-4e72-ad82-9ebd64e0839b   \n",
       "user_id_hash                9943447915df3a45fd6720a026af905b6da6b56a37701b...   \n",
       "user_time                                                 2018-10-11 07:52:48   \n",
       "system_time                                               2018-10-10 23:52:48   \n",
       "week_start                                                2018-10-08 00:00:00   \n",
       "\n",
       "                                                                            3  \\\n",
       "session_id                                                1477540082628742048   \n",
       "start_timestamp                                                 1540120743010   \n",
       "timezone                                                          Asia/Manila   \n",
       "timezone_offset                                                      28800000   \n",
       "previous_sessions_duration                                           13499724   \n",
       "user_created_timestamp                                          1538874289458   \n",
       "is_user_first_session                                                   False   \n",
       "country                                                                    PH   \n",
       "region                                                                     11   \n",
       "city                                                               davao city   \n",
       "latitude                                                              7.19071   \n",
       "longitude                                                             125.455   \n",
       "locale                                                                  en_GB   \n",
       "os_name                                                            Android OS   \n",
       "session_index                                                              13   \n",
       "device_id                                546a3d98-d540-4e72-ad82-9ebd64e0839b   \n",
       "user_id_hash                9943447915df3a45fd6720a026af905b6da6b56a37701b...   \n",
       "user_time                                                 2018-10-21 19:19:03   \n",
       "system_time                                               2018-10-21 11:19:03   \n",
       "week_start                                                2018-10-15 00:00:00   \n",
       "\n",
       "                                                                            4  \n",
       "session_id                                                8184875317380844086  \n",
       "start_timestamp                                                 1542671625528  \n",
       "timezone                                                          Asia/Manila  \n",
       "timezone_offset                                                      28800000  \n",
       "previous_sessions_duration                                           32788010  \n",
       "user_created_timestamp                                          1538874289458  \n",
       "is_user_first_session                                                   False  \n",
       "country                                                                    PH  \n",
       "region                                                                     00  \n",
       "city                                                                   makati  \n",
       "latitude                                                              14.5547  \n",
       "longitude                                                             121.024  \n",
       "locale                                                                  en_GB  \n",
       "os_name                                                            Android OS  \n",
       "session_index                                                              41  \n",
       "device_id                                546a3d98-d540-4e72-ad82-9ebd64e0839b  \n",
       "user_id_hash                9943447915df3a45fd6720a026af905b6da6b56a37701b...  \n",
       "user_time                                                 2018-11-20 07:53:45  \n",
       "system_time                                               2018-11-19 23:53:45  \n",
       "week_start                                                2018-11-19 00:00:00  "
      ]
     },
     "execution_count": 96,
     "metadata": {},
     "output_type": "execute_result"
    }
   ],
   "source": [
    "sessions_sub.head().T"
   ]
  },
  {
   "cell_type": "markdown",
   "metadata": {
    "heading_collapsed": true,
    "hidden": true
   },
   "source": [
    "## divide by week subset"
   ]
  },
  {
   "cell_type": "markdown",
   "metadata": {
    "hidden": true
   },
   "source": [
    "* Number of sessions in a week (min - max of session_index)\n",
    "* did the user have first session this week ?\n",
    "* number of locations this week\n",
    "* median location this week\n",
    "* median timezone this week\n",
    "* median (country, region, city, locale, os)\n",
    "* how old is the user at the end of the week"
   ]
  },
  {
   "cell_type": "code",
   "execution_count": 155,
   "metadata": {
    "hidden": true
   },
   "outputs": [],
   "source": [
    "grpby_obj = sessions_sub.groupby(['week_start', 'user_id_hash'])"
   ]
  },
  {
   "cell_type": "code",
   "execution_count": 7,
   "metadata": {
    "ExecuteTime": {
     "end_time": "2019-02-18T18:16:43.803998Z",
     "start_time": "2019-02-18T18:16:43.791364Z"
    },
    "hidden": true
   },
   "outputs": [],
   "source": [
    "def weekly_aggregate(df):\n",
    "    grp_cols = ['week_start', 'user_id_hash']\n",
    "    grpby_obj = df.groupby(grp_cols)\n",
    "    # number of sessions\n",
    "    temp = grpby_obj.session_id.count().to_frame().reset_index().\\\n",
    "                rename(columns={'session_id': 'no_sessions'})\n",
    "    # median city\n",
    "    temp1 = grpby_obj.city.agg(lambda x: x.value_counts().index[0]\n",
    "                               ).to_frame().reset_index()\n",
    "    # is user's first week\n",
    "    temp2 = grpby_obj.is_user_first_session.max().to_frame().reset_index()\n",
    "    # median country\n",
    "    temp3 = grpby_obj.country.agg(lambda x: x.value_counts().index[0]\n",
    "                                  ).to_frame().reset_index()\n",
    "    # no of country\n",
    "    temp4 = grpby_obj.country.agg(lambda x: x.unique().shape[0]\n",
    "                                  ).to_frame().reset_index().\\\n",
    "                        rename(columns={'country': 'country_count'})\n",
    "    # median region\n",
    "    temp5 = grpby_obj.region.agg(lambda x: x.value_counts().index[0]\n",
    "                                 ).to_frame().reset_index()\n",
    "    # no of region\n",
    "    temp6 = grpby_obj.region.agg(lambda x: x.unique().shape[0]\n",
    "                                  ).to_frame().reset_index().\\\n",
    "                        rename(columns={'region': 'region_count'})\n",
    "    # median locale\n",
    "    temp7 = grpby_obj.locale.agg(lambda x: x.value_counts().index[0]\n",
    "                                 ).to_frame().reset_index()\n",
    "    # median os_name\n",
    "    temp8 = grpby_obj.os_name.agg(lambda x: x.value_counts().index[0]\n",
    "                                  ).to_frame().reset_index()\n",
    "    # no of days active\n",
    "    temp9 = grpby_obj.user_days.agg(lambda x: x.unique().shape[0]).\\\n",
    "                to_frame().reset_index()\n",
    "    # agg session time\n",
    "    temp10 = grpby_obj.previous_sessions_duration.sum().\\\n",
    "                    to_frame().reset_index().\\\n",
    "                    rename(columns={'previous_sessions_duration': 'total_session_time'})\n",
    "    # mean session time\n",
    "    temp11 = grpby_obj.previous_sessions_duration.mean().\\\n",
    "                to_frame().reset_index().\\\n",
    "                rename(columns={'previous_sessions_duration': 'mean_session_time'})\n",
    "\n",
    "    for i in range(1, 12):\n",
    "        temp = temp.merge(locals()[f'temp{i}'], \n",
    "                          on=grp_cols)\n",
    "    return temp"
   ]
  },
  {
   "cell_type": "code",
   "execution_count": 11,
   "metadata": {
    "ExecuteTime": {
     "end_time": "2019-02-18T18:17:36.335705Z",
     "start_time": "2019-02-18T18:17:36.330170Z"
    },
    "hidden": true
   },
   "outputs": [],
   "source": [
    "sessions_sub = sessions[:10000].copy()"
   ]
  },
  {
   "cell_type": "code",
   "execution_count": 12,
   "metadata": {
    "ExecuteTime": {
     "end_time": "2019-02-18T18:17:56.551329Z",
     "start_time": "2019-02-18T18:17:36.974685Z"
    },
    "hidden": true,
    "scrolled": false
   },
   "outputs": [],
   "source": [
    "result = weekly_aggregate(sessions_sub)"
   ]
  },
  {
   "cell_type": "code",
   "execution_count": 13,
   "metadata": {
    "ExecuteTime": {
     "end_time": "2019-02-18T18:18:01.953132Z",
     "start_time": "2019-02-18T18:18:01.948953Z"
    },
    "hidden": true
   },
   "outputs": [
    {
     "data": {
      "text/plain": [
       "(1945, 14)"
      ]
     },
     "execution_count": 13,
     "metadata": {},
     "output_type": "execute_result"
    }
   ],
   "source": [
    "result.shape"
   ]
  },
  {
   "cell_type": "code",
   "execution_count": 15,
   "metadata": {
    "ExecuteTime": {
     "end_time": "2019-02-18T18:19:20.955472Z",
     "start_time": "2019-02-18T18:19:20.952304Z"
    },
    "hidden": true
   },
   "outputs": [],
   "source": [
    "split_dates = ['2018-10-01', '2018-10-08', '2018-10-15','2018-10-22',\n",
    "               '2018-10-29', '2018-11-05', '2018-11-12', '2018-11-19',\n",
    "               '2018-11-26', '2018-12-03', '2018-12-10', '2018-12-18']"
   ]
  },
  {
   "cell_type": "code",
   "execution_count": 16,
   "metadata": {
    "ExecuteTime": {
     "end_time": "2019-02-18T18:20:30.146847Z",
     "start_time": "2019-02-18T18:20:26.647872Z"
    },
    "hidden": true
   },
   "outputs": [
    {
     "name": "stdout",
     "output_type": "stream",
     "text": [
      "233413\n",
      "397578\n",
      "494834\n",
      "551994\n",
      "573002\n",
      "600956\n",
      "612343\n",
      "632003\n",
      "549909\n",
      "332302\n",
      "187414\n"
     ]
    }
   ],
   "source": [
    "results = pd.DataFrame()\n",
    "st = split_dates[0]\n",
    "for sd in split_dates[1:]:\n",
    "    sessions_sub = sessions[(sessions.system_time >= st) &\\\n",
    "                           (sessions.system_time < sd)].copy()\n",
    "    print(f'{((sessions.system_time > st) & (sessions.system_time < sd)).sum()}')\n",
    "    # res = weekly_aggregate(sessions_dd)\n",
    "    # results = pd.concat([results, res])\n",
    "    st = sd\n",
    "\n",
    "# results.to_pickle('../transformed.pkl')"
   ]
  },
  {
   "cell_type": "code",
   "execution_count": 14,
   "metadata": {
    "ExecuteTime": {
     "end_time": "2019-02-18T18:19:10.450925Z",
     "start_time": "2019-02-18T18:19:10.441777Z"
    },
    "hidden": true
   },
   "outputs": [
    {
     "data": {
      "text/html": [
       "<div>\n",
       "<style scoped>\n",
       "    .dataframe tbody tr th:only-of-type {\n",
       "        vertical-align: middle;\n",
       "    }\n",
       "\n",
       "    .dataframe tbody tr th {\n",
       "        vertical-align: top;\n",
       "    }\n",
       "\n",
       "    .dataframe thead th {\n",
       "        text-align: right;\n",
       "    }\n",
       "</style>\n",
       "<table border=\"1\" class=\"dataframe\">\n",
       "  <thead>\n",
       "    <tr style=\"text-align: right;\">\n",
       "      <th></th>\n",
       "      <th>0</th>\n",
       "    </tr>\n",
       "  </thead>\n",
       "  <tbody>\n",
       "    <tr>\n",
       "      <th>week_start</th>\n",
       "      <td>2018-10-01 00:00:00</td>\n",
       "    </tr>\n",
       "    <tr>\n",
       "      <th>user_id_hash</th>\n",
       "      <td>0025a6c398e0ec7c471342188141853877f94a76b51270...</td>\n",
       "    </tr>\n",
       "    <tr>\n",
       "      <th>no_sessions</th>\n",
       "      <td>4</td>\n",
       "    </tr>\n",
       "    <tr>\n",
       "      <th>city</th>\n",
       "      <td>omaha</td>\n",
       "    </tr>\n",
       "    <tr>\n",
       "      <th>is_user_first_session</th>\n",
       "      <td>True</td>\n",
       "    </tr>\n",
       "    <tr>\n",
       "      <th>country</th>\n",
       "      <td>US</td>\n",
       "    </tr>\n",
       "    <tr>\n",
       "      <th>country_count</th>\n",
       "      <td>1</td>\n",
       "    </tr>\n",
       "    <tr>\n",
       "      <th>region</th>\n",
       "      <td>ne</td>\n",
       "    </tr>\n",
       "    <tr>\n",
       "      <th>region_count</th>\n",
       "      <td>1</td>\n",
       "    </tr>\n",
       "    <tr>\n",
       "      <th>locale</th>\n",
       "      <td>en-US_US</td>\n",
       "    </tr>\n",
       "    <tr>\n",
       "      <th>os_name</th>\n",
       "      <td>iOS</td>\n",
       "    </tr>\n",
       "    <tr>\n",
       "      <th>user_days</th>\n",
       "      <td>1</td>\n",
       "    </tr>\n",
       "    <tr>\n",
       "      <th>total_session_time</th>\n",
       "      <td>4951708</td>\n",
       "    </tr>\n",
       "    <tr>\n",
       "      <th>mean_session_time</th>\n",
       "      <td>1.23793e+06</td>\n",
       "    </tr>\n",
       "  </tbody>\n",
       "</table>\n",
       "</div>"
      ],
      "text/plain": [
       "                                                                       0\n",
       "week_start                                           2018-10-01 00:00:00\n",
       "user_id_hash           0025a6c398e0ec7c471342188141853877f94a76b51270...\n",
       "no_sessions                                                            4\n",
       "city                                                               omaha\n",
       "is_user_first_session                                               True\n",
       "country                                                               US\n",
       "country_count                                                          1\n",
       "region                                                                ne\n",
       "region_count                                                           1\n",
       "locale                                                          en-US_US\n",
       "os_name                                                              iOS\n",
       "user_days                                                              1\n",
       "total_session_time                                               4951708\n",
       "mean_session_time                                            1.23793e+06"
      ]
     },
     "execution_count": 14,
     "metadata": {},
     "output_type": "execute_result"
    }
   ],
   "source": [
    "result.head(1).T"
   ]
  },
  {
   "cell_type": "code",
   "execution_count": 10,
   "metadata": {
    "ExecuteTime": {
     "end_time": "2019-02-18T18:17:11.248924Z",
     "start_time": "2019-02-18T18:17:11.245109Z"
    },
    "hidden": true
   },
   "outputs": [
    {
     "data": {
      "text/plain": [
       "(145, 14)"
      ]
     },
     "execution_count": 10,
     "metadata": {},
     "output_type": "execute_result"
    }
   ],
   "source": [
    "result.shape"
   ]
  },
  {
   "cell_type": "code",
   "execution_count": 154,
   "metadata": {
    "hidden": true
   },
   "outputs": [
    {
     "data": {
      "text/html": [
       "<div>\n",
       "<style scoped>\n",
       "    .dataframe tbody tr th:only-of-type {\n",
       "        vertical-align: middle;\n",
       "    }\n",
       "\n",
       "    .dataframe tbody tr th {\n",
       "        vertical-align: top;\n",
       "    }\n",
       "\n",
       "    .dataframe thead th {\n",
       "        text-align: right;\n",
       "    }\n",
       "</style>\n",
       "<table border=\"1\" class=\"dataframe\">\n",
       "  <thead>\n",
       "    <tr style=\"text-align: right;\">\n",
       "      <th></th>\n",
       "      <th>379</th>\n",
       "      <th>383</th>\n",
       "      <th>392</th>\n",
       "      <th>397</th>\n",
       "    </tr>\n",
       "  </thead>\n",
       "  <tbody>\n",
       "    <tr>\n",
       "      <th>session_id</th>\n",
       "      <td>37688927718086661</td>\n",
       "      <td>286142836333673716</td>\n",
       "      <td>8236147442577099541</td>\n",
       "      <td>7419732095701556130</td>\n",
       "    </tr>\n",
       "    <tr>\n",
       "      <th>start_timestamp</th>\n",
       "      <td>1538911375814</td>\n",
       "      <td>1538922849828</td>\n",
       "      <td>1538914051855</td>\n",
       "      <td>1538910605675</td>\n",
       "    </tr>\n",
       "    <tr>\n",
       "      <th>timezone</th>\n",
       "      <td>Asia/Manila</td>\n",
       "      <td>Asia/Manila</td>\n",
       "      <td>Asia/Manila</td>\n",
       "      <td>Asia/Manila</td>\n",
       "    </tr>\n",
       "    <tr>\n",
       "      <th>timezone_offset</th>\n",
       "      <td>28800000</td>\n",
       "      <td>28800000</td>\n",
       "      <td>28800000</td>\n",
       "      <td>28800000</td>\n",
       "    </tr>\n",
       "    <tr>\n",
       "      <th>previous_sessions_duration</th>\n",
       "      <td>173574</td>\n",
       "      <td>7130816</td>\n",
       "      <td>2046609</td>\n",
       "      <td>0</td>\n",
       "    </tr>\n",
       "    <tr>\n",
       "      <th>user_created_timestamp</th>\n",
       "      <td>1538910605675</td>\n",
       "      <td>1538910605675</td>\n",
       "      <td>1538910605675</td>\n",
       "      <td>1538910605675</td>\n",
       "    </tr>\n",
       "    <tr>\n",
       "      <th>is_user_first_session</th>\n",
       "      <td>False</td>\n",
       "      <td>False</td>\n",
       "      <td>False</td>\n",
       "      <td>True</td>\n",
       "    </tr>\n",
       "    <tr>\n",
       "      <th>country</th>\n",
       "      <td>PH</td>\n",
       "      <td>PH</td>\n",
       "      <td>PH</td>\n",
       "      <td>PH</td>\n",
       "    </tr>\n",
       "    <tr>\n",
       "      <th>region</th>\n",
       "      <td>00</td>\n",
       "      <td>00</td>\n",
       "      <td>00</td>\n",
       "      <td>00</td>\n",
       "    </tr>\n",
       "    <tr>\n",
       "      <th>city</th>\n",
       "      <td>quezon city</td>\n",
       "      <td>quezon city</td>\n",
       "      <td>quezon city</td>\n",
       "      <td>quezon city</td>\n",
       "    </tr>\n",
       "    <tr>\n",
       "      <th>latitude</th>\n",
       "      <td>14.676</td>\n",
       "      <td>14.676</td>\n",
       "      <td>14.676</td>\n",
       "      <td>14.676</td>\n",
       "    </tr>\n",
       "    <tr>\n",
       "      <th>longitude</th>\n",
       "      <td>121.044</td>\n",
       "      <td>121.044</td>\n",
       "      <td>121.044</td>\n",
       "      <td>121.044</td>\n",
       "    </tr>\n",
       "    <tr>\n",
       "      <th>locale</th>\n",
       "      <td>en_US</td>\n",
       "      <td>en_US</td>\n",
       "      <td>en_US</td>\n",
       "      <td>en_US</td>\n",
       "    </tr>\n",
       "    <tr>\n",
       "      <th>os_name</th>\n",
       "      <td>Android OS</td>\n",
       "      <td>Android OS</td>\n",
       "      <td>Android OS</td>\n",
       "      <td>Android OS</td>\n",
       "    </tr>\n",
       "    <tr>\n",
       "      <th>session_index</th>\n",
       "      <td>2</td>\n",
       "      <td>4</td>\n",
       "      <td>3</td>\n",
       "      <td>1</td>\n",
       "    </tr>\n",
       "    <tr>\n",
       "      <th>device_id</th>\n",
       "      <td>b6c364d0-322b-4291-802a-2adbabf943b1</td>\n",
       "      <td>b6c364d0-322b-4291-802a-2adbabf943b1</td>\n",
       "      <td>b6c364d0-322b-4291-802a-2adbabf943b1</td>\n",
       "      <td>b6c364d0-322b-4291-802a-2adbabf943b1</td>\n",
       "    </tr>\n",
       "    <tr>\n",
       "      <th>user_id_hash</th>\n",
       "      <td>0a54e513d73bf22bcd23531615a8b456d3fb0d24490020...</td>\n",
       "      <td>0a54e513d73bf22bcd23531615a8b456d3fb0d24490020...</td>\n",
       "      <td>0a54e513d73bf22bcd23531615a8b456d3fb0d24490020...</td>\n",
       "      <td>0a54e513d73bf22bcd23531615a8b456d3fb0d24490020...</td>\n",
       "    </tr>\n",
       "    <tr>\n",
       "      <th>user_time</th>\n",
       "      <td>2018-10-07 19:22:55</td>\n",
       "      <td>2018-10-07 22:34:09</td>\n",
       "      <td>2018-10-07 20:07:31</td>\n",
       "      <td>2018-10-07 19:10:05</td>\n",
       "    </tr>\n",
       "    <tr>\n",
       "      <th>system_time</th>\n",
       "      <td>2018-10-07 11:22:55</td>\n",
       "      <td>2018-10-07 14:34:09</td>\n",
       "      <td>2018-10-07 12:07:31</td>\n",
       "      <td>2018-10-07 11:10:05</td>\n",
       "    </tr>\n",
       "    <tr>\n",
       "      <th>week_start</th>\n",
       "      <td>2018-10-01 00:00:00</td>\n",
       "      <td>2018-10-01 00:00:00</td>\n",
       "      <td>2018-10-01 00:00:00</td>\n",
       "      <td>2018-10-01 00:00:00</td>\n",
       "    </tr>\n",
       "    <tr>\n",
       "      <th>user_hour</th>\n",
       "      <td>19</td>\n",
       "      <td>22</td>\n",
       "      <td>20</td>\n",
       "      <td>19</td>\n",
       "    </tr>\n",
       "    <tr>\n",
       "      <th>user_days</th>\n",
       "      <td>7</td>\n",
       "      <td>7</td>\n",
       "      <td>7</td>\n",
       "      <td>7</td>\n",
       "    </tr>\n",
       "  </tbody>\n",
       "</table>\n",
       "</div>"
      ],
      "text/plain": [
       "                                                                          379  \\\n",
       "session_id                                                  37688927718086661   \n",
       "start_timestamp                                                 1538911375814   \n",
       "timezone                                                          Asia/Manila   \n",
       "timezone_offset                                                      28800000   \n",
       "previous_sessions_duration                                             173574   \n",
       "user_created_timestamp                                          1538910605675   \n",
       "is_user_first_session                                                   False   \n",
       "country                                                                    PH   \n",
       "region                                                                     00   \n",
       "city                                                              quezon city   \n",
       "latitude                                                               14.676   \n",
       "longitude                                                             121.044   \n",
       "locale                                                                  en_US   \n",
       "os_name                                                            Android OS   \n",
       "session_index                                                               2   \n",
       "device_id                                b6c364d0-322b-4291-802a-2adbabf943b1   \n",
       "user_id_hash                0a54e513d73bf22bcd23531615a8b456d3fb0d24490020...   \n",
       "user_time                                                 2018-10-07 19:22:55   \n",
       "system_time                                               2018-10-07 11:22:55   \n",
       "week_start                                                2018-10-01 00:00:00   \n",
       "user_hour                                                                  19   \n",
       "user_days                                                                   7   \n",
       "\n",
       "                                                                          383  \\\n",
       "session_id                                                 286142836333673716   \n",
       "start_timestamp                                                 1538922849828   \n",
       "timezone                                                          Asia/Manila   \n",
       "timezone_offset                                                      28800000   \n",
       "previous_sessions_duration                                            7130816   \n",
       "user_created_timestamp                                          1538910605675   \n",
       "is_user_first_session                                                   False   \n",
       "country                                                                    PH   \n",
       "region                                                                     00   \n",
       "city                                                              quezon city   \n",
       "latitude                                                               14.676   \n",
       "longitude                                                             121.044   \n",
       "locale                                                                  en_US   \n",
       "os_name                                                            Android OS   \n",
       "session_index                                                               4   \n",
       "device_id                                b6c364d0-322b-4291-802a-2adbabf943b1   \n",
       "user_id_hash                0a54e513d73bf22bcd23531615a8b456d3fb0d24490020...   \n",
       "user_time                                                 2018-10-07 22:34:09   \n",
       "system_time                                               2018-10-07 14:34:09   \n",
       "week_start                                                2018-10-01 00:00:00   \n",
       "user_hour                                                                  22   \n",
       "user_days                                                                   7   \n",
       "\n",
       "                                                                          392  \\\n",
       "session_id                                                8236147442577099541   \n",
       "start_timestamp                                                 1538914051855   \n",
       "timezone                                                          Asia/Manila   \n",
       "timezone_offset                                                      28800000   \n",
       "previous_sessions_duration                                            2046609   \n",
       "user_created_timestamp                                          1538910605675   \n",
       "is_user_first_session                                                   False   \n",
       "country                                                                    PH   \n",
       "region                                                                     00   \n",
       "city                                                              quezon city   \n",
       "latitude                                                               14.676   \n",
       "longitude                                                             121.044   \n",
       "locale                                                                  en_US   \n",
       "os_name                                                            Android OS   \n",
       "session_index                                                               3   \n",
       "device_id                                b6c364d0-322b-4291-802a-2adbabf943b1   \n",
       "user_id_hash                0a54e513d73bf22bcd23531615a8b456d3fb0d24490020...   \n",
       "user_time                                                 2018-10-07 20:07:31   \n",
       "system_time                                               2018-10-07 12:07:31   \n",
       "week_start                                                2018-10-01 00:00:00   \n",
       "user_hour                                                                  20   \n",
       "user_days                                                                   7   \n",
       "\n",
       "                                                                          397  \n",
       "session_id                                                7419732095701556130  \n",
       "start_timestamp                                                 1538910605675  \n",
       "timezone                                                          Asia/Manila  \n",
       "timezone_offset                                                      28800000  \n",
       "previous_sessions_duration                                                  0  \n",
       "user_created_timestamp                                          1538910605675  \n",
       "is_user_first_session                                                    True  \n",
       "country                                                                    PH  \n",
       "region                                                                     00  \n",
       "city                                                              quezon city  \n",
       "latitude                                                               14.676  \n",
       "longitude                                                             121.044  \n",
       "locale                                                                  en_US  \n",
       "os_name                                                            Android OS  \n",
       "session_index                                                               1  \n",
       "device_id                                b6c364d0-322b-4291-802a-2adbabf943b1  \n",
       "user_id_hash                0a54e513d73bf22bcd23531615a8b456d3fb0d24490020...  \n",
       "user_time                                                 2018-10-07 19:10:05  \n",
       "system_time                                               2018-10-07 11:10:05  \n",
       "week_start                                                2018-10-01 00:00:00  \n",
       "user_hour                                                                  19  \n",
       "user_days                                                                   7  "
      ]
     },
     "execution_count": 154,
     "metadata": {},
     "output_type": "execute_result"
    }
   ],
   "source": [
    "sessions_sub[(sessions_sub.user_id_hash == '0a54e513d73bf22bcd23531615a8b456d3fb0d2449002013653942539afaf1aa') & \\\n",
    "                (sessions_sub.week_start == '2018-10-01')].T"
   ]
  },
  {
   "cell_type": "code",
   "execution_count": 166,
   "metadata": {
    "hidden": true
   },
   "outputs": [
    {
     "data": {
      "text/plain": [
       "array(['2018-10-01T00:00:00.000000000', '2018-10-08T00:00:00.000000000',\n",
       "       '2018-10-15T00:00:00.000000000', '2018-10-22T00:00:00.000000000',\n",
       "       '2018-10-29T00:00:00.000000000', '2018-11-05T00:00:00.000000000',\n",
       "       '2018-11-12T00:00:00.000000000', '2018-11-19T00:00:00.000000000',\n",
       "       '2018-11-26T00:00:00.000000000', '2018-12-03T00:00:00.000000000',\n",
       "       '2018-12-10T00:00:00.000000000'], dtype='datetime64[ns]')"
      ]
     },
     "execution_count": 166,
     "metadata": {},
     "output_type": "execute_result"
    }
   ],
   "source": [
    "result.week_start.unique()"
   ]
  },
  {
   "cell_type": "markdown",
   "metadata": {
    "heading_collapsed": true
   },
   "source": [
    "# Main"
   ]
  },
  {
   "cell_type": "code",
   "execution_count": 2,
   "metadata": {
    "hidden": true
   },
   "outputs": [],
   "source": [
    "sessions = pd.read_pickle('../session2.pkl')"
   ]
  },
  {
   "cell_type": "code",
   "execution_count": 7,
   "metadata": {
    "ExecuteTime": {
     "end_time": "2019-02-19T04:16:09.670398Z",
     "start_time": "2019-02-19T04:16:09.667322Z"
    },
    "hidden": true
   },
   "outputs": [],
   "source": [
    "import datetime as dt"
   ]
  },
  {
   "cell_type": "code",
   "execution_count": 8,
   "metadata": {
    "ExecuteTime": {
     "end_time": "2019-02-19T04:16:10.110519Z",
     "start_time": "2019-02-19T04:16:10.107313Z"
    },
    "hidden": true
   },
   "outputs": [],
   "source": [
    "def to_dt(x):\n",
    "    return dt.datetime.fromtimestamp(int(x/1000))"
   ]
  },
  {
   "cell_type": "code",
   "execution_count": 170,
   "metadata": {
    "hidden": true
   },
   "outputs": [],
   "source": [
    "sessions['system_time'] = sessions.start_timestamp.apply(lambda x: to_dt(x))"
   ]
  },
  {
   "cell_type": "code",
   "execution_count": 172,
   "metadata": {
    "hidden": true
   },
   "outputs": [],
   "source": [
    "# from multiprocessing import Pool\n",
    "\n",
    "# num_partitions = 100\n",
    "# num_cores = 4\n",
    "# def parallelize_dataframe(df, func):\n",
    "#     df_split = np.array_split(df, num_partitions)\n",
    "#     pool = Pool(num_cores)\n",
    "#     df = pd.concat(pool.map(func, df_split))\n",
    "#     pool.close()\n",
    "#     pool.join()\n",
    "#     return df\n",
    "\n",
    "# def wrapper_get_sentiment(df):\n",
    "#     df['sentiment'] = df['body'].apply(get_sentiment)\n",
    "#     return df\n",
    "\n",
    "# sentiment = parallelize_dataframe(df['body'].to_frame(), wrapper_get_sentiment)"
   ]
  },
  {
   "cell_type": "code",
   "execution_count": 171,
   "metadata": {
    "hidden": true
   },
   "outputs": [],
   "source": [
    "sessions['week_start'] = sessions.system_time.dt.to_period('W').\\\n",
    "            apply(lambda r: r.start_time)"
   ]
  },
  {
   "cell_type": "code",
   "execution_count": 173,
   "metadata": {
    "hidden": true
   },
   "outputs": [],
   "source": [
    "sessions.user_id_hash = sessions.user_id_hash.astype('object')"
   ]
  },
  {
   "cell_type": "code",
   "execution_count": 174,
   "metadata": {
    "hidden": true
   },
   "outputs": [],
   "source": [
    "sessions.session_index = sessions.session_index.astype(np.int)"
   ]
  },
  {
   "cell_type": "code",
   "execution_count": 175,
   "metadata": {
    "hidden": true
   },
   "outputs": [],
   "source": [
    "sessions.is_user_first_session = \\\n",
    "    sessions.is_user_first_session.apply(lambda x: True if x == 'true' else False)"
   ]
  },
  {
   "cell_type": "code",
   "execution_count": 176,
   "metadata": {
    "hidden": true
   },
   "outputs": [],
   "source": [
    "sessions.is_user_first_session = sessions.is_user_first_session.astype(bool)"
   ]
  },
  {
   "cell_type": "code",
   "execution_count": 179,
   "metadata": {
    "hidden": true
   },
   "outputs": [],
   "source": [
    "sessions['user_days'] = sessions.user_time.dt.date"
   ]
  },
  {
   "cell_type": "code",
   "execution_count": 180,
   "metadata": {
    "hidden": true
   },
   "outputs": [
    {
     "data": {
      "text/html": [
       "<div>\n",
       "<style scoped>\n",
       "    .dataframe tbody tr th:only-of-type {\n",
       "        vertical-align: middle;\n",
       "    }\n",
       "\n",
       "    .dataframe tbody tr th {\n",
       "        vertical-align: top;\n",
       "    }\n",
       "\n",
       "    .dataframe thead th {\n",
       "        text-align: right;\n",
       "    }\n",
       "</style>\n",
       "<table border=\"1\" class=\"dataframe\">\n",
       "  <thead>\n",
       "    <tr style=\"text-align: right;\">\n",
       "      <th></th>\n",
       "      <th>0</th>\n",
       "      <th>1</th>\n",
       "    </tr>\n",
       "  </thead>\n",
       "  <tbody>\n",
       "    <tr>\n",
       "      <th>session_id</th>\n",
       "      <td>5558845121177764917</td>\n",
       "      <td>2201961907282901522</td>\n",
       "    </tr>\n",
       "    <tr>\n",
       "      <th>start_timestamp</th>\n",
       "      <td>1542215364580</td>\n",
       "      <td>1543712977293</td>\n",
       "    </tr>\n",
       "    <tr>\n",
       "      <th>timezone</th>\n",
       "      <td>Asia/Manila</td>\n",
       "      <td>Asia/Manila</td>\n",
       "    </tr>\n",
       "    <tr>\n",
       "      <th>timezone_offset</th>\n",
       "      <td>28800000</td>\n",
       "      <td>28800000</td>\n",
       "    </tr>\n",
       "    <tr>\n",
       "      <th>previous_sessions_duration</th>\n",
       "      <td>25837591</td>\n",
       "      <td>35050130</td>\n",
       "    </tr>\n",
       "    <tr>\n",
       "      <th>user_created_timestamp</th>\n",
       "      <td>1538874289458</td>\n",
       "      <td>1538874289458</td>\n",
       "    </tr>\n",
       "    <tr>\n",
       "      <th>is_user_first_session</th>\n",
       "      <td>False</td>\n",
       "      <td>False</td>\n",
       "    </tr>\n",
       "    <tr>\n",
       "      <th>country</th>\n",
       "      <td>PH</td>\n",
       "      <td>PH</td>\n",
       "    </tr>\n",
       "    <tr>\n",
       "      <th>region</th>\n",
       "      <td>00</td>\n",
       "      <td>00</td>\n",
       "    </tr>\n",
       "    <tr>\n",
       "      <th>city</th>\n",
       "      <td>makati</td>\n",
       "      <td>quezon city</td>\n",
       "    </tr>\n",
       "    <tr>\n",
       "      <th>latitude</th>\n",
       "      <td>14.5547</td>\n",
       "      <td>14.676</td>\n",
       "    </tr>\n",
       "    <tr>\n",
       "      <th>longitude</th>\n",
       "      <td>121.024</td>\n",
       "      <td>121.044</td>\n",
       "    </tr>\n",
       "    <tr>\n",
       "      <th>locale</th>\n",
       "      <td>en_GB</td>\n",
       "      <td>en_GB</td>\n",
       "    </tr>\n",
       "    <tr>\n",
       "      <th>os_name</th>\n",
       "      <td>Android OS</td>\n",
       "      <td>Android OS</td>\n",
       "    </tr>\n",
       "    <tr>\n",
       "      <th>session_index</th>\n",
       "      <td>30</td>\n",
       "      <td>47</td>\n",
       "    </tr>\n",
       "    <tr>\n",
       "      <th>device_id</th>\n",
       "      <td>546a3d98-d540-4e72-ad82-9ebd64e0839b</td>\n",
       "      <td>546a3d98-d540-4e72-ad82-9ebd64e0839b</td>\n",
       "    </tr>\n",
       "    <tr>\n",
       "      <th>user_id_hash</th>\n",
       "      <td>9943447915df3a45fd6720a026af905b6da6b56a37701b...</td>\n",
       "      <td>9943447915df3a45fd6720a026af905b6da6b56a37701b...</td>\n",
       "    </tr>\n",
       "    <tr>\n",
       "      <th>user_time</th>\n",
       "      <td>2018-11-15 01:09:24</td>\n",
       "      <td>2018-12-02 09:09:37</td>\n",
       "    </tr>\n",
       "    <tr>\n",
       "      <th>system_time</th>\n",
       "      <td>2018-11-14 17:09:24</td>\n",
       "      <td>2018-12-02 01:09:37</td>\n",
       "    </tr>\n",
       "    <tr>\n",
       "      <th>week_start</th>\n",
       "      <td>2018-11-12 00:00:00</td>\n",
       "      <td>2018-11-26 00:00:00</td>\n",
       "    </tr>\n",
       "    <tr>\n",
       "      <th>user_days</th>\n",
       "      <td>2018-11-15</td>\n",
       "      <td>2018-12-02</td>\n",
       "    </tr>\n",
       "  </tbody>\n",
       "</table>\n",
       "</div>"
      ],
      "text/plain": [
       "                                                                            0  \\\n",
       "session_id                                                5558845121177764917   \n",
       "start_timestamp                                                 1542215364580   \n",
       "timezone                                                          Asia/Manila   \n",
       "timezone_offset                                                      28800000   \n",
       "previous_sessions_duration                                           25837591   \n",
       "user_created_timestamp                                          1538874289458   \n",
       "is_user_first_session                                                   False   \n",
       "country                                                                    PH   \n",
       "region                                                                     00   \n",
       "city                                                                   makati   \n",
       "latitude                                                              14.5547   \n",
       "longitude                                                             121.024   \n",
       "locale                                                                  en_GB   \n",
       "os_name                                                            Android OS   \n",
       "session_index                                                              30   \n",
       "device_id                                546a3d98-d540-4e72-ad82-9ebd64e0839b   \n",
       "user_id_hash                9943447915df3a45fd6720a026af905b6da6b56a37701b...   \n",
       "user_time                                                 2018-11-15 01:09:24   \n",
       "system_time                                               2018-11-14 17:09:24   \n",
       "week_start                                                2018-11-12 00:00:00   \n",
       "user_days                                                          2018-11-15   \n",
       "\n",
       "                                                                            1  \n",
       "session_id                                                2201961907282901522  \n",
       "start_timestamp                                                 1543712977293  \n",
       "timezone                                                          Asia/Manila  \n",
       "timezone_offset                                                      28800000  \n",
       "previous_sessions_duration                                           35050130  \n",
       "user_created_timestamp                                          1538874289458  \n",
       "is_user_first_session                                                   False  \n",
       "country                                                                    PH  \n",
       "region                                                                     00  \n",
       "city                                                              quezon city  \n",
       "latitude                                                               14.676  \n",
       "longitude                                                             121.044  \n",
       "locale                                                                  en_GB  \n",
       "os_name                                                            Android OS  \n",
       "session_index                                                              47  \n",
       "device_id                                546a3d98-d540-4e72-ad82-9ebd64e0839b  \n",
       "user_id_hash                9943447915df3a45fd6720a026af905b6da6b56a37701b...  \n",
       "user_time                                                 2018-12-02 09:09:37  \n",
       "system_time                                               2018-12-02 01:09:37  \n",
       "week_start                                                2018-11-26 00:00:00  \n",
       "user_days                                                          2018-12-02  "
      ]
     },
     "execution_count": 180,
     "metadata": {},
     "output_type": "execute_result"
    }
   ],
   "source": [
    "sessions.head(2).T"
   ]
  },
  {
   "cell_type": "code",
   "execution_count": 207,
   "metadata": {
    "hidden": true
   },
   "outputs": [],
   "source": [
    "sessions.to_pickle('../session3.pkl')"
   ]
  },
  {
   "cell_type": "markdown",
   "metadata": {
    "heading_collapsed": true
   },
   "source": [
    "# Dask implementation"
   ]
  },
  {
   "cell_type": "code",
   "execution_count": 2,
   "metadata": {
    "ExecuteTime": {
     "end_time": "2019-02-19T04:14:27.534531Z",
     "start_time": "2019-02-19T04:14:27.531302Z"
    },
    "hidden": true
   },
   "outputs": [],
   "source": [
    "import pandas as pd\n",
    "import numpy as np"
   ]
  },
  {
   "cell_type": "code",
   "execution_count": 3,
   "metadata": {
    "ExecuteTime": {
     "end_time": "2019-02-19T04:14:41.095745Z",
     "start_time": "2019-02-19T04:14:27.802510Z"
    },
    "hidden": true
   },
   "outputs": [],
   "source": [
    "sessions = pd.read_pickle('../session3.pkl')"
   ]
  },
  {
   "cell_type": "code",
   "execution_count": 19,
   "metadata": {
    "ExecuteTime": {
     "end_time": "2019-02-18T18:22:31.305148Z",
     "start_time": "2019-02-18T18:22:29.533502Z"
    },
    "hidden": true
   },
   "outputs": [],
   "source": [
    "import dask.dataframe as dd"
   ]
  },
  {
   "cell_type": "code",
   "execution_count": 4,
   "metadata": {
    "hidden": true
   },
   "outputs": [],
   "source": [
    "sessions_dd = dd.from_pandas(sessions, npartitions=10)"
   ]
  },
  {
   "cell_type": "code",
   "execution_count": 78,
   "metadata": {
    "hidden": true
   },
   "outputs": [
    {
     "data": {
      "text/plain": [
       "1403"
      ]
     },
     "execution_count": 78,
     "metadata": {},
     "output_type": "execute_result"
    }
   ],
   "source": [
    "del sessions\n",
    "import gc\n",
    "gc.collect()"
   ]
  },
  {
   "cell_type": "code",
   "execution_count": 24,
   "metadata": {
    "ExecuteTime": {
     "end_time": "2019-02-18T18:22:56.442657Z",
     "start_time": "2019-02-18T18:22:56.437079Z"
    },
    "hidden": true
   },
   "outputs": [],
   "source": [
    "# link https://stackoverflow.com/questions/46080171/constructing-mode-and-corresponding-count-functions-using-custom-aggregation-fun\n",
    "# https://github.com/dask/dask/issues/2708\n",
    "\n",
    "def chunk_mode(s):\n",
    "    return s.apply(lambda s: [s.value_counts()])\n",
    "\n",
    "def agg_mode(s):\n",
    "    s = s._selected_obj    \n",
    "    return s.groupby(level=list(range(s.index.nlevels))).sum()\n",
    "\n",
    "\n",
    "def finalize_mode(s):\n",
    "    if not isinstance(s.iloc[0], list):\n",
    "        return s\n",
    "    return s.map(lambda i: i[0].argmax())\n",
    "\n",
    "mode = dd.Aggregation('mode', chunk_mode, agg_mode, finalize_mode)"
   ]
  },
  {
   "cell_type": "code",
   "execution_count": 25,
   "metadata": {
    "ExecuteTime": {
     "end_time": "2019-02-18T18:22:56.800944Z",
     "start_time": "2019-02-18T18:22:56.796010Z"
    },
    "hidden": true
   },
   "outputs": [],
   "source": [
    "# https://stackoverflow.com/questions/45922884/dask-nunique-method-on-dataframe-groupby\n",
    "\n",
    "def chunk_unique(s):\n",
    "    return s.apply(lambda x: list(set(x)))\n",
    "\n",
    "def agg_unique(s):\n",
    "    s = s._selected_obj    \n",
    "    return s.groupby(level=list(range(s.index.nlevels))).sum()\n",
    "\n",
    "def finalize_unique(s):\n",
    "    return s.apply(lambda x: len(set(x)))\n",
    "\n",
    "tunique = dd.Aggregation('tunique', chunk_unique, agg_unique, finalize_unique)"
   ]
  },
  {
   "cell_type": "code",
   "execution_count": 26,
   "metadata": {
    "ExecuteTime": {
     "end_time": "2019-02-18T18:22:57.739120Z",
     "start_time": "2019-02-18T18:22:57.727830Z"
    },
    "hidden": true
   },
   "outputs": [],
   "source": [
    "def weekly_aggregate_dask(df):\n",
    "    grp_cols = ['week_start', 'user_id_hash']\n",
    "    grpby_obj = df.groupby(grp_cols)\n",
    "\n",
    "    print('number of sessions')\n",
    "    temp = grpby_obj.session_id.count().reset_index().\\\n",
    "                rename(columns={'session_id': 'no_sessions'}).compute()\n",
    "    print('mode city')\n",
    "    temp1 = grpby_obj.agg({'city': mode}).reset_index().compute()\n",
    "    # temp1 = grpby_obj['city'].last().reset_index().compute()\n",
    "#     temp1 = grpby_obj['city'].apply(lambda x: x[0], meta=('int')).\\\n",
    "#                 reset_index().compute()\n",
    "    print('is users first week')\n",
    "    temp2 = grpby_obj.is_user_first_session.max().reset_index().compute()\n",
    "    print('mode country')\n",
    "    temp3 = grpby_obj.agg({'country': mode}).reset_index().compute()\n",
    "    # temp3 = grpby_obj.country.first().reset_index().compute()\n",
    "    print('no of country')\n",
    "    temp4 = grpby_obj.agg({'country': tunique}).reset_index().\\\n",
    "                rename(columns={'country': 'country_count'}).compute()\n",
    "    print('mode region')\n",
    "    temp5 = grpby_obj.agg({'region': mode}).reset_index().compute()\n",
    "#     temp5 = grpby_obj.region.first().reset_index().compute()\n",
    "    print('no of region')\n",
    "    temp6 = grpby_obj.agg({'region': tunique}).reset_index().\\\n",
    "                rename(columns={'region': 'region_count'}).compute()\n",
    "    print('mode locale')\n",
    "    temp7 = grpby_obj.agg({'locale': mode}).reset_index().compute()\n",
    "#     temp7 = grpby_obj.locale.first().reset_index().compute()\n",
    "    print('mode os_name')\n",
    "    temp8 = grpby_obj.agg({'os_name': mode}).reset_index().compute()\n",
    "#     temp8 = grpby_obj.os_name.first().reset_index().compute()\n",
    "    print('no of days active')\n",
    "    temp9 = grpby_obj.agg({'user_days': tunique}).reset_index().compute()\n",
    "    print('agg session time')\n",
    "    temp10 = grpby_obj.previous_sessions_duration.sum().\\\n",
    "                    reset_index().\\\n",
    "                    rename(columns={'previous_sessions_duration': 'total_session_time'}).\\\n",
    "                    compute()\n",
    "    print('mean session time')\n",
    "    temp11 = grpby_obj.previous_sessions_duration.mean().\\\n",
    "                reset_index().\\\n",
    "                rename(columns={'previous_sessions_duration': 'mean_session_time'}).\\\n",
    "                compute()\n",
    "\n",
    "    for i in range(2, 12):\n",
    "        temp = temp.merge(locals()[f'temp{i}'], \n",
    "                          on=grp_cols)\n",
    "    return temp"
   ]
  },
  {
   "cell_type": "code",
   "execution_count": 20,
   "metadata": {
    "ExecuteTime": {
     "end_time": "2019-02-18T18:22:34.644964Z",
     "start_time": "2019-02-18T18:22:34.573285Z"
    },
    "hidden": true
   },
   "outputs": [],
   "source": [
    "from dask.diagnostics import ProgressBar"
   ]
  },
  {
   "cell_type": "code",
   "execution_count": 21,
   "metadata": {
    "ExecuteTime": {
     "end_time": "2019-02-18T18:22:35.347332Z",
     "start_time": "2019-02-18T18:22:35.343726Z"
    },
    "hidden": true
   },
   "outputs": [],
   "source": [
    "ProgressBar().register()"
   ]
  },
  {
   "cell_type": "code",
   "execution_count": 29,
   "metadata": {
    "ExecuteTime": {
     "end_time": "2019-02-18T18:26:12.385365Z",
     "start_time": "2019-02-18T18:26:12.379130Z"
    },
    "hidden": true
   },
   "outputs": [],
   "source": [
    "sessions_sub = sessions[:10000].copy()"
   ]
  },
  {
   "cell_type": "code",
   "execution_count": 30,
   "metadata": {
    "ExecuteTime": {
     "end_time": "2019-02-18T18:26:33.023037Z",
     "start_time": "2019-02-18T18:26:13.452493Z"
    },
    "hidden": true
   },
   "outputs": [],
   "source": [
    "result = weekly_aggregate(sessions_sub)"
   ]
  },
  {
   "cell_type": "code",
   "execution_count": 35,
   "metadata": {
    "ExecuteTime": {
     "end_time": "2019-02-18T18:29:19.038440Z",
     "start_time": "2019-02-18T18:29:18.319369Z"
    },
    "hidden": true
   },
   "outputs": [],
   "source": [
    "sessions_dd = dd.from_pandas(sessions[:10000].copy(), npartitions=10)"
   ]
  },
  {
   "cell_type": "code",
   "execution_count": 34,
   "metadata": {
    "ExecuteTime": {
     "end_time": "2019-02-18T18:28:58.127106Z",
     "start_time": "2019-02-18T18:28:20.102112Z"
    },
    "hidden": true
   },
   "outputs": [
    {
     "name": "stdout",
     "output_type": "stream",
     "text": [
      "number of sessions\n",
      "[########################################] | 100% Completed |  0.1s\n",
      "mode city\n",
      "[########################################] | 100% Completed | 13.3s\n",
      "is users first week\n",
      "[########################################] | 100% Completed |  0.1s\n",
      "mode country\n",
      "[########################################] | 100% Completed |  2.3s\n",
      "no of country\n",
      "[########################################] | 100% Completed |  0.8s\n",
      "mode region\n",
      "[########################################] | 100% Completed |  2.5s\n",
      "no of region\n",
      "[########################################] | 100% Completed |  1.0s\n",
      "mode locale\n",
      "[########################################] | 100% Completed |  2.8s\n",
      "mode os_name\n",
      "[########################################] | 100% Completed |  2.2s\n",
      "no of days active\n",
      "[########################################] | 100% Completed |  0.7s\n",
      "agg session time\n",
      "[########################################] | 100% Completed |  0.1s\n",
      "mean session time\n",
      "[########################################] | 100% Completed |  0.1s\n"
     ]
    }
   ],
   "source": [
    "# 1 partitions\n",
    "result = weekly_aggregate_dask(sessions_dd)"
   ]
  },
  {
   "cell_type": "code",
   "execution_count": 32,
   "metadata": {
    "ExecuteTime": {
     "end_time": "2019-02-18T18:27:33.032947Z",
     "start_time": "2019-02-18T18:26:45.342165Z"
    },
    "hidden": true
   },
   "outputs": [
    {
     "name": "stdout",
     "output_type": "stream",
     "text": [
      "number of sessions\n",
      "[########################################] | 100% Completed |  0.1s\n",
      "mode city\n",
      "[########################################] | 100% Completed | 17.7s\n",
      "is users first week\n",
      "[########################################] | 100% Completed |  0.1s\n",
      "mode country\n",
      "[########################################] | 100% Completed |  3.5s\n",
      "no of country\n",
      "[########################################] | 100% Completed |  0.9s\n",
      "mode region\n",
      "[########################################] | 100% Completed |  3.8s\n",
      "no of region\n",
      "[########################################] | 100% Completed |  0.9s\n",
      "mode locale\n",
      "[########################################] | 100% Completed |  4.4s\n",
      "mode os_name\n",
      "[########################################] | 100% Completed |  2.9s\n",
      "no of days active\n",
      "[########################################] | 100% Completed |  0.7s\n",
      "agg session time\n",
      "[########################################] | 100% Completed |  0.1s\n",
      "mean session time\n",
      "[########################################] | 100% Completed |  0.1s\n"
     ]
    }
   ],
   "source": [
    "# 4 partitions\n",
    "result = weekly_aggregate_dask(sessions_dd)"
   ]
  },
  {
   "cell_type": "code",
   "execution_count": 36,
   "metadata": {
    "ExecuteTime": {
     "end_time": "2019-02-18T18:30:18.006489Z",
     "start_time": "2019-02-18T18:29:21.462399Z"
    },
    "hidden": true
   },
   "outputs": [
    {
     "name": "stdout",
     "output_type": "stream",
     "text": [
      "number of sessions\n",
      "[########################################] | 100% Completed |  0.1s\n",
      "mode city\n",
      "[########################################] | 100% Completed | 20.8s\n",
      "is users first week\n",
      "[########################################] | 100% Completed |  0.1s\n",
      "mode country\n",
      "[########################################] | 100% Completed |  4.2s\n",
      "no of country\n",
      "[########################################] | 100% Completed |  1.4s\n",
      "mode region\n",
      "[########################################] | 100% Completed |  5.5s\n",
      "no of region\n",
      "[########################################] | 100% Completed |  1.4s\n",
      "mode locale\n",
      "[########################################] | 100% Completed |  5.2s\n",
      "mode os_name\n",
      "[########################################] | 100% Completed |  3.9s\n",
      "no of days active\n",
      "[########################################] | 100% Completed |  1.2s\n",
      "agg session time\n",
      "[########################################] | 100% Completed |  0.1s\n",
      "mean session time\n",
      "[########################################] | 100% Completed |  0.2s\n"
     ]
    }
   ],
   "source": [
    "# 10 partitions\n",
    "result = weekly_aggregate_dask(sessions_dd)"
   ]
  },
  {
   "cell_type": "code",
   "execution_count": 10,
   "metadata": {
    "hidden": true
   },
   "outputs": [],
   "source": [
    "split_dates = ['2018-10-01', '2018-10-08', '2018-10-15','2018-10-22',\n",
    "               '2018-10-29', '2018-11-05', '2018-11-12', '2018-11-19',\n",
    "               '2018-11-26', '2018-12-03', '2018-12-10', '2018-12-18']"
   ]
  },
  {
   "cell_type": "code",
   "execution_count": 11,
   "metadata": {
    "hidden": true
   },
   "outputs": [
    {
     "data": {
      "text/plain": [
       "(5165760, 21)"
      ]
     },
     "execution_count": 11,
     "metadata": {},
     "output_type": "execute_result"
    }
   ],
   "source": [
    "sessions.shape"
   ]
  },
  {
   "cell_type": "code",
   "execution_count": 12,
   "metadata": {
    "hidden": true
   },
   "outputs": [],
   "source": [
    "sessions.city.fillna(value='?', inplace=True)"
   ]
  },
  {
   "cell_type": "code",
   "execution_count": 13,
   "metadata": {
    "hidden": true
   },
   "outputs": [],
   "source": [
    "sessions.country = sessions.country.cat.add_categories(['unknown'])\n",
    "sessions.country.fillna(value='unknown', inplace=True)"
   ]
  },
  {
   "cell_type": "code",
   "execution_count": 14,
   "metadata": {
    "hidden": true
   },
   "outputs": [],
   "source": [
    "sessions.region = sessions.region.cat.add_categories(['unknown'])\n",
    "sessions.region.fillna(value='unknown', inplace=True)"
   ]
  },
  {
   "cell_type": "code",
   "execution_count": 15,
   "metadata": {
    "hidden": true
   },
   "outputs": [],
   "source": [
    "sessions.os_name = sessions.os_name.cat.add_categories(['unknown'])\n",
    "sessions.os_name.fillna(value='unknown', inplace=True)"
   ]
  },
  {
   "cell_type": "code",
   "execution_count": 16,
   "metadata": {
    "hidden": true
   },
   "outputs": [],
   "source": [
    "sessions.latitude.fillna(value=0, inplace=True)\n",
    "sessions.longitude.fillna(value=0, inplace=True)"
   ]
  },
  {
   "cell_type": "code",
   "execution_count": 17,
   "metadata": {
    "hidden": true
   },
   "outputs": [
    {
     "data": {
      "text/plain": [
       "session_id                    0\n",
       "start_timestamp               0\n",
       "timezone                      0\n",
       "timezone_offset               0\n",
       "previous_sessions_duration    0\n",
       "user_created_timestamp        0\n",
       "is_user_first_session         0\n",
       "country                       0\n",
       "region                        0\n",
       "city                          0\n",
       "latitude                      0\n",
       "longitude                     0\n",
       "locale                        0\n",
       "os_name                       0\n",
       "session_index                 0\n",
       "device_id                     0\n",
       "user_id_hash                  0\n",
       "user_time                     0\n",
       "system_time                   0\n",
       "week_start                    0\n",
       "user_days                     0\n",
       "dtype: int64"
      ]
     },
     "execution_count": 17,
     "metadata": {},
     "output_type": "execute_result"
    }
   ],
   "source": [
    "sessions.isna().sum(axis=0)"
   ]
  },
  {
   "cell_type": "code",
   "execution_count": 18,
   "metadata": {
    "hidden": true
   },
   "outputs": [
    {
     "data": {
      "text/plain": [
       "session_id                          category\n",
       "start_timestamp                        int64\n",
       "timezone                            category\n",
       "timezone_offset                     category\n",
       "previous_sessions_duration             int64\n",
       "user_created_timestamp                 int64\n",
       "is_user_first_session                   bool\n",
       "country                             category\n",
       "region                              category\n",
       "city                                category\n",
       "latitude                             float64\n",
       "longitude                            float64\n",
       "locale                              category\n",
       "os_name                             category\n",
       "session_index                          int64\n",
       "device_id                           category\n",
       "user_id_hash                          object\n",
       "user_time                     datetime64[ns]\n",
       "system_time                   datetime64[ns]\n",
       "week_start                    datetime64[ns]\n",
       "user_days                             object\n",
       "dtype: object"
      ]
     },
     "execution_count": 18,
     "metadata": {},
     "output_type": "execute_result"
    }
   ],
   "source": [
    "sessions.dtypes"
   ]
  },
  {
   "cell_type": "code",
   "execution_count": null,
   "metadata": {
    "hidden": true
   },
   "outputs": [
    {
     "name": "stdout",
     "output_type": "stream",
     "text": [
      "number of sessions\n",
      "[########################################] | 100% Completed | 11.5s\n",
      "mode city\n",
      "[                                        ] | 0% Completed |  1min 35.2s"
     ]
    }
   ],
   "source": [
    "result = weekly_aggregate_dask(sessions_dd)\n",
    "results.to_pickle('../transformed.pkl')"
   ]
  },
  {
   "cell_type": "code",
   "execution_count": null,
   "metadata": {
    "hidden": true
   },
   "outputs": [
    {
     "name": "stdout",
     "output_type": "stream",
     "text": [
      "233413\n",
      "number of sessions\n",
      "[########################################] | 100% Completed |  0.7s\n",
      "mode city\n",
      "[################                        ] | 40% Completed | 13.2s"
     ]
    }
   ],
   "source": [
    "results = pd.DataFrame()\n",
    "st = split_dates[0]\n",
    "for sd in split_dates[1:]:\n",
    "    sessions_dd = dd.from_pandas(sessions[(sessions.system_time >= st) &\\\n",
    "                                          (sessions.system_time < sd)].copy(),\n",
    "                                 npartitions=10)\n",
    "    print(f'{((sessions.system_time > st) & (sessions.system_time < sd)).sum()}')\n",
    "    res = weekly_aggregate_dask(sessions_dd)\n",
    "    results = pd.concat([results, res])\n",
    "    st = sd\n",
    "\n",
    "results.to_pickle('../transformed.pkl')"
   ]
  },
  {
   "cell_type": "code",
   "execution_count": null,
   "metadata": {
    "hidden": true,
    "scrolled": false
   },
   "outputs": [],
   "source": [
    "results.shape"
   ]
  },
  {
   "cell_type": "markdown",
   "metadata": {},
   "source": [
    "# Multiprocess Pandas"
   ]
  },
  {
   "cell_type": "code",
   "execution_count": 47,
   "metadata": {
    "ExecuteTime": {
     "end_time": "2019-02-18T18:38:08.664936Z",
     "start_time": "2019-02-18T18:38:08.216602Z"
    }
   },
   "outputs": [
    {
     "data": {
      "text/plain": [
       "77826"
      ]
     },
     "execution_count": 47,
     "metadata": {},
     "output_type": "execute_result"
    }
   ],
   "source": [
    "gc.collect()"
   ]
  },
  {
   "cell_type": "code",
   "execution_count": 4,
   "metadata": {
    "ExecuteTime": {
     "end_time": "2019-02-19T04:15:11.326995Z",
     "start_time": "2019-02-19T04:15:05.501778Z"
    }
   },
   "outputs": [
    {
     "data": {
      "text/html": [
       "<div>\n",
       "<style scoped>\n",
       "    .dataframe tbody tr th:only-of-type {\n",
       "        vertical-align: middle;\n",
       "    }\n",
       "\n",
       "    .dataframe tbody tr th {\n",
       "        vertical-align: top;\n",
       "    }\n",
       "\n",
       "    .dataframe thead th {\n",
       "        text-align: right;\n",
       "    }\n",
       "</style>\n",
       "<table border=\"1\" class=\"dataframe\">\n",
       "  <thead>\n",
       "    <tr style=\"text-align: right;\">\n",
       "      <th></th>\n",
       "      <th>0</th>\n",
       "      <th>1</th>\n",
       "      <th>2</th>\n",
       "      <th>3</th>\n",
       "      <th>4</th>\n",
       "    </tr>\n",
       "  </thead>\n",
       "  <tbody>\n",
       "    <tr>\n",
       "      <th>session_id</th>\n",
       "      <td>5558845121177764917</td>\n",
       "      <td>2201961907282901522</td>\n",
       "      <td>18781111175537580</td>\n",
       "      <td>1477540082628742048</td>\n",
       "      <td>8184875317380844086</td>\n",
       "    </tr>\n",
       "    <tr>\n",
       "      <th>start_timestamp</th>\n",
       "      <td>1542215364580</td>\n",
       "      <td>1543712977293</td>\n",
       "      <td>1539215568666</td>\n",
       "      <td>1540120743010</td>\n",
       "      <td>1542671625528</td>\n",
       "    </tr>\n",
       "    <tr>\n",
       "      <th>timezone</th>\n",
       "      <td>Asia/Manila</td>\n",
       "      <td>Asia/Manila</td>\n",
       "      <td>Asia/Manila</td>\n",
       "      <td>Asia/Manila</td>\n",
       "      <td>Asia/Manila</td>\n",
       "    </tr>\n",
       "    <tr>\n",
       "      <th>timezone_offset</th>\n",
       "      <td>28800000</td>\n",
       "      <td>28800000</td>\n",
       "      <td>28800000</td>\n",
       "      <td>28800000</td>\n",
       "      <td>28800000</td>\n",
       "    </tr>\n",
       "    <tr>\n",
       "      <th>previous_sessions_duration</th>\n",
       "      <td>25837591</td>\n",
       "      <td>35050130</td>\n",
       "      <td>11343848</td>\n",
       "      <td>13499724</td>\n",
       "      <td>32788010</td>\n",
       "    </tr>\n",
       "    <tr>\n",
       "      <th>user_created_timestamp</th>\n",
       "      <td>1538874289458</td>\n",
       "      <td>1538874289458</td>\n",
       "      <td>1538874289458</td>\n",
       "      <td>1538874289458</td>\n",
       "      <td>1538874289458</td>\n",
       "    </tr>\n",
       "    <tr>\n",
       "      <th>is_user_first_session</th>\n",
       "      <td>False</td>\n",
       "      <td>False</td>\n",
       "      <td>False</td>\n",
       "      <td>False</td>\n",
       "      <td>False</td>\n",
       "    </tr>\n",
       "    <tr>\n",
       "      <th>country</th>\n",
       "      <td>PH</td>\n",
       "      <td>PH</td>\n",
       "      <td>PH</td>\n",
       "      <td>PH</td>\n",
       "      <td>PH</td>\n",
       "    </tr>\n",
       "    <tr>\n",
       "      <th>region</th>\n",
       "      <td>00</td>\n",
       "      <td>00</td>\n",
       "      <td>00</td>\n",
       "      <td>11</td>\n",
       "      <td>00</td>\n",
       "    </tr>\n",
       "    <tr>\n",
       "      <th>city</th>\n",
       "      <td>makati</td>\n",
       "      <td>quezon city</td>\n",
       "      <td>makati</td>\n",
       "      <td>davao city</td>\n",
       "      <td>makati</td>\n",
       "    </tr>\n",
       "    <tr>\n",
       "      <th>latitude</th>\n",
       "      <td>14.5547</td>\n",
       "      <td>14.676</td>\n",
       "      <td>14.5547</td>\n",
       "      <td>7.19071</td>\n",
       "      <td>14.5547</td>\n",
       "    </tr>\n",
       "    <tr>\n",
       "      <th>longitude</th>\n",
       "      <td>121.024</td>\n",
       "      <td>121.044</td>\n",
       "      <td>121.024</td>\n",
       "      <td>125.455</td>\n",
       "      <td>121.024</td>\n",
       "    </tr>\n",
       "    <tr>\n",
       "      <th>locale</th>\n",
       "      <td>en_GB</td>\n",
       "      <td>en_GB</td>\n",
       "      <td>en_GB</td>\n",
       "      <td>en_GB</td>\n",
       "      <td>en_GB</td>\n",
       "    </tr>\n",
       "    <tr>\n",
       "      <th>os_name</th>\n",
       "      <td>Android OS</td>\n",
       "      <td>Android OS</td>\n",
       "      <td>Android OS</td>\n",
       "      <td>Android OS</td>\n",
       "      <td>Android OS</td>\n",
       "    </tr>\n",
       "    <tr>\n",
       "      <th>session_index</th>\n",
       "      <td>30</td>\n",
       "      <td>47</td>\n",
       "      <td>10</td>\n",
       "      <td>13</td>\n",
       "      <td>41</td>\n",
       "    </tr>\n",
       "    <tr>\n",
       "      <th>device_id</th>\n",
       "      <td>546a3d98-d540-4e72-ad82-9ebd64e0839b</td>\n",
       "      <td>546a3d98-d540-4e72-ad82-9ebd64e0839b</td>\n",
       "      <td>546a3d98-d540-4e72-ad82-9ebd64e0839b</td>\n",
       "      <td>546a3d98-d540-4e72-ad82-9ebd64e0839b</td>\n",
       "      <td>546a3d98-d540-4e72-ad82-9ebd64e0839b</td>\n",
       "    </tr>\n",
       "    <tr>\n",
       "      <th>user_id_hash</th>\n",
       "      <td>9943447915df3a45fd6720a026af905b6da6b56a37701b...</td>\n",
       "      <td>9943447915df3a45fd6720a026af905b6da6b56a37701b...</td>\n",
       "      <td>9943447915df3a45fd6720a026af905b6da6b56a37701b...</td>\n",
       "      <td>9943447915df3a45fd6720a026af905b6da6b56a37701b...</td>\n",
       "      <td>9943447915df3a45fd6720a026af905b6da6b56a37701b...</td>\n",
       "    </tr>\n",
       "    <tr>\n",
       "      <th>user_time</th>\n",
       "      <td>2018-11-15 01:09:24</td>\n",
       "      <td>2018-12-02 09:09:37</td>\n",
       "      <td>2018-10-11 07:52:48</td>\n",
       "      <td>2018-10-21 19:19:03</td>\n",
       "      <td>2018-11-20 07:53:45</td>\n",
       "    </tr>\n",
       "    <tr>\n",
       "      <th>system_time</th>\n",
       "      <td>2018-11-14 17:09:24</td>\n",
       "      <td>2018-12-02 01:09:37</td>\n",
       "      <td>2018-10-10 23:52:48</td>\n",
       "      <td>2018-10-21 11:19:03</td>\n",
       "      <td>2018-11-19 23:53:45</td>\n",
       "    </tr>\n",
       "    <tr>\n",
       "      <th>week_start</th>\n",
       "      <td>2018-11-12 00:00:00</td>\n",
       "      <td>2018-11-26 00:00:00</td>\n",
       "      <td>2018-10-08 00:00:00</td>\n",
       "      <td>2018-10-15 00:00:00</td>\n",
       "      <td>2018-11-19 00:00:00</td>\n",
       "    </tr>\n",
       "    <tr>\n",
       "      <th>user_days</th>\n",
       "      <td>2018-11-15</td>\n",
       "      <td>2018-12-02</td>\n",
       "      <td>2018-10-11</td>\n",
       "      <td>2018-10-21</td>\n",
       "      <td>2018-11-20</td>\n",
       "    </tr>\n",
       "  </tbody>\n",
       "</table>\n",
       "</div>"
      ],
      "text/plain": [
       "                                                                            0  \\\n",
       "session_id                                                5558845121177764917   \n",
       "start_timestamp                                                 1542215364580   \n",
       "timezone                                                          Asia/Manila   \n",
       "timezone_offset                                                      28800000   \n",
       "previous_sessions_duration                                           25837591   \n",
       "user_created_timestamp                                          1538874289458   \n",
       "is_user_first_session                                                   False   \n",
       "country                                                                    PH   \n",
       "region                                                                     00   \n",
       "city                                                                   makati   \n",
       "latitude                                                              14.5547   \n",
       "longitude                                                             121.024   \n",
       "locale                                                                  en_GB   \n",
       "os_name                                                            Android OS   \n",
       "session_index                                                              30   \n",
       "device_id                                546a3d98-d540-4e72-ad82-9ebd64e0839b   \n",
       "user_id_hash                9943447915df3a45fd6720a026af905b6da6b56a37701b...   \n",
       "user_time                                                 2018-11-15 01:09:24   \n",
       "system_time                                               2018-11-14 17:09:24   \n",
       "week_start                                                2018-11-12 00:00:00   \n",
       "user_days                                                          2018-11-15   \n",
       "\n",
       "                                                                            1  \\\n",
       "session_id                                                2201961907282901522   \n",
       "start_timestamp                                                 1543712977293   \n",
       "timezone                                                          Asia/Manila   \n",
       "timezone_offset                                                      28800000   \n",
       "previous_sessions_duration                                           35050130   \n",
       "user_created_timestamp                                          1538874289458   \n",
       "is_user_first_session                                                   False   \n",
       "country                                                                    PH   \n",
       "region                                                                     00   \n",
       "city                                                              quezon city   \n",
       "latitude                                                               14.676   \n",
       "longitude                                                             121.044   \n",
       "locale                                                                  en_GB   \n",
       "os_name                                                            Android OS   \n",
       "session_index                                                              47   \n",
       "device_id                                546a3d98-d540-4e72-ad82-9ebd64e0839b   \n",
       "user_id_hash                9943447915df3a45fd6720a026af905b6da6b56a37701b...   \n",
       "user_time                                                 2018-12-02 09:09:37   \n",
       "system_time                                               2018-12-02 01:09:37   \n",
       "week_start                                                2018-11-26 00:00:00   \n",
       "user_days                                                          2018-12-02   \n",
       "\n",
       "                                                                            2  \\\n",
       "session_id                                                  18781111175537580   \n",
       "start_timestamp                                                 1539215568666   \n",
       "timezone                                                          Asia/Manila   \n",
       "timezone_offset                                                      28800000   \n",
       "previous_sessions_duration                                           11343848   \n",
       "user_created_timestamp                                          1538874289458   \n",
       "is_user_first_session                                                   False   \n",
       "country                                                                    PH   \n",
       "region                                                                     00   \n",
       "city                                                                   makati   \n",
       "latitude                                                              14.5547   \n",
       "longitude                                                             121.024   \n",
       "locale                                                                  en_GB   \n",
       "os_name                                                            Android OS   \n",
       "session_index                                                              10   \n",
       "device_id                                546a3d98-d540-4e72-ad82-9ebd64e0839b   \n",
       "user_id_hash                9943447915df3a45fd6720a026af905b6da6b56a37701b...   \n",
       "user_time                                                 2018-10-11 07:52:48   \n",
       "system_time                                               2018-10-10 23:52:48   \n",
       "week_start                                                2018-10-08 00:00:00   \n",
       "user_days                                                          2018-10-11   \n",
       "\n",
       "                                                                            3  \\\n",
       "session_id                                                1477540082628742048   \n",
       "start_timestamp                                                 1540120743010   \n",
       "timezone                                                          Asia/Manila   \n",
       "timezone_offset                                                      28800000   \n",
       "previous_sessions_duration                                           13499724   \n",
       "user_created_timestamp                                          1538874289458   \n",
       "is_user_first_session                                                   False   \n",
       "country                                                                    PH   \n",
       "region                                                                     11   \n",
       "city                                                               davao city   \n",
       "latitude                                                              7.19071   \n",
       "longitude                                                             125.455   \n",
       "locale                                                                  en_GB   \n",
       "os_name                                                            Android OS   \n",
       "session_index                                                              13   \n",
       "device_id                                546a3d98-d540-4e72-ad82-9ebd64e0839b   \n",
       "user_id_hash                9943447915df3a45fd6720a026af905b6da6b56a37701b...   \n",
       "user_time                                                 2018-10-21 19:19:03   \n",
       "system_time                                               2018-10-21 11:19:03   \n",
       "week_start                                                2018-10-15 00:00:00   \n",
       "user_days                                                          2018-10-21   \n",
       "\n",
       "                                                                            4  \n",
       "session_id                                                8184875317380844086  \n",
       "start_timestamp                                                 1542671625528  \n",
       "timezone                                                          Asia/Manila  \n",
       "timezone_offset                                                      28800000  \n",
       "previous_sessions_duration                                           32788010  \n",
       "user_created_timestamp                                          1538874289458  \n",
       "is_user_first_session                                                   False  \n",
       "country                                                                    PH  \n",
       "region                                                                     00  \n",
       "city                                                                   makati  \n",
       "latitude                                                              14.5547  \n",
       "longitude                                                             121.024  \n",
       "locale                                                                  en_GB  \n",
       "os_name                                                            Android OS  \n",
       "session_index                                                              41  \n",
       "device_id                                546a3d98-d540-4e72-ad82-9ebd64e0839b  \n",
       "user_id_hash                9943447915df3a45fd6720a026af905b6da6b56a37701b...  \n",
       "user_time                                                 2018-11-20 07:53:45  \n",
       "system_time                                               2018-11-19 23:53:45  \n",
       "week_start                                                2018-11-19 00:00:00  \n",
       "user_days                                                          2018-11-20  "
      ]
     },
     "execution_count": 4,
     "metadata": {},
     "output_type": "execute_result"
    }
   ],
   "source": [
    "sessions.head().T"
   ]
  },
  {
   "cell_type": "code",
   "execution_count": null,
   "metadata": {},
   "outputs": [],
   "source": []
  },
  {
   "cell_type": "code",
   "execution_count": 9,
   "metadata": {
    "ExecuteTime": {
     "end_time": "2019-02-19T04:17:00.838922Z",
     "start_time": "2019-02-19T04:16:53.606779Z"
    }
   },
   "outputs": [],
   "source": [
    "sessions.user_created_timestamp = sessions.user_created_timestamp.apply(lambda x: to_dt(x))"
   ]
  },
  {
   "cell_type": "code",
   "execution_count": 15,
   "metadata": {
    "ExecuteTime": {
     "end_time": "2019-02-19T04:19:40.624795Z",
     "start_time": "2019-02-19T04:19:40.554217Z"
    }
   },
   "outputs": [],
   "source": [
    "sessions['user_age'] = (sessions.system_time - sessions.user_created_timestamp)"
   ]
  },
  {
   "cell_type": "code",
   "execution_count": 18,
   "metadata": {
    "ExecuteTime": {
     "end_time": "2019-02-19T04:19:58.509481Z",
     "start_time": "2019-02-19T04:19:58.372581Z"
    }
   },
   "outputs": [],
   "source": [
    "sessions['user_age'] = sessions.user_age.dt.days"
   ]
  },
  {
   "cell_type": "code",
   "execution_count": 19,
   "metadata": {
    "ExecuteTime": {
     "end_time": "2019-02-19T04:20:28.565647Z",
     "start_time": "2019-02-19T04:20:28.560456Z"
    }
   },
   "outputs": [],
   "source": [
    "sessions_sub = sessions[:1000].copy()"
   ]
  },
  {
   "cell_type": "code",
   "execution_count": 22,
   "metadata": {
    "ExecuteTime": {
     "end_time": "2019-02-19T04:20:58.123799Z",
     "start_time": "2019-02-19T04:20:53.985966Z"
    }
   },
   "outputs": [],
   "source": [
    "temp = sessions.groupby(['week_start', 'user_id_hash']).user_age.first().to_frame().reset_index()"
   ]
  },
  {
   "cell_type": "code",
   "execution_count": 25,
   "metadata": {
    "ExecuteTime": {
     "end_time": "2019-02-19T04:43:57.180789Z",
     "start_time": "2019-02-19T04:43:53.127482Z"
    }
   },
   "outputs": [],
   "source": [
    "temp = sessions.groupby(['week_start', 'user_id_hash']).user_time.first().to_frame().reset_index()"
   ]
  },
  {
   "cell_type": "code",
   "execution_count": 29,
   "metadata": {
    "ExecuteTime": {
     "end_time": "2019-02-19T04:44:39.471515Z",
     "start_time": "2019-02-19T04:44:39.431964Z"
    }
   },
   "outputs": [],
   "source": [
    "temp.user_time = temp.user_time.dt.hour"
   ]
  },
  {
   "cell_type": "code",
   "execution_count": 30,
   "metadata": {
    "ExecuteTime": {
     "end_time": "2019-02-19T04:44:44.748681Z",
     "start_time": "2019-02-19T04:44:44.269909Z"
    }
   },
   "outputs": [],
   "source": [
    "temp.to_pickle('../user_time.pkl')"
   ]
  },
  {
   "cell_type": "code",
   "execution_count": 24,
   "metadata": {
    "ExecuteTime": {
     "end_time": "2019-02-19T04:22:40.307026Z",
     "start_time": "2019-02-19T04:22:39.746205Z"
    }
   },
   "outputs": [],
   "source": [
    "temp.to_pickle('../user_age.pkl')"
   ]
  },
  {
   "cell_type": "code",
   "execution_count": 56,
   "metadata": {
    "ExecuteTime": {
     "end_time": "2019-02-18T18:42:12.695302Z",
     "start_time": "2019-02-18T18:42:12.682893Z"
    }
   },
   "outputs": [],
   "source": [
    "def weekly_aggregate(df):\n",
    "    grp_cols = ['week_start', 'user_id_hash']\n",
    "    grpby_obj = df.groupby(grp_cols)\n",
    "    # number of sessions\n",
    "    temp = grpby_obj.city.count().to_frame().reset_index().\\\n",
    "                rename(columns={'session_id': 'no_sessions'})\n",
    "    # median city\n",
    "    temp1 = grpby_obj.city.agg(lambda x: x.value_counts().index[0]\n",
    "                               ).to_frame().reset_index()\n",
    "    # is user's first week\n",
    "    temp2 = grpby_obj.is_user_first_session.max().to_frame().reset_index()\n",
    "    # median country\n",
    "    temp3 = grpby_obj.country.agg(lambda x: x.value_counts().index[0]\n",
    "                                  ).to_frame().reset_index()\n",
    "    # no of country\n",
    "    temp4 = grpby_obj.country.agg(lambda x: x.unique().shape[0]\n",
    "                                  ).to_frame().reset_index().\\\n",
    "                        rename(columns={'country': 'country_count'})\n",
    "    # median region\n",
    "    temp5 = grpby_obj.region.agg(lambda x: x.value_counts().index[0]\n",
    "                                 ).to_frame().reset_index()\n",
    "    # no of region\n",
    "    temp6 = grpby_obj.region.agg(lambda x: x.unique().shape[0]\n",
    "                                  ).to_frame().reset_index().\\\n",
    "                        rename(columns={'region': 'region_count'})\n",
    "    # median locale\n",
    "    temp7 = grpby_obj.locale.agg(lambda x: x.value_counts().index[0]\n",
    "                                 ).to_frame().reset_index()\n",
    "    # median os_name\n",
    "    temp8 = grpby_obj.os_name.agg(lambda x: x.value_counts().index[0]\n",
    "                                  ).to_frame().reset_index()\n",
    "    # no of days active\n",
    "    temp9 = grpby_obj.user_days.agg(lambda x: x.unique().shape[0]).\\\n",
    "                to_frame().reset_index()\n",
    "    # agg session time\n",
    "    temp10 = grpby_obj.previous_sessions_duration.sum().\\\n",
    "                    to_frame().reset_index().\\\n",
    "                    rename(columns={'previous_sessions_duration': 'total_session_time'})\n",
    "    # mean session time\n",
    "    temp11 = grpby_obj.previous_sessions_duration.mean().\\\n",
    "                to_frame().reset_index().\\\n",
    "                rename(columns={'previous_sessions_duration': 'mean_session_time'})\n",
    "\n",
    "    for i in range(1, 12):\n",
    "        temp = temp.merge(locals()[f'temp{i}'], \n",
    "                          on=grp_cols)\n",
    "    return temp"
   ]
  },
  {
   "cell_type": "code",
   "execution_count": 42,
   "metadata": {
    "ExecuteTime": {
     "end_time": "2019-02-18T18:37:23.986290Z",
     "start_time": "2019-02-18T18:37:23.981031Z"
    }
   },
   "outputs": [
    {
     "data": {
      "text/plain": [
       "(5165760, 21)"
      ]
     },
     "execution_count": 42,
     "metadata": {},
     "output_type": "execute_result"
    }
   ],
   "source": [
    "sessions.shape"
   ]
  },
  {
   "cell_type": "code",
   "execution_count": 43,
   "metadata": {
    "ExecuteTime": {
     "end_time": "2019-02-18T18:37:26.626084Z",
     "start_time": "2019-02-18T18:37:26.450170Z"
    }
   },
   "outputs": [],
   "source": [
    "req_cols = ['city', 'week_start', 'user_id_hash', 'is_user_first_session', 'country', \n",
    "            'region', 'locale', 'os_name', 'user_days', 'previous_sessions_duration']\n",
    "\n",
    "sessions = sessions[req_cols]"
   ]
  },
  {
   "cell_type": "code",
   "execution_count": 45,
   "metadata": {
    "ExecuteTime": {
     "end_time": "2019-02-18T18:37:41.139648Z",
     "start_time": "2019-02-18T18:37:41.134946Z"
    }
   },
   "outputs": [
    {
     "data": {
      "text/plain": [
       "(5165760, 10)"
      ]
     },
     "execution_count": 45,
     "metadata": {},
     "output_type": "execute_result"
    }
   ],
   "source": [
    "sessions.shape"
   ]
  },
  {
   "cell_type": "code",
   "execution_count": 46,
   "metadata": {
    "ExecuteTime": {
     "end_time": "2019-02-18T18:37:45.393875Z",
     "start_time": "2019-02-18T18:37:45.373347Z"
    }
   },
   "outputs": [
    {
     "data": {
      "text/html": [
       "<div>\n",
       "<style scoped>\n",
       "    .dataframe tbody tr th:only-of-type {\n",
       "        vertical-align: middle;\n",
       "    }\n",
       "\n",
       "    .dataframe tbody tr th {\n",
       "        vertical-align: top;\n",
       "    }\n",
       "\n",
       "    .dataframe thead th {\n",
       "        text-align: right;\n",
       "    }\n",
       "</style>\n",
       "<table border=\"1\" class=\"dataframe\">\n",
       "  <thead>\n",
       "    <tr style=\"text-align: right;\">\n",
       "      <th></th>\n",
       "      <th>0</th>\n",
       "      <th>1</th>\n",
       "    </tr>\n",
       "  </thead>\n",
       "  <tbody>\n",
       "    <tr>\n",
       "      <th>city</th>\n",
       "      <td>makati</td>\n",
       "      <td>quezon city</td>\n",
       "    </tr>\n",
       "    <tr>\n",
       "      <th>week_start</th>\n",
       "      <td>2018-11-12 00:00:00</td>\n",
       "      <td>2018-11-26 00:00:00</td>\n",
       "    </tr>\n",
       "    <tr>\n",
       "      <th>user_id_hash</th>\n",
       "      <td>9943447915df3a45fd6720a026af905b6da6b56a37701b...</td>\n",
       "      <td>9943447915df3a45fd6720a026af905b6da6b56a37701b...</td>\n",
       "    </tr>\n",
       "    <tr>\n",
       "      <th>is_user_first_session</th>\n",
       "      <td>False</td>\n",
       "      <td>False</td>\n",
       "    </tr>\n",
       "    <tr>\n",
       "      <th>country</th>\n",
       "      <td>PH</td>\n",
       "      <td>PH</td>\n",
       "    </tr>\n",
       "    <tr>\n",
       "      <th>region</th>\n",
       "      <td>00</td>\n",
       "      <td>00</td>\n",
       "    </tr>\n",
       "    <tr>\n",
       "      <th>locale</th>\n",
       "      <td>en_GB</td>\n",
       "      <td>en_GB</td>\n",
       "    </tr>\n",
       "    <tr>\n",
       "      <th>os_name</th>\n",
       "      <td>Android OS</td>\n",
       "      <td>Android OS</td>\n",
       "    </tr>\n",
       "    <tr>\n",
       "      <th>user_days</th>\n",
       "      <td>2018-11-15</td>\n",
       "      <td>2018-12-02</td>\n",
       "    </tr>\n",
       "    <tr>\n",
       "      <th>previous_sessions_duration</th>\n",
       "      <td>25837591</td>\n",
       "      <td>35050130</td>\n",
       "    </tr>\n",
       "  </tbody>\n",
       "</table>\n",
       "</div>"
      ],
      "text/plain": [
       "                                                                            0  \\\n",
       "city                                                                   makati   \n",
       "week_start                                                2018-11-12 00:00:00   \n",
       "user_id_hash                9943447915df3a45fd6720a026af905b6da6b56a37701b...   \n",
       "is_user_first_session                                                   False   \n",
       "country                                                                    PH   \n",
       "region                                                                     00   \n",
       "locale                                                                  en_GB   \n",
       "os_name                                                            Android OS   \n",
       "user_days                                                          2018-11-15   \n",
       "previous_sessions_duration                                           25837591   \n",
       "\n",
       "                                                                            1  \n",
       "city                                                              quezon city  \n",
       "week_start                                                2018-11-26 00:00:00  \n",
       "user_id_hash                9943447915df3a45fd6720a026af905b6da6b56a37701b...  \n",
       "is_user_first_session                                                   False  \n",
       "country                                                                    PH  \n",
       "region                                                                     00  \n",
       "locale                                                                  en_GB  \n",
       "os_name                                                            Android OS  \n",
       "user_days                                                          2018-12-02  \n",
       "previous_sessions_duration                                           35050130  "
      ]
     },
     "execution_count": 46,
     "metadata": {},
     "output_type": "execute_result"
    }
   ],
   "source": [
    "sessions.head(2).T"
   ]
  },
  {
   "cell_type": "code",
   "execution_count": 50,
   "metadata": {
    "ExecuteTime": {
     "end_time": "2019-02-18T18:39:45.513594Z",
     "start_time": "2019-02-18T18:39:43.742518Z"
    }
   },
   "outputs": [],
   "source": [
    "week_dates = sessions.week_start.dt.date.unique()"
   ]
  },
  {
   "cell_type": "code",
   "execution_count": 59,
   "metadata": {
    "ExecuteTime": {
     "end_time": "2019-02-18T18:42:47.726805Z",
     "start_time": "2019-02-18T18:42:47.721766Z"
    }
   },
   "outputs": [
    {
     "data": {
      "text/plain": [
       "array([datetime.date(2018, 10, 1), datetime.date(2018, 10, 8),\n",
       "       datetime.date(2018, 10, 15), datetime.date(2018, 10, 22),\n",
       "       datetime.date(2018, 10, 29), datetime.date(2018, 11, 5),\n",
       "       datetime.date(2018, 11, 12), datetime.date(2018, 11, 19),\n",
       "       datetime.date(2018, 11, 26), datetime.date(2018, 12, 3),\n",
       "       datetime.date(2018, 12, 10)], dtype=object)"
      ]
     },
     "execution_count": 59,
     "metadata": {},
     "output_type": "execute_result"
    }
   ],
   "source": [
    "week_dates"
   ]
  },
  {
   "cell_type": "code",
   "execution_count": 60,
   "metadata": {
    "ExecuteTime": {
     "end_time": "2019-02-18T18:54:19.884688Z",
     "start_time": "2019-02-18T18:42:53.385270Z"
    }
   },
   "outputs": [
    {
     "name": "stdout",
     "output_type": "stream",
     "text": [
      "2018-10-01: 233413\n"
     ]
    }
   ],
   "source": [
    "results = pd.DataFrame()\n",
    "\n",
    "for wst in week_dates:\n",
    "    print(f'{wst}: {(sessions.week_start == wst).sum()}')\n",
    "    sessions_sub = sessions[sessions.week_start == wst]\n",
    "    res = weekly_aggregate(sessions_sub)\n",
    "    break\n",
    "    results = pd.concat([results, res])"
   ]
  },
  {
   "cell_type": "code",
   "execution_count": 68,
   "metadata": {
    "ExecuteTime": {
     "end_time": "2019-02-18T18:55:53.850308Z",
     "start_time": "2019-02-18T18:55:53.845716Z"
    }
   },
   "outputs": [
    {
     "data": {
      "text/plain": [
       "(64678, 14)"
      ]
     },
     "execution_count": 68,
     "metadata": {},
     "output_type": "execute_result"
    }
   ],
   "source": [
    "res.shape"
   ]
  },
  {
   "cell_type": "code",
   "execution_count": 92,
   "metadata": {
    "ExecuteTime": {
     "end_time": "2019-02-18T19:02:27.153988Z",
     "start_time": "2019-02-18T19:02:27.150482Z"
    }
   },
   "outputs": [],
   "source": [
    "def wrapper_agg(wst):\n",
    "    sessions_ss = sessions[sessions.week_start == wst].copy()\n",
    "    return weekly_aggregate(sessions_ss)"
   ]
  },
  {
   "cell_type": "code",
   "execution_count": 70,
   "metadata": {
    "ExecuteTime": {
     "end_time": "2019-02-18T18:56:35.218925Z",
     "start_time": "2019-02-18T18:56:35.213513Z"
    }
   },
   "outputs": [],
   "source": [
    "from concurrent.futures import ProcessPoolExecutor, as_completed\n",
    "from fastprogress import progress_bar\n",
    "\n",
    "def parallel(func, job_list, n_jobs=12):\n",
    "    with ProcessPoolExecutor(max_workers=n_jobs) as pool:\n",
    "        futures = [pool.submit(func, job) for job in job_list]\n",
    "        for f in progress_bar(as_completed(futures), total=len(job_list)):\n",
    "            pass\n",
    "    return [f.result() for f in futures]"
   ]
  },
  {
   "cell_type": "code",
   "execution_count": 93,
   "metadata": {
    "ExecuteTime": {
     "end_time": "2019-02-18T19:30:01.257260Z",
     "start_time": "2019-02-18T19:02:39.462784Z"
    }
   },
   "outputs": [
    {
     "data": {
      "text/html": [
       "\n",
       "    <div>\n",
       "        <style>\n",
       "            /* Turns off some styling */\n",
       "            progress {\n",
       "                /* gets rid of default border in Firefox and Opera. */\n",
       "                border: none;\n",
       "                /* Needs to be in here for Safari polyfill so background images work as expected. */\n",
       "                background-size: auto;\n",
       "            }\n",
       "            .progress-bar-interrupted, .progress-bar-interrupted::-webkit-progress-bar {\n",
       "                background: #F44336;\n",
       "            }\n",
       "        </style>\n",
       "      <progress value='11' class='' max='11', style='width:300px; height:20px; vertical-align: middle;'></progress>\n",
       "      100.00% [11/11 27:21<00:00]\n",
       "    </div>\n",
       "    "
      ],
      "text/plain": [
       "<IPython.core.display.HTML object>"
      ]
     },
     "metadata": {},
     "output_type": "display_data"
    }
   ],
   "source": [
    "result = parallel(wrapper_agg, week_dates)"
   ]
  },
  {
   "cell_type": "code",
   "execution_count": 94,
   "metadata": {
    "ExecuteTime": {
     "end_time": "2019-02-18T19:30:39.077778Z",
     "start_time": "2019-02-18T19:30:38.371555Z"
    }
   },
   "outputs": [],
   "source": [
    "result = pd.concat(result)"
   ]
  },
  {
   "cell_type": "code",
   "execution_count": 95,
   "metadata": {
    "ExecuteTime": {
     "end_time": "2019-02-18T19:30:42.519275Z",
     "start_time": "2019-02-18T19:30:42.514713Z"
    }
   },
   "outputs": [
    {
     "data": {
      "text/plain": [
       "(995976, 14)"
      ]
     },
     "execution_count": 95,
     "metadata": {},
     "output_type": "execute_result"
    }
   ],
   "source": [
    "result.shape"
   ]
  },
  {
   "cell_type": "code",
   "execution_count": 96,
   "metadata": {
    "ExecuteTime": {
     "end_time": "2019-02-18T19:30:46.862730Z",
     "start_time": "2019-02-18T19:30:44.964974Z"
    }
   },
   "outputs": [],
   "source": [
    "result.to_pickle('../transformed.pkl')"
   ]
  },
  {
   "cell_type": "markdown",
   "metadata": {},
   "source": [
    "## checking if the result is equal"
   ]
  },
  {
   "cell_type": "code",
   "execution_count": 79,
   "metadata": {
    "ExecuteTime": {
     "end_time": "2019-02-18T18:58:03.940072Z",
     "start_time": "2019-02-18T18:57:44.350267Z"
    }
   },
   "outputs": [],
   "source": [
    "result2 = weekly_aggregate(sessions_sub)"
   ]
  },
  {
   "cell_type": "code",
   "execution_count": 80,
   "metadata": {
    "ExecuteTime": {
     "end_time": "2019-02-18T18:58:05.702465Z",
     "start_time": "2019-02-18T18:58:05.698462Z"
    }
   },
   "outputs": [
    {
     "data": {
      "text/plain": [
       "(1945, 14)"
      ]
     },
     "execution_count": 80,
     "metadata": {},
     "output_type": "execute_result"
    }
   ],
   "source": [
    "result2.shape"
   ]
  },
  {
   "cell_type": "code",
   "execution_count": 86,
   "metadata": {
    "ExecuteTime": {
     "end_time": "2019-02-18T19:00:14.976894Z",
     "start_time": "2019-02-18T19:00:14.965996Z"
    }
   },
   "outputs": [
    {
     "data": {
      "text/plain": [
       "False"
      ]
     },
     "execution_count": 86,
     "metadata": {},
     "output_type": "execute_result"
    }
   ],
   "source": [
    "result.sort_values('user_id_hash').equals(result2.sort_values('user_id_hash'))"
   ]
  },
  {
   "cell_type": "code",
   "execution_count": 91,
   "metadata": {
    "ExecuteTime": {
     "end_time": "2019-02-18T19:02:05.634249Z",
     "start_time": "2019-02-18T19:02:05.613999Z"
    }
   },
   "outputs": [
    {
     "data": {
      "text/plain": [
       "array([1945, 1945, 1945, 1945, 1945, 1945, 1945, 1945, 1945, 1945, 1945,\n",
       "       1945, 1945, 1945])"
      ]
     },
     "execution_count": 91,
     "metadata": {},
     "output_type": "execute_result"
    }
   ],
   "source": [
    "(result.values == result2.values).sum(axis=0)"
   ]
  },
  {
   "cell_type": "markdown",
   "metadata": {},
   "source": [
    "# submission type"
   ]
  },
  {
   "cell_type": "code",
   "execution_count": 16,
   "metadata": {
    "scrolled": true
   },
   "outputs": [
    {
     "name": "stdout",
     "output_type": "stream",
     "text": [
      "user_id_hash,user_purchase_binary_7_days,user_purchase_binary_14_days\r\n",
      "e469dfaed039ead9110165d9bc457acb11609ca34057dc77aad7c5e266b3c09f,0.01,0.02\r\n",
      "afcc639a324b6c598ef83d360450afa011cb2dd1358bf95acbf29decbe3bf4e2,0.01,0.02\r\n",
      "fd5a7cf211d08e3e00f7be6a9df6e6ea3d2e5c22a5d9c37a867730a869f661a9,0.01,0.02\r\n",
      "00bfff98b9d0329f014c2eeac7ce47cd18b2bc6e10d608dcb18625c9957398b5,0.01,0.02\r\n",
      "0d298f3638c43e915c119d4935e1ce8d168f81b5e3e8c16e422524c298adfbe7,0.01,0.02\r\n",
      "7f7e3c5da13a555b2c2047c2c94b45d289ffa8083908cb55a9d32692d675aac7,0.01,0.02\r\n",
      "28b5edd0510e8517462bae9d67a99f272d8ccc8ba2f79d65624f98c6a8a50012,0.01,0.02\r\n",
      "b9433b9c4d559218e64469b6807cb516a5866572c1c30bb75f7ecb9ee5379ef7,0.01,0.02\r\n",
      "607da741597a3b15fecf9a30c76e2e418b629c975e069aba60af709a277e84b9,0.01,0.02\r\n"
     ]
    }
   ],
   "source": [
    "!head ../sample_submission_2.csv"
   ]
  },
  {
   "cell_type": "code",
   "execution_count": 24,
   "metadata": {},
   "outputs": [],
   "source": [
    "submission = pd.read_csv('../sample_submission_2.csv')"
   ]
  },
  {
   "cell_type": "code",
   "execution_count": null,
   "metadata": {},
   "outputs": [],
   "source": []
  }
 ],
 "metadata": {
  "kernelspec": {
   "display_name": "Python 3",
   "language": "python",
   "name": "python3"
  },
  "language_info": {
   "codemirror_mode": {
    "name": "ipython",
    "version": 3
   },
   "file_extension": ".py",
   "mimetype": "text/x-python",
   "name": "python",
   "nbconvert_exporter": "python",
   "pygments_lexer": "ipython3",
   "version": "3.7.1"
  },
  "toc": {
   "base_numbering": 1,
   "nav_menu": {},
   "number_sections": true,
   "sideBar": true,
   "skip_h1_title": false,
   "title_cell": "Table of Contents",
   "title_sidebar": "Contents",
   "toc_cell": false,
   "toc_position": {},
   "toc_section_display": true,
   "toc_window_display": false
  }
 },
 "nbformat": 4,
 "nbformat_minor": 2
}
