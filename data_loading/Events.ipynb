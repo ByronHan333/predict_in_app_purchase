{
 "cells": [
  {
   "cell_type": "code",
   "execution_count": 1,
   "metadata": {},
   "outputs": [],
   "source": [
    "import pandas as pd\n",
    "import numpy as np"
   ]
  },
  {
   "cell_type": "code",
   "execution_count": 2,
   "metadata": {},
   "outputs": [],
   "source": [
    "events = pd.read_pickle('../events.pkl')"
   ]
  },
  {
   "cell_type": "code",
   "execution_count": 3,
   "metadata": {},
   "outputs": [],
   "source": [
    "import matplotlib.pyplot as plt\n",
    "plt.rcParams['figure.figsize'] = [15, 6]\n",
    "plt.style.use('ggplot')"
   ]
  },
  {
   "cell_type": "code",
   "execution_count": 4,
   "metadata": {},
   "outputs": [
    {
     "data": {
      "text/plain": [
       "(111946597, 5)"
      ]
     },
     "execution_count": 4,
     "metadata": {},
     "output_type": "execute_result"
    }
   ],
   "source": [
    "events.shape"
   ]
  },
  {
   "cell_type": "code",
   "execution_count": 5,
   "metadata": {},
   "outputs": [
    {
     "data": {
      "text/html": [
       "<div>\n",
       "<style scoped>\n",
       "    .dataframe tbody tr th:only-of-type {\n",
       "        vertical-align: middle;\n",
       "    }\n",
       "\n",
       "    .dataframe tbody tr th {\n",
       "        vertical-align: top;\n",
       "    }\n",
       "\n",
       "    .dataframe thead th {\n",
       "        text-align: right;\n",
       "    }\n",
       "</style>\n",
       "<table border=\"1\" class=\"dataframe\">\n",
       "  <thead>\n",
       "    <tr style=\"text-align: right;\">\n",
       "      <th></th>\n",
       "      <th>0</th>\n",
       "      <th>1</th>\n",
       "      <th>2</th>\n",
       "    </tr>\n",
       "  </thead>\n",
       "  <tbody>\n",
       "    <tr>\n",
       "      <th>session_id</th>\n",
       "      <td>5558845121177764917</td>\n",
       "      <td>5558845121177764917</td>\n",
       "      <td>7689508378645584666</td>\n",
       "    </tr>\n",
       "    <tr>\n",
       "      <th>event</th>\n",
       "      <td>45</td>\n",
       "      <td>45</td>\n",
       "      <td>.m5100869650219008</td>\n",
       "    </tr>\n",
       "    <tr>\n",
       "      <th>event_timestamp</th>\n",
       "      <td>1542215397132</td>\n",
       "      <td>1542215484895</td>\n",
       "      <td>1541124410372</td>\n",
       "    </tr>\n",
       "    <tr>\n",
       "      <th>event_value</th>\n",
       "      <td>0</td>\n",
       "      <td>0</td>\n",
       "      <td>0</td>\n",
       "    </tr>\n",
       "    <tr>\n",
       "      <th>user_id_hash</th>\n",
       "      <td>9943447915df3a45fd6720a026af905b6da6b56a37701b...</td>\n",
       "      <td>9943447915df3a45fd6720a026af905b6da6b56a37701b...</td>\n",
       "      <td>9943447915df3a45fd6720a026af905b6da6b56a37701b...</td>\n",
       "    </tr>\n",
       "  </tbody>\n",
       "</table>\n",
       "</div>"
      ],
      "text/plain": [
       "                                                                 0  \\\n",
       "session_id                                     5558845121177764917   \n",
       "event                                                           45   \n",
       "event_timestamp                                      1542215397132   \n",
       "event_value                                                      0   \n",
       "user_id_hash     9943447915df3a45fd6720a026af905b6da6b56a37701b...   \n",
       "\n",
       "                                                                 1  \\\n",
       "session_id                                     5558845121177764917   \n",
       "event                                                           45   \n",
       "event_timestamp                                      1542215484895   \n",
       "event_value                                                      0   \n",
       "user_id_hash     9943447915df3a45fd6720a026af905b6da6b56a37701b...   \n",
       "\n",
       "                                                                 2  \n",
       "session_id                                     7689508378645584666  \n",
       "event                                           .m5100869650219008  \n",
       "event_timestamp                                      1541124410372  \n",
       "event_value                                                      0  \n",
       "user_id_hash     9943447915df3a45fd6720a026af905b6da6b56a37701b...  "
      ]
     },
     "execution_count": 5,
     "metadata": {},
     "output_type": "execute_result"
    }
   ],
   "source": [
    "events.head(3).T"
   ]
  },
  {
   "cell_type": "code",
   "execution_count": 7,
   "metadata": {},
   "outputs": [
    {
     "data": {
      "text/plain": [
       "session_id          object\n",
       "event               object\n",
       "event_timestamp      int64\n",
       "event_value        float64\n",
       "user_id_hash        object\n",
       "dtype: object"
      ]
     },
     "execution_count": 7,
     "metadata": {},
     "output_type": "execute_result"
    }
   ],
   "source": [
    "events.dtypes"
   ]
  },
  {
   "cell_type": "code",
   "execution_count": 8,
   "metadata": {},
   "outputs": [],
   "source": [
    "events['session_id'] = events.session_id.astype('category')\n",
    "events['event'] = events.event.astype('category')\n",
    "events['user_id_hash'] = events.user_id_hash.astype('category')"
   ]
  },
  {
   "cell_type": "code",
   "execution_count": 10,
   "metadata": {},
   "outputs": [
    {
     "data": {
      "text/plain": [
       "session_id         category\n",
       "event              category\n",
       "event_timestamp       int64\n",
       "event_value         float64\n",
       "user_id_hash       category\n",
       "dtype: object"
      ]
     },
     "execution_count": 10,
     "metadata": {},
     "output_type": "execute_result"
    }
   ],
   "source": [
    "events.dtypes"
   ]
  },
  {
   "cell_type": "code",
   "execution_count": 11,
   "metadata": {},
   "outputs": [
    {
     "data": {
      "text/plain": [
       "session_id          0\n",
       "event               0\n",
       "event_timestamp     0\n",
       "event_value        63\n",
       "user_id_hash        0\n",
       "dtype: int64"
      ]
     },
     "execution_count": 11,
     "metadata": {},
     "output_type": "execute_result"
    }
   ],
   "source": [
    "events.isna().sum(axis=0)"
   ]
  },
  {
   "cell_type": "code",
   "execution_count": 12,
   "metadata": {},
   "outputs": [
    {
     "name": "stdout",
     "output_type": "stream",
     "text": [
      "session_id\n",
      "\t (5009421,)\n",
      "event\n",
      "\t (109,)\n",
      "event_timestamp\n",
      "\t (109625016,)\n",
      "event_value\n",
      "\t (89,)\n",
      "user_id_hash\n",
      "\t (621001,)\n"
     ]
    }
   ],
   "source": [
    "for col in events.columns:\n",
    "    print(f'{col}')\n",
    "    print(f'\\t {events[col].unique().shape}')"
   ]
  },
  {
   "cell_type": "code",
   "execution_count": 14,
   "metadata": {},
   "outputs": [],
   "source": [
    "events.to_pickle('../events2.pkl')"
   ]
  },
  {
   "cell_type": "code",
   "execution_count": 2,
   "metadata": {},
   "outputs": [],
   "source": [
    "events = pd.read_pickle('../events2.pkl')"
   ]
  },
  {
   "cell_type": "code",
   "execution_count": 3,
   "metadata": {},
   "outputs": [],
   "source": [
    "sessions = pd.read_pickle('../session2.pkl')"
   ]
  },
  {
   "cell_type": "code",
   "execution_count": 4,
   "metadata": {},
   "outputs": [
    {
     "data": {
      "text/plain": [
       "Index(['session_id', 'event', 'event_timestamp', 'event_value',\n",
       "       'user_id_hash'],\n",
       "      dtype='object')"
      ]
     },
     "execution_count": 4,
     "metadata": {},
     "output_type": "execute_result"
    }
   ],
   "source": [
    "events.columns"
   ]
  },
  {
   "cell_type": "code",
   "execution_count": 5,
   "metadata": {},
   "outputs": [
    {
     "data": {
      "text/plain": [
       "Index(['session_id', 'start_timestamp', 'timezone', 'timezone_offset',\n",
       "       'previous_sessions_duration', 'user_created_timestamp',\n",
       "       'is_user_first_session', 'country', 'region', 'city', 'latitude',\n",
       "       'longitude', 'locale', 'os_name', 'session_index', 'device_id',\n",
       "       'user_id_hash', 'user_time'],\n",
       "      dtype='object')"
      ]
     },
     "execution_count": 5,
     "metadata": {},
     "output_type": "execute_result"
    }
   ],
   "source": [
    "sessions.columns"
   ]
  },
  {
   "cell_type": "code",
   "execution_count": 6,
   "metadata": {},
   "outputs": [
    {
     "data": {
      "text/plain": [
       "(5165760, 18)"
      ]
     },
     "execution_count": 6,
     "metadata": {},
     "output_type": "execute_result"
    }
   ],
   "source": [
    "sessions.shape"
   ]
  },
  {
   "cell_type": "code",
   "execution_count": 7,
   "metadata": {},
   "outputs": [
    {
     "data": {
      "text/plain": [
       "(111946597, 5)"
      ]
     },
     "execution_count": 7,
     "metadata": {},
     "output_type": "execute_result"
    }
   ],
   "source": [
    "events.shape"
   ]
  },
  {
   "cell_type": "code",
   "execution_count": 21,
   "metadata": {},
   "outputs": [
    {
     "data": {
      "text/html": [
       "<div>\n",
       "<style scoped>\n",
       "    .dataframe tbody tr th:only-of-type {\n",
       "        vertical-align: middle;\n",
       "    }\n",
       "\n",
       "    .dataframe tbody tr th {\n",
       "        vertical-align: top;\n",
       "    }\n",
       "\n",
       "    .dataframe thead th {\n",
       "        text-align: right;\n",
       "    }\n",
       "</style>\n",
       "<table border=\"1\" class=\"dataframe\">\n",
       "  <thead>\n",
       "    <tr style=\"text-align: right;\">\n",
       "      <th></th>\n",
       "      <th>session_id</th>\n",
       "      <th>event</th>\n",
       "      <th>event_timestamp</th>\n",
       "      <th>event_value</th>\n",
       "      <th>user_id_hash</th>\n",
       "    </tr>\n",
       "  </thead>\n",
       "  <tbody>\n",
       "    <tr>\n",
       "      <th>0</th>\n",
       "      <td>5558845121177764917</td>\n",
       "      <td>45</td>\n",
       "      <td>1542215397132</td>\n",
       "      <td>0.0</td>\n",
       "      <td>9943447915df3a45fd6720a026af905b6da6b56a37701b...</td>\n",
       "    </tr>\n",
       "    <tr>\n",
       "      <th>1</th>\n",
       "      <td>5558845121177764917</td>\n",
       "      <td>45</td>\n",
       "      <td>1542215484895</td>\n",
       "      <td>0.0</td>\n",
       "      <td>9943447915df3a45fd6720a026af905b6da6b56a37701b...</td>\n",
       "    </tr>\n",
       "    <tr>\n",
       "      <th>2</th>\n",
       "      <td>7689508378645584666</td>\n",
       "      <td>.m5100869650219008</td>\n",
       "      <td>1541124410372</td>\n",
       "      <td>0.0</td>\n",
       "      <td>9943447915df3a45fd6720a026af905b6da6b56a37701b...</td>\n",
       "    </tr>\n",
       "    <tr>\n",
       "      <th>3</th>\n",
       "      <td>2201961907282901522</td>\n",
       "      <td>4</td>\n",
       "      <td>1543713091129</td>\n",
       "      <td>0.0</td>\n",
       "      <td>9943447915df3a45fd6720a026af905b6da6b56a37701b...</td>\n",
       "    </tr>\n",
       "    <tr>\n",
       "      <th>4</th>\n",
       "      <td>2201961907282901522</td>\n",
       "      <td>6</td>\n",
       "      <td>1543713093116</td>\n",
       "      <td>0.0</td>\n",
       "      <td>9943447915df3a45fd6720a026af905b6da6b56a37701b...</td>\n",
       "    </tr>\n",
       "  </tbody>\n",
       "</table>\n",
       "</div>"
      ],
      "text/plain": [
       "            session_id               event  event_timestamp  event_value  \\\n",
       "0  5558845121177764917                  45    1542215397132          0.0   \n",
       "1  5558845121177764917                  45    1542215484895          0.0   \n",
       "2  7689508378645584666  .m5100869650219008    1541124410372          0.0   \n",
       "3  2201961907282901522                   4    1543713091129          0.0   \n",
       "4  2201961907282901522                   6    1543713093116          0.0   \n",
       "\n",
       "                                        user_id_hash  \n",
       "0  9943447915df3a45fd6720a026af905b6da6b56a37701b...  \n",
       "1  9943447915df3a45fd6720a026af905b6da6b56a37701b...  \n",
       "2  9943447915df3a45fd6720a026af905b6da6b56a37701b...  \n",
       "3  9943447915df3a45fd6720a026af905b6da6b56a37701b...  \n",
       "4  9943447915df3a45fd6720a026af905b6da6b56a37701b...  "
      ]
     },
     "execution_count": 21,
     "metadata": {},
     "output_type": "execute_result"
    }
   ],
   "source": [
    "events.head()"
   ]
  },
  {
   "cell_type": "code",
   "execution_count": 9,
   "metadata": {},
   "outputs": [],
   "source": [
    "events_sub = events[:10].copy()"
   ]
  },
  {
   "cell_type": "code",
   "execution_count": 10,
   "metadata": {},
   "outputs": [
    {
     "data": {
      "text/html": [
       "<div>\n",
       "<style scoped>\n",
       "    .dataframe tbody tr th:only-of-type {\n",
       "        vertical-align: middle;\n",
       "    }\n",
       "\n",
       "    .dataframe tbody tr th {\n",
       "        vertical-align: top;\n",
       "    }\n",
       "\n",
       "    .dataframe thead th {\n",
       "        text-align: right;\n",
       "    }\n",
       "</style>\n",
       "<table border=\"1\" class=\"dataframe\">\n",
       "  <thead>\n",
       "    <tr style=\"text-align: right;\">\n",
       "      <th></th>\n",
       "      <th>session_id</th>\n",
       "      <th>event</th>\n",
       "      <th>event_timestamp</th>\n",
       "      <th>event_value</th>\n",
       "      <th>user_id_hash</th>\n",
       "    </tr>\n",
       "  </thead>\n",
       "  <tbody>\n",
       "    <tr>\n",
       "      <th>0</th>\n",
       "      <td>5558845121177764917</td>\n",
       "      <td>45</td>\n",
       "      <td>1542215397132</td>\n",
       "      <td>0.0</td>\n",
       "      <td>9943447915df3a45fd6720a026af905b6da6b56a37701b...</td>\n",
       "    </tr>\n",
       "    <tr>\n",
       "      <th>1</th>\n",
       "      <td>5558845121177764917</td>\n",
       "      <td>45</td>\n",
       "      <td>1542215484895</td>\n",
       "      <td>0.0</td>\n",
       "      <td>9943447915df3a45fd6720a026af905b6da6b56a37701b...</td>\n",
       "    </tr>\n",
       "    <tr>\n",
       "      <th>2</th>\n",
       "      <td>7689508378645584666</td>\n",
       "      <td>.m5100869650219008</td>\n",
       "      <td>1541124410372</td>\n",
       "      <td>0.0</td>\n",
       "      <td>9943447915df3a45fd6720a026af905b6da6b56a37701b...</td>\n",
       "    </tr>\n",
       "    <tr>\n",
       "      <th>3</th>\n",
       "      <td>2201961907282901522</td>\n",
       "      <td>4</td>\n",
       "      <td>1543713091129</td>\n",
       "      <td>0.0</td>\n",
       "      <td>9943447915df3a45fd6720a026af905b6da6b56a37701b...</td>\n",
       "    </tr>\n",
       "    <tr>\n",
       "      <th>4</th>\n",
       "      <td>2201961907282901522</td>\n",
       "      <td>6</td>\n",
       "      <td>1543713093116</td>\n",
       "      <td>0.0</td>\n",
       "      <td>9943447915df3a45fd6720a026af905b6da6b56a37701b...</td>\n",
       "    </tr>\n",
       "    <tr>\n",
       "      <th>5</th>\n",
       "      <td>2201961907282901522</td>\n",
       "      <td>5</td>\n",
       "      <td>1543713101700</td>\n",
       "      <td>1.0</td>\n",
       "      <td>9943447915df3a45fd6720a026af905b6da6b56a37701b...</td>\n",
       "    </tr>\n",
       "    <tr>\n",
       "      <th>6</th>\n",
       "      <td>2201961907282901522</td>\n",
       "      <td>45</td>\n",
       "      <td>1543713186756</td>\n",
       "      <td>0.0</td>\n",
       "      <td>9943447915df3a45fd6720a026af905b6da6b56a37701b...</td>\n",
       "    </tr>\n",
       "    <tr>\n",
       "      <th>7</th>\n",
       "      <td>2201961907282901522</td>\n",
       "      <td>45</td>\n",
       "      <td>1543713206629</td>\n",
       "      <td>0.0</td>\n",
       "      <td>9943447915df3a45fd6720a026af905b6da6b56a37701b...</td>\n",
       "    </tr>\n",
       "    <tr>\n",
       "      <th>8</th>\n",
       "      <td>2201961907282901522</td>\n",
       "      <td>45</td>\n",
       "      <td>1543713247107</td>\n",
       "      <td>0.0</td>\n",
       "      <td>9943447915df3a45fd6720a026af905b6da6b56a37701b...</td>\n",
       "    </tr>\n",
       "    <tr>\n",
       "      <th>9</th>\n",
       "      <td>2201961907282901522</td>\n",
       "      <td>45</td>\n",
       "      <td>1543713294671</td>\n",
       "      <td>0.0</td>\n",
       "      <td>9943447915df3a45fd6720a026af905b6da6b56a37701b...</td>\n",
       "    </tr>\n",
       "  </tbody>\n",
       "</table>\n",
       "</div>"
      ],
      "text/plain": [
       "            session_id               event  event_timestamp  event_value  \\\n",
       "0  5558845121177764917                  45    1542215397132          0.0   \n",
       "1  5558845121177764917                  45    1542215484895          0.0   \n",
       "2  7689508378645584666  .m5100869650219008    1541124410372          0.0   \n",
       "3  2201961907282901522                   4    1543713091129          0.0   \n",
       "4  2201961907282901522                   6    1543713093116          0.0   \n",
       "5  2201961907282901522                   5    1543713101700          1.0   \n",
       "6  2201961907282901522                  45    1543713186756          0.0   \n",
       "7  2201961907282901522                  45    1543713206629          0.0   \n",
       "8  2201961907282901522                  45    1543713247107          0.0   \n",
       "9  2201961907282901522                  45    1543713294671          0.0   \n",
       "\n",
       "                                        user_id_hash  \n",
       "0  9943447915df3a45fd6720a026af905b6da6b56a37701b...  \n",
       "1  9943447915df3a45fd6720a026af905b6da6b56a37701b...  \n",
       "2  9943447915df3a45fd6720a026af905b6da6b56a37701b...  \n",
       "3  9943447915df3a45fd6720a026af905b6da6b56a37701b...  \n",
       "4  9943447915df3a45fd6720a026af905b6da6b56a37701b...  \n",
       "5  9943447915df3a45fd6720a026af905b6da6b56a37701b...  \n",
       "6  9943447915df3a45fd6720a026af905b6da6b56a37701b...  \n",
       "7  9943447915df3a45fd6720a026af905b6da6b56a37701b...  \n",
       "8  9943447915df3a45fd6720a026af905b6da6b56a37701b...  \n",
       "9  9943447915df3a45fd6720a026af905b6da6b56a37701b...  "
      ]
     },
     "execution_count": 10,
     "metadata": {},
     "output_type": "execute_result"
    }
   ],
   "source": [
    "events_sub"
   ]
  },
  {
   "cell_type": "code",
   "execution_count": 20,
   "metadata": {},
   "outputs": [
    {
     "data": {
      "text/plain": [
       "0    2750854_372190\n",
       "1    2750854_372190\n",
       "2    4036653_372190\n",
       "3     725373_372190\n",
       "4     725373_372190\n",
       "5     725373_372190\n",
       "6     725373_372190\n",
       "7     725373_372190\n",
       "8     725373_372190\n",
       "9     725373_372190\n",
       "dtype: object"
      ]
     },
     "execution_count": 20,
     "metadata": {},
     "output_type": "execute_result"
    }
   ],
   "source": [
    "events_sub.session_id.cat.codes.map(str) + '_' +\\\n",
    "    events_sub.user_id_hash.cat.codes.map(str)"
   ]
  },
  {
   "cell_type": "code",
   "execution_count": 28,
   "metadata": {},
   "outputs": [],
   "source": [
    "user_hash_dict = {k:v for k, v in zip(events.user_id_hash,\n",
    "                                      events.user_id_hash.cat.codes)}"
   ]
  },
  {
   "cell_type": "code",
   "execution_count": 30,
   "metadata": {},
   "outputs": [],
   "source": [
    "user_hash_dict_rev = {v: k for k, v in user_hash_dict.items()}"
   ]
  },
  {
   "cell_type": "code",
   "execution_count": 22,
   "metadata": {},
   "outputs": [],
   "source": [
    "events_sub['combined_id'] = events_sub.session_id.cat.codes.map(str) + '_' +\\\n",
    "    events_sub.user_id_hash.cat.codes.map(str)"
   ]
  },
  {
   "cell_type": "code",
   "execution_count": 31,
   "metadata": {},
   "outputs": [],
   "source": [
    "events_sub['combined_values'] = events_sub.event_value.map(str) + '_' + \\\n",
    "    events_sub.event_timestamp.map(str)"
   ]
  },
  {
   "cell_type": "code",
   "execution_count": 32,
   "metadata": {},
   "outputs": [
    {
     "data": {
      "text/html": [
       "<div>\n",
       "<style scoped>\n",
       "    .dataframe tbody tr th:only-of-type {\n",
       "        vertical-align: middle;\n",
       "    }\n",
       "\n",
       "    .dataframe tbody tr th {\n",
       "        vertical-align: top;\n",
       "    }\n",
       "\n",
       "    .dataframe thead th {\n",
       "        text-align: right;\n",
       "    }\n",
       "</style>\n",
       "<table border=\"1\" class=\"dataframe\">\n",
       "  <thead>\n",
       "    <tr style=\"text-align: right;\">\n",
       "      <th></th>\n",
       "      <th>session_id</th>\n",
       "      <th>event</th>\n",
       "      <th>event_timestamp</th>\n",
       "      <th>event_value</th>\n",
       "      <th>user_id_hash</th>\n",
       "      <th>combined_id</th>\n",
       "      <th>combined_values</th>\n",
       "    </tr>\n",
       "  </thead>\n",
       "  <tbody>\n",
       "    <tr>\n",
       "      <th>0</th>\n",
       "      <td>5558845121177764917</td>\n",
       "      <td>45</td>\n",
       "      <td>1542215397132</td>\n",
       "      <td>0.0</td>\n",
       "      <td>9943447915df3a45fd6720a026af905b6da6b56a37701b...</td>\n",
       "      <td>2750854_372190</td>\n",
       "      <td>0.0_1542215397132</td>\n",
       "    </tr>\n",
       "    <tr>\n",
       "      <th>1</th>\n",
       "      <td>5558845121177764917</td>\n",
       "      <td>45</td>\n",
       "      <td>1542215484895</td>\n",
       "      <td>0.0</td>\n",
       "      <td>9943447915df3a45fd6720a026af905b6da6b56a37701b...</td>\n",
       "      <td>2750854_372190</td>\n",
       "      <td>0.0_1542215484895</td>\n",
       "    </tr>\n",
       "    <tr>\n",
       "      <th>2</th>\n",
       "      <td>7689508378645584666</td>\n",
       "      <td>.m5100869650219008</td>\n",
       "      <td>1541124410372</td>\n",
       "      <td>0.0</td>\n",
       "      <td>9943447915df3a45fd6720a026af905b6da6b56a37701b...</td>\n",
       "      <td>4036653_372190</td>\n",
       "      <td>0.0_1541124410372</td>\n",
       "    </tr>\n",
       "    <tr>\n",
       "      <th>3</th>\n",
       "      <td>2201961907282901522</td>\n",
       "      <td>4</td>\n",
       "      <td>1543713091129</td>\n",
       "      <td>0.0</td>\n",
       "      <td>9943447915df3a45fd6720a026af905b6da6b56a37701b...</td>\n",
       "      <td>725373_372190</td>\n",
       "      <td>0.0_1543713091129</td>\n",
       "    </tr>\n",
       "    <tr>\n",
       "      <th>4</th>\n",
       "      <td>2201961907282901522</td>\n",
       "      <td>6</td>\n",
       "      <td>1543713093116</td>\n",
       "      <td>0.0</td>\n",
       "      <td>9943447915df3a45fd6720a026af905b6da6b56a37701b...</td>\n",
       "      <td>725373_372190</td>\n",
       "      <td>0.0_1543713093116</td>\n",
       "    </tr>\n",
       "    <tr>\n",
       "      <th>5</th>\n",
       "      <td>2201961907282901522</td>\n",
       "      <td>5</td>\n",
       "      <td>1543713101700</td>\n",
       "      <td>1.0</td>\n",
       "      <td>9943447915df3a45fd6720a026af905b6da6b56a37701b...</td>\n",
       "      <td>725373_372190</td>\n",
       "      <td>1.0_1543713101700</td>\n",
       "    </tr>\n",
       "    <tr>\n",
       "      <th>6</th>\n",
       "      <td>2201961907282901522</td>\n",
       "      <td>45</td>\n",
       "      <td>1543713186756</td>\n",
       "      <td>0.0</td>\n",
       "      <td>9943447915df3a45fd6720a026af905b6da6b56a37701b...</td>\n",
       "      <td>725373_372190</td>\n",
       "      <td>0.0_1543713186756</td>\n",
       "    </tr>\n",
       "    <tr>\n",
       "      <th>7</th>\n",
       "      <td>2201961907282901522</td>\n",
       "      <td>45</td>\n",
       "      <td>1543713206629</td>\n",
       "      <td>0.0</td>\n",
       "      <td>9943447915df3a45fd6720a026af905b6da6b56a37701b...</td>\n",
       "      <td>725373_372190</td>\n",
       "      <td>0.0_1543713206629</td>\n",
       "    </tr>\n",
       "    <tr>\n",
       "      <th>8</th>\n",
       "      <td>2201961907282901522</td>\n",
       "      <td>45</td>\n",
       "      <td>1543713247107</td>\n",
       "      <td>0.0</td>\n",
       "      <td>9943447915df3a45fd6720a026af905b6da6b56a37701b...</td>\n",
       "      <td>725373_372190</td>\n",
       "      <td>0.0_1543713247107</td>\n",
       "    </tr>\n",
       "    <tr>\n",
       "      <th>9</th>\n",
       "      <td>2201961907282901522</td>\n",
       "      <td>45</td>\n",
       "      <td>1543713294671</td>\n",
       "      <td>0.0</td>\n",
       "      <td>9943447915df3a45fd6720a026af905b6da6b56a37701b...</td>\n",
       "      <td>725373_372190</td>\n",
       "      <td>0.0_1543713294671</td>\n",
       "    </tr>\n",
       "  </tbody>\n",
       "</table>\n",
       "</div>"
      ],
      "text/plain": [
       "            session_id               event  event_timestamp  event_value  \\\n",
       "0  5558845121177764917                  45    1542215397132          0.0   \n",
       "1  5558845121177764917                  45    1542215484895          0.0   \n",
       "2  7689508378645584666  .m5100869650219008    1541124410372          0.0   \n",
       "3  2201961907282901522                   4    1543713091129          0.0   \n",
       "4  2201961907282901522                   6    1543713093116          0.0   \n",
       "5  2201961907282901522                   5    1543713101700          1.0   \n",
       "6  2201961907282901522                  45    1543713186756          0.0   \n",
       "7  2201961907282901522                  45    1543713206629          0.0   \n",
       "8  2201961907282901522                  45    1543713247107          0.0   \n",
       "9  2201961907282901522                  45    1543713294671          0.0   \n",
       "\n",
       "                                        user_id_hash     combined_id  \\\n",
       "0  9943447915df3a45fd6720a026af905b6da6b56a37701b...  2750854_372190   \n",
       "1  9943447915df3a45fd6720a026af905b6da6b56a37701b...  2750854_372190   \n",
       "2  9943447915df3a45fd6720a026af905b6da6b56a37701b...  4036653_372190   \n",
       "3  9943447915df3a45fd6720a026af905b6da6b56a37701b...   725373_372190   \n",
       "4  9943447915df3a45fd6720a026af905b6da6b56a37701b...   725373_372190   \n",
       "5  9943447915df3a45fd6720a026af905b6da6b56a37701b...   725373_372190   \n",
       "6  9943447915df3a45fd6720a026af905b6da6b56a37701b...   725373_372190   \n",
       "7  9943447915df3a45fd6720a026af905b6da6b56a37701b...   725373_372190   \n",
       "8  9943447915df3a45fd6720a026af905b6da6b56a37701b...   725373_372190   \n",
       "9  9943447915df3a45fd6720a026af905b6da6b56a37701b...   725373_372190   \n",
       "\n",
       "     combined_values  \n",
       "0  0.0_1542215397132  \n",
       "1  0.0_1542215484895  \n",
       "2  0.0_1541124410372  \n",
       "3  0.0_1543713091129  \n",
       "4  0.0_1543713093116  \n",
       "5  1.0_1543713101700  \n",
       "6  0.0_1543713186756  \n",
       "7  0.0_1543713206629  \n",
       "8  0.0_1543713247107  \n",
       "9  0.0_1543713294671  "
      ]
     },
     "execution_count": 32,
     "metadata": {},
     "output_type": "execute_result"
    }
   ],
   "source": [
    "events_sub[['combined_id', 'event']]"
   ]
  },
  {
   "cell_type": "code",
   "execution_count": 34,
   "metadata": {},
   "outputs": [
    {
     "data": {
      "text/html": [
       "<div>\n",
       "<style scoped>\n",
       "    .dataframe tbody tr th:only-of-type {\n",
       "        vertical-align: middle;\n",
       "    }\n",
       "\n",
       "    .dataframe tbody tr th {\n",
       "        vertical-align: top;\n",
       "    }\n",
       "\n",
       "    .dataframe thead th {\n",
       "        text-align: right;\n",
       "    }\n",
       "</style>\n",
       "<table border=\"1\" class=\"dataframe\">\n",
       "  <thead>\n",
       "    <tr style=\"text-align: right;\">\n",
       "      <th></th>\n",
       "      <th>session_id</th>\n",
       "      <th>start_timestamp</th>\n",
       "      <th>timezone</th>\n",
       "      <th>timezone_offset</th>\n",
       "      <th>previous_sessions_duration</th>\n",
       "      <th>user_created_timestamp</th>\n",
       "      <th>is_user_first_session</th>\n",
       "      <th>country</th>\n",
       "      <th>region</th>\n",
       "      <th>city</th>\n",
       "      <th>latitude</th>\n",
       "      <th>longitude</th>\n",
       "      <th>locale</th>\n",
       "      <th>os_name</th>\n",
       "      <th>session_index</th>\n",
       "      <th>device_id</th>\n",
       "      <th>user_id_hash</th>\n",
       "      <th>user_time</th>\n",
       "    </tr>\n",
       "  </thead>\n",
       "  <tbody>\n",
       "    <tr>\n",
       "      <th>0</th>\n",
       "      <td>5558845121177764917</td>\n",
       "      <td>1542215364580</td>\n",
       "      <td>Asia/Manila</td>\n",
       "      <td>28800000</td>\n",
       "      <td>25837591</td>\n",
       "      <td>1538874289458</td>\n",
       "      <td>false</td>\n",
       "      <td>PH</td>\n",
       "      <td>00</td>\n",
       "      <td>makati</td>\n",
       "      <td>14.554729</td>\n",
       "      <td>121.024445</td>\n",
       "      <td>en_GB</td>\n",
       "      <td>Android OS</td>\n",
       "      <td>30</td>\n",
       "      <td>546a3d98-d540-4e72-ad82-9ebd64e0839b</td>\n",
       "      <td>9943447915df3a45fd6720a026af905b6da6b56a37701b...</td>\n",
       "      <td>2018-11-15 01:09:24</td>\n",
       "    </tr>\n",
       "  </tbody>\n",
       "</table>\n",
       "</div>"
      ],
      "text/plain": [
       "            session_id  start_timestamp     timezone timezone_offset  \\\n",
       "0  5558845121177764917    1542215364580  Asia/Manila        28800000   \n",
       "\n",
       "   previous_sessions_duration  user_created_timestamp is_user_first_session  \\\n",
       "0                    25837591           1538874289458                 false   \n",
       "\n",
       "  country region    city   latitude   longitude locale     os_name  \\\n",
       "0      PH     00  makati  14.554729  121.024445  en_GB  Android OS   \n",
       "\n",
       "  session_index                             device_id  \\\n",
       "0            30  546a3d98-d540-4e72-ad82-9ebd64e0839b   \n",
       "\n",
       "                                        user_id_hash           user_time  \n",
       "0  9943447915df3a45fd6720a026af905b6da6b56a37701b... 2018-11-15 01:09:24  "
      ]
     },
     "execution_count": 34,
     "metadata": {},
     "output_type": "execute_result"
    }
   ],
   "source": [
    "sessions[sessions.session_id == '5558845121177764917']"
   ]
  },
  {
   "cell_type": "code",
   "execution_count": 33,
   "metadata": {},
   "outputs": [
    {
     "ename": "ValueError",
     "evalue": "Index contains duplicate entries, cannot reshape",
     "output_type": "error",
     "traceback": [
      "\u001b[0;31m---------------------------------------------------------------------------\u001b[0m",
      "\u001b[0;31mValueError\u001b[0m                                Traceback (most recent call last)",
      "\u001b[0;32m<ipython-input-33-835e834b7de3>\u001b[0m in \u001b[0;36m<module>\u001b[0;34m\u001b[0m\n\u001b[1;32m      1\u001b[0m events_sub.pivot(index='combined_id', columns='event',\n\u001b[0;32m----> 2\u001b[0;31m                  values='combined_values')\n\u001b[0m",
      "\u001b[0;32m~/anaconda3/lib/python3.7/site-packages/pandas/core/frame.py\u001b[0m in \u001b[0;36mpivot\u001b[0;34m(self, index, columns, values)\u001b[0m\n\u001b[1;32m   5192\u001b[0m         \"\"\"\n\u001b[1;32m   5193\u001b[0m         \u001b[0;32mfrom\u001b[0m \u001b[0mpandas\u001b[0m\u001b[0;34m.\u001b[0m\u001b[0mcore\u001b[0m\u001b[0;34m.\u001b[0m\u001b[0mreshape\u001b[0m\u001b[0;34m.\u001b[0m\u001b[0mreshape\u001b[0m \u001b[0;32mimport\u001b[0m \u001b[0mpivot\u001b[0m\u001b[0;34m\u001b[0m\u001b[0;34m\u001b[0m\u001b[0m\n\u001b[0;32m-> 5194\u001b[0;31m         \u001b[0;32mreturn\u001b[0m \u001b[0mpivot\u001b[0m\u001b[0;34m(\u001b[0m\u001b[0mself\u001b[0m\u001b[0;34m,\u001b[0m \u001b[0mindex\u001b[0m\u001b[0;34m=\u001b[0m\u001b[0mindex\u001b[0m\u001b[0;34m,\u001b[0m \u001b[0mcolumns\u001b[0m\u001b[0;34m=\u001b[0m\u001b[0mcolumns\u001b[0m\u001b[0;34m,\u001b[0m \u001b[0mvalues\u001b[0m\u001b[0;34m=\u001b[0m\u001b[0mvalues\u001b[0m\u001b[0;34m)\u001b[0m\u001b[0;34m\u001b[0m\u001b[0;34m\u001b[0m\u001b[0m\n\u001b[0m\u001b[1;32m   5195\u001b[0m \u001b[0;34m\u001b[0m\u001b[0m\n\u001b[1;32m   5196\u001b[0m     _shared_docs['pivot_table'] = \"\"\"\n",
      "\u001b[0;32m~/anaconda3/lib/python3.7/site-packages/pandas/core/reshape/reshape.py\u001b[0m in \u001b[0;36mpivot\u001b[0;34m(self, index, columns, values)\u001b[0m\n\u001b[1;32m    413\u001b[0m             indexed = self._constructor_sliced(self[values].values,\n\u001b[1;32m    414\u001b[0m                                                index=index)\n\u001b[0;32m--> 415\u001b[0;31m     \u001b[0;32mreturn\u001b[0m \u001b[0mindexed\u001b[0m\u001b[0;34m.\u001b[0m\u001b[0munstack\u001b[0m\u001b[0;34m(\u001b[0m\u001b[0mcolumns\u001b[0m\u001b[0;34m)\u001b[0m\u001b[0;34m\u001b[0m\u001b[0;34m\u001b[0m\u001b[0m\n\u001b[0m\u001b[1;32m    416\u001b[0m \u001b[0;34m\u001b[0m\u001b[0m\n\u001b[1;32m    417\u001b[0m \u001b[0;34m\u001b[0m\u001b[0m\n",
      "\u001b[0;32m~/anaconda3/lib/python3.7/site-packages/pandas/core/series.py\u001b[0m in \u001b[0;36munstack\u001b[0;34m(self, level, fill_value)\u001b[0m\n\u001b[1;32m   2897\u001b[0m         \"\"\"\n\u001b[1;32m   2898\u001b[0m         \u001b[0;32mfrom\u001b[0m \u001b[0mpandas\u001b[0m\u001b[0;34m.\u001b[0m\u001b[0mcore\u001b[0m\u001b[0;34m.\u001b[0m\u001b[0mreshape\u001b[0m\u001b[0;34m.\u001b[0m\u001b[0mreshape\u001b[0m \u001b[0;32mimport\u001b[0m \u001b[0munstack\u001b[0m\u001b[0;34m\u001b[0m\u001b[0;34m\u001b[0m\u001b[0m\n\u001b[0;32m-> 2899\u001b[0;31m         \u001b[0;32mreturn\u001b[0m \u001b[0munstack\u001b[0m\u001b[0;34m(\u001b[0m\u001b[0mself\u001b[0m\u001b[0;34m,\u001b[0m \u001b[0mlevel\u001b[0m\u001b[0;34m,\u001b[0m \u001b[0mfill_value\u001b[0m\u001b[0;34m)\u001b[0m\u001b[0;34m\u001b[0m\u001b[0;34m\u001b[0m\u001b[0m\n\u001b[0m\u001b[1;32m   2900\u001b[0m \u001b[0;34m\u001b[0m\u001b[0m\n\u001b[1;32m   2901\u001b[0m     \u001b[0;31m# ----------------------------------------------------------------------\u001b[0m\u001b[0;34m\u001b[0m\u001b[0;34m\u001b[0m\u001b[0;34m\u001b[0m\u001b[0m\n",
      "\u001b[0;32m~/anaconda3/lib/python3.7/site-packages/pandas/core/reshape/reshape.py\u001b[0m in \u001b[0;36munstack\u001b[0;34m(obj, level, fill_value)\u001b[0m\n\u001b[1;32m    499\u001b[0m         unstacker = _Unstacker(obj.values, obj.index, level=level,\n\u001b[1;32m    500\u001b[0m                                \u001b[0mfill_value\u001b[0m\u001b[0;34m=\u001b[0m\u001b[0mfill_value\u001b[0m\u001b[0;34m,\u001b[0m\u001b[0;34m\u001b[0m\u001b[0;34m\u001b[0m\u001b[0m\n\u001b[0;32m--> 501\u001b[0;31m                                constructor=obj._constructor_expanddim)\n\u001b[0m\u001b[1;32m    502\u001b[0m         \u001b[0;32mreturn\u001b[0m \u001b[0munstacker\u001b[0m\u001b[0;34m.\u001b[0m\u001b[0mget_result\u001b[0m\u001b[0;34m(\u001b[0m\u001b[0;34m)\u001b[0m\u001b[0;34m\u001b[0m\u001b[0;34m\u001b[0m\u001b[0m\n\u001b[1;32m    503\u001b[0m \u001b[0;34m\u001b[0m\u001b[0m\n",
      "\u001b[0;32m~/anaconda3/lib/python3.7/site-packages/pandas/core/reshape/reshape.py\u001b[0m in \u001b[0;36m__init__\u001b[0;34m(self, values, index, level, value_columns, fill_value, constructor)\u001b[0m\n\u001b[1;32m    135\u001b[0m \u001b[0;34m\u001b[0m\u001b[0m\n\u001b[1;32m    136\u001b[0m         \u001b[0mself\u001b[0m\u001b[0;34m.\u001b[0m\u001b[0m_make_sorted_values_labels\u001b[0m\u001b[0;34m(\u001b[0m\u001b[0;34m)\u001b[0m\u001b[0;34m\u001b[0m\u001b[0;34m\u001b[0m\u001b[0m\n\u001b[0;32m--> 137\u001b[0;31m         \u001b[0mself\u001b[0m\u001b[0;34m.\u001b[0m\u001b[0m_make_selectors\u001b[0m\u001b[0;34m(\u001b[0m\u001b[0;34m)\u001b[0m\u001b[0;34m\u001b[0m\u001b[0;34m\u001b[0m\u001b[0m\n\u001b[0m\u001b[1;32m    138\u001b[0m \u001b[0;34m\u001b[0m\u001b[0m\n\u001b[1;32m    139\u001b[0m     \u001b[0;32mdef\u001b[0m \u001b[0m_make_sorted_values_labels\u001b[0m\u001b[0;34m(\u001b[0m\u001b[0mself\u001b[0m\u001b[0;34m)\u001b[0m\u001b[0;34m:\u001b[0m\u001b[0;34m\u001b[0m\u001b[0;34m\u001b[0m\u001b[0m\n",
      "\u001b[0;32m~/anaconda3/lib/python3.7/site-packages/pandas/core/reshape/reshape.py\u001b[0m in \u001b[0;36m_make_selectors\u001b[0;34m(self)\u001b[0m\n\u001b[1;32m    173\u001b[0m \u001b[0;34m\u001b[0m\u001b[0m\n\u001b[1;32m    174\u001b[0m         \u001b[0;32mif\u001b[0m \u001b[0mmask\u001b[0m\u001b[0;34m.\u001b[0m\u001b[0msum\u001b[0m\u001b[0;34m(\u001b[0m\u001b[0;34m)\u001b[0m \u001b[0;34m<\u001b[0m \u001b[0mlen\u001b[0m\u001b[0;34m(\u001b[0m\u001b[0mself\u001b[0m\u001b[0;34m.\u001b[0m\u001b[0mindex\u001b[0m\u001b[0;34m)\u001b[0m\u001b[0;34m:\u001b[0m\u001b[0;34m\u001b[0m\u001b[0;34m\u001b[0m\u001b[0m\n\u001b[0;32m--> 175\u001b[0;31m             raise ValueError('Index contains duplicate entries, '\n\u001b[0m\u001b[1;32m    176\u001b[0m                              'cannot reshape')\n\u001b[1;32m    177\u001b[0m \u001b[0;34m\u001b[0m\u001b[0m\n",
      "\u001b[0;31mValueError\u001b[0m: Index contains duplicate entries, cannot reshape"
     ]
    }
   ],
   "source": [
    "events_sub.pivot(index='combined_id', columns='event',\n",
    "                 values='combined_values')"
   ]
  },
  {
   "cell_type": "code",
   "execution_count": 35,
   "metadata": {},
   "outputs": [],
   "source": [
    "merged = sessions.merge(events, how='left' ,on=['session_id', 'user_id_hash'])"
   ]
  },
  {
   "cell_type": "code",
   "execution_count": 36,
   "metadata": {},
   "outputs": [
    {
     "data": {
      "text/plain": [
       "Index(['session_id', 'start_timestamp', 'timezone', 'timezone_offset',\n",
       "       'previous_sessions_duration', 'user_created_timestamp',\n",
       "       'is_user_first_session', 'country', 'region', 'city', 'latitude',\n",
       "       'longitude', 'locale', 'os_name', 'session_index', 'device_id',\n",
       "       'user_id_hash', 'user_time', 'event', 'event_timestamp', 'event_value'],\n",
       "      dtype='object')"
      ]
     },
     "execution_count": 36,
     "metadata": {},
     "output_type": "execute_result"
    }
   ],
   "source": [
    "merged.columns"
   ]
  },
  {
   "cell_type": "code",
   "execution_count": 38,
   "metadata": {},
   "outputs": [
    {
     "data": {
      "text/html": [
       "<div>\n",
       "<style scoped>\n",
       "    .dataframe tbody tr th:only-of-type {\n",
       "        vertical-align: middle;\n",
       "    }\n",
       "\n",
       "    .dataframe tbody tr th {\n",
       "        vertical-align: top;\n",
       "    }\n",
       "\n",
       "    .dataframe thead th {\n",
       "        text-align: right;\n",
       "    }\n",
       "</style>\n",
       "<table border=\"1\" class=\"dataframe\">\n",
       "  <thead>\n",
       "    <tr style=\"text-align: right;\">\n",
       "      <th></th>\n",
       "      <th>0</th>\n",
       "      <th>1</th>\n",
       "    </tr>\n",
       "  </thead>\n",
       "  <tbody>\n",
       "    <tr>\n",
       "      <th>session_id</th>\n",
       "      <td>5558845121177764917</td>\n",
       "      <td>5558845121177764917</td>\n",
       "    </tr>\n",
       "    <tr>\n",
       "      <th>start_timestamp</th>\n",
       "      <td>1542215364580</td>\n",
       "      <td>1542215364580</td>\n",
       "    </tr>\n",
       "    <tr>\n",
       "      <th>timezone</th>\n",
       "      <td>Asia/Manila</td>\n",
       "      <td>Asia/Manila</td>\n",
       "    </tr>\n",
       "    <tr>\n",
       "      <th>timezone_offset</th>\n",
       "      <td>28800000</td>\n",
       "      <td>28800000</td>\n",
       "    </tr>\n",
       "    <tr>\n",
       "      <th>previous_sessions_duration</th>\n",
       "      <td>25837591</td>\n",
       "      <td>25837591</td>\n",
       "    </tr>\n",
       "    <tr>\n",
       "      <th>user_created_timestamp</th>\n",
       "      <td>1538874289458</td>\n",
       "      <td>1538874289458</td>\n",
       "    </tr>\n",
       "    <tr>\n",
       "      <th>is_user_first_session</th>\n",
       "      <td>false</td>\n",
       "      <td>false</td>\n",
       "    </tr>\n",
       "    <tr>\n",
       "      <th>country</th>\n",
       "      <td>PH</td>\n",
       "      <td>PH</td>\n",
       "    </tr>\n",
       "    <tr>\n",
       "      <th>region</th>\n",
       "      <td>00</td>\n",
       "      <td>00</td>\n",
       "    </tr>\n",
       "    <tr>\n",
       "      <th>city</th>\n",
       "      <td>makati</td>\n",
       "      <td>makati</td>\n",
       "    </tr>\n",
       "    <tr>\n",
       "      <th>latitude</th>\n",
       "      <td>14.5547</td>\n",
       "      <td>14.5547</td>\n",
       "    </tr>\n",
       "    <tr>\n",
       "      <th>longitude</th>\n",
       "      <td>121.024</td>\n",
       "      <td>121.024</td>\n",
       "    </tr>\n",
       "    <tr>\n",
       "      <th>locale</th>\n",
       "      <td>en_GB</td>\n",
       "      <td>en_GB</td>\n",
       "    </tr>\n",
       "    <tr>\n",
       "      <th>os_name</th>\n",
       "      <td>Android OS</td>\n",
       "      <td>Android OS</td>\n",
       "    </tr>\n",
       "    <tr>\n",
       "      <th>session_index</th>\n",
       "      <td>30</td>\n",
       "      <td>30</td>\n",
       "    </tr>\n",
       "    <tr>\n",
       "      <th>device_id</th>\n",
       "      <td>546a3d98-d540-4e72-ad82-9ebd64e0839b</td>\n",
       "      <td>546a3d98-d540-4e72-ad82-9ebd64e0839b</td>\n",
       "    </tr>\n",
       "    <tr>\n",
       "      <th>user_id_hash</th>\n",
       "      <td>9943447915df3a45fd6720a026af905b6da6b56a37701b...</td>\n",
       "      <td>9943447915df3a45fd6720a026af905b6da6b56a37701b...</td>\n",
       "    </tr>\n",
       "    <tr>\n",
       "      <th>user_time</th>\n",
       "      <td>2018-11-15 01:09:24</td>\n",
       "      <td>2018-11-15 01:09:24</td>\n",
       "    </tr>\n",
       "    <tr>\n",
       "      <th>event</th>\n",
       "      <td>45</td>\n",
       "      <td>45</td>\n",
       "    </tr>\n",
       "    <tr>\n",
       "      <th>event_timestamp</th>\n",
       "      <td>1.54222e+12</td>\n",
       "      <td>1.54222e+12</td>\n",
       "    </tr>\n",
       "    <tr>\n",
       "      <th>event_value</th>\n",
       "      <td>0</td>\n",
       "      <td>0</td>\n",
       "    </tr>\n",
       "  </tbody>\n",
       "</table>\n",
       "</div>"
      ],
      "text/plain": [
       "                                                                            0  \\\n",
       "session_id                                                5558845121177764917   \n",
       "start_timestamp                                                 1542215364580   \n",
       "timezone                                                          Asia/Manila   \n",
       "timezone_offset                                                      28800000   \n",
       "previous_sessions_duration                                           25837591   \n",
       "user_created_timestamp                                          1538874289458   \n",
       "is_user_first_session                                                   false   \n",
       "country                                                                    PH   \n",
       "region                                                                     00   \n",
       "city                                                                   makati   \n",
       "latitude                                                              14.5547   \n",
       "longitude                                                             121.024   \n",
       "locale                                                                  en_GB   \n",
       "os_name                                                            Android OS   \n",
       "session_index                                                              30   \n",
       "device_id                                546a3d98-d540-4e72-ad82-9ebd64e0839b   \n",
       "user_id_hash                9943447915df3a45fd6720a026af905b6da6b56a37701b...   \n",
       "user_time                                                 2018-11-15 01:09:24   \n",
       "event                                                                      45   \n",
       "event_timestamp                                                   1.54222e+12   \n",
       "event_value                                                                 0   \n",
       "\n",
       "                                                                            1  \n",
       "session_id                                                5558845121177764917  \n",
       "start_timestamp                                                 1542215364580  \n",
       "timezone                                                          Asia/Manila  \n",
       "timezone_offset                                                      28800000  \n",
       "previous_sessions_duration                                           25837591  \n",
       "user_created_timestamp                                          1538874289458  \n",
       "is_user_first_session                                                   false  \n",
       "country                                                                    PH  \n",
       "region                                                                     00  \n",
       "city                                                                   makati  \n",
       "latitude                                                              14.5547  \n",
       "longitude                                                             121.024  \n",
       "locale                                                                  en_GB  \n",
       "os_name                                                            Android OS  \n",
       "session_index                                                              30  \n",
       "device_id                                546a3d98-d540-4e72-ad82-9ebd64e0839b  \n",
       "user_id_hash                9943447915df3a45fd6720a026af905b6da6b56a37701b...  \n",
       "user_time                                                 2018-11-15 01:09:24  \n",
       "event                                                                      45  \n",
       "event_timestamp                                                   1.54222e+12  \n",
       "event_value                                                                 0  "
      ]
     },
     "execution_count": 38,
     "metadata": {},
     "output_type": "execute_result"
    }
   ],
   "source": [
    "merged[merged.session_id == '5558845121177764917'].T"
   ]
  },
  {
   "cell_type": "code",
   "execution_count": 40,
   "metadata": {},
   "outputs": [
    {
     "data": {
      "text/plain": [
       "session_id                            object\n",
       "start_timestamp                        int64\n",
       "timezone                            category\n",
       "timezone_offset                     category\n",
       "previous_sessions_duration             int64\n",
       "user_created_timestamp                 int64\n",
       "is_user_first_session               category\n",
       "country                             category\n",
       "region                              category\n",
       "city                                category\n",
       "latitude                             float64\n",
       "longitude                            float64\n",
       "locale                              category\n",
       "os_name                             category\n",
       "session_index                       category\n",
       "device_id                           category\n",
       "user_id_hash                          object\n",
       "user_time                     datetime64[ns]\n",
       "event                               category\n",
       "event_timestamp                      float64\n",
       "event_value                          float64\n",
       "dtype: object"
      ]
     },
     "execution_count": 40,
     "metadata": {},
     "output_type": "execute_result"
    }
   ],
   "source": [
    "merged.dtypes"
   ]
  },
  {
   "cell_type": "code",
   "execution_count": 41,
   "metadata": {},
   "outputs": [],
   "source": [
    "merged.session_id = merged.session_id.astype('category')\n",
    "merged.user_id_hash = merged.user_id_hash.astype('category')"
   ]
  },
  {
   "cell_type": "code",
   "execution_count": 34,
   "metadata": {},
   "outputs": [
    {
     "data": {
      "text/html": [
       "<div>\n",
       "<style scoped>\n",
       "    .dataframe tbody tr th:only-of-type {\n",
       "        vertical-align: middle;\n",
       "    }\n",
       "\n",
       "    .dataframe tbody tr th {\n",
       "        vertical-align: top;\n",
       "    }\n",
       "\n",
       "    .dataframe thead th {\n",
       "        text-align: right;\n",
       "    }\n",
       "</style>\n",
       "<table border=\"1\" class=\"dataframe\">\n",
       "  <thead>\n",
       "    <tr style=\"text-align: right;\">\n",
       "      <th></th>\n",
       "      <th>0</th>\n",
       "      <th>1</th>\n",
       "      <th>2</th>\n",
       "      <th>3</th>\n",
       "      <th>4</th>\n",
       "    </tr>\n",
       "  </thead>\n",
       "  <tbody>\n",
       "    <tr>\n",
       "      <th>session_id</th>\n",
       "      <td>5558845121177764917</td>\n",
       "      <td>5558845121177764917</td>\n",
       "      <td>2201961907282901522</td>\n",
       "      <td>2201961907282901522</td>\n",
       "      <td>2201961907282901522</td>\n",
       "    </tr>\n",
       "    <tr>\n",
       "      <th>start_timestamp</th>\n",
       "      <td>1542215364580</td>\n",
       "      <td>1542215364580</td>\n",
       "      <td>1543712977293</td>\n",
       "      <td>1543712977293</td>\n",
       "      <td>1543712977293</td>\n",
       "    </tr>\n",
       "    <tr>\n",
       "      <th>timezone</th>\n",
       "      <td>Asia/Manila</td>\n",
       "      <td>Asia/Manila</td>\n",
       "      <td>Asia/Manila</td>\n",
       "      <td>Asia/Manila</td>\n",
       "      <td>Asia/Manila</td>\n",
       "    </tr>\n",
       "    <tr>\n",
       "      <th>timezone_offset</th>\n",
       "      <td>28800000</td>\n",
       "      <td>28800000</td>\n",
       "      <td>28800000</td>\n",
       "      <td>28800000</td>\n",
       "      <td>28800000</td>\n",
       "    </tr>\n",
       "    <tr>\n",
       "      <th>previous_sessions_duration</th>\n",
       "      <td>25837591</td>\n",
       "      <td>25837591</td>\n",
       "      <td>35050130</td>\n",
       "      <td>35050130</td>\n",
       "      <td>35050130</td>\n",
       "    </tr>\n",
       "    <tr>\n",
       "      <th>user_created_timestamp</th>\n",
       "      <td>1538874289458</td>\n",
       "      <td>1538874289458</td>\n",
       "      <td>1538874289458</td>\n",
       "      <td>1538874289458</td>\n",
       "      <td>1538874289458</td>\n",
       "    </tr>\n",
       "    <tr>\n",
       "      <th>is_user_first_session</th>\n",
       "      <td>false</td>\n",
       "      <td>false</td>\n",
       "      <td>false</td>\n",
       "      <td>false</td>\n",
       "      <td>false</td>\n",
       "    </tr>\n",
       "    <tr>\n",
       "      <th>country</th>\n",
       "      <td>PH</td>\n",
       "      <td>PH</td>\n",
       "      <td>PH</td>\n",
       "      <td>PH</td>\n",
       "      <td>PH</td>\n",
       "    </tr>\n",
       "    <tr>\n",
       "      <th>region</th>\n",
       "      <td>00</td>\n",
       "      <td>00</td>\n",
       "      <td>00</td>\n",
       "      <td>00</td>\n",
       "      <td>00</td>\n",
       "    </tr>\n",
       "    <tr>\n",
       "      <th>city</th>\n",
       "      <td>makati</td>\n",
       "      <td>makati</td>\n",
       "      <td>quezon city</td>\n",
       "      <td>quezon city</td>\n",
       "      <td>quezon city</td>\n",
       "    </tr>\n",
       "    <tr>\n",
       "      <th>latitude</th>\n",
       "      <td>14.5547</td>\n",
       "      <td>14.5547</td>\n",
       "      <td>14.676</td>\n",
       "      <td>14.676</td>\n",
       "      <td>14.676</td>\n",
       "    </tr>\n",
       "    <tr>\n",
       "      <th>longitude</th>\n",
       "      <td>121.024</td>\n",
       "      <td>121.024</td>\n",
       "      <td>121.044</td>\n",
       "      <td>121.044</td>\n",
       "      <td>121.044</td>\n",
       "    </tr>\n",
       "    <tr>\n",
       "      <th>locale</th>\n",
       "      <td>en_GB</td>\n",
       "      <td>en_GB</td>\n",
       "      <td>en_GB</td>\n",
       "      <td>en_GB</td>\n",
       "      <td>en_GB</td>\n",
       "    </tr>\n",
       "    <tr>\n",
       "      <th>os_name</th>\n",
       "      <td>Android OS</td>\n",
       "      <td>Android OS</td>\n",
       "      <td>Android OS</td>\n",
       "      <td>Android OS</td>\n",
       "      <td>Android OS</td>\n",
       "    </tr>\n",
       "    <tr>\n",
       "      <th>session_index</th>\n",
       "      <td>30</td>\n",
       "      <td>30</td>\n",
       "      <td>47</td>\n",
       "      <td>47</td>\n",
       "      <td>47</td>\n",
       "    </tr>\n",
       "    <tr>\n",
       "      <th>device_id</th>\n",
       "      <td>546a3d98-d540-4e72-ad82-9ebd64e0839b</td>\n",
       "      <td>546a3d98-d540-4e72-ad82-9ebd64e0839b</td>\n",
       "      <td>546a3d98-d540-4e72-ad82-9ebd64e0839b</td>\n",
       "      <td>546a3d98-d540-4e72-ad82-9ebd64e0839b</td>\n",
       "      <td>546a3d98-d540-4e72-ad82-9ebd64e0839b</td>\n",
       "    </tr>\n",
       "    <tr>\n",
       "      <th>user_id_hash</th>\n",
       "      <td>9943447915df3a45fd6720a026af905b6da6b56a37701b...</td>\n",
       "      <td>9943447915df3a45fd6720a026af905b6da6b56a37701b...</td>\n",
       "      <td>9943447915df3a45fd6720a026af905b6da6b56a37701b...</td>\n",
       "      <td>9943447915df3a45fd6720a026af905b6da6b56a37701b...</td>\n",
       "      <td>9943447915df3a45fd6720a026af905b6da6b56a37701b...</td>\n",
       "    </tr>\n",
       "    <tr>\n",
       "      <th>user_time</th>\n",
       "      <td>2018-11-15 01:09:24</td>\n",
       "      <td>2018-11-15 01:09:24</td>\n",
       "      <td>2018-12-02 09:09:37</td>\n",
       "      <td>2018-12-02 09:09:37</td>\n",
       "      <td>2018-12-02 09:09:37</td>\n",
       "    </tr>\n",
       "    <tr>\n",
       "      <th>event</th>\n",
       "      <td>45</td>\n",
       "      <td>45</td>\n",
       "      <td>4</td>\n",
       "      <td>6</td>\n",
       "      <td>5</td>\n",
       "    </tr>\n",
       "    <tr>\n",
       "      <th>event_timestamp</th>\n",
       "      <td>1.54222e+12</td>\n",
       "      <td>1.54222e+12</td>\n",
       "      <td>1.54371e+12</td>\n",
       "      <td>1.54371e+12</td>\n",
       "      <td>1.54371e+12</td>\n",
       "    </tr>\n",
       "    <tr>\n",
       "      <th>event_value</th>\n",
       "      <td>0</td>\n",
       "      <td>0</td>\n",
       "      <td>0</td>\n",
       "      <td>0</td>\n",
       "      <td>1</td>\n",
       "    </tr>\n",
       "  </tbody>\n",
       "</table>\n",
       "</div>"
      ],
      "text/plain": [
       "                                                                            0  \\\n",
       "session_id                                                5558845121177764917   \n",
       "start_timestamp                                                 1542215364580   \n",
       "timezone                                                          Asia/Manila   \n",
       "timezone_offset                                                      28800000   \n",
       "previous_sessions_duration                                           25837591   \n",
       "user_created_timestamp                                          1538874289458   \n",
       "is_user_first_session                                                   false   \n",
       "country                                                                    PH   \n",
       "region                                                                     00   \n",
       "city                                                                   makati   \n",
       "latitude                                                              14.5547   \n",
       "longitude                                                             121.024   \n",
       "locale                                                                  en_GB   \n",
       "os_name                                                            Android OS   \n",
       "session_index                                                              30   \n",
       "device_id                                546a3d98-d540-4e72-ad82-9ebd64e0839b   \n",
       "user_id_hash                9943447915df3a45fd6720a026af905b6da6b56a37701b...   \n",
       "user_time                                                 2018-11-15 01:09:24   \n",
       "event                                                                      45   \n",
       "event_timestamp                                                   1.54222e+12   \n",
       "event_value                                                                 0   \n",
       "\n",
       "                                                                            1  \\\n",
       "session_id                                                5558845121177764917   \n",
       "start_timestamp                                                 1542215364580   \n",
       "timezone                                                          Asia/Manila   \n",
       "timezone_offset                                                      28800000   \n",
       "previous_sessions_duration                                           25837591   \n",
       "user_created_timestamp                                          1538874289458   \n",
       "is_user_first_session                                                   false   \n",
       "country                                                                    PH   \n",
       "region                                                                     00   \n",
       "city                                                                   makati   \n",
       "latitude                                                              14.5547   \n",
       "longitude                                                             121.024   \n",
       "locale                                                                  en_GB   \n",
       "os_name                                                            Android OS   \n",
       "session_index                                                              30   \n",
       "device_id                                546a3d98-d540-4e72-ad82-9ebd64e0839b   \n",
       "user_id_hash                9943447915df3a45fd6720a026af905b6da6b56a37701b...   \n",
       "user_time                                                 2018-11-15 01:09:24   \n",
       "event                                                                      45   \n",
       "event_timestamp                                                   1.54222e+12   \n",
       "event_value                                                                 0   \n",
       "\n",
       "                                                                            2  \\\n",
       "session_id                                                2201961907282901522   \n",
       "start_timestamp                                                 1543712977293   \n",
       "timezone                                                          Asia/Manila   \n",
       "timezone_offset                                                      28800000   \n",
       "previous_sessions_duration                                           35050130   \n",
       "user_created_timestamp                                          1538874289458   \n",
       "is_user_first_session                                                   false   \n",
       "country                                                                    PH   \n",
       "region                                                                     00   \n",
       "city                                                              quezon city   \n",
       "latitude                                                               14.676   \n",
       "longitude                                                             121.044   \n",
       "locale                                                                  en_GB   \n",
       "os_name                                                            Android OS   \n",
       "session_index                                                              47   \n",
       "device_id                                546a3d98-d540-4e72-ad82-9ebd64e0839b   \n",
       "user_id_hash                9943447915df3a45fd6720a026af905b6da6b56a37701b...   \n",
       "user_time                                                 2018-12-02 09:09:37   \n",
       "event                                                                       4   \n",
       "event_timestamp                                                   1.54371e+12   \n",
       "event_value                                                                 0   \n",
       "\n",
       "                                                                            3  \\\n",
       "session_id                                                2201961907282901522   \n",
       "start_timestamp                                                 1543712977293   \n",
       "timezone                                                          Asia/Manila   \n",
       "timezone_offset                                                      28800000   \n",
       "previous_sessions_duration                                           35050130   \n",
       "user_created_timestamp                                          1538874289458   \n",
       "is_user_first_session                                                   false   \n",
       "country                                                                    PH   \n",
       "region                                                                     00   \n",
       "city                                                              quezon city   \n",
       "latitude                                                               14.676   \n",
       "longitude                                                             121.044   \n",
       "locale                                                                  en_GB   \n",
       "os_name                                                            Android OS   \n",
       "session_index                                                              47   \n",
       "device_id                                546a3d98-d540-4e72-ad82-9ebd64e0839b   \n",
       "user_id_hash                9943447915df3a45fd6720a026af905b6da6b56a37701b...   \n",
       "user_time                                                 2018-12-02 09:09:37   \n",
       "event                                                                       6   \n",
       "event_timestamp                                                   1.54371e+12   \n",
       "event_value                                                                 0   \n",
       "\n",
       "                                                                            4  \n",
       "session_id                                                2201961907282901522  \n",
       "start_timestamp                                                 1543712977293  \n",
       "timezone                                                          Asia/Manila  \n",
       "timezone_offset                                                      28800000  \n",
       "previous_sessions_duration                                           35050130  \n",
       "user_created_timestamp                                          1538874289458  \n",
       "is_user_first_session                                                   false  \n",
       "country                                                                    PH  \n",
       "region                                                                     00  \n",
       "city                                                              quezon city  \n",
       "latitude                                                               14.676  \n",
       "longitude                                                             121.044  \n",
       "locale                                                                  en_GB  \n",
       "os_name                                                            Android OS  \n",
       "session_index                                                              47  \n",
       "device_id                                546a3d98-d540-4e72-ad82-9ebd64e0839b  \n",
       "user_id_hash                9943447915df3a45fd6720a026af905b6da6b56a37701b...  \n",
       "user_time                                                 2018-12-02 09:09:37  \n",
       "event                                                                       5  \n",
       "event_timestamp                                                   1.54371e+12  \n",
       "event_value                                                                 1  "
      ]
     },
     "execution_count": 34,
     "metadata": {},
     "output_type": "execute_result"
    }
   ],
   "source": [
    "merged.head().T"
   ]
  },
  {
   "cell_type": "code",
   "execution_count": 39,
   "metadata": {},
   "outputs": [
    {
     "data": {
      "text/plain": [
       "14245"
      ]
     },
     "execution_count": 39,
     "metadata": {},
     "output_type": "execute_result"
    }
   ],
   "source": [
    "import gc\n",
    "gc.collect()"
   ]
  },
  {
   "cell_type": "code",
   "execution_count": 42,
   "metadata": {},
   "outputs": [
    {
     "data": {
      "text/plain": [
       "(112069685, 21)"
      ]
     },
     "execution_count": 42,
     "metadata": {},
     "output_type": "execute_result"
    }
   ],
   "source": [
    "merged.shape"
   ]
  },
  {
   "cell_type": "code",
   "execution_count": 43,
   "metadata": {},
   "outputs": [],
   "source": [
    "merged.drop_duplicates(inplace=True)"
   ]
  },
  {
   "cell_type": "code",
   "execution_count": 44,
   "metadata": {},
   "outputs": [
    {
     "data": {
      "text/plain": [
       "(112061984, 21)"
      ]
     },
     "execution_count": 44,
     "metadata": {},
     "output_type": "execute_result"
    }
   ],
   "source": [
    "merged.shape"
   ]
  },
  {
   "cell_type": "code",
   "execution_count": 45,
   "metadata": {},
   "outputs": [
    {
     "data": {
      "text/plain": [
       "session_id                         0\n",
       "start_timestamp                    0\n",
       "timezone                           0\n",
       "timezone_offset                    0\n",
       "previous_sessions_duration         0\n",
       "user_created_timestamp             0\n",
       "is_user_first_session              0\n",
       "country                       111169\n",
       "region                         55102\n",
       "city                           54942\n",
       "latitude                       54942\n",
       "longitude                      54942\n",
       "locale                             0\n",
       "os_name                           84\n",
       "session_index                      0\n",
       "device_id                          0\n",
       "user_id_hash                       0\n",
       "user_time                          0\n",
       "event                         989971\n",
       "event_timestamp               989971\n",
       "event_value                   989971\n",
       "dtype: int64"
      ]
     },
     "execution_count": 45,
     "metadata": {},
     "output_type": "execute_result"
    }
   ],
   "source": [
    "merged.isna().sum(axis=0)"
   ]
  },
  {
   "cell_type": "code",
   "execution_count": 46,
   "metadata": {},
   "outputs": [],
   "source": [
    "merged.to_pickle('../merged.pkl')"
   ]
  },
  {
   "cell_type": "code",
   "execution_count": null,
   "metadata": {},
   "outputs": [],
   "source": []
  }
 ],
 "metadata": {
  "kernelspec": {
   "display_name": "Python 3",
   "language": "python",
   "name": "python3"
  },
  "language_info": {
   "codemirror_mode": {
    "name": "ipython",
    "version": 3
   },
   "file_extension": ".py",
   "mimetype": "text/x-python",
   "name": "python",
   "nbconvert_exporter": "python",
   "pygments_lexer": "ipython3",
   "version": "3.7.1"
  }
 },
 "nbformat": 4,
 "nbformat_minor": 2
}
