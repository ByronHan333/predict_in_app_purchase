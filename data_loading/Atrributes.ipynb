{
 "cells": [
  {
   "cell_type": "code",
   "execution_count": 1,
   "metadata": {
    "ExecuteTime": {
     "end_time": "2019-02-16T21:21:02.739979Z",
     "start_time": "2019-02-16T21:21:02.190250Z"
    }
   },
   "outputs": [],
   "source": [
    "import pandas as pd\n",
    "import numpy as np"
   ]
  },
  {
   "cell_type": "code",
   "execution_count": 2,
   "metadata": {
    "ExecuteTime": {
     "end_time": "2019-02-16T21:21:02.743792Z",
     "start_time": "2019-02-16T21:21:02.741807Z"
    }
   },
   "outputs": [],
   "source": [
    "import gc"
   ]
  },
  {
   "cell_type": "code",
   "execution_count": 8,
   "metadata": {
    "ExecuteTime": {
     "end_time": "2019-02-16T21:21:19.977012Z",
     "start_time": "2019-02-16T21:21:03.236853Z"
    }
   },
   "outputs": [],
   "source": [
    "attributes = pd.read_pickle('../attributes2.pkl')"
   ]
  },
  {
   "cell_type": "code",
   "execution_count": 9,
   "metadata": {
    "ExecuteTime": {
     "end_time": "2019-02-16T21:21:19.982180Z",
     "start_time": "2019-02-16T21:21:19.978826Z"
    }
   },
   "outputs": [
    {
     "data": {
      "text/plain": [
       "(185590092, 4)"
      ]
     },
     "execution_count": 9,
     "metadata": {},
     "output_type": "execute_result"
    }
   ],
   "source": [
    "attributes.shape"
   ]
  },
  {
   "cell_type": "code",
   "execution_count": 6,
   "metadata": {
    "ExecuteTime": {
     "end_time": "2019-02-16T21:21:19.998392Z",
     "start_time": "2019-02-16T21:21:19.984456Z"
    }
   },
   "outputs": [],
   "source": [
    "str_attributes = [5, 66, 48, 10, 7, 52, 49]"
   ]
  },
  {
   "cell_type": "code",
   "execution_count": 7,
   "metadata": {
    "ExecuteTime": {
     "end_time": "2019-02-16T21:21:24.757892Z",
     "start_time": "2019-02-16T21:21:20.000491Z"
    }
   },
   "outputs": [],
   "source": [
    "attributes = attributes[attributes.attribute.isin(str_attributes)]"
   ]
  },
  {
   "cell_type": "code",
   "execution_count": 8,
   "metadata": {
    "ExecuteTime": {
     "end_time": "2019-02-16T21:21:24.763835Z",
     "start_time": "2019-02-16T21:21:24.759382Z"
    }
   },
   "outputs": [
    {
     "data": {
      "text/plain": [
       "(39902587, 4)"
      ]
     },
     "execution_count": 8,
     "metadata": {},
     "output_type": "execute_result"
    }
   ],
   "source": [
    "attributes.shape"
   ]
  },
  {
   "cell_type": "code",
   "execution_count": 9,
   "metadata": {
    "ExecuteTime": {
     "end_time": "2019-02-16T21:21:24.786986Z",
     "start_time": "2019-02-16T21:21:24.766124Z"
    }
   },
   "outputs": [],
   "source": [
    "attributes.reset_index(inplace=True, drop=True)"
   ]
  },
  {
   "cell_type": "code",
   "execution_count": 10,
   "metadata": {
    "ExecuteTime": {
     "end_time": "2019-02-16T21:21:35.171309Z",
     "start_time": "2019-02-16T21:21:24.788307Z"
    }
   },
   "outputs": [],
   "source": [
    "attributes['data_type'] = attributes.attribute_value.apply(lambda x: type(x).__name__)"
   ]
  },
  {
   "cell_type": "code",
   "execution_count": 11,
   "metadata": {
    "ExecuteTime": {
     "end_time": "2019-02-16T21:21:35.178398Z",
     "start_time": "2019-02-16T21:21:35.173260Z"
    }
   },
   "outputs": [
    {
     "data": {
      "text/plain": [
       "0    romance_the_royal_romance_02:11\n",
       "1    romance_the_royal_romance_02:10\n",
       "2     romance_the_royal_romance_01:1\n",
       "3          picker ya_romance_vampire\n",
       "4                                NaN\n",
       "Name: attribute_value, dtype: object"
      ]
     },
     "execution_count": 11,
     "metadata": {},
     "output_type": "execute_result"
    }
   ],
   "source": [
    "attributes.attribute_value.head()"
   ]
  },
  {
   "cell_type": "code",
   "execution_count": 12,
   "metadata": {
    "ExecuteTime": {
     "end_time": "2019-02-16T21:21:37.206490Z",
     "start_time": "2019-02-16T21:21:35.180928Z"
    }
   },
   "outputs": [],
   "source": [
    "attributes.data_type = attributes.data_type.astype('category')"
   ]
  },
  {
   "cell_type": "code",
   "execution_count": 13,
   "metadata": {
    "ExecuteTime": {
     "end_time": "2019-02-16T21:21:37.213371Z",
     "start_time": "2019-02-16T21:21:37.207579Z"
    }
   },
   "outputs": [
    {
     "data": {
      "text/plain": [
       "0      str\n",
       "1      str\n",
       "2      str\n",
       "3      str\n",
       "4    float\n",
       "Name: data_type, dtype: category\n",
       "Categories (2, object): [float, str]"
      ]
     },
     "execution_count": 13,
     "metadata": {},
     "output_type": "execute_result"
    }
   ],
   "source": [
    "attributes.data_type.head()"
   ]
  },
  {
   "cell_type": "code",
   "execution_count": 14,
   "metadata": {
    "ExecuteTime": {
     "end_time": "2019-02-16T21:21:38.345504Z",
     "start_time": "2019-02-16T21:21:37.215151Z"
    }
   },
   "outputs": [
    {
     "data": {
      "text/plain": [
       "array([nan], dtype=object)"
      ]
     },
     "execution_count": 14,
     "metadata": {},
     "output_type": "execute_result"
    }
   ],
   "source": [
    "attributes[attributes.data_type != 'str'].attribute_value.unique()"
   ]
  },
  {
   "cell_type": "markdown",
   "metadata": {},
   "source": [
    "# `5`"
   ]
  },
  {
   "cell_type": "code",
   "execution_count": 10,
   "metadata": {
    "ExecuteTime": {
     "end_time": "2019-02-16T19:12:43.143572Z",
     "start_time": "2019-02-16T19:12:42.340534Z"
    }
   },
   "outputs": [
    {
     "data": {
      "text/plain": [
       "romance_the_royal_romance_01:1          303824\n",
       "romance_high_school_story_01:1          249636\n",
       "romance_the_royal_romance_01:3          113642\n",
       "horror_bloodbound_01:1                  106965\n",
       "romance_high_school_story_01:2           94837\n",
       "romance_high_school_story_01:3           90028\n",
       "romance_the_royal_romance_01:2           89686\n",
       "romance_the_royal_romance_01:4           78745\n",
       "romance_the_royal_romance_01:5           61945\n",
       "romance_high_school_story_01:4           61368\n",
       "romance_big_sky_country_01:1             60281\n",
       "romance_the_royal_romance_01:6           57596\n",
       "romance_high_school_story_01:5           57413\n",
       "romance_high_school_story_04:1           55396\n",
       "romance_the_royal_romance_01:7           55387\n",
       "romance_americas_most_eligible_01:1      53658\n",
       "romance_the_freshman_01:1                52962\n",
       "romance_high_school_story_01:6           51108\n",
       "romance_the_royal_romance_01:8           49768\n",
       "horror_bloodbound_01:2                   48980\n",
       "fantasy_the_elementalists_01:1           47234\n",
       "romance_high_school_story_01:8           47017\n",
       "romance_the_royal_romance_01:9           46365\n",
       "romance_high_school_story_01:7           42618\n",
       "romance_the_royal_romance_01:10          40711\n",
       "romance_the_freshman_01:2                38832\n",
       "romance_the_royal_romance_01:11          38601\n",
       "romance_high_school_story_01:9           37248\n",
       "romance_perfect_match_01:1               36256\n",
       "horror_bloodbound_01:3                   35402\n",
       "                                         ...  \n",
       "test_final_chapter_replay:3                 30\n",
       "test_scripts_240:2                          16\n",
       "test_scripts_230:1                          14\n",
       "test_import_helper_code_02:1                14\n",
       "test_chapter_replay:1                       13\n",
       "test_diamond_locked:1                       11\n",
       "test_scripts_200:4                          10\n",
       "test_chapter_replay:4                        8\n",
       "test_series_01:1                             8\n",
       "crime_most_wanted_01:0                       7\n",
       "fantasy_the_crown_and_the_flame_01:0         7\n",
       "test_import_helper_code_01:2                 6\n",
       "test_scripts_200:3                           6\n",
       "test_scripts_170:2                           5\n",
       "test_scripts_240:1                           5\n",
       "test_chat_ariel_001:1                        5\n",
       "test_scripts_200:2                           4\n",
       "test_scripts_237:1                           4\n",
       "test_chat_andrew_001:1                       4\n",
       "test_chapter_replay:3                        3\n",
       "test_scripts_190:1                           2\n",
       "chat_romance_kiss_and_tell_02:1              2\n",
       "romance_the_freshman_02:0                    2\n",
       "test_series_01:2                             1\n",
       "test_scripts_190_2:1                         1\n",
       "test_chapter_replay:2                        1\n",
       "test_scripts_230:2                           1\n",
       "chat_romance_texts_from_hss_01:1             1\n",
       "romance_rules_of_engagement_01:0             1\n",
       "romance_rideordie_01:1                       1\n",
       "Name: attribute_value, Length: 735, dtype: int64"
      ]
     },
     "execution_count": 10,
     "metadata": {},
     "output_type": "execute_result"
    }
   ],
   "source": [
    "attributes[attributes.attribute == 5].attribute_value.value_counts()"
   ]
  },
  {
   "cell_type": "code",
   "execution_count": 11,
   "metadata": {
    "ExecuteTime": {
     "end_time": "2019-02-16T21:21:38.352760Z",
     "start_time": "2019-02-16T21:21:38.347874Z"
    }
   },
   "outputs": [],
   "source": [
    "def convert_5(x):\n",
    "    try:\n",
    "        t = x.split(':')\n",
    "        return {t[0]: int(t[1])}\n",
    "    except:\n",
    "        return x"
   ]
  },
  {
   "cell_type": "code",
   "execution_count": 12,
   "metadata": {
    "ExecuteTime": {
     "end_time": "2019-02-16T21:24:23.978391Z",
     "start_time": "2019-02-16T21:24:20.603467Z"
    }
   },
   "outputs": [],
   "source": [
    "temp = attributes[attributes.attribute == 5].attribute_value.apply(lambda x: convert_5(x))"
   ]
  },
  {
   "cell_type": "code",
   "execution_count": 13,
   "metadata": {
    "ExecuteTime": {
     "end_time": "2019-02-16T21:24:46.878108Z",
     "start_time": "2019-02-16T21:24:42.157705Z"
    }
   },
   "outputs": [],
   "source": [
    "temp.to_pickle('../temp5')"
   ]
  },
  {
   "cell_type": "code",
   "execution_count": 14,
   "metadata": {
    "ExecuteTime": {
     "end_time": "2019-02-16T21:21:45.522986Z",
     "start_time": "2019-02-16T21:21:43.864203Z"
    }
   },
   "outputs": [],
   "source": [
    "attributes.loc[attributes.attribute == 5, ['attribute_value']] = temp.values"
   ]
  },
  {
   "cell_type": "code",
   "execution_count": 15,
   "metadata": {
    "ExecuteTime": {
     "end_time": "2019-02-16T21:24:50.339480Z",
     "start_time": "2019-02-16T21:24:50.334024Z"
    }
   },
   "outputs": [],
   "source": [
    "del temp"
   ]
  },
  {
   "cell_type": "code",
   "execution_count": 16,
   "metadata": {
    "ExecuteTime": {
     "end_time": "2019-02-16T21:26:23.826104Z",
     "start_time": "2019-02-16T21:26:23.787666Z"
    }
   },
   "outputs": [
    {
     "data": {
      "text/plain": [
       "0"
      ]
     },
     "execution_count": 16,
     "metadata": {},
     "output_type": "execute_result"
    }
   ],
   "source": [
    "gc.collect()"
   ]
  },
  {
   "cell_type": "markdown",
   "metadata": {},
   "source": [
    "# `66`"
   ]
  },
  {
   "cell_type": "code",
   "execution_count": 18,
   "metadata": {
    "ExecuteTime": {
     "end_time": "2019-02-16T21:22:40.500931Z",
     "start_time": "2019-02-16T21:22:40.495730Z"
    }
   },
   "outputs": [],
   "source": [
    "def convert_66(x):\n",
    "    try:\n",
    "        t = x[2:-2].replace('\\\\', '').replace('\"', '').split(',')\n",
    "        return {d.split(':')[0]: int(d.split(':')[1]) for d in t}\n",
    "    except:\n",
    "        return x"
   ]
  },
  {
   "cell_type": "code",
   "execution_count": 21,
   "metadata": {
    "ExecuteTime": {
     "start_time": "2019-02-16T21:26:33.572Z"
    }
   },
   "outputs": [],
   "source": [
    "temp = attributes[attributes.attribute == 66].attribute_value.apply(lambda x: convert_66(x))"
   ]
  },
  {
   "cell_type": "code",
   "execution_count": 22,
   "metadata": {},
   "outputs": [],
   "source": [
    "temp.to_pickle('../temp66')"
   ]
  },
  {
   "cell_type": "code",
   "execution_count": 23,
   "metadata": {},
   "outputs": [],
   "source": [
    "attributes.loc[attributes.attribute == 66, ['attribute_value']] = temp.values"
   ]
  },
  {
   "cell_type": "code",
   "execution_count": 24,
   "metadata": {},
   "outputs": [],
   "source": [
    "del temp"
   ]
  },
  {
   "cell_type": "code",
   "execution_count": 25,
   "metadata": {},
   "outputs": [
    {
     "data": {
      "text/plain": [
       "88"
      ]
     },
     "execution_count": 25,
     "metadata": {},
     "output_type": "execute_result"
    }
   ],
   "source": [
    "gc.collect()"
   ]
  },
  {
   "cell_type": "markdown",
   "metadata": {},
   "source": [
    "# `48`"
   ]
  },
  {
   "cell_type": "code",
   "execution_count": 26,
   "metadata": {},
   "outputs": [
    {
     "data": {
      "text/plain": [
       "picker ya_romance_vampire                        6075847\n",
       "default                                            77927\n",
       "picker romance_fantasy                             22279\n",
       "picker ya_romance_fantasy                           5529\n",
       "picker ya_romance_scifi                              418\n",
       "picker ya_romance_horror                             236\n",
       "picker hss_fantasy                                    78\n",
       "picker storefront_test                                51\n",
       "picker reality_romance_vampire_book_title             45\n",
       "picker college_romance_adventure                      42\n",
       "picker romance_fantasy_adventure                      41\n",
       "picker reality_romance_vampire_short_title            22\n",
       "picker college_fantasy_romance                        20\n",
       "picker ya_romance_vampire_long_title_control          18\n",
       "picker historical_romance_vampire_book_title          18\n",
       "picker ya_romance_vampire_book_title_control          15\n",
       "book romance_the_freshman_01                          14\n",
       "picker historical_romance_vampire_short_title         12\n",
       "picker romance_trr_fantasy                            12\n",
       "picker reality_romance_vampire_long_title             12\n",
       "picker love_fantasy                                    8\n",
       "picker romance_roe_fantasy                             6\n",
       "picker historical_romance_vampire_long_title           2\n",
       "Name: attribute_value, dtype: int64"
      ]
     },
     "execution_count": 26,
     "metadata": {},
     "output_type": "execute_result"
    }
   ],
   "source": [
    "attributes[attributes.attribute == 48].attribute_value.value_counts()"
   ]
  },
  {
   "cell_type": "code",
   "execution_count": 29,
   "metadata": {},
   "outputs": [],
   "source": [
    "def convert_48(x):\n",
    "    try:\n",
    "        return {x: 1}\n",
    "    except:\n",
    "        x"
   ]
  },
  {
   "cell_type": "code",
   "execution_count": 30,
   "metadata": {},
   "outputs": [],
   "source": [
    "temp = attributes[attributes.attribute == 48].attribute_value.apply(lambda x: convert_48(x))"
   ]
  },
  {
   "cell_type": "code",
   "execution_count": 32,
   "metadata": {},
   "outputs": [],
   "source": [
    "temp.to_pickle('../temp48')"
   ]
  },
  {
   "cell_type": "code",
   "execution_count": 33,
   "metadata": {},
   "outputs": [],
   "source": [
    "attributes.loc[attributes.attribute == 48, ['attribute_value']] = temp.values"
   ]
  },
  {
   "cell_type": "markdown",
   "metadata": {},
   "source": [
    "# `10`"
   ]
  },
  {
   "cell_type": "code",
   "execution_count": 35,
   "metadata": {},
   "outputs": [
    {
     "data": {
      "text/plain": [
       "romance_the_royal_romance_01:1                  2244265\n",
       "romance_high_school_story_01:1                  1720925\n",
       "horror_bloodbound_01:1                           480974\n",
       "romance_the_freshman_01:1                        355856\n",
       "romance_big_sky_country_01:1                     170055\n",
       "romance_americas_most_eligible_01:1              127471\n",
       "romance_high_school_story_04:1                   104564\n",
       "fantasy_the_elementalists_01:1                   100773\n",
       "romance_rules_of_engagement_01:1                  87355\n",
       "romance_perfect_match_01:1                        63879\n",
       "romance_desire_and_decorum_01:1                   61922\n",
       "horror_it_lives_in_the_woods_01:1                 44683\n",
       "fantasy_the_crown_and_the_flame_01:1              41171\n",
       "romance_the_senior_01:1                           30142\n",
       "adventure_endless_summer_01:1                     26738\n",
       "romance_courtesan_of_rome_01:1                    25547\n",
       "romance_lovehacks_01:1                            20620\n",
       "horror_it_lives_in_the_woods_02:1                 19774\n",
       "scifi_across_the_void_01:1                        18160\n",
       "romance_home_for_the_holidays_01:1                14965\n",
       "romance_the_royal_romance_03:1                    13925\n",
       "romance_the_royal_romance_02:1                    12218\n",
       "mystery_veil_of_secrets_01:1                      11797\n",
       "romance_red_carpet_diaries_01:1                   11701\n",
       "romance_the_freshman_02:1                         11658\n",
       "adventure_hero_01:1                               10010\n",
       "romance_the_junior_01:1                            9648\n",
       "crime_most_wanted_01:1                             8750\n",
       "romance_the_sophomore_01:1                         8740\n",
       "romance_high_school_story_03:1                     8617\n",
       "                                                 ...   \n",
       "romance_lovehacks_02:1                             1643\n",
       "adventure_endless_summer_02:1                      1491\n",
       "romance_the_sophomore_01_side_halloween_01:1       1206\n",
       "adventure_endless_summer_03:1                      1094\n",
       "fantasy_the_crown_and_the_flame_03:1               1028\n",
       "romance_the_freshman_01_side_james_01:1             929\n",
       "crime_the_heist_01:1                                654\n",
       "crime_most_wanted_01:0                              475\n",
       "fantasy_the_crown_and_the_flame_01:0                396\n",
       "test_final_chapter_replay:1                         289\n",
       "romance_desire_and_decorum_02:1                     137\n",
       "test_chapter_replay:1                                45\n",
       "romance_rules_of_engagement_01:19                    35\n",
       "test_import_helper_code_01:1                         26\n",
       "test_scripts_230:1                                   23\n",
       "romance_rules_of_engagement_01:0                     22\n",
       "romance_lovehacks_01:18                              18\n",
       "test_ticket_locked:1                                 13\n",
       "romance_desire_and_decorum_01:16                     12\n",
       "romance_the_freshman_02:0                            10\n",
       "test_tobecontinued_final:1                            8\n",
       "test_theme_all:1                                      6\n",
       "test_chat_andrew_001:1                                5\n",
       "romance_the_royal_romance_01:19                       4\n",
       "romance_the_freshman_01:7                             2\n",
       "test_scripts_200:1                                    2\n",
       "test_scripts_190:1                                    2\n",
       "romance_the_freshman_01:4                             2\n",
       "kLoadingFlagBlockOnAsyncCall                          1\n",
       "test_series_01:1                                      1\n",
       "Name: attribute_value, Length: 77, dtype: int64"
      ]
     },
     "execution_count": 35,
     "metadata": {},
     "output_type": "execute_result"
    }
   ],
   "source": [
    "attributes[attributes.attribute == 10].attribute_value.value_counts()"
   ]
  },
  {
   "cell_type": "code",
   "execution_count": 36,
   "metadata": {},
   "outputs": [],
   "source": [
    "def convert_10(x):\n",
    "    try:\n",
    "        t = x.split(':')\n",
    "        return {t[0]: int(t[1])}\n",
    "    except:\n",
    "        return x"
   ]
  },
  {
   "cell_type": "code",
   "execution_count": 37,
   "metadata": {},
   "outputs": [],
   "source": [
    "temp = attributes[attributes.attribute == 10].attribute_value.apply(lambda x: convert_10(x))"
   ]
  },
  {
   "cell_type": "code",
   "execution_count": 38,
   "metadata": {},
   "outputs": [],
   "source": [
    "temp.to_pickle('../temp10')"
   ]
  },
  {
   "cell_type": "code",
   "execution_count": 39,
   "metadata": {},
   "outputs": [],
   "source": [
    "attributes.loc[attributes.attribute == 10, ['attribute_value']] = temp.values"
   ]
  },
  {
   "cell_type": "markdown",
   "metadata": {},
   "source": [
    "# `7`"
   ]
  },
  {
   "cell_type": "code",
   "execution_count": 40,
   "metadata": {},
   "outputs": [
    {
     "data": {
      "text/plain": [
       "romance_the_royal_romance_01:3          136500\n",
       "romance_high_school_story_01:1          122724\n",
       "romance_the_royal_romance_01:1          119450\n",
       "romance_high_school_story_01:3           96467\n",
       "romance_the_royal_romance_01:2           71189\n",
       "romance_the_royal_romance_01:5           65712\n",
       "romance_the_royal_romance_01:4           63049\n",
       "romance_the_royal_romance_01:6           61372\n",
       "romance_high_school_story_01:2           60314\n",
       "romance_high_school_story_01:4           59283\n",
       "romance_high_school_story_01:5           58941\n",
       "horror_bloodbound_01:1                   55375\n",
       "romance_the_royal_romance_01:7           55051\n",
       "romance_high_school_story_01:7           52749\n",
       "romance_the_freshman_01:1                52278\n",
       "romance_the_royal_romance_01:8           48488\n",
       "romance_high_school_story_01:6           46970\n",
       "romance_big_sky_country_01:1             45716\n",
       "romance_the_royal_romance_01:9           44335\n",
       "romance_high_school_story_01:8           42306\n",
       "romance_the_royal_romance_01:10          41330\n",
       "romance_the_royal_romance_01:12          35383\n",
       "romance_rules_of_engagement_01:1         35268\n",
       "horror_bloodbound_01:3                   34147\n",
       "romance_the_royal_romance_01:11          33663\n",
       "romance_high_school_story_01:9           33570\n",
       "romance_americas_most_eligible_01:1      32670\n",
       "romance_high_school_story_04:1           32503\n",
       "horror_bloodbound_01:2                   32500\n",
       "romance_the_freshman_01:2                32149\n",
       "                                         ...  \n",
       "test_final_chapter_replay:1                104\n",
       "test_final_chapter_replay:2                 40\n",
       "test_final_chapter_replay:3                 35\n",
       "romance_the_freshman_01:0                   35\n",
       "test_theme_all:1                            23\n",
       "test_scripts_240:1                          22\n",
       "fantasy_the_crown_and_the_flame_01:0        17\n",
       "test_chapter_replay:3                       16\n",
       "test_scripts_230:1                          14\n",
       "test_chapter_replay:1                       14\n",
       "test_import_helper_code_02:1                14\n",
       "romance_the_freshman_02:0                   13\n",
       "crime_most_wanted_01:0                      10\n",
       "test_scripts_200:4                          10\n",
       "test_diamond_locked:1                        8\n",
       "test_series_01:1                             8\n",
       "test_import_helper_code_01:2                 6\n",
       "test_scripts_200:3                           6\n",
       "test_chat_andrew_001:1                       5\n",
       "test_chapter_replay:4                        4\n",
       "test_scripts_200:2                           4\n",
       "test_scripts_170:2                           2\n",
       "test_scripts_190:1                           2\n",
       "romance_rules_of_engagement_01:0             2\n",
       "test_scripts_237:1                           2\n",
       "test_scripts_240:2                           2\n",
       "chat_romance_kiss_and_tell_02:1              2\n",
       "test_series_01:2                             1\n",
       "fantasy_the_crown_and_the_flame_02:0         1\n",
       "test_chapter_replay:2                        1\n",
       "Name: attribute_value, Length: 732, dtype: int64"
      ]
     },
     "execution_count": 40,
     "metadata": {},
     "output_type": "execute_result"
    }
   ],
   "source": [
    "attributes[attributes.attribute == 7].attribute_value.value_counts()"
   ]
  },
  {
   "cell_type": "code",
   "execution_count": 41,
   "metadata": {},
   "outputs": [],
   "source": [
    "def convert_7(x):\n",
    "    try:\n",
    "        t = x.split(':')\n",
    "        return {t[0]: int(t[1])}\n",
    "    except:\n",
    "        return x"
   ]
  },
  {
   "cell_type": "code",
   "execution_count": 42,
   "metadata": {},
   "outputs": [],
   "source": [
    "temp = attributes[attributes.attribute == 7].attribute_value.apply(lambda x: convert_7(x))"
   ]
  },
  {
   "cell_type": "code",
   "execution_count": 43,
   "metadata": {},
   "outputs": [],
   "source": [
    "temp.to_pickle('../temp7')"
   ]
  },
  {
   "cell_type": "code",
   "execution_count": 44,
   "metadata": {},
   "outputs": [],
   "source": [
    "attributes.loc[attributes.attribute == 7, ['attribute_value']] = temp.values"
   ]
  },
  {
   "cell_type": "markdown",
   "metadata": {},
   "source": [
    "# `52`"
   ]
  },
  {
   "cell_type": "code",
   "execution_count": 45,
   "metadata": {},
   "outputs": [
    {
     "data": {
      "text/plain": [
       "not_subscribed                       86529\n",
       "lapsed                                  19\n",
       "freeloader                               3\n",
       "choices_keys_subscription_monthly        2\n",
       "Name: attribute_value, dtype: int64"
      ]
     },
     "execution_count": 45,
     "metadata": {},
     "output_type": "execute_result"
    }
   ],
   "source": [
    "attributes[attributes.attribute == 52].attribute_value.value_counts()"
   ]
  },
  {
   "cell_type": "code",
   "execution_count": 46,
   "metadata": {},
   "outputs": [],
   "source": [
    "def convert_52(x):\n",
    "    try:\n",
    "        return {x: 1}\n",
    "    except:\n",
    "        x"
   ]
  },
  {
   "cell_type": "code",
   "execution_count": 47,
   "metadata": {},
   "outputs": [],
   "source": [
    "temp = attributes[attributes.attribute == 52].attribute_value.apply(lambda x: convert_52(x))"
   ]
  },
  {
   "cell_type": "code",
   "execution_count": 48,
   "metadata": {},
   "outputs": [],
   "source": [
    "temp.to_pickle('../temp52')"
   ]
  },
  {
   "cell_type": "code",
   "execution_count": 49,
   "metadata": {},
   "outputs": [],
   "source": [
    "attributes.loc[attributes.attribute == 52, ['attribute_value']] = temp.values"
   ]
  },
  {
   "cell_type": "markdown",
   "metadata": {},
   "source": [
    "# `49`"
   ]
  },
  {
   "cell_type": "code",
   "execution_count": 50,
   "metadata": {},
   "outputs": [
    {
     "data": {
      "text/plain": [
       "true    65\n",
       "Name: attribute_value, dtype: int64"
      ]
     },
     "execution_count": 50,
     "metadata": {},
     "output_type": "execute_result"
    }
   ],
   "source": [
    "attributes[attributes.attribute == 49].attribute_value.value_counts()"
   ]
  },
  {
   "cell_type": "code",
   "execution_count": 52,
   "metadata": {},
   "outputs": [],
   "source": [
    "attributes.loc[attributes.attribute == 49, ['attribute_value']] = np.ones(65)"
   ]
  },
  {
   "cell_type": "code",
   "execution_count": 53,
   "metadata": {},
   "outputs": [
    {
     "data": {
      "text/plain": [
       "1.0    65\n",
       "Name: attribute_value, dtype: int64"
      ]
     },
     "execution_count": 53,
     "metadata": {},
     "output_type": "execute_result"
    }
   ],
   "source": [
    "attributes[attributes.attribute == 49].attribute_value.value_counts()"
   ]
  },
  {
   "cell_type": "code",
   "execution_count": 54,
   "metadata": {},
   "outputs": [],
   "source": [
    "attributes.to_pickle('../attributes3.pkl')"
   ]
  },
  {
   "cell_type": "markdown",
   "metadata": {},
   "source": [
    "# Simplification"
   ]
  },
  {
   "cell_type": "code",
   "execution_count": 1,
   "metadata": {},
   "outputs": [],
   "source": [
    "import pandas as pd\n",
    "import gc"
   ]
  },
  {
   "cell_type": "code",
   "execution_count": 4,
   "metadata": {},
   "outputs": [],
   "source": [
    "attributes = pd.read_pickle('../attributes3.pkl')"
   ]
  },
  {
   "cell_type": "code",
   "execution_count": 5,
   "metadata": {},
   "outputs": [],
   "source": [
    "attributes['data_type'] = attributes.attribute_value.apply(lambda x: type(x).__name__)"
   ]
  },
  {
   "cell_type": "code",
   "execution_count": 6,
   "metadata": {},
   "outputs": [
    {
     "data": {
      "text/plain": [
       "int      125358452\n",
       "dict      38113289\n",
       "float     22118350\n",
       "str              1\n",
       "Name: data_type, dtype: int64"
      ]
     },
     "execution_count": 6,
     "metadata": {},
     "output_type": "execute_result"
    }
   ],
   "source": [
    "attributes.data_type.value_counts()"
   ]
  },
  {
   "cell_type": "code",
   "execution_count": 7,
   "metadata": {},
   "outputs": [],
   "source": [
    "attributes = attributes[attributes.data_type != 'str']"
   ]
  },
  {
   "cell_type": "code",
   "execution_count": 8,
   "metadata": {},
   "outputs": [
    {
     "data": {
      "text/plain": [
       "(185590091, 5)"
      ]
     },
     "execution_count": 8,
     "metadata": {},
     "output_type": "execute_result"
    }
   ],
   "source": [
    "attributes.shape"
   ]
  },
  {
   "cell_type": "code",
   "execution_count": 9,
   "metadata": {},
   "outputs": [
    {
     "data": {
      "text/html": [
       "<div>\n",
       "<style scoped>\n",
       "    .dataframe tbody tr th:only-of-type {\n",
       "        vertical-align: middle;\n",
       "    }\n",
       "\n",
       "    .dataframe tbody tr th {\n",
       "        vertical-align: top;\n",
       "    }\n",
       "\n",
       "    .dataframe thead th {\n",
       "        text-align: right;\n",
       "    }\n",
       "</style>\n",
       "<table border=\"1\" class=\"dataframe\">\n",
       "  <thead>\n",
       "    <tr style=\"text-align: right;\">\n",
       "      <th></th>\n",
       "      <th>session_id</th>\n",
       "      <th>attribute</th>\n",
       "      <th>attribute_value</th>\n",
       "      <th>user_id_hash</th>\n",
       "      <th>data_type</th>\n",
       "    </tr>\n",
       "  </thead>\n",
       "  <tbody>\n",
       "    <tr>\n",
       "      <th>0</th>\n",
       "      <td>2201961907282901522</td>\n",
       "      <td>0</td>\n",
       "      <td>1</td>\n",
       "      <td>9943447915df3a45fd6720a026af905b6da6b56a37701b...</td>\n",
       "      <td>int</td>\n",
       "    </tr>\n",
       "    <tr>\n",
       "      <th>1</th>\n",
       "      <td>2201961907282901522</td>\n",
       "      <td>1</td>\n",
       "      <td>1</td>\n",
       "      <td>9943447915df3a45fd6720a026af905b6da6b56a37701b...</td>\n",
       "      <td>int</td>\n",
       "    </tr>\n",
       "    <tr>\n",
       "      <th>2</th>\n",
       "      <td>2201961907282901522</td>\n",
       "      <td>3</td>\n",
       "      <td>0</td>\n",
       "      <td>9943447915df3a45fd6720a026af905b6da6b56a37701b...</td>\n",
       "      <td>int</td>\n",
       "    </tr>\n",
       "    <tr>\n",
       "      <th>3</th>\n",
       "      <td>2201961907282901522</td>\n",
       "      <td>4</td>\n",
       "      <td>0</td>\n",
       "      <td>9943447915df3a45fd6720a026af905b6da6b56a37701b...</td>\n",
       "      <td>float</td>\n",
       "    </tr>\n",
       "    <tr>\n",
       "      <th>4</th>\n",
       "      <td>2201961907282901522</td>\n",
       "      <td>5</td>\n",
       "      <td>{'romance_the_royal_romance_02': 11}</td>\n",
       "      <td>9943447915df3a45fd6720a026af905b6da6b56a37701b...</td>\n",
       "      <td>dict</td>\n",
       "    </tr>\n",
       "  </tbody>\n",
       "</table>\n",
       "</div>"
      ],
      "text/plain": [
       "            session_id  attribute                       attribute_value  \\\n",
       "0  2201961907282901522          0                                     1   \n",
       "1  2201961907282901522          1                                     1   \n",
       "2  2201961907282901522          3                                     0   \n",
       "3  2201961907282901522          4                                     0   \n",
       "4  2201961907282901522          5  {'romance_the_royal_romance_02': 11}   \n",
       "\n",
       "                                        user_id_hash data_type  \n",
       "0  9943447915df3a45fd6720a026af905b6da6b56a37701b...       int  \n",
       "1  9943447915df3a45fd6720a026af905b6da6b56a37701b...       int  \n",
       "2  9943447915df3a45fd6720a026af905b6da6b56a37701b...       int  \n",
       "3  9943447915df3a45fd6720a026af905b6da6b56a37701b...     float  \n",
       "4  9943447915df3a45fd6720a026af905b6da6b56a37701b...      dict  "
      ]
     },
     "execution_count": 9,
     "metadata": {},
     "output_type": "execute_result"
    }
   ],
   "source": [
    "attributes.head()"
   ]
  },
  {
   "cell_type": "code",
   "execution_count": 10,
   "metadata": {},
   "outputs": [
    {
     "data": {
      "text/plain": [
       "(6510494,)"
      ]
     },
     "execution_count": 10,
     "metadata": {},
     "output_type": "execute_result"
    }
   ],
   "source": [
    "attributes.session_id.unique().shape"
   ]
  },
  {
   "cell_type": "code",
   "execution_count": 11,
   "metadata": {},
   "outputs": [
    {
     "data": {
      "text/plain": [
       "(30,)"
      ]
     },
     "execution_count": 11,
     "metadata": {},
     "output_type": "execute_result"
    }
   ],
   "source": [
    "attributes.attribute.unique().shape"
   ]
  },
  {
   "cell_type": "code",
   "execution_count": 12,
   "metadata": {},
   "outputs": [
    {
     "data": {
      "text/plain": [
       "(621460,)"
      ]
     },
     "execution_count": 12,
     "metadata": {},
     "output_type": "execute_result"
    }
   ],
   "source": [
    "attributes.user_id_hash.unique().shape"
   ]
  },
  {
   "cell_type": "code",
   "execution_count": 16,
   "metadata": {},
   "outputs": [
    {
     "data": {
      "text/plain": [
       "0            1554799\n",
       "1            1554799\n",
       "2            1554799\n",
       "3            1554799\n",
       "4            1554799\n",
       "5            1554799\n",
       "6            1554799\n",
       "7            1554799\n",
       "8            1554799\n",
       "9            1554799\n",
       "10           1554799\n",
       "11           1554799\n",
       "12           1554799\n",
       "13           1554799\n",
       "14           1554799\n",
       "15           1554799\n",
       "16           1554799\n",
       "17           1554799\n",
       "18           1554799\n",
       "19           1554799\n",
       "20           1554799\n",
       "21           1554799\n",
       "22           1554799\n",
       "23           1554799\n",
       "24           1554799\n",
       "25           1554799\n",
       "26           1554799\n",
       "27           1589391\n",
       "28           1589391\n",
       "29           1589391\n",
       "              ...   \n",
       "185590062    2301987\n",
       "185590063    1347283\n",
       "185590064    2301987\n",
       "185590065    1347283\n",
       "185590066    2301987\n",
       "185590067    1347283\n",
       "185590068    2301987\n",
       "185590069    1347283\n",
       "185590070    2301987\n",
       "185590071    1347283\n",
       "185590072    2301987\n",
       "185590073    1347283\n",
       "185590074    2301987\n",
       "185590075    1347283\n",
       "185590076    2301987\n",
       "185590077    1347283\n",
       "185590078    2301987\n",
       "185590079    1347283\n",
       "185590080    2301987\n",
       "185590081    1347283\n",
       "185590082    2301987\n",
       "185590083    1347283\n",
       "185590084    2301987\n",
       "185590085    1347283\n",
       "185590086    2301987\n",
       "185590087    1347283\n",
       "185590088    2301987\n",
       "185590089    1347283\n",
       "185590090    2301987\n",
       "185590091    1347283\n",
       "Length: 185590091, dtype: object"
      ]
     },
     "execution_count": 16,
     "metadata": {},
     "output_type": "execute_result"
    }
   ],
   "source": [
    "x1 = attributes.session_id.cat.codes.apply(lambda x: str(x))\n",
    "x1 = attributes.session_id.cat.codes.apply(lambda x: str(x))"
   ]
  },
  {
   "cell_type": "code",
   "execution_count": 60,
   "metadata": {},
   "outputs": [
    {
     "data": {
      "text/plain": [
       "16    6776351\n",
       "17    6776351\n",
       "1     6776351\n",
       "3     6776351\n",
       "4     6776351\n",
       "5     6776351\n",
       "6     6776351\n",
       "7     6776351\n",
       "8     6776351\n",
       "9     6776351\n",
       "11    6776351\n",
       "13    6776351\n",
       "14    6776351\n",
       "15    6776351\n",
       "0     6776351\n",
       "18    6776351\n",
       "19    6776351\n",
       "20    6776351\n",
       "21    6776351\n",
       "52    6776351\n",
       "10    6776350\n",
       "75    6776297\n",
       "76    6776297\n",
       "77    6776297\n",
       "78    6685459\n",
       "66    6614104\n",
       "48    6183014\n",
       "67    3395545\n",
       "96      79643\n",
       "49         65\n",
       "Name: attribute, dtype: int64"
      ]
     },
     "execution_count": 60,
     "metadata": {},
     "output_type": "execute_result"
    }
   ],
   "source": [
    "attributes.attribute.value_counts()"
   ]
  },
  {
   "cell_type": "code",
   "execution_count": 14,
   "metadata": {},
   "outputs": [
    {
     "name": "stdout",
     "output_type": "stream",
     "text": [
      "atribute: 0\n",
      "\t int    6776351\n",
      "Name: data_type, dtype: int64\n",
      "atribute: 1\n",
      "\t int    6776351\n",
      "Name: data_type, dtype: int64\n",
      "atribute: 3\n",
      "\t int    6776351\n",
      "Name: data_type, dtype: int64\n",
      "atribute: 4\n",
      "\t float    6776351\n",
      "Name: data_type, dtype: int64\n",
      "atribute: 5\n",
      "\t dict     6643377\n",
      "float     132974\n",
      "Name: data_type, dtype: int64\n",
      "atribute: 6\n",
      "\t int    6776351\n",
      "Name: data_type, dtype: int64\n",
      "atribute: 7\n",
      "\t dict     5948222\n",
      "float     828129\n",
      "Name: data_type, dtype: int64\n",
      "atribute: 8\n",
      "\t int    6776351\n",
      "Name: data_type, dtype: int64\n",
      "atribute: 9\n",
      "\t int    6776351\n",
      "Name: data_type, dtype: int64\n",
      "atribute: 10\n",
      "\t dict     5948221\n",
      "float     828129\n",
      "Name: data_type, dtype: int64\n",
      "atribute: 11\n",
      "\t int    6776351\n",
      "Name: data_type, dtype: int64\n",
      "atribute: 13\n",
      "\t float    6776351\n",
      "Name: data_type, dtype: int64\n",
      "atribute: 14\n",
      "\t float    6776351\n",
      "Name: data_type, dtype: int64\n",
      "atribute: 15\n",
      "\t int    6776351\n",
      "Name: data_type, dtype: int64\n",
      "atribute: 16\n",
      "\t int    6776351\n",
      "Name: data_type, dtype: int64\n",
      "atribute: 17\n",
      "\t int    6776351\n",
      "Name: data_type, dtype: int64\n",
      "atribute: 18\n",
      "\t int    6776351\n",
      "Name: data_type, dtype: int64\n",
      "atribute: 19\n",
      "\t int    6776351\n",
      "Name: data_type, dtype: int64\n",
      "atribute: 20\n",
      "\t int    6776351\n",
      "Name: data_type, dtype: int64\n",
      "atribute: 21\n",
      "\t int    6776351\n",
      "Name: data_type, dtype: int64\n",
      "atribute: 48\n",
      "\t dict    6183014\n",
      "Name: data_type, dtype: int64\n",
      "atribute: 52\n",
      "\t dict    6776351\n",
      "Name: data_type, dtype: int64\n",
      "atribute: 66\n",
      "\t dict    6614104\n",
      "Name: data_type, dtype: int64\n",
      "atribute: 75\n",
      "\t int    6776297\n",
      "Name: data_type, dtype: int64\n",
      "atribute: 76\n",
      "\t int    6776297\n",
      "Name: data_type, dtype: int64\n",
      "atribute: 77\n",
      "\t int    6776297\n",
      "Name: data_type, dtype: int64\n",
      "atribute: 78\n",
      "\t int    6685459\n",
      "Name: data_type, dtype: int64\n",
      "atribute: 96\n",
      "\t int    79643\n",
      "Name: data_type, dtype: int64\n",
      "atribute: 67\n",
      "\t int    3395545\n",
      "Name: data_type, dtype: int64\n",
      "atribute: 49\n",
      "\t float    65\n",
      "Name: data_type, dtype: int64\n"
     ]
    }
   ],
   "source": [
    "for a in attributes.attribute.unique():\n",
    "    print(f'atribute: {a}')\n",
    "    print(f'\\t {attributes[attributes.attribute == a].data_type.value_counts()}')"
   ]
  },
  {
   "cell_type": "code",
   "execution_count": 17,
   "metadata": {},
   "outputs": [],
   "source": [
    "int_attributes = [0, 1, 3, 6, 8, 9, 11, 15, 16, 17, 18, 19,\n",
    "                  20, 21, 75, 76, 77, 78, 96, 67]\n",
    "\n",
    "float_attributes = [49, 4, 13, 14]\n",
    "\n",
    "dict_attributes = [48, 52, 66]\n",
    "\n",
    "mixed_attribures = [5, 7, 10]"
   ]
  },
  {
   "cell_type": "code",
   "execution_count": 18,
   "metadata": {},
   "outputs": [],
   "source": [
    "for a in int_attributes[:1]:\n",
    "    attributes[f'attributes_{a}'] = None\n",
    "    attributes.loc[attributes.attribute == a, [f'attributes_{a}']] = \\\n",
    "        attributes.loc[attributes.attribute == a, ['attribute_value']]\n",
    "    gc.collect()a"
   ]
  },
  {
   "cell_type": "code",
   "execution_count": 3,
   "metadata": {},
   "outputs": [
    {
     "ename": "NameError",
     "evalue": "name 'attr' is not defined",
     "output_type": "error",
     "traceback": [
      "\u001b[0;31m---------------------------------------------------------------------------\u001b[0m",
      "\u001b[0;31mNameError\u001b[0m                                 Traceback (most recent call last)",
      "\u001b[0;32m<ipython-input-3-1c0c10a60c4f>\u001b[0m in \u001b[0;36m<module>\u001b[0;34m\u001b[0m\n\u001b[0;32m----> 1\u001b[0;31m \u001b[0mattr\u001b[0m\u001b[0;34m\u001b[0m\u001b[0;34m\u001b[0m\u001b[0m\n\u001b[0m",
      "\u001b[0;31mNameError\u001b[0m: name 'attr' is not defined"
     ]
    }
   ],
   "source": [
    "attr"
   ]
  },
  {
   "cell_type": "code",
   "execution_count": 19,
   "metadata": {},
   "outputs": [
    {
     "data": {
      "text/plain": [
       "0             NaN\n",
       "1            None\n",
       "2            None\n",
       "3            None\n",
       "4            None\n",
       "5            None\n",
       "6            None\n",
       "7            None\n",
       "8            None\n",
       "9            None\n",
       "10           None\n",
       "11           None\n",
       "12           None\n",
       "13           None\n",
       "14           None\n",
       "15           None\n",
       "16           None\n",
       "17           None\n",
       "18           None\n",
       "19           None\n",
       "20           None\n",
       "21           None\n",
       "22           None\n",
       "23           None\n",
       "24           None\n",
       "25           None\n",
       "26           None\n",
       "27            NaN\n",
       "28           None\n",
       "29           None\n",
       "             ... \n",
       "185590062    None\n",
       "185590063    None\n",
       "185590064    None\n",
       "185590065    None\n",
       "185590066    None\n",
       "185590067    None\n",
       "185590068    None\n",
       "185590069    None\n",
       "185590070    None\n",
       "185590071    None\n",
       "185590072    None\n",
       "185590073    None\n",
       "185590074    None\n",
       "185590075    None\n",
       "185590076    None\n",
       "185590077    None\n",
       "185590078    None\n",
       "185590079    None\n",
       "185590080    None\n",
       "185590081    None\n",
       "185590082    None\n",
       "185590083    None\n",
       "185590084    None\n",
       "185590085    None\n",
       "185590086    None\n",
       "185590087    None\n",
       "185590088    None\n",
       "185590089    None\n",
       "185590090    None\n",
       "185590091    None\n",
       "Name: attributes_0, Length: 185590091, dtype: object"
      ]
     },
     "execution_count": 19,
     "metadata": {},
     "output_type": "execute_result"
    }
   ],
   "source": [
    "attributes['attributes_0']"
   ]
  },
  {
   "cell_type": "code",
   "execution_count": null,
   "metadata": {},
   "outputs": [],
   "source": []
  }
 ],
 "metadata": {
  "kernelspec": {
   "display_name": "Python 3",
   "language": "python",
   "name": "python3"
  },
  "language_info": {
   "codemirror_mode": {
    "name": "ipython",
    "version": 3
   },
   "file_extension": ".py",
   "mimetype": "text/x-python",
   "name": "python",
   "nbconvert_exporter": "python",
   "pygments_lexer": "ipython3",
   "version": "3.7.1"
  },
  "toc": {
   "base_numbering": 1,
   "nav_menu": {},
   "number_sections": true,
   "sideBar": true,
   "skip_h1_title": false,
   "title_cell": "Table of Contents",
   "title_sidebar": "Contents",
   "toc_cell": false,
   "toc_position": {},
   "toc_section_display": true,
   "toc_window_display": false
  }
 },
 "nbformat": 4,
 "nbformat_minor": 2
}
