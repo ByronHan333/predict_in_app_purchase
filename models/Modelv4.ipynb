{
 "cells": [
  {
   "cell_type": "markdown",
   "metadata": {},
   "source": [
    "# Loading Data"
   ]
  },
  {
   "cell_type": "code",
   "execution_count": 3,
   "metadata": {
    "ExecuteTime": {
     "end_time": "2019-03-04T01:39:08.474595Z",
     "start_time": "2019-03-04T01:39:04.723719Z"
    }
   },
   "outputs": [],
   "source": [
    "import matplotlib.pyplot as plt"
   ]
  },
  {
   "cell_type": "code",
   "execution_count": 18,
   "metadata": {
    "ExecuteTime": {
     "end_time": "2019-03-04T01:43:46.365891Z",
     "start_time": "2019-03-04T01:43:46.362602Z"
    }
   },
   "outputs": [],
   "source": [
    "import datetime as dt"
   ]
  },
  {
   "cell_type": "code",
   "execution_count": 4,
   "metadata": {
    "ExecuteTime": {
     "end_time": "2019-03-04T01:39:08.480837Z",
     "start_time": "2019-03-04T01:39:08.477816Z"
    }
   },
   "outputs": [],
   "source": [
    "import gc\n",
    "from warnings import filterwarnings"
   ]
  },
  {
   "cell_type": "code",
   "execution_count": 5,
   "metadata": {
    "ExecuteTime": {
     "end_time": "2019-03-04T01:39:11.496343Z",
     "start_time": "2019-03-04T01:39:08.482988Z"
    }
   },
   "outputs": [],
   "source": [
    "import pandas as pd\n",
    "import numpy as np"
   ]
  },
  {
   "cell_type": "code",
   "execution_count": 6,
   "metadata": {
    "ExecuteTime": {
     "end_time": "2019-03-04T01:39:11.503007Z",
     "start_time": "2019-03-04T01:39:11.499780Z"
    }
   },
   "outputs": [],
   "source": [
    "pd.set_option('display.max_rows', 80)"
   ]
  },
  {
   "cell_type": "code",
   "execution_count": 5,
   "metadata": {
    "ExecuteTime": {
     "end_time": "2019-03-03T23:23:04.574640Z",
     "start_time": "2019-03-03T23:22:51.078197Z"
    }
   },
   "outputs": [],
   "source": [
    "session = pd.read_pickle('../../session_roll_agg.pkl')\n",
    "events = pd.read_pickle('../../events_roll_agg.pkl')"
   ]
  },
  {
   "cell_type": "code",
   "execution_count": 6,
   "metadata": {
    "ExecuteTime": {
     "end_time": "2019-03-03T23:23:04.581583Z",
     "start_time": "2019-03-03T23:23:04.578441Z"
    }
   },
   "outputs": [],
   "source": [
    "df = session"
   ]
  },
  {
   "cell_type": "code",
   "execution_count": 95,
   "metadata": {
    "ExecuteTime": {
     "end_time": "2019-03-03T23:36:12.339248Z",
     "start_time": "2019-03-03T23:35:27.489159Z"
    }
   },
   "outputs": [],
   "source": [
    "user_date = pd.read_pickle('../../user_date.pkl')\n",
    "user_date = user_date.groupby('user_id_hash').user_created_timestamp.max().to_frame()"
   ]
  },
  {
   "cell_type": "code",
   "execution_count": 96,
   "metadata": {
    "ExecuteTime": {
     "end_time": "2019-03-03T23:36:13.416857Z",
     "start_time": "2019-03-03T23:36:13.411864Z"
    }
   },
   "outputs": [],
   "source": [
    "user_date.reset_index(inplace=True)"
   ]
  },
  {
   "cell_type": "code",
   "execution_count": 97,
   "metadata": {
    "ExecuteTime": {
     "end_time": "2019-03-03T23:36:18.393411Z",
     "start_time": "2019-03-03T23:36:18.383932Z"
    }
   },
   "outputs": [
    {
     "data": {
      "text/html": [
       "<div>\n",
       "<style scoped>\n",
       "    .dataframe tbody tr th:only-of-type {\n",
       "        vertical-align: middle;\n",
       "    }\n",
       "\n",
       "    .dataframe tbody tr th {\n",
       "        vertical-align: top;\n",
       "    }\n",
       "\n",
       "    .dataframe thead th {\n",
       "        text-align: right;\n",
       "    }\n",
       "</style>\n",
       "<table border=\"1\" class=\"dataframe\">\n",
       "  <thead>\n",
       "    <tr style=\"text-align: right;\">\n",
       "      <th></th>\n",
       "      <th>user_id_hash</th>\n",
       "      <th>user_created_timestamp</th>\n",
       "    </tr>\n",
       "  </thead>\n",
       "  <tbody>\n",
       "    <tr>\n",
       "      <th>0</th>\n",
       "      <td>00000db35682058bb7916cb90f85709f54c1a0f7a3b6de...</td>\n",
       "      <td>2018-11-10</td>\n",
       "    </tr>\n",
       "    <tr>\n",
       "      <th>1</th>\n",
       "      <td>000059859ec188af6035870faf885c3038cedda05b3a54...</td>\n",
       "      <td>2018-11-22</td>\n",
       "    </tr>\n",
       "    <tr>\n",
       "      <th>2</th>\n",
       "      <td>000062e9be78f3da274fec338e78f89d12000e781967f2...</td>\n",
       "      <td>2018-10-07</td>\n",
       "    </tr>\n",
       "    <tr>\n",
       "      <th>3</th>\n",
       "      <td>00006ad44c0d33a2a526caf75514643639b7b7070dfffd...</td>\n",
       "      <td>2018-10-18</td>\n",
       "    </tr>\n",
       "    <tr>\n",
       "      <th>4</th>\n",
       "      <td>000081a7d841b0f953bdba6c185fd5cc335fd6015a30c3...</td>\n",
       "      <td>2018-11-22</td>\n",
       "    </tr>\n",
       "  </tbody>\n",
       "</table>\n",
       "</div>"
      ],
      "text/plain": [
       "                                        user_id_hash user_created_timestamp\n",
       "0  00000db35682058bb7916cb90f85709f54c1a0f7a3b6de...             2018-11-10\n",
       "1  000059859ec188af6035870faf885c3038cedda05b3a54...             2018-11-22\n",
       "2  000062e9be78f3da274fec338e78f89d12000e781967f2...             2018-10-07\n",
       "3  00006ad44c0d33a2a526caf75514643639b7b7070dfffd...             2018-10-18\n",
       "4  000081a7d841b0f953bdba6c185fd5cc335fd6015a30c3...             2018-11-22"
      ]
     },
     "execution_count": 97,
     "metadata": {},
     "output_type": "execute_result"
    }
   ],
   "source": [
    "user_date.head()"
   ]
  },
  {
   "cell_type": "code",
   "execution_count": 7,
   "metadata": {
    "ExecuteTime": {
     "end_time": "2019-03-04T01:39:11.508541Z",
     "start_time": "2019-03-04T01:39:11.505468Z"
    }
   },
   "outputs": [],
   "source": [
    "filterwarnings('ignore')"
   ]
  },
  {
   "cell_type": "code",
   "execution_count": 98,
   "metadata": {
    "ExecuteTime": {
     "end_time": "2019-03-03T23:36:25.000888Z",
     "start_time": "2019-03-03T23:36:24.996773Z"
    }
   },
   "outputs": [
    {
     "data": {
      "text/plain": [
       "(619519, 2)"
      ]
     },
     "execution_count": 98,
     "metadata": {},
     "output_type": "execute_result"
    }
   ],
   "source": [
    "user_date.shape"
   ]
  },
  {
   "cell_type": "code",
   "execution_count": 99,
   "metadata": {
    "ExecuteTime": {
     "end_time": "2019-03-03T23:36:45.468170Z",
     "start_time": "2019-03-03T23:36:29.001318Z"
    }
   },
   "outputs": [],
   "source": [
    "df = df.merge(user_date, on=['user_id_hash'], how='left')"
   ]
  },
  {
   "cell_type": "code",
   "execution_count": 100,
   "metadata": {
    "ExecuteTime": {
     "end_time": "2019-03-03T23:36:47.143529Z",
     "start_time": "2019-03-03T23:36:47.140299Z"
    }
   },
   "outputs": [],
   "source": [
    "del user_date"
   ]
  },
  {
   "cell_type": "code",
   "execution_count": 101,
   "metadata": {
    "ExecuteTime": {
     "end_time": "2019-03-03T23:36:48.056691Z",
     "start_time": "2019-03-03T23:36:47.729853Z"
    }
   },
   "outputs": [
    {
     "data": {
      "text/plain": [
       "1353"
      ]
     },
     "execution_count": 101,
     "metadata": {},
     "output_type": "execute_result"
    }
   ],
   "source": [
    "gc.collect()"
   ]
  },
  {
   "cell_type": "code",
   "execution_count": 15,
   "metadata": {
    "ExecuteTime": {
     "end_time": "2019-03-03T23:24:10.201605Z",
     "start_time": "2019-03-03T23:24:09.410972Z"
    }
   },
   "outputs": [],
   "source": [
    "purchase = events[events.event == '8'].copy(deep=True)"
   ]
  },
  {
   "cell_type": "code",
   "execution_count": 16,
   "metadata": {
    "ExecuteTime": {
     "end_time": "2019-03-03T23:24:10.212658Z",
     "start_time": "2019-03-03T23:24:10.203698Z"
    }
   },
   "outputs": [],
   "source": [
    "purchase = purchase.loc[:, ['anchor_date', 'user_id_hash',\n",
    "                            'event_count', 'event_sum']]"
   ]
  },
  {
   "cell_type": "code",
   "execution_count": 17,
   "metadata": {
    "ExecuteTime": {
     "end_time": "2019-03-03T23:24:10.220347Z",
     "start_time": "2019-03-03T23:24:10.214731Z"
    }
   },
   "outputs": [
    {
     "data": {
      "text/plain": [
       "Index(['anchor_date', 'user_id_hash', 'event_count', 'event_sum'], dtype='object')"
      ]
     },
     "execution_count": 17,
     "metadata": {},
     "output_type": "execute_result"
    }
   ],
   "source": [
    "purchase.columns"
   ]
  },
  {
   "cell_type": "code",
   "execution_count": 18,
   "metadata": {
    "ExecuteTime": {
     "end_time": "2019-03-03T23:24:10.225797Z",
     "start_time": "2019-03-03T23:24:10.222152Z"
    }
   },
   "outputs": [],
   "source": [
    "purchase.columns = ['anchor_date', 'user_id_hash',\n",
    "                    'no_of_buys', 'sum_of_buys']"
   ]
  },
  {
   "cell_type": "code",
   "execution_count": 19,
   "metadata": {
    "ExecuteTime": {
     "end_time": "2019-03-03T23:24:10.231179Z",
     "start_time": "2019-03-03T23:24:10.227771Z"
    }
   },
   "outputs": [],
   "source": [
    "purchase.reset_index(inplace=True, drop=True)"
   ]
  },
  {
   "cell_type": "code",
   "execution_count": 20,
   "metadata": {
    "ExecuteTime": {
     "end_time": "2019-03-03T23:24:10.243081Z",
     "start_time": "2019-03-03T23:24:10.232946Z"
    }
   },
   "outputs": [
    {
     "data": {
      "text/html": [
       "<div>\n",
       "<style scoped>\n",
       "    .dataframe tbody tr th:only-of-type {\n",
       "        vertical-align: middle;\n",
       "    }\n",
       "\n",
       "    .dataframe tbody tr th {\n",
       "        vertical-align: top;\n",
       "    }\n",
       "\n",
       "    .dataframe thead th {\n",
       "        text-align: right;\n",
       "    }\n",
       "</style>\n",
       "<table border=\"1\" class=\"dataframe\">\n",
       "  <thead>\n",
       "    <tr style=\"text-align: right;\">\n",
       "      <th></th>\n",
       "      <th>anchor_date</th>\n",
       "      <th>user_id_hash</th>\n",
       "      <th>no_of_buys</th>\n",
       "      <th>sum_of_buys</th>\n",
       "    </tr>\n",
       "  </thead>\n",
       "  <tbody>\n",
       "    <tr>\n",
       "      <th>0</th>\n",
       "      <td>2018-10-01</td>\n",
       "      <td>001c2d06972b17ee6a075ff9fbdae33eccb0bbf28357ea...</td>\n",
       "      <td>1</td>\n",
       "      <td>1.393000</td>\n",
       "    </tr>\n",
       "    <tr>\n",
       "      <th>1</th>\n",
       "      <td>2018-10-01</td>\n",
       "      <td>0026497d2043c8530220eeb8e66051982cc6df3139a9b0...</td>\n",
       "      <td>3</td>\n",
       "      <td>10.478999</td>\n",
       "    </tr>\n",
       "    <tr>\n",
       "      <th>2</th>\n",
       "      <td>2018-10-01</td>\n",
       "      <td>006b49314baf054c636e7448d4f9b0df046aae9e9c17d0...</td>\n",
       "      <td>10</td>\n",
       "      <td>20.229999</td>\n",
       "    </tr>\n",
       "    <tr>\n",
       "      <th>3</th>\n",
       "      <td>2018-10-01</td>\n",
       "      <td>007327aa3a27718c76e6cd73c3971304280c8856f62940...</td>\n",
       "      <td>1</td>\n",
       "      <td>1.393000</td>\n",
       "    </tr>\n",
       "    <tr>\n",
       "      <th>4</th>\n",
       "      <td>2018-10-01</td>\n",
       "      <td>0088d9be17b2ec4b3621150117a0ede815547d4241eae1...</td>\n",
       "      <td>2</td>\n",
       "      <td>6.986000</td>\n",
       "    </tr>\n",
       "  </tbody>\n",
       "</table>\n",
       "</div>"
      ],
      "text/plain": [
       "  anchor_date                                       user_id_hash  no_of_buys  \\\n",
       "0  2018-10-01  001c2d06972b17ee6a075ff9fbdae33eccb0bbf28357ea...           1   \n",
       "1  2018-10-01  0026497d2043c8530220eeb8e66051982cc6df3139a9b0...           3   \n",
       "2  2018-10-01  006b49314baf054c636e7448d4f9b0df046aae9e9c17d0...          10   \n",
       "3  2018-10-01  007327aa3a27718c76e6cd73c3971304280c8856f62940...           1   \n",
       "4  2018-10-01  0088d9be17b2ec4b3621150117a0ede815547d4241eae1...           2   \n",
       "\n",
       "   sum_of_buys  \n",
       "0     1.393000  \n",
       "1    10.478999  \n",
       "2    20.229999  \n",
       "3     1.393000  \n",
       "4     6.986000  "
      ]
     },
     "execution_count": 20,
     "metadata": {},
     "output_type": "execute_result"
    }
   ],
   "source": [
    "purchase.head()"
   ]
  },
  {
   "cell_type": "code",
   "execution_count": 21,
   "metadata": {
    "ExecuteTime": {
     "end_time": "2019-03-03T23:24:10.274959Z",
     "start_time": "2019-03-03T23:24:10.244786Z"
    }
   },
   "outputs": [],
   "source": [
    "purchase.sort_values('anchor_date', inplace=True)"
   ]
  },
  {
   "cell_type": "code",
   "execution_count": 23,
   "metadata": {
    "ExecuteTime": {
     "end_time": "2019-03-03T23:24:13.984765Z",
     "start_time": "2019-03-03T23:24:10.287464Z"
    }
   },
   "outputs": [],
   "source": [
    "purchase1 = purchase.copy(deep=True)\n",
    "purchase1.anchor_date = purchase1.anchor_date.apply(lambda x: x- dt.timedelta(days=7))\n",
    "purchase1.sort_values('anchor_date', inplace=True)"
   ]
  },
  {
   "cell_type": "code",
   "execution_count": 24,
   "metadata": {
    "ExecuteTime": {
     "end_time": "2019-03-03T23:24:17.655380Z",
     "start_time": "2019-03-03T23:24:13.987011Z"
    }
   },
   "outputs": [],
   "source": [
    "purchase2 = purchase.copy(deep=True)\n",
    "purchase2.anchor_date = purchase2.anchor_date.apply(lambda x: x- dt.timedelta(days=14))\n",
    "purchase2.sort_values('anchor_date', inplace=True)"
   ]
  },
  {
   "cell_type": "code",
   "execution_count": 25,
   "metadata": {
    "ExecuteTime": {
     "end_time": "2019-03-03T23:24:17.787365Z",
     "start_time": "2019-03-03T23:24:17.657789Z"
    }
   },
   "outputs": [],
   "source": [
    "df.anchor_date = df.anchor_date.astype('category')"
   ]
  },
  {
   "cell_type": "code",
   "execution_count": 26,
   "metadata": {
    "ExecuteTime": {
     "end_time": "2019-03-03T23:24:17.808245Z",
     "start_time": "2019-03-03T23:24:17.789687Z"
    }
   },
   "outputs": [],
   "source": [
    "purchase.anchor_date = purchase.anchor_date.astype('category')\n",
    "purchase1.anchor_date = purchase1.anchor_date.astype('category')\n",
    "purchase2.anchor_date = purchase2.anchor_date.astype('category')"
   ]
  },
  {
   "cell_type": "code",
   "execution_count": 27,
   "metadata": {
    "ExecuteTime": {
     "end_time": "2019-03-03T23:24:17.814289Z",
     "start_time": "2019-03-03T23:24:17.810150Z"
    }
   },
   "outputs": [
    {
     "data": {
      "text/plain": [
       "(6976625, 14)"
      ]
     },
     "execution_count": 27,
     "metadata": {},
     "output_type": "execute_result"
    }
   ],
   "source": [
    "df.shape"
   ]
  },
  {
   "cell_type": "code",
   "execution_count": 28,
   "metadata": {
    "ExecuteTime": {
     "end_time": "2019-03-03T23:24:43.168019Z",
     "start_time": "2019-03-03T23:24:17.816320Z"
    }
   },
   "outputs": [],
   "source": [
    "df = df.merge(purchase, on=['user_id_hash', 'anchor_date'], how='outer')"
   ]
  },
  {
   "cell_type": "code",
   "execution_count": 29,
   "metadata": {
    "ExecuteTime": {
     "end_time": "2019-03-03T23:24:43.175298Z",
     "start_time": "2019-03-03T23:24:43.170728Z"
    }
   },
   "outputs": [
    {
     "data": {
      "text/plain": [
       "(6976994, 16)"
      ]
     },
     "execution_count": 29,
     "metadata": {},
     "output_type": "execute_result"
    }
   ],
   "source": [
    "df.shape"
   ]
  },
  {
   "cell_type": "code",
   "execution_count": 30,
   "metadata": {
    "ExecuteTime": {
     "end_time": "2019-03-03T23:24:43.306643Z",
     "start_time": "2019-03-03T23:24:43.177647Z"
    }
   },
   "outputs": [],
   "source": [
    "df.no_of_buys.fillna(0, inplace=True)\n",
    "df.sum_of_buys.fillna(0, inplace=True)"
   ]
  },
  {
   "cell_type": "code",
   "execution_count": 31,
   "metadata": {
    "ExecuteTime": {
     "end_time": "2019-03-03T23:25:22.573940Z",
     "start_time": "2019-03-03T23:24:43.309603Z"
    }
   },
   "outputs": [],
   "source": [
    "df = df.merge(purchase1, on=['user_id_hash', 'anchor_date'], how='outer')\n",
    "df.drop(['sum_of_buys_y'], inplace=True, axis=1)\n",
    "df.rename(columns={'no_of_buys_x': 'no_of_buys',\n",
    "                    'sum_of_buys_x': 'sum_of_buys',\n",
    "                    'no_of_buys_y': 'y1'}, inplace=True)"
   ]
  },
  {
   "cell_type": "code",
   "execution_count": 32,
   "metadata": {
    "ExecuteTime": {
     "end_time": "2019-03-03T23:25:22.581334Z",
     "start_time": "2019-03-03T23:25:22.576695Z"
    }
   },
   "outputs": [
    {
     "data": {
      "text/plain": [
       "(7163335, 17)"
      ]
     },
     "execution_count": 32,
     "metadata": {},
     "output_type": "execute_result"
    }
   ],
   "source": [
    "df.shape"
   ]
  },
  {
   "cell_type": "code",
   "execution_count": 33,
   "metadata": {
    "ExecuteTime": {
     "end_time": "2019-03-03T23:25:22.792096Z",
     "start_time": "2019-03-03T23:25:22.583400Z"
    }
   },
   "outputs": [],
   "source": [
    "df.anchor_date = df.anchor_date.astype('category')"
   ]
  },
  {
   "cell_type": "code",
   "execution_count": 34,
   "metadata": {
    "ExecuteTime": {
     "end_time": "2019-03-03T23:25:58.526848Z",
     "start_time": "2019-03-03T23:25:22.794445Z"
    }
   },
   "outputs": [],
   "source": [
    "df = df.merge(purchase2, on=['user_id_hash', 'anchor_date'], how='outer')\n",
    "df.drop(['sum_of_buys_y'], inplace=True, axis=1)\n",
    "df.rename(columns={'no_of_buys_x': 'no_of_buys',\n",
    "                    'sum_of_buys_x': 'sum_of_buys',\n",
    "                    'no_of_buys_y': 'y2'}, inplace=True)"
   ]
  },
  {
   "cell_type": "code",
   "execution_count": 35,
   "metadata": {
    "ExecuteTime": {
     "end_time": "2019-03-03T23:25:58.533704Z",
     "start_time": "2019-03-03T23:25:58.529372Z"
    }
   },
   "outputs": [
    {
     "data": {
      "text/plain": [
       "(7391174, 18)"
      ]
     },
     "execution_count": 35,
     "metadata": {},
     "output_type": "execute_result"
    }
   ],
   "source": [
    "df.shape"
   ]
  },
  {
   "cell_type": "code",
   "execution_count": 36,
   "metadata": {
    "ExecuteTime": {
     "end_time": "2019-03-03T23:25:58.581515Z",
     "start_time": "2019-03-03T23:25:58.535805Z"
    }
   },
   "outputs": [
    {
     "data": {
      "text/html": [
       "<div>\n",
       "<style scoped>\n",
       "    .dataframe tbody tr th:only-of-type {\n",
       "        vertical-align: middle;\n",
       "    }\n",
       "\n",
       "    .dataframe tbody tr th {\n",
       "        vertical-align: top;\n",
       "    }\n",
       "\n",
       "    .dataframe thead th {\n",
       "        text-align: right;\n",
       "    }\n",
       "</style>\n",
       "<table border=\"1\" class=\"dataframe\">\n",
       "  <thead>\n",
       "    <tr style=\"text-align: right;\">\n",
       "      <th></th>\n",
       "      <th>anchor_date</th>\n",
       "      <th>user_id_hash</th>\n",
       "      <th>no_sessions</th>\n",
       "      <th>no_city</th>\n",
       "      <th>last_city</th>\n",
       "      <th>last_country</th>\n",
       "      <th>last_region</th>\n",
       "      <th>region_count</th>\n",
       "      <th>last_locale</th>\n",
       "      <th>total_session_time</th>\n",
       "      <th>mean_session_time</th>\n",
       "      <th>median_session_time</th>\n",
       "      <th>last_lat_long</th>\n",
       "      <th>user_created_timestamp</th>\n",
       "      <th>no_of_buys</th>\n",
       "      <th>sum_of_buys</th>\n",
       "      <th>y1</th>\n",
       "      <th>y2</th>\n",
       "    </tr>\n",
       "  </thead>\n",
       "  <tbody>\n",
       "    <tr>\n",
       "      <th>0</th>\n",
       "      <td>2018-10-01</td>\n",
       "      <td>000062e9be78f3da274fec338e78f89d12000e781967f2...</td>\n",
       "      <td>5.0</td>\n",
       "      <td>1.0</td>\n",
       "      <td>unk</td>\n",
       "      <td>US</td>\n",
       "      <td>ca</td>\n",
       "      <td>1.0</td>\n",
       "      <td>en_US</td>\n",
       "      <td>4730609.0</td>\n",
       "      <td>946121.8</td>\n",
       "      <td>1176899.0</td>\n",
       "      <td>(37.28716659545898, -121.94995880126952)</td>\n",
       "      <td>2018-10-07</td>\n",
       "      <td>0.0</td>\n",
       "      <td>0.0</td>\n",
       "      <td>NaN</td>\n",
       "      <td>NaN</td>\n",
       "    </tr>\n",
       "    <tr>\n",
       "      <th>1</th>\n",
       "      <td>2018-10-01</td>\n",
       "      <td>00026e5050a70ef12d421f75c6a5c80d0f62d37acab8bd...</td>\n",
       "      <td>2.0</td>\n",
       "      <td>1.0</td>\n",
       "      <td>unk</td>\n",
       "      <td>US</td>\n",
       "      <td>ga</td>\n",
       "      <td>1.0</td>\n",
       "      <td>en_US</td>\n",
       "      <td>403432.0</td>\n",
       "      <td>201716.0</td>\n",
       "      <td>201716.0</td>\n",
       "      <td>(33.751495361328125, -84.74771118164062)</td>\n",
       "      <td>2018-10-05</td>\n",
       "      <td>0.0</td>\n",
       "      <td>0.0</td>\n",
       "      <td>NaN</td>\n",
       "      <td>NaN</td>\n",
       "    </tr>\n",
       "    <tr>\n",
       "      <th>2</th>\n",
       "      <td>2018-10-01</td>\n",
       "      <td>0003f8bda56230a49445880e559b718e94ba37344494a7...</td>\n",
       "      <td>2.0</td>\n",
       "      <td>1.0</td>\n",
       "      <td>unk</td>\n",
       "      <td>US</td>\n",
       "      <td>ky</td>\n",
       "      <td>1.0</td>\n",
       "      <td>en_US</td>\n",
       "      <td>150138.0</td>\n",
       "      <td>75069.0</td>\n",
       "      <td>75069.0</td>\n",
       "      <td>(36.60725784301758, -83.71428680419922)</td>\n",
       "      <td>2018-10-03</td>\n",
       "      <td>0.0</td>\n",
       "      <td>0.0</td>\n",
       "      <td>NaN</td>\n",
       "      <td>NaN</td>\n",
       "    </tr>\n",
       "    <tr>\n",
       "      <th>3</th>\n",
       "      <td>2018-10-01</td>\n",
       "      <td>000542d6fc6e9dcb83328d30503a7e022e5a6b4ea6357b...</td>\n",
       "      <td>1.0</td>\n",
       "      <td>1.0</td>\n",
       "      <td>omaha</td>\n",
       "      <td>US</td>\n",
       "      <td>ne</td>\n",
       "      <td>1.0</td>\n",
       "      <td>en_US</td>\n",
       "      <td>0.0</td>\n",
       "      <td>0.0</td>\n",
       "      <td>0.0</td>\n",
       "      <td>(41.25653839111328, -95.93450164794922)</td>\n",
       "      <td>2018-10-02</td>\n",
       "      <td>0.0</td>\n",
       "      <td>0.0</td>\n",
       "      <td>NaN</td>\n",
       "      <td>NaN</td>\n",
       "    </tr>\n",
       "    <tr>\n",
       "      <th>4</th>\n",
       "      <td>2018-10-01</td>\n",
       "      <td>00059c820dca1ccadfd45361c40f68b656df8a5212b993...</td>\n",
       "      <td>1.0</td>\n",
       "      <td>1.0</td>\n",
       "      <td>rio de janeiro</td>\n",
       "      <td>BR</td>\n",
       "      <td>rj</td>\n",
       "      <td>1.0</td>\n",
       "      <td>pt-BR_BR</td>\n",
       "      <td>123131.0</td>\n",
       "      <td>123131.0</td>\n",
       "      <td>123131.0</td>\n",
       "      <td>(-22.90684700012207, -43.17289733886719)</td>\n",
       "      <td>2018-10-01</td>\n",
       "      <td>0.0</td>\n",
       "      <td>0.0</td>\n",
       "      <td>NaN</td>\n",
       "      <td>NaN</td>\n",
       "    </tr>\n",
       "  </tbody>\n",
       "</table>\n",
       "</div>"
      ],
      "text/plain": [
       "  anchor_date                                       user_id_hash  no_sessions  \\\n",
       "0  2018-10-01  000062e9be78f3da274fec338e78f89d12000e781967f2...          5.0   \n",
       "1  2018-10-01  00026e5050a70ef12d421f75c6a5c80d0f62d37acab8bd...          2.0   \n",
       "2  2018-10-01  0003f8bda56230a49445880e559b718e94ba37344494a7...          2.0   \n",
       "3  2018-10-01  000542d6fc6e9dcb83328d30503a7e022e5a6b4ea6357b...          1.0   \n",
       "4  2018-10-01  00059c820dca1ccadfd45361c40f68b656df8a5212b993...          1.0   \n",
       "\n",
       "   no_city       last_city last_country last_region  region_count last_locale  \\\n",
       "0      1.0             unk           US          ca           1.0       en_US   \n",
       "1      1.0             unk           US          ga           1.0       en_US   \n",
       "2      1.0             unk           US          ky           1.0       en_US   \n",
       "3      1.0           omaha           US          ne           1.0       en_US   \n",
       "4      1.0  rio de janeiro           BR          rj           1.0    pt-BR_BR   \n",
       "\n",
       "   total_session_time  mean_session_time  median_session_time  \\\n",
       "0           4730609.0           946121.8            1176899.0   \n",
       "1            403432.0           201716.0             201716.0   \n",
       "2            150138.0            75069.0              75069.0   \n",
       "3                 0.0                0.0                  0.0   \n",
       "4            123131.0           123131.0             123131.0   \n",
       "\n",
       "                              last_lat_long user_created_timestamp  \\\n",
       "0  (37.28716659545898, -121.94995880126952)             2018-10-07   \n",
       "1  (33.751495361328125, -84.74771118164062)             2018-10-05   \n",
       "2   (36.60725784301758, -83.71428680419922)             2018-10-03   \n",
       "3   (41.25653839111328, -95.93450164794922)             2018-10-02   \n",
       "4  (-22.90684700012207, -43.17289733886719)             2018-10-01   \n",
       "\n",
       "   no_of_buys  sum_of_buys  y1  y2  \n",
       "0         0.0          0.0 NaN NaN  \n",
       "1         0.0          0.0 NaN NaN  \n",
       "2         0.0          0.0 NaN NaN  \n",
       "3         0.0          0.0 NaN NaN  \n",
       "4         0.0          0.0 NaN NaN  "
      ]
     },
     "execution_count": 36,
     "metadata": {},
     "output_type": "execute_result"
    }
   ],
   "source": [
    "df.head()"
   ]
  },
  {
   "cell_type": "code",
   "execution_count": 37,
   "metadata": {
    "ExecuteTime": {
     "end_time": "2019-03-03T23:25:58.856210Z",
     "start_time": "2019-03-03T23:25:58.583856Z"
    }
   },
   "outputs": [],
   "source": [
    "df['y1'].fillna(0, inplace=True)\n",
    "df['y2'].fillna(0, inplace=True)\n",
    "df['y2'] = df['y1'] + df['y2']\n",
    "df['y1'] = df['y1'] > 0\n",
    "df['y2'] = df['y2'] > 0"
   ]
  },
  {
   "cell_type": "code",
   "execution_count": 38,
   "metadata": {
    "ExecuteTime": {
     "end_time": "2019-03-03T23:25:58.863132Z",
     "start_time": "2019-03-03T23:25:58.858412Z"
    }
   },
   "outputs": [
    {
     "data": {
      "text/plain": [
       "array(['anchor_date', 'user_id_hash', 'no_sessions', 'no_city',\n",
       "       'last_city', 'last_country', 'last_region', 'region_count',\n",
       "       'last_locale', 'total_session_time', 'mean_session_time',\n",
       "       'median_session_time', 'last_lat_long', 'user_created_timestamp',\n",
       "       'no_of_buys', 'sum_of_buys', 'y1', 'y2'], dtype=object)"
      ]
     },
     "execution_count": 38,
     "metadata": {},
     "output_type": "execute_result"
    }
   ],
   "source": [
    "df.columns.values"
   ]
  },
  {
   "cell_type": "code",
   "execution_count": 39,
   "metadata": {
    "ExecuteTime": {
     "end_time": "2019-03-03T23:26:04.317410Z",
     "start_time": "2019-03-03T23:25:58.864897Z"
    }
   },
   "outputs": [
    {
     "data": {
      "text/plain": [
       "anchor_date                    0\n",
       "user_id_hash                   0\n",
       "no_sessions               414549\n",
       "no_city                   414549\n",
       "last_city                 417348\n",
       "last_country              421149\n",
       "last_region               417378\n",
       "region_count              414549\n",
       "last_locale               414549\n",
       "total_session_time        414549\n",
       "mean_session_time         414549\n",
       "median_session_time       414549\n",
       "last_lat_long             414549\n",
       "user_created_timestamp    414549\n",
       "no_of_buys                414180\n",
       "sum_of_buys               414180\n",
       "y1                             0\n",
       "y2                             0\n",
       "dtype: int64"
      ]
     },
     "execution_count": 39,
     "metadata": {},
     "output_type": "execute_result"
    }
   ],
   "source": [
    "df.isna().sum()"
   ]
  },
  {
   "cell_type": "code",
   "execution_count": 40,
   "metadata": {
    "ExecuteTime": {
     "end_time": "2019-03-03T23:26:05.471157Z",
     "start_time": "2019-03-03T23:26:04.319151Z"
    }
   },
   "outputs": [],
   "source": [
    "df.drop(['last_lat_long'], inplace=True, axis=1)"
   ]
  },
  {
   "cell_type": "code",
   "execution_count": 41,
   "metadata": {
    "ExecuteTime": {
     "end_time": "2019-03-03T23:26:21.607579Z",
     "start_time": "2019-03-03T23:26:05.473350Z"
    }
   },
   "outputs": [],
   "source": [
    "df.user_id_hash = df.user_id_hash.astype('category')\n",
    "df.last_city = df.last_city.astype('category')\n",
    "df.last_country = df.last_country.astype('category')\n",
    "df.last_region = df.last_region.astype('category')\n",
    "df.last_locale = df.last_locale.astype('category')"
   ]
  },
  {
   "cell_type": "code",
   "execution_count": 102,
   "metadata": {
    "ExecuteTime": {
     "end_time": "2019-03-03T23:37:44.001241Z",
     "start_time": "2019-03-03T23:37:07.542920Z"
    }
   },
   "outputs": [],
   "source": [
    "df['user_age'] = (df.anchor_date.dt.date - df.user_created_timestamp)\\\n",
    "                    .astype('timedelta64[D]')"
   ]
  },
  {
   "cell_type": "code",
   "execution_count": 103,
   "metadata": {
    "ExecuteTime": {
     "end_time": "2019-03-03T23:37:54.092982Z",
     "start_time": "2019-03-03T23:37:45.454132Z"
    }
   },
   "outputs": [],
   "source": [
    "df.drop(['user_created_timestamp'], inplace=True, axis=1)"
   ]
  },
  {
   "cell_type": "code",
   "execution_count": 44,
   "metadata": {
    "ExecuteTime": {
     "end_time": "2019-03-03T23:26:59.559146Z",
     "start_time": "2019-03-03T23:26:59.556493Z"
    }
   },
   "outputs": [],
   "source": [
    "# df.to_pickle('../mergedv3.pkl')"
   ]
  },
  {
   "cell_type": "code",
   "execution_count": 45,
   "metadata": {
    "ExecuteTime": {
     "end_time": "2019-03-03T23:26:59.563794Z",
     "start_time": "2019-03-03T23:26:59.561034Z"
    }
   },
   "outputs": [],
   "source": [
    "# df = pd.read_pickle('../mergedv3.pkl')"
   ]
  },
  {
   "cell_type": "code",
   "execution_count": 46,
   "metadata": {
    "ExecuteTime": {
     "end_time": "2019-03-03T23:26:59.606561Z",
     "start_time": "2019-03-03T23:26:59.565688Z"
    }
   },
   "outputs": [
    {
     "data": {
      "text/plain": [
       "Timestamp('2018-09-11 00:00:00')"
      ]
     },
     "execution_count": 46,
     "metadata": {},
     "output_type": "execute_result"
    }
   ],
   "source": [
    "df.anchor_date.min()"
   ]
  },
  {
   "cell_type": "code",
   "execution_count": 47,
   "metadata": {
    "ExecuteTime": {
     "end_time": "2019-03-03T23:26:59.645665Z",
     "start_time": "2019-03-03T23:26:59.608700Z"
    }
   },
   "outputs": [
    {
     "data": {
      "text/plain": [
       "Timestamp('2018-12-14 00:00:00')"
      ]
     },
     "execution_count": 47,
     "metadata": {},
     "output_type": "execute_result"
    }
   ],
   "source": [
    "df.anchor_date.max()"
   ]
  },
  {
   "cell_type": "code",
   "execution_count": 48,
   "metadata": {
    "ExecuteTime": {
     "end_time": "2019-03-03T23:26:59.650784Z",
     "start_time": "2019-03-03T23:26:59.647705Z"
    }
   },
   "outputs": [],
   "source": [
    "df.reset_index(inplace=True, drop=True)"
   ]
  },
  {
   "cell_type": "code",
   "execution_count": 49,
   "metadata": {
    "ExecuteTime": {
     "end_time": "2019-03-03T23:26:59.684329Z",
     "start_time": "2019-03-03T23:26:59.652665Z"
    }
   },
   "outputs": [],
   "source": [
    "anchor_dates = df.anchor_date.unique()"
   ]
  },
  {
   "cell_type": "code",
   "execution_count": 50,
   "metadata": {
    "ExecuteTime": {
     "end_time": "2019-03-03T23:27:21.928928Z",
     "start_time": "2019-03-03T23:26:59.686671Z"
    }
   },
   "outputs": [],
   "source": [
    "anchor_number = {str(a)[:10]: sum(df.anchor_date == a) for a in sorted(anchor_dates)}"
   ]
  },
  {
   "cell_type": "code",
   "execution_count": 51,
   "metadata": {
    "ExecuteTime": {
     "end_time": "2019-03-03T23:27:21.936392Z",
     "start_time": "2019-03-03T23:27:21.931552Z"
    }
   },
   "outputs": [
    {
     "data": {
      "text/plain": [
       "datetime.date(2018, 12, 8)"
      ]
     },
     "execution_count": 51,
     "metadata": {},
     "output_type": "execute_result"
    }
   ],
   "source": [
    "x = dt.date(2018, 12, 8)\n",
    "x"
   ]
  },
  {
   "cell_type": "markdown",
   "metadata": {},
   "source": [
    "# Multiple weeks"
   ]
  },
  {
   "cell_type": "code",
   "execution_count": 52,
   "metadata": {
    "ExecuteTime": {
     "end_time": "2019-03-03T23:27:21.945440Z",
     "start_time": "2019-03-03T23:27:21.939429Z"
    }
   },
   "outputs": [
    {
     "data": {
      "text/plain": [
       "[datetime.date(2018, 12, 8),\n",
       " datetime.date(2018, 12, 1),\n",
       " datetime.date(2018, 11, 24),\n",
       " datetime.date(2018, 11, 17),\n",
       " datetime.date(2018, 11, 10),\n",
       " datetime.date(2018, 11, 3),\n",
       " datetime.date(2018, 10, 27),\n",
       " datetime.date(2018, 10, 20),\n",
       " datetime.date(2018, 10, 13),\n",
       " datetime.date(2018, 10, 6),\n",
       " datetime.date(2018, 9, 29)]"
      ]
     },
     "execution_count": 52,
     "metadata": {},
     "output_type": "execute_result"
    }
   ],
   "source": [
    "[x - dt.timedelta(days=7*i) for i in range(11)]"
   ]
  },
  {
   "cell_type": "code",
   "execution_count": 53,
   "metadata": {
    "ExecuteTime": {
     "end_time": "2019-03-03T23:27:22.160629Z",
     "start_time": "2019-03-03T23:27:21.947971Z"
    }
   },
   "outputs": [
    {
     "data": {
      "text/plain": [
       "1043065"
      ]
     },
     "execution_count": 53,
     "metadata": {},
     "output_type": "execute_result"
    }
   ],
   "source": [
    "df.anchor_date.isin([x - dt.timedelta(days=7*i) for i in range(11)]).sum()"
   ]
  },
  {
   "cell_type": "code",
   "execution_count": 54,
   "metadata": {
    "ExecuteTime": {
     "end_time": "2019-03-03T23:27:22.167012Z",
     "start_time": "2019-03-03T23:27:22.162577Z"
    }
   },
   "outputs": [
    {
     "data": {
      "text/plain": [
       "(7391174, 17)"
      ]
     },
     "execution_count": 54,
     "metadata": {},
     "output_type": "execute_result"
    }
   ],
   "source": [
    "df.shape"
   ]
  },
  {
   "cell_type": "code",
   "execution_count": 55,
   "metadata": {
    "ExecuteTime": {
     "end_time": "2019-03-03T23:27:22.444940Z",
     "start_time": "2019-03-03T23:27:22.169360Z"
    }
   },
   "outputs": [],
   "source": [
    "df = df[df.anchor_date.isin([x - dt.timedelta(days=7*i) for i in range(11)])]"
   ]
  },
  {
   "cell_type": "code",
   "execution_count": 56,
   "metadata": {
    "ExecuteTime": {
     "end_time": "2019-03-03T23:27:22.452186Z",
     "start_time": "2019-03-03T23:27:22.447501Z"
    }
   },
   "outputs": [
    {
     "data": {
      "text/plain": [
       "(1043065, 17)"
      ]
     },
     "execution_count": 56,
     "metadata": {},
     "output_type": "execute_result"
    }
   ],
   "source": [
    "df.shape"
   ]
  },
  {
   "cell_type": "code",
   "execution_count": 57,
   "metadata": {
    "ExecuteTime": {
     "end_time": "2019-03-03T23:27:22.722352Z",
     "start_time": "2019-03-03T23:27:22.454400Z"
    }
   },
   "outputs": [
    {
     "data": {
      "text/plain": [
       "anchor_date                0\n",
       "user_id_hash               0\n",
       "no_sessions            52744\n",
       "no_city                52744\n",
       "last_city              53140\n",
       "last_country           53691\n",
       "last_region            53145\n",
       "region_count           52744\n",
       "last_locale            52744\n",
       "total_session_time     52744\n",
       "mean_session_time      52744\n",
       "median_session_time    52744\n",
       "no_of_buys             52700\n",
       "sum_of_buys            52700\n",
       "y1                         0\n",
       "y2                         0\n",
       "user_age               52744\n",
       "dtype: int64"
      ]
     },
     "execution_count": 57,
     "metadata": {},
     "output_type": "execute_result"
    }
   ],
   "source": [
    "df.isna().sum(axis=0)"
   ]
  },
  {
   "cell_type": "code",
   "execution_count": 58,
   "metadata": {
    "ExecuteTime": {
     "end_time": "2019-03-03T23:27:22.727624Z",
     "start_time": "2019-03-03T23:27:22.724397Z"
    }
   },
   "outputs": [],
   "source": [
    "df.reset_index(inplace=True, drop=True)"
   ]
  },
  {
   "cell_type": "code",
   "execution_count": 59,
   "metadata": {
    "ExecuteTime": {
     "end_time": "2019-03-03T23:27:22.732537Z",
     "start_time": "2019-03-03T23:27:22.729539Z"
    }
   },
   "outputs": [],
   "source": [
    "from warnings import filterwarnings"
   ]
  },
  {
   "cell_type": "code",
   "execution_count": 29,
   "metadata": {
    "ExecuteTime": {
     "end_time": "2019-03-04T00:32:56.420561Z",
     "start_time": "2019-03-04T00:32:56.417469Z"
    }
   },
   "outputs": [],
   "source": [
    "filterwarnings('ignore')"
   ]
  },
  {
   "cell_type": "code",
   "execution_count": 61,
   "metadata": {
    "ExecuteTime": {
     "end_time": "2019-03-03T23:27:22.799191Z",
     "start_time": "2019-03-03T23:27:22.739749Z"
    }
   },
   "outputs": [],
   "source": [
    "df['y1'] = df['y1'].astype(np.int)\n",
    "df['y2'] = df['y2'].astype(np.int)"
   ]
  },
  {
   "cell_type": "code",
   "execution_count": 62,
   "metadata": {
    "ExecuteTime": {
     "end_time": "2019-03-03T23:27:22.808597Z",
     "start_time": "2019-03-03T23:27:22.801158Z"
    }
   },
   "outputs": [],
   "source": [
    "df.last_city = df.last_city.cat.codes\n",
    "df.last_country = df.last_country.cat.codes\n",
    "df.last_region = df.last_region.cat.codes\n",
    "df.last_locale = df.last_locale.cat.codes"
   ]
  },
  {
   "cell_type": "code",
   "execution_count": 63,
   "metadata": {
    "ExecuteTime": {
     "end_time": "2019-03-03T23:27:22.827957Z",
     "start_time": "2019-03-03T23:27:22.810538Z"
    }
   },
   "outputs": [
    {
     "data": {
      "text/html": [
       "<div>\n",
       "<style scoped>\n",
       "    .dataframe tbody tr th:only-of-type {\n",
       "        vertical-align: middle;\n",
       "    }\n",
       "\n",
       "    .dataframe tbody tr th {\n",
       "        vertical-align: top;\n",
       "    }\n",
       "\n",
       "    .dataframe thead th {\n",
       "        text-align: right;\n",
       "    }\n",
       "</style>\n",
       "<table border=\"1\" class=\"dataframe\">\n",
       "  <thead>\n",
       "    <tr style=\"text-align: right;\">\n",
       "      <th></th>\n",
       "      <th>anchor_date</th>\n",
       "      <th>user_id_hash</th>\n",
       "      <th>no_sessions</th>\n",
       "      <th>no_city</th>\n",
       "      <th>last_city</th>\n",
       "      <th>last_country</th>\n",
       "      <th>last_region</th>\n",
       "      <th>region_count</th>\n",
       "      <th>last_locale</th>\n",
       "      <th>total_session_time</th>\n",
       "      <th>mean_session_time</th>\n",
       "      <th>median_session_time</th>\n",
       "      <th>no_of_buys</th>\n",
       "      <th>sum_of_buys</th>\n",
       "      <th>y1</th>\n",
       "      <th>y2</th>\n",
       "      <th>user_age</th>\n",
       "    </tr>\n",
       "  </thead>\n",
       "  <tbody>\n",
       "    <tr>\n",
       "      <th>0</th>\n",
       "      <td>2018-09-29</td>\n",
       "      <td>00026e5050a70ef12d421f75c6a5c80d0f62d37acab8bd...</td>\n",
       "      <td>2.0</td>\n",
       "      <td>1.0</td>\n",
       "      <td>618</td>\n",
       "      <td>211</td>\n",
       "      <td>117</td>\n",
       "      <td>1.0</td>\n",
       "      <td>66</td>\n",
       "      <td>403432.0</td>\n",
       "      <td>2.017160e+05</td>\n",
       "      <td>201716.0</td>\n",
       "      <td>0.0</td>\n",
       "      <td>0.0</td>\n",
       "      <td>0</td>\n",
       "      <td>0</td>\n",
       "      <td>-6.0</td>\n",
       "    </tr>\n",
       "    <tr>\n",
       "      <th>1</th>\n",
       "      <td>2018-09-29</td>\n",
       "      <td>0003f8bda56230a49445880e559b718e94ba37344494a7...</td>\n",
       "      <td>1.0</td>\n",
       "      <td>1.0</td>\n",
       "      <td>618</td>\n",
       "      <td>211</td>\n",
       "      <td>157</td>\n",
       "      <td>1.0</td>\n",
       "      <td>66</td>\n",
       "      <td>0.0</td>\n",
       "      <td>0.000000e+00</td>\n",
       "      <td>0.0</td>\n",
       "      <td>0.0</td>\n",
       "      <td>0.0</td>\n",
       "      <td>0</td>\n",
       "      <td>0</td>\n",
       "      <td>-4.0</td>\n",
       "    </tr>\n",
       "    <tr>\n",
       "      <th>2</th>\n",
       "      <td>2018-09-29</td>\n",
       "      <td>000542d6fc6e9dcb83328d30503a7e022e5a6b4ea6357b...</td>\n",
       "      <td>1.0</td>\n",
       "      <td>1.0</td>\n",
       "      <td>448</td>\n",
       "      <td>211</td>\n",
       "      <td>189</td>\n",
       "      <td>1.0</td>\n",
       "      <td>66</td>\n",
       "      <td>0.0</td>\n",
       "      <td>0.000000e+00</td>\n",
       "      <td>0.0</td>\n",
       "      <td>0.0</td>\n",
       "      <td>0.0</td>\n",
       "      <td>0</td>\n",
       "      <td>0</td>\n",
       "      <td>-3.0</td>\n",
       "    </tr>\n",
       "    <tr>\n",
       "      <th>3</th>\n",
       "      <td>2018-09-29</td>\n",
       "      <td>0006028dc3aefd41499be9c5428fb11691f3ce570e7cc8...</td>\n",
       "      <td>3.0</td>\n",
       "      <td>1.0</td>\n",
       "      <td>355</td>\n",
       "      <td>211</td>\n",
       "      <td>85</td>\n",
       "      <td>1.0</td>\n",
       "      <td>66</td>\n",
       "      <td>6173560.0</td>\n",
       "      <td>2.057853e+06</td>\n",
       "      <td>2691647.0</td>\n",
       "      <td>0.0</td>\n",
       "      <td>0.0</td>\n",
       "      <td>0</td>\n",
       "      <td>0</td>\n",
       "      <td>-6.0</td>\n",
       "    </tr>\n",
       "    <tr>\n",
       "      <th>4</th>\n",
       "      <td>2018-09-29</td>\n",
       "      <td>0007da1b2aa0df73cf98077068a7da9039f57d9d51a1ae...</td>\n",
       "      <td>1.0</td>\n",
       "      <td>1.0</td>\n",
       "      <td>535</td>\n",
       "      <td>224</td>\n",
       "      <td>122</td>\n",
       "      <td>1.0</td>\n",
       "      <td>54</td>\n",
       "      <td>0.0</td>\n",
       "      <td>0.000000e+00</td>\n",
       "      <td>0.0</td>\n",
       "      <td>0.0</td>\n",
       "      <td>0.0</td>\n",
       "      <td>0</td>\n",
       "      <td>0</td>\n",
       "      <td>-3.0</td>\n",
       "    </tr>\n",
       "  </tbody>\n",
       "</table>\n",
       "</div>"
      ],
      "text/plain": [
       "  anchor_date                                       user_id_hash  no_sessions  \\\n",
       "0  2018-09-29  00026e5050a70ef12d421f75c6a5c80d0f62d37acab8bd...          2.0   \n",
       "1  2018-09-29  0003f8bda56230a49445880e559b718e94ba37344494a7...          1.0   \n",
       "2  2018-09-29  000542d6fc6e9dcb83328d30503a7e022e5a6b4ea6357b...          1.0   \n",
       "3  2018-09-29  0006028dc3aefd41499be9c5428fb11691f3ce570e7cc8...          3.0   \n",
       "4  2018-09-29  0007da1b2aa0df73cf98077068a7da9039f57d9d51a1ae...          1.0   \n",
       "\n",
       "   no_city  last_city  last_country  last_region  region_count  last_locale  \\\n",
       "0      1.0        618           211          117           1.0           66   \n",
       "1      1.0        618           211          157           1.0           66   \n",
       "2      1.0        448           211          189           1.0           66   \n",
       "3      1.0        355           211           85           1.0           66   \n",
       "4      1.0        535           224          122           1.0           54   \n",
       "\n",
       "   total_session_time  mean_session_time  median_session_time  no_of_buys  \\\n",
       "0            403432.0       2.017160e+05             201716.0         0.0   \n",
       "1                 0.0       0.000000e+00                  0.0         0.0   \n",
       "2                 0.0       0.000000e+00                  0.0         0.0   \n",
       "3           6173560.0       2.057853e+06            2691647.0         0.0   \n",
       "4                 0.0       0.000000e+00                  0.0         0.0   \n",
       "\n",
       "   sum_of_buys  y1  y2  user_age  \n",
       "0          0.0   0   0      -6.0  \n",
       "1          0.0   0   0      -4.0  \n",
       "2          0.0   0   0      -3.0  \n",
       "3          0.0   0   0      -6.0  \n",
       "4          0.0   0   0      -3.0  "
      ]
     },
     "execution_count": 63,
     "metadata": {},
     "output_type": "execute_result"
    }
   ],
   "source": [
    "df.head()"
   ]
  },
  {
   "cell_type": "code",
   "execution_count": 64,
   "metadata": {
    "ExecuteTime": {
     "end_time": "2019-03-03T23:27:22.850513Z",
     "start_time": "2019-03-03T23:27:22.829894Z"
    }
   },
   "outputs": [],
   "source": [
    "df_bkp = df.copy(deep=True)"
   ]
  },
  {
   "cell_type": "code",
   "execution_count": 65,
   "metadata": {
    "ExecuteTime": {
     "end_time": "2019-03-03T23:27:22.867678Z",
     "start_time": "2019-03-03T23:27:22.852532Z"
    }
   },
   "outputs": [],
   "source": [
    "df = df_bkp.copy(deep=True)"
   ]
  },
  {
   "cell_type": "code",
   "execution_count": 66,
   "metadata": {
    "ExecuteTime": {
     "end_time": "2019-03-03T23:27:22.874385Z",
     "start_time": "2019-03-03T23:27:22.869660Z"
    }
   },
   "outputs": [
    {
     "data": {
      "text/plain": [
       "Index(['anchor_date', 'user_id_hash', 'no_sessions', 'no_city', 'last_city',\n",
       "       'last_country', 'last_region', 'region_count', 'last_locale',\n",
       "       'total_session_time', 'mean_session_time', 'median_session_time',\n",
       "       'no_of_buys', 'sum_of_buys', 'y1', 'y2', 'user_age'],\n",
       "      dtype='object')"
      ]
     },
     "execution_count": 66,
     "metadata": {},
     "output_type": "execute_result"
    }
   ],
   "source": [
    "df.columns"
   ]
  },
  {
   "cell_type": "markdown",
   "metadata": {},
   "source": [
    "don't send in y1 and y2"
   ]
  },
  {
   "cell_type": "code",
   "execution_count": 67,
   "metadata": {
    "ExecuteTime": {
     "end_time": "2019-03-03T23:27:22.879558Z",
     "start_time": "2019-03-03T23:27:22.876176Z"
    }
   },
   "outputs": [],
   "source": [
    "merge_cols = ['anchor_date', 'user_id_hash', 'no_sessions', 'no_city',\n",
    "              'last_city', 'last_country', 'last_region', 'region_count',\n",
    "              'last_locale', 'total_session_time', 'mean_session_time',\n",
    "              'median_session_time', 'no_of_buys', 'sum_of_buys']"
   ]
  },
  {
   "cell_type": "code",
   "execution_count": 68,
   "metadata": {
    "ExecuteTime": {
     "end_time": "2019-03-03T23:29:39.049219Z",
     "start_time": "2019-03-03T23:27:22.881325Z"
    }
   },
   "outputs": [
    {
     "name": "stdout",
     "output_type": "stream",
     "text": [
      "1\n",
      "2\n",
      "3\n",
      "4\n"
     ]
    }
   ],
   "source": [
    "for wk in range(1, 5):\n",
    "    print(wk)\n",
    "    temp = df.copy(deep=True)\n",
    "    temp.anchor_date = \\\n",
    "        temp.anchor_date.apply(lambda x: x + dt.timedelta(days=(7*wk)))\n",
    "    df = df.merge(temp[merge_cols].\\\n",
    "                  rename(columns={i: f'pst_wk{wk}_{i}' \n",
    "                                  for i in merge_cols[2:]}),\n",
    "              on=['user_id_hash', 'anchor_date'],\n",
    "              how='outer')"
   ]
  },
  {
   "cell_type": "code",
   "execution_count": 69,
   "metadata": {
    "ExecuteTime": {
     "end_time": "2019-03-03T23:29:39.055964Z",
     "start_time": "2019-03-03T23:29:39.051532Z"
    }
   },
   "outputs": [
    {
     "data": {
      "text/plain": [
       "(7351039, 65)"
      ]
     },
     "execution_count": 69,
     "metadata": {},
     "output_type": "execute_result"
    }
   ],
   "source": [
    "df.shape"
   ]
  },
  {
   "cell_type": "code",
   "execution_count": 70,
   "metadata": {
    "ExecuteTime": {
     "end_time": "2019-03-03T23:29:39.117266Z",
     "start_time": "2019-03-03T23:29:39.057744Z"
    }
   },
   "outputs": [
    {
     "data": {
      "text/plain": [
       "(1043065, 17)"
      ]
     },
     "execution_count": 70,
     "metadata": {},
     "output_type": "execute_result"
    }
   ],
   "source": [
    "df_bkp.shape"
   ]
  },
  {
   "cell_type": "code",
   "execution_count": 71,
   "metadata": {
    "ExecuteTime": {
     "end_time": "2019-03-03T23:29:39.139763Z",
     "start_time": "2019-03-03T23:29:39.119195Z"
    }
   },
   "outputs": [
    {
     "data": {
      "text/html": [
       "<div>\n",
       "<style scoped>\n",
       "    .dataframe tbody tr th:only-of-type {\n",
       "        vertical-align: middle;\n",
       "    }\n",
       "\n",
       "    .dataframe tbody tr th {\n",
       "        vertical-align: top;\n",
       "    }\n",
       "\n",
       "    .dataframe thead th {\n",
       "        text-align: right;\n",
       "    }\n",
       "</style>\n",
       "<table border=\"1\" class=\"dataframe\">\n",
       "  <thead>\n",
       "    <tr style=\"text-align: right;\">\n",
       "      <th></th>\n",
       "      <th>7351034</th>\n",
       "      <th>7351035</th>\n",
       "      <th>7351036</th>\n",
       "      <th>7351037</th>\n",
       "      <th>7351038</th>\n",
       "    </tr>\n",
       "  </thead>\n",
       "  <tbody>\n",
       "    <tr>\n",
       "      <th>anchor_date</th>\n",
       "      <td>2019-02-02 00:00:00</td>\n",
       "      <td>2019-02-02 00:00:00</td>\n",
       "      <td>2019-02-09 00:00:00</td>\n",
       "      <td>2019-02-16 00:00:00</td>\n",
       "      <td>2019-02-16 00:00:00</td>\n",
       "    </tr>\n",
       "    <tr>\n",
       "      <th>user_id_hash</th>\n",
       "      <td>c59a17f2d964aa477c4fbea6065382000ee9689de5946f...</td>\n",
       "      <td>b8b0f7687859a539ffc26bc71ed2a377b38450f4d6ad4c...</td>\n",
       "      <td>ad7aac6af49f2578d80161800fb36d4fe109d0fbcc1b53...</td>\n",
       "      <td>c58945d5e958f5a2bb805243b7c13d5bf9a671f9f95287...</td>\n",
       "      <td>d6eb2164eccc438deafb485c67ea2f499539746a50ac90...</td>\n",
       "    </tr>\n",
       "    <tr>\n",
       "      <th>no_sessions</th>\n",
       "      <td>NaN</td>\n",
       "      <td>NaN</td>\n",
       "      <td>NaN</td>\n",
       "      <td>NaN</td>\n",
       "      <td>NaN</td>\n",
       "    </tr>\n",
       "    <tr>\n",
       "      <th>no_city</th>\n",
       "      <td>NaN</td>\n",
       "      <td>NaN</td>\n",
       "      <td>NaN</td>\n",
       "      <td>NaN</td>\n",
       "      <td>NaN</td>\n",
       "    </tr>\n",
       "    <tr>\n",
       "      <th>last_city</th>\n",
       "      <td>NaN</td>\n",
       "      <td>NaN</td>\n",
       "      <td>NaN</td>\n",
       "      <td>NaN</td>\n",
       "      <td>NaN</td>\n",
       "    </tr>\n",
       "    <tr>\n",
       "      <th>last_country</th>\n",
       "      <td>NaN</td>\n",
       "      <td>NaN</td>\n",
       "      <td>NaN</td>\n",
       "      <td>NaN</td>\n",
       "      <td>NaN</td>\n",
       "    </tr>\n",
       "    <tr>\n",
       "      <th>last_region</th>\n",
       "      <td>NaN</td>\n",
       "      <td>NaN</td>\n",
       "      <td>NaN</td>\n",
       "      <td>NaN</td>\n",
       "      <td>NaN</td>\n",
       "    </tr>\n",
       "    <tr>\n",
       "      <th>region_count</th>\n",
       "      <td>NaN</td>\n",
       "      <td>NaN</td>\n",
       "      <td>NaN</td>\n",
       "      <td>NaN</td>\n",
       "      <td>NaN</td>\n",
       "    </tr>\n",
       "    <tr>\n",
       "      <th>last_locale</th>\n",
       "      <td>NaN</td>\n",
       "      <td>NaN</td>\n",
       "      <td>NaN</td>\n",
       "      <td>NaN</td>\n",
       "      <td>NaN</td>\n",
       "    </tr>\n",
       "    <tr>\n",
       "      <th>total_session_time</th>\n",
       "      <td>NaN</td>\n",
       "      <td>NaN</td>\n",
       "      <td>NaN</td>\n",
       "      <td>NaN</td>\n",
       "      <td>NaN</td>\n",
       "    </tr>\n",
       "    <tr>\n",
       "      <th>mean_session_time</th>\n",
       "      <td>NaN</td>\n",
       "      <td>NaN</td>\n",
       "      <td>NaN</td>\n",
       "      <td>NaN</td>\n",
       "      <td>NaN</td>\n",
       "    </tr>\n",
       "    <tr>\n",
       "      <th>median_session_time</th>\n",
       "      <td>NaN</td>\n",
       "      <td>NaN</td>\n",
       "      <td>NaN</td>\n",
       "      <td>NaN</td>\n",
       "      <td>NaN</td>\n",
       "    </tr>\n",
       "    <tr>\n",
       "      <th>no_of_buys</th>\n",
       "      <td>NaN</td>\n",
       "      <td>NaN</td>\n",
       "      <td>NaN</td>\n",
       "      <td>NaN</td>\n",
       "      <td>NaN</td>\n",
       "    </tr>\n",
       "    <tr>\n",
       "      <th>sum_of_buys</th>\n",
       "      <td>NaN</td>\n",
       "      <td>NaN</td>\n",
       "      <td>NaN</td>\n",
       "      <td>NaN</td>\n",
       "      <td>NaN</td>\n",
       "    </tr>\n",
       "    <tr>\n",
       "      <th>y1</th>\n",
       "      <td>NaN</td>\n",
       "      <td>NaN</td>\n",
       "      <td>NaN</td>\n",
       "      <td>NaN</td>\n",
       "      <td>NaN</td>\n",
       "    </tr>\n",
       "    <tr>\n",
       "      <th>y2</th>\n",
       "      <td>NaN</td>\n",
       "      <td>NaN</td>\n",
       "      <td>NaN</td>\n",
       "      <td>NaN</td>\n",
       "      <td>NaN</td>\n",
       "    </tr>\n",
       "    <tr>\n",
       "      <th>user_age</th>\n",
       "      <td>NaN</td>\n",
       "      <td>NaN</td>\n",
       "      <td>NaN</td>\n",
       "      <td>NaN</td>\n",
       "      <td>NaN</td>\n",
       "    </tr>\n",
       "    <tr>\n",
       "      <th>pst_wk1_no_sessions</th>\n",
       "      <td>NaN</td>\n",
       "      <td>NaN</td>\n",
       "      <td>NaN</td>\n",
       "      <td>NaN</td>\n",
       "      <td>NaN</td>\n",
       "    </tr>\n",
       "    <tr>\n",
       "      <th>pst_wk1_no_city</th>\n",
       "      <td>NaN</td>\n",
       "      <td>NaN</td>\n",
       "      <td>NaN</td>\n",
       "      <td>NaN</td>\n",
       "      <td>NaN</td>\n",
       "    </tr>\n",
       "    <tr>\n",
       "      <th>pst_wk1_last_city</th>\n",
       "      <td>NaN</td>\n",
       "      <td>NaN</td>\n",
       "      <td>NaN</td>\n",
       "      <td>NaN</td>\n",
       "      <td>NaN</td>\n",
       "    </tr>\n",
       "    <tr>\n",
       "      <th>pst_wk1_last_country</th>\n",
       "      <td>NaN</td>\n",
       "      <td>NaN</td>\n",
       "      <td>NaN</td>\n",
       "      <td>NaN</td>\n",
       "      <td>NaN</td>\n",
       "    </tr>\n",
       "    <tr>\n",
       "      <th>pst_wk1_last_region</th>\n",
       "      <td>NaN</td>\n",
       "      <td>NaN</td>\n",
       "      <td>NaN</td>\n",
       "      <td>NaN</td>\n",
       "      <td>NaN</td>\n",
       "    </tr>\n",
       "    <tr>\n",
       "      <th>pst_wk1_region_count</th>\n",
       "      <td>NaN</td>\n",
       "      <td>NaN</td>\n",
       "      <td>NaN</td>\n",
       "      <td>NaN</td>\n",
       "      <td>NaN</td>\n",
       "    </tr>\n",
       "    <tr>\n",
       "      <th>pst_wk1_last_locale</th>\n",
       "      <td>NaN</td>\n",
       "      <td>NaN</td>\n",
       "      <td>NaN</td>\n",
       "      <td>NaN</td>\n",
       "      <td>NaN</td>\n",
       "    </tr>\n",
       "    <tr>\n",
       "      <th>pst_wk1_total_session_time</th>\n",
       "      <td>NaN</td>\n",
       "      <td>NaN</td>\n",
       "      <td>NaN</td>\n",
       "      <td>NaN</td>\n",
       "      <td>NaN</td>\n",
       "    </tr>\n",
       "    <tr>\n",
       "      <th>pst_wk1_mean_session_time</th>\n",
       "      <td>NaN</td>\n",
       "      <td>NaN</td>\n",
       "      <td>NaN</td>\n",
       "      <td>NaN</td>\n",
       "      <td>NaN</td>\n",
       "    </tr>\n",
       "    <tr>\n",
       "      <th>pst_wk1_median_session_time</th>\n",
       "      <td>NaN</td>\n",
       "      <td>NaN</td>\n",
       "      <td>NaN</td>\n",
       "      <td>NaN</td>\n",
       "      <td>NaN</td>\n",
       "    </tr>\n",
       "    <tr>\n",
       "      <th>pst_wk1_no_of_buys</th>\n",
       "      <td>NaN</td>\n",
       "      <td>NaN</td>\n",
       "      <td>NaN</td>\n",
       "      <td>NaN</td>\n",
       "      <td>NaN</td>\n",
       "    </tr>\n",
       "    <tr>\n",
       "      <th>pst_wk1_sum_of_buys</th>\n",
       "      <td>NaN</td>\n",
       "      <td>NaN</td>\n",
       "      <td>NaN</td>\n",
       "      <td>NaN</td>\n",
       "      <td>NaN</td>\n",
       "    </tr>\n",
       "    <tr>\n",
       "      <th>pst_wk2_no_sessions</th>\n",
       "      <td>NaN</td>\n",
       "      <td>NaN</td>\n",
       "      <td>NaN</td>\n",
       "      <td>NaN</td>\n",
       "      <td>NaN</td>\n",
       "    </tr>\n",
       "    <tr>\n",
       "      <th>pst_wk2_no_city</th>\n",
       "      <td>NaN</td>\n",
       "      <td>NaN</td>\n",
       "      <td>NaN</td>\n",
       "      <td>NaN</td>\n",
       "      <td>NaN</td>\n",
       "    </tr>\n",
       "    <tr>\n",
       "      <th>pst_wk2_last_city</th>\n",
       "      <td>NaN</td>\n",
       "      <td>NaN</td>\n",
       "      <td>NaN</td>\n",
       "      <td>NaN</td>\n",
       "      <td>NaN</td>\n",
       "    </tr>\n",
       "    <tr>\n",
       "      <th>pst_wk2_last_country</th>\n",
       "      <td>NaN</td>\n",
       "      <td>NaN</td>\n",
       "      <td>NaN</td>\n",
       "      <td>NaN</td>\n",
       "      <td>NaN</td>\n",
       "    </tr>\n",
       "    <tr>\n",
       "      <th>pst_wk2_last_region</th>\n",
       "      <td>NaN</td>\n",
       "      <td>NaN</td>\n",
       "      <td>NaN</td>\n",
       "      <td>NaN</td>\n",
       "      <td>NaN</td>\n",
       "    </tr>\n",
       "    <tr>\n",
       "      <th>pst_wk2_region_count</th>\n",
       "      <td>NaN</td>\n",
       "      <td>NaN</td>\n",
       "      <td>NaN</td>\n",
       "      <td>NaN</td>\n",
       "      <td>NaN</td>\n",
       "    </tr>\n",
       "    <tr>\n",
       "      <th>pst_wk2_last_locale</th>\n",
       "      <td>NaN</td>\n",
       "      <td>NaN</td>\n",
       "      <td>NaN</td>\n",
       "      <td>NaN</td>\n",
       "      <td>NaN</td>\n",
       "    </tr>\n",
       "    <tr>\n",
       "      <th>pst_wk2_total_session_time</th>\n",
       "      <td>NaN</td>\n",
       "      <td>NaN</td>\n",
       "      <td>NaN</td>\n",
       "      <td>NaN</td>\n",
       "      <td>NaN</td>\n",
       "    </tr>\n",
       "    <tr>\n",
       "      <th>pst_wk2_mean_session_time</th>\n",
       "      <td>NaN</td>\n",
       "      <td>NaN</td>\n",
       "      <td>NaN</td>\n",
       "      <td>NaN</td>\n",
       "      <td>NaN</td>\n",
       "    </tr>\n",
       "    <tr>\n",
       "      <th>pst_wk2_median_session_time</th>\n",
       "      <td>NaN</td>\n",
       "      <td>NaN</td>\n",
       "      <td>NaN</td>\n",
       "      <td>NaN</td>\n",
       "      <td>NaN</td>\n",
       "    </tr>\n",
       "    <tr>\n",
       "      <th>pst_wk2_no_of_buys</th>\n",
       "      <td>NaN</td>\n",
       "      <td>NaN</td>\n",
       "      <td>NaN</td>\n",
       "      <td>NaN</td>\n",
       "      <td>NaN</td>\n",
       "    </tr>\n",
       "    <tr>\n",
       "      <th>pst_wk2_sum_of_buys</th>\n",
       "      <td>NaN</td>\n",
       "      <td>NaN</td>\n",
       "      <td>NaN</td>\n",
       "      <td>NaN</td>\n",
       "      <td>NaN</td>\n",
       "    </tr>\n",
       "    <tr>\n",
       "      <th>pst_wk3_no_sessions</th>\n",
       "      <td>NaN</td>\n",
       "      <td>NaN</td>\n",
       "      <td>NaN</td>\n",
       "      <td>NaN</td>\n",
       "      <td>NaN</td>\n",
       "    </tr>\n",
       "    <tr>\n",
       "      <th>pst_wk3_no_city</th>\n",
       "      <td>NaN</td>\n",
       "      <td>NaN</td>\n",
       "      <td>NaN</td>\n",
       "      <td>NaN</td>\n",
       "      <td>NaN</td>\n",
       "    </tr>\n",
       "    <tr>\n",
       "      <th>pst_wk3_last_city</th>\n",
       "      <td>NaN</td>\n",
       "      <td>NaN</td>\n",
       "      <td>NaN</td>\n",
       "      <td>NaN</td>\n",
       "      <td>NaN</td>\n",
       "    </tr>\n",
       "    <tr>\n",
       "      <th>pst_wk3_last_country</th>\n",
       "      <td>NaN</td>\n",
       "      <td>NaN</td>\n",
       "      <td>NaN</td>\n",
       "      <td>NaN</td>\n",
       "      <td>NaN</td>\n",
       "    </tr>\n",
       "    <tr>\n",
       "      <th>pst_wk3_last_region</th>\n",
       "      <td>NaN</td>\n",
       "      <td>NaN</td>\n",
       "      <td>NaN</td>\n",
       "      <td>NaN</td>\n",
       "      <td>NaN</td>\n",
       "    </tr>\n",
       "    <tr>\n",
       "      <th>pst_wk3_region_count</th>\n",
       "      <td>NaN</td>\n",
       "      <td>NaN</td>\n",
       "      <td>NaN</td>\n",
       "      <td>NaN</td>\n",
       "      <td>NaN</td>\n",
       "    </tr>\n",
       "    <tr>\n",
       "      <th>pst_wk3_last_locale</th>\n",
       "      <td>NaN</td>\n",
       "      <td>NaN</td>\n",
       "      <td>NaN</td>\n",
       "      <td>NaN</td>\n",
       "      <td>NaN</td>\n",
       "    </tr>\n",
       "    <tr>\n",
       "      <th>pst_wk3_total_session_time</th>\n",
       "      <td>NaN</td>\n",
       "      <td>NaN</td>\n",
       "      <td>NaN</td>\n",
       "      <td>NaN</td>\n",
       "      <td>NaN</td>\n",
       "    </tr>\n",
       "    <tr>\n",
       "      <th>pst_wk3_mean_session_time</th>\n",
       "      <td>NaN</td>\n",
       "      <td>NaN</td>\n",
       "      <td>NaN</td>\n",
       "      <td>NaN</td>\n",
       "      <td>NaN</td>\n",
       "    </tr>\n",
       "    <tr>\n",
       "      <th>pst_wk3_median_session_time</th>\n",
       "      <td>NaN</td>\n",
       "      <td>NaN</td>\n",
       "      <td>NaN</td>\n",
       "      <td>NaN</td>\n",
       "      <td>NaN</td>\n",
       "    </tr>\n",
       "    <tr>\n",
       "      <th>pst_wk3_no_of_buys</th>\n",
       "      <td>NaN</td>\n",
       "      <td>NaN</td>\n",
       "      <td>NaN</td>\n",
       "      <td>NaN</td>\n",
       "      <td>NaN</td>\n",
       "    </tr>\n",
       "    <tr>\n",
       "      <th>pst_wk3_sum_of_buys</th>\n",
       "      <td>NaN</td>\n",
       "      <td>NaN</td>\n",
       "      <td>NaN</td>\n",
       "      <td>NaN</td>\n",
       "      <td>NaN</td>\n",
       "    </tr>\n",
       "    <tr>\n",
       "      <th>pst_wk4_no_sessions</th>\n",
       "      <td>NaN</td>\n",
       "      <td>NaN</td>\n",
       "      <td>NaN</td>\n",
       "      <td>NaN</td>\n",
       "      <td>NaN</td>\n",
       "    </tr>\n",
       "    <tr>\n",
       "      <th>pst_wk4_no_city</th>\n",
       "      <td>NaN</td>\n",
       "      <td>NaN</td>\n",
       "      <td>NaN</td>\n",
       "      <td>NaN</td>\n",
       "      <td>NaN</td>\n",
       "    </tr>\n",
       "    <tr>\n",
       "      <th>pst_wk4_last_city</th>\n",
       "      <td>NaN</td>\n",
       "      <td>NaN</td>\n",
       "      <td>NaN</td>\n",
       "      <td>NaN</td>\n",
       "      <td>NaN</td>\n",
       "    </tr>\n",
       "    <tr>\n",
       "      <th>pst_wk4_last_country</th>\n",
       "      <td>NaN</td>\n",
       "      <td>NaN</td>\n",
       "      <td>NaN</td>\n",
       "      <td>NaN</td>\n",
       "      <td>NaN</td>\n",
       "    </tr>\n",
       "    <tr>\n",
       "      <th>pst_wk4_last_region</th>\n",
       "      <td>NaN</td>\n",
       "      <td>NaN</td>\n",
       "      <td>NaN</td>\n",
       "      <td>NaN</td>\n",
       "      <td>NaN</td>\n",
       "    </tr>\n",
       "    <tr>\n",
       "      <th>pst_wk4_region_count</th>\n",
       "      <td>NaN</td>\n",
       "      <td>NaN</td>\n",
       "      <td>NaN</td>\n",
       "      <td>NaN</td>\n",
       "      <td>NaN</td>\n",
       "    </tr>\n",
       "    <tr>\n",
       "      <th>pst_wk4_last_locale</th>\n",
       "      <td>NaN</td>\n",
       "      <td>NaN</td>\n",
       "      <td>NaN</td>\n",
       "      <td>NaN</td>\n",
       "      <td>NaN</td>\n",
       "    </tr>\n",
       "    <tr>\n",
       "      <th>pst_wk4_total_session_time</th>\n",
       "      <td>NaN</td>\n",
       "      <td>NaN</td>\n",
       "      <td>NaN</td>\n",
       "      <td>NaN</td>\n",
       "      <td>NaN</td>\n",
       "    </tr>\n",
       "    <tr>\n",
       "      <th>pst_wk4_mean_session_time</th>\n",
       "      <td>NaN</td>\n",
       "      <td>NaN</td>\n",
       "      <td>NaN</td>\n",
       "      <td>NaN</td>\n",
       "      <td>NaN</td>\n",
       "    </tr>\n",
       "    <tr>\n",
       "      <th>pst_wk4_median_session_time</th>\n",
       "      <td>NaN</td>\n",
       "      <td>NaN</td>\n",
       "      <td>NaN</td>\n",
       "      <td>NaN</td>\n",
       "      <td>NaN</td>\n",
       "    </tr>\n",
       "    <tr>\n",
       "      <th>pst_wk4_no_of_buys</th>\n",
       "      <td>NaN</td>\n",
       "      <td>NaN</td>\n",
       "      <td>NaN</td>\n",
       "      <td>NaN</td>\n",
       "      <td>NaN</td>\n",
       "    </tr>\n",
       "    <tr>\n",
       "      <th>pst_wk4_sum_of_buys</th>\n",
       "      <td>NaN</td>\n",
       "      <td>NaN</td>\n",
       "      <td>NaN</td>\n",
       "      <td>NaN</td>\n",
       "      <td>NaN</td>\n",
       "    </tr>\n",
       "  </tbody>\n",
       "</table>\n",
       "</div>"
      ],
      "text/plain": [
       "                                                                       7351034  \\\n",
       "anchor_date                                                2019-02-02 00:00:00   \n",
       "user_id_hash                 c59a17f2d964aa477c4fbea6065382000ee9689de5946f...   \n",
       "no_sessions                                                                NaN   \n",
       "no_city                                                                    NaN   \n",
       "last_city                                                                  NaN   \n",
       "last_country                                                               NaN   \n",
       "last_region                                                                NaN   \n",
       "region_count                                                               NaN   \n",
       "last_locale                                                                NaN   \n",
       "total_session_time                                                         NaN   \n",
       "mean_session_time                                                          NaN   \n",
       "median_session_time                                                        NaN   \n",
       "no_of_buys                                                                 NaN   \n",
       "sum_of_buys                                                                NaN   \n",
       "y1                                                                         NaN   \n",
       "y2                                                                         NaN   \n",
       "user_age                                                                   NaN   \n",
       "pst_wk1_no_sessions                                                        NaN   \n",
       "pst_wk1_no_city                                                            NaN   \n",
       "pst_wk1_last_city                                                          NaN   \n",
       "pst_wk1_last_country                                                       NaN   \n",
       "pst_wk1_last_region                                                        NaN   \n",
       "pst_wk1_region_count                                                       NaN   \n",
       "pst_wk1_last_locale                                                        NaN   \n",
       "pst_wk1_total_session_time                                                 NaN   \n",
       "pst_wk1_mean_session_time                                                  NaN   \n",
       "pst_wk1_median_session_time                                                NaN   \n",
       "pst_wk1_no_of_buys                                                         NaN   \n",
       "pst_wk1_sum_of_buys                                                        NaN   \n",
       "pst_wk2_no_sessions                                                        NaN   \n",
       "pst_wk2_no_city                                                            NaN   \n",
       "pst_wk2_last_city                                                          NaN   \n",
       "pst_wk2_last_country                                                       NaN   \n",
       "pst_wk2_last_region                                                        NaN   \n",
       "pst_wk2_region_count                                                       NaN   \n",
       "pst_wk2_last_locale                                                        NaN   \n",
       "pst_wk2_total_session_time                                                 NaN   \n",
       "pst_wk2_mean_session_time                                                  NaN   \n",
       "pst_wk2_median_session_time                                                NaN   \n",
       "pst_wk2_no_of_buys                                                         NaN   \n",
       "pst_wk2_sum_of_buys                                                        NaN   \n",
       "pst_wk3_no_sessions                                                        NaN   \n",
       "pst_wk3_no_city                                                            NaN   \n",
       "pst_wk3_last_city                                                          NaN   \n",
       "pst_wk3_last_country                                                       NaN   \n",
       "pst_wk3_last_region                                                        NaN   \n",
       "pst_wk3_region_count                                                       NaN   \n",
       "pst_wk3_last_locale                                                        NaN   \n",
       "pst_wk3_total_session_time                                                 NaN   \n",
       "pst_wk3_mean_session_time                                                  NaN   \n",
       "pst_wk3_median_session_time                                                NaN   \n",
       "pst_wk3_no_of_buys                                                         NaN   \n",
       "pst_wk3_sum_of_buys                                                        NaN   \n",
       "pst_wk4_no_sessions                                                        NaN   \n",
       "pst_wk4_no_city                                                            NaN   \n",
       "pst_wk4_last_city                                                          NaN   \n",
       "pst_wk4_last_country                                                       NaN   \n",
       "pst_wk4_last_region                                                        NaN   \n",
       "pst_wk4_region_count                                                       NaN   \n",
       "pst_wk4_last_locale                                                        NaN   \n",
       "pst_wk4_total_session_time                                                 NaN   \n",
       "pst_wk4_mean_session_time                                                  NaN   \n",
       "pst_wk4_median_session_time                                                NaN   \n",
       "pst_wk4_no_of_buys                                                         NaN   \n",
       "pst_wk4_sum_of_buys                                                        NaN   \n",
       "\n",
       "                                                                       7351035  \\\n",
       "anchor_date                                                2019-02-02 00:00:00   \n",
       "user_id_hash                 b8b0f7687859a539ffc26bc71ed2a377b38450f4d6ad4c...   \n",
       "no_sessions                                                                NaN   \n",
       "no_city                                                                    NaN   \n",
       "last_city                                                                  NaN   \n",
       "last_country                                                               NaN   \n",
       "last_region                                                                NaN   \n",
       "region_count                                                               NaN   \n",
       "last_locale                                                                NaN   \n",
       "total_session_time                                                         NaN   \n",
       "mean_session_time                                                          NaN   \n",
       "median_session_time                                                        NaN   \n",
       "no_of_buys                                                                 NaN   \n",
       "sum_of_buys                                                                NaN   \n",
       "y1                                                                         NaN   \n",
       "y2                                                                         NaN   \n",
       "user_age                                                                   NaN   \n",
       "pst_wk1_no_sessions                                                        NaN   \n",
       "pst_wk1_no_city                                                            NaN   \n",
       "pst_wk1_last_city                                                          NaN   \n",
       "pst_wk1_last_country                                                       NaN   \n",
       "pst_wk1_last_region                                                        NaN   \n",
       "pst_wk1_region_count                                                       NaN   \n",
       "pst_wk1_last_locale                                                        NaN   \n",
       "pst_wk1_total_session_time                                                 NaN   \n",
       "pst_wk1_mean_session_time                                                  NaN   \n",
       "pst_wk1_median_session_time                                                NaN   \n",
       "pst_wk1_no_of_buys                                                         NaN   \n",
       "pst_wk1_sum_of_buys                                                        NaN   \n",
       "pst_wk2_no_sessions                                                        NaN   \n",
       "pst_wk2_no_city                                                            NaN   \n",
       "pst_wk2_last_city                                                          NaN   \n",
       "pst_wk2_last_country                                                       NaN   \n",
       "pst_wk2_last_region                                                        NaN   \n",
       "pst_wk2_region_count                                                       NaN   \n",
       "pst_wk2_last_locale                                                        NaN   \n",
       "pst_wk2_total_session_time                                                 NaN   \n",
       "pst_wk2_mean_session_time                                                  NaN   \n",
       "pst_wk2_median_session_time                                                NaN   \n",
       "pst_wk2_no_of_buys                                                         NaN   \n",
       "pst_wk2_sum_of_buys                                                        NaN   \n",
       "pst_wk3_no_sessions                                                        NaN   \n",
       "pst_wk3_no_city                                                            NaN   \n",
       "pst_wk3_last_city                                                          NaN   \n",
       "pst_wk3_last_country                                                       NaN   \n",
       "pst_wk3_last_region                                                        NaN   \n",
       "pst_wk3_region_count                                                       NaN   \n",
       "pst_wk3_last_locale                                                        NaN   \n",
       "pst_wk3_total_session_time                                                 NaN   \n",
       "pst_wk3_mean_session_time                                                  NaN   \n",
       "pst_wk3_median_session_time                                                NaN   \n",
       "pst_wk3_no_of_buys                                                         NaN   \n",
       "pst_wk3_sum_of_buys                                                        NaN   \n",
       "pst_wk4_no_sessions                                                        NaN   \n",
       "pst_wk4_no_city                                                            NaN   \n",
       "pst_wk4_last_city                                                          NaN   \n",
       "pst_wk4_last_country                                                       NaN   \n",
       "pst_wk4_last_region                                                        NaN   \n",
       "pst_wk4_region_count                                                       NaN   \n",
       "pst_wk4_last_locale                                                        NaN   \n",
       "pst_wk4_total_session_time                                                 NaN   \n",
       "pst_wk4_mean_session_time                                                  NaN   \n",
       "pst_wk4_median_session_time                                                NaN   \n",
       "pst_wk4_no_of_buys                                                         NaN   \n",
       "pst_wk4_sum_of_buys                                                        NaN   \n",
       "\n",
       "                                                                       7351036  \\\n",
       "anchor_date                                                2019-02-09 00:00:00   \n",
       "user_id_hash                 ad7aac6af49f2578d80161800fb36d4fe109d0fbcc1b53...   \n",
       "no_sessions                                                                NaN   \n",
       "no_city                                                                    NaN   \n",
       "last_city                                                                  NaN   \n",
       "last_country                                                               NaN   \n",
       "last_region                                                                NaN   \n",
       "region_count                                                               NaN   \n",
       "last_locale                                                                NaN   \n",
       "total_session_time                                                         NaN   \n",
       "mean_session_time                                                          NaN   \n",
       "median_session_time                                                        NaN   \n",
       "no_of_buys                                                                 NaN   \n",
       "sum_of_buys                                                                NaN   \n",
       "y1                                                                         NaN   \n",
       "y2                                                                         NaN   \n",
       "user_age                                                                   NaN   \n",
       "pst_wk1_no_sessions                                                        NaN   \n",
       "pst_wk1_no_city                                                            NaN   \n",
       "pst_wk1_last_city                                                          NaN   \n",
       "pst_wk1_last_country                                                       NaN   \n",
       "pst_wk1_last_region                                                        NaN   \n",
       "pst_wk1_region_count                                                       NaN   \n",
       "pst_wk1_last_locale                                                        NaN   \n",
       "pst_wk1_total_session_time                                                 NaN   \n",
       "pst_wk1_mean_session_time                                                  NaN   \n",
       "pst_wk1_median_session_time                                                NaN   \n",
       "pst_wk1_no_of_buys                                                         NaN   \n",
       "pst_wk1_sum_of_buys                                                        NaN   \n",
       "pst_wk2_no_sessions                                                        NaN   \n",
       "pst_wk2_no_city                                                            NaN   \n",
       "pst_wk2_last_city                                                          NaN   \n",
       "pst_wk2_last_country                                                       NaN   \n",
       "pst_wk2_last_region                                                        NaN   \n",
       "pst_wk2_region_count                                                       NaN   \n",
       "pst_wk2_last_locale                                                        NaN   \n",
       "pst_wk2_total_session_time                                                 NaN   \n",
       "pst_wk2_mean_session_time                                                  NaN   \n",
       "pst_wk2_median_session_time                                                NaN   \n",
       "pst_wk2_no_of_buys                                                         NaN   \n",
       "pst_wk2_sum_of_buys                                                        NaN   \n",
       "pst_wk3_no_sessions                                                        NaN   \n",
       "pst_wk3_no_city                                                            NaN   \n",
       "pst_wk3_last_city                                                          NaN   \n",
       "pst_wk3_last_country                                                       NaN   \n",
       "pst_wk3_last_region                                                        NaN   \n",
       "pst_wk3_region_count                                                       NaN   \n",
       "pst_wk3_last_locale                                                        NaN   \n",
       "pst_wk3_total_session_time                                                 NaN   \n",
       "pst_wk3_mean_session_time                                                  NaN   \n",
       "pst_wk3_median_session_time                                                NaN   \n",
       "pst_wk3_no_of_buys                                                         NaN   \n",
       "pst_wk3_sum_of_buys                                                        NaN   \n",
       "pst_wk4_no_sessions                                                        NaN   \n",
       "pst_wk4_no_city                                                            NaN   \n",
       "pst_wk4_last_city                                                          NaN   \n",
       "pst_wk4_last_country                                                       NaN   \n",
       "pst_wk4_last_region                                                        NaN   \n",
       "pst_wk4_region_count                                                       NaN   \n",
       "pst_wk4_last_locale                                                        NaN   \n",
       "pst_wk4_total_session_time                                                 NaN   \n",
       "pst_wk4_mean_session_time                                                  NaN   \n",
       "pst_wk4_median_session_time                                                NaN   \n",
       "pst_wk4_no_of_buys                                                         NaN   \n",
       "pst_wk4_sum_of_buys                                                        NaN   \n",
       "\n",
       "                                                                       7351037  \\\n",
       "anchor_date                                                2019-02-16 00:00:00   \n",
       "user_id_hash                 c58945d5e958f5a2bb805243b7c13d5bf9a671f9f95287...   \n",
       "no_sessions                                                                NaN   \n",
       "no_city                                                                    NaN   \n",
       "last_city                                                                  NaN   \n",
       "last_country                                                               NaN   \n",
       "last_region                                                                NaN   \n",
       "region_count                                                               NaN   \n",
       "last_locale                                                                NaN   \n",
       "total_session_time                                                         NaN   \n",
       "mean_session_time                                                          NaN   \n",
       "median_session_time                                                        NaN   \n",
       "no_of_buys                                                                 NaN   \n",
       "sum_of_buys                                                                NaN   \n",
       "y1                                                                         NaN   \n",
       "y2                                                                         NaN   \n",
       "user_age                                                                   NaN   \n",
       "pst_wk1_no_sessions                                                        NaN   \n",
       "pst_wk1_no_city                                                            NaN   \n",
       "pst_wk1_last_city                                                          NaN   \n",
       "pst_wk1_last_country                                                       NaN   \n",
       "pst_wk1_last_region                                                        NaN   \n",
       "pst_wk1_region_count                                                       NaN   \n",
       "pst_wk1_last_locale                                                        NaN   \n",
       "pst_wk1_total_session_time                                                 NaN   \n",
       "pst_wk1_mean_session_time                                                  NaN   \n",
       "pst_wk1_median_session_time                                                NaN   \n",
       "pst_wk1_no_of_buys                                                         NaN   \n",
       "pst_wk1_sum_of_buys                                                        NaN   \n",
       "pst_wk2_no_sessions                                                        NaN   \n",
       "pst_wk2_no_city                                                            NaN   \n",
       "pst_wk2_last_city                                                          NaN   \n",
       "pst_wk2_last_country                                                       NaN   \n",
       "pst_wk2_last_region                                                        NaN   \n",
       "pst_wk2_region_count                                                       NaN   \n",
       "pst_wk2_last_locale                                                        NaN   \n",
       "pst_wk2_total_session_time                                                 NaN   \n",
       "pst_wk2_mean_session_time                                                  NaN   \n",
       "pst_wk2_median_session_time                                                NaN   \n",
       "pst_wk2_no_of_buys                                                         NaN   \n",
       "pst_wk2_sum_of_buys                                                        NaN   \n",
       "pst_wk3_no_sessions                                                        NaN   \n",
       "pst_wk3_no_city                                                            NaN   \n",
       "pst_wk3_last_city                                                          NaN   \n",
       "pst_wk3_last_country                                                       NaN   \n",
       "pst_wk3_last_region                                                        NaN   \n",
       "pst_wk3_region_count                                                       NaN   \n",
       "pst_wk3_last_locale                                                        NaN   \n",
       "pst_wk3_total_session_time                                                 NaN   \n",
       "pst_wk3_mean_session_time                                                  NaN   \n",
       "pst_wk3_median_session_time                                                NaN   \n",
       "pst_wk3_no_of_buys                                                         NaN   \n",
       "pst_wk3_sum_of_buys                                                        NaN   \n",
       "pst_wk4_no_sessions                                                        NaN   \n",
       "pst_wk4_no_city                                                            NaN   \n",
       "pst_wk4_last_city                                                          NaN   \n",
       "pst_wk4_last_country                                                       NaN   \n",
       "pst_wk4_last_region                                                        NaN   \n",
       "pst_wk4_region_count                                                       NaN   \n",
       "pst_wk4_last_locale                                                        NaN   \n",
       "pst_wk4_total_session_time                                                 NaN   \n",
       "pst_wk4_mean_session_time                                                  NaN   \n",
       "pst_wk4_median_session_time                                                NaN   \n",
       "pst_wk4_no_of_buys                                                         NaN   \n",
       "pst_wk4_sum_of_buys                                                        NaN   \n",
       "\n",
       "                                                                       7351038  \n",
       "anchor_date                                                2019-02-16 00:00:00  \n",
       "user_id_hash                 d6eb2164eccc438deafb485c67ea2f499539746a50ac90...  \n",
       "no_sessions                                                                NaN  \n",
       "no_city                                                                    NaN  \n",
       "last_city                                                                  NaN  \n",
       "last_country                                                               NaN  \n",
       "last_region                                                                NaN  \n",
       "region_count                                                               NaN  \n",
       "last_locale                                                                NaN  \n",
       "total_session_time                                                         NaN  \n",
       "mean_session_time                                                          NaN  \n",
       "median_session_time                                                        NaN  \n",
       "no_of_buys                                                                 NaN  \n",
       "sum_of_buys                                                                NaN  \n",
       "y1                                                                         NaN  \n",
       "y2                                                                         NaN  \n",
       "user_age                                                                   NaN  \n",
       "pst_wk1_no_sessions                                                        NaN  \n",
       "pst_wk1_no_city                                                            NaN  \n",
       "pst_wk1_last_city                                                          NaN  \n",
       "pst_wk1_last_country                                                       NaN  \n",
       "pst_wk1_last_region                                                        NaN  \n",
       "pst_wk1_region_count                                                       NaN  \n",
       "pst_wk1_last_locale                                                        NaN  \n",
       "pst_wk1_total_session_time                                                 NaN  \n",
       "pst_wk1_mean_session_time                                                  NaN  \n",
       "pst_wk1_median_session_time                                                NaN  \n",
       "pst_wk1_no_of_buys                                                         NaN  \n",
       "pst_wk1_sum_of_buys                                                        NaN  \n",
       "pst_wk2_no_sessions                                                        NaN  \n",
       "pst_wk2_no_city                                                            NaN  \n",
       "pst_wk2_last_city                                                          NaN  \n",
       "pst_wk2_last_country                                                       NaN  \n",
       "pst_wk2_last_region                                                        NaN  \n",
       "pst_wk2_region_count                                                       NaN  \n",
       "pst_wk2_last_locale                                                        NaN  \n",
       "pst_wk2_total_session_time                                                 NaN  \n",
       "pst_wk2_mean_session_time                                                  NaN  \n",
       "pst_wk2_median_session_time                                                NaN  \n",
       "pst_wk2_no_of_buys                                                         NaN  \n",
       "pst_wk2_sum_of_buys                                                        NaN  \n",
       "pst_wk3_no_sessions                                                        NaN  \n",
       "pst_wk3_no_city                                                            NaN  \n",
       "pst_wk3_last_city                                                          NaN  \n",
       "pst_wk3_last_country                                                       NaN  \n",
       "pst_wk3_last_region                                                        NaN  \n",
       "pst_wk3_region_count                                                       NaN  \n",
       "pst_wk3_last_locale                                                        NaN  \n",
       "pst_wk3_total_session_time                                                 NaN  \n",
       "pst_wk3_mean_session_time                                                  NaN  \n",
       "pst_wk3_median_session_time                                                NaN  \n",
       "pst_wk3_no_of_buys                                                         NaN  \n",
       "pst_wk3_sum_of_buys                                                        NaN  \n",
       "pst_wk4_no_sessions                                                        NaN  \n",
       "pst_wk4_no_city                                                            NaN  \n",
       "pst_wk4_last_city                                                          NaN  \n",
       "pst_wk4_last_country                                                       NaN  \n",
       "pst_wk4_last_region                                                        NaN  \n",
       "pst_wk4_region_count                                                       NaN  \n",
       "pst_wk4_last_locale                                                        NaN  \n",
       "pst_wk4_total_session_time                                                 NaN  \n",
       "pst_wk4_mean_session_time                                                  NaN  \n",
       "pst_wk4_median_session_time                                                NaN  \n",
       "pst_wk4_no_of_buys                                                         NaN  \n",
       "pst_wk4_sum_of_buys                                                        NaN  "
      ]
     },
     "execution_count": 71,
     "metadata": {},
     "output_type": "execute_result"
    }
   ],
   "source": [
    "df.tail().T"
   ]
  },
  {
   "cell_type": "code",
   "execution_count": 72,
   "metadata": {
    "ExecuteTime": {
     "end_time": "2019-03-03T23:29:50.293239Z",
     "start_time": "2019-03-03T23:29:39.141583Z"
    }
   },
   "outputs": [
    {
     "data": {
      "text/plain": [
       "anchor_date                          0\n",
       "user_id_hash                         0\n",
       "no_sessions                    6360718\n",
       "no_city                        6360718\n",
       "last_city                      6307974\n",
       "last_country                   6307974\n",
       "last_region                    6307974\n",
       "region_count                   6360718\n",
       "last_locale                    6307974\n",
       "total_session_time             6360718\n",
       "mean_session_time              6360718\n",
       "median_session_time            6360718\n",
       "no_of_buys                     6360674\n",
       "sum_of_buys                    6360674\n",
       "y1                             6307974\n",
       "y2                             6307974\n",
       "user_age                       6360718\n",
       "pst_wk1_no_sessions            6360718\n",
       "pst_wk1_no_city                6360718\n",
       "pst_wk1_last_city              6307974\n",
       "pst_wk1_last_country           6307974\n",
       "pst_wk1_last_region            6307974\n",
       "pst_wk1_region_count           6360718\n",
       "pst_wk1_last_locale            6307974\n",
       "pst_wk1_total_session_time     6360718\n",
       "pst_wk1_mean_session_time      6360718\n",
       "pst_wk1_median_session_time    6360718\n",
       "pst_wk1_no_of_buys             6360674\n",
       "pst_wk1_sum_of_buys            6360674\n",
       "pst_wk2_no_sessions            6360718\n",
       "pst_wk2_no_city                6360718\n",
       "pst_wk2_last_city              6307974\n",
       "pst_wk2_last_country           6307974\n",
       "pst_wk2_last_region            6307974\n",
       "pst_wk2_region_count           6360718\n",
       "pst_wk2_last_locale            6307974\n",
       "pst_wk2_total_session_time     6360718\n",
       "pst_wk2_mean_session_time      6360718\n",
       "pst_wk2_median_session_time    6360718\n",
       "pst_wk2_no_of_buys             6360674\n",
       "pst_wk2_sum_of_buys            6360674\n",
       "pst_wk3_no_sessions            6360718\n",
       "pst_wk3_no_city                6360718\n",
       "pst_wk3_last_city              6307974\n",
       "pst_wk3_last_country           6307974\n",
       "pst_wk3_last_region            6307974\n",
       "pst_wk3_region_count           6360718\n",
       "pst_wk3_last_locale            6307974\n",
       "pst_wk3_total_session_time     6360718\n",
       "pst_wk3_mean_session_time      6360718\n",
       "pst_wk3_median_session_time    6360718\n",
       "pst_wk3_no_of_buys             6360674\n",
       "pst_wk3_sum_of_buys            6360674\n",
       "pst_wk4_no_sessions            6360718\n",
       "pst_wk4_no_city                6360718\n",
       "pst_wk4_last_city              6307974\n",
       "pst_wk4_last_country           6307974\n",
       "pst_wk4_last_region            6307974\n",
       "pst_wk4_region_count           6360718\n",
       "pst_wk4_last_locale            6307974\n",
       "pst_wk4_total_session_time     6360718\n",
       "pst_wk4_mean_session_time      6360718\n",
       "pst_wk4_median_session_time    6360718\n",
       "pst_wk4_no_of_buys             6360674\n",
       "pst_wk4_sum_of_buys            6360674\n",
       "dtype: int64"
      ]
     },
     "execution_count": 72,
     "metadata": {},
     "output_type": "execute_result"
    }
   ],
   "source": [
    "df.isna().sum()"
   ]
  },
  {
   "cell_type": "code",
   "execution_count": 73,
   "metadata": {
    "ExecuteTime": {
     "end_time": "2019-03-03T23:29:50.372213Z",
     "start_time": "2019-03-03T23:29:50.295418Z"
    }
   },
   "outputs": [],
   "source": [
    "df['y1'].fillna(0, inplace=True)\n",
    "df['y2'].fillna(0, inplace=True)"
   ]
  },
  {
   "cell_type": "code",
   "execution_count": 74,
   "metadata": {
    "ExecuteTime": {
     "end_time": "2019-03-03T23:30:00.517910Z",
     "start_time": "2019-03-03T23:29:50.374204Z"
    }
   },
   "outputs": [],
   "source": [
    "df['no_nan'] = df.isna().sum(axis=1)"
   ]
  },
  {
   "cell_type": "code",
   "execution_count": 75,
   "metadata": {
    "ExecuteTime": {
     "end_time": "2019-03-03T23:30:00.523682Z",
     "start_time": "2019-03-03T23:30:00.520048Z"
    }
   },
   "outputs": [
    {
     "data": {
      "text/plain": [
       "(7351039, 66)"
      ]
     },
     "execution_count": 75,
     "metadata": {},
     "output_type": "execute_result"
    }
   ],
   "source": [
    "df.shape"
   ]
  },
  {
   "cell_type": "code",
   "execution_count": 76,
   "metadata": {
    "ExecuteTime": {
     "end_time": "2019-03-03T23:30:00.606486Z",
     "start_time": "2019-03-03T23:30:00.525539Z"
    }
   },
   "outputs": [
    {
     "data": {
      "text/plain": [
       "61    3724858\n",
       "49    2049644\n",
       "48     598151\n",
       "37     348204\n",
       "36     159175\n",
       "25     103427\n",
       "24      71705\n",
       "0       46289\n",
       "12      39374\n",
       "13      33505\n",
       "57      28943\n",
       "40      20066\n",
       "53      19956\n",
       "41      14235\n",
       "28      13850\n",
       "33      12670\n",
       "45      10789\n",
       "44       9056\n",
       "32       8824\n",
       "8        8749\n",
       "16       8269\n",
       "21       6981\n",
       "20       6804\n",
       "29       6530\n",
       "17        422\n",
       "9         343\n",
       "55         50\n",
       "47         33\n",
       "43         28\n",
       "39         28\n",
       "35         22\n",
       "51         19\n",
       "31         13\n",
       "27         10\n",
       "15          4\n",
       "14          3\n",
       "22          2\n",
       "7           2\n",
       "18          1\n",
       "19          1\n",
       "30          1\n",
       "26          1\n",
       "6           1\n",
       "23          1\n",
       "Name: no_nan, dtype: int64"
      ]
     },
     "execution_count": 76,
     "metadata": {},
     "output_type": "execute_result"
    }
   ],
   "source": [
    "df.no_nan.value_counts()"
   ]
  },
  {
   "cell_type": "code",
   "execution_count": 77,
   "metadata": {
    "ExecuteTime": {
     "end_time": "2019-03-03T23:30:04.189915Z",
     "start_time": "2019-03-03T23:30:00.608383Z"
    }
   },
   "outputs": [],
   "source": [
    "df = df[df.no_nan != 60]"
   ]
  },
  {
   "cell_type": "code",
   "execution_count": 78,
   "metadata": {
    "ExecuteTime": {
     "end_time": "2019-03-03T23:30:04.257354Z",
     "start_time": "2019-03-03T23:30:04.192298Z"
    }
   },
   "outputs": [
    {
     "data": {
      "text/plain": [
       "61    3724858\n",
       "49    2049644\n",
       "48     598151\n",
       "37     348204\n",
       "36     159175\n",
       "25     103427\n",
       "24      71705\n",
       "0       46289\n",
       "12      39374\n",
       "13      33505\n",
       "57      28943\n",
       "40      20066\n",
       "53      19956\n",
       "41      14235\n",
       "28      13850\n",
       "33      12670\n",
       "45      10789\n",
       "44       9056\n",
       "32       8824\n",
       "8        8749\n",
       "16       8269\n",
       "21       6981\n",
       "20       6804\n",
       "29       6530\n",
       "17        422\n",
       "9         343\n",
       "55         50\n",
       "47         33\n",
       "43         28\n",
       "39         28\n",
       "35         22\n",
       "51         19\n",
       "31         13\n",
       "27         10\n",
       "15          4\n",
       "14          3\n",
       "22          2\n",
       "7           2\n",
       "18          1\n",
       "19          1\n",
       "30          1\n",
       "26          1\n",
       "6           1\n",
       "23          1\n",
       "Name: no_nan, dtype: int64"
      ]
     },
     "execution_count": 78,
     "metadata": {},
     "output_type": "execute_result"
    }
   ],
   "source": [
    "df.no_nan.value_counts()"
   ]
  },
  {
   "cell_type": "code",
   "execution_count": 79,
   "metadata": {
    "ExecuteTime": {
     "end_time": "2019-03-03T23:30:04.583187Z",
     "start_time": "2019-03-03T23:30:04.259377Z"
    }
   },
   "outputs": [
    {
     "data": {
      "text/html": [
       "<div>\n",
       "<style scoped>\n",
       "    .dataframe tbody tr th:only-of-type {\n",
       "        vertical-align: middle;\n",
       "    }\n",
       "\n",
       "    .dataframe tbody tr th {\n",
       "        vertical-align: top;\n",
       "    }\n",
       "\n",
       "    .dataframe thead th {\n",
       "        text-align: right;\n",
       "    }\n",
       "</style>\n",
       "<table border=\"1\" class=\"dataframe\">\n",
       "  <thead>\n",
       "    <tr style=\"text-align: right;\">\n",
       "      <th></th>\n",
       "      <th>0</th>\n",
       "      <th>1</th>\n",
       "      <th>2</th>\n",
       "      <th>3</th>\n",
       "      <th>4</th>\n",
       "    </tr>\n",
       "  </thead>\n",
       "  <tbody>\n",
       "    <tr>\n",
       "      <th>anchor_date</th>\n",
       "      <td>2018-09-29 00:00:00</td>\n",
       "      <td>2018-09-29 00:00:00</td>\n",
       "      <td>2018-09-29 00:00:00</td>\n",
       "      <td>2018-09-29 00:00:00</td>\n",
       "      <td>2018-09-29 00:00:00</td>\n",
       "    </tr>\n",
       "    <tr>\n",
       "      <th>user_id_hash</th>\n",
       "      <td>00026e5050a70ef12d421f75c6a5c80d0f62d37acab8bd...</td>\n",
       "      <td>0003f8bda56230a49445880e559b718e94ba37344494a7...</td>\n",
       "      <td>000542d6fc6e9dcb83328d30503a7e022e5a6b4ea6357b...</td>\n",
       "      <td>0006028dc3aefd41499be9c5428fb11691f3ce570e7cc8...</td>\n",
       "      <td>0007da1b2aa0df73cf98077068a7da9039f57d9d51a1ae...</td>\n",
       "    </tr>\n",
       "    <tr>\n",
       "      <th>no_sessions</th>\n",
       "      <td>2</td>\n",
       "      <td>1</td>\n",
       "      <td>1</td>\n",
       "      <td>3</td>\n",
       "      <td>1</td>\n",
       "    </tr>\n",
       "    <tr>\n",
       "      <th>no_city</th>\n",
       "      <td>1</td>\n",
       "      <td>1</td>\n",
       "      <td>1</td>\n",
       "      <td>1</td>\n",
       "      <td>1</td>\n",
       "    </tr>\n",
       "    <tr>\n",
       "      <th>last_city</th>\n",
       "      <td>618</td>\n",
       "      <td>618</td>\n",
       "      <td>448</td>\n",
       "      <td>355</td>\n",
       "      <td>535</td>\n",
       "    </tr>\n",
       "    <tr>\n",
       "      <th>last_country</th>\n",
       "      <td>211</td>\n",
       "      <td>211</td>\n",
       "      <td>211</td>\n",
       "      <td>211</td>\n",
       "      <td>224</td>\n",
       "    </tr>\n",
       "    <tr>\n",
       "      <th>last_region</th>\n",
       "      <td>117</td>\n",
       "      <td>157</td>\n",
       "      <td>189</td>\n",
       "      <td>85</td>\n",
       "      <td>122</td>\n",
       "    </tr>\n",
       "    <tr>\n",
       "      <th>region_count</th>\n",
       "      <td>1</td>\n",
       "      <td>1</td>\n",
       "      <td>1</td>\n",
       "      <td>1</td>\n",
       "      <td>1</td>\n",
       "    </tr>\n",
       "    <tr>\n",
       "      <th>last_locale</th>\n",
       "      <td>66</td>\n",
       "      <td>66</td>\n",
       "      <td>66</td>\n",
       "      <td>66</td>\n",
       "      <td>54</td>\n",
       "    </tr>\n",
       "    <tr>\n",
       "      <th>total_session_time</th>\n",
       "      <td>403432</td>\n",
       "      <td>0</td>\n",
       "      <td>0</td>\n",
       "      <td>6.17356e+06</td>\n",
       "      <td>0</td>\n",
       "    </tr>\n",
       "    <tr>\n",
       "      <th>mean_session_time</th>\n",
       "      <td>201716</td>\n",
       "      <td>0</td>\n",
       "      <td>0</td>\n",
       "      <td>2.05785e+06</td>\n",
       "      <td>0</td>\n",
       "    </tr>\n",
       "    <tr>\n",
       "      <th>median_session_time</th>\n",
       "      <td>201716</td>\n",
       "      <td>0</td>\n",
       "      <td>0</td>\n",
       "      <td>2.69165e+06</td>\n",
       "      <td>0</td>\n",
       "    </tr>\n",
       "    <tr>\n",
       "      <th>no_of_buys</th>\n",
       "      <td>0</td>\n",
       "      <td>0</td>\n",
       "      <td>0</td>\n",
       "      <td>0</td>\n",
       "      <td>0</td>\n",
       "    </tr>\n",
       "    <tr>\n",
       "      <th>sum_of_buys</th>\n",
       "      <td>0</td>\n",
       "      <td>0</td>\n",
       "      <td>0</td>\n",
       "      <td>0</td>\n",
       "      <td>0</td>\n",
       "    </tr>\n",
       "    <tr>\n",
       "      <th>y1</th>\n",
       "      <td>0</td>\n",
       "      <td>0</td>\n",
       "      <td>0</td>\n",
       "      <td>0</td>\n",
       "      <td>0</td>\n",
       "    </tr>\n",
       "    <tr>\n",
       "      <th>y2</th>\n",
       "      <td>0</td>\n",
       "      <td>0</td>\n",
       "      <td>0</td>\n",
       "      <td>0</td>\n",
       "      <td>0</td>\n",
       "    </tr>\n",
       "    <tr>\n",
       "      <th>user_age</th>\n",
       "      <td>-6</td>\n",
       "      <td>-4</td>\n",
       "      <td>-3</td>\n",
       "      <td>-6</td>\n",
       "      <td>-3</td>\n",
       "    </tr>\n",
       "    <tr>\n",
       "      <th>pst_wk1_no_sessions</th>\n",
       "      <td>NaN</td>\n",
       "      <td>NaN</td>\n",
       "      <td>NaN</td>\n",
       "      <td>NaN</td>\n",
       "      <td>NaN</td>\n",
       "    </tr>\n",
       "    <tr>\n",
       "      <th>pst_wk1_no_city</th>\n",
       "      <td>NaN</td>\n",
       "      <td>NaN</td>\n",
       "      <td>NaN</td>\n",
       "      <td>NaN</td>\n",
       "      <td>NaN</td>\n",
       "    </tr>\n",
       "    <tr>\n",
       "      <th>pst_wk1_last_city</th>\n",
       "      <td>NaN</td>\n",
       "      <td>NaN</td>\n",
       "      <td>NaN</td>\n",
       "      <td>NaN</td>\n",
       "      <td>NaN</td>\n",
       "    </tr>\n",
       "    <tr>\n",
       "      <th>pst_wk1_last_country</th>\n",
       "      <td>NaN</td>\n",
       "      <td>NaN</td>\n",
       "      <td>NaN</td>\n",
       "      <td>NaN</td>\n",
       "      <td>NaN</td>\n",
       "    </tr>\n",
       "    <tr>\n",
       "      <th>pst_wk1_last_region</th>\n",
       "      <td>NaN</td>\n",
       "      <td>NaN</td>\n",
       "      <td>NaN</td>\n",
       "      <td>NaN</td>\n",
       "      <td>NaN</td>\n",
       "    </tr>\n",
       "    <tr>\n",
       "      <th>pst_wk1_region_count</th>\n",
       "      <td>NaN</td>\n",
       "      <td>NaN</td>\n",
       "      <td>NaN</td>\n",
       "      <td>NaN</td>\n",
       "      <td>NaN</td>\n",
       "    </tr>\n",
       "    <tr>\n",
       "      <th>pst_wk1_last_locale</th>\n",
       "      <td>NaN</td>\n",
       "      <td>NaN</td>\n",
       "      <td>NaN</td>\n",
       "      <td>NaN</td>\n",
       "      <td>NaN</td>\n",
       "    </tr>\n",
       "    <tr>\n",
       "      <th>pst_wk1_total_session_time</th>\n",
       "      <td>NaN</td>\n",
       "      <td>NaN</td>\n",
       "      <td>NaN</td>\n",
       "      <td>NaN</td>\n",
       "      <td>NaN</td>\n",
       "    </tr>\n",
       "    <tr>\n",
       "      <th>pst_wk1_mean_session_time</th>\n",
       "      <td>NaN</td>\n",
       "      <td>NaN</td>\n",
       "      <td>NaN</td>\n",
       "      <td>NaN</td>\n",
       "      <td>NaN</td>\n",
       "    </tr>\n",
       "    <tr>\n",
       "      <th>pst_wk1_median_session_time</th>\n",
       "      <td>NaN</td>\n",
       "      <td>NaN</td>\n",
       "      <td>NaN</td>\n",
       "      <td>NaN</td>\n",
       "      <td>NaN</td>\n",
       "    </tr>\n",
       "    <tr>\n",
       "      <th>pst_wk1_no_of_buys</th>\n",
       "      <td>NaN</td>\n",
       "      <td>NaN</td>\n",
       "      <td>NaN</td>\n",
       "      <td>NaN</td>\n",
       "      <td>NaN</td>\n",
       "    </tr>\n",
       "    <tr>\n",
       "      <th>pst_wk1_sum_of_buys</th>\n",
       "      <td>NaN</td>\n",
       "      <td>NaN</td>\n",
       "      <td>NaN</td>\n",
       "      <td>NaN</td>\n",
       "      <td>NaN</td>\n",
       "    </tr>\n",
       "    <tr>\n",
       "      <th>pst_wk2_no_sessions</th>\n",
       "      <td>NaN</td>\n",
       "      <td>NaN</td>\n",
       "      <td>NaN</td>\n",
       "      <td>NaN</td>\n",
       "      <td>NaN</td>\n",
       "    </tr>\n",
       "    <tr>\n",
       "      <th>pst_wk2_no_city</th>\n",
       "      <td>NaN</td>\n",
       "      <td>NaN</td>\n",
       "      <td>NaN</td>\n",
       "      <td>NaN</td>\n",
       "      <td>NaN</td>\n",
       "    </tr>\n",
       "    <tr>\n",
       "      <th>pst_wk2_last_city</th>\n",
       "      <td>NaN</td>\n",
       "      <td>NaN</td>\n",
       "      <td>NaN</td>\n",
       "      <td>NaN</td>\n",
       "      <td>NaN</td>\n",
       "    </tr>\n",
       "    <tr>\n",
       "      <th>pst_wk2_last_country</th>\n",
       "      <td>NaN</td>\n",
       "      <td>NaN</td>\n",
       "      <td>NaN</td>\n",
       "      <td>NaN</td>\n",
       "      <td>NaN</td>\n",
       "    </tr>\n",
       "    <tr>\n",
       "      <th>pst_wk2_last_region</th>\n",
       "      <td>NaN</td>\n",
       "      <td>NaN</td>\n",
       "      <td>NaN</td>\n",
       "      <td>NaN</td>\n",
       "      <td>NaN</td>\n",
       "    </tr>\n",
       "    <tr>\n",
       "      <th>pst_wk2_region_count</th>\n",
       "      <td>NaN</td>\n",
       "      <td>NaN</td>\n",
       "      <td>NaN</td>\n",
       "      <td>NaN</td>\n",
       "      <td>NaN</td>\n",
       "    </tr>\n",
       "    <tr>\n",
       "      <th>pst_wk2_last_locale</th>\n",
       "      <td>NaN</td>\n",
       "      <td>NaN</td>\n",
       "      <td>NaN</td>\n",
       "      <td>NaN</td>\n",
       "      <td>NaN</td>\n",
       "    </tr>\n",
       "    <tr>\n",
       "      <th>pst_wk2_total_session_time</th>\n",
       "      <td>NaN</td>\n",
       "      <td>NaN</td>\n",
       "      <td>NaN</td>\n",
       "      <td>NaN</td>\n",
       "      <td>NaN</td>\n",
       "    </tr>\n",
       "    <tr>\n",
       "      <th>pst_wk2_mean_session_time</th>\n",
       "      <td>NaN</td>\n",
       "      <td>NaN</td>\n",
       "      <td>NaN</td>\n",
       "      <td>NaN</td>\n",
       "      <td>NaN</td>\n",
       "    </tr>\n",
       "    <tr>\n",
       "      <th>pst_wk2_median_session_time</th>\n",
       "      <td>NaN</td>\n",
       "      <td>NaN</td>\n",
       "      <td>NaN</td>\n",
       "      <td>NaN</td>\n",
       "      <td>NaN</td>\n",
       "    </tr>\n",
       "    <tr>\n",
       "      <th>pst_wk2_no_of_buys</th>\n",
       "      <td>NaN</td>\n",
       "      <td>NaN</td>\n",
       "      <td>NaN</td>\n",
       "      <td>NaN</td>\n",
       "      <td>NaN</td>\n",
       "    </tr>\n",
       "    <tr>\n",
       "      <th>pst_wk2_sum_of_buys</th>\n",
       "      <td>NaN</td>\n",
       "      <td>NaN</td>\n",
       "      <td>NaN</td>\n",
       "      <td>NaN</td>\n",
       "      <td>NaN</td>\n",
       "    </tr>\n",
       "    <tr>\n",
       "      <th>pst_wk3_no_sessions</th>\n",
       "      <td>NaN</td>\n",
       "      <td>NaN</td>\n",
       "      <td>NaN</td>\n",
       "      <td>NaN</td>\n",
       "      <td>NaN</td>\n",
       "    </tr>\n",
       "    <tr>\n",
       "      <th>pst_wk3_no_city</th>\n",
       "      <td>NaN</td>\n",
       "      <td>NaN</td>\n",
       "      <td>NaN</td>\n",
       "      <td>NaN</td>\n",
       "      <td>NaN</td>\n",
       "    </tr>\n",
       "    <tr>\n",
       "      <th>pst_wk3_last_city</th>\n",
       "      <td>NaN</td>\n",
       "      <td>NaN</td>\n",
       "      <td>NaN</td>\n",
       "      <td>NaN</td>\n",
       "      <td>NaN</td>\n",
       "    </tr>\n",
       "    <tr>\n",
       "      <th>pst_wk3_last_country</th>\n",
       "      <td>NaN</td>\n",
       "      <td>NaN</td>\n",
       "      <td>NaN</td>\n",
       "      <td>NaN</td>\n",
       "      <td>NaN</td>\n",
       "    </tr>\n",
       "    <tr>\n",
       "      <th>pst_wk3_last_region</th>\n",
       "      <td>NaN</td>\n",
       "      <td>NaN</td>\n",
       "      <td>NaN</td>\n",
       "      <td>NaN</td>\n",
       "      <td>NaN</td>\n",
       "    </tr>\n",
       "    <tr>\n",
       "      <th>pst_wk3_region_count</th>\n",
       "      <td>NaN</td>\n",
       "      <td>NaN</td>\n",
       "      <td>NaN</td>\n",
       "      <td>NaN</td>\n",
       "      <td>NaN</td>\n",
       "    </tr>\n",
       "    <tr>\n",
       "      <th>pst_wk3_last_locale</th>\n",
       "      <td>NaN</td>\n",
       "      <td>NaN</td>\n",
       "      <td>NaN</td>\n",
       "      <td>NaN</td>\n",
       "      <td>NaN</td>\n",
       "    </tr>\n",
       "    <tr>\n",
       "      <th>pst_wk3_total_session_time</th>\n",
       "      <td>NaN</td>\n",
       "      <td>NaN</td>\n",
       "      <td>NaN</td>\n",
       "      <td>NaN</td>\n",
       "      <td>NaN</td>\n",
       "    </tr>\n",
       "    <tr>\n",
       "      <th>pst_wk3_mean_session_time</th>\n",
       "      <td>NaN</td>\n",
       "      <td>NaN</td>\n",
       "      <td>NaN</td>\n",
       "      <td>NaN</td>\n",
       "      <td>NaN</td>\n",
       "    </tr>\n",
       "    <tr>\n",
       "      <th>pst_wk3_median_session_time</th>\n",
       "      <td>NaN</td>\n",
       "      <td>NaN</td>\n",
       "      <td>NaN</td>\n",
       "      <td>NaN</td>\n",
       "      <td>NaN</td>\n",
       "    </tr>\n",
       "    <tr>\n",
       "      <th>pst_wk3_no_of_buys</th>\n",
       "      <td>NaN</td>\n",
       "      <td>NaN</td>\n",
       "      <td>NaN</td>\n",
       "      <td>NaN</td>\n",
       "      <td>NaN</td>\n",
       "    </tr>\n",
       "    <tr>\n",
       "      <th>pst_wk3_sum_of_buys</th>\n",
       "      <td>NaN</td>\n",
       "      <td>NaN</td>\n",
       "      <td>NaN</td>\n",
       "      <td>NaN</td>\n",
       "      <td>NaN</td>\n",
       "    </tr>\n",
       "    <tr>\n",
       "      <th>pst_wk4_no_sessions</th>\n",
       "      <td>NaN</td>\n",
       "      <td>NaN</td>\n",
       "      <td>NaN</td>\n",
       "      <td>NaN</td>\n",
       "      <td>NaN</td>\n",
       "    </tr>\n",
       "    <tr>\n",
       "      <th>pst_wk4_no_city</th>\n",
       "      <td>NaN</td>\n",
       "      <td>NaN</td>\n",
       "      <td>NaN</td>\n",
       "      <td>NaN</td>\n",
       "      <td>NaN</td>\n",
       "    </tr>\n",
       "    <tr>\n",
       "      <th>pst_wk4_last_city</th>\n",
       "      <td>NaN</td>\n",
       "      <td>NaN</td>\n",
       "      <td>NaN</td>\n",
       "      <td>NaN</td>\n",
       "      <td>NaN</td>\n",
       "    </tr>\n",
       "    <tr>\n",
       "      <th>pst_wk4_last_country</th>\n",
       "      <td>NaN</td>\n",
       "      <td>NaN</td>\n",
       "      <td>NaN</td>\n",
       "      <td>NaN</td>\n",
       "      <td>NaN</td>\n",
       "    </tr>\n",
       "    <tr>\n",
       "      <th>pst_wk4_last_region</th>\n",
       "      <td>NaN</td>\n",
       "      <td>NaN</td>\n",
       "      <td>NaN</td>\n",
       "      <td>NaN</td>\n",
       "      <td>NaN</td>\n",
       "    </tr>\n",
       "    <tr>\n",
       "      <th>pst_wk4_region_count</th>\n",
       "      <td>NaN</td>\n",
       "      <td>NaN</td>\n",
       "      <td>NaN</td>\n",
       "      <td>NaN</td>\n",
       "      <td>NaN</td>\n",
       "    </tr>\n",
       "    <tr>\n",
       "      <th>pst_wk4_last_locale</th>\n",
       "      <td>NaN</td>\n",
       "      <td>NaN</td>\n",
       "      <td>NaN</td>\n",
       "      <td>NaN</td>\n",
       "      <td>NaN</td>\n",
       "    </tr>\n",
       "    <tr>\n",
       "      <th>pst_wk4_total_session_time</th>\n",
       "      <td>NaN</td>\n",
       "      <td>NaN</td>\n",
       "      <td>NaN</td>\n",
       "      <td>NaN</td>\n",
       "      <td>NaN</td>\n",
       "    </tr>\n",
       "    <tr>\n",
       "      <th>pst_wk4_mean_session_time</th>\n",
       "      <td>NaN</td>\n",
       "      <td>NaN</td>\n",
       "      <td>NaN</td>\n",
       "      <td>NaN</td>\n",
       "      <td>NaN</td>\n",
       "    </tr>\n",
       "    <tr>\n",
       "      <th>pst_wk4_median_session_time</th>\n",
       "      <td>NaN</td>\n",
       "      <td>NaN</td>\n",
       "      <td>NaN</td>\n",
       "      <td>NaN</td>\n",
       "      <td>NaN</td>\n",
       "    </tr>\n",
       "    <tr>\n",
       "      <th>pst_wk4_no_of_buys</th>\n",
       "      <td>NaN</td>\n",
       "      <td>NaN</td>\n",
       "      <td>NaN</td>\n",
       "      <td>NaN</td>\n",
       "      <td>NaN</td>\n",
       "    </tr>\n",
       "    <tr>\n",
       "      <th>pst_wk4_sum_of_buys</th>\n",
       "      <td>NaN</td>\n",
       "      <td>NaN</td>\n",
       "      <td>NaN</td>\n",
       "      <td>NaN</td>\n",
       "      <td>NaN</td>\n",
       "    </tr>\n",
       "    <tr>\n",
       "      <th>no_nan</th>\n",
       "      <td>48</td>\n",
       "      <td>48</td>\n",
       "      <td>48</td>\n",
       "      <td>48</td>\n",
       "      <td>48</td>\n",
       "    </tr>\n",
       "  </tbody>\n",
       "</table>\n",
       "</div>"
      ],
      "text/plain": [
       "                                                                             0  \\\n",
       "anchor_date                                                2018-09-29 00:00:00   \n",
       "user_id_hash                 00026e5050a70ef12d421f75c6a5c80d0f62d37acab8bd...   \n",
       "no_sessions                                                                  2   \n",
       "no_city                                                                      1   \n",
       "last_city                                                                  618   \n",
       "last_country                                                               211   \n",
       "last_region                                                                117   \n",
       "region_count                                                                 1   \n",
       "last_locale                                                                 66   \n",
       "total_session_time                                                      403432   \n",
       "mean_session_time                                                       201716   \n",
       "median_session_time                                                     201716   \n",
       "no_of_buys                                                                   0   \n",
       "sum_of_buys                                                                  0   \n",
       "y1                                                                           0   \n",
       "y2                                                                           0   \n",
       "user_age                                                                    -6   \n",
       "pst_wk1_no_sessions                                                        NaN   \n",
       "pst_wk1_no_city                                                            NaN   \n",
       "pst_wk1_last_city                                                          NaN   \n",
       "pst_wk1_last_country                                                       NaN   \n",
       "pst_wk1_last_region                                                        NaN   \n",
       "pst_wk1_region_count                                                       NaN   \n",
       "pst_wk1_last_locale                                                        NaN   \n",
       "pst_wk1_total_session_time                                                 NaN   \n",
       "pst_wk1_mean_session_time                                                  NaN   \n",
       "pst_wk1_median_session_time                                                NaN   \n",
       "pst_wk1_no_of_buys                                                         NaN   \n",
       "pst_wk1_sum_of_buys                                                        NaN   \n",
       "pst_wk2_no_sessions                                                        NaN   \n",
       "pst_wk2_no_city                                                            NaN   \n",
       "pst_wk2_last_city                                                          NaN   \n",
       "pst_wk2_last_country                                                       NaN   \n",
       "pst_wk2_last_region                                                        NaN   \n",
       "pst_wk2_region_count                                                       NaN   \n",
       "pst_wk2_last_locale                                                        NaN   \n",
       "pst_wk2_total_session_time                                                 NaN   \n",
       "pst_wk2_mean_session_time                                                  NaN   \n",
       "pst_wk2_median_session_time                                                NaN   \n",
       "pst_wk2_no_of_buys                                                         NaN   \n",
       "pst_wk2_sum_of_buys                                                        NaN   \n",
       "pst_wk3_no_sessions                                                        NaN   \n",
       "pst_wk3_no_city                                                            NaN   \n",
       "pst_wk3_last_city                                                          NaN   \n",
       "pst_wk3_last_country                                                       NaN   \n",
       "pst_wk3_last_region                                                        NaN   \n",
       "pst_wk3_region_count                                                       NaN   \n",
       "pst_wk3_last_locale                                                        NaN   \n",
       "pst_wk3_total_session_time                                                 NaN   \n",
       "pst_wk3_mean_session_time                                                  NaN   \n",
       "pst_wk3_median_session_time                                                NaN   \n",
       "pst_wk3_no_of_buys                                                         NaN   \n",
       "pst_wk3_sum_of_buys                                                        NaN   \n",
       "pst_wk4_no_sessions                                                        NaN   \n",
       "pst_wk4_no_city                                                            NaN   \n",
       "pst_wk4_last_city                                                          NaN   \n",
       "pst_wk4_last_country                                                       NaN   \n",
       "pst_wk4_last_region                                                        NaN   \n",
       "pst_wk4_region_count                                                       NaN   \n",
       "pst_wk4_last_locale                                                        NaN   \n",
       "pst_wk4_total_session_time                                                 NaN   \n",
       "pst_wk4_mean_session_time                                                  NaN   \n",
       "pst_wk4_median_session_time                                                NaN   \n",
       "pst_wk4_no_of_buys                                                         NaN   \n",
       "pst_wk4_sum_of_buys                                                        NaN   \n",
       "no_nan                                                                      48   \n",
       "\n",
       "                                                                             1  \\\n",
       "anchor_date                                                2018-09-29 00:00:00   \n",
       "user_id_hash                 0003f8bda56230a49445880e559b718e94ba37344494a7...   \n",
       "no_sessions                                                                  1   \n",
       "no_city                                                                      1   \n",
       "last_city                                                                  618   \n",
       "last_country                                                               211   \n",
       "last_region                                                                157   \n",
       "region_count                                                                 1   \n",
       "last_locale                                                                 66   \n",
       "total_session_time                                                           0   \n",
       "mean_session_time                                                            0   \n",
       "median_session_time                                                          0   \n",
       "no_of_buys                                                                   0   \n",
       "sum_of_buys                                                                  0   \n",
       "y1                                                                           0   \n",
       "y2                                                                           0   \n",
       "user_age                                                                    -4   \n",
       "pst_wk1_no_sessions                                                        NaN   \n",
       "pst_wk1_no_city                                                            NaN   \n",
       "pst_wk1_last_city                                                          NaN   \n",
       "pst_wk1_last_country                                                       NaN   \n",
       "pst_wk1_last_region                                                        NaN   \n",
       "pst_wk1_region_count                                                       NaN   \n",
       "pst_wk1_last_locale                                                        NaN   \n",
       "pst_wk1_total_session_time                                                 NaN   \n",
       "pst_wk1_mean_session_time                                                  NaN   \n",
       "pst_wk1_median_session_time                                                NaN   \n",
       "pst_wk1_no_of_buys                                                         NaN   \n",
       "pst_wk1_sum_of_buys                                                        NaN   \n",
       "pst_wk2_no_sessions                                                        NaN   \n",
       "pst_wk2_no_city                                                            NaN   \n",
       "pst_wk2_last_city                                                          NaN   \n",
       "pst_wk2_last_country                                                       NaN   \n",
       "pst_wk2_last_region                                                        NaN   \n",
       "pst_wk2_region_count                                                       NaN   \n",
       "pst_wk2_last_locale                                                        NaN   \n",
       "pst_wk2_total_session_time                                                 NaN   \n",
       "pst_wk2_mean_session_time                                                  NaN   \n",
       "pst_wk2_median_session_time                                                NaN   \n",
       "pst_wk2_no_of_buys                                                         NaN   \n",
       "pst_wk2_sum_of_buys                                                        NaN   \n",
       "pst_wk3_no_sessions                                                        NaN   \n",
       "pst_wk3_no_city                                                            NaN   \n",
       "pst_wk3_last_city                                                          NaN   \n",
       "pst_wk3_last_country                                                       NaN   \n",
       "pst_wk3_last_region                                                        NaN   \n",
       "pst_wk3_region_count                                                       NaN   \n",
       "pst_wk3_last_locale                                                        NaN   \n",
       "pst_wk3_total_session_time                                                 NaN   \n",
       "pst_wk3_mean_session_time                                                  NaN   \n",
       "pst_wk3_median_session_time                                                NaN   \n",
       "pst_wk3_no_of_buys                                                         NaN   \n",
       "pst_wk3_sum_of_buys                                                        NaN   \n",
       "pst_wk4_no_sessions                                                        NaN   \n",
       "pst_wk4_no_city                                                            NaN   \n",
       "pst_wk4_last_city                                                          NaN   \n",
       "pst_wk4_last_country                                                       NaN   \n",
       "pst_wk4_last_region                                                        NaN   \n",
       "pst_wk4_region_count                                                       NaN   \n",
       "pst_wk4_last_locale                                                        NaN   \n",
       "pst_wk4_total_session_time                                                 NaN   \n",
       "pst_wk4_mean_session_time                                                  NaN   \n",
       "pst_wk4_median_session_time                                                NaN   \n",
       "pst_wk4_no_of_buys                                                         NaN   \n",
       "pst_wk4_sum_of_buys                                                        NaN   \n",
       "no_nan                                                                      48   \n",
       "\n",
       "                                                                             2  \\\n",
       "anchor_date                                                2018-09-29 00:00:00   \n",
       "user_id_hash                 000542d6fc6e9dcb83328d30503a7e022e5a6b4ea6357b...   \n",
       "no_sessions                                                                  1   \n",
       "no_city                                                                      1   \n",
       "last_city                                                                  448   \n",
       "last_country                                                               211   \n",
       "last_region                                                                189   \n",
       "region_count                                                                 1   \n",
       "last_locale                                                                 66   \n",
       "total_session_time                                                           0   \n",
       "mean_session_time                                                            0   \n",
       "median_session_time                                                          0   \n",
       "no_of_buys                                                                   0   \n",
       "sum_of_buys                                                                  0   \n",
       "y1                                                                           0   \n",
       "y2                                                                           0   \n",
       "user_age                                                                    -3   \n",
       "pst_wk1_no_sessions                                                        NaN   \n",
       "pst_wk1_no_city                                                            NaN   \n",
       "pst_wk1_last_city                                                          NaN   \n",
       "pst_wk1_last_country                                                       NaN   \n",
       "pst_wk1_last_region                                                        NaN   \n",
       "pst_wk1_region_count                                                       NaN   \n",
       "pst_wk1_last_locale                                                        NaN   \n",
       "pst_wk1_total_session_time                                                 NaN   \n",
       "pst_wk1_mean_session_time                                                  NaN   \n",
       "pst_wk1_median_session_time                                                NaN   \n",
       "pst_wk1_no_of_buys                                                         NaN   \n",
       "pst_wk1_sum_of_buys                                                        NaN   \n",
       "pst_wk2_no_sessions                                                        NaN   \n",
       "pst_wk2_no_city                                                            NaN   \n",
       "pst_wk2_last_city                                                          NaN   \n",
       "pst_wk2_last_country                                                       NaN   \n",
       "pst_wk2_last_region                                                        NaN   \n",
       "pst_wk2_region_count                                                       NaN   \n",
       "pst_wk2_last_locale                                                        NaN   \n",
       "pst_wk2_total_session_time                                                 NaN   \n",
       "pst_wk2_mean_session_time                                                  NaN   \n",
       "pst_wk2_median_session_time                                                NaN   \n",
       "pst_wk2_no_of_buys                                                         NaN   \n",
       "pst_wk2_sum_of_buys                                                        NaN   \n",
       "pst_wk3_no_sessions                                                        NaN   \n",
       "pst_wk3_no_city                                                            NaN   \n",
       "pst_wk3_last_city                                                          NaN   \n",
       "pst_wk3_last_country                                                       NaN   \n",
       "pst_wk3_last_region                                                        NaN   \n",
       "pst_wk3_region_count                                                       NaN   \n",
       "pst_wk3_last_locale                                                        NaN   \n",
       "pst_wk3_total_session_time                                                 NaN   \n",
       "pst_wk3_mean_session_time                                                  NaN   \n",
       "pst_wk3_median_session_time                                                NaN   \n",
       "pst_wk3_no_of_buys                                                         NaN   \n",
       "pst_wk3_sum_of_buys                                                        NaN   \n",
       "pst_wk4_no_sessions                                                        NaN   \n",
       "pst_wk4_no_city                                                            NaN   \n",
       "pst_wk4_last_city                                                          NaN   \n",
       "pst_wk4_last_country                                                       NaN   \n",
       "pst_wk4_last_region                                                        NaN   \n",
       "pst_wk4_region_count                                                       NaN   \n",
       "pst_wk4_last_locale                                                        NaN   \n",
       "pst_wk4_total_session_time                                                 NaN   \n",
       "pst_wk4_mean_session_time                                                  NaN   \n",
       "pst_wk4_median_session_time                                                NaN   \n",
       "pst_wk4_no_of_buys                                                         NaN   \n",
       "pst_wk4_sum_of_buys                                                        NaN   \n",
       "no_nan                                                                      48   \n",
       "\n",
       "                                                                             3  \\\n",
       "anchor_date                                                2018-09-29 00:00:00   \n",
       "user_id_hash                 0006028dc3aefd41499be9c5428fb11691f3ce570e7cc8...   \n",
       "no_sessions                                                                  3   \n",
       "no_city                                                                      1   \n",
       "last_city                                                                  355   \n",
       "last_country                                                               211   \n",
       "last_region                                                                 85   \n",
       "region_count                                                                 1   \n",
       "last_locale                                                                 66   \n",
       "total_session_time                                                 6.17356e+06   \n",
       "mean_session_time                                                  2.05785e+06   \n",
       "median_session_time                                                2.69165e+06   \n",
       "no_of_buys                                                                   0   \n",
       "sum_of_buys                                                                  0   \n",
       "y1                                                                           0   \n",
       "y2                                                                           0   \n",
       "user_age                                                                    -6   \n",
       "pst_wk1_no_sessions                                                        NaN   \n",
       "pst_wk1_no_city                                                            NaN   \n",
       "pst_wk1_last_city                                                          NaN   \n",
       "pst_wk1_last_country                                                       NaN   \n",
       "pst_wk1_last_region                                                        NaN   \n",
       "pst_wk1_region_count                                                       NaN   \n",
       "pst_wk1_last_locale                                                        NaN   \n",
       "pst_wk1_total_session_time                                                 NaN   \n",
       "pst_wk1_mean_session_time                                                  NaN   \n",
       "pst_wk1_median_session_time                                                NaN   \n",
       "pst_wk1_no_of_buys                                                         NaN   \n",
       "pst_wk1_sum_of_buys                                                        NaN   \n",
       "pst_wk2_no_sessions                                                        NaN   \n",
       "pst_wk2_no_city                                                            NaN   \n",
       "pst_wk2_last_city                                                          NaN   \n",
       "pst_wk2_last_country                                                       NaN   \n",
       "pst_wk2_last_region                                                        NaN   \n",
       "pst_wk2_region_count                                                       NaN   \n",
       "pst_wk2_last_locale                                                        NaN   \n",
       "pst_wk2_total_session_time                                                 NaN   \n",
       "pst_wk2_mean_session_time                                                  NaN   \n",
       "pst_wk2_median_session_time                                                NaN   \n",
       "pst_wk2_no_of_buys                                                         NaN   \n",
       "pst_wk2_sum_of_buys                                                        NaN   \n",
       "pst_wk3_no_sessions                                                        NaN   \n",
       "pst_wk3_no_city                                                            NaN   \n",
       "pst_wk3_last_city                                                          NaN   \n",
       "pst_wk3_last_country                                                       NaN   \n",
       "pst_wk3_last_region                                                        NaN   \n",
       "pst_wk3_region_count                                                       NaN   \n",
       "pst_wk3_last_locale                                                        NaN   \n",
       "pst_wk3_total_session_time                                                 NaN   \n",
       "pst_wk3_mean_session_time                                                  NaN   \n",
       "pst_wk3_median_session_time                                                NaN   \n",
       "pst_wk3_no_of_buys                                                         NaN   \n",
       "pst_wk3_sum_of_buys                                                        NaN   \n",
       "pst_wk4_no_sessions                                                        NaN   \n",
       "pst_wk4_no_city                                                            NaN   \n",
       "pst_wk4_last_city                                                          NaN   \n",
       "pst_wk4_last_country                                                       NaN   \n",
       "pst_wk4_last_region                                                        NaN   \n",
       "pst_wk4_region_count                                                       NaN   \n",
       "pst_wk4_last_locale                                                        NaN   \n",
       "pst_wk4_total_session_time                                                 NaN   \n",
       "pst_wk4_mean_session_time                                                  NaN   \n",
       "pst_wk4_median_session_time                                                NaN   \n",
       "pst_wk4_no_of_buys                                                         NaN   \n",
       "pst_wk4_sum_of_buys                                                        NaN   \n",
       "no_nan                                                                      48   \n",
       "\n",
       "                                                                             4  \n",
       "anchor_date                                                2018-09-29 00:00:00  \n",
       "user_id_hash                 0007da1b2aa0df73cf98077068a7da9039f57d9d51a1ae...  \n",
       "no_sessions                                                                  1  \n",
       "no_city                                                                      1  \n",
       "last_city                                                                  535  \n",
       "last_country                                                               224  \n",
       "last_region                                                                122  \n",
       "region_count                                                                 1  \n",
       "last_locale                                                                 54  \n",
       "total_session_time                                                           0  \n",
       "mean_session_time                                                            0  \n",
       "median_session_time                                                          0  \n",
       "no_of_buys                                                                   0  \n",
       "sum_of_buys                                                                  0  \n",
       "y1                                                                           0  \n",
       "y2                                                                           0  \n",
       "user_age                                                                    -3  \n",
       "pst_wk1_no_sessions                                                        NaN  \n",
       "pst_wk1_no_city                                                            NaN  \n",
       "pst_wk1_last_city                                                          NaN  \n",
       "pst_wk1_last_country                                                       NaN  \n",
       "pst_wk1_last_region                                                        NaN  \n",
       "pst_wk1_region_count                                                       NaN  \n",
       "pst_wk1_last_locale                                                        NaN  \n",
       "pst_wk1_total_session_time                                                 NaN  \n",
       "pst_wk1_mean_session_time                                                  NaN  \n",
       "pst_wk1_median_session_time                                                NaN  \n",
       "pst_wk1_no_of_buys                                                         NaN  \n",
       "pst_wk1_sum_of_buys                                                        NaN  \n",
       "pst_wk2_no_sessions                                                        NaN  \n",
       "pst_wk2_no_city                                                            NaN  \n",
       "pst_wk2_last_city                                                          NaN  \n",
       "pst_wk2_last_country                                                       NaN  \n",
       "pst_wk2_last_region                                                        NaN  \n",
       "pst_wk2_region_count                                                       NaN  \n",
       "pst_wk2_last_locale                                                        NaN  \n",
       "pst_wk2_total_session_time                                                 NaN  \n",
       "pst_wk2_mean_session_time                                                  NaN  \n",
       "pst_wk2_median_session_time                                                NaN  \n",
       "pst_wk2_no_of_buys                                                         NaN  \n",
       "pst_wk2_sum_of_buys                                                        NaN  \n",
       "pst_wk3_no_sessions                                                        NaN  \n",
       "pst_wk3_no_city                                                            NaN  \n",
       "pst_wk3_last_city                                                          NaN  \n",
       "pst_wk3_last_country                                                       NaN  \n",
       "pst_wk3_last_region                                                        NaN  \n",
       "pst_wk3_region_count                                                       NaN  \n",
       "pst_wk3_last_locale                                                        NaN  \n",
       "pst_wk3_total_session_time                                                 NaN  \n",
       "pst_wk3_mean_session_time                                                  NaN  \n",
       "pst_wk3_median_session_time                                                NaN  \n",
       "pst_wk3_no_of_buys                                                         NaN  \n",
       "pst_wk3_sum_of_buys                                                        NaN  \n",
       "pst_wk4_no_sessions                                                        NaN  \n",
       "pst_wk4_no_city                                                            NaN  \n",
       "pst_wk4_last_city                                                          NaN  \n",
       "pst_wk4_last_country                                                       NaN  \n",
       "pst_wk4_last_region                                                        NaN  \n",
       "pst_wk4_region_count                                                       NaN  \n",
       "pst_wk4_last_locale                                                        NaN  \n",
       "pst_wk4_total_session_time                                                 NaN  \n",
       "pst_wk4_mean_session_time                                                  NaN  \n",
       "pst_wk4_median_session_time                                                NaN  \n",
       "pst_wk4_no_of_buys                                                         NaN  \n",
       "pst_wk4_sum_of_buys                                                        NaN  \n",
       "no_nan                                                                      48  "
      ]
     },
     "execution_count": 79,
     "metadata": {},
     "output_type": "execute_result"
    }
   ],
   "source": [
    "df[df.no_nan == 48].head().T"
   ]
  },
  {
   "cell_type": "code",
   "execution_count": 80,
   "metadata": {
    "ExecuteTime": {
     "end_time": "2019-03-03T23:30:08.365615Z",
     "start_time": "2019-03-03T23:30:04.585346Z"
    }
   },
   "outputs": [],
   "source": [
    "df.drop(['no_nan'], inplace=True, axis=1)"
   ]
  },
  {
   "cell_type": "code",
   "execution_count": 81,
   "metadata": {
    "ExecuteTime": {
     "end_time": "2019-03-03T23:30:18.096336Z",
     "start_time": "2019-03-03T23:30:08.368297Z"
    }
   },
   "outputs": [
    {
     "data": {
      "text/plain": [
       "no_sessions                    6360718\n",
       "no_city                        6360718\n",
       "last_city                      6307974\n",
       "last_country                   6307974\n",
       "last_region                    6307974\n",
       "region_count                   6360718\n",
       "last_locale                    6307974\n",
       "total_session_time             6360718\n",
       "mean_session_time              6360718\n",
       "median_session_time            6360718\n",
       "no_of_buys                     6360674\n",
       "sum_of_buys                    6360674\n",
       "user_age                       6360718\n",
       "pst_wk1_no_sessions            6360718\n",
       "pst_wk1_no_city                6360718\n",
       "pst_wk1_last_city              6307974\n",
       "pst_wk1_last_country           6307974\n",
       "pst_wk1_last_region            6307974\n",
       "pst_wk1_region_count           6360718\n",
       "pst_wk1_last_locale            6307974\n",
       "pst_wk1_total_session_time     6360718\n",
       "pst_wk1_mean_session_time      6360718\n",
       "pst_wk1_median_session_time    6360718\n",
       "pst_wk1_no_of_buys             6360674\n",
       "pst_wk1_sum_of_buys            6360674\n",
       "pst_wk2_no_sessions            6360718\n",
       "pst_wk2_no_city                6360718\n",
       "pst_wk2_last_city              6307974\n",
       "pst_wk2_last_country           6307974\n",
       "pst_wk2_last_region            6307974\n",
       "pst_wk2_region_count           6360718\n",
       "pst_wk2_last_locale            6307974\n",
       "pst_wk2_total_session_time     6360718\n",
       "pst_wk2_mean_session_time      6360718\n",
       "pst_wk2_median_session_time    6360718\n",
       "pst_wk2_no_of_buys             6360674\n",
       "pst_wk2_sum_of_buys            6360674\n",
       "pst_wk3_no_sessions            6360718\n",
       "pst_wk3_no_city                6360718\n",
       "pst_wk3_last_city              6307974\n",
       "pst_wk3_last_country           6307974\n",
       "pst_wk3_last_region            6307974\n",
       "pst_wk3_region_count           6360718\n",
       "pst_wk3_last_locale            6307974\n",
       "pst_wk3_total_session_time     6360718\n",
       "pst_wk3_mean_session_time      6360718\n",
       "pst_wk3_median_session_time    6360718\n",
       "pst_wk3_no_of_buys             6360674\n",
       "pst_wk3_sum_of_buys            6360674\n",
       "pst_wk4_no_sessions            6360718\n",
       "pst_wk4_no_city                6360718\n",
       "pst_wk4_last_city              6307974\n",
       "pst_wk4_last_country           6307974\n",
       "pst_wk4_last_region            6307974\n",
       "pst_wk4_region_count           6360718\n",
       "pst_wk4_last_locale            6307974\n",
       "pst_wk4_total_session_time     6360718\n",
       "pst_wk4_mean_session_time      6360718\n",
       "pst_wk4_median_session_time    6360718\n",
       "pst_wk4_no_of_buys             6360674\n",
       "pst_wk4_sum_of_buys            6360674\n",
       "dtype: int64"
      ]
     },
     "execution_count": 81,
     "metadata": {},
     "output_type": "execute_result"
    }
   ],
   "source": [
    "t = df.isna().sum()\n",
    "t[t > 0]"
   ]
  },
  {
   "cell_type": "code",
   "execution_count": 82,
   "metadata": {
    "ExecuteTime": {
     "end_time": "2019-03-03T23:30:18.100874Z",
     "start_time": "2019-03-03T23:30:18.098513Z"
    }
   },
   "outputs": [],
   "source": [
    "# df = df[~df.last_city.isna()]\n",
    "# df = df[~df.last_country.isna()]\n",
    "# df = df[~df.last_region.isna()]"
   ]
  },
  {
   "cell_type": "code",
   "execution_count": 83,
   "metadata": {
    "ExecuteTime": {
     "end_time": "2019-03-03T23:30:18.107071Z",
     "start_time": "2019-03-03T23:30:18.102684Z"
    }
   },
   "outputs": [],
   "source": [
    "# df.total_session_time.fillna(0, inplace=True)\n",
    "# df.median_session_time.fillna(0, inplace=True)\n",
    "# df.mean_session_time.fillna(0, inplace=True)\n",
    "# df.no_sessions.fillna(0, inplace=True)\n",
    "# df.sum_of_buys.fillna(0, inplace=True)\n",
    "# df.no_of_buys.fillna(0, inplace=True)"
   ]
  },
  {
   "cell_type": "code",
   "execution_count": 84,
   "metadata": {
    "ExecuteTime": {
     "end_time": "2019-03-03T23:30:18.283181Z",
     "start_time": "2019-03-03T23:30:18.108931Z"
    }
   },
   "outputs": [],
   "source": [
    "df['t_total_session_time'] = df.total_session_time.fillna(0) + \\\n",
    "        df.pst_wk1_total_session_time.fillna(0) + \\\n",
    "        df.pst_wk2_total_session_time.fillna(0) + \\\n",
    "        df.pst_wk3_total_session_time.fillna(0) + \\\n",
    "        df.pst_wk4_total_session_time.fillna(0)"
   ]
  },
  {
   "cell_type": "code",
   "execution_count": 85,
   "metadata": {
    "ExecuteTime": {
     "end_time": "2019-03-03T23:30:18.458638Z",
     "start_time": "2019-03-03T23:30:18.285687Z"
    }
   },
   "outputs": [],
   "source": [
    "df['t_no_sessions'] = df.no_sessions.fillna(0) + \\\n",
    "        df.pst_wk1_no_sessions.fillna(0) + \\\n",
    "        df.pst_wk2_no_sessions.fillna(0) + \\\n",
    "        df.pst_wk3_no_sessions.fillna(0) + \\\n",
    "        df.pst_wk4_no_sessions.fillna(0)"
   ]
  },
  {
   "cell_type": "code",
   "execution_count": 86,
   "metadata": {
    "ExecuteTime": {
     "end_time": "2019-03-03T23:30:18.634341Z",
     "start_time": "2019-03-03T23:30:18.461262Z"
    }
   },
   "outputs": [],
   "source": [
    "df['t_sum_of_buys'] = df.sum_of_buys.fillna(0) + \\\n",
    "        df.pst_wk1_sum_of_buys.fillna(0) + \\\n",
    "        df.pst_wk2_sum_of_buys.fillna(0) + \\\n",
    "        df.pst_wk3_sum_of_buys.fillna(0) + \\\n",
    "        df.pst_wk4_sum_of_buys.fillna(0)"
   ]
  },
  {
   "cell_type": "code",
   "execution_count": 87,
   "metadata": {
    "ExecuteTime": {
     "end_time": "2019-03-03T23:30:18.808113Z",
     "start_time": "2019-03-03T23:30:18.637102Z"
    }
   },
   "outputs": [],
   "source": [
    "df['t_no_of_buys'] = df.no_of_buys.fillna(0) + \\\n",
    "        df.pst_wk1_no_of_buys.fillna(0) + \\\n",
    "        df.pst_wk2_no_of_buys.fillna(0) + \\\n",
    "        df.pst_wk3_no_of_buys.fillna(0) + \\\n",
    "        df.pst_wk4_no_of_buys.fillna(0)"
   ]
  },
  {
   "cell_type": "code",
   "execution_count": 88,
   "metadata": {
    "ExecuteTime": {
     "end_time": "2019-03-03T23:30:18.900010Z",
     "start_time": "2019-03-03T23:30:18.810400Z"
    }
   },
   "outputs": [
    {
     "data": {
      "text/plain": [
       "0"
      ]
     },
     "execution_count": 88,
     "metadata": {},
     "output_type": "execute_result"
    }
   ],
   "source": [
    "df.t_total_session_time.isna().sum()"
   ]
  },
  {
   "cell_type": "markdown",
   "metadata": {},
   "source": [
    "stop and think"
   ]
  },
  {
   "cell_type": "code",
   "execution_count": 89,
   "metadata": {
    "ExecuteTime": {
     "end_time": "2019-03-03T23:32:00.640893Z",
     "start_time": "2019-03-03T23:32:00.635699Z"
    }
   },
   "outputs": [],
   "source": [
    "replace_list = ['no_sessions', 'no_city', 'region_count', \n",
    "                'total_session_time', 'mean_session_time',\n",
    "                'median_session_time', 'no_of_buys', 'sum_of_buys',\n",
    "                'pst_wk1_no_sessions', 'pst_wk1_no_city', \n",
    "                'pst_wk1_region_count', 'pst_wk1_total_session_time', \n",
    "                'pst_wk1_mean_session_time', 'pst_wk1_median_session_time',\n",
    "                'pst_wk1_no_of_buys', 'pst_wk1_sum_of_buys', \n",
    "                'pst_wk2_no_sessions', 'pst_wk2_no_city', \n",
    "                'pst_wk2_region_count',  'pst_wk2_total_session_time',\n",
    "                'pst_wk2_mean_session_time', 'pst_wk2_median_session_time',\n",
    "                'pst_wk2_no_of_buys', 'pst_wk2_sum_of_buys',\n",
    "                'pst_wk3_no_sessions', 'pst_wk3_no_city',\n",
    "                'pst_wk3_region_count', 'pst_wk3_total_session_time',\n",
    "                'pst_wk3_mean_session_time', 'pst_wk3_median_session_time',\n",
    "                'pst_wk3_no_of_buys', 'pst_wk3_sum_of_buys',\n",
    "                'pst_wk4_no_sessions', 'pst_wk4_no_city',\n",
    "                'pst_wk4_region_count',  'pst_wk4_total_session_time',\n",
    "                'pst_wk4_mean_session_time', 'pst_wk4_median_session_time',\n",
    "                'pst_wk4_no_of_buys', 'pst_wk4_sum_of_buys',\n",
    "                't_total_session_time', 't_no_sessions',\n",
    "                't_sum_of_buys', 't_no_of_buys']"
   ]
  },
  {
   "cell_type": "code",
   "execution_count": 90,
   "metadata": {
    "ExecuteTime": {
     "end_time": "2019-03-03T23:32:25.824956Z",
     "start_time": "2019-03-03T23:32:24.117065Z"
    }
   },
   "outputs": [],
   "source": [
    "for c in replace_list:\n",
    "    df[c].fillna(0, inplace=True)"
   ]
  },
  {
   "cell_type": "code",
   "execution_count": 91,
   "metadata": {
    "ExecuteTime": {
     "end_time": "2019-03-03T23:32:38.621590Z",
     "start_time": "2019-03-03T23:32:27.148140Z"
    }
   },
   "outputs": [
    {
     "data": {
      "text/plain": [
       "last_city               6307974\n",
       "last_country            6307974\n",
       "last_region             6307974\n",
       "last_locale             6307974\n",
       "user_age                6360718\n",
       "pst_wk1_last_city       6307974\n",
       "pst_wk1_last_country    6307974\n",
       "pst_wk1_last_region     6307974\n",
       "pst_wk1_last_locale     6307974\n",
       "pst_wk2_last_city       6307974\n",
       "pst_wk2_last_country    6307974\n",
       "pst_wk2_last_region     6307974\n",
       "pst_wk2_last_locale     6307974\n",
       "pst_wk3_last_city       6307974\n",
       "pst_wk3_last_country    6307974\n",
       "pst_wk3_last_region     6307974\n",
       "pst_wk3_last_locale     6307974\n",
       "pst_wk4_last_city       6307974\n",
       "pst_wk4_last_country    6307974\n",
       "pst_wk4_last_region     6307974\n",
       "pst_wk4_last_locale     6307974\n",
       "dtype: int64"
      ]
     },
     "execution_count": 91,
     "metadata": {},
     "output_type": "execute_result"
    }
   ],
   "source": [
    "t = df.isna().sum()\n",
    "t[t > 0]"
   ]
  },
  {
   "cell_type": "code",
   "execution_count": 92,
   "metadata": {
    "ExecuteTime": {
     "end_time": "2019-03-03T23:34:42.913993Z",
     "start_time": "2019-03-03T23:34:42.910043Z"
    }
   },
   "outputs": [],
   "source": [
    "nn_list = ['last_city', 'last_country', 'last_region',\n",
    "           'last_locale', 'pst_wk1_last_city', 'pst_wk1_last_country',\n",
    "           'pst_wk1_last_region', 'pst_wk1_last_locale',\n",
    "           'pst_wk2_last_city', 'pst_wk2_last_country',\n",
    "           'pst_wk2_last_region', 'pst_wk2_last_locale',\n",
    "           'pst_wk3_last_city', 'pst_wk3_last_country',\n",
    "           'pst_wk3_last_region', 'pst_wk3_last_locale',\n",
    "           'pst_wk4_last_city', 'pst_wk4_last_country',\n",
    "           'pst_wk4_last_region', 'pst_wk4_last_locale']"
   ]
  },
  {
   "cell_type": "code",
   "execution_count": 93,
   "metadata": {
    "ExecuteTime": {
     "end_time": "2019-03-03T23:34:48.119683Z",
     "start_time": "2019-03-03T23:34:47.338759Z"
    }
   },
   "outputs": [],
   "source": [
    "for c in nn_list:\n",
    "    df[c].fillna(-99, inplace=True)"
   ]
  },
  {
   "cell_type": "code",
   "execution_count": 94,
   "metadata": {
    "ExecuteTime": {
     "end_time": "2019-03-03T23:35:02.959702Z",
     "start_time": "2019-03-03T23:34:53.097942Z"
    }
   },
   "outputs": [
    {
     "data": {
      "text/plain": [
       "user_age    6360718\n",
       "dtype: int64"
      ]
     },
     "execution_count": 94,
     "metadata": {},
     "output_type": "execute_result"
    }
   ],
   "source": [
    "t = df.isna().sum()\n",
    "t[t > 0]"
   ]
  },
  {
   "cell_type": "markdown",
   "metadata": {},
   "source": [
    "joined user age again"
   ]
  },
  {
   "cell_type": "code",
   "execution_count": 104,
   "metadata": {
    "ExecuteTime": {
     "end_time": "2019-03-03T23:38:27.655640Z",
     "start_time": "2019-03-03T23:38:17.003014Z"
    }
   },
   "outputs": [
    {
     "data": {
      "text/plain": [
       "user_age    200\n",
       "dtype: int64"
      ]
     },
     "execution_count": 104,
     "metadata": {},
     "output_type": "execute_result"
    }
   ],
   "source": [
    "t = df.isna().sum()\n",
    "t[t > 0]"
   ]
  },
  {
   "cell_type": "code",
   "execution_count": 105,
   "metadata": {
    "ExecuteTime": {
     "end_time": "2019-03-03T23:38:42.393759Z",
     "start_time": "2019-03-03T23:38:29.683949Z"
    }
   },
   "outputs": [],
   "source": [
    "df.sort_values(['anchor_date', 'user_id_hash'], inplace=True)"
   ]
  },
  {
   "cell_type": "code",
   "execution_count": 106,
   "metadata": {
    "ExecuteTime": {
     "end_time": "2019-03-03T23:38:42.444099Z",
     "start_time": "2019-03-03T23:38:42.396831Z"
    }
   },
   "outputs": [
    {
     "data": {
      "text/plain": [
       "2018-12-08    619535\n",
       "2018-12-01    619299\n",
       "2018-11-24    618900\n",
       "2018-12-15    592208\n",
       "2018-11-17    556700\n",
       "2018-12-22    539070\n",
       "2018-11-10    487804\n",
       "2018-12-29    477926\n",
       "2018-11-03    414058\n",
       "2019-01-05    410978\n",
       "2019-01-12    345258\n",
       "2018-10-27    338263\n",
       "2019-01-19    274438\n",
       "2018-10-20    265796\n",
       "2019-01-26    203269\n",
       "2018-10-13    189794\n",
       "2019-02-02    131499\n",
       "2018-10-06    116801\n",
       "2019-02-09     62826\n",
       "2018-09-29     48098\n",
       "2019-02-16     38519\n",
       "Name: anchor_date, dtype: int64"
      ]
     },
     "execution_count": 106,
     "metadata": {},
     "output_type": "execute_result"
    }
   ],
   "source": [
    "df.anchor_date.value_counts()"
   ]
  },
  {
   "cell_type": "code",
   "execution_count": 107,
   "metadata": {
    "ExecuteTime": {
     "end_time": "2019-03-03T23:38:42.467123Z",
     "start_time": "2019-03-03T23:38:42.446156Z"
    }
   },
   "outputs": [
    {
     "data": {
      "text/html": [
       "<div>\n",
       "<style scoped>\n",
       "    .dataframe tbody tr th:only-of-type {\n",
       "        vertical-align: middle;\n",
       "    }\n",
       "\n",
       "    .dataframe tbody tr th {\n",
       "        vertical-align: top;\n",
       "    }\n",
       "\n",
       "    .dataframe thead th {\n",
       "        text-align: right;\n",
       "    }\n",
       "</style>\n",
       "<table border=\"1\" class=\"dataframe\">\n",
       "  <thead>\n",
       "    <tr style=\"text-align: right;\">\n",
       "      <th></th>\n",
       "      <th>0</th>\n",
       "      <th>1</th>\n",
       "      <th>2</th>\n",
       "      <th>3</th>\n",
       "      <th>4</th>\n",
       "    </tr>\n",
       "  </thead>\n",
       "  <tbody>\n",
       "    <tr>\n",
       "      <th>anchor_date</th>\n",
       "      <td>2018-09-29 00:00:00</td>\n",
       "      <td>2018-09-29 00:00:00</td>\n",
       "      <td>2018-09-29 00:00:00</td>\n",
       "      <td>2018-09-29 00:00:00</td>\n",
       "      <td>2018-09-29 00:00:00</td>\n",
       "    </tr>\n",
       "    <tr>\n",
       "      <th>user_id_hash</th>\n",
       "      <td>00026e5050a70ef12d421f75c6a5c80d0f62d37acab8bd...</td>\n",
       "      <td>0003f8bda56230a49445880e559b718e94ba37344494a7...</td>\n",
       "      <td>000542d6fc6e9dcb83328d30503a7e022e5a6b4ea6357b...</td>\n",
       "      <td>0006028dc3aefd41499be9c5428fb11691f3ce570e7cc8...</td>\n",
       "      <td>0007da1b2aa0df73cf98077068a7da9039f57d9d51a1ae...</td>\n",
       "    </tr>\n",
       "    <tr>\n",
       "      <th>no_sessions</th>\n",
       "      <td>2</td>\n",
       "      <td>1</td>\n",
       "      <td>1</td>\n",
       "      <td>3</td>\n",
       "      <td>1</td>\n",
       "    </tr>\n",
       "    <tr>\n",
       "      <th>no_city</th>\n",
       "      <td>1</td>\n",
       "      <td>1</td>\n",
       "      <td>1</td>\n",
       "      <td>1</td>\n",
       "      <td>1</td>\n",
       "    </tr>\n",
       "    <tr>\n",
       "      <th>last_city</th>\n",
       "      <td>618</td>\n",
       "      <td>618</td>\n",
       "      <td>448</td>\n",
       "      <td>355</td>\n",
       "      <td>535</td>\n",
       "    </tr>\n",
       "    <tr>\n",
       "      <th>last_country</th>\n",
       "      <td>211</td>\n",
       "      <td>211</td>\n",
       "      <td>211</td>\n",
       "      <td>211</td>\n",
       "      <td>224</td>\n",
       "    </tr>\n",
       "    <tr>\n",
       "      <th>last_region</th>\n",
       "      <td>117</td>\n",
       "      <td>157</td>\n",
       "      <td>189</td>\n",
       "      <td>85</td>\n",
       "      <td>122</td>\n",
       "    </tr>\n",
       "    <tr>\n",
       "      <th>region_count</th>\n",
       "      <td>1</td>\n",
       "      <td>1</td>\n",
       "      <td>1</td>\n",
       "      <td>1</td>\n",
       "      <td>1</td>\n",
       "    </tr>\n",
       "    <tr>\n",
       "      <th>last_locale</th>\n",
       "      <td>66</td>\n",
       "      <td>66</td>\n",
       "      <td>66</td>\n",
       "      <td>66</td>\n",
       "      <td>54</td>\n",
       "    </tr>\n",
       "    <tr>\n",
       "      <th>total_session_time</th>\n",
       "      <td>403432</td>\n",
       "      <td>0</td>\n",
       "      <td>0</td>\n",
       "      <td>6.17356e+06</td>\n",
       "      <td>0</td>\n",
       "    </tr>\n",
       "    <tr>\n",
       "      <th>mean_session_time</th>\n",
       "      <td>201716</td>\n",
       "      <td>0</td>\n",
       "      <td>0</td>\n",
       "      <td>2.05785e+06</td>\n",
       "      <td>0</td>\n",
       "    </tr>\n",
       "    <tr>\n",
       "      <th>median_session_time</th>\n",
       "      <td>201716</td>\n",
       "      <td>0</td>\n",
       "      <td>0</td>\n",
       "      <td>2.69165e+06</td>\n",
       "      <td>0</td>\n",
       "    </tr>\n",
       "    <tr>\n",
       "      <th>no_of_buys</th>\n",
       "      <td>0</td>\n",
       "      <td>0</td>\n",
       "      <td>0</td>\n",
       "      <td>0</td>\n",
       "      <td>0</td>\n",
       "    </tr>\n",
       "    <tr>\n",
       "      <th>sum_of_buys</th>\n",
       "      <td>0</td>\n",
       "      <td>0</td>\n",
       "      <td>0</td>\n",
       "      <td>0</td>\n",
       "      <td>0</td>\n",
       "    </tr>\n",
       "    <tr>\n",
       "      <th>y1</th>\n",
       "      <td>0</td>\n",
       "      <td>0</td>\n",
       "      <td>0</td>\n",
       "      <td>0</td>\n",
       "      <td>0</td>\n",
       "    </tr>\n",
       "    <tr>\n",
       "      <th>y2</th>\n",
       "      <td>0</td>\n",
       "      <td>0</td>\n",
       "      <td>0</td>\n",
       "      <td>0</td>\n",
       "      <td>0</td>\n",
       "    </tr>\n",
       "    <tr>\n",
       "      <th>user_age</th>\n",
       "      <td>-6</td>\n",
       "      <td>-4</td>\n",
       "      <td>-3</td>\n",
       "      <td>-6</td>\n",
       "      <td>-3</td>\n",
       "    </tr>\n",
       "    <tr>\n",
       "      <th>pst_wk1_no_sessions</th>\n",
       "      <td>0</td>\n",
       "      <td>0</td>\n",
       "      <td>0</td>\n",
       "      <td>0</td>\n",
       "      <td>0</td>\n",
       "    </tr>\n",
       "    <tr>\n",
       "      <th>pst_wk1_no_city</th>\n",
       "      <td>0</td>\n",
       "      <td>0</td>\n",
       "      <td>0</td>\n",
       "      <td>0</td>\n",
       "      <td>0</td>\n",
       "    </tr>\n",
       "    <tr>\n",
       "      <th>pst_wk1_last_city</th>\n",
       "      <td>-99</td>\n",
       "      <td>-99</td>\n",
       "      <td>-99</td>\n",
       "      <td>-99</td>\n",
       "      <td>-99</td>\n",
       "    </tr>\n",
       "    <tr>\n",
       "      <th>pst_wk1_last_country</th>\n",
       "      <td>-99</td>\n",
       "      <td>-99</td>\n",
       "      <td>-99</td>\n",
       "      <td>-99</td>\n",
       "      <td>-99</td>\n",
       "    </tr>\n",
       "    <tr>\n",
       "      <th>pst_wk1_last_region</th>\n",
       "      <td>-99</td>\n",
       "      <td>-99</td>\n",
       "      <td>-99</td>\n",
       "      <td>-99</td>\n",
       "      <td>-99</td>\n",
       "    </tr>\n",
       "    <tr>\n",
       "      <th>pst_wk1_region_count</th>\n",
       "      <td>0</td>\n",
       "      <td>0</td>\n",
       "      <td>0</td>\n",
       "      <td>0</td>\n",
       "      <td>0</td>\n",
       "    </tr>\n",
       "    <tr>\n",
       "      <th>pst_wk1_last_locale</th>\n",
       "      <td>-99</td>\n",
       "      <td>-99</td>\n",
       "      <td>-99</td>\n",
       "      <td>-99</td>\n",
       "      <td>-99</td>\n",
       "    </tr>\n",
       "    <tr>\n",
       "      <th>pst_wk1_total_session_time</th>\n",
       "      <td>0</td>\n",
       "      <td>0</td>\n",
       "      <td>0</td>\n",
       "      <td>0</td>\n",
       "      <td>0</td>\n",
       "    </tr>\n",
       "    <tr>\n",
       "      <th>pst_wk1_mean_session_time</th>\n",
       "      <td>0</td>\n",
       "      <td>0</td>\n",
       "      <td>0</td>\n",
       "      <td>0</td>\n",
       "      <td>0</td>\n",
       "    </tr>\n",
       "    <tr>\n",
       "      <th>pst_wk1_median_session_time</th>\n",
       "      <td>0</td>\n",
       "      <td>0</td>\n",
       "      <td>0</td>\n",
       "      <td>0</td>\n",
       "      <td>0</td>\n",
       "    </tr>\n",
       "    <tr>\n",
       "      <th>pst_wk1_no_of_buys</th>\n",
       "      <td>0</td>\n",
       "      <td>0</td>\n",
       "      <td>0</td>\n",
       "      <td>0</td>\n",
       "      <td>0</td>\n",
       "    </tr>\n",
       "    <tr>\n",
       "      <th>pst_wk1_sum_of_buys</th>\n",
       "      <td>0</td>\n",
       "      <td>0</td>\n",
       "      <td>0</td>\n",
       "      <td>0</td>\n",
       "      <td>0</td>\n",
       "    </tr>\n",
       "    <tr>\n",
       "      <th>pst_wk2_no_sessions</th>\n",
       "      <td>0</td>\n",
       "      <td>0</td>\n",
       "      <td>0</td>\n",
       "      <td>0</td>\n",
       "      <td>0</td>\n",
       "    </tr>\n",
       "    <tr>\n",
       "      <th>pst_wk2_no_city</th>\n",
       "      <td>0</td>\n",
       "      <td>0</td>\n",
       "      <td>0</td>\n",
       "      <td>0</td>\n",
       "      <td>0</td>\n",
       "    </tr>\n",
       "    <tr>\n",
       "      <th>pst_wk2_last_city</th>\n",
       "      <td>-99</td>\n",
       "      <td>-99</td>\n",
       "      <td>-99</td>\n",
       "      <td>-99</td>\n",
       "      <td>-99</td>\n",
       "    </tr>\n",
       "    <tr>\n",
       "      <th>pst_wk2_last_country</th>\n",
       "      <td>-99</td>\n",
       "      <td>-99</td>\n",
       "      <td>-99</td>\n",
       "      <td>-99</td>\n",
       "      <td>-99</td>\n",
       "    </tr>\n",
       "    <tr>\n",
       "      <th>pst_wk2_last_region</th>\n",
       "      <td>-99</td>\n",
       "      <td>-99</td>\n",
       "      <td>-99</td>\n",
       "      <td>-99</td>\n",
       "      <td>-99</td>\n",
       "    </tr>\n",
       "    <tr>\n",
       "      <th>pst_wk2_region_count</th>\n",
       "      <td>0</td>\n",
       "      <td>0</td>\n",
       "      <td>0</td>\n",
       "      <td>0</td>\n",
       "      <td>0</td>\n",
       "    </tr>\n",
       "    <tr>\n",
       "      <th>pst_wk2_last_locale</th>\n",
       "      <td>-99</td>\n",
       "      <td>-99</td>\n",
       "      <td>-99</td>\n",
       "      <td>-99</td>\n",
       "      <td>-99</td>\n",
       "    </tr>\n",
       "    <tr>\n",
       "      <th>pst_wk2_total_session_time</th>\n",
       "      <td>0</td>\n",
       "      <td>0</td>\n",
       "      <td>0</td>\n",
       "      <td>0</td>\n",
       "      <td>0</td>\n",
       "    </tr>\n",
       "    <tr>\n",
       "      <th>pst_wk2_mean_session_time</th>\n",
       "      <td>0</td>\n",
       "      <td>0</td>\n",
       "      <td>0</td>\n",
       "      <td>0</td>\n",
       "      <td>0</td>\n",
       "    </tr>\n",
       "    <tr>\n",
       "      <th>pst_wk2_median_session_time</th>\n",
       "      <td>0</td>\n",
       "      <td>0</td>\n",
       "      <td>0</td>\n",
       "      <td>0</td>\n",
       "      <td>0</td>\n",
       "    </tr>\n",
       "    <tr>\n",
       "      <th>pst_wk2_no_of_buys</th>\n",
       "      <td>0</td>\n",
       "      <td>0</td>\n",
       "      <td>0</td>\n",
       "      <td>0</td>\n",
       "      <td>0</td>\n",
       "    </tr>\n",
       "    <tr>\n",
       "      <th>pst_wk2_sum_of_buys</th>\n",
       "      <td>0</td>\n",
       "      <td>0</td>\n",
       "      <td>0</td>\n",
       "      <td>0</td>\n",
       "      <td>0</td>\n",
       "    </tr>\n",
       "    <tr>\n",
       "      <th>pst_wk3_no_sessions</th>\n",
       "      <td>0</td>\n",
       "      <td>0</td>\n",
       "      <td>0</td>\n",
       "      <td>0</td>\n",
       "      <td>0</td>\n",
       "    </tr>\n",
       "    <tr>\n",
       "      <th>pst_wk3_no_city</th>\n",
       "      <td>0</td>\n",
       "      <td>0</td>\n",
       "      <td>0</td>\n",
       "      <td>0</td>\n",
       "      <td>0</td>\n",
       "    </tr>\n",
       "    <tr>\n",
       "      <th>pst_wk3_last_city</th>\n",
       "      <td>-99</td>\n",
       "      <td>-99</td>\n",
       "      <td>-99</td>\n",
       "      <td>-99</td>\n",
       "      <td>-99</td>\n",
       "    </tr>\n",
       "    <tr>\n",
       "      <th>pst_wk3_last_country</th>\n",
       "      <td>-99</td>\n",
       "      <td>-99</td>\n",
       "      <td>-99</td>\n",
       "      <td>-99</td>\n",
       "      <td>-99</td>\n",
       "    </tr>\n",
       "    <tr>\n",
       "      <th>pst_wk3_last_region</th>\n",
       "      <td>-99</td>\n",
       "      <td>-99</td>\n",
       "      <td>-99</td>\n",
       "      <td>-99</td>\n",
       "      <td>-99</td>\n",
       "    </tr>\n",
       "    <tr>\n",
       "      <th>pst_wk3_region_count</th>\n",
       "      <td>0</td>\n",
       "      <td>0</td>\n",
       "      <td>0</td>\n",
       "      <td>0</td>\n",
       "      <td>0</td>\n",
       "    </tr>\n",
       "    <tr>\n",
       "      <th>pst_wk3_last_locale</th>\n",
       "      <td>-99</td>\n",
       "      <td>-99</td>\n",
       "      <td>-99</td>\n",
       "      <td>-99</td>\n",
       "      <td>-99</td>\n",
       "    </tr>\n",
       "    <tr>\n",
       "      <th>pst_wk3_total_session_time</th>\n",
       "      <td>0</td>\n",
       "      <td>0</td>\n",
       "      <td>0</td>\n",
       "      <td>0</td>\n",
       "      <td>0</td>\n",
       "    </tr>\n",
       "    <tr>\n",
       "      <th>pst_wk3_mean_session_time</th>\n",
       "      <td>0</td>\n",
       "      <td>0</td>\n",
       "      <td>0</td>\n",
       "      <td>0</td>\n",
       "      <td>0</td>\n",
       "    </tr>\n",
       "    <tr>\n",
       "      <th>pst_wk3_median_session_time</th>\n",
       "      <td>0</td>\n",
       "      <td>0</td>\n",
       "      <td>0</td>\n",
       "      <td>0</td>\n",
       "      <td>0</td>\n",
       "    </tr>\n",
       "    <tr>\n",
       "      <th>pst_wk3_no_of_buys</th>\n",
       "      <td>0</td>\n",
       "      <td>0</td>\n",
       "      <td>0</td>\n",
       "      <td>0</td>\n",
       "      <td>0</td>\n",
       "    </tr>\n",
       "    <tr>\n",
       "      <th>pst_wk3_sum_of_buys</th>\n",
       "      <td>0</td>\n",
       "      <td>0</td>\n",
       "      <td>0</td>\n",
       "      <td>0</td>\n",
       "      <td>0</td>\n",
       "    </tr>\n",
       "    <tr>\n",
       "      <th>pst_wk4_no_sessions</th>\n",
       "      <td>0</td>\n",
       "      <td>0</td>\n",
       "      <td>0</td>\n",
       "      <td>0</td>\n",
       "      <td>0</td>\n",
       "    </tr>\n",
       "    <tr>\n",
       "      <th>pst_wk4_no_city</th>\n",
       "      <td>0</td>\n",
       "      <td>0</td>\n",
       "      <td>0</td>\n",
       "      <td>0</td>\n",
       "      <td>0</td>\n",
       "    </tr>\n",
       "    <tr>\n",
       "      <th>pst_wk4_last_city</th>\n",
       "      <td>-99</td>\n",
       "      <td>-99</td>\n",
       "      <td>-99</td>\n",
       "      <td>-99</td>\n",
       "      <td>-99</td>\n",
       "    </tr>\n",
       "    <tr>\n",
       "      <th>pst_wk4_last_country</th>\n",
       "      <td>-99</td>\n",
       "      <td>-99</td>\n",
       "      <td>-99</td>\n",
       "      <td>-99</td>\n",
       "      <td>-99</td>\n",
       "    </tr>\n",
       "    <tr>\n",
       "      <th>pst_wk4_last_region</th>\n",
       "      <td>-99</td>\n",
       "      <td>-99</td>\n",
       "      <td>-99</td>\n",
       "      <td>-99</td>\n",
       "      <td>-99</td>\n",
       "    </tr>\n",
       "    <tr>\n",
       "      <th>pst_wk4_region_count</th>\n",
       "      <td>0</td>\n",
       "      <td>0</td>\n",
       "      <td>0</td>\n",
       "      <td>0</td>\n",
       "      <td>0</td>\n",
       "    </tr>\n",
       "    <tr>\n",
       "      <th>pst_wk4_last_locale</th>\n",
       "      <td>-99</td>\n",
       "      <td>-99</td>\n",
       "      <td>-99</td>\n",
       "      <td>-99</td>\n",
       "      <td>-99</td>\n",
       "    </tr>\n",
       "    <tr>\n",
       "      <th>pst_wk4_total_session_time</th>\n",
       "      <td>0</td>\n",
       "      <td>0</td>\n",
       "      <td>0</td>\n",
       "      <td>0</td>\n",
       "      <td>0</td>\n",
       "    </tr>\n",
       "    <tr>\n",
       "      <th>pst_wk4_mean_session_time</th>\n",
       "      <td>0</td>\n",
       "      <td>0</td>\n",
       "      <td>0</td>\n",
       "      <td>0</td>\n",
       "      <td>0</td>\n",
       "    </tr>\n",
       "    <tr>\n",
       "      <th>pst_wk4_median_session_time</th>\n",
       "      <td>0</td>\n",
       "      <td>0</td>\n",
       "      <td>0</td>\n",
       "      <td>0</td>\n",
       "      <td>0</td>\n",
       "    </tr>\n",
       "    <tr>\n",
       "      <th>pst_wk4_no_of_buys</th>\n",
       "      <td>0</td>\n",
       "      <td>0</td>\n",
       "      <td>0</td>\n",
       "      <td>0</td>\n",
       "      <td>0</td>\n",
       "    </tr>\n",
       "    <tr>\n",
       "      <th>pst_wk4_sum_of_buys</th>\n",
       "      <td>0</td>\n",
       "      <td>0</td>\n",
       "      <td>0</td>\n",
       "      <td>0</td>\n",
       "      <td>0</td>\n",
       "    </tr>\n",
       "    <tr>\n",
       "      <th>t_total_session_time</th>\n",
       "      <td>403432</td>\n",
       "      <td>0</td>\n",
       "      <td>0</td>\n",
       "      <td>6.17356e+06</td>\n",
       "      <td>0</td>\n",
       "    </tr>\n",
       "    <tr>\n",
       "      <th>t_no_sessions</th>\n",
       "      <td>2</td>\n",
       "      <td>1</td>\n",
       "      <td>1</td>\n",
       "      <td>3</td>\n",
       "      <td>1</td>\n",
       "    </tr>\n",
       "    <tr>\n",
       "      <th>t_sum_of_buys</th>\n",
       "      <td>0</td>\n",
       "      <td>0</td>\n",
       "      <td>0</td>\n",
       "      <td>0</td>\n",
       "      <td>0</td>\n",
       "    </tr>\n",
       "    <tr>\n",
       "      <th>t_no_of_buys</th>\n",
       "      <td>0</td>\n",
       "      <td>0</td>\n",
       "      <td>0</td>\n",
       "      <td>0</td>\n",
       "      <td>0</td>\n",
       "    </tr>\n",
       "  </tbody>\n",
       "</table>\n",
       "</div>"
      ],
      "text/plain": [
       "                                                                             0  \\\n",
       "anchor_date                                                2018-09-29 00:00:00   \n",
       "user_id_hash                 00026e5050a70ef12d421f75c6a5c80d0f62d37acab8bd...   \n",
       "no_sessions                                                                  2   \n",
       "no_city                                                                      1   \n",
       "last_city                                                                  618   \n",
       "last_country                                                               211   \n",
       "last_region                                                                117   \n",
       "region_count                                                                 1   \n",
       "last_locale                                                                 66   \n",
       "total_session_time                                                      403432   \n",
       "mean_session_time                                                       201716   \n",
       "median_session_time                                                     201716   \n",
       "no_of_buys                                                                   0   \n",
       "sum_of_buys                                                                  0   \n",
       "y1                                                                           0   \n",
       "y2                                                                           0   \n",
       "user_age                                                                    -6   \n",
       "pst_wk1_no_sessions                                                          0   \n",
       "pst_wk1_no_city                                                              0   \n",
       "pst_wk1_last_city                                                          -99   \n",
       "pst_wk1_last_country                                                       -99   \n",
       "pst_wk1_last_region                                                        -99   \n",
       "pst_wk1_region_count                                                         0   \n",
       "pst_wk1_last_locale                                                        -99   \n",
       "pst_wk1_total_session_time                                                   0   \n",
       "pst_wk1_mean_session_time                                                    0   \n",
       "pst_wk1_median_session_time                                                  0   \n",
       "pst_wk1_no_of_buys                                                           0   \n",
       "pst_wk1_sum_of_buys                                                          0   \n",
       "pst_wk2_no_sessions                                                          0   \n",
       "pst_wk2_no_city                                                              0   \n",
       "pst_wk2_last_city                                                          -99   \n",
       "pst_wk2_last_country                                                       -99   \n",
       "pst_wk2_last_region                                                        -99   \n",
       "pst_wk2_region_count                                                         0   \n",
       "pst_wk2_last_locale                                                        -99   \n",
       "pst_wk2_total_session_time                                                   0   \n",
       "pst_wk2_mean_session_time                                                    0   \n",
       "pst_wk2_median_session_time                                                  0   \n",
       "pst_wk2_no_of_buys                                                           0   \n",
       "pst_wk2_sum_of_buys                                                          0   \n",
       "pst_wk3_no_sessions                                                          0   \n",
       "pst_wk3_no_city                                                              0   \n",
       "pst_wk3_last_city                                                          -99   \n",
       "pst_wk3_last_country                                                       -99   \n",
       "pst_wk3_last_region                                                        -99   \n",
       "pst_wk3_region_count                                                         0   \n",
       "pst_wk3_last_locale                                                        -99   \n",
       "pst_wk3_total_session_time                                                   0   \n",
       "pst_wk3_mean_session_time                                                    0   \n",
       "pst_wk3_median_session_time                                                  0   \n",
       "pst_wk3_no_of_buys                                                           0   \n",
       "pst_wk3_sum_of_buys                                                          0   \n",
       "pst_wk4_no_sessions                                                          0   \n",
       "pst_wk4_no_city                                                              0   \n",
       "pst_wk4_last_city                                                          -99   \n",
       "pst_wk4_last_country                                                       -99   \n",
       "pst_wk4_last_region                                                        -99   \n",
       "pst_wk4_region_count                                                         0   \n",
       "pst_wk4_last_locale                                                        -99   \n",
       "pst_wk4_total_session_time                                                   0   \n",
       "pst_wk4_mean_session_time                                                    0   \n",
       "pst_wk4_median_session_time                                                  0   \n",
       "pst_wk4_no_of_buys                                                           0   \n",
       "pst_wk4_sum_of_buys                                                          0   \n",
       "t_total_session_time                                                    403432   \n",
       "t_no_sessions                                                                2   \n",
       "t_sum_of_buys                                                                0   \n",
       "t_no_of_buys                                                                 0   \n",
       "\n",
       "                                                                             1  \\\n",
       "anchor_date                                                2018-09-29 00:00:00   \n",
       "user_id_hash                 0003f8bda56230a49445880e559b718e94ba37344494a7...   \n",
       "no_sessions                                                                  1   \n",
       "no_city                                                                      1   \n",
       "last_city                                                                  618   \n",
       "last_country                                                               211   \n",
       "last_region                                                                157   \n",
       "region_count                                                                 1   \n",
       "last_locale                                                                 66   \n",
       "total_session_time                                                           0   \n",
       "mean_session_time                                                            0   \n",
       "median_session_time                                                          0   \n",
       "no_of_buys                                                                   0   \n",
       "sum_of_buys                                                                  0   \n",
       "y1                                                                           0   \n",
       "y2                                                                           0   \n",
       "user_age                                                                    -4   \n",
       "pst_wk1_no_sessions                                                          0   \n",
       "pst_wk1_no_city                                                              0   \n",
       "pst_wk1_last_city                                                          -99   \n",
       "pst_wk1_last_country                                                       -99   \n",
       "pst_wk1_last_region                                                        -99   \n",
       "pst_wk1_region_count                                                         0   \n",
       "pst_wk1_last_locale                                                        -99   \n",
       "pst_wk1_total_session_time                                                   0   \n",
       "pst_wk1_mean_session_time                                                    0   \n",
       "pst_wk1_median_session_time                                                  0   \n",
       "pst_wk1_no_of_buys                                                           0   \n",
       "pst_wk1_sum_of_buys                                                          0   \n",
       "pst_wk2_no_sessions                                                          0   \n",
       "pst_wk2_no_city                                                              0   \n",
       "pst_wk2_last_city                                                          -99   \n",
       "pst_wk2_last_country                                                       -99   \n",
       "pst_wk2_last_region                                                        -99   \n",
       "pst_wk2_region_count                                                         0   \n",
       "pst_wk2_last_locale                                                        -99   \n",
       "pst_wk2_total_session_time                                                   0   \n",
       "pst_wk2_mean_session_time                                                    0   \n",
       "pst_wk2_median_session_time                                                  0   \n",
       "pst_wk2_no_of_buys                                                           0   \n",
       "pst_wk2_sum_of_buys                                                          0   \n",
       "pst_wk3_no_sessions                                                          0   \n",
       "pst_wk3_no_city                                                              0   \n",
       "pst_wk3_last_city                                                          -99   \n",
       "pst_wk3_last_country                                                       -99   \n",
       "pst_wk3_last_region                                                        -99   \n",
       "pst_wk3_region_count                                                         0   \n",
       "pst_wk3_last_locale                                                        -99   \n",
       "pst_wk3_total_session_time                                                   0   \n",
       "pst_wk3_mean_session_time                                                    0   \n",
       "pst_wk3_median_session_time                                                  0   \n",
       "pst_wk3_no_of_buys                                                           0   \n",
       "pst_wk3_sum_of_buys                                                          0   \n",
       "pst_wk4_no_sessions                                                          0   \n",
       "pst_wk4_no_city                                                              0   \n",
       "pst_wk4_last_city                                                          -99   \n",
       "pst_wk4_last_country                                                       -99   \n",
       "pst_wk4_last_region                                                        -99   \n",
       "pst_wk4_region_count                                                         0   \n",
       "pst_wk4_last_locale                                                        -99   \n",
       "pst_wk4_total_session_time                                                   0   \n",
       "pst_wk4_mean_session_time                                                    0   \n",
       "pst_wk4_median_session_time                                                  0   \n",
       "pst_wk4_no_of_buys                                                           0   \n",
       "pst_wk4_sum_of_buys                                                          0   \n",
       "t_total_session_time                                                         0   \n",
       "t_no_sessions                                                                1   \n",
       "t_sum_of_buys                                                                0   \n",
       "t_no_of_buys                                                                 0   \n",
       "\n",
       "                                                                             2  \\\n",
       "anchor_date                                                2018-09-29 00:00:00   \n",
       "user_id_hash                 000542d6fc6e9dcb83328d30503a7e022e5a6b4ea6357b...   \n",
       "no_sessions                                                                  1   \n",
       "no_city                                                                      1   \n",
       "last_city                                                                  448   \n",
       "last_country                                                               211   \n",
       "last_region                                                                189   \n",
       "region_count                                                                 1   \n",
       "last_locale                                                                 66   \n",
       "total_session_time                                                           0   \n",
       "mean_session_time                                                            0   \n",
       "median_session_time                                                          0   \n",
       "no_of_buys                                                                   0   \n",
       "sum_of_buys                                                                  0   \n",
       "y1                                                                           0   \n",
       "y2                                                                           0   \n",
       "user_age                                                                    -3   \n",
       "pst_wk1_no_sessions                                                          0   \n",
       "pst_wk1_no_city                                                              0   \n",
       "pst_wk1_last_city                                                          -99   \n",
       "pst_wk1_last_country                                                       -99   \n",
       "pst_wk1_last_region                                                        -99   \n",
       "pst_wk1_region_count                                                         0   \n",
       "pst_wk1_last_locale                                                        -99   \n",
       "pst_wk1_total_session_time                                                   0   \n",
       "pst_wk1_mean_session_time                                                    0   \n",
       "pst_wk1_median_session_time                                                  0   \n",
       "pst_wk1_no_of_buys                                                           0   \n",
       "pst_wk1_sum_of_buys                                                          0   \n",
       "pst_wk2_no_sessions                                                          0   \n",
       "pst_wk2_no_city                                                              0   \n",
       "pst_wk2_last_city                                                          -99   \n",
       "pst_wk2_last_country                                                       -99   \n",
       "pst_wk2_last_region                                                        -99   \n",
       "pst_wk2_region_count                                                         0   \n",
       "pst_wk2_last_locale                                                        -99   \n",
       "pst_wk2_total_session_time                                                   0   \n",
       "pst_wk2_mean_session_time                                                    0   \n",
       "pst_wk2_median_session_time                                                  0   \n",
       "pst_wk2_no_of_buys                                                           0   \n",
       "pst_wk2_sum_of_buys                                                          0   \n",
       "pst_wk3_no_sessions                                                          0   \n",
       "pst_wk3_no_city                                                              0   \n",
       "pst_wk3_last_city                                                          -99   \n",
       "pst_wk3_last_country                                                       -99   \n",
       "pst_wk3_last_region                                                        -99   \n",
       "pst_wk3_region_count                                                         0   \n",
       "pst_wk3_last_locale                                                        -99   \n",
       "pst_wk3_total_session_time                                                   0   \n",
       "pst_wk3_mean_session_time                                                    0   \n",
       "pst_wk3_median_session_time                                                  0   \n",
       "pst_wk3_no_of_buys                                                           0   \n",
       "pst_wk3_sum_of_buys                                                          0   \n",
       "pst_wk4_no_sessions                                                          0   \n",
       "pst_wk4_no_city                                                              0   \n",
       "pst_wk4_last_city                                                          -99   \n",
       "pst_wk4_last_country                                                       -99   \n",
       "pst_wk4_last_region                                                        -99   \n",
       "pst_wk4_region_count                                                         0   \n",
       "pst_wk4_last_locale                                                        -99   \n",
       "pst_wk4_total_session_time                                                   0   \n",
       "pst_wk4_mean_session_time                                                    0   \n",
       "pst_wk4_median_session_time                                                  0   \n",
       "pst_wk4_no_of_buys                                                           0   \n",
       "pst_wk4_sum_of_buys                                                          0   \n",
       "t_total_session_time                                                         0   \n",
       "t_no_sessions                                                                1   \n",
       "t_sum_of_buys                                                                0   \n",
       "t_no_of_buys                                                                 0   \n",
       "\n",
       "                                                                             3  \\\n",
       "anchor_date                                                2018-09-29 00:00:00   \n",
       "user_id_hash                 0006028dc3aefd41499be9c5428fb11691f3ce570e7cc8...   \n",
       "no_sessions                                                                  3   \n",
       "no_city                                                                      1   \n",
       "last_city                                                                  355   \n",
       "last_country                                                               211   \n",
       "last_region                                                                 85   \n",
       "region_count                                                                 1   \n",
       "last_locale                                                                 66   \n",
       "total_session_time                                                 6.17356e+06   \n",
       "mean_session_time                                                  2.05785e+06   \n",
       "median_session_time                                                2.69165e+06   \n",
       "no_of_buys                                                                   0   \n",
       "sum_of_buys                                                                  0   \n",
       "y1                                                                           0   \n",
       "y2                                                                           0   \n",
       "user_age                                                                    -6   \n",
       "pst_wk1_no_sessions                                                          0   \n",
       "pst_wk1_no_city                                                              0   \n",
       "pst_wk1_last_city                                                          -99   \n",
       "pst_wk1_last_country                                                       -99   \n",
       "pst_wk1_last_region                                                        -99   \n",
       "pst_wk1_region_count                                                         0   \n",
       "pst_wk1_last_locale                                                        -99   \n",
       "pst_wk1_total_session_time                                                   0   \n",
       "pst_wk1_mean_session_time                                                    0   \n",
       "pst_wk1_median_session_time                                                  0   \n",
       "pst_wk1_no_of_buys                                                           0   \n",
       "pst_wk1_sum_of_buys                                                          0   \n",
       "pst_wk2_no_sessions                                                          0   \n",
       "pst_wk2_no_city                                                              0   \n",
       "pst_wk2_last_city                                                          -99   \n",
       "pst_wk2_last_country                                                       -99   \n",
       "pst_wk2_last_region                                                        -99   \n",
       "pst_wk2_region_count                                                         0   \n",
       "pst_wk2_last_locale                                                        -99   \n",
       "pst_wk2_total_session_time                                                   0   \n",
       "pst_wk2_mean_session_time                                                    0   \n",
       "pst_wk2_median_session_time                                                  0   \n",
       "pst_wk2_no_of_buys                                                           0   \n",
       "pst_wk2_sum_of_buys                                                          0   \n",
       "pst_wk3_no_sessions                                                          0   \n",
       "pst_wk3_no_city                                                              0   \n",
       "pst_wk3_last_city                                                          -99   \n",
       "pst_wk3_last_country                                                       -99   \n",
       "pst_wk3_last_region                                                        -99   \n",
       "pst_wk3_region_count                                                         0   \n",
       "pst_wk3_last_locale                                                        -99   \n",
       "pst_wk3_total_session_time                                                   0   \n",
       "pst_wk3_mean_session_time                                                    0   \n",
       "pst_wk3_median_session_time                                                  0   \n",
       "pst_wk3_no_of_buys                                                           0   \n",
       "pst_wk3_sum_of_buys                                                          0   \n",
       "pst_wk4_no_sessions                                                          0   \n",
       "pst_wk4_no_city                                                              0   \n",
       "pst_wk4_last_city                                                          -99   \n",
       "pst_wk4_last_country                                                       -99   \n",
       "pst_wk4_last_region                                                        -99   \n",
       "pst_wk4_region_count                                                         0   \n",
       "pst_wk4_last_locale                                                        -99   \n",
       "pst_wk4_total_session_time                                                   0   \n",
       "pst_wk4_mean_session_time                                                    0   \n",
       "pst_wk4_median_session_time                                                  0   \n",
       "pst_wk4_no_of_buys                                                           0   \n",
       "pst_wk4_sum_of_buys                                                          0   \n",
       "t_total_session_time                                               6.17356e+06   \n",
       "t_no_sessions                                                                3   \n",
       "t_sum_of_buys                                                                0   \n",
       "t_no_of_buys                                                                 0   \n",
       "\n",
       "                                                                             4  \n",
       "anchor_date                                                2018-09-29 00:00:00  \n",
       "user_id_hash                 0007da1b2aa0df73cf98077068a7da9039f57d9d51a1ae...  \n",
       "no_sessions                                                                  1  \n",
       "no_city                                                                      1  \n",
       "last_city                                                                  535  \n",
       "last_country                                                               224  \n",
       "last_region                                                                122  \n",
       "region_count                                                                 1  \n",
       "last_locale                                                                 54  \n",
       "total_session_time                                                           0  \n",
       "mean_session_time                                                            0  \n",
       "median_session_time                                                          0  \n",
       "no_of_buys                                                                   0  \n",
       "sum_of_buys                                                                  0  \n",
       "y1                                                                           0  \n",
       "y2                                                                           0  \n",
       "user_age                                                                    -3  \n",
       "pst_wk1_no_sessions                                                          0  \n",
       "pst_wk1_no_city                                                              0  \n",
       "pst_wk1_last_city                                                          -99  \n",
       "pst_wk1_last_country                                                       -99  \n",
       "pst_wk1_last_region                                                        -99  \n",
       "pst_wk1_region_count                                                         0  \n",
       "pst_wk1_last_locale                                                        -99  \n",
       "pst_wk1_total_session_time                                                   0  \n",
       "pst_wk1_mean_session_time                                                    0  \n",
       "pst_wk1_median_session_time                                                  0  \n",
       "pst_wk1_no_of_buys                                                           0  \n",
       "pst_wk1_sum_of_buys                                                          0  \n",
       "pst_wk2_no_sessions                                                          0  \n",
       "pst_wk2_no_city                                                              0  \n",
       "pst_wk2_last_city                                                          -99  \n",
       "pst_wk2_last_country                                                       -99  \n",
       "pst_wk2_last_region                                                        -99  \n",
       "pst_wk2_region_count                                                         0  \n",
       "pst_wk2_last_locale                                                        -99  \n",
       "pst_wk2_total_session_time                                                   0  \n",
       "pst_wk2_mean_session_time                                                    0  \n",
       "pst_wk2_median_session_time                                                  0  \n",
       "pst_wk2_no_of_buys                                                           0  \n",
       "pst_wk2_sum_of_buys                                                          0  \n",
       "pst_wk3_no_sessions                                                          0  \n",
       "pst_wk3_no_city                                                              0  \n",
       "pst_wk3_last_city                                                          -99  \n",
       "pst_wk3_last_country                                                       -99  \n",
       "pst_wk3_last_region                                                        -99  \n",
       "pst_wk3_region_count                                                         0  \n",
       "pst_wk3_last_locale                                                        -99  \n",
       "pst_wk3_total_session_time                                                   0  \n",
       "pst_wk3_mean_session_time                                                    0  \n",
       "pst_wk3_median_session_time                                                  0  \n",
       "pst_wk3_no_of_buys                                                           0  \n",
       "pst_wk3_sum_of_buys                                                          0  \n",
       "pst_wk4_no_sessions                                                          0  \n",
       "pst_wk4_no_city                                                              0  \n",
       "pst_wk4_last_city                                                          -99  \n",
       "pst_wk4_last_country                                                       -99  \n",
       "pst_wk4_last_region                                                        -99  \n",
       "pst_wk4_region_count                                                         0  \n",
       "pst_wk4_last_locale                                                        -99  \n",
       "pst_wk4_total_session_time                                                   0  \n",
       "pst_wk4_mean_session_time                                                    0  \n",
       "pst_wk4_median_session_time                                                  0  \n",
       "pst_wk4_no_of_buys                                                           0  \n",
       "pst_wk4_sum_of_buys                                                          0  \n",
       "t_total_session_time                                                         0  \n",
       "t_no_sessions                                                                1  \n",
       "t_sum_of_buys                                                                0  \n",
       "t_no_of_buys                                                                 0  "
      ]
     },
     "execution_count": 107,
     "metadata": {},
     "output_type": "execute_result"
    }
   ],
   "source": [
    "df.head().T"
   ]
  },
  {
   "cell_type": "code",
   "execution_count": 108,
   "metadata": {
    "ExecuteTime": {
     "end_time": "2019-03-03T23:38:57.233414Z",
     "start_time": "2019-03-03T23:38:57.106890Z"
    }
   },
   "outputs": [
    {
     "data": {
      "text/plain": [
       "anchor_date\n",
       "2018-09-29     6701.0\n",
       "2018-10-06    20085.0\n",
       "2018-10-13    25775.0\n",
       "2018-10-20    29480.0\n",
       "2018-10-27    29526.0\n",
       "2018-11-03    31147.0\n",
       "2018-11-10    30476.0\n",
       "2018-11-17    30648.0\n",
       "2018-11-24    30187.0\n",
       "2018-12-01    18935.0\n",
       "2018-12-08    12074.0\n",
       "2018-12-15        0.0\n",
       "2018-12-22        0.0\n",
       "2018-12-29        0.0\n",
       "2019-01-05        0.0\n",
       "2019-01-12        0.0\n",
       "2019-01-19        0.0\n",
       "2019-01-26        0.0\n",
       "2019-02-02        0.0\n",
       "2019-02-09        0.0\n",
       "2019-02-16        0.0\n",
       "Name: no_of_buys, dtype: float64"
      ]
     },
     "execution_count": 108,
     "metadata": {},
     "output_type": "execute_result"
    }
   ],
   "source": [
    "df.groupby(['anchor_date'])['no_of_buys'].sum()"
   ]
  },
  {
   "cell_type": "code",
   "execution_count": 109,
   "metadata": {
    "ExecuteTime": {
     "end_time": "2019-03-03T23:39:21.469380Z",
     "start_time": "2019-03-03T23:39:21.464226Z"
    }
   },
   "outputs": [
    {
     "data": {
      "text/plain": [
       "(1043065, 17)"
      ]
     },
     "execution_count": 109,
     "metadata": {},
     "output_type": "execute_result"
    }
   ],
   "source": [
    "df_bkp.shape"
   ]
  },
  {
   "cell_type": "code",
   "execution_count": 110,
   "metadata": {
    "ExecuteTime": {
     "end_time": "2019-03-03T23:39:22.883582Z",
     "start_time": "2019-03-03T23:39:22.879134Z"
    }
   },
   "outputs": [
    {
     "data": {
      "text/plain": [
       "(7351039, 69)"
      ]
     },
     "execution_count": 110,
     "metadata": {},
     "output_type": "execute_result"
    }
   ],
   "source": [
    "df.shape"
   ]
  },
  {
   "cell_type": "code",
   "execution_count": 111,
   "metadata": {
    "ExecuteTime": {
     "end_time": "2019-03-03T23:39:27.741164Z",
     "start_time": "2019-03-03T23:39:24.087929Z"
    }
   },
   "outputs": [],
   "source": [
    "df = df[df.anchor_date > dt.date(2018, 10, 20)]"
   ]
  },
  {
   "cell_type": "code",
   "execution_count": 112,
   "metadata": {
    "ExecuteTime": {
     "end_time": "2019-03-03T23:39:32.106636Z",
     "start_time": "2019-03-03T23:39:30.027763Z"
    }
   },
   "outputs": [],
   "source": [
    "df = df[df.anchor_date <= dt.date(2018, 12, 8)]"
   ]
  },
  {
   "cell_type": "code",
   "execution_count": 113,
   "metadata": {
    "ExecuteTime": {
     "end_time": "2019-03-03T23:39:32.114265Z",
     "start_time": "2019-03-03T23:39:32.109670Z"
    }
   },
   "outputs": [
    {
     "data": {
      "text/plain": [
       "(3654559, 69)"
      ]
     },
     "execution_count": 113,
     "metadata": {},
     "output_type": "execute_result"
    }
   ],
   "source": [
    "df.shape"
   ]
  },
  {
   "cell_type": "code",
   "execution_count": 192,
   "metadata": {
    "ExecuteTime": {
     "end_time": "2019-03-04T00:01:13.839215Z",
     "start_time": "2019-03-04T00:01:13.811873Z"
    }
   },
   "outputs": [
    {
     "data": {
      "text/plain": [
       "2018-12-08    619535\n",
       "2018-12-01    619299\n",
       "2018-11-24    618900\n",
       "2018-11-17    556700\n",
       "2018-11-10    487804\n",
       "2018-11-03    414058\n",
       "2018-10-27    338263\n",
       "Name: anchor_date, dtype: int64"
      ]
     },
     "execution_count": 192,
     "metadata": {},
     "output_type": "execute_result"
    }
   ],
   "source": [
    "df.anchor_date.value_counts()"
   ]
  },
  {
   "cell_type": "code",
   "execution_count": 14,
   "metadata": {
    "ExecuteTime": {
     "end_time": "2019-03-04T01:42:25.972316Z",
     "start_time": "2019-03-04T01:42:25.965894Z"
    }
   },
   "outputs": [],
   "source": [
    "feature_cols = ['no_sessions', 'no_city',\n",
    "       'last_city', 'last_country', 'last_region', 'region_count',\n",
    "       'last_locale', 'total_session_time', 'mean_session_time',\n",
    "       'median_session_time', 'no_of_buys', 'sum_of_buys',\n",
    "       'user_age', 'pst_wk1_no_sessions', 'pst_wk1_no_city',\n",
    "       'pst_wk1_last_city', 'pst_wk1_last_country', 'pst_wk1_last_region',\n",
    "       'pst_wk1_region_count', 'pst_wk1_last_locale',\n",
    "       'pst_wk1_total_session_time', 'pst_wk1_mean_session_time',\n",
    "       'pst_wk1_median_session_time', 'pst_wk1_no_of_buys',\n",
    "       'pst_wk1_sum_of_buys', 'pst_wk2_no_sessions', 'pst_wk2_no_city',\n",
    "       'pst_wk2_last_city', 'pst_wk2_last_country', 'pst_wk2_last_region',\n",
    "       'pst_wk2_region_count', 'pst_wk2_last_locale',\n",
    "       'pst_wk2_total_session_time', 'pst_wk2_mean_session_time',\n",
    "       'pst_wk2_median_session_time', 'pst_wk2_no_of_buys',\n",
    "       'pst_wk2_sum_of_buys', 'pst_wk3_no_sessions', 'pst_wk3_no_city',\n",
    "       'pst_wk3_last_city', 'pst_wk3_last_country', 'pst_wk3_last_region',\n",
    "       'pst_wk3_region_count', 'pst_wk3_last_locale',\n",
    "       'pst_wk3_total_session_time', 'pst_wk3_mean_session_time',\n",
    "       'pst_wk3_median_session_time', 'pst_wk3_no_of_buys',\n",
    "       'pst_wk3_sum_of_buys', 'pst_wk4_no_sessions', 'pst_wk4_no_city',\n",
    "       'pst_wk4_last_city', 'pst_wk4_last_country', 'pst_wk4_last_region',\n",
    "       'pst_wk4_region_count', 'pst_wk4_last_locale',\n",
    "       'pst_wk4_total_session_time', 'pst_wk4_mean_session_time',\n",
    "       'pst_wk4_median_session_time', 'pst_wk4_no_of_buys',\n",
    "       'pst_wk4_sum_of_buys', 't_total_session_time', 't_no_sessions',\n",
    "       't_sum_of_buys', 't_no_of_buys']"
   ]
  },
  {
   "cell_type": "code",
   "execution_count": 10,
   "metadata": {
    "ExecuteTime": {
     "end_time": "2019-03-04T00:06:47.210732Z",
     "start_time": "2019-03-04T00:06:47.206276Z"
    }
   },
   "outputs": [],
   "source": [
    "feature_cols += [i for i in df.columns if i.startswith('event_')]"
   ]
  },
  {
   "cell_type": "code",
   "execution_count": 11,
   "metadata": {
    "ExecuteTime": {
     "end_time": "2019-03-04T00:06:47.904845Z",
     "start_time": "2019-03-04T00:06:47.900864Z"
    }
   },
   "outputs": [],
   "source": [
    "feature_cols += [i for i in df.columns if i.startswith('atr_')]"
   ]
  },
  {
   "cell_type": "code",
   "execution_count": 116,
   "metadata": {
    "ExecuteTime": {
     "end_time": "2019-03-03T23:39:45.724584Z",
     "start_time": "2019-03-03T23:39:44.219628Z"
    }
   },
   "outputs": [
    {
     "data": {
      "text/plain": [
       "(619535,)"
      ]
     },
     "execution_count": 116,
     "metadata": {},
     "output_type": "execute_result"
    }
   ],
   "source": [
    "df.user_id_hash.unique().shape"
   ]
  },
  {
   "cell_type": "markdown",
   "metadata": {},
   "source": [
    "for week 08 to 14 you don't know y1 and y2  \n",
    "for week 01 to 08 you don't know y2 but know y1  \n",
    "for week 24 to 01 you know both y1 and y2  "
   ]
  },
  {
   "cell_type": "code",
   "execution_count": 117,
   "metadata": {
    "ExecuteTime": {
     "end_time": "2019-03-03T23:39:53.767088Z",
     "start_time": "2019-03-03T23:39:50.977356Z"
    }
   },
   "outputs": [
    {
     "data": {
      "text/plain": [
       "anchor_date\n",
       "2018-10-27    338263\n",
       "2018-11-03    414058\n",
       "2018-11-10    487804\n",
       "2018-11-17    556700\n",
       "2018-11-24    618900\n",
       "2018-12-01    619299\n",
       "2018-12-08    619535\n",
       "Name: user_id_hash, dtype: int64"
      ]
     },
     "execution_count": 117,
     "metadata": {},
     "output_type": "execute_result"
    }
   ],
   "source": [
    "df.groupby(['anchor_date'])['user_id_hash'].agg('nunique')"
   ]
  },
  {
   "cell_type": "code",
   "execution_count": 118,
   "metadata": {
    "ExecuteTime": {
     "end_time": "2019-03-03T23:40:04.541151Z",
     "start_time": "2019-03-03T23:40:04.536448Z"
    }
   },
   "outputs": [
    {
     "data": {
      "text/plain": [
       "(3654559, 69)"
      ]
     },
     "execution_count": 118,
     "metadata": {},
     "output_type": "execute_result"
    }
   ],
   "source": [
    "df.shape"
   ]
  },
  {
   "cell_type": "code",
   "execution_count": 9,
   "metadata": {
    "ExecuteTime": {
     "end_time": "2019-03-04T01:41:55.411372Z",
     "start_time": "2019-03-04T01:41:55.405487Z"
    }
   },
   "outputs": [
    {
     "data": {
      "text/plain": [
       "(3654559, 337)"
      ]
     },
     "execution_count": 9,
     "metadata": {},
     "output_type": "execute_result"
    }
   ],
   "source": [
    "df.shape"
   ]
  },
  {
   "cell_type": "code",
   "execution_count": 10,
   "metadata": {
    "ExecuteTime": {
     "end_time": "2019-03-04T01:42:20.362029Z",
     "start_time": "2019-03-04T01:41:55.413202Z"
    }
   },
   "outputs": [
    {
     "data": {
      "text/plain": [
       "Series([], dtype: int64)"
      ]
     },
     "execution_count": 10,
     "metadata": {},
     "output_type": "execute_result"
    }
   ],
   "source": [
    "t = df.isna().sum()\n",
    "t[t > 0]"
   ]
  },
  {
   "cell_type": "markdown",
   "metadata": {},
   "source": [
    "## modelling"
   ]
  },
  {
   "cell_type": "code",
   "execution_count": 15,
   "metadata": {
    "ExecuteTime": {
     "end_time": "2019-03-04T01:43:14.613494Z",
     "start_time": "2019-03-04T01:43:14.608813Z"
    }
   },
   "outputs": [],
   "source": [
    "def print_feature_importance(model):\n",
    "    feature_importance = dict(zip(feature_cols, model.feature_importances_))\n",
    "    for name, importance in sorted(feature_importance.items(), key=lambda x: x[1],\\\n",
    "                                   reverse=True):\n",
    "        print(f\"{name:<30}: {importance:>6.2%}\")"
   ]
  },
  {
   "cell_type": "code",
   "execution_count": 16,
   "metadata": {
    "ExecuteTime": {
     "end_time": "2019-03-04T01:43:15.498600Z",
     "start_time": "2019-03-04T01:43:15.495258Z"
    }
   },
   "outputs": [],
   "source": [
    "from xgboost import XGBClassifier\n",
    "from sklearn.metrics import accuracy_score, roc_auc_score"
   ]
  },
  {
   "cell_type": "code",
   "execution_count": 30,
   "metadata": {
    "ExecuteTime": {
     "end_time": "2019-03-04T00:33:15.380542Z",
     "start_time": "2019-03-04T00:33:04.167647Z"
    }
   },
   "outputs": [],
   "source": [
    "train = df[df.anchor_date < dt.date(2018, 12, 1)]\n",
    "test = df[(df.anchor_date == dt.date(2018, 12, 1))]\n",
    "\n",
    "x_train = train[feature_cols].values\n",
    "y1_train = train[['y1']]\n",
    "\n",
    "x_test = test[feature_cols].values\n",
    "y1_test = test[['y1']]"
   ]
  },
  {
   "cell_type": "code",
   "execution_count": 17,
   "metadata": {
    "ExecuteTime": {
     "end_time": "2019-03-04T00:08:14.329283Z",
     "start_time": "2019-03-04T00:08:14.325208Z"
    }
   },
   "outputs": [
    {
     "data": {
      "text/plain": [
       "(2415725, 1)"
      ]
     },
     "execution_count": 17,
     "metadata": {},
     "output_type": "execute_result"
    }
   ],
   "source": [
    "y1_train.shape"
   ]
  },
  {
   "cell_type": "code",
   "execution_count": 18,
   "metadata": {
    "ExecuteTime": {
     "end_time": "2019-03-04T00:08:14.390903Z",
     "start_time": "2019-03-04T00:08:14.331137Z"
    }
   },
   "outputs": [
    {
     "data": {
      "text/plain": [
       "y1    33510.0\n",
       "dtype: float64"
      ]
     },
     "execution_count": 18,
     "metadata": {},
     "output_type": "execute_result"
    }
   ],
   "source": [
    "y1_train.sum()"
   ]
  },
  {
   "cell_type": "code",
   "execution_count": 196,
   "metadata": {
    "ExecuteTime": {
     "end_time": "2019-03-04T00:01:38.515212Z",
     "start_time": "2019-03-04T00:01:38.510493Z"
    }
   },
   "outputs": [
    {
     "data": {
      "text/plain": [
       "71.089674723963"
      ]
     },
     "execution_count": 196,
     "metadata": {},
     "output_type": "execute_result"
    }
   ],
   "source": [
    "(2415725 - 33510.0) / 33510.0"
   ]
  },
  {
   "cell_type": "markdown",
   "metadata": {
    "heading_collapsed": true
   },
   "source": [
    "### without events and attributes  - train test y1"
   ]
  },
  {
   "cell_type": "code",
   "execution_count": 70,
   "metadata": {
    "ExecuteTime": {
     "end_time": "2019-03-04T01:17:56.598214Z",
     "start_time": "2019-03-04T01:17:56.594564Z"
    },
    "hidden": true
   },
   "outputs": [],
   "source": [
    "params = {\n",
    "    'min_child_weight': 10.0,\n",
    "    'objective': 'binary:logistic',\n",
    "    'max_depth': 7,\n",
    "    'num_boost_round' : 500,\n",
    "    'n_estimators': 300,\n",
    "    'n_jobs': -1,\n",
    "    'scale_pos_weight': 70.0\n",
    "    }"
   ]
  },
  {
   "cell_type": "code",
   "execution_count": 64,
   "metadata": {
    "ExecuteTime": {
     "end_time": "2019-03-04T01:10:23.526360Z",
     "start_time": "2019-03-04T01:10:23.523477Z"
    },
    "hidden": true
   },
   "outputs": [],
   "source": [
    "xg_model1 = XGBClassifier(**params)"
   ]
  },
  {
   "cell_type": "code",
   "execution_count": 65,
   "metadata": {
    "ExecuteTime": {
     "end_time": "2019-03-04T01:17:34.870697Z",
     "start_time": "2019-03-04T01:10:24.136187Z"
    },
    "hidden": true
   },
   "outputs": [
    {
     "data": {
      "text/plain": [
       "XGBClassifier(base_score=0.5, booster='gbtree', colsample_bylevel=1,\n",
       "       colsample_bytree=1, gamma=0, learning_rate=0.1, max_delta_step=0,\n",
       "       max_depth=7, min_child_weight=15.0, missing=None, n_estimators=300,\n",
       "       n_jobs=-1, nthread=None, num_boost_round=500,\n",
       "       objective='binary:logistic', random_state=0, reg_alpha=0,\n",
       "       reg_lambda=1, scale_pos_weight=70.0, seed=None, silent=True,\n",
       "       subsample=1)"
      ]
     },
     "execution_count": 65,
     "metadata": {},
     "output_type": "execute_result"
    }
   ],
   "source": [
    "xg_model1.fit(x_train, y1_train)"
   ]
  },
  {
   "cell_type": "code",
   "execution_count": 66,
   "metadata": {
    "ExecuteTime": {
     "end_time": "2019-03-04T01:17:41.410586Z",
     "start_time": "2019-03-04T01:17:34.873573Z"
    },
    "hidden": true
   },
   "outputs": [
    {
     "data": {
      "text/plain": [
       "0.9803413054052096"
      ]
     },
     "execution_count": 66,
     "metadata": {},
     "output_type": "execute_result"
    }
   ],
   "source": [
    "accuracy_score(y1_train, xg_model1.predict(x_train))"
   ]
  },
  {
   "cell_type": "code",
   "execution_count": 67,
   "metadata": {
    "ExecuteTime": {
     "end_time": "2019-03-04T01:17:42.705435Z",
     "start_time": "2019-03-04T01:17:41.412800Z"
    },
    "hidden": true
   },
   "outputs": [
    {
     "data": {
      "text/plain": [
       "0.9862166740136832"
      ]
     },
     "execution_count": 67,
     "metadata": {},
     "output_type": "execute_result"
    }
   ],
   "source": [
    "accuracy_score(y1_test, xg_model1.predict(x_test))"
   ]
  },
  {
   "cell_type": "code",
   "execution_count": 68,
   "metadata": {
    "ExecuteTime": {
     "end_time": "2019-03-04T01:17:48.263060Z",
     "start_time": "2019-03-04T01:17:42.708138Z"
    },
    "hidden": true
   },
   "outputs": [
    {
     "data": {
      "text/plain": [
       "0.9880758187782617"
      ]
     },
     "execution_count": 68,
     "metadata": {},
     "output_type": "execute_result"
    }
   ],
   "source": [
    "roc_auc_score(y1_train, xg_model1.predict(x_train))"
   ]
  },
  {
   "cell_type": "code",
   "execution_count": 69,
   "metadata": {
    "ExecuteTime": {
     "end_time": "2019-03-04T01:17:49.647037Z",
     "start_time": "2019-03-04T01:17:48.265479Z"
    },
    "hidden": true
   },
   "outputs": [
    {
     "data": {
      "text/plain": [
       "0.9582613023737487"
      ]
     },
     "execution_count": 69,
     "metadata": {},
     "output_type": "execute_result"
    }
   ],
   "source": [
    "roc_auc_score(y1_test, xg_model1.predict(x_test))"
   ]
  },
  {
   "cell_type": "code",
   "execution_count": 132,
   "metadata": {
    "ExecuteTime": {
     "end_time": "2019-03-03T23:48:39.241915Z",
     "start_time": "2019-03-03T23:48:39.170168Z"
    },
    "hidden": true,
    "scrolled": true
   },
   "outputs": [
    {
     "name": "stdout",
     "output_type": "stream",
     "text": [
      "total_session_time            :  7.13%\n",
      "t_sum_of_buys                 :  4.62%\n",
      "user_age                      :  4.46%\n",
      "last_city                     :  4.37%\n",
      "t_total_session_time          :  4.16%\n",
      "no_sessions                   :  3.97%\n",
      "pst_wk1_last_city             :  3.95%\n",
      "last_region                   :  3.68%\n",
      "pst_wk1_total_session_time    :  3.64%\n",
      "mean_session_time             :  3.24%\n",
      "pst_wk1_last_region           :  2.97%\n",
      "median_session_time           :  2.88%\n",
      "pst_wk1_mean_session_time     :  2.82%\n",
      "no_of_buys                    :  2.39%\n",
      "pst_wk1_no_sessions           :  2.35%\n",
      "pst_wk1_median_session_time   :  2.34%\n",
      "t_no_sessions                 :  2.29%\n",
      "last_locale                   :  2.00%\n",
      "t_no_of_buys                  :  1.92%\n",
      "sum_of_buys                   :  1.88%\n",
      "pst_wk2_last_city             :  1.86%\n",
      "pst_wk2_total_session_time    :  1.84%\n",
      "pst_wk2_no_sessions           :  1.76%\n",
      "last_country                  :  1.69%\n",
      "pst_wk1_last_locale           :  1.38%\n",
      "pst_wk3_last_city             :  1.35%\n",
      "pst_wk1_last_country          :  1.24%\n",
      "no_city                       :  1.16%\n",
      "pst_wk1_sum_of_buys           :  1.11%\n",
      "pst_wk2_median_session_time   :  1.08%\n",
      "pst_wk2_last_region           :  1.04%\n",
      "pst_wk1_no_city               :  1.04%\n",
      "pst_wk3_total_session_time    :  1.02%\n",
      "pst_wk3_no_sessions           :  0.98%\n",
      "pst_wk3_last_region           :  0.96%\n",
      "pst_wk2_mean_session_time     :  0.93%\n",
      "pst_wk1_no_of_buys            :  0.76%\n",
      "pst_wk3_median_session_time   :  0.73%\n",
      "pst_wk4_last_city             :  0.69%\n",
      "pst_wk4_total_session_time    :  0.68%\n",
      "pst_wk3_mean_session_time     :  0.64%\n",
      "pst_wk4_last_region           :  0.62%\n",
      "pst_wk4_median_session_time   :  0.62%\n",
      "pst_wk4_no_sessions           :  0.61%\n",
      "pst_wk2_sum_of_buys           :  0.59%\n",
      "pst_wk4_mean_session_time     :  0.59%\n",
      "pst_wk2_last_country          :  0.53%\n",
      "pst_wk2_last_locale           :  0.52%\n",
      "pst_wk2_no_city               :  0.43%\n",
      "pst_wk3_last_locale           :  0.43%\n",
      "pst_wk1_region_count          :  0.40%\n",
      "pst_wk3_last_country          :  0.38%\n",
      "pst_wk2_region_count          :  0.36%\n",
      "pst_wk4_sum_of_buys           :  0.36%\n",
      "region_count                  :  0.36%\n",
      "pst_wk3_no_of_buys            :  0.36%\n",
      "pst_wk2_no_of_buys            :  0.32%\n",
      "pst_wk3_sum_of_buys           :  0.28%\n",
      "pst_wk3_no_city               :  0.26%\n",
      "pst_wk4_last_locale           :  0.25%\n",
      "pst_wk4_no_city               :  0.20%\n",
      "pst_wk3_region_count          :  0.17%\n",
      "pst_wk4_last_country          :  0.13%\n",
      "pst_wk4_region_count          :  0.12%\n",
      "pst_wk4_no_of_buys            :  0.08%\n"
     ]
    }
   ],
   "source": [
    "print_feature_importance(xg_model1)"
   ]
  },
  {
   "cell_type": "code",
   "execution_count": 47,
   "metadata": {
    "ExecuteTime": {
     "end_time": "2019-03-04T00:51:58.829512Z",
     "start_time": "2019-03-04T00:51:58.821093Z"
    },
    "hidden": true
   },
   "outputs": [],
   "source": [
    "imp_cols = ['total_session_time', 'atr_mean19', 'last_city',\n",
    "            'pst_wk1_last_city', 'event_count45', 'atr_mean13',\n",
    "            'user_age', 'event_sum7', 'last_region', 'atr_mean5',\n",
    "            'pst_wk1_last_region', 't_total_session_time', 'atr_mean16',\n",
    "            'atr_mean20', 'atr_mean7', 'atr_last19', 'event_mean7',\n",
    "            'atr_max13', 'pst_wk1_total_session_time', 'atr_last13',\n",
    "            'atr_mean8', 'mean_session_time', 'atr_mean1', 't_sum_of_buys',\n",
    "            'event_count1', 'event_mean5', 'pst_wk1_no_sessions',\n",
    "            'pst_wk1_mean_session_time', 'atr_last1', 'pst_wk2_last_city',\n",
    "            'median_session_time', 'atr_last5', 'atr_mean66',\n",
    "            'pst_wk1_last_country', 't_no_sessions', 'event_count98',\n",
    "            'event_count0', 'atr_mean67', 'atr_mean4', 'atr_count67',\n",
    "            'last_locale', 'atr_max1', 'last_country', 'pst_wk1_no_city',\n",
    "            'pst_wk1_median_session_time', 'atr_max19', 'atr_mean0',\n",
    "            'pst_wk1_last_locale', 'pst_wk2_no_sessions', 'event_count14', \n",
    "            't_no_of_buys', 'atr_mean18', 'atr_last7', 'no_of_buys',\n",
    "            'atr_mean75', 'atr_mean15', 'atr_mean17', 'atr_max7',\n",
    "            'no_city', 'atr_max16', 'no_sessions', 'atr_last18',\n",
    "            'pst_wk2_last_region', 'pst_wk3_last_city', 'atr_mean9',\n",
    "            'atr_mean6', 'event_count7', 'pst_wk2_total_session_time',\n",
    "            'event_count40', 'event_count42', 'event_mode7',\n",
    "            'pst_wk3_last_region', 'pst_wk3_total_session_time',\n",
    "            'atr_mean3', 'atr_max5', 'atr_mean14', 'atr_last20',\n",
    "            'pst_wk2_mean_session_time', 'event_count4', 'event_count5',\n",
    "            'atr_last16', 'atr_max15', 'pst_wk2_median_session_time',\n",
    "            'event_count41', 'atr_max18', 'atr_max66', \n",
    "            'pst_wk1_no_of_buys', 'event_count6', 'event_count3',\n",
    "            'pst_wk3_no_sessions', 'atr_max6', 'pst_wk2_sum_of_buys', \n",
    "            'event_sum5', 'atr_last75', 'atr_mean21', 'atr_count0', \n",
    "            'sum_of_buys', 'pst_wk3_last_locale', 'pst_wk4_last_region',\n",
    "            'atr_last6', 'pst_wk1_sum_of_buys', 'atr_last66', 'atr_max9',\n",
    "            'pst_wk2_last_locale', 'atr_count7', 'pst_wk2_last_country',\n",
    "            'pst_wk4_last_city', 'pst_wk4_median_session_time',\n",
    "            'atr_last4', 'pst_wk4_total_session_time', 'event_count97',\n",
    "            'atr_max4', 'atr_max75', 'pst_wk3_last_country', 'atr_max8',\n",
    "            'atr_mean11', 'pst_wk2_no_city', 'pst_wk1_region_count',\n",
    "            'pst_wk3_no_city', 'pst_wk4_mean_session_time',\n",
    "            'pst_wk4_sum_of_buys', 'pst_wk2_region_count', \n",
    "            'pst_wk3_mean_session_time', 'pst_wk3_sum_of_buys', \n",
    "            'atr_count66', 'atr_last9', 'region_count', 'atr_last15', \n",
    "            'pst_wk4_no_sessions', 'atr_last8', 'event_count44', \n",
    "            'pst_wk4_last_locale', 'atr_mean96', 'atr_last3', \n",
    "            'pst_wk3_median_session_time', 'atr_max14']"
   ]
  },
  {
   "cell_type": "code",
   "execution_count": 48,
   "metadata": {
    "ExecuteTime": {
     "end_time": "2019-03-04T00:51:59.074932Z",
     "start_time": "2019-03-04T00:51:58.844913Z"
    },
    "hidden": true
   },
   "outputs": [
    {
     "ename": "NameError",
     "evalue": "name 'features' is not defined",
     "output_type": "error",
     "traceback": [
      "\u001b[0;31m---------------------------------------------------------------------------\u001b[0m",
      "\u001b[0;31mNameError\u001b[0m                                 Traceback (most recent call last)",
      "\u001b[0;32m<ipython-input-48-dd9c4b7f6b38>\u001b[0m in \u001b[0;36m<module>\u001b[0;34m\u001b[0m\n\u001b[0;32m----> 1\u001b[0;31m \u001b[0mimp_cols\u001b[0m \u001b[0;34m=\u001b[0m \u001b[0mlist\u001b[0m\u001b[0;34m(\u001b[0m\u001b[0mset\u001b[0m\u001b[0;34m(\u001b[0m\u001b[0mimp_cols\u001b[0m\u001b[0;34m)\u001b[0m \u001b[0;34m-\u001b[0m \u001b[0mset\u001b[0m\u001b[0;34m(\u001b[0m\u001b[0mfeatures\u001b[0m\u001b[0;34m)\u001b[0m\u001b[0;34m)\u001b[0m\u001b[0;34m\u001b[0m\u001b[0;34m\u001b[0m\u001b[0m\n\u001b[0m",
      "\u001b[0;31mNameError\u001b[0m: name 'features' is not defined"
     ]
    }
   ],
   "source": [
    "imp_cols = listimp_colst(imp_cols) - set(features))"
   ]
  },
  {
   "cell_type": "markdown",
   "metadata": {
    "heading_collapsed": true
   },
   "source": [
    "### with events and attributes"
   ]
  },
  {
   "cell_type": "code",
   "execution_count": 20,
   "metadata": {
    "ExecuteTime": {
     "end_time": "2019-03-04T00:08:29.322781Z",
     "start_time": "2019-03-04T00:08:29.319542Z"
    },
    "hidden": true
   },
   "outputs": [],
   "source": [
    "xg_model1 = XGBClassifier(**params)"
   ]
  },
  {
   "cell_type": "code",
   "execution_count": 21,
   "metadata": {
    "ExecuteTime": {
     "end_time": "2019-03-04T00:30:42.439180Z",
     "start_time": "2019-03-04T00:08:34.046762Z"
    },
    "hidden": true
   },
   "outputs": [
    {
     "name": "stderr",
     "output_type": "stream",
     "text": [
      "/home/jupyter/anaconda3/lib/python3.7/site-packages/sklearn/preprocessing/label.py:219: DataConversionWarning: A column-vector y was passed when a 1d array was expected. Please change the shape of y to (n_samples, ), for example using ravel().\n",
      "  y = column_or_1d(y, warn=True)\n",
      "/home/jupyter/anaconda3/lib/python3.7/site-packages/sklearn/preprocessing/label.py:252: DataConversionWarning: A column-vector y was passed when a 1d array was expected. Please change the shape of y to (n_samples, ), for example using ravel().\n",
      "  y = column_or_1d(y, warn=True)\n"
     ]
    },
    {
     "data": {
      "text/plain": [
       "XGBClassifier(base_score=0.5, booster='gbtree', colsample_bylevel=1,\n",
       "       colsample_bytree=1, gamma=0, learning_rate=0.1, max_delta_step=0,\n",
       "       max_depth=7, min_child_weight=10.0, missing=None, n_estimators=300,\n",
       "       n_jobs=-1, nthread=None, num_boost_round=700,\n",
       "       objective='binary:logistic', random_state=0, reg_alpha=0,\n",
       "       reg_lambda=1, scale_pos_weight=70.0, seed=None, silent=True,\n",
       "       subsample=1)"
      ]
     },
     "execution_count": 21,
     "metadata": {},
     "output_type": "execute_result"
    }
   ],
   "source": [
    "xg_model1.fit(x_train, y1_train)"
   ]
  },
  {
   "cell_type": "code",
   "execution_count": 22,
   "metadata": {
    "ExecuteTime": {
     "end_time": "2019-03-04T00:31:02.112312Z",
     "start_time": "2019-03-04T00:30:42.446578Z"
    },
    "hidden": true
   },
   "outputs": [
    {
     "data": {
      "text/plain": [
       "0.9846567800556769"
      ]
     },
     "execution_count": 22,
     "metadata": {},
     "output_type": "execute_result"
    }
   ],
   "source": [
    "accuracy_score(y1_train, xg_model1.predict(x_train))"
   ]
  },
  {
   "cell_type": "code",
   "execution_count": 23,
   "metadata": {
    "ExecuteTime": {
     "end_time": "2019-03-04T00:31:06.392524Z",
     "start_time": "2019-03-04T00:31:02.114528Z"
    },
    "hidden": true
   },
   "outputs": [
    {
     "data": {
      "text/plain": [
       "0.9891151124093531"
      ]
     },
     "execution_count": 23,
     "metadata": {},
     "output_type": "execute_result"
    }
   ],
   "source": [
    "accuracy_score(y1_test, xg_model1.predict(x_test))"
   ]
  },
  {
   "cell_type": "code",
   "execution_count": 24,
   "metadata": {
    "ExecuteTime": {
     "end_time": "2019-03-04T00:31:24.571680Z",
     "start_time": "2019-03-04T00:31:06.395310Z"
    },
    "hidden": true
   },
   "outputs": [
    {
     "data": {
      "text/plain": [
       "0.9919262548732"
      ]
     },
     "execution_count": 24,
     "metadata": {},
     "output_type": "execute_result"
    }
   ],
   "source": [
    "roc_auc_score(y1_train, xg_model1.predict(x_train))"
   ]
  },
  {
   "cell_type": "code",
   "execution_count": 25,
   "metadata": {
    "ExecuteTime": {
     "end_time": "2019-03-04T00:31:28.917142Z",
     "start_time": "2019-03-04T00:31:24.574166Z"
    },
    "hidden": true
   },
   "outputs": [
    {
     "data": {
      "text/plain": [
       "0.9574480169884488"
      ]
     },
     "execution_count": 25,
     "metadata": {},
     "output_type": "execute_result"
    }
   ],
   "source": [
    "roc_auc_score(y1_test, xg_model1.predict(x_test))"
   ]
  },
  {
   "cell_type": "code",
   "execution_count": 26,
   "metadata": {
    "ExecuteTime": {
     "end_time": "2019-03-04T00:31:28.996229Z",
     "start_time": "2019-03-04T00:31:28.919035Z"
    },
    "hidden": true,
    "scrolled": true
   },
   "outputs": [
    {
     "name": "stdout",
     "output_type": "stream",
     "text": [
      "total_session_time            :  2.68%\n",
      "atr_mean19                    :  2.49%\n",
      "last_city                     :  2.46%\n",
      "pst_wk1_last_city             :  2.46%\n",
      "event_count45                 :  2.43%\n",
      "atr_mean13                    :  2.41%\n",
      "user_age                      :  2.27%\n",
      "event_sum7                    :  1.95%\n",
      "last_region                   :  1.86%\n",
      "atr_mean5                     :  1.78%\n",
      "pst_wk1_last_region           :  1.74%\n",
      "t_total_session_time          :  1.72%\n",
      "atr_mean16                    :  1.72%\n",
      "atr_mean20                    :  1.64%\n",
      "atr_mean7                     :  1.62%\n",
      "atr_last19                    :  1.59%\n",
      "event_mean7                   :  1.58%\n",
      "atr_max13                     :  1.53%\n",
      "pst_wk1_total_session_time    :  1.49%\n",
      "atr_last13                    :  1.42%\n",
      "atr_mean8                     :  1.41%\n",
      "mean_session_time             :  1.41%\n",
      "atr_mean1                     :  1.38%\n",
      "t_sum_of_buys                 :  1.25%\n",
      "event_count1                  :  1.20%\n",
      "event_mean5                   :  1.16%\n",
      "pst_wk1_no_sessions           :  1.11%\n",
      "pst_wk1_mean_session_time     :  1.03%\n",
      "atr_last1                     :  1.03%\n",
      "pst_wk2_last_city             :  1.00%\n",
      "median_session_time           :  0.98%\n",
      "atr_last5                     :  0.96%\n",
      "atr_mean66                    :  0.95%\n",
      "pst_wk1_last_country          :  0.94%\n",
      "t_no_sessions                 :  0.92%\n",
      "event_count98                 :  0.89%\n",
      "event_count0                  :  0.89%\n",
      "atr_mean67                    :  0.89%\n",
      "atr_mean4                     :  0.88%\n",
      "atr_count67                   :  0.87%\n",
      "last_locale                   :  0.84%\n",
      "atr_max1                      :  0.83%\n",
      "last_country                  :  0.82%\n",
      "pst_wk1_no_city               :  0.80%\n",
      "pst_wk1_median_session_time   :  0.80%\n",
      "atr_max19                     :  0.80%\n",
      "atr_mean0                     :  0.77%\n",
      "pst_wk1_last_locale           :  0.76%\n",
      "pst_wk2_no_sessions           :  0.74%\n",
      "event_count14                 :  0.74%\n",
      "t_no_of_buys                  :  0.73%\n",
      "atr_mean18                    :  0.73%\n",
      "atr_last7                     :  0.73%\n",
      "no_of_buys                    :  0.72%\n",
      "atr_mean75                    :  0.72%\n",
      "atr_mean15                    :  0.69%\n",
      "atr_mean17                    :  0.67%\n",
      "atr_max7                      :  0.66%\n",
      "no_city                       :  0.65%\n",
      "atr_max16                     :  0.64%\n",
      "no_sessions                   :  0.63%\n",
      "atr_last18                    :  0.62%\n",
      "pst_wk2_last_region           :  0.60%\n",
      "pst_wk3_last_city             :  0.58%\n",
      "atr_mean9                     :  0.57%\n",
      "atr_mean6                     :  0.57%\n",
      "event_count7                  :  0.56%\n",
      "pst_wk2_total_session_time    :  0.55%\n",
      "event_count40                 :  0.51%\n",
      "event_count42                 :  0.51%\n",
      "event_mode7                   :  0.51%\n",
      "pst_wk3_last_region           :  0.50%\n",
      "pst_wk3_total_session_time    :  0.50%\n",
      "atr_mean3                     :  0.50%\n",
      "atr_max5                      :  0.50%\n",
      "atr_mean14                    :  0.45%\n",
      "atr_last20                    :  0.45%\n",
      "pst_wk2_mean_session_time     :  0.42%\n",
      "event_count4                  :  0.41%\n",
      "event_count5                  :  0.40%\n",
      "atr_last16                    :  0.40%\n",
      "atr_max15                     :  0.40%\n",
      "pst_wk2_median_session_time   :  0.39%\n",
      "event_count41                 :  0.39%\n",
      "atr_max18                     :  0.37%\n",
      "atr_max66                     :  0.35%\n",
      "pst_wk1_no_of_buys            :  0.34%\n",
      "event_count6                  :  0.34%\n",
      "event_count3                  :  0.34%\n",
      "pst_wk3_no_sessions           :  0.33%\n",
      "atr_max6                      :  0.31%\n",
      "pst_wk2_sum_of_buys           :  0.30%\n",
      "event_sum5                    :  0.30%\n",
      "atr_last75                    :  0.30%\n",
      "atr_mean21                    :  0.29%\n",
      "atr_count0                    :  0.28%\n",
      "sum_of_buys                   :  0.27%\n",
      "pst_wk3_last_locale           :  0.27%\n",
      "pst_wk4_last_region           :  0.27%\n",
      "atr_last6                     :  0.27%\n",
      "pst_wk1_sum_of_buys           :  0.26%\n",
      "atr_last66                    :  0.26%\n",
      "atr_max9                      :  0.26%\n",
      "pst_wk2_last_locale           :  0.25%\n",
      "atr_count7                    :  0.25%\n",
      "pst_wk2_last_country          :  0.24%\n",
      "pst_wk4_last_city             :  0.23%\n",
      "pst_wk4_median_session_time   :  0.23%\n",
      "atr_last4                     :  0.23%\n",
      "pst_wk4_total_session_time    :  0.22%\n",
      "event_count97                 :  0.21%\n",
      "atr_max4                      :  0.21%\n",
      "atr_max75                     :  0.21%\n",
      "pst_wk3_last_country          :  0.21%\n",
      "atr_max8                      :  0.21%\n",
      "atr_mean11                    :  0.20%\n",
      "pst_wk2_no_city               :  0.19%\n",
      "pst_wk1_region_count          :  0.18%\n",
      "pst_wk3_no_city               :  0.17%\n",
      "pst_wk4_mean_session_time     :  0.17%\n",
      "pst_wk4_sum_of_buys           :  0.17%\n",
      "pst_wk2_region_count          :  0.16%\n",
      "pst_wk3_mean_session_time     :  0.16%\n",
      "pst_wk3_sum_of_buys           :  0.16%\n",
      "atr_count66                   :  0.15%\n",
      "atr_last9                     :  0.15%\n",
      "region_count                  :  0.15%\n",
      "atr_last15                    :  0.15%\n",
      "pst_wk4_no_sessions           :  0.14%\n",
      "atr_last8                     :  0.14%\n",
      "event_count44                 :  0.14%\n",
      "pst_wk4_last_locale           :  0.12%\n",
      "atr_mean96                    :  0.12%\n",
      "atr_last3                     :  0.12%\n",
      "pst_wk3_median_session_time   :  0.12%\n",
      "atr_max14                     :  0.11%\n",
      "atr_last67                    :  0.10%\n",
      "pst_wk3_region_count          :  0.10%\n",
      "atr_count5                    :  0.10%\n",
      "atr_count96                   :  0.10%\n",
      "atr_max20                     :  0.10%\n",
      "event_count9                  :  0.09%\n",
      "atr_max3                      :  0.09%\n",
      "pst_wk3_no_of_buys            :  0.08%\n",
      "atr_last17                    :  0.08%\n",
      "pst_wk2_no_of_buys            :  0.08%\n",
      "pst_wk4_no_of_buys            :  0.08%\n",
      "event_sum11                   :  0.08%\n",
      "atr_last14                    :  0.07%\n",
      "atr_max0                      :  0.07%\n",
      "event_count43                 :  0.06%\n",
      "event_mean11                  :  0.06%\n",
      "atr_count78                   :  0.06%\n",
      "pst_wk4_last_country          :  0.05%\n",
      "event_mode5                   :  0.05%\n",
      "pst_wk4_no_city               :  0.04%\n",
      "atr_max21                     :  0.04%\n",
      "pst_wk4_region_count          :  0.03%\n",
      "event_count11                 :  0.03%\n",
      "event_sum9                    :  0.03%\n",
      "atr_last0                     :  0.03%\n",
      "atr_max17                     :  0.02%\n",
      "atr_last21                    :  0.01%\n",
      "atr_max11                     :  0.01%\n",
      "event_mean9                   :  0.01%\n",
      "event_count10                 :  0.00%\n",
      "event_count47                 :  0.00%\n",
      "event_count51                 :  0.00%\n",
      "event_count58                 :  0.00%\n",
      "event_count50                 :  0.00%\n",
      "event_count54                 :  0.00%\n",
      "event_count59                 :  0.00%\n",
      "event_count49                 :  0.00%\n",
      "event_count56                 :  0.00%\n",
      "event_count99                 :  0.00%\n",
      "event_count63                 :  0.00%\n",
      "event_count48                 :  0.00%\n",
      "event_count52                 :  0.00%\n",
      "event_count55                 :  0.00%\n",
      "event_count60                 :  0.00%\n",
      "event_count57                 :  0.00%\n",
      "event_count64                 :  0.00%\n",
      "event_count32                 :  0.00%\n",
      "event_count61                 :  0.00%\n",
      "event_count0/                 :  0.00%\n",
      "event_count1/                 :  0.00%\n",
      "event_count62                 :  0.00%\n",
      "event_sum14                   :  0.00%\n",
      "event_sum44                   :  0.00%\n",
      "event_sum45                   :  0.00%\n",
      "event_sum97                   :  0.00%\n",
      "event_sum1                    :  0.00%\n",
      "event_sum6                    :  0.00%\n",
      "event_sum4                    :  0.00%\n",
      "event_sum40                   :  0.00%\n",
      "event_sum3                    :  0.00%\n",
      "event_sum41                   :  0.00%\n",
      "event_sum42                   :  0.00%\n",
      "event_sum0                    :  0.00%\n",
      "event_sum43                   :  0.00%\n",
      "event_sum10                   :  0.00%\n",
      "event_sum47                   :  0.00%\n",
      "event_sum51                   :  0.00%\n",
      "event_sum58                   :  0.00%\n",
      "event_sum98                   :  0.00%\n",
      "event_sum50                   :  0.00%\n",
      "event_sum54                   :  0.00%\n",
      "event_sum59                   :  0.00%\n",
      "event_sum49                   :  0.00%\n",
      "event_sum56                   :  0.00%\n",
      "event_sum99                   :  0.00%\n",
      "event_sum63                   :  0.00%\n",
      "event_sum48                   :  0.00%\n",
      "event_sum52                   :  0.00%\n",
      "event_sum55                   :  0.00%\n",
      "event_sum60                   :  0.00%\n",
      "event_sum57                   :  0.00%\n",
      "event_sum64                   :  0.00%\n",
      "event_sum32                   :  0.00%\n",
      "event_sum61                   :  0.00%\n",
      "event_sum0/                   :  0.00%\n",
      "event_sum1/                   :  0.00%\n",
      "event_sum62                   :  0.00%\n",
      "event_mean14                  :  0.00%\n",
      "event_mean44                  :  0.00%\n",
      "event_mean45                  :  0.00%\n",
      "event_mean97                  :  0.00%\n",
      "event_mean1                   :  0.00%\n",
      "event_mean6                   :  0.00%\n",
      "event_mean4                   :  0.00%\n",
      "event_mean40                  :  0.00%\n",
      "event_mean3                   :  0.00%\n",
      "event_mean41                  :  0.00%\n",
      "event_mean42                  :  0.00%\n",
      "event_mean0                   :  0.00%\n",
      "event_mean43                  :  0.00%\n",
      "event_mean10                  :  0.00%\n",
      "event_mean47                  :  0.00%\n",
      "event_mean51                  :  0.00%\n",
      "event_mean58                  :  0.00%\n",
      "event_mean98                  :  0.00%\n",
      "event_mean50                  :  0.00%\n",
      "event_mean54                  :  0.00%\n",
      "event_mean59                  :  0.00%\n",
      "event_mean49                  :  0.00%\n",
      "event_mean56                  :  0.00%\n",
      "event_mean99                  :  0.00%\n",
      "event_mean63                  :  0.00%\n",
      "event_mean48                  :  0.00%\n",
      "event_mean52                  :  0.00%\n",
      "event_mean55                  :  0.00%\n",
      "event_mean60                  :  0.00%\n",
      "event_mean57                  :  0.00%\n",
      "event_mean64                  :  0.00%\n",
      "event_mean32                  :  0.00%\n",
      "event_mean61                  :  0.00%\n",
      "event_mean0/                  :  0.00%\n",
      "event_mean1/                  :  0.00%\n",
      "event_mean62                  :  0.00%\n",
      "event_mode14                  :  0.00%\n",
      "event_mode44                  :  0.00%\n",
      "event_mode45                  :  0.00%\n",
      "event_mode97                  :  0.00%\n",
      "event_mode1                   :  0.00%\n",
      "event_mode6                   :  0.00%\n",
      "event_mode4                   :  0.00%\n",
      "event_mode40                  :  0.00%\n",
      "event_mode11                  :  0.00%\n",
      "event_mode9                   :  0.00%\n",
      "event_mode3                   :  0.00%\n",
      "event_mode41                  :  0.00%\n",
      "event_mode42                  :  0.00%\n",
      "event_mode0                   :  0.00%\n",
      "event_mode43                  :  0.00%\n",
      "event_mode10                  :  0.00%\n",
      "event_mode47                  :  0.00%\n",
      "event_mode51                  :  0.00%\n",
      "event_mode58                  :  0.00%\n",
      "event_mode98                  :  0.00%\n",
      "event_mode50                  :  0.00%\n",
      "event_mode54                  :  0.00%\n",
      "event_mode59                  :  0.00%\n",
      "event_mode49                  :  0.00%\n",
      "event_mode56                  :  0.00%\n",
      "event_mode99                  :  0.00%\n",
      "event_mode63                  :  0.00%\n",
      "event_mode48                  :  0.00%\n",
      "event_mode52                  :  0.00%\n",
      "event_mode55                  :  0.00%\n",
      "event_mode60                  :  0.00%\n",
      "event_mode57                  :  0.00%\n",
      "event_mode64                  :  0.00%\n",
      "event_mode32                  :  0.00%\n",
      "event_mode61                  :  0.00%\n",
      "event_mode0/                  :  0.00%\n",
      "event_mode1/                  :  0.00%\n",
      "event_mode62                  :  0.00%\n",
      "atr_count1                    :  0.00%\n",
      "atr_count3                    :  0.00%\n",
      "atr_count4                    :  0.00%\n",
      "atr_count6                    :  0.00%\n",
      "atr_count8                    :  0.00%\n",
      "atr_count9                    :  0.00%\n",
      "atr_count11                   :  0.00%\n",
      "atr_count13                   :  0.00%\n",
      "atr_count14                   :  0.00%\n",
      "atr_count15                   :  0.00%\n",
      "atr_count16                   :  0.00%\n",
      "atr_count17                   :  0.00%\n",
      "atr_count18                   :  0.00%\n",
      "atr_count19                   :  0.00%\n",
      "atr_count20                   :  0.00%\n",
      "atr_count21                   :  0.00%\n",
      "atr_count75                   :  0.00%\n",
      "atr_count76                   :  0.00%\n",
      "atr_count77                   :  0.00%\n",
      "atr_count10                   :  0.00%\n",
      "atr_mean76                    :  0.00%\n",
      "atr_mean77                    :  0.00%\n",
      "atr_mean78                    :  0.00%\n",
      "atr_mean10                    :  0.00%\n",
      "atr_last11                    :  0.00%\n",
      "atr_last76                    :  0.00%\n",
      "atr_last77                    :  0.00%\n",
      "atr_last78                    :  0.00%\n",
      "atr_last10                    :  0.00%\n",
      "atr_last96                    :  0.00%\n",
      "atr_max76                     :  0.00%\n",
      "atr_max77                     :  0.00%\n",
      "atr_max78                     :  0.00%\n",
      "atr_max10                     :  0.00%\n",
      "atr_max67                     :  0.00%\n",
      "atr_max96                     :  0.00%\n"
     ]
    }
   ],
   "source": [
    "print_feature_importance(xg_model1)"
   ]
  },
  {
   "cell_type": "markdown",
   "metadata": {
    "hidden": true
   },
   "source": [
    "----"
   ]
  },
  {
   "cell_type": "code",
   "execution_count": 80,
   "metadata": {
    "ExecuteTime": {
     "end_time": "2019-03-03T04:56:14.853287Z",
     "start_time": "2019-03-03T04:56:06.392233Z"
    },
    "hidden": true
   },
   "outputs": [],
   "source": [
    "train = df[df.anchor_date <= dt.date(2018, 11, 24)]\n",
    "\n",
    "x_train = train[feature_cols].values\n",
    "y2_train = train[['y2']]"
   ]
  },
  {
   "cell_type": "code",
   "execution_count": 81,
   "metadata": {
    "ExecuteTime": {
     "end_time": "2019-03-03T04:56:14.873705Z",
     "start_time": "2019-03-03T04:56:14.857073Z"
    },
    "hidden": true
   },
   "outputs": [
    {
     "data": {
      "text/plain": [
       "y2    25427.0\n",
       "dtype: float64"
      ]
     },
     "execution_count": 81,
     "metadata": {},
     "output_type": "execute_result"
    }
   ],
   "source": [
    "y2_train.sum()"
   ]
  },
  {
   "cell_type": "code",
   "execution_count": 82,
   "metadata": {
    "ExecuteTime": {
     "end_time": "2019-03-03T04:56:14.906769Z",
     "start_time": "2019-03-03T04:56:14.876013Z"
    },
    "hidden": true
   },
   "outputs": [
    {
     "data": {
      "text/plain": [
       "(1929779, 1)"
      ]
     },
     "execution_count": 82,
     "metadata": {},
     "output_type": "execute_result"
    }
   ],
   "source": [
    "y2_train.shape"
   ]
  },
  {
   "cell_type": "code",
   "execution_count": 83,
   "metadata": {
    "ExecuteTime": {
     "end_time": "2019-03-03T04:56:14.914818Z",
     "start_time": "2019-03-03T04:56:14.910305Z"
    },
    "hidden": true
   },
   "outputs": [
    {
     "data": {
      "text/plain": [
       "74.89487552601565"
      ]
     },
     "execution_count": 83,
     "metadata": {},
     "output_type": "execute_result"
    }
   ],
   "source": [
    "(1929779.0 - 25427.0) / 25427.0"
   ]
  },
  {
   "cell_type": "code",
   "execution_count": 84,
   "metadata": {
    "ExecuteTime": {
     "end_time": "2019-03-03T04:56:39.297331Z",
     "start_time": "2019-03-03T04:56:39.293248Z"
    },
    "hidden": true
   },
   "outputs": [],
   "source": [
    "params = {\n",
    "    'min_child_weight': 10.0,\n",
    "    'objective': 'binary:logistic',\n",
    "    'max_depth': 7,\n",
    "    'num_boost_round' : 700,\n",
    "    'n_estimators': 300,\n",
    "    'n_jobs': -1,\n",
    "    'scale_pos_weight': 74.0\n",
    "    }"
   ]
  },
  {
   "cell_type": "code",
   "execution_count": 85,
   "metadata": {
    "ExecuteTime": {
     "end_time": "2019-03-03T04:56:42.319262Z",
     "start_time": "2019-03-03T04:56:42.315406Z"
    },
    "hidden": true
   },
   "outputs": [],
   "source": [
    "xg_model2 = XGBClassifier(**params)"
   ]
  },
  {
   "cell_type": "code",
   "execution_count": 86,
   "metadata": {
    "ExecuteTime": {
     "end_time": "2019-03-03T05:03:15.456384Z",
     "start_time": "2019-03-03T04:56:42.912291Z"
    },
    "hidden": true
   },
   "outputs": [
    {
     "data": {
      "text/plain": [
       "XGBClassifier(base_score=0.5, booster='gbtree', colsample_bylevel=1,\n",
       "       colsample_bytree=1, gamma=0, learning_rate=0.1, max_delta_step=0,\n",
       "       max_depth=7, min_child_weight=10.0, missing=None, n_estimators=300,\n",
       "       n_jobs=-1, nthread=None, num_boost_round=700,\n",
       "       objective='binary:logistic', random_state=0, reg_alpha=0,\n",
       "       reg_lambda=1, scale_pos_weight=74.0, seed=None, silent=True,\n",
       "       subsample=1)"
      ]
     },
     "execution_count": 86,
     "metadata": {},
     "output_type": "execute_result"
    }
   ],
   "source": [
    "xg_model2.fit(x_train, y2_train)"
   ]
  },
  {
   "cell_type": "code",
   "execution_count": 87,
   "metadata": {
    "ExecuteTime": {
     "end_time": "2019-03-03T05:03:20.521894Z",
     "start_time": "2019-03-03T05:03:15.463543Z"
    },
    "hidden": true
   },
   "outputs": [
    {
     "data": {
      "text/plain": [
       "0.922508743229147"
      ]
     },
     "execution_count": 87,
     "metadata": {},
     "output_type": "execute_result"
    }
   ],
   "source": [
    "accuracy_score(y2_train, xg_model2.predict(x_train))"
   ]
  },
  {
   "cell_type": "code",
   "execution_count": 88,
   "metadata": {
    "ExecuteTime": {
     "end_time": "2019-03-03T05:03:25.345442Z",
     "start_time": "2019-03-03T05:03:20.523958Z"
    },
    "hidden": true
   },
   "outputs": [
    {
     "data": {
      "text/plain": [
       "0.9453127819743455"
      ]
     },
     "execution_count": 88,
     "metadata": {},
     "output_type": "execute_result"
    }
   ],
   "source": [
    "roc_auc_score(y2_train, xg_model2.predict(x_train))"
   ]
  },
  {
   "cell_type": "markdown",
   "metadata": {},
   "source": [
    "### y1 total train"
   ]
  },
  {
   "cell_type": "code",
   "execution_count": 19,
   "metadata": {
    "ExecuteTime": {
     "end_time": "2019-03-04T01:44:01.776801Z",
     "start_time": "2019-03-04T01:43:52.681740Z"
    }
   },
   "outputs": [],
   "source": [
    "train = df[df.anchor_date <= dt.date(2018, 12, 1)]\n",
    "\n",
    "x_train = train[feature_cols].values\n",
    "y1_train = train[['y1']]"
   ]
  },
  {
   "cell_type": "code",
   "execution_count": 20,
   "metadata": {
    "ExecuteTime": {
     "end_time": "2019-03-04T01:44:04.040723Z",
     "start_time": "2019-03-04T01:44:04.036312Z"
    }
   },
   "outputs": [
    {
     "data": {
      "text/plain": [
       "(3035024, 1)"
      ]
     },
     "execution_count": 20,
     "metadata": {},
     "output_type": "execute_result"
    }
   ],
   "source": [
    "y1_train.shape"
   ]
  },
  {
   "cell_type": "code",
   "execution_count": 21,
   "metadata": {
    "ExecuteTime": {
     "end_time": "2019-03-04T01:44:05.252589Z",
     "start_time": "2019-03-04T01:44:05.226182Z"
    }
   },
   "outputs": [
    {
     "data": {
      "text/plain": [
       "y1    36796.0\n",
       "dtype: float64"
      ]
     },
     "execution_count": 21,
     "metadata": {},
     "output_type": "execute_result"
    }
   ],
   "source": [
    "y1_train.sum()"
   ]
  },
  {
   "cell_type": "code",
   "execution_count": 22,
   "metadata": {
    "ExecuteTime": {
     "end_time": "2019-03-04T01:44:06.325201Z",
     "start_time": "2019-03-04T01:44:06.320627Z"
    }
   },
   "outputs": [
    {
     "data": {
      "text/plain": [
       "81.4824437438852"
      ]
     },
     "execution_count": 22,
     "metadata": {},
     "output_type": "execute_result"
    }
   ],
   "source": [
    "(3035024 - 36796.0) / 36796.0"
   ]
  },
  {
   "cell_type": "code",
   "execution_count": 23,
   "metadata": {
    "ExecuteTime": {
     "end_time": "2019-03-04T01:44:09.285647Z",
     "start_time": "2019-03-04T01:44:09.281661Z"
    }
   },
   "outputs": [],
   "source": [
    "params = {\n",
    "    'min_child_weight': 10.0,\n",
    "    'objective': 'binary:logistic',\n",
    "    'max_depth': 7,\n",
    "    'num_boost_round' : 500,\n",
    "    'n_estimators': 300,\n",
    "    'n_jobs': -1,\n",
    "    'scale_pos_weight': 75.0\n",
    "    }"
   ]
  },
  {
   "cell_type": "code",
   "execution_count": 24,
   "metadata": {
    "ExecuteTime": {
     "end_time": "2019-03-04T01:44:10.651835Z",
     "start_time": "2019-03-04T01:44:10.648568Z"
    }
   },
   "outputs": [],
   "source": [
    "xg_model1 = XGBClassifier(**params)"
   ]
  },
  {
   "cell_type": "code",
   "execution_count": 25,
   "metadata": {
    "ExecuteTime": {
     "end_time": "2019-03-04T01:54:03.378405Z",
     "start_time": "2019-03-04T01:44:19.220924Z"
    }
   },
   "outputs": [
    {
     "data": {
      "text/plain": [
       "XGBClassifier(base_score=0.5, booster='gbtree', colsample_bylevel=1,\n",
       "       colsample_bytree=1, gamma=0, learning_rate=0.1, max_delta_step=0,\n",
       "       max_depth=7, min_child_weight=10.0, missing=None, n_estimators=300,\n",
       "       n_jobs=-1, nthread=None, num_boost_round=500,\n",
       "       objective='binary:logistic', random_state=0, reg_alpha=0,\n",
       "       reg_lambda=1, scale_pos_weight=75.0, seed=None, silent=True,\n",
       "       subsample=1)"
      ]
     },
     "execution_count": 25,
     "metadata": {},
     "output_type": "execute_result"
    }
   ],
   "source": [
    "xg_model1.fit(x_train, y1_train)"
   ]
  },
  {
   "cell_type": "code",
   "execution_count": 26,
   "metadata": {
    "ExecuteTime": {
     "end_time": "2019-03-04T01:54:09.989627Z",
     "start_time": "2019-03-04T01:54:03.382559Z"
    }
   },
   "outputs": [
    {
     "data": {
      "text/plain": [
       "0.9806232174770282"
      ]
     },
     "execution_count": 26,
     "metadata": {},
     "output_type": "execute_result"
    }
   ],
   "source": [
    "accuracy_score(y1_train, xg_model1.predict(x_train))"
   ]
  },
  {
   "cell_type": "code",
   "execution_count": 27,
   "metadata": {
    "ExecuteTime": {
     "end_time": "2019-03-04T01:54:16.869551Z",
     "start_time": "2019-03-04T01:54:09.991740Z"
    }
   },
   "outputs": [
    {
     "data": {
      "text/plain": [
       "0.9878170718600007"
      ]
     },
     "execution_count": 27,
     "metadata": {},
     "output_type": "execute_result"
    }
   ],
   "source": [
    "roc_auc_score(y1_train, xg_model1.predict(x_train))"
   ]
  },
  {
   "cell_type": "code",
   "execution_count": 28,
   "metadata": {
    "ExecuteTime": {
     "end_time": "2019-03-04T01:54:16.875122Z",
     "start_time": "2019-03-04T01:54:16.872336Z"
    }
   },
   "outputs": [],
   "source": [
    "import pickle"
   ]
  },
  {
   "cell_type": "code",
   "execution_count": 29,
   "metadata": {
    "ExecuteTime": {
     "end_time": "2019-03-04T01:54:16.884575Z",
     "start_time": "2019-03-04T01:54:16.877285Z"
    }
   },
   "outputs": [],
   "source": [
    "pickle.dump(xg_model1, open(\"xg_model1.dat\", \"wb\"))"
   ]
  },
  {
   "cell_type": "code",
   "execution_count": 30,
   "metadata": {
    "ExecuteTime": {
     "end_time": "2019-03-04T01:54:16.888426Z",
     "start_time": "2019-03-04T01:54:16.886224Z"
    }
   },
   "outputs": [],
   "source": [
    "# xg_model1 = pickle.load(open(\"xg_model1.dat\", \"rb\"))"
   ]
  },
  {
   "cell_type": "code",
   "execution_count": 32,
   "metadata": {
    "ExecuteTime": {
     "end_time": "2019-03-04T01:55:11.003344Z",
     "start_time": "2019-03-04T01:55:11.000304Z"
    }
   },
   "outputs": [],
   "source": [
    "del train\n",
    "del y1_train\n",
    "del x_train"
   ]
  },
  {
   "cell_type": "code",
   "execution_count": 33,
   "metadata": {
    "ExecuteTime": {
     "end_time": "2019-03-04T01:55:12.228271Z",
     "start_time": "2019-03-04T01:55:11.659169Z"
    }
   },
   "outputs": [
    {
     "data": {
      "text/plain": [
       "1897"
      ]
     },
     "execution_count": 33,
     "metadata": {},
     "output_type": "execute_result"
    }
   ],
   "source": [
    "gc.collect()"
   ]
  },
  {
   "cell_type": "markdown",
   "metadata": {},
   "source": [
    "### y2 total train"
   ]
  },
  {
   "cell_type": "code",
   "execution_count": 34,
   "metadata": {
    "ExecuteTime": {
     "end_time": "2019-03-04T01:55:22.573450Z",
     "start_time": "2019-03-04T01:55:15.000393Z"
    }
   },
   "outputs": [],
   "source": [
    "train2 = df[df.anchor_date <= dt.date(2018, 11, 24)]\n",
    "\n",
    "x_train = train2[feature_cols].values\n",
    "y2_train = train2[['y2']]"
   ]
  },
  {
   "cell_type": "code",
   "execution_count": 35,
   "metadata": {
    "ExecuteTime": {
     "end_time": "2019-03-04T01:55:22.580227Z",
     "start_time": "2019-03-04T01:55:22.576024Z"
    }
   },
   "outputs": [
    {
     "data": {
      "text/plain": [
       "(2415725, 1)"
      ]
     },
     "execution_count": 35,
     "metadata": {},
     "output_type": "execute_result"
    }
   ],
   "source": [
    "y2_train.shape"
   ]
  },
  {
   "cell_type": "code",
   "execution_count": 36,
   "metadata": {
    "ExecuteTime": {
     "end_time": "2019-03-04T01:55:22.602284Z",
     "start_time": "2019-03-04T01:55:22.581766Z"
    }
   },
   "outputs": [
    {
     "data": {
      "text/plain": [
       "y2    50456.0\n",
       "dtype: float64"
      ]
     },
     "execution_count": 36,
     "metadata": {},
     "output_type": "execute_result"
    }
   ],
   "source": [
    "y2_train.sum()"
   ]
  },
  {
   "cell_type": "code",
   "execution_count": 85,
   "metadata": {
    "ExecuteTime": {
     "end_time": "2019-03-04T01:37:21.171469Z",
     "start_time": "2019-03-04T01:37:21.167102Z"
    }
   },
   "outputs": [
    {
     "data": {
      "text/plain": [
       "46.87785397177739"
      ]
     },
     "execution_count": 85,
     "metadata": {},
     "output_type": "execute_result"
    }
   ],
   "source": [
    "(2415725 - 50456.0) / 50456.0"
   ]
  },
  {
   "cell_type": "code",
   "execution_count": 47,
   "metadata": {
    "ExecuteTime": {
     "end_time": "2019-03-04T02:11:42.540873Z",
     "start_time": "2019-03-04T02:11:42.537153Z"
    }
   },
   "outputs": [],
   "source": [
    "params = {\n",
    "    'min_child_weight': 10.0,\n",
    "    'objective': 'binary:logistic',\n",
    "    'max_depth': 7,\n",
    "    'num_boost_round' : 500,\n",
    "    'n_estimators': 300,\n",
    "    'n_jobs': -1,\n",
    "    'scale_pos_weight': 45.0\n",
    "    }"
   ]
  },
  {
   "cell_type": "code",
   "execution_count": 48,
   "metadata": {
    "ExecuteTime": {
     "end_time": "2019-03-04T02:11:44.265373Z",
     "start_time": "2019-03-04T02:11:44.262190Z"
    }
   },
   "outputs": [],
   "source": [
    "xg_model2 = XGBClassifier(**params)"
   ]
  },
  {
   "cell_type": "code",
   "execution_count": 49,
   "metadata": {
    "ExecuteTime": {
     "end_time": "2019-03-04T02:19:19.175469Z",
     "start_time": "2019-03-04T02:11:44.910946Z"
    }
   },
   "outputs": [
    {
     "data": {
      "text/plain": [
       "XGBClassifier(base_score=0.5, booster='gbtree', colsample_bylevel=1,\n",
       "       colsample_bytree=1, gamma=0, learning_rate=0.1, max_delta_step=0,\n",
       "       max_depth=7, min_child_weight=10.0, missing=None, n_estimators=300,\n",
       "       n_jobs=-1, nthread=None, num_boost_round=500,\n",
       "       objective='binary:logistic', random_state=0, reg_alpha=0,\n",
       "       reg_lambda=1, scale_pos_weight=45.0, seed=None, silent=True,\n",
       "       subsample=1)"
      ]
     },
     "execution_count": 49,
     "metadata": {},
     "output_type": "execute_result"
    }
   ],
   "source": [
    "xg_model2.fit(x_train, y2_train)"
   ]
  },
  {
   "cell_type": "code",
   "execution_count": 50,
   "metadata": {
    "ExecuteTime": {
     "end_time": "2019-03-04T02:19:24.964348Z",
     "start_time": "2019-03-04T02:19:19.182035Z"
    }
   },
   "outputs": [
    {
     "data": {
      "text/plain": [
       "0.9797187179832142"
      ]
     },
     "execution_count": 50,
     "metadata": {},
     "output_type": "execute_result"
    }
   ],
   "source": [
    "accuracy_score(y2_train, xg_model2.predict(x_train))"
   ]
  },
  {
   "cell_type": "code",
   "execution_count": 51,
   "metadata": {
    "ExecuteTime": {
     "end_time": "2019-03-04T02:19:30.971857Z",
     "start_time": "2019-03-04T02:19:24.966395Z"
    },
    "scrolled": true
   },
   "outputs": [
    {
     "data": {
      "text/plain": [
       "0.978557959561948"
      ]
     },
     "execution_count": 51,
     "metadata": {},
     "output_type": "execute_result"
    }
   ],
   "source": [
    "roc_auc_score(y2_train, xg_model2.predict(x_train))"
   ]
  },
  {
   "cell_type": "code",
   "execution_count": 61,
   "metadata": {
    "ExecuteTime": {
     "end_time": "2019-03-04T02:20:47.261954Z",
     "start_time": "2019-03-04T02:20:47.256181Z"
    }
   },
   "outputs": [],
   "source": [
    "pickle.dump(xg_model2, open(\"xg_model2.dat\", \"wb\"))"
   ]
  },
  {
   "cell_type": "markdown",
   "metadata": {
    "heading_collapsed": true
   },
   "source": [
    "### Random forest"
   ]
  },
  {
   "cell_type": "code",
   "execution_count": 164,
   "metadata": {
    "ExecuteTime": {
     "end_time": "2019-03-03T03:11:18.794552Z",
     "start_time": "2019-03-03T03:11:17.898715Z"
    },
    "hidden": true
   },
   "outputs": [],
   "source": [
    "from sklearn.ensemble import RandomForestClassifier"
   ]
  },
  {
   "cell_type": "code",
   "execution_count": 178,
   "metadata": {
    "ExecuteTime": {
     "end_time": "2019-03-03T03:30:04.294730Z",
     "start_time": "2019-03-03T03:30:04.291064Z"
    },
    "hidden": true
   },
   "outputs": [],
   "source": [
    "rf1 = RandomForestClassifier(n_estimators=300, min_samples_leaf=50,\n",
    "                             n_jobs=-1, class_weight='balanced')"
   ]
  },
  {
   "cell_type": "code",
   "execution_count": 179,
   "metadata": {
    "ExecuteTime": {
     "end_time": "2019-03-03T03:34:25.687098Z",
     "start_time": "2019-03-03T03:30:08.414668Z"
    },
    "hidden": true
   },
   "outputs": [
    {
     "data": {
      "text/plain": [
       "RandomForestClassifier(bootstrap=True, class_weight='balanced',\n",
       "            criterion='gini', max_depth=None, max_features='auto',\n",
       "            max_leaf_nodes=None, min_impurity_decrease=0.0,\n",
       "            min_impurity_split=None, min_samples_leaf=50,\n",
       "            min_samples_split=2, min_weight_fraction_leaf=0.0,\n",
       "            n_estimators=300, n_jobs=-1, oob_score=False,\n",
       "            random_state=None, verbose=0, warm_start=False)"
      ]
     },
     "execution_count": 179,
     "metadata": {},
     "output_type": "execute_result"
    }
   ],
   "source": [
    "rf1.fit(x_train, y1_train)"
   ]
  },
  {
   "cell_type": "code",
   "execution_count": 180,
   "metadata": {
    "ExecuteTime": {
     "end_time": "2019-03-03T03:37:03.802829Z",
     "start_time": "2019-03-03T03:36:49.538729Z"
    },
    "hidden": true
   },
   "outputs": [
    {
     "data": {
      "text/plain": [
       "0.9673061008540356"
      ]
     },
     "execution_count": 180,
     "metadata": {},
     "output_type": "execute_result"
    }
   ],
   "source": [
    "accuracy_score(y1_train, rf1.predict(x_train))"
   ]
  },
  {
   "cell_type": "code",
   "execution_count": 181,
   "metadata": {
    "ExecuteTime": {
     "end_time": "2019-03-03T03:37:06.046181Z",
     "start_time": "2019-03-03T03:37:03.805352Z"
    },
    "hidden": true
   },
   "outputs": [
    {
     "data": {
      "text/plain": [
       "0.9793152098503443"
      ]
     },
     "execution_count": 181,
     "metadata": {},
     "output_type": "execute_result"
    }
   ],
   "source": [
    "accuracy_score(y1_test, rf1.predict(x_test))"
   ]
  },
  {
   "cell_type": "code",
   "execution_count": 182,
   "metadata": {
    "ExecuteTime": {
     "end_time": "2019-03-03T03:37:19.776116Z",
     "start_time": "2019-03-03T03:37:06.048215Z"
    },
    "hidden": true
   },
   "outputs": [
    {
     "data": {
      "text/plain": [
       "0.9710510802009252"
      ]
     },
     "execution_count": 182,
     "metadata": {},
     "output_type": "execute_result"
    }
   ],
   "source": [
    "roc_auc_score(y1_train, rf1.predict(x_train))"
   ]
  },
  {
   "cell_type": "code",
   "execution_count": 183,
   "metadata": {
    "ExecuteTime": {
     "end_time": "2019-03-03T03:37:21.641204Z",
     "start_time": "2019-03-03T03:37:19.778593Z"
    },
    "hidden": true
   },
   "outputs": [
    {
     "data": {
      "text/plain": [
       "0.9377755248413372"
      ]
     },
     "execution_count": 183,
     "metadata": {},
     "output_type": "execute_result"
    }
   ],
   "source": [
    "roc_auc_score(y1_test, rf1.predict(x_test))"
   ]
  },
  {
   "cell_type": "code",
   "execution_count": 171,
   "metadata": {
    "ExecuteTime": {
     "end_time": "2019-03-03T03:17:29.102822Z",
     "start_time": "2019-03-03T03:17:28.974437Z"
    },
    "hidden": true
   },
   "outputs": [
    {
     "name": "stdout",
     "output_type": "stream",
     "text": [
      "atr_mean16                    :  4.13%\n",
      "atr_max16                     :  3.86%\n",
      "atr_max66                     :  3.83%\n",
      "atr_max5                      :  3.63%\n",
      "atr_mean13                    :  3.62%\n",
      "atr_last66                    :  3.33%\n",
      "atr_mean66                    :  3.29%\n",
      "atr_last16                    :  3.17%\n",
      "atr_max6                      :  3.16%\n",
      "atr_max13                     :  3.10%\n",
      "atr_mean5                     :  2.60%\n",
      "atr_mean6                     :  2.52%\n",
      "atr_max9                      :  2.45%\n",
      "atr_last9                     :  1.74%\n",
      "total_session_time            :  1.69%\n",
      "atr_mean9                     :  1.64%\n",
      "atr_last13                    :  1.59%\n",
      "atr_max7                      :  1.56%\n",
      "atr_last6                     :  1.48%\n",
      "atr_mean10                    :  1.39%\n",
      "atr_mean7                     :  1.39%\n",
      "event_mean5                   :  1.35%\n",
      "atr_count10                   :  1.24%\n",
      "atr_last10                    :  1.19%\n",
      "atr_max10                     :  1.16%\n",
      "atr_last7                     :  1.07%\n",
      "mean_session_time             :  1.02%\n",
      "median_session_time           :  1.02%\n",
      "atr_count7                    :  1.01%\n",
      "user_age                      :  0.93%\n",
      "event_sum4                    :  0.90%\n",
      "event_mean4                   :  0.89%\n",
      "atr_mean15                    :  0.77%\n",
      "atr_mean14                    :  0.77%\n",
      "atr_count5                    :  0.75%\n",
      "atr_count66                   :  0.72%\n",
      "atr_count4                    :  0.71%\n",
      "event_mode4                   :  0.67%\n",
      "event_mode6                   :  0.66%\n",
      "event_sum6                    :  0.66%\n",
      "last_region                   :  0.66%\n",
      "atr_max14                     :  0.63%\n",
      "event_count6                  :  0.59%\n",
      "atr_count78                   :  0.56%\n",
      "event_sum7                    :  0.56%\n",
      "atr_max15                     :  0.53%\n",
      "event_mean0                   :  0.51%\n",
      "event_sum0                    :  0.51%\n",
      "t_sum_of_buys                 :  0.50%\n",
      "event_mode0                   :  0.50%\n",
      "t_no_of_buys                  :  0.50%\n",
      "event_count45                 :  0.49%\n",
      "atr_count77                   :  0.49%\n",
      "atr_count9                    :  0.48%\n",
      "last_country                  :  0.48%\n",
      "atr_max1                      :  0.47%\n",
      "event_mean6                   :  0.45%\n",
      "atr_last14                    :  0.44%\n",
      "event_count0                  :  0.43%\n",
      "event_sum40                   :  0.43%\n",
      "last_city                     :  0.39%\n",
      "last_locale                   :  0.39%\n",
      "atr_max19                     :  0.37%\n",
      "event_sum5                    :  0.36%\n",
      "atr_mean1                     :  0.36%\n",
      "atr_mean77                    :  0.36%\n",
      "no_of_buys                    :  0.34%\n",
      "event_mean7                   :  0.32%\n",
      "event_count40                 :  0.32%\n",
      "t_total_session_time          :  0.32%\n",
      "atr_count1                    :  0.30%\n",
      "atr_count16                   :  0.30%\n",
      "atr_mean18                    :  0.30%\n",
      "atr_last1                     :  0.29%\n",
      "atr_count21                   :  0.29%\n",
      "atr_count13                   :  0.29%\n",
      "event_count7                  :  0.29%\n",
      "atr_count14                   :  0.29%\n",
      "atr_count6                    :  0.28%\n",
      "atr_mean8                     :  0.27%\n",
      "event_mode5                   :  0.26%\n",
      "atr_last15                    :  0.25%\n",
      "event_mode7                   :  0.25%\n",
      "atr_mean19                    :  0.24%\n",
      "atr_last18                    :  0.24%\n",
      "sum_of_buys                   :  0.22%\n",
      "event_count1                  :  0.22%\n",
      "atr_max18                     :  0.21%\n",
      "event_count14                 :  0.19%\n",
      "atr_last19                    :  0.19%\n",
      "atr_last8                     :  0.18%\n",
      "atr_last5                     :  0.18%\n",
      "atr_mean20                    :  0.18%\n",
      "atr_max8                      :  0.17%\n",
      "atr_mean4                     :  0.16%\n",
      "t_no_sessions                 :  0.16%\n",
      "atr_mean75                    :  0.16%\n",
      "event_count5                  :  0.15%\n",
      "event_count97                 :  0.15%\n",
      "pst_wk1_total_session_time    :  0.14%\n",
      "pst_wk1_last_region           :  0.14%\n",
      "event_count42                 :  0.13%\n",
      "pst_wk1_mean_session_time     :  0.13%\n",
      "event_count4                  :  0.13%\n",
      "pst_wk1_median_session_time   :  0.13%\n",
      "event_count3                  :  0.12%\n",
      "atr_last77                    :  0.11%\n",
      "no_sessions                   :  0.11%\n",
      "pst_wk1_last_city             :  0.11%\n",
      "atr_max77                     :  0.11%\n",
      "pst_wk1_no_sessions           :  0.11%\n",
      "atr_max4                      :  0.10%\n",
      "pst_wk1_last_country          :  0.10%\n",
      "atr_last4                     :  0.10%\n",
      "event_count41                 :  0.10%\n",
      "atr_mean21                    :  0.10%\n",
      "atr_count17                   :  0.10%\n",
      "atr_last75                    :  0.10%\n",
      "atr_count19                   :  0.09%\n",
      "atr_max75                     :  0.09%\n",
      "pst_wk1_last_locale           :  0.09%\n",
      "atr_count20                   :  0.09%\n",
      "atr_mean67                    :  0.09%\n",
      "atr_count0                    :  0.08%\n",
      "atr_count67                   :  0.08%\n",
      "atr_count75                   :  0.08%\n",
      "atr_count15                   :  0.08%\n",
      "event_mean42                  :  0.08%\n",
      "atr_mean0                     :  0.08%\n",
      "atr_count11                   :  0.08%\n",
      "atr_last20                    :  0.08%\n",
      "atr_count18                   :  0.07%\n",
      "pst_wk2_total_session_time    :  0.07%\n",
      "atr_mean17                    :  0.07%\n",
      "event_mode41                  :  0.07%\n",
      "event_mode44                  :  0.07%\n",
      "event_mode42                  :  0.07%\n",
      "pst_wk2_median_session_time   :  0.07%\n",
      "atr_count3                    :  0.07%\n",
      "pst_wk2_mean_session_time     :  0.07%\n",
      "atr_count76                   :  0.07%\n",
      "no_city                       :  0.07%\n",
      "atr_count8                    :  0.07%\n",
      "atr_max20                     :  0.06%\n",
      "event_count98                 :  0.06%\n",
      "event_mean41                  :  0.06%\n",
      "event_mean97                  :  0.06%\n",
      "event_sum42                   :  0.06%\n",
      "pst_wk2_last_region           :  0.06%\n",
      "event_sum44                   :  0.06%\n",
      "event_sum3                    :  0.06%\n",
      "event_sum97                   :  0.06%\n",
      "event_mean44                  :  0.06%\n",
      "pst_wk2_no_sessions           :  0.06%\n",
      "pst_wk1_sum_of_buys           :  0.05%\n",
      "event_sum41                   :  0.05%\n",
      "event_count44                 :  0.05%\n",
      "event_mean45                  :  0.05%\n",
      "pst_wk2_last_city             :  0.05%\n",
      "event_mode3                   :  0.05%\n",
      "atr_last67                    :  0.04%\n",
      "event_mean3                   :  0.04%\n",
      "atr_max67                     :  0.04%\n",
      "pst_wk3_total_session_time    :  0.04%\n",
      "atr_mean11                    :  0.04%\n",
      "pst_wk2_last_country          :  0.04%\n",
      "pst_wk3_last_region           :  0.04%\n",
      "pst_wk3_median_session_time   :  0.04%\n",
      "event_mean1                   :  0.04%\n",
      "pst_wk3_mean_session_time     :  0.04%\n",
      "event_sum1                    :  0.04%\n",
      "event_mode1                   :  0.04%\n",
      "pst_wk1_no_of_buys            :  0.04%\n",
      "region_count                  :  0.04%\n",
      "pst_wk3_no_sessions           :  0.04%\n",
      "atr_max21                     :  0.04%\n",
      "event_mode97                  :  0.04%\n",
      "pst_wk2_last_locale           :  0.03%\n",
      "atr_max17                     :  0.03%\n",
      "atr_max78                     :  0.03%\n",
      "pst_wk3_last_city             :  0.03%\n",
      "atr_max0                      :  0.03%\n",
      "atr_last78                    :  0.03%\n",
      "atr_last17                    :  0.03%\n",
      "event_sum14                   :  0.03%\n",
      "event_mode14                  :  0.03%\n",
      "pst_wk1_no_city               :  0.03%\n",
      "atr_last21                    :  0.03%\n",
      "event_mean14                  :  0.03%\n",
      "pst_wk1_region_count          :  0.03%\n",
      "atr_last0                     :  0.03%\n",
      "atr_max11                     :  0.03%\n",
      "event_mode11                  :  0.03%\n",
      "event_sum11                   :  0.03%\n",
      "event_mean11                  :  0.03%\n",
      "pst_wk4_mean_session_time     :  0.03%\n",
      "atr_last11                    :  0.03%\n",
      "event_mean98                  :  0.02%\n",
      "event_mode98                  :  0.02%\n",
      "pst_wk4_total_session_time    :  0.02%\n",
      "pst_wk3_last_locale           :  0.02%\n",
      "event_sum98                   :  0.02%\n",
      "pst_wk2_sum_of_buys           :  0.02%\n",
      "pst_wk4_median_session_time   :  0.02%\n",
      "pst_wk4_last_region           :  0.02%\n",
      "pst_wk3_last_country          :  0.02%\n",
      "pst_wk4_no_sessions           :  0.02%\n",
      "atr_mean78                    :  0.02%\n",
      "event_mode40                  :  0.02%\n",
      "pst_wk2_no_city               :  0.02%\n",
      "event_mean40                  :  0.02%\n",
      "event_count11                 :  0.02%\n",
      "pst_wk2_no_of_buys            :  0.02%\n",
      "pst_wk4_last_city             :  0.02%\n",
      "pst_wk3_no_city               :  0.02%\n",
      "event_count9                  :  0.02%\n",
      "pst_wk2_region_count          :  0.02%\n",
      "event_sum9                    :  0.02%\n",
      "pst_wk3_no_of_buys            :  0.02%\n",
      "pst_wk4_last_locale           :  0.02%\n",
      "pst_wk4_last_country          :  0.01%\n",
      "atr_mean3                     :  0.01%\n",
      "event_mode45                  :  0.01%\n",
      "event_sum45                   :  0.01%\n",
      "event_mode9                   :  0.01%\n",
      "event_mean9                   :  0.01%\n",
      "pst_wk3_sum_of_buys           :  0.01%\n",
      "pst_wk3_region_count          :  0.01%\n",
      "atr_max3                      :  0.01%\n",
      "pst_wk4_no_city               :  0.01%\n",
      "pst_wk4_sum_of_buys           :  0.01%\n",
      "event_count43                 :  0.01%\n",
      "event_mode43                  :  0.01%\n",
      "event_sum43                   :  0.01%\n",
      "pst_wk4_no_of_buys            :  0.01%\n",
      "pst_wk4_region_count          :  0.01%\n",
      "event_mean43                  :  0.01%\n",
      "atr_count96                   :  0.01%\n",
      "atr_last3                     :  0.01%\n",
      "atr_last76                    :  0.01%\n",
      "atr_mean76                    :  0.01%\n",
      "atr_mean96                    :  0.00%\n",
      "atr_last96                    :  0.00%\n",
      "atr_max96                     :  0.00%\n",
      "atr_max76                     :  0.00%\n",
      "event_mode10                  :  0.00%\n",
      "event_count10                 :  0.00%\n",
      "event_sum10                   :  0.00%\n",
      "event_mean10                  :  0.00%\n",
      "event_count47                 :  0.00%\n",
      "event_count51                 :  0.00%\n",
      "event_count58                 :  0.00%\n",
      "event_count50                 :  0.00%\n",
      "event_count54                 :  0.00%\n",
      "event_count59                 :  0.00%\n",
      "event_count49                 :  0.00%\n",
      "event_count56                 :  0.00%\n",
      "event_count99                 :  0.00%\n",
      "event_count63                 :  0.00%\n",
      "event_count48                 :  0.00%\n",
      "event_count52                 :  0.00%\n",
      "event_count55                 :  0.00%\n",
      "event_count60                 :  0.00%\n",
      "event_count57                 :  0.00%\n",
      "event_count64                 :  0.00%\n",
      "event_count32                 :  0.00%\n",
      "event_count61                 :  0.00%\n",
      "event_count0/                 :  0.00%\n",
      "event_count1/                 :  0.00%\n",
      "event_count62                 :  0.00%\n",
      "event_sum47                   :  0.00%\n",
      "event_sum51                   :  0.00%\n",
      "event_sum58                   :  0.00%\n",
      "event_sum50                   :  0.00%\n",
      "event_sum54                   :  0.00%\n",
      "event_sum59                   :  0.00%\n",
      "event_sum49                   :  0.00%\n",
      "event_sum56                   :  0.00%\n",
      "event_sum99                   :  0.00%\n",
      "event_sum63                   :  0.00%\n",
      "event_sum48                   :  0.00%\n",
      "event_sum52                   :  0.00%\n",
      "event_sum55                   :  0.00%\n",
      "event_sum60                   :  0.00%\n",
      "event_sum57                   :  0.00%\n",
      "event_sum64                   :  0.00%\n",
      "event_sum32                   :  0.00%\n",
      "event_sum61                   :  0.00%\n",
      "event_sum0/                   :  0.00%\n",
      "event_sum1/                   :  0.00%\n",
      "event_sum62                   :  0.00%\n",
      "event_mean47                  :  0.00%\n",
      "event_mean51                  :  0.00%\n",
      "event_mean58                  :  0.00%\n",
      "event_mean50                  :  0.00%\n",
      "event_mean54                  :  0.00%\n",
      "event_mean59                  :  0.00%\n",
      "event_mean49                  :  0.00%\n",
      "event_mean56                  :  0.00%\n",
      "event_mean99                  :  0.00%\n",
      "event_mean63                  :  0.00%\n",
      "event_mean48                  :  0.00%\n",
      "event_mean52                  :  0.00%\n",
      "event_mean55                  :  0.00%\n",
      "event_mean60                  :  0.00%\n",
      "event_mean57                  :  0.00%\n",
      "event_mean64                  :  0.00%\n",
      "event_mean32                  :  0.00%\n",
      "event_mean61                  :  0.00%\n",
      "event_mean0/                  :  0.00%\n",
      "event_mean1/                  :  0.00%\n",
      "event_mean62                  :  0.00%\n",
      "event_mode47                  :  0.00%\n",
      "event_mode51                  :  0.00%\n",
      "event_mode58                  :  0.00%\n",
      "event_mode50                  :  0.00%\n",
      "event_mode54                  :  0.00%\n",
      "event_mode59                  :  0.00%\n",
      "event_mode49                  :  0.00%\n",
      "event_mode56                  :  0.00%\n",
      "event_mode99                  :  0.00%\n",
      "event_mode63                  :  0.00%\n",
      "event_mode48                  :  0.00%\n",
      "event_mode52                  :  0.00%\n",
      "event_mode55                  :  0.00%\n",
      "event_mode60                  :  0.00%\n",
      "event_mode57                  :  0.00%\n",
      "event_mode64                  :  0.00%\n",
      "event_mode32                  :  0.00%\n",
      "event_mode61                  :  0.00%\n",
      "event_mode0/                  :  0.00%\n",
      "event_mode1/                  :  0.00%\n",
      "event_mode62                  :  0.00%\n"
     ]
    }
   ],
   "source": [
    "print_feature_importance(rf1)"
   ]
  },
  {
   "cell_type": "markdown",
   "metadata": {
    "hidden": true
   },
   "source": [
    "rf is over fitting"
   ]
  },
  {
   "cell_type": "markdown",
   "metadata": {
    "heading_collapsed": true
   },
   "source": [
    "# Whole data"
   ]
  },
  {
   "cell_type": "code",
   "execution_count": 260,
   "metadata": {
    "ExecuteTime": {
     "end_time": "2019-02-27T06:21:32.599459Z",
     "start_time": "2019-02-27T06:21:31.255933Z"
    },
    "hidden": true
   },
   "outputs": [],
   "source": [
    "df = df[df.anchor_date >= dt.date(2018, 10, 1)]"
   ]
  },
  {
   "cell_type": "code",
   "execution_count": 262,
   "metadata": {
    "ExecuteTime": {
     "end_time": "2019-02-27T06:21:46.111393Z",
     "start_time": "2019-02-27T06:21:46.071736Z"
    },
    "hidden": true
   },
   "outputs": [
    {
     "data": {
      "text/plain": [
       "Timestamp('2018-12-14 00:00:00')"
      ]
     },
     "execution_count": 262,
     "metadata": {},
     "output_type": "execute_result"
    }
   ],
   "source": [
    "df.anchor_date.max()"
   ]
  },
  {
   "cell_type": "code",
   "execution_count": 263,
   "metadata": {
    "ExecuteTime": {
     "end_time": "2019-02-27T06:22:48.730495Z",
     "start_time": "2019-02-27T06:22:47.905919Z"
    },
    "hidden": true
   },
   "outputs": [],
   "source": [
    "df = df[df.anchor_date <= dt.datetime(2018, 12, 8)]"
   ]
  },
  {
   "cell_type": "code",
   "execution_count": 264,
   "metadata": {
    "ExecuteTime": {
     "end_time": "2019-02-27T06:22:51.201035Z",
     "start_time": "2019-02-27T06:22:51.195952Z"
    },
    "hidden": true
   },
   "outputs": [
    {
     "data": {
      "text/plain": [
       "(6652857, 17)"
      ]
     },
     "execution_count": 264,
     "metadata": {},
     "output_type": "execute_result"
    }
   ],
   "source": [
    "df.shape"
   ]
  },
  {
   "cell_type": "code",
   "execution_count": 265,
   "metadata": {
    "ExecuteTime": {
     "end_time": "2019-02-27T06:23:02.901900Z",
     "start_time": "2019-02-27T06:23:02.895549Z"
    },
    "hidden": true
   },
   "outputs": [],
   "source": [
    "df.reset_index(inplace=True, drop=True)"
   ]
  },
  {
   "cell_type": "code",
   "execution_count": 266,
   "metadata": {
    "ExecuteTime": {
     "end_time": "2019-02-27T06:23:20.916508Z",
     "start_time": "2019-02-27T06:23:20.278685Z"
    },
    "hidden": true
   },
   "outputs": [],
   "source": [
    "df.user_id_hash = df.user_id_hash.cat.codes\n",
    "df.last_city = df.last_city.cat.codes\n",
    "df.last_country = df.last_country.cat.codes\n",
    "df.last_region = df.last_region.cat.codes\n",
    "df.last_locale = df.last_locale.cat.codes"
   ]
  },
  {
   "cell_type": "code",
   "execution_count": 267,
   "metadata": {
    "ExecuteTime": {
     "end_time": "2019-02-27T06:23:32.319807Z",
     "start_time": "2019-02-27T06:23:32.271441Z"
    },
    "hidden": true
   },
   "outputs": [],
   "source": [
    "df['y1'] = df['y1'].astype(np.int)\n",
    "df['y2'] = df['y2'].astype(np.int)"
   ]
  },
  {
   "cell_type": "code",
   "execution_count": 268,
   "metadata": {
    "ExecuteTime": {
     "end_time": "2019-02-27T06:23:43.562365Z",
     "start_time": "2019-02-27T06:23:41.512665Z"
    },
    "hidden": true
   },
   "outputs": [
    {
     "data": {
      "text/plain": [
       "anchor_date            0\n",
       "user_id_hash           0\n",
       "no_sessions            0\n",
       "no_city                0\n",
       "last_city              0\n",
       "last_country           0\n",
       "last_region            0\n",
       "region_count           0\n",
       "last_locale            0\n",
       "total_session_time     0\n",
       "mean_session_time      0\n",
       "median_session_time    0\n",
       "no_of_buys             0\n",
       "sum_of_buys            0\n",
       "y1                     0\n",
       "y2                     0\n",
       "user_age               0\n",
       "dtype: int64"
      ]
     },
     "execution_count": 268,
     "metadata": {},
     "output_type": "execute_result"
    }
   ],
   "source": [
    "df.isna().sum()"
   ]
  },
  {
   "cell_type": "code",
   "execution_count": 269,
   "metadata": {
    "ExecuteTime": {
     "end_time": "2019-02-27T06:23:59.854605Z",
     "start_time": "2019-02-27T06:23:59.153045Z"
    },
    "hidden": true
   },
   "outputs": [],
   "source": [
    "train = df[df.anchor_date < dt.date(2018, 12, 1)]"
   ]
  },
  {
   "cell_type": "code",
   "execution_count": 270,
   "metadata": {
    "ExecuteTime": {
     "end_time": "2019-02-27T06:24:39.675229Z",
     "start_time": "2019-02-27T06:24:39.643679Z"
    },
    "hidden": true
   },
   "outputs": [],
   "source": [
    "test = df[df.anchor_date == dt.date(2018, 12, 1)]"
   ]
  },
  {
   "cell_type": "code",
   "execution_count": 271,
   "metadata": {
    "ExecuteTime": {
     "end_time": "2019-02-27T06:24:43.578559Z",
     "start_time": "2019-02-27T06:24:43.574472Z"
    },
    "hidden": true
   },
   "outputs": [
    {
     "data": {
      "text/plain": [
       "(49600, 17)"
      ]
     },
     "execution_count": 271,
     "metadata": {},
     "output_type": "execute_result"
    }
   ],
   "source": [
    "test.shape"
   ]
  },
  {
   "cell_type": "code",
   "execution_count": 274,
   "metadata": {
    "ExecuteTime": {
     "end_time": "2019-02-27T06:25:07.616352Z",
     "start_time": "2019-02-27T06:25:06.555647Z"
    },
    "hidden": true
   },
   "outputs": [],
   "source": [
    "x_train = train[feature_cols].values\n",
    "y1_train = train[['y1']]\n",
    "y2_train = train[['y2']]\n",
    "\n",
    "x_test = test[feature_cols].values\n",
    "y1_test = test[['y1']]\n",
    "y2_test = test[['y2']]"
   ]
  },
  {
   "cell_type": "code",
   "execution_count": 275,
   "metadata": {
    "ExecuteTime": {
     "end_time": "2019-02-27T06:25:15.919137Z",
     "start_time": "2019-02-27T06:25:15.914914Z"
    },
    "hidden": true
   },
   "outputs": [],
   "source": [
    "feature_cols = ['no_sessions', 'no_city', 'last_city',\n",
    "                'last_country', 'last_region', 'region_count', 'last_locale',\n",
    "                'total_session_time', 'mean_session_time', 'median_session_time',\n",
    "                'no_of_buys', 'sum_of_buys', 'user_age']"
   ]
  },
  {
   "cell_type": "code",
   "execution_count": 276,
   "metadata": {
    "ExecuteTime": {
     "end_time": "2019-02-27T06:25:37.966927Z",
     "start_time": "2019-02-27T06:25:37.962561Z"
    },
    "hidden": true
   },
   "outputs": [],
   "source": [
    "rf1 = RandomForestClassifier(n_estimators=300, min_samples_leaf=10, n_jobs=-1)"
   ]
  },
  {
   "cell_type": "code",
   "execution_count": 277,
   "metadata": {
    "ExecuteTime": {
     "end_time": "2019-02-27T06:44:16.253692Z",
     "start_time": "2019-02-27T06:26:08.105332Z"
    },
    "hidden": true
   },
   "outputs": [
    {
     "data": {
      "text/plain": [
       "RandomForestClassifier(bootstrap=True, class_weight=None, criterion='gini',\n",
       "            max_depth=None, max_features='auto', max_leaf_nodes=None,\n",
       "            min_impurity_decrease=0.0, min_impurity_split=None,\n",
       "            min_samples_leaf=10, min_samples_split=2,\n",
       "            min_weight_fraction_leaf=0.0, n_estimators=300, n_jobs=-1,\n",
       "            oob_score=False, random_state=None, verbose=0,\n",
       "            warm_start=False)"
      ]
     },
     "execution_count": 277,
     "metadata": {},
     "output_type": "execute_result"
    }
   ],
   "source": [
    "rf1.fit(x_train, y1_train)"
   ]
  },
  {
   "cell_type": "code",
   "execution_count": 218,
   "metadata": {
    "ExecuteTime": {
     "end_time": "2019-02-27T05:47:39.691239Z",
     "start_time": "2019-02-27T05:47:30.642630Z"
    },
    "hidden": true
   },
   "outputs": [
    {
     "data": {
      "text/plain": [
       "0.9751309585713738"
      ]
     },
     "execution_count": 218,
     "metadata": {},
     "output_type": "execute_result"
    }
   ],
   "source": [
    "accuracy_score(y1_train, rf1.predict(x_train))"
   ]
  },
  {
   "cell_type": "code",
   "execution_count": 278,
   "metadata": {
    "ExecuteTime": {
     "end_time": "2019-02-27T06:44:43.974198Z",
     "start_time": "2019-02-27T06:44:43.356771Z"
    },
    "hidden": true
   },
   "outputs": [
    {
     "data": {
      "text/plain": [
       "0.9546774193548387"
      ]
     },
     "execution_count": 278,
     "metadata": {},
     "output_type": "execute_result"
    }
   ],
   "source": [
    "accuracy_score(y1_test, rf1.predict(x_test))"
   ]
  },
  {
   "cell_type": "code",
   "execution_count": 220,
   "metadata": {
    "ExecuteTime": {
     "end_time": "2019-02-27T05:47:49.468097Z",
     "start_time": "2019-02-27T05:47:40.317330Z"
    },
    "hidden": true
   },
   "outputs": [
    {
     "data": {
      "text/plain": [
       "0.687500406308949"
      ]
     },
     "execution_count": 220,
     "metadata": {},
     "output_type": "execute_result"
    }
   ],
   "source": [
    "roc_auc_score(y1_train, rf1.predict(x_train))"
   ]
  },
  {
   "cell_type": "code",
   "execution_count": 279,
   "metadata": {
    "ExecuteTime": {
     "end_time": "2019-02-27T06:44:47.733166Z",
     "start_time": "2019-02-27T06:44:47.209120Z"
    },
    "hidden": true
   },
   "outputs": [
    {
     "data": {
      "text/plain": [
       "0.662303911233751"
      ]
     },
     "execution_count": 279,
     "metadata": {},
     "output_type": "execute_result"
    }
   ],
   "source": [
    "roc_auc_score(y1_test, rf1.predict(x_test))"
   ]
  },
  {
   "cell_type": "code",
   "execution_count": 280,
   "metadata": {
    "ExecuteTime": {
     "end_time": "2019-02-27T06:44:55.247651Z",
     "start_time": "2019-02-27T06:44:55.135990Z"
    },
    "hidden": true
   },
   "outputs": [
    {
     "name": "stdout",
     "output_type": "stream",
     "text": [
      "sum_of_buys                   : 27.28%\n",
      "no_of_buys                    : 24.21%\n",
      "total_session_time            :  8.61%\n",
      "mean_session_time             :  7.22%\n",
      "median_session_time           :  7.00%\n",
      "user_age                      :  6.39%\n",
      "no_sessions                   :  5.52%\n",
      "last_region                   :  4.35%\n",
      "last_city                     :  3.95%\n",
      "last_locale                   :  1.89%\n",
      "last_country                  :  1.65%\n",
      "no_city                       :  1.27%\n",
      "region_count                  :  0.66%\n"
     ]
    }
   ],
   "source": [
    "print_feature_importance(rf1)"
   ]
  },
  {
   "cell_type": "markdown",
   "metadata": {
    "heading_collapsed": true
   },
   "source": [
    "# With Events and subset"
   ]
  },
  {
   "cell_type": "code",
   "execution_count": 135,
   "metadata": {
    "ExecuteTime": {
     "end_time": "2019-03-03T23:49:35.325053Z",
     "start_time": "2019-03-03T23:49:29.018976Z"
    },
    "hidden": true
   },
   "outputs": [],
   "source": [
    "events = pd.read_pickle('../../events_roll_agg.pkl')"
   ]
  },
  {
   "cell_type": "code",
   "execution_count": 136,
   "metadata": {
    "ExecuteTime": {
     "end_time": "2019-03-03T23:49:52.990767Z",
     "start_time": "2019-03-03T23:49:36.546906Z"
    },
    "hidden": true
   },
   "outputs": [],
   "source": [
    "attrib = pd.read_pickle('../../attributes_agg2.pkl')"
   ]
  },
  {
   "cell_type": "code",
   "execution_count": 137,
   "metadata": {
    "ExecuteTime": {
     "end_time": "2019-03-03T23:49:55.284968Z",
     "start_time": "2019-03-03T23:49:55.280407Z"
    },
    "hidden": true
   },
   "outputs": [
    {
     "data": {
      "text/plain": [
       "datetime.date(2018, 12, 8)"
      ]
     },
     "execution_count": 137,
     "metadata": {},
     "output_type": "execute_result"
    }
   ],
   "source": [
    "x"
   ]
  },
  {
   "cell_type": "code",
   "execution_count": 138,
   "metadata": {
    "ExecuteTime": {
     "end_time": "2019-03-03T23:49:57.131149Z",
     "start_time": "2019-03-03T23:49:57.128291Z"
    },
    "hidden": true
   },
   "outputs": [],
   "source": [
    "# df = df[df.anchor_date.isin([x - dt.timedelta(days=7*i) for i in range(10)])]"
   ]
  },
  {
   "cell_type": "code",
   "execution_count": 139,
   "metadata": {
    "ExecuteTime": {
     "end_time": "2019-03-03T23:49:58.526253Z",
     "start_time": "2019-03-03T23:49:58.521937Z"
    },
    "hidden": true
   },
   "outputs": [
    {
     "data": {
      "text/plain": [
       "(3654559, 69)"
      ]
     },
     "execution_count": 139,
     "metadata": {},
     "output_type": "execute_result"
    }
   ],
   "source": [
    "df.shape"
   ]
  },
  {
   "cell_type": "code",
   "execution_count": 134,
   "metadata": {
    "ExecuteTime": {
     "end_time": "2019-03-03T23:49:27.679179Z",
     "start_time": "2019-03-03T23:49:04.557398Z"
    },
    "hidden": true
   },
   "outputs": [],
   "source": [
    "df.to_pickle('../../datav1.pkl')"
   ]
  },
  {
   "cell_type": "code",
   "execution_count": 140,
   "metadata": {
    "ExecuteTime": {
     "end_time": "2019-03-03T23:50:14.513568Z",
     "start_time": "2019-03-03T23:50:14.508585Z"
    },
    "hidden": true
   },
   "outputs": [
    {
     "data": {
      "text/plain": [
       "(56566389, 7)"
      ]
     },
     "execution_count": 140,
     "metadata": {},
     "output_type": "execute_result"
    }
   ],
   "source": [
    "events.shape"
   ]
  },
  {
   "cell_type": "code",
   "execution_count": 141,
   "metadata": {
    "ExecuteTime": {
     "end_time": "2019-03-03T23:50:15.383209Z",
     "start_time": "2019-03-03T23:50:15.378802Z"
    },
    "hidden": true
   },
   "outputs": [
    {
     "data": {
      "text/plain": [
       "(24242895, 7)"
      ]
     },
     "execution_count": 141,
     "metadata": {},
     "output_type": "execute_result"
    }
   ],
   "source": [
    "attrib.shape"
   ]
  },
  {
   "cell_type": "code",
   "execution_count": 142,
   "metadata": {
    "ExecuteTime": {
     "end_time": "2019-03-03T23:50:20.115045Z",
     "start_time": "2019-03-03T23:50:17.715364Z"
    },
    "hidden": true
   },
   "outputs": [],
   "source": [
    "events = events[events.anchor_date.isin([x - dt.timedelta(days=7*i) \n",
    "                                         for i in range(11)])]"
   ]
  },
  {
   "cell_type": "code",
   "execution_count": 143,
   "metadata": {
    "ExecuteTime": {
     "end_time": "2019-03-03T23:50:20.121642Z",
     "start_time": "2019-03-03T23:50:20.117718Z"
    },
    "hidden": true
   },
   "outputs": [
    {
     "data": {
      "text/plain": [
       "(8019130, 7)"
      ]
     },
     "execution_count": 143,
     "metadata": {},
     "output_type": "execute_result"
    }
   ],
   "source": [
    "events.shape"
   ]
  },
  {
   "cell_type": "code",
   "execution_count": 144,
   "metadata": {
    "ExecuteTime": {
     "end_time": "2019-03-03T23:50:22.498028Z",
     "start_time": "2019-03-03T23:50:21.365246Z"
    },
    "hidden": true
   },
   "outputs": [
    {
     "data": {
      "text/plain": [
       "24242895"
      ]
     },
     "execution_count": 144,
     "metadata": {},
     "output_type": "execute_result"
    }
   ],
   "source": [
    "attrib.anchor_date.isin([x - dt.timedelta(days=7*i)\n",
    "                         for i in range(11)]).sum()"
   ]
  },
  {
   "cell_type": "code",
   "execution_count": 145,
   "metadata": {
    "ExecuteTime": {
     "end_time": "2019-03-03T23:50:25.571238Z",
     "start_time": "2019-03-03T23:50:22.500484Z"
    },
    "hidden": true
   },
   "outputs": [],
   "source": [
    "attrib = attrib[attrib.anchor_date.isin([x - dt.timedelta(days=7*i)\n",
    "                                         for i in range(11)])]"
   ]
  },
  {
   "cell_type": "code",
   "execution_count": 146,
   "metadata": {
    "ExecuteTime": {
     "end_time": "2019-03-03T23:50:26.571973Z",
     "start_time": "2019-03-03T23:50:26.567659Z"
    },
    "hidden": true
   },
   "outputs": [
    {
     "data": {
      "text/plain": [
       "(24242895, 7)"
      ]
     },
     "execution_count": 146,
     "metadata": {},
     "output_type": "execute_result"
    }
   ],
   "source": [
    "attrib.shape"
   ]
  },
  {
   "cell_type": "code",
   "execution_count": 147,
   "metadata": {
    "ExecuteTime": {
     "end_time": "2019-03-03T23:50:28.169105Z",
     "start_time": "2019-03-03T23:50:27.529257Z"
    },
    "hidden": true
   },
   "outputs": [],
   "source": [
    "events = events[events.event != '8']"
   ]
  },
  {
   "cell_type": "code",
   "execution_count": 148,
   "metadata": {
    "ExecuteTime": {
     "end_time": "2019-03-03T23:50:28.186706Z",
     "start_time": "2019-03-03T23:50:28.171823Z"
    },
    "hidden": true
   },
   "outputs": [
    {
     "data": {
      "text/html": [
       "<div>\n",
       "<style scoped>\n",
       "    .dataframe tbody tr th:only-of-type {\n",
       "        vertical-align: middle;\n",
       "    }\n",
       "\n",
       "    .dataframe tbody tr th {\n",
       "        vertical-align: top;\n",
       "    }\n",
       "\n",
       "    .dataframe thead th {\n",
       "        text-align: right;\n",
       "    }\n",
       "</style>\n",
       "<table border=\"1\" class=\"dataframe\">\n",
       "  <thead>\n",
       "    <tr style=\"text-align: right;\">\n",
       "      <th></th>\n",
       "      <th>anchor_date</th>\n",
       "      <th>event</th>\n",
       "      <th>user_id_hash</th>\n",
       "      <th>event_count</th>\n",
       "      <th>event_sum</th>\n",
       "      <th>event_mean</th>\n",
       "      <th>event_mode</th>\n",
       "    </tr>\n",
       "  </thead>\n",
       "  <tbody>\n",
       "    <tr>\n",
       "      <th>0</th>\n",
       "      <td>2018-09-29</td>\n",
       "      <td>0</td>\n",
       "      <td>001649233906501efe5899fc693500a233220cfc02be0d...</td>\n",
       "      <td>1</td>\n",
       "      <td>0.0</td>\n",
       "      <td>0.0</td>\n",
       "      <td>0.0</td>\n",
       "    </tr>\n",
       "    <tr>\n",
       "      <th>1</th>\n",
       "      <td>2018-09-29</td>\n",
       "      <td>0</td>\n",
       "      <td>001b256fc745aff7b582d02dd1e7d9209a7b6c486b4cf2...</td>\n",
       "      <td>1</td>\n",
       "      <td>0.0</td>\n",
       "      <td>0.0</td>\n",
       "      <td>0.0</td>\n",
       "    </tr>\n",
       "    <tr>\n",
       "      <th>2</th>\n",
       "      <td>2018-09-29</td>\n",
       "      <td>0</td>\n",
       "      <td>001f75076b085ab0cb6b6b39d25e99f2aba1c6eb64b134...</td>\n",
       "      <td>1</td>\n",
       "      <td>0.0</td>\n",
       "      <td>0.0</td>\n",
       "      <td>0.0</td>\n",
       "    </tr>\n",
       "    <tr>\n",
       "      <th>3</th>\n",
       "      <td>2018-09-29</td>\n",
       "      <td>0</td>\n",
       "      <td>0023f69f80e87162b3f1daae9a5795a1b1820cc8fc4fa9...</td>\n",
       "      <td>1</td>\n",
       "      <td>0.0</td>\n",
       "      <td>0.0</td>\n",
       "      <td>0.0</td>\n",
       "    </tr>\n",
       "    <tr>\n",
       "      <th>4</th>\n",
       "      <td>2018-09-29</td>\n",
       "      <td>0</td>\n",
       "      <td>0025884539ef9c52b2c55414fc78b178bbd6ffb4f7e6ba...</td>\n",
       "      <td>1</td>\n",
       "      <td>0.0</td>\n",
       "      <td>0.0</td>\n",
       "      <td>0.0</td>\n",
       "    </tr>\n",
       "  </tbody>\n",
       "</table>\n",
       "</div>"
      ],
      "text/plain": [
       "  anchor_date event                                       user_id_hash  \\\n",
       "0  2018-09-29     0  001649233906501efe5899fc693500a233220cfc02be0d...   \n",
       "1  2018-09-29     0  001b256fc745aff7b582d02dd1e7d9209a7b6c486b4cf2...   \n",
       "2  2018-09-29     0  001f75076b085ab0cb6b6b39d25e99f2aba1c6eb64b134...   \n",
       "3  2018-09-29     0  0023f69f80e87162b3f1daae9a5795a1b1820cc8fc4fa9...   \n",
       "4  2018-09-29     0  0025884539ef9c52b2c55414fc78b178bbd6ffb4f7e6ba...   \n",
       "\n",
       "   event_count  event_sum  event_mean  event_mode  \n",
       "0            1        0.0         0.0         0.0  \n",
       "1            1        0.0         0.0         0.0  \n",
       "2            1        0.0         0.0         0.0  \n",
       "3            1        0.0         0.0         0.0  \n",
       "4            1        0.0         0.0         0.0  "
      ]
     },
     "execution_count": 148,
     "metadata": {},
     "output_type": "execute_result"
    }
   ],
   "source": [
    "events.head()"
   ]
  },
  {
   "cell_type": "code",
   "execution_count": 149,
   "metadata": {
    "ExecuteTime": {
     "end_time": "2019-03-03T23:50:29.997947Z",
     "start_time": "2019-03-03T23:50:29.985451Z"
    },
    "hidden": true
   },
   "outputs": [
    {
     "data": {
      "text/html": [
       "<div>\n",
       "<style scoped>\n",
       "    .dataframe tbody tr th:only-of-type {\n",
       "        vertical-align: middle;\n",
       "    }\n",
       "\n",
       "    .dataframe tbody tr th {\n",
       "        vertical-align: top;\n",
       "    }\n",
       "\n",
       "    .dataframe thead th {\n",
       "        text-align: right;\n",
       "    }\n",
       "</style>\n",
       "<table border=\"1\" class=\"dataframe\">\n",
       "  <thead>\n",
       "    <tr style=\"text-align: right;\">\n",
       "      <th></th>\n",
       "      <th>anchor_date</th>\n",
       "      <th>attribute</th>\n",
       "      <th>user_id_hash</th>\n",
       "      <th>atr_count</th>\n",
       "      <th>atr_mean</th>\n",
       "      <th>atr_last</th>\n",
       "      <th>atr_max</th>\n",
       "    </tr>\n",
       "  </thead>\n",
       "  <tbody>\n",
       "    <tr>\n",
       "      <th>0</th>\n",
       "      <td>2018-09-29</td>\n",
       "      <td>0</td>\n",
       "      <td>00026e5050a70ef12d421f75c6a5c80d0f62d37acab8bd...</td>\n",
       "      <td>2</td>\n",
       "      <td>0.0</td>\n",
       "      <td>0.0</td>\n",
       "      <td>0.0</td>\n",
       "    </tr>\n",
       "    <tr>\n",
       "      <th>1</th>\n",
       "      <td>2018-09-29</td>\n",
       "      <td>0</td>\n",
       "      <td>0003f8bda56230a49445880e559b718e94ba37344494a7...</td>\n",
       "      <td>1</td>\n",
       "      <td>0.0</td>\n",
       "      <td>0.0</td>\n",
       "      <td>0.0</td>\n",
       "    </tr>\n",
       "    <tr>\n",
       "      <th>2</th>\n",
       "      <td>2018-09-29</td>\n",
       "      <td>0</td>\n",
       "      <td>000542d6fc6e9dcb83328d30503a7e022e5a6b4ea6357b...</td>\n",
       "      <td>1</td>\n",
       "      <td>0.0</td>\n",
       "      <td>0.0</td>\n",
       "      <td>0.0</td>\n",
       "    </tr>\n",
       "    <tr>\n",
       "      <th>3</th>\n",
       "      <td>2018-09-29</td>\n",
       "      <td>0</td>\n",
       "      <td>0006028dc3aefd41499be9c5428fb11691f3ce570e7cc8...</td>\n",
       "      <td>3</td>\n",
       "      <td>0.0</td>\n",
       "      <td>0.0</td>\n",
       "      <td>0.0</td>\n",
       "    </tr>\n",
       "    <tr>\n",
       "      <th>4</th>\n",
       "      <td>2018-09-29</td>\n",
       "      <td>0</td>\n",
       "      <td>0007da1b2aa0df73cf98077068a7da9039f57d9d51a1ae...</td>\n",
       "      <td>1</td>\n",
       "      <td>0.0</td>\n",
       "      <td>0.0</td>\n",
       "      <td>0.0</td>\n",
       "    </tr>\n",
       "  </tbody>\n",
       "</table>\n",
       "</div>"
      ],
      "text/plain": [
       "  anchor_date attribute                                       user_id_hash  \\\n",
       "0  2018-09-29         0  00026e5050a70ef12d421f75c6a5c80d0f62d37acab8bd...   \n",
       "1  2018-09-29         0  0003f8bda56230a49445880e559b718e94ba37344494a7...   \n",
       "2  2018-09-29         0  000542d6fc6e9dcb83328d30503a7e022e5a6b4ea6357b...   \n",
       "3  2018-09-29         0  0006028dc3aefd41499be9c5428fb11691f3ce570e7cc8...   \n",
       "4  2018-09-29         0  0007da1b2aa0df73cf98077068a7da9039f57d9d51a1ae...   \n",
       "\n",
       "   atr_count  atr_mean  atr_last  atr_max  \n",
       "0          2       0.0       0.0      0.0  \n",
       "1          1       0.0       0.0      0.0  \n",
       "2          1       0.0       0.0      0.0  \n",
       "3          3       0.0       0.0      0.0  \n",
       "4          1       0.0       0.0      0.0  "
      ]
     },
     "execution_count": 149,
     "metadata": {},
     "output_type": "execute_result"
    }
   ],
   "source": [
    "attrib.head()"
   ]
  },
  {
   "cell_type": "code",
   "execution_count": 150,
   "metadata": {
    "ExecuteTime": {
     "end_time": "2019-03-03T23:50:30.454939Z",
     "start_time": "2019-03-03T23:50:30.449087Z"
    },
    "hidden": true
   },
   "outputs": [
    {
     "data": {
      "text/plain": [
       "anchor_date     datetime64[ns]\n",
       "event                 category\n",
       "user_id_hash          category\n",
       "event_count              int64\n",
       "event_sum              float64\n",
       "event_mean             float64\n",
       "event_mode             float64\n",
       "dtype: object"
      ]
     },
     "execution_count": 150,
     "metadata": {},
     "output_type": "execute_result"
    }
   ],
   "source": [
    "events.dtypes"
   ]
  },
  {
   "cell_type": "code",
   "execution_count": 151,
   "metadata": {
    "ExecuteTime": {
     "end_time": "2019-03-03T23:50:33.333210Z",
     "start_time": "2019-03-03T23:50:31.889658Z"
    },
    "hidden": true
   },
   "outputs": [],
   "source": [
    "attrib.anchor_date = attrib.anchor_date.astype('datetime64')"
   ]
  },
  {
   "cell_type": "code",
   "execution_count": 152,
   "metadata": {
    "ExecuteTime": {
     "end_time": "2019-03-03T23:50:33.340933Z",
     "start_time": "2019-03-03T23:50:33.335941Z"
    },
    "hidden": true
   },
   "outputs": [
    {
     "data": {
      "text/plain": [
       "anchor_date     datetime64[ns]\n",
       "attribute             category\n",
       "user_id_hash          category\n",
       "atr_count                int64\n",
       "atr_mean               float64\n",
       "atr_last               float64\n",
       "atr_max                float64\n",
       "dtype: object"
      ]
     },
     "execution_count": 152,
     "metadata": {},
     "output_type": "execute_result"
    }
   ],
   "source": [
    "attrib.dtypes"
   ]
  },
  {
   "cell_type": "code",
   "execution_count": 153,
   "metadata": {
    "ExecuteTime": {
     "end_time": "2019-03-03T23:50:36.340111Z",
     "start_time": "2019-03-03T23:50:34.406397Z"
    },
    "hidden": true
   },
   "outputs": [],
   "source": [
    "events.sort_values(['anchor_date', 'user_id_hash'], inplace=True)"
   ]
  },
  {
   "cell_type": "code",
   "execution_count": 154,
   "metadata": {
    "ExecuteTime": {
     "end_time": "2019-03-03T23:50:36.348708Z",
     "start_time": "2019-03-03T23:50:36.342903Z"
    },
    "hidden": true
   },
   "outputs": [],
   "source": [
    "events.reset_index(drop=True, inplace=True)"
   ]
  },
  {
   "cell_type": "code",
   "execution_count": 155,
   "metadata": {
    "ExecuteTime": {
     "end_time": "2019-03-03T23:50:37.434078Z",
     "start_time": "2019-03-03T23:50:37.421578Z"
    },
    "hidden": true
   },
   "outputs": [
    {
     "data": {
      "text/html": [
       "<div>\n",
       "<style scoped>\n",
       "    .dataframe tbody tr th:only-of-type {\n",
       "        vertical-align: middle;\n",
       "    }\n",
       "\n",
       "    .dataframe tbody tr th {\n",
       "        vertical-align: top;\n",
       "    }\n",
       "\n",
       "    .dataframe thead th {\n",
       "        text-align: right;\n",
       "    }\n",
       "</style>\n",
       "<table border=\"1\" class=\"dataframe\">\n",
       "  <thead>\n",
       "    <tr style=\"text-align: right;\">\n",
       "      <th></th>\n",
       "      <th>anchor_date</th>\n",
       "      <th>event</th>\n",
       "      <th>user_id_hash</th>\n",
       "      <th>event_count</th>\n",
       "      <th>event_sum</th>\n",
       "      <th>event_mean</th>\n",
       "      <th>event_mode</th>\n",
       "    </tr>\n",
       "  </thead>\n",
       "  <tbody>\n",
       "    <tr>\n",
       "      <th>0</th>\n",
       "      <td>2018-09-29</td>\n",
       "      <td>14</td>\n",
       "      <td>00026e5050a70ef12d421f75c6a5c80d0f62d37acab8bd...</td>\n",
       "      <td>3</td>\n",
       "      <td>0.0</td>\n",
       "      <td>0.0</td>\n",
       "      <td>0.0</td>\n",
       "    </tr>\n",
       "    <tr>\n",
       "      <th>1</th>\n",
       "      <td>2018-09-29</td>\n",
       "      <td>44</td>\n",
       "      <td>00026e5050a70ef12d421f75c6a5c80d0f62d37acab8bd...</td>\n",
       "      <td>1</td>\n",
       "      <td>0.0</td>\n",
       "      <td>0.0</td>\n",
       "      <td>0.0</td>\n",
       "    </tr>\n",
       "    <tr>\n",
       "      <th>2</th>\n",
       "      <td>2018-09-29</td>\n",
       "      <td>45</td>\n",
       "      <td>00026e5050a70ef12d421f75c6a5c80d0f62d37acab8bd...</td>\n",
       "      <td>12</td>\n",
       "      <td>0.0</td>\n",
       "      <td>0.0</td>\n",
       "      <td>0.0</td>\n",
       "    </tr>\n",
       "    <tr>\n",
       "      <th>3</th>\n",
       "      <td>2018-09-29</td>\n",
       "      <td>5</td>\n",
       "      <td>00026e5050a70ef12d421f75c6a5c80d0f62d37acab8bd...</td>\n",
       "      <td>1</td>\n",
       "      <td>0.0</td>\n",
       "      <td>0.0</td>\n",
       "      <td>0.0</td>\n",
       "    </tr>\n",
       "    <tr>\n",
       "      <th>4</th>\n",
       "      <td>2018-09-29</td>\n",
       "      <td>7</td>\n",
       "      <td>00026e5050a70ef12d421f75c6a5c80d0f62d37acab8bd...</td>\n",
       "      <td>1</td>\n",
       "      <td>12.0</td>\n",
       "      <td>12.0</td>\n",
       "      <td>12.0</td>\n",
       "    </tr>\n",
       "  </tbody>\n",
       "</table>\n",
       "</div>"
      ],
      "text/plain": [
       "  anchor_date event                                       user_id_hash  \\\n",
       "0  2018-09-29    14  00026e5050a70ef12d421f75c6a5c80d0f62d37acab8bd...   \n",
       "1  2018-09-29    44  00026e5050a70ef12d421f75c6a5c80d0f62d37acab8bd...   \n",
       "2  2018-09-29    45  00026e5050a70ef12d421f75c6a5c80d0f62d37acab8bd...   \n",
       "3  2018-09-29     5  00026e5050a70ef12d421f75c6a5c80d0f62d37acab8bd...   \n",
       "4  2018-09-29     7  00026e5050a70ef12d421f75c6a5c80d0f62d37acab8bd...   \n",
       "\n",
       "   event_count  event_sum  event_mean  event_mode  \n",
       "0            3        0.0         0.0         0.0  \n",
       "1            1        0.0         0.0         0.0  \n",
       "2           12        0.0         0.0         0.0  \n",
       "3            1        0.0         0.0         0.0  \n",
       "4            1       12.0        12.0        12.0  "
      ]
     },
     "execution_count": 155,
     "metadata": {},
     "output_type": "execute_result"
    }
   ],
   "source": [
    "events.head()"
   ]
  },
  {
   "cell_type": "code",
   "execution_count": 156,
   "metadata": {
    "ExecuteTime": {
     "end_time": "2019-03-03T23:50:44.106169Z",
     "start_time": "2019-03-03T23:50:38.771680Z"
    },
    "hidden": true
   },
   "outputs": [],
   "source": [
    "attrib.sort_values(['anchor_date', 'user_id_hash'], inplace=True)"
   ]
  },
  {
   "cell_type": "code",
   "execution_count": 157,
   "metadata": {
    "ExecuteTime": {
     "end_time": "2019-03-03T23:50:44.118990Z",
     "start_time": "2019-03-03T23:50:44.108876Z"
    },
    "hidden": true
   },
   "outputs": [],
   "source": [
    "attrib.reset_index(drop=True, inplace=True)"
   ]
  },
  {
   "cell_type": "code",
   "execution_count": 158,
   "metadata": {
    "ExecuteTime": {
     "end_time": "2019-03-03T23:50:44.132826Z",
     "start_time": "2019-03-03T23:50:44.120824Z"
    },
    "hidden": true
   },
   "outputs": [
    {
     "data": {
      "text/html": [
       "<div>\n",
       "<style scoped>\n",
       "    .dataframe tbody tr th:only-of-type {\n",
       "        vertical-align: middle;\n",
       "    }\n",
       "\n",
       "    .dataframe tbody tr th {\n",
       "        vertical-align: top;\n",
       "    }\n",
       "\n",
       "    .dataframe thead th {\n",
       "        text-align: right;\n",
       "    }\n",
       "</style>\n",
       "<table border=\"1\" class=\"dataframe\">\n",
       "  <thead>\n",
       "    <tr style=\"text-align: right;\">\n",
       "      <th></th>\n",
       "      <th>anchor_date</th>\n",
       "      <th>attribute</th>\n",
       "      <th>user_id_hash</th>\n",
       "      <th>atr_count</th>\n",
       "      <th>atr_mean</th>\n",
       "      <th>atr_last</th>\n",
       "      <th>atr_max</th>\n",
       "    </tr>\n",
       "  </thead>\n",
       "  <tbody>\n",
       "    <tr>\n",
       "      <th>0</th>\n",
       "      <td>2018-09-29</td>\n",
       "      <td>0</td>\n",
       "      <td>00026e5050a70ef12d421f75c6a5c80d0f62d37acab8bd...</td>\n",
       "      <td>2</td>\n",
       "      <td>0.0</td>\n",
       "      <td>0.0</td>\n",
       "      <td>0.0</td>\n",
       "    </tr>\n",
       "    <tr>\n",
       "      <th>1</th>\n",
       "      <td>2018-09-29</td>\n",
       "      <td>1</td>\n",
       "      <td>00026e5050a70ef12d421f75c6a5c80d0f62d37acab8bd...</td>\n",
       "      <td>2</td>\n",
       "      <td>0.0</td>\n",
       "      <td>0.0</td>\n",
       "      <td>0.0</td>\n",
       "    </tr>\n",
       "    <tr>\n",
       "      <th>2</th>\n",
       "      <td>2018-09-29</td>\n",
       "      <td>3</td>\n",
       "      <td>00026e5050a70ef12d421f75c6a5c80d0f62d37acab8bd...</td>\n",
       "      <td>2</td>\n",
       "      <td>0.0</td>\n",
       "      <td>0.0</td>\n",
       "      <td>0.0</td>\n",
       "    </tr>\n",
       "    <tr>\n",
       "      <th>3</th>\n",
       "      <td>2018-09-29</td>\n",
       "      <td>4</td>\n",
       "      <td>00026e5050a70ef12d421f75c6a5c80d0f62d37acab8bd...</td>\n",
       "      <td>2</td>\n",
       "      <td>0.0</td>\n",
       "      <td>0.0</td>\n",
       "      <td>0.0</td>\n",
       "    </tr>\n",
       "    <tr>\n",
       "      <th>4</th>\n",
       "      <td>2018-09-29</td>\n",
       "      <td>5</td>\n",
       "      <td>00026e5050a70ef12d421f75c6a5c80d0f62d37acab8bd...</td>\n",
       "      <td>2</td>\n",
       "      <td>1.0</td>\n",
       "      <td>1.0</td>\n",
       "      <td>1.0</td>\n",
       "    </tr>\n",
       "  </tbody>\n",
       "</table>\n",
       "</div>"
      ],
      "text/plain": [
       "  anchor_date attribute                                       user_id_hash  \\\n",
       "0  2018-09-29         0  00026e5050a70ef12d421f75c6a5c80d0f62d37acab8bd...   \n",
       "1  2018-09-29         1  00026e5050a70ef12d421f75c6a5c80d0f62d37acab8bd...   \n",
       "2  2018-09-29         3  00026e5050a70ef12d421f75c6a5c80d0f62d37acab8bd...   \n",
       "3  2018-09-29         4  00026e5050a70ef12d421f75c6a5c80d0f62d37acab8bd...   \n",
       "4  2018-09-29         5  00026e5050a70ef12d421f75c6a5c80d0f62d37acab8bd...   \n",
       "\n",
       "   atr_count  atr_mean  atr_last  atr_max  \n",
       "0          2       0.0       0.0      0.0  \n",
       "1          2       0.0       0.0      0.0  \n",
       "2          2       0.0       0.0      0.0  \n",
       "3          2       0.0       0.0      0.0  \n",
       "4          2       1.0       1.0      1.0  "
      ]
     },
     "execution_count": 158,
     "metadata": {},
     "output_type": "execute_result"
    }
   ],
   "source": [
    "attrib.head()"
   ]
  },
  {
   "cell_type": "code",
   "execution_count": 159,
   "metadata": {
    "ExecuteTime": {
     "end_time": "2019-03-03T23:50:46.506969Z",
     "start_time": "2019-03-03T23:50:45.111460Z"
    },
    "hidden": true
   },
   "outputs": [],
   "source": [
    "events.set_index(['anchor_date', 'user_id_hash', 'event'], inplace=True)"
   ]
  },
  {
   "cell_type": "code",
   "execution_count": 160,
   "metadata": {
    "ExecuteTime": {
     "end_time": "2019-03-03T23:50:49.281400Z",
     "start_time": "2019-03-03T23:50:46.510159Z"
    },
    "hidden": true
   },
   "outputs": [],
   "source": [
    "attrib.set_index(['anchor_date', 'user_id_hash', 'attribute'], inplace=True)"
   ]
  },
  {
   "cell_type": "code",
   "execution_count": 161,
   "metadata": {
    "ExecuteTime": {
     "end_time": "2019-03-03T23:51:13.145062Z",
     "start_time": "2019-03-03T23:50:49.284328Z"
    },
    "hidden": true
   },
   "outputs": [],
   "source": [
    "events_p = events.unstack()"
   ]
  },
  {
   "cell_type": "code",
   "execution_count": 162,
   "metadata": {
    "ExecuteTime": {
     "end_time": "2019-03-03T23:52:03.036752Z",
     "start_time": "2019-03-03T23:51:13.147893Z"
    },
    "hidden": true
   },
   "outputs": [],
   "source": [
    "attrib_p = attrib.unstack()"
   ]
  },
  {
   "cell_type": "code",
   "execution_count": 163,
   "metadata": {
    "ExecuteTime": {
     "end_time": "2019-03-03T23:52:03.364939Z",
     "start_time": "2019-03-03T23:52:03.039370Z"
    },
    "hidden": true
   },
   "outputs": [
    {
     "data": {
      "text/html": [
       "<div>\n",
       "<style scoped>\n",
       "    .dataframe tbody tr th:only-of-type {\n",
       "        vertical-align: middle;\n",
       "    }\n",
       "\n",
       "    .dataframe tbody tr th {\n",
       "        vertical-align: top;\n",
       "    }\n",
       "\n",
       "    .dataframe thead tr th {\n",
       "        text-align: left;\n",
       "    }\n",
       "\n",
       "    .dataframe thead tr:last-of-type th {\n",
       "        text-align: right;\n",
       "    }\n",
       "</style>\n",
       "<table border=\"1\" class=\"dataframe\">\n",
       "  <thead>\n",
       "    <tr>\n",
       "      <th></th>\n",
       "      <th></th>\n",
       "      <th colspan=\"10\" halign=\"left\">event_count</th>\n",
       "      <th>...</th>\n",
       "      <th colspan=\"10\" halign=\"left\">event_mode</th>\n",
       "    </tr>\n",
       "    <tr>\n",
       "      <th></th>\n",
       "      <th>event</th>\n",
       "      <th>14</th>\n",
       "      <th>44</th>\n",
       "      <th>45</th>\n",
       "      <th>5</th>\n",
       "      <th>7</th>\n",
       "      <th>97</th>\n",
       "      <th>1</th>\n",
       "      <th>6</th>\n",
       "      <th>4</th>\n",
       "      <th>40</th>\n",
       "      <th>...</th>\n",
       "      <th>52</th>\n",
       "      <th>55</th>\n",
       "      <th>60</th>\n",
       "      <th>57</th>\n",
       "      <th>64</th>\n",
       "      <th>32</th>\n",
       "      <th>61</th>\n",
       "      <th>0/</th>\n",
       "      <th>1/</th>\n",
       "      <th>62</th>\n",
       "    </tr>\n",
       "    <tr>\n",
       "      <th>anchor_date</th>\n",
       "      <th>user_id_hash</th>\n",
       "      <th></th>\n",
       "      <th></th>\n",
       "      <th></th>\n",
       "      <th></th>\n",
       "      <th></th>\n",
       "      <th></th>\n",
       "      <th></th>\n",
       "      <th></th>\n",
       "      <th></th>\n",
       "      <th></th>\n",
       "      <th></th>\n",
       "      <th></th>\n",
       "      <th></th>\n",
       "      <th></th>\n",
       "      <th></th>\n",
       "      <th></th>\n",
       "      <th></th>\n",
       "      <th></th>\n",
       "      <th></th>\n",
       "      <th></th>\n",
       "      <th></th>\n",
       "    </tr>\n",
       "  </thead>\n",
       "  <tbody>\n",
       "    <tr>\n",
       "      <th rowspan=\"5\" valign=\"top\">2018-09-29</th>\n",
       "      <th>00026e5050a70ef12d421f75c6a5c80d0f62d37acab8bd38e5990898285c9036</th>\n",
       "      <td>3.0</td>\n",
       "      <td>1.0</td>\n",
       "      <td>12.0</td>\n",
       "      <td>1.0</td>\n",
       "      <td>1.0</td>\n",
       "      <td>3.0</td>\n",
       "      <td>NaN</td>\n",
       "      <td>NaN</td>\n",
       "      <td>NaN</td>\n",
       "      <td>NaN</td>\n",
       "      <td>...</td>\n",
       "      <td>NaN</td>\n",
       "      <td>NaN</td>\n",
       "      <td>NaN</td>\n",
       "      <td>NaN</td>\n",
       "      <td>NaN</td>\n",
       "      <td>NaN</td>\n",
       "      <td>NaN</td>\n",
       "      <td>NaN</td>\n",
       "      <td>NaN</td>\n",
       "      <td>NaN</td>\n",
       "    </tr>\n",
       "    <tr>\n",
       "      <th>0003f8bda56230a49445880e559b718e94ba37344494a7f40af47c8a0b222f8c</th>\n",
       "      <td>3.0</td>\n",
       "      <td>1.0</td>\n",
       "      <td>1.0</td>\n",
       "      <td>1.0</td>\n",
       "      <td>NaN</td>\n",
       "      <td>4.0</td>\n",
       "      <td>NaN</td>\n",
       "      <td>NaN</td>\n",
       "      <td>NaN</td>\n",
       "      <td>NaN</td>\n",
       "      <td>...</td>\n",
       "      <td>NaN</td>\n",
       "      <td>NaN</td>\n",
       "      <td>NaN</td>\n",
       "      <td>NaN</td>\n",
       "      <td>NaN</td>\n",
       "      <td>NaN</td>\n",
       "      <td>NaN</td>\n",
       "      <td>NaN</td>\n",
       "      <td>NaN</td>\n",
       "      <td>NaN</td>\n",
       "    </tr>\n",
       "    <tr>\n",
       "      <th>000542d6fc6e9dcb83328d30503a7e022e5a6b4ea6357b9dce7b8452fb36e6f2</th>\n",
       "      <td>4.0</td>\n",
       "      <td>1.0</td>\n",
       "      <td>29.0</td>\n",
       "      <td>3.0</td>\n",
       "      <td>1.0</td>\n",
       "      <td>2.0</td>\n",
       "      <td>1.0</td>\n",
       "      <td>1.0</td>\n",
       "      <td>NaN</td>\n",
       "      <td>NaN</td>\n",
       "      <td>...</td>\n",
       "      <td>NaN</td>\n",
       "      <td>NaN</td>\n",
       "      <td>NaN</td>\n",
       "      <td>NaN</td>\n",
       "      <td>NaN</td>\n",
       "      <td>NaN</td>\n",
       "      <td>NaN</td>\n",
       "      <td>NaN</td>\n",
       "      <td>NaN</td>\n",
       "      <td>NaN</td>\n",
       "    </tr>\n",
       "    <tr>\n",
       "      <th>0006028dc3aefd41499be9c5428fb11691f3ce570e7cc87901ab606236130843</th>\n",
       "      <td>3.0</td>\n",
       "      <td>1.0</td>\n",
       "      <td>72.0</td>\n",
       "      <td>5.0</td>\n",
       "      <td>3.0</td>\n",
       "      <td>4.0</td>\n",
       "      <td>2.0</td>\n",
       "      <td>4.0</td>\n",
       "      <td>3.0</td>\n",
       "      <td>2.0</td>\n",
       "      <td>...</td>\n",
       "      <td>NaN</td>\n",
       "      <td>NaN</td>\n",
       "      <td>NaN</td>\n",
       "      <td>NaN</td>\n",
       "      <td>NaN</td>\n",
       "      <td>NaN</td>\n",
       "      <td>NaN</td>\n",
       "      <td>NaN</td>\n",
       "      <td>NaN</td>\n",
       "      <td>NaN</td>\n",
       "    </tr>\n",
       "    <tr>\n",
       "      <th>0007da1b2aa0df73cf98077068a7da9039f57d9d51a1ae17912608a78c176c24</th>\n",
       "      <td>6.0</td>\n",
       "      <td>1.0</td>\n",
       "      <td>14.0</td>\n",
       "      <td>1.0</td>\n",
       "      <td>NaN</td>\n",
       "      <td>3.0</td>\n",
       "      <td>NaN</td>\n",
       "      <td>NaN</td>\n",
       "      <td>NaN</td>\n",
       "      <td>NaN</td>\n",
       "      <td>...</td>\n",
       "      <td>NaN</td>\n",
       "      <td>NaN</td>\n",
       "      <td>NaN</td>\n",
       "      <td>NaN</td>\n",
       "      <td>NaN</td>\n",
       "      <td>NaN</td>\n",
       "      <td>NaN</td>\n",
       "      <td>NaN</td>\n",
       "      <td>NaN</td>\n",
       "      <td>NaN</td>\n",
       "    </tr>\n",
       "  </tbody>\n",
       "</table>\n",
       "<p>5 rows × 160 columns</p>\n",
       "</div>"
      ],
      "text/plain": [
       "                                                               event_count  \\\n",
       "event                                                                   14   \n",
       "anchor_date user_id_hash                                                     \n",
       "2018-09-29  00026e5050a70ef12d421f75c6a5c80d0f62d37acab8bd3...         3.0   \n",
       "            0003f8bda56230a49445880e559b718e94ba37344494a7f...         3.0   \n",
       "            000542d6fc6e9dcb83328d30503a7e022e5a6b4ea6357b9...         4.0   \n",
       "            0006028dc3aefd41499be9c5428fb11691f3ce570e7cc87...         3.0   \n",
       "            0007da1b2aa0df73cf98077068a7da9039f57d9d51a1ae1...         6.0   \n",
       "\n",
       "                                                                           \\\n",
       "event                                                            44    45   \n",
       "anchor_date user_id_hash                                                    \n",
       "2018-09-29  00026e5050a70ef12d421f75c6a5c80d0f62d37acab8bd3...  1.0  12.0   \n",
       "            0003f8bda56230a49445880e559b718e94ba37344494a7f...  1.0   1.0   \n",
       "            000542d6fc6e9dcb83328d30503a7e022e5a6b4ea6357b9...  1.0  29.0   \n",
       "            0006028dc3aefd41499be9c5428fb11691f3ce570e7cc87...  1.0  72.0   \n",
       "            0007da1b2aa0df73cf98077068a7da9039f57d9d51a1ae1...  1.0  14.0   \n",
       "\n",
       "                                                                               \\\n",
       "event                                                             5    7   97   \n",
       "anchor_date user_id_hash                                                        \n",
       "2018-09-29  00026e5050a70ef12d421f75c6a5c80d0f62d37acab8bd3...  1.0  1.0  3.0   \n",
       "            0003f8bda56230a49445880e559b718e94ba37344494a7f...  1.0  NaN  4.0   \n",
       "            000542d6fc6e9dcb83328d30503a7e022e5a6b4ea6357b9...  3.0  1.0  2.0   \n",
       "            0006028dc3aefd41499be9c5428fb11691f3ce570e7cc87...  5.0  3.0  4.0   \n",
       "            0007da1b2aa0df73cf98077068a7da9039f57d9d51a1ae1...  1.0  NaN  3.0   \n",
       "\n",
       "                                                                               \\\n",
       "event                                                             1    6    4   \n",
       "anchor_date user_id_hash                                                        \n",
       "2018-09-29  00026e5050a70ef12d421f75c6a5c80d0f62d37acab8bd3...  NaN  NaN  NaN   \n",
       "            0003f8bda56230a49445880e559b718e94ba37344494a7f...  NaN  NaN  NaN   \n",
       "            000542d6fc6e9dcb83328d30503a7e022e5a6b4ea6357b9...  1.0  1.0  NaN   \n",
       "            0006028dc3aefd41499be9c5428fb11691f3ce570e7cc87...  2.0  4.0  3.0   \n",
       "            0007da1b2aa0df73cf98077068a7da9039f57d9d51a1ae1...  NaN  NaN  NaN   \n",
       "\n",
       "                                                                    ...  \\\n",
       "event                                                            40 ...   \n",
       "anchor_date user_id_hash                                            ...   \n",
       "2018-09-29  00026e5050a70ef12d421f75c6a5c80d0f62d37acab8bd3...  NaN ...   \n",
       "            0003f8bda56230a49445880e559b718e94ba37344494a7f...  NaN ...   \n",
       "            000542d6fc6e9dcb83328d30503a7e022e5a6b4ea6357b9...  NaN ...   \n",
       "            0006028dc3aefd41499be9c5428fb11691f3ce570e7cc87...  2.0 ...   \n",
       "            0007da1b2aa0df73cf98077068a7da9039f57d9d51a1ae1...  NaN ...   \n",
       "\n",
       "                                                               event_mode      \\\n",
       "event                                                                  52  55   \n",
       "anchor_date user_id_hash                                                        \n",
       "2018-09-29  00026e5050a70ef12d421f75c6a5c80d0f62d37acab8bd3...        NaN NaN   \n",
       "            0003f8bda56230a49445880e559b718e94ba37344494a7f...        NaN NaN   \n",
       "            000542d6fc6e9dcb83328d30503a7e022e5a6b4ea6357b9...        NaN NaN   \n",
       "            0006028dc3aefd41499be9c5428fb11691f3ce570e7cc87...        NaN NaN   \n",
       "            0007da1b2aa0df73cf98077068a7da9039f57d9d51a1ae1...        NaN NaN   \n",
       "\n",
       "                                                                            \\\n",
       "event                                                           60  57  64   \n",
       "anchor_date user_id_hash                                                     \n",
       "2018-09-29  00026e5050a70ef12d421f75c6a5c80d0f62d37acab8bd3... NaN NaN NaN   \n",
       "            0003f8bda56230a49445880e559b718e94ba37344494a7f... NaN NaN NaN   \n",
       "            000542d6fc6e9dcb83328d30503a7e022e5a6b4ea6357b9... NaN NaN NaN   \n",
       "            0006028dc3aefd41499be9c5428fb11691f3ce570e7cc87... NaN NaN NaN   \n",
       "            0007da1b2aa0df73cf98077068a7da9039f57d9d51a1ae1... NaN NaN NaN   \n",
       "\n",
       "                                                                            \\\n",
       "event                                                           32  61  0/   \n",
       "anchor_date user_id_hash                                                     \n",
       "2018-09-29  00026e5050a70ef12d421f75c6a5c80d0f62d37acab8bd3... NaN NaN NaN   \n",
       "            0003f8bda56230a49445880e559b718e94ba37344494a7f... NaN NaN NaN   \n",
       "            000542d6fc6e9dcb83328d30503a7e022e5a6b4ea6357b9... NaN NaN NaN   \n",
       "            0006028dc3aefd41499be9c5428fb11691f3ce570e7cc87... NaN NaN NaN   \n",
       "            0007da1b2aa0df73cf98077068a7da9039f57d9d51a1ae1... NaN NaN NaN   \n",
       "\n",
       "                                                                        \n",
       "event                                                           1/  62  \n",
       "anchor_date user_id_hash                                                \n",
       "2018-09-29  00026e5050a70ef12d421f75c6a5c80d0f62d37acab8bd3... NaN NaN  \n",
       "            0003f8bda56230a49445880e559b718e94ba37344494a7f... NaN NaN  \n",
       "            000542d6fc6e9dcb83328d30503a7e022e5a6b4ea6357b9... NaN NaN  \n",
       "            0006028dc3aefd41499be9c5428fb11691f3ce570e7cc87... NaN NaN  \n",
       "            0007da1b2aa0df73cf98077068a7da9039f57d9d51a1ae1... NaN NaN  \n",
       "\n",
       "[5 rows x 160 columns]"
      ]
     },
     "execution_count": 163,
     "metadata": {},
     "output_type": "execute_result"
    }
   ],
   "source": [
    "events_p.head()"
   ]
  },
  {
   "cell_type": "code",
   "execution_count": 164,
   "metadata": {
    "ExecuteTime": {
     "end_time": "2019-03-03T23:52:37.892353Z",
     "start_time": "2019-03-03T23:52:32.428702Z"
    },
    "hidden": true
   },
   "outputs": [],
   "source": [
    "for c in events_p.columns[events_p.isna().sum() > 0].values:\n",
    "    events_p[c].fillna(-99, inplace=True)"
   ]
  },
  {
   "cell_type": "code",
   "execution_count": 165,
   "metadata": {
    "ExecuteTime": {
     "end_time": "2019-03-03T23:52:38.531729Z",
     "start_time": "2019-03-03T23:52:37.895110Z"
    },
    "hidden": true
   },
   "outputs": [],
   "source": [
    "attrib_p.fillna(-99, inplace=True)"
   ]
  },
  {
   "cell_type": "code",
   "execution_count": 166,
   "metadata": {
    "ExecuteTime": {
     "end_time": "2019-03-03T23:52:38.539793Z",
     "start_time": "2019-03-03T23:52:38.534338Z"
    },
    "hidden": true
   },
   "outputs": [],
   "source": [
    "events_p.columns = [i + str(j) for  i, j  in zip (events_p.columns.get_level_values(0),\n",
    "                                                  events_p.columns.get_level_values(1))]"
   ]
  },
  {
   "cell_type": "code",
   "execution_count": 167,
   "metadata": {
    "ExecuteTime": {
     "end_time": "2019-03-03T23:52:38.750476Z",
     "start_time": "2019-03-03T23:52:38.745275Z"
    },
    "hidden": true
   },
   "outputs": [],
   "source": [
    "attrib_p.columns = [i + str(j) for  i, j  in zip (attrib_p.columns.get_level_values(0),\n",
    "                                                  attrib_p.columns.get_level_values(1))]"
   ]
  },
  {
   "cell_type": "code",
   "execution_count": 168,
   "metadata": {
    "ExecuteTime": {
     "end_time": "2019-03-03T23:52:40.804755Z",
     "start_time": "2019-03-03T23:52:40.784168Z"
    },
    "hidden": true
   },
   "outputs": [],
   "source": [
    "events_p.reset_index(inplace=True)"
   ]
  },
  {
   "cell_type": "code",
   "execution_count": 169,
   "metadata": {
    "ExecuteTime": {
     "end_time": "2019-03-03T23:52:41.454843Z",
     "start_time": "2019-03-03T23:52:41.437716Z"
    },
    "hidden": true
   },
   "outputs": [],
   "source": [
    "attrib_p.reset_index(inplace=True)"
   ]
  },
  {
   "cell_type": "code",
   "execution_count": 170,
   "metadata": {
    "ExecuteTime": {
     "end_time": "2019-03-03T23:52:42.113527Z",
     "start_time": "2019-03-03T23:52:42.088482Z"
    },
    "hidden": true
   },
   "outputs": [
    {
     "data": {
      "text/html": [
       "<div>\n",
       "<style scoped>\n",
       "    .dataframe tbody tr th:only-of-type {\n",
       "        vertical-align: middle;\n",
       "    }\n",
       "\n",
       "    .dataframe tbody tr th {\n",
       "        vertical-align: top;\n",
       "    }\n",
       "\n",
       "    .dataframe thead th {\n",
       "        text-align: right;\n",
       "    }\n",
       "</style>\n",
       "<table border=\"1\" class=\"dataframe\">\n",
       "  <thead>\n",
       "    <tr style=\"text-align: right;\">\n",
       "      <th></th>\n",
       "      <th>anchor_date</th>\n",
       "      <th>user_id_hash</th>\n",
       "      <th>event_count14</th>\n",
       "      <th>event_count44</th>\n",
       "      <th>event_count45</th>\n",
       "      <th>event_count5</th>\n",
       "      <th>event_count7</th>\n",
       "      <th>event_count97</th>\n",
       "      <th>event_count1</th>\n",
       "      <th>event_count6</th>\n",
       "      <th>...</th>\n",
       "      <th>event_mode52</th>\n",
       "      <th>event_mode55</th>\n",
       "      <th>event_mode60</th>\n",
       "      <th>event_mode57</th>\n",
       "      <th>event_mode64</th>\n",
       "      <th>event_mode32</th>\n",
       "      <th>event_mode61</th>\n",
       "      <th>event_mode0/</th>\n",
       "      <th>event_mode1/</th>\n",
       "      <th>event_mode62</th>\n",
       "    </tr>\n",
       "  </thead>\n",
       "  <tbody>\n",
       "    <tr>\n",
       "      <th>0</th>\n",
       "      <td>2018-09-29</td>\n",
       "      <td>00026e5050a70ef12d421f75c6a5c80d0f62d37acab8bd...</td>\n",
       "      <td>3.0</td>\n",
       "      <td>1.0</td>\n",
       "      <td>12.0</td>\n",
       "      <td>1.0</td>\n",
       "      <td>1.0</td>\n",
       "      <td>3.0</td>\n",
       "      <td>-99.0</td>\n",
       "      <td>-99.0</td>\n",
       "      <td>...</td>\n",
       "      <td>-99.0</td>\n",
       "      <td>-99.0</td>\n",
       "      <td>-99.0</td>\n",
       "      <td>-99.0</td>\n",
       "      <td>-99.0</td>\n",
       "      <td>-99.0</td>\n",
       "      <td>-99.0</td>\n",
       "      <td>-99.0</td>\n",
       "      <td>-99.0</td>\n",
       "      <td>-99.0</td>\n",
       "    </tr>\n",
       "    <tr>\n",
       "      <th>1</th>\n",
       "      <td>2018-09-29</td>\n",
       "      <td>0003f8bda56230a49445880e559b718e94ba37344494a7...</td>\n",
       "      <td>3.0</td>\n",
       "      <td>1.0</td>\n",
       "      <td>1.0</td>\n",
       "      <td>1.0</td>\n",
       "      <td>-99.0</td>\n",
       "      <td>4.0</td>\n",
       "      <td>-99.0</td>\n",
       "      <td>-99.0</td>\n",
       "      <td>...</td>\n",
       "      <td>-99.0</td>\n",
       "      <td>-99.0</td>\n",
       "      <td>-99.0</td>\n",
       "      <td>-99.0</td>\n",
       "      <td>-99.0</td>\n",
       "      <td>-99.0</td>\n",
       "      <td>-99.0</td>\n",
       "      <td>-99.0</td>\n",
       "      <td>-99.0</td>\n",
       "      <td>-99.0</td>\n",
       "    </tr>\n",
       "    <tr>\n",
       "      <th>2</th>\n",
       "      <td>2018-09-29</td>\n",
       "      <td>000542d6fc6e9dcb83328d30503a7e022e5a6b4ea6357b...</td>\n",
       "      <td>4.0</td>\n",
       "      <td>1.0</td>\n",
       "      <td>29.0</td>\n",
       "      <td>3.0</td>\n",
       "      <td>1.0</td>\n",
       "      <td>2.0</td>\n",
       "      <td>1.0</td>\n",
       "      <td>1.0</td>\n",
       "      <td>...</td>\n",
       "      <td>-99.0</td>\n",
       "      <td>-99.0</td>\n",
       "      <td>-99.0</td>\n",
       "      <td>-99.0</td>\n",
       "      <td>-99.0</td>\n",
       "      <td>-99.0</td>\n",
       "      <td>-99.0</td>\n",
       "      <td>-99.0</td>\n",
       "      <td>-99.0</td>\n",
       "      <td>-99.0</td>\n",
       "    </tr>\n",
       "    <tr>\n",
       "      <th>3</th>\n",
       "      <td>2018-09-29</td>\n",
       "      <td>0006028dc3aefd41499be9c5428fb11691f3ce570e7cc8...</td>\n",
       "      <td>3.0</td>\n",
       "      <td>1.0</td>\n",
       "      <td>72.0</td>\n",
       "      <td>5.0</td>\n",
       "      <td>3.0</td>\n",
       "      <td>4.0</td>\n",
       "      <td>2.0</td>\n",
       "      <td>4.0</td>\n",
       "      <td>...</td>\n",
       "      <td>-99.0</td>\n",
       "      <td>-99.0</td>\n",
       "      <td>-99.0</td>\n",
       "      <td>-99.0</td>\n",
       "      <td>-99.0</td>\n",
       "      <td>-99.0</td>\n",
       "      <td>-99.0</td>\n",
       "      <td>-99.0</td>\n",
       "      <td>-99.0</td>\n",
       "      <td>-99.0</td>\n",
       "    </tr>\n",
       "    <tr>\n",
       "      <th>4</th>\n",
       "      <td>2018-09-29</td>\n",
       "      <td>0007da1b2aa0df73cf98077068a7da9039f57d9d51a1ae...</td>\n",
       "      <td>6.0</td>\n",
       "      <td>1.0</td>\n",
       "      <td>14.0</td>\n",
       "      <td>1.0</td>\n",
       "      <td>-99.0</td>\n",
       "      <td>3.0</td>\n",
       "      <td>-99.0</td>\n",
       "      <td>-99.0</td>\n",
       "      <td>...</td>\n",
       "      <td>-99.0</td>\n",
       "      <td>-99.0</td>\n",
       "      <td>-99.0</td>\n",
       "      <td>-99.0</td>\n",
       "      <td>-99.0</td>\n",
       "      <td>-99.0</td>\n",
       "      <td>-99.0</td>\n",
       "      <td>-99.0</td>\n",
       "      <td>-99.0</td>\n",
       "      <td>-99.0</td>\n",
       "    </tr>\n",
       "  </tbody>\n",
       "</table>\n",
       "<p>5 rows × 162 columns</p>\n",
       "</div>"
      ],
      "text/plain": [
       "  anchor_date                                       user_id_hash  \\\n",
       "0  2018-09-29  00026e5050a70ef12d421f75c6a5c80d0f62d37acab8bd...   \n",
       "1  2018-09-29  0003f8bda56230a49445880e559b718e94ba37344494a7...   \n",
       "2  2018-09-29  000542d6fc6e9dcb83328d30503a7e022e5a6b4ea6357b...   \n",
       "3  2018-09-29  0006028dc3aefd41499be9c5428fb11691f3ce570e7cc8...   \n",
       "4  2018-09-29  0007da1b2aa0df73cf98077068a7da9039f57d9d51a1ae...   \n",
       "\n",
       "   event_count14  event_count44  event_count45  event_count5  event_count7  \\\n",
       "0            3.0            1.0           12.0           1.0           1.0   \n",
       "1            3.0            1.0            1.0           1.0         -99.0   \n",
       "2            4.0            1.0           29.0           3.0           1.0   \n",
       "3            3.0            1.0           72.0           5.0           3.0   \n",
       "4            6.0            1.0           14.0           1.0         -99.0   \n",
       "\n",
       "   event_count97  event_count1  event_count6      ...       event_mode52  \\\n",
       "0            3.0         -99.0         -99.0      ...              -99.0   \n",
       "1            4.0         -99.0         -99.0      ...              -99.0   \n",
       "2            2.0           1.0           1.0      ...              -99.0   \n",
       "3            4.0           2.0           4.0      ...              -99.0   \n",
       "4            3.0         -99.0         -99.0      ...              -99.0   \n",
       "\n",
       "   event_mode55  event_mode60  event_mode57  event_mode64  event_mode32  \\\n",
       "0         -99.0         -99.0         -99.0         -99.0         -99.0   \n",
       "1         -99.0         -99.0         -99.0         -99.0         -99.0   \n",
       "2         -99.0         -99.0         -99.0         -99.0         -99.0   \n",
       "3         -99.0         -99.0         -99.0         -99.0         -99.0   \n",
       "4         -99.0         -99.0         -99.0         -99.0         -99.0   \n",
       "\n",
       "   event_mode61  event_mode0/  event_mode1/  event_mode62  \n",
       "0         -99.0         -99.0         -99.0         -99.0  \n",
       "1         -99.0         -99.0         -99.0         -99.0  \n",
       "2         -99.0         -99.0         -99.0         -99.0  \n",
       "3         -99.0         -99.0         -99.0         -99.0  \n",
       "4         -99.0         -99.0         -99.0         -99.0  \n",
       "\n",
       "[5 rows x 162 columns]"
      ]
     },
     "execution_count": 170,
     "metadata": {},
     "output_type": "execute_result"
    }
   ],
   "source": [
    "events_p.head()"
   ]
  },
  {
   "cell_type": "code",
   "execution_count": 171,
   "metadata": {
    "ExecuteTime": {
     "end_time": "2019-03-03T23:52:43.742482Z",
     "start_time": "2019-03-03T23:52:43.719221Z"
    },
    "hidden": true
   },
   "outputs": [
    {
     "data": {
      "text/html": [
       "<div>\n",
       "<style scoped>\n",
       "    .dataframe tbody tr th:only-of-type {\n",
       "        vertical-align: middle;\n",
       "    }\n",
       "\n",
       "    .dataframe tbody tr th {\n",
       "        vertical-align: top;\n",
       "    }\n",
       "\n",
       "    .dataframe thead th {\n",
       "        text-align: right;\n",
       "    }\n",
       "</style>\n",
       "<table border=\"1\" class=\"dataframe\">\n",
       "  <thead>\n",
       "    <tr style=\"text-align: right;\">\n",
       "      <th></th>\n",
       "      <th>anchor_date</th>\n",
       "      <th>user_id_hash</th>\n",
       "      <th>atr_count0</th>\n",
       "      <th>atr_count1</th>\n",
       "      <th>atr_count3</th>\n",
       "      <th>atr_count4</th>\n",
       "      <th>atr_count5</th>\n",
       "      <th>atr_count6</th>\n",
       "      <th>atr_count8</th>\n",
       "      <th>atr_count9</th>\n",
       "      <th>...</th>\n",
       "      <th>atr_max21</th>\n",
       "      <th>atr_max66</th>\n",
       "      <th>atr_max75</th>\n",
       "      <th>atr_max76</th>\n",
       "      <th>atr_max77</th>\n",
       "      <th>atr_max78</th>\n",
       "      <th>atr_max7</th>\n",
       "      <th>atr_max10</th>\n",
       "      <th>atr_max67</th>\n",
       "      <th>atr_max96</th>\n",
       "    </tr>\n",
       "  </thead>\n",
       "  <tbody>\n",
       "    <tr>\n",
       "      <th>0</th>\n",
       "      <td>2018-09-29</td>\n",
       "      <td>00026e5050a70ef12d421f75c6a5c80d0f62d37acab8bd...</td>\n",
       "      <td>2.0</td>\n",
       "      <td>2.0</td>\n",
       "      <td>2.0</td>\n",
       "      <td>2.0</td>\n",
       "      <td>2.0</td>\n",
       "      <td>2.0</td>\n",
       "      <td>2.0</td>\n",
       "      <td>2.0</td>\n",
       "      <td>...</td>\n",
       "      <td>2.0</td>\n",
       "      <td>1.0</td>\n",
       "      <td>0.0</td>\n",
       "      <td>0.0</td>\n",
       "      <td>0.0</td>\n",
       "      <td>1.0</td>\n",
       "      <td>-99.0</td>\n",
       "      <td>-99.0</td>\n",
       "      <td>-99.0</td>\n",
       "      <td>-99.0</td>\n",
       "    </tr>\n",
       "    <tr>\n",
       "      <th>1</th>\n",
       "      <td>2018-09-29</td>\n",
       "      <td>0003f8bda56230a49445880e559b718e94ba37344494a7...</td>\n",
       "      <td>1.0</td>\n",
       "      <td>1.0</td>\n",
       "      <td>1.0</td>\n",
       "      <td>1.0</td>\n",
       "      <td>1.0</td>\n",
       "      <td>1.0</td>\n",
       "      <td>1.0</td>\n",
       "      <td>1.0</td>\n",
       "      <td>...</td>\n",
       "      <td>2.0</td>\n",
       "      <td>1.0</td>\n",
       "      <td>0.0</td>\n",
       "      <td>0.0</td>\n",
       "      <td>0.0</td>\n",
       "      <td>1.0</td>\n",
       "      <td>-99.0</td>\n",
       "      <td>-99.0</td>\n",
       "      <td>-99.0</td>\n",
       "      <td>-99.0</td>\n",
       "    </tr>\n",
       "    <tr>\n",
       "      <th>2</th>\n",
       "      <td>2018-09-29</td>\n",
       "      <td>000542d6fc6e9dcb83328d30503a7e022e5a6b4ea6357b...</td>\n",
       "      <td>1.0</td>\n",
       "      <td>1.0</td>\n",
       "      <td>1.0</td>\n",
       "      <td>1.0</td>\n",
       "      <td>1.0</td>\n",
       "      <td>1.0</td>\n",
       "      <td>1.0</td>\n",
       "      <td>1.0</td>\n",
       "      <td>...</td>\n",
       "      <td>0.0</td>\n",
       "      <td>1.0</td>\n",
       "      <td>0.0</td>\n",
       "      <td>0.0</td>\n",
       "      <td>0.0</td>\n",
       "      <td>1.0</td>\n",
       "      <td>1.0</td>\n",
       "      <td>1.0</td>\n",
       "      <td>-99.0</td>\n",
       "      <td>-99.0</td>\n",
       "    </tr>\n",
       "    <tr>\n",
       "      <th>3</th>\n",
       "      <td>2018-09-29</td>\n",
       "      <td>0006028dc3aefd41499be9c5428fb11691f3ce570e7cc8...</td>\n",
       "      <td>3.0</td>\n",
       "      <td>3.0</td>\n",
       "      <td>3.0</td>\n",
       "      <td>3.0</td>\n",
       "      <td>3.0</td>\n",
       "      <td>3.0</td>\n",
       "      <td>3.0</td>\n",
       "      <td>3.0</td>\n",
       "      <td>...</td>\n",
       "      <td>0.0</td>\n",
       "      <td>5.0</td>\n",
       "      <td>0.0</td>\n",
       "      <td>0.0</td>\n",
       "      <td>0.0</td>\n",
       "      <td>1.0</td>\n",
       "      <td>4.0</td>\n",
       "      <td>1.0</td>\n",
       "      <td>-99.0</td>\n",
       "      <td>-99.0</td>\n",
       "    </tr>\n",
       "    <tr>\n",
       "      <th>4</th>\n",
       "      <td>2018-09-29</td>\n",
       "      <td>0007da1b2aa0df73cf98077068a7da9039f57d9d51a1ae...</td>\n",
       "      <td>1.0</td>\n",
       "      <td>1.0</td>\n",
       "      <td>1.0</td>\n",
       "      <td>1.0</td>\n",
       "      <td>1.0</td>\n",
       "      <td>1.0</td>\n",
       "      <td>1.0</td>\n",
       "      <td>1.0</td>\n",
       "      <td>...</td>\n",
       "      <td>2.0</td>\n",
       "      <td>1.0</td>\n",
       "      <td>0.0</td>\n",
       "      <td>0.0</td>\n",
       "      <td>0.0</td>\n",
       "      <td>1.0</td>\n",
       "      <td>-99.0</td>\n",
       "      <td>-99.0</td>\n",
       "      <td>-99.0</td>\n",
       "      <td>-99.0</td>\n",
       "    </tr>\n",
       "  </tbody>\n",
       "</table>\n",
       "<p>5 rows × 110 columns</p>\n",
       "</div>"
      ],
      "text/plain": [
       "  anchor_date                                       user_id_hash  atr_count0  \\\n",
       "0  2018-09-29  00026e5050a70ef12d421f75c6a5c80d0f62d37acab8bd...         2.0   \n",
       "1  2018-09-29  0003f8bda56230a49445880e559b718e94ba37344494a7...         1.0   \n",
       "2  2018-09-29  000542d6fc6e9dcb83328d30503a7e022e5a6b4ea6357b...         1.0   \n",
       "3  2018-09-29  0006028dc3aefd41499be9c5428fb11691f3ce570e7cc8...         3.0   \n",
       "4  2018-09-29  0007da1b2aa0df73cf98077068a7da9039f57d9d51a1ae...         1.0   \n",
       "\n",
       "   atr_count1  atr_count3  atr_count4  atr_count5  atr_count6  atr_count8  \\\n",
       "0         2.0         2.0         2.0         2.0         2.0         2.0   \n",
       "1         1.0         1.0         1.0         1.0         1.0         1.0   \n",
       "2         1.0         1.0         1.0         1.0         1.0         1.0   \n",
       "3         3.0         3.0         3.0         3.0         3.0         3.0   \n",
       "4         1.0         1.0         1.0         1.0         1.0         1.0   \n",
       "\n",
       "   atr_count9    ...      atr_max21  atr_max66  atr_max75  atr_max76  \\\n",
       "0         2.0    ...            2.0        1.0        0.0        0.0   \n",
       "1         1.0    ...            2.0        1.0        0.0        0.0   \n",
       "2         1.0    ...            0.0        1.0        0.0        0.0   \n",
       "3         3.0    ...            0.0        5.0        0.0        0.0   \n",
       "4         1.0    ...            2.0        1.0        0.0        0.0   \n",
       "\n",
       "   atr_max77  atr_max78  atr_max7  atr_max10  atr_max67  atr_max96  \n",
       "0        0.0        1.0     -99.0      -99.0      -99.0      -99.0  \n",
       "1        0.0        1.0     -99.0      -99.0      -99.0      -99.0  \n",
       "2        0.0        1.0       1.0        1.0      -99.0      -99.0  \n",
       "3        0.0        1.0       4.0        1.0      -99.0      -99.0  \n",
       "4        0.0        1.0     -99.0      -99.0      -99.0      -99.0  \n",
       "\n",
       "[5 rows x 110 columns]"
      ]
     },
     "execution_count": 171,
     "metadata": {},
     "output_type": "execute_result"
    }
   ],
   "source": [
    "attrib_p.head()"
   ]
  },
  {
   "cell_type": "code",
   "execution_count": 172,
   "metadata": {
    "ExecuteTime": {
     "end_time": "2019-03-03T23:52:47.951009Z",
     "start_time": "2019-03-03T23:52:47.939074Z"
    },
    "hidden": true
   },
   "outputs": [
    {
     "data": {
      "text/plain": [
       "user_id_hash          category\n",
       "anchor_date     datetime64[ns]\n",
       "dtype: object"
      ]
     },
     "execution_count": 172,
     "metadata": {},
     "output_type": "execute_result"
    }
   ],
   "source": [
    "events_p[['user_id_hash', 'anchor_date']].dtypes"
   ]
  },
  {
   "cell_type": "code",
   "execution_count": 173,
   "metadata": {
    "ExecuteTime": {
     "end_time": "2019-03-03T23:52:49.166053Z",
     "start_time": "2019-03-03T23:52:48.921928Z"
    },
    "hidden": true
   },
   "outputs": [
    {
     "data": {
      "text/plain": [
       "user_id_hash            object\n",
       "anchor_date     datetime64[ns]\n",
       "dtype: object"
      ]
     },
     "execution_count": 173,
     "metadata": {},
     "output_type": "execute_result"
    }
   ],
   "source": [
    "df[['user_id_hash', 'anchor_date']].dtypes"
   ]
  },
  {
   "cell_type": "code",
   "execution_count": 174,
   "metadata": {
    "ExecuteTime": {
     "end_time": "2019-03-03T23:52:50.520446Z",
     "start_time": "2019-03-03T23:52:50.515863Z"
    },
    "hidden": true
   },
   "outputs": [
    {
     "data": {
      "text/plain": [
       "(3654559, 69)"
      ]
     },
     "execution_count": 174,
     "metadata": {},
     "output_type": "execute_result"
    }
   ],
   "source": [
    "df.shape"
   ]
  },
  {
   "cell_type": "code",
   "execution_count": 175,
   "metadata": {
    "ExecuteTime": {
     "end_time": "2019-03-03T23:53:07.142878Z",
     "start_time": "2019-03-03T23:52:52.849954Z"
    },
    "hidden": true
   },
   "outputs": [],
   "source": [
    "df = df.merge(events_p, on=['user_id_hash', 'anchor_date'], how='left')"
   ]
  },
  {
   "cell_type": "code",
   "execution_count": 176,
   "metadata": {
    "ExecuteTime": {
     "end_time": "2019-03-03T23:53:32.916649Z",
     "start_time": "2019-03-03T23:53:07.145700Z"
    },
    "hidden": true
   },
   "outputs": [],
   "source": [
    "df = df.merge(attrib_p, on=['user_id_hash', 'anchor_date'], how='left')"
   ]
  },
  {
   "cell_type": "code",
   "execution_count": 189,
   "metadata": {
    "ExecuteTime": {
     "end_time": "2019-03-03T23:58:49.897402Z",
     "start_time": "2019-03-03T23:58:49.722115Z"
    },
    "hidden": true
   },
   "outputs": [
    {
     "data": {
      "text/html": [
       "<div>\n",
       "<style scoped>\n",
       "    .dataframe tbody tr th:only-of-type {\n",
       "        vertical-align: middle;\n",
       "    }\n",
       "\n",
       "    .dataframe tbody tr th {\n",
       "        vertical-align: top;\n",
       "    }\n",
       "\n",
       "    .dataframe thead th {\n",
       "        text-align: right;\n",
       "    }\n",
       "</style>\n",
       "<table border=\"1\" class=\"dataframe\">\n",
       "  <thead>\n",
       "    <tr style=\"text-align: right;\">\n",
       "      <th></th>\n",
       "      <th>user_id_hash</th>\n",
       "      <th>anchor_date</th>\n",
       "    </tr>\n",
       "  </thead>\n",
       "  <tbody>\n",
       "    <tr>\n",
       "      <th>0</th>\n",
       "      <td>00000db35682058bb7916cb90f85709f54c1a0f7a3b6de...</td>\n",
       "      <td>2018-10-27</td>\n",
       "    </tr>\n",
       "    <tr>\n",
       "      <th>1</th>\n",
       "      <td>000062e9be78f3da274fec338e78f89d12000e781967f2...</td>\n",
       "      <td>2018-10-27</td>\n",
       "    </tr>\n",
       "    <tr>\n",
       "      <th>2</th>\n",
       "      <td>00006ad44c0d33a2a526caf75514643639b7b7070dfffd...</td>\n",
       "      <td>2018-10-27</td>\n",
       "    </tr>\n",
       "    <tr>\n",
       "      <th>3</th>\n",
       "      <td>0000c5de50d243cc39f6ac4268d7511705585ca3f2a20f...</td>\n",
       "      <td>2018-10-27</td>\n",
       "    </tr>\n",
       "    <tr>\n",
       "      <th>4</th>\n",
       "      <td>0000c91fb9908357cc11974d0fc67a260ddb46508055f2...</td>\n",
       "      <td>2018-10-27</td>\n",
       "    </tr>\n",
       "  </tbody>\n",
       "</table>\n",
       "</div>"
      ],
      "text/plain": [
       "                                        user_id_hash anchor_date\n",
       "0  00000db35682058bb7916cb90f85709f54c1a0f7a3b6de...  2018-10-27\n",
       "1  000062e9be78f3da274fec338e78f89d12000e781967f2...  2018-10-27\n",
       "2  00006ad44c0d33a2a526caf75514643639b7b7070dfffd...  2018-10-27\n",
       "3  0000c5de50d243cc39f6ac4268d7511705585ca3f2a20f...  2018-10-27\n",
       "4  0000c91fb9908357cc11974d0fc67a260ddb46508055f2...  2018-10-27"
      ]
     },
     "execution_count": 189,
     "metadata": {},
     "output_type": "execute_result"
    }
   ],
   "source": [
    "df[['user_id_hash', 'anchor_date']].head()"
   ]
  },
  {
   "cell_type": "code",
   "execution_count": 177,
   "metadata": {
    "ExecuteTime": {
     "end_time": "2019-03-03T23:53:32.924255Z",
     "start_time": "2019-03-03T23:53:32.919295Z"
    },
    "hidden": true
   },
   "outputs": [
    {
     "data": {
      "text/plain": [
       "(3654559, 337)"
      ]
     },
     "execution_count": 177,
     "metadata": {},
     "output_type": "execute_result"
    }
   ],
   "source": [
    "df.shape"
   ]
  },
  {
   "cell_type": "code",
   "execution_count": 178,
   "metadata": {
    "ExecuteTime": {
     "end_time": "2019-03-03T23:54:02.654131Z",
     "start_time": "2019-03-03T23:54:02.649784Z"
    },
    "hidden": true
   },
   "outputs": [],
   "source": [
    "feature_cols += [i for i in df.columns if i.startswith('event_')]"
   ]
  },
  {
   "cell_type": "code",
   "execution_count": 179,
   "metadata": {
    "ExecuteTime": {
     "end_time": "2019-03-03T23:54:03.994924Z",
     "start_time": "2019-03-03T23:54:03.991103Z"
    },
    "hidden": true
   },
   "outputs": [],
   "source": [
    "feature_cols += [i for i in df.columns if i.startswith('atr_')]"
   ]
  },
  {
   "cell_type": "code",
   "execution_count": 180,
   "metadata": {
    "ExecuteTime": {
     "end_time": "2019-03-03T23:54:04.630378Z",
     "start_time": "2019-03-03T23:54:04.624328Z"
    },
    "hidden": true
   },
   "outputs": [
    {
     "data": {
      "text/plain": [
       "array(['no_sessions', 'no_city', 'last_city', 'last_country',\n",
       "       'last_region', 'region_count', 'last_locale', 'total_session_time',\n",
       "       'mean_session_time', 'median_session_time', 'no_of_buys',\n",
       "       'sum_of_buys', 'user_age', 'pst_wk1_no_sessions',\n",
       "       'pst_wk1_no_city', 'pst_wk1_last_city', 'pst_wk1_last_country',\n",
       "       'pst_wk1_last_region', 'pst_wk1_region_count',\n",
       "       'pst_wk1_last_locale', 'pst_wk1_total_session_time',\n",
       "       'pst_wk1_mean_session_time', 'pst_wk1_median_session_time',\n",
       "       'pst_wk1_no_of_buys', 'pst_wk1_sum_of_buys', 'pst_wk2_no_sessions',\n",
       "       'pst_wk2_no_city', 'pst_wk2_last_city', 'pst_wk2_last_country',\n",
       "       'pst_wk2_last_region', 'pst_wk2_region_count',\n",
       "       'pst_wk2_last_locale', 'pst_wk2_total_session_time',\n",
       "       'pst_wk2_mean_session_time', 'pst_wk2_median_session_time',\n",
       "       'pst_wk2_no_of_buys', 'pst_wk2_sum_of_buys', 'pst_wk3_no_sessions',\n",
       "       'pst_wk3_no_city', 'pst_wk3_last_city', 'pst_wk3_last_country',\n",
       "       'pst_wk3_last_region', 'pst_wk3_region_count',\n",
       "       'pst_wk3_last_locale', 'pst_wk3_total_session_time',\n",
       "       'pst_wk3_mean_session_time', 'pst_wk3_median_session_time',\n",
       "       'pst_wk3_no_of_buys', 'pst_wk3_sum_of_buys', 'pst_wk4_no_sessions',\n",
       "       'pst_wk4_no_city', 'pst_wk4_last_city', 'pst_wk4_last_country',\n",
       "       'pst_wk4_last_region', 'pst_wk4_region_count',\n",
       "       'pst_wk4_last_locale', 'pst_wk4_total_session_time',\n",
       "       'pst_wk4_mean_session_time', 'pst_wk4_median_session_time',\n",
       "       'pst_wk4_no_of_buys', 'pst_wk4_sum_of_buys',\n",
       "       't_total_session_time', 't_no_sessions', 't_sum_of_buys',\n",
       "       't_no_of_buys', 'event_count14', 'event_count44', 'event_count45',\n",
       "       'event_count5', 'event_count7', 'event_count97', 'event_count1',\n",
       "       'event_count6', 'event_count4', 'event_count40', 'event_count11',\n",
       "       'event_count9', 'event_count3', 'event_count41', 'event_count42',\n",
       "       'event_count0', 'event_count43', 'event_count10', 'event_count47',\n",
       "       'event_count51', 'event_count58', 'event_count98', 'event_count50',\n",
       "       'event_count54', 'event_count59', 'event_count49', 'event_count56',\n",
       "       'event_count99', 'event_count63', 'event_count48', 'event_count52',\n",
       "       'event_count55', 'event_count60', 'event_count57', 'event_count64',\n",
       "       'event_count32', 'event_count61', 'event_count0/', 'event_count1/',\n",
       "       'event_count62', 'event_sum14', 'event_sum44', 'event_sum45',\n",
       "       'event_sum5', 'event_sum7', 'event_sum97', 'event_sum1',\n",
       "       'event_sum6', 'event_sum4', 'event_sum40', 'event_sum11',\n",
       "       'event_sum9', 'event_sum3', 'event_sum41', 'event_sum42',\n",
       "       'event_sum0', 'event_sum43', 'event_sum10', 'event_sum47',\n",
       "       'event_sum51', 'event_sum58', 'event_sum98', 'event_sum50',\n",
       "       'event_sum54', 'event_sum59', 'event_sum49', 'event_sum56',\n",
       "       'event_sum99', 'event_sum63', 'event_sum48', 'event_sum52',\n",
       "       'event_sum55', 'event_sum60', 'event_sum57', 'event_sum64',\n",
       "       'event_sum32', 'event_sum61', 'event_sum0/', 'event_sum1/',\n",
       "       'event_sum62', 'event_mean14', 'event_mean44', 'event_mean45',\n",
       "       'event_mean5', 'event_mean7', 'event_mean97', 'event_mean1',\n",
       "       'event_mean6', 'event_mean4', 'event_mean40', 'event_mean11',\n",
       "       'event_mean9', 'event_mean3', 'event_mean41', 'event_mean42',\n",
       "       'event_mean0', 'event_mean43', 'event_mean10', 'event_mean47',\n",
       "       'event_mean51', 'event_mean58', 'event_mean98', 'event_mean50',\n",
       "       'event_mean54', 'event_mean59', 'event_mean49', 'event_mean56',\n",
       "       'event_mean99', 'event_mean63', 'event_mean48', 'event_mean52',\n",
       "       'event_mean55', 'event_mean60', 'event_mean57', 'event_mean64',\n",
       "       'event_mean32', 'event_mean61', 'event_mean0/', 'event_mean1/',\n",
       "       'event_mean62', 'event_mode14', 'event_mode44', 'event_mode45',\n",
       "       'event_mode5', 'event_mode7', 'event_mode97', 'event_mode1',\n",
       "       'event_mode6', 'event_mode4', 'event_mode40', 'event_mode11',\n",
       "       'event_mode9', 'event_mode3', 'event_mode41', 'event_mode42',\n",
       "       'event_mode0', 'event_mode43', 'event_mode10', 'event_mode47',\n",
       "       'event_mode51', 'event_mode58', 'event_mode98', 'event_mode50',\n",
       "       'event_mode54', 'event_mode59', 'event_mode49', 'event_mode56',\n",
       "       'event_mode99', 'event_mode63', 'event_mode48', 'event_mode52',\n",
       "       'event_mode55', 'event_mode60', 'event_mode57', 'event_mode64',\n",
       "       'event_mode32', 'event_mode61', 'event_mode0/', 'event_mode1/',\n",
       "       'event_mode62', 'atr_count0', 'atr_count1', 'atr_count3',\n",
       "       'atr_count4', 'atr_count5', 'atr_count6', 'atr_count8',\n",
       "       'atr_count9', 'atr_count11', 'atr_count13', 'atr_count14',\n",
       "       'atr_count15', 'atr_count16', 'atr_count17', 'atr_count18',\n",
       "       'atr_count19', 'atr_count20', 'atr_count21', 'atr_count66',\n",
       "       'atr_count75', 'atr_count76', 'atr_count77', 'atr_count78',\n",
       "       'atr_count7', 'atr_count10', 'atr_count67', 'atr_count96',\n",
       "       'atr_mean0', 'atr_mean1', 'atr_mean3', 'atr_mean4', 'atr_mean5',\n",
       "       'atr_mean6', 'atr_mean8', 'atr_mean9', 'atr_mean11', 'atr_mean13',\n",
       "       'atr_mean14', 'atr_mean15', 'atr_mean16', 'atr_mean17',\n",
       "       'atr_mean18', 'atr_mean19', 'atr_mean20', 'atr_mean21',\n",
       "       'atr_mean66', 'atr_mean75', 'atr_mean76', 'atr_mean77',\n",
       "       'atr_mean78', 'atr_mean7', 'atr_mean10', 'atr_mean67',\n",
       "       'atr_mean96', 'atr_last0', 'atr_last1', 'atr_last3', 'atr_last4',\n",
       "       'atr_last5', 'atr_last6', 'atr_last8', 'atr_last9', 'atr_last11',\n",
       "       'atr_last13', 'atr_last14', 'atr_last15', 'atr_last16',\n",
       "       'atr_last17', 'atr_last18', 'atr_last19', 'atr_last20',\n",
       "       'atr_last21', 'atr_last66', 'atr_last75', 'atr_last76',\n",
       "       'atr_last77', 'atr_last78', 'atr_last7', 'atr_last10',\n",
       "       'atr_last67', 'atr_last96', 'atr_max0', 'atr_max1', 'atr_max3',\n",
       "       'atr_max4', 'atr_max5', 'atr_max6', 'atr_max8', 'atr_max9',\n",
       "       'atr_max11', 'atr_max13', 'atr_max14', 'atr_max15', 'atr_max16',\n",
       "       'atr_max17', 'atr_max18', 'atr_max19', 'atr_max20', 'atr_max21',\n",
       "       'atr_max66', 'atr_max75', 'atr_max76', 'atr_max77', 'atr_max78',\n",
       "       'atr_max7', 'atr_max10', 'atr_max67', 'atr_max96'], dtype='<U27')"
      ]
     },
     "execution_count": 180,
     "metadata": {},
     "output_type": "execute_result"
    }
   ],
   "source": [
    "np.array(feature_cols)"
   ]
  },
  {
   "cell_type": "code",
   "execution_count": 181,
   "metadata": {
    "ExecuteTime": {
     "end_time": "2019-03-03T23:54:48.092099Z",
     "start_time": "2019-03-03T23:54:11.534484Z"
    },
    "hidden": true
   },
   "outputs": [
    {
     "data": {
      "text/plain": [
       "user_age             107\n",
       "event_count14    2877411\n",
       "event_count44    2877411\n",
       "event_count45    2877411\n",
       "event_count5     2877411\n",
       "event_count7     2877411\n",
       "event_count97    2877411\n",
       "event_count1     2877411\n",
       "event_count6     2877411\n",
       "event_count4     2877411\n",
       "event_count40    2877411\n",
       "event_count11    2877411\n",
       "event_count9     2877411\n",
       "event_count3     2877411\n",
       "event_count41    2877411\n",
       "event_count42    2877411\n",
       "event_count0     2877411\n",
       "event_count43    2877411\n",
       "event_count10    2877411\n",
       "event_count47    2877411\n",
       "event_count51    2877411\n",
       "event_count58    2877411\n",
       "event_count98    2877411\n",
       "event_count50    2877411\n",
       "event_count54    2877411\n",
       "event_count59    2877411\n",
       "event_count49    2877411\n",
       "event_count56    2877411\n",
       "event_count99    2877411\n",
       "event_count63    2877411\n",
       "event_count48    2877411\n",
       "event_count52    2877411\n",
       "event_count55    2877411\n",
       "event_count60    2877411\n",
       "event_count57    2877411\n",
       "event_count64    2877411\n",
       "event_count32    2877411\n",
       "event_count61    2877411\n",
       "event_count0/    2877411\n",
       "event_count1/    2877411\n",
       "                  ...   \n",
       "atr_last18       2989998\n",
       "atr_last19       2989998\n",
       "atr_last20       2989998\n",
       "atr_last21       2989998\n",
       "atr_last66       2989998\n",
       "atr_last75       2989998\n",
       "atr_last76       2989998\n",
       "atr_last77       2989998\n",
       "atr_last78       2989998\n",
       "atr_last7        2989998\n",
       "atr_last10       2989998\n",
       "atr_last67       2989998\n",
       "atr_last96       2989998\n",
       "atr_max0         2989998\n",
       "atr_max1         2989998\n",
       "atr_max3         2989998\n",
       "atr_max4         2989998\n",
       "atr_max5         2989998\n",
       "atr_max6         2989998\n",
       "atr_max8         2989998\n",
       "atr_max9         2989998\n",
       "atr_max11        2989998\n",
       "atr_max13        2989998\n",
       "atr_max14        2989998\n",
       "atr_max15        2989998\n",
       "atr_max16        2989998\n",
       "atr_max17        2989998\n",
       "atr_max18        2989998\n",
       "atr_max19        2989998\n",
       "atr_max20        2989998\n",
       "atr_max21        2989998\n",
       "atr_max66        2989998\n",
       "atr_max75        2989998\n",
       "atr_max76        2989998\n",
       "atr_max77        2989998\n",
       "atr_max78        2989998\n",
       "atr_max7         2989998\n",
       "atr_max10        2989998\n",
       "atr_max67        2989998\n",
       "atr_max96        2989998\n",
       "Length: 269, dtype: int64"
      ]
     },
     "execution_count": 181,
     "metadata": {},
     "output_type": "execute_result"
    }
   ],
   "source": [
    "t = df.isna().sum()\n",
    "t[t > 0]"
   ]
  },
  {
   "cell_type": "code",
   "execution_count": 185,
   "metadata": {
    "ExecuteTime": {
     "end_time": "2019-03-03T23:55:39.455413Z",
     "start_time": "2019-03-03T23:55:39.448224Z"
    },
    "hidden": true
   },
   "outputs": [
    {
     "data": {
      "text/plain": [
       "array(['user_age', 'event_count14', 'event_count44', 'event_count45',\n",
       "       'event_count5', 'event_count7', 'event_count97', 'event_count1',\n",
       "       'event_count6', 'event_count4', 'event_count40', 'event_count11',\n",
       "       'event_count9', 'event_count3', 'event_count41', 'event_count42',\n",
       "       'event_count0', 'event_count43', 'event_count10', 'event_count47',\n",
       "       'event_count51', 'event_count58', 'event_count98', 'event_count50',\n",
       "       'event_count54', 'event_count59', 'event_count49', 'event_count56',\n",
       "       'event_count99', 'event_count63', 'event_count48', 'event_count52',\n",
       "       'event_count55', 'event_count60', 'event_count57', 'event_count64',\n",
       "       'event_count32', 'event_count61', 'event_count0/', 'event_count1/',\n",
       "       'event_count62', 'event_sum14', 'event_sum44', 'event_sum45',\n",
       "       'event_sum5', 'event_sum7', 'event_sum97', 'event_sum1',\n",
       "       'event_sum6', 'event_sum4', 'event_sum40', 'event_sum11',\n",
       "       'event_sum9', 'event_sum3', 'event_sum41', 'event_sum42',\n",
       "       'event_sum0', 'event_sum43', 'event_sum10', 'event_sum47',\n",
       "       'event_sum51', 'event_sum58', 'event_sum98', 'event_sum50',\n",
       "       'event_sum54', 'event_sum59', 'event_sum49', 'event_sum56',\n",
       "       'event_sum99', 'event_sum63', 'event_sum48', 'event_sum52',\n",
       "       'event_sum55', 'event_sum60', 'event_sum57', 'event_sum64',\n",
       "       'event_sum32', 'event_sum61', 'event_sum0/', 'event_sum1/',\n",
       "       'event_sum62', 'event_mean14', 'event_mean44', 'event_mean45',\n",
       "       'event_mean5', 'event_mean7', 'event_mean97', 'event_mean1',\n",
       "       'event_mean6', 'event_mean4', 'event_mean40', 'event_mean11',\n",
       "       'event_mean9', 'event_mean3', 'event_mean41', 'event_mean42',\n",
       "       'event_mean0', 'event_mean43', 'event_mean10', 'event_mean47',\n",
       "       'event_mean51', 'event_mean58', 'event_mean98', 'event_mean50',\n",
       "       'event_mean54', 'event_mean59', 'event_mean49', 'event_mean56',\n",
       "       'event_mean99', 'event_mean63', 'event_mean48', 'event_mean52',\n",
       "       'event_mean55', 'event_mean60', 'event_mean57', 'event_mean64',\n",
       "       'event_mean32', 'event_mean61', 'event_mean0/', 'event_mean1/',\n",
       "       'event_mean62', 'event_mode14', 'event_mode44', 'event_mode45',\n",
       "       'event_mode5', 'event_mode7', 'event_mode97', 'event_mode1',\n",
       "       'event_mode6', 'event_mode4', 'event_mode40', 'event_mode11',\n",
       "       'event_mode9', 'event_mode3', 'event_mode41', 'event_mode42',\n",
       "       'event_mode0', 'event_mode43', 'event_mode10', 'event_mode47',\n",
       "       'event_mode51', 'event_mode58', 'event_mode98', 'event_mode50',\n",
       "       'event_mode54', 'event_mode59', 'event_mode49', 'event_mode56',\n",
       "       'event_mode99', 'event_mode63', 'event_mode48', 'event_mode52',\n",
       "       'event_mode55', 'event_mode60', 'event_mode57', 'event_mode64',\n",
       "       'event_mode32', 'event_mode61', 'event_mode0/', 'event_mode1/',\n",
       "       'event_mode62', 'atr_count0', 'atr_count1', 'atr_count3',\n",
       "       'atr_count4', 'atr_count5', 'atr_count6', 'atr_count8',\n",
       "       'atr_count9', 'atr_count11', 'atr_count13', 'atr_count14',\n",
       "       'atr_count15', 'atr_count16', 'atr_count17', 'atr_count18',\n",
       "       'atr_count19', 'atr_count20', 'atr_count21', 'atr_count66',\n",
       "       'atr_count75', 'atr_count76', 'atr_count77', 'atr_count78',\n",
       "       'atr_count7', 'atr_count10', 'atr_count67', 'atr_count96',\n",
       "       'atr_mean0', 'atr_mean1', 'atr_mean3', 'atr_mean4', 'atr_mean5',\n",
       "       'atr_mean6', 'atr_mean8', 'atr_mean9', 'atr_mean11', 'atr_mean13',\n",
       "       'atr_mean14', 'atr_mean15', 'atr_mean16', 'atr_mean17',\n",
       "       'atr_mean18', 'atr_mean19', 'atr_mean20', 'atr_mean21',\n",
       "       'atr_mean66', 'atr_mean75', 'atr_mean76', 'atr_mean77',\n",
       "       'atr_mean78', 'atr_mean7', 'atr_mean10', 'atr_mean67',\n",
       "       'atr_mean96', 'atr_last0', 'atr_last1', 'atr_last3', 'atr_last4',\n",
       "       'atr_last5', 'atr_last6', 'atr_last8', 'atr_last9', 'atr_last11',\n",
       "       'atr_last13', 'atr_last14', 'atr_last15', 'atr_last16',\n",
       "       'atr_last17', 'atr_last18', 'atr_last19', 'atr_last20',\n",
       "       'atr_last21', 'atr_last66', 'atr_last75', 'atr_last76',\n",
       "       'atr_last77', 'atr_last78', 'atr_last7', 'atr_last10',\n",
       "       'atr_last67', 'atr_last96', 'atr_max0', 'atr_max1', 'atr_max3',\n",
       "       'atr_max4', 'atr_max5', 'atr_max6', 'atr_max8', 'atr_max9',\n",
       "       'atr_max11', 'atr_max13', 'atr_max14', 'atr_max15', 'atr_max16',\n",
       "       'atr_max17', 'atr_max18', 'atr_max19', 'atr_max20', 'atr_max21',\n",
       "       'atr_max66', 'atr_max75', 'atr_max76', 'atr_max77', 'atr_max78',\n",
       "       'atr_max7', 'atr_max10', 'atr_max67', 'atr_max96'], dtype=object)"
      ]
     },
     "execution_count": 185,
     "metadata": {},
     "output_type": "execute_result"
    }
   ],
   "source": [
    "t[t > 0].index.values"
   ]
  },
  {
   "cell_type": "code",
   "execution_count": 186,
   "metadata": {
    "ExecuteTime": {
     "end_time": "2019-03-03T23:56:34.245765Z",
     "start_time": "2019-03-03T23:56:28.318037Z"
    },
    "hidden": true
   },
   "outputs": [],
   "source": [
    "df.fillna(-99, inplace=True)"
   ]
  },
  {
   "cell_type": "code",
   "execution_count": 187,
   "metadata": {
    "ExecuteTime": {
     "end_time": "2019-03-03T23:57:06.601528Z",
     "start_time": "2019-03-03T23:56:42.008097Z"
    },
    "hidden": true
   },
   "outputs": [
    {
     "data": {
      "text/plain": [
       "Series([], dtype: int64)"
      ]
     },
     "execution_count": 187,
     "metadata": {},
     "output_type": "execute_result"
    }
   ],
   "source": [
    "t = df.isna().sum()\n",
    "t[t > 0]"
   ]
  },
  {
   "cell_type": "code",
   "execution_count": 188,
   "metadata": {
    "ExecuteTime": {
     "end_time": "2019-03-03T23:58:49.718739Z",
     "start_time": "2019-03-03T23:57:08.318942Z"
    },
    "hidden": true
   },
   "outputs": [],
   "source": [
    "df.to_pickle('../../datav2.pkl')"
   ]
  },
  {
   "cell_type": "code",
   "execution_count": 8,
   "metadata": {
    "ExecuteTime": {
     "end_time": "2019-03-04T01:41:55.402046Z",
     "start_time": "2019-03-04T01:39:47.316744Z"
    },
    "hidden": true
   },
   "outputs": [],
   "source": [
    "df = pd.read_pickle('../../datav2.pkl')"
   ]
  },
  {
   "cell_type": "code",
   "execution_count": 60,
   "metadata": {
    "ExecuteTime": {
     "end_time": "2019-02-27T10:02:31.568872Z",
     "start_time": "2019-02-27T10:02:29.436258Z"
    },
    "hidden": true
   },
   "outputs": [],
   "source": [
    "df.user_id_hash = df.user_id_hash.astype('category')\n",
    "df.last_city = df.last_city.astype('category')\n",
    "df.last_country = df.last_country.astype('category')\n",
    "df.last_region = df.last_region.astype('category')\n",
    "df.last_locale = df.last_locale.astype('category')\n",
    "\n",
    "df.last_city = df.last_city.cat.codes\n",
    "df.last_country = df.last_country.cat.codes\n",
    "df.last_region = df.last_region.cat.codes\n",
    "df.last_locale = df.last_locale.cat.codes\n",
    "\n",
    "df['y1'] = df['y1'].astype(np.int)\n",
    "df['y2'] = df['y2'].astype(np.int)"
   ]
  },
  {
   "cell_type": "code",
   "execution_count": 61,
   "metadata": {
    "ExecuteTime": {
     "end_time": "2019-02-27T10:02:46.335810Z",
     "start_time": "2019-02-27T10:02:40.799623Z"
    },
    "hidden": true
   },
   "outputs": [
    {
     "data": {
      "text/plain": [
       "anchor_date                0\n",
       "user_id_hash               0\n",
       "no_sessions                0\n",
       "no_city                    0\n",
       "last_city                  0\n",
       "last_country               0\n",
       "last_region                0\n",
       "region_count               0\n",
       "last_locale                0\n",
       "total_session_time         0\n",
       "mean_session_time          0\n",
       "median_session_time        0\n",
       "no_of_buys                 0\n",
       "sum_of_buys                0\n",
       "y1                         0\n",
       "y2                         0\n",
       "user_age                   0\n",
       "index_x                31045\n",
       "event_count1           31045\n",
       "event_count14          31045\n",
       "event_count3           31045\n",
       "event_count4           31045\n",
       "event_count40          31045\n",
       "event_count41          31045\n",
       "event_count42          31045\n",
       "event_count45          31045\n",
       "event_count5           31045\n",
       "event_count6           31045\n",
       "event_count7           31045\n",
       "event_count97          31045\n",
       "                       ...  \n",
       "atr_last78                 0\n",
       "atr_last67                 0\n",
       "atr_last96                 0\n",
       "atr_max0                   0\n",
       "atr_max1                   0\n",
       "atr_max3                   0\n",
       "atr_max4                   0\n",
       "atr_max5                   0\n",
       "atr_max6                   0\n",
       "atr_max7                   0\n",
       "atr_max8                   0\n",
       "atr_max9                   0\n",
       "atr_max10                  0\n",
       "atr_max11                  0\n",
       "atr_max13                  0\n",
       "atr_max14                  0\n",
       "atr_max15                  0\n",
       "atr_max16                  0\n",
       "atr_max17                  0\n",
       "atr_max18                  0\n",
       "atr_max19                  0\n",
       "atr_max20                  0\n",
       "atr_max21                  0\n",
       "atr_max66                  0\n",
       "atr_max75                  0\n",
       "atr_max76                  0\n",
       "atr_max77                  0\n",
       "atr_max78                  0\n",
       "atr_max67                  0\n",
       "atr_max96                  0\n",
       "Length: 287, dtype: int64"
      ]
     },
     "execution_count": 61,
     "metadata": {},
     "output_type": "execute_result"
    }
   ],
   "source": [
    "df.isna().sum()"
   ]
  },
  {
   "cell_type": "code",
   "execution_count": 62,
   "metadata": {
    "ExecuteTime": {
     "end_time": "2019-02-27T10:03:00.410530Z",
     "start_time": "2019-02-27T10:02:54.946318Z"
    },
    "hidden": true
   },
   "outputs": [],
   "source": [
    "for c in df.columns[df.isna().sum() > 0].values:\n",
    "    df[c].fillna(-50, inplace=True)"
   ]
  },
  {
   "cell_type": "code",
   "execution_count": 10,
   "metadata": {
    "ExecuteTime": {
     "end_time": "2019-02-27T15:43:57.554410Z",
     "start_time": "2019-02-27T15:43:57.551140Z"
    },
    "hidden": true
   },
   "outputs": [],
   "source": [
    "from warnings import filterwarnings"
   ]
  },
  {
   "cell_type": "code",
   "execution_count": 11,
   "metadata": {
    "ExecuteTime": {
     "end_time": "2019-02-27T15:44:03.684005Z",
     "start_time": "2019-02-27T15:44:03.680992Z"
    },
    "hidden": true
   },
   "outputs": [],
   "source": [
    "filterwarnings('ignore')"
   ]
  },
  {
   "cell_type": "code",
   "execution_count": 103,
   "metadata": {
    "ExecuteTime": {
     "end_time": "2019-02-27T11:01:05.650385Z",
     "start_time": "2019-02-27T11:00:57.857058Z"
    },
    "hidden": true
   },
   "outputs": [],
   "source": [
    "df.to_pickle('../thedf')"
   ]
  },
  {
   "cell_type": "code",
   "execution_count": 9,
   "metadata": {
    "ExecuteTime": {
     "end_time": "2019-02-27T15:43:35.944928Z",
     "start_time": "2019-02-27T15:43:08.178594Z"
    },
    "hidden": true
   },
   "outputs": [],
   "source": [
    "df = pd.read_pickle('../thedf')"
   ]
  },
  {
   "cell_type": "code",
   "execution_count": 34,
   "metadata": {
    "ExecuteTime": {
     "end_time": "2019-02-27T15:54:46.758646Z",
     "start_time": "2019-02-27T15:54:44.703529Z"
    },
    "hidden": true
   },
   "outputs": [],
   "source": [
    "train = df[df.anchor_date < dt.date(2018, 12, 10)]\n",
    "# test = df[(df.anchor_date >= dt.date(2018, 12, 1)) &\n",
    "#           (df.anchor_date < dt.date(2018, 12, 8))]"
   ]
  },
  {
   "cell_type": "code",
   "execution_count": 35,
   "metadata": {
    "ExecuteTime": {
     "end_time": "2019-02-27T15:54:53.749168Z",
     "start_time": "2019-02-27T15:54:50.139887Z"
    },
    "hidden": true
   },
   "outputs": [],
   "source": [
    "x_train = train[feature_cols].values\n",
    "y1_train = train[['y1']]\n",
    "y2_train = train[['y2']]"
   ]
  },
  {
   "cell_type": "code",
   "execution_count": 90,
   "metadata": {
    "ExecuteTime": {
     "end_time": "2019-02-27T10:20:33.675427Z",
     "start_time": "2019-02-27T10:20:33.672687Z"
    },
    "hidden": true
   },
   "outputs": [],
   "source": [
    "# x_test = test[feature_cols].values\n",
    "# y1_test = test[['y1']]\n",
    "# y2_test = test[['y2']]"
   ]
  },
  {
   "cell_type": "code",
   "execution_count": 37,
   "metadata": {
    "ExecuteTime": {
     "end_time": "2019-02-27T15:55:00.403775Z",
     "start_time": "2019-02-27T15:55:00.400212Z"
    },
    "hidden": true
   },
   "outputs": [],
   "source": [
    "rf1 = RandomForestClassifier(n_estimators=400, min_samples_leaf=10, n_jobs=-1)"
   ]
  },
  {
   "cell_type": "code",
   "execution_count": 38,
   "metadata": {
    "ExecuteTime": {
     "end_time": "2019-02-27T16:00:36.747214Z",
     "start_time": "2019-02-27T15:55:00.844524Z"
    },
    "hidden": true
   },
   "outputs": [
    {
     "data": {
      "text/plain": [
       "RandomForestClassifier(bootstrap=True, class_weight=None, criterion='gini',\n",
       "            max_depth=None, max_features='auto', max_leaf_nodes=None,\n",
       "            min_impurity_decrease=0.0, min_impurity_split=None,\n",
       "            min_samples_leaf=10, min_samples_split=2,\n",
       "            min_weight_fraction_leaf=0.0, n_estimators=400, n_jobs=-1,\n",
       "            oob_score=False, random_state=None, verbose=0,\n",
       "            warm_start=False)"
      ]
     },
     "execution_count": 38,
     "metadata": {},
     "output_type": "execute_result"
    }
   ],
   "source": [
    "rf1.fit(x_train, y1_train)"
   ]
  },
  {
   "cell_type": "code",
   "execution_count": 39,
   "metadata": {
    "ExecuteTime": {
     "end_time": "2019-02-27T16:01:06.672967Z",
     "start_time": "2019-02-27T16:00:36.750434Z"
    },
    "hidden": true
   },
   "outputs": [
    {
     "data": {
      "text/plain": [
       "0.9787527698638809"
      ]
     },
     "execution_count": 39,
     "metadata": {},
     "output_type": "execute_result"
    }
   ],
   "source": [
    "accuracy_score(y1_train, rf1.predict(x_train))"
   ]
  },
  {
   "cell_type": "code",
   "execution_count": 72,
   "metadata": {
    "ExecuteTime": {
     "end_time": "2019-02-27T10:09:32.669723Z",
     "start_time": "2019-02-27T10:09:32.667236Z"
    },
    "hidden": true
   },
   "outputs": [],
   "source": [
    "# accuracy_score(y1_test, rf1.predict(x_test))"
   ]
  },
  {
   "cell_type": "code",
   "execution_count": 40,
   "metadata": {
    "ExecuteTime": {
     "end_time": "2019-02-27T16:01:36.319371Z",
     "start_time": "2019-02-27T16:01:06.675099Z"
    },
    "hidden": true
   },
   "outputs": [
    {
     "data": {
      "text/plain": [
       "0.7183990323437283"
      ]
     },
     "execution_count": 40,
     "metadata": {},
     "output_type": "execute_result"
    }
   ],
   "source": [
    "roc_auc_score(y1_train, rf1.predict(x_train))"
   ]
  },
  {
   "cell_type": "code",
   "execution_count": 329,
   "metadata": {
    "ExecuteTime": {
     "end_time": "2019-02-27T07:08:39.995274Z",
     "start_time": "2019-02-27T07:08:39.557026Z"
    },
    "hidden": true
   },
   "outputs": [
    {
     "data": {
      "text/plain": [
       "0.6127301313633443"
      ]
     },
     "execution_count": 329,
     "metadata": {},
     "output_type": "execute_result"
    }
   ],
   "source": [
    "# roc_auc_score(y1_test, rf1.predict(x_test))"
   ]
  },
  {
   "cell_type": "code",
   "execution_count": 41,
   "metadata": {
    "ExecuteTime": {
     "end_time": "2019-02-27T16:01:36.461372Z",
     "start_time": "2019-02-27T16:01:36.322500Z"
    },
    "hidden": true,
    "scrolled": false
   },
   "outputs": [
    {
     "name": "stdout",
     "output_type": "stream",
     "text": [
      "sum_of_buys                   :  5.45%\n",
      "no_of_buys                    :  4.57%\n",
      "event_sum7                    :  3.85%\n",
      "atr_mean14                    :  3.53%\n",
      "atr_max1                      :  3.52%\n",
      "event_count7                  :  3.40%\n",
      "atr_mean1                     :  3.20%\n",
      "atr_max15                     :  3.01%\n",
      "atr_mean15                    :  2.75%\n",
      "atr_last1                     :  2.27%\n",
      "atr_mean13                    :  2.23%\n",
      "atr_max14                     :  2.08%\n",
      "atr_last13                    :  2.01%\n",
      "atr_max13                     :  1.88%\n",
      "atr_last14                    :  1.82%\n",
      "user_age                      :  1.78%\n",
      "atr_last15                    :  1.75%\n",
      "event_count45                 :  1.40%\n",
      "atr_last16                    :  0.91%\n",
      "atr_mean16                    :  0.90%\n",
      "atr_mean19                    :  0.83%\n",
      "atr_mean7                     :  0.82%\n",
      "event_count4                  :  0.78%\n",
      "atr_max16                     :  0.77%\n",
      "mean_session_time             :  0.77%\n",
      "median_session_time           :  0.77%\n",
      "total_session_time            :  0.77%\n",
      "event_mean7                   :  0.77%\n",
      "atr_mean5                     :  0.75%\n",
      "event_count6                  :  0.71%\n",
      "event_count40                 :  0.69%\n",
      "last_region                   :  0.69%\n",
      "event_count5                  :  0.67%\n",
      "event_sum5                    :  0.66%\n",
      "atr_mean9                     :  0.63%\n",
      "atr_mean3                     :  0.63%\n",
      "atr_mean6                     :  0.63%\n",
      "no_sessions                   :  0.62%\n",
      "last_city                     :  0.61%\n",
      "atr_last19                    :  0.55%\n",
      "atr_mean66                    :  0.55%\n",
      "atr_mean4                     :  0.54%\n",
      "atr_last7                     :  0.53%\n",
      "atr_max3                      :  0.53%\n",
      "atr_mean20                    :  0.52%\n",
      "atr_last5                     :  0.51%\n",
      "atr_mean75                    :  0.50%\n",
      "atr_mean77                    :  0.50%\n",
      "atr_mean8                     :  0.49%\n",
      "event_mean5                   :  0.49%\n",
      "event_count1                  :  0.48%\n",
      "atr_max7                      :  0.48%\n",
      "event_mode7                   :  0.46%\n",
      "atr_max5                      :  0.46%\n",
      "atr_max6                      :  0.45%\n",
      "atr_max9                      :  0.44%\n",
      "event_count41                 :  0.44%\n",
      "atr_count6                    :  0.44%\n",
      "atr_count8                    :  0.43%\n",
      "atr_last9                     :  0.43%\n",
      "atr_last6                     :  0.43%\n",
      "event_mean0                   :  0.42%\n",
      "event_mode0                   :  0.42%\n",
      "atr_max19                     :  0.42%\n",
      "atr_count20                   :  0.41%\n",
      "event_count0                  :  0.40%\n",
      "atr_count7                    :  0.40%\n",
      "atr_count75                   :  0.40%\n",
      "atr_count21                   :  0.39%\n",
      "event_sum0                    :  0.39%\n",
      "atr_count0                    :  0.38%\n",
      "event_count42                 :  0.38%\n",
      "atr_count5                    :  0.38%\n",
      "atr_mean18                    :  0.38%\n",
      "event_count3                  :  0.38%\n",
      "atr_count3                    :  0.37%\n",
      "last_locale                   :  0.37%\n",
      "atr_count76                   :  0.36%\n",
      "atr_max4                      :  0.36%\n",
      "atr_max77                     :  0.35%\n",
      "atr_count10                   :  0.35%\n",
      "atr_count4                    :  0.35%\n",
      "atr_count1                    :  0.34%\n",
      "atr_count19                   :  0.34%\n",
      "atr_count13                   :  0.34%\n",
      "atr_count78                   :  0.34%\n",
      "atr_max75                     :  0.34%\n",
      "atr_mean0                     :  0.34%\n",
      "atr_last4                     :  0.33%\n",
      "atr_count15                   :  0.33%\n",
      "atr_count77                   :  0.33%\n",
      "atr_last75                    :  0.33%\n",
      "atr_count66                   :  0.33%\n",
      "atr_count16                   :  0.33%\n",
      "atr_count17                   :  0.32%\n",
      "last_country                  :  0.32%\n",
      "atr_max66                     :  0.32%\n",
      "atr_last77                    :  0.32%\n",
      "event_count14                 :  0.32%\n",
      "atr_last66                    :  0.32%\n",
      "atr_count14                   :  0.30%\n",
      "atr_count11                   :  0.30%\n",
      "atr_count18                   :  0.29%\n",
      "atr_count9                    :  0.29%\n",
      "atr_max18                     :  0.28%\n",
      "event_count97                 :  0.27%\n",
      "atr_max8                      :  0.27%\n",
      "atr_last8                     :  0.26%\n",
      "atr_last20                    :  0.25%\n",
      "event_count55                 :  0.25%\n",
      "atr_count67                   :  0.25%\n",
      "event_count47                 :  0.25%\n",
      "atr_mean67                    :  0.23%\n",
      "event_count63                 :  0.21%\n",
      "atr_mean17                    :  0.19%\n",
      "event_count98                 :  0.17%\n",
      "atr_last3                     :  0.17%\n",
      "no_city                       :  0.16%\n",
      "atr_max0                      :  0.15%\n",
      "atr_mean21                    :  0.15%\n",
      "event_count64                 :  0.14%\n",
      "event_mode97                  :  0.13%\n",
      "atr_last18                    :  0.13%\n",
      "event_sum97                   :  0.13%\n",
      "event_mean97                  :  0.13%\n",
      "atr_last67                    :  0.12%\n",
      "atr_max67                     :  0.12%\n",
      "atr_max20                     :  0.12%\n",
      "atr_last0                     :  0.12%\n",
      "event_mode42                  :  0.11%\n",
      "atr_max17                     :  0.10%\n",
      "atr_last17                    :  0.10%\n",
      "event_mean42                  :  0.10%\n",
      "event_mean98                  :  0.09%\n",
      "event_mode98                  :  0.09%\n",
      "event_sum98                   :  0.09%\n",
      "event_sum42                   :  0.08%\n",
      "event_mean44                  :  0.08%\n",
      "region_count                  :  0.08%\n",
      "event_mode11                  :  0.07%\n",
      "event_sum11                   :  0.07%\n",
      "event_sum44                   :  0.07%\n",
      "event_mode44                  :  0.07%\n",
      "event_sum64                   :  0.07%\n",
      "event_mean11                  :  0.07%\n",
      "event_count44                 :  0.07%\n",
      "event_mean3                   :  0.07%\n",
      "atr_max21                     :  0.06%\n",
      "event_mean63                  :  0.06%\n",
      "event_mode63                  :  0.06%\n",
      "event_mean55                  :  0.06%\n",
      "event_sum63                   :  0.06%\n",
      "event_mode55                  :  0.06%\n",
      "event_sum3                    :  0.06%\n",
      "event_mode47                  :  0.05%\n",
      "event_mean14                  :  0.05%\n",
      "event_mean64                  :  0.05%\n",
      "event_mode14                  :  0.05%\n",
      "event_mode64                  :  0.05%\n",
      "event_mean47                  :  0.05%\n",
      "event_mode3                   :  0.05%\n",
      "event_count11                 :  0.05%\n",
      "event_mode41                  :  0.04%\n",
      "event_sum47                   :  0.04%\n",
      "event_count9                  :  0.04%\n",
      "event_sum9                    :  0.04%\n",
      "event_mode1                   :  0.04%\n",
      "event_count59                 :  0.04%\n",
      "event_sum55                   :  0.04%\n",
      "event_mode40                  :  0.04%\n",
      "event_sum14                   :  0.04%\n",
      "event_mode5                   :  0.04%\n",
      "event_mean41                  :  0.04%\n",
      "event_count57                 :  0.03%\n",
      "event_mean9                   :  0.03%\n",
      "event_mode9                   :  0.03%\n",
      "event_sum41                   :  0.03%\n",
      "event_mean1                   :  0.03%\n",
      "event_sum1                    :  0.03%\n",
      "event_sum57                   :  0.03%\n",
      "event_sum40                   :  0.03%\n",
      "event_mean40                  :  0.03%\n",
      "event_mode57                  :  0.02%\n",
      "event_mean57                  :  0.02%\n",
      "event_mean59                  :  0.02%\n",
      "event_mode59                  :  0.02%\n",
      "event_sum4                    :  0.02%\n",
      "event_sum60                   :  0.02%\n",
      "atr_max11                     :  0.02%\n",
      "event_count60                 :  0.02%\n",
      "event_mode4                   :  0.02%\n",
      "event_mode60                  :  0.02%\n",
      "event_mean60                  :  0.02%\n",
      "event_mean4                   :  0.02%\n",
      "atr_last11                    :  0.02%\n",
      "event_count50                 :  0.02%\n",
      "atr_mean11                    :  0.01%\n",
      "event_mean50                  :  0.01%\n",
      "event_sum59                   :  0.01%\n",
      "event_mean6                   :  0.01%\n",
      "event_sum6                    :  0.01%\n",
      "event_mode50                  :  0.01%\n",
      "event_mean45                  :  0.01%\n",
      "event_mode6                   :  0.01%\n",
      "atr_last21                    :  0.01%\n",
      "event_sum50                   :  0.01%\n",
      "event_count54                 :  0.01%\n",
      "event_mode54                  :  0.01%\n",
      "event_count43                 :  0.01%\n",
      "event_mode43                  :  0.01%\n",
      "event_mean43                  :  0.01%\n",
      "event_sum43                   :  0.01%\n",
      "event_mean54                  :  0.01%\n",
      "event_sum45                   :  0.01%\n",
      "event_mode52                  :  0.01%\n",
      "event_mean48                  :  0.01%\n",
      "event_count49                 :  0.00%\n",
      "atr_count96                   :  0.00%\n",
      "event_sum54                   :  0.00%\n",
      "event_mode48                  :  0.00%\n",
      "event_mode45                  :  0.00%\n",
      "atr_mean96                    :  0.00%\n",
      "event_count48                 :  0.00%\n",
      "event_sum49                   :  0.00%\n",
      "atr_last96                    :  0.00%\n",
      "event_mean52                  :  0.00%\n",
      "atr_max96                     :  0.00%\n",
      "event_sum52                   :  0.00%\n",
      "event_mean49                  :  0.00%\n",
      "event_sum48                   :  0.00%\n",
      "event_count52                 :  0.00%\n",
      "event_mode49                  :  0.00%\n",
      "atr_last10                    :  0.00%\n",
      "atr_max10                     :  0.00%\n",
      "event_mean51                  :  0.00%\n",
      "atr_mean10                    :  0.00%\n",
      "event_mode51                  :  0.00%\n",
      "event_count51                 :  0.00%\n",
      "event_sum56                   :  0.00%\n",
      "event_mode56                  :  0.00%\n",
      "event_sum51                   :  0.00%\n",
      "event_sum10                   :  0.00%\n",
      "event_mode58                  :  0.00%\n",
      "event_count56                 :  0.00%\n",
      "event_count10                 :  0.00%\n",
      "event_mean10                  :  0.00%\n",
      "event_count58                 :  0.00%\n",
      "event_mean58                  :  0.00%\n",
      "event_mode10                  :  0.00%\n",
      "event_mean56                  :  0.00%\n",
      "event_mode99                  :  0.00%\n",
      "event_sum99                   :  0.00%\n",
      "atr_last78                    :  0.00%\n",
      "event_sum61                   :  0.00%\n",
      "event_mode0/                  :  0.00%\n",
      "event_mean62                  :  0.00%\n",
      "event_count32                 :  0.00%\n",
      "atr_max78                     :  0.00%\n",
      "event_mode1/                  :  0.00%\n",
      "atr_mean78                    :  0.00%\n",
      "event_mean0/                  :  0.00%\n",
      "event_sum0/                   :  0.00%\n",
      "event_mode61                  :  0.00%\n",
      "event_mean32                  :  0.00%\n",
      "event_mode62                  :  0.00%\n",
      "event_sum62                   :  0.00%\n",
      "event_sum1/                   :  0.00%\n",
      "event_mode32                  :  0.00%\n",
      "event_mean1/                  :  0.00%\n",
      "event_sum58                   :  0.00%\n",
      "event_count62                 :  0.00%\n",
      "event_count61                 :  0.00%\n",
      "event_count0/                 :  0.00%\n",
      "event_sum32                   :  0.00%\n",
      "event_count1/                 :  0.00%\n",
      "event_mean99                  :  0.00%\n",
      "event_count99                 :  0.00%\n",
      "event_mean61                  :  0.00%\n",
      "atr_mean76                    :  0.00%\n",
      "atr_last76                    :  0.00%\n",
      "atr_max76                     :  0.00%\n"
     ]
    }
   ],
   "source": [
    "print_feature_importance(rf1)"
   ]
  },
  {
   "cell_type": "code",
   "execution_count": 42,
   "metadata": {
    "ExecuteTime": {
     "end_time": "2019-02-27T16:01:36.468567Z",
     "start_time": "2019-02-27T16:01:36.464345Z"
    },
    "hidden": true
   },
   "outputs": [],
   "source": [
    "xg1 = XGBClassifier(max_depth=5, learning_rate=0.01,\n",
    "                          n_estimators=300, n_jobs=-1)"
   ]
  },
  {
   "cell_type": "code",
   "execution_count": 43,
   "metadata": {
    "ExecuteTime": {
     "end_time": "2019-02-27T16:07:08.171777Z",
     "start_time": "2019-02-27T16:01:36.470249Z"
    },
    "hidden": true
   },
   "outputs": [
    {
     "data": {
      "text/plain": [
       "XGBClassifier(base_score=0.5, booster='gbtree', colsample_bylevel=1,\n",
       "       colsample_bytree=1, gamma=0, learning_rate=0.01, max_delta_step=0,\n",
       "       max_depth=5, min_child_weight=1, missing=None, n_estimators=300,\n",
       "       n_jobs=-1, nthread=None, objective='binary:logistic',\n",
       "       random_state=0, reg_alpha=0, reg_lambda=1, scale_pos_weight=1,\n",
       "       seed=None, silent=True, subsample=1)"
      ]
     },
     "execution_count": 43,
     "metadata": {},
     "output_type": "execute_result"
    }
   ],
   "source": [
    "xg1.fit(x_train, y1_train)"
   ]
  },
  {
   "cell_type": "code",
   "execution_count": 44,
   "metadata": {
    "ExecuteTime": {
     "end_time": "2019-02-27T16:07:13.599900Z",
     "start_time": "2019-02-27T16:07:08.174092Z"
    },
    "hidden": true
   },
   "outputs": [
    {
     "data": {
      "text/plain": [
       "0.9692866941015089"
      ]
     },
     "execution_count": 44,
     "metadata": {},
     "output_type": "execute_result"
    }
   ],
   "source": [
    "accuracy_score(y1_train, xg1.predict(x_train))"
   ]
  },
  {
   "cell_type": "code",
   "execution_count": 72,
   "metadata": {
    "ExecuteTime": {
     "end_time": "2019-02-27T10:09:32.669723Z",
     "start_time": "2019-02-27T10:09:32.667236Z"
    },
    "hidden": true
   },
   "outputs": [],
   "source": [
    "# accuracy_score(y1_test, rf1.predict(x_test))"
   ]
  },
  {
   "cell_type": "code",
   "execution_count": 45,
   "metadata": {
    "ExecuteTime": {
     "end_time": "2019-02-27T16:07:18.777228Z",
     "start_time": "2019-02-27T16:07:13.601947Z"
    },
    "hidden": true
   },
   "outputs": [
    {
     "data": {
      "text/plain": [
       "0.630694651904953"
      ]
     },
     "execution_count": 45,
     "metadata": {},
     "output_type": "execute_result"
    }
   ],
   "source": [
    "roc_auc_score(y1_train, xg1.predict(x_train))"
   ]
  },
  {
   "cell_type": "code",
   "execution_count": 46,
   "metadata": {
    "ExecuteTime": {
     "end_time": "2019-02-27T16:07:18.843194Z",
     "start_time": "2019-02-27T16:07:18.779432Z"
    },
    "hidden": true,
    "scrolled": false
   },
   "outputs": [
    {
     "name": "stdout",
     "output_type": "stream",
     "text": [
      "user_age                      : 14.30%\n",
      "event_count0                  :  8.44%\n",
      "event_count97                 :  4.83%\n",
      "last_country                  :  4.11%\n",
      "atr_mean14                    :  3.25%\n",
      "last_locale                   :  3.15%\n",
      "event_count55                 :  3.12%\n",
      "event_sum7                    :  2.67%\n",
      "total_session_time            :  2.39%\n",
      "event_count41                 :  2.35%\n",
      "atr_mean15                    :  2.09%\n",
      "atr_count66                   :  2.07%\n",
      "atr_max15                     :  1.90%\n",
      "event_count42                 :  1.78%\n",
      "event_count7                  :  1.78%\n",
      "event_count98                 :  1.72%\n",
      "sum_of_buys                   :  1.61%\n",
      "atr_mean11                    :  1.43%\n",
      "event_count64                 :  1.40%\n",
      "atr_mean16                    :  1.40%\n",
      "atr_mean9                     :  1.34%\n",
      "atr_last67                    :  1.26%\n",
      "event_count45                 :  1.24%\n",
      "atr_last7                     :  1.21%\n",
      "atr_max16                     :  1.21%\n",
      "atr_mean66                    :  1.19%\n",
      "no_of_buys                    :  1.16%\n",
      "event_mean5                   :  1.12%\n",
      "event_count3                  :  0.98%\n",
      "atr_last15                    :  0.96%\n",
      "last_city                     :  0.95%\n",
      "no_sessions                   :  0.92%\n",
      "atr_count0                    :  0.90%\n",
      "atr_last5                     :  0.89%\n",
      "atr_count78                   :  0.88%\n",
      "atr_mean8                     :  0.81%\n",
      "atr_count7                    :  0.77%\n",
      "event_count47                 :  0.74%\n",
      "mean_session_time             :  0.72%\n",
      "atr_count67                   :  0.71%\n",
      "atr_mean1                     :  0.71%\n",
      "atr_last1                     :  0.70%\n",
      "atr_max9                      :  0.68%\n",
      "atr_mean7                     :  0.63%\n",
      "event_count44                 :  0.62%\n",
      "atr_count5                    :  0.59%\n",
      "atr_max8                      :  0.56%\n",
      "event_count40                 :  0.55%\n",
      "atr_last13                    :  0.53%\n",
      "atr_mean0                     :  0.49%\n",
      "atr_mean67                    :  0.47%\n",
      "atr_max1                      :  0.47%\n",
      "event_count57                 :  0.43%\n",
      "event_count1                  :  0.41%\n",
      "atr_mean75                    :  0.40%\n",
      "atr_last16                    :  0.40%\n",
      "atr_last14                    :  0.39%\n",
      "event_count4                  :  0.35%\n",
      "atr_last19                    :  0.35%\n",
      "atr_last20                    :  0.35%\n",
      "event_sum5                    :  0.34%\n",
      "event_count14                 :  0.32%\n",
      "event_count49                 :  0.32%\n",
      "atr_max13                     :  0.31%\n",
      "event_count63                 :  0.27%\n",
      "last_region                   :  0.26%\n",
      "atr_mean19                    :  0.23%\n",
      "atr_max66                     :  0.23%\n",
      "atr_mean20                    :  0.22%\n",
      "atr_last9                     :  0.20%\n",
      "atr_mean13                    :  0.19%\n",
      "atr_mean6                     :  0.15%\n",
      "atr_mean3                     :  0.10%\n",
      "atr_last17                    :  0.10%\n",
      "event_count43                 :  0.09%\n",
      "atr_max6                      :  0.09%\n",
      "atr_max14                     :  0.08%\n",
      "event_mean7                   :  0.07%\n",
      "atr_max4                      :  0.07%\n",
      "atr_max18                     :  0.07%\n",
      "atr_max19                     :  0.07%\n",
      "atr_last66                    :  0.05%\n",
      "no_city                       :  0.04%\n",
      "event_count5                  :  0.04%\n",
      "atr_max5                      :  0.04%\n",
      "event_count9                  :  0.03%\n",
      "atr_max75                     :  0.03%\n",
      "region_count                  :  0.02%\n",
      "event_count6                  :  0.02%\n",
      "event_count11                 :  0.02%\n",
      "atr_count96                   :  0.02%\n",
      "atr_mean4                     :  0.02%\n",
      "atr_mean5                     :  0.02%\n",
      "atr_mean18                    :  0.02%\n",
      "atr_max7                      :  0.02%\n",
      "median_session_time           :  0.01%\n",
      "atr_last8                     :  0.01%\n",
      "atr_max3                      :  0.01%\n",
      "event_count10                 :  0.00%\n",
      "event_count54                 :  0.00%\n",
      "event_count99                 :  0.00%\n",
      "event_count58                 :  0.00%\n",
      "event_count50                 :  0.00%\n",
      "event_count51                 :  0.00%\n",
      "event_count59                 :  0.00%\n",
      "event_count48                 :  0.00%\n",
      "event_count52                 :  0.00%\n",
      "event_count56                 :  0.00%\n",
      "event_count60                 :  0.00%\n",
      "event_count32                 :  0.00%\n",
      "event_count61                 :  0.00%\n",
      "event_count0/                 :  0.00%\n",
      "event_count1/                 :  0.00%\n",
      "event_count62                 :  0.00%\n",
      "event_sum1                    :  0.00%\n",
      "event_sum14                   :  0.00%\n",
      "event_sum3                    :  0.00%\n",
      "event_sum4                    :  0.00%\n",
      "event_sum40                   :  0.00%\n",
      "event_sum41                   :  0.00%\n",
      "event_sum42                   :  0.00%\n",
      "event_sum45                   :  0.00%\n",
      "event_sum6                    :  0.00%\n",
      "event_sum97                   :  0.00%\n",
      "event_sum98                   :  0.00%\n",
      "event_sum0                    :  0.00%\n",
      "event_sum11                   :  0.00%\n",
      "event_sum44                   :  0.00%\n",
      "event_sum9                    :  0.00%\n",
      "event_sum10                   :  0.00%\n",
      "event_sum43                   :  0.00%\n",
      "event_sum47                   :  0.00%\n",
      "event_sum54                   :  0.00%\n",
      "event_sum99                   :  0.00%\n",
      "event_sum58                   :  0.00%\n",
      "event_sum50                   :  0.00%\n",
      "event_sum51                   :  0.00%\n",
      "event_sum63                   :  0.00%\n",
      "event_sum59                   :  0.00%\n",
      "event_sum48                   :  0.00%\n",
      "event_sum49                   :  0.00%\n",
      "event_sum52                   :  0.00%\n",
      "event_sum56                   :  0.00%\n",
      "event_sum55                   :  0.00%\n",
      "event_sum60                   :  0.00%\n",
      "event_sum57                   :  0.00%\n",
      "event_sum64                   :  0.00%\n",
      "event_sum32                   :  0.00%\n",
      "event_sum61                   :  0.00%\n",
      "event_sum0/                   :  0.00%\n",
      "event_sum1/                   :  0.00%\n",
      "event_sum62                   :  0.00%\n",
      "event_mean1                   :  0.00%\n",
      "event_mean14                  :  0.00%\n",
      "event_mean3                   :  0.00%\n",
      "event_mean4                   :  0.00%\n",
      "event_mean40                  :  0.00%\n",
      "event_mean41                  :  0.00%\n",
      "event_mean42                  :  0.00%\n",
      "event_mean45                  :  0.00%\n",
      "event_mean6                   :  0.00%\n",
      "event_mean97                  :  0.00%\n",
      "event_mean98                  :  0.00%\n",
      "event_mean0                   :  0.00%\n",
      "event_mean11                  :  0.00%\n",
      "event_mean44                  :  0.00%\n",
      "event_mean9                   :  0.00%\n",
      "event_mean10                  :  0.00%\n",
      "event_mean43                  :  0.00%\n",
      "event_mean47                  :  0.00%\n",
      "event_mean54                  :  0.00%\n",
      "event_mean99                  :  0.00%\n",
      "event_mean58                  :  0.00%\n",
      "event_mean50                  :  0.00%\n",
      "event_mean51                  :  0.00%\n",
      "event_mean63                  :  0.00%\n",
      "event_mean59                  :  0.00%\n",
      "event_mean48                  :  0.00%\n",
      "event_mean49                  :  0.00%\n",
      "event_mean52                  :  0.00%\n",
      "event_mean56                  :  0.00%\n",
      "event_mean55                  :  0.00%\n",
      "event_mean60                  :  0.00%\n",
      "event_mean57                  :  0.00%\n",
      "event_mean64                  :  0.00%\n",
      "event_mean32                  :  0.00%\n",
      "event_mean61                  :  0.00%\n",
      "event_mean0/                  :  0.00%\n",
      "event_mean1/                  :  0.00%\n",
      "event_mean62                  :  0.00%\n",
      "event_mode1                   :  0.00%\n",
      "event_mode14                  :  0.00%\n",
      "event_mode3                   :  0.00%\n",
      "event_mode4                   :  0.00%\n",
      "event_mode40                  :  0.00%\n",
      "event_mode41                  :  0.00%\n",
      "event_mode42                  :  0.00%\n",
      "event_mode45                  :  0.00%\n",
      "event_mode5                   :  0.00%\n",
      "event_mode6                   :  0.00%\n",
      "event_mode7                   :  0.00%\n",
      "event_mode97                  :  0.00%\n",
      "event_mode98                  :  0.00%\n",
      "event_mode0                   :  0.00%\n",
      "event_mode11                  :  0.00%\n",
      "event_mode44                  :  0.00%\n",
      "event_mode9                   :  0.00%\n",
      "event_mode10                  :  0.00%\n",
      "event_mode43                  :  0.00%\n",
      "event_mode47                  :  0.00%\n",
      "event_mode54                  :  0.00%\n",
      "event_mode99                  :  0.00%\n",
      "event_mode58                  :  0.00%\n",
      "event_mode50                  :  0.00%\n",
      "event_mode51                  :  0.00%\n",
      "event_mode63                  :  0.00%\n",
      "event_mode59                  :  0.00%\n",
      "event_mode48                  :  0.00%\n",
      "event_mode49                  :  0.00%\n",
      "event_mode52                  :  0.00%\n",
      "event_mode56                  :  0.00%\n",
      "event_mode55                  :  0.00%\n",
      "event_mode60                  :  0.00%\n",
      "event_mode57                  :  0.00%\n",
      "event_mode64                  :  0.00%\n",
      "event_mode32                  :  0.00%\n",
      "event_mode61                  :  0.00%\n",
      "event_mode0/                  :  0.00%\n",
      "event_mode1/                  :  0.00%\n",
      "event_mode62                  :  0.00%\n",
      "atr_count1                    :  0.00%\n",
      "atr_count3                    :  0.00%\n",
      "atr_count4                    :  0.00%\n",
      "atr_count6                    :  0.00%\n",
      "atr_count8                    :  0.00%\n",
      "atr_count9                    :  0.00%\n",
      "atr_count10                   :  0.00%\n",
      "atr_count11                   :  0.00%\n",
      "atr_count13                   :  0.00%\n",
      "atr_count14                   :  0.00%\n",
      "atr_count15                   :  0.00%\n",
      "atr_count16                   :  0.00%\n",
      "atr_count17                   :  0.00%\n",
      "atr_count18                   :  0.00%\n",
      "atr_count19                   :  0.00%\n",
      "atr_count20                   :  0.00%\n",
      "atr_count21                   :  0.00%\n",
      "atr_count75                   :  0.00%\n",
      "atr_count76                   :  0.00%\n",
      "atr_count77                   :  0.00%\n",
      "atr_mean10                    :  0.00%\n",
      "atr_mean17                    :  0.00%\n",
      "atr_mean21                    :  0.00%\n",
      "atr_mean76                    :  0.00%\n",
      "atr_mean77                    :  0.00%\n",
      "atr_mean78                    :  0.00%\n",
      "atr_mean96                    :  0.00%\n",
      "atr_last0                     :  0.00%\n",
      "atr_last3                     :  0.00%\n",
      "atr_last4                     :  0.00%\n",
      "atr_last6                     :  0.00%\n",
      "atr_last10                    :  0.00%\n",
      "atr_last11                    :  0.00%\n",
      "atr_last18                    :  0.00%\n",
      "atr_last21                    :  0.00%\n",
      "atr_last75                    :  0.00%\n",
      "atr_last76                    :  0.00%\n",
      "atr_last77                    :  0.00%\n",
      "atr_last78                    :  0.00%\n",
      "atr_last96                    :  0.00%\n",
      "atr_max0                      :  0.00%\n",
      "atr_max10                     :  0.00%\n",
      "atr_max11                     :  0.00%\n",
      "atr_max17                     :  0.00%\n",
      "atr_max20                     :  0.00%\n",
      "atr_max21                     :  0.00%\n",
      "atr_max76                     :  0.00%\n",
      "atr_max77                     :  0.00%\n",
      "atr_max78                     :  0.00%\n",
      "atr_max67                     :  0.00%\n",
      "atr_max96                     :  0.00%\n"
     ]
    }
   ],
   "source": [
    "print_feature_importance(xg1)"
   ]
  },
  {
   "cell_type": "markdown",
   "metadata": {
    "hidden": true
   },
   "source": [
    "### y2"
   ]
  },
  {
   "cell_type": "code",
   "execution_count": 47,
   "metadata": {
    "ExecuteTime": {
     "end_time": "2019-02-27T16:17:28.592305Z",
     "start_time": "2019-02-27T16:17:19.588157Z"
    },
    "hidden": true
   },
   "outputs": [],
   "source": [
    "train2 = df[df.anchor_date < dt.date(2018, 12, 3)]\n",
    "x2_train = train2[feature_cols].values\n",
    "y2_train = train2[['y2']]"
   ]
  },
  {
   "cell_type": "code",
   "execution_count": 48,
   "metadata": {
    "ExecuteTime": {
     "end_time": "2019-02-27T16:17:28.598736Z",
     "start_time": "2019-02-27T16:17:28.595286Z"
    },
    "hidden": true
   },
   "outputs": [],
   "source": [
    "rf2 = RandomForestClassifier(n_estimators=400, min_samples_leaf=10, n_jobs=-1)"
   ]
  },
  {
   "cell_type": "code",
   "execution_count": 49,
   "metadata": {
    "ExecuteTime": {
     "end_time": "2019-02-27T16:22:53.269442Z",
     "start_time": "2019-02-27T16:17:30.502543Z"
    },
    "hidden": true
   },
   "outputs": [
    {
     "data": {
      "text/plain": [
       "RandomForestClassifier(bootstrap=True, class_weight=None, criterion='gini',\n",
       "            max_depth=None, max_features='auto', max_leaf_nodes=None,\n",
       "            min_impurity_decrease=0.0, min_impurity_split=None,\n",
       "            min_samples_leaf=10, min_samples_split=2,\n",
       "            min_weight_fraction_leaf=0.0, n_estimators=400, n_jobs=-1,\n",
       "            oob_score=False, random_state=None, verbose=0,\n",
       "            warm_start=False)"
      ]
     },
     "execution_count": 49,
     "metadata": {},
     "output_type": "execute_result"
    }
   ],
   "source": [
    "rf2.fit(x2_train, y2_train)"
   ]
  },
  {
   "cell_type": "code",
   "execution_count": 50,
   "metadata": {
    "ExecuteTime": {
     "end_time": "2019-02-27T16:23:22.912716Z",
     "start_time": "2019-02-27T16:22:53.271901Z"
    },
    "hidden": true
   },
   "outputs": [
    {
     "data": {
      "text/plain": [
       "0.9750677226598975"
      ]
     },
     "execution_count": 50,
     "metadata": {},
     "output_type": "execute_result"
    }
   ],
   "source": [
    "accuracy_score(y2_train, rf2.predict(x2_train))"
   ]
  },
  {
   "cell_type": "code",
   "execution_count": 51,
   "metadata": {
    "ExecuteTime": {
     "end_time": "2019-02-27T16:23:53.514918Z",
     "start_time": "2019-02-27T16:23:22.914732Z"
    },
    "hidden": true
   },
   "outputs": [
    {
     "data": {
      "text/plain": [
       "0.7442983094954112"
      ]
     },
     "execution_count": 51,
     "metadata": {},
     "output_type": "execute_result"
    }
   ],
   "source": [
    "roc_auc_score(y2_train, rf2.predict(x2_train))"
   ]
  },
  {
   "cell_type": "code",
   "execution_count": 52,
   "metadata": {
    "ExecuteTime": {
     "end_time": "2019-02-27T16:23:53.633887Z",
     "start_time": "2019-02-27T16:23:53.517431Z"
    },
    "hidden": true,
    "scrolled": false
   },
   "outputs": [
    {
     "name": "stdout",
     "output_type": "stream",
     "text": [
      "sum_of_buys                   :  4.43%\n",
      "no_of_buys                    :  4.41%\n",
      "atr_max1                      :  4.01%\n",
      "atr_mean14                    :  3.86%\n",
      "atr_last14                    :  3.29%\n",
      "event_sum7                    :  3.22%\n",
      "atr_max15                     :  3.17%\n",
      "atr_mean15                    :  3.15%\n",
      "atr_mean1                     :  2.93%\n",
      "atr_max13                     :  2.84%\n",
      "atr_last13                    :  2.79%\n",
      "atr_last15                    :  2.71%\n",
      "atr_max14                     :  2.56%\n",
      "event_count7                  :  2.23%\n",
      "atr_mean13                    :  2.13%\n",
      "atr_last1                     :  1.87%\n",
      "user_age                      :  1.44%\n",
      "atr_max16                     :  1.24%\n",
      "event_count45                 :  1.23%\n",
      "atr_mean16                    :  1.17%\n",
      "atr_last16                    :  1.10%\n",
      "atr_mean3                     :  0.99%\n",
      "total_session_time            :  0.93%\n",
      "event_mean7                   :  0.81%\n",
      "mean_session_time             :  0.77%\n",
      "median_session_time           :  0.77%\n",
      "atr_mean7                     :  0.76%\n",
      "atr_mean19                    :  0.75%\n",
      "atr_max3                      :  0.74%\n",
      "atr_mean5                     :  0.72%\n",
      "event_sum5                    :  0.69%\n",
      "last_region                   :  0.68%\n",
      "event_count4                  :  0.64%\n",
      "atr_max5                      :  0.62%\n",
      "atr_mean9                     :  0.61%\n",
      "atr_mean6                     :  0.59%\n",
      "last_city                     :  0.58%\n",
      "event_count5                  :  0.58%\n",
      "atr_mean66                    :  0.56%\n",
      "atr_mean4                     :  0.51%\n",
      "event_count40                 :  0.51%\n",
      "atr_last7                     :  0.51%\n",
      "event_count6                  :  0.49%\n",
      "event_sum0                    :  0.49%\n",
      "event_mean0                   :  0.49%\n",
      "atr_max7                      :  0.48%\n",
      "atr_mean77                    :  0.48%\n",
      "event_mean5                   :  0.48%\n",
      "event_count0                  :  0.48%\n",
      "atr_last5                     :  0.48%\n",
      "atr_count10                   :  0.47%\n",
      "atr_mean8                     :  0.47%\n",
      "atr_count15                   :  0.47%\n",
      "atr_mean75                    :  0.47%\n",
      "atr_mean20                    :  0.46%\n",
      "atr_count7                    :  0.46%\n",
      "atr_count9                    :  0.46%\n",
      "atr_last19                    :  0.45%\n",
      "event_mode7                   :  0.45%\n",
      "event_mode0                   :  0.45%\n",
      "atr_count16                   :  0.45%\n",
      "atr_max9                      :  0.45%\n",
      "event_count1                  :  0.44%\n",
      "event_count42                 :  0.44%\n",
      "event_count3                  :  0.44%\n",
      "atr_last9                     :  0.42%\n",
      "atr_count3                    :  0.42%\n",
      "atr_max6                      :  0.42%\n",
      "atr_count11                   :  0.41%\n",
      "atr_last6                     :  0.41%\n",
      "atr_max19                     :  0.39%\n",
      "atr_count1                    :  0.38%\n",
      "atr_count66                   :  0.37%\n",
      "atr_count6                    :  0.37%\n",
      "last_locale                   :  0.37%\n",
      "atr_last66                    :  0.36%\n",
      "event_count41                 :  0.36%\n",
      "atr_mean18                    :  0.36%\n",
      "atr_max75                     :  0.36%\n",
      "atr_count19                   :  0.35%\n",
      "last_country                  :  0.35%\n",
      "atr_count18                   :  0.35%\n",
      "atr_max4                      :  0.33%\n",
      "atr_max77                     :  0.33%\n",
      "atr_count0                    :  0.32%\n",
      "atr_max66                     :  0.32%\n",
      "atr_count4                    :  0.32%\n",
      "atr_count77                   :  0.32%\n",
      "atr_count17                   :  0.31%\n",
      "atr_last4                     :  0.31%\n",
      "atr_mean0                     :  0.31%\n",
      "atr_last75                    :  0.31%\n",
      "atr_count8                    :  0.31%\n",
      "no_sessions                   :  0.31%\n",
      "atr_count75                   :  0.31%\n",
      "atr_count78                   :  0.31%\n",
      "atr_count14                   :  0.30%\n",
      "atr_count5                    :  0.29%\n",
      "atr_last77                    :  0.29%\n",
      "atr_count21                   :  0.29%\n",
      "event_count14                 :  0.28%\n",
      "atr_count13                   :  0.27%\n",
      "atr_max8                      :  0.26%\n",
      "atr_max18                     :  0.26%\n",
      "atr_count76                   :  0.25%\n",
      "atr_count20                   :  0.25%\n",
      "atr_last8                     :  0.25%\n",
      "atr_count67                   :  0.24%\n",
      "atr_mean67                    :  0.22%\n",
      "atr_last3                     :  0.22%\n",
      "atr_last20                    :  0.21%\n",
      "atr_last18                    :  0.19%\n",
      "event_count97                 :  0.19%\n",
      "event_count98                 :  0.18%\n",
      "atr_mean17                    :  0.18%\n",
      "atr_max0                      :  0.16%\n",
      "atr_mean21                    :  0.14%\n",
      "no_city                       :  0.14%\n",
      "atr_last67                    :  0.13%\n",
      "atr_max67                     :  0.12%\n",
      "atr_last0                     :  0.12%\n",
      "atr_max20                     :  0.11%\n",
      "event_mode42                  :  0.10%\n",
      "atr_max17                     :  0.10%\n",
      "atr_last17                    :  0.09%\n",
      "event_mode98                  :  0.09%\n",
      "event_sum98                   :  0.09%\n",
      "event_mean98                  :  0.08%\n",
      "event_sum42                   :  0.08%\n",
      "region_count                  :  0.08%\n",
      "event_mean42                  :  0.07%\n",
      "event_mean14                  :  0.07%\n",
      "event_mean11                  :  0.07%\n",
      "event_sum11                   :  0.06%\n",
      "event_mode11                  :  0.06%\n",
      "event_mean97                  :  0.06%\n",
      "event_mode97                  :  0.06%\n",
      "event_count44                 :  0.06%\n",
      "event_mean40                  :  0.06%\n",
      "event_sum97                   :  0.06%\n",
      "atr_max21                     :  0.06%\n",
      "event_mean41                  :  0.06%\n",
      "event_mean44                  :  0.06%\n",
      "event_mode44                  :  0.05%\n",
      "event_mean6                   :  0.05%\n",
      "event_sum44                   :  0.05%\n",
      "event_sum3                    :  0.05%\n",
      "event_mode5                   :  0.05%\n",
      "event_mode41                  :  0.05%\n",
      "event_sum40                   :  0.04%\n",
      "event_sum6                    :  0.04%\n",
      "event_mean3                   :  0.04%\n",
      "atr_mean11                    :  0.04%\n",
      "event_mode40                  :  0.04%\n",
      "event_mode3                   :  0.04%\n",
      "event_count11                 :  0.04%\n",
      "event_sum9                    :  0.04%\n",
      "event_sum41                   :  0.04%\n",
      "event_mode14                  :  0.04%\n",
      "event_count9                  :  0.04%\n",
      "atr_max11                     :  0.04%\n",
      "event_sum14                   :  0.04%\n",
      "atr_last11                    :  0.03%\n",
      "event_mean1                   :  0.03%\n",
      "event_mode4                   :  0.03%\n",
      "event_sum1                    :  0.03%\n",
      "event_mode1                   :  0.03%\n",
      "event_mode9                   :  0.03%\n",
      "event_mean9                   :  0.03%\n",
      "event_mode6                   :  0.03%\n",
      "event_sum4                    :  0.02%\n",
      "event_mean4                   :  0.02%\n",
      "atr_last21                    :  0.01%\n",
      "event_count43                 :  0.01%\n",
      "event_mean43                  :  0.01%\n",
      "event_sum43                   :  0.01%\n",
      "event_mean45                  :  0.01%\n",
      "event_mode43                  :  0.01%\n",
      "event_sum45                   :  0.01%\n",
      "event_count57                 :  0.01%\n",
      "event_mode45                  :  0.01%\n",
      "event_count55                 :  0.00%\n",
      "event_count47                 :  0.00%\n",
      "atr_count96                   :  0.00%\n",
      "atr_mean96                    :  0.00%\n",
      "event_count63                 :  0.00%\n",
      "atr_max96                     :  0.00%\n",
      "event_count64                 :  0.00%\n",
      "event_sum55                   :  0.00%\n",
      "atr_last96                    :  0.00%\n",
      "event_mean64                  :  0.00%\n",
      "event_mode55                  :  0.00%\n",
      "event_sum47                   :  0.00%\n",
      "event_mean55                  :  0.00%\n",
      "event_mode57                  :  0.00%\n",
      "event_sum57                   :  0.00%\n",
      "event_mean57                  :  0.00%\n",
      "event_sum64                   :  0.00%\n",
      "event_sum63                   :  0.00%\n",
      "event_mode64                  :  0.00%\n",
      "event_mode47                  :  0.00%\n",
      "event_mean47                  :  0.00%\n",
      "event_mean63                  :  0.00%\n",
      "event_mode63                  :  0.00%\n",
      "atr_mean10                    :  0.00%\n",
      "event_count50                 :  0.00%\n",
      "atr_last10                    :  0.00%\n",
      "event_count54                 :  0.00%\n",
      "atr_max10                     :  0.00%\n",
      "event_sum50                   :  0.00%\n",
      "event_mean54                  :  0.00%\n",
      "event_sum54                   :  0.00%\n",
      "event_mode10                  :  0.00%\n",
      "event_mode50                  :  0.00%\n",
      "event_mean50                  :  0.00%\n",
      "event_count49                 :  0.00%\n",
      "event_count10                 :  0.00%\n",
      "event_sum49                   :  0.00%\n",
      "event_mean59                  :  0.00%\n",
      "event_mode54                  :  0.00%\n",
      "event_mode49                  :  0.00%\n",
      "event_mean49                  :  0.00%\n",
      "event_count99                 :  0.00%\n",
      "event_count48                 :  0.00%\n",
      "event_mean10                  :  0.00%\n",
      "event_mode60                  :  0.00%\n",
      "event_mode51                  :  0.00%\n",
      "event_sum59                   :  0.00%\n",
      "event_sum51                   :  0.00%\n",
      "event_mode56                  :  0.00%\n",
      "event_sum10                   :  0.00%\n",
      "event_count32                 :  0.00%\n",
      "event_mean0/                  :  0.00%\n",
      "event_mean58                  :  0.00%\n",
      "event_sum56                   :  0.00%\n",
      "event_count59                 :  0.00%\n",
      "event_sum52                   :  0.00%\n",
      "event_count60                 :  0.00%\n",
      "atr_mean78                    :  0.00%\n",
      "event_mode48                  :  0.00%\n",
      "atr_max78                     :  0.00%\n",
      "event_count51                 :  0.00%\n",
      "event_mode59                  :  0.00%\n",
      "event_mode61                  :  0.00%\n",
      "event_mean60                  :  0.00%\n",
      "event_sum32                   :  0.00%\n",
      "event_sum99                   :  0.00%\n",
      "event_mode52                  :  0.00%\n",
      "atr_last78                    :  0.00%\n",
      "event_count56                 :  0.00%\n",
      "event_mean51                  :  0.00%\n",
      "event_sum48                   :  0.00%\n",
      "event_mean52                  :  0.00%\n",
      "event_mean56                  :  0.00%\n",
      "event_mode62                  :  0.00%\n",
      "event_mode1/                  :  0.00%\n",
      "event_count52                 :  0.00%\n",
      "event_count62                 :  0.00%\n",
      "event_mode0/                  :  0.00%\n",
      "event_mean99                  :  0.00%\n",
      "event_mean61                  :  0.00%\n",
      "event_sum1/                   :  0.00%\n",
      "event_mode32                  :  0.00%\n",
      "event_sum61                   :  0.00%\n",
      "event_mode58                  :  0.00%\n",
      "event_count58                 :  0.00%\n",
      "event_sum62                   :  0.00%\n",
      "event_mean32                  :  0.00%\n",
      "event_count0/                 :  0.00%\n",
      "event_sum60                   :  0.00%\n",
      "event_mean62                  :  0.00%\n",
      "event_mean48                  :  0.00%\n",
      "event_count1/                 :  0.00%\n",
      "event_sum58                   :  0.00%\n",
      "event_mode99                  :  0.00%\n",
      "event_mean1/                  :  0.00%\n",
      "event_count61                 :  0.00%\n",
      "event_sum0/                   :  0.00%\n",
      "atr_mean76                    :  0.00%\n",
      "atr_last76                    :  0.00%\n",
      "atr_max76                     :  0.00%\n"
     ]
    }
   ],
   "source": [
    "print_feature_importance(rf2)"
   ]
  },
  {
   "cell_type": "markdown",
   "metadata": {},
   "source": [
    "# submission"
   ]
  },
  {
   "cell_type": "code",
   "execution_count": 52,
   "metadata": {
    "ExecuteTime": {
     "end_time": "2019-03-04T02:19:47.035144Z",
     "start_time": "2019-03-04T02:19:44.631627Z"
    }
   },
   "outputs": [],
   "source": [
    "submission = pd.read_csv('../../sample_submission_2.csv')\n",
    "req_uids = set(submission.user_id_hash)\n",
    "dates = df.anchor_date.dt.date.unique()\n",
    "dates.sort()"
   ]
  },
  {
   "cell_type": "code",
   "execution_count": 53,
   "metadata": {
    "ExecuteTime": {
     "end_time": "2019-03-04T02:19:48.003479Z",
     "start_time": "2019-03-04T02:19:47.926273Z"
    }
   },
   "outputs": [],
   "source": [
    "req_uids = set(submission.user_id_hash)\n",
    "run_ids = req_uids\n",
    "predict_df = pd.DataFrame(columns=['user_id_hash',\n",
    "                                   'user_purchase_binary_7_days',\n",
    "                                   'user_purchase_binary_14_days'])"
   ]
  },
  {
   "cell_type": "code",
   "execution_count": 54,
   "metadata": {
    "ExecuteTime": {
     "end_time": "2019-03-04T02:19:48.672748Z",
     "start_time": "2019-03-04T02:19:48.667197Z"
    }
   },
   "outputs": [
    {
     "data": {
      "text/plain": [
       "datetime.date(2018, 12, 8)"
      ]
     },
     "execution_count": 54,
     "metadata": {},
     "output_type": "execute_result"
    }
   ],
   "source": [
    "sorted(dates, reverse=True)[0]"
   ]
  },
  {
   "cell_type": "code",
   "execution_count": 55,
   "metadata": {
    "ExecuteTime": {
     "end_time": "2019-03-04T02:19:49.494190Z",
     "start_time": "2019-03-04T02:19:49.475222Z"
    }
   },
   "outputs": [
    {
     "data": {
      "text/plain": [
       "array(['2018-10-27T00:00:00.000000000', '2018-11-03T00:00:00.000000000',\n",
       "       '2018-11-10T00:00:00.000000000', '2018-11-17T00:00:00.000000000',\n",
       "       '2018-11-24T00:00:00.000000000', '2018-12-01T00:00:00.000000000',\n",
       "       '2018-12-08T00:00:00.000000000'], dtype='datetime64[ns]')"
      ]
     },
     "execution_count": 55,
     "metadata": {},
     "output_type": "execute_result"
    }
   ],
   "source": [
    "df.anchor_date.unique()"
   ]
  },
  {
   "cell_type": "code",
   "execution_count": 56,
   "metadata": {
    "ExecuteTime": {
     "end_time": "2019-03-04T02:19:55.187171Z",
     "start_time": "2019-03-04T02:19:55.184116Z"
    }
   },
   "outputs": [],
   "source": [
    "dts = dt.date(2018, 12, 8)"
   ]
  },
  {
   "cell_type": "code",
   "execution_count": 57,
   "metadata": {
    "ExecuteTime": {
     "end_time": "2019-03-04T02:19:55.633982Z",
     "start_time": "2019-03-04T02:19:55.629572Z"
    }
   },
   "outputs": [
    {
     "data": {
      "text/plain": [
       "array([datetime.date(2018, 10, 27), datetime.date(2018, 11, 3),\n",
       "       datetime.date(2018, 11, 10), datetime.date(2018, 11, 17),\n",
       "       datetime.date(2018, 11, 24), datetime.date(2018, 12, 1),\n",
       "       datetime.date(2018, 12, 8)], dtype=object)"
      ]
     },
     "execution_count": 57,
     "metadata": {},
     "output_type": "execute_result"
    }
   ],
   "source": [
    "dates"
   ]
  },
  {
   "cell_type": "code",
   "execution_count": 58,
   "metadata": {
    "ExecuteTime": {
     "end_time": "2019-03-04T02:20:03.217009Z",
     "start_time": "2019-03-04T02:19:59.800371Z"
    }
   },
   "outputs": [],
   "source": [
    "t = df.loc[(df.user_id_hash.isin(run_ids)) & \\\n",
    "           (df.anchor_date == dts), feature_cols].values"
   ]
  },
  {
   "cell_type": "code",
   "execution_count": 59,
   "metadata": {
    "ExecuteTime": {
     "end_time": "2019-03-04T02:20:19.958136Z",
     "start_time": "2019-03-04T02:20:17.108966Z"
    }
   },
   "outputs": [],
   "source": [
    "cur_uids = df.loc[(df.user_id_hash.isin(run_ids)) & \\\n",
    "                  (df.anchor_date == dts), ['user_id_hash']].values"
   ]
  },
  {
   "cell_type": "code",
   "execution_count": 60,
   "metadata": {
    "ExecuteTime": {
     "end_time": "2019-03-04T02:20:25.295528Z",
     "start_time": "2019-03-04T02:20:23.956574Z"
    }
   },
   "outputs": [],
   "source": [
    "pp1 = xg_model1.predict_proba(t)\n",
    "pp2 = xg_model2.predict_proba(t)"
   ]
  },
  {
   "cell_type": "code",
   "execution_count": 62,
   "metadata": {
    "ExecuteTime": {
     "end_time": "2019-03-04T02:20:55.108175Z",
     "start_time": "2019-03-04T02:20:55.077590Z"
    }
   },
   "outputs": [],
   "source": [
    "temp = pd.DataFrame(data={'user_id_hash': cur_uids.reshape(-1),\n",
    "                          'user_purchase_binary_7_days': pp1[:,1],\n",
    "                          'user_purchase_binary_14_days': pp2[:,1]})"
   ]
  },
  {
   "cell_type": "code",
   "execution_count": 63,
   "metadata": {
    "ExecuteTime": {
     "end_time": "2019-03-04T02:20:57.500729Z",
     "start_time": "2019-03-04T02:20:57.434592Z"
    }
   },
   "outputs": [],
   "source": [
    "predict_df = pd.concat([predict_df, temp])"
   ]
  },
  {
   "cell_type": "code",
   "execution_count": 64,
   "metadata": {
    "ExecuteTime": {
     "end_time": "2019-03-04T02:20:58.513201Z",
     "start_time": "2019-03-04T02:20:58.387337Z"
    }
   },
   "outputs": [],
   "source": [
    "run_ids = run_ids - set(cur_uids.reshape(-1))"
   ]
  },
  {
   "cell_type": "code",
   "execution_count": 65,
   "metadata": {
    "ExecuteTime": {
     "end_time": "2019-03-04T02:20:59.486049Z",
     "start_time": "2019-03-04T02:20:59.481397Z"
    }
   },
   "outputs": [
    {
     "data": {
      "text/plain": [
       "994"
      ]
     },
     "execution_count": 65,
     "metadata": {},
     "output_type": "execute_result"
    }
   ],
   "source": [
    "len(run_ids)"
   ]
  },
  {
   "cell_type": "code",
   "execution_count": 66,
   "metadata": {
    "ExecuteTime": {
     "end_time": "2019-03-04T02:21:02.537933Z",
     "start_time": "2019-03-04T02:21:02.533227Z"
    }
   },
   "outputs": [
    {
     "data": {
      "text/plain": [
       "(311574, 3)"
      ]
     },
     "execution_count": 66,
     "metadata": {},
     "output_type": "execute_result"
    }
   ],
   "source": [
    "predict_df.shape"
   ]
  },
  {
   "cell_type": "code",
   "execution_count": 67,
   "metadata": {
    "ExecuteTime": {
     "end_time": "2019-03-04T02:21:06.555577Z",
     "start_time": "2019-03-04T02:21:06.059524Z"
    }
   },
   "outputs": [],
   "source": [
    "left_out = list(set(submission.user_id_hash.unique()) -\\\n",
    "                set(predict_df.user_id_hash.unique()))"
   ]
  },
  {
   "cell_type": "code",
   "execution_count": 56,
   "metadata": {
    "ExecuteTime": {
     "end_time": "2019-02-27T16:25:40.299542Z",
     "start_time": "2019-02-27T16:25:33.710451Z"
    }
   },
   "outputs": [
    {
     "name": "stdout",
     "output_type": "stream",
     "text": [
      "2018-12-08: (20757,)\n",
      "291811\n",
      "2018-12-01: (12341,)\n",
      "279470\n",
      "2018-11-24: (34463,)\n",
      "245007\n"
     ]
    }
   ],
   "source": [
    "for dts in reversed(dates[-3:]):\n",
    "    t = df.loc[(df.user_id_hash.isin(run_ids)) &\\\n",
    "                     (df.anchor_date == dts), feature_cols].values\n",
    "    cur_uids = df.loc[(df.user_id_hash.isin(run_ids)) &\\\n",
    "                     (df.anchor_date == dts), ['user_id_hash']].values\n",
    "\n",
    "    pp1 = xg_model1.predict_proba(t)\n",
    "    pp2 = xg_model2.predict_proba(t)\n",
    "\n",
    "    print(f'{dts}: {pp1[:, 1].shape}')\n",
    "    temp = pd.DataFrame(data={'user_id_hash': cur_uids.reshape(-1),\n",
    "                              'user_purchase_binary_7_days': pp1[:,1],\n",
    "                              'user_purchase_binary_14_days': pp2[:,1]})\n",
    "    predict_df = pd.concat([predict_df, temp])\n",
    "    run_ids = run_ids - set(cur_uids.reshape(-1))\n",
    "    print(len(list(run_ids)))"
   ]
  },
  {
   "cell_type": "code",
   "execution_count": 68,
   "metadata": {
    "ExecuteTime": {
     "end_time": "2019-03-04T02:21:09.386394Z",
     "start_time": "2019-03-04T02:21:09.381686Z"
    }
   },
   "outputs": [
    {
     "data": {
      "text/plain": [
       "(311574, 3)"
      ]
     },
     "execution_count": 68,
     "metadata": {},
     "output_type": "execute_result"
    }
   ],
   "source": [
    "predict_df.shape"
   ]
  },
  {
   "cell_type": "code",
   "execution_count": 69,
   "metadata": {
    "ExecuteTime": {
     "end_time": "2019-03-04T02:21:10.733887Z",
     "start_time": "2019-03-04T02:21:10.255062Z"
    }
   },
   "outputs": [],
   "source": [
    "left_out = list(set(submission.user_id_hash.unique()) -\\\n",
    "                set(predict_df.user_id_hash.unique()))"
   ]
  },
  {
   "cell_type": "code",
   "execution_count": 70,
   "metadata": {
    "ExecuteTime": {
     "end_time": "2019-03-04T02:21:10.740640Z",
     "start_time": "2019-03-04T02:21:10.736616Z"
    }
   },
   "outputs": [
    {
     "data": {
      "text/plain": [
       "994"
      ]
     },
     "execution_count": 70,
     "metadata": {},
     "output_type": "execute_result"
    }
   ],
   "source": [
    "len(left_out)"
   ]
  },
  {
   "cell_type": "code",
   "execution_count": 71,
   "metadata": {
    "ExecuteTime": {
     "end_time": "2019-03-04T02:21:13.902239Z",
     "start_time": "2019-03-04T02:21:13.893478Z"
    }
   },
   "outputs": [
    {
     "data": {
      "text/plain": [
       "1.3107154472891125e-06"
      ]
     },
     "execution_count": 71,
     "metadata": {},
     "output_type": "execute_result"
    }
   ],
   "source": [
    "predict_df.user_purchase_binary_7_days.median()"
   ]
  },
  {
   "cell_type": "code",
   "execution_count": 72,
   "metadata": {
    "ExecuteTime": {
     "end_time": "2019-03-04T02:21:14.933776Z",
     "start_time": "2019-03-04T02:21:14.925522Z"
    }
   },
   "outputs": [
    {
     "data": {
      "text/plain": [
       "3.745080448425142e-06"
      ]
     },
     "execution_count": 72,
     "metadata": {},
     "output_type": "execute_result"
    }
   ],
   "source": [
    "predict_df.user_purchase_binary_14_days.median()"
   ]
  },
  {
   "cell_type": "code",
   "execution_count": 73,
   "metadata": {
    "ExecuteTime": {
     "end_time": "2019-03-04T02:21:17.915701Z",
     "start_time": "2019-03-04T02:21:17.904849Z"
    }
   },
   "outputs": [],
   "source": [
    "temp = pd.DataFrame(data={'user_id_hash': left_out,\n",
    "                          'user_purchase_binary_7_days': np.zeros(len(left_out)),\n",
    "                          'user_purchase_binary_14_days': np.zeros(len(left_out))})"
   ]
  },
  {
   "cell_type": "code",
   "execution_count": 74,
   "metadata": {
    "ExecuteTime": {
     "end_time": "2019-03-04T02:21:20.821325Z",
     "start_time": "2019-03-04T02:21:20.778218Z"
    }
   },
   "outputs": [],
   "source": [
    "predict_df = pd.concat([predict_df, temp])"
   ]
  },
  {
   "cell_type": "code",
   "execution_count": 75,
   "metadata": {
    "ExecuteTime": {
     "end_time": "2019-03-04T02:21:28.010208Z",
     "start_time": "2019-03-04T02:21:28.005796Z"
    }
   },
   "outputs": [
    {
     "data": {
      "text/plain": [
       "(312568, 3)"
      ]
     },
     "execution_count": 75,
     "metadata": {},
     "output_type": "execute_result"
    }
   ],
   "source": [
    "predict_df.shape"
   ]
  },
  {
   "cell_type": "code",
   "execution_count": 77,
   "metadata": {
    "ExecuteTime": {
     "end_time": "2019-03-04T02:21:41.779243Z",
     "start_time": "2019-03-04T02:21:41.774368Z"
    }
   },
   "outputs": [
    {
     "data": {
      "text/plain": [
       "(312568, 3)"
      ]
     },
     "execution_count": 77,
     "metadata": {},
     "output_type": "execute_result"
    }
   ],
   "source": [
    "submission.shape"
   ]
  },
  {
   "cell_type": "code",
   "execution_count": 78,
   "metadata": {
    "ExecuteTime": {
     "end_time": "2019-03-04T02:21:48.719426Z",
     "start_time": "2019-03-04T02:21:47.168878Z"
    }
   },
   "outputs": [],
   "source": [
    "predict_df.to_csv('../new_sub.csv', index=False, float_format='%.2f')"
   ]
  },
  {
   "cell_type": "code",
   "execution_count": 79,
   "metadata": {
    "ExecuteTime": {
     "end_time": "2019-03-04T02:21:50.032886Z",
     "start_time": "2019-03-04T02:21:50.024054Z"
    }
   },
   "outputs": [
    {
     "data": {
      "text/html": [
       "<div>\n",
       "<style scoped>\n",
       "    .dataframe tbody tr th:only-of-type {\n",
       "        vertical-align: middle;\n",
       "    }\n",
       "\n",
       "    .dataframe tbody tr th {\n",
       "        vertical-align: top;\n",
       "    }\n",
       "\n",
       "    .dataframe thead th {\n",
       "        text-align: right;\n",
       "    }\n",
       "</style>\n",
       "<table border=\"1\" class=\"dataframe\">\n",
       "  <thead>\n",
       "    <tr style=\"text-align: right;\">\n",
       "      <th></th>\n",
       "      <th>user_id_hash</th>\n",
       "      <th>user_purchase_binary_7_days</th>\n",
       "      <th>user_purchase_binary_14_days</th>\n",
       "    </tr>\n",
       "  </thead>\n",
       "  <tbody>\n",
       "    <tr>\n",
       "      <th>0</th>\n",
       "      <td>00000db35682058bb7916cb90f85709f54c1a0f7a3b6de...</td>\n",
       "      <td>0.000007</td>\n",
       "      <td>0.095824</td>\n",
       "    </tr>\n",
       "    <tr>\n",
       "      <th>1</th>\n",
       "      <td>000059859ec188af6035870faf885c3038cedda05b3a54...</td>\n",
       "      <td>0.000001</td>\n",
       "      <td>0.000006</td>\n",
       "    </tr>\n",
       "    <tr>\n",
       "      <th>2</th>\n",
       "      <td>000081a7d841b0f953bdba6c185fd5cc335fd6015a30c3...</td>\n",
       "      <td>0.000002</td>\n",
       "      <td>0.000006</td>\n",
       "    </tr>\n",
       "    <tr>\n",
       "      <th>3</th>\n",
       "      <td>0000bc4e8bfc829d327fa69bdc426dd8a789c52550ed87...</td>\n",
       "      <td>0.000001</td>\n",
       "      <td>0.000003</td>\n",
       "    </tr>\n",
       "    <tr>\n",
       "      <th>4</th>\n",
       "      <td>0000c5de50d243cc39f6ac4268d7511705585ca3f2a20f...</td>\n",
       "      <td>0.000001</td>\n",
       "      <td>0.000006</td>\n",
       "    </tr>\n",
       "  </tbody>\n",
       "</table>\n",
       "</div>"
      ],
      "text/plain": [
       "                                        user_id_hash  \\\n",
       "0  00000db35682058bb7916cb90f85709f54c1a0f7a3b6de...   \n",
       "1  000059859ec188af6035870faf885c3038cedda05b3a54...   \n",
       "2  000081a7d841b0f953bdba6c185fd5cc335fd6015a30c3...   \n",
       "3  0000bc4e8bfc829d327fa69bdc426dd8a789c52550ed87...   \n",
       "4  0000c5de50d243cc39f6ac4268d7511705585ca3f2a20f...   \n",
       "\n",
       "   user_purchase_binary_7_days  user_purchase_binary_14_days  \n",
       "0                     0.000007                      0.095824  \n",
       "1                     0.000001                      0.000006  \n",
       "2                     0.000002                      0.000006  \n",
       "3                     0.000001                      0.000003  \n",
       "4                     0.000001                      0.000006  "
      ]
     },
     "execution_count": 79,
     "metadata": {},
     "output_type": "execute_result"
    }
   ],
   "source": [
    "predict_df.head()"
   ]
  },
  {
   "cell_type": "code",
   "execution_count": null,
   "metadata": {},
   "outputs": [],
   "source": []
  }
 ],
 "metadata": {
  "kernelspec": {
   "display_name": "Python 3",
   "language": "python",
   "name": "python3"
  },
  "language_info": {
   "codemirror_mode": {
    "name": "ipython",
    "version": 3
   },
   "file_extension": ".py",
   "mimetype": "text/x-python",
   "name": "python",
   "nbconvert_exporter": "python",
   "pygments_lexer": "ipython3",
   "version": "3.7.1"
  },
  "toc": {
   "base_numbering": 1,
   "nav_menu": {},
   "number_sections": true,
   "sideBar": true,
   "skip_h1_title": false,
   "title_cell": "Table of Contents",
   "title_sidebar": "Contents",
   "toc_cell": false,
   "toc_position": {
    "height": "calc(100% - 180px)",
    "left": "10px",
    "top": "150px",
    "width": "165px"
   },
   "toc_section_display": true,
   "toc_window_display": true
  }
 },
 "nbformat": 4,
 "nbformat_minor": 2
}
