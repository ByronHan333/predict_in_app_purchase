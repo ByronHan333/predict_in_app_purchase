{
 "cells": [
  {
   "cell_type": "markdown",
   "metadata": {
    "heading_collapsed": true
   },
   "source": [
    "# Modules"
   ]
  },
  {
   "cell_type": "code",
   "execution_count": 1,
   "metadata": {
    "ExecuteTime": {
     "end_time": "2019-03-06T17:51:07.586048Z",
     "start_time": "2019-03-06T17:50:58.367542Z"
    },
    "hidden": true
   },
   "outputs": [],
   "source": [
    "import pandas as pd\n",
    "import numpy as np"
   ]
  },
  {
   "cell_type": "code",
   "execution_count": 2,
   "metadata": {
    "ExecuteTime": {
     "end_time": "2019-03-06T17:51:09.419861Z",
     "start_time": "2019-03-06T17:51:07.589411Z"
    },
    "hidden": true
   },
   "outputs": [],
   "source": [
    "import matplotlib.pyplot as plt\n",
    "plt.rcParams['figure.figsize'] = [16, 6]\n",
    "plt.style.use('ggplot')"
   ]
  },
  {
   "cell_type": "code",
   "execution_count": 3,
   "metadata": {
    "ExecuteTime": {
     "end_time": "2019-03-06T17:51:09.557879Z",
     "start_time": "2019-03-06T17:51:09.422097Z"
    },
    "hidden": true
   },
   "outputs": [],
   "source": [
    "from concurrent.futures import ProcessPoolExecutor, as_completed\n",
    "from fastprogress import progress_bar\n",
    "\n",
    "def parallel(func, job_list, n_jobs=14):\n",
    "    with ProcessPoolExecutor(max_workers=n_jobs) as pool:\n",
    "        futures = [pool.submit(func, job) for job in job_list]\n",
    "        for f in progress_bar(as_completed(futures), total=len(job_list)):\n",
    "            pass\n",
    "    return [f.result() for f in futures]"
   ]
  },
  {
   "cell_type": "code",
   "execution_count": 4,
   "metadata": {
    "ExecuteTime": {
     "end_time": "2019-03-06T17:51:09.564525Z",
     "start_time": "2019-03-06T17:51:09.561436Z"
    },
    "hidden": true
   },
   "outputs": [],
   "source": [
    "import gc\n",
    "from warnings import filterwarnings\n",
    "filterwarnings(\"ignore\")"
   ]
  },
  {
   "cell_type": "code",
   "execution_count": 5,
   "metadata": {
    "ExecuteTime": {
     "end_time": "2019-03-06T17:51:09.570969Z",
     "start_time": "2019-03-06T17:51:09.567425Z"
    },
    "hidden": true
   },
   "outputs": [],
   "source": [
    "import datetime as dt\n",
    "def to_dt(x):\n",
    "    return dt.datetime.fromtimestamp(int(x / 1000))"
   ]
  },
  {
   "cell_type": "code",
   "execution_count": 6,
   "metadata": {
    "ExecuteTime": {
     "end_time": "2019-03-06T17:51:09.577969Z",
     "start_time": "2019-03-06T17:51:09.573099Z"
    },
    "hidden": true
   },
   "outputs": [],
   "source": [
    "from multiprocessing import Pool\n",
    "num_partitions = 100\n",
    "num_cores = 12\n",
    "def parallelize_dataframe(df, func):\n",
    "    df_split = np.array_split(df, num_partitions)\n",
    "    pool = Pool(num_cores)\n",
    "    df = pd.concat(pool.map(func, df_split))\n",
    "    pool.close()\n",
    "    pool.join()\n",
    "    return df"
   ]
  },
  {
   "cell_type": "markdown",
   "metadata": {},
   "source": [
    "# Sessions"
   ]
  },
  {
   "cell_type": "code",
   "execution_count": 7,
   "metadata": {
    "ExecuteTime": {
     "end_time": "2019-03-06T15:17:16.244485Z",
     "start_time": "2019-03-06T15:17:04.968692Z"
    }
   },
   "outputs": [],
   "source": [
    "sessions = pd.read_pickle('../../session.pkl')"
   ]
  },
  {
   "cell_type": "code",
   "execution_count": 11,
   "metadata": {
    "ExecuteTime": {
     "end_time": "2019-03-06T02:33:55.437356Z",
     "start_time": "2019-03-06T02:33:47.817727Z"
    }
   },
   "outputs": [],
   "source": [
    "sessions.sort_values(['system_time', 'user_id_hash'], inplace=True)"
   ]
  },
  {
   "cell_type": "code",
   "execution_count": 8,
   "metadata": {
    "ExecuteTime": {
     "end_time": "2019-03-06T08:18:13.395458Z",
     "start_time": "2019-03-06T08:18:05.040996Z"
    }
   },
   "outputs": [],
   "source": [
    "sessions.user_created_timestamp = sessions.user_created_timestamp.apply(to_dt)"
   ]
  },
  {
   "cell_type": "code",
   "execution_count": 10,
   "metadata": {
    "ExecuteTime": {
     "end_time": "2019-03-06T08:18:28.777379Z",
     "start_time": "2019-03-06T08:18:28.774608Z"
    }
   },
   "outputs": [],
   "source": [
    "sessions.drop(['week_start', 'device_id', 'user_days'], inplace=True, axis=1)"
   ]
  },
  {
   "cell_type": "code",
   "execution_count": null,
   "metadata": {
    "ExecuteTime": {
     "end_time": "2019-03-06T08:18:16.914060Z",
     "start_time": "2019-03-06T08:18:14.653Z"
    }
   },
   "outputs": [],
   "source": [
    "region_remove = set([k for k, v in dict(sessions.region.value_counts()).items() if v <= 1000])\n",
    "sessions.region = sessions.region.cat.add_categories(['unk'])\n",
    "sessions.loc[sessions.region.isin(region_remove), ['region']] = 'unk'\n",
    "sessions.region = sessions.region.cat.remove_unused_categories()"
   ]
  },
  {
   "cell_type": "code",
   "execution_count": 16,
   "metadata": {
    "ExecuteTime": {
     "end_time": "2019-03-06T02:35:37.575116Z",
     "start_time": "2019-03-06T02:35:35.371257Z"
    }
   },
   "outputs": [],
   "source": [
    "city_remove = set([k for k, v in dict(sessions.city.value_counts()).items() if v <= 1000])\n",
    "sessions.city = sessions.city.cat.add_categories(['unk'])\n",
    "sessions.loc[sessions.city.isin(city_remove), ['city']] = 'unk'\n",
    "sessions.city = sessions.city.cat.remove_unused_categories()"
   ]
  },
  {
   "cell_type": "code",
   "execution_count": 19,
   "metadata": {
    "ExecuteTime": {
     "end_time": "2019-03-06T02:36:07.038062Z",
     "start_time": "2019-03-06T02:36:05.933152Z"
    }
   },
   "outputs": [],
   "source": [
    "locale_remove = set([k for k, v in dict(sessions.locale.value_counts()).items() if v <= 1000])\n",
    "sessions.locale = sessions.locale.cat.add_categories(['unk'])\n",
    "sessions.loc[sessions.locale.isin(locale_remove), ['locale']] = 'unk'\n",
    "sessions.locale = sessions.locale.cat.remove_unused_categories()"
   ]
  },
  {
   "cell_type": "code",
   "execution_count": 21,
   "metadata": {
    "ExecuteTime": {
     "end_time": "2019-03-06T02:37:49.911761Z",
     "start_time": "2019-03-06T02:37:49.719734Z"
    }
   },
   "outputs": [],
   "source": [
    "sessions.drop(['start_timestamp'], inplace=True, axis=1)"
   ]
  },
  {
   "cell_type": "code",
   "execution_count": 23,
   "metadata": {
    "ExecuteTime": {
     "end_time": "2019-03-06T02:39:01.590913Z",
     "start_time": "2019-03-06T02:39:00.175207Z"
    }
   },
   "outputs": [],
   "source": [
    "sessions['system_date'] = sessions.system_time.dt.date"
   ]
  },
  {
   "cell_type": "code",
   "execution_count": 25,
   "metadata": {
    "ExecuteTime": {
     "end_time": "2019-03-06T02:40:15.089032Z",
     "start_time": "2019-03-06T02:40:14.881377Z"
    }
   },
   "outputs": [],
   "source": [
    "sessions['user_time'] = sessions.user_time.dt.hour"
   ]
  },
  {
   "cell_type": "code",
   "execution_count": 31,
   "metadata": {
    "ExecuteTime": {
     "end_time": "2019-03-06T02:42:27.950945Z",
     "start_time": "2019-03-06T02:42:09.180655Z"
    }
   },
   "outputs": [
    {
     "data": {
      "text/plain": [
       "<matplotlib.axes._subplots.AxesSubplot at 0x7fae6b780eb8>"
      ]
     },
     "execution_count": 31,
     "metadata": {},
     "output_type": "execute_result"
    },
    {
     "data": {
      "image/png": "[encoded data removed]",
      "text/plain": [
       "<Figure size 1152x432 with 1 Axes>"
      ]
     },
     "metadata": {},
     "output_type": "display_data"
    }
   ],
   "source": [
    "sessions.groupby(['system_date'])['session_id'].agg('nunique').plot()"
   ]
  },
  {
   "cell_type": "code",
   "execution_count": 32,
   "metadata": {
    "ExecuteTime": {
     "end_time": "2019-03-06T02:56:27.914285Z",
     "start_time": "2019-03-06T02:56:27.604823Z"
    }
   },
   "outputs": [
    {
     "data": {
      "text/plain": [
       "<matplotlib.axes._subplots.AxesSubplot at 0x7fae0265c320>"
      ]
     },
     "execution_count": 32,
     "metadata": {},
     "output_type": "execute_result"
    },
    {
     "data": {
      "image/png": "[encoded data removed]",
      "text/plain": [
       "<Figure size 1152x432 with 1 Axes>"
      ]
     },
     "metadata": {},
     "output_type": "display_data"
    }
   ],
   "source": [
    "sessions.user_time.hist(bins=24)"
   ]
  },
  {
   "cell_type": "code",
   "execution_count": 18,
   "metadata": {
    "ExecuteTime": {
     "end_time": "2019-03-06T02:35:52.942773Z",
     "start_time": "2019-03-06T02:35:51.043555Z"
    }
   },
   "outputs": [
    {
     "data": {
      "text/html": [
       "<div>\n",
       "<style scoped>\n",
       "    .dataframe tbody tr th:only-of-type {\n",
       "        vertical-align: middle;\n",
       "    }\n",
       "\n",
       "    .dataframe tbody tr th {\n",
       "        vertical-align: top;\n",
       "    }\n",
       "\n",
       "    .dataframe thead th {\n",
       "        text-align: right;\n",
       "    }\n",
       "</style>\n",
       "<table border=\"1\" class=\"dataframe\">\n",
       "  <thead>\n",
       "    <tr style=\"text-align: right;\">\n",
       "      <th></th>\n",
       "      <th>2555640</th>\n",
       "      <th>4768672</th>\n",
       "      <th>712447</th>\n",
       "      <th>1843043</th>\n",
       "      <th>1907788</th>\n",
       "    </tr>\n",
       "  </thead>\n",
       "  <tbody>\n",
       "    <tr>\n",
       "      <th>session_id</th>\n",
       "      <td>4339488202460077611</td>\n",
       "      <td>7012480646309837595</td>\n",
       "      <td>2920311224184894615</td>\n",
       "      <td>8483277250870486701</td>\n",
       "      <td>8114762104527844914</td>\n",
       "    </tr>\n",
       "    <tr>\n",
       "      <th>start_timestamp</th>\n",
       "      <td>1538377204526</td>\n",
       "      <td>1538377208476</td>\n",
       "      <td>1538377262101</td>\n",
       "      <td>1538377290694</td>\n",
       "      <td>1538377317770</td>\n",
       "    </tr>\n",
       "    <tr>\n",
       "      <th>timezone</th>\n",
       "      <td>Australia/Sydney</td>\n",
       "      <td>Pacific/Auckland</td>\n",
       "      <td>Asia/Kolkata</td>\n",
       "      <td>America/Chicago</td>\n",
       "      <td>America/Los_Angeles</td>\n",
       "    </tr>\n",
       "    <tr>\n",
       "      <th>timezone_offset</th>\n",
       "      <td>36000000</td>\n",
       "      <td>46800000</td>\n",
       "      <td>19800000</td>\n",
       "      <td>-18000000</td>\n",
       "      <td>-25200000</td>\n",
       "    </tr>\n",
       "    <tr>\n",
       "      <th>previous_sessions_duration</th>\n",
       "      <td>0</td>\n",
       "      <td>0</td>\n",
       "      <td>1000637</td>\n",
       "      <td>0</td>\n",
       "      <td>2415582</td>\n",
       "    </tr>\n",
       "    <tr>\n",
       "      <th>user_created_timestamp</th>\n",
       "      <td>2018-10-01 07:00:04</td>\n",
       "      <td>2018-10-01 07:00:08</td>\n",
       "      <td>2018-10-01 06:44:08</td>\n",
       "      <td>2018-10-01 07:01:30</td>\n",
       "      <td>2018-10-01 06:18:23</td>\n",
       "    </tr>\n",
       "    <tr>\n",
       "      <th>is_user_first_session</th>\n",
       "      <td>True</td>\n",
       "      <td>True</td>\n",
       "      <td>False</td>\n",
       "      <td>True</td>\n",
       "      <td>False</td>\n",
       "    </tr>\n",
       "    <tr>\n",
       "      <th>country</th>\n",
       "      <td>AU</td>\n",
       "      <td>NZ</td>\n",
       "      <td>IN</td>\n",
       "      <td>US</td>\n",
       "      <td>US</td>\n",
       "    </tr>\n",
       "    <tr>\n",
       "      <th>region</th>\n",
       "      <td>qld</td>\n",
       "      <td>auk</td>\n",
       "      <td>tg</td>\n",
       "      <td>tx</td>\n",
       "      <td>ca</td>\n",
       "    </tr>\n",
       "    <tr>\n",
       "      <th>city</th>\n",
       "      <td>gold coast</td>\n",
       "      <td>auckland</td>\n",
       "      <td>hyderabad</td>\n",
       "      <td>houston</td>\n",
       "      <td>sacramento</td>\n",
       "    </tr>\n",
       "    <tr>\n",
       "      <th>latitude</th>\n",
       "      <td>-28.0167</td>\n",
       "      <td>-36.8485</td>\n",
       "      <td>17.385</td>\n",
       "      <td>29.7604</td>\n",
       "      <td>38.5816</td>\n",
       "    </tr>\n",
       "    <tr>\n",
       "      <th>longitude</th>\n",
       "      <td>153.4</td>\n",
       "      <td>174.763</td>\n",
       "      <td>78.4867</td>\n",
       "      <td>-95.3698</td>\n",
       "      <td>-121.494</td>\n",
       "    </tr>\n",
       "    <tr>\n",
       "      <th>locale</th>\n",
       "      <td>en-AU_AU</td>\n",
       "      <td>en-NZ_NZ</td>\n",
       "      <td>en_US</td>\n",
       "      <td>en_US</td>\n",
       "      <td>en_US</td>\n",
       "    </tr>\n",
       "    <tr>\n",
       "      <th>os_name</th>\n",
       "      <td>iPhone OS</td>\n",
       "      <td>iOS</td>\n",
       "      <td>Android OS</td>\n",
       "      <td>Android OS</td>\n",
       "      <td>Android OS</td>\n",
       "    </tr>\n",
       "    <tr>\n",
       "      <th>session_index</th>\n",
       "      <td>1</td>\n",
       "      <td>1</td>\n",
       "      <td>2</td>\n",
       "      <td>1</td>\n",
       "      <td>2</td>\n",
       "    </tr>\n",
       "    <tr>\n",
       "      <th>user_id_hash</th>\n",
       "      <td>c9bad12f865142f1b3938c9ab8a3003a7882136a2b4a12...</td>\n",
       "      <td>285863e47df26bf47664c93d45c35ee3b9cfc8e253da23...</td>\n",
       "      <td>475f8f20576637055c5331513dda4db1d889f5e951c8e5...</td>\n",
       "      <td>4bc7b52d56b24d258ba1746994492f354fd4b17fcaae81...</td>\n",
       "      <td>82349b0d1a80b42e59519068ded46178778084b9602b9c...</td>\n",
       "    </tr>\n",
       "    <tr>\n",
       "      <th>user_time</th>\n",
       "      <td>2018-10-01 17:00:04</td>\n",
       "      <td>2018-10-01 20:00:08</td>\n",
       "      <td>2018-10-01 12:31:02</td>\n",
       "      <td>2018-10-01 02:01:30</td>\n",
       "      <td>2018-10-01 00:01:57</td>\n",
       "    </tr>\n",
       "    <tr>\n",
       "      <th>system_time</th>\n",
       "      <td>2018-10-01 07:00:04</td>\n",
       "      <td>2018-10-01 07:00:08</td>\n",
       "      <td>2018-10-01 07:01:02</td>\n",
       "      <td>2018-10-01 07:01:30</td>\n",
       "      <td>2018-10-01 07:01:57</td>\n",
       "    </tr>\n",
       "  </tbody>\n",
       "</table>\n",
       "</div>"
      ],
      "text/plain": [
       "                                                                      2555640  \\\n",
       "session_id                                                4339488202460077611   \n",
       "start_timestamp                                                 1538377204526   \n",
       "timezone                                                     Australia/Sydney   \n",
       "timezone_offset                                                      36000000   \n",
       "previous_sessions_duration                                                  0   \n",
       "user_created_timestamp                                    2018-10-01 07:00:04   \n",
       "is_user_first_session                                                    True   \n",
       "country                                                                    AU   \n",
       "region                                                                    qld   \n",
       "city                                                               gold coast   \n",
       "latitude                                                             -28.0167   \n",
       "longitude                                                               153.4   \n",
       "locale                                                               en-AU_AU   \n",
       "os_name                                                             iPhone OS   \n",
       "session_index                                                               1   \n",
       "user_id_hash                c9bad12f865142f1b3938c9ab8a3003a7882136a2b4a12...   \n",
       "user_time                                                 2018-10-01 17:00:04   \n",
       "system_time                                               2018-10-01 07:00:04   \n",
       "\n",
       "                                                                      4768672  \\\n",
       "session_id                                                7012480646309837595   \n",
       "start_timestamp                                                 1538377208476   \n",
       "timezone                                                     Pacific/Auckland   \n",
       "timezone_offset                                                      46800000   \n",
       "previous_sessions_duration                                                  0   \n",
       "user_created_timestamp                                    2018-10-01 07:00:08   \n",
       "is_user_first_session                                                    True   \n",
       "country                                                                    NZ   \n",
       "region                                                                    auk   \n",
       "city                                                                 auckland   \n",
       "latitude                                                             -36.8485   \n",
       "longitude                                                             174.763   \n",
       "locale                                                               en-NZ_NZ   \n",
       "os_name                                                                   iOS   \n",
       "session_index                                                               1   \n",
       "user_id_hash                285863e47df26bf47664c93d45c35ee3b9cfc8e253da23...   \n",
       "user_time                                                 2018-10-01 20:00:08   \n",
       "system_time                                               2018-10-01 07:00:08   \n",
       "\n",
       "                                                                      712447   \\\n",
       "session_id                                                2920311224184894615   \n",
       "start_timestamp                                                 1538377262101   \n",
       "timezone                                                         Asia/Kolkata   \n",
       "timezone_offset                                                      19800000   \n",
       "previous_sessions_duration                                            1000637   \n",
       "user_created_timestamp                                    2018-10-01 06:44:08   \n",
       "is_user_first_session                                                   False   \n",
       "country                                                                    IN   \n",
       "region                                                                     tg   \n",
       "city                                                                hyderabad   \n",
       "latitude                                                               17.385   \n",
       "longitude                                                             78.4867   \n",
       "locale                                                                  en_US   \n",
       "os_name                                                            Android OS   \n",
       "session_index                                                               2   \n",
       "user_id_hash                475f8f20576637055c5331513dda4db1d889f5e951c8e5...   \n",
       "user_time                                                 2018-10-01 12:31:02   \n",
       "system_time                                               2018-10-01 07:01:02   \n",
       "\n",
       "                                                                      1843043  \\\n",
       "session_id                                                8483277250870486701   \n",
       "start_timestamp                                                 1538377290694   \n",
       "timezone                                                      America/Chicago   \n",
       "timezone_offset                                                     -18000000   \n",
       "previous_sessions_duration                                                  0   \n",
       "user_created_timestamp                                    2018-10-01 07:01:30   \n",
       "is_user_first_session                                                    True   \n",
       "country                                                                    US   \n",
       "region                                                                     tx   \n",
       "city                                                                  houston   \n",
       "latitude                                                              29.7604   \n",
       "longitude                                                            -95.3698   \n",
       "locale                                                                  en_US   \n",
       "os_name                                                            Android OS   \n",
       "session_index                                                               1   \n",
       "user_id_hash                4bc7b52d56b24d258ba1746994492f354fd4b17fcaae81...   \n",
       "user_time                                                 2018-10-01 02:01:30   \n",
       "system_time                                               2018-10-01 07:01:30   \n",
       "\n",
       "                                                                      1907788  \n",
       "session_id                                                8114762104527844914  \n",
       "start_timestamp                                                 1538377317770  \n",
       "timezone                                                  America/Los_Angeles  \n",
       "timezone_offset                                                     -25200000  \n",
       "previous_sessions_duration                                            2415582  \n",
       "user_created_timestamp                                    2018-10-01 06:18:23  \n",
       "is_user_first_session                                                   False  \n",
       "country                                                                    US  \n",
       "region                                                                     ca  \n",
       "city                                                               sacramento  \n",
       "latitude                                                              38.5816  \n",
       "longitude                                                            -121.494  \n",
       "locale                                                                  en_US  \n",
       "os_name                                                            Android OS  \n",
       "session_index                                                               2  \n",
       "user_id_hash                82349b0d1a80b42e59519068ded46178778084b9602b9c...  \n",
       "user_time                                                 2018-10-01 00:01:57  \n",
       "system_time                                               2018-10-01 07:01:57  "
      ]
     },
     "execution_count": 18,
     "metadata": {},
     "output_type": "execute_result"
    }
   ],
   "source": [
    "sessions.head().T"
   ]
  },
  {
   "cell_type": "code",
   "execution_count": 33,
   "metadata": {
    "ExecuteTime": {
     "end_time": "2019-03-06T02:58:15.952471Z",
     "start_time": "2019-03-06T02:58:14.631174Z"
    }
   },
   "outputs": [],
   "source": [
    "t = sessions[['user_id_hash', 'user_created_timestamp']].drop_duplicates()"
   ]
  },
  {
   "cell_type": "code",
   "execution_count": 39,
   "metadata": {
    "ExecuteTime": {
     "end_time": "2019-03-06T03:03:11.249546Z",
     "start_time": "2019-03-06T03:03:10.504996Z"
    }
   },
   "outputs": [],
   "source": [
    "t = t.sort_values(['user_created_timestamp'])\\\n",
    "      .drop_duplicates(['user_id_hash'], keep='last').reset_index(drop=True)"
   ]
  },
  {
   "cell_type": "code",
   "execution_count": 42,
   "metadata": {
    "ExecuteTime": {
     "end_time": "2019-03-06T03:05:01.887472Z",
     "start_time": "2019-03-06T03:05:01.654786Z"
    }
   },
   "outputs": [],
   "source": [
    "t.to_pickle('../data/user_created.pkl')"
   ]
  },
  {
   "cell_type": "code",
   "execution_count": 8,
   "metadata": {
    "ExecuteTime": {
     "end_time": "2019-03-06T17:53:44.425566Z",
     "start_time": "2019-03-06T17:53:35.914883Z"
    }
   },
   "outputs": [],
   "source": [
    "sessions.sort_values(['system_time', 'user_id_hash'], inplace=True)\n",
    "sessions.reset_index(inplace=True, drop=True)"
   ]
  },
  {
   "cell_type": "code",
   "execution_count": 9,
   "metadata": {
    "ExecuteTime": {
     "end_time": "2019-03-06T17:53:46.186696Z",
     "start_time": "2019-03-06T17:53:44.427940Z"
    }
   },
   "outputs": [],
   "source": [
    "time_df = sessions.system_time.dt.date.unique()\n",
    "time_df = pd.DataFrame({'system_time': time_df})\n",
    "# time_df.system_time = time_df.system_time.astype('datetime64[ns]')"
   ]
  },
  {
   "cell_type": "code",
   "execution_count": 10,
   "metadata": {
    "ExecuteTime": {
     "end_time": "2019-03-06T17:53:49.778614Z",
     "start_time": "2019-03-06T17:53:49.406858Z"
    }
   },
   "outputs": [],
   "source": [
    "sessions.drop(['anchor_date'], inplace=True, axis=1)"
   ]
  },
  {
   "cell_type": "code",
   "execution_count": 301,
   "metadata": {
    "ExecuteTime": {
     "end_time": "2019-03-06T22:02:46.228164Z",
     "start_time": "2019-03-06T22:02:41.741776Z"
    }
   },
   "outputs": [],
   "source": [
    "sessions = sessions[sessions.system_date >= dt.date(2018, 11, 24)]\n",
    "sessions = sessions[sessions.system_date <= dt.date(2018, 11, 30)]"
   ]
  },
  {
   "cell_type": "code",
   "execution_count": 386,
   "metadata": {
    "ExecuteTime": {
     "end_time": "2019-03-06T22:39:47.364553Z",
     "start_time": "2019-03-06T22:39:41.712640Z"
    }
   },
   "outputs": [],
   "source": [
    "sessions = sessions[sessions.system_date >= dt.date(2018, 12, 8)]\n",
    "sessions = sessions[sessions.system_date <= dt.date(2018, 12, 14)]"
   ]
  },
  {
   "cell_type": "code",
   "execution_count": 387,
   "metadata": {
    "ExecuteTime": {
     "end_time": "2019-03-06T22:39:49.772028Z",
     "start_time": "2019-03-06T22:39:49.763083Z"
    }
   },
   "outputs": [],
   "source": [
    "sessions['anchor_date'] = dt.date(2018, 11, 1)"
   ]
  },
  {
   "cell_type": "code",
   "execution_count": 389,
   "metadata": {
    "ExecuteTime": {
     "end_time": "2019-03-06T22:40:03.426920Z",
     "start_time": "2019-03-06T22:40:03.424442Z"
    }
   },
   "outputs": [],
   "source": [
    "time_df['map_date'] = dt.date(2018, 10, 1)\n",
    "time_df.loc[time_df.system_time > dt.date(2018, 10, 13), ['map_date']] = \\\n",
    "    dt.date(2018, 11, 1)\n",
    "# time_df.loc[time_df.system_time >= dt.date(2018, 12, 1), ['map_date']] = \\\n",
    "#     dt.date(2018, 12, 1)"
   ]
  },
  {
   "cell_type": "code",
   "execution_count": 12,
   "metadata": {
    "ExecuteTime": {
     "end_time": "2019-03-06T17:53:52.846545Z",
     "start_time": "2019-03-06T17:53:52.843380Z"
    }
   },
   "outputs": [],
   "source": [
    "time_df.columns = ['system_date', 'anchor_date']"
   ]
  },
  {
   "cell_type": "code",
   "execution_count": 13,
   "metadata": {
    "ExecuteTime": {
     "end_time": "2019-03-06T17:54:54.792497Z",
     "start_time": "2019-03-06T17:54:54.737557Z"
    }
   },
   "outputs": [
    {
     "data": {
      "text/plain": [
       "anchor_date\n",
       "2018-10-01    13\n",
       "2018-11-01    62\n",
       "Name: system_date, dtype: int64"
      ]
     },
     "execution_count": 13,
     "metadata": {},
     "output_type": "execute_result"
    }
   ],
   "source": [
    "time_df.groupby(['anchor_date']).system_date.count()"
   ]
  },
  {
   "cell_type": "code",
   "execution_count": 13,
   "metadata": {
    "ExecuteTime": {
     "end_time": "2019-03-06T16:26:28.081207Z",
     "start_time": "2019-03-06T16:26:28.074879Z"
    }
   },
   "outputs": [
    {
     "data": {
      "text/plain": [
       "system_date    object\n",
       "anchor_date    object\n",
       "dtype: object"
      ]
     },
     "execution_count": 13,
     "metadata": {},
     "output_type": "execute_result"
    }
   ],
   "source": [
    "time_df.dtypes"
   ]
  },
  {
   "cell_type": "code",
   "execution_count": 17,
   "metadata": {
    "ExecuteTime": {
     "end_time": "2019-03-06T17:55:29.187873Z",
     "start_time": "2019-03-06T17:55:29.182053Z"
    }
   },
   "outputs": [
    {
     "data": {
      "text/plain": [
       "session_id                          category\n",
       "timezone                            category\n",
       "timezone_offset                     category\n",
       "previous_sessions_duration             int64\n",
       "user_created_timestamp        datetime64[ns]\n",
       "is_user_first_session                   bool\n",
       "country                             category\n",
       "region                              category\n",
       "city                                category\n",
       "latitude                             float64\n",
       "longitude                            float64\n",
       "locale                              category\n",
       "os_name                             category\n",
       "session_index                          int64\n",
       "user_id_hash                        category\n",
       "user_time                              int64\n",
       "system_time                   datetime64[ns]\n",
       "system_date                           object\n",
       "dtype: object"
      ]
     },
     "execution_count": 17,
     "metadata": {},
     "output_type": "execute_result"
    }
   ],
   "source": [
    "sessions.dtypes"
   ]
  },
  {
   "cell_type": "code",
   "execution_count": 24,
   "metadata": {
    "ExecuteTime": {
     "end_time": "2019-03-06T08:23:28.091451Z",
     "start_time": "2019-03-06T08:23:28.087554Z"
    }
   },
   "outputs": [],
   "source": [
    "time_df.anchor_date = time_df.anchor_date.astype('datetime64[ns]')"
   ]
  },
  {
   "cell_type": "code",
   "execution_count": 26,
   "metadata": {
    "ExecuteTime": {
     "end_time": "2019-03-06T08:23:34.370044Z",
     "start_time": "2019-03-06T08:23:34.367119Z"
    }
   },
   "outputs": [],
   "source": [
    "# sessions.drop(['anchor_date'], inplace=True, axis=1)"
   ]
  },
  {
   "cell_type": "code",
   "execution_count": 18,
   "metadata": {
    "ExecuteTime": {
     "end_time": "2019-03-06T17:55:44.299864Z",
     "start_time": "2019-03-06T17:55:41.662844Z"
    }
   },
   "outputs": [],
   "source": [
    "sessions = sessions.merge(time_df, how='left')\n",
    "sessions.anchor_date = sessions.anchor_date.astype('datetime64[ns]')"
   ]
  },
  {
   "cell_type": "code",
   "execution_count": 376,
   "metadata": {
    "ExecuteTime": {
     "end_time": "2019-03-06T22:36:46.182436Z",
     "start_time": "2019-03-06T22:36:45.992892Z"
    }
   },
   "outputs": [
    {
     "data": {
      "text/plain": [
       "anchor_date\n",
       "2018-11-01    418871\n",
       "Name: user_id_hash, dtype: int64"
      ]
     },
     "execution_count": 376,
     "metadata": {},
     "output_type": "execute_result"
    }
   ],
   "source": [
    "sessions.groupby(['anchor_date']).user_id_hash.count()"
   ]
  },
  {
   "cell_type": "code",
   "execution_count": 390,
   "metadata": {
    "ExecuteTime": {
     "end_time": "2019-03-06T22:40:11.013215Z",
     "start_time": "2019-03-06T22:40:11.000199Z"
    }
   },
   "outputs": [],
   "source": [
    "def custom_aggregate(df, t='anchor_date'):\n",
    "    grp_cols = [t, 'user_id_hash']\n",
    "    grpby_obj = df.groupby(grp_cols)\n",
    "\n",
    "    # number of sessions\n",
    "    temp = grpby_obj.city.count().to_frame().reset_index().\\\n",
    "                rename(columns={'city': 'no_sessions'})\n",
    "\n",
    "    # number of cities\n",
    "    temp1 = grpby_obj.city.agg('nunique')\\\n",
    "                     .to_frame().reset_index()\\\n",
    "                     .rename(columns={'city': 'no_city'})\n",
    "\n",
    "    # last city\n",
    "    temp2 = grpby_obj.city.last().to_frame().reset_index()\\\n",
    "                     .rename(columns={'city': 'last_city'})\n",
    "    \n",
    "    # last country\n",
    "    temp3 = grpby_obj.country.last().to_frame().reset_index()\\\n",
    "                     .rename(columns={'country': 'last_country'})\n",
    "\n",
    "    # last region\n",
    "    temp4 = grpby_obj.region.last().to_frame().reset_index()\\\n",
    "                     .rename(columns={'region': 'last_region'})\n",
    "\n",
    "    # no of region\n",
    "    temp5 = grpby_obj.region.agg('nunique')\\\n",
    "                     .to_frame().reset_index()\\\n",
    "                     .rename(columns={'region': 'region_count'})\n",
    "\n",
    "    # last locale\n",
    "    temp6 = grpby_obj.locale.last().to_frame().reset_index()\\\n",
    "                     .rename(columns={'locale': 'last_locale'})\n",
    "\n",
    "    # agg session time\n",
    "    temp7 = grpby_obj.previous_sessions_duration.sum()\\\n",
    "                      .to_frame().reset_index()\\\n",
    "                      .rename(columns={'previous_sessions_duration': 'total_session_time'})\n",
    "\n",
    "    # mean session time\n",
    "    temp8 = grpby_obj.previous_sessions_duration.mean().\\\n",
    "                to_frame().reset_index().\\\n",
    "                rename(columns={'previous_sessions_duration': 'mean_session_time'})\n",
    "\n",
    "    # median session time\n",
    "    temp9 = grpby_obj.previous_sessions_duration.median().\\\n",
    "                to_frame().reset_index().\\\n",
    "                rename(columns={'previous_sessions_duration': 'median_session_time'})\n",
    "\n",
    "    # count session time\n",
    "    temp10 = grpby_obj.previous_sessions_duration.count().\\\n",
    "                to_frame().reset_index().\\\n",
    "                rename(columns={'previous_sessions_duration': 'count_session_time'})\n",
    "\n",
    "    # count unique session time\n",
    "    temp11 = grpby_obj.session_id.agg('nunique').\\\n",
    "                to_frame().reset_index().\\\n",
    "                rename(columns={'session_id': 'ncount_session_time'})\n",
    "\n",
    "    # mean user hour\n",
    "    temp12 = grpby_obj.user_time.mean().\\\n",
    "                to_frame().reset_index().\\\n",
    "                rename(columns={'session_id': 'mean_user_time'})\n",
    "\n",
    "    for i in range(1, 13):\n",
    "        temp = temp.merge(locals()[f'temp{i}'], \n",
    "                          on=grp_cols)\n",
    "    return temp"
   ]
  },
  {
   "cell_type": "code",
   "execution_count": 378,
   "metadata": {
    "ExecuteTime": {
     "end_time": "2019-03-06T22:36:51.834886Z",
     "start_time": "2019-03-06T22:36:51.830414Z"
    }
   },
   "outputs": [
    {
     "data": {
      "text/plain": [
       "(418871, 19)"
      ]
     },
     "execution_count": 378,
     "metadata": {},
     "output_type": "execute_result"
    }
   ],
   "source": [
    "sessions.shape"
   ]
  },
  {
   "cell_type": "code",
   "execution_count": 22,
   "metadata": {
    "ExecuteTime": {
     "end_time": "2019-03-06T17:56:18.940775Z",
     "start_time": "2019-03-06T17:56:18.184629Z"
    }
   },
   "outputs": [],
   "source": [
    "sessions = sessions[sessions.anchor_date == dt.date(2018, 11, 1)]"
   ]
  },
  {
   "cell_type": "code",
   "execution_count": 304,
   "metadata": {
    "ExecuteTime": {
     "end_time": "2019-03-06T22:04:32.086612Z",
     "start_time": "2019-03-06T22:04:32.082054Z"
    }
   },
   "outputs": [
    {
     "data": {
      "text/plain": [
       "(611517, 19)"
      ]
     },
     "execution_count": 304,
     "metadata": {},
     "output_type": "execute_result"
    }
   ],
   "source": [
    "sessions.shape"
   ]
  },
  {
   "cell_type": "code",
   "execution_count": 391,
   "metadata": {
    "ExecuteTime": {
     "end_time": "2019-03-06T22:40:14.310590Z",
     "start_time": "2019-03-06T22:40:14.290454Z"
    }
   },
   "outputs": [],
   "source": [
    "sessions.anchor_date = sessions.anchor_date.astype('datetime64[ns]')"
   ]
  },
  {
   "cell_type": "code",
   "execution_count": 392,
   "metadata": {
    "ExecuteTime": {
     "end_time": "2019-03-06T22:40:53.126534Z",
     "start_time": "2019-03-06T22:40:15.196939Z"
    }
   },
   "outputs": [],
   "source": [
    "sessions = custom_aggregate(sessions)"
   ]
  },
  {
   "cell_type": "code",
   "execution_count": 393,
   "metadata": {
    "ExecuteTime": {
     "end_time": "2019-03-06T22:40:53.784622Z",
     "start_time": "2019-03-06T22:40:53.129104Z"
    }
   },
   "outputs": [
    {
     "data": {
      "text/plain": [
       "364"
      ]
     },
     "execution_count": 393,
     "metadata": {},
     "output_type": "execute_result"
    }
   ],
   "source": [
    "gc.collect()"
   ]
  },
  {
   "cell_type": "code",
   "execution_count": 86,
   "metadata": {
    "ExecuteTime": {
     "end_time": "2019-03-06T03:35:59.940321Z",
     "start_time": "2019-03-06T03:35:39.748637Z"
    }
   },
   "outputs": [],
   "source": [
    "sessions.to_pickle('../data/sessions.pkl')"
   ]
  },
  {
   "cell_type": "code",
   "execution_count": 385,
   "metadata": {
    "ExecuteTime": {
     "end_time": "2019-03-06T22:38:44.182964Z",
     "start_time": "2019-03-06T22:38:38.143672Z"
    }
   },
   "outputs": [],
   "source": [
    "sessions = pd.read_pickle('../data/sessions.pkl')"
   ]
  },
  {
   "cell_type": "code",
   "execution_count": 87,
   "metadata": {
    "ExecuteTime": {
     "end_time": "2019-03-06T03:36:14.228959Z",
     "start_time": "2019-03-06T03:36:11.680090Z"
    }
   },
   "outputs": [
    {
     "data": {
      "text/plain": [
       "133574"
      ]
     },
     "execution_count": 87,
     "metadata": {},
     "output_type": "execute_result"
    }
   ],
   "source": [
    "sessions_agg = result.copy(deep=True)\n",
    "del result\n",
    "sessions_agg.to_pickle('../data/sessions_agg.pkl')\n",
    "gc.collect()"
   ]
  },
  {
   "cell_type": "code",
   "execution_count": 88,
   "metadata": {
    "ExecuteTime": {
     "end_time": "2019-03-06T03:37:35.561298Z",
     "start_time": "2019-03-06T03:37:34.665415Z"
    }
   },
   "outputs": [
    {
     "data": {
      "text/plain": [
       "996"
      ]
     },
     "execution_count": 88,
     "metadata": {},
     "output_type": "execute_result"
    }
   ],
   "source": [
    "del sessions\n",
    "gc.collect()"
   ]
  },
  {
   "cell_type": "markdown",
   "metadata": {
    "heading_collapsed": true
   },
   "source": [
    "# Events"
   ]
  },
  {
   "cell_type": "code",
   "execution_count": 89,
   "metadata": {
    "ExecuteTime": {
     "end_time": "2019-03-06T03:39:14.580342Z",
     "start_time": "2019-03-06T03:38:10.360719Z"
    },
    "hidden": true
   },
   "outputs": [],
   "source": [
    "events = pd.read_pickle('../../events.pkl')"
   ]
  },
  {
   "cell_type": "code",
   "execution_count": 90,
   "metadata": {
    "ExecuteTime": {
     "end_time": "2019-03-06T03:40:57.378594Z",
     "start_time": "2019-03-06T03:40:50.580981Z"
    },
    "hidden": true
   },
   "outputs": [],
   "source": [
    "events.drop(['week_start'], inplace=True, axis=1)"
   ]
  },
  {
   "cell_type": "code",
   "execution_count": 91,
   "metadata": {
    "ExecuteTime": {
     "end_time": "2019-03-06T03:42:11.981795Z",
     "start_time": "2019-03-06T03:40:57.381666Z"
    },
    "hidden": true
   },
   "outputs": [],
   "source": [
    "events.sort_values(['system_time', 'user_id_hash'], inplace=True)"
   ]
  },
  {
   "cell_type": "code",
   "execution_count": 92,
   "metadata": {
    "ExecuteTime": {
     "end_time": "2019-03-06T03:42:11.989517Z",
     "start_time": "2019-03-06T03:42:11.984558Z"
    },
    "hidden": true
   },
   "outputs": [
    {
     "data": {
      "text/plain": [
       "{'ab': 97, 'message': 98, 'campaing': 99}"
      ]
     },
     "execution_count": 92,
     "metadata": {},
     "output_type": "execute_result"
    }
   ],
   "source": [
    "{'ab': 97, 'message': 98, 'campaing': 99}"
   ]
  },
  {
   "cell_type": "code",
   "execution_count": 93,
   "metadata": {
    "ExecuteTime": {
     "end_time": "2019-03-06T03:42:12.037192Z",
     "start_time": "2019-03-06T03:42:11.992557Z"
    },
    "hidden": true
   },
   "outputs": [],
   "source": [
    "events.reset_index(inplace=True, drop=True)"
   ]
  },
  {
   "cell_type": "code",
   "execution_count": 94,
   "metadata": {
    "ExecuteTime": {
     "end_time": "2019-03-06T03:42:24.911990Z",
     "start_time": "2019-03-06T03:42:12.039808Z"
    },
    "hidden": true
   },
   "outputs": [],
   "source": [
    "events.event = events.event.cat.add_categories([97, 98, 99])\n",
    "events.loc[events.event_type == 'ab', 'event'] = 97\n",
    "events.loc[events.event_type == 'message', 'event'] = 98\n",
    "events.loc[events.event_type == 'campaing', 'event'] = 99\n",
    "events.event = events.event.cat.remove_unused_categories()"
   ]
  },
  {
   "cell_type": "code",
   "execution_count": 95,
   "metadata": {
    "ExecuteTime": {
     "end_time": "2019-03-06T03:43:48.389792Z",
     "start_time": "2019-03-06T03:42:29.503349Z"
    },
    "hidden": true
   },
   "outputs": [],
   "source": [
    "drop_events = ['10', '51', '61', '62', '99', '0/', '1/', '32']\n",
    "for e in drop_events:\n",
    "    even = events[events.event != e]\n",
    "events.drop(['event_type'], inplace=True, axis=1)\n",
    "events.drop(['event_timestamp', 'session_id', 'system_date'], inplace=True, axis=1)\n",
    "events.reset_index(inplace=True, drop=True)"
   ]
  },
  {
   "cell_type": "code",
   "execution_count": 97,
   "metadata": {
    "ExecuteTime": {
     "end_time": "2019-03-06T03:46:34.167193Z",
     "start_time": "2019-03-06T03:46:34.155771Z"
    },
    "hidden": true
   },
   "outputs": [
    {
     "data": {
      "text/html": [
       "<div>\n",
       "<style scoped>\n",
       "    .dataframe tbody tr th:only-of-type {\n",
       "        vertical-align: middle;\n",
       "    }\n",
       "\n",
       "    .dataframe tbody tr th {\n",
       "        vertical-align: top;\n",
       "    }\n",
       "\n",
       "    .dataframe thead th {\n",
       "        text-align: right;\n",
       "    }\n",
       "</style>\n",
       "<table border=\"1\" class=\"dataframe\">\n",
       "  <thead>\n",
       "    <tr style=\"text-align: right;\">\n",
       "      <th></th>\n",
       "      <th>event</th>\n",
       "      <th>event_value</th>\n",
       "      <th>user_id_hash</th>\n",
       "      <th>system_time</th>\n",
       "    </tr>\n",
       "  </thead>\n",
       "  <tbody>\n",
       "    <tr>\n",
       "      <th>0</th>\n",
       "      <td>97</td>\n",
       "      <td>0.0</td>\n",
       "      <td>c9bad12f865142f1b3938c9ab8a3003a7882136a2b4a12...</td>\n",
       "      <td>2018-10-01 07:00:04</td>\n",
       "    </tr>\n",
       "    <tr>\n",
       "      <th>1</th>\n",
       "      <td>97</td>\n",
       "      <td>0.0</td>\n",
       "      <td>c9bad12f865142f1b3938c9ab8a3003a7882136a2b4a12...</td>\n",
       "      <td>2018-10-01 07:00:04</td>\n",
       "    </tr>\n",
       "    <tr>\n",
       "      <th>2</th>\n",
       "      <td>97</td>\n",
       "      <td>0.0</td>\n",
       "      <td>285863e47df26bf47664c93d45c35ee3b9cfc8e253da23...</td>\n",
       "      <td>2018-10-01 07:00:08</td>\n",
       "    </tr>\n",
       "    <tr>\n",
       "      <th>3</th>\n",
       "      <td>44</td>\n",
       "      <td>0.0</td>\n",
       "      <td>285863e47df26bf47664c93d45c35ee3b9cfc8e253da23...</td>\n",
       "      <td>2018-10-01 07:00:40</td>\n",
       "    </tr>\n",
       "    <tr>\n",
       "      <th>4</th>\n",
       "      <td>5</td>\n",
       "      <td>0.0</td>\n",
       "      <td>285863e47df26bf47664c93d45c35ee3b9cfc8e253da23...</td>\n",
       "      <td>2018-10-01 07:00:42</td>\n",
       "    </tr>\n",
       "  </tbody>\n",
       "</table>\n",
       "</div>"
      ],
      "text/plain": [
       "  event  event_value                                       user_id_hash  \\\n",
       "0    97          0.0  c9bad12f865142f1b3938c9ab8a3003a7882136a2b4a12...   \n",
       "1    97          0.0  c9bad12f865142f1b3938c9ab8a3003a7882136a2b4a12...   \n",
       "2    97          0.0  285863e47df26bf47664c93d45c35ee3b9cfc8e253da23...   \n",
       "3    44          0.0  285863e47df26bf47664c93d45c35ee3b9cfc8e253da23...   \n",
       "4     5          0.0  285863e47df26bf47664c93d45c35ee3b9cfc8e253da23...   \n",
       "\n",
       "          system_time  \n",
       "0 2018-10-01 07:00:04  \n",
       "1 2018-10-01 07:00:04  \n",
       "2 2018-10-01 07:00:08  \n",
       "3 2018-10-01 07:00:40  \n",
       "4 2018-10-01 07:00:42  "
      ]
     },
     "execution_count": 97,
     "metadata": {},
     "output_type": "execute_result"
    }
   ],
   "source": [
    "events.head()"
   ]
  },
  {
   "cell_type": "code",
   "execution_count": 98,
   "metadata": {
    "ExecuteTime": {
     "end_time": "2019-03-06T03:47:11.806416Z",
     "start_time": "2019-03-06T03:47:10.273888Z"
    },
    "hidden": true
   },
   "outputs": [
    {
     "data": {
      "text/plain": [
       "(265034, 4)"
      ]
     },
     "execution_count": 98,
     "metadata": {},
     "output_type": "execute_result"
    }
   ],
   "source": [
    "events[events.event == '8'].shape"
   ]
  },
  {
   "cell_type": "code",
   "execution_count": 36,
   "metadata": {
    "ExecuteTime": {
     "end_time": "2019-03-06T18:37:32.158160Z",
     "start_time": "2019-03-06T18:37:32.150003Z"
    },
    "hidden": true
   },
   "outputs": [],
   "source": [
    "def get_mode(x):\n",
    "    try:\n",
    "        return x.value_counts().index[0]\n",
    "    except:\n",
    "        return None\n",
    "\n",
    "def custom_aggregate(df):\n",
    "\n",
    "    grp_cols = ['anchor_date', 'event', 'user_id_hash']\n",
    "    grpby_obj = df.groupby(grp_cols)\n",
    "    \n",
    "    temp = grpby_obj.event_value.count().to_frame().reset_index()\\\n",
    "                .rename(columns={'event_value': 'event_count'})\n",
    "    temp1 = grpby_obj.event_value.sum().to_frame().reset_index()\\\n",
    "                .rename(columns={'event_value': 'event_sum'})\n",
    "    temp2 = grpby_obj.event_value.mean().to_frame().reset_index()\\\n",
    "                .rename(columns={'event_value': 'event_mean'})\n",
    "#     temp3 = grpby_obj.event_value.agg(lambda x: get_mode(x))\\\n",
    "#                                  .to_frame().reset_index()\\\n",
    "#                                  .rename(columns={'event_value': 'event_mode'})\n",
    "    temp3 = grpby_obj.event_value.last()\\\n",
    "                                 .to_frame().reset_index()\\\n",
    "                                 .rename(columns={'event_value': 'event_last'})\n",
    "\n",
    "    for i in range(1, 4):\n",
    "        temp = temp.merge(locals()[f'temp{i}'], \n",
    "                          on=grp_cols)\n",
    "    return temp"
   ]
  },
  {
   "cell_type": "code",
   "execution_count": 51,
   "metadata": {
    "ExecuteTime": {
     "end_time": "2019-03-06T04:26:19.367405Z",
     "start_time": "2019-03-06T04:26:19.363413Z"
    },
    "hidden": true
   },
   "outputs": [],
   "source": [
    "def wrapper_agg(wst):\n",
    "    events_ss = events[events.anchor_date == wst].copy()\n",
    "    return custom_aggregate(events_ss)"
   ]
  },
  {
   "cell_type": "code",
   "execution_count": 108,
   "metadata": {
    "ExecuteTime": {
     "end_time": "2019-03-06T03:51:16.681280Z",
     "start_time": "2019-03-06T03:50:46.229305Z"
    },
    "hidden": true
   },
   "outputs": [],
   "source": [
    "events['system_date'] = events.system_time.dt.date"
   ]
  },
  {
   "cell_type": "code",
   "execution_count": 28,
   "metadata": {
    "ExecuteTime": {
     "end_time": "2019-03-06T18:35:24.707457Z",
     "start_time": "2019-03-06T18:35:20.635129Z"
    },
    "hidden": true
   },
   "outputs": [],
   "source": [
    "events.drop(['anchor_date'], inplace=True, axis=1)"
   ]
  },
  {
   "cell_type": "code",
   "execution_count": 29,
   "metadata": {
    "ExecuteTime": {
     "end_time": "2019-03-06T18:35:26.600712Z",
     "start_time": "2019-03-06T18:35:26.594426Z"
    },
    "hidden": true
   },
   "outputs": [
    {
     "data": {
      "text/plain": [
       "event                 category\n",
       "event_value            float64\n",
       "user_id_hash          category\n",
       "system_time     datetime64[ns]\n",
       "system_date             object\n",
       "dtype: object"
      ]
     },
     "execution_count": 29,
     "metadata": {},
     "output_type": "execute_result"
    }
   ],
   "source": [
    "events.dtypes"
   ]
  },
  {
   "cell_type": "code",
   "execution_count": 30,
   "metadata": {
    "ExecuteTime": {
     "end_time": "2019-03-06T18:35:26.952885Z",
     "start_time": "2019-03-06T18:35:26.946606Z"
    },
    "hidden": true
   },
   "outputs": [
    {
     "data": {
      "text/plain": [
       "system_date    object\n",
       "anchor_date    object\n",
       "dtype: object"
      ]
     },
     "execution_count": 30,
     "metadata": {},
     "output_type": "execute_result"
    }
   ],
   "source": [
    "time_df.dtypes"
   ]
  },
  {
   "cell_type": "code",
   "execution_count": 31,
   "metadata": {
    "ExecuteTime": {
     "end_time": "2019-03-06T18:36:20.098344Z",
     "start_time": "2019-03-06T18:35:45.927221Z"
    },
    "hidden": true
   },
   "outputs": [],
   "source": [
    "events = events.merge(time_df, how='left')"
   ]
  },
  {
   "cell_type": "code",
   "execution_count": 32,
   "metadata": {
    "ExecuteTime": {
     "end_time": "2019-03-06T15:33:45.523057Z",
     "start_time": "2019-03-06T15:33:38.554827Z"
    },
    "hidden": true
   },
   "outputs": [],
   "source": [
    "events.anchor_date = events.anchor_date.astype('datetime64[ns]')"
   ]
  },
  {
   "cell_type": "code",
   "execution_count": 32,
   "metadata": {
    "ExecuteTime": {
     "end_time": "2019-03-06T18:36:54.476784Z",
     "start_time": "2019-03-06T18:36:25.746373Z"
    },
    "hidden": true
   },
   "outputs": [
    {
     "data": {
      "text/plain": [
       "anchor_date\n",
       "2018-10-01    12908430\n",
       "2018-11-01    99038167\n",
       "Name: event, dtype: int64"
      ]
     },
     "execution_count": 32,
     "metadata": {},
     "output_type": "execute_result"
    }
   ],
   "source": [
    "events.groupby(['anchor_date']).event.count()"
   ]
  },
  {
   "cell_type": "code",
   "execution_count": 33,
   "metadata": {
    "ExecuteTime": {
     "end_time": "2019-03-06T18:37:15.576953Z",
     "start_time": "2019-03-06T18:36:58.922854Z"
    },
    "hidden": true
   },
   "outputs": [],
   "source": [
    "events = events[events.anchor_date == dt.date(2018, 11, 1)]"
   ]
  },
  {
   "cell_type": "code",
   "execution_count": 34,
   "metadata": {
    "ExecuteTime": {
     "end_time": "2019-03-06T18:37:15.584061Z",
     "start_time": "2019-03-06T18:37:15.579482Z"
    },
    "hidden": true
   },
   "outputs": [
    {
     "data": {
      "text/plain": [
       "(99038167, 6)"
      ]
     },
     "execution_count": 34,
     "metadata": {},
     "output_type": "execute_result"
    }
   ],
   "source": [
    "events.shape"
   ]
  },
  {
   "cell_type": "code",
   "execution_count": 37,
   "metadata": {
    "ExecuteTime": {
     "end_time": "2019-03-06T18:38:27.873212Z",
     "start_time": "2019-03-06T18:37:37.461164Z"
    },
    "hidden": true
   },
   "outputs": [],
   "source": [
    "events = custom_aggregate(events)"
   ]
  },
  {
   "cell_type": "code",
   "execution_count": 53,
   "metadata": {
    "ExecuteTime": {
     "end_time": "2019-03-06T04:48:46.733317Z",
     "start_time": "2019-03-06T04:26:35.579419Z"
    },
    "hidden": true
   },
   "outputs": [
    {
     "data": {
      "text/html": [
       "\n",
       "    <div>\n",
       "        <style>\n",
       "            /* Turns off some styling */\n",
       "            progress {\n",
       "                /* gets rid of default border in Firefox and Opera. */\n",
       "                border: none;\n",
       "                /* Needs to be in here for Safari polyfill so background images work as expected. */\n",
       "                background-size: auto;\n",
       "            }\n",
       "            .progress-bar-interrupted, .progress-bar-interrupted::-webkit-progress-bar {\n",
       "                background: #F44336;\n",
       "            }\n",
       "        </style>\n",
       "      <progress value='3' class='' max='3', style='width:300px; height:20px; vertical-align: middle;'></progress>\n",
       "      100.00% [3/3 22:06<00:00]\n",
       "    </div>\n",
       "    "
      ],
      "text/plain": [
       "<IPython.core.display.HTML object>"
      ]
     },
     "metadata": {},
     "output_type": "display_data"
    }
   ],
   "source": [
    "result = parallel(wrapper_agg, events.anchor_date.unique())"
   ]
  },
  {
   "cell_type": "code",
   "execution_count": 54,
   "metadata": {
    "ExecuteTime": {
     "end_time": "2019-03-06T04:48:48.903125Z",
     "start_time": "2019-03-06T04:48:46.737034Z"
    },
    "hidden": true
   },
   "outputs": [],
   "source": [
    "result = pd.concat(result)"
   ]
  },
  {
   "cell_type": "code",
   "execution_count": 55,
   "metadata": {
    "ExecuteTime": {
     "end_time": "2019-03-06T04:53:32.542605Z",
     "start_time": "2019-03-06T04:53:32.537726Z"
    },
    "hidden": true
   },
   "outputs": [
    {
     "data": {
      "text/plain": [
       "(6346000, 7)"
      ]
     },
     "execution_count": 55,
     "metadata": {},
     "output_type": "execute_result"
    }
   ],
   "source": [
    "result.shape"
   ]
  },
  {
   "cell_type": "code",
   "execution_count": 27,
   "metadata": {
    "ExecuteTime": {
     "end_time": "2019-03-06T18:31:59.669639Z",
     "start_time": "2019-03-06T18:30:16.904234Z"
    },
    "hidden": true
   },
   "outputs": [],
   "source": [
    "events = pd.read_pickle('../data/events.pkl')"
   ]
  },
  {
   "cell_type": "code",
   "execution_count": 56,
   "metadata": {
    "ExecuteTime": {
     "end_time": "2019-03-06T04:53:43.579935Z",
     "start_time": "2019-03-06T04:53:38.963476Z"
    },
    "hidden": true
   },
   "outputs": [
    {
     "data": {
      "text/plain": [
       "1817"
      ]
     },
     "execution_count": 56,
     "metadata": {},
     "output_type": "execute_result"
    }
   ],
   "source": [
    "events.to_pickle('../data/events.pkl')\n",
    "events_agg = result.copy(deep=True)\n",
    "del result\n",
    "events_agg.to_pickle('../data/events_agg.pkl')\n",
    "gc.collect()"
   ]
  },
  {
   "cell_type": "code",
   "execution_count": 49,
   "metadata": {
    "ExecuteTime": {
     "end_time": "2019-03-06T08:42:55.095736Z",
     "start_time": "2019-03-06T08:42:53.240068Z"
    },
    "hidden": true
   },
   "outputs": [
    {
     "data": {
      "text/plain": [
       "3053"
      ]
     },
     "execution_count": 49,
     "metadata": {},
     "output_type": "execute_result"
    }
   ],
   "source": [
    "gc.collect()"
   ]
  },
  {
   "cell_type": "markdown",
   "metadata": {},
   "source": [
    "# Attributes"
   ]
  },
  {
   "cell_type": "code",
   "execution_count": 470,
   "metadata": {
    "ExecuteTime": {
     "end_time": "2019-03-06T22:59:02.430809Z",
     "start_time": "2019-03-06T22:59:01.983572Z"
    }
   },
   "outputs": [
    {
     "data": {
      "text/plain": [
       "1273"
      ]
     },
     "execution_count": 470,
     "metadata": {},
     "output_type": "execute_result"
    }
   ],
   "source": [
    "del sessions\n",
    "gc.collect()"
   ]
  },
  {
   "cell_type": "code",
   "execution_count": 471,
   "metadata": {
    "ExecuteTime": {
     "end_time": "2019-03-06T22:59:04.823804Z",
     "start_time": "2019-03-06T22:59:04.780801Z"
    }
   },
   "outputs": [
    {
     "ename": "MemoryError",
     "evalue": "",
     "output_type": "error",
     "traceback": [
      "\u001b[0;31m---------------------------------------------------------------------------\u001b[0m",
      "\u001b[0;31mMemoryError\u001b[0m                               Traceback (most recent call last)",
      "\u001b[0;32m~/anaconda3/lib/python3.7/site-packages/pandas/io/pickle.py\u001b[0m in \u001b[0;36mtry_read\u001b[0;34m(path, encoding)\u001b[0m\n\u001b[1;32m    165\u001b[0m                 \u001b[0;31m# We want to silencce any warnings about, e.g. moved modules.\u001b[0m\u001b[0;34m\u001b[0m\u001b[0;34m\u001b[0m\u001b[0;34m\u001b[0m\u001b[0m\n\u001b[0;32m--> 166\u001b[0;31m                 \u001b[0;32mreturn\u001b[0m \u001b[0mread_wrapper\u001b[0m\u001b[0;34m(\u001b[0m\u001b[0;32mlambda\u001b[0m \u001b[0mf\u001b[0m\u001b[0;34m:\u001b[0m \u001b[0mpkl\u001b[0m\u001b[0;34m.\u001b[0m\u001b[0mload\u001b[0m\u001b[0;34m(\u001b[0m\u001b[0mf\u001b[0m\u001b[0;34m)\u001b[0m\u001b[0;34m)\u001b[0m\u001b[0;34m\u001b[0m\u001b[0;34m\u001b[0m\u001b[0m\n\u001b[0m\u001b[1;32m    167\u001b[0m         \u001b[0;32mexcept\u001b[0m \u001b[0mException\u001b[0m\u001b[0;34m:\u001b[0m\u001b[0;34m\u001b[0m\u001b[0;34m\u001b[0m\u001b[0m\n",
      "\u001b[0;32m~/anaconda3/lib/python3.7/site-packages/pandas/io/pickle.py\u001b[0m in \u001b[0;36mread_wrapper\u001b[0;34m(func)\u001b[0m\n\u001b[1;32m    148\u001b[0m         \u001b[0;32mtry\u001b[0m\u001b[0;34m:\u001b[0m\u001b[0;34m\u001b[0m\u001b[0;34m\u001b[0m\u001b[0m\n\u001b[0;32m--> 149\u001b[0;31m             \u001b[0;32mreturn\u001b[0m \u001b[0mfunc\u001b[0m\u001b[0;34m(\u001b[0m\u001b[0mf\u001b[0m\u001b[0;34m)\u001b[0m\u001b[0;34m\u001b[0m\u001b[0;34m\u001b[0m\u001b[0m\n\u001b[0m\u001b[1;32m    150\u001b[0m         \u001b[0;32mfinally\u001b[0m\u001b[0;34m:\u001b[0m\u001b[0;34m\u001b[0m\u001b[0;34m\u001b[0m\u001b[0m\n",
      "\u001b[0;32m~/anaconda3/lib/python3.7/site-packages/pandas/io/pickle.py\u001b[0m in \u001b[0;36m<lambda>\u001b[0;34m(f)\u001b[0m\n\u001b[1;32m    165\u001b[0m                 \u001b[0;31m# We want to silencce any warnings about, e.g. moved modules.\u001b[0m\u001b[0;34m\u001b[0m\u001b[0;34m\u001b[0m\u001b[0;34m\u001b[0m\u001b[0m\n\u001b[0;32m--> 166\u001b[0;31m                 \u001b[0;32mreturn\u001b[0m \u001b[0mread_wrapper\u001b[0m\u001b[0;34m(\u001b[0m\u001b[0;32mlambda\u001b[0m \u001b[0mf\u001b[0m\u001b[0;34m:\u001b[0m \u001b[0mpkl\u001b[0m\u001b[0;34m.\u001b[0m\u001b[0mload\u001b[0m\u001b[0;34m(\u001b[0m\u001b[0mf\u001b[0m\u001b[0;34m)\u001b[0m\u001b[0;34m)\u001b[0m\u001b[0;34m\u001b[0m\u001b[0;34m\u001b[0m\u001b[0m\n\u001b[0m\u001b[1;32m    167\u001b[0m         \u001b[0;32mexcept\u001b[0m \u001b[0mException\u001b[0m\u001b[0;34m:\u001b[0m\u001b[0;34m\u001b[0m\u001b[0;34m\u001b[0m\u001b[0m\n",
      "\u001b[0;31mMemoryError\u001b[0m: ",
      "\nDuring handling of the above exception, another exception occurred:\n",
      "\u001b[0;31mMemoryError\u001b[0m                               Traceback (most recent call last)",
      "\u001b[0;32m~/anaconda3/lib/python3.7/site-packages/pandas/io/pickle.py\u001b[0m in \u001b[0;36mtry_read\u001b[0;34m(path, encoding)\u001b[0m\n\u001b[1;32m    170\u001b[0m                 return read_wrapper(\n\u001b[0;32m--> 171\u001b[0;31m                     lambda f: pc.load(f, encoding=encoding, compat=False))\n\u001b[0m\u001b[1;32m    172\u001b[0m             \u001b[0;31m# compat pickle\u001b[0m\u001b[0;34m\u001b[0m\u001b[0;34m\u001b[0m\u001b[0;34m\u001b[0m\u001b[0m\n",
      "\u001b[0;32m~/anaconda3/lib/python3.7/site-packages/pandas/io/pickle.py\u001b[0m in \u001b[0;36mread_wrapper\u001b[0;34m(func)\u001b[0m\n\u001b[1;32m    148\u001b[0m         \u001b[0;32mtry\u001b[0m\u001b[0;34m:\u001b[0m\u001b[0;34m\u001b[0m\u001b[0;34m\u001b[0m\u001b[0m\n\u001b[0;32m--> 149\u001b[0;31m             \u001b[0;32mreturn\u001b[0m \u001b[0mfunc\u001b[0m\u001b[0;34m(\u001b[0m\u001b[0mf\u001b[0m\u001b[0;34m)\u001b[0m\u001b[0;34m\u001b[0m\u001b[0;34m\u001b[0m\u001b[0m\n\u001b[0m\u001b[1;32m    150\u001b[0m         \u001b[0;32mfinally\u001b[0m\u001b[0;34m:\u001b[0m\u001b[0;34m\u001b[0m\u001b[0;34m\u001b[0m\u001b[0m\n",
      "\u001b[0;32m~/anaconda3/lib/python3.7/site-packages/pandas/io/pickle.py\u001b[0m in \u001b[0;36m<lambda>\u001b[0;34m(f)\u001b[0m\n\u001b[1;32m    170\u001b[0m                 return read_wrapper(\n\u001b[0;32m--> 171\u001b[0;31m                     lambda f: pc.load(f, encoding=encoding, compat=False))\n\u001b[0m\u001b[1;32m    172\u001b[0m             \u001b[0;31m# compat pickle\u001b[0m\u001b[0;34m\u001b[0m\u001b[0;34m\u001b[0m\u001b[0;34m\u001b[0m\u001b[0m\n",
      "\u001b[0;32m~/anaconda3/lib/python3.7/site-packages/pandas/compat/pickle_compat.py\u001b[0m in \u001b[0;36mload\u001b[0;34m(fh, encoding, compat, is_verbose)\u001b[0m\n\u001b[1;32m    211\u001b[0m \u001b[0;34m\u001b[0m\u001b[0m\n\u001b[0;32m--> 212\u001b[0;31m         \u001b[0;32mreturn\u001b[0m \u001b[0mup\u001b[0m\u001b[0;34m.\u001b[0m\u001b[0mload\u001b[0m\u001b[0;34m(\u001b[0m\u001b[0;34m)\u001b[0m\u001b[0;34m\u001b[0m\u001b[0;34m\u001b[0m\u001b[0m\n\u001b[0m\u001b[1;32m    213\u001b[0m     \u001b[0;32mexcept\u001b[0m\u001b[0;34m:\u001b[0m\u001b[0;34m\u001b[0m\u001b[0;34m\u001b[0m\u001b[0m\n",
      "\u001b[0;32m~/anaconda3/lib/python3.7/pickle.py\u001b[0m in \u001b[0;36mload\u001b[0;34m(self)\u001b[0m\n\u001b[1;32m   1084\u001b[0m                 \u001b[0;32massert\u001b[0m \u001b[0misinstance\u001b[0m\u001b[0;34m(\u001b[0m\u001b[0mkey\u001b[0m\u001b[0;34m,\u001b[0m \u001b[0mbytes_types\u001b[0m\u001b[0;34m)\u001b[0m\u001b[0;34m\u001b[0m\u001b[0;34m\u001b[0m\u001b[0m\n\u001b[0;32m-> 1085\u001b[0;31m                 \u001b[0mdispatch\u001b[0m\u001b[0;34m[\u001b[0m\u001b[0mkey\u001b[0m\u001b[0;34m[\u001b[0m\u001b[0;36m0\u001b[0m\u001b[0;34m]\u001b[0m\u001b[0;34m]\u001b[0m\u001b[0;34m(\u001b[0m\u001b[0mself\u001b[0m\u001b[0;34m)\u001b[0m\u001b[0;34m\u001b[0m\u001b[0;34m\u001b[0m\u001b[0m\n\u001b[0m\u001b[1;32m   1086\u001b[0m         \u001b[0;32mexcept\u001b[0m \u001b[0m_Stop\u001b[0m \u001b[0;32mas\u001b[0m \u001b[0mstopinst\u001b[0m\u001b[0;34m:\u001b[0m\u001b[0;34m\u001b[0m\u001b[0;34m\u001b[0m\u001b[0m\n",
      "\u001b[0;32m~/anaconda3/lib/python3.7/pickle.py\u001b[0m in \u001b[0;36mload_binbytes\u001b[0;34m(self)\u001b[0m\n\u001b[1;32m   1226\u001b[0m                                   \"of %d bytes\" % maxsize)\n\u001b[0;32m-> 1227\u001b[0;31m         \u001b[0mself\u001b[0m\u001b[0;34m.\u001b[0m\u001b[0mappend\u001b[0m\u001b[0;34m(\u001b[0m\u001b[0mself\u001b[0m\u001b[0;34m.\u001b[0m\u001b[0mread\u001b[0m\u001b[0;34m(\u001b[0m\u001b[0mlen\u001b[0m\u001b[0;34m)\u001b[0m\u001b[0;34m)\u001b[0m\u001b[0;34m\u001b[0m\u001b[0;34m\u001b[0m\u001b[0m\n\u001b[0m\u001b[1;32m   1228\u001b[0m     \u001b[0mdispatch\u001b[0m\u001b[0;34m[\u001b[0m\u001b[0mBINBYTES\u001b[0m\u001b[0;34m[\u001b[0m\u001b[0;36m0\u001b[0m\u001b[0;34m]\u001b[0m\u001b[0;34m]\u001b[0m \u001b[0;34m=\u001b[0m \u001b[0mload_binbytes\u001b[0m\u001b[0;34m\u001b[0m\u001b[0;34m\u001b[0m\u001b[0m\n",
      "\u001b[0;32m~/anaconda3/lib/python3.7/pickle.py\u001b[0m in \u001b[0;36mread\u001b[0;34m(self, n)\u001b[0m\n\u001b[1;32m    264\u001b[0m         \u001b[0;32melse\u001b[0m\u001b[0;34m:\u001b[0m\u001b[0;34m\u001b[0m\u001b[0;34m\u001b[0m\u001b[0m\n\u001b[0;32m--> 265\u001b[0;31m             \u001b[0;32mreturn\u001b[0m \u001b[0mself\u001b[0m\u001b[0;34m.\u001b[0m\u001b[0mfile_read\u001b[0m\u001b[0;34m(\u001b[0m\u001b[0mn\u001b[0m\u001b[0;34m)\u001b[0m\u001b[0;34m\u001b[0m\u001b[0;34m\u001b[0m\u001b[0m\n\u001b[0m\u001b[1;32m    266\u001b[0m \u001b[0;34m\u001b[0m\u001b[0m\n",
      "\u001b[0;31mMemoryError\u001b[0m: ",
      "\nDuring handling of the above exception, another exception occurred:\n",
      "\u001b[0;31mMemoryError\u001b[0m                               Traceback (most recent call last)",
      "\u001b[0;32m~/anaconda3/lib/python3.7/site-packages/pandas/io/pickle.py\u001b[0m in \u001b[0;36mread_pickle\u001b[0;34m(path, compression)\u001b[0m\n\u001b[1;32m    176\u001b[0m     \u001b[0;32mtry\u001b[0m\u001b[0;34m:\u001b[0m\u001b[0;34m\u001b[0m\u001b[0;34m\u001b[0m\u001b[0m\n\u001b[0;32m--> 177\u001b[0;31m         \u001b[0;32mreturn\u001b[0m \u001b[0mtry_read\u001b[0m\u001b[0;34m(\u001b[0m\u001b[0mpath\u001b[0m\u001b[0;34m)\u001b[0m\u001b[0;34m\u001b[0m\u001b[0;34m\u001b[0m\u001b[0m\n\u001b[0m\u001b[1;32m    178\u001b[0m     \u001b[0;32mexcept\u001b[0m\u001b[0;34m:\u001b[0m\u001b[0;34m\u001b[0m\u001b[0;34m\u001b[0m\u001b[0m\n",
      "\u001b[0;32m~/anaconda3/lib/python3.7/site-packages/pandas/io/pickle.py\u001b[0m in \u001b[0;36mtry_read\u001b[0;34m(path, encoding)\u001b[0m\n\u001b[1;32m    174\u001b[0m                 return read_wrapper(\n\u001b[0;32m--> 175\u001b[0;31m                     lambda f: pc.load(f, encoding=encoding, compat=True))\n\u001b[0m\u001b[1;32m    176\u001b[0m     \u001b[0;32mtry\u001b[0m\u001b[0;34m:\u001b[0m\u001b[0;34m\u001b[0m\u001b[0;34m\u001b[0m\u001b[0m\n",
      "\u001b[0;32m~/anaconda3/lib/python3.7/site-packages/pandas/io/pickle.py\u001b[0m in \u001b[0;36mread_wrapper\u001b[0;34m(func)\u001b[0m\n\u001b[1;32m    148\u001b[0m         \u001b[0;32mtry\u001b[0m\u001b[0;34m:\u001b[0m\u001b[0;34m\u001b[0m\u001b[0;34m\u001b[0m\u001b[0m\n\u001b[0;32m--> 149\u001b[0;31m             \u001b[0;32mreturn\u001b[0m \u001b[0mfunc\u001b[0m\u001b[0;34m(\u001b[0m\u001b[0mf\u001b[0m\u001b[0;34m)\u001b[0m\u001b[0;34m\u001b[0m\u001b[0;34m\u001b[0m\u001b[0m\n\u001b[0m\u001b[1;32m    150\u001b[0m         \u001b[0;32mfinally\u001b[0m\u001b[0;34m:\u001b[0m\u001b[0;34m\u001b[0m\u001b[0;34m\u001b[0m\u001b[0m\n",
      "\u001b[0;32m~/anaconda3/lib/python3.7/site-packages/pandas/io/pickle.py\u001b[0m in \u001b[0;36m<lambda>\u001b[0;34m(f)\u001b[0m\n\u001b[1;32m    174\u001b[0m                 return read_wrapper(\n\u001b[0;32m--> 175\u001b[0;31m                     lambda f: pc.load(f, encoding=encoding, compat=True))\n\u001b[0m\u001b[1;32m    176\u001b[0m     \u001b[0;32mtry\u001b[0m\u001b[0;34m:\u001b[0m\u001b[0;34m\u001b[0m\u001b[0;34m\u001b[0m\u001b[0m\n",
      "\u001b[0;32m~/anaconda3/lib/python3.7/site-packages/pandas/compat/pickle_compat.py\u001b[0m in \u001b[0;36mload\u001b[0;34m(fh, encoding, compat, is_verbose)\u001b[0m\n\u001b[1;32m    211\u001b[0m \u001b[0;34m\u001b[0m\u001b[0m\n\u001b[0;32m--> 212\u001b[0;31m         \u001b[0;32mreturn\u001b[0m \u001b[0mup\u001b[0m\u001b[0;34m.\u001b[0m\u001b[0mload\u001b[0m\u001b[0;34m(\u001b[0m\u001b[0;34m)\u001b[0m\u001b[0;34m\u001b[0m\u001b[0;34m\u001b[0m\u001b[0m\n\u001b[0m\u001b[1;32m    213\u001b[0m     \u001b[0;32mexcept\u001b[0m\u001b[0;34m:\u001b[0m\u001b[0;34m\u001b[0m\u001b[0;34m\u001b[0m\u001b[0m\n",
      "\u001b[0;32m~/anaconda3/lib/python3.7/pickle.py\u001b[0m in \u001b[0;36mload\u001b[0;34m(self)\u001b[0m\n\u001b[1;32m   1084\u001b[0m                 \u001b[0;32massert\u001b[0m \u001b[0misinstance\u001b[0m\u001b[0;34m(\u001b[0m\u001b[0mkey\u001b[0m\u001b[0;34m,\u001b[0m \u001b[0mbytes_types\u001b[0m\u001b[0;34m)\u001b[0m\u001b[0;34m\u001b[0m\u001b[0;34m\u001b[0m\u001b[0m\n\u001b[0;32m-> 1085\u001b[0;31m                 \u001b[0mdispatch\u001b[0m\u001b[0;34m[\u001b[0m\u001b[0mkey\u001b[0m\u001b[0;34m[\u001b[0m\u001b[0;36m0\u001b[0m\u001b[0;34m]\u001b[0m\u001b[0;34m]\u001b[0m\u001b[0;34m(\u001b[0m\u001b[0mself\u001b[0m\u001b[0;34m)\u001b[0m\u001b[0;34m\u001b[0m\u001b[0;34m\u001b[0m\u001b[0m\n\u001b[0m\u001b[1;32m   1086\u001b[0m         \u001b[0;32mexcept\u001b[0m \u001b[0m_Stop\u001b[0m \u001b[0;32mas\u001b[0m \u001b[0mstopinst\u001b[0m\u001b[0;34m:\u001b[0m\u001b[0;34m\u001b[0m\u001b[0;34m\u001b[0m\u001b[0m\n",
      "\u001b[0;32m~/anaconda3/lib/python3.7/pickle.py\u001b[0m in \u001b[0;36mload_binbytes\u001b[0;34m(self)\u001b[0m\n\u001b[1;32m   1226\u001b[0m                                   \"of %d bytes\" % maxsize)\n\u001b[0;32m-> 1227\u001b[0;31m         \u001b[0mself\u001b[0m\u001b[0;34m.\u001b[0m\u001b[0mappend\u001b[0m\u001b[0;34m(\u001b[0m\u001b[0mself\u001b[0m\u001b[0;34m.\u001b[0m\u001b[0mread\u001b[0m\u001b[0;34m(\u001b[0m\u001b[0mlen\u001b[0m\u001b[0;34m)\u001b[0m\u001b[0;34m)\u001b[0m\u001b[0;34m\u001b[0m\u001b[0;34m\u001b[0m\u001b[0m\n\u001b[0m\u001b[1;32m   1228\u001b[0m     \u001b[0mdispatch\u001b[0m\u001b[0;34m[\u001b[0m\u001b[0mBINBYTES\u001b[0m\u001b[0;34m[\u001b[0m\u001b[0;36m0\u001b[0m\u001b[0;34m]\u001b[0m\u001b[0;34m]\u001b[0m \u001b[0;34m=\u001b[0m \u001b[0mload_binbytes\u001b[0m\u001b[0;34m\u001b[0m\u001b[0;34m\u001b[0m\u001b[0m\n",
      "\u001b[0;32m~/anaconda3/lib/python3.7/pickle.py\u001b[0m in \u001b[0;36mread\u001b[0;34m(self, n)\u001b[0m\n\u001b[1;32m    264\u001b[0m         \u001b[0;32melse\u001b[0m\u001b[0;34m:\u001b[0m\u001b[0;34m\u001b[0m\u001b[0;34m\u001b[0m\u001b[0m\n\u001b[0;32m--> 265\u001b[0;31m             \u001b[0;32mreturn\u001b[0m \u001b[0mself\u001b[0m\u001b[0;34m.\u001b[0m\u001b[0mfile_read\u001b[0m\u001b[0;34m(\u001b[0m\u001b[0mn\u001b[0m\u001b[0;34m)\u001b[0m\u001b[0;34m\u001b[0m\u001b[0;34m\u001b[0m\u001b[0m\n\u001b[0m\u001b[1;32m    266\u001b[0m \u001b[0;34m\u001b[0m\u001b[0m\n",
      "\u001b[0;31mMemoryError\u001b[0m: ",
      "\nDuring handling of the above exception, another exception occurred:\n",
      "\u001b[0;31mMemoryError\u001b[0m                               Traceback (most recent call last)",
      "\u001b[0;32m~/anaconda3/lib/python3.7/site-packages/pandas/io/pickle.py\u001b[0m in \u001b[0;36mtry_read\u001b[0;34m(path, encoding)\u001b[0m\n\u001b[1;32m    165\u001b[0m                 \u001b[0;31m# We want to silencce any warnings about, e.g. moved modules.\u001b[0m\u001b[0;34m\u001b[0m\u001b[0;34m\u001b[0m\u001b[0;34m\u001b[0m\u001b[0m\n\u001b[0;32m--> 166\u001b[0;31m                 \u001b[0;32mreturn\u001b[0m \u001b[0mread_wrapper\u001b[0m\u001b[0;34m(\u001b[0m\u001b[0;32mlambda\u001b[0m \u001b[0mf\u001b[0m\u001b[0;34m:\u001b[0m \u001b[0mpkl\u001b[0m\u001b[0;34m.\u001b[0m\u001b[0mload\u001b[0m\u001b[0;34m(\u001b[0m\u001b[0mf\u001b[0m\u001b[0;34m)\u001b[0m\u001b[0;34m)\u001b[0m\u001b[0;34m\u001b[0m\u001b[0;34m\u001b[0m\u001b[0m\n\u001b[0m\u001b[1;32m    167\u001b[0m         \u001b[0;32mexcept\u001b[0m \u001b[0mException\u001b[0m\u001b[0;34m:\u001b[0m\u001b[0;34m\u001b[0m\u001b[0;34m\u001b[0m\u001b[0m\n",
      "\u001b[0;32m~/anaconda3/lib/python3.7/site-packages/pandas/io/pickle.py\u001b[0m in \u001b[0;36mread_wrapper\u001b[0;34m(func)\u001b[0m\n\u001b[1;32m    148\u001b[0m         \u001b[0;32mtry\u001b[0m\u001b[0;34m:\u001b[0m\u001b[0;34m\u001b[0m\u001b[0;34m\u001b[0m\u001b[0m\n\u001b[0;32m--> 149\u001b[0;31m             \u001b[0;32mreturn\u001b[0m \u001b[0mfunc\u001b[0m\u001b[0;34m(\u001b[0m\u001b[0mf\u001b[0m\u001b[0;34m)\u001b[0m\u001b[0;34m\u001b[0m\u001b[0;34m\u001b[0m\u001b[0m\n\u001b[0m\u001b[1;32m    150\u001b[0m         \u001b[0;32mfinally\u001b[0m\u001b[0;34m:\u001b[0m\u001b[0;34m\u001b[0m\u001b[0;34m\u001b[0m\u001b[0m\n",
      "\u001b[0;32m~/anaconda3/lib/python3.7/site-packages/pandas/io/pickle.py\u001b[0m in \u001b[0;36m<lambda>\u001b[0;34m(f)\u001b[0m\n\u001b[1;32m    165\u001b[0m                 \u001b[0;31m# We want to silencce any warnings about, e.g. moved modules.\u001b[0m\u001b[0;34m\u001b[0m\u001b[0;34m\u001b[0m\u001b[0;34m\u001b[0m\u001b[0m\n\u001b[0;32m--> 166\u001b[0;31m                 \u001b[0;32mreturn\u001b[0m \u001b[0mread_wrapper\u001b[0m\u001b[0;34m(\u001b[0m\u001b[0;32mlambda\u001b[0m \u001b[0mf\u001b[0m\u001b[0;34m:\u001b[0m \u001b[0mpkl\u001b[0m\u001b[0;34m.\u001b[0m\u001b[0mload\u001b[0m\u001b[0;34m(\u001b[0m\u001b[0mf\u001b[0m\u001b[0;34m)\u001b[0m\u001b[0;34m)\u001b[0m\u001b[0;34m\u001b[0m\u001b[0;34m\u001b[0m\u001b[0m\n\u001b[0m\u001b[1;32m    167\u001b[0m         \u001b[0;32mexcept\u001b[0m \u001b[0mException\u001b[0m\u001b[0;34m:\u001b[0m\u001b[0;34m\u001b[0m\u001b[0;34m\u001b[0m\u001b[0m\n",
      "\u001b[0;31mMemoryError\u001b[0m: ",
      "\nDuring handling of the above exception, another exception occurred:\n",
      "\u001b[0;31mMemoryError\u001b[0m                               Traceback (most recent call last)",
      "\u001b[0;32m~/anaconda3/lib/python3.7/site-packages/pandas/io/pickle.py\u001b[0m in \u001b[0;36mtry_read\u001b[0;34m(path, encoding)\u001b[0m\n\u001b[1;32m    170\u001b[0m                 return read_wrapper(\n\u001b[0;32m--> 171\u001b[0;31m                     lambda f: pc.load(f, encoding=encoding, compat=False))\n\u001b[0m\u001b[1;32m    172\u001b[0m             \u001b[0;31m# compat pickle\u001b[0m\u001b[0;34m\u001b[0m\u001b[0;34m\u001b[0m\u001b[0;34m\u001b[0m\u001b[0m\n",
      "\u001b[0;32m~/anaconda3/lib/python3.7/site-packages/pandas/io/pickle.py\u001b[0m in \u001b[0;36mread_wrapper\u001b[0;34m(func)\u001b[0m\n\u001b[1;32m    148\u001b[0m         \u001b[0;32mtry\u001b[0m\u001b[0;34m:\u001b[0m\u001b[0;34m\u001b[0m\u001b[0;34m\u001b[0m\u001b[0m\n\u001b[0;32m--> 149\u001b[0;31m             \u001b[0;32mreturn\u001b[0m \u001b[0mfunc\u001b[0m\u001b[0;34m(\u001b[0m\u001b[0mf\u001b[0m\u001b[0;34m)\u001b[0m\u001b[0;34m\u001b[0m\u001b[0;34m\u001b[0m\u001b[0m\n\u001b[0m\u001b[1;32m    150\u001b[0m         \u001b[0;32mfinally\u001b[0m\u001b[0;34m:\u001b[0m\u001b[0;34m\u001b[0m\u001b[0;34m\u001b[0m\u001b[0m\n",
      "\u001b[0;32m~/anaconda3/lib/python3.7/site-packages/pandas/io/pickle.py\u001b[0m in \u001b[0;36m<lambda>\u001b[0;34m(f)\u001b[0m\n\u001b[1;32m    170\u001b[0m                 return read_wrapper(\n\u001b[0;32m--> 171\u001b[0;31m                     lambda f: pc.load(f, encoding=encoding, compat=False))\n\u001b[0m\u001b[1;32m    172\u001b[0m             \u001b[0;31m# compat pickle\u001b[0m\u001b[0;34m\u001b[0m\u001b[0;34m\u001b[0m\u001b[0;34m\u001b[0m\u001b[0m\n",
      "\u001b[0;32m~/anaconda3/lib/python3.7/site-packages/pandas/compat/pickle_compat.py\u001b[0m in \u001b[0;36mload\u001b[0;34m(fh, encoding, compat, is_verbose)\u001b[0m\n\u001b[1;32m    211\u001b[0m \u001b[0;34m\u001b[0m\u001b[0m\n\u001b[0;32m--> 212\u001b[0;31m         \u001b[0;32mreturn\u001b[0m \u001b[0mup\u001b[0m\u001b[0;34m.\u001b[0m\u001b[0mload\u001b[0m\u001b[0;34m(\u001b[0m\u001b[0;34m)\u001b[0m\u001b[0;34m\u001b[0m\u001b[0;34m\u001b[0m\u001b[0m\n\u001b[0m\u001b[1;32m    213\u001b[0m     \u001b[0;32mexcept\u001b[0m\u001b[0;34m:\u001b[0m\u001b[0;34m\u001b[0m\u001b[0;34m\u001b[0m\u001b[0m\n",
      "\u001b[0;32m~/anaconda3/lib/python3.7/pickle.py\u001b[0m in \u001b[0;36mload\u001b[0;34m(self)\u001b[0m\n\u001b[1;32m   1084\u001b[0m                 \u001b[0;32massert\u001b[0m \u001b[0misinstance\u001b[0m\u001b[0;34m(\u001b[0m\u001b[0mkey\u001b[0m\u001b[0;34m,\u001b[0m \u001b[0mbytes_types\u001b[0m\u001b[0;34m)\u001b[0m\u001b[0;34m\u001b[0m\u001b[0;34m\u001b[0m\u001b[0m\n\u001b[0;32m-> 1085\u001b[0;31m                 \u001b[0mdispatch\u001b[0m\u001b[0;34m[\u001b[0m\u001b[0mkey\u001b[0m\u001b[0;34m[\u001b[0m\u001b[0;36m0\u001b[0m\u001b[0;34m]\u001b[0m\u001b[0;34m]\u001b[0m\u001b[0;34m(\u001b[0m\u001b[0mself\u001b[0m\u001b[0;34m)\u001b[0m\u001b[0;34m\u001b[0m\u001b[0;34m\u001b[0m\u001b[0m\n\u001b[0m\u001b[1;32m   1086\u001b[0m         \u001b[0;32mexcept\u001b[0m \u001b[0m_Stop\u001b[0m \u001b[0;32mas\u001b[0m \u001b[0mstopinst\u001b[0m\u001b[0;34m:\u001b[0m\u001b[0;34m\u001b[0m\u001b[0;34m\u001b[0m\u001b[0m\n",
      "\u001b[0;32m~/anaconda3/lib/python3.7/pickle.py\u001b[0m in \u001b[0;36mload_binbytes\u001b[0;34m(self)\u001b[0m\n\u001b[1;32m   1226\u001b[0m                                   \"of %d bytes\" % maxsize)\n\u001b[0;32m-> 1227\u001b[0;31m         \u001b[0mself\u001b[0m\u001b[0;34m.\u001b[0m\u001b[0mappend\u001b[0m\u001b[0;34m(\u001b[0m\u001b[0mself\u001b[0m\u001b[0;34m.\u001b[0m\u001b[0mread\u001b[0m\u001b[0;34m(\u001b[0m\u001b[0mlen\u001b[0m\u001b[0;34m)\u001b[0m\u001b[0;34m)\u001b[0m\u001b[0;34m\u001b[0m\u001b[0;34m\u001b[0m\u001b[0m\n\u001b[0m\u001b[1;32m   1228\u001b[0m     \u001b[0mdispatch\u001b[0m\u001b[0;34m[\u001b[0m\u001b[0mBINBYTES\u001b[0m\u001b[0;34m[\u001b[0m\u001b[0;36m0\u001b[0m\u001b[0;34m]\u001b[0m\u001b[0;34m]\u001b[0m \u001b[0;34m=\u001b[0m \u001b[0mload_binbytes\u001b[0m\u001b[0;34m\u001b[0m\u001b[0;34m\u001b[0m\u001b[0m\n",
      "\u001b[0;32m~/anaconda3/lib/python3.7/pickle.py\u001b[0m in \u001b[0;36mread\u001b[0;34m(self, n)\u001b[0m\n\u001b[1;32m    264\u001b[0m         \u001b[0;32melse\u001b[0m\u001b[0;34m:\u001b[0m\u001b[0;34m\u001b[0m\u001b[0;34m\u001b[0m\u001b[0m\n\u001b[0;32m--> 265\u001b[0;31m             \u001b[0;32mreturn\u001b[0m \u001b[0mself\u001b[0m\u001b[0;34m.\u001b[0m\u001b[0mfile_read\u001b[0m\u001b[0;34m(\u001b[0m\u001b[0mn\u001b[0m\u001b[0;34m)\u001b[0m\u001b[0;34m\u001b[0m\u001b[0;34m\u001b[0m\u001b[0m\n\u001b[0m\u001b[1;32m    266\u001b[0m \u001b[0;34m\u001b[0m\u001b[0m\n",
      "\u001b[0;31mMemoryError\u001b[0m: ",
      "\nDuring handling of the above exception, another exception occurred:\n",
      "\u001b[0;31mMemoryError\u001b[0m                               Traceback (most recent call last)",
      "\u001b[0;32m<ipython-input-471-96f468a338f0>\u001b[0m in \u001b[0;36m<module>\u001b[0;34m\u001b[0m\n\u001b[0;32m----> 1\u001b[0;31m \u001b[0mattrib\u001b[0m \u001b[0;34m=\u001b[0m \u001b[0mpd\u001b[0m\u001b[0;34m.\u001b[0m\u001b[0mread_pickle\u001b[0m\u001b[0;34m(\u001b[0m\u001b[0;34m'../data/atr.pkl'\u001b[0m\u001b[0;34m)\u001b[0m\u001b[0;34m\u001b[0m\u001b[0;34m\u001b[0m\u001b[0m\n\u001b[0m",
      "\u001b[0;32m~/anaconda3/lib/python3.7/site-packages/pandas/io/pickle.py\u001b[0m in \u001b[0;36mread_pickle\u001b[0;34m(path, compression)\u001b[0m\n\u001b[1;32m    178\u001b[0m     \u001b[0;32mexcept\u001b[0m\u001b[0;34m:\u001b[0m\u001b[0;34m\u001b[0m\u001b[0;34m\u001b[0m\u001b[0m\n\u001b[1;32m    179\u001b[0m         \u001b[0;32mif\u001b[0m \u001b[0mPY3\u001b[0m\u001b[0;34m:\u001b[0m\u001b[0;34m\u001b[0m\u001b[0;34m\u001b[0m\u001b[0m\n\u001b[0;32m--> 180\u001b[0;31m             \u001b[0;32mreturn\u001b[0m \u001b[0mtry_read\u001b[0m\u001b[0;34m(\u001b[0m\u001b[0mpath\u001b[0m\u001b[0;34m,\u001b[0m \u001b[0mencoding\u001b[0m\u001b[0;34m=\u001b[0m\u001b[0;34m'latin1'\u001b[0m\u001b[0;34m)\u001b[0m\u001b[0;34m\u001b[0m\u001b[0;34m\u001b[0m\u001b[0m\n\u001b[0m\u001b[1;32m    181\u001b[0m         \u001b[0;32mraise\u001b[0m\u001b[0;34m\u001b[0m\u001b[0;34m\u001b[0m\u001b[0m\n\u001b[1;32m    182\u001b[0m \u001b[0;34m\u001b[0m\u001b[0m\n",
      "\u001b[0;32m~/anaconda3/lib/python3.7/site-packages/pandas/io/pickle.py\u001b[0m in \u001b[0;36mtry_read\u001b[0;34m(path, encoding)\u001b[0m\n\u001b[1;32m    173\u001b[0m             \u001b[0;32mexcept\u001b[0m\u001b[0;34m:\u001b[0m\u001b[0;34m\u001b[0m\u001b[0;34m\u001b[0m\u001b[0m\n\u001b[1;32m    174\u001b[0m                 return read_wrapper(\n\u001b[0;32m--> 175\u001b[0;31m                     lambda f: pc.load(f, encoding=encoding, compat=True))\n\u001b[0m\u001b[1;32m    176\u001b[0m     \u001b[0;32mtry\u001b[0m\u001b[0;34m:\u001b[0m\u001b[0;34m\u001b[0m\u001b[0;34m\u001b[0m\u001b[0m\n\u001b[1;32m    177\u001b[0m         \u001b[0;32mreturn\u001b[0m \u001b[0mtry_read\u001b[0m\u001b[0;34m(\u001b[0m\u001b[0mpath\u001b[0m\u001b[0;34m)\u001b[0m\u001b[0;34m\u001b[0m\u001b[0;34m\u001b[0m\u001b[0m\n",
      "\u001b[0;32m~/anaconda3/lib/python3.7/site-packages/pandas/io/pickle.py\u001b[0m in \u001b[0;36mread_wrapper\u001b[0;34m(func)\u001b[0m\n\u001b[1;32m    147\u001b[0m                             is_text=False)\n\u001b[1;32m    148\u001b[0m         \u001b[0;32mtry\u001b[0m\u001b[0;34m:\u001b[0m\u001b[0;34m\u001b[0m\u001b[0;34m\u001b[0m\u001b[0m\n\u001b[0;32m--> 149\u001b[0;31m             \u001b[0;32mreturn\u001b[0m \u001b[0mfunc\u001b[0m\u001b[0;34m(\u001b[0m\u001b[0mf\u001b[0m\u001b[0;34m)\u001b[0m\u001b[0;34m\u001b[0m\u001b[0;34m\u001b[0m\u001b[0m\n\u001b[0m\u001b[1;32m    150\u001b[0m         \u001b[0;32mfinally\u001b[0m\u001b[0;34m:\u001b[0m\u001b[0;34m\u001b[0m\u001b[0;34m\u001b[0m\u001b[0m\n\u001b[1;32m    151\u001b[0m             \u001b[0;32mfor\u001b[0m \u001b[0m_f\u001b[0m \u001b[0;32min\u001b[0m \u001b[0mfh\u001b[0m\u001b[0;34m:\u001b[0m\u001b[0;34m\u001b[0m\u001b[0;34m\u001b[0m\u001b[0m\n",
      "\u001b[0;32m~/anaconda3/lib/python3.7/site-packages/pandas/io/pickle.py\u001b[0m in \u001b[0;36m<lambda>\u001b[0;34m(f)\u001b[0m\n\u001b[1;32m    173\u001b[0m             \u001b[0;32mexcept\u001b[0m\u001b[0;34m:\u001b[0m\u001b[0;34m\u001b[0m\u001b[0;34m\u001b[0m\u001b[0m\n\u001b[1;32m    174\u001b[0m                 return read_wrapper(\n\u001b[0;32m--> 175\u001b[0;31m                     lambda f: pc.load(f, encoding=encoding, compat=True))\n\u001b[0m\u001b[1;32m    176\u001b[0m     \u001b[0;32mtry\u001b[0m\u001b[0;34m:\u001b[0m\u001b[0;34m\u001b[0m\u001b[0;34m\u001b[0m\u001b[0m\n\u001b[1;32m    177\u001b[0m         \u001b[0;32mreturn\u001b[0m \u001b[0mtry_read\u001b[0m\u001b[0;34m(\u001b[0m\u001b[0mpath\u001b[0m\u001b[0;34m)\u001b[0m\u001b[0;34m\u001b[0m\u001b[0;34m\u001b[0m\u001b[0m\n",
      "\u001b[0;32m~/anaconda3/lib/python3.7/site-packages/pandas/compat/pickle_compat.py\u001b[0m in \u001b[0;36mload\u001b[0;34m(fh, encoding, compat, is_verbose)\u001b[0m\n\u001b[1;32m    210\u001b[0m         \u001b[0mup\u001b[0m\u001b[0;34m.\u001b[0m\u001b[0mis_verbose\u001b[0m \u001b[0;34m=\u001b[0m \u001b[0mis_verbose\u001b[0m\u001b[0;34m\u001b[0m\u001b[0;34m\u001b[0m\u001b[0m\n\u001b[1;32m    211\u001b[0m \u001b[0;34m\u001b[0m\u001b[0m\n\u001b[0;32m--> 212\u001b[0;31m         \u001b[0;32mreturn\u001b[0m \u001b[0mup\u001b[0m\u001b[0;34m.\u001b[0m\u001b[0mload\u001b[0m\u001b[0;34m(\u001b[0m\u001b[0;34m)\u001b[0m\u001b[0;34m\u001b[0m\u001b[0;34m\u001b[0m\u001b[0m\n\u001b[0m\u001b[1;32m    213\u001b[0m     \u001b[0;32mexcept\u001b[0m\u001b[0;34m:\u001b[0m\u001b[0;34m\u001b[0m\u001b[0;34m\u001b[0m\u001b[0m\n\u001b[1;32m    214\u001b[0m         \u001b[0;32mraise\u001b[0m\u001b[0;34m\u001b[0m\u001b[0;34m\u001b[0m\u001b[0m\n",
      "\u001b[0;32m~/anaconda3/lib/python3.7/pickle.py\u001b[0m in \u001b[0;36mload\u001b[0;34m(self)\u001b[0m\n\u001b[1;32m   1083\u001b[0m                     \u001b[0;32mraise\u001b[0m \u001b[0mEOFError\u001b[0m\u001b[0;34m\u001b[0m\u001b[0;34m\u001b[0m\u001b[0m\n\u001b[1;32m   1084\u001b[0m                 \u001b[0;32massert\u001b[0m \u001b[0misinstance\u001b[0m\u001b[0;34m(\u001b[0m\u001b[0mkey\u001b[0m\u001b[0;34m,\u001b[0m \u001b[0mbytes_types\u001b[0m\u001b[0;34m)\u001b[0m\u001b[0;34m\u001b[0m\u001b[0;34m\u001b[0m\u001b[0m\n\u001b[0;32m-> 1085\u001b[0;31m                 \u001b[0mdispatch\u001b[0m\u001b[0;34m[\u001b[0m\u001b[0mkey\u001b[0m\u001b[0;34m[\u001b[0m\u001b[0;36m0\u001b[0m\u001b[0;34m]\u001b[0m\u001b[0;34m]\u001b[0m\u001b[0;34m(\u001b[0m\u001b[0mself\u001b[0m\u001b[0;34m)\u001b[0m\u001b[0;34m\u001b[0m\u001b[0;34m\u001b[0m\u001b[0m\n\u001b[0m\u001b[1;32m   1086\u001b[0m         \u001b[0;32mexcept\u001b[0m \u001b[0m_Stop\u001b[0m \u001b[0;32mas\u001b[0m \u001b[0mstopinst\u001b[0m\u001b[0;34m:\u001b[0m\u001b[0;34m\u001b[0m\u001b[0;34m\u001b[0m\u001b[0m\n\u001b[1;32m   1087\u001b[0m             \u001b[0;32mreturn\u001b[0m \u001b[0mstopinst\u001b[0m\u001b[0;34m.\u001b[0m\u001b[0mvalue\u001b[0m\u001b[0;34m\u001b[0m\u001b[0;34m\u001b[0m\u001b[0m\n",
      "\u001b[0;32m~/anaconda3/lib/python3.7/pickle.py\u001b[0m in \u001b[0;36mload_binbytes\u001b[0;34m(self)\u001b[0m\n\u001b[1;32m   1225\u001b[0m             raise UnpicklingError(\"BINBYTES exceeds system's maximum size \"\n\u001b[1;32m   1226\u001b[0m                                   \"of %d bytes\" % maxsize)\n\u001b[0;32m-> 1227\u001b[0;31m         \u001b[0mself\u001b[0m\u001b[0;34m.\u001b[0m\u001b[0mappend\u001b[0m\u001b[0;34m(\u001b[0m\u001b[0mself\u001b[0m\u001b[0;34m.\u001b[0m\u001b[0mread\u001b[0m\u001b[0;34m(\u001b[0m\u001b[0mlen\u001b[0m\u001b[0;34m)\u001b[0m\u001b[0;34m)\u001b[0m\u001b[0;34m\u001b[0m\u001b[0;34m\u001b[0m\u001b[0m\n\u001b[0m\u001b[1;32m   1228\u001b[0m     \u001b[0mdispatch\u001b[0m\u001b[0;34m[\u001b[0m\u001b[0mBINBYTES\u001b[0m\u001b[0;34m[\u001b[0m\u001b[0;36m0\u001b[0m\u001b[0;34m]\u001b[0m\u001b[0;34m]\u001b[0m \u001b[0;34m=\u001b[0m \u001b[0mload_binbytes\u001b[0m\u001b[0;34m\u001b[0m\u001b[0;34m\u001b[0m\u001b[0m\n\u001b[1;32m   1229\u001b[0m \u001b[0;34m\u001b[0m\u001b[0m\n",
      "\u001b[0;32m~/anaconda3/lib/python3.7/pickle.py\u001b[0m in \u001b[0;36mread\u001b[0;34m(self, n)\u001b[0m\n\u001b[1;32m    263\u001b[0m             \u001b[0;32mreturn\u001b[0m \u001b[0mdata\u001b[0m\u001b[0;34m\u001b[0m\u001b[0;34m\u001b[0m\u001b[0m\n\u001b[1;32m    264\u001b[0m         \u001b[0;32melse\u001b[0m\u001b[0;34m:\u001b[0m\u001b[0;34m\u001b[0m\u001b[0;34m\u001b[0m\u001b[0m\n\u001b[0;32m--> 265\u001b[0;31m             \u001b[0;32mreturn\u001b[0m \u001b[0mself\u001b[0m\u001b[0;34m.\u001b[0m\u001b[0mfile_read\u001b[0m\u001b[0;34m(\u001b[0m\u001b[0mn\u001b[0m\u001b[0;34m)\u001b[0m\u001b[0;34m\u001b[0m\u001b[0;34m\u001b[0m\u001b[0m\n\u001b[0m\u001b[1;32m    266\u001b[0m \u001b[0;34m\u001b[0m\u001b[0m\n\u001b[1;32m    267\u001b[0m     \u001b[0;32mdef\u001b[0m \u001b[0mreadline\u001b[0m\u001b[0;34m(\u001b[0m\u001b[0mself\u001b[0m\u001b[0;34m)\u001b[0m\u001b[0;34m:\u001b[0m\u001b[0;34m\u001b[0m\u001b[0;34m\u001b[0m\u001b[0m\n",
      "\u001b[0;31mMemoryError\u001b[0m: "
     ]
    }
   ],
   "source": [
    "attrib = pd.read_pickle('../data/atr.pkl')"
   ]
  },
  {
   "cell_type": "code",
   "execution_count": 39,
   "metadata": {
    "ExecuteTime": {
     "end_time": "2019-03-06T18:40:11.502205Z",
     "start_time": "2019-03-06T18:39:42.868882Z"
    }
   },
   "outputs": [],
   "source": [
    "attrib.sort_values(['system_date', 'user_id_hash'], inplace=True)\n",
    "attrib.reset_index(inplace=True, drop=True)"
   ]
  },
  {
   "cell_type": "code",
   "execution_count": null,
   "metadata": {
    "ExecuteTime": {
     "end_time": "2019-03-06T22:58:48.363037Z",
     "start_time": "2019-03-06T22:58:35.925Z"
    }
   },
   "outputs": [],
   "source": [
    "attrib = attrib[attrib.system_date >= dt.date(2018, 11, 24)]\n",
    "attrib = attrib[attrib.system_date <= dt.date(2018, 11, 30)]"
   ]
  },
  {
   "cell_type": "code",
   "execution_count": 386,
   "metadata": {
    "ExecuteTime": {
     "end_time": "2019-03-06T22:39:47.364553Z",
     "start_time": "2019-03-06T22:39:41.712640Z"
    }
   },
   "outputs": [],
   "source": [
    "sessions = sessions[sessions.system_date >= dt.date(2018, 12, 8)]\n",
    "sessions = sessions[sessions.system_date <= dt.date(2018, 12, 14)]"
   ]
  },
  {
   "cell_type": "code",
   "execution_count": 40,
   "metadata": {
    "ExecuteTime": {
     "end_time": "2019-03-06T18:40:11.516601Z",
     "start_time": "2019-03-06T18:40:11.504646Z"
    }
   },
   "outputs": [
    {
     "data": {
      "text/html": [
       "<div>\n",
       "<style scoped>\n",
       "    .dataframe tbody tr th:only-of-type {\n",
       "        vertical-align: middle;\n",
       "    }\n",
       "\n",
       "    .dataframe tbody tr th {\n",
       "        vertical-align: top;\n",
       "    }\n",
       "\n",
       "    .dataframe thead th {\n",
       "        text-align: right;\n",
       "    }\n",
       "</style>\n",
       "<table border=\"1\" class=\"dataframe\">\n",
       "  <thead>\n",
       "    <tr style=\"text-align: right;\">\n",
       "      <th></th>\n",
       "      <th>attribute</th>\n",
       "      <th>attribute_value</th>\n",
       "      <th>user_id_hash</th>\n",
       "      <th>system_date</th>\n",
       "    </tr>\n",
       "  </thead>\n",
       "  <tbody>\n",
       "    <tr>\n",
       "      <th>0</th>\n",
       "      <td>0</td>\n",
       "      <td>0.0</td>\n",
       "      <td>0008ae1788be9473a11dd8efdc61010ad2a54ffe5e17ad...</td>\n",
       "      <td>2018-10-01</td>\n",
       "    </tr>\n",
       "    <tr>\n",
       "      <th>1</th>\n",
       "      <td>1</td>\n",
       "      <td>0.0</td>\n",
       "      <td>0008ae1788be9473a11dd8efdc61010ad2a54ffe5e17ad...</td>\n",
       "      <td>2018-10-01</td>\n",
       "    </tr>\n",
       "    <tr>\n",
       "      <th>2</th>\n",
       "      <td>3</td>\n",
       "      <td>0.0</td>\n",
       "      <td>0008ae1788be9473a11dd8efdc61010ad2a54ffe5e17ad...</td>\n",
       "      <td>2018-10-01</td>\n",
       "    </tr>\n",
       "    <tr>\n",
       "      <th>3</th>\n",
       "      <td>4</td>\n",
       "      <td>0.0</td>\n",
       "      <td>0008ae1788be9473a11dd8efdc61010ad2a54ffe5e17ad...</td>\n",
       "      <td>2018-10-01</td>\n",
       "    </tr>\n",
       "    <tr>\n",
       "      <th>4</th>\n",
       "      <td>5</td>\n",
       "      <td>1.0</td>\n",
       "      <td>0008ae1788be9473a11dd8efdc61010ad2a54ffe5e17ad...</td>\n",
       "      <td>2018-10-01</td>\n",
       "    </tr>\n",
       "  </tbody>\n",
       "</table>\n",
       "</div>"
      ],
      "text/plain": [
       "  attribute  attribute_value  \\\n",
       "0         0              0.0   \n",
       "1         1              0.0   \n",
       "2         3              0.0   \n",
       "3         4              0.0   \n",
       "4         5              1.0   \n",
       "\n",
       "                                        user_id_hash system_date  \n",
       "0  0008ae1788be9473a11dd8efdc61010ad2a54ffe5e17ad...  2018-10-01  \n",
       "1  0008ae1788be9473a11dd8efdc61010ad2a54ffe5e17ad...  2018-10-01  \n",
       "2  0008ae1788be9473a11dd8efdc61010ad2a54ffe5e17ad...  2018-10-01  \n",
       "3  0008ae1788be9473a11dd8efdc61010ad2a54ffe5e17ad...  2018-10-01  \n",
       "4  0008ae1788be9473a11dd8efdc61010ad2a54ffe5e17ad...  2018-10-01  "
      ]
     },
     "execution_count": 40,
     "metadata": {},
     "output_type": "execute_result"
    }
   ],
   "source": [
    "attrib.head()"
   ]
  },
  {
   "cell_type": "code",
   "execution_count": 48,
   "metadata": {
    "ExecuteTime": {
     "end_time": "2019-03-06T07:03:56.289074Z",
     "start_time": "2019-03-06T07:03:54.478856Z"
    }
   },
   "outputs": [],
   "source": [
    "time_df = attrib.system_date.unique()\n",
    "time_df = pd.DataFrame({'system_date': time_df})\n",
    "time_df.system_date = time_df.system_date.astype('datetime64[ns]')\n",
    "time_df['map_date'] = dt.date(2018, 10, 1)\n",
    "time_df.loc[time_df.system_date >= dt.date(2018, 11, 1), ['map_date']] = \\\n",
    "    dt.date(2018, 11, 1)\n",
    "time_df.loc[time_df.system_date >= dt.date(2018, 12, 1), ['map_date']] = \\\n",
    "    dt.date(2018, 12, 1)"
   ]
  },
  {
   "cell_type": "code",
   "execution_count": 44,
   "metadata": {
    "ExecuteTime": {
     "end_time": "2019-03-06T18:40:43.224685Z",
     "start_time": "2019-03-06T18:40:40.837082Z"
    }
   },
   "outputs": [],
   "source": [
    "attrib.system_date = attrib.system_date.astype('datetime64[ns]')"
   ]
  },
  {
   "cell_type": "code",
   "execution_count": 42,
   "metadata": {
    "ExecuteTime": {
     "end_time": "2019-03-06T18:40:31.650137Z",
     "start_time": "2019-03-06T18:40:31.647140Z"
    }
   },
   "outputs": [],
   "source": [
    "#attrib.drop(['anchor_date'], inplace=True, axis=1)"
   ]
  },
  {
   "cell_type": "code",
   "execution_count": 46,
   "metadata": {
    "ExecuteTime": {
     "end_time": "2019-03-06T18:40:49.200523Z",
     "start_time": "2019-03-06T18:40:49.194555Z"
    }
   },
   "outputs": [
    {
     "data": {
      "text/plain": [
       "attribute                category\n",
       "attribute_value           float64\n",
       "user_id_hash             category\n",
       "system_date        datetime64[ns]\n",
       "dtype: object"
      ]
     },
     "execution_count": 46,
     "metadata": {},
     "output_type": "execute_result"
    }
   ],
   "source": [
    "attrib.dtypes"
   ]
  },
  {
   "cell_type": "code",
   "execution_count": 47,
   "metadata": {
    "ExecuteTime": {
     "end_time": "2019-03-06T18:40:49.984551Z",
     "start_time": "2019-03-06T18:40:49.978141Z"
    }
   },
   "outputs": [
    {
     "data": {
      "text/plain": [
       "system_date    datetime64[ns]\n",
       "anchor_date            object\n",
       "dtype: object"
      ]
     },
     "execution_count": 47,
     "metadata": {},
     "output_type": "execute_result"
    }
   ],
   "source": [
    "time_df.dtypes"
   ]
  },
  {
   "cell_type": "code",
   "execution_count": 45,
   "metadata": {
    "ExecuteTime": {
     "end_time": "2019-03-06T18:40:47.116930Z",
     "start_time": "2019-03-06T18:40:47.111802Z"
    }
   },
   "outputs": [],
   "source": [
    "time_df.system_date = time_df.system_date.astype('datetime64[ns]')"
   ]
  },
  {
   "cell_type": "code",
   "execution_count": 48,
   "metadata": {
    "ExecuteTime": {
     "end_time": "2019-03-06T18:41:38.879734Z",
     "start_time": "2019-03-06T18:41:04.247406Z"
    }
   },
   "outputs": [],
   "source": [
    "attrib = attrib.merge(time_df, how='left')"
   ]
  },
  {
   "cell_type": "code",
   "execution_count": 49,
   "metadata": {
    "ExecuteTime": {
     "end_time": "2019-03-06T18:41:38.895070Z",
     "start_time": "2019-03-06T18:41:38.883011Z"
    }
   },
   "outputs": [
    {
     "data": {
      "text/html": [
       "<div>\n",
       "<style scoped>\n",
       "    .dataframe tbody tr th:only-of-type {\n",
       "        vertical-align: middle;\n",
       "    }\n",
       "\n",
       "    .dataframe tbody tr th {\n",
       "        vertical-align: top;\n",
       "    }\n",
       "\n",
       "    .dataframe thead th {\n",
       "        text-align: right;\n",
       "    }\n",
       "</style>\n",
       "<table border=\"1\" class=\"dataframe\">\n",
       "  <thead>\n",
       "    <tr style=\"text-align: right;\">\n",
       "      <th></th>\n",
       "      <th>attribute</th>\n",
       "      <th>attribute_value</th>\n",
       "      <th>user_id_hash</th>\n",
       "      <th>system_date</th>\n",
       "      <th>anchor_date</th>\n",
       "    </tr>\n",
       "  </thead>\n",
       "  <tbody>\n",
       "    <tr>\n",
       "      <th>0</th>\n",
       "      <td>0</td>\n",
       "      <td>0.0</td>\n",
       "      <td>0008ae1788be9473a11dd8efdc61010ad2a54ffe5e17ad...</td>\n",
       "      <td>2018-10-01</td>\n",
       "      <td>2018-10-01</td>\n",
       "    </tr>\n",
       "    <tr>\n",
       "      <th>1</th>\n",
       "      <td>1</td>\n",
       "      <td>0.0</td>\n",
       "      <td>0008ae1788be9473a11dd8efdc61010ad2a54ffe5e17ad...</td>\n",
       "      <td>2018-10-01</td>\n",
       "      <td>2018-10-01</td>\n",
       "    </tr>\n",
       "    <tr>\n",
       "      <th>2</th>\n",
       "      <td>3</td>\n",
       "      <td>0.0</td>\n",
       "      <td>0008ae1788be9473a11dd8efdc61010ad2a54ffe5e17ad...</td>\n",
       "      <td>2018-10-01</td>\n",
       "      <td>2018-10-01</td>\n",
       "    </tr>\n",
       "    <tr>\n",
       "      <th>3</th>\n",
       "      <td>4</td>\n",
       "      <td>0.0</td>\n",
       "      <td>0008ae1788be9473a11dd8efdc61010ad2a54ffe5e17ad...</td>\n",
       "      <td>2018-10-01</td>\n",
       "      <td>2018-10-01</td>\n",
       "    </tr>\n",
       "    <tr>\n",
       "      <th>4</th>\n",
       "      <td>5</td>\n",
       "      <td>1.0</td>\n",
       "      <td>0008ae1788be9473a11dd8efdc61010ad2a54ffe5e17ad...</td>\n",
       "      <td>2018-10-01</td>\n",
       "      <td>2018-10-01</td>\n",
       "    </tr>\n",
       "  </tbody>\n",
       "</table>\n",
       "</div>"
      ],
      "text/plain": [
       "  attribute  attribute_value  \\\n",
       "0         0              0.0   \n",
       "1         1              0.0   \n",
       "2         3              0.0   \n",
       "3         4              0.0   \n",
       "4         5              1.0   \n",
       "\n",
       "                                        user_id_hash system_date anchor_date  \n",
       "0  0008ae1788be9473a11dd8efdc61010ad2a54ffe5e17ad...  2018-10-01  2018-10-01  \n",
       "1  0008ae1788be9473a11dd8efdc61010ad2a54ffe5e17ad...  2018-10-01  2018-10-01  \n",
       "2  0008ae1788be9473a11dd8efdc61010ad2a54ffe5e17ad...  2018-10-01  2018-10-01  \n",
       "3  0008ae1788be9473a11dd8efdc61010ad2a54ffe5e17ad...  2018-10-01  2018-10-01  \n",
       "4  0008ae1788be9473a11dd8efdc61010ad2a54ffe5e17ad...  2018-10-01  2018-10-01  "
      ]
     },
     "execution_count": 49,
     "metadata": {},
     "output_type": "execute_result"
    }
   ],
   "source": [
    "attrib.head()"
   ]
  },
  {
   "cell_type": "code",
   "execution_count": 53,
   "metadata": {
    "ExecuteTime": {
     "end_time": "2019-03-06T18:42:41.038672Z",
     "start_time": "2019-03-06T18:42:29.135788Z"
    }
   },
   "outputs": [
    {
     "data": {
      "text/plain": [
       "anchor_date\n",
       "2018-11-01    122802233\n",
       "Name: attribute, dtype: int64"
      ]
     },
     "execution_count": 53,
     "metadata": {},
     "output_type": "execute_result"
    }
   ],
   "source": [
    "attrib.groupby(['anchor_date']).attribute.count()"
   ]
  },
  {
   "cell_type": "code",
   "execution_count": 54,
   "metadata": {
    "ExecuteTime": {
     "end_time": "2019-03-06T18:42:58.832638Z",
     "start_time": "2019-03-06T18:42:58.825779Z"
    }
   },
   "outputs": [],
   "source": [
    "def weekly_aggregate(df):\n",
    "\n",
    "    grp_cols = ['anchor_date', 'attribute', 'user_id_hash']\n",
    "    grpby_obj = df.groupby(grp_cols)\n",
    "    \n",
    "    temp = grpby_obj.attribute_value.count().to_frame().reset_index()\\\n",
    "                .rename(columns={'attribute_value': 'atr_count'})\n",
    "    temp1 = grpby_obj.attribute_value.mean().to_frame().reset_index()\\\n",
    "                .rename(columns={'attribute_value': 'atr_mean'})\n",
    "    temp2 = grpby_obj.attribute_value.last().to_frame().reset_index()\\\n",
    "                .rename(columns={'attribute_value': 'atr_last'})\n",
    "    temp3 = grpby_obj.attribute_value.max().to_frame().reset_index()\\\n",
    "                .rename(columns={'attribute_value': 'atr_max'})\n",
    "\n",
    "    for i in range(1, 4):\n",
    "        temp = temp.merge(locals()[f'temp{i}'], \n",
    "                          on=grp_cols)\n",
    "    return temp"
   ]
  },
  {
   "cell_type": "code",
   "execution_count": 52,
   "metadata": {
    "ExecuteTime": {
     "end_time": "2019-03-06T18:42:29.133319Z",
     "start_time": "2019-03-06T18:42:12.174637Z"
    }
   },
   "outputs": [],
   "source": [
    "attrib = attrib[attrib.anchor_date == dt.date(2018, 11, 1)]"
   ]
  },
  {
   "cell_type": "code",
   "execution_count": 55,
   "metadata": {
    "ExecuteTime": {
     "end_time": "2019-03-06T18:44:33.888630Z",
     "start_time": "2019-03-06T18:43:09.536873Z"
    }
   },
   "outputs": [],
   "source": [
    "attrib = weekly_aggregate(attrib)"
   ]
  },
  {
   "cell_type": "code",
   "execution_count": 75,
   "metadata": {
    "ExecuteTime": {
     "end_time": "2019-03-06T07:11:54.375160Z",
     "start_time": "2019-03-06T07:11:54.370768Z"
    }
   },
   "outputs": [],
   "source": [
    "def wrapper_agg(wst):\n",
    "    attrib_ss = attrib[attrib.anchor_date == wst].copy()\n",
    "    return weekly_aggregate(attrib_ss)"
   ]
  },
  {
   "cell_type": "code",
   "execution_count": 60,
   "metadata": {
    "ExecuteTime": {
     "end_time": "2019-03-06T07:08:54.867491Z",
     "start_time": "2019-03-06T07:08:33.978276Z"
    }
   },
   "outputs": [],
   "source": [
    "attrib_sub = attrib.sample(n=1000).copy(deep=True)"
   ]
  },
  {
   "cell_type": "code",
   "execution_count": 76,
   "metadata": {
    "ExecuteTime": {
     "end_time": "2019-03-06T07:13:54.979253Z",
     "start_time": "2019-03-06T07:11:57.063015Z"
    }
   },
   "outputs": [
    {
     "data": {
      "text/html": [
       "\n",
       "    <div>\n",
       "        <style>\n",
       "            /* Turns off some styling */\n",
       "            progress {\n",
       "                /* gets rid of default border in Firefox and Opera. */\n",
       "                border: none;\n",
       "                /* Needs to be in here for Safari polyfill so background images work as expected. */\n",
       "                background-size: auto;\n",
       "            }\n",
       "            .progress-bar-interrupted, .progress-bar-interrupted::-webkit-progress-bar {\n",
       "                background: #F44336;\n",
       "            }\n",
       "        </style>\n",
       "      <progress value='3' class='' max='3', style='width:300px; height:20px; vertical-align: middle;'></progress>\n",
       "      100.00% [3/3 01:48<00:00]\n",
       "    </div>\n",
       "    "
      ],
      "text/plain": [
       "<IPython.core.display.HTML object>"
      ]
     },
     "metadata": {},
     "output_type": "display_data"
    }
   ],
   "source": [
    "result = parallel(wrapper_agg, attrib_sub.anchor_date.unique())"
   ]
  },
  {
   "cell_type": "code",
   "execution_count": 77,
   "metadata": {
    "ExecuteTime": {
     "end_time": "2019-03-06T07:14:19.380466Z",
     "start_time": "2019-03-06T07:14:15.627077Z"
    }
   },
   "outputs": [],
   "source": [
    "result = pd.concat(result)"
   ]
  },
  {
   "cell_type": "code",
   "execution_count": 78,
   "metadata": {
    "ExecuteTime": {
     "end_time": "2019-03-06T07:14:37.340488Z",
     "start_time": "2019-03-06T07:14:37.335309Z"
    }
   },
   "outputs": [
    {
     "data": {
      "text/plain": [
       "(24048310, 7)"
      ]
     },
     "execution_count": 78,
     "metadata": {},
     "output_type": "execute_result"
    }
   ],
   "source": [
    "result.shape"
   ]
  },
  {
   "cell_type": "code",
   "execution_count": 79,
   "metadata": {
    "ExecuteTime": {
     "end_time": "2019-03-06T07:15:18.454888Z",
     "start_time": "2019-03-06T07:15:12.672413Z"
    }
   },
   "outputs": [
    {
     "data": {
      "text/plain": [
       "818"
      ]
     },
     "execution_count": 79,
     "metadata": {},
     "output_type": "execute_result"
    }
   ],
   "source": [
    "attrib_agg = result.copy(deep=True)\n",
    "del result\n",
    "attrib_agg.to_pickle('../data/attrib_agg.pkl')\n",
    "gc.collect()"
   ]
  },
  {
   "cell_type": "markdown",
   "metadata": {
    "heading_collapsed": true
   },
   "source": [
    "# Getting Sessions Ready"
   ]
  },
  {
   "cell_type": "code",
   "execution_count": 56,
   "metadata": {
    "ExecuteTime": {
     "end_time": "2019-03-06T18:45:00.403399Z",
     "start_time": "2019-03-06T18:44:59.330110Z"
    },
    "hidden": true
   },
   "outputs": [],
   "source": [
    "# sessions = pd.read_pickle('../data/sessions_agg.pkl')\n",
    "# events = pd.read_pickle('../data/events_agg.pkl')\n",
    "user_date = pd.read_pickle('../data/user_created.pkl')"
   ]
  },
  {
   "cell_type": "code",
   "execution_count": 57,
   "metadata": {
    "ExecuteTime": {
     "end_time": "2019-03-06T18:45:03.442393Z",
     "start_time": "2019-03-06T18:45:01.593447Z"
    },
    "hidden": true
   },
   "outputs": [],
   "source": [
    "sessions = sessions.merge(user_date, on=['user_id_hash'], how='left')"
   ]
  },
  {
   "cell_type": "code",
   "execution_count": 58,
   "metadata": {
    "ExecuteTime": {
     "end_time": "2019-03-06T18:45:04.014866Z",
     "start_time": "2019-03-06T18:45:04.011657Z"
    },
    "hidden": true
   },
   "outputs": [],
   "source": [
    "from dateutil.relativedelta import relativedelta"
   ]
  },
  {
   "cell_type": "code",
   "execution_count": 59,
   "metadata": {
    "ExecuteTime": {
     "end_time": "2019-03-06T18:45:04.974737Z",
     "start_time": "2019-03-06T18:45:04.970282Z"
    },
    "hidden": true
   },
   "outputs": [],
   "source": [
    "sessions.anchor_date = sessions.anchor_date.astype('datetime64[ns]')"
   ]
  },
  {
   "cell_type": "code",
   "execution_count": 60,
   "metadata": {
    "ExecuteTime": {
     "end_time": "2019-03-06T18:45:08.441368Z",
     "start_time": "2019-03-06T18:45:08.436743Z"
    },
    "hidden": true
   },
   "outputs": [
    {
     "data": {
      "text/plain": [
       "(529655, 16)"
      ]
     },
     "execution_count": 60,
     "metadata": {},
     "output_type": "execute_result"
    }
   ],
   "source": [
    "sessions.shape"
   ]
  },
  {
   "cell_type": "code",
   "execution_count": 61,
   "metadata": {
    "ExecuteTime": {
     "end_time": "2019-03-06T18:45:33.507012Z",
     "start_time": "2019-03-06T18:45:13.490161Z"
    },
    "hidden": true
   },
   "outputs": [],
   "source": [
    "sessions['user_age'] = sessions.anchor_date\\\n",
    "                        .apply(lambda x: x + relativedelta(months=+1)).dt.date - \\\n",
    "                            sessions.user_created_timestamp.dt.date"
   ]
  },
  {
   "cell_type": "code",
   "execution_count": 62,
   "metadata": {
    "ExecuteTime": {
     "end_time": "2019-03-06T18:45:45.104243Z",
     "start_time": "2019-03-06T18:45:40.169449Z"
    },
    "hidden": true
   },
   "outputs": [],
   "source": [
    "sessions['user_age'] = sessions.user_age.apply(lambda x: x.days)"
   ]
  },
  {
   "cell_type": "code",
   "execution_count": 63,
   "metadata": {
    "ExecuteTime": {
     "end_time": "2019-03-06T18:45:45.124355Z",
     "start_time": "2019-03-06T18:45:45.107145Z"
    },
    "hidden": true
   },
   "outputs": [
    {
     "data": {
      "text/html": [
       "<div>\n",
       "<style scoped>\n",
       "    .dataframe tbody tr th:only-of-type {\n",
       "        vertical-align: middle;\n",
       "    }\n",
       "\n",
       "    .dataframe tbody tr th {\n",
       "        vertical-align: top;\n",
       "    }\n",
       "\n",
       "    .dataframe thead th {\n",
       "        text-align: right;\n",
       "    }\n",
       "</style>\n",
       "<table border=\"1\" class=\"dataframe\">\n",
       "  <thead>\n",
       "    <tr style=\"text-align: right;\">\n",
       "      <th></th>\n",
       "      <th>anchor_date</th>\n",
       "      <th>user_id_hash</th>\n",
       "      <th>no_sessions</th>\n",
       "      <th>no_city</th>\n",
       "      <th>last_city</th>\n",
       "      <th>last_country</th>\n",
       "      <th>last_region</th>\n",
       "      <th>region_count</th>\n",
       "      <th>last_locale</th>\n",
       "      <th>total_session_time</th>\n",
       "      <th>mean_session_time</th>\n",
       "      <th>median_session_time</th>\n",
       "      <th>count_session_time</th>\n",
       "      <th>ncount_session_time</th>\n",
       "      <th>user_time</th>\n",
       "      <th>user_created_timestamp</th>\n",
       "      <th>user_age</th>\n",
       "    </tr>\n",
       "  </thead>\n",
       "  <tbody>\n",
       "    <tr>\n",
       "      <th>0</th>\n",
       "      <td>2018-11-01</td>\n",
       "      <td>00000db35682058bb7916cb90f85709f54c1a0f7a3b6de...</td>\n",
       "      <td>23</td>\n",
       "      <td>1</td>\n",
       "      <td>brisbane</td>\n",
       "      <td>AU</td>\n",
       "      <td>qld</td>\n",
       "      <td>1</td>\n",
       "      <td>en-AU_AU</td>\n",
       "      <td>176961572</td>\n",
       "      <td>7.693981e+06</td>\n",
       "      <td>4759962.0</td>\n",
       "      <td>23</td>\n",
       "      <td>23</td>\n",
       "      <td>15.782609</td>\n",
       "      <td>2018-11-10 07:00:34</td>\n",
       "      <td>21</td>\n",
       "    </tr>\n",
       "    <tr>\n",
       "      <th>1</th>\n",
       "      <td>2018-11-01</td>\n",
       "      <td>000059859ec188af6035870faf885c3038cedda05b3a54...</td>\n",
       "      <td>10</td>\n",
       "      <td>1</td>\n",
       "      <td>unk</td>\n",
       "      <td>US</td>\n",
       "      <td>ca</td>\n",
       "      <td>1</td>\n",
       "      <td>en_US</td>\n",
       "      <td>45243043</td>\n",
       "      <td>4.524304e+06</td>\n",
       "      <td>4971428.0</td>\n",
       "      <td>10</td>\n",
       "      <td>10</td>\n",
       "      <td>14.000000</td>\n",
       "      <td>2018-11-22 19:10:12</td>\n",
       "      <td>9</td>\n",
       "    </tr>\n",
       "    <tr>\n",
       "      <th>2</th>\n",
       "      <td>2018-11-01</td>\n",
       "      <td>00006ad44c0d33a2a526caf75514643639b7b7070dfffd...</td>\n",
       "      <td>7</td>\n",
       "      <td>1</td>\n",
       "      <td>bandung</td>\n",
       "      <td>ID</td>\n",
       "      <td>jb</td>\n",
       "      <td>1</td>\n",
       "      <td>en_US</td>\n",
       "      <td>28731851</td>\n",
       "      <td>4.104550e+06</td>\n",
       "      <td>4705231.0</td>\n",
       "      <td>7</td>\n",
       "      <td>7</td>\n",
       "      <td>12.571429</td>\n",
       "      <td>2018-10-18 03:48:45</td>\n",
       "      <td>44</td>\n",
       "    </tr>\n",
       "    <tr>\n",
       "      <th>3</th>\n",
       "      <td>2018-11-01</td>\n",
       "      <td>000081a7d841b0f953bdba6c185fd5cc335fd6015a30c3...</td>\n",
       "      <td>3</td>\n",
       "      <td>1</td>\n",
       "      <td>chesapeake</td>\n",
       "      <td>US</td>\n",
       "      <td>va</td>\n",
       "      <td>1</td>\n",
       "      <td>en_US</td>\n",
       "      <td>2740502</td>\n",
       "      <td>9.135007e+05</td>\n",
       "      <td>1006370.0</td>\n",
       "      <td>3</td>\n",
       "      <td>3</td>\n",
       "      <td>17.333333</td>\n",
       "      <td>2018-11-22 20:34:45</td>\n",
       "      <td>9</td>\n",
       "    </tr>\n",
       "    <tr>\n",
       "      <th>4</th>\n",
       "      <td>2018-11-01</td>\n",
       "      <td>0000a464ad921c3288e73a3a788b5f113cabf84251a74b...</td>\n",
       "      <td>2</td>\n",
       "      <td>1</td>\n",
       "      <td>fresno</td>\n",
       "      <td>US</td>\n",
       "      <td>ca</td>\n",
       "      <td>1</td>\n",
       "      <td>en-US_US</td>\n",
       "      <td>1073964</td>\n",
       "      <td>5.369820e+05</td>\n",
       "      <td>536982.0</td>\n",
       "      <td>2</td>\n",
       "      <td>2</td>\n",
       "      <td>19.500000</td>\n",
       "      <td>2018-11-22 06:13:36</td>\n",
       "      <td>9</td>\n",
       "    </tr>\n",
       "  </tbody>\n",
       "</table>\n",
       "</div>"
      ],
      "text/plain": [
       "  anchor_date                                       user_id_hash  no_sessions  \\\n",
       "0  2018-11-01  00000db35682058bb7916cb90f85709f54c1a0f7a3b6de...           23   \n",
       "1  2018-11-01  000059859ec188af6035870faf885c3038cedda05b3a54...           10   \n",
       "2  2018-11-01  00006ad44c0d33a2a526caf75514643639b7b7070dfffd...            7   \n",
       "3  2018-11-01  000081a7d841b0f953bdba6c185fd5cc335fd6015a30c3...            3   \n",
       "4  2018-11-01  0000a464ad921c3288e73a3a788b5f113cabf84251a74b...            2   \n",
       "\n",
       "   no_city   last_city last_country last_region  region_count last_locale  \\\n",
       "0        1    brisbane           AU         qld             1    en-AU_AU   \n",
       "1        1         unk           US          ca             1       en_US   \n",
       "2        1     bandung           ID          jb             1       en_US   \n",
       "3        1  chesapeake           US          va             1       en_US   \n",
       "4        1      fresno           US          ca             1    en-US_US   \n",
       "\n",
       "   total_session_time  mean_session_time  median_session_time  \\\n",
       "0           176961572       7.693981e+06            4759962.0   \n",
       "1            45243043       4.524304e+06            4971428.0   \n",
       "2            28731851       4.104550e+06            4705231.0   \n",
       "3             2740502       9.135007e+05            1006370.0   \n",
       "4             1073964       5.369820e+05             536982.0   \n",
       "\n",
       "   count_session_time  ncount_session_time  user_time user_created_timestamp  \\\n",
       "0                  23                   23  15.782609    2018-11-10 07:00:34   \n",
       "1                  10                   10  14.000000    2018-11-22 19:10:12   \n",
       "2                   7                    7  12.571429    2018-10-18 03:48:45   \n",
       "3                   3                    3  17.333333    2018-11-22 20:34:45   \n",
       "4                   2                    2  19.500000    2018-11-22 06:13:36   \n",
       "\n",
       "   user_age  \n",
       "0        21  \n",
       "1         9  \n",
       "2        44  \n",
       "3         9  \n",
       "4         9  "
      ]
     },
     "execution_count": 63,
     "metadata": {},
     "output_type": "execute_result"
    }
   ],
   "source": [
    "sessions.head()"
   ]
  },
  {
   "cell_type": "code",
   "execution_count": 64,
   "metadata": {
    "ExecuteTime": {
     "end_time": "2019-03-06T18:45:46.472521Z",
     "start_time": "2019-03-06T18:45:46.264913Z"
    },
    "hidden": true
   },
   "outputs": [],
   "source": [
    "sessions.drop(['user_created_timestamp'], inplace=True, axis=1)"
   ]
  },
  {
   "cell_type": "code",
   "execution_count": 65,
   "metadata": {
    "ExecuteTime": {
     "end_time": "2019-03-06T18:45:49.959695Z",
     "start_time": "2019-03-06T18:45:48.980199Z"
    },
    "hidden": true
   },
   "outputs": [],
   "source": [
    "sessions.user_id_hash = sessions.user_id_hash.astype('category')\n",
    "sessions.last_city = sessions.last_city.astype('category')\n",
    "sessions.last_country = sessions.last_country.astype('category')\n",
    "sessions.last_region = sessions.last_region.astype('category')\n",
    "sessions.last_locale = sessions.last_locale.astype('category')"
   ]
  },
  {
   "cell_type": "code",
   "execution_count": 66,
   "metadata": {
    "ExecuteTime": {
     "end_time": "2019-03-06T18:45:52.319704Z",
     "start_time": "2019-03-06T18:45:52.260497Z"
    },
    "hidden": true
   },
   "outputs": [],
   "source": [
    "purchase = events[events.event == '8'].copy(deep=True)\n",
    "purchase.reset_index(inplace=True, drop=True)"
   ]
  },
  {
   "cell_type": "code",
   "execution_count": 67,
   "metadata": {
    "ExecuteTime": {
     "end_time": "2019-03-06T18:45:53.262141Z",
     "start_time": "2019-03-06T18:45:53.256340Z"
    },
    "hidden": true
   },
   "outputs": [],
   "source": [
    "purchase.drop(['event', 'event_mean'], inplace=True, axis=1)"
   ]
  },
  {
   "cell_type": "code",
   "execution_count": 68,
   "metadata": {
    "ExecuteTime": {
     "end_time": "2019-03-06T18:45:54.525079Z",
     "start_time": "2019-03-06T18:45:54.521412Z"
    },
    "hidden": true
   },
   "outputs": [],
   "source": [
    "purchase.columns = ['anchor_date', 'user_id_hash', 'no_of_buys',\n",
    "                    'sum_buys', 'popular_buy']"
   ]
  },
  {
   "cell_type": "code",
   "execution_count": 69,
   "metadata": {
    "ExecuteTime": {
     "end_time": "2019-03-06T18:45:55.134905Z",
     "start_time": "2019-03-06T18:45:55.124396Z"
    },
    "hidden": true
   },
   "outputs": [
    {
     "data": {
      "text/html": [
       "<div>\n",
       "<style scoped>\n",
       "    .dataframe tbody tr th:only-of-type {\n",
       "        vertical-align: middle;\n",
       "    }\n",
       "\n",
       "    .dataframe tbody tr th {\n",
       "        vertical-align: top;\n",
       "    }\n",
       "\n",
       "    .dataframe thead th {\n",
       "        text-align: right;\n",
       "    }\n",
       "</style>\n",
       "<table border=\"1\" class=\"dataframe\">\n",
       "  <thead>\n",
       "    <tr style=\"text-align: right;\">\n",
       "      <th></th>\n",
       "      <th>anchor_date</th>\n",
       "      <th>user_id_hash</th>\n",
       "      <th>no_of_buys</th>\n",
       "      <th>sum_buys</th>\n",
       "      <th>popular_buy</th>\n",
       "    </tr>\n",
       "  </thead>\n",
       "  <tbody>\n",
       "    <tr>\n",
       "      <th>0</th>\n",
       "      <td>2018-11-01</td>\n",
       "      <td>00000db35682058bb7916cb90f85709f54c1a0f7a3b6de...</td>\n",
       "      <td>8</td>\n",
       "      <td>23.044</td>\n",
       "      <td>3.493</td>\n",
       "    </tr>\n",
       "    <tr>\n",
       "      <th>1</th>\n",
       "      <td>2018-11-01</td>\n",
       "      <td>000059859ec188af6035870faf885c3038cedda05b3a54...</td>\n",
       "      <td>1</td>\n",
       "      <td>1.393</td>\n",
       "      <td>1.393</td>\n",
       "    </tr>\n",
       "    <tr>\n",
       "      <th>2</th>\n",
       "      <td>2018-11-01</td>\n",
       "      <td>000d99c8e82878915b33ffe27ac3585ce9fb7cd4b82ace...</td>\n",
       "      <td>7</td>\n",
       "      <td>9.751</td>\n",
       "      <td>1.393</td>\n",
       "    </tr>\n",
       "    <tr>\n",
       "      <th>3</th>\n",
       "      <td>2018-11-01</td>\n",
       "      <td>00124c21b3ec87a2f17f884c5eee25462b67d489ebad09...</td>\n",
       "      <td>3</td>\n",
       "      <td>6.279</td>\n",
       "      <td>1.393</td>\n",
       "    </tr>\n",
       "    <tr>\n",
       "      <th>4</th>\n",
       "      <td>2018-11-01</td>\n",
       "      <td>0012e392350f0f6408b8b1a03bc5ee292e29dc735ee24d...</td>\n",
       "      <td>2</td>\n",
       "      <td>2.786</td>\n",
       "      <td>1.393</td>\n",
       "    </tr>\n",
       "  </tbody>\n",
       "</table>\n",
       "</div>"
      ],
      "text/plain": [
       "  anchor_date                                       user_id_hash  no_of_buys  \\\n",
       "0  2018-11-01  00000db35682058bb7916cb90f85709f54c1a0f7a3b6de...           8   \n",
       "1  2018-11-01  000059859ec188af6035870faf885c3038cedda05b3a54...           1   \n",
       "2  2018-11-01  000d99c8e82878915b33ffe27ac3585ce9fb7cd4b82ace...           7   \n",
       "3  2018-11-01  00124c21b3ec87a2f17f884c5eee25462b67d489ebad09...           3   \n",
       "4  2018-11-01  0012e392350f0f6408b8b1a03bc5ee292e29dc735ee24d...           2   \n",
       "\n",
       "   sum_buys  popular_buy  \n",
       "0    23.044        3.493  \n",
       "1     1.393        1.393  \n",
       "2     9.751        1.393  \n",
       "3     6.279        1.393  \n",
       "4     2.786        1.393  "
      ]
     },
     "execution_count": 69,
     "metadata": {},
     "output_type": "execute_result"
    }
   ],
   "source": [
    "purchase.head()"
   ]
  },
  {
   "cell_type": "code",
   "execution_count": 70,
   "metadata": {
    "ExecuteTime": {
     "end_time": "2019-03-06T18:45:55.958684Z",
     "start_time": "2019-03-06T18:45:55.954522Z"
    },
    "hidden": true
   },
   "outputs": [
    {
     "data": {
      "text/plain": [
       "(529655, 16)"
      ]
     },
     "execution_count": 70,
     "metadata": {},
     "output_type": "execute_result"
    }
   ],
   "source": [
    "sessions.shape"
   ]
  },
  {
   "cell_type": "code",
   "execution_count": 74,
   "metadata": {
    "ExecuteTime": {
     "end_time": "2019-03-06T18:46:57.074709Z",
     "start_time": "2019-03-06T18:46:57.068140Z"
    },
    "hidden": true
   },
   "outputs": [],
   "source": [
    "purchase.anchor_date = purchase.anchor_date.astype('datetime64[ns]')"
   ]
  },
  {
   "cell_type": "code",
   "execution_count": 75,
   "metadata": {
    "ExecuteTime": {
     "end_time": "2019-03-06T18:47:00.500545Z",
     "start_time": "2019-03-06T18:46:59.061979Z"
    },
    "hidden": true
   },
   "outputs": [],
   "source": [
    "sessions = sessions.merge(purchase, on=['anchor_date', 'user_id_hash'], how='left')"
   ]
  },
  {
   "cell_type": "code",
   "execution_count": 76,
   "metadata": {
    "ExecuteTime": {
     "end_time": "2019-03-06T18:47:03.837616Z",
     "start_time": "2019-03-06T18:47:03.832927Z"
    },
    "hidden": true
   },
   "outputs": [
    {
     "data": {
      "text/plain": [
       "(529655, 19)"
      ]
     },
     "execution_count": 76,
     "metadata": {},
     "output_type": "execute_result"
    }
   ],
   "source": [
    "sessions.shape"
   ]
  },
  {
   "cell_type": "code",
   "execution_count": 77,
   "metadata": {
    "ExecuteTime": {
     "end_time": "2019-03-06T18:47:03.844696Z",
     "start_time": "2019-03-06T18:47:03.840101Z"
    },
    "hidden": true
   },
   "outputs": [
    {
     "data": {
      "text/plain": [
       "(4797842, 7)"
      ]
     },
     "execution_count": 77,
     "metadata": {},
     "output_type": "execute_result"
    }
   ],
   "source": [
    "events.shape"
   ]
  },
  {
   "cell_type": "code",
   "execution_count": 78,
   "metadata": {
    "ExecuteTime": {
     "end_time": "2019-03-06T18:47:06.774280Z",
     "start_time": "2019-03-06T18:47:06.399300Z"
    },
    "hidden": true
   },
   "outputs": [],
   "source": [
    "events = events[events.event != '8']"
   ]
  },
  {
   "cell_type": "code",
   "execution_count": 79,
   "metadata": {
    "ExecuteTime": {
     "end_time": "2019-03-06T18:47:08.792520Z",
     "start_time": "2019-03-06T18:47:07.187435Z"
    },
    "hidden": true
   },
   "outputs": [],
   "source": [
    "events.set_index(['anchor_date', 'user_id_hash', 'event'], inplace=True)"
   ]
  },
  {
   "cell_type": "code",
   "execution_count": 80,
   "metadata": {
    "ExecuteTime": {
     "end_time": "2019-03-06T18:47:24.070842Z",
     "start_time": "2019-03-06T18:47:08.795429Z"
    },
    "hidden": true
   },
   "outputs": [],
   "source": [
    "events = events.unstack()"
   ]
  },
  {
   "cell_type": "code",
   "execution_count": 81,
   "metadata": {
    "ExecuteTime": {
     "end_time": "2019-03-06T18:47:24.078339Z",
     "start_time": "2019-03-06T18:47:24.073170Z"
    },
    "hidden": true
   },
   "outputs": [],
   "source": [
    "events.columns = [i + str(j) for  i, j  in zip (events.columns.get_level_values(0),\n",
    "                                                events.columns.get_level_values(1))]"
   ]
  },
  {
   "cell_type": "code",
   "execution_count": 82,
   "metadata": {
    "ExecuteTime": {
     "end_time": "2019-03-06T18:47:26.390175Z",
     "start_time": "2019-03-06T18:47:24.081828Z"
    },
    "hidden": true
   },
   "outputs": [],
   "source": [
    "for c in events.columns[events.isna().sum() > 0].values:\n",
    "    events[c].fillna(-99, inplace=True)"
   ]
  },
  {
   "cell_type": "code",
   "execution_count": 83,
   "metadata": {
    "ExecuteTime": {
     "end_time": "2019-03-06T18:47:26.402083Z",
     "start_time": "2019-03-06T18:47:26.393077Z"
    },
    "hidden": true
   },
   "outputs": [],
   "source": [
    "events.reset_index(inplace=True)"
   ]
  },
  {
   "cell_type": "code",
   "execution_count": 84,
   "metadata": {
    "ExecuteTime": {
     "end_time": "2019-03-06T18:47:28.676054Z",
     "start_time": "2019-03-06T18:47:26.404205Z"
    },
    "hidden": true
   },
   "outputs": [],
   "source": [
    "sessions = sessions.merge(events, on=['anchor_date', 'user_id_hash'], how='left')"
   ]
  },
  {
   "cell_type": "code",
   "execution_count": 85,
   "metadata": {
    "ExecuteTime": {
     "end_time": "2019-03-06T18:47:28.682395Z",
     "start_time": "2019-03-06T18:47:28.678558Z"
    },
    "hidden": true
   },
   "outputs": [
    {
     "data": {
      "text/plain": [
       "(529655, 175)"
      ]
     },
     "execution_count": 85,
     "metadata": {},
     "output_type": "execute_result"
    }
   ],
   "source": [
    "sessions.shape"
   ]
  },
  {
   "cell_type": "code",
   "execution_count": 8,
   "metadata": {
    "ExecuteTime": {
     "end_time": "2019-03-06T07:17:30.111005Z",
     "start_time": "2019-03-06T07:17:24.901906Z"
    },
    "hidden": true
   },
   "outputs": [],
   "source": [
    "sessions = pd.read_pickle('../../df.pkl')\n",
    "attrib = pd.read_pickle('../data/attrib_agg.pkl')"
   ]
  },
  {
   "cell_type": "code",
   "execution_count": 9,
   "metadata": {
    "ExecuteTime": {
     "end_time": "2019-03-06T07:18:28.524330Z",
     "start_time": "2019-03-06T07:18:28.517725Z"
    },
    "hidden": true
   },
   "outputs": [
    {
     "data": {
      "text/plain": [
       "(24048310, 7)"
      ]
     },
     "execution_count": 9,
     "metadata": {},
     "output_type": "execute_result"
    }
   ],
   "source": [
    "attrib.shape"
   ]
  },
  {
   "cell_type": "code",
   "execution_count": 86,
   "metadata": {
    "ExecuteTime": {
     "end_time": "2019-03-06T18:48:39.123725Z",
     "start_time": "2019-03-06T18:48:39.117051Z"
    },
    "hidden": true
   },
   "outputs": [
    {
     "data": {
      "text/plain": [
       "anchor_date       object\n",
       "attribute       category\n",
       "user_id_hash    category\n",
       "atr_count          int64\n",
       "atr_mean         float64\n",
       "atr_last         float64\n",
       "atr_max          float64\n",
       "dtype: object"
      ]
     },
     "execution_count": 86,
     "metadata": {},
     "output_type": "execute_result"
    }
   ],
   "source": [
    "attrib.dtypes"
   ]
  },
  {
   "cell_type": "code",
   "execution_count": 88,
   "metadata": {
    "ExecuteTime": {
     "end_time": "2019-03-06T18:49:19.623590Z",
     "start_time": "2019-03-06T18:49:18.841098Z"
    },
    "hidden": true
   },
   "outputs": [],
   "source": [
    "attrib.anchor_date = attrib.anchor_date.astype('datetime64[ns]')"
   ]
  },
  {
   "cell_type": "code",
   "execution_count": 89,
   "metadata": {
    "ExecuteTime": {
     "end_time": "2019-03-06T18:49:20.207977Z",
     "start_time": "2019-03-06T18:49:20.192402Z"
    },
    "hidden": true
   },
   "outputs": [
    {
     "data": {
      "text/html": [
       "<div>\n",
       "<style scoped>\n",
       "    .dataframe tbody tr th:only-of-type {\n",
       "        vertical-align: middle;\n",
       "    }\n",
       "\n",
       "    .dataframe tbody tr th {\n",
       "        vertical-align: top;\n",
       "    }\n",
       "\n",
       "    .dataframe thead th {\n",
       "        text-align: right;\n",
       "    }\n",
       "</style>\n",
       "<table border=\"1\" class=\"dataframe\">\n",
       "  <thead>\n",
       "    <tr style=\"text-align: right;\">\n",
       "      <th></th>\n",
       "      <th>anchor_date</th>\n",
       "      <th>attribute</th>\n",
       "      <th>user_id_hash</th>\n",
       "      <th>atr_count</th>\n",
       "      <th>atr_mean</th>\n",
       "      <th>atr_last</th>\n",
       "      <th>atr_max</th>\n",
       "    </tr>\n",
       "  </thead>\n",
       "  <tbody>\n",
       "    <tr>\n",
       "      <th>0</th>\n",
       "      <td>2018-11-01</td>\n",
       "      <td>0</td>\n",
       "      <td>00000db35682058bb7916cb90f85709f54c1a0f7a3b6de...</td>\n",
       "      <td>23</td>\n",
       "      <td>0.173913</td>\n",
       "      <td>1.0</td>\n",
       "      <td>1.0</td>\n",
       "    </tr>\n",
       "    <tr>\n",
       "      <th>1</th>\n",
       "      <td>2018-11-01</td>\n",
       "      <td>0</td>\n",
       "      <td>000059859ec188af6035870faf885c3038cedda05b3a54...</td>\n",
       "      <td>11</td>\n",
       "      <td>0.000000</td>\n",
       "      <td>0.0</td>\n",
       "      <td>0.0</td>\n",
       "    </tr>\n",
       "    <tr>\n",
       "      <th>2</th>\n",
       "      <td>2018-11-01</td>\n",
       "      <td>0</td>\n",
       "      <td>00006ad44c0d33a2a526caf75514643639b7b7070dfffd...</td>\n",
       "      <td>8</td>\n",
       "      <td>0.000000</td>\n",
       "      <td>0.0</td>\n",
       "      <td>0.0</td>\n",
       "    </tr>\n",
       "    <tr>\n",
       "      <th>3</th>\n",
       "      <td>2018-11-01</td>\n",
       "      <td>0</td>\n",
       "      <td>000081a7d841b0f953bdba6c185fd5cc335fd6015a30c3...</td>\n",
       "      <td>4</td>\n",
       "      <td>0.000000</td>\n",
       "      <td>0.0</td>\n",
       "      <td>0.0</td>\n",
       "    </tr>\n",
       "    <tr>\n",
       "      <th>4</th>\n",
       "      <td>2018-11-01</td>\n",
       "      <td>0</td>\n",
       "      <td>0000a464ad921c3288e73a3a788b5f113cabf84251a74b...</td>\n",
       "      <td>2</td>\n",
       "      <td>0.000000</td>\n",
       "      <td>0.0</td>\n",
       "      <td>0.0</td>\n",
       "    </tr>\n",
       "  </tbody>\n",
       "</table>\n",
       "</div>"
      ],
      "text/plain": [
       "  anchor_date attribute                                       user_id_hash  \\\n",
       "0  2018-11-01         0  00000db35682058bb7916cb90f85709f54c1a0f7a3b6de...   \n",
       "1  2018-11-01         0  000059859ec188af6035870faf885c3038cedda05b3a54...   \n",
       "2  2018-11-01         0  00006ad44c0d33a2a526caf75514643639b7b7070dfffd...   \n",
       "3  2018-11-01         0  000081a7d841b0f953bdba6c185fd5cc335fd6015a30c3...   \n",
       "4  2018-11-01         0  0000a464ad921c3288e73a3a788b5f113cabf84251a74b...   \n",
       "\n",
       "   atr_count  atr_mean  atr_last  atr_max  \n",
       "0         23  0.173913       1.0      1.0  \n",
       "1         11  0.000000       0.0      0.0  \n",
       "2          8  0.000000       0.0      0.0  \n",
       "3          4  0.000000       0.0      0.0  \n",
       "4          2  0.000000       0.0      0.0  "
      ]
     },
     "execution_count": 89,
     "metadata": {},
     "output_type": "execute_result"
    }
   ],
   "source": [
    "attrib.head()"
   ]
  },
  {
   "cell_type": "code",
   "execution_count": 90,
   "metadata": {
    "ExecuteTime": {
     "end_time": "2019-03-06T18:49:26.655162Z",
     "start_time": "2019-03-06T18:49:24.651890Z"
    },
    "hidden": true
   },
   "outputs": [],
   "source": [
    "attrib.set_index(['anchor_date', 'user_id_hash', 'attribute'], inplace=True)"
   ]
  },
  {
   "cell_type": "code",
   "execution_count": 91,
   "metadata": {
    "ExecuteTime": {
     "end_time": "2019-03-06T18:50:00.092703Z",
     "start_time": "2019-03-06T18:49:26.658275Z"
    },
    "hidden": true
   },
   "outputs": [],
   "source": [
    "attrib = attrib.unstack()"
   ]
  },
  {
   "cell_type": "code",
   "execution_count": 92,
   "metadata": {
    "ExecuteTime": {
     "end_time": "2019-03-06T18:50:00.101153Z",
     "start_time": "2019-03-06T18:50:00.095567Z"
    },
    "hidden": true
   },
   "outputs": [],
   "source": [
    "attrib.columns = [i + str(j) for  i, j  in zip (attrib.columns.get_level_values(0),\n",
    "                                                attrib.columns.get_level_values(1))]"
   ]
  },
  {
   "cell_type": "code",
   "execution_count": 93,
   "metadata": {
    "ExecuteTime": {
     "end_time": "2019-03-06T18:50:01.375251Z",
     "start_time": "2019-03-06T18:50:00.104262Z"
    },
    "hidden": true
   },
   "outputs": [],
   "source": [
    "for c in attrib.columns[attrib.isna().sum() > 0].values:\n",
    "    attrib[c].fillna(-99, inplace=True)"
   ]
  },
  {
   "cell_type": "code",
   "execution_count": 94,
   "metadata": {
    "ExecuteTime": {
     "end_time": "2019-03-06T18:50:01.387533Z",
     "start_time": "2019-03-06T18:50:01.377567Z"
    },
    "hidden": true
   },
   "outputs": [],
   "source": [
    "attrib.reset_index(inplace=True)"
   ]
  },
  {
   "cell_type": "code",
   "execution_count": 95,
   "metadata": {
    "ExecuteTime": {
     "end_time": "2019-03-06T18:50:05.794825Z",
     "start_time": "2019-03-06T18:50:01.389759Z"
    },
    "hidden": true
   },
   "outputs": [],
   "source": [
    "sessions = sessions.merge(attrib, on=['anchor_date', 'user_id_hash'], how='left')"
   ]
  },
  {
   "cell_type": "code",
   "execution_count": 96,
   "metadata": {
    "ExecuteTime": {
     "end_time": "2019-03-06T18:50:05.801750Z",
     "start_time": "2019-03-06T18:50:05.797201Z"
    },
    "hidden": true
   },
   "outputs": [
    {
     "data": {
      "text/plain": [
       "(529655, 283)"
      ]
     },
     "execution_count": 96,
     "metadata": {},
     "output_type": "execute_result"
    }
   ],
   "source": [
    "sessions.shape"
   ]
  },
  {
   "cell_type": "code",
   "execution_count": 97,
   "metadata": {
    "ExecuteTime": {
     "end_time": "2019-03-06T18:50:11.656635Z",
     "start_time": "2019-03-06T18:50:11.336943Z"
    },
    "hidden": true
   },
   "outputs": [
    {
     "data": {
      "text/plain": [
       "2722"
      ]
     },
     "execution_count": 97,
     "metadata": {},
     "output_type": "execute_result"
    }
   ],
   "source": [
    "del events\n",
    "gc.collect()"
   ]
  },
  {
   "cell_type": "code",
   "execution_count": 98,
   "metadata": {
    "ExecuteTime": {
     "end_time": "2019-03-06T18:50:12.240850Z",
     "start_time": "2019-03-06T18:50:12.111644Z"
    },
    "hidden": true
   },
   "outputs": [
    {
     "data": {
      "text/plain": [
       "7"
      ]
     },
     "execution_count": 98,
     "metadata": {},
     "output_type": "execute_result"
    }
   ],
   "source": [
    "del attrib\n",
    "gc.collect()"
   ]
  },
  {
   "cell_type": "markdown",
   "metadata": {
    "heading_collapsed": true
   },
   "source": [
    "# Creating y1 & y2"
   ]
  },
  {
   "cell_type": "code",
   "execution_count": 89,
   "metadata": {
    "ExecuteTime": {
     "end_time": "2019-03-06T15:45:50.345638Z",
     "start_time": "2019-03-06T15:44:43.161080Z"
    },
    "hidden": true
   },
   "outputs": [],
   "source": [
    "events = pd.read_pickle('../../events.pkl')"
   ]
  },
  {
   "cell_type": "code",
   "execution_count": 90,
   "metadata": {
    "ExecuteTime": {
     "end_time": "2019-03-06T15:45:53.996291Z",
     "start_time": "2019-03-06T15:45:50.348487Z"
    },
    "hidden": true
   },
   "outputs": [],
   "source": [
    "purchase = events[events.event == '8'].copy(deep=True)\n",
    "purchase.reset_index(inplace=True, drop=True)"
   ]
  },
  {
   "cell_type": "code",
   "execution_count": 91,
   "metadata": {
    "ExecuteTime": {
     "end_time": "2019-03-06T15:45:54.008637Z",
     "start_time": "2019-03-06T15:45:53.998303Z"
    },
    "hidden": true
   },
   "outputs": [],
   "source": [
    "purchase = purchase[purchase.system_time >= dt.datetime(2018, 12, 1)]"
   ]
  },
  {
   "cell_type": "code",
   "execution_count": 92,
   "metadata": {
    "ExecuteTime": {
     "end_time": "2019-03-06T15:45:54.150065Z",
     "start_time": "2019-03-06T15:45:54.012191Z"
    },
    "hidden": true
   },
   "outputs": [],
   "source": [
    "y1_uidh = purchase[purchase.system_time < dt.datetime(2018, 12, 8)].user_id_hash.unique()"
   ]
  },
  {
   "cell_type": "code",
   "execution_count": 93,
   "metadata": {
    "ExecuteTime": {
     "end_time": "2019-03-06T15:45:54.157748Z",
     "start_time": "2019-03-06T15:45:54.152734Z"
    },
    "hidden": true
   },
   "outputs": [
    {
     "data": {
      "text/plain": [
       "4729"
      ]
     },
     "execution_count": 93,
     "metadata": {},
     "output_type": "execute_result"
    }
   ],
   "source": [
    "len(y1_uidh)"
   ]
  },
  {
   "cell_type": "code",
   "execution_count": 94,
   "metadata": {
    "ExecuteTime": {
     "end_time": "2019-03-06T15:45:54.330332Z",
     "start_time": "2019-03-06T15:45:54.160439Z"
    },
    "hidden": true
   },
   "outputs": [],
   "source": [
    "y2_uidh = purchase.user_id_hash.unique()"
   ]
  },
  {
   "cell_type": "code",
   "execution_count": 95,
   "metadata": {
    "ExecuteTime": {
     "end_time": "2019-03-06T15:45:54.337508Z",
     "start_time": "2019-03-06T15:45:54.332715Z"
    },
    "hidden": true
   },
   "outputs": [
    {
     "data": {
      "text/plain": [
       "6126"
      ]
     },
     "execution_count": 95,
     "metadata": {},
     "output_type": "execute_result"
    }
   ],
   "source": [
    "len(y2_uidh)"
   ]
  },
  {
   "cell_type": "code",
   "execution_count": 96,
   "metadata": {
    "ExecuteTime": {
     "end_time": "2019-03-06T15:45:54.557442Z",
     "start_time": "2019-03-06T15:45:54.339605Z"
    },
    "hidden": true
   },
   "outputs": [],
   "source": [
    "sessions['y1'] = sessions.user_id_hash.isin(y1_uidh)\n",
    "sessions['y2'] = sessions.user_id_hash.isin(y2_uidh)"
   ]
  },
  {
   "cell_type": "code",
   "execution_count": 97,
   "metadata": {
    "ExecuteTime": {
     "end_time": "2019-03-06T15:45:54.845031Z",
     "start_time": "2019-03-06T15:45:54.559785Z"
    },
    "hidden": true
   },
   "outputs": [
    {
     "data": {
      "text/plain": [
       "268"
      ]
     },
     "execution_count": 97,
     "metadata": {},
     "output_type": "execute_result"
    }
   ],
   "source": [
    "del events\n",
    "gc.collect()"
   ]
  },
  {
   "cell_type": "markdown",
   "metadata": {},
   "source": [
    "# Preprocessing"
   ]
  },
  {
   "cell_type": "code",
   "execution_count": 99,
   "metadata": {
    "ExecuteTime": {
     "end_time": "2019-03-06T18:51:19.694544Z",
     "start_time": "2019-03-06T18:51:19.686118Z"
    }
   },
   "outputs": [
    {
     "data": {
      "text/plain": [
       "array(['2018-11-01T00:00:00.000000000'], dtype='datetime64[ns]')"
      ]
     },
     "execution_count": 99,
     "metadata": {},
     "output_type": "execute_result"
    }
   ],
   "source": [
    "sessions.anchor_date.unique()"
   ]
  },
  {
   "cell_type": "code",
   "execution_count": 74,
   "metadata": {
    "ExecuteTime": {
     "end_time": "2019-03-06T05:28:11.288537Z",
     "start_time": "2019-03-06T05:28:10.397599Z"
    }
   },
   "outputs": [],
   "source": [
    "sessions = sessions[sessions.anchor_date == dt.datetime(2018, 11, 1)]"
   ]
  },
  {
   "cell_type": "code",
   "execution_count": 101,
   "metadata": {
    "ExecuteTime": {
     "end_time": "2019-03-06T18:51:27.175558Z",
     "start_time": "2019-03-06T18:51:27.172244Z"
    }
   },
   "outputs": [],
   "source": [
    "df = sessions"
   ]
  },
  {
   "cell_type": "code",
   "execution_count": 102,
   "metadata": {
    "ExecuteTime": {
     "end_time": "2019-03-06T18:51:27.793674Z",
     "start_time": "2019-03-06T18:51:27.782547Z"
    }
   },
   "outputs": [],
   "source": [
    "df['y1'].fillna(0, inplace=True)\n",
    "df['y2'].fillna(0, inplace=True)\n",
    "df['no_of_buys'].fillna(0, inplace=True)\n",
    "df['sum_buys'].fillna(0, inplace=True)\n",
    "df['popular_buy'].fillna(0, inplace=True)"
   ]
  },
  {
   "cell_type": "code",
   "execution_count": 103,
   "metadata": {
    "ExecuteTime": {
     "end_time": "2019-03-06T18:51:34.682984Z",
     "start_time": "2019-03-06T18:51:34.665455Z"
    }
   },
   "outputs": [],
   "source": [
    "for c in ['no_sessions', 'no_city', 'region_count', 'total_session_time',\n",
    "          'mean_session_time', 'median_session_time', 'count_session_time',\n",
    "          'ncount_session_time', 'user_time', 'user_age']:\n",
    "    df[c].fillna(0, inplace=True)"
   ]
  },
  {
   "cell_type": "code",
   "execution_count": 104,
   "metadata": {
    "ExecuteTime": {
     "end_time": "2019-03-06T18:51:35.803645Z",
     "start_time": "2019-03-06T18:51:35.765762Z"
    }
   },
   "outputs": [],
   "source": [
    "for c in ['last_city', 'last_country', 'last_region', 'last_locale']:\n",
    "    df[c] = df[c].cat.add_categories(-99)\n",
    "    df[c].fillna(-99, inplace=True)"
   ]
  },
  {
   "cell_type": "code",
   "execution_count": 105,
   "metadata": {
    "ExecuteTime": {
     "end_time": "2019-03-06T18:51:36.617599Z",
     "start_time": "2019-03-06T18:51:36.264615Z"
    }
   },
   "outputs": [],
   "source": [
    "for c in [i for i in df.columns if i.startswith('event')]:\n",
    "    df[c].fillna(-99, inplace=True)"
   ]
  },
  {
   "cell_type": "code",
   "execution_count": 106,
   "metadata": {
    "ExecuteTime": {
     "end_time": "2019-03-06T18:51:41.671805Z",
     "start_time": "2019-03-06T18:51:38.156363Z"
    }
   },
   "outputs": [],
   "source": [
    "t = df.isna().sum()"
   ]
  },
  {
   "cell_type": "code",
   "execution_count": 107,
   "metadata": {
    "ExecuteTime": {
     "end_time": "2019-03-06T18:51:41.680116Z",
     "start_time": "2019-03-06T18:51:41.674753Z"
    }
   },
   "outputs": [
    {
     "data": {
      "text/plain": [
       "0"
      ]
     },
     "execution_count": 107,
     "metadata": {},
     "output_type": "execute_result"
    }
   ],
   "source": [
    "t.sum()"
   ]
  },
  {
   "cell_type": "code",
   "execution_count": 128,
   "metadata": {
    "ExecuteTime": {
     "end_time": "2019-03-06T08:58:16.654500Z",
     "start_time": "2019-03-06T08:58:16.618956Z"
    }
   },
   "outputs": [],
   "source": [
    "df.last_city = df.last_city.cat.codes\n",
    "df.last_country = df.last_country.cat.codes\n",
    "df.last_region = df.last_region.cat.codes\n",
    "df.last_locale = df.last_locale.cat.codes"
   ]
  },
  {
   "cell_type": "code",
   "execution_count": 106,
   "metadata": {
    "ExecuteTime": {
     "end_time": "2019-03-06T15:46:23.698787Z",
     "start_time": "2019-03-06T15:46:23.665939Z"
    }
   },
   "outputs": [],
   "source": [
    "df['y1'] = df['y1'].astype(np.int)\n",
    "df['y2'] = df['y2'].astype(np.int)"
   ]
  },
  {
   "cell_type": "code",
   "execution_count": 22,
   "metadata": {
    "ExecuteTime": {
     "end_time": "2019-03-06T07:23:47.889412Z",
     "start_time": "2019-03-06T07:23:47.482850Z"
    }
   },
   "outputs": [],
   "source": [
    "df.fillna(-99, inplace=True)"
   ]
  },
  {
   "cell_type": "code",
   "execution_count": 108,
   "metadata": {
    "ExecuteTime": {
     "end_time": "2019-03-06T18:51:48.897807Z",
     "start_time": "2019-03-06T18:51:48.892168Z"
    }
   },
   "outputs": [
    {
     "data": {
      "text/plain": [
       "array(['anchor_date', 'user_id_hash', 'no_sessions', 'no_city',\n",
       "       'last_city', 'last_country', 'last_region', 'region_count',\n",
       "       'last_locale', 'total_session_time', 'mean_session_time',\n",
       "       'median_session_time', 'count_session_time', 'ncount_session_time',\n",
       "       'user_time', 'user_age', 'no_of_buys', 'sum_buys', 'popular_buy',\n",
       "       'event_count0', 'event_count0/', 'event_count1', 'event_count1/',\n",
       "       'event_count10', 'event_count11', 'event_count14', 'event_count3',\n",
       "       'event_count4', 'event_count40', 'event_count41', 'event_count42',\n",
       "       'event_count43', 'event_count44', 'event_count45', 'event_count47',\n",
       "       'event_count48', 'event_count49', 'event_count5', 'event_count50',\n",
       "       'event_count51', 'event_count52', 'event_count54', 'event_count55',\n",
       "       'event_count56', 'event_count57', 'event_count58', 'event_count59',\n",
       "       'event_count6', 'event_count60', 'event_count61', 'event_count62',\n",
       "       'event_count63', 'event_count64', 'event_count7', 'event_count9',\n",
       "       'event_count97', 'event_count98', 'event_count99', 'event_sum0',\n",
       "       'event_sum0/', 'event_sum1', 'event_sum1/', 'event_sum10',\n",
       "       'event_sum11', 'event_sum14', 'event_sum3', 'event_sum4',\n",
       "       'event_sum40', 'event_sum41', 'event_sum42', 'event_sum43',\n",
       "       'event_sum44', 'event_sum45', 'event_sum47', 'event_sum48',\n",
       "       'event_sum49', 'event_sum5', 'event_sum50', 'event_sum51',\n",
       "       'event_sum52', 'event_sum54', 'event_sum55', 'event_sum56',\n",
       "       'event_sum57', 'event_sum58', 'event_sum59', 'event_sum6',\n",
       "       'event_sum60', 'event_sum61', 'event_sum62', 'event_sum63',\n",
       "       'event_sum64', 'event_sum7', 'event_sum9', 'event_sum97',\n",
       "       'event_sum98', 'event_sum99', 'event_mean0', 'event_mean0/',\n",
       "       'event_mean1', 'event_mean1/', 'event_mean10', 'event_mean11',\n",
       "       'event_mean14', 'event_mean3', 'event_mean4', 'event_mean40',\n",
       "       'event_mean41', 'event_mean42', 'event_mean43', 'event_mean44',\n",
       "       'event_mean45', 'event_mean47', 'event_mean48', 'event_mean49',\n",
       "       'event_mean5', 'event_mean50', 'event_mean51', 'event_mean52',\n",
       "       'event_mean54', 'event_mean55', 'event_mean56', 'event_mean57',\n",
       "       'event_mean58', 'event_mean59', 'event_mean6', 'event_mean60',\n",
       "       'event_mean61', 'event_mean62', 'event_mean63', 'event_mean64',\n",
       "       'event_mean7', 'event_mean9', 'event_mean97', 'event_mean98',\n",
       "       'event_mean99', 'event_last0', 'event_last0/', 'event_last1',\n",
       "       'event_last1/', 'event_last10', 'event_last11', 'event_last14',\n",
       "       'event_last3', 'event_last4', 'event_last40', 'event_last41',\n",
       "       'event_last42', 'event_last43', 'event_last44', 'event_last45',\n",
       "       'event_last47', 'event_last48', 'event_last49', 'event_last5',\n",
       "       'event_last50', 'event_last51', 'event_last52', 'event_last54',\n",
       "       'event_last55', 'event_last56', 'event_last57', 'event_last58',\n",
       "       'event_last59', 'event_last6', 'event_last60', 'event_last61',\n",
       "       'event_last62', 'event_last63', 'event_last64', 'event_last7',\n",
       "       'event_last9', 'event_last97', 'event_last98', 'event_last99',\n",
       "       'atr_count0', 'atr_count1', 'atr_count3', 'atr_count4',\n",
       "       'atr_count5', 'atr_count6', 'atr_count7', 'atr_count8',\n",
       "       'atr_count9', 'atr_count10', 'atr_count11', 'atr_count13',\n",
       "       'atr_count14', 'atr_count15', 'atr_count16', 'atr_count17',\n",
       "       'atr_count18', 'atr_count19', 'atr_count20', 'atr_count21',\n",
       "       'atr_count66', 'atr_count67', 'atr_count75', 'atr_count76',\n",
       "       'atr_count77', 'atr_count78', 'atr_count96', 'atr_mean0',\n",
       "       'atr_mean1', 'atr_mean3', 'atr_mean4', 'atr_mean5', 'atr_mean6',\n",
       "       'atr_mean7', 'atr_mean8', 'atr_mean9', 'atr_mean10', 'atr_mean11',\n",
       "       'atr_mean13', 'atr_mean14', 'atr_mean15', 'atr_mean16',\n",
       "       'atr_mean17', 'atr_mean18', 'atr_mean19', 'atr_mean20',\n",
       "       'atr_mean21', 'atr_mean66', 'atr_mean67', 'atr_mean75',\n",
       "       'atr_mean76', 'atr_mean77', 'atr_mean78', 'atr_mean96',\n",
       "       'atr_last0', 'atr_last1', 'atr_last3', 'atr_last4', 'atr_last5',\n",
       "       'atr_last6', 'atr_last7', 'atr_last8', 'atr_last9', 'atr_last10',\n",
       "       'atr_last11', 'atr_last13', 'atr_last14', 'atr_last15',\n",
       "       'atr_last16', 'atr_last17', 'atr_last18', 'atr_last19',\n",
       "       'atr_last20', 'atr_last21', 'atr_last66', 'atr_last67',\n",
       "       'atr_last75', 'atr_last76', 'atr_last77', 'atr_last78',\n",
       "       'atr_last96', 'atr_max0', 'atr_max1', 'atr_max3', 'atr_max4',\n",
       "       'atr_max5', 'atr_max6', 'atr_max7', 'atr_max8', 'atr_max9',\n",
       "       'atr_max10', 'atr_max11', 'atr_max13', 'atr_max14', 'atr_max15',\n",
       "       'atr_max16', 'atr_max17', 'atr_max18', 'atr_max19', 'atr_max20',\n",
       "       'atr_max21', 'atr_max66', 'atr_max67', 'atr_max75', 'atr_max76',\n",
       "       'atr_max77', 'atr_max78', 'atr_max96'], dtype=object)"
      ]
     },
     "execution_count": 108,
     "metadata": {},
     "output_type": "execute_result"
    }
   ],
   "source": [
    "df.columns.values"
   ]
  },
  {
   "cell_type": "code",
   "execution_count": 109,
   "metadata": {
    "ExecuteTime": {
     "end_time": "2019-03-06T18:52:07.712980Z",
     "start_time": "2019-03-06T18:52:04.149444Z"
    }
   },
   "outputs": [],
   "source": [
    "df.to_pickle('../data/test2mnths')"
   ]
  },
  {
   "cell_type": "code",
   "execution_count": 108,
   "metadata": {
    "ExecuteTime": {
     "end_time": "2019-03-06T15:46:55.906881Z",
     "start_time": "2019-03-06T15:46:52.442301Z"
    }
   },
   "outputs": [],
   "source": [
    "df.to_pickle('../data/train2mnths')"
   ]
  },
  {
   "cell_type": "code",
   "execution_count": 111,
   "metadata": {
    "ExecuteTime": {
     "end_time": "2019-03-06T18:53:52.776195Z",
     "start_time": "2019-03-06T18:53:52.669501Z"
    }
   },
   "outputs": [
    {
     "data": {
      "text/plain": [
       "172"
      ]
     },
     "execution_count": 111,
     "metadata": {},
     "output_type": "execute_result"
    }
   ],
   "source": [
    "del df\n",
    "del sessions\n",
    "del purchase\n",
    "del attrib\n",
    "gc.collect()"
   ]
  },
  {
   "cell_type": "code",
   "execution_count": 293,
   "metadata": {
    "ExecuteTime": {
     "end_time": "2019-03-06T21:50:55.279330Z",
     "start_time": "2019-03-06T21:50:44.093849Z"
    }
   },
   "outputs": [],
   "source": [
    "train = pd.read_pickle('../data/train2mnths')\n",
    "test = pd.read_pickle('../data/test2mnths')"
   ]
  },
  {
   "cell_type": "code",
   "execution_count": 476,
   "metadata": {
    "ExecuteTime": {
     "end_time": "2019-03-06T23:00:32.055847Z",
     "start_time": "2019-03-06T23:00:31.597424Z"
    }
   },
   "outputs": [
    {
     "data": {
      "text/plain": [
       "668"
      ]
     },
     "execution_count": 476,
     "metadata": {},
     "output_type": "execute_result"
    }
   ],
   "source": [
    "gc.collect()"
   ]
  },
  {
   "cell_type": "code",
   "execution_count": 475,
   "metadata": {
    "ExecuteTime": {
     "end_time": "2019-03-06T23:00:28.368548Z",
     "start_time": "2019-03-06T23:00:28.365493Z"
    }
   },
   "outputs": [],
   "source": [
    "del X_train, X_test, y1, y2, "
   ]
  },
  {
   "cell_type": "code",
   "execution_count": 477,
   "metadata": {
    "ExecuteTime": {
     "end_time": "2019-03-06T23:00:37.498454Z",
     "start_time": "2019-03-06T23:00:36.168163Z"
    }
   },
   "outputs": [
    {
     "ename": "MemoryError",
     "evalue": "",
     "output_type": "error",
     "traceback": [
      "\u001b[0;31m---------------------------------------------------------------------------\u001b[0m",
      "\u001b[0;31mMemoryError\u001b[0m                               Traceback (most recent call last)",
      "\u001b[0;32m<ipython-input-477-8fd64e5ef8ff>\u001b[0m in \u001b[0;36m<module>\u001b[0;34m\u001b[0m\n\u001b[0;32m----> 1\u001b[0;31m \u001b[0mtrain\u001b[0m\u001b[0;34m.\u001b[0m\u001b[0mto_pickle\u001b[0m\u001b[0;34m(\u001b[0m\u001b[0;34m'../data/trainv2'\u001b[0m\u001b[0;34m)\u001b[0m\u001b[0;34m\u001b[0m\u001b[0;34m\u001b[0m\u001b[0m\n\u001b[0m\u001b[1;32m      2\u001b[0m \u001b[0mtest\u001b[0m\u001b[0;34m.\u001b[0m\u001b[0mto_pickle\u001b[0m\u001b[0;34m(\u001b[0m\u001b[0;34m'../data/testv2'\u001b[0m\u001b[0;34m)\u001b[0m\u001b[0;34m\u001b[0m\u001b[0;34m\u001b[0m\u001b[0m\n",
      "\u001b[0;32m~/anaconda3/lib/python3.7/site-packages/pandas/core/generic.py\u001b[0m in \u001b[0;36mto_pickle\u001b[0;34m(self, path, compression, protocol)\u001b[0m\n\u001b[1;32m   2190\u001b[0m         \u001b[0;32mfrom\u001b[0m \u001b[0mpandas\u001b[0m\u001b[0;34m.\u001b[0m\u001b[0mio\u001b[0m\u001b[0;34m.\u001b[0m\u001b[0mpickle\u001b[0m \u001b[0;32mimport\u001b[0m \u001b[0mto_pickle\u001b[0m\u001b[0;34m\u001b[0m\u001b[0;34m\u001b[0m\u001b[0m\n\u001b[1;32m   2191\u001b[0m         return to_pickle(self, path, compression=compression,\n\u001b[0;32m-> 2192\u001b[0;31m                          protocol=protocol)\n\u001b[0m\u001b[1;32m   2193\u001b[0m \u001b[0;34m\u001b[0m\u001b[0m\n\u001b[1;32m   2194\u001b[0m     \u001b[0;32mdef\u001b[0m \u001b[0mto_clipboard\u001b[0m\u001b[0;34m(\u001b[0m\u001b[0mself\u001b[0m\u001b[0;34m,\u001b[0m \u001b[0mexcel\u001b[0m\u001b[0;34m=\u001b[0m\u001b[0;32mTrue\u001b[0m\u001b[0;34m,\u001b[0m \u001b[0msep\u001b[0m\u001b[0;34m=\u001b[0m\u001b[0;32mNone\u001b[0m\u001b[0;34m,\u001b[0m \u001b[0;34m**\u001b[0m\u001b[0mkwargs\u001b[0m\u001b[0;34m)\u001b[0m\u001b[0;34m:\u001b[0m\u001b[0;34m\u001b[0m\u001b[0;34m\u001b[0m\u001b[0m\n",
      "\u001b[0;32m~/anaconda3/lib/python3.7/site-packages/pandas/io/pickle.py\u001b[0m in \u001b[0;36mto_pickle\u001b[0;34m(obj, path, compression, protocol)\u001b[0m\n\u001b[1;32m     75\u001b[0m         \u001b[0mprotocol\u001b[0m \u001b[0;34m=\u001b[0m \u001b[0mpkl\u001b[0m\u001b[0;34m.\u001b[0m\u001b[0mHIGHEST_PROTOCOL\u001b[0m\u001b[0;34m\u001b[0m\u001b[0;34m\u001b[0m\u001b[0m\n\u001b[1;32m     76\u001b[0m     \u001b[0;32mtry\u001b[0m\u001b[0;34m:\u001b[0m\u001b[0;34m\u001b[0m\u001b[0;34m\u001b[0m\u001b[0m\n\u001b[0;32m---> 77\u001b[0;31m         \u001b[0mf\u001b[0m\u001b[0;34m.\u001b[0m\u001b[0mwrite\u001b[0m\u001b[0;34m(\u001b[0m\u001b[0mpkl\u001b[0m\u001b[0;34m.\u001b[0m\u001b[0mdumps\u001b[0m\u001b[0;34m(\u001b[0m\u001b[0mobj\u001b[0m\u001b[0;34m,\u001b[0m \u001b[0mprotocol\u001b[0m\u001b[0;34m=\u001b[0m\u001b[0mprotocol\u001b[0m\u001b[0;34m)\u001b[0m\u001b[0;34m)\u001b[0m\u001b[0;34m\u001b[0m\u001b[0;34m\u001b[0m\u001b[0m\n\u001b[0m\u001b[1;32m     78\u001b[0m     \u001b[0;32mfinally\u001b[0m\u001b[0;34m:\u001b[0m\u001b[0;34m\u001b[0m\u001b[0;34m\u001b[0m\u001b[0m\n\u001b[1;32m     79\u001b[0m         \u001b[0;32mfor\u001b[0m \u001b[0m_f\u001b[0m \u001b[0;32min\u001b[0m \u001b[0mfh\u001b[0m\u001b[0;34m:\u001b[0m\u001b[0;34m\u001b[0m\u001b[0;34m\u001b[0m\u001b[0m\n",
      "\u001b[0;31mMemoryError\u001b[0m: "
     ]
    }
   ],
   "source": [
    "train.to_pickle('../data/trainv2')\n",
    "test.to_pickle('../data/testv2')"
   ]
  },
  {
   "cell_type": "code",
   "execution_count": 394,
   "metadata": {
    "ExecuteTime": {
     "end_time": "2019-03-06T22:40:55.967691Z",
     "start_time": "2019-03-06T22:40:55.944581Z"
    }
   },
   "outputs": [],
   "source": [
    "sessions = sessions[['user_id_hash', 'no_sessions', 'total_session_time', 'mean_session_time',\n",
    "                     'median_session_time', 'user_time']]"
   ]
  },
  {
   "cell_type": "code",
   "execution_count": 395,
   "metadata": {
    "ExecuteTime": {
     "end_time": "2019-03-06T22:40:56.675776Z",
     "start_time": "2019-03-06T22:40:56.671893Z"
    }
   },
   "outputs": [],
   "source": [
    "sessions.columns = ['user_id_hash', 'no_sessions_wk', 'total_session_time_wk',\n",
    "                    'mean_session_time_wk', 'median_session_time_wk',\n",
    "                    'user_time_wk']"
   ]
  },
  {
   "cell_type": "code",
   "execution_count": 396,
   "metadata": {
    "ExecuteTime": {
     "end_time": "2019-03-06T22:40:57.112066Z",
     "start_time": "2019-03-06T22:40:57.100739Z"
    }
   },
   "outputs": [
    {
     "data": {
      "text/html": [
       "<div>\n",
       "<style scoped>\n",
       "    .dataframe tbody tr th:only-of-type {\n",
       "        vertical-align: middle;\n",
       "    }\n",
       "\n",
       "    .dataframe tbody tr th {\n",
       "        vertical-align: top;\n",
       "    }\n",
       "\n",
       "    .dataframe thead th {\n",
       "        text-align: right;\n",
       "    }\n",
       "</style>\n",
       "<table border=\"1\" class=\"dataframe\">\n",
       "  <thead>\n",
       "    <tr style=\"text-align: right;\">\n",
       "      <th></th>\n",
       "      <th>user_id_hash</th>\n",
       "      <th>no_sessions_wk</th>\n",
       "      <th>total_session_time_wk</th>\n",
       "      <th>mean_session_time_wk</th>\n",
       "      <th>median_session_time_wk</th>\n",
       "      <th>user_time_wk</th>\n",
       "    </tr>\n",
       "  </thead>\n",
       "  <tbody>\n",
       "    <tr>\n",
       "      <th>0</th>\n",
       "      <td>00000db35682058bb7916cb90f85709f54c1a0f7a3b6de...</td>\n",
       "      <td>1</td>\n",
       "      <td>20109700</td>\n",
       "      <td>2.010970e+07</td>\n",
       "      <td>20109700.0</td>\n",
       "      <td>21.00</td>\n",
       "    </tr>\n",
       "    <tr>\n",
       "      <th>1</th>\n",
       "      <td>0004254c12f732e958e157c5e507347944e7ae2b0d9abc...</td>\n",
       "      <td>1</td>\n",
       "      <td>45213917</td>\n",
       "      <td>4.521392e+07</td>\n",
       "      <td>45213917.0</td>\n",
       "      <td>18.00</td>\n",
       "    </tr>\n",
       "    <tr>\n",
       "      <th>2</th>\n",
       "      <td>000640d9f785d21ded61bdff159144b25dea23300ae1b8...</td>\n",
       "      <td>1</td>\n",
       "      <td>162513580</td>\n",
       "      <td>1.625136e+08</td>\n",
       "      <td>162513580.0</td>\n",
       "      <td>20.00</td>\n",
       "    </tr>\n",
       "    <tr>\n",
       "      <th>3</th>\n",
       "      <td>00073f51e4e86c623799a82241256f7c1898c589850d5a...</td>\n",
       "      <td>4</td>\n",
       "      <td>187610585</td>\n",
       "      <td>4.690265e+07</td>\n",
       "      <td>46616772.0</td>\n",
       "      <td>13.75</td>\n",
       "    </tr>\n",
       "    <tr>\n",
       "      <th>4</th>\n",
       "      <td>0007e356e960e1a802454c83e1a6cea122cbd32d6382df...</td>\n",
       "      <td>1</td>\n",
       "      <td>2692708</td>\n",
       "      <td>2.692708e+06</td>\n",
       "      <td>2692708.0</td>\n",
       "      <td>19.00</td>\n",
       "    </tr>\n",
       "  </tbody>\n",
       "</table>\n",
       "</div>"
      ],
      "text/plain": [
       "                                        user_id_hash  no_sessions_wk  \\\n",
       "0  00000db35682058bb7916cb90f85709f54c1a0f7a3b6de...               1   \n",
       "1  0004254c12f732e958e157c5e507347944e7ae2b0d9abc...               1   \n",
       "2  000640d9f785d21ded61bdff159144b25dea23300ae1b8...               1   \n",
       "3  00073f51e4e86c623799a82241256f7c1898c589850d5a...               4   \n",
       "4  0007e356e960e1a802454c83e1a6cea122cbd32d6382df...               1   \n",
       "\n",
       "   total_session_time_wk  mean_session_time_wk  median_session_time_wk  \\\n",
       "0               20109700          2.010970e+07              20109700.0   \n",
       "1               45213917          4.521392e+07              45213917.0   \n",
       "2              162513580          1.625136e+08             162513580.0   \n",
       "3              187610585          4.690265e+07              46616772.0   \n",
       "4                2692708          2.692708e+06               2692708.0   \n",
       "\n",
       "   user_time_wk  \n",
       "0         21.00  \n",
       "1         18.00  \n",
       "2         20.00  \n",
       "3         13.75  \n",
       "4         19.00  "
      ]
     },
     "execution_count": 396,
     "metadata": {},
     "output_type": "execute_result"
    }
   ],
   "source": [
    "sessions.head()"
   ]
  },
  {
   "cell_type": "code",
   "execution_count": 397,
   "metadata": {
    "ExecuteTime": {
     "end_time": "2019-03-06T22:41:08.875047Z",
     "start_time": "2019-03-06T22:41:03.569782Z"
    }
   },
   "outputs": [],
   "source": [
    "test = test.merge(sessions, on=['user_id_hash'], how='left')"
   ]
  },
  {
   "cell_type": "code",
   "execution_count": 313,
   "metadata": {
    "ExecuteTime": {
     "end_time": "2019-03-06T22:06:55.557586Z",
     "start_time": "2019-03-06T22:06:50.688146Z"
    }
   },
   "outputs": [],
   "source": [
    "train = train.merge(sessions, on=['user_id_hash'], how='left')"
   ]
  },
  {
   "cell_type": "code",
   "execution_count": 398,
   "metadata": {
    "ExecuteTime": {
     "end_time": "2019-03-06T22:41:22.152942Z",
     "start_time": "2019-03-06T22:41:22.136316Z"
    }
   },
   "outputs": [],
   "source": [
    "for c in ['no_sessions_wk', 'total_session_time_wk', 'mean_session_time_wk',\n",
    "          'median_session_time_wk', 'user_time_wk']:\n",
    "    try:\n",
    "        test[c] = test[c].cat.add_categories(0)\n",
    "        test[c].fillna(0, inplace=True)\n",
    "    except:\n",
    "        test[c].fillna(0, inplace=True)"
   ]
  },
  {
   "cell_type": "code",
   "execution_count": 319,
   "metadata": {
    "ExecuteTime": {
     "end_time": "2019-03-06T22:11:58.380560Z",
     "start_time": "2019-03-06T22:11:58.357706Z"
    }
   },
   "outputs": [],
   "source": [
    "for c in ['no_sessions_wk', 'total_session_time_wk', 'mean_session_time_wk',\n",
    "          'median_session_time_wk', 'user_time_wk']:\n",
    "    try:\n",
    "        train[c] = train[c].cat.add_categories(0)\n",
    "        train[c].fillna(0, inplace=True)\n",
    "    except:\n",
    "        train[c].fillna(0, inplace=True)"
   ]
  },
  {
   "cell_type": "code",
   "execution_count": 399,
   "metadata": {
    "ExecuteTime": {
     "end_time": "2019-03-06T22:41:35.339455Z",
     "start_time": "2019-03-06T22:41:31.653156Z"
    }
   },
   "outputs": [
    {
     "data": {
      "text/plain": [
       "0"
      ]
     },
     "execution_count": 399,
     "metadata": {},
     "output_type": "execute_result"
    }
   ],
   "source": [
    "test.isna().sum().sum()"
   ]
  },
  {
   "cell_type": "code",
   "execution_count": 322,
   "metadata": {
    "ExecuteTime": {
     "end_time": "2019-03-06T22:12:52.953325Z",
     "start_time": "2019-03-06T22:12:49.525765Z"
    }
   },
   "outputs": [
    {
     "data": {
      "text/plain": [
       "0"
      ]
     },
     "execution_count": 322,
     "metadata": {},
     "output_type": "execute_result"
    }
   ],
   "source": [
    "train.isna().sum().sum()"
   ]
  },
  {
   "cell_type": "code",
   "execution_count": 321,
   "metadata": {
    "ExecuteTime": {
     "end_time": "2019-03-06T22:12:45.532931Z",
     "start_time": "2019-03-06T22:12:45.530082Z"
    }
   },
   "outputs": [],
   "source": [
    "from sklearn.preprocessing import LabelEncoder"
   ]
  },
  {
   "cell_type": "code",
   "execution_count": 335,
   "metadata": {
    "ExecuteTime": {
     "end_time": "2019-03-06T22:15:36.301910Z",
     "start_time": "2019-03-06T22:15:33.769685Z"
    }
   },
   "outputs": [],
   "source": [
    "for c in ['last_city', 'last_country', 'last_region', 'last_locale']:\n",
    "    le = LabelEncoder()\n",
    "    le.fit(list(set(list(train[c].values) + list(test[c].values))))\n",
    "    train[c] = le.transform(list(train[c].values))\n",
    "    test[c] = le.transform(list(test[c].values))"
   ]
  },
  {
   "cell_type": "code",
   "execution_count": 400,
   "metadata": {
    "ExecuteTime": {
     "end_time": "2019-03-06T22:42:06.575532Z",
     "start_time": "2019-03-06T22:42:06.571324Z"
    }
   },
   "outputs": [],
   "source": [
    "feature_cols = ['no_sessions', 'no_city',\n",
    "                'last_city', 'last_country', 'last_region', 'last_locale',\n",
    "                'total_session_time', 'region_count',\n",
    "                'mean_session_time', 'median_session_time', 'count_session_time',\n",
    "                'ncount_session_time', 'user_age', 'no_of_buys', 'sum_buys',\n",
    "                'popular_buy',]\n",
    "feature_cols += ['no_sessions_wk', 'total_session_time_wk',\n",
    "                    'mean_session_time_wk', 'median_session_time_wk',\n",
    "                    'user_time_wk']"
   ]
  },
  {
   "cell_type": "code",
   "execution_count": 401,
   "metadata": {
    "ExecuteTime": {
     "end_time": "2019-03-06T22:42:06.935040Z",
     "start_time": "2019-03-06T22:42:06.931528Z"
    }
   },
   "outputs": [],
   "source": [
    "feature_cols += [f for f in train.columns if f.startswith('event')]"
   ]
  },
  {
   "cell_type": "code",
   "execution_count": 402,
   "metadata": {
    "ExecuteTime": {
     "end_time": "2019-03-06T22:42:08.857476Z",
     "start_time": "2019-03-06T22:42:08.853624Z"
    }
   },
   "outputs": [],
   "source": [
    "feature_cols += [f for f in train.columns if f.startswith('atr')]"
   ]
  },
  {
   "cell_type": "code",
   "execution_count": 352,
   "metadata": {
    "ExecuteTime": {
     "end_time": "2019-03-06T22:16:17.663907Z",
     "start_time": "2019-03-06T22:16:17.660397Z"
    }
   },
   "outputs": [],
   "source": [
    "feature_cols += [f for f in train.columns if f.startswith('atr') and f.endswith('13')]"
   ]
  },
  {
   "cell_type": "code",
   "execution_count": 353,
   "metadata": {
    "ExecuteTime": {
     "end_time": "2019-03-06T22:16:17.980183Z",
     "start_time": "2019-03-06T22:16:17.976541Z"
    }
   },
   "outputs": [],
   "source": [
    "feature_cols += [f for f in train.columns if f.startswith('atr') and f.endswith('14')]"
   ]
  },
  {
   "cell_type": "code",
   "execution_count": 28,
   "metadata": {
    "ExecuteTime": {
     "end_time": "2019-03-06T07:24:38.399918Z",
     "start_time": "2019-03-06T07:24:35.600216Z"
    }
   },
   "outputs": [],
   "source": [
    "df.to_pickle('../data/df.pkl')"
   ]
  },
  {
   "cell_type": "code",
   "execution_count": 10,
   "metadata": {
    "ExecuteTime": {
     "end_time": "2019-03-06T06:39:50.369014Z",
     "start_time": "2019-03-06T06:39:43.882942Z"
    }
   },
   "outputs": [],
   "source": [
    "df = pd.read_pickle('../data/df.pkl')"
   ]
  },
  {
   "cell_type": "markdown",
   "metadata": {},
   "source": [
    "# modelling"
   ]
  },
  {
   "cell_type": "code",
   "execution_count": 403,
   "metadata": {
    "ExecuteTime": {
     "end_time": "2019-03-06T22:42:14.055846Z",
     "start_time": "2019-03-06T22:42:14.051634Z"
    }
   },
   "outputs": [],
   "source": [
    "def print_feature_importance(model, feature_cols):\n",
    "    feature_importance = dict(zip(feature_cols, model.feature_importances_))\n",
    "    for name, importance in sorted(feature_importance.items(),\n",
    "                                   key=lambda x: x[1], reverse=True):\n",
    "        print(f\"{name:<30}: {importance:>6.2%}\")"
   ]
  },
  {
   "cell_type": "code",
   "execution_count": 404,
   "metadata": {
    "ExecuteTime": {
     "end_time": "2019-03-06T22:42:14.406690Z",
     "start_time": "2019-03-06T22:42:14.403691Z"
    }
   },
   "outputs": [],
   "source": [
    "from xgboost import XGBClassifier\n",
    "from sklearn.metrics import accuracy_score, roc_auc_score"
   ]
  },
  {
   "cell_type": "code",
   "execution_count": 405,
   "metadata": {
    "ExecuteTime": {
     "end_time": "2019-03-06T22:42:15.320465Z",
     "start_time": "2019-03-06T22:42:15.317165Z"
    }
   },
   "outputs": [],
   "source": [
    "from sklearn.model_selection import train_test_split"
   ]
  },
  {
   "cell_type": "code",
   "execution_count": 429,
   "metadata": {
    "ExecuteTime": {
     "end_time": "2019-03-06T22:51:16.336405Z",
     "start_time": "2019-03-06T22:51:16.325316Z"
    }
   },
   "outputs": [],
   "source": [
    "feature_cols = list(set([\n",
    "'user_age', 'no_sessions_wk', 'last_locale', 'event_count0', 'user_time_wk', 'last_country', 'event_sum7', 'atr_mean20', 'last_region', 'last_city', 'atr_mean16', 'event_count45', 'event_mean5', 'atr_last1', 'atr_last5', 'no_of_buys', 'atr_mean19', 'event_mean7', 'atr_mean18', 'atr_mean1', 'atr_mean7', 'atr_last19', 'atr_last20', 'atr_mean8', 'atr_mean13', 'median_session_time', 'atr_mean4', 'atr_mean75', 'atr_max1', 'sum_buys', 'total_session_time_wk', 'event_count14', 'event_last7', 'atr_mean5', 'atr_mean15', 'atr_mean66', 'total_session_time', 'atr_max18', 'atr_mean6', 'atr_last7', 'event_count98', 'atr_count0', 'atr_last67', 'event_count1', 'popular_buy', 'atr_count67', 'atr_mean67', 'atr_mean14', 'event_count42', 'atr_mean21', 'no_city', 'mean_session_time', 'event_count7', 'event_count97', 'atr_mean0', 'atr_max13', 'atr_max15', 'atr_max16', 'mean_session_time_wk', 'median_session_time_wk', 'event_count5', 'atr_last16', 'atr_max19', 'no_sessions', 'event_count41', 'atr_last13', 'atr_mean3', 'atr_mean17', 'atr_last8', 'atr_max9', 'event_count4', 'atr_max8', 'atr_max66', 'event_sum11', 'atr_max7', 'atr_mean9', 'region_count', 'atr_count96', 'event_count6', 'event_last5', 'atr_last15', 'event_count40', 'atr_max75', 'atr_last66', 'event_count3', 'event_mean11', 'atr_count78', 'atr_last14', 'atr_max3', 'event_count44', 'event_sum5', 'atr_count66', 'atr_last3', 'atr_last6', 'atr_last18', 'atr_last75', 'atr_max5', 'atr_max6', 'event_count11', 'atr_count7', 'atr_last4', 'atr_last9', 'atr_max4', 'atr_max0', 'atr_max14', 'atr_max20', 'user_age', 'no_sessions_wk', 'last_country', 'atr_mean20', 'event_count0', 'last_locale', 'user_time_wk', 'last_region', 'last_city', 'event_sum7', 'event_mean7', 'atr_mean16', 'event_mean5', 'event_count1', 'event_count45', 'atr_last1', 'median_session_time', 'atr_mean1', 'atr_last7', 'no_of_buys', 'atr_mean19', 'event_count14', 'atr_mean7', 'total_session_time', 'atr_mean66', 'atr_mean18', 'atr_last5', 'total_session_time_wk', 'atr_mean8', 'atr_count67', 'atr_mean0', 'atr_mean13', 'atr_mean21', 'event_last7', 'atr_max1', 'atr_mean6', 'atr_last19', 'popular_buy', 'atr_mean17', 'atr_mean67', 'atr_mean15', 'atr_last20', 'atr_mean4', 'atr_mean75', 'event_count97', 'event_count42', 'median_session_time_wk', 'atr_mean5', 'mean_session_time', 'event_last5', 'no_city', 'atr_max18', 'mean_session_time_wk', 'atr_mean14', 'atr_max13', 'event_count98', 'sum_buys', 'atr_count7', 'region_count', 'atr_mean3', 'atr_last15', 'atr_mean9', 'atr_last13', 'atr_last67', 'event_count41', 'atr_max16', 'no_sessions', 'atr_last8', 'atr_last18', 'atr_last16', 'atr_max15', 'atr_max19', 'event_count7', 'event_count3', 'event_count5', 'atr_count0', 'event_count44', 'event_count6', 'atr_max7', 'event_count40', 'atr_count96', 'atr_max6', 'event_count4', 'atr_last6', 'atr_last9', 'atr_last66', 'atr_max5', 'atr_max8', 'atr_max66', 'event_sum5', 'atr_mean11', 'atr_max4', 'atr_max9', 'event_sum11', 'atr_last75', 'atr_max75', 'event_count9', 'atr_count5', 'atr_last4', 'atr_count78', 'atr_last14', 'atr_max3', 'atr_count66']))"
   ]
  },
  {
   "cell_type": "code",
   "execution_count": 430,
   "metadata": {
    "ExecuteTime": {
     "end_time": "2019-03-06T22:51:21.010256Z",
     "start_time": "2019-03-06T22:51:18.324952Z"
    }
   },
   "outputs": [],
   "source": [
    "# train = np.hstack((df[feature_cols].values, pd.get_dummies(df['last_country'])))\n",
    "\n",
    "X_train, X_test, y_train, y_test = train_test_split(train[feature_cols].values,\n",
    "                                                    train[['y1']],\n",
    "                                                    test_size=0.1)"
   ]
  },
  {
   "cell_type": "code",
   "execution_count": 431,
   "metadata": {
    "ExecuteTime": {
     "end_time": "2019-03-06T22:51:21.062062Z",
     "start_time": "2019-03-06T22:51:21.012916Z"
    }
   },
   "outputs": [],
   "source": [
    "eval_set = [(X_train , y_train), (X_test, y_test)]"
   ]
  },
  {
   "cell_type": "code",
   "execution_count": 432,
   "metadata": {
    "ExecuteTime": {
     "end_time": "2019-03-06T22:51:21.068945Z",
     "start_time": "2019-03-06T22:51:21.064325Z"
    }
   },
   "outputs": [
    {
     "data": {
      "text/plain": [
       "(556982, 1)"
      ]
     },
     "execution_count": 432,
     "metadata": {},
     "output_type": "execute_result"
    }
   ],
   "source": [
    "y_train.shape"
   ]
  },
  {
   "cell_type": "code",
   "execution_count": 433,
   "metadata": {
    "ExecuteTime": {
     "end_time": "2019-03-06T22:51:21.079242Z",
     "start_time": "2019-03-06T22:51:21.071772Z"
    }
   },
   "outputs": [
    {
     "data": {
      "text/plain": [
       "y1    4268\n",
       "dtype: int64"
      ]
     },
     "execution_count": 433,
     "metadata": {},
     "output_type": "execute_result"
    }
   ],
   "source": [
    "y_train.sum()"
   ]
  },
  {
   "cell_type": "code",
   "execution_count": 434,
   "metadata": {
    "ExecuteTime": {
     "end_time": "2019-03-06T22:51:21.085164Z",
     "start_time": "2019-03-06T22:51:21.081431Z"
    }
   },
   "outputs": [
    {
     "data": {
      "text/plain": [
       "75.37231142078159"
      ]
     },
     "execution_count": 434,
     "metadata": {},
     "output_type": "execute_result"
    }
   ],
   "source": [
    "(252105 - 3301) / 3301"
   ]
  },
  {
   "cell_type": "code",
   "execution_count": 435,
   "metadata": {
    "ExecuteTime": {
     "end_time": "2019-03-06T22:51:21.089870Z",
     "start_time": "2019-03-06T22:51:21.086934Z"
    }
   },
   "outputs": [],
   "source": [
    "params = {\n",
    "    'max_depth': 8,\n",
    "    'n_jobs': -1,\n",
    "    'learning_rate': 0.12,\n",
    "    'n_estimators': 200,\n",
    "    'min_child_weight': 10\n",
    "}"
   ]
  },
  {
   "cell_type": "code",
   "execution_count": 436,
   "metadata": {
    "ExecuteTime": {
     "end_time": "2019-03-06T22:51:21.094611Z",
     "start_time": "2019-03-06T22:51:21.091418Z"
    }
   },
   "outputs": [],
   "source": [
    "xg_model1 = XGBClassifier(**params)"
   ]
  },
  {
   "cell_type": "code",
   "execution_count": 437,
   "metadata": {
    "ExecuteTime": {
     "end_time": "2019-03-06T22:51:58.232122Z",
     "start_time": "2019-03-06T22:51:21.411986Z"
    },
    "scrolled": false
   },
   "outputs": [
    {
     "name": "stdout",
     "output_type": "stream",
     "text": [
      "[0]\tvalidation_0-auc:0.942531\tvalidation_1-auc:0.94038\n",
      "Multiple eval metrics have been passed: 'validation_1-auc' will be used for early stopping.\n",
      "\n",
      "Will train until validation_1-auc hasn't improved in 5 rounds.\n",
      "[1]\tvalidation_0-auc:0.946463\tvalidation_1-auc:0.941409\n",
      "[2]\tvalidation_0-auc:0.95785\tvalidation_1-auc:0.950019\n",
      "[3]\tvalidation_0-auc:0.958384\tvalidation_1-auc:0.950253\n",
      "[4]\tvalidation_0-auc:0.958739\tvalidation_1-auc:0.950333\n",
      "[5]\tvalidation_0-auc:0.959886\tvalidation_1-auc:0.950246\n",
      "[6]\tvalidation_0-auc:0.960051\tvalidation_1-auc:0.950253\n",
      "[7]\tvalidation_0-auc:0.96021\tvalidation_1-auc:0.950191\n",
      "[8]\tvalidation_0-auc:0.960387\tvalidation_1-auc:0.950349\n",
      "[9]\tvalidation_0-auc:0.960541\tvalidation_1-auc:0.95039\n",
      "[10]\tvalidation_0-auc:0.960742\tvalidation_1-auc:0.950464\n",
      "[11]\tvalidation_0-auc:0.962672\tvalidation_1-auc:0.953547\n",
      "[12]\tvalidation_0-auc:0.962963\tvalidation_1-auc:0.95403\n",
      "[13]\tvalidation_0-auc:0.974493\tvalidation_1-auc:0.967068\n",
      "[14]\tvalidation_0-auc:0.974946\tvalidation_1-auc:0.967303\n",
      "[15]\tvalidation_0-auc:0.975325\tvalidation_1-auc:0.967449\n",
      "[16]\tvalidation_0-auc:0.975687\tvalidation_1-auc:0.967585\n",
      "[17]\tvalidation_0-auc:0.975943\tvalidation_1-auc:0.967583\n",
      "[18]\tvalidation_0-auc:0.978186\tvalidation_1-auc:0.96982\n",
      "[19]\tvalidation_0-auc:0.97947\tvalidation_1-auc:0.972226\n",
      "[20]\tvalidation_0-auc:0.979745\tvalidation_1-auc:0.97249\n",
      "[21]\tvalidation_0-auc:0.980005\tvalidation_1-auc:0.97269\n",
      "[22]\tvalidation_0-auc:0.980497\tvalidation_1-auc:0.972292\n",
      "[23]\tvalidation_0-auc:0.980733\tvalidation_1-auc:0.972557\n",
      "[24]\tvalidation_0-auc:0.980959\tvalidation_1-auc:0.972482\n",
      "[25]\tvalidation_0-auc:0.981257\tvalidation_1-auc:0.972743\n",
      "[26]\tvalidation_0-auc:0.981454\tvalidation_1-auc:0.97284\n",
      "[27]\tvalidation_0-auc:0.981575\tvalidation_1-auc:0.973017\n",
      "[28]\tvalidation_0-auc:0.98181\tvalidation_1-auc:0.973145\n",
      "[29]\tvalidation_0-auc:0.982113\tvalidation_1-auc:0.973217\n",
      "[30]\tvalidation_0-auc:0.982293\tvalidation_1-auc:0.973251\n",
      "[31]\tvalidation_0-auc:0.982496\tvalidation_1-auc:0.973266\n",
      "[32]\tvalidation_0-auc:0.982605\tvalidation_1-auc:0.973679\n",
      "[33]\tvalidation_0-auc:0.98277\tvalidation_1-auc:0.973562\n",
      "[34]\tvalidation_0-auc:0.982907\tvalidation_1-auc:0.973772\n",
      "[35]\tvalidation_0-auc:0.983124\tvalidation_1-auc:0.973611\n",
      "[36]\tvalidation_0-auc:0.983259\tvalidation_1-auc:0.973582\n",
      "[37]\tvalidation_0-auc:0.983477\tvalidation_1-auc:0.973558\n",
      "[38]\tvalidation_0-auc:0.983657\tvalidation_1-auc:0.973817\n",
      "[39]\tvalidation_0-auc:0.983891\tvalidation_1-auc:0.973791\n",
      "[40]\tvalidation_0-auc:0.984104\tvalidation_1-auc:0.973919\n",
      "[41]\tvalidation_0-auc:0.984278\tvalidation_1-auc:0.973924\n",
      "[42]\tvalidation_0-auc:0.98453\tvalidation_1-auc:0.974008\n",
      "[43]\tvalidation_0-auc:0.984768\tvalidation_1-auc:0.974141\n",
      "[44]\tvalidation_0-auc:0.984961\tvalidation_1-auc:0.974287\n",
      "[45]\tvalidation_0-auc:0.985081\tvalidation_1-auc:0.974306\n",
      "[46]\tvalidation_0-auc:0.985248\tvalidation_1-auc:0.974365\n",
      "[47]\tvalidation_0-auc:0.985327\tvalidation_1-auc:0.974327\n",
      "[48]\tvalidation_0-auc:0.985431\tvalidation_1-auc:0.974444\n",
      "[49]\tvalidation_0-auc:0.985584\tvalidation_1-auc:0.974393\n",
      "[50]\tvalidation_0-auc:0.985693\tvalidation_1-auc:0.974503\n",
      "[51]\tvalidation_0-auc:0.985791\tvalidation_1-auc:0.974456\n",
      "[52]\tvalidation_0-auc:0.985878\tvalidation_1-auc:0.974575\n",
      "[53]\tvalidation_0-auc:0.986064\tvalidation_1-auc:0.974593\n",
      "[54]\tvalidation_0-auc:0.98615\tvalidation_1-auc:0.974712\n",
      "[55]\tvalidation_0-auc:0.986209\tvalidation_1-auc:0.974872\n",
      "[56]\tvalidation_0-auc:0.986464\tvalidation_1-auc:0.974757\n",
      "[57]\tvalidation_0-auc:0.986557\tvalidation_1-auc:0.975345\n",
      "[58]\tvalidation_0-auc:0.986688\tvalidation_1-auc:0.975318\n",
      "[59]\tvalidation_0-auc:0.986835\tvalidation_1-auc:0.975244\n",
      "[60]\tvalidation_0-auc:0.986906\tvalidation_1-auc:0.975124\n",
      "[61]\tvalidation_0-auc:0.986997\tvalidation_1-auc:0.975226\n",
      "[62]\tvalidation_0-auc:0.987122\tvalidation_1-auc:0.975144\n",
      "Stopping. Best iteration:\n",
      "[57]\tvalidation_0-auc:0.986557\tvalidation_1-auc:0.975345\n",
      "\n"
     ]
    },
    {
     "data": {
      "text/plain": [
       "XGBClassifier(base_score=0.5, booster='gbtree', colsample_bylevel=1,\n",
       "       colsample_bytree=1, gamma=0, learning_rate=0.12, max_delta_step=0,\n",
       "       max_depth=8, min_child_weight=10, missing=None, n_estimators=200,\n",
       "       n_jobs=-1, nthread=None, objective='binary:logistic',\n",
       "       random_state=0, reg_alpha=0, reg_lambda=1, scale_pos_weight=1,\n",
       "       seed=None, silent=True, subsample=1)"
      ]
     },
     "execution_count": 437,
     "metadata": {},
     "output_type": "execute_result"
    }
   ],
   "source": [
    "xg_model1.fit(X_train, y_train, eval_metric='auc',\n",
    "              eval_set=eval_set, verbose=True,\n",
    "              early_stopping_rounds=5)"
   ]
  },
  {
   "cell_type": "code",
   "execution_count": 438,
   "metadata": {
    "ExecuteTime": {
     "end_time": "2019-03-06T22:51:58.242687Z",
     "start_time": "2019-03-06T22:51:58.238637Z"
    },
    "scrolled": true
   },
   "outputs": [],
   "source": [
    "# print_feature_importance(xg_model1, feature_cols)"
   ]
  },
  {
   "cell_type": "code",
   "execution_count": 439,
   "metadata": {
    "ExecuteTime": {
     "end_time": "2019-03-06T22:52:01.059356Z",
     "start_time": "2019-03-06T22:51:58.247490Z"
    }
   },
   "outputs": [],
   "source": [
    "# train = np.hstack((df[feature_cols].values, pd.get_dummies(df['last_country'])))\n",
    "\n",
    "X_train, X_test, y_train, y_test = train_test_split(train[feature_cols].values,\n",
    "                                                    train[['y2']],\n",
    "                                                    test_size=0.1)"
   ]
  },
  {
   "cell_type": "code",
   "execution_count": 440,
   "metadata": {
    "ExecuteTime": {
     "end_time": "2019-03-06T22:52:01.084154Z",
     "start_time": "2019-03-06T22:52:01.062138Z"
    }
   },
   "outputs": [],
   "source": [
    "eval_set = [(X_train , y_train), (X_test, y_test)]"
   ]
  },
  {
   "cell_type": "code",
   "execution_count": 441,
   "metadata": {
    "ExecuteTime": {
     "end_time": "2019-03-06T22:52:01.088910Z",
     "start_time": "2019-03-06T22:52:01.086247Z"
    }
   },
   "outputs": [],
   "source": [
    "xg_model2 = XGBClassifier(**params)"
   ]
  },
  {
   "cell_type": "code",
   "execution_count": 442,
   "metadata": {
    "ExecuteTime": {
     "end_time": "2019-03-06T22:52:16.894900Z",
     "start_time": "2019-03-06T22:52:01.090370Z"
    },
    "scrolled": false
   },
   "outputs": [
    {
     "name": "stdout",
     "output_type": "stream",
     "text": [
      "[0]\tvalidation_0-auc:0.943118\tvalidation_1-auc:0.946956\n",
      "Multiple eval metrics have been passed: 'validation_1-auc' will be used for early stopping.\n",
      "\n",
      "Will train until validation_1-auc hasn't improved in 5 rounds.\n",
      "[1]\tvalidation_0-auc:0.949301\tvalidation_1-auc:0.953128\n",
      "[2]\tvalidation_0-auc:0.949836\tvalidation_1-auc:0.953359\n",
      "[3]\tvalidation_0-auc:0.950027\tvalidation_1-auc:0.953412\n",
      "[4]\tvalidation_0-auc:0.950095\tvalidation_1-auc:0.953481\n",
      "[5]\tvalidation_0-auc:0.964368\tvalidation_1-auc:0.965731\n",
      "[6]\tvalidation_0-auc:0.964512\tvalidation_1-auc:0.965821\n",
      "[7]\tvalidation_0-auc:0.965984\tvalidation_1-auc:0.967711\n",
      "[8]\tvalidation_0-auc:0.966463\tvalidation_1-auc:0.96811\n",
      "[9]\tvalidation_0-auc:0.966799\tvalidation_1-auc:0.968218\n",
      "[10]\tvalidation_0-auc:0.969249\tvalidation_1-auc:0.969612\n",
      "[11]\tvalidation_0-auc:0.969649\tvalidation_1-auc:0.969779\n",
      "[12]\tvalidation_0-auc:0.97011\tvalidation_1-auc:0.969828\n",
      "[13]\tvalidation_0-auc:0.970439\tvalidation_1-auc:0.969941\n",
      "[14]\tvalidation_0-auc:0.970692\tvalidation_1-auc:0.970016\n",
      "[15]\tvalidation_0-auc:0.970904\tvalidation_1-auc:0.970046\n",
      "[16]\tvalidation_0-auc:0.971043\tvalidation_1-auc:0.970129\n",
      "[17]\tvalidation_0-auc:0.972065\tvalidation_1-auc:0.970464\n",
      "[18]\tvalidation_0-auc:0.972271\tvalidation_1-auc:0.970285\n",
      "[19]\tvalidation_0-auc:0.972461\tvalidation_1-auc:0.970132\n",
      "[20]\tvalidation_0-auc:0.972791\tvalidation_1-auc:0.970003\n",
      "[21]\tvalidation_0-auc:0.972998\tvalidation_1-auc:0.970285\n",
      "[22]\tvalidation_0-auc:0.97342\tvalidation_1-auc:0.970127\n",
      "Stopping. Best iteration:\n",
      "[17]\tvalidation_0-auc:0.972065\tvalidation_1-auc:0.970464\n",
      "\n"
     ]
    },
    {
     "data": {
      "text/plain": [
       "XGBClassifier(base_score=0.5, booster='gbtree', colsample_bylevel=1,\n",
       "       colsample_bytree=1, gamma=0, learning_rate=0.12, max_delta_step=0,\n",
       "       max_depth=8, min_child_weight=10, missing=None, n_estimators=200,\n",
       "       n_jobs=-1, nthread=None, objective='binary:logistic',\n",
       "       random_state=0, reg_alpha=0, reg_lambda=1, scale_pos_weight=1,\n",
       "       seed=None, silent=True, subsample=1)"
      ]
     },
     "execution_count": 442,
     "metadata": {},
     "output_type": "execute_result"
    }
   ],
   "source": [
    "xg_model2.fit(X_train, y_train, eval_metric='auc',\n",
    "              eval_set=eval_set, verbose=True,\n",
    "              early_stopping_rounds=5)"
   ]
  },
  {
   "cell_type": "code",
   "execution_count": 443,
   "metadata": {
    "ExecuteTime": {
     "end_time": "2019-03-06T22:52:16.899520Z",
     "start_time": "2019-03-06T22:52:16.896874Z"
    },
    "scrolled": false
   },
   "outputs": [],
   "source": [
    "# print_feature_importance(xg_model2, feature_cols)"
   ]
  },
  {
   "cell_type": "code",
   "execution_count": 444,
   "metadata": {
    "ExecuteTime": {
     "end_time": "2019-03-06T22:52:20.580473Z",
     "start_time": "2019-03-06T22:52:20.577762Z"
    }
   },
   "outputs": [],
   "source": [
    "import pickle"
   ]
  },
  {
   "cell_type": "code",
   "execution_count": 445,
   "metadata": {
    "ExecuteTime": {
     "end_time": "2019-03-06T22:52:20.961977Z",
     "start_time": "2019-03-06T22:52:20.939074Z"
    }
   },
   "outputs": [],
   "source": [
    "pickle.dump(xg_model1, open('xg_2mnths1.dat', 'wb'))\n",
    "pickle.dump(xg_model2, open('xg_2mnths2.dat', 'wb'))"
   ]
  },
  {
   "cell_type": "code",
   "execution_count": 446,
   "metadata": {
    "ExecuteTime": {
     "end_time": "2019-03-06T22:52:21.843530Z",
     "start_time": "2019-03-06T22:52:21.376058Z"
    }
   },
   "outputs": [
    {
     "data": {
      "text/plain": [
       "67"
      ]
     },
     "execution_count": 446,
     "metadata": {},
     "output_type": "execute_result"
    }
   ],
   "source": [
    "gc.collect()"
   ]
  },
  {
   "cell_type": "markdown",
   "metadata": {},
   "source": [
    "# Prediction"
   ]
  },
  {
   "cell_type": "code",
   "execution_count": 447,
   "metadata": {
    "ExecuteTime": {
     "end_time": "2019-03-06T22:52:27.509155Z",
     "start_time": "2019-03-06T22:52:25.425431Z"
    }
   },
   "outputs": [],
   "source": [
    "y1 = xg_model1.predict_proba(test[feature_cols].values)"
   ]
  },
  {
   "cell_type": "code",
   "execution_count": 448,
   "metadata": {
    "ExecuteTime": {
     "end_time": "2019-03-06T22:52:29.267302Z",
     "start_time": "2019-03-06T22:52:27.634762Z"
    }
   },
   "outputs": [],
   "source": [
    "y2 = xg_model2.predict_proba(test[feature_cols].values)"
   ]
  },
  {
   "cell_type": "code",
   "execution_count": 449,
   "metadata": {
    "ExecuteTime": {
     "end_time": "2019-03-06T22:52:29.749188Z",
     "start_time": "2019-03-06T22:52:29.743601Z"
    }
   },
   "outputs": [],
   "source": [
    "test['y1'] = y1[:,1]\n",
    "test['y2'] = y2[:,1]"
   ]
  },
  {
   "cell_type": "code",
   "execution_count": 450,
   "metadata": {
    "ExecuteTime": {
     "end_time": "2019-03-06T22:52:30.654211Z",
     "start_time": "2019-03-06T22:52:30.626619Z"
    }
   },
   "outputs": [],
   "source": [
    "submission = test[['user_id_hash', 'y1', 'y2']]"
   ]
  },
  {
   "cell_type": "code",
   "execution_count": 451,
   "metadata": {
    "ExecuteTime": {
     "end_time": "2019-03-06T22:52:32.218515Z",
     "start_time": "2019-03-06T22:52:32.209412Z"
    }
   },
   "outputs": [
    {
     "data": {
      "text/html": [
       "<div>\n",
       "<style scoped>\n",
       "    .dataframe tbody tr th:only-of-type {\n",
       "        vertical-align: middle;\n",
       "    }\n",
       "\n",
       "    .dataframe tbody tr th {\n",
       "        vertical-align: top;\n",
       "    }\n",
       "\n",
       "    .dataframe thead th {\n",
       "        text-align: right;\n",
       "    }\n",
       "</style>\n",
       "<table border=\"1\" class=\"dataframe\">\n",
       "  <thead>\n",
       "    <tr style=\"text-align: right;\">\n",
       "      <th></th>\n",
       "      <th>user_id_hash</th>\n",
       "      <th>y1</th>\n",
       "      <th>y2</th>\n",
       "    </tr>\n",
       "  </thead>\n",
       "  <tbody>\n",
       "    <tr>\n",
       "      <th>0</th>\n",
       "      <td>00000db35682058bb7916cb90f85709f54c1a0f7a3b6de...</td>\n",
       "      <td>0.091478</td>\n",
       "      <td>0.177593</td>\n",
       "    </tr>\n",
       "    <tr>\n",
       "      <th>1</th>\n",
       "      <td>000059859ec188af6035870faf885c3038cedda05b3a54...</td>\n",
       "      <td>0.000671</td>\n",
       "      <td>0.057789</td>\n",
       "    </tr>\n",
       "    <tr>\n",
       "      <th>2</th>\n",
       "      <td>00006ad44c0d33a2a526caf75514643639b7b7070dfffd...</td>\n",
       "      <td>0.000489</td>\n",
       "      <td>0.055573</td>\n",
       "    </tr>\n",
       "    <tr>\n",
       "      <th>3</th>\n",
       "      <td>000081a7d841b0f953bdba6c185fd5cc335fd6015a30c3...</td>\n",
       "      <td>0.000487</td>\n",
       "      <td>0.055573</td>\n",
       "    </tr>\n",
       "    <tr>\n",
       "      <th>4</th>\n",
       "      <td>0000a464ad921c3288e73a3a788b5f113cabf84251a74b...</td>\n",
       "      <td>0.000487</td>\n",
       "      <td>0.055573</td>\n",
       "    </tr>\n",
       "  </tbody>\n",
       "</table>\n",
       "</div>"
      ],
      "text/plain": [
       "                                        user_id_hash        y1        y2\n",
       "0  00000db35682058bb7916cb90f85709f54c1a0f7a3b6de...  0.091478  0.177593\n",
       "1  000059859ec188af6035870faf885c3038cedda05b3a54...  0.000671  0.057789\n",
       "2  00006ad44c0d33a2a526caf75514643639b7b7070dfffd...  0.000489  0.055573\n",
       "3  000081a7d841b0f953bdba6c185fd5cc335fd6015a30c3...  0.000487  0.055573\n",
       "4  0000a464ad921c3288e73a3a788b5f113cabf84251a74b...  0.000487  0.055573"
      ]
     },
     "execution_count": 451,
     "metadata": {},
     "output_type": "execute_result"
    }
   ],
   "source": [
    "submission.head()"
   ]
  },
  {
   "cell_type": "code",
   "execution_count": 452,
   "metadata": {
    "ExecuteTime": {
     "end_time": "2019-03-06T22:52:33.837508Z",
     "start_time": "2019-03-06T22:52:32.979769Z"
    }
   },
   "outputs": [],
   "source": [
    "template = pd.read_csv('../../sample_submission_2.csv')"
   ]
  },
  {
   "cell_type": "code",
   "execution_count": 453,
   "metadata": {
    "ExecuteTime": {
     "end_time": "2019-03-06T22:52:33.957651Z",
     "start_time": "2019-03-06T22:52:33.840317Z"
    }
   },
   "outputs": [],
   "source": [
    "req_uids = set(template.user_id_hash)"
   ]
  },
  {
   "cell_type": "code",
   "execution_count": 454,
   "metadata": {
    "ExecuteTime": {
     "end_time": "2019-03-06T22:52:35.806786Z",
     "start_time": "2019-03-06T22:52:35.802112Z"
    }
   },
   "outputs": [
    {
     "data": {
      "text/plain": [
       "312568"
      ]
     },
     "execution_count": 454,
     "metadata": {},
     "output_type": "execute_result"
    }
   ],
   "source": [
    "len(req_uids)"
   ]
  },
  {
   "cell_type": "code",
   "execution_count": 455,
   "metadata": {
    "ExecuteTime": {
     "end_time": "2019-03-06T22:52:37.352210Z",
     "start_time": "2019-03-06T22:52:37.120060Z"
    }
   },
   "outputs": [
    {
     "data": {
      "text/plain": [
       "(529655,)"
      ]
     },
     "execution_count": 455,
     "metadata": {},
     "output_type": "execute_result"
    }
   ],
   "source": [
    "submission.user_id_hash.unique().shape"
   ]
  },
  {
   "cell_type": "code",
   "execution_count": 456,
   "metadata": {
    "ExecuteTime": {
     "end_time": "2019-03-06T22:52:40.722008Z",
     "start_time": "2019-03-06T22:52:40.279079Z"
    }
   },
   "outputs": [
    {
     "data": {
      "text/plain": [
       "266924"
      ]
     },
     "execution_count": 456,
     "metadata": {},
     "output_type": "execute_result"
    }
   ],
   "source": [
    "submission.user_id_hash.isin(req_uids).sum()"
   ]
  },
  {
   "cell_type": "code",
   "execution_count": 457,
   "metadata": {
    "ExecuteTime": {
     "end_time": "2019-03-06T22:52:43.081876Z",
     "start_time": "2019-03-06T22:52:42.653263Z"
    }
   },
   "outputs": [],
   "source": [
    "submission = submission[submission.user_id_hash.isin(req_uids)]"
   ]
  },
  {
   "cell_type": "code",
   "execution_count": 458,
   "metadata": {
    "ExecuteTime": {
     "end_time": "2019-03-06T22:52:43.597154Z",
     "start_time": "2019-03-06T22:52:43.593044Z"
    }
   },
   "outputs": [
    {
     "data": {
      "text/plain": [
       "(266924, 3)"
      ]
     },
     "execution_count": 458,
     "metadata": {},
     "output_type": "execute_result"
    }
   ],
   "source": [
    "submission.shape"
   ]
  },
  {
   "cell_type": "code",
   "execution_count": 459,
   "metadata": {
    "ExecuteTime": {
     "end_time": "2019-03-06T22:52:44.801894Z",
     "start_time": "2019-03-06T22:52:44.353484Z"
    }
   },
   "outputs": [],
   "source": [
    "left_out = list(set(template.user_id_hash.unique()) - set(submission.user_id_hash.unique()))"
   ]
  },
  {
   "cell_type": "code",
   "execution_count": 460,
   "metadata": {
    "ExecuteTime": {
     "end_time": "2019-03-06T22:52:45.880959Z",
     "start_time": "2019-03-06T22:52:45.876633Z"
    }
   },
   "outputs": [
    {
     "data": {
      "text/plain": [
       "45644"
      ]
     },
     "execution_count": 460,
     "metadata": {},
     "output_type": "execute_result"
    }
   ],
   "source": [
    "len(left_out)"
   ]
  },
  {
   "cell_type": "code",
   "execution_count": 461,
   "metadata": {
    "ExecuteTime": {
     "end_time": "2019-03-06T22:52:47.171167Z",
     "start_time": "2019-03-06T22:52:47.154362Z"
    }
   },
   "outputs": [],
   "source": [
    "temp = pd.DataFrame(data={'user_id_hash': left_out,\n",
    "                          'user_purchase_binary_7_days': np.zeros(len(left_out)),\n",
    "                          'user_purchase_binary_14_days': np.zeros(len(left_out))})"
   ]
  },
  {
   "cell_type": "code",
   "execution_count": 462,
   "metadata": {
    "ExecuteTime": {
     "end_time": "2019-03-06T22:52:47.858336Z",
     "start_time": "2019-03-06T22:52:47.854056Z"
    }
   },
   "outputs": [
    {
     "data": {
      "text/plain": [
       "Index(['user_id_hash', 'user_purchase_binary_7_days',\n",
       "       'user_purchase_binary_14_days'],\n",
       "      dtype='object')"
      ]
     },
     "execution_count": 462,
     "metadata": {},
     "output_type": "execute_result"
    }
   ],
   "source": [
    "temp.columns"
   ]
  },
  {
   "cell_type": "code",
   "execution_count": 463,
   "metadata": {
    "ExecuteTime": {
     "end_time": "2019-03-06T22:52:52.308803Z",
     "start_time": "2019-03-06T22:52:52.305793Z"
    }
   },
   "outputs": [],
   "source": [
    "submission.columns = temp.columns"
   ]
  },
  {
   "cell_type": "code",
   "execution_count": 464,
   "metadata": {
    "ExecuteTime": {
     "end_time": "2019-03-06T22:52:54.256004Z",
     "start_time": "2019-03-06T22:52:54.221532Z"
    }
   },
   "outputs": [],
   "source": [
    "submission = pd.concat([submission, temp])"
   ]
  },
  {
   "cell_type": "code",
   "execution_count": 465,
   "metadata": {
    "ExecuteTime": {
     "end_time": "2019-03-06T22:52:55.945140Z",
     "start_time": "2019-03-06T22:52:55.940944Z"
    }
   },
   "outputs": [
    {
     "data": {
      "text/plain": [
       "(312568, 3)"
      ]
     },
     "execution_count": 465,
     "metadata": {},
     "output_type": "execute_result"
    }
   ],
   "source": [
    "submission.shape"
   ]
  },
  {
   "cell_type": "code",
   "execution_count": 466,
   "metadata": {
    "ExecuteTime": {
     "end_time": "2019-03-06T22:52:56.669845Z",
     "start_time": "2019-03-06T22:52:56.487057Z"
    }
   },
   "outputs": [
    {
     "data": {
      "text/plain": [
       "(312568,)"
      ]
     },
     "execution_count": 466,
     "metadata": {},
     "output_type": "execute_result"
    }
   ],
   "source": [
    "submission.user_id_hash.unique().shape"
   ]
  },
  {
   "cell_type": "code",
   "execution_count": 467,
   "metadata": {
    "ExecuteTime": {
     "end_time": "2019-03-06T22:52:57.927649Z",
     "start_time": "2019-03-06T22:52:57.918316Z"
    }
   },
   "outputs": [
    {
     "data": {
      "text/html": [
       "<div>\n",
       "<style scoped>\n",
       "    .dataframe tbody tr th:only-of-type {\n",
       "        vertical-align: middle;\n",
       "    }\n",
       "\n",
       "    .dataframe tbody tr th {\n",
       "        vertical-align: top;\n",
       "    }\n",
       "\n",
       "    .dataframe thead th {\n",
       "        text-align: right;\n",
       "    }\n",
       "</style>\n",
       "<table border=\"1\" class=\"dataframe\">\n",
       "  <thead>\n",
       "    <tr style=\"text-align: right;\">\n",
       "      <th></th>\n",
       "      <th>user_id_hash</th>\n",
       "      <th>user_purchase_binary_7_days</th>\n",
       "      <th>user_purchase_binary_14_days</th>\n",
       "    </tr>\n",
       "  </thead>\n",
       "  <tbody>\n",
       "    <tr>\n",
       "      <th>0</th>\n",
       "      <td>00000db35682058bb7916cb90f85709f54c1a0f7a3b6de...</td>\n",
       "      <td>0.091478</td>\n",
       "      <td>0.177593</td>\n",
       "    </tr>\n",
       "    <tr>\n",
       "      <th>1</th>\n",
       "      <td>000059859ec188af6035870faf885c3038cedda05b3a54...</td>\n",
       "      <td>0.000671</td>\n",
       "      <td>0.057789</td>\n",
       "    </tr>\n",
       "    <tr>\n",
       "      <th>3</th>\n",
       "      <td>000081a7d841b0f953bdba6c185fd5cc335fd6015a30c3...</td>\n",
       "      <td>0.000487</td>\n",
       "      <td>0.055573</td>\n",
       "    </tr>\n",
       "    <tr>\n",
       "      <th>5</th>\n",
       "      <td>0000bc4e8bfc829d327fa69bdc426dd8a789c52550ed87...</td>\n",
       "      <td>0.000550</td>\n",
       "      <td>0.055573</td>\n",
       "    </tr>\n",
       "    <tr>\n",
       "      <th>6</th>\n",
       "      <td>0000c5de50d243cc39f6ac4268d7511705585ca3f2a20f...</td>\n",
       "      <td>0.000820</td>\n",
       "      <td>0.057260</td>\n",
       "    </tr>\n",
       "  </tbody>\n",
       "</table>\n",
       "</div>"
      ],
      "text/plain": [
       "                                        user_id_hash  \\\n",
       "0  00000db35682058bb7916cb90f85709f54c1a0f7a3b6de...   \n",
       "1  000059859ec188af6035870faf885c3038cedda05b3a54...   \n",
       "3  000081a7d841b0f953bdba6c185fd5cc335fd6015a30c3...   \n",
       "5  0000bc4e8bfc829d327fa69bdc426dd8a789c52550ed87...   \n",
       "6  0000c5de50d243cc39f6ac4268d7511705585ca3f2a20f...   \n",
       "\n",
       "   user_purchase_binary_7_days  user_purchase_binary_14_days  \n",
       "0                     0.091478                      0.177593  \n",
       "1                     0.000671                      0.057789  \n",
       "3                     0.000487                      0.055573  \n",
       "5                     0.000550                      0.055573  \n",
       "6                     0.000820                      0.057260  "
      ]
     },
     "execution_count": 467,
     "metadata": {},
     "output_type": "execute_result"
    }
   ],
   "source": [
    "submission.head()"
   ]
  },
  {
   "cell_type": "code",
   "execution_count": 468,
   "metadata": {
    "ExecuteTime": {
     "end_time": "2019-03-06T22:53:03.206357Z",
     "start_time": "2019-03-06T22:53:01.687450Z"
    }
   },
   "outputs": [],
   "source": [
    "submission.to_csv('../final2_sub.csv', index=False, float_format='%.2f')"
   ]
  },
  {
   "cell_type": "code",
   "execution_count": null,
   "metadata": {},
   "outputs": [],
   "source": []
  }
 ],
 "metadata": {
  "kernelspec": {
   "display_name": "Python 3",
   "language": "python",
   "name": "python3"
  },
  "language_info": {
   "codemirror_mode": {
    "name": "ipython",
    "version": 3
   },
   "file_extension": ".py",
   "mimetype": "text/x-python",
   "name": "python",
   "nbconvert_exporter": "python",
   "pygments_lexer": "ipython3",
   "version": "3.7.1"
  },
  "toc": {
   "base_numbering": 1,
   "nav_menu": {},
   "number_sections": true,
   "sideBar": true,
   "skip_h1_title": false,
   "title_cell": "Table of Contents",
   "title_sidebar": "Contents",
   "toc_cell": false,
   "toc_position": {},
   "toc_section_display": true,
   "toc_window_display": false
  }
 },
 "nbformat": 4,
 "nbformat_minor": 2
}
