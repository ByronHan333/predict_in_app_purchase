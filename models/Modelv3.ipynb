{
 "cells": [
  {
   "cell_type": "code",
   "execution_count": 1,
   "metadata": {
    "ExecuteTime": {
     "end_time": "2019-02-26T03:58:54.784229Z",
     "start_time": "2019-02-26T03:58:54.525912Z"
    }
   },
   "outputs": [],
   "source": [
    "import pandas as pd"
   ]
  },
  {
   "cell_type": "code",
   "execution_count": 2,
   "metadata": {
    "ExecuteTime": {
     "end_time": "2019-02-26T03:59:20.365646Z",
     "start_time": "2019-02-26T03:58:55.971230Z"
    }
   },
   "outputs": [],
   "source": [
    "events = pd.read_pickle('../events_agg.pkl')\n",
    "session = pd.read_pickle('../session_agg.pkl')\n",
    "atr = pd.read_pickle('../attributes_agg.pkl')\n",
    "user_date = pd.read_pickle('../user_date.pkl')"
   ]
  },
  {
   "cell_type": "code",
   "execution_count": 3,
   "metadata": {
    "ExecuteTime": {
     "end_time": "2019-02-26T03:59:20.371427Z",
     "start_time": "2019-02-26T03:59:20.368754Z"
    }
   },
   "outputs": [],
   "source": [
    "df = session"
   ]
  },
  {
   "cell_type": "code",
   "execution_count": 4,
   "metadata": {
    "ExecuteTime": {
     "end_time": "2019-02-26T04:00:03.403911Z",
     "start_time": "2019-02-26T03:59:20.373302Z"
    }
   },
   "outputs": [],
   "source": [
    "user_date = user_date.groupby('user_id_hash').user_created_timestamp.max()"
   ]
  },
  {
   "cell_type": "code",
   "execution_count": 5,
   "metadata": {
    "ExecuteTime": {
     "end_time": "2019-02-26T04:00:03.514757Z",
     "start_time": "2019-02-26T04:00:03.407488Z"
    }
   },
   "outputs": [],
   "source": [
    "user_date = user_date.to_frame()"
   ]
  },
  {
   "cell_type": "code",
   "execution_count": 6,
   "metadata": {
    "ExecuteTime": {
     "end_time": "2019-02-26T04:00:03.523314Z",
     "start_time": "2019-02-26T04:00:03.517757Z"
    }
   },
   "outputs": [],
   "source": [
    "user_date.reset_index(inplace=True)"
   ]
  },
  {
   "cell_type": "code",
   "execution_count": 7,
   "metadata": {
    "ExecuteTime": {
     "end_time": "2019-02-26T04:00:06.865130Z",
     "start_time": "2019-02-26T04:00:03.525529Z"
    }
   },
   "outputs": [],
   "source": [
    "df = df.merge(user_date, on=['user_id_hash'], how='left')"
   ]
  },
  {
   "cell_type": "code",
   "execution_count": 8,
   "metadata": {
    "ExecuteTime": {
     "end_time": "2019-02-26T04:00:06.890564Z",
     "start_time": "2019-02-26T04:00:06.867298Z"
    }
   },
   "outputs": [
    {
     "data": {
      "text/html": [
       "<div>\n",
       "<style scoped>\n",
       "    .dataframe tbody tr th:only-of-type {\n",
       "        vertical-align: middle;\n",
       "    }\n",
       "\n",
       "    .dataframe tbody tr th {\n",
       "        vertical-align: top;\n",
       "    }\n",
       "\n",
       "    .dataframe thead th {\n",
       "        text-align: right;\n",
       "    }\n",
       "</style>\n",
       "<table border=\"1\" class=\"dataframe\">\n",
       "  <thead>\n",
       "    <tr style=\"text-align: right;\">\n",
       "      <th></th>\n",
       "      <th>week_start</th>\n",
       "      <th>user_id_hash</th>\n",
       "      <th>no_city</th>\n",
       "      <th>city</th>\n",
       "      <th>is_user_first_session</th>\n",
       "      <th>country</th>\n",
       "      <th>country_count</th>\n",
       "      <th>region</th>\n",
       "      <th>region_count</th>\n",
       "      <th>locale</th>\n",
       "      <th>os_name</th>\n",
       "      <th>user_days</th>\n",
       "      <th>total_session_time</th>\n",
       "      <th>mean_session_time</th>\n",
       "      <th>median_session_time</th>\n",
       "      <th>user_created_timestamp</th>\n",
       "    </tr>\n",
       "  </thead>\n",
       "  <tbody>\n",
       "    <tr>\n",
       "      <th>0</th>\n",
       "      <td>2018-10-01</td>\n",
       "      <td>000062e9be78f3da274fec338e78f89d12000e781967f2...</td>\n",
       "      <td>5</td>\n",
       "      <td>campbell</td>\n",
       "      <td>True</td>\n",
       "      <td>US</td>\n",
       "      <td>1</td>\n",
       "      <td>ca</td>\n",
       "      <td>1</td>\n",
       "      <td>en_US</td>\n",
       "      <td>Android OS</td>\n",
       "      <td>1</td>\n",
       "      <td>4730609</td>\n",
       "      <td>946121.8</td>\n",
       "      <td>1176899.0</td>\n",
       "      <td>2018-10-07</td>\n",
       "    </tr>\n",
       "    <tr>\n",
       "      <th>1</th>\n",
       "      <td>2018-10-01</td>\n",
       "      <td>00026e5050a70ef12d421f75c6a5c80d0f62d37acab8bd...</td>\n",
       "      <td>2</td>\n",
       "      <td>douglasville</td>\n",
       "      <td>True</td>\n",
       "      <td>US</td>\n",
       "      <td>1</td>\n",
       "      <td>ga</td>\n",
       "      <td>1</td>\n",
       "      <td>en_US</td>\n",
       "      <td>Android OS</td>\n",
       "      <td>2</td>\n",
       "      <td>403432</td>\n",
       "      <td>201716.0</td>\n",
       "      <td>201716.0</td>\n",
       "      <td>2018-10-05</td>\n",
       "    </tr>\n",
       "    <tr>\n",
       "      <th>2</th>\n",
       "      <td>2018-10-01</td>\n",
       "      <td>0003f8bda56230a49445880e559b718e94ba37344494a7...</td>\n",
       "      <td>2</td>\n",
       "      <td>middlesboro</td>\n",
       "      <td>True</td>\n",
       "      <td>US</td>\n",
       "      <td>1</td>\n",
       "      <td>ky</td>\n",
       "      <td>1</td>\n",
       "      <td>en_US</td>\n",
       "      <td>Android OS</td>\n",
       "      <td>2</td>\n",
       "      <td>150138</td>\n",
       "      <td>75069.0</td>\n",
       "      <td>75069.0</td>\n",
       "      <td>2018-10-03</td>\n",
       "    </tr>\n",
       "    <tr>\n",
       "      <th>3</th>\n",
       "      <td>2018-10-01</td>\n",
       "      <td>000542d6fc6e9dcb83328d30503a7e022e5a6b4ea6357b...</td>\n",
       "      <td>1</td>\n",
       "      <td>omaha</td>\n",
       "      <td>True</td>\n",
       "      <td>US</td>\n",
       "      <td>1</td>\n",
       "      <td>ne</td>\n",
       "      <td>1</td>\n",
       "      <td>en_US</td>\n",
       "      <td>Android OS</td>\n",
       "      <td>1</td>\n",
       "      <td>0</td>\n",
       "      <td>0.0</td>\n",
       "      <td>0.0</td>\n",
       "      <td>2018-10-02</td>\n",
       "    </tr>\n",
       "    <tr>\n",
       "      <th>4</th>\n",
       "      <td>2018-10-01</td>\n",
       "      <td>00059c820dca1ccadfd45361c40f68b656df8a5212b993...</td>\n",
       "      <td>1</td>\n",
       "      <td>rio de janeiro</td>\n",
       "      <td>False</td>\n",
       "      <td>BR</td>\n",
       "      <td>1</td>\n",
       "      <td>rj</td>\n",
       "      <td>1</td>\n",
       "      <td>pt-BR_BR</td>\n",
       "      <td>iOS</td>\n",
       "      <td>1</td>\n",
       "      <td>123131</td>\n",
       "      <td>123131.0</td>\n",
       "      <td>123131.0</td>\n",
       "      <td>2018-10-01</td>\n",
       "    </tr>\n",
       "  </tbody>\n",
       "</table>\n",
       "</div>"
      ],
      "text/plain": [
       "  week_start                                       user_id_hash  no_city  \\\n",
       "0 2018-10-01  000062e9be78f3da274fec338e78f89d12000e781967f2...        5   \n",
       "1 2018-10-01  00026e5050a70ef12d421f75c6a5c80d0f62d37acab8bd...        2   \n",
       "2 2018-10-01  0003f8bda56230a49445880e559b718e94ba37344494a7...        2   \n",
       "3 2018-10-01  000542d6fc6e9dcb83328d30503a7e022e5a6b4ea6357b...        1   \n",
       "4 2018-10-01  00059c820dca1ccadfd45361c40f68b656df8a5212b993...        1   \n",
       "\n",
       "             city  is_user_first_session country  country_count region  \\\n",
       "0        campbell                   True      US              1     ca   \n",
       "1    douglasville                   True      US              1     ga   \n",
       "2     middlesboro                   True      US              1     ky   \n",
       "3           omaha                   True      US              1     ne   \n",
       "4  rio de janeiro                  False      BR              1     rj   \n",
       "\n",
       "   region_count    locale     os_name  user_days  total_session_time  \\\n",
       "0             1     en_US  Android OS          1             4730609   \n",
       "1             1     en_US  Android OS          2              403432   \n",
       "2             1     en_US  Android OS          2              150138   \n",
       "3             1     en_US  Android OS          1                   0   \n",
       "4             1  pt-BR_BR         iOS          1              123131   \n",
       "\n",
       "   mean_session_time  median_session_time user_created_timestamp  \n",
       "0           946121.8            1176899.0             2018-10-07  \n",
       "1           201716.0             201716.0             2018-10-05  \n",
       "2            75069.0              75069.0             2018-10-03  \n",
       "3                0.0                  0.0             2018-10-02  \n",
       "4           123131.0             123131.0             2018-10-01  "
      ]
     },
     "execution_count": 8,
     "metadata": {},
     "output_type": "execute_result"
    }
   ],
   "source": [
    "df.head()"
   ]
  },
  {
   "cell_type": "code",
   "execution_count": 9,
   "metadata": {
    "ExecuteTime": {
     "end_time": "2019-02-26T04:00:07.706054Z",
     "start_time": "2019-02-26T04:00:06.892752Z"
    }
   },
   "outputs": [],
   "source": [
    "purchase = pd.read_pickle('../purchase.pkl')"
   ]
  },
  {
   "cell_type": "code",
   "execution_count": 10,
   "metadata": {
    "ExecuteTime": {
     "end_time": "2019-02-26T04:00:07.711739Z",
     "start_time": "2019-02-26T04:00:07.708439Z"
    }
   },
   "outputs": [],
   "source": [
    "purchase.reset_index(inplace=True, drop=True)"
   ]
  },
  {
   "cell_type": "code",
   "execution_count": 11,
   "metadata": {
    "ExecuteTime": {
     "end_time": "2019-02-26T04:00:09.408829Z",
     "start_time": "2019-02-26T04:00:07.714010Z"
    }
   },
   "outputs": [],
   "source": [
    "t1 = purchase.groupby(['week_start', 'user_id_hash']).event_value.count()\\\n",
    "            .reset_index().rename(columns={'event_value': 'no_of_buys'})\n",
    "t2 = purchase.groupby(['week_start', 'user_id_hash']).event_value.sum()\\\n",
    "            .reset_index().rename(columns={'event_value': 'sum_of_buys'})"
   ]
  },
  {
   "cell_type": "code",
   "execution_count": 12,
   "metadata": {
    "ExecuteTime": {
     "end_time": "2019-02-26T04:00:10.396736Z",
     "start_time": "2019-02-26T04:00:09.410931Z"
    }
   },
   "outputs": [],
   "source": [
    "purchase = t1.merge(t2, on=['week_start', 'user_id_hash'])"
   ]
  },
  {
   "cell_type": "code",
   "execution_count": 13,
   "metadata": {
    "ExecuteTime": {
     "end_time": "2019-02-26T04:00:10.409179Z",
     "start_time": "2019-02-26T04:00:10.398609Z"
    }
   },
   "outputs": [
    {
     "data": {
      "text/html": [
       "<div>\n",
       "<style scoped>\n",
       "    .dataframe tbody tr th:only-of-type {\n",
       "        vertical-align: middle;\n",
       "    }\n",
       "\n",
       "    .dataframe tbody tr th {\n",
       "        vertical-align: top;\n",
       "    }\n",
       "\n",
       "    .dataframe thead th {\n",
       "        text-align: right;\n",
       "    }\n",
       "</style>\n",
       "<table border=\"1\" class=\"dataframe\">\n",
       "  <thead>\n",
       "    <tr style=\"text-align: right;\">\n",
       "      <th></th>\n",
       "      <th>week_start</th>\n",
       "      <th>user_id_hash</th>\n",
       "      <th>no_of_buys</th>\n",
       "      <th>sum_of_buys</th>\n",
       "    </tr>\n",
       "  </thead>\n",
       "  <tbody>\n",
       "    <tr>\n",
       "      <th>0</th>\n",
       "      <td>2018-10-01</td>\n",
       "      <td>001c2d06972b17ee6a075ff9fbdae33eccb0bbf28357ea...</td>\n",
       "      <td>1</td>\n",
       "      <td>1.393000</td>\n",
       "    </tr>\n",
       "    <tr>\n",
       "      <th>1</th>\n",
       "      <td>2018-10-01</td>\n",
       "      <td>0026497d2043c8530220eeb8e66051982cc6df3139a9b0...</td>\n",
       "      <td>3</td>\n",
       "      <td>10.478999</td>\n",
       "    </tr>\n",
       "    <tr>\n",
       "      <th>2</th>\n",
       "      <td>2018-10-01</td>\n",
       "      <td>006b49314baf054c636e7448d4f9b0df046aae9e9c17d0...</td>\n",
       "      <td>10</td>\n",
       "      <td>20.229999</td>\n",
       "    </tr>\n",
       "    <tr>\n",
       "      <th>3</th>\n",
       "      <td>2018-10-01</td>\n",
       "      <td>007327aa3a27718c76e6cd73c3971304280c8856f62940...</td>\n",
       "      <td>1</td>\n",
       "      <td>1.393000</td>\n",
       "    </tr>\n",
       "    <tr>\n",
       "      <th>4</th>\n",
       "      <td>2018-10-01</td>\n",
       "      <td>0088d9be17b2ec4b3621150117a0ede815547d4241eae1...</td>\n",
       "      <td>2</td>\n",
       "      <td>6.986000</td>\n",
       "    </tr>\n",
       "  </tbody>\n",
       "</table>\n",
       "</div>"
      ],
      "text/plain": [
       "  week_start                                       user_id_hash  no_of_buys  \\\n",
       "0 2018-10-01  001c2d06972b17ee6a075ff9fbdae33eccb0bbf28357ea...           1   \n",
       "1 2018-10-01  0026497d2043c8530220eeb8e66051982cc6df3139a9b0...           3   \n",
       "2 2018-10-01  006b49314baf054c636e7448d4f9b0df046aae9e9c17d0...          10   \n",
       "3 2018-10-01  007327aa3a27718c76e6cd73c3971304280c8856f62940...           1   \n",
       "4 2018-10-01  0088d9be17b2ec4b3621150117a0ede815547d4241eae1...           2   \n",
       "\n",
       "   sum_of_buys  \n",
       "0     1.393000  \n",
       "1    10.478999  \n",
       "2    20.229999  \n",
       "3     1.393000  \n",
       "4     6.986000  "
      ]
     },
     "execution_count": 13,
     "metadata": {},
     "output_type": "execute_result"
    }
   ],
   "source": [
    "purchase.head()"
   ]
  },
  {
   "cell_type": "code",
   "execution_count": 14,
   "metadata": {
    "ExecuteTime": {
     "end_time": "2019-02-26T04:00:10.413887Z",
     "start_time": "2019-02-26T04:00:10.411042Z"
    }
   },
   "outputs": [],
   "source": [
    "import datetime as dt"
   ]
  },
  {
   "cell_type": "code",
   "execution_count": 15,
   "metadata": {
    "ExecuteTime": {
     "end_time": "2019-02-26T04:00:18.221591Z",
     "start_time": "2019-02-26T04:00:18.215510Z"
    }
   },
   "outputs": [],
   "source": [
    "purchase1 = purchase.copy(deep=True)\n",
    "purchase1.week_start = purchase1.week_start.apply(lambda x: x- dt.timedelta(days=7))"
   ]
  },
  {
   "cell_type": "code",
   "execution_count": 16,
   "metadata": {
    "ExecuteTime": {
     "end_time": "2019-02-26T04:00:18.820981Z",
     "start_time": "2019-02-26T04:00:18.811304Z"
    }
   },
   "outputs": [],
   "source": [
    "purchase.sort_values('week_start', inplace=True)\n",
    "purchase1.sort_values('week_start', inplace=True)"
   ]
  },
  {
   "cell_type": "code",
   "execution_count": 17,
   "metadata": {
    "ExecuteTime": {
     "end_time": "2019-02-26T04:00:19.349120Z",
     "start_time": "2019-02-26T04:00:19.342946Z"
    }
   },
   "outputs": [],
   "source": [
    "purchase2 = purchase.copy(deep=True)\n",
    "purchase2.week_start = purchase2.week_start.apply(lambda x: x - dt.timedelta(days=14))"
   ]
  },
  {
   "cell_type": "code",
   "execution_count": 18,
   "metadata": {
    "ExecuteTime": {
     "end_time": "2019-02-26T04:00:19.848527Z",
     "start_time": "2019-02-26T04:00:19.836096Z"
    }
   },
   "outputs": [],
   "source": [
    "df.week_start = df.week_start.astype('category')"
   ]
  },
  {
   "cell_type": "code",
   "execution_count": 19,
   "metadata": {
    "ExecuteTime": {
     "end_time": "2019-02-26T04:00:23.858306Z",
     "start_time": "2019-02-26T04:00:20.454887Z"
    }
   },
   "outputs": [],
   "source": [
    "df = df.merge(purchase, on=['user_id_hash', 'week_start'], how='left')\n",
    "df.no_of_buys.fillna(0, inplace=True)\n",
    "df.sum_of_buys.fillna(0, inplace=True)"
   ]
  },
  {
   "cell_type": "code",
   "execution_count": 20,
   "metadata": {
    "ExecuteTime": {
     "end_time": "2019-02-26T04:00:29.240885Z",
     "start_time": "2019-02-26T04:00:23.861388Z"
    }
   },
   "outputs": [],
   "source": [
    "df = df.merge(purchase1, on=['user_id_hash', 'week_start'], how='left')\n",
    "df.drop(['sum_of_buys_y'], inplace=True, axis=1)\n",
    "df.rename(columns={'no_of_buys_x': 'no_of_buys',\n",
    "                    'sum_of_buys_x': 'sum_of_buys',\n",
    "                    'no_of_buys_y': 'y1'}, inplace=True)"
   ]
  },
  {
   "cell_type": "code",
   "execution_count": 23,
   "metadata": {
    "ExecuteTime": {
     "end_time": "2019-02-26T04:00:45.853375Z",
     "start_time": "2019-02-26T04:00:45.839572Z"
    }
   },
   "outputs": [],
   "source": [
    "df.week_start = df.week_start.astype('category')"
   ]
  },
  {
   "cell_type": "code",
   "execution_count": 24,
   "metadata": {
    "ExecuteTime": {
     "end_time": "2019-02-26T04:00:51.374860Z",
     "start_time": "2019-02-26T04:00:46.314186Z"
    }
   },
   "outputs": [],
   "source": [
    "df = df.merge(purchase2, on=['user_id_hash', 'week_start'], how='left')\n",
    "df.drop(['sum_of_buys_y'], inplace=True, axis=1)\n",
    "df.rename(columns={'no_of_buys_x': 'no_of_buys',\n",
    "                    'sum_of_buys_x': 'sum_of_buys',\n",
    "                    'no_of_buys_y': 'y2'}, inplace=True)"
   ]
  },
  {
   "cell_type": "code",
   "execution_count": 25,
   "metadata": {
    "ExecuteTime": {
     "end_time": "2019-02-26T04:00:53.273365Z",
     "start_time": "2019-02-26T04:00:53.243265Z"
    }
   },
   "outputs": [],
   "source": [
    "df['y1'].fillna(0, inplace=True)\n",
    "df['y2'].fillna(0, inplace=True)\n",
    "df['y2'] = df['y1'] + df['y2']\n",
    "df['y1'] = df['y1'] > 0\n",
    "df['y2'] = df['y2'] > 0"
   ]
  },
  {
   "cell_type": "code",
   "execution_count": 26,
   "metadata": {
    "ExecuteTime": {
     "end_time": "2019-02-26T04:00:54.547144Z",
     "start_time": "2019-02-26T04:00:53.777731Z"
    }
   },
   "outputs": [
    {
     "data": {
      "text/plain": [
       "week_start                  0\n",
       "user_id_hash                0\n",
       "no_city                     0\n",
       "city                      389\n",
       "is_user_first_session       0\n",
       "country                   946\n",
       "country_count               0\n",
       "region                    394\n",
       "region_count                0\n",
       "locale                      0\n",
       "os_name                     0\n",
       "user_days                   0\n",
       "total_session_time          0\n",
       "mean_session_time           0\n",
       "median_session_time         0\n",
       "user_created_timestamp      0\n",
       "no_of_buys                  0\n",
       "sum_of_buys                 0\n",
       "y1                          0\n",
       "y2                          0\n",
       "dtype: int64"
      ]
     },
     "execution_count": 26,
     "metadata": {},
     "output_type": "execute_result"
    }
   ],
   "source": [
    "df.isna().sum(axis=0)"
   ]
  },
  {
   "cell_type": "code",
   "execution_count": 27,
   "metadata": {
    "ExecuteTime": {
     "end_time": "2019-02-26T04:00:56.701464Z",
     "start_time": "2019-02-26T04:00:56.659593Z"
    }
   },
   "outputs": [
    {
     "data": {
      "text/plain": [
       "7"
      ]
     },
     "execution_count": 27,
     "metadata": {},
     "output_type": "execute_result"
    }
   ],
   "source": [
    "sum(df[df.country.isna()]['y1'])"
   ]
  },
  {
   "cell_type": "code",
   "execution_count": 28,
   "metadata": {
    "ExecuteTime": {
     "end_time": "2019-02-26T04:00:57.210677Z",
     "start_time": "2019-02-26T04:00:57.168834Z"
    }
   },
   "outputs": [
    {
     "data": {
      "text/plain": [
       "8"
      ]
     },
     "execution_count": 28,
     "metadata": {},
     "output_type": "execute_result"
    }
   ],
   "source": [
    "sum(df[df.country.isna()]['y2'])"
   ]
  },
  {
   "cell_type": "code",
   "execution_count": 29,
   "metadata": {
    "ExecuteTime": {
     "end_time": "2019-02-26T04:00:57.571122Z",
     "start_time": "2019-02-26T04:00:57.527116Z"
    }
   },
   "outputs": [
    {
     "data": {
      "text/plain": [
       "2"
      ]
     },
     "execution_count": 29,
     "metadata": {},
     "output_type": "execute_result"
    }
   ],
   "source": [
    "sum(df[df.city.isna()]['y1'])"
   ]
  },
  {
   "cell_type": "code",
   "execution_count": 30,
   "metadata": {
    "ExecuteTime": {
     "end_time": "2019-02-26T04:00:57.905406Z",
     "start_time": "2019-02-26T04:00:57.862771Z"
    }
   },
   "outputs": [
    {
     "data": {
      "text/plain": [
       "2"
      ]
     },
     "execution_count": 30,
     "metadata": {},
     "output_type": "execute_result"
    }
   ],
   "source": [
    "sum(df[df.city.isna()]['y2'])"
   ]
  },
  {
   "cell_type": "code",
   "execution_count": 31,
   "metadata": {
    "ExecuteTime": {
     "end_time": "2019-02-26T04:00:58.270471Z",
     "start_time": "2019-02-26T04:00:58.265743Z"
    }
   },
   "outputs": [
    {
     "data": {
      "text/plain": [
       "(995976, 20)"
      ]
     },
     "execution_count": 31,
     "metadata": {},
     "output_type": "execute_result"
    }
   ],
   "source": [
    "df.shape"
   ]
  },
  {
   "cell_type": "code",
   "execution_count": 35,
   "metadata": {
    "ExecuteTime": {
     "end_time": "2019-02-26T04:01:19.637804Z",
     "start_time": "2019-02-26T04:01:18.730666Z"
    }
   },
   "outputs": [],
   "source": [
    "df = df[~df.city.isna()]\n",
    "df = df[~df.country.isna()]\n",
    "df = df[~df.region.isna()]"
   ]
  },
  {
   "cell_type": "code",
   "execution_count": 36,
   "metadata": {
    "ExecuteTime": {
     "end_time": "2019-02-26T04:01:20.267026Z",
     "start_time": "2019-02-26T04:01:20.262247Z"
    }
   },
   "outputs": [
    {
     "data": {
      "text/plain": [
       "(994636, 20)"
      ]
     },
     "execution_count": 36,
     "metadata": {},
     "output_type": "execute_result"
    }
   ],
   "source": [
    "df.shape"
   ]
  },
  {
   "cell_type": "code",
   "execution_count": 37,
   "metadata": {
    "ExecuteTime": {
     "end_time": "2019-02-26T04:01:21.673408Z",
     "start_time": "2019-02-26T04:01:20.853818Z"
    }
   },
   "outputs": [
    {
     "data": {
      "text/plain": [
       "week_start                0\n",
       "user_id_hash              0\n",
       "no_city                   0\n",
       "city                      0\n",
       "is_user_first_session     0\n",
       "country                   0\n",
       "country_count             0\n",
       "region                    0\n",
       "region_count              0\n",
       "locale                    0\n",
       "os_name                   0\n",
       "user_days                 0\n",
       "total_session_time        0\n",
       "mean_session_time         0\n",
       "median_session_time       0\n",
       "user_created_timestamp    0\n",
       "no_of_buys                0\n",
       "sum_of_buys               0\n",
       "y1                        0\n",
       "y2                        0\n",
       "dtype: int64"
      ]
     },
     "execution_count": 37,
     "metadata": {},
     "output_type": "execute_result"
    }
   ],
   "source": [
    "df.isna().sum(axis=0)"
   ]
  },
  {
   "cell_type": "code",
   "execution_count": 38,
   "metadata": {
    "ExecuteTime": {
     "end_time": "2019-02-26T04:01:23.967509Z",
     "start_time": "2019-02-26T04:01:23.676670Z"
    }
   },
   "outputs": [],
   "source": [
    "from sklearn.model_selection import KFold\n",
    "\n",
    "def reg_target_encoding(train, col = \"device_type\", splits=5):\n",
    "    \"\"\" Computes regularize mean encoding.\n",
    "    Inputs:\n",
    "       train: training dataframe\n",
    "       \n",
    "    \"\"\"\n",
    "    ksplit = KFold(n_splits=splits)\n",
    "    for tidx, vidx in ksplit.split(train):\n",
    "        mean_val = train.iloc[tidx, :].groupby(col)['y1'].mean()\n",
    "        global_mean_val = train.iloc[tidx, :]['y1'].mean()\n",
    "        train.loc[vidx, col + \"_mean_enc\"] = train.iloc[vidx, :][col].map(mean_val)\n",
    "        train.loc[vidx, col + \"_mean_enc\"].fillna(global_mean_val, inplace=True)\n",
    "    return None"
   ]
  },
  {
   "cell_type": "code",
   "execution_count": 39,
   "metadata": {
    "ExecuteTime": {
     "end_time": "2019-02-26T04:01:24.135429Z",
     "start_time": "2019-02-26T04:01:24.130711Z"
    }
   },
   "outputs": [],
   "source": [
    "def mean_encoding_test(test, train, col = \"device_type\"):\n",
    "    \"\"\" Computes target enconding for test data.\n",
    "    \n",
    "    This is similar to how we do validation\n",
    "    \"\"\"\n",
    "    mean_device_type = train.groupby(col)['y1'].mean()\n",
    "    global_mean = train['y1'].mean()\n",
    "    test[col + \"_mean_enc\"] = test[col].map(mean_device_type)\n",
    "    test[col + \"_mean_enc\"].fillna(global_mean, inplace=True)\n",
    "    return None"
   ]
  },
  {
   "cell_type": "code",
   "execution_count": 40,
   "metadata": {
    "ExecuteTime": {
     "end_time": "2019-02-26T04:01:36.773080Z",
     "start_time": "2019-02-26T04:01:33.821362Z"
    }
   },
   "outputs": [],
   "source": [
    "df.city = df.city.astype('category')\n",
    "df.country = df.country.astype('category')\n",
    "df.region = df.region.astype('category')\n",
    "df.locale = df.locale.astype('category')\n",
    "df.os_name = df.os_name.astype('category')"
   ]
  },
  {
   "cell_type": "code",
   "execution_count": 41,
   "metadata": {
    "ExecuteTime": {
     "end_time": "2019-02-26T04:01:41.091095Z",
     "start_time": "2019-02-26T04:01:36.775806Z"
    }
   },
   "outputs": [],
   "source": [
    "df['user_age'] = (df.week_start.dt.date - df.user_created_timestamp)\\\n",
    "                    .astype('timedelta64[D]')"
   ]
  },
  {
   "cell_type": "code",
   "execution_count": 42,
   "metadata": {
    "ExecuteTime": {
     "end_time": "2019-02-26T04:01:41.122266Z",
     "start_time": "2019-02-26T04:01:41.093458Z"
    }
   },
   "outputs": [
    {
     "data": {
      "text/html": [
       "<div>\n",
       "<style scoped>\n",
       "    .dataframe tbody tr th:only-of-type {\n",
       "        vertical-align: middle;\n",
       "    }\n",
       "\n",
       "    .dataframe tbody tr th {\n",
       "        vertical-align: top;\n",
       "    }\n",
       "\n",
       "    .dataframe thead th {\n",
       "        text-align: right;\n",
       "    }\n",
       "</style>\n",
       "<table border=\"1\" class=\"dataframe\">\n",
       "  <thead>\n",
       "    <tr style=\"text-align: right;\">\n",
       "      <th></th>\n",
       "      <th>week_start</th>\n",
       "      <th>user_id_hash</th>\n",
       "      <th>no_city</th>\n",
       "      <th>city</th>\n",
       "      <th>is_user_first_session</th>\n",
       "      <th>country</th>\n",
       "      <th>country_count</th>\n",
       "      <th>region</th>\n",
       "      <th>region_count</th>\n",
       "      <th>locale</th>\n",
       "      <th>...</th>\n",
       "      <th>user_days</th>\n",
       "      <th>total_session_time</th>\n",
       "      <th>mean_session_time</th>\n",
       "      <th>median_session_time</th>\n",
       "      <th>user_created_timestamp</th>\n",
       "      <th>no_of_buys</th>\n",
       "      <th>sum_of_buys</th>\n",
       "      <th>y1</th>\n",
       "      <th>y2</th>\n",
       "      <th>user_age</th>\n",
       "    </tr>\n",
       "  </thead>\n",
       "  <tbody>\n",
       "    <tr>\n",
       "      <th>0</th>\n",
       "      <td>2018-10-01</td>\n",
       "      <td>000062e9be78f3da274fec338e78f89d12000e781967f2...</td>\n",
       "      <td>5</td>\n",
       "      <td>campbell</td>\n",
       "      <td>True</td>\n",
       "      <td>US</td>\n",
       "      <td>1</td>\n",
       "      <td>ca</td>\n",
       "      <td>1</td>\n",
       "      <td>en_US</td>\n",
       "      <td>...</td>\n",
       "      <td>1</td>\n",
       "      <td>4730609</td>\n",
       "      <td>946121.8</td>\n",
       "      <td>1176899.0</td>\n",
       "      <td>2018-10-07</td>\n",
       "      <td>0.0</td>\n",
       "      <td>0.0</td>\n",
       "      <td>False</td>\n",
       "      <td>False</td>\n",
       "      <td>-6.0</td>\n",
       "    </tr>\n",
       "    <tr>\n",
       "      <th>1</th>\n",
       "      <td>2018-10-01</td>\n",
       "      <td>00026e5050a70ef12d421f75c6a5c80d0f62d37acab8bd...</td>\n",
       "      <td>2</td>\n",
       "      <td>douglasville</td>\n",
       "      <td>True</td>\n",
       "      <td>US</td>\n",
       "      <td>1</td>\n",
       "      <td>ga</td>\n",
       "      <td>1</td>\n",
       "      <td>en_US</td>\n",
       "      <td>...</td>\n",
       "      <td>2</td>\n",
       "      <td>403432</td>\n",
       "      <td>201716.0</td>\n",
       "      <td>201716.0</td>\n",
       "      <td>2018-10-05</td>\n",
       "      <td>0.0</td>\n",
       "      <td>0.0</td>\n",
       "      <td>False</td>\n",
       "      <td>False</td>\n",
       "      <td>-4.0</td>\n",
       "    </tr>\n",
       "    <tr>\n",
       "      <th>2</th>\n",
       "      <td>2018-10-01</td>\n",
       "      <td>0003f8bda56230a49445880e559b718e94ba37344494a7...</td>\n",
       "      <td>2</td>\n",
       "      <td>middlesboro</td>\n",
       "      <td>True</td>\n",
       "      <td>US</td>\n",
       "      <td>1</td>\n",
       "      <td>ky</td>\n",
       "      <td>1</td>\n",
       "      <td>en_US</td>\n",
       "      <td>...</td>\n",
       "      <td>2</td>\n",
       "      <td>150138</td>\n",
       "      <td>75069.0</td>\n",
       "      <td>75069.0</td>\n",
       "      <td>2018-10-03</td>\n",
       "      <td>0.0</td>\n",
       "      <td>0.0</td>\n",
       "      <td>False</td>\n",
       "      <td>False</td>\n",
       "      <td>-2.0</td>\n",
       "    </tr>\n",
       "    <tr>\n",
       "      <th>3</th>\n",
       "      <td>2018-10-01</td>\n",
       "      <td>000542d6fc6e9dcb83328d30503a7e022e5a6b4ea6357b...</td>\n",
       "      <td>1</td>\n",
       "      <td>omaha</td>\n",
       "      <td>True</td>\n",
       "      <td>US</td>\n",
       "      <td>1</td>\n",
       "      <td>ne</td>\n",
       "      <td>1</td>\n",
       "      <td>en_US</td>\n",
       "      <td>...</td>\n",
       "      <td>1</td>\n",
       "      <td>0</td>\n",
       "      <td>0.0</td>\n",
       "      <td>0.0</td>\n",
       "      <td>2018-10-02</td>\n",
       "      <td>0.0</td>\n",
       "      <td>0.0</td>\n",
       "      <td>False</td>\n",
       "      <td>False</td>\n",
       "      <td>-1.0</td>\n",
       "    </tr>\n",
       "    <tr>\n",
       "      <th>4</th>\n",
       "      <td>2018-10-01</td>\n",
       "      <td>00059c820dca1ccadfd45361c40f68b656df8a5212b993...</td>\n",
       "      <td>1</td>\n",
       "      <td>rio de janeiro</td>\n",
       "      <td>False</td>\n",
       "      <td>BR</td>\n",
       "      <td>1</td>\n",
       "      <td>rj</td>\n",
       "      <td>1</td>\n",
       "      <td>pt-BR_BR</td>\n",
       "      <td>...</td>\n",
       "      <td>1</td>\n",
       "      <td>123131</td>\n",
       "      <td>123131.0</td>\n",
       "      <td>123131.0</td>\n",
       "      <td>2018-10-01</td>\n",
       "      <td>0.0</td>\n",
       "      <td>0.0</td>\n",
       "      <td>False</td>\n",
       "      <td>False</td>\n",
       "      <td>0.0</td>\n",
       "    </tr>\n",
       "  </tbody>\n",
       "</table>\n",
       "<p>5 rows × 21 columns</p>\n",
       "</div>"
      ],
      "text/plain": [
       "  week_start                                       user_id_hash  no_city  \\\n",
       "0 2018-10-01  000062e9be78f3da274fec338e78f89d12000e781967f2...        5   \n",
       "1 2018-10-01  00026e5050a70ef12d421f75c6a5c80d0f62d37acab8bd...        2   \n",
       "2 2018-10-01  0003f8bda56230a49445880e559b718e94ba37344494a7...        2   \n",
       "3 2018-10-01  000542d6fc6e9dcb83328d30503a7e022e5a6b4ea6357b...        1   \n",
       "4 2018-10-01  00059c820dca1ccadfd45361c40f68b656df8a5212b993...        1   \n",
       "\n",
       "             city  is_user_first_session country  country_count region  \\\n",
       "0        campbell                   True      US              1     ca   \n",
       "1    douglasville                   True      US              1     ga   \n",
       "2     middlesboro                   True      US              1     ky   \n",
       "3           omaha                   True      US              1     ne   \n",
       "4  rio de janeiro                  False      BR              1     rj   \n",
       "\n",
       "   region_count    locale    ...    user_days  total_session_time  \\\n",
       "0             1     en_US    ...            1             4730609   \n",
       "1             1     en_US    ...            2              403432   \n",
       "2             1     en_US    ...            2              150138   \n",
       "3             1     en_US    ...            1                   0   \n",
       "4             1  pt-BR_BR    ...            1              123131   \n",
       "\n",
       "   mean_session_time  median_session_time  user_created_timestamp no_of_buys  \\\n",
       "0           946121.8            1176899.0              2018-10-07        0.0   \n",
       "1           201716.0             201716.0              2018-10-05        0.0   \n",
       "2            75069.0              75069.0              2018-10-03        0.0   \n",
       "3                0.0                  0.0              2018-10-02        0.0   \n",
       "4           123131.0             123131.0              2018-10-01        0.0   \n",
       "\n",
       "   sum_of_buys     y1     y2  user_age  \n",
       "0          0.0  False  False      -6.0  \n",
       "1          0.0  False  False      -4.0  \n",
       "2          0.0  False  False      -2.0  \n",
       "3          0.0  False  False      -1.0  \n",
       "4          0.0  False  False       0.0  \n",
       "\n",
       "[5 rows x 21 columns]"
      ]
     },
     "execution_count": 42,
     "metadata": {},
     "output_type": "execute_result"
    }
   ],
   "source": [
    "df.head()"
   ]
  },
  {
   "cell_type": "code",
   "execution_count": 43,
   "metadata": {
    "ExecuteTime": {
     "end_time": "2019-02-26T04:01:44.521520Z",
     "start_time": "2019-02-26T04:01:44.317399Z"
    }
   },
   "outputs": [],
   "source": [
    "df2 = df.copy(deep=True)"
   ]
  },
  {
   "cell_type": "code",
   "execution_count": 44,
   "metadata": {
    "ExecuteTime": {
     "end_time": "2019-02-26T04:01:53.722924Z",
     "start_time": "2019-02-26T04:01:45.389253Z"
    }
   },
   "outputs": [],
   "source": [
    "df2.week_start = df2.week_start.apply(lambda x: x + dt.timedelta(days=7))"
   ]
  },
  {
   "cell_type": "code",
   "execution_count": 45,
   "metadata": {
    "ExecuteTime": {
     "end_time": "2019-02-26T04:01:53.753535Z",
     "start_time": "2019-02-26T04:01:53.726596Z"
    }
   },
   "outputs": [
    {
     "data": {
      "text/html": [
       "<div>\n",
       "<style scoped>\n",
       "    .dataframe tbody tr th:only-of-type {\n",
       "        vertical-align: middle;\n",
       "    }\n",
       "\n",
       "    .dataframe tbody tr th {\n",
       "        vertical-align: top;\n",
       "    }\n",
       "\n",
       "    .dataframe thead th {\n",
       "        text-align: right;\n",
       "    }\n",
       "</style>\n",
       "<table border=\"1\" class=\"dataframe\">\n",
       "  <thead>\n",
       "    <tr style=\"text-align: right;\">\n",
       "      <th></th>\n",
       "      <th>week_start</th>\n",
       "      <th>user_id_hash</th>\n",
       "      <th>no_city</th>\n",
       "      <th>city</th>\n",
       "      <th>is_user_first_session</th>\n",
       "      <th>country</th>\n",
       "      <th>country_count</th>\n",
       "      <th>region</th>\n",
       "      <th>region_count</th>\n",
       "      <th>locale</th>\n",
       "      <th>...</th>\n",
       "      <th>user_days</th>\n",
       "      <th>total_session_time</th>\n",
       "      <th>mean_session_time</th>\n",
       "      <th>median_session_time</th>\n",
       "      <th>user_created_timestamp</th>\n",
       "      <th>no_of_buys</th>\n",
       "      <th>sum_of_buys</th>\n",
       "      <th>y1</th>\n",
       "      <th>y2</th>\n",
       "      <th>user_age</th>\n",
       "    </tr>\n",
       "  </thead>\n",
       "  <tbody>\n",
       "    <tr>\n",
       "      <th>0</th>\n",
       "      <td>2018-10-08</td>\n",
       "      <td>000062e9be78f3da274fec338e78f89d12000e781967f2...</td>\n",
       "      <td>5</td>\n",
       "      <td>campbell</td>\n",
       "      <td>True</td>\n",
       "      <td>US</td>\n",
       "      <td>1</td>\n",
       "      <td>ca</td>\n",
       "      <td>1</td>\n",
       "      <td>en_US</td>\n",
       "      <td>...</td>\n",
       "      <td>1</td>\n",
       "      <td>4730609</td>\n",
       "      <td>946121.8</td>\n",
       "      <td>1176899.0</td>\n",
       "      <td>2018-10-07</td>\n",
       "      <td>0.0</td>\n",
       "      <td>0.0</td>\n",
       "      <td>False</td>\n",
       "      <td>False</td>\n",
       "      <td>-6.0</td>\n",
       "    </tr>\n",
       "    <tr>\n",
       "      <th>1</th>\n",
       "      <td>2018-10-08</td>\n",
       "      <td>00026e5050a70ef12d421f75c6a5c80d0f62d37acab8bd...</td>\n",
       "      <td>2</td>\n",
       "      <td>douglasville</td>\n",
       "      <td>True</td>\n",
       "      <td>US</td>\n",
       "      <td>1</td>\n",
       "      <td>ga</td>\n",
       "      <td>1</td>\n",
       "      <td>en_US</td>\n",
       "      <td>...</td>\n",
       "      <td>2</td>\n",
       "      <td>403432</td>\n",
       "      <td>201716.0</td>\n",
       "      <td>201716.0</td>\n",
       "      <td>2018-10-05</td>\n",
       "      <td>0.0</td>\n",
       "      <td>0.0</td>\n",
       "      <td>False</td>\n",
       "      <td>False</td>\n",
       "      <td>-4.0</td>\n",
       "    </tr>\n",
       "    <tr>\n",
       "      <th>2</th>\n",
       "      <td>2018-10-08</td>\n",
       "      <td>0003f8bda56230a49445880e559b718e94ba37344494a7...</td>\n",
       "      <td>2</td>\n",
       "      <td>middlesboro</td>\n",
       "      <td>True</td>\n",
       "      <td>US</td>\n",
       "      <td>1</td>\n",
       "      <td>ky</td>\n",
       "      <td>1</td>\n",
       "      <td>en_US</td>\n",
       "      <td>...</td>\n",
       "      <td>2</td>\n",
       "      <td>150138</td>\n",
       "      <td>75069.0</td>\n",
       "      <td>75069.0</td>\n",
       "      <td>2018-10-03</td>\n",
       "      <td>0.0</td>\n",
       "      <td>0.0</td>\n",
       "      <td>False</td>\n",
       "      <td>False</td>\n",
       "      <td>-2.0</td>\n",
       "    </tr>\n",
       "    <tr>\n",
       "      <th>3</th>\n",
       "      <td>2018-10-08</td>\n",
       "      <td>000542d6fc6e9dcb83328d30503a7e022e5a6b4ea6357b...</td>\n",
       "      <td>1</td>\n",
       "      <td>omaha</td>\n",
       "      <td>True</td>\n",
       "      <td>US</td>\n",
       "      <td>1</td>\n",
       "      <td>ne</td>\n",
       "      <td>1</td>\n",
       "      <td>en_US</td>\n",
       "      <td>...</td>\n",
       "      <td>1</td>\n",
       "      <td>0</td>\n",
       "      <td>0.0</td>\n",
       "      <td>0.0</td>\n",
       "      <td>2018-10-02</td>\n",
       "      <td>0.0</td>\n",
       "      <td>0.0</td>\n",
       "      <td>False</td>\n",
       "      <td>False</td>\n",
       "      <td>-1.0</td>\n",
       "    </tr>\n",
       "    <tr>\n",
       "      <th>4</th>\n",
       "      <td>2018-10-08</td>\n",
       "      <td>00059c820dca1ccadfd45361c40f68b656df8a5212b993...</td>\n",
       "      <td>1</td>\n",
       "      <td>rio de janeiro</td>\n",
       "      <td>False</td>\n",
       "      <td>BR</td>\n",
       "      <td>1</td>\n",
       "      <td>rj</td>\n",
       "      <td>1</td>\n",
       "      <td>pt-BR_BR</td>\n",
       "      <td>...</td>\n",
       "      <td>1</td>\n",
       "      <td>123131</td>\n",
       "      <td>123131.0</td>\n",
       "      <td>123131.0</td>\n",
       "      <td>2018-10-01</td>\n",
       "      <td>0.0</td>\n",
       "      <td>0.0</td>\n",
       "      <td>False</td>\n",
       "      <td>False</td>\n",
       "      <td>0.0</td>\n",
       "    </tr>\n",
       "  </tbody>\n",
       "</table>\n",
       "<p>5 rows × 21 columns</p>\n",
       "</div>"
      ],
      "text/plain": [
       "  week_start                                       user_id_hash  no_city  \\\n",
       "0 2018-10-08  000062e9be78f3da274fec338e78f89d12000e781967f2...        5   \n",
       "1 2018-10-08  00026e5050a70ef12d421f75c6a5c80d0f62d37acab8bd...        2   \n",
       "2 2018-10-08  0003f8bda56230a49445880e559b718e94ba37344494a7...        2   \n",
       "3 2018-10-08  000542d6fc6e9dcb83328d30503a7e022e5a6b4ea6357b...        1   \n",
       "4 2018-10-08  00059c820dca1ccadfd45361c40f68b656df8a5212b993...        1   \n",
       "\n",
       "             city  is_user_first_session country  country_count region  \\\n",
       "0        campbell                   True      US              1     ca   \n",
       "1    douglasville                   True      US              1     ga   \n",
       "2     middlesboro                   True      US              1     ky   \n",
       "3           omaha                   True      US              1     ne   \n",
       "4  rio de janeiro                  False      BR              1     rj   \n",
       "\n",
       "   region_count    locale    ...    user_days  total_session_time  \\\n",
       "0             1     en_US    ...            1             4730609   \n",
       "1             1     en_US    ...            2              403432   \n",
       "2             1     en_US    ...            2              150138   \n",
       "3             1     en_US    ...            1                   0   \n",
       "4             1  pt-BR_BR    ...            1              123131   \n",
       "\n",
       "   mean_session_time  median_session_time  user_created_timestamp no_of_buys  \\\n",
       "0           946121.8            1176899.0              2018-10-07        0.0   \n",
       "1           201716.0             201716.0              2018-10-05        0.0   \n",
       "2            75069.0              75069.0              2018-10-03        0.0   \n",
       "3                0.0                  0.0              2018-10-02        0.0   \n",
       "4           123131.0             123131.0              2018-10-01        0.0   \n",
       "\n",
       "   sum_of_buys     y1     y2  user_age  \n",
       "0          0.0  False  False      -6.0  \n",
       "1          0.0  False  False      -4.0  \n",
       "2          0.0  False  False      -2.0  \n",
       "3          0.0  False  False      -1.0  \n",
       "4          0.0  False  False       0.0  \n",
       "\n",
       "[5 rows x 21 columns]"
      ]
     },
     "execution_count": 45,
     "metadata": {},
     "output_type": "execute_result"
    }
   ],
   "source": [
    "df2.head()"
   ]
  },
  {
   "cell_type": "code",
   "execution_count": 46,
   "metadata": {
    "ExecuteTime": {
     "end_time": "2019-02-26T04:01:56.384459Z",
     "start_time": "2019-02-26T04:01:56.378988Z"
    }
   },
   "outputs": [
    {
     "data": {
      "text/plain": [
       "Index(['week_start', 'user_id_hash', 'no_city', 'city',\n",
       "       'is_user_first_session', 'country', 'country_count', 'region',\n",
       "       'region_count', 'locale', 'os_name', 'user_days', 'total_session_time',\n",
       "       'mean_session_time', 'median_session_time', 'user_created_timestamp',\n",
       "       'no_of_buys', 'sum_of_buys', 'y1', 'y2', 'user_age'],\n",
       "      dtype='object')"
      ]
     },
     "execution_count": 46,
     "metadata": {},
     "output_type": "execute_result"
    }
   ],
   "source": [
    "df2.columns"
   ]
  },
  {
   "cell_type": "code",
   "execution_count": 47,
   "metadata": {
    "ExecuteTime": {
     "end_time": "2019-02-26T04:01:58.489410Z",
     "start_time": "2019-02-26T04:01:58.485479Z"
    }
   },
   "outputs": [],
   "source": [
    "merge_cols = ['week_start', 'user_id_hash', 'no_city', 'city',\n",
    "             'is_user_first_session', 'country', 'country_count',\n",
    "             'region','region_count', 'locale', 'user_days', \n",
    "             'total_session_time', 'mean_session_time',\n",
    "             'median_session_time', 'no_of_buys', 'sum_of_buys']"
   ]
  },
  {
   "cell_type": "code",
   "execution_count": 48,
   "metadata": {
    "ExecuteTime": {
     "end_time": "2019-02-26T04:01:58.938063Z",
     "start_time": "2019-02-26T04:01:58.932923Z"
    }
   },
   "outputs": [
    {
     "data": {
      "text/plain": [
       "(994636, 21)"
      ]
     },
     "execution_count": 48,
     "metadata": {},
     "output_type": "execute_result"
    }
   ],
   "source": [
    "df.shape"
   ]
  },
  {
   "cell_type": "code",
   "execution_count": 49,
   "metadata": {
    "ExecuteTime": {
     "end_time": "2019-02-26T04:02:02.122973Z",
     "start_time": "2019-02-26T04:01:59.428515Z"
    }
   },
   "outputs": [],
   "source": [
    "df = df.merge(df2[merge_cols], on=['user_id_hash', 'week_start'], how='left')"
   ]
  },
  {
   "cell_type": "code",
   "execution_count": 50,
   "metadata": {
    "ExecuteTime": {
     "end_time": "2019-02-26T04:02:02.721822Z",
     "start_time": "2019-02-26T04:02:02.717458Z"
    }
   },
   "outputs": [
    {
     "data": {
      "text/plain": [
       "(994636, 35)"
      ]
     },
     "execution_count": 50,
     "metadata": {},
     "output_type": "execute_result"
    }
   ],
   "source": [
    "df.shape"
   ]
  },
  {
   "cell_type": "code",
   "execution_count": 51,
   "metadata": {
    "ExecuteTime": {
     "end_time": "2019-02-26T04:02:04.538336Z",
     "start_time": "2019-02-26T04:02:04.511737Z"
    }
   },
   "outputs": [
    {
     "data": {
      "text/html": [
       "<div>\n",
       "<style scoped>\n",
       "    .dataframe tbody tr th:only-of-type {\n",
       "        vertical-align: middle;\n",
       "    }\n",
       "\n",
       "    .dataframe tbody tr th {\n",
       "        vertical-align: top;\n",
       "    }\n",
       "\n",
       "    .dataframe thead th {\n",
       "        text-align: right;\n",
       "    }\n",
       "</style>\n",
       "<table border=\"1\" class=\"dataframe\">\n",
       "  <thead>\n",
       "    <tr style=\"text-align: right;\">\n",
       "      <th></th>\n",
       "      <th>week_start</th>\n",
       "      <th>user_id_hash</th>\n",
       "      <th>no_city_x</th>\n",
       "      <th>city_x</th>\n",
       "      <th>is_user_first_session_x</th>\n",
       "      <th>country_x</th>\n",
       "      <th>country_count_x</th>\n",
       "      <th>region_x</th>\n",
       "      <th>region_count_x</th>\n",
       "      <th>locale_x</th>\n",
       "      <th>...</th>\n",
       "      <th>country_count_y</th>\n",
       "      <th>region_y</th>\n",
       "      <th>region_count_y</th>\n",
       "      <th>locale_y</th>\n",
       "      <th>user_days_y</th>\n",
       "      <th>total_session_time_y</th>\n",
       "      <th>mean_session_time_y</th>\n",
       "      <th>median_session_time_y</th>\n",
       "      <th>no_of_buys_y</th>\n",
       "      <th>sum_of_buys_y</th>\n",
       "    </tr>\n",
       "  </thead>\n",
       "  <tbody>\n",
       "    <tr>\n",
       "      <th>0</th>\n",
       "      <td>2018-10-01</td>\n",
       "      <td>000062e9be78f3da274fec338e78f89d12000e781967f2...</td>\n",
       "      <td>5</td>\n",
       "      <td>campbell</td>\n",
       "      <td>True</td>\n",
       "      <td>US</td>\n",
       "      <td>1</td>\n",
       "      <td>ca</td>\n",
       "      <td>1</td>\n",
       "      <td>en_US</td>\n",
       "      <td>...</td>\n",
       "      <td>NaN</td>\n",
       "      <td>NaN</td>\n",
       "      <td>NaN</td>\n",
       "      <td>NaN</td>\n",
       "      <td>NaN</td>\n",
       "      <td>NaN</td>\n",
       "      <td>NaN</td>\n",
       "      <td>NaN</td>\n",
       "      <td>NaN</td>\n",
       "      <td>NaN</td>\n",
       "    </tr>\n",
       "    <tr>\n",
       "      <th>1</th>\n",
       "      <td>2018-10-01</td>\n",
       "      <td>00026e5050a70ef12d421f75c6a5c80d0f62d37acab8bd...</td>\n",
       "      <td>2</td>\n",
       "      <td>douglasville</td>\n",
       "      <td>True</td>\n",
       "      <td>US</td>\n",
       "      <td>1</td>\n",
       "      <td>ga</td>\n",
       "      <td>1</td>\n",
       "      <td>en_US</td>\n",
       "      <td>...</td>\n",
       "      <td>NaN</td>\n",
       "      <td>NaN</td>\n",
       "      <td>NaN</td>\n",
       "      <td>NaN</td>\n",
       "      <td>NaN</td>\n",
       "      <td>NaN</td>\n",
       "      <td>NaN</td>\n",
       "      <td>NaN</td>\n",
       "      <td>NaN</td>\n",
       "      <td>NaN</td>\n",
       "    </tr>\n",
       "    <tr>\n",
       "      <th>2</th>\n",
       "      <td>2018-10-01</td>\n",
       "      <td>0003f8bda56230a49445880e559b718e94ba37344494a7...</td>\n",
       "      <td>2</td>\n",
       "      <td>middlesboro</td>\n",
       "      <td>True</td>\n",
       "      <td>US</td>\n",
       "      <td>1</td>\n",
       "      <td>ky</td>\n",
       "      <td>1</td>\n",
       "      <td>en_US</td>\n",
       "      <td>...</td>\n",
       "      <td>NaN</td>\n",
       "      <td>NaN</td>\n",
       "      <td>NaN</td>\n",
       "      <td>NaN</td>\n",
       "      <td>NaN</td>\n",
       "      <td>NaN</td>\n",
       "      <td>NaN</td>\n",
       "      <td>NaN</td>\n",
       "      <td>NaN</td>\n",
       "      <td>NaN</td>\n",
       "    </tr>\n",
       "    <tr>\n",
       "      <th>3</th>\n",
       "      <td>2018-10-01</td>\n",
       "      <td>000542d6fc6e9dcb83328d30503a7e022e5a6b4ea6357b...</td>\n",
       "      <td>1</td>\n",
       "      <td>omaha</td>\n",
       "      <td>True</td>\n",
       "      <td>US</td>\n",
       "      <td>1</td>\n",
       "      <td>ne</td>\n",
       "      <td>1</td>\n",
       "      <td>en_US</td>\n",
       "      <td>...</td>\n",
       "      <td>NaN</td>\n",
       "      <td>NaN</td>\n",
       "      <td>NaN</td>\n",
       "      <td>NaN</td>\n",
       "      <td>NaN</td>\n",
       "      <td>NaN</td>\n",
       "      <td>NaN</td>\n",
       "      <td>NaN</td>\n",
       "      <td>NaN</td>\n",
       "      <td>NaN</td>\n",
       "    </tr>\n",
       "    <tr>\n",
       "      <th>4</th>\n",
       "      <td>2018-10-01</td>\n",
       "      <td>00059c820dca1ccadfd45361c40f68b656df8a5212b993...</td>\n",
       "      <td>1</td>\n",
       "      <td>rio de janeiro</td>\n",
       "      <td>False</td>\n",
       "      <td>BR</td>\n",
       "      <td>1</td>\n",
       "      <td>rj</td>\n",
       "      <td>1</td>\n",
       "      <td>pt-BR_BR</td>\n",
       "      <td>...</td>\n",
       "      <td>NaN</td>\n",
       "      <td>NaN</td>\n",
       "      <td>NaN</td>\n",
       "      <td>NaN</td>\n",
       "      <td>NaN</td>\n",
       "      <td>NaN</td>\n",
       "      <td>NaN</td>\n",
       "      <td>NaN</td>\n",
       "      <td>NaN</td>\n",
       "      <td>NaN</td>\n",
       "    </tr>\n",
       "  </tbody>\n",
       "</table>\n",
       "<p>5 rows × 35 columns</p>\n",
       "</div>"
      ],
      "text/plain": [
       "  week_start                                       user_id_hash  no_city_x  \\\n",
       "0 2018-10-01  000062e9be78f3da274fec338e78f89d12000e781967f2...          5   \n",
       "1 2018-10-01  00026e5050a70ef12d421f75c6a5c80d0f62d37acab8bd...          2   \n",
       "2 2018-10-01  0003f8bda56230a49445880e559b718e94ba37344494a7...          2   \n",
       "3 2018-10-01  000542d6fc6e9dcb83328d30503a7e022e5a6b4ea6357b...          1   \n",
       "4 2018-10-01  00059c820dca1ccadfd45361c40f68b656df8a5212b993...          1   \n",
       "\n",
       "           city_x  is_user_first_session_x country_x  country_count_x  \\\n",
       "0        campbell                     True        US                1   \n",
       "1    douglasville                     True        US                1   \n",
       "2     middlesboro                     True        US                1   \n",
       "3           omaha                     True        US                1   \n",
       "4  rio de janeiro                    False        BR                1   \n",
       "\n",
       "  region_x  region_count_x  locale_x      ...       country_count_y  region_y  \\\n",
       "0       ca               1     en_US      ...                   NaN       NaN   \n",
       "1       ga               1     en_US      ...                   NaN       NaN   \n",
       "2       ky               1     en_US      ...                   NaN       NaN   \n",
       "3       ne               1     en_US      ...                   NaN       NaN   \n",
       "4       rj               1  pt-BR_BR      ...                   NaN       NaN   \n",
       "\n",
       "   region_count_y  locale_y  user_days_y total_session_time_y  \\\n",
       "0             NaN       NaN          NaN                  NaN   \n",
       "1             NaN       NaN          NaN                  NaN   \n",
       "2             NaN       NaN          NaN                  NaN   \n",
       "3             NaN       NaN          NaN                  NaN   \n",
       "4             NaN       NaN          NaN                  NaN   \n",
       "\n",
       "   mean_session_time_y  median_session_time_y  no_of_buys_y  sum_of_buys_y  \n",
       "0                  NaN                    NaN           NaN            NaN  \n",
       "1                  NaN                    NaN           NaN            NaN  \n",
       "2                  NaN                    NaN           NaN            NaN  \n",
       "3                  NaN                    NaN           NaN            NaN  \n",
       "4                  NaN                    NaN           NaN            NaN  \n",
       "\n",
       "[5 rows x 35 columns]"
      ]
     },
     "execution_count": 51,
     "metadata": {},
     "output_type": "execute_result"
    }
   ],
   "source": [
    "df.head()"
   ]
  },
  {
   "cell_type": "code",
   "execution_count": 52,
   "metadata": {
    "ExecuteTime": {
     "end_time": "2019-02-26T04:02:07.800828Z",
     "start_time": "2019-02-26T04:02:06.392870Z"
    }
   },
   "outputs": [
    {
     "data": {
      "text/plain": [
       "week_start                      0\n",
       "user_id_hash                    0\n",
       "no_city_x                       0\n",
       "city_x                          0\n",
       "is_user_first_session_x         0\n",
       "country_x                       0\n",
       "country_count_x                 0\n",
       "region_x                        0\n",
       "region_count_x                  0\n",
       "locale_x                        0\n",
       "os_name                         0\n",
       "user_days_x                     0\n",
       "total_session_time_x            0\n",
       "mean_session_time_x             0\n",
       "median_session_time_x           0\n",
       "user_created_timestamp          0\n",
       "no_of_buys_x                    0\n",
       "sum_of_buys_x                   0\n",
       "y1                              0\n",
       "y2                              0\n",
       "user_age                        0\n",
       "no_city_y                  677455\n",
       "city_y                     677455\n",
       "is_user_first_session_y    677455\n",
       "country_y                  677455\n",
       "country_count_y            677455\n",
       "region_y                   677455\n",
       "region_count_y             677455\n",
       "locale_y                   677455\n",
       "user_days_y                677455\n",
       "total_session_time_y       677455\n",
       "mean_session_time_y        677455\n",
       "median_session_time_y      677455\n",
       "no_of_buys_y               677455\n",
       "sum_of_buys_y              677455\n",
       "dtype: int64"
      ]
     },
     "execution_count": 52,
     "metadata": {},
     "output_type": "execute_result"
    }
   ],
   "source": [
    "df.isna().sum(axis=0)"
   ]
  },
  {
   "cell_type": "code",
   "execution_count": 53,
   "metadata": {
    "ExecuteTime": {
     "end_time": "2019-02-26T04:02:48.169704Z",
     "start_time": "2019-02-26T04:02:48.165168Z"
    }
   },
   "outputs": [
    {
     "data": {
      "text/plain": [
       "(994636, 35)"
      ]
     },
     "execution_count": 53,
     "metadata": {},
     "output_type": "execute_result"
    }
   ],
   "source": [
    "df.shape"
   ]
  },
  {
   "cell_type": "code",
   "execution_count": 54,
   "metadata": {
    "ExecuteTime": {
     "end_time": "2019-02-26T04:02:51.818890Z",
     "start_time": "2019-02-26T04:02:51.612394Z"
    }
   },
   "outputs": [],
   "source": [
    "df = df[df.week_start != '2018-10-01']"
   ]
  },
  {
   "cell_type": "code",
   "execution_count": 55,
   "metadata": {
    "ExecuteTime": {
     "end_time": "2019-02-26T04:02:55.639509Z",
     "start_time": "2019-02-26T04:02:55.635339Z"
    }
   },
   "outputs": [
    {
     "data": {
      "text/plain": [
       "(930062, 35)"
      ]
     },
     "execution_count": 55,
     "metadata": {},
     "output_type": "execute_result"
    }
   ],
   "source": [
    "df.shape"
   ]
  },
  {
   "cell_type": "code",
   "execution_count": 60,
   "metadata": {
    "ExecuteTime": {
     "end_time": "2019-02-26T04:06:15.112352Z",
     "start_time": "2019-02-26T04:06:14.095146Z"
    }
   },
   "outputs": [
    {
     "data": {
      "text/plain": [
       "week_start                      0\n",
       "user_id_hash                    0\n",
       "no_city_x                       0\n",
       "city_x                          0\n",
       "is_user_first_session_x         0\n",
       "country_x                       0\n",
       "country_count_x                 0\n",
       "region_x                        0\n",
       "region_count_x                  0\n",
       "locale_x                        0\n",
       "os_name                         0\n",
       "user_days_x                     0\n",
       "total_session_time_x            0\n",
       "mean_session_time_x             0\n",
       "median_session_time_x           0\n",
       "user_created_timestamp          0\n",
       "no_of_buys_x                    0\n",
       "sum_of_buys_x                   0\n",
       "y1                              0\n",
       "y2                              0\n",
       "user_age                        0\n",
       "no_city_y                  612881\n",
       "city_y                     612881\n",
       "is_user_first_session_y    612881\n",
       "country_y                  612881\n",
       "country_count_y            612881\n",
       "region_y                   612881\n",
       "region_count_y             612881\n",
       "locale_y                   612881\n",
       "user_days_y                612881\n",
       "total_session_time_y       612881\n",
       "mean_session_time_y        612881\n",
       "median_session_time_y      612881\n",
       "no_of_buys_y               612881\n",
       "sum_of_buys_y              612881\n",
       "dtype: int64"
      ]
     },
     "execution_count": 60,
     "metadata": {},
     "output_type": "execute_result"
    }
   ],
   "source": [
    "df.isna().sum(axis=0)"
   ]
  },
  {
   "cell_type": "code",
   "execution_count": 61,
   "metadata": {
    "ExecuteTime": {
     "end_time": "2019-02-26T04:06:22.749085Z",
     "start_time": "2019-02-26T04:06:22.742998Z"
    }
   },
   "outputs": [
    {
     "data": {
      "text/plain": [
       "week_start                 datetime64[ns]\n",
       "user_id_hash                       object\n",
       "no_city_x                           int64\n",
       "city_x                           category\n",
       "is_user_first_session_x              bool\n",
       "country_x                        category\n",
       "country_count_x                     int64\n",
       "region_x                         category\n",
       "region_count_x                      int64\n",
       "locale_x                         category\n",
       "os_name                          category\n",
       "user_days_x                         int64\n",
       "total_session_time_x                int64\n",
       "mean_session_time_x               float64\n",
       "median_session_time_x             float64\n",
       "user_created_timestamp             object\n",
       "no_of_buys_x                      float64\n",
       "sum_of_buys_x                     float64\n",
       "y1                                   bool\n",
       "y2                                   bool\n",
       "user_age                          float64\n",
       "no_city_y                         float64\n",
       "city_y                           category\n",
       "is_user_first_session_y            object\n",
       "country_y                        category\n",
       "country_count_y                   float64\n",
       "region_y                         category\n",
       "region_count_y                    float64\n",
       "locale_y                         category\n",
       "user_days_y                       float64\n",
       "total_session_time_y              float64\n",
       "mean_session_time_y               float64\n",
       "median_session_time_y             float64\n",
       "no_of_buys_y                      float64\n",
       "sum_of_buys_y                     float64\n",
       "dtype: object"
      ]
     },
     "execution_count": 61,
     "metadata": {},
     "output_type": "execute_result"
    }
   ],
   "source": [
    "df.dtypes"
   ]
  },
  {
   "cell_type": "code",
   "execution_count": 62,
   "metadata": {
    "ExecuteTime": {
     "end_time": "2019-02-26T04:07:07.679577Z",
     "start_time": "2019-02-26T04:07:07.676519Z"
    }
   },
   "outputs": [],
   "source": [
    "fill_cols = ['city_y', 'country_y', 'region_y', 'locale_y']"
   ]
  },
  {
   "cell_type": "code",
   "execution_count": 63,
   "metadata": {
    "ExecuteTime": {
     "end_time": "2019-02-26T04:07:10.042866Z",
     "start_time": "2019-02-26T04:07:08.433039Z"
    }
   },
   "outputs": [],
   "source": [
    "for c in fill_cols:\n",
    "    df[c] = df[c].cat.add_categories([-99])\n",
    "    df[c].fillna(-99, inplace=True)"
   ]
  },
  {
   "cell_type": "code",
   "execution_count": 66,
   "metadata": {
    "ExecuteTime": {
     "end_time": "2019-02-26T04:08:46.747089Z",
     "start_time": "2019-02-26T04:08:46.742996Z"
    }
   },
   "outputs": [],
   "source": [
    "fill_cols = ['no_city_y', 'is_user_first_session_y', 'country_count_y',\n",
    "             'region_count_y', 'user_days_y', 'total_session_time_y',\n",
    "             'mean_session_time_y', 'median_session_time_y', 'no_of_buys_y',\n",
    "             'sum_of_buys_y']"
   ]
  },
  {
   "cell_type": "code",
   "execution_count": 67,
   "metadata": {
    "ExecuteTime": {
     "end_time": "2019-02-26T04:08:56.634844Z",
     "start_time": "2019-02-26T04:08:56.319924Z"
    }
   },
   "outputs": [],
   "source": [
    "for c in fill_cols:\n",
    "    df[c].fillna(-99, inplace=True)"
   ]
  },
  {
   "cell_type": "code",
   "execution_count": 70,
   "metadata": {
    "ExecuteTime": {
     "end_time": "2019-02-26T04:10:14.184512Z",
     "start_time": "2019-02-26T04:10:14.172800Z"
    }
   },
   "outputs": [],
   "source": [
    "df.week_start = df.week_start.astype('category')"
   ]
  },
  {
   "cell_type": "code",
   "execution_count": 73,
   "metadata": {
    "ExecuteTime": {
     "end_time": "2019-02-26T04:11:00.446405Z",
     "start_time": "2019-02-26T04:11:00.376868Z"
    }
   },
   "outputs": [],
   "source": [
    "df.week_start = df.week_start.dt.date"
   ]
  },
  {
   "cell_type": "code",
   "execution_count": 74,
   "metadata": {
    "ExecuteTime": {
     "end_time": "2019-02-26T04:11:01.852362Z",
     "start_time": "2019-02-26T04:11:01.777891Z"
    }
   },
   "outputs": [
    {
     "data": {
      "text/plain": [
       "array([datetime.date(2018, 10, 8), datetime.date(2018, 10, 15),\n",
       "       datetime.date(2018, 10, 22), datetime.date(2018, 10, 29),\n",
       "       datetime.date(2018, 11, 5), datetime.date(2018, 11, 12),\n",
       "       datetime.date(2018, 11, 19), datetime.date(2018, 11, 26),\n",
       "       datetime.date(2018, 12, 3), datetime.date(2018, 12, 10)],\n",
       "      dtype=object)"
      ]
     },
     "execution_count": 74,
     "metadata": {},
     "output_type": "execute_result"
    }
   ],
   "source": [
    "df.week_start.unique()"
   ]
  },
  {
   "cell_type": "code",
   "execution_count": 90,
   "metadata": {
    "ExecuteTime": {
     "end_time": "2019-02-26T04:17:15.420363Z",
     "start_time": "2019-02-26T04:17:15.417087Z"
    }
   },
   "outputs": [],
   "source": [
    "df.reset_index(inplace=True, drop=True)"
   ]
  },
  {
   "cell_type": "code",
   "execution_count": 91,
   "metadata": {
    "ExecuteTime": {
     "end_time": "2019-02-26T04:17:16.227543Z",
     "start_time": "2019-02-26T04:17:15.967292Z"
    }
   },
   "outputs": [],
   "source": [
    "train = df[df.week_start < dt.date(2018, 12, 10)]\n",
    "# test = df[df.week_start >= dt.date(2018, 12, 10)]"
   ]
  },
  {
   "cell_type": "code",
   "execution_count": 92,
   "metadata": {
    "ExecuteTime": {
     "end_time": "2019-02-26T04:17:17.339219Z",
     "start_time": "2019-02-26T04:17:17.259651Z"
    }
   },
   "outputs": [
    {
     "data": {
      "text/plain": [
       "(45038, 35)"
      ]
     },
     "execution_count": 92,
     "metadata": {},
     "output_type": "execute_result"
    }
   ],
   "source": [
    "df[df.week_start == dt.date(2018, 12, 3)].shape"
   ]
  },
  {
   "cell_type": "code",
   "execution_count": 93,
   "metadata": {
    "ExecuteTime": {
     "end_time": "2019-02-26T04:17:19.037361Z",
     "start_time": "2019-02-26T04:17:18.961166Z"
    }
   },
   "outputs": [
    {
     "data": {
      "text/plain": [
       "(29487, 35)"
      ]
     },
     "execution_count": 93,
     "metadata": {},
     "output_type": "execute_result"
    }
   ],
   "source": [
    "df[df.week_start == dt.date(2018, 12, 10)].shape"
   ]
  },
  {
   "cell_type": "code",
   "execution_count": 94,
   "metadata": {
    "ExecuteTime": {
     "end_time": "2019-02-26T04:17:19.452101Z",
     "start_time": "2019-02-26T04:17:19.376218Z"
    }
   },
   "outputs": [
    {
     "data": {
      "text/plain": [
       "0"
      ]
     },
     "execution_count": 94,
     "metadata": {},
     "output_type": "execute_result"
    }
   ],
   "source": [
    "df[df.week_start == dt.date(2018, 12, 10)]['y1'].sum()"
   ]
  },
  {
   "cell_type": "code",
   "execution_count": 95,
   "metadata": {
    "ExecuteTime": {
     "end_time": "2019-02-26T04:17:19.903202Z",
     "start_time": "2019-02-26T04:17:19.823452Z"
    }
   },
   "outputs": [
    {
     "data": {
      "text/plain": [
       "2110"
      ]
     },
     "execution_count": 95,
     "metadata": {},
     "output_type": "execute_result"
    }
   ],
   "source": [
    "df[df.week_start == dt.date(2018, 12, 3)]['y1'].sum()"
   ]
  },
  {
   "cell_type": "code",
   "execution_count": 96,
   "metadata": {
    "ExecuteTime": {
     "end_time": "2019-02-26T04:17:20.636870Z",
     "start_time": "2019-02-26T04:17:20.557048Z"
    }
   },
   "outputs": [
    {
     "data": {
      "text/plain": [
       "2110"
      ]
     },
     "execution_count": 96,
     "metadata": {},
     "output_type": "execute_result"
    }
   ],
   "source": [
    "df[df.week_start == dt.date(2018, 12, 3)]['y2'].sum()"
   ]
  },
  {
   "cell_type": "code",
   "execution_count": 97,
   "metadata": {
    "ExecuteTime": {
     "end_time": "2019-02-26T04:17:21.132063Z",
     "start_time": "2019-02-26T04:17:21.127477Z"
    }
   },
   "outputs": [
    {
     "data": {
      "text/plain": [
       "Index(['week_start', 'user_id_hash', 'no_city_x', 'city_x',\n",
       "       'is_user_first_session_x', 'country_x', 'country_count_x', 'region_x',\n",
       "       'region_count_x', 'locale_x', 'os_name', 'user_days_x',\n",
       "       'total_session_time_x', 'mean_session_time_x', 'median_session_time_x',\n",
       "       'user_created_timestamp', 'no_of_buys_x', 'sum_of_buys_x', 'y1', 'y2',\n",
       "       'user_age', 'no_city_y', 'city_y', 'is_user_first_session_y',\n",
       "       'country_y', 'country_count_y', 'region_y', 'region_count_y',\n",
       "       'locale_y', 'user_days_y', 'total_session_time_y',\n",
       "       'mean_session_time_y', 'median_session_time_y', 'no_of_buys_y',\n",
       "       'sum_of_buys_y'],\n",
       "      dtype='object')"
      ]
     },
     "execution_count": 97,
     "metadata": {},
     "output_type": "execute_result"
    }
   ],
   "source": [
    "train.columns"
   ]
  },
  {
   "cell_type": "code",
   "execution_count": 99,
   "metadata": {
    "ExecuteTime": {
     "end_time": "2019-02-26T04:17:47.166247Z",
     "start_time": "2019-02-26T04:17:47.162781Z"
    }
   },
   "outputs": [],
   "source": [
    "from warnings import filterwarnings"
   ]
  },
  {
   "cell_type": "code",
   "execution_count": 100,
   "metadata": {
    "ExecuteTime": {
     "end_time": "2019-02-26T04:17:53.469314Z",
     "start_time": "2019-02-26T04:17:53.465941Z"
    }
   },
   "outputs": [],
   "source": [
    "filterwarnings('ignore')"
   ]
  },
  {
   "cell_type": "code",
   "execution_count": 101,
   "metadata": {
    "ExecuteTime": {
     "end_time": "2019-02-26T04:18:03.957668Z",
     "start_time": "2019-02-26T04:17:54.720547Z"
    }
   },
   "outputs": [],
   "source": [
    "reg_target_encoding(train, col='country_x')"
   ]
  },
  {
   "cell_type": "code",
   "execution_count": 103,
   "metadata": {
    "ExecuteTime": {
     "end_time": "2019-02-26T04:18:30.901910Z",
     "start_time": "2019-02-26T04:18:20.742542Z"
    }
   },
   "outputs": [],
   "source": [
    "reg_target_encoding(train, col='week_start')"
   ]
  },
  {
   "cell_type": "code",
   "execution_count": 104,
   "metadata": {
    "ExecuteTime": {
     "end_time": "2019-02-26T04:18:41.919770Z",
     "start_time": "2019-02-26T04:18:30.904602Z"
    }
   },
   "outputs": [],
   "source": [
    "reg_target_encoding(train, col='region_x')"
   ]
  },
  {
   "cell_type": "code",
   "execution_count": 105,
   "metadata": {
    "ExecuteTime": {
     "end_time": "2019-02-26T04:21:01.628120Z",
     "start_time": "2019-02-26T04:20:49.775654Z"
    }
   },
   "outputs": [],
   "source": [
    "train.city_x = train.city_x.cat.codes\n",
    "train.city_y = train.city_y.cat.codes\n",
    "train.country_x = train.country_x.cat.codes\n",
    "train.country_y = train.country_y.cat.codes\n",
    "train.region_x = train.region_x.cat.codes\n",
    "train.region_y = train.region_y.cat.codes\n",
    "train.os_name = train.os_name.cat.codes\n",
    "train.locale_x = train.locale_x.cat.codes\n",
    "train.locale_y = train.locale_y.cat.codes"
   ]
  },
  {
   "cell_type": "code",
   "execution_count": 107,
   "metadata": {
    "ExecuteTime": {
     "end_time": "2019-02-26T04:21:26.309231Z",
     "start_time": "2019-02-26T04:21:26.306019Z"
    }
   },
   "outputs": [],
   "source": [
    "import numpy as np"
   ]
  },
  {
   "cell_type": "code",
   "execution_count": 108,
   "metadata": {
    "ExecuteTime": {
     "end_time": "2019-02-26T04:21:32.394623Z",
     "start_time": "2019-02-26T04:21:26.724773Z"
    }
   },
   "outputs": [],
   "source": [
    "train.is_user_first_session_x = train.is_user_first_session_x.astype(np.int)\n",
    "train.is_user_first_session_y = train.is_user_first_session_y.astype(np.int)\n",
    "train['y1'] = train['y1'].astype(np.int)\n",
    "train['y2'] = train['y2'].astype(np.int)"
   ]
  },
  {
   "cell_type": "code",
   "execution_count": 109,
   "metadata": {
    "ExecuteTime": {
     "end_time": "2019-02-26T04:21:39.097238Z",
     "start_time": "2019-02-26T04:21:39.091908Z"
    }
   },
   "outputs": [
    {
     "data": {
      "text/plain": [
       "(900575, 38)"
      ]
     },
     "execution_count": 109,
     "metadata": {},
     "output_type": "execute_result"
    }
   ],
   "source": [
    "train.shape"
   ]
  },
  {
   "cell_type": "code",
   "execution_count": 116,
   "metadata": {
    "ExecuteTime": {
     "end_time": "2019-02-26T04:24:49.644178Z",
     "start_time": "2019-02-26T04:24:49.639409Z"
    }
   },
   "outputs": [],
   "source": [
    "feature_cols = ['no_city_x', 'city_x', 'is_user_first_session_x',\n",
    "                'country_x', 'country_count_x', 'region_x',\n",
    "                'region_count_x', 'locale_x', 'os_name', 'user_days_x',\n",
    "                'total_session_time_x', 'mean_session_time_x',\n",
    "                'median_session_time_x', 'no_of_buys_x', 'sum_of_buys_x',\n",
    "                'user_age', 'no_city_y', 'city_y', 'is_user_first_session_y',\n",
    "                'country_y', 'country_count_y', 'region_y', 'region_count_y',\n",
    "                'locale_y', 'user_days_y', 'total_session_time_y',\n",
    "                'mean_session_time_y', 'median_session_time_y', 'no_of_buys_y',\n",
    "                'sum_of_buys_y', 'country_x_mean_enc',\n",
    "                'region_x_mean_enc']"
   ]
  },
  {
   "cell_type": "code",
   "execution_count": 119,
   "metadata": {
    "ExecuteTime": {
     "end_time": "2019-02-26T04:25:09.086279Z",
     "start_time": "2019-02-26T04:25:09.080147Z"
    }
   },
   "outputs": [
    {
     "data": {
      "text/plain": [
       "0.037305791269076946"
      ]
     },
     "execution_count": 119,
     "metadata": {},
     "output_type": "execute_result"
    }
   ],
   "source": [
    "train.country_x_mean_enc.mean()"
   ]
  },
  {
   "cell_type": "code",
   "execution_count": 120,
   "metadata": {
    "ExecuteTime": {
     "end_time": "2019-02-26T04:25:29.629651Z",
     "start_time": "2019-02-26T04:25:29.623445Z"
    }
   },
   "outputs": [
    {
     "data": {
      "text/plain": [
       "0.03730488873248875"
      ]
     },
     "execution_count": 120,
     "metadata": {},
     "output_type": "execute_result"
    }
   ],
   "source": [
    "train.region_x_mean_enc.mean()"
   ]
  },
  {
   "cell_type": "code",
   "execution_count": 121,
   "metadata": {
    "ExecuteTime": {
     "end_time": "2019-02-26T04:27:11.669328Z",
     "start_time": "2019-02-26T04:27:09.028487Z"
    }
   },
   "outputs": [],
   "source": [
    "train.country_x_mean_enc.fillna(0.0373, inplace=True)\n",
    "train.region_x_mean_enc.fillna(0.0373, inplace=True)"
   ]
  },
  {
   "cell_type": "code",
   "execution_count": 123,
   "metadata": {
    "ExecuteTime": {
     "end_time": "2019-02-26T04:27:28.742315Z",
     "start_time": "2019-02-26T04:27:28.389511Z"
    }
   },
   "outputs": [],
   "source": [
    "x_train = train[feature_cols].values\n",
    "y1_train = train[['y1']]\n",
    "y2_train = train[['y2']]"
   ]
  },
  {
   "cell_type": "code",
   "execution_count": 125,
   "metadata": {
    "ExecuteTime": {
     "end_time": "2019-02-26T04:29:24.320614Z",
     "start_time": "2019-02-26T04:29:23.747888Z"
    }
   },
   "outputs": [],
   "source": [
    "import imblearn"
   ]
  },
  {
   "cell_type": "code",
   "execution_count": 126,
   "metadata": {
    "ExecuteTime": {
     "end_time": "2019-02-26T04:29:57.934352Z",
     "start_time": "2019-02-26T04:29:57.931129Z"
    }
   },
   "outputs": [],
   "source": [
    "from imblearn.over_sampling import RandomOverSampler"
   ]
  },
  {
   "cell_type": "code",
   "execution_count": 128,
   "metadata": {
    "ExecuteTime": {
     "end_time": "2019-02-26T04:30:13.469529Z",
     "start_time": "2019-02-26T04:30:13.465927Z"
    }
   },
   "outputs": [],
   "source": [
    "ros = RandomOverSampler(return_indices=True)"
   ]
  },
  {
   "cell_type": "code",
   "execution_count": 129,
   "metadata": {
    "ExecuteTime": {
     "end_time": "2019-02-26T04:30:43.895771Z",
     "start_time": "2019-02-26T04:30:42.719795Z"
    }
   },
   "outputs": [],
   "source": [
    "X_ros, y_ros, id_ros = ros.fit_sample(x_train, y1_train)"
   ]
  },
  {
   "cell_type": "code",
   "execution_count": 130,
   "metadata": {
    "ExecuteTime": {
     "end_time": "2019-02-26T04:31:36.228211Z",
     "start_time": "2019-02-26T04:31:36.223295Z"
    }
   },
   "outputs": [
    {
     "data": {
      "text/plain": [
       "(1733972, 32)"
      ]
     },
     "execution_count": 130,
     "metadata": {},
     "output_type": "execute_result"
    }
   ],
   "source": [
    "X_ros.shape"
   ]
  },
  {
   "cell_type": "code",
   "execution_count": 132,
   "metadata": {
    "ExecuteTime": {
     "end_time": "2019-02-26T04:31:59.724468Z",
     "start_time": "2019-02-26T04:31:59.401357Z"
    }
   },
   "outputs": [
    {
     "data": {
      "text/plain": [
       "866986"
      ]
     },
     "execution_count": 132,
     "metadata": {},
     "output_type": "execute_result"
    }
   ],
   "source": [
    "sum(y_ros)"
   ]
  },
  {
   "cell_type": "code",
   "execution_count": 133,
   "metadata": {
    "ExecuteTime": {
     "end_time": "2019-02-26T04:32:28.031568Z",
     "start_time": "2019-02-26T04:32:27.740813Z"
    }
   },
   "outputs": [],
   "source": [
    "from xgboost import XGBClassifier\n",
    "from sklearn.metrics import accuracy_score"
   ]
  },
  {
   "cell_type": "code",
   "execution_count": 2,
   "metadata": {
    "ExecuteTime": {
     "end_time": "2019-02-27T05:06:48.687042Z",
     "start_time": "2019-02-27T05:06:48.684374Z"
    }
   },
   "outputs": [],
   "source": [
    "xg_model1 = XGBClassifier(max_depth=5, learning_rate=0.01, n_estimators=200, n_jobs=-1)"
   ]
  },
  {
   "cell_type": "code",
   "execution_count": 135,
   "metadata": {
    "ExecuteTime": {
     "end_time": "2019-02-26T04:36:41.485107Z",
     "start_time": "2019-02-26T04:32:51.645159Z"
    }
   },
   "outputs": [
    {
     "data": {
      "text/plain": [
       "XGBClassifier(base_score=0.5, booster='gbtree', colsample_bylevel=1,\n",
       "       colsample_bytree=1, gamma=0, learning_rate=0.1, max_delta_step=0,\n",
       "       max_depth=7, min_child_weight=1, missing=None, n_estimators=300,\n",
       "       n_jobs=-1, nthread=None, objective='binary:logistic',\n",
       "       random_state=0, reg_alpha=0, reg_lambda=1, scale_pos_weight=1,\n",
       "       seed=None, silent=True, subsample=1)"
      ]
     },
     "execution_count": 135,
     "metadata": {},
     "output_type": "execute_result"
    }
   ],
   "source": [
    "xg_model1.fit(X_ros, y_ros)"
   ]
  },
  {
   "cell_type": "code",
   "execution_count": 136,
   "metadata": {
    "ExecuteTime": {
     "end_time": "2019-02-26T04:37:35.908934Z",
     "start_time": "2019-02-26T04:37:34.066040Z"
    }
   },
   "outputs": [],
   "source": [
    "y1_hat_train = xg_model1.predict(x_train)"
   ]
  },
  {
   "cell_type": "code",
   "execution_count": 137,
   "metadata": {
    "ExecuteTime": {
     "end_time": "2019-02-26T04:37:38.633529Z",
     "start_time": "2019-02-26T04:37:38.571552Z"
    }
   },
   "outputs": [
    {
     "data": {
      "text/plain": [
       "0.8980351442134192"
      ]
     },
     "execution_count": 137,
     "metadata": {},
     "output_type": "execute_result"
    }
   ],
   "source": [
    "accuracy_score(y1_train, y1_hat_train)"
   ]
  },
  {
   "cell_type": "code",
   "execution_count": 141,
   "metadata": {
    "ExecuteTime": {
     "end_time": "2019-02-26T04:42:41.341859Z",
     "start_time": "2019-02-26T04:42:37.926043Z"
    }
   },
   "outputs": [
    {
     "data": {
      "text/plain": [
       "0.8783377124890137"
      ]
     },
     "execution_count": 141,
     "metadata": {},
     "output_type": "execute_result"
    }
   ],
   "source": [
    "accuracy_score(y_ros, xg_model1.predict(X_ros))"
   ]
  },
  {
   "cell_type": "code",
   "execution_count": 138,
   "metadata": {
    "ExecuteTime": {
     "end_time": "2019-02-26T04:38:42.679626Z",
     "start_time": "2019-02-26T04:38:42.676062Z"
    }
   },
   "outputs": [],
   "source": [
    "xg_model2 = XGBClassifier(max_depth=7, learning_rate=0.1, n_estimators=300, n_jobs=-1)"
   ]
  },
  {
   "cell_type": "code",
   "execution_count": 139,
   "metadata": {
    "ExecuteTime": {
     "end_time": "2019-02-26T04:40:49.829795Z",
     "start_time": "2019-02-26T04:39:06.231975Z"
    }
   },
   "outputs": [
    {
     "data": {
      "text/plain": [
       "XGBClassifier(base_score=0.5, booster='gbtree', colsample_bylevel=1,\n",
       "       colsample_bytree=1, gamma=0, learning_rate=0.1, max_delta_step=0,\n",
       "       max_depth=7, min_child_weight=1, missing=None, n_estimators=300,\n",
       "       n_jobs=-1, nthread=None, objective='binary:logistic',\n",
       "       random_state=0, reg_alpha=0, reg_lambda=1, scale_pos_weight=1,\n",
       "       seed=None, silent=True, subsample=1)"
      ]
     },
     "execution_count": 139,
     "metadata": {},
     "output_type": "execute_result"
    }
   ],
   "source": [
    "xg_model2.fit(x_train, y1_train)"
   ]
  },
  {
   "cell_type": "code",
   "execution_count": 140,
   "metadata": {
    "ExecuteTime": {
     "end_time": "2019-02-26T04:41:21.851064Z",
     "start_time": "2019-02-26T04:41:19.949377Z"
    }
   },
   "outputs": [
    {
     "data": {
      "text/plain": [
       "0.9724398301085417"
      ]
     },
     "execution_count": 140,
     "metadata": {},
     "output_type": "execute_result"
    }
   ],
   "source": [
    "accuracy_score(y1_train, xg_model2.predict(x_train))"
   ]
  },
  {
   "cell_type": "code",
   "execution_count": 186,
   "metadata": {
    "ExecuteTime": {
     "end_time": "2019-02-26T05:01:44.960190Z",
     "start_time": "2019-02-26T05:01:44.956757Z"
    }
   },
   "outputs": [],
   "source": [
    "xg_model3 = XGBClassifier(max_depth=7, learning_rate=0.1, n_estimators=300, n_jobs=-1)"
   ]
  },
  {
   "cell_type": "code",
   "execution_count": 189,
   "metadata": {
    "ExecuteTime": {
     "end_time": "2019-02-26T05:03:01.344369Z",
     "start_time": "2019-02-26T05:03:01.341796Z"
    }
   },
   "outputs": [],
   "source": [
    "from sklearn.ensemble import RandomForestClassifier"
   ]
  },
  {
   "cell_type": "code",
   "execution_count": 192,
   "metadata": {
    "ExecuteTime": {
     "end_time": "2019-02-26T05:04:18.138814Z",
     "start_time": "2019-02-26T05:04:18.135530Z"
    }
   },
   "outputs": [],
   "source": [
    "rf1 = RandomForestClassifier(n_estimators=300, min_samples_leaf=10, n_jobs=-1)"
   ]
  },
  {
   "cell_type": "code",
   "execution_count": 193,
   "metadata": {
    "ExecuteTime": {
     "end_time": "2019-02-26T05:06:42.496977Z",
     "start_time": "2019-02-26T05:04:18.803130Z"
    }
   },
   "outputs": [
    {
     "data": {
      "text/plain": [
       "RandomForestClassifier(bootstrap=True, class_weight=None, criterion='gini',\n",
       "            max_depth=None, max_features='auto', max_leaf_nodes=None,\n",
       "            min_impurity_decrease=0.0, min_impurity_split=None,\n",
       "            min_samples_leaf=10, min_samples_split=2,\n",
       "            min_weight_fraction_leaf=0.0, n_estimators=300, n_jobs=-1,\n",
       "            oob_score=False, random_state=None, verbose=0,\n",
       "            warm_start=False)"
      ]
     },
     "execution_count": 193,
     "metadata": {},
     "output_type": "execute_result"
    }
   ],
   "source": [
    "rf1.fit(x_train, y1_train)"
   ]
  },
  {
   "cell_type": "code",
   "execution_count": 194,
   "metadata": {
    "ExecuteTime": {
     "end_time": "2019-02-26T05:08:28.189336Z",
     "start_time": "2019-02-26T05:08:21.279622Z"
    }
   },
   "outputs": [
    {
     "data": {
      "text/plain": [
       "0.9747239263803681"
      ]
     },
     "execution_count": 194,
     "metadata": {},
     "output_type": "execute_result"
    }
   ],
   "source": [
    "accuracy_score(y1_train, rf1.predict(x_train))"
   ]
  },
  {
   "cell_type": "code",
   "execution_count": 201,
   "metadata": {
    "ExecuteTime": {
     "end_time": "2019-02-26T05:14:30.900162Z",
     "start_time": "2019-02-26T05:14:30.896287Z"
    }
   },
   "outputs": [],
   "source": [
    "rf2 = RandomForestClassifier(n_estimators=300, min_samples_leaf=10, n_jobs=-1)"
   ]
  },
  {
   "cell_type": "code",
   "execution_count": 202,
   "metadata": {
    "ExecuteTime": {
     "end_time": "2019-02-26T05:17:03.243863Z",
     "start_time": "2019-02-26T05:14:44.184312Z"
    }
   },
   "outputs": [
    {
     "data": {
      "text/plain": [
       "RandomForestClassifier(bootstrap=True, class_weight=None, criterion='gini',\n",
       "            max_depth=None, max_features='auto', max_leaf_nodes=None,\n",
       "            min_impurity_decrease=0.0, min_impurity_split=None,\n",
       "            min_samples_leaf=10, min_samples_split=2,\n",
       "            min_weight_fraction_leaf=0.0, n_estimators=300, n_jobs=-1,\n",
       "            oob_score=False, random_state=None, verbose=0,\n",
       "            warm_start=False)"
      ]
     },
     "execution_count": 202,
     "metadata": {},
     "output_type": "execute_result"
    }
   ],
   "source": [
    "rf2.fit(x_train, y2_train)"
   ]
  },
  {
   "cell_type": "code",
   "execution_count": 203,
   "metadata": {
    "ExecuteTime": {
     "end_time": "2019-02-26T05:17:19.709045Z",
     "start_time": "2019-02-26T05:17:12.701497Z"
    }
   },
   "outputs": [
    {
     "data": {
      "text/plain": [
       "0.971078477639286"
      ]
     },
     "execution_count": 203,
     "metadata": {},
     "output_type": "execute_result"
    }
   ],
   "source": [
    "accuracy_score(y2_train, rf2.predict(x_train))"
   ]
  },
  {
   "cell_type": "code",
   "execution_count": 233,
   "metadata": {
    "ExecuteTime": {
     "end_time": "2019-02-26T06:39:52.901849Z",
     "start_time": "2019-02-26T06:39:52.891193Z"
    }
   },
   "outputs": [],
   "source": [
    "feature_cols = ['no_city_x', 'city_x', 'is_user_first_session_x',\n",
    "                'country_x', 'country_count_x', 'region_x',\n",
    "                'region_count_x', 'locale_x', 'user_days_x',\n",
    "                'total_session_time_x', 'mean_session_time_x',\n",
    "                'median_session_time_x', 'no_of_buys_x', 'sum_of_buys_x',\n",
    "                'user_age']"
   ]
  },
  {
   "cell_type": "code",
   "execution_count": 234,
   "metadata": {
    "ExecuteTime": {
     "end_time": "2019-02-26T06:40:00.835651Z",
     "start_time": "2019-02-26T06:40:00.830372Z"
    }
   },
   "outputs": [],
   "source": [
    "rf = RandomForestClassifier(n_estimators=300, min_samples_leaf=10, n_jobs=-1)"
   ]
  },
  {
   "cell_type": "code",
   "execution_count": 235,
   "metadata": {
    "ExecuteTime": {
     "end_time": "2019-02-26T06:42:21.469448Z",
     "start_time": "2019-02-26T06:40:08.452183Z"
    }
   },
   "outputs": [
    {
     "data": {
      "text/plain": [
       "RandomForestClassifier(bootstrap=True, class_weight=None, criterion='gini',\n",
       "            max_depth=None, max_features='auto', max_leaf_nodes=None,\n",
       "            min_impurity_decrease=0.0, min_impurity_split=None,\n",
       "            min_samples_leaf=10, min_samples_split=2,\n",
       "            min_weight_fraction_leaf=0.0, n_estimators=300, n_jobs=-1,\n",
       "            oob_score=False, random_state=None, verbose=0,\n",
       "            warm_start=False)"
      ]
     },
     "execution_count": 235,
     "metadata": {},
     "output_type": "execute_result"
    }
   ],
   "source": [
    "rf.fit(x_train, y1_train)"
   ]
  },
  {
   "cell_type": "code",
   "execution_count": 226,
   "metadata": {
    "ExecuteTime": {
     "end_time": "2019-02-26T05:43:17.839357Z",
     "start_time": "2019-02-26T05:41:02.919180Z"
    }
   },
   "outputs": [
    {
     "data": {
      "text/plain": [
       "RandomForestClassifier(bootstrap=True, class_weight=None, criterion='gini',\n",
       "            max_depth=None, max_features='auto', max_leaf_nodes=None,\n",
       "            min_impurity_decrease=0.0, min_impurity_split=None,\n",
       "            min_samples_leaf=10, min_samples_split=2,\n",
       "            min_weight_fraction_leaf=0.0, n_estimators=300, n_jobs=-1,\n",
       "            oob_score=False, random_state=None, verbose=0,\n",
       "            warm_start=False)"
      ]
     },
     "execution_count": 226,
     "metadata": {},
     "output_type": "execute_result"
    }
   ],
   "source": [
    "rf.fit(x_train, y1_train)"
   ]
  },
  {
   "cell_type": "code",
   "execution_count": 227,
   "metadata": {
    "ExecuteTime": {
     "end_time": "2019-02-26T05:43:24.866024Z",
     "start_time": "2019-02-26T05:43:17.841713Z"
    }
   },
   "outputs": [
    {
     "data": {
      "text/plain": [
       "0.9747983232934514"
      ]
     },
     "execution_count": 227,
     "metadata": {},
     "output_type": "execute_result"
    }
   ],
   "source": [
    "accuracy_score(y1_train, rf.predict(x_train))"
   ]
  },
  {
   "cell_type": "code",
   "execution_count": 236,
   "metadata": {
    "ExecuteTime": {
     "end_time": "2019-02-26T06:42:28.386063Z",
     "start_time": "2019-02-26T06:42:21.472805Z"
    }
   },
   "outputs": [
    {
     "data": {
      "text/plain": [
       "0.9747872192765733"
      ]
     },
     "execution_count": 236,
     "metadata": {},
     "output_type": "execute_result"
    }
   ],
   "source": [
    "accuracy_score(y1_train, rf.predict(x_train))"
   ]
  },
  {
   "cell_type": "code",
   "execution_count": 237,
   "metadata": {
    "ExecuteTime": {
     "end_time": "2019-02-26T06:44:15.743137Z",
     "start_time": "2019-02-26T06:44:15.633131Z"
    }
   },
   "outputs": [
    {
     "name": "stdout",
     "output_type": "stream",
     "text": [
      "user_age                      : 24.31%\n",
      "sum_of_buys_x                 : 20.01%\n",
      "mean_session_time_x           :  5.31%\n",
      "median_session_time_x         :  3.79%\n",
      "no_of_buys_x                  :  3.73%\n",
      "no_city_x                     :  3.67%\n",
      "total_session_time_x          :  3.56%\n",
      "city_x                        :  2.79%\n",
      "region_x                      :  1.99%\n",
      "locale_x                      :  0.83%\n",
      "country_x                     :  0.63%\n",
      "region_count_x                :  0.38%\n",
      "user_days_x                   :  0.32%\n",
      "is_user_first_session_x       :  0.19%\n",
      "country_count_x               :  0.01%\n"
     ]
    }
   ],
   "source": [
    "print_feature_importance(rf)"
   ]
  },
  {
   "cell_type": "code",
   "execution_count": 228,
   "metadata": {
    "ExecuteTime": {
     "end_time": "2019-02-26T05:43:24.978866Z",
     "start_time": "2019-02-26T05:43:24.868051Z"
    }
   },
   "outputs": [
    {
     "name": "stdout",
     "output_type": "stream",
     "text": [
      "user_age                      : 23.30%\n",
      "sum_of_buys_x                 : 21.80%\n",
      "mean_session_time_x           :  5.08%\n",
      "no_city_y                     :  4.27%\n",
      "median_session_time_x         :  3.82%\n",
      "no_of_buys_x                  :  3.75%\n",
      "no_city_x                     :  3.64%\n",
      "total_session_time_x          :  3.61%\n",
      "city_x                        :  2.78%\n",
      "region_x                      :  2.00%\n",
      "total_session_time_y          :  1.31%\n",
      "city_y                        :  1.05%\n",
      "sum_of_buys_y                 :  1.00%\n",
      "locale_x                      :  0.82%\n",
      "country_x                     :  0.61%\n",
      "region_count_x                :  0.40%\n",
      "user_days_x                   :  0.32%\n",
      "median_session_time_y         :  0.30%\n",
      "is_user_first_session_x       :  0.22%\n",
      "mean_session_time_y           :  0.21%\n",
      "no_of_buys_y                  :  0.04%\n",
      "country_count_x               :  0.01%\n"
     ]
    }
   ],
   "source": [
    "print_feature_importance(rf)"
   ]
  },
  {
   "cell_type": "code",
   "execution_count": 229,
   "metadata": {
    "ExecuteTime": {
     "end_time": "2019-02-26T05:44:31.122735Z",
     "start_time": "2019-02-26T05:44:31.118963Z"
    }
   },
   "outputs": [],
   "source": [
    "xg = XGBClassifier(max_depth=7, learning_rate=0.1, n_estimators=300, n_jobs=-1)"
   ]
  },
  {
   "cell_type": "code",
   "execution_count": 230,
   "metadata": {
    "ExecuteTime": {
     "end_time": "2019-02-26T05:46:23.712287Z",
     "start_time": "2019-02-26T05:44:41.061348Z"
    }
   },
   "outputs": [
    {
     "data": {
      "text/plain": [
       "XGBClassifier(base_score=0.5, booster='gbtree', colsample_bylevel=1,\n",
       "       colsample_bytree=1, gamma=0, learning_rate=0.1, max_delta_step=0,\n",
       "       max_depth=7, min_child_weight=1, missing=None, n_estimators=300,\n",
       "       n_jobs=-1, nthread=None, objective='binary:logistic',\n",
       "       random_state=0, reg_alpha=0, reg_lambda=1, scale_pos_weight=1,\n",
       "       seed=None, silent=True, subsample=1)"
      ]
     },
     "execution_count": 230,
     "metadata": {},
     "output_type": "execute_result"
    }
   ],
   "source": [
    "xg.fit(x_train, y1_train)"
   ]
  },
  {
   "cell_type": "code",
   "execution_count": 231,
   "metadata": {
    "ExecuteTime": {
     "end_time": "2019-02-26T05:46:25.794823Z",
     "start_time": "2019-02-26T05:46:23.719041Z"
    }
   },
   "outputs": [
    {
     "data": {
      "text/plain": [
       "0.9724398301085417"
      ]
     },
     "execution_count": 231,
     "metadata": {},
     "output_type": "execute_result"
    }
   ],
   "source": [
    "accuracy_score(y1_train, xg.predict(x_train))"
   ]
  },
  {
   "cell_type": "code",
   "execution_count": 232,
   "metadata": {
    "ExecuteTime": {
     "end_time": "2019-02-26T05:46:25.927141Z",
     "start_time": "2019-02-26T05:46:25.796926Z"
    }
   },
   "outputs": [
    {
     "name": "stdout",
     "output_type": "stream",
     "text": [
      "mean_session_time_x           :  8.48%\n",
      "no_city_y                     :  7.88%\n",
      "city_x                        :  7.78%\n",
      "median_session_time_x         :  5.80%\n",
      "no_of_buys_x                  :  5.43%\n",
      "region_x                      :  4.74%\n",
      "no_city_x                     :  4.16%\n",
      "locale_x                      :  3.95%\n",
      "user_age                      :  3.77%\n",
      "total_session_time_y          :  3.65%\n",
      "total_session_time_x          :  3.33%\n",
      "sum_of_buys_x                 :  3.06%\n",
      "city_y                        :  3.04%\n",
      "sum_of_buys_y                 :  2.04%\n",
      "country_x                     :  1.65%\n",
      "region_count_x                :  1.11%\n",
      "user_days_x                   :  0.85%\n",
      "median_session_time_y         :  0.84%\n",
      "country_count_x               :  0.27%\n",
      "mean_session_time_y           :  0.18%\n",
      "is_user_first_session_x       :  0.08%\n",
      "no_of_buys_y                  :  0.07%\n"
     ]
    }
   ],
   "source": [
    "print_feature_importance(xg)"
   ]
  },
  {
   "cell_type": "code",
   "execution_count": 197,
   "metadata": {
    "ExecuteTime": {
     "end_time": "2019-02-26T05:12:17.457152Z",
     "start_time": "2019-02-26T05:12:17.452031Z"
    }
   },
   "outputs": [],
   "source": [
    "def print_feature_importance(model):\n",
    "    feature_importance = dict(zip(feature_cols, model.feature_importances_))\n",
    "    for name, importance in sorted(feature_importance.items(), key=lambda x: x[1],\\\n",
    "                                   reverse=True):\n",
    "        print(f\"{name:<30}: {importance:>6.2%}\")"
   ]
  },
  {
   "cell_type": "code",
   "execution_count": 204,
   "metadata": {
    "ExecuteTime": {
     "end_time": "2019-02-26T05:17:28.728659Z",
     "start_time": "2019-02-26T05:17:28.618092Z"
    },
    "scrolled": false
   },
   "outputs": [
    {
     "name": "stdout",
     "output_type": "stream",
     "text": [
      "no_of_buys_x                  : 22.87%\n",
      "sum_of_buys_x                 : 22.39%\n",
      "sum_of_buys_y                 :  5.37%\n",
      "total_session_time_x          :  5.10%\n",
      "no_of_buys_y                  :  4.92%\n",
      "user_age                      :  3.89%\n",
      "mean_session_time_x           :  3.80%\n",
      "median_session_time_x         :  3.57%\n",
      "user_days_x                   :  3.55%\n",
      "no_city_x                     :  3.34%\n",
      "region_x_mean_enc             :  2.79%\n",
      "city_x                        :  2.67%\n",
      "country_x_mean_enc            :  2.02%\n",
      "region_x                      :  1.90%\n",
      "total_session_time_y          :  1.58%\n",
      "median_session_time_y         :  1.53%\n",
      "mean_session_time_y           :  1.52%\n",
      "city_y                        :  1.32%\n",
      "no_city_y                     :  1.00%\n",
      "region_y                      :  0.95%\n",
      "locale_x                      :  0.82%\n",
      "country_x                     :  0.63%\n",
      "user_days_y                   :  0.56%\n",
      "locale_y                      :  0.39%\n",
      "region_count_x                :  0.37%\n",
      "country_y                     :  0.32%\n",
      "os_name                       :  0.31%\n",
      "is_user_first_session_y       :  0.21%\n",
      "region_count_y                :  0.18%\n",
      "is_user_first_session_x       :  0.13%\n",
      "country_count_y               :  0.03%\n",
      "country_count_x               :  0.01%\n"
     ]
    }
   ],
   "source": [
    "print_feature_importance(rf2)"
   ]
  },
  {
   "cell_type": "code",
   "execution_count": 200,
   "metadata": {
    "ExecuteTime": {
     "end_time": "2019-02-26T05:13:04.351277Z",
     "start_time": "2019-02-26T05:13:04.245199Z"
    }
   },
   "outputs": [
    {
     "name": "stdout",
     "output_type": "stream",
     "text": [
      "total_session_time_x          :  8.48%\n",
      "user_age                      :  7.88%\n",
      "city_x                        :  7.78%\n",
      "region_x_mean_enc             :  7.13%\n",
      "country_x_mean_enc            :  5.91%\n",
      "mean_session_time_x           :  5.80%\n",
      "median_session_time_x         :  5.43%\n",
      "region_x                      :  4.74%\n",
      "no_city_x                     :  4.16%\n",
      "locale_x                      :  3.95%\n",
      "sum_of_buys_x                 :  3.77%\n",
      "city_y                        :  3.65%\n",
      "user_days_x                   :  3.33%\n",
      "total_session_time_y          :  3.10%\n",
      "no_of_buys_x                  :  3.06%\n",
      "no_city_y                     :  3.04%\n",
      "sum_of_buys_y                 :  2.75%\n",
      "mean_session_time_y           :  2.41%\n",
      "median_session_time_y         :  2.30%\n",
      "no_of_buys_y                  :  2.07%\n",
      "region_y                      :  2.04%\n",
      "country_x                     :  1.65%\n",
      "region_count_x                :  1.11%\n",
      "user_days_y                   :  0.87%\n",
      "os_name                       :  0.85%\n",
      "country_y                     :  0.84%\n",
      "locale_y                      :  0.70%\n",
      "region_count_y                :  0.59%\n",
      "country_count_x               :  0.27%\n",
      "is_user_first_session_y       :  0.18%\n",
      "is_user_first_session_x       :  0.08%\n",
      "country_count_y               :  0.07%\n"
     ]
    }
   ],
   "source": [
    "print_feature_importance(xg_model2)"
   ]
  },
  {
   "cell_type": "code",
   "execution_count": 199,
   "metadata": {
    "ExecuteTime": {
     "end_time": "2019-02-26T05:12:50.191261Z",
     "start_time": "2019-02-26T05:12:50.077994Z"
    }
   },
   "outputs": [
    {
     "name": "stdout",
     "output_type": "stream",
     "text": [
      "total_session_time_x          :  8.48%\n",
      "city_x                        :  7.95%\n",
      "user_age                      :  7.58%\n",
      "region_x_mean_enc             :  7.29%\n",
      "mean_session_time_x           :  5.92%\n",
      "country_x_mean_enc            :  5.61%\n",
      "region_x                      :  4.87%\n",
      "median_session_time_x         :  4.84%\n",
      "no_city_x                     :  4.48%\n",
      "no_of_buys_x                  :  4.43%\n",
      "locale_x                      :  4.05%\n",
      "user_days_x                   :  3.51%\n",
      "city_y                        :  3.42%\n",
      "total_session_time_y          :  3.12%\n",
      "sum_of_buys_x                 :  3.06%\n",
      "no_city_y                     :  2.78%\n",
      "mean_session_time_y           :  2.60%\n",
      "no_of_buys_y                  :  2.40%\n",
      "median_session_time_y         :  2.25%\n",
      "sum_of_buys_y                 :  2.07%\n",
      "region_y                      :  1.99%\n",
      "country_x                     :  1.66%\n",
      "region_count_x                :  1.06%\n",
      "user_days_y                   :  0.94%\n",
      "region_count_y                :  0.74%\n",
      "country_y                     :  0.72%\n",
      "os_name                       :  0.69%\n",
      "locale_y                      :  0.64%\n",
      "is_user_first_session_y       :  0.30%\n",
      "country_count_x               :  0.28%\n",
      "is_user_first_session_x       :  0.15%\n",
      "country_count_y               :  0.11%\n"
     ]
    }
   ],
   "source": [
    "print_feature_importance(xg_model1)"
   ]
  },
  {
   "cell_type": "code",
   "execution_count": 223,
   "metadata": {
    "ExecuteTime": {
     "end_time": "2019-02-26T05:28:02.193739Z",
     "start_time": "2019-02-26T05:28:02.188088Z"
    }
   },
   "outputs": [
    {
     "data": {
      "text/plain": [
       "['no_city_x',\n",
       " 'city_x',\n",
       " 'is_user_first_session_x',\n",
       " 'country_x',\n",
       " 'country_count_x',\n",
       " 'region_x',\n",
       " 'region_count_x',\n",
       " 'locale_x',\n",
       " 'os_name',\n",
       " 'user_days_x',\n",
       " 'total_session_time_x',\n",
       " 'mean_session_time_x',\n",
       " 'median_session_time_x',\n",
       " 'no_of_buys_x',\n",
       " 'sum_of_buys_x',\n",
       " 'user_age',\n",
       " 'no_city_y',\n",
       " 'city_y',\n",
       " 'is_user_first_session_y',\n",
       " 'country_y',\n",
       " 'country_count_y',\n",
       " 'region_y',\n",
       " 'region_count_y',\n",
       " 'locale_y',\n",
       " 'user_days_y',\n",
       " 'total_session_time_y',\n",
       " 'mean_session_time_y',\n",
       " 'median_session_time_y',\n",
       " 'no_of_buys_y',\n",
       " 'sum_of_buys_y',\n",
       " 'country_x_mean_enc',\n",
       " 'region_x_mean_enc']"
      ]
     },
     "execution_count": 223,
     "metadata": {},
     "output_type": "execute_result"
    }
   ],
   "source": [
    "feature_cols"
   ]
  },
  {
   "cell_type": "code",
   "execution_count": 198,
   "metadata": {
    "ExecuteTime": {
     "end_time": "2019-02-26T05:12:34.237854Z",
     "start_time": "2019-02-26T05:12:34.126513Z"
    }
   },
   "outputs": [
    {
     "name": "stdout",
     "output_type": "stream",
     "text": [
      "no_of_buys_x                  : 23.33%\n",
      "sum_of_buys_x                 : 21.09%\n",
      "total_session_time_x          :  5.20%\n",
      "sum_of_buys_y                 :  4.89%\n",
      "user_age                      :  4.35%\n",
      "no_of_buys_y                  :  4.18%\n",
      "mean_session_time_x           :  4.00%\n",
      "no_city_x                     :  3.97%\n",
      "median_session_time_x         :  3.67%\n",
      "user_days_x                   :  3.48%\n",
      "region_x_mean_enc             :  2.92%\n",
      "city_x                        :  2.77%\n",
      "country_x_mean_enc            :  2.05%\n",
      "region_x                      :  1.99%\n",
      "total_session_time_y          :  1.60%\n",
      "mean_session_time_y           :  1.59%\n",
      "median_session_time_y         :  1.47%\n",
      "city_y                        :  1.31%\n",
      "no_city_y                     :  1.07%\n",
      "region_y                      :  1.02%\n",
      "locale_x                      :  0.84%\n",
      "country_x                     :  0.61%\n",
      "user_days_y                   :  0.53%\n",
      "region_count_x                :  0.41%\n",
      "locale_y                      :  0.40%\n",
      "os_name                       :  0.33%\n",
      "country_y                     :  0.31%\n",
      "is_user_first_session_y       :  0.22%\n",
      "is_user_first_session_x       :  0.20%\n",
      "region_count_y                :  0.17%\n",
      "country_count_y               :  0.02%\n",
      "country_count_x               :  0.01%\n"
     ]
    }
   ],
   "source": [
    "print_feature_importance(rf1)"
   ]
  },
  {
   "cell_type": "code",
   "execution_count": 188,
   "metadata": {
    "ExecuteTime": {
     "end_time": "2019-02-26T05:02:05.171843Z",
     "start_time": "2019-02-26T05:02:05.155199Z"
    }
   },
   "outputs": [
    {
     "data": {
      "text/plain": [
       "y2    0\n",
       "dtype: int64"
      ]
     },
     "execution_count": 188,
     "metadata": {},
     "output_type": "execute_result"
    }
   ],
   "source": [
    "y2_train.isna().sum()"
   ]
  },
  {
   "cell_type": "code",
   "execution_count": 142,
   "metadata": {
    "ExecuteTime": {
     "end_time": "2019-02-26T04:43:41.603737Z",
     "start_time": "2019-02-26T04:43:41.600642Z"
    }
   },
   "outputs": [],
   "source": [
    "import pickle"
   ]
  },
  {
   "cell_type": "code",
   "execution_count": 185,
   "metadata": {
    "ExecuteTime": {
     "end_time": "2019-02-26T05:01:39.717770Z",
     "start_time": "2019-02-26T05:01:39.710428Z"
    }
   },
   "outputs": [],
   "source": [
    "pickle.dump(xg_model2, open(\"normal_y1\", \"wb\"))"
   ]
  },
  {
   "cell_type": "code",
   "execution_count": 143,
   "metadata": {
    "ExecuteTime": {
     "end_time": "2019-02-26T04:44:00.351694Z",
     "start_time": "2019-02-26T04:44:00.343530Z"
    }
   },
   "outputs": [],
   "source": [
    "pickle.dump(xg_model1, open(\"oversampled_y1\", \"wb\"))"
   ]
  },
  {
   "cell_type": "code",
   "execution_count": 145,
   "metadata": {
    "ExecuteTime": {
     "end_time": "2019-02-26T04:45:04.506435Z",
     "start_time": "2019-02-26T04:45:03.989200Z"
    }
   },
   "outputs": [],
   "source": [
    "submission = pd.read_csv('../sample_submission_2.csv')\n",
    "req_uids = set(submission.user_id_hash)"
   ]
  },
  {
   "cell_type": "code",
   "execution_count": 147,
   "metadata": {
    "ExecuteTime": {
     "end_time": "2019-02-26T04:45:12.827067Z",
     "start_time": "2019-02-26T04:45:12.756247Z"
    }
   },
   "outputs": [],
   "source": [
    "dates = df.week_start.unique()\n",
    "dates.sort()"
   ]
  },
  {
   "cell_type": "code",
   "execution_count": 148,
   "metadata": {
    "ExecuteTime": {
     "end_time": "2019-02-26T04:45:15.744702Z",
     "start_time": "2019-02-26T04:45:15.740373Z"
    }
   },
   "outputs": [
    {
     "data": {
      "text/plain": [
       "array([datetime.date(2018, 10, 8), datetime.date(2018, 10, 15),\n",
       "       datetime.date(2018, 10, 22), datetime.date(2018, 10, 29),\n",
       "       datetime.date(2018, 11, 5), datetime.date(2018, 11, 12),\n",
       "       datetime.date(2018, 11, 19), datetime.date(2018, 11, 26),\n",
       "       datetime.date(2018, 12, 3), datetime.date(2018, 12, 10)],\n",
       "      dtype=object)"
      ]
     },
     "execution_count": 148,
     "metadata": {},
     "output_type": "execute_result"
    }
   ],
   "source": [
    "dates"
   ]
  },
  {
   "cell_type": "code",
   "execution_count": 149,
   "metadata": {
    "ExecuteTime": {
     "end_time": "2019-02-26T04:46:19.470543Z",
     "start_time": "2019-02-26T04:46:19.456440Z"
    }
   },
   "outputs": [],
   "source": [
    "df.city_x = df.city_x.cat.codes\n",
    "df.city_y = df.city_y.cat.codes\n",
    "df.country_x = df.country_x.cat.codes\n",
    "df.country_y = df.country_y.cat.codes\n",
    "df.region_x = df.region_x.cat.codes\n",
    "df.region_y = df.region_y.cat.codes\n",
    "df.os_name = df.os_name.cat.codes\n",
    "df.locale_x = df.locale_x.cat.codes\n",
    "df.locale_y = df.locale_y.cat.codes"
   ]
  },
  {
   "cell_type": "code",
   "execution_count": 150,
   "metadata": {
    "ExecuteTime": {
     "end_time": "2019-02-26T04:46:58.528394Z",
     "start_time": "2019-02-26T04:46:58.523796Z"
    }
   },
   "outputs": [
    {
     "data": {
      "text/plain": [
       "['no_city_x',\n",
       " 'city_x',\n",
       " 'is_user_first_session_x',\n",
       " 'country_x',\n",
       " 'country_count_x',\n",
       " 'region_x',\n",
       " 'region_count_x',\n",
       " 'locale_x',\n",
       " 'os_name',\n",
       " 'user_days_x',\n",
       " 'total_session_time_x',\n",
       " 'mean_session_time_x',\n",
       " 'median_session_time_x',\n",
       " 'no_of_buys_x',\n",
       " 'sum_of_buys_x',\n",
       " 'user_age',\n",
       " 'no_city_y',\n",
       " 'city_y',\n",
       " 'is_user_first_session_y',\n",
       " 'country_y',\n",
       " 'country_count_y',\n",
       " 'region_y',\n",
       " 'region_count_y',\n",
       " 'locale_y',\n",
       " 'user_days_y',\n",
       " 'total_session_time_y',\n",
       " 'mean_session_time_y',\n",
       " 'median_session_time_y',\n",
       " 'no_of_buys_y',\n",
       " 'sum_of_buys_y',\n",
       " 'country_x_mean_enc',\n",
       " 'region_x_mean_enc']"
      ]
     },
     "execution_count": 150,
     "metadata": {},
     "output_type": "execute_result"
    }
   ],
   "source": [
    "feature_cols"
   ]
  },
  {
   "cell_type": "code",
   "execution_count": 152,
   "metadata": {
    "ExecuteTime": {
     "end_time": "2019-02-26T04:49:15.331664Z",
     "start_time": "2019-02-26T04:49:12.550841Z"
    }
   },
   "outputs": [],
   "source": [
    "reg_target_encoding(df, col='country_x')"
   ]
  },
  {
   "cell_type": "code",
   "execution_count": 153,
   "metadata": {
    "ExecuteTime": {
     "end_time": "2019-02-26T04:49:28.977465Z",
     "start_time": "2019-02-26T04:49:26.163503Z"
    }
   },
   "outputs": [],
   "source": [
    "reg_target_encoding(df, col='region_x')"
   ]
  },
  {
   "cell_type": "code",
   "execution_count": 157,
   "metadata": {
    "ExecuteTime": {
     "end_time": "2019-02-26T04:50:35.154059Z",
     "start_time": "2019-02-26T04:50:35.143891Z"
    }
   },
   "outputs": [],
   "source": [
    "df.country_x_mean_enc.fillna(0.0373, inplace=True)\n",
    "df.region_x_mean_enc.fillna(0.0373, inplace=True)"
   ]
  },
  {
   "cell_type": "code",
   "execution_count": 160,
   "metadata": {
    "ExecuteTime": {
     "end_time": "2019-02-26T04:51:32.860321Z",
     "start_time": "2019-02-26T04:51:32.857549Z"
    }
   },
   "outputs": [],
   "source": [
    "dates.sort()"
   ]
  },
  {
   "cell_type": "code",
   "execution_count": 164,
   "metadata": {
    "ExecuteTime": {
     "end_time": "2019-02-26T04:52:02.676738Z",
     "start_time": "2019-02-26T04:52:02.672433Z"
    }
   },
   "outputs": [
    {
     "data": {
      "text/plain": [
       "array([datetime.date(2018, 12, 3), datetime.date(2018, 12, 10)],\n",
       "      dtype=object)"
      ]
     },
     "execution_count": 164,
     "metadata": {},
     "output_type": "execute_result"
    }
   ],
   "source": [
    "dates[-2:]"
   ]
  },
  {
   "cell_type": "code",
   "execution_count": 215,
   "metadata": {
    "ExecuteTime": {
     "end_time": "2019-02-26T05:20:26.810218Z",
     "start_time": "2019-02-26T05:20:20.937472Z"
    }
   },
   "outputs": [
    {
     "name": "stdout",
     "output_type": "stream",
     "text": [
      "2018-12-10: (16059,)\n",
      "296509\n",
      "2018-12-03: (12294,)\n",
      "284215\n",
      "2018-11-26: (27339,)\n",
      "256876\n"
     ]
    }
   ],
   "source": [
    "req_uids = set(submission.user_id_hash)\n",
    "run_ids = req_uids\n",
    "predict_df = pd.DataFrame(columns=['user_id_hash',\n",
    "                                   'user_purchase_binary_7_days',\n",
    "                                   'user_purchase_binary_14_days'])\n",
    "\n",
    "for dts in reversed(dates[-3:]):\n",
    "    t = df.loc[(df.user_id_hash.isin(run_ids)) &\\\n",
    "                     (df.week_start == dts), feature_cols].values\n",
    "    cur_uids = df.loc[(df.user_id_hash.isin(run_ids)) &\\\n",
    "                     (df.week_start == dts), ['user_id_hash']].values\n",
    "\n",
    "    pp1 = rf1.predict_proba(t)\n",
    "    pp2 = rf2.predict_proba(t)\n",
    "\n",
    "    print(f'{dts}: {pp1[:, 1].shape}')\n",
    "    temp = pd.DataFrame(data={'user_id_hash': cur_uids.reshape(-1),\n",
    "                              'user_purchase_binary_7_days': pp1[:,1],\n",
    "                              'user_purchase_binary_14_days': pp2[:,1]})\n",
    "    predict_df = pd.concat([predict_df, temp])\n",
    "    run_ids = run_ids - set(cur_uids.reshape(-1))\n",
    "    print(len(list(run_ids)))"
   ]
  },
  {
   "cell_type": "code",
   "execution_count": 216,
   "metadata": {
    "ExecuteTime": {
     "end_time": "2019-02-26T05:20:26.817118Z",
     "start_time": "2019-02-26T05:20:26.812707Z"
    }
   },
   "outputs": [
    {
     "data": {
      "text/plain": [
       "(55692, 3)"
      ]
     },
     "execution_count": 216,
     "metadata": {},
     "output_type": "execute_result"
    }
   ],
   "source": [
    "predict_df.shape"
   ]
  },
  {
   "cell_type": "code",
   "execution_count": 217,
   "metadata": {
    "ExecuteTime": {
     "end_time": "2019-02-26T05:20:29.069077Z",
     "start_time": "2019-02-26T05:20:28.805935Z"
    }
   },
   "outputs": [],
   "source": [
    "left_out = list(set(submission.user_id_hash.unique()) -\\\n",
    "                set(predict_df.user_id_hash.unique()))"
   ]
  },
  {
   "cell_type": "code",
   "execution_count": 218,
   "metadata": {
    "ExecuteTime": {
     "end_time": "2019-02-26T05:20:29.317906Z",
     "start_time": "2019-02-26T05:20:29.312912Z"
    }
   },
   "outputs": [
    {
     "data": {
      "text/plain": [
       "0.0057208887906412716"
      ]
     },
     "execution_count": 218,
     "metadata": {},
     "output_type": "execute_result"
    }
   ],
   "source": [
    "predict_df.user_purchase_binary_7_days.median()"
   ]
  },
  {
   "cell_type": "code",
   "execution_count": 219,
   "metadata": {
    "ExecuteTime": {
     "end_time": "2019-02-26T05:20:30.232954Z",
     "start_time": "2019-02-26T05:20:30.228125Z"
    }
   },
   "outputs": [
    {
     "data": {
      "text/plain": [
       "0.008188511372120524"
      ]
     },
     "execution_count": 219,
     "metadata": {},
     "output_type": "execute_result"
    }
   ],
   "source": [
    "predict_df.user_purchase_binary_14_days.median()"
   ]
  },
  {
   "cell_type": "code",
   "execution_count": 220,
   "metadata": {
    "ExecuteTime": {
     "end_time": "2019-02-26T05:20:33.750818Z",
     "start_time": "2019-02-26T05:20:33.679492Z"
    }
   },
   "outputs": [],
   "source": [
    "temp = pd.DataFrame(data={'user_id_hash': left_out,\n",
    "                          'user_purchase_binary_7_days': 0.005 * np.ones(len(left_out)),\n",
    "                          'user_purchase_binary_14_days': 0.008 * np.ones(len(left_out))})"
   ]
  },
  {
   "cell_type": "code",
   "execution_count": 221,
   "metadata": {
    "ExecuteTime": {
     "end_time": "2019-02-26T05:20:36.250302Z",
     "start_time": "2019-02-26T05:20:36.211385Z"
    }
   },
   "outputs": [],
   "source": [
    "predict_df = pd.concat([predict_df, temp])"
   ]
  },
  {
   "cell_type": "code",
   "execution_count": 222,
   "metadata": {
    "ExecuteTime": {
     "end_time": "2019-02-26T05:20:41.450033Z",
     "start_time": "2019-02-26T05:20:39.941272Z"
    }
   },
   "outputs": [],
   "source": [
    "predict_df.to_csv('../9_sub.csv', index=False, float_format='%.3f')"
   ]
  },
  {
   "cell_type": "code",
   "execution_count": null,
   "metadata": {},
   "outputs": [],
   "source": []
  }
 ],
 "metadata": {
  "kernelspec": {
   "display_name": "Python 3",
   "language": "python",
   "name": "python3"
  },
  "language_info": {
   "codemirror_mode": {
    "name": "ipython",
    "version": 3
   },
   "file_extension": ".py",
   "mimetype": "text/x-python",
   "name": "python",
   "nbconvert_exporter": "python",
   "pygments_lexer": "ipython3",
   "version": "3.7.1"
  },
  "toc": {
   "base_numbering": 1,
   "nav_menu": {},
   "number_sections": true,
   "sideBar": true,
   "skip_h1_title": false,
   "title_cell": "Table of Contents",
   "title_sidebar": "Contents",
   "toc_cell": false,
   "toc_position": {},
   "toc_section_display": true,
   "toc_window_display": false
  }
 },
 "nbformat": 4,
 "nbformat_minor": 2
}
