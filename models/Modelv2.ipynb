{
 "cells": [
  {
   "cell_type": "markdown",
   "metadata": {
    "heading_collapsed": true
   },
   "source": [
    "# Common"
   ]
  },
  {
   "cell_type": "code",
   "execution_count": 1,
   "metadata": {
    "ExecuteTime": {
     "end_time": "2019-03-06T06:41:20.515048Z",
     "start_time": "2019-03-06T06:41:20.243499Z"
    },
    "hidden": true
   },
   "outputs": [],
   "source": [
    "import pandas as pd\n",
    "import numpy as np"
   ]
  },
  {
   "cell_type": "code",
   "execution_count": 2,
   "metadata": {
    "ExecuteTime": {
     "end_time": "2019-03-06T06:41:20.711390Z",
     "start_time": "2019-03-06T06:41:20.518125Z"
    },
    "hidden": true
   },
   "outputs": [],
   "source": [
    "import matplotlib.pyplot as plt\n",
    "plt.rcParams['figure.figsize'] = [16, 6]\n",
    "plt.style.use('ggplot')"
   ]
  },
  {
   "cell_type": "code",
   "execution_count": 3,
   "metadata": {
    "ExecuteTime": {
     "end_time": "2019-03-06T06:41:20.718446Z",
     "start_time": "2019-03-06T06:41:20.714065Z"
    },
    "hidden": true
   },
   "outputs": [],
   "source": [
    "import gc"
   ]
  },
  {
   "cell_type": "code",
   "execution_count": 4,
   "metadata": {
    "ExecuteTime": {
     "end_time": "2019-03-06T06:41:20.735041Z",
     "start_time": "2019-03-06T06:41:20.722424Z"
    },
    "hidden": true
   },
   "outputs": [],
   "source": [
    "from concurrent.futures import ProcessPoolExecutor, as_completed\n",
    "from fastprogress import progress_bar\n",
    "\n",
    "def parallel(func, job_list, n_jobs=12):\n",
    "    with ProcessPoolExecutor(max_workers=n_jobs) as pool:\n",
    "        futures = [pool.submit(func, job) for job in job_list]\n",
    "        for f in progress_bar(as_completed(futures), total=len(job_list)):\n",
    "            pass\n",
    "    return [f.result() for f in futures]"
   ]
  },
  {
   "cell_type": "code",
   "execution_count": 5,
   "metadata": {
    "ExecuteTime": {
     "end_time": "2019-03-06T06:41:20.741424Z",
     "start_time": "2019-03-06T06:41:20.738493Z"
    },
    "hidden": true
   },
   "outputs": [],
   "source": [
    "from warnings import filterwarnings"
   ]
  },
  {
   "cell_type": "code",
   "execution_count": 6,
   "metadata": {
    "ExecuteTime": {
     "end_time": "2019-03-06T06:41:20.751036Z",
     "start_time": "2019-03-06T06:41:20.748030Z"
    },
    "hidden": true
   },
   "outputs": [],
   "source": [
    "filterwarnings(\"ignore\")"
   ]
  },
  {
   "cell_type": "code",
   "execution_count": 7,
   "metadata": {
    "ExecuteTime": {
     "end_time": "2019-03-06T06:41:20.756961Z",
     "start_time": "2019-03-06T06:41:20.753155Z"
    },
    "hidden": true
   },
   "outputs": [],
   "source": [
    "import datetime as dt"
   ]
  },
  {
   "cell_type": "code",
   "execution_count": 8,
   "metadata": {
    "ExecuteTime": {
     "end_time": "2019-03-06T06:41:20.881600Z",
     "start_time": "2019-03-06T06:41:20.877717Z"
    },
    "hidden": true
   },
   "outputs": [],
   "source": [
    "def to_dt(x):\n",
    "    return dt.datetime.fromtimestamp(int(x/1000))"
   ]
  },
  {
   "cell_type": "code",
   "execution_count": 9,
   "metadata": {
    "ExecuteTime": {
     "end_time": "2019-03-06T06:41:21.565509Z",
     "start_time": "2019-03-06T06:41:21.562335Z"
    },
    "hidden": true
   },
   "outputs": [],
   "source": [
    "from multiprocessing import Pool"
   ]
  },
  {
   "cell_type": "code",
   "execution_count": 10,
   "metadata": {
    "ExecuteTime": {
     "end_time": "2019-03-06T06:41:22.381391Z",
     "start_time": "2019-03-06T06:41:22.377173Z"
    },
    "hidden": true
   },
   "outputs": [],
   "source": [
    "num_partitions = 100\n",
    "num_cores = 12\n",
    "def parallelize_dataframe(df, func):\n",
    "    df_split = np.array_split(df, num_partitions)\n",
    "    pool = Pool(num_cores)\n",
    "    df = pd.concat(pool.map(func, df_split))\n",
    "    pool.close()\n",
    "    pool.join()\n",
    "    return df"
   ]
  },
  {
   "cell_type": "markdown",
   "metadata": {
    "heading_collapsed": true
   },
   "source": [
    "# Agg Sessions"
   ]
  },
  {
   "cell_type": "code",
   "execution_count": 130,
   "metadata": {
    "ExecuteTime": {
     "end_time": "2019-02-25T06:09:08.922325Z",
     "start_time": "2019-02-25T06:09:06.606180Z"
    },
    "hidden": true
   },
   "outputs": [],
   "source": [
    "sessions = pd.read_pickle('../session.pkl')"
   ]
  },
  {
   "cell_type": "code",
   "execution_count": 49,
   "metadata": {
    "ExecuteTime": {
     "end_time": "2019-02-25T05:41:22.608446Z",
     "start_time": "2019-02-25T05:41:22.603324Z"
    },
    "hidden": true
   },
   "outputs": [
    {
     "data": {
      "text/plain": [
       "(5165760, 21)"
      ]
     },
     "execution_count": 49,
     "metadata": {},
     "output_type": "execute_result"
    }
   ],
   "source": [
    "sessions.shape"
   ]
  },
  {
   "cell_type": "code",
   "execution_count": 52,
   "metadata": {
    "ExecuteTime": {
     "end_time": "2019-02-25T05:42:21.733982Z",
     "start_time": "2019-02-25T05:42:21.726953Z"
    },
    "hidden": true
   },
   "outputs": [
    {
     "data": {
      "text/plain": [
       "session_id                          category\n",
       "start_timestamp                        int64\n",
       "timezone                            category\n",
       "timezone_offset                     category\n",
       "previous_sessions_duration             int64\n",
       "user_created_timestamp                 int64\n",
       "is_user_first_session                   bool\n",
       "country                             category\n",
       "region                              category\n",
       "city                                category\n",
       "latitude                             float64\n",
       "longitude                            float64\n",
       "locale                              category\n",
       "os_name                             category\n",
       "session_index                          int64\n",
       "device_id                           category\n",
       "user_id_hash                        category\n",
       "user_time                     datetime64[ns]\n",
       "system_time                   datetime64[ns]\n",
       "week_start                    datetime64[ns]\n",
       "user_days                           category\n",
       "dtype: object"
      ]
     },
     "execution_count": 52,
     "metadata": {},
     "output_type": "execute_result"
    }
   ],
   "source": [
    "sessions.dtypes"
   ]
  },
  {
   "cell_type": "code",
   "execution_count": 51,
   "metadata": {
    "ExecuteTime": {
     "end_time": "2019-02-25T05:41:43.556126Z",
     "start_time": "2019-02-25T05:41:29.939663Z"
    },
    "hidden": true
   },
   "outputs": [],
   "source": [
    "sessions.sort_values(['system_time', 'user_id_hash'], inplace=True)"
   ]
  },
  {
   "cell_type": "code",
   "execution_count": 9,
   "metadata": {
    "ExecuteTime": {
     "end_time": "2019-02-24T21:24:44.709187Z",
     "start_time": "2019-02-24T21:24:44.706795Z"
    },
    "hidden": true
   },
   "outputs": [],
   "source": [
    "# sessions.set_index(['week_start', 'user_id_hash'], inplace=True)"
   ]
  },
  {
   "cell_type": "code",
   "execution_count": 131,
   "metadata": {
    "ExecuteTime": {
     "end_time": "2019-02-25T06:09:13.780474Z",
     "start_time": "2019-02-25T06:09:13.343220Z"
    },
    "hidden": true
   },
   "outputs": [],
   "source": [
    "sessions = sessions.loc[:, ['user_created_timestamp', 'user_id_hash']]"
   ]
  },
  {
   "cell_type": "code",
   "execution_count": 57,
   "metadata": {
    "ExecuteTime": {
     "end_time": "2019-02-25T05:47:52.163466Z",
     "start_time": "2019-02-25T05:47:50.369742Z"
    },
    "hidden": true
   },
   "outputs": [],
   "source": [
    "sessions.drop_duplicates(inplace=True)"
   ]
  },
  {
   "cell_type": "code",
   "execution_count": 58,
   "metadata": {
    "ExecuteTime": {
     "end_time": "2019-02-25T05:47:57.039331Z",
     "start_time": "2019-02-25T05:47:57.034425Z"
    },
    "hidden": true
   },
   "outputs": [
    {
     "data": {
      "text/plain": [
       "(619779, 2)"
      ]
     },
     "execution_count": 58,
     "metadata": {},
     "output_type": "execute_result"
    }
   ],
   "source": [
    "sessions.shape"
   ]
  },
  {
   "cell_type": "code",
   "execution_count": 132,
   "metadata": {
    "ExecuteTime": {
     "end_time": "2019-02-25T06:09:17.967672Z",
     "start_time": "2019-02-25T06:09:17.963986Z"
    },
    "hidden": true
   },
   "outputs": [],
   "source": [
    "sessions.reset_index(inplace=True, drop=True)"
   ]
  },
  {
   "cell_type": "code",
   "execution_count": 133,
   "metadata": {
    "ExecuteTime": {
     "end_time": "2019-02-25T06:09:26.748656Z",
     "start_time": "2019-02-25T06:09:20.103499Z"
    },
    "hidden": true
   },
   "outputs": [],
   "source": [
    "sessions.user_created_timestamp = sessions.user_created_timestamp.apply(to_dt)"
   ]
  },
  {
   "cell_type": "code",
   "execution_count": 134,
   "metadata": {
    "ExecuteTime": {
     "end_time": "2019-02-25T06:09:26.761274Z",
     "start_time": "2019-02-25T06:09:26.751831Z"
    },
    "hidden": true
   },
   "outputs": [
    {
     "data": {
      "text/html": [
       "<div>\n",
       "<style scoped>\n",
       "    .dataframe tbody tr th:only-of-type {\n",
       "        vertical-align: middle;\n",
       "    }\n",
       "\n",
       "    .dataframe tbody tr th {\n",
       "        vertical-align: top;\n",
       "    }\n",
       "\n",
       "    .dataframe thead th {\n",
       "        text-align: right;\n",
       "    }\n",
       "</style>\n",
       "<table border=\"1\" class=\"dataframe\">\n",
       "  <thead>\n",
       "    <tr style=\"text-align: right;\">\n",
       "      <th></th>\n",
       "      <th>user_created_timestamp</th>\n",
       "      <th>user_id_hash</th>\n",
       "    </tr>\n",
       "  </thead>\n",
       "  <tbody>\n",
       "    <tr>\n",
       "      <th>0</th>\n",
       "      <td>2018-10-07 01:04:49</td>\n",
       "      <td>9943447915df3a45fd6720a026af905b6da6b56a37701b...</td>\n",
       "    </tr>\n",
       "    <tr>\n",
       "      <th>1</th>\n",
       "      <td>2018-10-07 01:04:49</td>\n",
       "      <td>9943447915df3a45fd6720a026af905b6da6b56a37701b...</td>\n",
       "    </tr>\n",
       "    <tr>\n",
       "      <th>2</th>\n",
       "      <td>2018-10-07 01:04:49</td>\n",
       "      <td>9943447915df3a45fd6720a026af905b6da6b56a37701b...</td>\n",
       "    </tr>\n",
       "    <tr>\n",
       "      <th>3</th>\n",
       "      <td>2018-10-07 01:04:49</td>\n",
       "      <td>9943447915df3a45fd6720a026af905b6da6b56a37701b...</td>\n",
       "    </tr>\n",
       "    <tr>\n",
       "      <th>4</th>\n",
       "      <td>2018-10-07 01:04:49</td>\n",
       "      <td>9943447915df3a45fd6720a026af905b6da6b56a37701b...</td>\n",
       "    </tr>\n",
       "  </tbody>\n",
       "</table>\n",
       "</div>"
      ],
      "text/plain": [
       "  user_created_timestamp                                       user_id_hash\n",
       "0    2018-10-07 01:04:49  9943447915df3a45fd6720a026af905b6da6b56a37701b...\n",
       "1    2018-10-07 01:04:49  9943447915df3a45fd6720a026af905b6da6b56a37701b...\n",
       "2    2018-10-07 01:04:49  9943447915df3a45fd6720a026af905b6da6b56a37701b...\n",
       "3    2018-10-07 01:04:49  9943447915df3a45fd6720a026af905b6da6b56a37701b...\n",
       "4    2018-10-07 01:04:49  9943447915df3a45fd6720a026af905b6da6b56a37701b..."
      ]
     },
     "execution_count": 134,
     "metadata": {},
     "output_type": "execute_result"
    }
   ],
   "source": [
    "sessions.head()"
   ]
  },
  {
   "cell_type": "code",
   "execution_count": 135,
   "metadata": {
    "ExecuteTime": {
     "end_time": "2019-02-25T06:10:28.981323Z",
     "start_time": "2019-02-25T06:10:27.663156Z"
    },
    "hidden": true
   },
   "outputs": [],
   "source": [
    "sessions.user_created_timestamp = sessions.user_created_timestamp.dt.date"
   ]
  },
  {
   "cell_type": "code",
   "execution_count": 12,
   "metadata": {
    "ExecuteTime": {
     "end_time": "2019-02-24T21:24:44.759851Z",
     "start_time": "2019-02-24T21:24:44.748795Z"
    },
    "hidden": true
   },
   "outputs": [],
   "source": [
    "def weekly_aggregate(df, t='week_start'):\n",
    "    grp_cols = [t, 'user_id_hash']\n",
    "    grpby_obj = df.groupby(grp_cols)\n",
    "    # number of sessions\n",
    "    temp = grpby_obj.city.count().to_frame().reset_index().\\\n",
    "                rename(columns={'city': 'no_city'})\n",
    "    # median city\n",
    "    # temp1 = grpby_obj.city.agg(lambda x: x.value_counts().index[0]\n",
    "    #                            ).to_frame().reset_index()\n",
    "    # last city\n",
    "    temp1 = grpby_obj.city.last().to_frame().reset_index()\n",
    "    \n",
    "    # is user's first week\n",
    "    temp2 = grpby_obj.is_user_first_session.max().to_frame().reset_index()\n",
    "\n",
    "    # median country\n",
    "    # temp3 = grpby_obj.country.agg(lambda x: x.value_counts().index[0]\n",
    "    #                               ).to_frame().reset_index()\n",
    "    temp3 = grpby_obj.country.last().to_frame().reset_index()\n",
    "\n",
    "    # no of country\n",
    "    temp4 = grpby_obj.country.agg(lambda x: x.unique().shape[0]\n",
    "                                  ).to_frame().reset_index().\\\n",
    "                        rename(columns={'country': 'country_count'})\n",
    "    # median region\n",
    "    # temp5 = grpby_obj.region.agg(lambda x: x.value_counts().index[0]\n",
    "    #                              ).to_frame().reset_index()\n",
    "    temp5 = grpby_obj.region.last().to_frame().reset_index()\n",
    "\n",
    "    # no of region\n",
    "    temp6 = grpby_obj.region.agg(lambda x: x.unique().shape[0]\n",
    "                                  ).to_frame().reset_index().\\\n",
    "                        rename(columns={'region': 'region_count'})\n",
    "    # median locale\n",
    "    # temp7 = grpby_obj.locale.agg(lambda x: x.value_counts().index[0]\n",
    "    #                              ).to_frame().reset_index()\n",
    "    temp7 = grpby_obj.locale.last().to_frame().reset_index()\n",
    "\n",
    "    # median os_name\n",
    "    # temp8 = grpby_obj.os_name.agg(lambda x: x.value_counts().index[0]\n",
    "    #                               ).to_frame().reset_index()\n",
    "    temp8 = grpby_obj.os_name.last().to_frame().reset_index()\n",
    "\n",
    "    # no of days active\n",
    "    temp9 = grpby_obj.user_days.agg(lambda x: x.unique().shape[0]).\\\n",
    "                to_frame().reset_index()\n",
    "    # agg session time\n",
    "    temp10 = grpby_obj.previous_sessions_duration.sum().\\\n",
    "                    to_frame().reset_index().\\\n",
    "                    rename(columns={'previous_sessions_duration': 'total_session_time'})\n",
    "    # mean session time\n",
    "    temp11 = grpby_obj.previous_sessions_duration.mean().\\\n",
    "                to_frame().reset_index().\\\n",
    "                rename(columns={'previous_sessions_duration': 'mean_session_time'})\n",
    "\n",
    "    # mean session time\n",
    "    temp12 = grpby_obj.previous_sessions_duration.median().\\\n",
    "                to_frame().reset_index().\\\n",
    "                rename(columns={'previous_sessions_duration': 'median_session_time'})\n",
    "\n",
    "    \n",
    "    for i in range(1, 13):\n",
    "        temp = temp.merge(locals()[f'temp{i}'], \n",
    "                          on=grp_cols)\n",
    "    return temp"
   ]
  },
  {
   "cell_type": "code",
   "execution_count": 13,
   "metadata": {
    "ExecuteTime": {
     "end_time": "2019-02-24T21:24:44.765762Z",
     "start_time": "2019-02-24T21:24:44.762593Z"
    },
    "hidden": true
   },
   "outputs": [],
   "source": [
    "def wrapper_agg(wst):\n",
    "    sessions_ss = sessions[sessions.week_start == wst].copy()\n",
    "    return weekly_aggregate(sessions_ss)"
   ]
  },
  {
   "cell_type": "code",
   "execution_count": 15,
   "metadata": {
    "ExecuteTime": {
     "end_time": "2019-02-24T21:24:46.579208Z",
     "start_time": "2019-02-24T21:24:44.778433Z"
    },
    "hidden": true
   },
   "outputs": [],
   "source": [
    "week_dates = sessions.week_start.dt.date.unique()"
   ]
  },
  {
   "cell_type": "code",
   "execution_count": 18,
   "metadata": {
    "ExecuteTime": {
     "end_time": "2019-02-24T21:29:41.508993Z",
     "start_time": "2019-02-24T21:24:46.589730Z"
    },
    "hidden": true
   },
   "outputs": [
    {
     "data": {
      "text/html": [
       "\n",
       "    <div>\n",
       "        <style>\n",
       "            /* Turns off some styling */\n",
       "            progress {\n",
       "                /* gets rid of default border in Firefox and Opera. */\n",
       "                border: none;\n",
       "                /* Needs to be in here for Safari polyfill so background images work as expected. */\n",
       "                background-size: auto;\n",
       "            }\n",
       "            .progress-bar-interrupted, .progress-bar-interrupted::-webkit-progress-bar {\n",
       "                background: #F44336;\n",
       "            }\n",
       "        </style>\n",
       "      <progress value='11' class='' max='11', style='width:300px; height:20px; vertical-align: middle;'></progress>\n",
       "      100.00% [11/11 04:53<00:00]\n",
       "    </div>\n",
       "    "
      ],
      "text/plain": [
       "<IPython.core.display.HTML object>"
      ]
     },
     "metadata": {},
     "output_type": "display_data"
    }
   ],
   "source": [
    "result = parallel(wrapper_agg, week_dates)\n",
    "result = pd.concat(result)"
   ]
  },
  {
   "cell_type": "code",
   "execution_count": 21,
   "metadata": {
    "ExecuteTime": {
     "end_time": "2019-02-24T21:29:54.982521Z",
     "start_time": "2019-02-24T21:29:54.971310Z"
    },
    "hidden": true
   },
   "outputs": [
    {
     "data": {
      "text/html": [
       "<div>\n",
       "<style scoped>\n",
       "    .dataframe tbody tr th:only-of-type {\n",
       "        vertical-align: middle;\n",
       "    }\n",
       "\n",
       "    .dataframe tbody tr th {\n",
       "        vertical-align: top;\n",
       "    }\n",
       "\n",
       "    .dataframe thead th {\n",
       "        text-align: right;\n",
       "    }\n",
       "</style>\n",
       "<table border=\"1\" class=\"dataframe\">\n",
       "  <thead>\n",
       "    <tr style=\"text-align: right;\">\n",
       "      <th></th>\n",
       "      <th>0</th>\n",
       "      <th>1</th>\n",
       "    </tr>\n",
       "  </thead>\n",
       "  <tbody>\n",
       "    <tr>\n",
       "      <th>week_start</th>\n",
       "      <td>2018-10-01 00:00:00</td>\n",
       "      <td>2018-10-01 00:00:00</td>\n",
       "    </tr>\n",
       "    <tr>\n",
       "      <th>user_id_hash</th>\n",
       "      <td>000062e9be78f3da274fec338e78f89d12000e781967f2...</td>\n",
       "      <td>00026e5050a70ef12d421f75c6a5c80d0f62d37acab8bd...</td>\n",
       "    </tr>\n",
       "    <tr>\n",
       "      <th>no_city</th>\n",
       "      <td>5</td>\n",
       "      <td>2</td>\n",
       "    </tr>\n",
       "    <tr>\n",
       "      <th>city</th>\n",
       "      <td>campbell</td>\n",
       "      <td>douglasville</td>\n",
       "    </tr>\n",
       "    <tr>\n",
       "      <th>is_user_first_session</th>\n",
       "      <td>True</td>\n",
       "      <td>True</td>\n",
       "    </tr>\n",
       "    <tr>\n",
       "      <th>country</th>\n",
       "      <td>US</td>\n",
       "      <td>US</td>\n",
       "    </tr>\n",
       "    <tr>\n",
       "      <th>country_count</th>\n",
       "      <td>1</td>\n",
       "      <td>1</td>\n",
       "    </tr>\n",
       "    <tr>\n",
       "      <th>region</th>\n",
       "      <td>ca</td>\n",
       "      <td>ga</td>\n",
       "    </tr>\n",
       "    <tr>\n",
       "      <th>region_count</th>\n",
       "      <td>1</td>\n",
       "      <td>1</td>\n",
       "    </tr>\n",
       "    <tr>\n",
       "      <th>locale</th>\n",
       "      <td>en_US</td>\n",
       "      <td>en_US</td>\n",
       "    </tr>\n",
       "    <tr>\n",
       "      <th>os_name</th>\n",
       "      <td>Android OS</td>\n",
       "      <td>Android OS</td>\n",
       "    </tr>\n",
       "    <tr>\n",
       "      <th>user_days</th>\n",
       "      <td>1</td>\n",
       "      <td>2</td>\n",
       "    </tr>\n",
       "    <tr>\n",
       "      <th>total_session_time</th>\n",
       "      <td>4730609</td>\n",
       "      <td>403432</td>\n",
       "    </tr>\n",
       "    <tr>\n",
       "      <th>mean_session_time</th>\n",
       "      <td>946122</td>\n",
       "      <td>201716</td>\n",
       "    </tr>\n",
       "    <tr>\n",
       "      <th>median_session_time</th>\n",
       "      <td>1.1769e+06</td>\n",
       "      <td>201716</td>\n",
       "    </tr>\n",
       "  </tbody>\n",
       "</table>\n",
       "</div>"
      ],
      "text/plain": [
       "                                                                       0  \\\n",
       "week_start                                           2018-10-01 00:00:00   \n",
       "user_id_hash           000062e9be78f3da274fec338e78f89d12000e781967f2...   \n",
       "no_city                                                                5   \n",
       "city                                                            campbell   \n",
       "is_user_first_session                                               True   \n",
       "country                                                               US   \n",
       "country_count                                                          1   \n",
       "region                                                                ca   \n",
       "region_count                                                           1   \n",
       "locale                                                             en_US   \n",
       "os_name                                                       Android OS   \n",
       "user_days                                                              1   \n",
       "total_session_time                                               4730609   \n",
       "mean_session_time                                                 946122   \n",
       "median_session_time                                           1.1769e+06   \n",
       "\n",
       "                                                                       1  \n",
       "week_start                                           2018-10-01 00:00:00  \n",
       "user_id_hash           00026e5050a70ef12d421f75c6a5c80d0f62d37acab8bd...  \n",
       "no_city                                                                2  \n",
       "city                                                        douglasville  \n",
       "is_user_first_session                                               True  \n",
       "country                                                               US  \n",
       "country_count                                                          1  \n",
       "region                                                                ga  \n",
       "region_count                                                           1  \n",
       "locale                                                             en_US  \n",
       "os_name                                                       Android OS  \n",
       "user_days                                                              2  \n",
       "total_session_time                                                403432  \n",
       "mean_session_time                                                 201716  \n",
       "median_session_time                                               201716  "
      ]
     },
     "execution_count": 21,
     "metadata": {},
     "output_type": "execute_result"
    }
   ],
   "source": [
    "result.head(2).T"
   ]
  },
  {
   "cell_type": "code",
   "execution_count": 22,
   "metadata": {
    "ExecuteTime": {
     "end_time": "2019-02-24T21:30:01.045594Z",
     "start_time": "2019-02-24T21:30:00.039023Z"
    },
    "hidden": true
   },
   "outputs": [],
   "source": [
    "result.to_pickle('../session_agg.pkl')"
   ]
  },
  {
   "cell_type": "markdown",
   "metadata": {
    "heading_collapsed": true
   },
   "source": [
    "# Agg Events"
   ]
  },
  {
   "cell_type": "code",
   "execution_count": 75,
   "metadata": {
    "ExecuteTime": {
     "end_time": "2019-02-25T05:53:42.992333Z",
     "start_time": "2019-02-25T05:53:42.650536Z"
    },
    "hidden": true
   },
   "outputs": [
    {
     "data": {
      "text/plain": [
       "2325"
      ]
     },
     "execution_count": 75,
     "metadata": {},
     "output_type": "execute_result"
    }
   ],
   "source": [
    "gc.collect()"
   ]
  },
  {
   "cell_type": "code",
   "execution_count": 76,
   "metadata": {
    "ExecuteTime": {
     "end_time": "2019-02-25T05:54:52.147189Z",
     "start_time": "2019-02-25T05:53:43.656406Z"
    },
    "hidden": true
   },
   "outputs": [],
   "source": [
    "events = pd.read_pickle('../events.pkl')"
   ]
  },
  {
   "cell_type": "code",
   "execution_count": 77,
   "metadata": {
    "ExecuteTime": {
     "end_time": "2019-02-25T05:54:52.154053Z",
     "start_time": "2019-02-25T05:54:52.149961Z"
    },
    "hidden": true
   },
   "outputs": [
    {
     "data": {
      "text/plain": [
       "(111946597, 9)"
      ]
     },
     "execution_count": 77,
     "metadata": {},
     "output_type": "execute_result"
    }
   ],
   "source": [
    "events.shape"
   ]
  },
  {
   "cell_type": "code",
   "execution_count": 78,
   "metadata": {
    "ExecuteTime": {
     "end_time": "2019-02-25T05:54:52.213618Z",
     "start_time": "2019-02-25T05:54:52.155852Z"
    },
    "hidden": true
   },
   "outputs": [
    {
     "data": {
      "text/plain": [
       "session_id               category\n",
       "event                    category\n",
       "event_timestamp             int64\n",
       "event_value               float64\n",
       "user_id_hash             category\n",
       "event_type               category\n",
       "system_time        datetime64[ns]\n",
       "system_date              category\n",
       "week_start               category\n",
       "dtype: object"
      ]
     },
     "execution_count": 78,
     "metadata": {},
     "output_type": "execute_result"
    }
   ],
   "source": [
    "events.dtypes"
   ]
  },
  {
   "cell_type": "code",
   "execution_count": 80,
   "metadata": {
    "ExecuteTime": {
     "end_time": "2019-02-25T05:57:02.034889Z",
     "start_time": "2019-02-25T05:57:02.031720Z"
    },
    "hidden": true
   },
   "outputs": [],
   "source": [
    "events['system_time'] = events.event_timestamp.apply(lambda x: to_dt(x))"
   ]
  },
  {
   "cell_type": "code",
   "execution_count": 39,
   "metadata": {
    "ExecuteTime": {
     "end_time": "2019-02-24T21:38:07.295957Z",
     "start_time": "2019-02-24T21:38:06.251487Z"
    },
    "hidden": true
   },
   "outputs": [
    {
     "data": {
      "text/plain": [
       "45                              75493931\n",
       "1                                5363926\n",
       "5                                4887922\n",
       "6                                4068474\n",
       "14                               3491117\n",
       "4                                3435363\n",
       "40                               2775997\n",
       "7                                1970903\n",
       "41                               1969223\n",
       "3                                1828494\n",
       "42                               1598212\n",
       ".a5027911885258752                618037\n",
       ".a5400102822346752                604699\n",
       "44                                495590\n",
       ".a5516611293544448                411053\n",
       "0                                 407118\n",
       "63                                347198\n",
       "47                                310038\n",
       "57                                271268\n",
       "8                                 265034\n",
       "55                                194341\n",
       ".m5295687445250048                181875\n",
       ".a5061295285075968                 92645\n",
       "50                                 88641\n",
       "9                                  85832\n",
       ".m6311698772393984                 74149\n",
       "11                                 68328\n",
       "64                                 67966\n",
       ".a5686782234722304                 53717\n",
       "54                                 51687\n",
       "                                  ...   \n",
       ".c4673994986356736 Exit               16\n",
       ".a4955822838251520                    15\n",
       ".m5411830689693696                    15\n",
       ".m5894328212389888                    13\n",
       ".m5894328212389888 Accept             10\n",
       ".m6386247411433472 Accept              8\n",
       ".m6209287803633664 Held Back           7\n",
       ".a4640834587066368                     6\n",
       ".a5924766976704512                     5\n",
       ".a4920882459443200                     4\n",
       ".m5666730055958528 Accept              3\n",
       ".m4912602330693632 Held Back           3\n",
       ".m5243740553347072 Held Back           3\n",
       ".a6278994001788928                     3\n",
       ".m5666730055958528                     3\n",
       ".m5243740553347072                     3\n",
       ".m4912602330693632 Bounce              2\n",
       ".a6030168535203840                     2\n",
       ".m5243740553347072 Accept              2\n",
       "32                                     1\n",
       ".a4767693735067648                     1\n",
       ".m5411830689693696 Held Back           1\n",
       ".m5411830689693696 Accept              1\n",
       ".a6017451431428096                     1\n",
       ".a5087083622694912                     1\n",
       ".m4592402159501312                     1\n",
       ".m4545368715427840 Accept              1\n",
       ".a6666568788738048                     1\n",
       ".a6266265261441024                     1\n",
       ".a4575955121471488                     1\n",
       "Name: event, Length: 109, dtype: int64"
      ]
     },
     "execution_count": 39,
     "metadata": {},
     "output_type": "execute_result"
    }
   ],
   "source": [
    "events.event.value_counts()"
   ]
  },
  {
   "cell_type": "code",
   "execution_count": 41,
   "metadata": {
    "ExecuteTime": {
     "end_time": "2019-02-24T23:18:51.568061Z",
     "start_time": "2019-02-24T23:18:49.259274Z"
    },
    "hidden": true
   },
   "outputs": [],
   "source": [
    "events['event_type'] = 'custom'"
   ]
  },
  {
   "cell_type": "code",
   "execution_count": 43,
   "metadata": {
    "ExecuteTime": {
     "end_time": "2019-02-24T23:19:51.954137Z",
     "start_time": "2019-02-24T23:19:39.987014Z"
    },
    "hidden": true
   },
   "outputs": [],
   "source": [
    "events.loc[events.event.str.startswith('.a'), ['event_type']] = 'ab'"
   ]
  },
  {
   "cell_type": "code",
   "execution_count": 44,
   "metadata": {
    "ExecuteTime": {
     "end_time": "2019-02-24T23:20:07.824091Z",
     "start_time": "2019-02-24T23:19:57.987200Z"
    },
    "hidden": true
   },
   "outputs": [],
   "source": [
    "events.loc[events.event.str.startswith('.c'), ['event_type']] = 'campaing'"
   ]
  },
  {
   "cell_type": "code",
   "execution_count": 45,
   "metadata": {
    "ExecuteTime": {
     "end_time": "2019-02-24T23:20:21.089330Z",
     "start_time": "2019-02-24T23:20:11.275485Z"
    },
    "hidden": true
   },
   "outputs": [],
   "source": [
    "events.loc[events.event.str.startswith('.m'), ['event_type']] = 'message'"
   ]
  },
  {
   "cell_type": "code",
   "execution_count": 46,
   "metadata": {
    "ExecuteTime": {
     "end_time": "2019-02-24T23:54:41.211290Z",
     "start_time": "2019-02-24T23:54:30.917180Z"
    },
    "hidden": true
   },
   "outputs": [
    {
     "data": {
      "text/plain": [
       "custom      109627861\n",
       "ab            1855428\n",
       "message        463225\n",
       "campaing           83\n",
       "Name: event_type, dtype: int64"
      ]
     },
     "execution_count": 46,
     "metadata": {},
     "output_type": "execute_result"
    }
   ],
   "source": [
    "events.event_type.value_counts()"
   ]
  },
  {
   "cell_type": "code",
   "execution_count": 52,
   "metadata": {
    "ExecuteTime": {
     "end_time": "2019-02-25T00:09:52.305048Z",
     "start_time": "2019-02-25T00:09:46.183572Z"
    },
    "hidden": true
   },
   "outputs": [],
   "source": [
    "events.event_type = events.event_type.astype('category')"
   ]
  },
  {
   "cell_type": "code",
   "execution_count": 61,
   "metadata": {
    "ExecuteTime": {
     "end_time": "2019-02-25T00:13:05.354102Z",
     "start_time": "2019-02-25T00:13:05.340883Z"
    },
    "hidden": true,
    "scrolled": true
   },
   "outputs": [
    {
     "data": {
      "text/html": [
       "<div>\n",
       "<style scoped>\n",
       "    .dataframe tbody tr th:only-of-type {\n",
       "        vertical-align: middle;\n",
       "    }\n",
       "\n",
       "    .dataframe tbody tr th {\n",
       "        vertical-align: top;\n",
       "    }\n",
       "\n",
       "    .dataframe thead th {\n",
       "        text-align: right;\n",
       "    }\n",
       "</style>\n",
       "<table border=\"1\" class=\"dataframe\">\n",
       "  <thead>\n",
       "    <tr style=\"text-align: right;\">\n",
       "      <th></th>\n",
       "      <th>event</th>\n",
       "      <th>event_value</th>\n",
       "      <th>user_id_hash</th>\n",
       "      <th>event_type</th>\n",
       "      <th>system_time</th>\n",
       "    </tr>\n",
       "  </thead>\n",
       "  <tbody>\n",
       "    <tr>\n",
       "      <th>0</th>\n",
       "      <td>45</td>\n",
       "      <td>0.0</td>\n",
       "      <td>9943447915df3a45fd6720a026af905b6da6b56a37701b...</td>\n",
       "      <td>custom</td>\n",
       "      <td>2018-11-14 17:09:57</td>\n",
       "    </tr>\n",
       "    <tr>\n",
       "      <th>1</th>\n",
       "      <td>45</td>\n",
       "      <td>0.0</td>\n",
       "      <td>9943447915df3a45fd6720a026af905b6da6b56a37701b...</td>\n",
       "      <td>custom</td>\n",
       "      <td>2018-11-14 17:11:24</td>\n",
       "    </tr>\n",
       "    <tr>\n",
       "      <th>2</th>\n",
       "      <td>.m5100869650219008</td>\n",
       "      <td>0.0</td>\n",
       "      <td>9943447915df3a45fd6720a026af905b6da6b56a37701b...</td>\n",
       "      <td>message</td>\n",
       "      <td>2018-11-02 02:06:50</td>\n",
       "    </tr>\n",
       "    <tr>\n",
       "      <th>3</th>\n",
       "      <td>4</td>\n",
       "      <td>0.0</td>\n",
       "      <td>9943447915df3a45fd6720a026af905b6da6b56a37701b...</td>\n",
       "      <td>custom</td>\n",
       "      <td>2018-12-02 01:11:31</td>\n",
       "    </tr>\n",
       "    <tr>\n",
       "      <th>4</th>\n",
       "      <td>6</td>\n",
       "      <td>0.0</td>\n",
       "      <td>9943447915df3a45fd6720a026af905b6da6b56a37701b...</td>\n",
       "      <td>custom</td>\n",
       "      <td>2018-12-02 01:11:33</td>\n",
       "    </tr>\n",
       "  </tbody>\n",
       "</table>\n",
       "</div>"
      ],
      "text/plain": [
       "                event  event_value  \\\n",
       "0                  45          0.0   \n",
       "1                  45          0.0   \n",
       "2  .m5100869650219008          0.0   \n",
       "3                   4          0.0   \n",
       "4                   6          0.0   \n",
       "\n",
       "                                        user_id_hash event_type  \\\n",
       "0  9943447915df3a45fd6720a026af905b6da6b56a37701b...     custom   \n",
       "1  9943447915df3a45fd6720a026af905b6da6b56a37701b...     custom   \n",
       "2  9943447915df3a45fd6720a026af905b6da6b56a37701b...    message   \n",
       "3  9943447915df3a45fd6720a026af905b6da6b56a37701b...     custom   \n",
       "4  9943447915df3a45fd6720a026af905b6da6b56a37701b...     custom   \n",
       "\n",
       "          system_time  \n",
       "0 2018-11-14 17:09:57  \n",
       "1 2018-11-14 17:11:24  \n",
       "2 2018-11-02 02:06:50  \n",
       "3 2018-12-02 01:11:31  \n",
       "4 2018-12-02 01:11:33  "
      ]
     },
     "execution_count": 61,
     "metadata": {},
     "output_type": "execute_result"
    }
   ],
   "source": [
    "events.head()"
   ]
  },
  {
   "cell_type": "code",
   "execution_count": 9,
   "metadata": {
    "ExecuteTime": {
     "end_time": "2019-02-25T02:16:07.473981Z",
     "start_time": "2019-02-25T02:16:07.470650Z"
    },
    "hidden": true
   },
   "outputs": [],
   "source": [
    "from multiprocessing import Pool"
   ]
  },
  {
   "cell_type": "code",
   "execution_count": 37,
   "metadata": {
    "ExecuteTime": {
     "end_time": "2019-02-25T05:09:19.691966Z",
     "start_time": "2019-02-25T05:09:19.681183Z"
    },
    "hidden": true
   },
   "outputs": [],
   "source": [
    "num_partitions = 100\n",
    "num_cores = 12\n",
    "def parallelize_dataframe(df, func):\n",
    "    df_split = np.array_split(df, num_partitions)\n",
    "    pool = Pool(num_cores)\n",
    "    df = pd.concat(pool.map(func, df_split))\n",
    "    pool.close()\n",
    "    pool.join()\n",
    "    return df"
   ]
  },
  {
   "cell_type": "code",
   "execution_count": 38,
   "metadata": {
    "ExecuteTime": {
     "end_time": "2019-02-25T05:09:20.155351Z",
     "start_time": "2019-02-25T05:09:20.150227Z"
    },
    "hidden": true
   },
   "outputs": [],
   "source": [
    "def wrapper_get_week_start(df):\n",
    "    \n",
    "    df['week_start'] = (df.system_time - \\\n",
    "                            df.system_time.dt.weekday.astype('timedelta64[D]')).dt.date\n",
    "    return df"
   ]
  },
  {
   "cell_type": "code",
   "execution_count": 28,
   "metadata": {
    "ExecuteTime": {
     "end_time": "2019-02-25T01:14:33.630377Z",
     "start_time": "2019-02-25T01:14:33.627156Z"
    },
    "hidden": true
   },
   "outputs": [],
   "source": [
    "temp = parallelize_dataframe(events['system_time'].to_frame(), wrapper_get_week_start)"
   ]
  },
  {
   "cell_type": "code",
   "execution_count": 27,
   "metadata": {
    "ExecuteTime": {
     "end_time": "2019-02-25T01:14:32.985923Z",
     "start_time": "2019-02-25T01:14:29.919879Z"
    },
    "hidden": true
   },
   "outputs": [],
   "source": [
    "temp = parallelize_dataframe(events['system_time'].to_frame(), wrapper_get_week_start)\n",
    "events['week_start'] = temp.week_start"
   ]
  },
  {
   "cell_type": "code",
   "execution_count": 29,
   "metadata": {
    "ExecuteTime": {
     "end_time": "2019-02-25T01:14:54.169406Z",
     "start_time": "2019-02-25T01:14:40.114753Z"
    },
    "hidden": true
   },
   "outputs": [],
   "source": [
    "events['week_start'] = events.week_start.astype('category')"
   ]
  },
  {
   "cell_type": "code",
   "execution_count": 35,
   "metadata": {
    "ExecuteTime": {
     "end_time": "2019-02-25T01:19:46.467425Z",
     "start_time": "2019-02-25T01:19:15.895929Z"
    },
    "hidden": true
   },
   "outputs": [],
   "source": [
    "events['system_date'] = events.system_date.astype('category')"
   ]
  },
  {
   "cell_type": "code",
   "execution_count": 30,
   "metadata": {
    "ExecuteTime": {
     "end_time": "2019-02-25T01:14:54.179466Z",
     "start_time": "2019-02-25T01:14:54.172428Z"
    },
    "hidden": true
   },
   "outputs": [
    {
     "data": {
      "text/plain": [
       "session_id               category\n",
       "event                    category\n",
       "event_timestamp             int64\n",
       "event_value               float64\n",
       "user_id_hash             category\n",
       "event_type               category\n",
       "system_time        datetime64[ns]\n",
       "system_date                object\n",
       "week_start               category\n",
       "dtype: object"
      ]
     },
     "execution_count": 30,
     "metadata": {},
     "output_type": "execute_result"
    }
   ],
   "source": [
    "events.dtypes"
   ]
  },
  {
   "cell_type": "code",
   "execution_count": 32,
   "metadata": {
    "ExecuteTime": {
     "end_time": "2019-02-25T01:18:37.878437Z",
     "start_time": "2019-02-25T01:15:50.841144Z"
    },
    "hidden": true
   },
   "outputs": [],
   "source": [
    "events.sort_values(['system_time', 'user_id_hash'], inplace=True)"
   ]
  },
  {
   "cell_type": "code",
   "execution_count": 66,
   "metadata": {
    "ExecuteTime": {
     "end_time": "2019-02-25T01:35:00.349171Z",
     "start_time": "2019-02-25T01:35:00.345646Z"
    },
    "hidden": true
   },
   "outputs": [],
   "source": [
    "events.reset_index(drop=True, inplace=True)"
   ]
  },
  {
   "cell_type": "code",
   "execution_count": 67,
   "metadata": {
    "ExecuteTime": {
     "end_time": "2019-02-25T01:35:00.951062Z",
     "start_time": "2019-02-25T01:35:00.934707Z"
    },
    "hidden": true
   },
   "outputs": [
    {
     "data": {
      "text/html": [
       "<div>\n",
       "<style scoped>\n",
       "    .dataframe tbody tr th:only-of-type {\n",
       "        vertical-align: middle;\n",
       "    }\n",
       "\n",
       "    .dataframe tbody tr th {\n",
       "        vertical-align: top;\n",
       "    }\n",
       "\n",
       "    .dataframe thead th {\n",
       "        text-align: right;\n",
       "    }\n",
       "</style>\n",
       "<table border=\"1\" class=\"dataframe\">\n",
       "  <thead>\n",
       "    <tr style=\"text-align: right;\">\n",
       "      <th></th>\n",
       "      <th>session_id</th>\n",
       "      <th>event</th>\n",
       "      <th>event_timestamp</th>\n",
       "      <th>event_value</th>\n",
       "      <th>user_id_hash</th>\n",
       "      <th>event_type</th>\n",
       "      <th>system_time</th>\n",
       "      <th>system_date</th>\n",
       "      <th>week_start</th>\n",
       "    </tr>\n",
       "  </thead>\n",
       "  <tbody>\n",
       "    <tr>\n",
       "      <th>0</th>\n",
       "      <td>4339488202460077611</td>\n",
       "      <td>.a5027911885258752</td>\n",
       "      <td>1538377204526</td>\n",
       "      <td>0.0</td>\n",
       "      <td>c9bad12f865142f1b3938c9ab8a3003a7882136a2b4a12...</td>\n",
       "      <td>ab</td>\n",
       "      <td>2018-10-01 07:00:04</td>\n",
       "      <td>2018-10-01</td>\n",
       "      <td>2018-10-01</td>\n",
       "    </tr>\n",
       "    <tr>\n",
       "      <th>1</th>\n",
       "      <td>4339488202460077611</td>\n",
       "      <td>.a5061295285075968</td>\n",
       "      <td>1538377204526</td>\n",
       "      <td>0.0</td>\n",
       "      <td>c9bad12f865142f1b3938c9ab8a3003a7882136a2b4a12...</td>\n",
       "      <td>ab</td>\n",
       "      <td>2018-10-01 07:00:04</td>\n",
       "      <td>2018-10-01</td>\n",
       "      <td>2018-10-01</td>\n",
       "    </tr>\n",
       "    <tr>\n",
       "      <th>2</th>\n",
       "      <td>7012480646309837595</td>\n",
       "      <td>.a5027911885258752</td>\n",
       "      <td>1538377208476</td>\n",
       "      <td>0.0</td>\n",
       "      <td>285863e47df26bf47664c93d45c35ee3b9cfc8e253da23...</td>\n",
       "      <td>ab</td>\n",
       "      <td>2018-10-01 07:00:08</td>\n",
       "      <td>2018-10-01</td>\n",
       "      <td>2018-10-01</td>\n",
       "    </tr>\n",
       "    <tr>\n",
       "      <th>3</th>\n",
       "      <td>7012480646309837595</td>\n",
       "      <td>44</td>\n",
       "      <td>1538377240514</td>\n",
       "      <td>0.0</td>\n",
       "      <td>285863e47df26bf47664c93d45c35ee3b9cfc8e253da23...</td>\n",
       "      <td>custom</td>\n",
       "      <td>2018-10-01 07:00:40</td>\n",
       "      <td>2018-10-01</td>\n",
       "      <td>2018-10-01</td>\n",
       "    </tr>\n",
       "    <tr>\n",
       "      <th>4</th>\n",
       "      <td>7012480646309837595</td>\n",
       "      <td>5</td>\n",
       "      <td>1538377242744</td>\n",
       "      <td>0.0</td>\n",
       "      <td>285863e47df26bf47664c93d45c35ee3b9cfc8e253da23...</td>\n",
       "      <td>custom</td>\n",
       "      <td>2018-10-01 07:00:42</td>\n",
       "      <td>2018-10-01</td>\n",
       "      <td>2018-10-01</td>\n",
       "    </tr>\n",
       "  </tbody>\n",
       "</table>\n",
       "</div>"
      ],
      "text/plain": [
       "            session_id               event  event_timestamp  event_value  \\\n",
       "0  4339488202460077611  .a5027911885258752    1538377204526          0.0   \n",
       "1  4339488202460077611  .a5061295285075968    1538377204526          0.0   \n",
       "2  7012480646309837595  .a5027911885258752    1538377208476          0.0   \n",
       "3  7012480646309837595                  44    1538377240514          0.0   \n",
       "4  7012480646309837595                   5    1538377242744          0.0   \n",
       "\n",
       "                                        user_id_hash event_type  \\\n",
       "0  c9bad12f865142f1b3938c9ab8a3003a7882136a2b4a12...         ab   \n",
       "1  c9bad12f865142f1b3938c9ab8a3003a7882136a2b4a12...         ab   \n",
       "2  285863e47df26bf47664c93d45c35ee3b9cfc8e253da23...         ab   \n",
       "3  285863e47df26bf47664c93d45c35ee3b9cfc8e253da23...     custom   \n",
       "4  285863e47df26bf47664c93d45c35ee3b9cfc8e253da23...     custom   \n",
       "\n",
       "          system_time system_date week_start  \n",
       "0 2018-10-01 07:00:04  2018-10-01 2018-10-01  \n",
       "1 2018-10-01 07:00:04  2018-10-01 2018-10-01  \n",
       "2 2018-10-01 07:00:08  2018-10-01 2018-10-01  \n",
       "3 2018-10-01 07:00:40  2018-10-01 2018-10-01  \n",
       "4 2018-10-01 07:00:42  2018-10-01 2018-10-01  "
      ]
     },
     "execution_count": 67,
     "metadata": {},
     "output_type": "execute_result"
    }
   ],
   "source": [
    "events.head()"
   ]
  },
  {
   "cell_type": "code",
   "execution_count": 84,
   "metadata": {
    "ExecuteTime": {
     "end_time": "2019-02-25T05:57:29.787869Z",
     "start_time": "2019-02-25T05:57:29.785051Z"
    },
    "hidden": true
   },
   "outputs": [],
   "source": [
    "events.to_pickle('../events.pkl')"
   ]
  },
  {
   "cell_type": "code",
   "execution_count": 82,
   "metadata": {
    "ExecuteTime": {
     "end_time": "2019-02-25T05:57:20.065274Z",
     "start_time": "2019-02-25T05:57:19.517956Z"
    },
    "hidden": true
   },
   "outputs": [
    {
     "data": {
      "text/plain": [
       "971"
      ]
     },
     "execution_count": 82,
     "metadata": {},
     "output_type": "execute_result"
    }
   ],
   "source": [
    "gc.collect()"
   ]
  },
  {
   "cell_type": "code",
   "execution_count": 85,
   "metadata": {
    "ExecuteTime": {
     "end_time": "2019-02-25T05:57:56.065977Z",
     "start_time": "2019-02-25T05:57:45.848773Z"
    },
    "hidden": true
   },
   "outputs": [],
   "source": [
    "events = pd.read_pickle('../events.pkl')"
   ]
  },
  {
   "cell_type": "code",
   "execution_count": 48,
   "metadata": {
    "ExecuteTime": {
     "end_time": "2019-02-25T01:23:51.891476Z",
     "start_time": "2019-02-25T01:23:50.866911Z"
    },
    "hidden": true
   },
   "outputs": [],
   "source": [
    "purchase = events.loc[events.event == '8', :].copy()"
   ]
  },
  {
   "cell_type": "code",
   "execution_count": 49,
   "metadata": {
    "ExecuteTime": {
     "end_time": "2019-02-25T01:23:52.529262Z",
     "start_time": "2019-02-25T01:23:52.524611Z"
    },
    "hidden": true
   },
   "outputs": [
    {
     "data": {
      "text/plain": [
       "(265034, 9)"
      ]
     },
     "execution_count": 49,
     "metadata": {},
     "output_type": "execute_result"
    }
   ],
   "source": [
    "purchase.shape"
   ]
  },
  {
   "cell_type": "code",
   "execution_count": 50,
   "metadata": {
    "ExecuteTime": {
     "end_time": "2019-02-25T01:24:12.547256Z",
     "start_time": "2019-02-25T01:24:08.831868Z"
    },
    "hidden": true
   },
   "outputs": [],
   "source": [
    "purchase.to_pickle('../purchase.pkl')"
   ]
  },
  {
   "cell_type": "code",
   "execution_count": 51,
   "metadata": {
    "ExecuteTime": {
     "end_time": "2019-02-25T01:24:46.264183Z",
     "start_time": "2019-02-25T01:24:46.259020Z"
    },
    "hidden": true
   },
   "outputs": [
    {
     "data": {
      "text/plain": [
       "(111946597, 9)"
      ]
     },
     "execution_count": 51,
     "metadata": {},
     "output_type": "execute_result"
    }
   ],
   "source": [
    "events.shape"
   ]
  },
  {
   "cell_type": "code",
   "execution_count": 86,
   "metadata": {
    "ExecuteTime": {
     "end_time": "2019-02-25T05:58:17.695898Z",
     "start_time": "2019-02-25T05:58:00.135713Z"
    },
    "hidden": true
   },
   "outputs": [],
   "source": [
    "events = events[events.event != '8']"
   ]
  },
  {
   "cell_type": "code",
   "execution_count": 87,
   "metadata": {
    "ExecuteTime": {
     "end_time": "2019-02-25T05:58:18.664819Z",
     "start_time": "2019-02-25T05:58:18.660139Z"
    },
    "hidden": true
   },
   "outputs": [
    {
     "data": {
      "text/plain": [
       "(111681563, 9)"
      ]
     },
     "execution_count": 87,
     "metadata": {},
     "output_type": "execute_result"
    }
   ],
   "source": [
    "events.shape"
   ]
  },
  {
   "cell_type": "code",
   "execution_count": 71,
   "metadata": {
    "ExecuteTime": {
     "end_time": "2019-02-25T01:35:51.322946Z",
     "start_time": "2019-02-25T01:35:51.317836Z"
    },
    "hidden": true
   },
   "outputs": [],
   "source": [
    "events_sub = events[:1000].copy()"
   ]
  },
  {
   "cell_type": "code",
   "execution_count": 72,
   "metadata": {
    "ExecuteTime": {
     "end_time": "2019-02-25T01:35:51.672189Z",
     "start_time": "2019-02-25T01:35:51.661967Z"
    },
    "hidden": true,
    "scrolled": true
   },
   "outputs": [
    {
     "data": {
      "text/plain": [
       "count    1000.000000\n",
       "mean        0.515000\n",
       "std         2.874376\n",
       "min         0.000000\n",
       "25%         0.000000\n",
       "50%         0.000000\n",
       "75%         0.000000\n",
       "max        25.000000\n",
       "Name: event_value, dtype: float64"
      ]
     },
     "execution_count": 72,
     "metadata": {},
     "output_type": "execute_result"
    }
   ],
   "source": [
    "events_sub.event_value.describe()"
   ]
  },
  {
   "cell_type": "code",
   "execution_count": 73,
   "metadata": {
    "ExecuteTime": {
     "end_time": "2019-02-25T01:35:52.085033Z",
     "start_time": "2019-02-25T01:35:52.077338Z"
    },
    "hidden": true
   },
   "outputs": [
    {
     "data": {
      "text/plain": [
       "0.0     951\n",
       "1.0      18\n",
       "20.0     11\n",
       "12.0      9\n",
       "15.0      7\n",
       "16.0      1\n",
       "18.0      1\n",
       "25.0      1\n",
       "5.0       1\n",
       "Name: event_value, dtype: int64"
      ]
     },
     "execution_count": 73,
     "metadata": {},
     "output_type": "execute_result"
    }
   ],
   "source": [
    "events_sub.event_value.value_counts()"
   ]
  },
  {
   "cell_type": "code",
   "execution_count": 75,
   "metadata": {
    "ExecuteTime": {
     "end_time": "2019-02-25T01:36:55.755808Z",
     "start_time": "2019-02-25T01:36:55.752890Z"
    },
    "hidden": true
   },
   "outputs": [],
   "source": [
    "# events_sub.pivot_table(values='event_value', index=['week_start', 'user_id_hash'],\n",
    "#                        columns='event_type', aggfunc='count')"
   ]
  },
  {
   "cell_type": "code",
   "execution_count": 11,
   "metadata": {
    "ExecuteTime": {
     "end_time": "2019-02-25T02:16:14.579319Z",
     "start_time": "2019-02-25T02:16:14.524266Z"
    },
    "hidden": true
   },
   "outputs": [
    {
     "data": {
      "text/plain": [
       "7"
      ]
     },
     "execution_count": 11,
     "metadata": {},
     "output_type": "execute_result"
    }
   ],
   "source": [
    "gc.collect()"
   ]
  },
  {
   "cell_type": "code",
   "execution_count": 88,
   "metadata": {
    "ExecuteTime": {
     "end_time": "2019-02-25T05:58:32.634467Z",
     "start_time": "2019-02-25T05:58:29.406827Z"
    },
    "hidden": true
   },
   "outputs": [],
   "source": [
    "events.drop(['session_id', 'event_timestamp', 'system_time', 'system_date'], inplace=True, axis=1)"
   ]
  },
  {
   "cell_type": "code",
   "execution_count": 79,
   "metadata": {
    "ExecuteTime": {
     "end_time": "2019-02-25T01:38:08.922413Z",
     "start_time": "2019-02-25T01:38:08.916910Z"
    },
    "hidden": true
   },
   "outputs": [
    {
     "data": {
      "text/plain": [
       "event           category\n",
       "event_value      float64\n",
       "user_id_hash    category\n",
       "event_type      category\n",
       "week_start      category\n",
       "dtype: object"
      ]
     },
     "execution_count": 79,
     "metadata": {},
     "output_type": "execute_result"
    }
   ],
   "source": [
    "events.dtypes"
   ]
  },
  {
   "cell_type": "code",
   "execution_count": 89,
   "metadata": {
    "ExecuteTime": {
     "end_time": "2019-02-25T05:58:53.730802Z",
     "start_time": "2019-02-25T05:58:52.606242Z"
    },
    "hidden": true
   },
   "outputs": [
    {
     "data": {
      "text/plain": [
       "custom      109362827\n",
       "ab            1855428\n",
       "message        463225\n",
       "campaing           83\n",
       "Name: event_type, dtype: int64"
      ]
     },
     "execution_count": 89,
     "metadata": {},
     "output_type": "execute_result"
    }
   ],
   "source": [
    "events.event_type.value_counts()"
   ]
  },
  {
   "cell_type": "code",
   "execution_count": 90,
   "metadata": {
    "ExecuteTime": {
     "end_time": "2019-02-25T05:58:57.013325Z",
     "start_time": "2019-02-25T05:58:57.008115Z"
    },
    "hidden": true
   },
   "outputs": [
    {
     "data": {
      "text/plain": [
       "{'ab': 97, 'message': 98, 'campaing': 99}"
      ]
     },
     "execution_count": 90,
     "metadata": {},
     "output_type": "execute_result"
    }
   ],
   "source": [
    "{'ab': 97, 'message': 98, 'campaing': 99}"
   ]
  },
  {
   "cell_type": "code",
   "execution_count": 91,
   "metadata": {
    "ExecuteTime": {
     "end_time": "2019-02-25T05:58:59.803137Z",
     "start_time": "2019-02-25T05:58:59.750382Z"
    },
    "hidden": true
   },
   "outputs": [],
   "source": [
    "events.event = events.event.cat.add_categories([97, 98, 99])"
   ]
  },
  {
   "cell_type": "code",
   "execution_count": 92,
   "metadata": {
    "ExecuteTime": {
     "end_time": "2019-02-25T05:59:05.550018Z",
     "start_time": "2019-02-25T05:59:02.184067Z"
    },
    "hidden": true
   },
   "outputs": [],
   "source": [
    "events.loc[events.event_type == 'ab', 'event'] = 97\n",
    "events.loc[events.event_type == 'message', 'event'] = 98\n",
    "events.loc[events.event_type == 'campaing', 'event'] = 99"
   ]
  },
  {
   "cell_type": "code",
   "execution_count": 93,
   "metadata": {
    "ExecuteTime": {
     "end_time": "2019-02-25T05:59:18.103008Z",
     "start_time": "2019-02-25T05:59:06.547827Z"
    },
    "hidden": true
   },
   "outputs": [],
   "source": [
    "events.event = events.event.cat.remove_unused_categories()"
   ]
  },
  {
   "cell_type": "code",
   "execution_count": 108,
   "metadata": {
    "ExecuteTime": {
     "end_time": "2019-02-25T01:50:13.437288Z",
     "start_time": "2019-02-25T01:50:12.405016Z"
    },
    "hidden": true
   },
   "outputs": [
    {
     "data": {
      "text/plain": [
       "45    75493931\n",
       "1      5363926\n",
       "5      4887922\n",
       "6      4068474\n",
       "14     3491117\n",
       "4      3435363\n",
       "40     2775997\n",
       "7      1970903\n",
       "41     1969223\n",
       "97     1855428\n",
       "3      1828494\n",
       "42     1598212\n",
       "44      495590\n",
       "98      463225\n",
       "0       407118\n",
       "63      347198\n",
       "47      310038\n",
       "57      271268\n",
       "55      194341\n",
       "50       88641\n",
       "9        85832\n",
       "11       68328\n",
       "64       67966\n",
       "54       51687\n",
       "43       23850\n",
       "49       17955\n",
       "48       11912\n",
       "56        8267\n",
       "52        6688\n",
       "59        6651\n",
       "60        6370\n",
       "58        4167\n",
       "10        2362\n",
       "51        1446\n",
       "61        1062\n",
       "62         464\n",
       "99          83\n",
       "0/          35\n",
       "1/          28\n",
       "32           1\n",
       "Name: event, dtype: int64"
      ]
     },
     "execution_count": 108,
     "metadata": {},
     "output_type": "execute_result"
    }
   ],
   "source": [
    "events.event.value_counts()"
   ]
  },
  {
   "cell_type": "code",
   "execution_count": 94,
   "metadata": {
    "ExecuteTime": {
     "end_time": "2019-02-25T05:59:19.327824Z",
     "start_time": "2019-02-25T05:59:19.324102Z"
    },
    "hidden": true
   },
   "outputs": [],
   "source": [
    "drop_events = ['56', '52', '59', '60', '58', '10', '51',\n",
    "               '61', '62', '99', '0/', '1/', '32']"
   ]
  },
  {
   "cell_type": "code",
   "execution_count": 95,
   "metadata": {
    "ExecuteTime": {
     "end_time": "2019-02-25T06:00:51.902470Z",
     "start_time": "2019-02-25T05:59:19.829521Z"
    },
    "hidden": true
   },
   "outputs": [],
   "source": [
    "for e in drop_events:\n",
    "    even = events[events.event != e]"
   ]
  },
  {
   "cell_type": "code",
   "execution_count": 112,
   "metadata": {
    "ExecuteTime": {
     "end_time": "2019-02-25T02:00:24.344819Z",
     "start_time": "2019-02-25T02:00:24.337602Z"
    },
    "hidden": true
   },
   "outputs": [
    {
     "data": {
      "text/plain": [
       "event           category\n",
       "event_value      float64\n",
       "user_id_hash    category\n",
       "event_type      category\n",
       "week_start      category\n",
       "dtype: object"
      ]
     },
     "execution_count": 112,
     "metadata": {},
     "output_type": "execute_result"
    }
   ],
   "source": [
    "events.dtypes"
   ]
  },
  {
   "cell_type": "code",
   "execution_count": 96,
   "metadata": {
    "ExecuteTime": {
     "end_time": "2019-02-25T06:00:56.562212Z",
     "start_time": "2019-02-25T06:00:55.565576Z"
    },
    "hidden": true
   },
   "outputs": [],
   "source": [
    "events.drop(['event_type'], inplace=True, axis=1)"
   ]
  },
  {
   "cell_type": "code",
   "execution_count": 115,
   "metadata": {
    "ExecuteTime": {
     "end_time": "2019-02-25T02:01:26.958025Z",
     "start_time": "2019-02-25T02:01:26.951429Z"
    },
    "hidden": true
   },
   "outputs": [
    {
     "data": {
      "text/plain": [
       "event           category\n",
       "event_value      float64\n",
       "user_id_hash    category\n",
       "week_start      category\n",
       "dtype: object"
      ]
     },
     "execution_count": 115,
     "metadata": {},
     "output_type": "execute_result"
    }
   ],
   "source": [
    "events.dtypes"
   ]
  },
  {
   "cell_type": "code",
   "execution_count": 116,
   "metadata": {
    "ExecuteTime": {
     "end_time": "2019-02-25T02:02:10.771585Z",
     "start_time": "2019-02-25T02:02:09.659643Z"
    },
    "hidden": true
   },
   "outputs": [
    {
     "data": {
      "text/plain": [
       "0.000000e+00    106109102\n",
       "1.000000e+00      3629009\n",
       "2.000000e+01       470187\n",
       "1.200000e+01       357089\n",
       "2.500000e+01       261102\n",
       "1.500000e+01       199618\n",
       "1.600000e+01       149336\n",
       "1.700000e+01       139359\n",
       "1.800000e+01       129954\n",
       "1.900000e+01        92000\n",
       "3.000000e+01        61014\n",
       "5.000000e+00        55729\n",
       "4.000000e+00         7594\n",
       "1.400000e+01         6236\n",
       "1.000000e+01         4281\n",
       "3.000000e+00         3535\n",
       "3.600000e+01         2215\n",
       "7.000000e+00         2186\n",
       "2.000000e+00          826\n",
       "5.000000e+01          330\n",
       "4.294967e+09          241\n",
       "4.800000e+01          180\n",
       "2.300000e+01          169\n",
       "4.294967e+09           51\n",
       "4.294967e+09           36\n",
       "4.294967e+09           11\n",
       "4.294967e+09            9\n",
       "3.500000e+01            9\n",
       "9.000000e+00            8\n",
       "4.294967e+09            6\n",
       "                  ...    \n",
       "1.000000e+09            2\n",
       "4.294967e+09            1\n",
       "4.294967e+09            1\n",
       "4.294973e+08            1\n",
       "4.294967e+09            1\n",
       "4.293967e+09            1\n",
       "4.294967e+09            1\n",
       "4.293967e+09            1\n",
       "4.294967e+09            1\n",
       "4.294967e+09            1\n",
       "4.294967e+09            1\n",
       "4.294967e+09            1\n",
       "4.294967e+09            1\n",
       "4.294967e+09            1\n",
       "4.294967e+09            1\n",
       "4.294967e+09            1\n",
       "9.900000e+01            1\n",
       "1.000000e+09            1\n",
       "2.100000e+01            1\n",
       "4.294967e+09            1\n",
       "9.999998e+07            1\n",
       "9.999969e+06            1\n",
       "9.999930e+05            1\n",
       "2.900000e+01            1\n",
       "3.200000e+01            1\n",
       "9.998100e+04            1\n",
       "4.000000e+01            1\n",
       "4.294967e+09            1\n",
       "6.000000e+01            1\n",
       "1.000000e+09            1\n",
       "Name: event_value, Length: 76, dtype: int64"
      ]
     },
     "execution_count": 116,
     "metadata": {},
     "output_type": "execute_result"
    }
   ],
   "source": [
    "events.event_value.value_counts()"
   ]
  },
  {
   "cell_type": "code",
   "execution_count": 117,
   "metadata": {
    "ExecuteTime": {
     "end_time": "2019-02-25T02:03:40.088553Z",
     "start_time": "2019-02-25T02:03:40.083368Z"
    },
    "hidden": true
   },
   "outputs": [],
   "source": [
    "events_sub = events[:3000].copy()"
   ]
  },
  {
   "cell_type": "code",
   "execution_count": 119,
   "metadata": {
    "ExecuteTime": {
     "end_time": "2019-02-25T02:04:07.548292Z",
     "start_time": "2019-02-25T02:04:07.523841Z"
    },
    "hidden": true
   },
   "outputs": [],
   "source": [
    "events_sub = events_sub[events_sub.week_start == '2018-10-01']"
   ]
  },
  {
   "cell_type": "code",
   "execution_count": 97,
   "metadata": {
    "ExecuteTime": {
     "end_time": "2019-02-25T06:01:31.347321Z",
     "start_time": "2019-02-25T06:01:31.340765Z"
    },
    "hidden": true
   },
   "outputs": [],
   "source": [
    "def weekly_aggregate(df):\n",
    "\n",
    "    grp_cols = ['week_start', 'event', 'user_id_hash']\n",
    "    grpby_obj = df.groupby(grp_cols)\n",
    "    \n",
    "    temp = grpby_obj.event_value.count().to_frame().reset_index()\\\n",
    "                .rename(columns={'event_value': 'event_count'})\n",
    "    temp1 = grpby_obj.event_value.sum().to_frame().reset_index()\\\n",
    "                .rename(columns={'event_value': 'event_sum'})\n",
    "    temp2 = grpby_obj.event_value.mean().to_frame().reset_index()\\\n",
    "                .rename(columns={'event_value': 'event_mean'})\n",
    "\n",
    "    for i in range(1, 3):\n",
    "        temp = temp.merge(locals()[f'temp{i}'], \n",
    "                          on=grp_cols)\n",
    "    return temp"
   ]
  },
  {
   "cell_type": "code",
   "execution_count": 126,
   "metadata": {
    "ExecuteTime": {
     "end_time": "2019-02-25T02:07:52.489147Z",
     "start_time": "2019-02-25T02:07:49.556924Z"
    },
    "hidden": true
   },
   "outputs": [],
   "source": [
    "result = weekly_aggregate(events_sub)"
   ]
  },
  {
   "cell_type": "code",
   "execution_count": 136,
   "metadata": {
    "ExecuteTime": {
     "end_time": "2019-02-25T02:10:38.794643Z",
     "start_time": "2019-02-25T02:10:38.782398Z"
    },
    "hidden": true
   },
   "outputs": [
    {
     "data": {
      "text/html": [
       "<div>\n",
       "<style scoped>\n",
       "    .dataframe tbody tr th:only-of-type {\n",
       "        vertical-align: middle;\n",
       "    }\n",
       "\n",
       "    .dataframe tbody tr th {\n",
       "        vertical-align: top;\n",
       "    }\n",
       "\n",
       "    .dataframe thead th {\n",
       "        text-align: right;\n",
       "    }\n",
       "</style>\n",
       "<table border=\"1\" class=\"dataframe\">\n",
       "  <thead>\n",
       "    <tr style=\"text-align: right;\">\n",
       "      <th></th>\n",
       "      <th>event</th>\n",
       "      <th>user_id_hash</th>\n",
       "      <th>event_count</th>\n",
       "      <th>event_sum</th>\n",
       "      <th>event_mean</th>\n",
       "    </tr>\n",
       "  </thead>\n",
       "  <tbody>\n",
       "    <tr>\n",
       "      <th>0</th>\n",
       "      <td>0</td>\n",
       "      <td>ac6c2e659dbfbac273cd47c4a3aea9833e1b72e3afc8db...</td>\n",
       "      <td>1</td>\n",
       "      <td>0.0</td>\n",
       "      <td>0.0</td>\n",
       "    </tr>\n",
       "    <tr>\n",
       "      <th>1</th>\n",
       "      <td>0</td>\n",
       "      <td>be4f8aace99f98e60c4056822c54d141b1f53f58462231...</td>\n",
       "      <td>1</td>\n",
       "      <td>0.0</td>\n",
       "      <td>0.0</td>\n",
       "    </tr>\n",
       "    <tr>\n",
       "      <th>2</th>\n",
       "      <td>0</td>\n",
       "      <td>f8f57eeab62685b817353f70384952b6ee019e1738ebbd...</td>\n",
       "      <td>1</td>\n",
       "      <td>0.0</td>\n",
       "      <td>0.0</td>\n",
       "    </tr>\n",
       "    <tr>\n",
       "      <th>3</th>\n",
       "      <td>1</td>\n",
       "      <td>069fd1a9e916d4369e382e23e2aabda6409fe96ee60f93...</td>\n",
       "      <td>1</td>\n",
       "      <td>0.0</td>\n",
       "      <td>0.0</td>\n",
       "    </tr>\n",
       "    <tr>\n",
       "      <th>4</th>\n",
       "      <td>1</td>\n",
       "      <td>06f5949e56fcd2137cebf2ebe46044814816e22ff129bb...</td>\n",
       "      <td>1</td>\n",
       "      <td>0.0</td>\n",
       "      <td>0.0</td>\n",
       "    </tr>\n",
       "  </tbody>\n",
       "</table>\n",
       "</div>"
      ],
      "text/plain": [
       "  event                                       user_id_hash  event_count  \\\n",
       "0     0  ac6c2e659dbfbac273cd47c4a3aea9833e1b72e3afc8db...            1   \n",
       "1     0  be4f8aace99f98e60c4056822c54d141b1f53f58462231...            1   \n",
       "2     0  f8f57eeab62685b817353f70384952b6ee019e1738ebbd...            1   \n",
       "3     1  069fd1a9e916d4369e382e23e2aabda6409fe96ee60f93...            1   \n",
       "4     1  06f5949e56fcd2137cebf2ebe46044814816e22ff129bb...            1   \n",
       "\n",
       "   event_sum  event_mean  \n",
       "0        0.0         0.0  \n",
       "1        0.0         0.0  \n",
       "2        0.0         0.0  \n",
       "3        0.0         0.0  \n",
       "4        0.0         0.0  "
      ]
     },
     "execution_count": 136,
     "metadata": {},
     "output_type": "execute_result"
    }
   ],
   "source": [
    "result.head()"
   ]
  },
  {
   "cell_type": "code",
   "execution_count": 128,
   "metadata": {
    "ExecuteTime": {
     "end_time": "2019-02-25T02:08:06.886287Z",
     "start_time": "2019-02-25T02:08:06.876599Z"
    },
    "hidden": true
   },
   "outputs": [
    {
     "data": {
      "text/plain": [
       "count    875.000000\n",
       "mean       1.430933\n",
       "std        4.828495\n",
       "min        0.000000\n",
       "25%        0.000000\n",
       "50%        0.000000\n",
       "75%        0.000000\n",
       "max       30.000000\n",
       "Name: event_mean, dtype: float64"
      ]
     },
     "execution_count": 128,
     "metadata": {},
     "output_type": "execute_result"
    }
   ],
   "source": [
    "result.event_mean.describe()"
   ]
  },
  {
   "cell_type": "code",
   "execution_count": 129,
   "metadata": {
    "ExecuteTime": {
     "end_time": "2019-02-25T02:08:16.534741Z",
     "start_time": "2019-02-25T02:08:16.525573Z"
    },
    "hidden": true
   },
   "outputs": [
    {
     "data": {
      "text/plain": [
       "count    875.000000\n",
       "mean       2.014857\n",
       "std        7.595374\n",
       "min        0.000000\n",
       "25%        0.000000\n",
       "50%        0.000000\n",
       "75%        0.000000\n",
       "max       65.000000\n",
       "Name: event_sum, dtype: float64"
      ]
     },
     "execution_count": 129,
     "metadata": {},
     "output_type": "execute_result"
    }
   ],
   "source": [
    "result.event_sum.describe()"
   ]
  },
  {
   "cell_type": "code",
   "execution_count": 98,
   "metadata": {
    "ExecuteTime": {
     "end_time": "2019-02-25T06:01:52.961743Z",
     "start_time": "2019-02-25T06:01:38.672562Z"
    },
    "hidden": true
   },
   "outputs": [],
   "source": [
    "week_dates = events.week_start.dt.date.unique()"
   ]
  },
  {
   "cell_type": "code",
   "execution_count": 99,
   "metadata": {
    "ExecuteTime": {
     "end_time": "2019-02-25T06:02:02.884681Z",
     "start_time": "2019-02-25T06:02:02.522248Z"
    },
    "hidden": true
   },
   "outputs": [
    {
     "data": {
      "text/plain": [
       "7"
      ]
     },
     "execution_count": 99,
     "metadata": {},
     "output_type": "execute_result"
    }
   ],
   "source": [
    "gc.collect()"
   ]
  },
  {
   "cell_type": "code",
   "execution_count": 100,
   "metadata": {
    "ExecuteTime": {
     "end_time": "2019-02-25T06:02:42.470266Z",
     "start_time": "2019-02-25T06:02:05.524613Z"
    },
    "hidden": true
   },
   "outputs": [
    {
     "data": {
      "text/html": [
       "\n",
       "    <div>\n",
       "        <style>\n",
       "            /* Turns off some styling */\n",
       "            progress {\n",
       "                /* gets rid of default border in Firefox and Opera. */\n",
       "                border: none;\n",
       "                /* Needs to be in here for Safari polyfill so background images work as expected. */\n",
       "                background-size: auto;\n",
       "            }\n",
       "            .progress-bar-interrupted, .progress-bar-interrupted::-webkit-progress-bar {\n",
       "                background: #F44336;\n",
       "            }\n",
       "        </style>\n",
       "      <progress value='11' class='' max='11', style='width:300px; height:20px; vertical-align: middle;'></progress>\n",
       "      100.00% [11/11 00:21<00:00]\n",
       "    </div>\n",
       "    "
      ],
      "text/plain": [
       "<IPython.core.display.HTML object>"
      ]
     },
     "metadata": {},
     "output_type": "display_data"
    }
   ],
   "source": [
    "def wrapper_agg(wst):\n",
    "    events_ss = events[events.week_start == wst].copy()\n",
    "    return weekly_aggregate(events_ss)\n",
    "\n",
    "result = parallel(wrapper_agg, week_dates)\n",
    "result = pd.concat(result)"
   ]
  },
  {
   "cell_type": "code",
   "execution_count": 101,
   "metadata": {
    "ExecuteTime": {
     "end_time": "2019-02-25T06:02:42.479151Z",
     "start_time": "2019-02-25T06:02:42.473869Z"
    },
    "hidden": true
   },
   "outputs": [
    {
     "data": {
      "text/plain": [
       "(8029501, 6)"
      ]
     },
     "execution_count": 101,
     "metadata": {},
     "output_type": "execute_result"
    }
   ],
   "source": [
    "result.shape"
   ]
  },
  {
   "cell_type": "code",
   "execution_count": 102,
   "metadata": {
    "ExecuteTime": {
     "end_time": "2019-02-25T06:02:42.516591Z",
     "start_time": "2019-02-25T06:02:42.481149Z"
    },
    "hidden": true
   },
   "outputs": [
    {
     "data": {
      "text/html": [
       "<div>\n",
       "<style scoped>\n",
       "    .dataframe tbody tr th:only-of-type {\n",
       "        vertical-align: middle;\n",
       "    }\n",
       "\n",
       "    .dataframe tbody tr th {\n",
       "        vertical-align: top;\n",
       "    }\n",
       "\n",
       "    .dataframe thead th {\n",
       "        text-align: right;\n",
       "    }\n",
       "</style>\n",
       "<table border=\"1\" class=\"dataframe\">\n",
       "  <thead>\n",
       "    <tr style=\"text-align: right;\">\n",
       "      <th></th>\n",
       "      <th>week_start</th>\n",
       "      <th>event</th>\n",
       "      <th>user_id_hash</th>\n",
       "      <th>event_count</th>\n",
       "      <th>event_sum</th>\n",
       "      <th>event_mean</th>\n",
       "    </tr>\n",
       "  </thead>\n",
       "  <tbody>\n",
       "    <tr>\n",
       "      <th>0</th>\n",
       "      <td>2018-10-01</td>\n",
       "      <td>0</td>\n",
       "      <td>0008ae1788be9473a11dd8efdc61010ad2a54ffe5e17ad...</td>\n",
       "      <td>1</td>\n",
       "      <td>0.0</td>\n",
       "      <td>0.0</td>\n",
       "    </tr>\n",
       "    <tr>\n",
       "      <th>1</th>\n",
       "      <td>2018-10-01</td>\n",
       "      <td>0</td>\n",
       "      <td>000c653971c4cdb4a930ebb9de12c8587f8c46cdf1bdf5...</td>\n",
       "      <td>1</td>\n",
       "      <td>0.0</td>\n",
       "      <td>0.0</td>\n",
       "    </tr>\n",
       "    <tr>\n",
       "      <th>2</th>\n",
       "      <td>2018-10-01</td>\n",
       "      <td>0</td>\n",
       "      <td>001341dc1ffc939af25106b66a54ea318c15a03d7d699a...</td>\n",
       "      <td>1</td>\n",
       "      <td>0.0</td>\n",
       "      <td>0.0</td>\n",
       "    </tr>\n",
       "    <tr>\n",
       "      <th>3</th>\n",
       "      <td>2018-10-01</td>\n",
       "      <td>0</td>\n",
       "      <td>001649233906501efe5899fc693500a233220cfc02be0d...</td>\n",
       "      <td>1</td>\n",
       "      <td>0.0</td>\n",
       "      <td>0.0</td>\n",
       "    </tr>\n",
       "    <tr>\n",
       "      <th>4</th>\n",
       "      <td>2018-10-01</td>\n",
       "      <td>0</td>\n",
       "      <td>001b256fc745aff7b582d02dd1e7d9209a7b6c486b4cf2...</td>\n",
       "      <td>1</td>\n",
       "      <td>0.0</td>\n",
       "      <td>0.0</td>\n",
       "    </tr>\n",
       "  </tbody>\n",
       "</table>\n",
       "</div>"
      ],
      "text/plain": [
       "  week_start event                                       user_id_hash  \\\n",
       "0 2018-10-01     0  0008ae1788be9473a11dd8efdc61010ad2a54ffe5e17ad...   \n",
       "1 2018-10-01     0  000c653971c4cdb4a930ebb9de12c8587f8c46cdf1bdf5...   \n",
       "2 2018-10-01     0  001341dc1ffc939af25106b66a54ea318c15a03d7d699a...   \n",
       "3 2018-10-01     0  001649233906501efe5899fc693500a233220cfc02be0d...   \n",
       "4 2018-10-01     0  001b256fc745aff7b582d02dd1e7d9209a7b6c486b4cf2...   \n",
       "\n",
       "   event_count  event_sum  event_mean  \n",
       "0            1        0.0         0.0  \n",
       "1            1        0.0         0.0  \n",
       "2            1        0.0         0.0  \n",
       "3            1        0.0         0.0  \n",
       "4            1        0.0         0.0  "
      ]
     },
     "execution_count": 102,
     "metadata": {},
     "output_type": "execute_result"
    }
   ],
   "source": [
    "result.head()"
   ]
  },
  {
   "cell_type": "code",
   "execution_count": 103,
   "metadata": {
    "ExecuteTime": {
     "end_time": "2019-02-25T06:02:52.663473Z",
     "start_time": "2019-02-25T06:02:48.990840Z"
    },
    "hidden": true
   },
   "outputs": [],
   "source": [
    "result.to_pickle('../events_agg.pkl')"
   ]
  },
  {
   "cell_type": "markdown",
   "metadata": {},
   "source": [
    "# Agg Atrributes"
   ]
  },
  {
   "cell_type": "markdown",
   "metadata": {},
   "source": [
    "## combining"
   ]
  },
  {
   "cell_type": "code",
   "execution_count": 11,
   "metadata": {
    "ExecuteTime": {
     "end_time": "2019-03-06T06:41:56.192205Z",
     "start_time": "2019-03-06T06:41:39.220389Z"
    }
   },
   "outputs": [],
   "source": [
    "attrib = pd.read_pickle('../../attributes2.pkl')"
   ]
  },
  {
   "cell_type": "code",
   "execution_count": 12,
   "metadata": {
    "ExecuteTime": {
     "end_time": "2019-03-06T06:41:56.202523Z",
     "start_time": "2019-03-06T06:41:56.195043Z"
    }
   },
   "outputs": [
    {
     "data": {
      "text/plain": [
       "session_id         category\n",
       "attribute             uint8\n",
       "attribute_value      object\n",
       "user_id_hash       category\n",
       "dtype: object"
      ]
     },
     "execution_count": 12,
     "metadata": {},
     "output_type": "execute_result"
    }
   ],
   "source": [
    "attrib.dtypes"
   ]
  },
  {
   "cell_type": "code",
   "execution_count": 13,
   "metadata": {
    "ExecuteTime": {
     "end_time": "2019-03-06T06:41:56.209173Z",
     "start_time": "2019-03-06T06:41:56.204588Z"
    }
   },
   "outputs": [
    {
     "data": {
      "text/plain": [
       "(185590092, 4)"
      ]
     },
     "execution_count": 13,
     "metadata": {},
     "output_type": "execute_result"
    }
   ],
   "source": [
    "attrib.shape"
   ]
  },
  {
   "cell_type": "code",
   "execution_count": 15,
   "metadata": {
    "ExecuteTime": {
     "end_time": "2019-03-06T06:21:22.531734Z",
     "start_time": "2019-03-06T06:21:20.839295Z"
    }
   },
   "outputs": [
    {
     "data": {
      "text/html": [
       "<div>\n",
       "<style scoped>\n",
       "    .dataframe tbody tr th:only-of-type {\n",
       "        vertical-align: middle;\n",
       "    }\n",
       "\n",
       "    .dataframe tbody tr th {\n",
       "        vertical-align: top;\n",
       "    }\n",
       "\n",
       "    .dataframe thead th {\n",
       "        text-align: right;\n",
       "    }\n",
       "</style>\n",
       "<table border=\"1\" class=\"dataframe\">\n",
       "  <thead>\n",
       "    <tr style=\"text-align: right;\">\n",
       "      <th></th>\n",
       "      <th>session_id</th>\n",
       "      <th>attribute</th>\n",
       "      <th>attribute_value</th>\n",
       "      <th>user_id_hash</th>\n",
       "    </tr>\n",
       "  </thead>\n",
       "  <tbody>\n",
       "    <tr>\n",
       "      <th>0</th>\n",
       "      <td>2201961907282901522</td>\n",
       "      <td>0</td>\n",
       "      <td>1</td>\n",
       "      <td>9943447915df3a45fd6720a026af905b6da6b56a37701b...</td>\n",
       "    </tr>\n",
       "    <tr>\n",
       "      <th>1</th>\n",
       "      <td>2201961907282901522</td>\n",
       "      <td>1</td>\n",
       "      <td>1</td>\n",
       "      <td>9943447915df3a45fd6720a026af905b6da6b56a37701b...</td>\n",
       "    </tr>\n",
       "    <tr>\n",
       "      <th>2</th>\n",
       "      <td>2201961907282901522</td>\n",
       "      <td>3</td>\n",
       "      <td>0</td>\n",
       "      <td>9943447915df3a45fd6720a026af905b6da6b56a37701b...</td>\n",
       "    </tr>\n",
       "    <tr>\n",
       "      <th>3</th>\n",
       "      <td>2201961907282901522</td>\n",
       "      <td>4</td>\n",
       "      <td>0</td>\n",
       "      <td>9943447915df3a45fd6720a026af905b6da6b56a37701b...</td>\n",
       "    </tr>\n",
       "    <tr>\n",
       "      <th>4</th>\n",
       "      <td>2201961907282901522</td>\n",
       "      <td>5</td>\n",
       "      <td>romance_the_royal_romance_02:11</td>\n",
       "      <td>9943447915df3a45fd6720a026af905b6da6b56a37701b...</td>\n",
       "    </tr>\n",
       "  </tbody>\n",
       "</table>\n",
       "</div>"
      ],
      "text/plain": [
       "            session_id  attribute                  attribute_value  \\\n",
       "0  2201961907282901522          0                                1   \n",
       "1  2201961907282901522          1                                1   \n",
       "2  2201961907282901522          3                                0   \n",
       "3  2201961907282901522          4                                0   \n",
       "4  2201961907282901522          5  romance_the_royal_romance_02:11   \n",
       "\n",
       "                                        user_id_hash  \n",
       "0  9943447915df3a45fd6720a026af905b6da6b56a37701b...  \n",
       "1  9943447915df3a45fd6720a026af905b6da6b56a37701b...  \n",
       "2  9943447915df3a45fd6720a026af905b6da6b56a37701b...  \n",
       "3  9943447915df3a45fd6720a026af905b6da6b56a37701b...  \n",
       "4  9943447915df3a45fd6720a026af905b6da6b56a37701b...  "
      ]
     },
     "execution_count": 15,
     "metadata": {},
     "output_type": "execute_result"
    }
   ],
   "source": [
    "attrib.head()"
   ]
  },
  {
   "cell_type": "code",
   "execution_count": 14,
   "metadata": {
    "ExecuteTime": {
     "end_time": "2019-03-06T06:42:00.636763Z",
     "start_time": "2019-03-06T06:41:56.212306Z"
    }
   },
   "outputs": [],
   "source": [
    "events = pd.read_pickle('../data/sessions.pkl')"
   ]
  },
  {
   "cell_type": "code",
   "execution_count": 31,
   "metadata": {
    "ExecuteTime": {
     "end_time": "2019-03-06T06:26:43.361561Z",
     "start_time": "2019-03-06T06:26:38.322586Z"
    }
   },
   "outputs": [
    {
     "data": {
      "text/html": [
       "<div>\n",
       "<style scoped>\n",
       "    .dataframe tbody tr th:only-of-type {\n",
       "        vertical-align: middle;\n",
       "    }\n",
       "\n",
       "    .dataframe tbody tr th {\n",
       "        vertical-align: top;\n",
       "    }\n",
       "\n",
       "    .dataframe thead th {\n",
       "        text-align: right;\n",
       "    }\n",
       "</style>\n",
       "<table border=\"1\" class=\"dataframe\">\n",
       "  <thead>\n",
       "    <tr style=\"text-align: right;\">\n",
       "      <th></th>\n",
       "      <th>session_id</th>\n",
       "      <th>timezone</th>\n",
       "      <th>timezone_offset</th>\n",
       "      <th>previous_sessions_duration</th>\n",
       "      <th>user_created_timestamp</th>\n",
       "      <th>is_user_first_session</th>\n",
       "      <th>country</th>\n",
       "      <th>region</th>\n",
       "      <th>city</th>\n",
       "      <th>latitude</th>\n",
       "      <th>longitude</th>\n",
       "      <th>locale</th>\n",
       "      <th>os_name</th>\n",
       "      <th>session_index</th>\n",
       "      <th>user_id_hash</th>\n",
       "      <th>user_time</th>\n",
       "      <th>system_time</th>\n",
       "      <th>system_date</th>\n",
       "      <th>anchor_date</th>\n",
       "    </tr>\n",
       "  </thead>\n",
       "  <tbody>\n",
       "    <tr>\n",
       "      <th>0</th>\n",
       "      <td>4339488202460077611</td>\n",
       "      <td>Australia/Sydney</td>\n",
       "      <td>36000000</td>\n",
       "      <td>0</td>\n",
       "      <td>2018-10-01 07:00:04</td>\n",
       "      <td>True</td>\n",
       "      <td>AU</td>\n",
       "      <td>qld</td>\n",
       "      <td>gold coast</td>\n",
       "      <td>-28.016666</td>\n",
       "      <td>153.399994</td>\n",
       "      <td>en-AU_AU</td>\n",
       "      <td>iPhone OS</td>\n",
       "      <td>1</td>\n",
       "      <td>c9bad12f865142f1b3938c9ab8a3003a7882136a2b4a12...</td>\n",
       "      <td>17</td>\n",
       "      <td>2018-10-01 07:00:04</td>\n",
       "      <td>2018-10-01</td>\n",
       "      <td>2018-10-01</td>\n",
       "    </tr>\n",
       "    <tr>\n",
       "      <th>1</th>\n",
       "      <td>7012480646309837595</td>\n",
       "      <td>Pacific/Auckland</td>\n",
       "      <td>46800000</td>\n",
       "      <td>0</td>\n",
       "      <td>2018-10-01 07:00:08</td>\n",
       "      <td>True</td>\n",
       "      <td>NZ</td>\n",
       "      <td>auk</td>\n",
       "      <td>auckland</td>\n",
       "      <td>-36.848461</td>\n",
       "      <td>174.763336</td>\n",
       "      <td>en-NZ_NZ</td>\n",
       "      <td>iOS</td>\n",
       "      <td>1</td>\n",
       "      <td>285863e47df26bf47664c93d45c35ee3b9cfc8e253da23...</td>\n",
       "      <td>20</td>\n",
       "      <td>2018-10-01 07:00:08</td>\n",
       "      <td>2018-10-01</td>\n",
       "      <td>2018-10-01</td>\n",
       "    </tr>\n",
       "    <tr>\n",
       "      <th>2</th>\n",
       "      <td>2920311224184894615</td>\n",
       "      <td>Asia/Kolkata</td>\n",
       "      <td>19800000</td>\n",
       "      <td>1000637</td>\n",
       "      <td>2018-10-01 06:44:08</td>\n",
       "      <td>False</td>\n",
       "      <td>IN</td>\n",
       "      <td>tg</td>\n",
       "      <td>hyderabad</td>\n",
       "      <td>17.385044</td>\n",
       "      <td>78.486671</td>\n",
       "      <td>en_US</td>\n",
       "      <td>Android OS</td>\n",
       "      <td>2</td>\n",
       "      <td>475f8f20576637055c5331513dda4db1d889f5e951c8e5...</td>\n",
       "      <td>12</td>\n",
       "      <td>2018-10-01 07:01:02</td>\n",
       "      <td>2018-10-01</td>\n",
       "      <td>2018-10-01</td>\n",
       "    </tr>\n",
       "    <tr>\n",
       "      <th>3</th>\n",
       "      <td>8483277250870486701</td>\n",
       "      <td>America/Chicago</td>\n",
       "      <td>-18000000</td>\n",
       "      <td>0</td>\n",
       "      <td>2018-10-01 07:01:30</td>\n",
       "      <td>True</td>\n",
       "      <td>US</td>\n",
       "      <td>tx</td>\n",
       "      <td>houston</td>\n",
       "      <td>29.760427</td>\n",
       "      <td>-95.369804</td>\n",
       "      <td>en_US</td>\n",
       "      <td>Android OS</td>\n",
       "      <td>1</td>\n",
       "      <td>4bc7b52d56b24d258ba1746994492f354fd4b17fcaae81...</td>\n",
       "      <td>2</td>\n",
       "      <td>2018-10-01 07:01:30</td>\n",
       "      <td>2018-10-01</td>\n",
       "      <td>2018-10-01</td>\n",
       "    </tr>\n",
       "    <tr>\n",
       "      <th>4</th>\n",
       "      <td>8114762104527844914</td>\n",
       "      <td>America/Los_Angeles</td>\n",
       "      <td>-25200000</td>\n",
       "      <td>2415582</td>\n",
       "      <td>2018-10-01 06:18:23</td>\n",
       "      <td>False</td>\n",
       "      <td>US</td>\n",
       "      <td>ca</td>\n",
       "      <td>sacramento</td>\n",
       "      <td>38.581573</td>\n",
       "      <td>-121.494400</td>\n",
       "      <td>en_US</td>\n",
       "      <td>Android OS</td>\n",
       "      <td>2</td>\n",
       "      <td>82349b0d1a80b42e59519068ded46178778084b9602b9c...</td>\n",
       "      <td>0</td>\n",
       "      <td>2018-10-01 07:01:57</td>\n",
       "      <td>2018-10-01</td>\n",
       "      <td>2018-10-01</td>\n",
       "    </tr>\n",
       "  </tbody>\n",
       "</table>\n",
       "</div>"
      ],
      "text/plain": [
       "            session_id             timezone timezone_offset  \\\n",
       "0  4339488202460077611     Australia/Sydney        36000000   \n",
       "1  7012480646309837595     Pacific/Auckland        46800000   \n",
       "2  2920311224184894615         Asia/Kolkata        19800000   \n",
       "3  8483277250870486701      America/Chicago       -18000000   \n",
       "4  8114762104527844914  America/Los_Angeles       -25200000   \n",
       "\n",
       "   previous_sessions_duration user_created_timestamp  is_user_first_session  \\\n",
       "0                           0    2018-10-01 07:00:04                   True   \n",
       "1                           0    2018-10-01 07:00:08                   True   \n",
       "2                     1000637    2018-10-01 06:44:08                  False   \n",
       "3                           0    2018-10-01 07:01:30                   True   \n",
       "4                     2415582    2018-10-01 06:18:23                  False   \n",
       "\n",
       "  country region        city   latitude   longitude    locale     os_name  \\\n",
       "0      AU    qld  gold coast -28.016666  153.399994  en-AU_AU   iPhone OS   \n",
       "1      NZ    auk    auckland -36.848461  174.763336  en-NZ_NZ         iOS   \n",
       "2      IN     tg   hyderabad  17.385044   78.486671     en_US  Android OS   \n",
       "3      US     tx     houston  29.760427  -95.369804     en_US  Android OS   \n",
       "4      US     ca  sacramento  38.581573 -121.494400     en_US  Android OS   \n",
       "\n",
       "   session_index                                       user_id_hash  \\\n",
       "0              1  c9bad12f865142f1b3938c9ab8a3003a7882136a2b4a12...   \n",
       "1              1  285863e47df26bf47664c93d45c35ee3b9cfc8e253da23...   \n",
       "2              2  475f8f20576637055c5331513dda4db1d889f5e951c8e5...   \n",
       "3              1  4bc7b52d56b24d258ba1746994492f354fd4b17fcaae81...   \n",
       "4              2  82349b0d1a80b42e59519068ded46178778084b9602b9c...   \n",
       "\n",
       "   user_time         system_time system_date anchor_date  \n",
       "0         17 2018-10-01 07:00:04  2018-10-01  2018-10-01  \n",
       "1         20 2018-10-01 07:00:08  2018-10-01  2018-10-01  \n",
       "2         12 2018-10-01 07:01:02  2018-10-01  2018-10-01  \n",
       "3          2 2018-10-01 07:01:30  2018-10-01  2018-10-01  \n",
       "4          0 2018-10-01 07:01:57  2018-10-01  2018-10-01  "
      ]
     },
     "execution_count": 31,
     "metadata": {},
     "output_type": "execute_result"
    }
   ],
   "source": [
    "events.head()"
   ]
  },
  {
   "cell_type": "code",
   "execution_count": 15,
   "metadata": {
    "ExecuteTime": {
     "end_time": "2019-03-06T06:42:06.021828Z",
     "start_time": "2019-03-06T06:42:00.639375Z"
    }
   },
   "outputs": [],
   "source": [
    "events = events.loc[:, ['session_id', 'system_time']]"
   ]
  },
  {
   "cell_type": "code",
   "execution_count": 33,
   "metadata": {
    "ExecuteTime": {
     "end_time": "2019-03-06T06:26:52.849349Z",
     "start_time": "2019-03-06T06:26:52.845435Z"
    }
   },
   "outputs": [
    {
     "data": {
      "text/plain": [
       "(5165760, 2)"
      ]
     },
     "execution_count": 33,
     "metadata": {},
     "output_type": "execute_result"
    }
   ],
   "source": [
    "events.shape"
   ]
  },
  {
   "cell_type": "code",
   "execution_count": 16,
   "metadata": {
    "ExecuteTime": {
     "end_time": "2019-03-06T06:42:20.560173Z",
     "start_time": "2019-03-06T06:42:06.024121Z"
    }
   },
   "outputs": [],
   "source": [
    "events.drop_duplicates(inplace=True)"
   ]
  },
  {
   "cell_type": "code",
   "execution_count": 35,
   "metadata": {
    "ExecuteTime": {
     "end_time": "2019-03-06T06:27:07.018815Z",
     "start_time": "2019-03-06T06:27:07.013986Z"
    }
   },
   "outputs": [
    {
     "data": {
      "text/plain": [
       "(5165730, 2)"
      ]
     },
     "execution_count": 35,
     "metadata": {},
     "output_type": "execute_result"
    }
   ],
   "source": [
    "events.shape"
   ]
  },
  {
   "cell_type": "code",
   "execution_count": 17,
   "metadata": {
    "ExecuteTime": {
     "end_time": "2019-03-06T06:42:20.565562Z",
     "start_time": "2019-03-06T06:42:20.562141Z"
    }
   },
   "outputs": [],
   "source": [
    "events.reset_index(inplace=True, drop=True)"
   ]
  },
  {
   "cell_type": "code",
   "execution_count": 18,
   "metadata": {
    "ExecuteTime": {
     "end_time": "2019-03-06T06:42:24.809970Z",
     "start_time": "2019-03-06T06:42:20.567828Z"
    }
   },
   "outputs": [],
   "source": [
    "events.session_id = events.session_id.astype('category')"
   ]
  },
  {
   "cell_type": "code",
   "execution_count": 38,
   "metadata": {
    "ExecuteTime": {
     "end_time": "2019-03-06T06:27:28.828840Z",
     "start_time": "2019-03-06T06:27:28.818638Z"
    }
   },
   "outputs": [
    {
     "data": {
      "text/html": [
       "<div>\n",
       "<style scoped>\n",
       "    .dataframe tbody tr th:only-of-type {\n",
       "        vertical-align: middle;\n",
       "    }\n",
       "\n",
       "    .dataframe tbody tr th {\n",
       "        vertical-align: top;\n",
       "    }\n",
       "\n",
       "    .dataframe thead th {\n",
       "        text-align: right;\n",
       "    }\n",
       "</style>\n",
       "<table border=\"1\" class=\"dataframe\">\n",
       "  <thead>\n",
       "    <tr style=\"text-align: right;\">\n",
       "      <th></th>\n",
       "      <th>session_id</th>\n",
       "      <th>system_time</th>\n",
       "    </tr>\n",
       "  </thead>\n",
       "  <tbody>\n",
       "    <tr>\n",
       "      <th>0</th>\n",
       "      <td>4339488202460077611</td>\n",
       "      <td>2018-10-01 07:00:04</td>\n",
       "    </tr>\n",
       "    <tr>\n",
       "      <th>1</th>\n",
       "      <td>7012480646309837595</td>\n",
       "      <td>2018-10-01 07:00:08</td>\n",
       "    </tr>\n",
       "    <tr>\n",
       "      <th>2</th>\n",
       "      <td>2920311224184894615</td>\n",
       "      <td>2018-10-01 07:01:02</td>\n",
       "    </tr>\n",
       "    <tr>\n",
       "      <th>3</th>\n",
       "      <td>8483277250870486701</td>\n",
       "      <td>2018-10-01 07:01:30</td>\n",
       "    </tr>\n",
       "    <tr>\n",
       "      <th>4</th>\n",
       "      <td>8114762104527844914</td>\n",
       "      <td>2018-10-01 07:01:57</td>\n",
       "    </tr>\n",
       "  </tbody>\n",
       "</table>\n",
       "</div>"
      ],
      "text/plain": [
       "            session_id         system_time\n",
       "0  4339488202460077611 2018-10-01 07:00:04\n",
       "1  7012480646309837595 2018-10-01 07:00:08\n",
       "2  2920311224184894615 2018-10-01 07:01:02\n",
       "3  8483277250870486701 2018-10-01 07:01:30\n",
       "4  8114762104527844914 2018-10-01 07:01:57"
      ]
     },
     "execution_count": 38,
     "metadata": {},
     "output_type": "execute_result"
    }
   ],
   "source": [
    "events.head()"
   ]
  },
  {
   "cell_type": "code",
   "execution_count": 19,
   "metadata": {
    "ExecuteTime": {
     "end_time": "2019-03-06T06:42:35.420127Z",
     "start_time": "2019-03-06T06:42:24.814681Z"
    }
   },
   "outputs": [],
   "source": [
    "events_d = events.groupby(['session_id'])['system_time'].last().to_frame()"
   ]
  },
  {
   "cell_type": "code",
   "execution_count": 20,
   "metadata": {
    "ExecuteTime": {
     "end_time": "2019-03-06T06:42:35.430495Z",
     "start_time": "2019-03-06T06:42:35.423586Z"
    }
   },
   "outputs": [],
   "source": [
    "events_d.reset_index(inplace=True)"
   ]
  },
  {
   "cell_type": "code",
   "execution_count": 41,
   "metadata": {
    "ExecuteTime": {
     "end_time": "2019-03-06T06:27:43.104847Z",
     "start_time": "2019-03-06T06:27:43.076914Z"
    }
   },
   "outputs": [
    {
     "data": {
      "text/html": [
       "<div>\n",
       "<style scoped>\n",
       "    .dataframe tbody tr th:only-of-type {\n",
       "        vertical-align: middle;\n",
       "    }\n",
       "\n",
       "    .dataframe tbody tr th {\n",
       "        vertical-align: top;\n",
       "    }\n",
       "\n",
       "    .dataframe thead th {\n",
       "        text-align: right;\n",
       "    }\n",
       "</style>\n",
       "<table border=\"1\" class=\"dataframe\">\n",
       "  <thead>\n",
       "    <tr style=\"text-align: right;\">\n",
       "      <th></th>\n",
       "      <th>session_id</th>\n",
       "      <th>system_time</th>\n",
       "    </tr>\n",
       "  </thead>\n",
       "  <tbody>\n",
       "    <tr>\n",
       "      <th>0</th>\n",
       "      <td>1000000874609429755</td>\n",
       "      <td>NaT</td>\n",
       "    </tr>\n",
       "    <tr>\n",
       "      <th>1</th>\n",
       "      <td>100000246528643894</td>\n",
       "      <td>2018-11-07 14:45:09</td>\n",
       "    </tr>\n",
       "    <tr>\n",
       "      <th>2</th>\n",
       "      <td>1000003546493394404</td>\n",
       "      <td>2018-11-06 13:05:19</td>\n",
       "    </tr>\n",
       "    <tr>\n",
       "      <th>3</th>\n",
       "      <td>1000004963329986136</td>\n",
       "      <td>2018-11-08 07:37:13</td>\n",
       "    </tr>\n",
       "    <tr>\n",
       "      <th>4</th>\n",
       "      <td>1000005015636510449</td>\n",
       "      <td>2018-11-10 20:25:09</td>\n",
       "    </tr>\n",
       "  </tbody>\n",
       "</table>\n",
       "</div>"
      ],
      "text/plain": [
       "            session_id         system_time\n",
       "0  1000000874609429755                 NaT\n",
       "1   100000246528643894 2018-11-07 14:45:09\n",
       "2  1000003546493394404 2018-11-06 13:05:19\n",
       "3  1000004963329986136 2018-11-08 07:37:13\n",
       "4  1000005015636510449 2018-11-10 20:25:09"
      ]
     },
     "execution_count": 41,
     "metadata": {},
     "output_type": "execute_result"
    }
   ],
   "source": [
    "events_d.head()"
   ]
  },
  {
   "cell_type": "code",
   "execution_count": 21,
   "metadata": {
    "ExecuteTime": {
     "end_time": "2019-03-06T06:42:35.439414Z",
     "start_time": "2019-03-06T06:42:35.432344Z"
    }
   },
   "outputs": [],
   "source": [
    "events = events_d"
   ]
  },
  {
   "cell_type": "code",
   "execution_count": 22,
   "metadata": {
    "ExecuteTime": {
     "end_time": "2019-03-06T06:42:35.497878Z",
     "start_time": "2019-03-06T06:42:35.441293Z"
    }
   },
   "outputs": [
    {
     "data": {
      "text/plain": [
       "35"
      ]
     },
     "execution_count": 22,
     "metadata": {},
     "output_type": "execute_result"
    }
   ],
   "source": [
    "import gc\n",
    "gc.collect()"
   ]
  },
  {
   "cell_type": "code",
   "execution_count": 44,
   "metadata": {
    "ExecuteTime": {
     "end_time": "2019-03-06T06:27:49.460287Z",
     "start_time": "2019-03-06T06:27:49.453947Z"
    }
   },
   "outputs": [
    {
     "data": {
      "text/plain": [
       "session_id           category\n",
       "system_time    datetime64[ns]\n",
       "dtype: object"
      ]
     },
     "execution_count": 44,
     "metadata": {},
     "output_type": "execute_result"
    }
   ],
   "source": [
    "events.dtypes"
   ]
  },
  {
   "cell_type": "code",
   "execution_count": 45,
   "metadata": {
    "ExecuteTime": {
     "end_time": "2019-03-06T06:27:50.806597Z",
     "start_time": "2019-03-06T06:27:50.800955Z"
    }
   },
   "outputs": [
    {
     "data": {
      "text/plain": [
       "session_id         category\n",
       "attribute             uint8\n",
       "attribute_value      object\n",
       "user_id_hash       category\n",
       "dtype: object"
      ]
     },
     "execution_count": 45,
     "metadata": {},
     "output_type": "execute_result"
    }
   ],
   "source": [
    "attrib.dtypes"
   ]
  },
  {
   "cell_type": "code",
   "execution_count": 23,
   "metadata": {
    "ExecuteTime": {
     "end_time": "2019-03-06T06:42:41.021790Z",
     "start_time": "2019-03-06T06:42:35.499972Z"
    }
   },
   "outputs": [],
   "source": [
    "attrib.session_id = attrib.session_id.astype(np.int64)\n",
    "events.session_id = events.session_id.astype(np.int64)"
   ]
  },
  {
   "cell_type": "code",
   "execution_count": 24,
   "metadata": {
    "ExecuteTime": {
     "end_time": "2019-03-06T06:43:39.291267Z",
     "start_time": "2019-03-06T06:42:41.024231Z"
    }
   },
   "outputs": [],
   "source": [
    "attrib = attrib.merge(events, how='left' ,on=['session_id'])"
   ]
  },
  {
   "cell_type": "code",
   "execution_count": 25,
   "metadata": {
    "ExecuteTime": {
     "end_time": "2019-03-06T06:43:39.297613Z",
     "start_time": "2019-03-06T06:43:39.293382Z"
    }
   },
   "outputs": [
    {
     "data": {
      "text/plain": [
       "(185590092, 5)"
      ]
     },
     "execution_count": 25,
     "metadata": {},
     "output_type": "execute_result"
    }
   ],
   "source": [
    "attrib.shape"
   ]
  },
  {
   "cell_type": "code",
   "execution_count": 49,
   "metadata": {
    "ExecuteTime": {
     "end_time": "2019-03-06T06:29:27.838858Z",
     "start_time": "2019-03-06T06:29:27.747095Z"
    }
   },
   "outputs": [
    {
     "data": {
      "text/html": [
       "<div>\n",
       "<style scoped>\n",
       "    .dataframe tbody tr th:only-of-type {\n",
       "        vertical-align: middle;\n",
       "    }\n",
       "\n",
       "    .dataframe tbody tr th {\n",
       "        vertical-align: top;\n",
       "    }\n",
       "\n",
       "    .dataframe thead th {\n",
       "        text-align: right;\n",
       "    }\n",
       "</style>\n",
       "<table border=\"1\" class=\"dataframe\">\n",
       "  <thead>\n",
       "    <tr style=\"text-align: right;\">\n",
       "      <th></th>\n",
       "      <th>session_id</th>\n",
       "      <th>attribute</th>\n",
       "      <th>attribute_value</th>\n",
       "      <th>user_id_hash</th>\n",
       "      <th>system_time</th>\n",
       "    </tr>\n",
       "  </thead>\n",
       "  <tbody>\n",
       "    <tr>\n",
       "      <th>0</th>\n",
       "      <td>2201961907282901522</td>\n",
       "      <td>0</td>\n",
       "      <td>1</td>\n",
       "      <td>9943447915df3a45fd6720a026af905b6da6b56a37701b...</td>\n",
       "      <td>2018-12-02 01:09:37</td>\n",
       "    </tr>\n",
       "    <tr>\n",
       "      <th>1</th>\n",
       "      <td>2201961907282901522</td>\n",
       "      <td>1</td>\n",
       "      <td>1</td>\n",
       "      <td>9943447915df3a45fd6720a026af905b6da6b56a37701b...</td>\n",
       "      <td>2018-12-02 01:09:37</td>\n",
       "    </tr>\n",
       "    <tr>\n",
       "      <th>2</th>\n",
       "      <td>2201961907282901522</td>\n",
       "      <td>3</td>\n",
       "      <td>0</td>\n",
       "      <td>9943447915df3a45fd6720a026af905b6da6b56a37701b...</td>\n",
       "      <td>2018-12-02 01:09:37</td>\n",
       "    </tr>\n",
       "    <tr>\n",
       "      <th>3</th>\n",
       "      <td>2201961907282901522</td>\n",
       "      <td>4</td>\n",
       "      <td>0</td>\n",
       "      <td>9943447915df3a45fd6720a026af905b6da6b56a37701b...</td>\n",
       "      <td>2018-12-02 01:09:37</td>\n",
       "    </tr>\n",
       "    <tr>\n",
       "      <th>4</th>\n",
       "      <td>2201961907282901522</td>\n",
       "      <td>5</td>\n",
       "      <td>romance_the_royal_romance_02:11</td>\n",
       "      <td>9943447915df3a45fd6720a026af905b6da6b56a37701b...</td>\n",
       "      <td>2018-12-02 01:09:37</td>\n",
       "    </tr>\n",
       "  </tbody>\n",
       "</table>\n",
       "</div>"
      ],
      "text/plain": [
       "            session_id  attribute                  attribute_value  \\\n",
       "0  2201961907282901522          0                                1   \n",
       "1  2201961907282901522          1                                1   \n",
       "2  2201961907282901522          3                                0   \n",
       "3  2201961907282901522          4                                0   \n",
       "4  2201961907282901522          5  romance_the_royal_romance_02:11   \n",
       "\n",
       "                                        user_id_hash         system_time  \n",
       "0  9943447915df3a45fd6720a026af905b6da6b56a37701b... 2018-12-02 01:09:37  \n",
       "1  9943447915df3a45fd6720a026af905b6da6b56a37701b... 2018-12-02 01:09:37  \n",
       "2  9943447915df3a45fd6720a026af905b6da6b56a37701b... 2018-12-02 01:09:37  \n",
       "3  9943447915df3a45fd6720a026af905b6da6b56a37701b... 2018-12-02 01:09:37  \n",
       "4  9943447915df3a45fd6720a026af905b6da6b56a37701b... 2018-12-02 01:09:37  "
      ]
     },
     "execution_count": 49,
     "metadata": {},
     "output_type": "execute_result"
    }
   ],
   "source": [
    "attrib.head()"
   ]
  },
  {
   "cell_type": "code",
   "execution_count": 26,
   "metadata": {
    "ExecuteTime": {
     "end_time": "2019-03-06T06:43:39.303155Z",
     "start_time": "2019-03-06T06:43:39.299609Z"
    }
   },
   "outputs": [],
   "source": [
    "del events"
   ]
  },
  {
   "cell_type": "code",
   "execution_count": 27,
   "metadata": {
    "ExecuteTime": {
     "end_time": "2019-03-06T06:43:44.781371Z",
     "start_time": "2019-03-06T06:43:39.305090Z"
    }
   },
   "outputs": [],
   "source": [
    "attrib.drop(['session_id'], inplace=True, axis=1)"
   ]
  },
  {
   "cell_type": "code",
   "execution_count": 28,
   "metadata": {
    "ExecuteTime": {
     "end_time": "2019-03-06T06:43:45.012852Z",
     "start_time": "2019-03-06T06:43:44.784059Z"
    }
   },
   "outputs": [
    {
     "data": {
      "text/plain": [
       "28"
      ]
     },
     "execution_count": 28,
     "metadata": {},
     "output_type": "execute_result"
    }
   ],
   "source": [
    "gc.collect()"
   ]
  },
  {
   "cell_type": "code",
   "execution_count": 39,
   "metadata": {
    "ExecuteTime": {
     "end_time": "2019-02-27T09:14:55.238925Z",
     "start_time": "2019-02-27T09:13:20.987973Z"
    }
   },
   "outputs": [],
   "source": [
    "attrib.to_pickle('../attributes3.pkl')"
   ]
  },
  {
   "cell_type": "code",
   "execution_count": 50,
   "metadata": {
    "ExecuteTime": {
     "end_time": "2019-02-25T05:17:12.586984Z",
     "start_time": "2019-02-25T05:16:05.463741Z"
    }
   },
   "outputs": [],
   "source": [
    "attrib = pd.read_pickle('../attributes3.pkl')"
   ]
  },
  {
   "cell_type": "code",
   "execution_count": 54,
   "metadata": {
    "ExecuteTime": {
     "end_time": "2019-03-06T06:29:50.684308Z",
     "start_time": "2019-03-06T06:29:50.674670Z"
    }
   },
   "outputs": [
    {
     "data": {
      "text/html": [
       "<div>\n",
       "<style scoped>\n",
       "    .dataframe tbody tr th:only-of-type {\n",
       "        vertical-align: middle;\n",
       "    }\n",
       "\n",
       "    .dataframe tbody tr th {\n",
       "        vertical-align: top;\n",
       "    }\n",
       "\n",
       "    .dataframe thead th {\n",
       "        text-align: right;\n",
       "    }\n",
       "</style>\n",
       "<table border=\"1\" class=\"dataframe\">\n",
       "  <thead>\n",
       "    <tr style=\"text-align: right;\">\n",
       "      <th></th>\n",
       "      <th>attribute</th>\n",
       "      <th>attribute_value</th>\n",
       "      <th>user_id_hash</th>\n",
       "      <th>system_time</th>\n",
       "    </tr>\n",
       "  </thead>\n",
       "  <tbody>\n",
       "    <tr>\n",
       "      <th>0</th>\n",
       "      <td>0</td>\n",
       "      <td>1</td>\n",
       "      <td>9943447915df3a45fd6720a026af905b6da6b56a37701b...</td>\n",
       "      <td>2018-12-02 01:09:37</td>\n",
       "    </tr>\n",
       "    <tr>\n",
       "      <th>1</th>\n",
       "      <td>1</td>\n",
       "      <td>1</td>\n",
       "      <td>9943447915df3a45fd6720a026af905b6da6b56a37701b...</td>\n",
       "      <td>2018-12-02 01:09:37</td>\n",
       "    </tr>\n",
       "    <tr>\n",
       "      <th>2</th>\n",
       "      <td>3</td>\n",
       "      <td>0</td>\n",
       "      <td>9943447915df3a45fd6720a026af905b6da6b56a37701b...</td>\n",
       "      <td>2018-12-02 01:09:37</td>\n",
       "    </tr>\n",
       "    <tr>\n",
       "      <th>3</th>\n",
       "      <td>4</td>\n",
       "      <td>0</td>\n",
       "      <td>9943447915df3a45fd6720a026af905b6da6b56a37701b...</td>\n",
       "      <td>2018-12-02 01:09:37</td>\n",
       "    </tr>\n",
       "    <tr>\n",
       "      <th>4</th>\n",
       "      <td>5</td>\n",
       "      <td>romance_the_royal_romance_02:11</td>\n",
       "      <td>9943447915df3a45fd6720a026af905b6da6b56a37701b...</td>\n",
       "      <td>2018-12-02 01:09:37</td>\n",
       "    </tr>\n",
       "  </tbody>\n",
       "</table>\n",
       "</div>"
      ],
      "text/plain": [
       "   attribute                  attribute_value  \\\n",
       "0          0                                1   \n",
       "1          1                                1   \n",
       "2          3                                0   \n",
       "3          4                                0   \n",
       "4          5  romance_the_royal_romance_02:11   \n",
       "\n",
       "                                        user_id_hash         system_time  \n",
       "0  9943447915df3a45fd6720a026af905b6da6b56a37701b... 2018-12-02 01:09:37  \n",
       "1  9943447915df3a45fd6720a026af905b6da6b56a37701b... 2018-12-02 01:09:37  \n",
       "2  9943447915df3a45fd6720a026af905b6da6b56a37701b... 2018-12-02 01:09:37  \n",
       "3  9943447915df3a45fd6720a026af905b6da6b56a37701b... 2018-12-02 01:09:37  \n",
       "4  9943447915df3a45fd6720a026af905b6da6b56a37701b... 2018-12-02 01:09:37  "
      ]
     },
     "execution_count": 54,
     "metadata": {},
     "output_type": "execute_result"
    }
   ],
   "source": [
    "attrib.head()"
   ]
  },
  {
   "cell_type": "code",
   "execution_count": 29,
   "metadata": {
    "ExecuteTime": {
     "end_time": "2019-03-06T06:44:29.354428Z",
     "start_time": "2019-03-06T06:43:45.014765Z"
    }
   },
   "outputs": [],
   "source": [
    "attrib['system_date'] = attrib.system_time.dt.date"
   ]
  },
  {
   "cell_type": "code",
   "execution_count": 30,
   "metadata": {
    "ExecuteTime": {
     "end_time": "2019-03-06T06:44:34.127376Z",
     "start_time": "2019-03-06T06:44:29.356540Z"
    }
   },
   "outputs": [],
   "source": [
    "attrib.attribute = attrib.attribute.astype('category')"
   ]
  },
  {
   "cell_type": "code",
   "execution_count": 57,
   "metadata": {
    "ExecuteTime": {
     "end_time": "2019-03-06T06:30:46.514591Z",
     "start_time": "2019-03-06T06:30:46.509267Z"
    }
   },
   "outputs": [
    {
     "data": {
      "text/plain": [
       "attribute                category\n",
       "attribute_value            object\n",
       "user_id_hash             category\n",
       "system_time        datetime64[ns]\n",
       "system_date                object\n",
       "dtype: object"
      ]
     },
     "execution_count": 57,
     "metadata": {},
     "output_type": "execute_result"
    }
   ],
   "source": [
    "attrib.dtypes"
   ]
  },
  {
   "cell_type": "code",
   "execution_count": 31,
   "metadata": {
    "ExecuteTime": {
     "end_time": "2019-03-06T06:45:04.046852Z",
     "start_time": "2019-03-06T06:44:34.129473Z"
    }
   },
   "outputs": [],
   "source": [
    "attrib.drop(['system_time'], inplace=True, axis=1)"
   ]
  },
  {
   "cell_type": "code",
   "execution_count": 59,
   "metadata": {
    "ExecuteTime": {
     "end_time": "2019-03-06T06:31:19.635056Z",
     "start_time": "2019-03-06T06:31:19.624911Z"
    }
   },
   "outputs": [
    {
     "data": {
      "text/html": [
       "<div>\n",
       "<style scoped>\n",
       "    .dataframe tbody tr th:only-of-type {\n",
       "        vertical-align: middle;\n",
       "    }\n",
       "\n",
       "    .dataframe tbody tr th {\n",
       "        vertical-align: top;\n",
       "    }\n",
       "\n",
       "    .dataframe thead th {\n",
       "        text-align: right;\n",
       "    }\n",
       "</style>\n",
       "<table border=\"1\" class=\"dataframe\">\n",
       "  <thead>\n",
       "    <tr style=\"text-align: right;\">\n",
       "      <th></th>\n",
       "      <th>attribute</th>\n",
       "      <th>attribute_value</th>\n",
       "      <th>user_id_hash</th>\n",
       "      <th>system_date</th>\n",
       "    </tr>\n",
       "  </thead>\n",
       "  <tbody>\n",
       "    <tr>\n",
       "      <th>0</th>\n",
       "      <td>0</td>\n",
       "      <td>1</td>\n",
       "      <td>9943447915df3a45fd6720a026af905b6da6b56a37701b...</td>\n",
       "      <td>2018-12-02</td>\n",
       "    </tr>\n",
       "    <tr>\n",
       "      <th>1</th>\n",
       "      <td>1</td>\n",
       "      <td>1</td>\n",
       "      <td>9943447915df3a45fd6720a026af905b6da6b56a37701b...</td>\n",
       "      <td>2018-12-02</td>\n",
       "    </tr>\n",
       "    <tr>\n",
       "      <th>2</th>\n",
       "      <td>3</td>\n",
       "      <td>0</td>\n",
       "      <td>9943447915df3a45fd6720a026af905b6da6b56a37701b...</td>\n",
       "      <td>2018-12-02</td>\n",
       "    </tr>\n",
       "    <tr>\n",
       "      <th>3</th>\n",
       "      <td>4</td>\n",
       "      <td>0</td>\n",
       "      <td>9943447915df3a45fd6720a026af905b6da6b56a37701b...</td>\n",
       "      <td>2018-12-02</td>\n",
       "    </tr>\n",
       "    <tr>\n",
       "      <th>4</th>\n",
       "      <td>5</td>\n",
       "      <td>romance_the_royal_romance_02:11</td>\n",
       "      <td>9943447915df3a45fd6720a026af905b6da6b56a37701b...</td>\n",
       "      <td>2018-12-02</td>\n",
       "    </tr>\n",
       "  </tbody>\n",
       "</table>\n",
       "</div>"
      ],
      "text/plain": [
       "  attribute                  attribute_value  \\\n",
       "0         0                                1   \n",
       "1         1                                1   \n",
       "2         3                                0   \n",
       "3         4                                0   \n",
       "4         5  romance_the_royal_romance_02:11   \n",
       "\n",
       "                                        user_id_hash system_date  \n",
       "0  9943447915df3a45fd6720a026af905b6da6b56a37701b...  2018-12-02  \n",
       "1  9943447915df3a45fd6720a026af905b6da6b56a37701b...  2018-12-02  \n",
       "2  9943447915df3a45fd6720a026af905b6da6b56a37701b...  2018-12-02  \n",
       "3  9943447915df3a45fd6720a026af905b6da6b56a37701b...  2018-12-02  \n",
       "4  9943447915df3a45fd6720a026af905b6da6b56a37701b...  2018-12-02  "
      ]
     },
     "execution_count": 59,
     "metadata": {},
     "output_type": "execute_result"
    }
   ],
   "source": [
    "attrib.head()"
   ]
  },
  {
   "cell_type": "markdown",
   "metadata": {},
   "source": [
    "## Attributes EDA"
   ]
  },
  {
   "cell_type": "code",
   "execution_count": 49,
   "metadata": {
    "ExecuteTime": {
     "end_time": "2019-02-27T08:27:38.235493Z",
     "start_time": "2019-02-27T08:27:36.451570Z"
    }
   },
   "outputs": [
    {
     "data": {
      "text/plain": [
       "16    6776351\n",
       "15    6776351\n",
       "1     6776351\n",
       "3     6776351\n",
       "4     6776351\n",
       "5     6776351\n",
       "6     6776351\n",
       "7     6776351\n",
       "8     6776351\n",
       "9     6776351\n",
       "10    6776351\n",
       "11    6776351\n",
       "13    6776351\n",
       "14    6776351\n",
       "0     6776351\n",
       "17    6776351\n",
       "18    6776351\n",
       "19    6776351\n",
       "20    6776351\n",
       "21    6776351\n",
       "52    6776351\n",
       "75    6776297\n",
       "76    6776297\n",
       "77    6776297\n",
       "78    6685459\n",
       "66    6614104\n",
       "48    6183014\n",
       "67    3395545\n",
       "96      79643\n",
       "49         65\n",
       "Name: attribute, dtype: int64"
      ]
     },
     "execution_count": 49,
     "metadata": {},
     "output_type": "execute_result"
    }
   ],
   "source": [
    "attrib.attribute.value_counts()"
   ]
  },
  {
   "cell_type": "code",
   "execution_count": 25,
   "metadata": {
    "ExecuteTime": {
     "end_time": "2019-02-25T03:09:04.216478Z",
     "start_time": "2019-02-25T03:07:27.443335Z"
    },
    "scrolled": true
   },
   "outputs": [
    {
     "name": "stdout",
     "output_type": "stream",
     "text": [
      "0\n",
      "[1 0 2 3 4 6 15 9 10 7 11 8 5 14 12 18 16 13 17 19 27 20 21 91 33 56 23 22\n",
      " 26 25 28 30 31 29 24 40 37 39 36 35 38 32 34 47 44 51 41 52 43 50 46 70\n",
      " 187 170 76 42 45 48 60 77 85 55 75 58 69 87 94 66 49 81 73 62 93 57 59 80\n",
      " 86 61 97 53 74 177 100 54 63 84 71 112 166 178 64 117 88 68 195 78 105\n",
      " 181 167 179 131 114 155 83 107 137 109 82 102 67 165 92 72 65 79 108 126\n",
      " 90 101 161 89 154 182 160]\n",
      "1\n",
      "[1 0 9 ... 1743 1727 1692]\n",
      "3\n",
      "[0 6 10 5 4 1 2 3 22 12 24 20 28 23 25 16 19 13 11 18 21 9 27 8 26 29 7 14\n",
      " 17 15 30 34 32 104 107 59 142 109 49 72 86 68 110 127 119 135 120 96 67\n",
      " 122 146 47 121 35 55 89 103 31 101 105 74 39 148 139 133 157 108 95 114\n",
      " 116 126 134 143 117 123 112 141 155 152 33 94 79 124 128 125 88 54 75 50\n",
      " 87 82 83 69 147 84 91 118 76 97 115 46 106 140 71 41 77 43 78 93 149 144\n",
      " 136 145 270 268 267 232 281 214 295 294 209 241 211 230 239 238 210 225\n",
      " 298 219 222 284 299 215 256 296 245 261 260 272 300 259 249 221 99 61 131\n",
      " 132 85 52 60 98 102 100 80 129 62 63 53 58 81 51 130 113 90 92 111 70 73\n",
      " 65 56 64 66 150 138 37 48 137 42 44 57 153 38 36 40 168 170 172 160 177\n",
      " 171 164 162 166 151 161 167 45 173 169 181 174 193 154 156 180 163 158\n",
      " 165 182 179 190 159 189 183 223 188 196 205 233 229 206 235 227 186 226\n",
      " 201 195 213 191 224 623 187 176 208 178 175 262 264 185 203 204 198 202\n",
      " 207 194 218 197 319 324 325 323 321 320 316 317 365 359 184 192 275 285\n",
      " 283 287 291 282 286 289 234]\n",
      "4\n",
      "[0.0 0.01 0.43 0.58 0.55 0.14 0.47 0.32 0.51 0.57 0.12 0.13 0.03 0.3 0.26\n",
      " 0.18 0.4 0.44 0.52 0.56 0.25 0.29 0.6 0.64 0.27 0.31 0.49 0.23 0.61 0.39\n",
      " 0.53 0.06 0.19 0.09 0.05 0.36 0.65 0.04 0.38 0.08 0.1 0.21 0.17 0.22 0.16\n",
      " 0.35 0.34 0.07 2.01 2.15 1.53 1.9 0.88 1.22 1.56 1.91 0.91 0.71 2.35 1.18\n",
      " 1.55 2.33 0.45 2.77 2.28 1.5 1.89 1.11 1.08 2.26 2.51 2.54 2.18 2.2 0.95\n",
      " 1.78 2.05 1.31 2.68 1.27 2.55 1.85 1.38 1.25 2.46 1.73 2.3 0.96 1.07 1.51\n",
      " 2.5 2.42 2.61 2.81 2.16 0.94 2.08 2.8 1.46 2.76 2.74 1.14 1.12 2.02 2.39\n",
      " 1.99 1.57 0.75 2.07 2.13 1.37 1.94 1.39 1.87 1.0 2.0 1.64 2.29 0.92 2.09\n",
      " 2.12 0.83 2.37 1.43 1.42 1.44 1.69 1.68 1.34 2.69 2.7 0.69 1.98 0.81 1.72\n",
      " 1.6 1.76 1.82 1.92 1.13 0.98 0.85 2.48 1.29 1.05 0.74 0.77 2.17 1.48 2.64\n",
      " 1.63 0.87 2.11 1.77 1.66 1.47 1.7 1.79 1.86 1.96 1.4 1.26 0.79 2.22 2.31\n",
      " 1.74 0.68 0.66 0.62 0.48 0.42 0.33 0.86 0.02 1.65 0.99 1.09 0.78 1.03\n",
      " 0.82 1.01 0.9 1.04 0.7 0.73 1.58 3.0 1.06 1.33 1.24 1.17 1.21 2.95 0.46\n",
      " 1.2 1.16 7.77 2.82 2.25 2.63 3.39 3.17 2.21 2.91 3.13 3.52 3.11 3.38 3.12\n",
      " 2.24 3.26 3.65 2.96 2.89 3.7 2.94 3.35 3.2 3.54 2.9 3.33 2.67 3.47 3.6\n",
      " 1.95 3.05 3.04 3.15 1.52 2.73 2.87 3.44 3.67 2.41 3.18 1.59 3.69 3.56\n",
      " 3.64 3.3 3.68 3.51 1.3 3.76 3.61 3.77 3.83 2.34 3.55 3.22 2.86 3.16 3.29\n",
      " 3.8 2.57 1.61 2.47 3.31 3.81 2.98 3.86 3.74 3.82 3.02 3.34 2.99 2.83 3.24\n",
      " 2.56 2.6 3.59 2.44 3.48 2.03 1.35 2.66 1.8 0.84 0.2 2.04 0.11 3.09 1.83\n",
      " 2.78 3.21 3.03 2.72 3.08 2.38 2.59 2.85 3.07 2.43 0.41 0.72 0.15 2.65\n",
      " 3.28 2.52 2.93 1.81 4.26 4.21 4.63 6.77 6.72 1.41 0.5 0.28 3.42 3.46 3.57\n",
      " 3.5 3.25 3.37 3.73 3.63 3.72 3.43 3.88 2.45 5.77 5.89 1.02 0.89 1.54 1.45\n",
      " 5.34 1.93 5.05 4.34 4.3 3.41 4.8 4.78 4.82 5.04 3.87 4.2 3.89 5.19 5.25\n",
      " 4.93 3.91 4.6 4.43 4.67 5.29 4.71 4.42 4.38 4.72 4.51 4.5 4.95 4.59 4.56\n",
      " 4.08 5.11 5.0 4.13 4.39 4.11 3.96 4.09 4.12 4.74 4.15 4.32 5.15 4.16 5.28\n",
      " 5.26 4.17 3.93 5.03 4.29 4.25 4.06 5.24 4.19 5.12 4.85 4.94 3.78 4.64\n",
      " 4.58 4.54 4.02 4.28 5.17 4.91 3.94 4.46 3.95 5.16 5.2 3.99 4.04 4.84 4.47\n",
      " 4.48 4.73 4.03 0.67 5.52 2.14 1.23 5.49 5.94 2.79 0.54 0.24 5.68 0.37\n",
      " 5.55 2.71 6.53 12.22 11.15 1.1 2.88 0.76 1.49 3.9 3.85 3.98 4.07 4.18\n",
      " 3.62 2.36 0.97 1.62 0.63 2.06 2.49 1.88 1.84 5.85 5.82 1.36 4.1 5.33 4.0\n",
      " 0.59 9.4 1.19 4.4 2.4 5.6 4.77 9.11 6.27 3.06 3.45 4.23 12.1 4.24 0.93\n",
      " 6.28 6.29 4.9 4.35 3.1 9.46 1.67 0.8 3.01 3.4 5.86 4.33 4.45 4.52 4.55\n",
      " 4.22 4.37 4.41 2.1 4.44 6.56 5.39 5.36 4.7 1.32 13.01 6.3 5.1 2.23 3.36\n",
      " 8.74 2.75 5.37 6.46 6.55 5.75 3.14 6.99 3.84 6.6 1.15 4.99 9.85 4.53 5.43\n",
      " 4.05 7.18 4.31 7.01 12.56 4.01 5.81 6.81 1.71 3.23 3.79 1.97 4.61 7.38\n",
      " 12.41 12.48 12.44 12.47 3.97 13.0 6.42 5.07 5.02 4.65 4.68 4.86 5.06 5.13\n",
      " 4.87 4.81 4.89 5.08 1.28 2.32 5.93 2.97 4.27 11.65 7.3 7.35 13.67 7.21\n",
      " 6.62 5.87 1.75 4.76 5.92 6.75 6.09 5.01 4.69 4.97 7.39 5.8 8.63 4.96 3.92\n",
      " 16.21 4.57 2.58 2.92 8.03 5.72 4.14 9.93 5.51 2.27 4.83 5.3 3.66 10.41\n",
      " 5.21 4.98 4.66 4.62 11.61 7.29 6.63 4.36 5.65 5.23 5.32 7.23 9.64 7.16\n",
      " 3.49 8.15 8.17 6.04 3.58 11.27 2.84 7.32 7.33 5.66 7.28 10.24 5.5 5.62\n",
      " 5.47 5.38 6.03 5.91 5.98 5.67 5.64 5.97 5.42 5.99 5.95 5.56 5.59 5.88\n",
      " 5.69 6.01 5.41 5.46 2.19 3.75 9.88 6.36 7.83 12.85 5.09 3.32 2.62 12.21\n",
      " 12.2 12.19 2.53 5.4 4.92 7.99 6.0 5.45 12.84 6.47 5.83 6.69 5.27 3.27\n",
      " 8.89 4.79 6.33 8.78 7.46 11.43 6.06 5.63 5.9 6.1 6.38 6.37 6.59 6.34 6.24\n",
      " 6.45 5.84 5.78 6.76 6.49 6.68 6.21 6.11 6.43 5.54 6.58 6.16 6.23 6.79\n",
      " 6.25 6.32 6.08 6.19 6.15 6.14 6.2 4.88 4.49 11.79 10.4 10.58 5.14 5.35\n",
      " 4.75 7.19 11.62 10.37 3.19 6.64 9.36 7.05 5.31 7.76 7.45 7.92 8.75 8.9\n",
      " 7.51 15.35 8.16 10.57 8.07 12.0 11.98 11.97 8.91 6.74 8.08 5.58 6.86 9.06\n",
      " 12.58 3.71 9.9 6.67 5.44 9.8 9.89 9.79 9.96 9.83 7.75 10.46 6.35 8.06\n",
      " 6.52 10.99 10.68 8.94 8.32 7.31 10.07 12.07 7.24 12.87 11.0 5.18 8.2 8.19\n",
      " 6.5 12.26 12.24 10.15 8.57 7.6 12.69 12.82 9.57 9.14 7.4 7.36 9.45 5.76\n",
      " 5.71 6.12 5.73 6.07 7.57 7.2 7.95 14.92 7.72 7.64 6.97 7.34 7.11 6.89 6.8\n",
      " 6.66 6.93 7.02 7.06 6.92 6.4 7.54 7.62 7.59 7.07 7.58 7.67 7.14 6.88 7.71\n",
      " 7.66 6.9 7.47 6.41 6.54 7.5 7.25 6.98 6.94 6.82 6.51 6.71 7.53 7.08 6.73\n",
      " 7.68 7.37 6.17 6.85 7.15 7.55 7.49 14.7 6.96 8.02 7.78 12.67 8.36 8.43\n",
      " 7.26 11.19 11.26 11.21 11.7 7.1 9.27 7.69 5.57 8.67 8.34 15.66 7.61 9.81\n",
      " 8.13 9.66 6.31 7.13 7.63 8.65 7.03 7.87 8.04 11.88 7.85 7.56 6.61 8.12\n",
      " 11.54 9.56 9.92 10.03 3.53 5.48 7.0 7.89 5.96 8.53 5.22 10.79 8.44 12.25\n",
      " 12.6 9.59 10.45 10.75 10.52 10.06 11.04 10.98 10.49 10.82 9.68 11.56\n",
      " 12.91 11.02 11.01 10.02 10.97 12.78 10.3 11.3 10.89 10.67 10.71 10.72\n",
      " 10.88 12.61 10.7 12.75 12.39 11.5 12.81 11.82 10.83 10.14 11.92 10.13\n",
      " 11.37 11.74 9.7 10.62 12.17 10.18 12.51 11.71 10.48 11.63 12.99 9.76\n",
      " 11.06 12.64 10.93 11.09 10.61 10.54 12.05 12.53 10.19 10.85 10.43 12.08\n",
      " 12.86 11.52 10.65 11.87 10.04 12.02 10.28 10.32 11.44 11.91 8.87 6.95\n",
      " 10.55 9.73]\n",
      "5\n",
      "dict\n",
      "6\n",
      "[29 8 21 6 12 5 26 30 10 19 22 11 14 17 3 27 9 25 18 16 20 0 45 64 58 48\n",
      " 31 50 54 32 63 4 28 24 39 46 55 60 13 23 65 69 62 49 53 67 51 43 38 56 1\n",
      " 59 7 36 33 70 57 40 37 42 41 2 15 34 35 68 72 85 78 89 84 44 77 75 61 80\n",
      " 81 87 66 83 91 259 158 162 138 137 160 82 164 161 175 86 121 120 140 142\n",
      " 159 117 47 136 165 176 97 174 108 172 114 76 111 151 99 141 115 92 106\n",
      " 134 71 124 109 144 166 125 122 131 94 132 74 118 148 93 116 95 143 104\n",
      " 145 147 149 101 135 173 169 79 112 170 155 152 153 88 139 168 52 107 163\n",
      " 113 146 157 129 96 73 236 204 130 206 257 255 301 250 201 249 271 274 242\n",
      " 243 191 219 288 275 198 133 265 185 253 100 268 262 282 269 304 237 238\n",
      " 225 303 154 295 293 215 260 216 213 220 171 221 235 208 200 103 214 177\n",
      " 251 223 226 252 229 222 150 202 182 181 289 290 266 212 184 187 196 207\n",
      " 119 90 267 98 209 240 285 239 217 110 227 190 179 183 178 193 199 211 300\n",
      " 241 156 234 233 246 298 244 254 186 322 102 123 126 127 105 128 352 609\n",
      " 491 586 349 231 195 245 167 188 258 205 224 393 420 311 414 372 369 313\n",
      " 490 460 386 308 405 448 381 506 507 435 436 489 446 310 309 477 526 387\n",
      " 389 421 403 535 203 412 368 370 336 487 465 294 297 511 404 450 485 402\n",
      " 514 462 374 498 307 306 508 281 359 429 427 458 210 406 442 443 434 380\n",
      " 428 378 180 401 261 494 476 531 371 342 530 461 189 467 509 533 516 529\n",
      " 447 521 360 314 248 480 437 218 532 356 504 317 315 540 454 330 541 522\n",
      " 548 332 323 320 517 451 536 470 400 459 479 277 455 543 363 272 452 351\n",
      " 375 344 305 345 520 484 230 395 483 481 468 247 422 333 338 279 337 316\n",
      " 544 550 384 192 539 423 424 456 388 545 335 425 194 486 501 327 397 500\n",
      " 499 302 471 361 365 525 284 343 523 328 502 555 287 273 263 280 296 278\n",
      " 197 264 291 270 376 357 518 379 391 326 331 373 321 432 347 355 496 340\n",
      " 366 350 362 409 394 353 493 346 354 276 513 385 382 445 256 228 560 610\n",
      " 614 612 472 286 398 407 411 439 325 324 299 383 377 367 292 419 319 426\n",
      " 396 413 440 318 312 358 232 431 408 433 438 418 334 341 444 329 415 339\n",
      " 283 348 364 392 417 399 416 390 430 546 595 410 519 475 593 492 534 537\n",
      " 568 469 585 591 549 515 594 495 552 512 574 556 457 464 576 584 581 463\n",
      " 466 592 564 482 473 589 579 562 527 577 510 583 547 590 582 575 551 453\n",
      " 538 503 635 643 634 619 621 565 636 566 599 524 563 478 441 449 488 474\n",
      " 600 561 611 580 637 630 505 528 596 608 616 650 588 613 570 571 603 617\n",
      " 626 542 597 573 639 587 654 653 633 642 647 598 567 645 622 606 607 658\n",
      " 554 569 572 578 559 602 553 497 557 601 638 657 625 605 624 604 661 615\n",
      " 644 687 686 688 652 623 558 660 618 641 631 665 659 662 651 640 649 666\n",
      " 629 632 655 663 620 646 628 690 648 709 694 677 673 627 670 664 679 676\n",
      " 675 674 671 667 678 668 745 752 672 692 685 695 691 693 681 680 682 689\n",
      " 696 656 722]\n",
      "7\n"
     ]
    },
    {
     "name": "stdout",
     "output_type": "stream",
     "text": [
      "dict\n",
      "8\n",
      "[2 1 3 5 6 4 0 18 16 14 15 7 10 17 11 8 9 29 13 12 21 20 19 28 22 39 30 25\n",
      " 32 26 27 33 31 23 24 34 48 44 47 40 36 37 35 41 38 46 43 42 51 50 49 45\n",
      " 56 54 62 61 52 60 53 58 55]\n",
      "9\n",
      "[29 8 21 ... 1081 1429 871]\n",
      "10\n",
      "dict\n",
      "11\n",
      "[0 1 6 178 20 132 17 73 41 2 11 3 47 196 16 40 136 114 56 4 43 10 49 604\n",
      " 65 32 134 22 155 151 303 37 7 55 191 103 23 51 77 12 39 9 14 327 18 36 25\n",
      " 59 29 254 316 27 5 305 380 33 135 123 19 90 46 62 105 35 52 167 112 30 97\n",
      " 48 26 8 15 53 13 156 91 150 442 117 204 21 169 187 111 31 171 113 168 125\n",
      " 44 568 325 107 54 139 69 24 206 418 232 100 84 347 267 154 80 50 429 28\n",
      " 104 148 106 67 78 71 118 280 338 430 236 92 42 256 361 99 409 314 482 149\n",
      " 45 364 82 75 489 63 159 98 58 174 137 93 72 121 127 290 89 162 101 312\n",
      " 366 271 94 355 34 102 164 74 170 95 86 142 126 138 261 257 288 96 68 499\n",
      " 402 144 79 414 502 200 124 210 57 252 382 235 297 268 182 721 362 340 215\n",
      " 408 208 247 606 464 110 189 692 129 318 379 300 64 209 61 83 374 240 38\n",
      " 691 241 251 354 192 197 222 618 60 211 378 109 115 205 234 468 276 116\n",
      " 108 120 301 262 76 161 308 140 270 133 363 193 320 227 70 390 360 153 237\n",
      " 263 226 172 218 472 223 350 243 85 344 219 180 66 497 273 157 351 119 203\n",
      " 128 445 81 141 87 173 239 324 422 199 279 298 385 158 437 291 447 419 443\n",
      " 185 388 529 348 190 242 181 480 404 145 491 266 516 146 265 284 412 201\n",
      " 194 368 346 221 644 292 160 542 289 461 283 322 166 195 88 359 245 454\n",
      " 152 294 411 392 421 476 383 212 416 258 287 307 413 431 228 343 369 488\n",
      " 479 415 505 286 371 349 186 504 393 554 481 281 130 326 165 278 184 217\n",
      " 131 353 377 334 438 274 264 494 406 620 332 424 375 163 463 295 376 214\n",
      " 272 365 345 220 793 561 177 401 246 309 198 306 1004 175 216 925 143 202\n",
      " 282 231 277 319 207 399 321 229 311 250 213 188 716 183 582 293 446 275\n",
      " 370 147 122 407 339 518 328 450 584 285 381 304 342 372 465 485 299 225\n",
      " 269 633 425 176 230 403 253 323 260 543 600 336 244 539 521 495 453 496\n",
      " 331 477 556 179 391 433 547 809 525 470 330 420 397 357 503 498 373 248\n",
      " 629 400 436 398 302 523 387 335 451 806 623 493 456 780 255 333 631 224\n",
      " 774 585 352 589 457 564 667 689 315 514 394 555 238 550 386 622 417 869\n",
      " 310 259 296 770 367 410 520 595 747 569 717 449 434 405 396 908 439 452\n",
      " 613 512 233 329 317 682 1066 492 395 515 594 519 427 313 548 540 435 487\n",
      " 654 670 471 557 775 358 534 662 574 531 455 423 341 546 337 783 511 720\n",
      " 538 532 459 356 545 460 473 533 249 607 876 501 474 500 617 432 384 509\n",
      " 729 588 469 458 541 753 638 484]\n",
      "13\n",
      "[3.49 0.0 0.01 ... 237.78 171.32 125.86]\n",
      "14\n",
      "[3.49 0.0 6.99 ... 270.37 288.53 237.76]\n",
      "15\n",
      "[1 0 2 3 5 6 10 9 7 8 4 11 14 12 13 16 22 17 18 20 19 21 15 149 41 38 42\n",
      " 45 47 36 44 32 31 28 30 34 25 48 35 49 39 46 33 26 24 23 195 27 29 86 54\n",
      " 87 68 51 69 52 78 65 64 85 53 76 79 71 82 50 60 58 59 62 63 43 40 37 56\n",
      " 55 57 73 70 77 74 61 66 67 92 84 80 75 88 89 90 96 72 95 91 93 83 446 166\n",
      " 137 81 102 100 127 121 119 128 106 108 126 122 118 125 123 113 116 109\n",
      " 103 731 713 112 98 107 94 99 480 232 111 124 129 104 97 157 132 185 154\n",
      " 150 110 134 117 101 131 133 142 140 178 180 173 153 182 177 169 176 148\n",
      " 151 130 181 147 155 146 187 141 165 145 188 136 144 174 120 192 115 189\n",
      " 158 190 193 161 105 135 260 175 194 252 186 233 205 253 298 254 268 284\n",
      " 203 143 163 259 170 183 250 248 256 198 199 272 202 279 236 237 234 235\n",
      " 244 221 251 283 297 215 226 280 219 228 211 217 294 289 230 162 231 207\n",
      " 288 265 301 171 306 208 308 309 303 307 287 266 164 262 257 210 214 172\n",
      " 263 191 258 167 264 139 304 114 168 209 276 156 377 160 206 152 223 197\n",
      " 222 201 225 212 224 216 218 184 200 196 204 179 271 138 245 229 239 241\n",
      " 277 699 725 213 269 227 292 275 291 281 238 293 273 278 286 282 285 319\n",
      " 159 1101 746 369 744 242 350 703 505 247 255 249 243 311 310 527 220 358\n",
      " 295 360 711 321 341 357 270 845 344 326 348 339 340 347 320 329 313 300\n",
      " 342 274 359 356 526 666 325 856 694 693 316 240 267 389 726 362 246 355\n",
      " 692 410 381 443 317 305 290 434 431 425 447 445 296 439 415 371 453 424\n",
      " 444 394 413 399 331 380 451 388 376 449 450 383 416 400 398 330 417 332\n",
      " 333]\n",
      "16\n",
      "[9 4 8 5 6 3 7 2 0 1 10 20 16 17 14 19 11 15 18 12 13 24 21 22 26 28 34 29\n",
      " 33 57 38 42 23 59 69 58 36 31 60 62 41 44 63 35 25 37 71 47 70 66 64 32\n",
      " 39 45 43 40 46 48 50 49 67 30 27 102 103 229 150 142 154 178 84 73 195\n",
      " 141 85 139 176 140 56 128 127 65 110 119 121 122 123 191 183 53 132 109\n",
      " 97 198 137 202 188 145 126 124 180 175 78 130 135 138 134 197 100 82 95\n",
      " 91 89 156 186 610 51 54 55 87 75 68 61 74 83 81 77 79 118 96 76 72 107\n",
      " 106 93 92 117 52 111 99 114 105 88 90 151 108 104 101 143 189 158 129 203\n",
      " 162 164 171 94 212 240 159 250 209 161 113 208 148 165 187 80 235 206 210\n",
      " 222 237 217 166 168 174 239 241 207 249 155 233 224 245 152 201 98 238\n",
      " 226 169 157 215 196 192 211 247 199 115 228 193 218 149 185 173 194 147\n",
      " 294 170 348 293 248 286 344 216 491 357 347 333 341 167 307 340 500 349\n",
      " 153 345 343 288 334 336 339 490 461 338 342 487 496 146 337 367 404 495\n",
      " 354 332 319 499 327 120 260 501 255 346 468 447 494 449 541 443 471 497\n",
      " 315 298 112 116 86 131 160 133 163 136 125 144 356 200 325 244 179 323\n",
      " 177 182 317 258 360 305 230 352 316 377 313 386 310 184 257 329 181 270\n",
      " 289 359 302 271 273 279 290 291 355 263 259 253 268 351 292 301 280 387\n",
      " 358 370 246 379 283 274 231 382 281 264 362 265 225 234 276 371 364 267\n",
      " 363 365 236 220 353 614 428 1128 254 252 256 1250 580 1194 306 303 378\n",
      " 391 335 376 413 418 300 392 295 284 282 214 275 388 412 410 399 272 395\n",
      " 407 403 415 396 269 243 318 262 374 312 326 423 422 373 383 401 384 414\n",
      " 190 397 322 380 219 221 277 223 261 278 242 309 350 328 330 331 296 299\n",
      " 314 285 232 205 266 304 204 320 213 172 227 625 251 366 369 375 385 321\n",
      " 394 372 311 557 907 406 476 777 622 431 590 287 1124 297 393 368 400 409\n",
      " 411 402 444 433 429 430 441 417 442 424 427 671 668 799 390 736 308 361\n",
      " 324 381 1082 440 438 419 416 439 420 398 483 480 458 572 454 552 543 421\n",
      " 452 542 578 544 460 553 574 550 592 457 609 450 538 482 588 505 571 539\n",
      " 563 567 561 551 608 606 535 579 548 573 601 475 556 436 481 425 451 810\n",
      " 806 808 855 644 665 472 446 432 459 445 426 455 466 405 389 470 586 941\n",
      " 939 660 956 887 996 511 1130 545 647 1237 652 851 599 656 949 950 951 435\n",
      " 456 434 730 619 658 1040 1275 507 802 725 581 514 566 467 437 408 464\n",
      " 1273 688 692 849 649 1276 852 1256 1257 1172 831 1141 540 486 549 555 546\n",
      " 529 479 530 527 532 509 554 515 547 489 881 739 694 1018 687 583 522 477\n",
      " 518 596 508 612 585 595 524 517 576 597 462 613 534 569 600 448 523 510\n",
      " 485 528 504 469 536 463 474 492 478 521 531 488 498 502 512 828 944 655\n",
      " 728 526 506 453 493 741 813 711 575 603 537 587 516 568 558 589 582 570\n",
      " 565 696 740 678 702 701 624 685 593 774 733 617 520 648 616 796 803 724\n",
      " 786 636 666 756 719 623 794 712 735 797 729 634 765 763 793 780 779 564\n",
      " 738 631 776 627 769 635 753 714 716 757 584 762 705 748 650 611 707 503\n",
      " 703 768 633 615 767 698 674 683 721 718 732 775 676 751 525 646 669 632\n",
      " 771 710 758 727 484 783 682 700 766 706 708 684 465 720 1366 781 969 826\n",
      " 829 867 1049 1046 695 975 948 952 772 964 785 795 905 910 832 988 992 821\n",
      " 1043 984 560 1020 853 1027 598 709 653 946 1054 977 1029 1019 798 819 662\n",
      " 672 963 995 971 916 1048 1023 842 973 1025 943 847 864 804 1013 1047 902\n",
      " 760 857 605 664 816 670 807 654 838 835 1045 639 679 999 1003 1010 928\n",
      " 933 922 841 1033 1051 836 745 861 1036 697 997 626 986 699 834 1180 870\n",
      " 1288 761 1127 533 970 645 1246 637 628 640 657 594 759 686 754 743 620\n",
      " 681 884 895 889 894 892 675 1198 559 562 473 642 940 1163 773 876 1126\n",
      " 1301 1359 858 764 1017 959 932 957 1002 904 982 989 901 935 936 994 891\n",
      " 896 856 967 854 972 991 800 1000 667 990 693 691 778 1016 965 974 1004\n",
      " 942 641 689 968 734 859 987 980 1007 818 976 898 607 930 809 868 1011 782\n",
      " 850 913 713 927 985 846 1012 906 900 1022 638 848 1026 872 871 630 651\n",
      " 663 717 744 801 747 513 643 604 704 830 1005 1118 1114 577 621 602 690\n",
      " 618 722 726 715 750 1143 519 953 1293 742 874 883 882 791 885 875 880 879\n",
      " 865 877 844 878 921 843 815 752 591 814 839 784 723 1183 1116 1071 893\n",
      " 923 925 737 789 897 929 673 659 677]\n",
      "17\n",
      "[0 1 2 3 4 18 12 7 11 46 5 13 6 62 9 8 10 17 19 15 20 21 23 16 22 14 53 35\n",
      " 42 33 32 26 31 27 37 34 39 24 44 36 47 45 29 25 30 40 28 38 80 55 65 50\n",
      " 51 103 195 977 56 945 57 43 48 54 52 49 41 115 67 79 160 317 90 69 93 96\n",
      " 140 176 64 75 95 199 554 81 59 125 100 401 551 112 192 58 88 87 188 198\n",
      " 233 99 73 70 117 113 63 150 61 92 89 906 86 959 376 82 98 105 104 76 74\n",
      " 78 84 106 102 94 66 121 165 300 298 301 172 154 91 122 409 97 1024 111\n",
      " 161 157 159 201 129 147 211 1020 221 85 77 543 445 134 128 332 60 966 149\n",
      " 119 912 71 962 905 904 175 173 133 236 196 110 101 83 68 109 357 448 116\n",
      " 260 197 181 118 184 182 556 189 178 609 907 207 922 339 312 903 185 137\n",
      " 148 72 187 322 291 194 548 143 406 171 190 231 124 251 168 319 892 544\n",
      " 204 615 612 864 108 130 138 240 971 120 163 155 547 303 123 417 253 152\n",
      " 335 918 888 107]\n",
      "18\n"
     ]
    },
    {
     "name": "stdout",
     "output_type": "stream",
     "text": [
      "[0 14 20 18 65 3 50 22 38 46 8 45 13 16 30 10 25 9 15 11 28 53 34 1 33 47\n",
      " 5 23 35 36 4 19 21 2 17 37 26 12 7 48 6 41 40 29 27 31 24 32 49 39 43 55\n",
      " 42 51 63 9999 999999 58 999]\n",
      "19\n",
      "[16 13 10 9 4 7 18 6 2 20 8 0 12 26 17 22 32 34 5 23 19 21 29 28 14 27 25\n",
      " 31 24 3 15 1 35 11 33 46 37 42 45 44 40 39 36 41 30 38 147 66 76 55 54 64\n",
      " 60 62 56 47 74 59 52 53 69 61 58 57 68 49 71 50 75 51 72 43 48 83 93 107\n",
      " 182 180 118 167 101 111 65 142 78 171 177 159 115 145 148 113 99 95 97 90\n",
      " 80 82 153 164 67 105 174 128 162 73 125 134 131 123 92 121 151 86 88 89\n",
      " 135 122 94 91 112 87 169 191 117 84 119 179 120 96 79 197 187 221 109 149\n",
      " 181 165 129 100 77 199 108 106 81 189 193 205 175 126 215 185 124 209 207\n",
      " 213 98 103 104 225 70 223 155 116 141 161 110 132 137 130 127 173 133 114\n",
      " 102 409 448 357 442 388 235 384 361 431 351 333 436 400 204 244 360 429\n",
      " 234 477 392 413 345 415 453 454 471 355 353 460 469 401 405 450 327 425\n",
      " 492 354 325 317 439 398 385 463 428 346 331 336 426 438 296 427 481 424\n",
      " 432 335 262 393 349 347 343 216 350 194 247 464 339 417 266 276 338 443\n",
      " 459 236 146 430 138 462 423 452 404 358 286 288 422 241 458 329 465 251\n",
      " 348 319 387 322 461 186 200 302 373 352 421 487 482 196 437 140 475 473\n",
      " 449 184 362 341 468 243 457 455 484 378 292 367 363 506 386 466 509 451\n",
      " 528 219 376 440 483 494 441 420 490 381 515 389 342 232 486 256 226 371\n",
      " 395 403 258 359 447 479 263 364 412 472 332 434 340 396 365 518 520 306\n",
      " 503 375 470 211 304 521 391 150 456 310 485 419 382 176 152 265 303 312\n",
      " 206 445 372 337 370 411 402 366 383 63 724 718 85 259 326 208 270 274 328\n",
      " 374 368 188 250 160 260 261 277 334 144 246 218 271 321 170 172 307 178\n",
      " 228 309 311 136 230 394 201 298 139 224 252 163 198 295 267 264 248 380\n",
      " 406 308 290 291 293 314 280 305 289 238 281 287 300 253 254 299 192 154\n",
      " 283 239 315 510 513 476 516 505 512 530 190 255 249 474 245 526 369 488\n",
      " 493 524 519 158 517 202 525 220 502 214 166 511 501 496 514 504 233 508\n",
      " 399 507 467 356 523 522 531 532 527 268 222 416 566 837 619 815 564 561\n",
      " 563 956 548 585 538 591 623 616 607 594 596 953 964 551 600 1025 589 680\n",
      " 781 778 683 559 1070 323 301 646 156 996 689 544 903 665 860 918 1079 927\n",
      " 855 641 638 609 613 846 578 934 626 882 877 390 1004 900 269 278 643 195\n",
      " 831 857 497 894 741 835 1042 1016 755 849 550 546 240 604 677 747 708 587\n",
      " 583 588 744 752 602 827 944 183 763 227 820 1046 1068 1059 581 499 231\n",
      " 761 769 1076 1073 772 703 229 712 692 795 812 418 932 790 210 567 735\n",
      " 1065 775 330 444 1053 1030 576 750 316 606 970 649 999 668 655 912 936\n",
      " 569 1048 897 313 888 809 414 760 991 537 695 598 294 275 272 866 533 573\n",
      " 698 879 671 535 1062 628 768 397 661 1044 833 1002 732 967 869 408 217\n",
      " 872 941 727 575 663 805 410 279 157 143 242 212 168 664 407 320 297 282\n",
      " 667 599 545 557 611 542 489 614 435 539 605 203 285 324 612 705 662 579\n",
      " 284 624 540 433 725 723 734 632 608 586 673 630 693 549 654 570 627 498\n",
      " 590 650 656 584 593 702 536 644 684 478 696 681 237 687 652 678 529 737\n",
      " 731 670 728 621 716 746 720 554 560 495 743 556 565 701 631 749 622 647\n",
      " 659 713 676 318 625 446 377 257 273 597 547 500 553 603 562 344 480 770\n",
      " 758 826 756 726 592 774 814 637 748 740 764 582 595 836 742 730 729 780\n",
      " 782 639 700 738 733 580 620 773 779 629 694 618 541 543 558 552 491 960\n",
      " 824 653 893 969 972 861 966 765 776 870 717 955 794 799 974 636 819 699\n",
      " 961 785 982 875 753 977 963 841 829 978 945 617 865 757 651 704 721 992\n",
      " 648 645 672 950 640 883 745 987 379 688 669 674 610 710 572 707 739 715\n",
      " 697 601 577 691 615 722 714 660 711 657 754 736 690 682 571 568 633 706\n",
      " 534 999999 830 642 840 850 574 796 791 800 810 845 847]\n",
      "20\n",
      "[0 1 2 4 3]\n",
      "21\n",
      "[0 2 1 3 4]\n",
      "48\n",
      "dict\n",
      "52\n",
      "dict\n",
      "66\n",
      "dict\n",
      "75\n",
      "[1 0 30 42 38 8 33 20 34 37 7 2 18 15 10 26 31 39 14 17 43 46 16 19 41 36\n",
      " 44 27 25 4 11 6 3 23 40 47 24 9 5 13 12 21 22 162 116 145 69 92 118 146\n",
      " 70 56 177 89 117 175 208 172 113 144 83 28 81 171 188 190 165 166 45 73\n",
      " 135 156 99 51 201 96 191 141 103 94 184 131 174 74 80 114 187 181 196 211\n",
      " 163 72 157 210 110 207 206 86 84 153 179 152 119 59 161 102 148 104 143\n",
      " 75 124 173 71 159 160 65 178 107 106 109 128 127 100 202 203 53 151 68 63\n",
      " 130 121 133 139 147 85 66 186 97 79 58 60 112 198 123 67 154 134 125 48\n",
      " 50 29 111 129 32 136 142 150 105 95 62 168 132 49 35 52 54 57 64 61 55 90\n",
      " 88 77 76 158 82 87 91 93 78 204 232 244 217 216 189 284 264 230 240 259\n",
      " 227 294 254 257 185 274 310 245 122 238 315 149 243 197 282 266 297 242\n",
      " 239 279 220 290 183 182 180 305 250 249 261 256 225 223 237 288 306 312\n",
      " 120 169 199 296 255 265 314 280 298 300 309 277 273 313 293 108 319 307\n",
      " 320 325 194 299 269 236 263 276 260 322 212 155 221 200 233 278 323 270\n",
      " 328 228 318 231 324 247 281 234 271 138 214 137 304 303 291 98 101 126\n",
      " 115 164 176 170 193 205 195 248 167 226 258 140 466 462 218 192 235 213\n",
      " 241 224 222 209 246 219 229 253 215 262 272 267 275 251 423 289 369 311\n",
      " 365 287 404 252 301 302 403 406 357 356 329 286 434 439 414 331 389 376\n",
      " 394 442 397 375 317 316 372 398 382 381 416 388 386 345 428 420 349 373\n",
      " 327 347 336 346 348 400 351 366 431 295 353 441 440 354 335 332 422 361\n",
      " 364 360 343 438 355 429 408 415 321 392 387 384 340 363 350 433 413 333\n",
      " 378 292 334 432 435 352 338 342 407 379 380 399 341 268 283 285 425 417\n",
      " 869 795 395 473 922 542 326 339 308 337 330 588 646 485 393 577 474 574\n",
      " 367 377 362 391 390 368 383 699 745 490 344 358 359 371 665 697 385 739\n",
      " 374 827 418 410 401 412 402 396 370 411 682 421 430 427 405 444 526 921\n",
      " 746 920 658 649 834 671 445 409 443 446 448 837 463 754 506 829 735 636\n",
      " 572 755 544 514 553 551 686 469 660 503 732 733 731 761 743 786 848 661\n",
      " 721 543 798 719 558 587 603 568 722 504 583 586 720 820 533 527 477 497\n",
      " 505 488 472 465 456 475 455 481 484 419 519 457 525 523 522 437 529 479\n",
      " 426 535 452 471 509 447 436 532 528 450 496 516 449 498 478 494 495 512\n",
      " 424 476 480 467 464 500 458 518 502 508 486 460 530 517 507 492 459 513\n",
      " 493 501 491 520 515 524 483 816 595 582 632 818 881 702 690 843 451 683\n",
      " 624 698 769 866 887 835 748 765 752 796 778 776 750 768 727 817 897 858\n",
      " 777 775 892 742 772 762 763 771 767 787 891 875 811 893 737 845 740 736\n",
      " 802 850 831 729 790 758 861 883 749 823 901 780 791 783 757 854 885 856\n",
      " 895 813 760 841 852 744 741 894 725 807 844 545 657 556 453 696]\n",
      "76\n",
      "[0 5 6 10 9 16 13 8 19 18 1 2 4]\n",
      "77\n",
      "[1 0 30 42 38 8 33 20 34 37 7 2 18 15 10 26 31 39 14 17 43 46 16 19 41 36\n",
      " 44 27 25 4 11 6 3 23 40 47 24 9 5 13 12 21 22 162 116 145 69 92 118 146\n",
      " 70 56 177 89 117 175 208 172 113 144 83 28 81 171 188 190 165 166 45 73\n",
      " 135 156 99 51 201 96 191 141 103 94 184 131 174 74 80 114 187 181 196 211\n",
      " 163 72 157 210 110 207 206 86 84 153 179 152 119 59 161 102 148 104 143\n",
      " 75 124 173 71 159 160 65 178 107 106 109 128 127 100 202 203 53 151 68 63\n",
      " 130 121 133 139 147 85 66 186 97 79 58 60 112 198 123 67 154 134 125 48\n",
      " 50 29 111 129 32 136 142 150 105 95 62 168 132 49 35 52 54 57 64 61 55 90\n",
      " 88 77 76 158 82 87 91 93 78 204 232 244 217 216 189 284 264 230 240 259\n",
      " 227 294 254 257 185 274 310 245 122 238 315 149 243 197 282 266 297 242\n",
      " 239 279 220 290 183 182 180 305 250 249 261 256 225 223 237 288 306 312\n",
      " 120 169 199 296 255 265 314 280 298 300 309 277 273 313 293 108 319 307\n",
      " 320 325 194 299 269 236 263 276 260 322 212 155 221 200 233 278 323 270\n",
      " 328 228 318 231 324 247 281 234 271 138 214 137 304 303 291 98 101 126\n",
      " 115 164 176 170 193 205 195 248 167 226 258 140 466 462 218 192 235 213\n",
      " 241 224 222 209 246 219 229 253 215 262 272 267 275 251 423 289 369 311\n",
      " 365 287 404 252 301 302 403 406 357 356 329 286 434 439 414 331 389 376\n",
      " 394 442 397 375 317 316 372 398 382 381 416 388 386 345 428 420 349 373\n",
      " 327 347 336 346 348 400 351 366 431 295 353 441 440 354 335 332 422 361\n",
      " 364 360 343 438 355 429 408 415 321 392 387 384 340 363 350 433 413 333\n",
      " 378 292 334 432 435 352 338 342 407 379 380 399 341 268 283 285 425 417\n",
      " 869 795 395 473 922 542 326 339 308 337 330 588 646 485 393 577 474 574\n",
      " 367 377 362 391 390 368 383 699 745 490 344 358 359 371 665 697 385 739\n",
      " 374 827 418 410 401 412 402 396 370 411 682 421 430 427 405 444 526 921\n",
      " 746 920 658 649 834 671 445 409 443 446 448 837 463 754 506 829 735 636\n",
      " 572 755 544 514 553 551 686 469 660 503 732 733 731 761 743 786 848 661\n",
      " 721 543 798 719 558 587 603 568 722 504 583 586 720 820 533 527 477 497\n",
      " 505 488 472 465 456 475 455 481 484 419 519 457 525 523 522 437 529 479\n",
      " 426 535 452 471 509 447 436 532 528 450 496 516 449 498 478 494 495 512\n",
      " 424 476 480 467 464 500 458 518 502 508 486 460 530 517 507 492 459 513\n",
      " 493 501 491 520 515 524 483 816 595 582 632 818 881 702 690 843 451 683\n",
      " 624 698 769 866 887 835 748 765 752 796 778 776 750 768 727 817 897 858\n",
      " 777 775 892 742 772 762 763 771 767 787 891 875 811 893 737 845 740 736\n",
      " 802 850 831 729 790 758 861 883 749 823 901 780 791 783 757 854 885 856\n",
      " 895 813 760 841 852 744 741 894 725 807 844 545 657 556 453 696]\n",
      "78\n"
     ]
    },
    {
     "name": "stdout",
     "output_type": "stream",
     "text": [
      "[1 0]\n",
      "96\n",
      "[1 0]\n",
      "67\n",
      "[1 0]\n",
      "49\n",
      "[1.0]\n"
     ]
    }
   ],
   "source": [
    "for a in attrib.attribute.unique():\n",
    "    print(a)\n",
    "    try:\n",
    "        print(attrib.loc[attrib.attribute == a, :].attribute_value.unique())\n",
    "    except:\n",
    "        print('dict')"
   ]
  },
  {
   "cell_type": "code",
   "execution_count": 27,
   "metadata": {
    "ExecuteTime": {
     "end_time": "2019-02-25T03:25:48.945359Z",
     "start_time": "2019-02-25T03:24:12.164586Z"
    },
    "scrolled": true
   },
   "outputs": [
    {
     "name": "stdout",
     "output_type": "stream",
     "text": [
      "0 124\n",
      "1 1685\n",
      "3 270\n",
      "4 933\n",
      "6 698\n",
      "8 61\n",
      "9 1269\n",
      "11 579\n",
      "13 29736\n",
      "14 14466\n",
      "15 389\n",
      "16 995\n",
      "17 230\n",
      "18 59\n",
      "19 868\n",
      "20 5\n",
      "21 5\n",
      "75 657\n",
      "76 13\n",
      "77 657\n",
      "78 2\n",
      "96 2\n",
      "67 2\n",
      "49 1\n"
     ]
    }
   ],
   "source": [
    "for a in attrib.attribute.unique():\n",
    "    try:\n",
    "        print(a, len(attrib.loc[attrib.attribute == a, :].attribute_value.unique()))\n",
    "    except:\n",
    "        pass"
   ]
  },
  {
   "cell_type": "markdown",
   "metadata": {},
   "source": [
    "|attribute| type | counts|\n",
    "|---|--------------|-----|\n",
    "| 0 | list of ints | 124 |\n",
    "| 1 | list of ints | 1685 |\n",
    "| 3 | list of ints | 270 |\n",
    "| 6 | list of ints | 698 |\n",
    "| 8 | list of ints | 61 |\n",
    "| 9 | list of ints | 1269 |\n",
    "| 11 | list of ints | 579 |\n",
    "| 15 | list of ints | 389 |\n",
    "| 16 | list of ints | 995 |\n",
    "| 17 | list of ints | 230 |\n",
    "| 18 | list of ints | 59 |\n",
    "| 19 | list of ints | 868 |\n",
    "| 75 | list of ints | 657 |\n",
    "| 77 | list of ints | 675 |\n",
    "| 4 | list of floats | 933 |\n",
    "| 13 | list of floats | 29736 |\n",
    "| 14 | list of flaots | 14466 |\n",
    "| 5 | dict | |\n",
    "| 7 | dict | |\n",
    "| 10 | dict | |\n",
    "| 48 | dict | |\n",
    "| 52 | dict | |\n",
    "| 66 | dict | |\n",
    "| 20 | list of ints cats | 5 |\n",
    "| 21 | list of ints cats | 5 |\n",
    "| 76 | list of ints cats | 13 |\n",
    "| 78 | bool | 2 |\n",
    "| 96 | bool | 2 |\n",
    "| 67 | bool | 2 |\n",
    "| 49 | bool | 1 |\n"
   ]
  },
  {
   "cell_type": "code",
   "execution_count": 32,
   "metadata": {
    "ExecuteTime": {
     "end_time": "2019-03-06T06:45:04.055760Z",
     "start_time": "2019-03-06T06:45:04.052195Z"
    }
   },
   "outputs": [],
   "source": [
    "def convert_5(x):\n",
    "    try:\n",
    "        t = x.split(':')\n",
    "        return int(t[1])\n",
    "    except:\n",
    "        return None"
   ]
  },
  {
   "cell_type": "code",
   "execution_count": 33,
   "metadata": {
    "ExecuteTime": {
     "end_time": "2019-03-06T06:45:31.248468Z",
     "start_time": "2019-03-06T06:45:04.058330Z"
    }
   },
   "outputs": [],
   "source": [
    "attrib.loc[attrib.attribute == 5, ['attribute_value']] =\\\n",
    "    attrib[attrib.attribute == 5].attribute_value.apply(lambda x: convert_5(x))"
   ]
  },
  {
   "cell_type": "code",
   "execution_count": 62,
   "metadata": {
    "ExecuteTime": {
     "end_time": "2019-03-06T06:32:38.457374Z",
     "start_time": "2019-03-06T06:32:35.036302Z"
    }
   },
   "outputs": [
    {
     "data": {
      "text/html": [
       "<div>\n",
       "<style scoped>\n",
       "    .dataframe tbody tr th:only-of-type {\n",
       "        vertical-align: middle;\n",
       "    }\n",
       "\n",
       "    .dataframe tbody tr th {\n",
       "        vertical-align: top;\n",
       "    }\n",
       "\n",
       "    .dataframe thead th {\n",
       "        text-align: right;\n",
       "    }\n",
       "</style>\n",
       "<table border=\"1\" class=\"dataframe\">\n",
       "  <thead>\n",
       "    <tr style=\"text-align: right;\">\n",
       "      <th></th>\n",
       "      <th>attribute_value</th>\n",
       "    </tr>\n",
       "  </thead>\n",
       "  <tbody>\n",
       "    <tr>\n",
       "      <th>185589961</th>\n",
       "      <td>1</td>\n",
       "    </tr>\n",
       "    <tr>\n",
       "      <th>185589992</th>\n",
       "      <td>1</td>\n",
       "    </tr>\n",
       "    <tr>\n",
       "      <th>185589993</th>\n",
       "      <td>1</td>\n",
       "    </tr>\n",
       "    <tr>\n",
       "      <th>185590046</th>\n",
       "      <td>1</td>\n",
       "    </tr>\n",
       "    <tr>\n",
       "      <th>185590047</th>\n",
       "      <td>1</td>\n",
       "    </tr>\n",
       "  </tbody>\n",
       "</table>\n",
       "</div>"
      ],
      "text/plain": [
       "          attribute_value\n",
       "185589961               1\n",
       "185589992               1\n",
       "185589993               1\n",
       "185590046               1\n",
       "185590047               1"
      ]
     },
     "execution_count": 62,
     "metadata": {},
     "output_type": "execute_result"
    }
   ],
   "source": [
    "attrib.loc[attrib.attribute == 5, ['attribute_value']].tail()"
   ]
  },
  {
   "cell_type": "code",
   "execution_count": 34,
   "metadata": {
    "ExecuteTime": {
     "end_time": "2019-03-06T06:45:31.254182Z",
     "start_time": "2019-03-06T06:45:31.250788Z"
    }
   },
   "outputs": [],
   "source": [
    "def convert_7(x):\n",
    "    try:\n",
    "        t = x.split(':')\n",
    "        return int(t[1])\n",
    "    except:\n",
    "        return None"
   ]
  },
  {
   "cell_type": "code",
   "execution_count": 35,
   "metadata": {
    "ExecuteTime": {
     "end_time": "2019-03-06T06:45:59.280273Z",
     "start_time": "2019-03-06T06:45:31.256198Z"
    }
   },
   "outputs": [],
   "source": [
    "attrib.loc[attrib.attribute == 7, ['attribute_value']] = \\\n",
    "    attrib[attrib.attribute == 7].attribute_value.apply(lambda x: convert_7(x))"
   ]
  },
  {
   "cell_type": "code",
   "execution_count": 65,
   "metadata": {
    "ExecuteTime": {
     "end_time": "2019-03-06T06:33:12.923992Z",
     "start_time": "2019-03-06T06:33:09.451226Z"
    }
   },
   "outputs": [
    {
     "data": {
      "text/html": [
       "<div>\n",
       "<style scoped>\n",
       "    .dataframe tbody tr th:only-of-type {\n",
       "        vertical-align: middle;\n",
       "    }\n",
       "\n",
       "    .dataframe tbody tr th {\n",
       "        vertical-align: top;\n",
       "    }\n",
       "\n",
       "    .dataframe thead th {\n",
       "        text-align: right;\n",
       "    }\n",
       "</style>\n",
       "<table border=\"1\" class=\"dataframe\">\n",
       "  <thead>\n",
       "    <tr style=\"text-align: right;\">\n",
       "      <th></th>\n",
       "      <th>attribute_value</th>\n",
       "    </tr>\n",
       "  </thead>\n",
       "  <tbody>\n",
       "    <tr>\n",
       "      <th>185589963</th>\n",
       "      <td>4</td>\n",
       "    </tr>\n",
       "    <tr>\n",
       "      <th>185589996</th>\n",
       "      <td>NaN</td>\n",
       "    </tr>\n",
       "    <tr>\n",
       "      <th>185589997</th>\n",
       "      <td>NaN</td>\n",
       "    </tr>\n",
       "    <tr>\n",
       "      <th>185590050</th>\n",
       "      <td>NaN</td>\n",
       "    </tr>\n",
       "    <tr>\n",
       "      <th>185590051</th>\n",
       "      <td>NaN</td>\n",
       "    </tr>\n",
       "  </tbody>\n",
       "</table>\n",
       "</div>"
      ],
      "text/plain": [
       "          attribute_value\n",
       "185589963               4\n",
       "185589996             NaN\n",
       "185589997             NaN\n",
       "185590050             NaN\n",
       "185590051             NaN"
      ]
     },
     "execution_count": 65,
     "metadata": {},
     "output_type": "execute_result"
    }
   ],
   "source": [
    "attrib.loc[attrib.attribute == 7, ['attribute_value']].tail()"
   ]
  },
  {
   "cell_type": "code",
   "execution_count": 36,
   "metadata": {
    "ExecuteTime": {
     "end_time": "2019-03-06T06:45:59.286138Z",
     "start_time": "2019-03-06T06:45:59.282650Z"
    }
   },
   "outputs": [],
   "source": [
    "def convert_10(x):\n",
    "    try:\n",
    "        t = x.split(':')\n",
    "        return int(t[1])\n",
    "    except:\n",
    "        return None"
   ]
  },
  {
   "cell_type": "code",
   "execution_count": 37,
   "metadata": {
    "ExecuteTime": {
     "end_time": "2019-03-06T06:46:27.929952Z",
     "start_time": "2019-03-06T06:45:59.288681Z"
    }
   },
   "outputs": [],
   "source": [
    "attrib.loc[attrib.attribute == 10, ['attribute_value']] = \\\n",
    "    attrib[attrib.attribute == 10].attribute_value.apply(lambda x: convert_10(x))"
   ]
  },
  {
   "cell_type": "code",
   "execution_count": 68,
   "metadata": {
    "ExecuteTime": {
     "end_time": "2019-03-06T06:33:57.265738Z",
     "start_time": "2019-03-06T06:33:53.828519Z"
    }
   },
   "outputs": [
    {
     "data": {
      "text/html": [
       "<div>\n",
       "<style scoped>\n",
       "    .dataframe tbody tr th:only-of-type {\n",
       "        vertical-align: middle;\n",
       "    }\n",
       "\n",
       "    .dataframe tbody tr th {\n",
       "        vertical-align: top;\n",
       "    }\n",
       "\n",
       "    .dataframe thead th {\n",
       "        text-align: right;\n",
       "    }\n",
       "</style>\n",
       "<table border=\"1\" class=\"dataframe\">\n",
       "  <thead>\n",
       "    <tr style=\"text-align: right;\">\n",
       "      <th></th>\n",
       "      <th>attribute_value</th>\n",
       "    </tr>\n",
       "  </thead>\n",
       "  <tbody>\n",
       "    <tr>\n",
       "      <th>185589966</th>\n",
       "      <td>1</td>\n",
       "    </tr>\n",
       "    <tr>\n",
       "      <th>185590002</th>\n",
       "      <td>NaN</td>\n",
       "    </tr>\n",
       "    <tr>\n",
       "      <th>185590003</th>\n",
       "      <td>NaN</td>\n",
       "    </tr>\n",
       "    <tr>\n",
       "      <th>185590056</th>\n",
       "      <td>NaN</td>\n",
       "    </tr>\n",
       "    <tr>\n",
       "      <th>185590057</th>\n",
       "      <td>NaN</td>\n",
       "    </tr>\n",
       "  </tbody>\n",
       "</table>\n",
       "</div>"
      ],
      "text/plain": [
       "          attribute_value\n",
       "185589966               1\n",
       "185590002             NaN\n",
       "185590003             NaN\n",
       "185590056             NaN\n",
       "185590057             NaN"
      ]
     },
     "execution_count": 68,
     "metadata": {},
     "output_type": "execute_result"
    }
   ],
   "source": [
    "attrib.loc[attrib.attribute == 10, ['attribute_value']].tail()"
   ]
  },
  {
   "cell_type": "code",
   "execution_count": 38,
   "metadata": {
    "ExecuteTime": {
     "end_time": "2019-03-06T06:46:56.080565Z",
     "start_time": "2019-03-06T06:46:27.935462Z"
    }
   },
   "outputs": [],
   "source": [
    "attrib.loc[attrib.attribute == 48, ['attribute_value']] = 1"
   ]
  },
  {
   "cell_type": "code",
   "execution_count": 39,
   "metadata": {
    "ExecuteTime": {
     "end_time": "2019-03-06T06:47:14.349016Z",
     "start_time": "2019-03-06T06:46:56.082575Z"
    },
    "scrolled": true
   },
   "outputs": [],
   "source": [
    "attrib.loc[attrib.attribute == 52, ['attribute_value']] = 1"
   ]
  },
  {
   "cell_type": "code",
   "execution_count": 41,
   "metadata": {
    "ExecuteTime": {
     "end_time": "2019-03-06T06:47:58.071133Z",
     "start_time": "2019-03-06T06:47:58.065645Z"
    }
   },
   "outputs": [],
   "source": [
    "def convert_66(x):\n",
    "    try:\n",
    "        t = x[2:-2].replace('\\\\', '').replace('\"', '').split(',')\n",
    "        return max([int(d.split(':')[1]) for d in t])\n",
    "    except:\n",
    "        return None"
   ]
  },
  {
   "cell_type": "code",
   "execution_count": 42,
   "metadata": {
    "ExecuteTime": {
     "end_time": "2019-03-06T06:51:12.329266Z",
     "start_time": "2019-03-06T06:47:58.603009Z"
    }
   },
   "outputs": [],
   "source": [
    "attrib.loc[attrib.attribute == 66, ['attribute_value']] = \\\n",
    "    attrib[attrib.attribute == 66].attribute_value.apply(lambda x: convert_66(x))"
   ]
  },
  {
   "cell_type": "code",
   "execution_count": 74,
   "metadata": {
    "ExecuteTime": {
     "end_time": "2019-03-06T06:38:04.028996Z",
     "start_time": "2019-03-06T06:38:04.023138Z"
    }
   },
   "outputs": [
    {
     "data": {
      "text/plain": [
       "attribute          category\n",
       "attribute_value      object\n",
       "user_id_hash       category\n",
       "system_date          object\n",
       "dtype: object"
      ]
     },
     "execution_count": 74,
     "metadata": {},
     "output_type": "execute_result"
    }
   ],
   "source": [
    "attrib.dtypes"
   ]
  },
  {
   "cell_type": "code",
   "execution_count": 75,
   "metadata": {
    "ExecuteTime": {
     "end_time": "2019-03-06T06:38:05.498224Z",
     "start_time": "2019-03-06T06:38:05.493077Z"
    }
   },
   "outputs": [
    {
     "data": {
      "text/plain": [
       "(185590092, 4)"
      ]
     },
     "execution_count": 75,
     "metadata": {},
     "output_type": "execute_result"
    }
   ],
   "source": [
    "attrib.shape"
   ]
  },
  {
   "cell_type": "code",
   "execution_count": 43,
   "metadata": {
    "ExecuteTime": {
     "end_time": "2019-03-06T06:51:28.119249Z",
     "start_time": "2019-03-06T06:51:12.333948Z"
    }
   },
   "outputs": [],
   "source": [
    "attrib = attrib[(~attrib.attribute.isin([49, 48, 52]))]"
   ]
  },
  {
   "cell_type": "code",
   "execution_count": 45,
   "metadata": {
    "ExecuteTime": {
     "end_time": "2019-03-06T06:57:08.065685Z",
     "start_time": "2019-03-06T06:57:07.993243Z"
    }
   },
   "outputs": [
    {
     "data": {
      "text/plain": [
       "342"
      ]
     },
     "execution_count": 45,
     "metadata": {},
     "output_type": "execute_result"
    }
   ],
   "source": [
    "gc.collect()"
   ]
  },
  {
   "cell_type": "code",
   "execution_count": 46,
   "metadata": {
    "ExecuteTime": {
     "end_time": "2019-03-06T06:57:14.772648Z",
     "start_time": "2019-03-06T06:57:14.768317Z"
    }
   },
   "outputs": [
    {
     "data": {
      "text/plain": [
       "(172630662, 4)"
      ]
     },
     "execution_count": 46,
     "metadata": {},
     "output_type": "execute_result"
    }
   ],
   "source": [
    "attrib.shape"
   ]
  },
  {
   "cell_type": "code",
   "execution_count": 47,
   "metadata": {
    "ExecuteTime": {
     "end_time": "2019-03-06T06:57:16.618255Z",
     "start_time": "2019-03-06T06:57:16.612213Z"
    }
   },
   "outputs": [
    {
     "data": {
      "text/plain": [
       "attribute          category\n",
       "attribute_value      object\n",
       "user_id_hash       category\n",
       "system_date          object\n",
       "dtype: object"
      ]
     },
     "execution_count": 47,
     "metadata": {},
     "output_type": "execute_result"
    }
   ],
   "source": [
    "attrib.dtypes"
   ]
  },
  {
   "cell_type": "code",
   "execution_count": 48,
   "metadata": {
    "ExecuteTime": {
     "end_time": "2019-03-06T06:57:28.806766Z",
     "start_time": "2019-03-06T06:57:28.761798Z"
    }
   },
   "outputs": [
    {
     "data": {
      "text/html": [
       "<div>\n",
       "<style scoped>\n",
       "    .dataframe tbody tr th:only-of-type {\n",
       "        vertical-align: middle;\n",
       "    }\n",
       "\n",
       "    .dataframe tbody tr th {\n",
       "        vertical-align: top;\n",
       "    }\n",
       "\n",
       "    .dataframe thead th {\n",
       "        text-align: right;\n",
       "    }\n",
       "</style>\n",
       "<table border=\"1\" class=\"dataframe\">\n",
       "  <thead>\n",
       "    <tr style=\"text-align: right;\">\n",
       "      <th></th>\n",
       "      <th>attribute</th>\n",
       "      <th>attribute_value</th>\n",
       "      <th>user_id_hash</th>\n",
       "      <th>system_date</th>\n",
       "    </tr>\n",
       "  </thead>\n",
       "  <tbody>\n",
       "    <tr>\n",
       "      <th>0</th>\n",
       "      <td>0</td>\n",
       "      <td>1</td>\n",
       "      <td>9943447915df3a45fd6720a026af905b6da6b56a37701b...</td>\n",
       "      <td>2018-12-02</td>\n",
       "    </tr>\n",
       "    <tr>\n",
       "      <th>1</th>\n",
       "      <td>1</td>\n",
       "      <td>1</td>\n",
       "      <td>9943447915df3a45fd6720a026af905b6da6b56a37701b...</td>\n",
       "      <td>2018-12-02</td>\n",
       "    </tr>\n",
       "    <tr>\n",
       "      <th>2</th>\n",
       "      <td>3</td>\n",
       "      <td>0</td>\n",
       "      <td>9943447915df3a45fd6720a026af905b6da6b56a37701b...</td>\n",
       "      <td>2018-12-02</td>\n",
       "    </tr>\n",
       "    <tr>\n",
       "      <th>3</th>\n",
       "      <td>4</td>\n",
       "      <td>0</td>\n",
       "      <td>9943447915df3a45fd6720a026af905b6da6b56a37701b...</td>\n",
       "      <td>2018-12-02</td>\n",
       "    </tr>\n",
       "    <tr>\n",
       "      <th>4</th>\n",
       "      <td>5</td>\n",
       "      <td>11</td>\n",
       "      <td>9943447915df3a45fd6720a026af905b6da6b56a37701b...</td>\n",
       "      <td>2018-12-02</td>\n",
       "    </tr>\n",
       "  </tbody>\n",
       "</table>\n",
       "</div>"
      ],
      "text/plain": [
       "  attribute attribute_value  \\\n",
       "0         0               1   \n",
       "1         1               1   \n",
       "2         3               0   \n",
       "3         4               0   \n",
       "4         5              11   \n",
       "\n",
       "                                        user_id_hash system_date  \n",
       "0  9943447915df3a45fd6720a026af905b6da6b56a37701b...  2018-12-02  \n",
       "1  9943447915df3a45fd6720a026af905b6da6b56a37701b...  2018-12-02  \n",
       "2  9943447915df3a45fd6720a026af905b6da6b56a37701b...  2018-12-02  \n",
       "3  9943447915df3a45fd6720a026af905b6da6b56a37701b...  2018-12-02  \n",
       "4  9943447915df3a45fd6720a026af905b6da6b56a37701b...  2018-12-02  "
      ]
     },
     "execution_count": 48,
     "metadata": {},
     "output_type": "execute_result"
    }
   ],
   "source": [
    "attrib.head()"
   ]
  },
  {
   "cell_type": "markdown",
   "metadata": {},
   "source": [
    "count of all\n",
    "\n",
    "mean & max for 4, 13, 14\n",
    "\n",
    "median of 20, 21\n",
    "\n",
    "mean of 78, 96, 67"
   ]
  },
  {
   "cell_type": "markdown",
   "metadata": {},
   "source": [
    "## Atrrib Agg"
   ]
  },
  {
   "cell_type": "code",
   "execution_count": 78,
   "metadata": {
    "ExecuteTime": {
     "end_time": "2019-03-06T06:38:25.792404Z",
     "start_time": "2019-03-06T06:38:24.177098Z"
    }
   },
   "outputs": [],
   "source": [
    "del_atr = list(set(list(attrib.attribute.unique())) -\\\n",
    "                   set([4, 13, 14, 20, 21, 78, 96, 67]))"
   ]
  },
  {
   "cell_type": "code",
   "execution_count": 79,
   "metadata": {
    "ExecuteTime": {
     "end_time": "2019-03-06T06:41:07.173460Z",
     "start_time": "2019-03-06T06:38:26.378850Z"
    }
   },
   "outputs": [],
   "source": [
    "for d in del_atr:\n",
    "    attrib = attrib[attrib.attribute != d]"
   ]
  },
  {
   "cell_type": "code",
   "execution_count": 80,
   "metadata": {
    "ExecuteTime": {
     "end_time": "2019-03-06T06:41:07.287017Z",
     "start_time": "2019-03-06T06:41:07.177304Z"
    }
   },
   "outputs": [
    {
     "data": {
      "text/plain": [
       "28"
      ]
     },
     "execution_count": 80,
     "metadata": {},
     "output_type": "execute_result"
    }
   ],
   "source": [
    "gc.collect()"
   ]
  },
  {
   "cell_type": "code",
   "execution_count": 81,
   "metadata": {
    "ExecuteTime": {
     "end_time": "2019-03-06T06:41:07.293962Z",
     "start_time": "2019-03-06T06:41:07.289288Z"
    }
   },
   "outputs": [
    {
     "data": {
      "text/plain": [
       "(44042402, 4)"
      ]
     },
     "execution_count": 81,
     "metadata": {},
     "output_type": "execute_result"
    }
   ],
   "source": [
    "attrib.shape"
   ]
  },
  {
   "cell_type": "code",
   "execution_count": 116,
   "metadata": {
    "ExecuteTime": {
     "end_time": "2019-02-25T06:06:17.681419Z",
     "start_time": "2019-02-25T06:06:12.469565Z"
    }
   },
   "outputs": [],
   "source": [
    "week_dates = attrib.week_start.dt.date.unique()"
   ]
  },
  {
   "cell_type": "code",
   "execution_count": 62,
   "metadata": {
    "ExecuteTime": {
     "end_time": "2019-02-27T09:22:37.647613Z",
     "start_time": "2019-02-27T09:22:37.635702Z"
    }
   },
   "outputs": [
    {
     "data": {
      "text/html": [
       "<div>\n",
       "<style scoped>\n",
       "    .dataframe tbody tr th:only-of-type {\n",
       "        vertical-align: middle;\n",
       "    }\n",
       "\n",
       "    .dataframe tbody tr th {\n",
       "        vertical-align: top;\n",
       "    }\n",
       "\n",
       "    .dataframe thead th {\n",
       "        text-align: right;\n",
       "    }\n",
       "</style>\n",
       "<table border=\"1\" class=\"dataframe\">\n",
       "  <thead>\n",
       "    <tr style=\"text-align: right;\">\n",
       "      <th></th>\n",
       "      <th>attribute</th>\n",
       "      <th>attribute_value</th>\n",
       "      <th>user_id_hash</th>\n",
       "      <th>system_date</th>\n",
       "    </tr>\n",
       "  </thead>\n",
       "  <tbody>\n",
       "    <tr>\n",
       "      <th>0</th>\n",
       "      <td>0</td>\n",
       "      <td>1</td>\n",
       "      <td>9943447915df3a45fd6720a026af905b6da6b56a37701b...</td>\n",
       "      <td>2018-12-02</td>\n",
       "    </tr>\n",
       "    <tr>\n",
       "      <th>1</th>\n",
       "      <td>1</td>\n",
       "      <td>1</td>\n",
       "      <td>9943447915df3a45fd6720a026af905b6da6b56a37701b...</td>\n",
       "      <td>2018-12-02</td>\n",
       "    </tr>\n",
       "    <tr>\n",
       "      <th>2</th>\n",
       "      <td>3</td>\n",
       "      <td>0</td>\n",
       "      <td>9943447915df3a45fd6720a026af905b6da6b56a37701b...</td>\n",
       "      <td>2018-12-02</td>\n",
       "    </tr>\n",
       "    <tr>\n",
       "      <th>3</th>\n",
       "      <td>4</td>\n",
       "      <td>0</td>\n",
       "      <td>9943447915df3a45fd6720a026af905b6da6b56a37701b...</td>\n",
       "      <td>2018-12-02</td>\n",
       "    </tr>\n",
       "    <tr>\n",
       "      <th>4</th>\n",
       "      <td>5</td>\n",
       "      <td>11</td>\n",
       "      <td>9943447915df3a45fd6720a026af905b6da6b56a37701b...</td>\n",
       "      <td>2018-12-02</td>\n",
       "    </tr>\n",
       "  </tbody>\n",
       "</table>\n",
       "</div>"
      ],
      "text/plain": [
       "  attribute attribute_value  \\\n",
       "0         0               1   \n",
       "1         1               1   \n",
       "2         3               0   \n",
       "3         4               0   \n",
       "4         5              11   \n",
       "\n",
       "                                        user_id_hash system_date  \n",
       "0  9943447915df3a45fd6720a026af905b6da6b56a37701b...  2018-12-02  \n",
       "1  9943447915df3a45fd6720a026af905b6da6b56a37701b...  2018-12-02  \n",
       "2  9943447915df3a45fd6720a026af905b6da6b56a37701b...  2018-12-02  \n",
       "3  9943447915df3a45fd6720a026af905b6da6b56a37701b...  2018-12-02  \n",
       "4  9943447915df3a45fd6720a026af905b6da6b56a37701b...  2018-12-02  "
      ]
     },
     "execution_count": 62,
     "metadata": {},
     "output_type": "execute_result"
    }
   ],
   "source": [
    "attrib.head()"
   ]
  },
  {
   "cell_type": "code",
   "execution_count": 76,
   "metadata": {
    "ExecuteTime": {
     "end_time": "2019-02-27T09:30:45.341399Z",
     "start_time": "2019-02-27T09:30:45.338148Z"
    }
   },
   "outputs": [],
   "source": [
    "attrib.reset_index(inplace=True, drop=True)"
   ]
  },
  {
   "cell_type": "code",
   "execution_count": 64,
   "metadata": {
    "ExecuteTime": {
     "end_time": "2019-02-27T09:23:38.648129Z",
     "start_time": "2019-02-27T09:22:41.969171Z"
    }
   },
   "outputs": [],
   "source": [
    "attrib.sort_values(['system_date', 'user_id_hash'], inplace=True)"
   ]
  },
  {
   "cell_type": "code",
   "execution_count": 66,
   "metadata": {
    "ExecuteTime": {
     "end_time": "2019-02-27T09:27:33.016736Z",
     "start_time": "2019-02-27T09:27:32.950194Z"
    }
   },
   "outputs": [
    {
     "data": {
      "text/plain": [
       "8"
      ]
     },
     "execution_count": 66,
     "metadata": {},
     "output_type": "execute_result"
    }
   ],
   "source": [
    "gc.collect()"
   ]
  },
  {
   "cell_type": "code",
   "execution_count": 49,
   "metadata": {
    "ExecuteTime": {
     "end_time": "2019-03-06T06:58:02.940092Z",
     "start_time": "2019-03-06T06:57:51.881740Z"
    }
   },
   "outputs": [],
   "source": [
    "attrib.attribute_value = attrib.attribute_value.astype(np.number)"
   ]
  },
  {
   "cell_type": "code",
   "execution_count": 50,
   "metadata": {
    "ExecuteTime": {
     "end_time": "2019-03-06T06:58:35.372083Z",
     "start_time": "2019-03-06T06:58:14.354752Z"
    }
   },
   "outputs": [],
   "source": [
    "attrib.system_date = attrib.system_date.astype('category')"
   ]
  },
  {
   "cell_type": "code",
   "execution_count": 51,
   "metadata": {
    "ExecuteTime": {
     "end_time": "2019-03-06T06:58:35.381092Z",
     "start_time": "2019-03-06T06:58:35.375152Z"
    }
   },
   "outputs": [
    {
     "data": {
      "text/plain": [
       "attribute          category\n",
       "attribute_value     float64\n",
       "user_id_hash       category\n",
       "system_date        category\n",
       "dtype: object"
      ]
     },
     "execution_count": 51,
     "metadata": {},
     "output_type": "execute_result"
    }
   ],
   "source": [
    "attrib.dtypes"
   ]
  },
  {
   "cell_type": "code",
   "execution_count": 52,
   "metadata": {
    "ExecuteTime": {
     "end_time": "2019-03-06T06:58:35.520986Z",
     "start_time": "2019-03-06T06:58:35.383361Z"
    }
   },
   "outputs": [
    {
     "data": {
      "text/plain": [
       "0"
      ]
     },
     "execution_count": 52,
     "metadata": {},
     "output_type": "execute_result"
    }
   ],
   "source": [
    "gc.collect()"
   ]
  },
  {
   "cell_type": "code",
   "execution_count": 73,
   "metadata": {
    "ExecuteTime": {
     "end_time": "2019-02-27T09:30:33.324652Z",
     "start_time": "2019-02-27T09:29:53.155387Z"
    }
   },
   "outputs": [],
   "source": [
    "attrib.to_pickle('../temp')"
   ]
  },
  {
   "cell_type": "code",
   "execution_count": 74,
   "metadata": {
    "ExecuteTime": {
     "end_time": "2019-02-27T09:30:33.329806Z",
     "start_time": "2019-02-27T09:30:33.327158Z"
    }
   },
   "outputs": [],
   "source": [
    "attrib = pd.read_pickle('../temp')"
   ]
  },
  {
   "cell_type": "code",
   "execution_count": 77,
   "metadata": {
    "ExecuteTime": {
     "end_time": "2019-02-27T09:30:48.288118Z",
     "start_time": "2019-02-27T09:30:48.276999Z"
    }
   },
   "outputs": [
    {
     "data": {
      "text/html": [
       "<div>\n",
       "<style scoped>\n",
       "    .dataframe tbody tr th:only-of-type {\n",
       "        vertical-align: middle;\n",
       "    }\n",
       "\n",
       "    .dataframe tbody tr th {\n",
       "        vertical-align: top;\n",
       "    }\n",
       "\n",
       "    .dataframe thead th {\n",
       "        text-align: right;\n",
       "    }\n",
       "</style>\n",
       "<table border=\"1\" class=\"dataframe\">\n",
       "  <thead>\n",
       "    <tr style=\"text-align: right;\">\n",
       "      <th></th>\n",
       "      <th>attribute</th>\n",
       "      <th>attribute_value</th>\n",
       "      <th>user_id_hash</th>\n",
       "      <th>system_date</th>\n",
       "    </tr>\n",
       "  </thead>\n",
       "  <tbody>\n",
       "    <tr>\n",
       "      <th>0</th>\n",
       "      <td>0</td>\n",
       "      <td>0.0</td>\n",
       "      <td>0008ae1788be9473a11dd8efdc61010ad2a54ffe5e17ad...</td>\n",
       "      <td>2018-10-01</td>\n",
       "    </tr>\n",
       "    <tr>\n",
       "      <th>1</th>\n",
       "      <td>1</td>\n",
       "      <td>0.0</td>\n",
       "      <td>0008ae1788be9473a11dd8efdc61010ad2a54ffe5e17ad...</td>\n",
       "      <td>2018-10-01</td>\n",
       "    </tr>\n",
       "    <tr>\n",
       "      <th>2</th>\n",
       "      <td>3</td>\n",
       "      <td>0.0</td>\n",
       "      <td>0008ae1788be9473a11dd8efdc61010ad2a54ffe5e17ad...</td>\n",
       "      <td>2018-10-01</td>\n",
       "    </tr>\n",
       "    <tr>\n",
       "      <th>3</th>\n",
       "      <td>4</td>\n",
       "      <td>0.0</td>\n",
       "      <td>0008ae1788be9473a11dd8efdc61010ad2a54ffe5e17ad...</td>\n",
       "      <td>2018-10-01</td>\n",
       "    </tr>\n",
       "    <tr>\n",
       "      <th>4</th>\n",
       "      <td>5</td>\n",
       "      <td>1.0</td>\n",
       "      <td>0008ae1788be9473a11dd8efdc61010ad2a54ffe5e17ad...</td>\n",
       "      <td>2018-10-01</td>\n",
       "    </tr>\n",
       "  </tbody>\n",
       "</table>\n",
       "</div>"
      ],
      "text/plain": [
       "  attribute  attribute_value  \\\n",
       "0         0              0.0   \n",
       "1         1              0.0   \n",
       "2         3              0.0   \n",
       "3         4              0.0   \n",
       "4         5              1.0   \n",
       "\n",
       "                                        user_id_hash system_date  \n",
       "0  0008ae1788be9473a11dd8efdc61010ad2a54ffe5e17ad...  2018-10-01  \n",
       "1  0008ae1788be9473a11dd8efdc61010ad2a54ffe5e17ad...  2018-10-01  \n",
       "2  0008ae1788be9473a11dd8efdc61010ad2a54ffe5e17ad...  2018-10-01  \n",
       "3  0008ae1788be9473a11dd8efdc61010ad2a54ffe5e17ad...  2018-10-01  \n",
       "4  0008ae1788be9473a11dd8efdc61010ad2a54ffe5e17ad...  2018-10-01  "
      ]
     },
     "execution_count": 77,
     "metadata": {},
     "output_type": "execute_result"
    }
   ],
   "source": [
    "attrib.head()"
   ]
  },
  {
   "cell_type": "code",
   "execution_count": 78,
   "metadata": {
    "ExecuteTime": {
     "end_time": "2019-02-27T09:30:54.200608Z",
     "start_time": "2019-02-27T09:30:54.196167Z"
    }
   },
   "outputs": [
    {
     "data": {
      "text/plain": [
       "(172630662, 4)"
      ]
     },
     "execution_count": 78,
     "metadata": {},
     "output_type": "execute_result"
    }
   ],
   "source": [
    "attrib.shape"
   ]
  },
  {
   "cell_type": "code",
   "execution_count": 53,
   "metadata": {
    "ExecuteTime": {
     "end_time": "2019-03-06T06:59:29.447151Z",
     "start_time": "2019-03-06T06:59:17.639281Z"
    }
   },
   "outputs": [],
   "source": [
    "attrib.to_pickle('../data/atr.pkl')"
   ]
  },
  {
   "cell_type": "code",
   "execution_count": 84,
   "metadata": {
    "ExecuteTime": {
     "end_time": "2019-02-27T09:32:05.291429Z",
     "start_time": "2019-02-27T09:31:43.423483Z"
    }
   },
   "outputs": [],
   "source": [
    "time_df = attrib.system_date.dt.date.unique()"
   ]
  },
  {
   "cell_type": "code",
   "execution_count": 85,
   "metadata": {
    "ExecuteTime": {
     "end_time": "2019-02-27T09:32:05.298705Z",
     "start_time": "2019-02-27T09:32:05.294485Z"
    }
   },
   "outputs": [],
   "source": [
    "time_df = pd.DataFrame({'system_time': time_df})"
   ]
  },
  {
   "cell_type": "code",
   "execution_count": 86,
   "metadata": {
    "ExecuteTime": {
     "end_time": "2019-02-27T09:32:05.305643Z",
     "start_time": "2019-02-27T09:32:05.300917Z"
    }
   },
   "outputs": [],
   "source": [
    "time_df.system_time = time_df.system_time.astype('datetime64[ns]')"
   ]
  },
  {
   "cell_type": "code",
   "execution_count": 88,
   "metadata": {
    "ExecuteTime": {
     "end_time": "2019-02-27T09:33:01.769109Z",
     "start_time": "2019-02-27T09:33:01.764921Z"
    }
   },
   "outputs": [],
   "source": [
    "time_df = time_df.loc[:74, :]"
   ]
  },
  {
   "cell_type": "code",
   "execution_count": 89,
   "metadata": {
    "ExecuteTime": {
     "end_time": "2019-02-27T09:33:02.220543Z",
     "start_time": "2019-02-27T09:33:02.207984Z"
    }
   },
   "outputs": [
    {
     "data": {
      "text/html": [
       "<div>\n",
       "<style scoped>\n",
       "    .dataframe tbody tr th:only-of-type {\n",
       "        vertical-align: middle;\n",
       "    }\n",
       "\n",
       "    .dataframe tbody tr th {\n",
       "        vertical-align: top;\n",
       "    }\n",
       "\n",
       "    .dataframe thead th {\n",
       "        text-align: right;\n",
       "    }\n",
       "</style>\n",
       "<table border=\"1\" class=\"dataframe\">\n",
       "  <thead>\n",
       "    <tr style=\"text-align: right;\">\n",
       "      <th></th>\n",
       "      <th>system_time</th>\n",
       "    </tr>\n",
       "  </thead>\n",
       "  <tbody>\n",
       "    <tr>\n",
       "      <th>0</th>\n",
       "      <td>2018-10-01</td>\n",
       "    </tr>\n",
       "    <tr>\n",
       "      <th>1</th>\n",
       "      <td>2018-10-02</td>\n",
       "    </tr>\n",
       "    <tr>\n",
       "      <th>2</th>\n",
       "      <td>2018-10-03</td>\n",
       "    </tr>\n",
       "    <tr>\n",
       "      <th>3</th>\n",
       "      <td>2018-10-04</td>\n",
       "    </tr>\n",
       "    <tr>\n",
       "      <th>4</th>\n",
       "      <td>2018-10-05</td>\n",
       "    </tr>\n",
       "    <tr>\n",
       "      <th>5</th>\n",
       "      <td>2018-10-06</td>\n",
       "    </tr>\n",
       "    <tr>\n",
       "      <th>6</th>\n",
       "      <td>2018-10-07</td>\n",
       "    </tr>\n",
       "    <tr>\n",
       "      <th>7</th>\n",
       "      <td>2018-10-08</td>\n",
       "    </tr>\n",
       "    <tr>\n",
       "      <th>8</th>\n",
       "      <td>2018-10-09</td>\n",
       "    </tr>\n",
       "    <tr>\n",
       "      <th>9</th>\n",
       "      <td>2018-10-10</td>\n",
       "    </tr>\n",
       "    <tr>\n",
       "      <th>10</th>\n",
       "      <td>2018-10-11</td>\n",
       "    </tr>\n",
       "    <tr>\n",
       "      <th>11</th>\n",
       "      <td>2018-10-12</td>\n",
       "    </tr>\n",
       "    <tr>\n",
       "      <th>12</th>\n",
       "      <td>2018-10-13</td>\n",
       "    </tr>\n",
       "    <tr>\n",
       "      <th>13</th>\n",
       "      <td>2018-10-14</td>\n",
       "    </tr>\n",
       "    <tr>\n",
       "      <th>14</th>\n",
       "      <td>2018-10-15</td>\n",
       "    </tr>\n",
       "    <tr>\n",
       "      <th>15</th>\n",
       "      <td>2018-10-16</td>\n",
       "    </tr>\n",
       "    <tr>\n",
       "      <th>16</th>\n",
       "      <td>2018-10-17</td>\n",
       "    </tr>\n",
       "    <tr>\n",
       "      <th>17</th>\n",
       "      <td>2018-10-18</td>\n",
       "    </tr>\n",
       "    <tr>\n",
       "      <th>18</th>\n",
       "      <td>2018-10-19</td>\n",
       "    </tr>\n",
       "    <tr>\n",
       "      <th>19</th>\n",
       "      <td>2018-10-20</td>\n",
       "    </tr>\n",
       "    <tr>\n",
       "      <th>20</th>\n",
       "      <td>2018-10-21</td>\n",
       "    </tr>\n",
       "    <tr>\n",
       "      <th>21</th>\n",
       "      <td>2018-10-22</td>\n",
       "    </tr>\n",
       "    <tr>\n",
       "      <th>22</th>\n",
       "      <td>2018-10-23</td>\n",
       "    </tr>\n",
       "    <tr>\n",
       "      <th>23</th>\n",
       "      <td>2018-10-24</td>\n",
       "    </tr>\n",
       "    <tr>\n",
       "      <th>24</th>\n",
       "      <td>2018-10-25</td>\n",
       "    </tr>\n",
       "    <tr>\n",
       "      <th>25</th>\n",
       "      <td>2018-10-26</td>\n",
       "    </tr>\n",
       "    <tr>\n",
       "      <th>26</th>\n",
       "      <td>2018-10-27</td>\n",
       "    </tr>\n",
       "    <tr>\n",
       "      <th>27</th>\n",
       "      <td>2018-10-28</td>\n",
       "    </tr>\n",
       "    <tr>\n",
       "      <th>28</th>\n",
       "      <td>2018-10-29</td>\n",
       "    </tr>\n",
       "    <tr>\n",
       "      <th>29</th>\n",
       "      <td>2018-10-30</td>\n",
       "    </tr>\n",
       "    <tr>\n",
       "      <th>...</th>\n",
       "      <td>...</td>\n",
       "    </tr>\n",
       "    <tr>\n",
       "      <th>45</th>\n",
       "      <td>2018-11-15</td>\n",
       "    </tr>\n",
       "    <tr>\n",
       "      <th>46</th>\n",
       "      <td>2018-11-16</td>\n",
       "    </tr>\n",
       "    <tr>\n",
       "      <th>47</th>\n",
       "      <td>2018-11-17</td>\n",
       "    </tr>\n",
       "    <tr>\n",
       "      <th>48</th>\n",
       "      <td>2018-11-18</td>\n",
       "    </tr>\n",
       "    <tr>\n",
       "      <th>49</th>\n",
       "      <td>2018-11-19</td>\n",
       "    </tr>\n",
       "    <tr>\n",
       "      <th>50</th>\n",
       "      <td>2018-11-20</td>\n",
       "    </tr>\n",
       "    <tr>\n",
       "      <th>51</th>\n",
       "      <td>2018-11-21</td>\n",
       "    </tr>\n",
       "    <tr>\n",
       "      <th>52</th>\n",
       "      <td>2018-11-22</td>\n",
       "    </tr>\n",
       "    <tr>\n",
       "      <th>53</th>\n",
       "      <td>2018-11-23</td>\n",
       "    </tr>\n",
       "    <tr>\n",
       "      <th>54</th>\n",
       "      <td>2018-11-24</td>\n",
       "    </tr>\n",
       "    <tr>\n",
       "      <th>55</th>\n",
       "      <td>2018-11-25</td>\n",
       "    </tr>\n",
       "    <tr>\n",
       "      <th>56</th>\n",
       "      <td>2018-11-26</td>\n",
       "    </tr>\n",
       "    <tr>\n",
       "      <th>57</th>\n",
       "      <td>2018-11-27</td>\n",
       "    </tr>\n",
       "    <tr>\n",
       "      <th>58</th>\n",
       "      <td>2018-11-28</td>\n",
       "    </tr>\n",
       "    <tr>\n",
       "      <th>59</th>\n",
       "      <td>2018-11-29</td>\n",
       "    </tr>\n",
       "    <tr>\n",
       "      <th>60</th>\n",
       "      <td>2018-11-30</td>\n",
       "    </tr>\n",
       "    <tr>\n",
       "      <th>61</th>\n",
       "      <td>2018-12-01</td>\n",
       "    </tr>\n",
       "    <tr>\n",
       "      <th>62</th>\n",
       "      <td>2018-12-02</td>\n",
       "    </tr>\n",
       "    <tr>\n",
       "      <th>63</th>\n",
       "      <td>2018-12-03</td>\n",
       "    </tr>\n",
       "    <tr>\n",
       "      <th>64</th>\n",
       "      <td>2018-12-04</td>\n",
       "    </tr>\n",
       "    <tr>\n",
       "      <th>65</th>\n",
       "      <td>2018-12-05</td>\n",
       "    </tr>\n",
       "    <tr>\n",
       "      <th>66</th>\n",
       "      <td>2018-12-06</td>\n",
       "    </tr>\n",
       "    <tr>\n",
       "      <th>67</th>\n",
       "      <td>2018-12-07</td>\n",
       "    </tr>\n",
       "    <tr>\n",
       "      <th>68</th>\n",
       "      <td>2018-12-08</td>\n",
       "    </tr>\n",
       "    <tr>\n",
       "      <th>69</th>\n",
       "      <td>2018-12-09</td>\n",
       "    </tr>\n",
       "    <tr>\n",
       "      <th>70</th>\n",
       "      <td>2018-12-10</td>\n",
       "    </tr>\n",
       "    <tr>\n",
       "      <th>71</th>\n",
       "      <td>2018-12-11</td>\n",
       "    </tr>\n",
       "    <tr>\n",
       "      <th>72</th>\n",
       "      <td>2018-12-12</td>\n",
       "    </tr>\n",
       "    <tr>\n",
       "      <th>73</th>\n",
       "      <td>2018-12-13</td>\n",
       "    </tr>\n",
       "    <tr>\n",
       "      <th>74</th>\n",
       "      <td>2018-12-14</td>\n",
       "    </tr>\n",
       "  </tbody>\n",
       "</table>\n",
       "<p>75 rows × 1 columns</p>\n",
       "</div>"
      ],
      "text/plain": [
       "   system_time\n",
       "0   2018-10-01\n",
       "1   2018-10-02\n",
       "2   2018-10-03\n",
       "3   2018-10-04\n",
       "4   2018-10-05\n",
       "5   2018-10-06\n",
       "6   2018-10-07\n",
       "7   2018-10-08\n",
       "8   2018-10-09\n",
       "9   2018-10-10\n",
       "10  2018-10-11\n",
       "11  2018-10-12\n",
       "12  2018-10-13\n",
       "13  2018-10-14\n",
       "14  2018-10-15\n",
       "15  2018-10-16\n",
       "16  2018-10-17\n",
       "17  2018-10-18\n",
       "18  2018-10-19\n",
       "19  2018-10-20\n",
       "20  2018-10-21\n",
       "21  2018-10-22\n",
       "22  2018-10-23\n",
       "23  2018-10-24\n",
       "24  2018-10-25\n",
       "25  2018-10-26\n",
       "26  2018-10-27\n",
       "27  2018-10-28\n",
       "28  2018-10-29\n",
       "29  2018-10-30\n",
       "..         ...\n",
       "45  2018-11-15\n",
       "46  2018-11-16\n",
       "47  2018-11-17\n",
       "48  2018-11-18\n",
       "49  2018-11-19\n",
       "50  2018-11-20\n",
       "51  2018-11-21\n",
       "52  2018-11-22\n",
       "53  2018-11-23\n",
       "54  2018-11-24\n",
       "55  2018-11-25\n",
       "56  2018-11-26\n",
       "57  2018-11-27\n",
       "58  2018-11-28\n",
       "59  2018-11-29\n",
       "60  2018-11-30\n",
       "61  2018-12-01\n",
       "62  2018-12-02\n",
       "63  2018-12-03\n",
       "64  2018-12-04\n",
       "65  2018-12-05\n",
       "66  2018-12-06\n",
       "67  2018-12-07\n",
       "68  2018-12-08\n",
       "69  2018-12-09\n",
       "70  2018-12-10\n",
       "71  2018-12-11\n",
       "72  2018-12-12\n",
       "73  2018-12-13\n",
       "74  2018-12-14\n",
       "\n",
       "[75 rows x 1 columns]"
      ]
     },
     "execution_count": 89,
     "metadata": {},
     "output_type": "execute_result"
    }
   ],
   "source": [
    "time_df"
   ]
  },
  {
   "cell_type": "code",
   "execution_count": 90,
   "metadata": {
    "ExecuteTime": {
     "end_time": "2019-02-27T09:33:06.380922Z",
     "start_time": "2019-02-27T09:33:06.373788Z"
    }
   },
   "outputs": [],
   "source": [
    "temp = dict(zip(time_df.system_time.dt.date.values,\n",
    "                (time_df.system_time - time_df.system_time.dt.weekday\\\n",
    "                 .apply(lambda x: dt.timedelta(days=(x+2) % 7)))\\\n",
    "                .dt.date.values))"
   ]
  },
  {
   "cell_type": "code",
   "execution_count": 91,
   "metadata": {
    "ExecuteTime": {
     "end_time": "2019-02-27T09:33:21.937678Z",
     "start_time": "2019-02-27T09:33:08.278495Z"
    }
   },
   "outputs": [],
   "source": [
    "attrib.system_date = attrib.system_date.dt.date"
   ]
  },
  {
   "cell_type": "code",
   "execution_count": 93,
   "metadata": {
    "ExecuteTime": {
     "end_time": "2019-02-27T09:34:35.074637Z",
     "start_time": "2019-02-27T09:34:14.553664Z"
    }
   },
   "outputs": [
    {
     "data": {
      "text/plain": [
       "attribute                 0\n",
       "attribute_value     1789233\n",
       "user_id_hash              0\n",
       "system_date        35126531\n",
       "dtype: int64"
      ]
     },
     "execution_count": 93,
     "metadata": {},
     "output_type": "execute_result"
    }
   ],
   "source": [
    "attrib.isna().sum()"
   ]
  },
  {
   "cell_type": "code",
   "execution_count": 95,
   "metadata": {
    "ExecuteTime": {
     "end_time": "2019-02-27T09:34:55.776430Z",
     "start_time": "2019-02-27T09:34:55.771487Z"
    }
   },
   "outputs": [
    {
     "data": {
      "text/plain": [
       "(172630662, 4)"
      ]
     },
     "execution_count": 95,
     "metadata": {},
     "output_type": "execute_result"
    }
   ],
   "source": [
    "attrib.shape"
   ]
  },
  {
   "cell_type": "code",
   "execution_count": 96,
   "metadata": {
    "ExecuteTime": {
     "end_time": "2019-02-27T09:35:49.707967Z",
     "start_time": "2019-02-27T09:35:36.013499Z"
    }
   },
   "outputs": [],
   "source": [
    "attrib = attrib[~attrib.system_date.isna()]"
   ]
  },
  {
   "cell_type": "code",
   "execution_count": 97,
   "metadata": {
    "ExecuteTime": {
     "end_time": "2019-02-27T09:35:49.715521Z",
     "start_time": "2019-02-27T09:35:49.711242Z"
    }
   },
   "outputs": [
    {
     "data": {
      "text/plain": [
       "(137504131, 4)"
      ]
     },
     "execution_count": 97,
     "metadata": {},
     "output_type": "execute_result"
    }
   ],
   "source": [
    "attrib.shape"
   ]
  },
  {
   "cell_type": "code",
   "execution_count": 98,
   "metadata": {
    "ExecuteTime": {
     "end_time": "2019-02-27T09:37:14.504096Z",
     "start_time": "2019-02-27T09:36:36.956824Z"
    }
   },
   "outputs": [],
   "source": [
    "attrib['anchor_date'] = attrib.system_date.apply(lambda x: temp[x])"
   ]
  },
  {
   "cell_type": "code",
   "execution_count": 99,
   "metadata": {
    "ExecuteTime": {
     "end_time": "2019-02-27T09:38:13.173021Z",
     "start_time": "2019-02-27T09:38:11.391127Z"
    }
   },
   "outputs": [
    {
     "data": {
      "text/plain": [
       "1319450"
      ]
     },
     "execution_count": 99,
     "metadata": {},
     "output_type": "execute_result"
    }
   ],
   "source": [
    "attrib.attribute_value.isna().sum()"
   ]
  },
  {
   "cell_type": "code",
   "execution_count": 100,
   "metadata": {
    "ExecuteTime": {
     "end_time": "2019-02-27T09:39:40.224454Z",
     "start_time": "2019-02-27T09:39:15.258979Z"
    }
   },
   "outputs": [],
   "source": [
    "attrib = attrib[~attrib.attribute_value.isna()]"
   ]
  },
  {
   "cell_type": "code",
   "execution_count": 106,
   "metadata": {
    "ExecuteTime": {
     "end_time": "2019-02-27T09:42:50.773315Z",
     "start_time": "2019-02-27T09:42:40.325811Z"
    }
   },
   "outputs": [],
   "source": [
    "week_dates = attrib.anchor_date.unique()"
   ]
  },
  {
   "cell_type": "code",
   "execution_count": 101,
   "metadata": {
    "ExecuteTime": {
     "end_time": "2019-02-27T09:39:40.235244Z",
     "start_time": "2019-02-27T09:39:40.228387Z"
    }
   },
   "outputs": [],
   "source": [
    "def weekly_aggregate(df):\n",
    "\n",
    "    grp_cols = ['anchor_date', 'attribute', 'user_id_hash']\n",
    "    grpby_obj = df.groupby(grp_cols)\n",
    "    \n",
    "    temp = grpby_obj.attribute_value.count().to_frame().reset_index()\\\n",
    "                .rename(columns={'attribute_value': 'atr_count'})\n",
    "    temp1 = grpby_obj.attribute_value.mean().to_frame().reset_index()\\\n",
    "                .rename(columns={'attribute_value': 'atr_mean'})\n",
    "    temp2 = grpby_obj.attribute_value.last().to_frame().reset_index()\\\n",
    "                .rename(columns={'attribute_value': 'atr_last'})\n",
    "    temp3 = grpby_obj.attribute_value.max().to_frame().reset_index()\\\n",
    "                .rename(columns={'attribute_value': 'atr_max'})\n",
    "\n",
    "    for i in range(1, 4):\n",
    "        temp = temp.merge(locals()[f'temp{i}'], \n",
    "                          on=grp_cols)\n",
    "    return temp"
   ]
  },
  {
   "cell_type": "code",
   "execution_count": 105,
   "metadata": {
    "ExecuteTime": {
     "end_time": "2019-02-27T09:41:26.748515Z",
     "start_time": "2019-02-27T09:41:26.743551Z"
    }
   },
   "outputs": [],
   "source": [
    "def wrapper_agg(wst):\n",
    "    events_ss = attrib[attrib.anchor_date == wst].copy()\n",
    "    return weekly_aggregate(events_ss)"
   ]
  },
  {
   "cell_type": "code",
   "execution_count": 103,
   "metadata": {
    "ExecuteTime": {
     "end_time": "2019-02-27T09:39:40.321550Z",
     "start_time": "2019-02-27T09:39:40.317593Z"
    }
   },
   "outputs": [
    {
     "data": {
      "text/plain": [
       "(136184681, 5)"
      ]
     },
     "execution_count": 103,
     "metadata": {},
     "output_type": "execute_result"
    }
   ],
   "source": [
    "attrib.shape"
   ]
  },
  {
   "cell_type": "code",
   "execution_count": 104,
   "metadata": {
    "ExecuteTime": {
     "end_time": "2019-02-27T09:40:29.047855Z",
     "start_time": "2019-02-27T09:39:40.323861Z"
    }
   },
   "outputs": [
    {
     "data": {
      "text/plain": [
       "136184681"
      ]
     },
     "execution_count": 104,
     "metadata": {},
     "output_type": "execute_result"
    }
   ],
   "source": [
    "attrib.attribute_value.apply(np.isreal).sum()"
   ]
  },
  {
   "cell_type": "code",
   "execution_count": 124,
   "metadata": {
    "ExecuteTime": {
     "end_time": "2019-02-25T06:06:57.364577Z",
     "start_time": "2019-02-25T06:06:54.673544Z"
    }
   },
   "outputs": [],
   "source": [
    "attrib.attribute_value = attrib.attribute_value.astype(np.number)"
   ]
  },
  {
   "cell_type": "code",
   "execution_count": 107,
   "metadata": {
    "ExecuteTime": {
     "end_time": "2019-02-27T09:44:47.605513Z",
     "start_time": "2019-02-27T09:43:38.759646Z"
    }
   },
   "outputs": [
    {
     "data": {
      "text/html": [
       "\n",
       "    <div>\n",
       "        <style>\n",
       "            /* Turns off some styling */\n",
       "            progress {\n",
       "                /* gets rid of default border in Firefox and Opera. */\n",
       "                border: none;\n",
       "                /* Needs to be in here for Safari polyfill so background images work as expected. */\n",
       "                background-size: auto;\n",
       "            }\n",
       "            .progress-bar-interrupted, .progress-bar-interrupted::-webkit-progress-bar {\n",
       "                background: #F44336;\n",
       "            }\n",
       "        </style>\n",
       "      <progress value='11' class='' max='11', style='width:300px; height:20px; vertical-align: middle;'></progress>\n",
       "      100.00% [11/11 00:46<00:00]\n",
       "    </div>\n",
       "    "
      ],
      "text/plain": [
       "<IPython.core.display.HTML object>"
      ]
     },
     "metadata": {},
     "output_type": "display_data"
    }
   ],
   "source": [
    "result = parallel(wrapper_agg, week_dates)\n",
    "result = pd.concat(result)"
   ]
  },
  {
   "cell_type": "code",
   "execution_count": 108,
   "metadata": {
    "ExecuteTime": {
     "end_time": "2019-02-27T09:44:47.622717Z",
     "start_time": "2019-02-27T09:44:47.608406Z"
    }
   },
   "outputs": [
    {
     "data": {
      "text/html": [
       "<div>\n",
       "<style scoped>\n",
       "    .dataframe tbody tr th:only-of-type {\n",
       "        vertical-align: middle;\n",
       "    }\n",
       "\n",
       "    .dataframe tbody tr th {\n",
       "        vertical-align: top;\n",
       "    }\n",
       "\n",
       "    .dataframe thead th {\n",
       "        text-align: right;\n",
       "    }\n",
       "</style>\n",
       "<table border=\"1\" class=\"dataframe\">\n",
       "  <thead>\n",
       "    <tr style=\"text-align: right;\">\n",
       "      <th></th>\n",
       "      <th>anchor_date</th>\n",
       "      <th>attribute</th>\n",
       "      <th>user_id_hash</th>\n",
       "      <th>atr_count</th>\n",
       "      <th>atr_mean</th>\n",
       "      <th>atr_last</th>\n",
       "      <th>atr_max</th>\n",
       "    </tr>\n",
       "  </thead>\n",
       "  <tbody>\n",
       "    <tr>\n",
       "      <th>0</th>\n",
       "      <td>2018-09-29</td>\n",
       "      <td>0</td>\n",
       "      <td>00026e5050a70ef12d421f75c6a5c80d0f62d37acab8bd...</td>\n",
       "      <td>2</td>\n",
       "      <td>0.0</td>\n",
       "      <td>0.0</td>\n",
       "      <td>0.0</td>\n",
       "    </tr>\n",
       "    <tr>\n",
       "      <th>1</th>\n",
       "      <td>2018-09-29</td>\n",
       "      <td>0</td>\n",
       "      <td>0003f8bda56230a49445880e559b718e94ba37344494a7...</td>\n",
       "      <td>1</td>\n",
       "      <td>0.0</td>\n",
       "      <td>0.0</td>\n",
       "      <td>0.0</td>\n",
       "    </tr>\n",
       "    <tr>\n",
       "      <th>2</th>\n",
       "      <td>2018-09-29</td>\n",
       "      <td>0</td>\n",
       "      <td>000542d6fc6e9dcb83328d30503a7e022e5a6b4ea6357b...</td>\n",
       "      <td>1</td>\n",
       "      <td>0.0</td>\n",
       "      <td>0.0</td>\n",
       "      <td>0.0</td>\n",
       "    </tr>\n",
       "    <tr>\n",
       "      <th>3</th>\n",
       "      <td>2018-09-29</td>\n",
       "      <td>0</td>\n",
       "      <td>0006028dc3aefd41499be9c5428fb11691f3ce570e7cc8...</td>\n",
       "      <td>3</td>\n",
       "      <td>0.0</td>\n",
       "      <td>0.0</td>\n",
       "      <td>0.0</td>\n",
       "    </tr>\n",
       "    <tr>\n",
       "      <th>4</th>\n",
       "      <td>2018-09-29</td>\n",
       "      <td>0</td>\n",
       "      <td>0007da1b2aa0df73cf98077068a7da9039f57d9d51a1ae...</td>\n",
       "      <td>1</td>\n",
       "      <td>0.0</td>\n",
       "      <td>0.0</td>\n",
       "      <td>0.0</td>\n",
       "    </tr>\n",
       "  </tbody>\n",
       "</table>\n",
       "</div>"
      ],
      "text/plain": [
       "  anchor_date attribute                                       user_id_hash  \\\n",
       "0  2018-09-29         0  00026e5050a70ef12d421f75c6a5c80d0f62d37acab8bd...   \n",
       "1  2018-09-29         0  0003f8bda56230a49445880e559b718e94ba37344494a7...   \n",
       "2  2018-09-29         0  000542d6fc6e9dcb83328d30503a7e022e5a6b4ea6357b...   \n",
       "3  2018-09-29         0  0006028dc3aefd41499be9c5428fb11691f3ce570e7cc8...   \n",
       "4  2018-09-29         0  0007da1b2aa0df73cf98077068a7da9039f57d9d51a1ae...   \n",
       "\n",
       "   atr_count  atr_mean  atr_last  atr_max  \n",
       "0          2       0.0       0.0      0.0  \n",
       "1          1       0.0       0.0      0.0  \n",
       "2          1       0.0       0.0      0.0  \n",
       "3          3       0.0       0.0      0.0  \n",
       "4          1       0.0       0.0      0.0  "
      ]
     },
     "execution_count": 108,
     "metadata": {},
     "output_type": "execute_result"
    }
   ],
   "source": [
    "result.head()"
   ]
  },
  {
   "cell_type": "code",
   "execution_count": 109,
   "metadata": {
    "ExecuteTime": {
     "end_time": "2019-02-27T09:45:04.165788Z",
     "start_time": "2019-02-27T09:44:59.946564Z"
    }
   },
   "outputs": [],
   "source": [
    "result.to_pickle('../attributes_agg2.pkl')"
   ]
  },
  {
   "cell_type": "code",
   "execution_count": 110,
   "metadata": {
    "ExecuteTime": {
     "end_time": "2019-02-27T09:46:06.958159Z",
     "start_time": "2019-02-27T09:45:40.334675Z"
    }
   },
   "outputs": [],
   "source": [
    "attrib.to_pickle('../temp2')"
   ]
  },
  {
   "cell_type": "markdown",
   "metadata": {
    "heading_collapsed": true
   },
   "source": [
    "# Messages"
   ]
  },
  {
   "cell_type": "code",
   "execution_count": 41,
   "metadata": {
    "ExecuteTime": {
     "end_time": "2019-02-25T05:36:45.529653Z",
     "start_time": "2019-02-25T05:36:45.372112Z"
    },
    "hidden": true
   },
   "outputs": [],
   "source": [
    "msgs = pd.read_csv('../messages.csv')"
   ]
  },
  {
   "cell_type": "code",
   "execution_count": 42,
   "metadata": {
    "ExecuteTime": {
     "end_time": "2019-02-25T05:37:09.777292Z",
     "start_time": "2019-02-25T05:37:09.765898Z"
    },
    "hidden": true
   },
   "outputs": [
    {
     "data": {
      "text/html": [
       "<div>\n",
       "<style scoped>\n",
       "    .dataframe tbody tr th:only-of-type {\n",
       "        vertical-align: middle;\n",
       "    }\n",
       "\n",
       "    .dataframe tbody tr th {\n",
       "        vertical-align: top;\n",
       "    }\n",
       "\n",
       "    .dataframe thead th {\n",
       "        text-align: right;\n",
       "    }\n",
       "</style>\n",
       "<table border=\"1\" class=\"dataframe\">\n",
       "  <thead>\n",
       "    <tr style=\"text-align: right;\">\n",
       "      <th></th>\n",
       "      <th>app_id</th>\n",
       "      <th>message_id</th>\n",
       "      <th>action_type</th>\n",
       "      <th>delivery_type</th>\n",
       "      <th>delivery_time_mode</th>\n",
       "      <th>goal_kind</th>\n",
       "    </tr>\n",
       "  </thead>\n",
       "  <tbody>\n",
       "    <tr>\n",
       "      <th>0</th>\n",
       "      <td>6196435404455936</td>\n",
       "      <td>5420304779837440</td>\n",
       "      <td>__Push Notification</td>\n",
       "      <td>4</td>\n",
       "      <td>3</td>\n",
       "      <td>NaN</td>\n",
       "    </tr>\n",
       "    <tr>\n",
       "      <th>1</th>\n",
       "      <td>6196435404455936</td>\n",
       "      <td>5059935179767808</td>\n",
       "      <td>__Push Notification</td>\n",
       "      <td>0</td>\n",
       "      <td>3</td>\n",
       "      <td>NaN</td>\n",
       "    </tr>\n",
       "    <tr>\n",
       "      <th>2</th>\n",
       "      <td>6196435404455936</td>\n",
       "      <td>6563799154425856</td>\n",
       "      <td>__Webhook</td>\n",
       "      <td>4</td>\n",
       "      <td>3</td>\n",
       "      <td>NaN</td>\n",
       "    </tr>\n",
       "    <tr>\n",
       "      <th>3</th>\n",
       "      <td>6196435404455936</td>\n",
       "      <td>4680497250304000</td>\n",
       "      <td>__Push Notification</td>\n",
       "      <td>0</td>\n",
       "      <td>3</td>\n",
       "      <td>NaN</td>\n",
       "    </tr>\n",
       "    <tr>\n",
       "      <th>4</th>\n",
       "      <td>4724682771660800</td>\n",
       "      <td>6286714069450752</td>\n",
       "      <td>Center Popup</td>\n",
       "      <td>0</td>\n",
       "      <td>3</td>\n",
       "      <td>3.0</td>\n",
       "    </tr>\n",
       "  </tbody>\n",
       "</table>\n",
       "</div>"
      ],
      "text/plain": [
       "             app_id        message_id          action_type  delivery_type  \\\n",
       "0  6196435404455936  5420304779837440  __Push Notification              4   \n",
       "1  6196435404455936  5059935179767808  __Push Notification              0   \n",
       "2  6196435404455936  6563799154425856            __Webhook              4   \n",
       "3  6196435404455936  4680497250304000  __Push Notification              0   \n",
       "4  4724682771660800  6286714069450752         Center Popup              0   \n",
       "\n",
       "   delivery_time_mode  goal_kind  \n",
       "0                   3        NaN  \n",
       "1                   3        NaN  \n",
       "2                   3        NaN  \n",
       "3                   3        NaN  \n",
       "4                   3        3.0  "
      ]
     },
     "execution_count": 42,
     "metadata": {},
     "output_type": "execute_result"
    }
   ],
   "source": [
    "msgs.head()"
   ]
  },
  {
   "cell_type": "code",
   "execution_count": 44,
   "metadata": {
    "ExecuteTime": {
     "end_time": "2019-02-25T05:37:32.525395Z",
     "start_time": "2019-02-25T05:37:32.520593Z"
    },
    "hidden": true
   },
   "outputs": [
    {
     "data": {
      "text/plain": [
       "(2896, 6)"
      ]
     },
     "execution_count": 44,
     "metadata": {},
     "output_type": "execute_result"
    }
   ],
   "source": [
    "msgs.shape"
   ]
  },
  {
   "cell_type": "markdown",
   "metadata": {
    "heading_collapsed": true
   },
   "source": [
    "# Combining Everything"
   ]
  },
  {
   "cell_type": "code",
   "execution_count": 11,
   "metadata": {
    "ExecuteTime": {
     "end_time": "2019-02-25T07:27:27.313187Z",
     "start_time": "2019-02-25T07:27:02.814632Z"
    },
    "hidden": true
   },
   "outputs": [],
   "source": [
    "events = pd.read_pickle('../events_agg.pkl')\n",
    "session = pd.read_pickle('../session_agg.pkl')\n",
    "atr = pd.read_pickle('../attributes_agg.pkl')\n",
    "user_date = pd.read_pickle('../user_date.pkl')"
   ]
  },
  {
   "cell_type": "code",
   "execution_count": 12,
   "metadata": {
    "ExecuteTime": {
     "end_time": "2019-02-25T07:27:27.319306Z",
     "start_time": "2019-02-25T07:27:27.316264Z"
    },
    "hidden": true
   },
   "outputs": [],
   "source": [
    "df = session"
   ]
  },
  {
   "cell_type": "code",
   "execution_count": 13,
   "metadata": {
    "ExecuteTime": {
     "end_time": "2019-02-25T07:28:11.170885Z",
     "start_time": "2019-02-25T07:27:27.321246Z"
    },
    "hidden": true
   },
   "outputs": [],
   "source": [
    "user_date = user_date.groupby('user_id_hash').user_created_timestamp.max()"
   ]
  },
  {
   "cell_type": "code",
   "execution_count": 14,
   "metadata": {
    "ExecuteTime": {
     "end_time": "2019-02-25T07:28:11.301021Z",
     "start_time": "2019-02-25T07:28:11.174423Z"
    },
    "hidden": true
   },
   "outputs": [],
   "source": [
    "user_date = user_date.to_frame()"
   ]
  },
  {
   "cell_type": "code",
   "execution_count": 15,
   "metadata": {
    "ExecuteTime": {
     "end_time": "2019-02-25T07:28:11.308879Z",
     "start_time": "2019-02-25T07:28:11.304455Z"
    },
    "hidden": true
   },
   "outputs": [],
   "source": [
    "user_date.reset_index(inplace=True)"
   ]
  },
  {
   "cell_type": "code",
   "execution_count": 16,
   "metadata": {
    "ExecuteTime": {
     "end_time": "2019-02-25T07:28:14.828467Z",
     "start_time": "2019-02-25T07:28:11.310814Z"
    },
    "hidden": true
   },
   "outputs": [],
   "source": [
    "df = df.merge(user_date, on=['user_id_hash'], how='left')"
   ]
  },
  {
   "cell_type": "code",
   "execution_count": 17,
   "metadata": {
    "ExecuteTime": {
     "end_time": "2019-02-25T07:28:15.114177Z",
     "start_time": "2019-02-25T07:28:14.830731Z"
    },
    "hidden": true
   },
   "outputs": [
    {
     "data": {
      "text/html": [
       "<div>\n",
       "<style scoped>\n",
       "    .dataframe tbody tr th:only-of-type {\n",
       "        vertical-align: middle;\n",
       "    }\n",
       "\n",
       "    .dataframe tbody tr th {\n",
       "        vertical-align: top;\n",
       "    }\n",
       "\n",
       "    .dataframe thead th {\n",
       "        text-align: right;\n",
       "    }\n",
       "</style>\n",
       "<table border=\"1\" class=\"dataframe\">\n",
       "  <thead>\n",
       "    <tr style=\"text-align: right;\">\n",
       "      <th></th>\n",
       "      <th>week_start</th>\n",
       "      <th>event</th>\n",
       "      <th>user_id_hash</th>\n",
       "      <th>event_count</th>\n",
       "      <th>event_sum</th>\n",
       "      <th>event_mean</th>\n",
       "    </tr>\n",
       "  </thead>\n",
       "  <tbody>\n",
       "    <tr>\n",
       "      <th>0</th>\n",
       "      <td>2018-10-01</td>\n",
       "      <td>0</td>\n",
       "      <td>0008ae1788be9473a11dd8efdc61010ad2a54ffe5e17ad...</td>\n",
       "      <td>1</td>\n",
       "      <td>0.0</td>\n",
       "      <td>0.0</td>\n",
       "    </tr>\n",
       "    <tr>\n",
       "      <th>1</th>\n",
       "      <td>2018-10-01</td>\n",
       "      <td>0</td>\n",
       "      <td>000c653971c4cdb4a930ebb9de12c8587f8c46cdf1bdf5...</td>\n",
       "      <td>1</td>\n",
       "      <td>0.0</td>\n",
       "      <td>0.0</td>\n",
       "    </tr>\n",
       "    <tr>\n",
       "      <th>2</th>\n",
       "      <td>2018-10-01</td>\n",
       "      <td>0</td>\n",
       "      <td>001341dc1ffc939af25106b66a54ea318c15a03d7d699a...</td>\n",
       "      <td>1</td>\n",
       "      <td>0.0</td>\n",
       "      <td>0.0</td>\n",
       "    </tr>\n",
       "    <tr>\n",
       "      <th>3</th>\n",
       "      <td>2018-10-01</td>\n",
       "      <td>0</td>\n",
       "      <td>001649233906501efe5899fc693500a233220cfc02be0d...</td>\n",
       "      <td>1</td>\n",
       "      <td>0.0</td>\n",
       "      <td>0.0</td>\n",
       "    </tr>\n",
       "    <tr>\n",
       "      <th>4</th>\n",
       "      <td>2018-10-01</td>\n",
       "      <td>0</td>\n",
       "      <td>001b256fc745aff7b582d02dd1e7d9209a7b6c486b4cf2...</td>\n",
       "      <td>1</td>\n",
       "      <td>0.0</td>\n",
       "      <td>0.0</td>\n",
       "    </tr>\n",
       "  </tbody>\n",
       "</table>\n",
       "</div>"
      ],
      "text/plain": [
       "  week_start event                                       user_id_hash  \\\n",
       "0 2018-10-01     0  0008ae1788be9473a11dd8efdc61010ad2a54ffe5e17ad...   \n",
       "1 2018-10-01     0  000c653971c4cdb4a930ebb9de12c8587f8c46cdf1bdf5...   \n",
       "2 2018-10-01     0  001341dc1ffc939af25106b66a54ea318c15a03d7d699a...   \n",
       "3 2018-10-01     0  001649233906501efe5899fc693500a233220cfc02be0d...   \n",
       "4 2018-10-01     0  001b256fc745aff7b582d02dd1e7d9209a7b6c486b4cf2...   \n",
       "\n",
       "   event_count  event_sum  event_mean  \n",
       "0            1        0.0         0.0  \n",
       "1            1        0.0         0.0  \n",
       "2            1        0.0         0.0  \n",
       "3            1        0.0         0.0  \n",
       "4            1        0.0         0.0  "
      ]
     },
     "execution_count": 17,
     "metadata": {},
     "output_type": "execute_result"
    }
   ],
   "source": [
    "events.head()"
   ]
  },
  {
   "cell_type": "code",
   "execution_count": 18,
   "metadata": {
    "ExecuteTime": {
     "end_time": "2019-02-25T07:28:16.486636Z",
     "start_time": "2019-02-25T07:28:15.116341Z"
    },
    "hidden": true
   },
   "outputs": [],
   "source": [
    "events.set_index(['week_start', 'user_id_hash', 'event'], inplace=True)"
   ]
  },
  {
   "cell_type": "code",
   "execution_count": 19,
   "metadata": {
    "ExecuteTime": {
     "end_time": "2019-02-25T07:28:39.537371Z",
     "start_time": "2019-02-25T07:28:16.489246Z"
    },
    "hidden": true
   },
   "outputs": [],
   "source": [
    "events_p = events.unstack()"
   ]
  },
  {
   "cell_type": "code",
   "execution_count": 20,
   "metadata": {
    "ExecuteTime": {
     "end_time": "2019-02-25T07:28:40.519918Z",
     "start_time": "2019-02-25T07:28:39.539635Z"
    },
    "hidden": true
   },
   "outputs": [],
   "source": [
    "events_p.fillna(-99, inplace=True)"
   ]
  },
  {
   "cell_type": "code",
   "execution_count": 21,
   "metadata": {
    "ExecuteTime": {
     "end_time": "2019-02-25T07:28:40.527388Z",
     "start_time": "2019-02-25T07:28:40.522281Z"
    },
    "hidden": true
   },
   "outputs": [],
   "source": [
    "events_p.columns = [i + str(j) for  i, j  in zip (events_p.columns.get_level_values(0), events_p.columns.get_level_values(1))]"
   ]
  },
  {
   "cell_type": "code",
   "execution_count": 22,
   "metadata": {
    "ExecuteTime": {
     "end_time": "2019-02-25T07:28:40.833912Z",
     "start_time": "2019-02-25T07:28:40.529652Z"
    },
    "hidden": true,
    "scrolled": true
   },
   "outputs": [
    {
     "data": {
      "text/html": [
       "<div>\n",
       "<style scoped>\n",
       "    .dataframe tbody tr th:only-of-type {\n",
       "        vertical-align: middle;\n",
       "    }\n",
       "\n",
       "    .dataframe tbody tr th {\n",
       "        vertical-align: top;\n",
       "    }\n",
       "\n",
       "    .dataframe thead th {\n",
       "        text-align: right;\n",
       "    }\n",
       "</style>\n",
       "<table border=\"1\" class=\"dataframe\">\n",
       "  <thead>\n",
       "    <tr style=\"text-align: right;\">\n",
       "      <th></th>\n",
       "      <th></th>\n",
       "      <th>event_count0</th>\n",
       "      <th>event_count0/</th>\n",
       "      <th>event_count1</th>\n",
       "      <th>event_count1/</th>\n",
       "      <th>event_count10</th>\n",
       "      <th>event_count11</th>\n",
       "      <th>event_count14</th>\n",
       "      <th>event_count3</th>\n",
       "      <th>event_count32</th>\n",
       "      <th>event_count4</th>\n",
       "      <th>...</th>\n",
       "      <th>event_mean60</th>\n",
       "      <th>event_mean61</th>\n",
       "      <th>event_mean62</th>\n",
       "      <th>event_mean63</th>\n",
       "      <th>event_mean64</th>\n",
       "      <th>event_mean7</th>\n",
       "      <th>event_mean9</th>\n",
       "      <th>event_mean97</th>\n",
       "      <th>event_mean98</th>\n",
       "      <th>event_mean99</th>\n",
       "    </tr>\n",
       "    <tr>\n",
       "      <th>week_start</th>\n",
       "      <th>user_id_hash</th>\n",
       "      <th></th>\n",
       "      <th></th>\n",
       "      <th></th>\n",
       "      <th></th>\n",
       "      <th></th>\n",
       "      <th></th>\n",
       "      <th></th>\n",
       "      <th></th>\n",
       "      <th></th>\n",
       "      <th></th>\n",
       "      <th></th>\n",
       "      <th></th>\n",
       "      <th></th>\n",
       "      <th></th>\n",
       "      <th></th>\n",
       "      <th></th>\n",
       "      <th></th>\n",
       "      <th></th>\n",
       "      <th></th>\n",
       "      <th></th>\n",
       "      <th></th>\n",
       "    </tr>\n",
       "  </thead>\n",
       "  <tbody>\n",
       "    <tr>\n",
       "      <th rowspan=\"5\" valign=\"top\">2018-10-01</th>\n",
       "      <th>000062e9be78f3da274fec338e78f89d12000e781967f23e248af3904cb5b3b7</th>\n",
       "      <td>-99.0</td>\n",
       "      <td>-99.0</td>\n",
       "      <td>1.0</td>\n",
       "      <td>-99.0</td>\n",
       "      <td>-99.0</td>\n",
       "      <td>-99.0</td>\n",
       "      <td>3.0</td>\n",
       "      <td>2.0</td>\n",
       "      <td>-99.0</td>\n",
       "      <td>3.0</td>\n",
       "      <td>...</td>\n",
       "      <td>-99.0</td>\n",
       "      <td>-99.0</td>\n",
       "      <td>-99.0</td>\n",
       "      <td>-99.0</td>\n",
       "      <td>-99.0</td>\n",
       "      <td>20.0</td>\n",
       "      <td>-99.0</td>\n",
       "      <td>0.0</td>\n",
       "      <td>-99.0</td>\n",
       "      <td>-99.0</td>\n",
       "    </tr>\n",
       "    <tr>\n",
       "      <th>00026e5050a70ef12d421f75c6a5c80d0f62d37acab8bd38e5990898285c9036</th>\n",
       "      <td>-99.0</td>\n",
       "      <td>-99.0</td>\n",
       "      <td>-99.0</td>\n",
       "      <td>-99.0</td>\n",
       "      <td>-99.0</td>\n",
       "      <td>-99.0</td>\n",
       "      <td>3.0</td>\n",
       "      <td>-99.0</td>\n",
       "      <td>-99.0</td>\n",
       "      <td>-99.0</td>\n",
       "      <td>...</td>\n",
       "      <td>-99.0</td>\n",
       "      <td>-99.0</td>\n",
       "      <td>-99.0</td>\n",
       "      <td>-99.0</td>\n",
       "      <td>-99.0</td>\n",
       "      <td>12.0</td>\n",
       "      <td>-99.0</td>\n",
       "      <td>0.0</td>\n",
       "      <td>-99.0</td>\n",
       "      <td>-99.0</td>\n",
       "    </tr>\n",
       "    <tr>\n",
       "      <th>0003f8bda56230a49445880e559b718e94ba37344494a7f40af47c8a0b222f8c</th>\n",
       "      <td>-99.0</td>\n",
       "      <td>-99.0</td>\n",
       "      <td>-99.0</td>\n",
       "      <td>-99.0</td>\n",
       "      <td>-99.0</td>\n",
       "      <td>-99.0</td>\n",
       "      <td>3.0</td>\n",
       "      <td>-99.0</td>\n",
       "      <td>-99.0</td>\n",
       "      <td>-99.0</td>\n",
       "      <td>...</td>\n",
       "      <td>-99.0</td>\n",
       "      <td>-99.0</td>\n",
       "      <td>-99.0</td>\n",
       "      <td>-99.0</td>\n",
       "      <td>-99.0</td>\n",
       "      <td>-99.0</td>\n",
       "      <td>-99.0</td>\n",
       "      <td>0.0</td>\n",
       "      <td>-99.0</td>\n",
       "      <td>-99.0</td>\n",
       "    </tr>\n",
       "    <tr>\n",
       "      <th>000542d6fc6e9dcb83328d30503a7e022e5a6b4ea6357b9dce7b8452fb36e6f2</th>\n",
       "      <td>-99.0</td>\n",
       "      <td>-99.0</td>\n",
       "      <td>1.0</td>\n",
       "      <td>-99.0</td>\n",
       "      <td>-99.0</td>\n",
       "      <td>-99.0</td>\n",
       "      <td>4.0</td>\n",
       "      <td>-99.0</td>\n",
       "      <td>-99.0</td>\n",
       "      <td>-99.0</td>\n",
       "      <td>...</td>\n",
       "      <td>-99.0</td>\n",
       "      <td>-99.0</td>\n",
       "      <td>-99.0</td>\n",
       "      <td>-99.0</td>\n",
       "      <td>-99.0</td>\n",
       "      <td>12.0</td>\n",
       "      <td>-99.0</td>\n",
       "      <td>0.0</td>\n",
       "      <td>-99.0</td>\n",
       "      <td>-99.0</td>\n",
       "    </tr>\n",
       "    <tr>\n",
       "      <th>0006028dc3aefd41499be9c5428fb11691f3ce570e7cc87901ab606236130843</th>\n",
       "      <td>-99.0</td>\n",
       "      <td>-99.0</td>\n",
       "      <td>2.0</td>\n",
       "      <td>-99.0</td>\n",
       "      <td>-99.0</td>\n",
       "      <td>-99.0</td>\n",
       "      <td>4.0</td>\n",
       "      <td>-99.0</td>\n",
       "      <td>-99.0</td>\n",
       "      <td>4.0</td>\n",
       "      <td>...</td>\n",
       "      <td>-99.0</td>\n",
       "      <td>-99.0</td>\n",
       "      <td>-99.0</td>\n",
       "      <td>-99.0</td>\n",
       "      <td>-99.0</td>\n",
       "      <td>21.0</td>\n",
       "      <td>-99.0</td>\n",
       "      <td>0.0</td>\n",
       "      <td>-99.0</td>\n",
       "      <td>-99.0</td>\n",
       "    </tr>\n",
       "  </tbody>\n",
       "</table>\n",
       "<p>5 rows × 120 columns</p>\n",
       "</div>"
      ],
      "text/plain": [
       "                                                               event_count0  \\\n",
       "week_start user_id_hash                                                       \n",
       "2018-10-01 000062e9be78f3da274fec338e78f89d12000e781967f23...         -99.0   \n",
       "           00026e5050a70ef12d421f75c6a5c80d0f62d37acab8bd3...         -99.0   \n",
       "           0003f8bda56230a49445880e559b718e94ba37344494a7f...         -99.0   \n",
       "           000542d6fc6e9dcb83328d30503a7e022e5a6b4ea6357b9...         -99.0   \n",
       "           0006028dc3aefd41499be9c5428fb11691f3ce570e7cc87...         -99.0   \n",
       "\n",
       "                                                               event_count0/  \\\n",
       "week_start user_id_hash                                                        \n",
       "2018-10-01 000062e9be78f3da274fec338e78f89d12000e781967f23...          -99.0   \n",
       "           00026e5050a70ef12d421f75c6a5c80d0f62d37acab8bd3...          -99.0   \n",
       "           0003f8bda56230a49445880e559b718e94ba37344494a7f...          -99.0   \n",
       "           000542d6fc6e9dcb83328d30503a7e022e5a6b4ea6357b9...          -99.0   \n",
       "           0006028dc3aefd41499be9c5428fb11691f3ce570e7cc87...          -99.0   \n",
       "\n",
       "                                                               event_count1  \\\n",
       "week_start user_id_hash                                                       \n",
       "2018-10-01 000062e9be78f3da274fec338e78f89d12000e781967f23...           1.0   \n",
       "           00026e5050a70ef12d421f75c6a5c80d0f62d37acab8bd3...         -99.0   \n",
       "           0003f8bda56230a49445880e559b718e94ba37344494a7f...         -99.0   \n",
       "           000542d6fc6e9dcb83328d30503a7e022e5a6b4ea6357b9...           1.0   \n",
       "           0006028dc3aefd41499be9c5428fb11691f3ce570e7cc87...           2.0   \n",
       "\n",
       "                                                               event_count1/  \\\n",
       "week_start user_id_hash                                                        \n",
       "2018-10-01 000062e9be78f3da274fec338e78f89d12000e781967f23...          -99.0   \n",
       "           00026e5050a70ef12d421f75c6a5c80d0f62d37acab8bd3...          -99.0   \n",
       "           0003f8bda56230a49445880e559b718e94ba37344494a7f...          -99.0   \n",
       "           000542d6fc6e9dcb83328d30503a7e022e5a6b4ea6357b9...          -99.0   \n",
       "           0006028dc3aefd41499be9c5428fb11691f3ce570e7cc87...          -99.0   \n",
       "\n",
       "                                                               event_count10  \\\n",
       "week_start user_id_hash                                                        \n",
       "2018-10-01 000062e9be78f3da274fec338e78f89d12000e781967f23...          -99.0   \n",
       "           00026e5050a70ef12d421f75c6a5c80d0f62d37acab8bd3...          -99.0   \n",
       "           0003f8bda56230a49445880e559b718e94ba37344494a7f...          -99.0   \n",
       "           000542d6fc6e9dcb83328d30503a7e022e5a6b4ea6357b9...          -99.0   \n",
       "           0006028dc3aefd41499be9c5428fb11691f3ce570e7cc87...          -99.0   \n",
       "\n",
       "                                                               event_count11  \\\n",
       "week_start user_id_hash                                                        \n",
       "2018-10-01 000062e9be78f3da274fec338e78f89d12000e781967f23...          -99.0   \n",
       "           00026e5050a70ef12d421f75c6a5c80d0f62d37acab8bd3...          -99.0   \n",
       "           0003f8bda56230a49445880e559b718e94ba37344494a7f...          -99.0   \n",
       "           000542d6fc6e9dcb83328d30503a7e022e5a6b4ea6357b9...          -99.0   \n",
       "           0006028dc3aefd41499be9c5428fb11691f3ce570e7cc87...          -99.0   \n",
       "\n",
       "                                                               event_count14  \\\n",
       "week_start user_id_hash                                                        \n",
       "2018-10-01 000062e9be78f3da274fec338e78f89d12000e781967f23...            3.0   \n",
       "           00026e5050a70ef12d421f75c6a5c80d0f62d37acab8bd3...            3.0   \n",
       "           0003f8bda56230a49445880e559b718e94ba37344494a7f...            3.0   \n",
       "           000542d6fc6e9dcb83328d30503a7e022e5a6b4ea6357b9...            4.0   \n",
       "           0006028dc3aefd41499be9c5428fb11691f3ce570e7cc87...            4.0   \n",
       "\n",
       "                                                               event_count3  \\\n",
       "week_start user_id_hash                                                       \n",
       "2018-10-01 000062e9be78f3da274fec338e78f89d12000e781967f23...           2.0   \n",
       "           00026e5050a70ef12d421f75c6a5c80d0f62d37acab8bd3...         -99.0   \n",
       "           0003f8bda56230a49445880e559b718e94ba37344494a7f...         -99.0   \n",
       "           000542d6fc6e9dcb83328d30503a7e022e5a6b4ea6357b9...         -99.0   \n",
       "           0006028dc3aefd41499be9c5428fb11691f3ce570e7cc87...         -99.0   \n",
       "\n",
       "                                                               event_count32  \\\n",
       "week_start user_id_hash                                                        \n",
       "2018-10-01 000062e9be78f3da274fec338e78f89d12000e781967f23...          -99.0   \n",
       "           00026e5050a70ef12d421f75c6a5c80d0f62d37acab8bd3...          -99.0   \n",
       "           0003f8bda56230a49445880e559b718e94ba37344494a7f...          -99.0   \n",
       "           000542d6fc6e9dcb83328d30503a7e022e5a6b4ea6357b9...          -99.0   \n",
       "           0006028dc3aefd41499be9c5428fb11691f3ce570e7cc87...          -99.0   \n",
       "\n",
       "                                                               event_count4  \\\n",
       "week_start user_id_hash                                                       \n",
       "2018-10-01 000062e9be78f3da274fec338e78f89d12000e781967f23...           3.0   \n",
       "           00026e5050a70ef12d421f75c6a5c80d0f62d37acab8bd3...         -99.0   \n",
       "           0003f8bda56230a49445880e559b718e94ba37344494a7f...         -99.0   \n",
       "           000542d6fc6e9dcb83328d30503a7e022e5a6b4ea6357b9...         -99.0   \n",
       "           0006028dc3aefd41499be9c5428fb11691f3ce570e7cc87...           4.0   \n",
       "\n",
       "                                                                   ...       \\\n",
       "week_start user_id_hash                                            ...        \n",
       "2018-10-01 000062e9be78f3da274fec338e78f89d12000e781967f23...      ...        \n",
       "           00026e5050a70ef12d421f75c6a5c80d0f62d37acab8bd3...      ...        \n",
       "           0003f8bda56230a49445880e559b718e94ba37344494a7f...      ...        \n",
       "           000542d6fc6e9dcb83328d30503a7e022e5a6b4ea6357b9...      ...        \n",
       "           0006028dc3aefd41499be9c5428fb11691f3ce570e7cc87...      ...        \n",
       "\n",
       "                                                               event_mean60  \\\n",
       "week_start user_id_hash                                                       \n",
       "2018-10-01 000062e9be78f3da274fec338e78f89d12000e781967f23...         -99.0   \n",
       "           00026e5050a70ef12d421f75c6a5c80d0f62d37acab8bd3...         -99.0   \n",
       "           0003f8bda56230a49445880e559b718e94ba37344494a7f...         -99.0   \n",
       "           000542d6fc6e9dcb83328d30503a7e022e5a6b4ea6357b9...         -99.0   \n",
       "           0006028dc3aefd41499be9c5428fb11691f3ce570e7cc87...         -99.0   \n",
       "\n",
       "                                                               event_mean61  \\\n",
       "week_start user_id_hash                                                       \n",
       "2018-10-01 000062e9be78f3da274fec338e78f89d12000e781967f23...         -99.0   \n",
       "           00026e5050a70ef12d421f75c6a5c80d0f62d37acab8bd3...         -99.0   \n",
       "           0003f8bda56230a49445880e559b718e94ba37344494a7f...         -99.0   \n",
       "           000542d6fc6e9dcb83328d30503a7e022e5a6b4ea6357b9...         -99.0   \n",
       "           0006028dc3aefd41499be9c5428fb11691f3ce570e7cc87...         -99.0   \n",
       "\n",
       "                                                               event_mean62  \\\n",
       "week_start user_id_hash                                                       \n",
       "2018-10-01 000062e9be78f3da274fec338e78f89d12000e781967f23...         -99.0   \n",
       "           00026e5050a70ef12d421f75c6a5c80d0f62d37acab8bd3...         -99.0   \n",
       "           0003f8bda56230a49445880e559b718e94ba37344494a7f...         -99.0   \n",
       "           000542d6fc6e9dcb83328d30503a7e022e5a6b4ea6357b9...         -99.0   \n",
       "           0006028dc3aefd41499be9c5428fb11691f3ce570e7cc87...         -99.0   \n",
       "\n",
       "                                                               event_mean63  \\\n",
       "week_start user_id_hash                                                       \n",
       "2018-10-01 000062e9be78f3da274fec338e78f89d12000e781967f23...         -99.0   \n",
       "           00026e5050a70ef12d421f75c6a5c80d0f62d37acab8bd3...         -99.0   \n",
       "           0003f8bda56230a49445880e559b718e94ba37344494a7f...         -99.0   \n",
       "           000542d6fc6e9dcb83328d30503a7e022e5a6b4ea6357b9...         -99.0   \n",
       "           0006028dc3aefd41499be9c5428fb11691f3ce570e7cc87...         -99.0   \n",
       "\n",
       "                                                               event_mean64  \\\n",
       "week_start user_id_hash                                                       \n",
       "2018-10-01 000062e9be78f3da274fec338e78f89d12000e781967f23...         -99.0   \n",
       "           00026e5050a70ef12d421f75c6a5c80d0f62d37acab8bd3...         -99.0   \n",
       "           0003f8bda56230a49445880e559b718e94ba37344494a7f...         -99.0   \n",
       "           000542d6fc6e9dcb83328d30503a7e022e5a6b4ea6357b9...         -99.0   \n",
       "           0006028dc3aefd41499be9c5428fb11691f3ce570e7cc87...         -99.0   \n",
       "\n",
       "                                                               event_mean7  \\\n",
       "week_start user_id_hash                                                      \n",
       "2018-10-01 000062e9be78f3da274fec338e78f89d12000e781967f23...         20.0   \n",
       "           00026e5050a70ef12d421f75c6a5c80d0f62d37acab8bd3...         12.0   \n",
       "           0003f8bda56230a49445880e559b718e94ba37344494a7f...        -99.0   \n",
       "           000542d6fc6e9dcb83328d30503a7e022e5a6b4ea6357b9...         12.0   \n",
       "           0006028dc3aefd41499be9c5428fb11691f3ce570e7cc87...         21.0   \n",
       "\n",
       "                                                               event_mean9  \\\n",
       "week_start user_id_hash                                                      \n",
       "2018-10-01 000062e9be78f3da274fec338e78f89d12000e781967f23...        -99.0   \n",
       "           00026e5050a70ef12d421f75c6a5c80d0f62d37acab8bd3...        -99.0   \n",
       "           0003f8bda56230a49445880e559b718e94ba37344494a7f...        -99.0   \n",
       "           000542d6fc6e9dcb83328d30503a7e022e5a6b4ea6357b9...        -99.0   \n",
       "           0006028dc3aefd41499be9c5428fb11691f3ce570e7cc87...        -99.0   \n",
       "\n",
       "                                                               event_mean97  \\\n",
       "week_start user_id_hash                                                       \n",
       "2018-10-01 000062e9be78f3da274fec338e78f89d12000e781967f23...           0.0   \n",
       "           00026e5050a70ef12d421f75c6a5c80d0f62d37acab8bd3...           0.0   \n",
       "           0003f8bda56230a49445880e559b718e94ba37344494a7f...           0.0   \n",
       "           000542d6fc6e9dcb83328d30503a7e022e5a6b4ea6357b9...           0.0   \n",
       "           0006028dc3aefd41499be9c5428fb11691f3ce570e7cc87...           0.0   \n",
       "\n",
       "                                                               event_mean98  \\\n",
       "week_start user_id_hash                                                       \n",
       "2018-10-01 000062e9be78f3da274fec338e78f89d12000e781967f23...         -99.0   \n",
       "           00026e5050a70ef12d421f75c6a5c80d0f62d37acab8bd3...         -99.0   \n",
       "           0003f8bda56230a49445880e559b718e94ba37344494a7f...         -99.0   \n",
       "           000542d6fc6e9dcb83328d30503a7e022e5a6b4ea6357b9...         -99.0   \n",
       "           0006028dc3aefd41499be9c5428fb11691f3ce570e7cc87...         -99.0   \n",
       "\n",
       "                                                               event_mean99  \n",
       "week_start user_id_hash                                                      \n",
       "2018-10-01 000062e9be78f3da274fec338e78f89d12000e781967f23...         -99.0  \n",
       "           00026e5050a70ef12d421f75c6a5c80d0f62d37acab8bd3...         -99.0  \n",
       "           0003f8bda56230a49445880e559b718e94ba37344494a7f...         -99.0  \n",
       "           000542d6fc6e9dcb83328d30503a7e022e5a6b4ea6357b9...         -99.0  \n",
       "           0006028dc3aefd41499be9c5428fb11691f3ce570e7cc87...         -99.0  \n",
       "\n",
       "[5 rows x 120 columns]"
      ]
     },
     "execution_count": 22,
     "metadata": {},
     "output_type": "execute_result"
    }
   ],
   "source": [
    "events_p.head()"
   ]
  },
  {
   "cell_type": "code",
   "execution_count": 23,
   "metadata": {
    "ExecuteTime": {
     "end_time": "2019-02-25T07:28:40.852040Z",
     "start_time": "2019-02-25T07:28:40.836022Z"
    },
    "hidden": true
   },
   "outputs": [],
   "source": [
    "events_p.reset_index(inplace=True)"
   ]
  },
  {
   "cell_type": "code",
   "execution_count": 24,
   "metadata": {
    "ExecuteTime": {
     "end_time": "2019-02-25T07:28:40.878807Z",
     "start_time": "2019-02-25T07:28:40.854293Z"
    },
    "hidden": true
   },
   "outputs": [
    {
     "data": {
      "text/html": [
       "<div>\n",
       "<style scoped>\n",
       "    .dataframe tbody tr th:only-of-type {\n",
       "        vertical-align: middle;\n",
       "    }\n",
       "\n",
       "    .dataframe tbody tr th {\n",
       "        vertical-align: top;\n",
       "    }\n",
       "\n",
       "    .dataframe thead th {\n",
       "        text-align: right;\n",
       "    }\n",
       "</style>\n",
       "<table border=\"1\" class=\"dataframe\">\n",
       "  <thead>\n",
       "    <tr style=\"text-align: right;\">\n",
       "      <th></th>\n",
       "      <th>week_start</th>\n",
       "      <th>user_id_hash</th>\n",
       "      <th>event_count0</th>\n",
       "      <th>event_count0/</th>\n",
       "      <th>event_count1</th>\n",
       "      <th>event_count1/</th>\n",
       "      <th>event_count10</th>\n",
       "      <th>event_count11</th>\n",
       "      <th>event_count14</th>\n",
       "      <th>event_count3</th>\n",
       "      <th>...</th>\n",
       "      <th>event_mean60</th>\n",
       "      <th>event_mean61</th>\n",
       "      <th>event_mean62</th>\n",
       "      <th>event_mean63</th>\n",
       "      <th>event_mean64</th>\n",
       "      <th>event_mean7</th>\n",
       "      <th>event_mean9</th>\n",
       "      <th>event_mean97</th>\n",
       "      <th>event_mean98</th>\n",
       "      <th>event_mean99</th>\n",
       "    </tr>\n",
       "  </thead>\n",
       "  <tbody>\n",
       "    <tr>\n",
       "      <th>0</th>\n",
       "      <td>2018-10-01</td>\n",
       "      <td>000062e9be78f3da274fec338e78f89d12000e781967f2...</td>\n",
       "      <td>-99.0</td>\n",
       "      <td>-99.0</td>\n",
       "      <td>1.0</td>\n",
       "      <td>-99.0</td>\n",
       "      <td>-99.0</td>\n",
       "      <td>-99.0</td>\n",
       "      <td>3.0</td>\n",
       "      <td>2.0</td>\n",
       "      <td>...</td>\n",
       "      <td>-99.0</td>\n",
       "      <td>-99.0</td>\n",
       "      <td>-99.0</td>\n",
       "      <td>-99.0</td>\n",
       "      <td>-99.0</td>\n",
       "      <td>20.0</td>\n",
       "      <td>-99.0</td>\n",
       "      <td>0.0</td>\n",
       "      <td>-99.0</td>\n",
       "      <td>-99.0</td>\n",
       "    </tr>\n",
       "    <tr>\n",
       "      <th>1</th>\n",
       "      <td>2018-10-01</td>\n",
       "      <td>00026e5050a70ef12d421f75c6a5c80d0f62d37acab8bd...</td>\n",
       "      <td>-99.0</td>\n",
       "      <td>-99.0</td>\n",
       "      <td>-99.0</td>\n",
       "      <td>-99.0</td>\n",
       "      <td>-99.0</td>\n",
       "      <td>-99.0</td>\n",
       "      <td>3.0</td>\n",
       "      <td>-99.0</td>\n",
       "      <td>...</td>\n",
       "      <td>-99.0</td>\n",
       "      <td>-99.0</td>\n",
       "      <td>-99.0</td>\n",
       "      <td>-99.0</td>\n",
       "      <td>-99.0</td>\n",
       "      <td>12.0</td>\n",
       "      <td>-99.0</td>\n",
       "      <td>0.0</td>\n",
       "      <td>-99.0</td>\n",
       "      <td>-99.0</td>\n",
       "    </tr>\n",
       "    <tr>\n",
       "      <th>2</th>\n",
       "      <td>2018-10-01</td>\n",
       "      <td>0003f8bda56230a49445880e559b718e94ba37344494a7...</td>\n",
       "      <td>-99.0</td>\n",
       "      <td>-99.0</td>\n",
       "      <td>-99.0</td>\n",
       "      <td>-99.0</td>\n",
       "      <td>-99.0</td>\n",
       "      <td>-99.0</td>\n",
       "      <td>3.0</td>\n",
       "      <td>-99.0</td>\n",
       "      <td>...</td>\n",
       "      <td>-99.0</td>\n",
       "      <td>-99.0</td>\n",
       "      <td>-99.0</td>\n",
       "      <td>-99.0</td>\n",
       "      <td>-99.0</td>\n",
       "      <td>-99.0</td>\n",
       "      <td>-99.0</td>\n",
       "      <td>0.0</td>\n",
       "      <td>-99.0</td>\n",
       "      <td>-99.0</td>\n",
       "    </tr>\n",
       "    <tr>\n",
       "      <th>3</th>\n",
       "      <td>2018-10-01</td>\n",
       "      <td>000542d6fc6e9dcb83328d30503a7e022e5a6b4ea6357b...</td>\n",
       "      <td>-99.0</td>\n",
       "      <td>-99.0</td>\n",
       "      <td>1.0</td>\n",
       "      <td>-99.0</td>\n",
       "      <td>-99.0</td>\n",
       "      <td>-99.0</td>\n",
       "      <td>4.0</td>\n",
       "      <td>-99.0</td>\n",
       "      <td>...</td>\n",
       "      <td>-99.0</td>\n",
       "      <td>-99.0</td>\n",
       "      <td>-99.0</td>\n",
       "      <td>-99.0</td>\n",
       "      <td>-99.0</td>\n",
       "      <td>12.0</td>\n",
       "      <td>-99.0</td>\n",
       "      <td>0.0</td>\n",
       "      <td>-99.0</td>\n",
       "      <td>-99.0</td>\n",
       "    </tr>\n",
       "    <tr>\n",
       "      <th>4</th>\n",
       "      <td>2018-10-01</td>\n",
       "      <td>0006028dc3aefd41499be9c5428fb11691f3ce570e7cc8...</td>\n",
       "      <td>-99.0</td>\n",
       "      <td>-99.0</td>\n",
       "      <td>2.0</td>\n",
       "      <td>-99.0</td>\n",
       "      <td>-99.0</td>\n",
       "      <td>-99.0</td>\n",
       "      <td>4.0</td>\n",
       "      <td>-99.0</td>\n",
       "      <td>...</td>\n",
       "      <td>-99.0</td>\n",
       "      <td>-99.0</td>\n",
       "      <td>-99.0</td>\n",
       "      <td>-99.0</td>\n",
       "      <td>-99.0</td>\n",
       "      <td>21.0</td>\n",
       "      <td>-99.0</td>\n",
       "      <td>0.0</td>\n",
       "      <td>-99.0</td>\n",
       "      <td>-99.0</td>\n",
       "    </tr>\n",
       "  </tbody>\n",
       "</table>\n",
       "<p>5 rows × 122 columns</p>\n",
       "</div>"
      ],
      "text/plain": [
       "  week_start                                       user_id_hash  event_count0  \\\n",
       "0 2018-10-01  000062e9be78f3da274fec338e78f89d12000e781967f2...         -99.0   \n",
       "1 2018-10-01  00026e5050a70ef12d421f75c6a5c80d0f62d37acab8bd...         -99.0   \n",
       "2 2018-10-01  0003f8bda56230a49445880e559b718e94ba37344494a7...         -99.0   \n",
       "3 2018-10-01  000542d6fc6e9dcb83328d30503a7e022e5a6b4ea6357b...         -99.0   \n",
       "4 2018-10-01  0006028dc3aefd41499be9c5428fb11691f3ce570e7cc8...         -99.0   \n",
       "\n",
       "   event_count0/  event_count1  event_count1/  event_count10  event_count11  \\\n",
       "0          -99.0           1.0          -99.0          -99.0          -99.0   \n",
       "1          -99.0         -99.0          -99.0          -99.0          -99.0   \n",
       "2          -99.0         -99.0          -99.0          -99.0          -99.0   \n",
       "3          -99.0           1.0          -99.0          -99.0          -99.0   \n",
       "4          -99.0           2.0          -99.0          -99.0          -99.0   \n",
       "\n",
       "   event_count14  event_count3      ...       event_mean60  event_mean61  \\\n",
       "0            3.0           2.0      ...              -99.0         -99.0   \n",
       "1            3.0         -99.0      ...              -99.0         -99.0   \n",
       "2            3.0         -99.0      ...              -99.0         -99.0   \n",
       "3            4.0         -99.0      ...              -99.0         -99.0   \n",
       "4            4.0         -99.0      ...              -99.0         -99.0   \n",
       "\n",
       "   event_mean62  event_mean63  event_mean64  event_mean7  event_mean9  \\\n",
       "0         -99.0         -99.0         -99.0         20.0        -99.0   \n",
       "1         -99.0         -99.0         -99.0         12.0        -99.0   \n",
       "2         -99.0         -99.0         -99.0        -99.0        -99.0   \n",
       "3         -99.0         -99.0         -99.0         12.0        -99.0   \n",
       "4         -99.0         -99.0         -99.0         21.0        -99.0   \n",
       "\n",
       "   event_mean97  event_mean98  event_mean99  \n",
       "0           0.0         -99.0         -99.0  \n",
       "1           0.0         -99.0         -99.0  \n",
       "2           0.0         -99.0         -99.0  \n",
       "3           0.0         -99.0         -99.0  \n",
       "4           0.0         -99.0         -99.0  \n",
       "\n",
       "[5 rows x 122 columns]"
      ]
     },
     "execution_count": 24,
     "metadata": {},
     "output_type": "execute_result"
    }
   ],
   "source": [
    "events_p.head()"
   ]
  },
  {
   "cell_type": "code",
   "execution_count": 25,
   "metadata": {
    "ExecuteTime": {
     "end_time": "2019-02-25T07:28:40.884978Z",
     "start_time": "2019-02-25T07:28:40.880765Z"
    },
    "hidden": true
   },
   "outputs": [
    {
     "data": {
      "text/plain": [
       "(1152353, 122)"
      ]
     },
     "execution_count": 25,
     "metadata": {},
     "output_type": "execute_result"
    }
   ],
   "source": [
    "events_p.shape"
   ]
  },
  {
   "cell_type": "code",
   "execution_count": 26,
   "metadata": {
    "ExecuteTime": {
     "end_time": "2019-02-25T07:28:40.899973Z",
     "start_time": "2019-02-25T07:28:40.887229Z"
    },
    "hidden": true
   },
   "outputs": [],
   "source": [
    "df.week_start = df.week_start.astype('category')"
   ]
  },
  {
   "cell_type": "code",
   "execution_count": 27,
   "metadata": {
    "ExecuteTime": {
     "end_time": "2019-02-25T07:28:59.480002Z",
     "start_time": "2019-02-25T07:28:52.855464Z"
    },
    "hidden": true
   },
   "outputs": [],
   "source": [
    "df = df.merge(events_p, on=['user_id_hash', 'week_start'], how='left')"
   ]
  },
  {
   "cell_type": "code",
   "execution_count": 28,
   "metadata": {
    "ExecuteTime": {
     "end_time": "2019-02-25T07:28:59.486721Z",
     "start_time": "2019-02-25T07:28:59.482789Z"
    },
    "hidden": true
   },
   "outputs": [
    {
     "data": {
      "text/plain": [
       "(995976, 136)"
      ]
     },
     "execution_count": 28,
     "metadata": {},
     "output_type": "execute_result"
    }
   ],
   "source": [
    "df.shape"
   ]
  },
  {
   "cell_type": "code",
   "execution_count": 30,
   "metadata": {
    "ExecuteTime": {
     "end_time": "2019-02-25T07:31:24.120599Z",
     "start_time": "2019-02-25T07:31:24.030439Z"
    },
    "hidden": true
   },
   "outputs": [],
   "source": [
    "atr.attribute = atr.attribute.astype(np.int)"
   ]
  },
  {
   "cell_type": "code",
   "execution_count": 31,
   "metadata": {
    "ExecuteTime": {
     "end_time": "2019-02-25T07:31:28.472301Z",
     "start_time": "2019-02-25T07:31:28.460629Z"
    },
    "hidden": true
   },
   "outputs": [
    {
     "data": {
      "text/html": [
       "<div>\n",
       "<style scoped>\n",
       "    .dataframe tbody tr th:only-of-type {\n",
       "        vertical-align: middle;\n",
       "    }\n",
       "\n",
       "    .dataframe tbody tr th {\n",
       "        vertical-align: top;\n",
       "    }\n",
       "\n",
       "    .dataframe thead th {\n",
       "        text-align: right;\n",
       "    }\n",
       "</style>\n",
       "<table border=\"1\" class=\"dataframe\">\n",
       "  <thead>\n",
       "    <tr style=\"text-align: right;\">\n",
       "      <th></th>\n",
       "      <th>atr_count</th>\n",
       "      <th>atr_last</th>\n",
       "      <th>atr_max</th>\n",
       "      <th>atr_mean</th>\n",
       "      <th>attribute</th>\n",
       "      <th>user_id_hash</th>\n",
       "      <th>week_start</th>\n",
       "    </tr>\n",
       "  </thead>\n",
       "  <tbody>\n",
       "    <tr>\n",
       "      <th>0</th>\n",
       "      <td>1</td>\n",
       "      <td>0.05</td>\n",
       "      <td>0.05</td>\n",
       "      <td>0.05</td>\n",
       "      <td>4</td>\n",
       "      <td>000059859ec188af6035870faf885c3038cedda05b3a54...</td>\n",
       "      <td>2018-11-26 00:00:00</td>\n",
       "    </tr>\n",
       "    <tr>\n",
       "      <th>1</th>\n",
       "      <td>1</td>\n",
       "      <td>0.00</td>\n",
       "      <td>0.00</td>\n",
       "      <td>0.00</td>\n",
       "      <td>4</td>\n",
       "      <td>000081a7d841b0f953bdba6c185fd5cc335fd6015a30c3...</td>\n",
       "      <td>2018-11-26 00:00:00</td>\n",
       "    </tr>\n",
       "    <tr>\n",
       "      <th>2</th>\n",
       "      <td>8</td>\n",
       "      <td>0.00</td>\n",
       "      <td>0.00</td>\n",
       "      <td>0.00</td>\n",
       "      <td>4</td>\n",
       "      <td>0000bc4e8bfc829d327fa69bdc426dd8a789c52550ed87...</td>\n",
       "      <td>2018-11-26 00:00:00</td>\n",
       "    </tr>\n",
       "    <tr>\n",
       "      <th>3</th>\n",
       "      <td>1</td>\n",
       "      <td>0.00</td>\n",
       "      <td>0.00</td>\n",
       "      <td>0.00</td>\n",
       "      <td>4</td>\n",
       "      <td>000161848e5ccdcd4d3b0c7be9ec844730c39e6bcbc2a7...</td>\n",
       "      <td>2018-11-26 00:00:00</td>\n",
       "    </tr>\n",
       "    <tr>\n",
       "      <th>4</th>\n",
       "      <td>1</td>\n",
       "      <td>0.00</td>\n",
       "      <td>0.00</td>\n",
       "      <td>0.00</td>\n",
       "      <td>4</td>\n",
       "      <td>00020102f66f89759868c843ae9fe634870f132f9e3d79...</td>\n",
       "      <td>2018-11-26 00:00:00</td>\n",
       "    </tr>\n",
       "  </tbody>\n",
       "</table>\n",
       "</div>"
      ],
      "text/plain": [
       "   atr_count  atr_last  atr_max  atr_mean  attribute  \\\n",
       "0          1      0.05     0.05      0.05          4   \n",
       "1          1      0.00     0.00      0.00          4   \n",
       "2          8      0.00     0.00      0.00          4   \n",
       "3          1      0.00     0.00      0.00          4   \n",
       "4          1      0.00     0.00      0.00          4   \n",
       "\n",
       "                                        user_id_hash           week_start  \n",
       "0  000059859ec188af6035870faf885c3038cedda05b3a54...  2018-11-26 00:00:00  \n",
       "1  000081a7d841b0f953bdba6c185fd5cc335fd6015a30c3...  2018-11-26 00:00:00  \n",
       "2  0000bc4e8bfc829d327fa69bdc426dd8a789c52550ed87...  2018-11-26 00:00:00  \n",
       "3  000161848e5ccdcd4d3b0c7be9ec844730c39e6bcbc2a7...  2018-11-26 00:00:00  \n",
       "4  00020102f66f89759868c843ae9fe634870f132f9e3d79...  2018-11-26 00:00:00  "
      ]
     },
     "execution_count": 31,
     "metadata": {},
     "output_type": "execute_result"
    }
   ],
   "source": [
    "atr.head()"
   ]
  },
  {
   "cell_type": "code",
   "execution_count": 32,
   "metadata": {
    "ExecuteTime": {
     "end_time": "2019-02-25T07:31:41.633765Z",
     "start_time": "2019-02-25T07:31:33.435696Z"
    },
    "hidden": true
   },
   "outputs": [],
   "source": [
    "atr.set_index(['week_start', 'user_id_hash', 'attribute'], inplace=True)"
   ]
  },
  {
   "cell_type": "code",
   "execution_count": 33,
   "metadata": {
    "ExecuteTime": {
     "end_time": "2019-02-25T07:32:05.272963Z",
     "start_time": "2019-02-25T07:31:50.222957Z"
    },
    "hidden": true
   },
   "outputs": [],
   "source": [
    "atr_p = atr.unstack()"
   ]
  },
  {
   "cell_type": "code",
   "execution_count": 34,
   "metadata": {
    "ExecuteTime": {
     "end_time": "2019-02-25T07:32:05.513733Z",
     "start_time": "2019-02-25T07:32:05.276196Z"
    },
    "hidden": true
   },
   "outputs": [],
   "source": [
    "atr_p.fillna(-99, inplace=True)"
   ]
  },
  {
   "cell_type": "code",
   "execution_count": 35,
   "metadata": {
    "ExecuteTime": {
     "end_time": "2019-02-25T07:32:20.451164Z",
     "start_time": "2019-02-25T07:32:20.419518Z"
    },
    "hidden": true
   },
   "outputs": [
    {
     "data": {
      "text/html": [
       "<div>\n",
       "<style scoped>\n",
       "    .dataframe tbody tr th:only-of-type {\n",
       "        vertical-align: middle;\n",
       "    }\n",
       "\n",
       "    .dataframe tbody tr th {\n",
       "        vertical-align: top;\n",
       "    }\n",
       "\n",
       "    .dataframe thead tr th {\n",
       "        text-align: left;\n",
       "    }\n",
       "\n",
       "    .dataframe thead tr:last-of-type th {\n",
       "        text-align: right;\n",
       "    }\n",
       "</style>\n",
       "<table border=\"1\" class=\"dataframe\">\n",
       "  <thead>\n",
       "    <tr>\n",
       "      <th></th>\n",
       "      <th></th>\n",
       "      <th colspan=\"8\" halign=\"left\">atr_count</th>\n",
       "      <th colspan=\"2\" halign=\"left\">atr_last</th>\n",
       "      <th>...</th>\n",
       "      <th colspan=\"2\" halign=\"left\">atr_max</th>\n",
       "      <th colspan=\"8\" halign=\"left\">atr_mean</th>\n",
       "    </tr>\n",
       "    <tr>\n",
       "      <th></th>\n",
       "      <th>attribute</th>\n",
       "      <th>4</th>\n",
       "      <th>13</th>\n",
       "      <th>14</th>\n",
       "      <th>20</th>\n",
       "      <th>21</th>\n",
       "      <th>67</th>\n",
       "      <th>78</th>\n",
       "      <th>96</th>\n",
       "      <th>4</th>\n",
       "      <th>13</th>\n",
       "      <th>...</th>\n",
       "      <th>78</th>\n",
       "      <th>96</th>\n",
       "      <th>4</th>\n",
       "      <th>13</th>\n",
       "      <th>14</th>\n",
       "      <th>20</th>\n",
       "      <th>21</th>\n",
       "      <th>67</th>\n",
       "      <th>78</th>\n",
       "      <th>96</th>\n",
       "    </tr>\n",
       "    <tr>\n",
       "      <th>week_start</th>\n",
       "      <th>user_id_hash</th>\n",
       "      <th></th>\n",
       "      <th></th>\n",
       "      <th></th>\n",
       "      <th></th>\n",
       "      <th></th>\n",
       "      <th></th>\n",
       "      <th></th>\n",
       "      <th></th>\n",
       "      <th></th>\n",
       "      <th></th>\n",
       "      <th></th>\n",
       "      <th></th>\n",
       "      <th></th>\n",
       "      <th></th>\n",
       "      <th></th>\n",
       "      <th></th>\n",
       "      <th></th>\n",
       "      <th></th>\n",
       "      <th></th>\n",
       "      <th></th>\n",
       "      <th></th>\n",
       "    </tr>\n",
       "  </thead>\n",
       "  <tbody>\n",
       "    <tr>\n",
       "      <th rowspan=\"5\" valign=\"top\">2018-10-01</th>\n",
       "      <th>000062e9be78f3da274fec338e78f89d12000e781967f23e248af3904cb5b3b7</th>\n",
       "      <td>4.0</td>\n",
       "      <td>4.0</td>\n",
       "      <td>4.0</td>\n",
       "      <td>4.0</td>\n",
       "      <td>4.0</td>\n",
       "      <td>-99.0</td>\n",
       "      <td>4.0</td>\n",
       "      <td>-99.0</td>\n",
       "      <td>0.00</td>\n",
       "      <td>0.00</td>\n",
       "      <td>...</td>\n",
       "      <td>1.0</td>\n",
       "      <td>-99.0</td>\n",
       "      <td>0.0075</td>\n",
       "      <td>0.0075</td>\n",
       "      <td>0.0</td>\n",
       "      <td>0.0</td>\n",
       "      <td>1.0</td>\n",
       "      <td>-99.0</td>\n",
       "      <td>1.0</td>\n",
       "      <td>-99.0</td>\n",
       "    </tr>\n",
       "    <tr>\n",
       "      <th>00026e5050a70ef12d421f75c6a5c80d0f62d37acab8bd38e5990898285c9036</th>\n",
       "      <td>2.0</td>\n",
       "      <td>2.0</td>\n",
       "      <td>2.0</td>\n",
       "      <td>2.0</td>\n",
       "      <td>2.0</td>\n",
       "      <td>-99.0</td>\n",
       "      <td>2.0</td>\n",
       "      <td>-99.0</td>\n",
       "      <td>0.00</td>\n",
       "      <td>0.00</td>\n",
       "      <td>...</td>\n",
       "      <td>1.0</td>\n",
       "      <td>-99.0</td>\n",
       "      <td>0.0000</td>\n",
       "      <td>0.0000</td>\n",
       "      <td>0.0</td>\n",
       "      <td>0.0</td>\n",
       "      <td>2.0</td>\n",
       "      <td>-99.0</td>\n",
       "      <td>1.0</td>\n",
       "      <td>-99.0</td>\n",
       "    </tr>\n",
       "    <tr>\n",
       "      <th>0003f8bda56230a49445880e559b718e94ba37344494a7f40af47c8a0b222f8c</th>\n",
       "      <td>1.0</td>\n",
       "      <td>1.0</td>\n",
       "      <td>1.0</td>\n",
       "      <td>1.0</td>\n",
       "      <td>1.0</td>\n",
       "      <td>-99.0</td>\n",
       "      <td>1.0</td>\n",
       "      <td>-99.0</td>\n",
       "      <td>0.00</td>\n",
       "      <td>0.00</td>\n",
       "      <td>...</td>\n",
       "      <td>1.0</td>\n",
       "      <td>-99.0</td>\n",
       "      <td>0.0000</td>\n",
       "      <td>0.0000</td>\n",
       "      <td>0.0</td>\n",
       "      <td>0.0</td>\n",
       "      <td>2.0</td>\n",
       "      <td>-99.0</td>\n",
       "      <td>1.0</td>\n",
       "      <td>-99.0</td>\n",
       "    </tr>\n",
       "    <tr>\n",
       "      <th>000542d6fc6e9dcb83328d30503a7e022e5a6b4ea6357b9dce7b8452fb36e6f2</th>\n",
       "      <td>1.0</td>\n",
       "      <td>1.0</td>\n",
       "      <td>1.0</td>\n",
       "      <td>1.0</td>\n",
       "      <td>1.0</td>\n",
       "      <td>-99.0</td>\n",
       "      <td>1.0</td>\n",
       "      <td>-99.0</td>\n",
       "      <td>0.02</td>\n",
       "      <td>0.02</td>\n",
       "      <td>...</td>\n",
       "      <td>1.0</td>\n",
       "      <td>-99.0</td>\n",
       "      <td>0.0200</td>\n",
       "      <td>0.0200</td>\n",
       "      <td>0.0</td>\n",
       "      <td>2.0</td>\n",
       "      <td>0.0</td>\n",
       "      <td>-99.0</td>\n",
       "      <td>1.0</td>\n",
       "      <td>-99.0</td>\n",
       "    </tr>\n",
       "    <tr>\n",
       "      <th>0006028dc3aefd41499be9c5428fb11691f3ce570e7cc87901ab606236130843</th>\n",
       "      <td>4.0</td>\n",
       "      <td>4.0</td>\n",
       "      <td>4.0</td>\n",
       "      <td>4.0</td>\n",
       "      <td>4.0</td>\n",
       "      <td>-99.0</td>\n",
       "      <td>4.0</td>\n",
       "      <td>-99.0</td>\n",
       "      <td>0.00</td>\n",
       "      <td>0.00</td>\n",
       "      <td>...</td>\n",
       "      <td>1.0</td>\n",
       "      <td>-99.0</td>\n",
       "      <td>0.0000</td>\n",
       "      <td>0.0000</td>\n",
       "      <td>0.0</td>\n",
       "      <td>0.5</td>\n",
       "      <td>0.0</td>\n",
       "      <td>-99.0</td>\n",
       "      <td>1.0</td>\n",
       "      <td>-99.0</td>\n",
       "    </tr>\n",
       "  </tbody>\n",
       "</table>\n",
       "<p>5 rows × 32 columns</p>\n",
       "</div>"
      ],
      "text/plain": [
       "                                                              atr_count       \\\n",
       "attribute                                                            4    13   \n",
       "week_start user_id_hash                                                        \n",
       "2018-10-01 000062e9be78f3da274fec338e78f89d12000e781967f23...       4.0  4.0   \n",
       "           00026e5050a70ef12d421f75c6a5c80d0f62d37acab8bd3...       2.0  2.0   \n",
       "           0003f8bda56230a49445880e559b718e94ba37344494a7f...       1.0  1.0   \n",
       "           000542d6fc6e9dcb83328d30503a7e022e5a6b4ea6357b9...       1.0  1.0   \n",
       "           0006028dc3aefd41499be9c5428fb11691f3ce570e7cc87...       4.0  4.0   \n",
       "\n",
       "                                                                              \\\n",
       "attribute                                                       14   20   21   \n",
       "week_start user_id_hash                                                        \n",
       "2018-10-01 000062e9be78f3da274fec338e78f89d12000e781967f23...  4.0  4.0  4.0   \n",
       "           00026e5050a70ef12d421f75c6a5c80d0f62d37acab8bd3...  2.0  2.0  2.0   \n",
       "           0003f8bda56230a49445880e559b718e94ba37344494a7f...  1.0  1.0  1.0   \n",
       "           000542d6fc6e9dcb83328d30503a7e022e5a6b4ea6357b9...  1.0  1.0  1.0   \n",
       "           0006028dc3aefd41499be9c5428fb11691f3ce570e7cc87...  4.0  4.0  4.0   \n",
       "\n",
       "                                                                          \\\n",
       "attribute                                                        67   78   \n",
       "week_start user_id_hash                                                    \n",
       "2018-10-01 000062e9be78f3da274fec338e78f89d12000e781967f23... -99.0  4.0   \n",
       "           00026e5050a70ef12d421f75c6a5c80d0f62d37acab8bd3... -99.0  2.0   \n",
       "           0003f8bda56230a49445880e559b718e94ba37344494a7f... -99.0  1.0   \n",
       "           000542d6fc6e9dcb83328d30503a7e022e5a6b4ea6357b9... -99.0  1.0   \n",
       "           0006028dc3aefd41499be9c5428fb11691f3ce570e7cc87... -99.0  4.0   \n",
       "\n",
       "                                                                    atr_last  \\\n",
       "attribute                                                        96       4    \n",
       "week_start user_id_hash                                                        \n",
       "2018-10-01 000062e9be78f3da274fec338e78f89d12000e781967f23... -99.0     0.00   \n",
       "           00026e5050a70ef12d421f75c6a5c80d0f62d37acab8bd3... -99.0     0.00   \n",
       "           0003f8bda56230a49445880e559b718e94ba37344494a7f... -99.0     0.00   \n",
       "           000542d6fc6e9dcb83328d30503a7e022e5a6b4ea6357b9... -99.0     0.02   \n",
       "           0006028dc3aefd41499be9c5428fb11691f3ce570e7cc87... -99.0     0.00   \n",
       "\n",
       "                                                                     ...   \\\n",
       "attribute                                                        13  ...    \n",
       "week_start user_id_hash                                              ...    \n",
       "2018-10-01 000062e9be78f3da274fec338e78f89d12000e781967f23...  0.00  ...    \n",
       "           00026e5050a70ef12d421f75c6a5c80d0f62d37acab8bd3...  0.00  ...    \n",
       "           0003f8bda56230a49445880e559b718e94ba37344494a7f...  0.00  ...    \n",
       "           000542d6fc6e9dcb83328d30503a7e022e5a6b4ea6357b9...  0.02  ...    \n",
       "           0006028dc3aefd41499be9c5428fb11691f3ce570e7cc87...  0.00  ...    \n",
       "\n",
       "                                                              atr_max        \\\n",
       "attribute                                                          78    96   \n",
       "week_start user_id_hash                                                       \n",
       "2018-10-01 000062e9be78f3da274fec338e78f89d12000e781967f23...     1.0 -99.0   \n",
       "           00026e5050a70ef12d421f75c6a5c80d0f62d37acab8bd3...     1.0 -99.0   \n",
       "           0003f8bda56230a49445880e559b718e94ba37344494a7f...     1.0 -99.0   \n",
       "           000542d6fc6e9dcb83328d30503a7e022e5a6b4ea6357b9...     1.0 -99.0   \n",
       "           0006028dc3aefd41499be9c5428fb11691f3ce570e7cc87...     1.0 -99.0   \n",
       "\n",
       "                                                              atr_mean  \\\n",
       "attribute                                                           4    \n",
       "week_start user_id_hash                                                  \n",
       "2018-10-01 000062e9be78f3da274fec338e78f89d12000e781967f23...   0.0075   \n",
       "           00026e5050a70ef12d421f75c6a5c80d0f62d37acab8bd3...   0.0000   \n",
       "           0003f8bda56230a49445880e559b718e94ba37344494a7f...   0.0000   \n",
       "           000542d6fc6e9dcb83328d30503a7e022e5a6b4ea6357b9...   0.0200   \n",
       "           0006028dc3aefd41499be9c5428fb11691f3ce570e7cc87...   0.0000   \n",
       "\n",
       "                                                                            \\\n",
       "attribute                                                          13   14   \n",
       "week_start user_id_hash                                                      \n",
       "2018-10-01 000062e9be78f3da274fec338e78f89d12000e781967f23...  0.0075  0.0   \n",
       "           00026e5050a70ef12d421f75c6a5c80d0f62d37acab8bd3...  0.0000  0.0   \n",
       "           0003f8bda56230a49445880e559b718e94ba37344494a7f...  0.0000  0.0   \n",
       "           000542d6fc6e9dcb83328d30503a7e022e5a6b4ea6357b9...  0.0200  0.0   \n",
       "           0006028dc3aefd41499be9c5428fb11691f3ce570e7cc87...  0.0000  0.0   \n",
       "\n",
       "                                                                               \\\n",
       "attribute                                                       20   21    67   \n",
       "week_start user_id_hash                                                         \n",
       "2018-10-01 000062e9be78f3da274fec338e78f89d12000e781967f23...  0.0  1.0 -99.0   \n",
       "           00026e5050a70ef12d421f75c6a5c80d0f62d37acab8bd3...  0.0  2.0 -99.0   \n",
       "           0003f8bda56230a49445880e559b718e94ba37344494a7f...  0.0  2.0 -99.0   \n",
       "           000542d6fc6e9dcb83328d30503a7e022e5a6b4ea6357b9...  2.0  0.0 -99.0   \n",
       "           0006028dc3aefd41499be9c5428fb11691f3ce570e7cc87...  0.5  0.0 -99.0   \n",
       "\n",
       "                                                                          \n",
       "attribute                                                       78    96  \n",
       "week_start user_id_hash                                                   \n",
       "2018-10-01 000062e9be78f3da274fec338e78f89d12000e781967f23...  1.0 -99.0  \n",
       "           00026e5050a70ef12d421f75c6a5c80d0f62d37acab8bd3...  1.0 -99.0  \n",
       "           0003f8bda56230a49445880e559b718e94ba37344494a7f...  1.0 -99.0  \n",
       "           000542d6fc6e9dcb83328d30503a7e022e5a6b4ea6357b9...  1.0 -99.0  \n",
       "           0006028dc3aefd41499be9c5428fb11691f3ce570e7cc87...  1.0 -99.0  \n",
       "\n",
       "[5 rows x 32 columns]"
      ]
     },
     "execution_count": 35,
     "metadata": {},
     "output_type": "execute_result"
    }
   ],
   "source": [
    "atr_p.head()"
   ]
  },
  {
   "cell_type": "code",
   "execution_count": 36,
   "metadata": {
    "ExecuteTime": {
     "end_time": "2019-02-25T07:32:44.228073Z",
     "start_time": "2019-02-25T07:32:44.223088Z"
    },
    "hidden": true
   },
   "outputs": [],
   "source": [
    "atr_p.columns = [i + str(j) for  i, j  in zip (atr_p.columns.get_level_values(0),\n",
    "                                               atr_p.columns.get_level_values(1))]"
   ]
  },
  {
   "cell_type": "code",
   "execution_count": 37,
   "metadata": {
    "ExecuteTime": {
     "end_time": "2019-02-25T07:32:59.063556Z",
     "start_time": "2019-02-25T07:32:58.859157Z"
    },
    "hidden": true
   },
   "outputs": [],
   "source": [
    "atr_p.reset_index(inplace=True)"
   ]
  },
  {
   "cell_type": "code",
   "execution_count": 38,
   "metadata": {
    "ExecuteTime": {
     "end_time": "2019-02-25T07:33:12.354723Z",
     "start_time": "2019-02-25T07:33:12.331827Z"
    },
    "hidden": true
   },
   "outputs": [
    {
     "data": {
      "text/html": [
       "<div>\n",
       "<style scoped>\n",
       "    .dataframe tbody tr th:only-of-type {\n",
       "        vertical-align: middle;\n",
       "    }\n",
       "\n",
       "    .dataframe tbody tr th {\n",
       "        vertical-align: top;\n",
       "    }\n",
       "\n",
       "    .dataframe thead th {\n",
       "        text-align: right;\n",
       "    }\n",
       "</style>\n",
       "<table border=\"1\" class=\"dataframe\">\n",
       "  <thead>\n",
       "    <tr style=\"text-align: right;\">\n",
       "      <th></th>\n",
       "      <th>week_start</th>\n",
       "      <th>user_id_hash</th>\n",
       "      <th>atr_count4</th>\n",
       "      <th>atr_count13</th>\n",
       "      <th>atr_count14</th>\n",
       "      <th>atr_count20</th>\n",
       "      <th>atr_count21</th>\n",
       "      <th>atr_count67</th>\n",
       "      <th>atr_count78</th>\n",
       "      <th>atr_count96</th>\n",
       "      <th>...</th>\n",
       "      <th>atr_max78</th>\n",
       "      <th>atr_max96</th>\n",
       "      <th>atr_mean4</th>\n",
       "      <th>atr_mean13</th>\n",
       "      <th>atr_mean14</th>\n",
       "      <th>atr_mean20</th>\n",
       "      <th>atr_mean21</th>\n",
       "      <th>atr_mean67</th>\n",
       "      <th>atr_mean78</th>\n",
       "      <th>atr_mean96</th>\n",
       "    </tr>\n",
       "  </thead>\n",
       "  <tbody>\n",
       "    <tr>\n",
       "      <th>0</th>\n",
       "      <td>2018-10-01</td>\n",
       "      <td>000062e9be78f3da274fec338e78f89d12000e781967f2...</td>\n",
       "      <td>4.0</td>\n",
       "      <td>4.0</td>\n",
       "      <td>4.0</td>\n",
       "      <td>4.0</td>\n",
       "      <td>4.0</td>\n",
       "      <td>-99.0</td>\n",
       "      <td>4.0</td>\n",
       "      <td>-99.0</td>\n",
       "      <td>...</td>\n",
       "      <td>1.0</td>\n",
       "      <td>-99.0</td>\n",
       "      <td>0.0075</td>\n",
       "      <td>0.0075</td>\n",
       "      <td>0.0</td>\n",
       "      <td>0.0</td>\n",
       "      <td>1.0</td>\n",
       "      <td>-99.0</td>\n",
       "      <td>1.0</td>\n",
       "      <td>-99.0</td>\n",
       "    </tr>\n",
       "    <tr>\n",
       "      <th>1</th>\n",
       "      <td>2018-10-01</td>\n",
       "      <td>00026e5050a70ef12d421f75c6a5c80d0f62d37acab8bd...</td>\n",
       "      <td>2.0</td>\n",
       "      <td>2.0</td>\n",
       "      <td>2.0</td>\n",
       "      <td>2.0</td>\n",
       "      <td>2.0</td>\n",
       "      <td>-99.0</td>\n",
       "      <td>2.0</td>\n",
       "      <td>-99.0</td>\n",
       "      <td>...</td>\n",
       "      <td>1.0</td>\n",
       "      <td>-99.0</td>\n",
       "      <td>0.0000</td>\n",
       "      <td>0.0000</td>\n",
       "      <td>0.0</td>\n",
       "      <td>0.0</td>\n",
       "      <td>2.0</td>\n",
       "      <td>-99.0</td>\n",
       "      <td>1.0</td>\n",
       "      <td>-99.0</td>\n",
       "    </tr>\n",
       "    <tr>\n",
       "      <th>2</th>\n",
       "      <td>2018-10-01</td>\n",
       "      <td>0003f8bda56230a49445880e559b718e94ba37344494a7...</td>\n",
       "      <td>1.0</td>\n",
       "      <td>1.0</td>\n",
       "      <td>1.0</td>\n",
       "      <td>1.0</td>\n",
       "      <td>1.0</td>\n",
       "      <td>-99.0</td>\n",
       "      <td>1.0</td>\n",
       "      <td>-99.0</td>\n",
       "      <td>...</td>\n",
       "      <td>1.0</td>\n",
       "      <td>-99.0</td>\n",
       "      <td>0.0000</td>\n",
       "      <td>0.0000</td>\n",
       "      <td>0.0</td>\n",
       "      <td>0.0</td>\n",
       "      <td>2.0</td>\n",
       "      <td>-99.0</td>\n",
       "      <td>1.0</td>\n",
       "      <td>-99.0</td>\n",
       "    </tr>\n",
       "    <tr>\n",
       "      <th>3</th>\n",
       "      <td>2018-10-01</td>\n",
       "      <td>000542d6fc6e9dcb83328d30503a7e022e5a6b4ea6357b...</td>\n",
       "      <td>1.0</td>\n",
       "      <td>1.0</td>\n",
       "      <td>1.0</td>\n",
       "      <td>1.0</td>\n",
       "      <td>1.0</td>\n",
       "      <td>-99.0</td>\n",
       "      <td>1.0</td>\n",
       "      <td>-99.0</td>\n",
       "      <td>...</td>\n",
       "      <td>1.0</td>\n",
       "      <td>-99.0</td>\n",
       "      <td>0.0200</td>\n",
       "      <td>0.0200</td>\n",
       "      <td>0.0</td>\n",
       "      <td>2.0</td>\n",
       "      <td>0.0</td>\n",
       "      <td>-99.0</td>\n",
       "      <td>1.0</td>\n",
       "      <td>-99.0</td>\n",
       "    </tr>\n",
       "    <tr>\n",
       "      <th>4</th>\n",
       "      <td>2018-10-01</td>\n",
       "      <td>0006028dc3aefd41499be9c5428fb11691f3ce570e7cc8...</td>\n",
       "      <td>4.0</td>\n",
       "      <td>4.0</td>\n",
       "      <td>4.0</td>\n",
       "      <td>4.0</td>\n",
       "      <td>4.0</td>\n",
       "      <td>-99.0</td>\n",
       "      <td>4.0</td>\n",
       "      <td>-99.0</td>\n",
       "      <td>...</td>\n",
       "      <td>1.0</td>\n",
       "      <td>-99.0</td>\n",
       "      <td>0.0000</td>\n",
       "      <td>0.0000</td>\n",
       "      <td>0.0</td>\n",
       "      <td>0.5</td>\n",
       "      <td>0.0</td>\n",
       "      <td>-99.0</td>\n",
       "      <td>1.0</td>\n",
       "      <td>-99.0</td>\n",
       "    </tr>\n",
       "  </tbody>\n",
       "</table>\n",
       "<p>5 rows × 34 columns</p>\n",
       "</div>"
      ],
      "text/plain": [
       "  week_start                                       user_id_hash  atr_count4  \\\n",
       "0 2018-10-01  000062e9be78f3da274fec338e78f89d12000e781967f2...         4.0   \n",
       "1 2018-10-01  00026e5050a70ef12d421f75c6a5c80d0f62d37acab8bd...         2.0   \n",
       "2 2018-10-01  0003f8bda56230a49445880e559b718e94ba37344494a7...         1.0   \n",
       "3 2018-10-01  000542d6fc6e9dcb83328d30503a7e022e5a6b4ea6357b...         1.0   \n",
       "4 2018-10-01  0006028dc3aefd41499be9c5428fb11691f3ce570e7cc8...         4.0   \n",
       "\n",
       "   atr_count13  atr_count14  atr_count20  atr_count21  atr_count67  \\\n",
       "0          4.0          4.0          4.0          4.0        -99.0   \n",
       "1          2.0          2.0          2.0          2.0        -99.0   \n",
       "2          1.0          1.0          1.0          1.0        -99.0   \n",
       "3          1.0          1.0          1.0          1.0        -99.0   \n",
       "4          4.0          4.0          4.0          4.0        -99.0   \n",
       "\n",
       "   atr_count78  atr_count96     ...      atr_max78  atr_max96  atr_mean4  \\\n",
       "0          4.0        -99.0     ...            1.0      -99.0     0.0075   \n",
       "1          2.0        -99.0     ...            1.0      -99.0     0.0000   \n",
       "2          1.0        -99.0     ...            1.0      -99.0     0.0000   \n",
       "3          1.0        -99.0     ...            1.0      -99.0     0.0200   \n",
       "4          4.0        -99.0     ...            1.0      -99.0     0.0000   \n",
       "\n",
       "   atr_mean13  atr_mean14  atr_mean20  atr_mean21  atr_mean67  atr_mean78  \\\n",
       "0      0.0075         0.0         0.0         1.0       -99.0         1.0   \n",
       "1      0.0000         0.0         0.0         2.0       -99.0         1.0   \n",
       "2      0.0000         0.0         0.0         2.0       -99.0         1.0   \n",
       "3      0.0200         0.0         2.0         0.0       -99.0         1.0   \n",
       "4      0.0000         0.0         0.5         0.0       -99.0         1.0   \n",
       "\n",
       "   atr_mean96  \n",
       "0       -99.0  \n",
       "1       -99.0  \n",
       "2       -99.0  \n",
       "3       -99.0  \n",
       "4       -99.0  \n",
       "\n",
       "[5 rows x 34 columns]"
      ]
     },
     "execution_count": 38,
     "metadata": {},
     "output_type": "execute_result"
    }
   ],
   "source": [
    "atr_p.head()"
   ]
  },
  {
   "cell_type": "code",
   "execution_count": 44,
   "metadata": {
    "ExecuteTime": {
     "end_time": "2019-02-25T07:34:14.364209Z",
     "start_time": "2019-02-25T07:34:14.338403Z"
    },
    "hidden": true
   },
   "outputs": [],
   "source": [
    "atr_p.week_start = atr_p.week_start.astype('category')"
   ]
  },
  {
   "cell_type": "code",
   "execution_count": 45,
   "metadata": {
    "ExecuteTime": {
     "end_time": "2019-02-25T07:34:20.854034Z",
     "start_time": "2019-02-25T07:34:17.124504Z"
    },
    "hidden": true
   },
   "outputs": [],
   "source": [
    "df = df.merge(atr_p, on=['user_id_hash', 'week_start'], how='left')"
   ]
  },
  {
   "cell_type": "code",
   "execution_count": 46,
   "metadata": {
    "ExecuteTime": {
     "end_time": "2019-02-25T07:34:20.861714Z",
     "start_time": "2019-02-25T07:34:20.857032Z"
    },
    "hidden": true
   },
   "outputs": [
    {
     "data": {
      "text/plain": [
       "(995976, 168)"
      ]
     },
     "execution_count": 46,
     "metadata": {},
     "output_type": "execute_result"
    }
   ],
   "source": [
    "df.shape"
   ]
  },
  {
   "cell_type": "code",
   "execution_count": 47,
   "metadata": {
    "ExecuteTime": {
     "end_time": "2019-02-25T07:34:43.779293Z",
     "start_time": "2019-02-25T07:34:37.078545Z"
    },
    "hidden": true
   },
   "outputs": [],
   "source": [
    "df.to_pickle('../merged.pkl')"
   ]
  },
  {
   "cell_type": "code",
   "execution_count": 229,
   "metadata": {
    "ExecuteTime": {
     "end_time": "2019-02-25T08:43:56.430083Z",
     "start_time": "2019-02-25T08:43:51.846395Z"
    },
    "hidden": true
   },
   "outputs": [],
   "source": [
    "df = pd.read_pickle('../merged.pkl')"
   ]
  },
  {
   "cell_type": "markdown",
   "metadata": {
    "heading_collapsed": true
   },
   "source": [
    "# Preparing for Model"
   ]
  },
  {
   "cell_type": "code",
   "execution_count": 230,
   "metadata": {
    "ExecuteTime": {
     "end_time": "2019-02-25T08:44:00.073745Z",
     "start_time": "2019-02-25T08:43:58.948928Z"
    },
    "hidden": true
   },
   "outputs": [],
   "source": [
    "purchase = pd.read_pickle('../purchase.pkl')"
   ]
  },
  {
   "cell_type": "code",
   "execution_count": 231,
   "metadata": {
    "ExecuteTime": {
     "end_time": "2019-02-25T08:44:00.081225Z",
     "start_time": "2019-02-25T08:44:00.077235Z"
    },
    "hidden": true
   },
   "outputs": [],
   "source": [
    "purchase.reset_index(inplace=True, drop=True)"
   ]
  },
  {
   "cell_type": "code",
   "execution_count": 232,
   "metadata": {
    "ExecuteTime": {
     "end_time": "2019-02-25T08:44:01.843088Z",
     "start_time": "2019-02-25T08:44:00.083355Z"
    },
    "hidden": true
   },
   "outputs": [],
   "source": [
    "t1 = purchase.groupby(['week_start', 'user_id_hash']).event_value.count()\\\n",
    "            .reset_index().rename(columns={'event_value': 'no_of_buys'})\n",
    "t2 = purchase.groupby(['week_start', 'user_id_hash']).event_value.sum()\\\n",
    "            .reset_index().rename(columns={'event_value': 'sum_of_buys'})"
   ]
  },
  {
   "cell_type": "code",
   "execution_count": 233,
   "metadata": {
    "ExecuteTime": {
     "end_time": "2019-02-25T08:44:02.944683Z",
     "start_time": "2019-02-25T08:44:01.846399Z"
    },
    "hidden": true
   },
   "outputs": [],
   "source": [
    "purchase = t1.merge(t2, on=['week_start', 'user_id_hash'])"
   ]
  },
  {
   "cell_type": "code",
   "execution_count": 234,
   "metadata": {
    "ExecuteTime": {
     "end_time": "2019-02-25T08:44:02.958831Z",
     "start_time": "2019-02-25T08:44:02.947841Z"
    },
    "hidden": true
   },
   "outputs": [
    {
     "data": {
      "text/html": [
       "<div>\n",
       "<style scoped>\n",
       "    .dataframe tbody tr th:only-of-type {\n",
       "        vertical-align: middle;\n",
       "    }\n",
       "\n",
       "    .dataframe tbody tr th {\n",
       "        vertical-align: top;\n",
       "    }\n",
       "\n",
       "    .dataframe thead th {\n",
       "        text-align: right;\n",
       "    }\n",
       "</style>\n",
       "<table border=\"1\" class=\"dataframe\">\n",
       "  <thead>\n",
       "    <tr style=\"text-align: right;\">\n",
       "      <th></th>\n",
       "      <th>week_start</th>\n",
       "      <th>user_id_hash</th>\n",
       "      <th>no_of_buys</th>\n",
       "      <th>sum_of_buys</th>\n",
       "    </tr>\n",
       "  </thead>\n",
       "  <tbody>\n",
       "    <tr>\n",
       "      <th>0</th>\n",
       "      <td>2018-10-01</td>\n",
       "      <td>001c2d06972b17ee6a075ff9fbdae33eccb0bbf28357ea...</td>\n",
       "      <td>1</td>\n",
       "      <td>1.393000</td>\n",
       "    </tr>\n",
       "    <tr>\n",
       "      <th>1</th>\n",
       "      <td>2018-10-01</td>\n",
       "      <td>0026497d2043c8530220eeb8e66051982cc6df3139a9b0...</td>\n",
       "      <td>3</td>\n",
       "      <td>10.478999</td>\n",
       "    </tr>\n",
       "    <tr>\n",
       "      <th>2</th>\n",
       "      <td>2018-10-01</td>\n",
       "      <td>006b49314baf054c636e7448d4f9b0df046aae9e9c17d0...</td>\n",
       "      <td>10</td>\n",
       "      <td>20.229999</td>\n",
       "    </tr>\n",
       "    <tr>\n",
       "      <th>3</th>\n",
       "      <td>2018-10-01</td>\n",
       "      <td>007327aa3a27718c76e6cd73c3971304280c8856f62940...</td>\n",
       "      <td>1</td>\n",
       "      <td>1.393000</td>\n",
       "    </tr>\n",
       "    <tr>\n",
       "      <th>4</th>\n",
       "      <td>2018-10-01</td>\n",
       "      <td>0088d9be17b2ec4b3621150117a0ede815547d4241eae1...</td>\n",
       "      <td>2</td>\n",
       "      <td>6.986000</td>\n",
       "    </tr>\n",
       "  </tbody>\n",
       "</table>\n",
       "</div>"
      ],
      "text/plain": [
       "  week_start                                       user_id_hash  no_of_buys  \\\n",
       "0 2018-10-01  001c2d06972b17ee6a075ff9fbdae33eccb0bbf28357ea...           1   \n",
       "1 2018-10-01  0026497d2043c8530220eeb8e66051982cc6df3139a9b0...           3   \n",
       "2 2018-10-01  006b49314baf054c636e7448d4f9b0df046aae9e9c17d0...          10   \n",
       "3 2018-10-01  007327aa3a27718c76e6cd73c3971304280c8856f62940...           1   \n",
       "4 2018-10-01  0088d9be17b2ec4b3621150117a0ede815547d4241eae1...           2   \n",
       "\n",
       "   sum_of_buys  \n",
       "0     1.393000  \n",
       "1    10.478999  \n",
       "2    20.229999  \n",
       "3     1.393000  \n",
       "4     6.986000  "
      ]
     },
     "execution_count": 234,
     "metadata": {},
     "output_type": "execute_result"
    }
   ],
   "source": [
    "purchase.head()"
   ]
  },
  {
   "cell_type": "code",
   "execution_count": 235,
   "metadata": {
    "ExecuteTime": {
     "end_time": "2019-02-25T08:44:02.967261Z",
     "start_time": "2019-02-25T08:44:02.960691Z"
    },
    "hidden": true
   },
   "outputs": [],
   "source": [
    "purchase1 = purchase.copy(deep=True)\n",
    "purchase1.week_start = purchase1.week_start.apply(lambda x: x- dt.timedelta(days=7))"
   ]
  },
  {
   "cell_type": "code",
   "execution_count": 236,
   "metadata": {
    "ExecuteTime": {
     "end_time": "2019-02-25T08:44:03.023474Z",
     "start_time": "2019-02-25T08:44:03.016301Z"
    },
    "hidden": true
   },
   "outputs": [],
   "source": [
    "purchase2 = purchase.copy(deep=True)\n",
    "purchase2.week_start = purchase2.week_start.apply(lambda x: x - dt.timedelta(days=14))"
   ]
  },
  {
   "cell_type": "code",
   "execution_count": 237,
   "metadata": {
    "ExecuteTime": {
     "end_time": "2019-02-25T08:44:11.315403Z",
     "start_time": "2019-02-25T08:44:04.134394Z"
    },
    "hidden": true
   },
   "outputs": [],
   "source": [
    "df = df.merge(purchase, on=['user_id_hash', 'week_start'], how='left')"
   ]
  },
  {
   "cell_type": "code",
   "execution_count": 238,
   "metadata": {
    "ExecuteTime": {
     "end_time": "2019-02-25T08:44:11.322349Z",
     "start_time": "2019-02-25T08:44:11.318196Z"
    },
    "hidden": true
   },
   "outputs": [
    {
     "data": {
      "text/plain": [
       "(995976, 170)"
      ]
     },
     "execution_count": 238,
     "metadata": {},
     "output_type": "execute_result"
    }
   ],
   "source": [
    "df.shape"
   ]
  },
  {
   "cell_type": "code",
   "execution_count": 239,
   "metadata": {
    "ExecuteTime": {
     "end_time": "2019-02-25T08:44:12.428324Z",
     "start_time": "2019-02-25T08:44:12.417094Z"
    },
    "hidden": true
   },
   "outputs": [],
   "source": [
    "df.no_of_buys.fillna(0, inplace=True)\n",
    "df.sum_of_buys.fillna(0, inplace=True)"
   ]
  },
  {
   "cell_type": "code",
   "execution_count": 240,
   "metadata": {
    "ExecuteTime": {
     "end_time": "2019-02-25T08:44:20.780655Z",
     "start_time": "2019-02-25T08:44:13.965357Z"
    },
    "hidden": true
   },
   "outputs": [],
   "source": [
    "df = df.merge(purchase1, on=['user_id_hash', 'week_start'], how='left')"
   ]
  },
  {
   "cell_type": "code",
   "execution_count": 241,
   "metadata": {
    "ExecuteTime": {
     "end_time": "2019-02-25T08:44:23.371781Z",
     "start_time": "2019-02-25T08:44:20.783976Z"
    },
    "hidden": true
   },
   "outputs": [],
   "source": [
    "df.drop(['sum_of_buys_y'], inplace=True, axis=1)\n",
    "df.rename(columns={'no_of_buys_x': 'no_of_buys',\n",
    "                    'sum_of_buys_x': 'sum_of_buys',\n",
    "                    'no_of_buys_y': 'y1'}, inplace=True)"
   ]
  },
  {
   "cell_type": "code",
   "execution_count": 242,
   "metadata": {
    "ExecuteTime": {
     "end_time": "2019-02-25T08:44:23.386924Z",
     "start_time": "2019-02-25T08:44:23.374213Z"
    },
    "hidden": true
   },
   "outputs": [],
   "source": [
    "df.week_start = df.week_start.astype('category')"
   ]
  },
  {
   "cell_type": "code",
   "execution_count": 243,
   "metadata": {
    "ExecuteTime": {
     "end_time": "2019-02-25T08:44:29.443304Z",
     "start_time": "2019-02-25T08:44:23.390072Z"
    },
    "hidden": true
   },
   "outputs": [],
   "source": [
    "df = df.merge(purchase2, on=['user_id_hash', 'week_start'], how='left')"
   ]
  },
  {
   "cell_type": "code",
   "execution_count": 244,
   "metadata": {
    "ExecuteTime": {
     "end_time": "2019-02-25T08:44:32.070694Z",
     "start_time": "2019-02-25T08:44:29.446395Z"
    },
    "hidden": true
   },
   "outputs": [],
   "source": [
    "df.drop(['sum_of_buys_y'], inplace=True, axis=1)\n",
    "df.rename(columns={'no_of_buys_x': 'no_of_buys',\n",
    "                    'sum_of_buys_x': 'sum_of_buys',\n",
    "                    'no_of_buys_y': 'y2'}, inplace=True)"
   ]
  },
  {
   "cell_type": "code",
   "execution_count": 245,
   "metadata": {
    "ExecuteTime": {
     "end_time": "2019-02-25T08:44:32.492578Z",
     "start_time": "2019-02-25T08:44:32.073175Z"
    },
    "hidden": true
   },
   "outputs": [],
   "source": [
    "df['y1'].fillna(0, inplace=True)\n",
    "df['y2'].fillna(0, inplace=True)\n",
    "df['y2'] = df['y1'] + df['y2']\n",
    "df['y1'] = df['y1'] > 0\n",
    "df['y2'] = df['y2'] > 0"
   ]
  },
  {
   "cell_type": "markdown",
   "metadata": {
    "heading_collapsed": true
   },
   "source": [
    "# Test Train Split"
   ]
  },
  {
   "cell_type": "code",
   "execution_count": 246,
   "metadata": {
    "ExecuteTime": {
     "end_time": "2019-02-25T08:44:33.493412Z",
     "start_time": "2019-02-25T08:44:33.486768Z"
    },
    "hidden": true
   },
   "outputs": [],
   "source": [
    "from sklearn.model_selection import KFold\n",
    "\n",
    "def reg_target_encoding(train, col = \"device_type\", splits=5):\n",
    "    \"\"\" Computes regularize mean encoding.\n",
    "    Inputs:\n",
    "       train: training dataframe\n",
    "       \n",
    "    \"\"\"\n",
    "    ksplit = KFold(n_splits=splits)\n",
    "    for tidx, vidx in ksplit.split(train):\n",
    "        mean_val = train.iloc[tidx, :].groupby(col)['y1'].mean()\n",
    "        global_mean_val = train.iloc[tidx, :]['y1'].mean()\n",
    "        train.loc[vidx, col + \"_mean_enc\"] = train.iloc[vidx, :][col].map(mean_val)\n",
    "        train.loc[vidx, col + \"_mean_enc\"].fillna(global_mean_val, inplace=True)\n",
    "    return None"
   ]
  },
  {
   "cell_type": "code",
   "execution_count": 247,
   "metadata": {
    "ExecuteTime": {
     "end_time": "2019-02-25T08:44:34.047754Z",
     "start_time": "2019-02-25T08:44:34.042778Z"
    },
    "hidden": true
   },
   "outputs": [],
   "source": [
    "def mean_encoding_test(test, train, col = \"device_type\"):\n",
    "    \"\"\" Computes target enconding for test data.\n",
    "    \n",
    "    This is similar to how we do validation\n",
    "    \"\"\"\n",
    "    mean_device_type = train.groupby(col)['y1'].mean()\n",
    "    global_mean = train['y1'].mean()\n",
    "    test[col + \"_mean_enc\"] = test[col].map(mean_device_type)\n",
    "    test[col + \"_mean_enc\"].fillna(global_mean, inplace=True)\n",
    "    return None"
   ]
  },
  {
   "cell_type": "code",
   "execution_count": 248,
   "metadata": {
    "ExecuteTime": {
     "end_time": "2019-02-25T08:44:35.734766Z",
     "start_time": "2019-02-25T08:44:34.533275Z"
    },
    "hidden": true
   },
   "outputs": [],
   "source": [
    "df.city = df.city.astype('category')\n",
    "df.country = df.country.astype('category')\n",
    "df.region = df.region.astype('category')\n",
    "df.locale = df.locale.astype('category')\n",
    "df.os_name = df.os_name.astype('category')"
   ]
  },
  {
   "cell_type": "code",
   "execution_count": 249,
   "metadata": {
    "ExecuteTime": {
     "end_time": "2019-02-25T08:44:37.622863Z",
     "start_time": "2019-02-25T08:44:36.999561Z"
    },
    "hidden": true
   },
   "outputs": [],
   "source": [
    "for c in [i for i in df.columns if i.startswith('atr_') or i.startswith('event_')]:\n",
    "    df[c].fillna(-99, inplace=True)"
   ]
  },
  {
   "cell_type": "code",
   "execution_count": 250,
   "metadata": {
    "ExecuteTime": {
     "end_time": "2019-02-25T08:44:43.455322Z",
     "start_time": "2019-02-25T08:44:39.447389Z"
    },
    "hidden": true
   },
   "outputs": [],
   "source": [
    "df['user_age'] = (df.week_start.dt.date - df.user_created_timestamp)\\\n",
    "                    .astype('timedelta64[D]')"
   ]
  },
  {
   "cell_type": "code",
   "execution_count": 251,
   "metadata": {
    "ExecuteTime": {
     "end_time": "2019-02-25T08:44:45.994444Z",
     "start_time": "2019-02-25T08:44:44.392364Z"
    },
    "hidden": true
   },
   "outputs": [],
   "source": [
    "train = df[df.week_start < '2018, 12, 11']\n",
    "test = df[df.week_start >= '2018, 12, 11']"
   ]
  },
  {
   "cell_type": "code",
   "execution_count": 252,
   "metadata": {
    "ExecuteTime": {
     "end_time": "2019-02-25T08:44:57.203924Z",
     "start_time": "2019-02-25T08:44:45.997665Z"
    },
    "hidden": true
   },
   "outputs": [],
   "source": [
    "reg_target_encoding(train, col='country')\n",
    "mean_encoding_test(test, train, col='country')"
   ]
  },
  {
   "cell_type": "code",
   "execution_count": 253,
   "metadata": {
    "ExecuteTime": {
     "end_time": "2019-02-25T08:45:08.036430Z",
     "start_time": "2019-02-25T08:44:57.206017Z"
    },
    "hidden": true
   },
   "outputs": [],
   "source": [
    "reg_target_encoding(train, col='week_start')\n",
    "mean_encoding_test(test, train, col='week_start')"
   ]
  },
  {
   "cell_type": "code",
   "execution_count": 254,
   "metadata": {
    "ExecuteTime": {
     "end_time": "2019-02-25T08:45:19.250139Z",
     "start_time": "2019-02-25T08:45:08.039847Z"
    },
    "hidden": true
   },
   "outputs": [],
   "source": [
    "reg_target_encoding(train, col='region')\n",
    "mean_encoding_test(test, train, col='region')"
   ]
  },
  {
   "cell_type": "code",
   "execution_count": 255,
   "metadata": {
    "ExecuteTime": {
     "end_time": "2019-02-25T08:45:19.262153Z",
     "start_time": "2019-02-25T08:45:19.253557Z"
    },
    "hidden": true
   },
   "outputs": [],
   "source": [
    "train.city = train.city.cat.codes\n",
    "train.country = train.country.cat.codes\n",
    "train.region = train.region.cat.codes\n",
    "train.os_name = train.os_name.cat.codes\n",
    "train.locale = train.locale.cat.codes"
   ]
  },
  {
   "cell_type": "code",
   "execution_count": 256,
   "metadata": {
    "ExecuteTime": {
     "end_time": "2019-02-25T08:45:19.280290Z",
     "start_time": "2019-02-25T08:45:19.264119Z"
    },
    "hidden": true
   },
   "outputs": [],
   "source": [
    "test.city = test.city.cat.codes\n",
    "test.country = test.country.cat.codes\n",
    "test.region = test.region.cat.codes\n",
    "test.os_name = test.os_name.cat.codes\n",
    "test.locale = test.locale.cat.codes"
   ]
  },
  {
   "cell_type": "code",
   "execution_count": 257,
   "metadata": {
    "ExecuteTime": {
     "end_time": "2019-02-25T08:45:19.292625Z",
     "start_time": "2019-02-25T08:45:19.282295Z"
    },
    "hidden": true
   },
   "outputs": [],
   "source": [
    "train.is_user_first_session = train.is_user_first_session.astype(np.int)\n",
    "train['y1'] = train['y1'].astype(np.int)\n",
    "train['y2'] = train['y2'].astype(np.int)"
   ]
  },
  {
   "cell_type": "code",
   "execution_count": 258,
   "metadata": {
    "ExecuteTime": {
     "end_time": "2019-02-25T08:45:19.302375Z",
     "start_time": "2019-02-25T08:45:19.294871Z"
    },
    "hidden": true
   },
   "outputs": [],
   "source": [
    "test.is_user_first_session = test.is_user_first_session.astype(np.int)\n",
    "test['y1'] = test['y1'].astype(np.int)\n",
    "test['y2'] = test['y2'].astype(np.int)"
   ]
  },
  {
   "cell_type": "code",
   "execution_count": 259,
   "metadata": {
    "ExecuteTime": {
     "end_time": "2019-02-25T08:45:19.308780Z",
     "start_time": "2019-02-25T08:45:19.304459Z"
    },
    "hidden": true
   },
   "outputs": [
    {
     "data": {
      "text/plain": [
       "(995976, 176)"
      ]
     },
     "execution_count": 259,
     "metadata": {},
     "output_type": "execute_result"
    }
   ],
   "source": [
    "train.shape"
   ]
  },
  {
   "cell_type": "code",
   "execution_count": 260,
   "metadata": {
    "ExecuteTime": {
     "end_time": "2019-02-25T08:45:19.315621Z",
     "start_time": "2019-02-25T08:45:19.310930Z"
    },
    "hidden": true
   },
   "outputs": [
    {
     "data": {
      "text/plain": [
       "(0, 176)"
      ]
     },
     "execution_count": 260,
     "metadata": {},
     "output_type": "execute_result"
    }
   ],
   "source": [
    "test.shape"
   ]
  },
  {
   "cell_type": "code",
   "execution_count": 261,
   "metadata": {
    "ExecuteTime": {
     "end_time": "2019-02-25T08:45:19.321568Z",
     "start_time": "2019-02-25T08:45:19.317457Z"
    },
    "hidden": true
   },
   "outputs": [],
   "source": [
    "feature_cols = ['no_city', 'city', 'is_user_first_session',\n",
    "                'country', 'country_count', 'region', 'region_count',\n",
    "                'locale', 'os_name', 'user_days', 'total_session_time',\n",
    "                'mean_session_time', 'median_session_time',\n",
    "                'user_age', 'country_mean_enc', 'no_of_buys',\n",
    "                'sum_of_buys', 'week_start_mean_enc', 'region_mean_enc']\n",
    "\n",
    "feature_cols += [i for i in df.columns if i.startswith('atr_') or i.startswith('event_')]"
   ]
  },
  {
   "cell_type": "code",
   "execution_count": 262,
   "metadata": {
    "ExecuteTime": {
     "end_time": "2019-02-25T08:45:20.615240Z",
     "start_time": "2019-02-25T08:45:19.323454Z"
    },
    "hidden": true
   },
   "outputs": [],
   "source": [
    "x_train = train[feature_cols].values\n",
    "y1_train = train[['y1']]\n",
    "y2_train = train[['y2']]\n",
    "\n",
    "x_test = test[feature_cols].values\n",
    "y1_test = test[['y1']]\n",
    "y2_test = test[['y2']]"
   ]
  },
  {
   "cell_type": "code",
   "execution_count": 263,
   "metadata": {
    "ExecuteTime": {
     "end_time": "2019-02-25T08:45:20.620019Z",
     "start_time": "2019-02-25T08:45:20.617350Z"
    },
    "hidden": true
   },
   "outputs": [],
   "source": [
    "from xgboost import XGBClassifier\n",
    "from sklearn.metrics import accuracy_score"
   ]
  },
  {
   "cell_type": "code",
   "execution_count": 264,
   "metadata": {
    "ExecuteTime": {
     "end_time": "2019-02-25T08:45:22.290966Z",
     "start_time": "2019-02-25T08:45:22.287171Z"
    },
    "hidden": true
   },
   "outputs": [],
   "source": [
    "xg_model1 = XGBClassifier(max_depth=7, learning_rate=0.1, n_estimators=300, n_jobs=-1)"
   ]
  },
  {
   "cell_type": "code",
   "execution_count": 265,
   "metadata": {
    "ExecuteTime": {
     "end_time": "2019-02-25T08:50:36.952728Z",
     "start_time": "2019-02-25T08:45:24.154747Z"
    },
    "hidden": true
   },
   "outputs": [
    {
     "data": {
      "text/plain": [
       "XGBClassifier(base_score=0.5, booster='gbtree', colsample_bylevel=1,\n",
       "       colsample_bytree=1, gamma=0, learning_rate=0.1, max_delta_step=0,\n",
       "       max_depth=7, min_child_weight=1, missing=None, n_estimators=300,\n",
       "       n_jobs=-1, nthread=None, objective='binary:logistic',\n",
       "       random_state=0, reg_alpha=0, reg_lambda=1, scale_pos_weight=1,\n",
       "       seed=None, silent=True, subsample=1)"
      ]
     },
     "execution_count": 265,
     "metadata": {},
     "output_type": "execute_result"
    }
   ],
   "source": [
    "xg_model1.fit(x_train, y1_train)"
   ]
  },
  {
   "cell_type": "code",
   "execution_count": 266,
   "metadata": {
    "ExecuteTime": {
     "end_time": "2019-02-25T08:50:42.255547Z",
     "start_time": "2019-02-25T08:50:36.959309Z"
    },
    "hidden": true
   },
   "outputs": [],
   "source": [
    "y1_hat_train = xg_model1.predict(x_train)"
   ]
  },
  {
   "cell_type": "code",
   "execution_count": 267,
   "metadata": {
    "ExecuteTime": {
     "end_time": "2019-02-25T08:50:42.340131Z",
     "start_time": "2019-02-25T08:50:42.257887Z"
    },
    "hidden": true
   },
   "outputs": [
    {
     "data": {
      "text/plain": [
       "0.9743186582809225"
      ]
     },
     "execution_count": 267,
     "metadata": {},
     "output_type": "execute_result"
    }
   ],
   "source": [
    "accuracy_score(y1_train, y1_hat_train)"
   ]
  },
  {
   "cell_type": "code",
   "execution_count": 268,
   "metadata": {
    "ExecuteTime": {
     "end_time": "2019-02-25T08:50:42.346231Z",
     "start_time": "2019-02-25T08:50:42.343015Z"
    },
    "hidden": true
   },
   "outputs": [],
   "source": [
    "xg_model2 = XGBClassifier(max_depth=7, learning_rate=0.1, n_estimators=300, n_jobs=-1)"
   ]
  },
  {
   "cell_type": "code",
   "execution_count": 269,
   "metadata": {
    "ExecuteTime": {
     "end_time": "2019-02-25T08:55:56.487367Z",
     "start_time": "2019-02-25T08:50:42.348847Z"
    },
    "hidden": true
   },
   "outputs": [
    {
     "data": {
      "text/plain": [
       "XGBClassifier(base_score=0.5, booster='gbtree', colsample_bylevel=1,\n",
       "       colsample_bytree=1, gamma=0, learning_rate=0.1, max_delta_step=0,\n",
       "       max_depth=7, min_child_weight=1, missing=None, n_estimators=300,\n",
       "       n_jobs=-1, nthread=None, objective='binary:logistic',\n",
       "       random_state=0, reg_alpha=0, reg_lambda=1, scale_pos_weight=1,\n",
       "       seed=None, silent=True, subsample=1)"
      ]
     },
     "execution_count": 269,
     "metadata": {},
     "output_type": "execute_result"
    }
   ],
   "source": [
    "xg_model2.fit(x_train, y2_train)"
   ]
  },
  {
   "cell_type": "code",
   "execution_count": 270,
   "metadata": {
    "ExecuteTime": {
     "end_time": "2019-02-25T08:56:01.782503Z",
     "start_time": "2019-02-25T08:55:56.490116Z"
    },
    "hidden": true
   },
   "outputs": [],
   "source": [
    "y2_hat_train = xg_model2.predict(x_train)"
   ]
  },
  {
   "cell_type": "code",
   "execution_count": 271,
   "metadata": {
    "ExecuteTime": {
     "end_time": "2019-02-25T08:56:01.870674Z",
     "start_time": "2019-02-25T08:56:01.785218Z"
    },
    "hidden": true
   },
   "outputs": [
    {
     "data": {
      "text/plain": [
       "0.9700494791039141"
      ]
     },
     "execution_count": 271,
     "metadata": {},
     "output_type": "execute_result"
    }
   ],
   "source": [
    "accuracy_score(y2_train, y2_hat_train)"
   ]
  },
  {
   "cell_type": "code",
   "execution_count": 197,
   "metadata": {
    "ExecuteTime": {
     "end_time": "2019-02-25T08:31:59.741478Z",
     "start_time": "2019-02-25T08:31:59.031906Z"
    },
    "hidden": true
   },
   "outputs": [],
   "source": [
    "y1_hat_test = xg_model1.predict(x_test)\n",
    "y2_hat_test = xg_model2.predict(x_test)"
   ]
  },
  {
   "cell_type": "code",
   "execution_count": 198,
   "metadata": {
    "ExecuteTime": {
     "end_time": "2019-02-25T08:32:35.552483Z",
     "start_time": "2019-02-25T08:32:35.542689Z"
    },
    "hidden": true
   },
   "outputs": [
    {
     "data": {
      "text/plain": [
       "0.9594580105610208"
      ]
     },
     "execution_count": 198,
     "metadata": {},
     "output_type": "execute_result"
    }
   ],
   "source": [
    "accuracy_score(y2_test, y2_hat_test)"
   ]
  },
  {
   "cell_type": "code",
   "execution_count": 199,
   "metadata": {
    "ExecuteTime": {
     "end_time": "2019-02-25T08:32:35.920426Z",
     "start_time": "2019-02-25T08:32:35.911146Z"
    },
    "hidden": true
   },
   "outputs": [
    {
     "data": {
      "text/plain": [
       "0.9672179483742998"
      ]
     },
     "execution_count": 199,
     "metadata": {},
     "output_type": "execute_result"
    }
   ],
   "source": [
    "accuracy_score(y1_test, y1_hat_test)"
   ]
  },
  {
   "cell_type": "markdown",
   "metadata": {
    "heading_collapsed": true
   },
   "source": [
    "# submission"
   ]
  },
  {
   "cell_type": "code",
   "execution_count": 272,
   "metadata": {
    "ExecuteTime": {
     "end_time": "2019-02-25T08:56:02.769341Z",
     "start_time": "2019-02-25T08:56:01.873145Z"
    },
    "hidden": true
   },
   "outputs": [],
   "source": [
    "submission = pd.read_csv('../sample_submission_2.csv')\n",
    "req_uids = set(submission.user_id_hash)\n",
    "dates = df.week_start.dt.date.unique()\n",
    "dates.sort()"
   ]
  },
  {
   "cell_type": "code",
   "execution_count": 273,
   "metadata": {
    "ExecuteTime": {
     "end_time": "2019-02-25T08:56:02.774946Z",
     "start_time": "2019-02-25T08:56:02.771230Z"
    },
    "hidden": true
   },
   "outputs": [
    {
     "data": {
      "text/plain": [
       "array([datetime.date(2018, 10, 1), datetime.date(2018, 10, 8),\n",
       "       datetime.date(2018, 10, 15), datetime.date(2018, 10, 22),\n",
       "       datetime.date(2018, 10, 29), datetime.date(2018, 11, 5),\n",
       "       datetime.date(2018, 11, 12), datetime.date(2018, 11, 19),\n",
       "       datetime.date(2018, 11, 26), datetime.date(2018, 12, 3),\n",
       "       datetime.date(2018, 12, 10)], dtype=object)"
      ]
     },
     "execution_count": 273,
     "metadata": {},
     "output_type": "execute_result"
    }
   ],
   "source": [
    "dates"
   ]
  },
  {
   "cell_type": "code",
   "execution_count": 274,
   "metadata": {
    "ExecuteTime": {
     "end_time": "2019-02-25T08:56:02.797429Z",
     "start_time": "2019-02-25T08:56:02.776609Z"
    },
    "hidden": true
   },
   "outputs": [],
   "source": [
    "df.city = df.city.cat.codes\n",
    "df.country = df.country.cat.codes\n",
    "df.region = df.region.cat.codes\n",
    "df.os_name = df.os_name.cat.codes\n",
    "df.locale = df.locale.cat.codes\n",
    "df.is_user_first_session = df.is_user_first_session.astype(np.int)\n",
    "df['y1'] = df['y1'].astype(np.int)\n",
    "df['y2'] = df['y2'].astype(np.int)"
   ]
  },
  {
   "cell_type": "code",
   "execution_count": 275,
   "metadata": {
    "ExecuteTime": {
     "end_time": "2019-02-25T08:56:12.254237Z",
     "start_time": "2019-02-25T08:56:02.799299Z"
    },
    "hidden": true
   },
   "outputs": [
    {
     "name": "stdout",
     "output_type": "stream",
     "text": [
      "2018-11-12: (60272,)\n",
      "252296\n",
      "2018-11-05: (38866,)\n",
      "213430\n",
      "2018-10-29: (36634,)\n",
      "176796\n",
      "2018-10-22: (34592,)\n",
      "142204\n",
      "2018-10-15: (32697,)\n",
      "109507\n",
      "2018-10-08: (28160,)\n",
      "81347\n",
      "2018-10-01: (22252,)\n",
      "59095\n"
     ]
    }
   ],
   "source": [
    "req_uids = set(submission.user_id_hash)\n",
    "run_ids = req_uids\n",
    "predict_df = pd.DataFrame(columns=['user_id_hash',\n",
    "                                   'user_purchase_binary_7_days',\n",
    "                                   'user_purchase_binary_14_days'])\n",
    "\n",
    "for dts in reversed(dates[:-4]):\n",
    "    t = df.loc[(df.user_id_hash.isin(run_ids)) &\\\n",
    "                     (df.week_start == dts), feature_cols].values\n",
    "    cur_uids = df.loc[(df.user_id_hash.isin(run_ids)) &\\\n",
    "                     (df.week_start == dts), ['user_id_hash']].values\n",
    "\n",
    "    pp1 = xg_model1.predict_proba(t)\n",
    "    pp2 = xg_model1.predict_proba(t)\n",
    "\n",
    "    print(f'{dts}: {pp1[:, 1].shape}')\n",
    "    temp = pd.DataFrame(data={'user_id_hash': cur_uids.reshape(-1),\n",
    "                              'user_purchase_binary_7_days': pp1[:,1],\n",
    "                              'user_purchase_binary_14_days': pp2[:,1]})\n",
    "    predict_df = pd.concat([predict_df, temp])\n",
    "    run_ids = run_ids - set(cur_uids.reshape(-1))\n",
    "    print(len(list(run_ids)))"
   ]
  },
  {
   "cell_type": "code",
   "execution_count": 276,
   "metadata": {
    "ExecuteTime": {
     "end_time": "2019-02-25T08:56:12.559145Z",
     "start_time": "2019-02-25T08:56:12.256879Z"
    },
    "hidden": true
   },
   "outputs": [],
   "source": [
    "predict_df.drop_duplicates(inplace=True)"
   ]
  },
  {
   "cell_type": "code",
   "execution_count": 277,
   "metadata": {
    "ExecuteTime": {
     "end_time": "2019-02-25T08:56:13.012143Z",
     "start_time": "2019-02-25T08:56:12.561076Z"
    },
    "hidden": true
   },
   "outputs": [],
   "source": [
    "left_out = list(set(submission.user_id_hash.unique()) -\\\n",
    "                set(predict_df.user_id_hash.unique()))"
   ]
  },
  {
   "cell_type": "code",
   "execution_count": 278,
   "metadata": {
    "ExecuteTime": {
     "end_time": "2019-02-25T08:56:13.023433Z",
     "start_time": "2019-02-25T08:56:13.014553Z"
    },
    "hidden": true
   },
   "outputs": [
    {
     "data": {
      "text/plain": [
       "0.0004101187514606863"
      ]
     },
     "execution_count": 278,
     "metadata": {},
     "output_type": "execute_result"
    }
   ],
   "source": [
    "predict_df.user_purchase_binary_7_days.median()"
   ]
  },
  {
   "cell_type": "code",
   "execution_count": 279,
   "metadata": {
    "ExecuteTime": {
     "end_time": "2019-02-25T08:56:13.034169Z",
     "start_time": "2019-02-25T08:56:13.025765Z"
    },
    "hidden": true
   },
   "outputs": [
    {
     "data": {
      "text/plain": [
       "0.0002756034373305738"
      ]
     },
     "execution_count": 279,
     "metadata": {},
     "output_type": "execute_result"
    }
   ],
   "source": [
    "predict_df.user_purchase_binary_14_days.median()"
   ]
  },
  {
   "cell_type": "code",
   "execution_count": 280,
   "metadata": {
    "ExecuteTime": {
     "end_time": "2019-02-25T08:57:03.114073Z",
     "start_time": "2019-02-25T08:57:03.097845Z"
    },
    "hidden": true
   },
   "outputs": [],
   "source": [
    "temp = pd.DataFrame(data={'user_id_hash': left_out,\n",
    "                          'user_purchase_binary_7_days': 0.0004 * np.ones(len(left_out)),\n",
    "                          'user_purchase_binary_14_days': 0.0003 * np.ones(len(left_out))})"
   ]
  },
  {
   "cell_type": "code",
   "execution_count": 281,
   "metadata": {
    "ExecuteTime": {
     "end_time": "2019-02-25T08:57:06.022663Z",
     "start_time": "2019-02-25T08:57:05.985574Z"
    },
    "hidden": true
   },
   "outputs": [],
   "source": [
    "predict_df = pd.concat([predict_df, temp])"
   ]
  },
  {
   "cell_type": "code",
   "execution_count": 282,
   "metadata": {
    "ExecuteTime": {
     "end_time": "2019-02-25T08:57:12.770490Z",
     "start_time": "2019-02-25T08:57:11.262163Z"
    },
    "hidden": true
   },
   "outputs": [],
   "source": [
    "predict_df.to_csv('../5_sub.csv', index=False, float_format='%.3f')"
   ]
  },
  {
   "cell_type": "code",
   "execution_count": null,
   "metadata": {
    "hidden": true
   },
   "outputs": [],
   "source": []
  }
 ],
 "metadata": {
  "kernelspec": {
   "display_name": "Python 3",
   "language": "python",
   "name": "python3"
  },
  "language_info": {
   "codemirror_mode": {
    "name": "ipython",
    "version": 3
   },
   "file_extension": ".py",
   "mimetype": "text/x-python",
   "name": "python",
   "nbconvert_exporter": "python",
   "pygments_lexer": "ipython3",
   "version": "3.7.1"
  },
  "toc": {
   "base_numbering": 1,
   "nav_menu": {},
   "number_sections": true,
   "sideBar": true,
   "skip_h1_title": false,
   "title_cell": "Table of Contents",
   "title_sidebar": "Contents",
   "toc_cell": false,
   "toc_position": {
    "height": "calc(100% - 180px)",
    "left": "10px",
    "top": "150px",
    "width": "165px"
   },
   "toc_section_display": true,
   "toc_window_display": false
  }
 },
 "nbformat": 4,
 "nbformat_minor": 2
}
