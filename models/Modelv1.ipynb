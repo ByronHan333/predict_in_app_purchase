{
 "cells": [
  {
   "cell_type": "code",
   "execution_count": 1,
   "metadata": {
    "ExecuteTime": {
     "end_time": "2019-02-25T05:38:35.129386Z",
     "start_time": "2019-02-25T05:38:34.847977Z"
    }
   },
   "outputs": [],
   "source": [
    "import pandas as pd"
   ]
  },
  {
   "cell_type": "code",
   "execution_count": 3,
   "metadata": {
    "ExecuteTime": {
     "end_time": "2019-02-25T05:38:40.875704Z",
     "start_time": "2019-02-25T05:38:40.872769Z"
    }
   },
   "outputs": [],
   "source": [
    "results = pd.read_pickle('../result.pkl')\n",
    "features = pd.read_pickle('../transformed.pkl')\n",
    "user_age = pd.read_pickle('../user_age.pkl')\n",
    "user_time = pd.read_pickle('../user_time.pkl')"
   ]
  },
  {
   "cell_type": "code",
   "execution_count": 3,
   "metadata": {
    "ExecuteTime": {
     "end_time": "2019-02-19T04:56:50.672168Z",
     "start_time": "2019-02-19T04:56:47.142704Z"
    }
   },
   "outputs": [],
   "source": [
    "features = features.merge(user_age, on=['user_id_hash', 'week_start'], how='left')\n",
    "features = features.merge(user_time, on=['user_id_hash', 'week_start'], how='left')"
   ]
  },
  {
   "cell_type": "code",
   "execution_count": 4,
   "metadata": {
    "ExecuteTime": {
     "end_time": "2019-02-19T04:56:50.683289Z",
     "start_time": "2019-02-19T04:56:50.674428Z"
    }
   },
   "outputs": [
    {
     "data": {
      "text/plain": [
       "(62037, 3)"
      ]
     },
     "execution_count": 4,
     "metadata": {},
     "output_type": "execute_result"
    }
   ],
   "source": [
    "results.shape"
   ]
  },
  {
   "cell_type": "code",
   "execution_count": 5,
   "metadata": {
    "ExecuteTime": {
     "end_time": "2019-02-19T04:56:50.689880Z",
     "start_time": "2019-02-19T04:56:50.686245Z"
    }
   },
   "outputs": [
    {
     "data": {
      "text/plain": [
       "(995976, 16)"
      ]
     },
     "execution_count": 5,
     "metadata": {},
     "output_type": "execute_result"
    }
   ],
   "source": [
    "features.shape"
   ]
  },
  {
   "cell_type": "code",
   "execution_count": 6,
   "metadata": {
    "ExecuteTime": {
     "end_time": "2019-02-19T04:56:50.706723Z",
     "start_time": "2019-02-19T04:56:50.692458Z"
    }
   },
   "outputs": [
    {
     "data": {
      "text/html": [
       "<div>\n",
       "<style scoped>\n",
       "    .dataframe tbody tr th:only-of-type {\n",
       "        vertical-align: middle;\n",
       "    }\n",
       "\n",
       "    .dataframe tbody tr th {\n",
       "        vertical-align: top;\n",
       "    }\n",
       "\n",
       "    .dataframe thead th {\n",
       "        text-align: right;\n",
       "    }\n",
       "</style>\n",
       "<table border=\"1\" class=\"dataframe\">\n",
       "  <thead>\n",
       "    <tr style=\"text-align: right;\">\n",
       "      <th></th>\n",
       "      <th>0</th>\n",
       "      <th>1</th>\n",
       "      <th>2</th>\n",
       "    </tr>\n",
       "  </thead>\n",
       "  <tbody>\n",
       "    <tr>\n",
       "      <th>week_start</th>\n",
       "      <td>2018-10-01 00:00:00</td>\n",
       "      <td>2018-10-01 00:00:00</td>\n",
       "      <td>2018-10-01 00:00:00</td>\n",
       "    </tr>\n",
       "    <tr>\n",
       "      <th>user_id_hash</th>\n",
       "      <td>000062e9be78f3da274fec338e78f89d12000e781967f2...</td>\n",
       "      <td>00026e5050a70ef12d421f75c6a5c80d0f62d37acab8bd...</td>\n",
       "      <td>0003f8bda56230a49445880e559b718e94ba37344494a7...</td>\n",
       "    </tr>\n",
       "    <tr>\n",
       "      <th>city_x</th>\n",
       "      <td>5</td>\n",
       "      <td>2</td>\n",
       "      <td>2</td>\n",
       "    </tr>\n",
       "    <tr>\n",
       "      <th>city_y</th>\n",
       "      <td>campbell</td>\n",
       "      <td>douglasville</td>\n",
       "      <td>middlesboro</td>\n",
       "    </tr>\n",
       "    <tr>\n",
       "      <th>is_user_first_session</th>\n",
       "      <td>True</td>\n",
       "      <td>True</td>\n",
       "      <td>True</td>\n",
       "    </tr>\n",
       "    <tr>\n",
       "      <th>country</th>\n",
       "      <td>US</td>\n",
       "      <td>US</td>\n",
       "      <td>US</td>\n",
       "    </tr>\n",
       "    <tr>\n",
       "      <th>country_count</th>\n",
       "      <td>1</td>\n",
       "      <td>1</td>\n",
       "      <td>1</td>\n",
       "    </tr>\n",
       "    <tr>\n",
       "      <th>region</th>\n",
       "      <td>ca</td>\n",
       "      <td>ga</td>\n",
       "      <td>ky</td>\n",
       "    </tr>\n",
       "    <tr>\n",
       "      <th>region_count</th>\n",
       "      <td>1</td>\n",
       "      <td>1</td>\n",
       "      <td>1</td>\n",
       "    </tr>\n",
       "    <tr>\n",
       "      <th>locale</th>\n",
       "      <td>en_US</td>\n",
       "      <td>en_US</td>\n",
       "      <td>en_US</td>\n",
       "    </tr>\n",
       "    <tr>\n",
       "      <th>os_name</th>\n",
       "      <td>Android OS</td>\n",
       "      <td>Android OS</td>\n",
       "      <td>Android OS</td>\n",
       "    </tr>\n",
       "    <tr>\n",
       "      <th>user_days</th>\n",
       "      <td>1</td>\n",
       "      <td>2</td>\n",
       "      <td>2</td>\n",
       "    </tr>\n",
       "    <tr>\n",
       "      <th>total_session_time</th>\n",
       "      <td>4730609</td>\n",
       "      <td>403432</td>\n",
       "      <td>150138</td>\n",
       "    </tr>\n",
       "    <tr>\n",
       "      <th>mean_session_time</th>\n",
       "      <td>946122</td>\n",
       "      <td>201716</td>\n",
       "      <td>75069</td>\n",
       "    </tr>\n",
       "    <tr>\n",
       "      <th>user_age</th>\n",
       "      <td>0</td>\n",
       "      <td>0</td>\n",
       "      <td>0</td>\n",
       "    </tr>\n",
       "    <tr>\n",
       "      <th>user_time</th>\n",
       "      <td>10</td>\n",
       "      <td>18</td>\n",
       "      <td>19</td>\n",
       "    </tr>\n",
       "  </tbody>\n",
       "</table>\n",
       "</div>"
      ],
      "text/plain": [
       "                                                                       0  \\\n",
       "week_start                                           2018-10-01 00:00:00   \n",
       "user_id_hash           000062e9be78f3da274fec338e78f89d12000e781967f2...   \n",
       "city_x                                                                 5   \n",
       "city_y                                                          campbell   \n",
       "is_user_first_session                                               True   \n",
       "country                                                               US   \n",
       "country_count                                                          1   \n",
       "region                                                                ca   \n",
       "region_count                                                           1   \n",
       "locale                                                             en_US   \n",
       "os_name                                                       Android OS   \n",
       "user_days                                                              1   \n",
       "total_session_time                                               4730609   \n",
       "mean_session_time                                                 946122   \n",
       "user_age                                                               0   \n",
       "user_time                                                             10   \n",
       "\n",
       "                                                                       1  \\\n",
       "week_start                                           2018-10-01 00:00:00   \n",
       "user_id_hash           00026e5050a70ef12d421f75c6a5c80d0f62d37acab8bd...   \n",
       "city_x                                                                 2   \n",
       "city_y                                                      douglasville   \n",
       "is_user_first_session                                               True   \n",
       "country                                                               US   \n",
       "country_count                                                          1   \n",
       "region                                                                ga   \n",
       "region_count                                                           1   \n",
       "locale                                                             en_US   \n",
       "os_name                                                       Android OS   \n",
       "user_days                                                              2   \n",
       "total_session_time                                                403432   \n",
       "mean_session_time                                                 201716   \n",
       "user_age                                                               0   \n",
       "user_time                                                             18   \n",
       "\n",
       "                                                                       2  \n",
       "week_start                                           2018-10-01 00:00:00  \n",
       "user_id_hash           0003f8bda56230a49445880e559b718e94ba37344494a7...  \n",
       "city_x                                                                 2  \n",
       "city_y                                                       middlesboro  \n",
       "is_user_first_session                                               True  \n",
       "country                                                               US  \n",
       "country_count                                                          1  \n",
       "region                                                                ky  \n",
       "region_count                                                           1  \n",
       "locale                                                             en_US  \n",
       "os_name                                                       Android OS  \n",
       "user_days                                                              2  \n",
       "total_session_time                                                150138  \n",
       "mean_session_time                                                  75069  \n",
       "user_age                                                               0  \n",
       "user_time                                                             19  "
      ]
     },
     "execution_count": 6,
     "metadata": {},
     "output_type": "execute_result"
    }
   ],
   "source": [
    "features.head(3).T"
   ]
  },
  {
   "cell_type": "code",
   "execution_count": 7,
   "metadata": {
    "ExecuteTime": {
     "end_time": "2019-02-19T04:56:51.340035Z",
     "start_time": "2019-02-19T04:56:50.708317Z"
    }
   },
   "outputs": [],
   "source": [
    "features.rename(columns={'city_x': 'no_of_citys', 'city_y': 'city'}, inplace=True)"
   ]
  },
  {
   "cell_type": "code",
   "execution_count": 8,
   "metadata": {
    "ExecuteTime": {
     "end_time": "2019-02-19T04:56:51.350838Z",
     "start_time": "2019-02-19T04:56:51.341901Z"
    }
   },
   "outputs": [
    {
     "data": {
      "text/html": [
       "<div>\n",
       "<style scoped>\n",
       "    .dataframe tbody tr th:only-of-type {\n",
       "        vertical-align: middle;\n",
       "    }\n",
       "\n",
       "    .dataframe tbody tr th {\n",
       "        vertical-align: top;\n",
       "    }\n",
       "\n",
       "    .dataframe thead th {\n",
       "        text-align: right;\n",
       "    }\n",
       "</style>\n",
       "<table border=\"1\" class=\"dataframe\">\n",
       "  <thead>\n",
       "    <tr style=\"text-align: right;\">\n",
       "      <th></th>\n",
       "      <th>0</th>\n",
       "      <th>1</th>\n",
       "      <th>2</th>\n",
       "    </tr>\n",
       "  </thead>\n",
       "  <tbody>\n",
       "    <tr>\n",
       "      <th>week_start</th>\n",
       "      <td>2018-10-01 00:00:00</td>\n",
       "      <td>2018-10-01 00:00:00</td>\n",
       "      <td>2018-10-01 00:00:00</td>\n",
       "    </tr>\n",
       "    <tr>\n",
       "      <th>user_id_hash</th>\n",
       "      <td>001c2d06972b17ee6a075ff9fbdae33eccb0bbf28357ea...</td>\n",
       "      <td>0026497d2043c8530220eeb8e66051982cc6df3139a9b0...</td>\n",
       "      <td>006b49314baf054c636e7448d4f9b0df046aae9e9c17d0...</td>\n",
       "    </tr>\n",
       "    <tr>\n",
       "      <th>event</th>\n",
       "      <td>1</td>\n",
       "      <td>3</td>\n",
       "      <td>10</td>\n",
       "    </tr>\n",
       "  </tbody>\n",
       "</table>\n",
       "</div>"
      ],
      "text/plain": [
       "                                                              0  \\\n",
       "week_start                                  2018-10-01 00:00:00   \n",
       "user_id_hash  001c2d06972b17ee6a075ff9fbdae33eccb0bbf28357ea...   \n",
       "event                                                         1   \n",
       "\n",
       "                                                              1  \\\n",
       "week_start                                  2018-10-01 00:00:00   \n",
       "user_id_hash  0026497d2043c8530220eeb8e66051982cc6df3139a9b0...   \n",
       "event                                                         3   \n",
       "\n",
       "                                                              2  \n",
       "week_start                                  2018-10-01 00:00:00  \n",
       "user_id_hash  006b49314baf054c636e7448d4f9b0df046aae9e9c17d0...  \n",
       "event                                                        10  "
      ]
     },
     "execution_count": 8,
     "metadata": {},
     "output_type": "execute_result"
    }
   ],
   "source": [
    "results.head(3).T"
   ]
  },
  {
   "cell_type": "code",
   "execution_count": 9,
   "metadata": {
    "ExecuteTime": {
     "end_time": "2019-02-19T04:56:51.355560Z",
     "start_time": "2019-02-19T04:56:51.352663Z"
    }
   },
   "outputs": [],
   "source": [
    "import datetime as dt"
   ]
  },
  {
   "cell_type": "code",
   "execution_count": 10,
   "metadata": {
    "ExecuteTime": {
     "end_time": "2019-02-19T04:56:51.386679Z",
     "start_time": "2019-02-19T04:56:51.357289Z"
    }
   },
   "outputs": [
    {
     "data": {
      "text/plain": [
       "array([datetime.date(2018, 10, 1), datetime.date(2018, 10, 8),\n",
       "       datetime.date(2018, 10, 15), datetime.date(2018, 10, 22),\n",
       "       datetime.date(2018, 10, 29), datetime.date(2018, 11, 5),\n",
       "       datetime.date(2018, 11, 12), datetime.date(2018, 11, 19),\n",
       "       datetime.date(2018, 11, 26), datetime.date(2018, 12, 3),\n",
       "       datetime.date(2018, 12, 10)], dtype=object)"
      ]
     },
     "execution_count": 10,
     "metadata": {},
     "output_type": "execute_result"
    }
   ],
   "source": [
    "results.week_start.dt.date.unique()"
   ]
  },
  {
   "cell_type": "code",
   "execution_count": 11,
   "metadata": {
    "ExecuteTime": {
     "end_time": "2019-02-19T04:56:51.770387Z",
     "start_time": "2019-02-19T04:56:51.388441Z"
    }
   },
   "outputs": [
    {
     "data": {
      "text/plain": [
       "array([datetime.date(2018, 10, 1), datetime.date(2018, 10, 8),\n",
       "       datetime.date(2018, 10, 15), datetime.date(2018, 10, 22),\n",
       "       datetime.date(2018, 10, 29), datetime.date(2018, 11, 5),\n",
       "       datetime.date(2018, 11, 12), datetime.date(2018, 11, 19),\n",
       "       datetime.date(2018, 11, 26), datetime.date(2018, 12, 3),\n",
       "       datetime.date(2018, 12, 10)], dtype=object)"
      ]
     },
     "execution_count": 11,
     "metadata": {},
     "output_type": "execute_result"
    }
   ],
   "source": [
    "features.week_start.dt.date.unique()"
   ]
  },
  {
   "cell_type": "code",
   "execution_count": 12,
   "metadata": {
    "ExecuteTime": {
     "end_time": "2019-02-19T04:56:52.296580Z",
     "start_time": "2019-02-19T04:56:51.772294Z"
    }
   },
   "outputs": [],
   "source": [
    "results1 = results.copy(deep=True)\n",
    "results1.week_start = results1.week_start.apply(lambda x: x- dt.timedelta(days=7))"
   ]
  },
  {
   "cell_type": "code",
   "execution_count": 13,
   "metadata": {
    "ExecuteTime": {
     "end_time": "2019-02-19T04:56:52.797932Z",
     "start_time": "2019-02-19T04:56:52.298962Z"
    }
   },
   "outputs": [],
   "source": [
    "results2 = results.copy(deep=True)\n",
    "results2.week_start = results2.week_start.apply(lambda x: x - dt.timedelta(days=14))"
   ]
  },
  {
   "cell_type": "code",
   "execution_count": 14,
   "metadata": {
    "ExecuteTime": {
     "end_time": "2019-02-19T04:56:52.805756Z",
     "start_time": "2019-02-19T04:56:52.800200Z"
    }
   },
   "outputs": [
    {
     "data": {
      "text/plain": [
       "array(['2018-09-24T00:00:00.000000000', '2018-10-01T00:00:00.000000000',\n",
       "       '2018-10-08T00:00:00.000000000', '2018-10-15T00:00:00.000000000',\n",
       "       '2018-10-22T00:00:00.000000000', '2018-10-29T00:00:00.000000000',\n",
       "       '2018-11-05T00:00:00.000000000', '2018-11-12T00:00:00.000000000',\n",
       "       '2018-11-19T00:00:00.000000000', '2018-11-26T00:00:00.000000000',\n",
       "       '2018-12-03T00:00:00.000000000'], dtype='datetime64[ns]')"
      ]
     },
     "execution_count": 14,
     "metadata": {},
     "output_type": "execute_result"
    }
   ],
   "source": [
    "results1.week_start.unique()"
   ]
  },
  {
   "cell_type": "code",
   "execution_count": 15,
   "metadata": {
    "ExecuteTime": {
     "end_time": "2019-02-19T04:56:52.818740Z",
     "start_time": "2019-02-19T04:56:52.809690Z"
    }
   },
   "outputs": [
    {
     "data": {
      "text/html": [
       "<div>\n",
       "<style scoped>\n",
       "    .dataframe tbody tr th:only-of-type {\n",
       "        vertical-align: middle;\n",
       "    }\n",
       "\n",
       "    .dataframe tbody tr th {\n",
       "        vertical-align: top;\n",
       "    }\n",
       "\n",
       "    .dataframe thead th {\n",
       "        text-align: right;\n",
       "    }\n",
       "</style>\n",
       "<table border=\"1\" class=\"dataframe\">\n",
       "  <thead>\n",
       "    <tr style=\"text-align: right;\">\n",
       "      <th></th>\n",
       "      <th>week_start</th>\n",
       "      <th>user_id_hash</th>\n",
       "      <th>event</th>\n",
       "    </tr>\n",
       "  </thead>\n",
       "  <tbody>\n",
       "    <tr>\n",
       "      <th>0</th>\n",
       "      <td>2018-10-01</td>\n",
       "      <td>001c2d06972b17ee6a075ff9fbdae33eccb0bbf28357ea...</td>\n",
       "      <td>1</td>\n",
       "    </tr>\n",
       "    <tr>\n",
       "      <th>1</th>\n",
       "      <td>2018-10-01</td>\n",
       "      <td>0026497d2043c8530220eeb8e66051982cc6df3139a9b0...</td>\n",
       "      <td>3</td>\n",
       "    </tr>\n",
       "    <tr>\n",
       "      <th>2</th>\n",
       "      <td>2018-10-01</td>\n",
       "      <td>006b49314baf054c636e7448d4f9b0df046aae9e9c17d0...</td>\n",
       "      <td>10</td>\n",
       "    </tr>\n",
       "    <tr>\n",
       "      <th>3</th>\n",
       "      <td>2018-10-01</td>\n",
       "      <td>007327aa3a27718c76e6cd73c3971304280c8856f62940...</td>\n",
       "      <td>1</td>\n",
       "    </tr>\n",
       "    <tr>\n",
       "      <th>4</th>\n",
       "      <td>2018-10-01</td>\n",
       "      <td>0088d9be17b2ec4b3621150117a0ede815547d4241eae1...</td>\n",
       "      <td>2</td>\n",
       "    </tr>\n",
       "  </tbody>\n",
       "</table>\n",
       "</div>"
      ],
      "text/plain": [
       "  week_start                                       user_id_hash  event\n",
       "0 2018-10-01  001c2d06972b17ee6a075ff9fbdae33eccb0bbf28357ea...      1\n",
       "1 2018-10-01  0026497d2043c8530220eeb8e66051982cc6df3139a9b0...      3\n",
       "2 2018-10-01  006b49314baf054c636e7448d4f9b0df046aae9e9c17d0...     10\n",
       "3 2018-10-01  007327aa3a27718c76e6cd73c3971304280c8856f62940...      1\n",
       "4 2018-10-01  0088d9be17b2ec4b3621150117a0ede815547d4241eae1...      2"
      ]
     },
     "execution_count": 15,
     "metadata": {},
     "output_type": "execute_result"
    }
   ],
   "source": [
    "results.head()"
   ]
  },
  {
   "cell_type": "code",
   "execution_count": 16,
   "metadata": {
    "ExecuteTime": {
     "end_time": "2019-02-19T04:56:52.829976Z",
     "start_time": "2019-02-19T04:56:52.821562Z"
    }
   },
   "outputs": [
    {
     "data": {
      "text/html": [
       "<div>\n",
       "<style scoped>\n",
       "    .dataframe tbody tr th:only-of-type {\n",
       "        vertical-align: middle;\n",
       "    }\n",
       "\n",
       "    .dataframe tbody tr th {\n",
       "        vertical-align: top;\n",
       "    }\n",
       "\n",
       "    .dataframe thead th {\n",
       "        text-align: right;\n",
       "    }\n",
       "</style>\n",
       "<table border=\"1\" class=\"dataframe\">\n",
       "  <thead>\n",
       "    <tr style=\"text-align: right;\">\n",
       "      <th></th>\n",
       "      <th>week_start</th>\n",
       "      <th>user_id_hash</th>\n",
       "      <th>event</th>\n",
       "    </tr>\n",
       "  </thead>\n",
       "  <tbody>\n",
       "    <tr>\n",
       "      <th>62032</th>\n",
       "      <td>2018-12-03</td>\n",
       "      <td>ff8d2794885fc61aebd2416673ae2aeb588ea757d955b5...</td>\n",
       "      <td>1</td>\n",
       "    </tr>\n",
       "    <tr>\n",
       "      <th>62033</th>\n",
       "      <td>2018-12-03</td>\n",
       "      <td>ff8e51e5f39da30f3a38769d3f033889fd7710f131b888...</td>\n",
       "      <td>1</td>\n",
       "    </tr>\n",
       "    <tr>\n",
       "      <th>62034</th>\n",
       "      <td>2018-12-03</td>\n",
       "      <td>ff9155775b03810877a803dae6b4d68ee52824112bd1ac...</td>\n",
       "      <td>1</td>\n",
       "    </tr>\n",
       "    <tr>\n",
       "      <th>62035</th>\n",
       "      <td>2018-12-03</td>\n",
       "      <td>ffadf7fff78bb50fd0661da34dec64c47df9ef035a7570...</td>\n",
       "      <td>1</td>\n",
       "    </tr>\n",
       "    <tr>\n",
       "      <th>62036</th>\n",
       "      <td>2018-12-03</td>\n",
       "      <td>ffcc1d3c6d428afed50567e1dac683a6ab29f744bbb0a4...</td>\n",
       "      <td>2</td>\n",
       "    </tr>\n",
       "  </tbody>\n",
       "</table>\n",
       "</div>"
      ],
      "text/plain": [
       "      week_start                                       user_id_hash  event\n",
       "62032 2018-12-03  ff8d2794885fc61aebd2416673ae2aeb588ea757d955b5...      1\n",
       "62033 2018-12-03  ff8e51e5f39da30f3a38769d3f033889fd7710f131b888...      1\n",
       "62034 2018-12-03  ff9155775b03810877a803dae6b4d68ee52824112bd1ac...      1\n",
       "62035 2018-12-03  ffadf7fff78bb50fd0661da34dec64c47df9ef035a7570...      1\n",
       "62036 2018-12-03  ffcc1d3c6d428afed50567e1dac683a6ab29f744bbb0a4...      2"
      ]
     },
     "execution_count": 16,
     "metadata": {},
     "output_type": "execute_result"
    }
   ],
   "source": [
    "results1.tail()"
   ]
  },
  {
   "cell_type": "code",
   "execution_count": 17,
   "metadata": {
    "ExecuteTime": {
     "end_time": "2019-02-19T04:56:52.840413Z",
     "start_time": "2019-02-19T04:56:52.832195Z"
    }
   },
   "outputs": [
    {
     "data": {
      "text/html": [
       "<div>\n",
       "<style scoped>\n",
       "    .dataframe tbody tr th:only-of-type {\n",
       "        vertical-align: middle;\n",
       "    }\n",
       "\n",
       "    .dataframe tbody tr th {\n",
       "        vertical-align: top;\n",
       "    }\n",
       "\n",
       "    .dataframe thead th {\n",
       "        text-align: right;\n",
       "    }\n",
       "</style>\n",
       "<table border=\"1\" class=\"dataframe\">\n",
       "  <thead>\n",
       "    <tr style=\"text-align: right;\">\n",
       "      <th></th>\n",
       "      <th>week_start</th>\n",
       "      <th>user_id_hash</th>\n",
       "      <th>event</th>\n",
       "    </tr>\n",
       "  </thead>\n",
       "  <tbody>\n",
       "    <tr>\n",
       "      <th>62032</th>\n",
       "      <td>2018-11-26</td>\n",
       "      <td>ff8d2794885fc61aebd2416673ae2aeb588ea757d955b5...</td>\n",
       "      <td>1</td>\n",
       "    </tr>\n",
       "    <tr>\n",
       "      <th>62033</th>\n",
       "      <td>2018-11-26</td>\n",
       "      <td>ff8e51e5f39da30f3a38769d3f033889fd7710f131b888...</td>\n",
       "      <td>1</td>\n",
       "    </tr>\n",
       "    <tr>\n",
       "      <th>62034</th>\n",
       "      <td>2018-11-26</td>\n",
       "      <td>ff9155775b03810877a803dae6b4d68ee52824112bd1ac...</td>\n",
       "      <td>1</td>\n",
       "    </tr>\n",
       "    <tr>\n",
       "      <th>62035</th>\n",
       "      <td>2018-11-26</td>\n",
       "      <td>ffadf7fff78bb50fd0661da34dec64c47df9ef035a7570...</td>\n",
       "      <td>1</td>\n",
       "    </tr>\n",
       "    <tr>\n",
       "      <th>62036</th>\n",
       "      <td>2018-11-26</td>\n",
       "      <td>ffcc1d3c6d428afed50567e1dac683a6ab29f744bbb0a4...</td>\n",
       "      <td>2</td>\n",
       "    </tr>\n",
       "  </tbody>\n",
       "</table>\n",
       "</div>"
      ],
      "text/plain": [
       "      week_start                                       user_id_hash  event\n",
       "62032 2018-11-26  ff8d2794885fc61aebd2416673ae2aeb588ea757d955b5...      1\n",
       "62033 2018-11-26  ff8e51e5f39da30f3a38769d3f033889fd7710f131b888...      1\n",
       "62034 2018-11-26  ff9155775b03810877a803dae6b4d68ee52824112bd1ac...      1\n",
       "62035 2018-11-26  ffadf7fff78bb50fd0661da34dec64c47df9ef035a7570...      1\n",
       "62036 2018-11-26  ffcc1d3c6d428afed50567e1dac683a6ab29f744bbb0a4...      2"
      ]
     },
     "execution_count": 17,
     "metadata": {},
     "output_type": "execute_result"
    }
   ],
   "source": [
    "results2.tail()"
   ]
  },
  {
   "cell_type": "code",
   "execution_count": 18,
   "metadata": {
    "ExecuteTime": {
     "end_time": "2019-02-19T04:56:53.385199Z",
     "start_time": "2019-02-19T04:56:52.842683Z"
    }
   },
   "outputs": [],
   "source": [
    "uf = features.user_id_hash.unique()"
   ]
  },
  {
   "cell_type": "code",
   "execution_count": 19,
   "metadata": {
    "ExecuteTime": {
     "end_time": "2019-02-19T04:56:53.408175Z",
     "start_time": "2019-02-19T04:56:53.387498Z"
    }
   },
   "outputs": [],
   "source": [
    "ur = results.user_id_hash.unique()"
   ]
  },
  {
   "cell_type": "code",
   "execution_count": 20,
   "metadata": {
    "ExecuteTime": {
     "end_time": "2019-02-19T04:56:53.414507Z",
     "start_time": "2019-02-19T04:56:53.410367Z"
    }
   },
   "outputs": [
    {
     "data": {
      "text/plain": [
       "(619519,)"
      ]
     },
     "execution_count": 20,
     "metadata": {},
     "output_type": "execute_result"
    }
   ],
   "source": [
    "uf.shape"
   ]
  },
  {
   "cell_type": "code",
   "execution_count": 21,
   "metadata": {
    "ExecuteTime": {
     "end_time": "2019-02-19T04:56:53.421473Z",
     "start_time": "2019-02-19T04:56:53.417715Z"
    }
   },
   "outputs": [
    {
     "data": {
      "text/plain": [
       "(34200,)"
      ]
     },
     "execution_count": 21,
     "metadata": {},
     "output_type": "execute_result"
    }
   ],
   "source": [
    "ur.shape"
   ]
  },
  {
   "cell_type": "code",
   "execution_count": 22,
   "metadata": {
    "ExecuteTime": {
     "end_time": "2019-02-19T04:56:54.642049Z",
     "start_time": "2019-02-19T04:56:54.637539Z"
    }
   },
   "outputs": [
    {
     "data": {
      "text/plain": [
       "(995976, 16)"
      ]
     },
     "execution_count": 22,
     "metadata": {},
     "output_type": "execute_result"
    }
   ],
   "source": [
    "features.shape"
   ]
  },
  {
   "cell_type": "code",
   "execution_count": 23,
   "metadata": {
    "ExecuteTime": {
     "end_time": "2019-02-19T04:56:56.876342Z",
     "start_time": "2019-02-19T04:56:55.079490Z"
    },
    "scrolled": false
   },
   "outputs": [],
   "source": [
    "features = features.merge(results, on=['user_id_hash', 'week_start'], how='left')"
   ]
  },
  {
   "cell_type": "code",
   "execution_count": 24,
   "metadata": {
    "ExecuteTime": {
     "end_time": "2019-02-19T04:56:57.501319Z",
     "start_time": "2019-02-19T04:56:56.879420Z"
    }
   },
   "outputs": [],
   "source": [
    "features.rename(columns={'event': 'purchase'}, inplace=True)"
   ]
  },
  {
   "cell_type": "code",
   "execution_count": 25,
   "metadata": {
    "ExecuteTime": {
     "end_time": "2019-02-19T04:56:58.094933Z",
     "start_time": "2019-02-19T04:56:57.503494Z"
    }
   },
   "outputs": [],
   "source": [
    "features.fillna(0, inplace=True)"
   ]
  },
  {
   "cell_type": "code",
   "execution_count": 26,
   "metadata": {
    "ExecuteTime": {
     "end_time": "2019-02-19T04:56:59.928277Z",
     "start_time": "2019-02-19T04:56:58.098560Z"
    }
   },
   "outputs": [],
   "source": [
    "features = features.merge(results1, on=['user_id_hash', 'week_start'], how='left')"
   ]
  },
  {
   "cell_type": "code",
   "execution_count": 27,
   "metadata": {
    "ExecuteTime": {
     "end_time": "2019-02-19T04:57:00.728625Z",
     "start_time": "2019-02-19T04:56:59.931120Z"
    }
   },
   "outputs": [],
   "source": [
    "features.rename(columns={'event': 'y1'}, inplace=True)"
   ]
  },
  {
   "cell_type": "code",
   "execution_count": 28,
   "metadata": {
    "ExecuteTime": {
     "end_time": "2019-02-19T04:57:02.370243Z",
     "start_time": "2019-02-19T04:57:00.730785Z"
    }
   },
   "outputs": [],
   "source": [
    "features = features.merge(results2, on=['user_id_hash', 'week_start'], how='left')"
   ]
  },
  {
   "cell_type": "code",
   "execution_count": 29,
   "metadata": {
    "ExecuteTime": {
     "end_time": "2019-02-19T04:57:03.016160Z",
     "start_time": "2019-02-19T04:57:02.372290Z"
    }
   },
   "outputs": [],
   "source": [
    "features.rename(columns={'event': 'y2'}, inplace=True)"
   ]
  },
  {
   "cell_type": "code",
   "execution_count": 30,
   "metadata": {
    "ExecuteTime": {
     "end_time": "2019-02-19T04:57:03.024998Z",
     "start_time": "2019-02-19T04:57:03.018371Z"
    }
   },
   "outputs": [],
   "source": [
    "features['y1'].fillna(0, inplace=True)"
   ]
  },
  {
   "cell_type": "code",
   "execution_count": 31,
   "metadata": {
    "ExecuteTime": {
     "end_time": "2019-02-19T04:57:03.033908Z",
     "start_time": "2019-02-19T04:57:03.026914Z"
    }
   },
   "outputs": [],
   "source": [
    "features['y2'].fillna(0, inplace=True)"
   ]
  },
  {
   "cell_type": "code",
   "execution_count": 32,
   "metadata": {
    "ExecuteTime": {
     "end_time": "2019-02-19T04:57:03.046944Z",
     "start_time": "2019-02-19T04:57:03.035963Z"
    }
   },
   "outputs": [],
   "source": [
    "features['y2'] = features['y1'] + features['y2']"
   ]
  },
  {
   "cell_type": "code",
   "execution_count": 33,
   "metadata": {
    "ExecuteTime": {
     "end_time": "2019-02-19T04:57:03.056108Z",
     "start_time": "2019-02-19T04:57:03.049365Z"
    }
   },
   "outputs": [],
   "source": [
    "features['y1'] = features['y1'] > 0"
   ]
  },
  {
   "cell_type": "code",
   "execution_count": 34,
   "metadata": {
    "ExecuteTime": {
     "end_time": "2019-02-19T04:57:03.063755Z",
     "start_time": "2019-02-19T04:57:03.058115Z"
    }
   },
   "outputs": [],
   "source": [
    "features['y2'] = features['y2'] > 0"
   ]
  },
  {
   "cell_type": "code",
   "execution_count": 35,
   "metadata": {
    "ExecuteTime": {
     "end_time": "2019-02-19T04:57:03.071234Z",
     "start_time": "2019-02-19T04:57:03.065955Z"
    },
    "scrolled": false
   },
   "outputs": [
    {
     "data": {
      "text/plain": [
       "week_start               datetime64[ns]\n",
       "user_id_hash                     object\n",
       "no_of_citys                       int64\n",
       "city                             object\n",
       "is_user_first_session              bool\n",
       "country                          object\n",
       "country_count                     int64\n",
       "region                           object\n",
       "region_count                      int64\n",
       "locale                           object\n",
       "os_name                          object\n",
       "user_days                         int64\n",
       "total_session_time                int64\n",
       "mean_session_time               float64\n",
       "user_age                          int64\n",
       "user_time                         int64\n",
       "purchase                        float64\n",
       "y1                                 bool\n",
       "y2                                 bool\n",
       "dtype: object"
      ]
     },
     "execution_count": 35,
     "metadata": {},
     "output_type": "execute_result"
    }
   ],
   "source": [
    "features.dtypes"
   ]
  },
  {
   "cell_type": "code",
   "execution_count": 36,
   "metadata": {
    "ExecuteTime": {
     "end_time": "2019-02-19T04:57:03.456289Z",
     "start_time": "2019-02-19T04:57:03.074936Z"
    }
   },
   "outputs": [
    {
     "data": {
      "text/plain": [
       "array([datetime.date(2018, 10, 1), datetime.date(2018, 10, 8),\n",
       "       datetime.date(2018, 10, 15), datetime.date(2018, 10, 22),\n",
       "       datetime.date(2018, 10, 29), datetime.date(2018, 11, 5),\n",
       "       datetime.date(2018, 11, 12), datetime.date(2018, 11, 19),\n",
       "       datetime.date(2018, 11, 26), datetime.date(2018, 12, 3),\n",
       "       datetime.date(2018, 12, 10)], dtype=object)"
      ]
     },
     "execution_count": 36,
     "metadata": {},
     "output_type": "execute_result"
    }
   ],
   "source": [
    "features.week_start.dt.date.unique()"
   ]
  },
  {
   "cell_type": "markdown",
   "metadata": {},
   "source": [
    "# Test Train Split"
   ]
  },
  {
   "cell_type": "code",
   "execution_count": 37,
   "metadata": {
    "ExecuteTime": {
     "end_time": "2019-02-19T04:57:03.918930Z",
     "start_time": "2019-02-19T04:57:03.458827Z"
    }
   },
   "outputs": [],
   "source": [
    "from sklearn.model_selection import KFold\n",
    "\n",
    "def reg_target_encoding(train, col = \"device_type\", splits=5):\n",
    "    \"\"\" Computes regularize mean encoding.\n",
    "    Inputs:\n",
    "       train: training dataframe\n",
    "       \n",
    "    \"\"\"\n",
    "    ksplit = KFold(n_splits=splits)\n",
    "    for tidx, vidx in ksplit.split(train):\n",
    "        mean_val = train.iloc[tidx, :].groupby(col)['y1'].mean()\n",
    "        global_mean_val = train.iloc[tidx, :]['y1'].mean()\n",
    "        train.loc[vidx, col + \"_mean_enc\"] = train.iloc[vidx, :][col].map(mean_val)\n",
    "        train.loc[vidx, col + \"_mean_enc\"].fillna(global_mean_val, inplace=True)\n",
    "    return None"
   ]
  },
  {
   "cell_type": "code",
   "execution_count": 38,
   "metadata": {
    "ExecuteTime": {
     "end_time": "2019-02-19T04:57:03.926296Z",
     "start_time": "2019-02-19T04:57:03.921634Z"
    }
   },
   "outputs": [],
   "source": [
    "def mean_encoding_test(test, train, col = \"device_type\"):\n",
    "    \"\"\" Computes target enconding for test data.\n",
    "    \n",
    "    This is similar to how we do validation\n",
    "    \"\"\"\n",
    "    mean_device_type = train.groupby(col)['y1'].mean()\n",
    "    global_mean = train['y1'].mean()\n",
    "    test[col + \"_mean_enc\"] = test[col].map(mean_device_type)\n",
    "    test[col + \"_mean_enc\"].fillna(global_mean, inplace=True)\n",
    "    return None"
   ]
  },
  {
   "cell_type": "code",
   "execution_count": 39,
   "metadata": {
    "ExecuteTime": {
     "end_time": "2019-02-19T04:57:16.690441Z",
     "start_time": "2019-02-19T04:57:15.871556Z"
    }
   },
   "outputs": [],
   "source": [
    "features.city = features.city.astype('category')\n",
    "features.country = features.country.astype('category')\n",
    "features.region = features.region.astype('category')\n",
    "features.locale = features.locale.astype('category')\n",
    "features.os_name = features.os_name.astype('category')"
   ]
  },
  {
   "cell_type": "code",
   "execution_count": 40,
   "metadata": {
    "ExecuteTime": {
     "end_time": "2019-02-19T04:57:29.064169Z",
     "start_time": "2019-02-19T04:57:29.060985Z"
    }
   },
   "outputs": [],
   "source": [
    "import numpy as np"
   ]
  },
  {
   "cell_type": "code",
   "execution_count": 41,
   "metadata": {
    "ExecuteTime": {
     "end_time": "2019-02-19T04:57:30.133389Z",
     "start_time": "2019-02-19T04:57:30.022892Z"
    }
   },
   "outputs": [],
   "source": [
    "train = features[features.week_start < '2018, 12, 3']\n",
    "test = features[features.week_start >= '2018, 12, 3']"
   ]
  },
  {
   "cell_type": "code",
   "execution_count": 42,
   "metadata": {
    "ExecuteTime": {
     "end_time": "2019-02-19T04:57:34.392218Z",
     "start_time": "2019-02-19T04:57:32.375459Z"
    }
   },
   "outputs": [
    {
     "name": "stderr",
     "output_type": "stream",
     "text": [
      "/home/jupyter/anaconda3/lib/python3.7/site-packages/pandas/core/indexing.py:362: SettingWithCopyWarning: \n",
      "A value is trying to be set on a copy of a slice from a DataFrame.\n",
      "Try using .loc[row_indexer,col_indexer] = value instead\n",
      "\n",
      "See the caveats in the documentation: http://pandas.pydata.org/pandas-docs/stable/indexing.html#indexing-view-versus-copy\n",
      "  self.obj[key] = _infer_fill_value(value)\n",
      "/home/jupyter/anaconda3/lib/python3.7/site-packages/pandas/core/indexing.py:543: SettingWithCopyWarning: \n",
      "A value is trying to be set on a copy of a slice from a DataFrame.\n",
      "Try using .loc[row_indexer,col_indexer] = value instead\n",
      "\n",
      "See the caveats in the documentation: http://pandas.pydata.org/pandas-docs/stable/indexing.html#indexing-view-versus-copy\n",
      "  self.obj[item] = s\n",
      "/home/jupyter/anaconda3/lib/python3.7/site-packages/ipykernel_launcher.py:8: SettingWithCopyWarning: \n",
      "A value is trying to be set on a copy of a slice from a DataFrame.\n",
      "Try using .loc[row_indexer,col_indexer] = value instead\n",
      "\n",
      "See the caveats in the documentation: http://pandas.pydata.org/pandas-docs/stable/indexing.html#indexing-view-versus-copy\n",
      "  \n",
      "/home/jupyter/anaconda3/lib/python3.7/site-packages/pandas/core/generic.py:5434: SettingWithCopyWarning: \n",
      "A value is trying to be set on a copy of a slice from a DataFrame\n",
      "\n",
      "See the caveats in the documentation: http://pandas.pydata.org/pandas-docs/stable/indexing.html#indexing-view-versus-copy\n",
      "  self._update_inplace(new_data)\n"
     ]
    }
   ],
   "source": [
    "reg_target_encoding(train, col='country')\n",
    "mean_encoding_test(test, train, col='country')"
   ]
  },
  {
   "cell_type": "code",
   "execution_count": 43,
   "metadata": {
    "ExecuteTime": {
     "end_time": "2019-02-19T04:57:59.123245Z",
     "start_time": "2019-02-19T04:57:58.890187Z"
    }
   },
   "outputs": [
    {
     "name": "stderr",
     "output_type": "stream",
     "text": [
      "/home/jupyter/anaconda3/lib/python3.7/site-packages/pandas/core/generic.py:4405: SettingWithCopyWarning: \n",
      "A value is trying to be set on a copy of a slice from a DataFrame.\n",
      "Try using .loc[row_indexer,col_indexer] = value instead\n",
      "\n",
      "See the caveats in the documentation: http://pandas.pydata.org/pandas-docs/stable/indexing.html#indexing-view-versus-copy\n",
      "  self[name] = value\n"
     ]
    }
   ],
   "source": [
    "train.city = train.city.cat.codes\n",
    "train.country = train.country.cat.codes\n",
    "train.region = train.region.cat.codes\n",
    "train.os_name = train.os_name.cat.codes\n",
    "train.locale = train.locale.cat.codes"
   ]
  },
  {
   "cell_type": "code",
   "execution_count": 44,
   "metadata": {
    "ExecuteTime": {
     "end_time": "2019-02-19T04:58:14.665807Z",
     "start_time": "2019-02-19T04:58:14.427810Z"
    }
   },
   "outputs": [],
   "source": [
    "test.city = test.city.cat.codes\n",
    "test.country = test.country.cat.codes\n",
    "test.region = test.region.cat.codes\n",
    "test.os_name = test.os_name.cat.codes\n",
    "test.locale = test.locale.cat.codes"
   ]
  },
  {
   "cell_type": "code",
   "execution_count": 45,
   "metadata": {
    "ExecuteTime": {
     "end_time": "2019-02-19T04:58:45.234699Z",
     "start_time": "2019-02-19T04:58:45.095390Z"
    }
   },
   "outputs": [
    {
     "name": "stderr",
     "output_type": "stream",
     "text": [
      "/home/jupyter/anaconda3/lib/python3.7/site-packages/ipykernel_launcher.py:2: SettingWithCopyWarning: \n",
      "A value is trying to be set on a copy of a slice from a DataFrame.\n",
      "Try using .loc[row_indexer,col_indexer] = value instead\n",
      "\n",
      "See the caveats in the documentation: http://pandas.pydata.org/pandas-docs/stable/indexing.html#indexing-view-versus-copy\n",
      "  \n",
      "/home/jupyter/anaconda3/lib/python3.7/site-packages/ipykernel_launcher.py:3: SettingWithCopyWarning: \n",
      "A value is trying to be set on a copy of a slice from a DataFrame.\n",
      "Try using .loc[row_indexer,col_indexer] = value instead\n",
      "\n",
      "See the caveats in the documentation: http://pandas.pydata.org/pandas-docs/stable/indexing.html#indexing-view-versus-copy\n",
      "  This is separate from the ipykernel package so we can avoid doing imports until\n"
     ]
    }
   ],
   "source": [
    "train.is_user_first_session = train.is_user_first_session.astype(np.int)\n",
    "train['y1'] = train['y1'].astype(np.int)\n",
    "train['y2'] = train['y2'].astype(np.int)"
   ]
  },
  {
   "cell_type": "code",
   "execution_count": 46,
   "metadata": {
    "ExecuteTime": {
     "end_time": "2019-02-19T04:58:53.923143Z",
     "start_time": "2019-02-19T04:58:53.765978Z"
    }
   },
   "outputs": [
    {
     "name": "stderr",
     "output_type": "stream",
     "text": [
      "/home/jupyter/anaconda3/lib/python3.7/site-packages/ipykernel_launcher.py:2: SettingWithCopyWarning: \n",
      "A value is trying to be set on a copy of a slice from a DataFrame.\n",
      "Try using .loc[row_indexer,col_indexer] = value instead\n",
      "\n",
      "See the caveats in the documentation: http://pandas.pydata.org/pandas-docs/stable/indexing.html#indexing-view-versus-copy\n",
      "  \n",
      "/home/jupyter/anaconda3/lib/python3.7/site-packages/ipykernel_launcher.py:3: SettingWithCopyWarning: \n",
      "A value is trying to be set on a copy of a slice from a DataFrame.\n",
      "Try using .loc[row_indexer,col_indexer] = value instead\n",
      "\n",
      "See the caveats in the documentation: http://pandas.pydata.org/pandas-docs/stable/indexing.html#indexing-view-versus-copy\n",
      "  This is separate from the ipykernel package so we can avoid doing imports until\n"
     ]
    }
   ],
   "source": [
    "test.is_user_first_session = test.is_user_first_session.astype(np.int)\n",
    "test['y1'] = test['y1'].astype(np.int)\n",
    "test['y2'] = test['y2'].astype(np.int)"
   ]
  },
  {
   "cell_type": "code",
   "execution_count": 47,
   "metadata": {
    "ExecuteTime": {
     "end_time": "2019-02-19T04:59:00.134271Z",
     "start_time": "2019-02-19T04:59:00.130515Z"
    }
   },
   "outputs": [
    {
     "data": {
      "text/plain": [
       "(921362, 20)"
      ]
     },
     "execution_count": 47,
     "metadata": {},
     "output_type": "execute_result"
    }
   ],
   "source": [
    "train.shape"
   ]
  },
  {
   "cell_type": "code",
   "execution_count": 48,
   "metadata": {
    "ExecuteTime": {
     "end_time": "2019-02-19T04:59:00.649018Z",
     "start_time": "2019-02-19T04:59:00.645164Z"
    }
   },
   "outputs": [
    {
     "data": {
      "text/plain": [
       "(74614, 20)"
      ]
     },
     "execution_count": 48,
     "metadata": {},
     "output_type": "execute_result"
    }
   ],
   "source": [
    "test.shape"
   ]
  },
  {
   "cell_type": "code",
   "execution_count": 49,
   "metadata": {
    "ExecuteTime": {
     "end_time": "2019-02-19T04:59:01.437473Z",
     "start_time": "2019-02-19T04:59:01.433597Z"
    }
   },
   "outputs": [
    {
     "data": {
      "text/plain": [
       "(995976, 19)"
      ]
     },
     "execution_count": 49,
     "metadata": {},
     "output_type": "execute_result"
    }
   ],
   "source": [
    "features.shape"
   ]
  },
  {
   "cell_type": "code",
   "execution_count": 50,
   "metadata": {
    "ExecuteTime": {
     "end_time": "2019-02-19T04:59:01.952771Z",
     "start_time": "2019-02-19T04:59:01.947381Z"
    }
   },
   "outputs": [
    {
     "data": {
      "text/plain": [
       "2110"
      ]
     },
     "execution_count": 50,
     "metadata": {},
     "output_type": "execute_result"
    }
   ],
   "source": [
    "(test['y1'] > 0).sum()"
   ]
  },
  {
   "cell_type": "code",
   "execution_count": 51,
   "metadata": {
    "ExecuteTime": {
     "end_time": "2019-02-19T04:59:05.163248Z",
     "start_time": "2019-02-19T04:59:05.147022Z"
    }
   },
   "outputs": [
    {
     "data": {
      "text/plain": [
       "33357"
      ]
     },
     "execution_count": 51,
     "metadata": {},
     "output_type": "execute_result"
    }
   ],
   "source": [
    "(train['y1'] > 0).sum()"
   ]
  },
  {
   "cell_type": "code",
   "execution_count": 52,
   "metadata": {
    "ExecuteTime": {
     "end_time": "2019-02-19T04:59:05.515244Z",
     "start_time": "2019-02-19T04:59:05.509675Z"
    }
   },
   "outputs": [
    {
     "data": {
      "text/plain": [
       "2110"
      ]
     },
     "execution_count": 52,
     "metadata": {},
     "output_type": "execute_result"
    }
   ],
   "source": [
    "(test['y2'] > 0).sum()"
   ]
  },
  {
   "cell_type": "code",
   "execution_count": 53,
   "metadata": {
    "ExecuteTime": {
     "end_time": "2019-02-19T04:59:05.859623Z",
     "start_time": "2019-02-19T04:59:05.843564Z"
    }
   },
   "outputs": [
    {
     "data": {
      "text/plain": [
       "39947"
      ]
     },
     "execution_count": 53,
     "metadata": {},
     "output_type": "execute_result"
    }
   ],
   "source": [
    "(train['y2'] > 0).sum()"
   ]
  },
  {
   "cell_type": "code",
   "execution_count": 57,
   "metadata": {
    "ExecuteTime": {
     "end_time": "2019-02-19T04:59:36.503841Z",
     "start_time": "2019-02-19T04:59:36.500021Z"
    }
   },
   "outputs": [],
   "source": [
    "feature_cols = ['no_of_citys', 'city', 'is_user_first_session',\n",
    "                'country', 'country_count', 'region', 'region_count',\n",
    "                'locale', 'os_name', 'user_days', 'total_session_time',\n",
    "                'mean_session_time', 'purchase', 'user_age', 'user_time',\n",
    "                'country_mean_enc']"
   ]
  },
  {
   "cell_type": "code",
   "execution_count": 58,
   "metadata": {
    "ExecuteTime": {
     "end_time": "2019-02-19T04:59:37.100557Z",
     "start_time": "2019-02-19T04:59:36.930955Z"
    }
   },
   "outputs": [],
   "source": [
    "x_train = train[feature_cols].values\n",
    "y1_train = train[['y1']]\n",
    "y2_train = train[['y2']]\n",
    "\n",
    "x_test = test[feature_cols].values\n",
    "y1_test = test[['y1']]\n",
    "y2_test = test[['y2']]"
   ]
  },
  {
   "cell_type": "code",
   "execution_count": 59,
   "metadata": {
    "ExecuteTime": {
     "end_time": "2019-02-19T04:59:42.311785Z",
     "start_time": "2019-02-19T04:59:42.306288Z"
    }
   },
   "outputs": [
    {
     "data": {
      "text/plain": [
       "array([[5.00000000e+00, 3.97500000e+03, 1.00000000e+00, ...,\n",
       "        0.00000000e+00, 1.00000000e+01, 5.30359023e-02],\n",
       "       [2.00000000e+00, 6.58600000e+03, 1.00000000e+00, ...,\n",
       "        0.00000000e+00, 1.80000000e+01, 5.30359023e-02],\n",
       "       [2.00000000e+00, 1.57320000e+04, 1.00000000e+00, ...,\n",
       "        0.00000000e+00, 1.90000000e+01, 5.30359023e-02],\n",
       "       ...,\n",
       "       [6.80000000e+01, 4.59700000e+03, 1.00000000e+00, ...,\n",
       "        4.00000000e+00, 1.10000000e+01, 6.20617868e-03],\n",
       "       [3.00000000e+00, 5.65500000e+03, 1.00000000e+00, ...,\n",
       "        1.00000000e+00, 1.80000000e+01, 4.75966751e-02],\n",
       "       [6.00000000e+00, 2.82160000e+04, 0.00000000e+00, ...,\n",
       "        2.20000000e+01, 1.10000000e+01, 1.74884625e-02]])"
      ]
     },
     "execution_count": 59,
     "metadata": {},
     "output_type": "execute_result"
    }
   ],
   "source": [
    "x_train"
   ]
  },
  {
   "cell_type": "code",
   "execution_count": 60,
   "metadata": {
    "ExecuteTime": {
     "end_time": "2019-02-19T04:59:43.039684Z",
     "start_time": "2019-02-19T04:59:42.982212Z"
    }
   },
   "outputs": [],
   "source": [
    "from xgboost import XGBClassifier"
   ]
  },
  {
   "cell_type": "code",
   "execution_count": 61,
   "metadata": {
    "ExecuteTime": {
     "end_time": "2019-02-19T04:59:43.921800Z",
     "start_time": "2019-02-19T04:59:43.918709Z"
    }
   },
   "outputs": [],
   "source": [
    "from sklearn.metrics import accuracy_score"
   ]
  },
  {
   "cell_type": "code",
   "execution_count": 62,
   "metadata": {
    "ExecuteTime": {
     "end_time": "2019-02-19T04:59:45.081533Z",
     "start_time": "2019-02-19T04:59:45.077926Z"
    }
   },
   "outputs": [],
   "source": [
    "xg_model1 = XGBClassifier(max_depth=5, learning_rate=0.3, n_estimators=200, n_jobs=-1)"
   ]
  },
  {
   "cell_type": "code",
   "execution_count": null,
   "metadata": {
    "ExecuteTime": {
     "start_time": "2019-02-19T04:59:46.825Z"
    }
   },
   "outputs": [
    {
     "name": "stderr",
     "output_type": "stream",
     "text": [
      "/home/jupyter/anaconda3/lib/python3.7/site-packages/sklearn/preprocessing/label.py:219: DataConversionWarning: A column-vector y was passed when a 1d array was expected. Please change the shape of y to (n_samples, ), for example using ravel().\n",
      "  y = column_or_1d(y, warn=True)\n",
      "/home/jupyter/anaconda3/lib/python3.7/site-packages/sklearn/preprocessing/label.py:252: DataConversionWarning: A column-vector y was passed when a 1d array was expected. Please change the shape of y to (n_samples, ), for example using ravel().\n",
      "  y = column_or_1d(y, warn=True)\n"
     ]
    }
   ],
   "source": [
    "xg_model1.fit(x_train, y1_train)"
   ]
  },
  {
   "cell_type": "code",
   "execution_count": 165,
   "metadata": {
    "ExecuteTime": {
     "end_time": "2019-02-19T04:46:46.988283Z",
     "start_time": "2019-02-19T04:46:46.181852Z"
    }
   },
   "outputs": [],
   "source": [
    "y1_hat_train = xg_model1.predict(x_train)"
   ]
  },
  {
   "cell_type": "code",
   "execution_count": 166,
   "metadata": {
    "ExecuteTime": {
     "end_time": "2019-02-19T04:46:47.070339Z",
     "start_time": "2019-02-19T04:46:46.990398Z"
    }
   },
   "outputs": [
    {
     "data": {
      "text/plain": [
       "0.96979797300084"
      ]
     },
     "execution_count": 166,
     "metadata": {},
     "output_type": "execute_result"
    }
   ],
   "source": [
    "y"
   ]
  },
  {
   "cell_type": "code",
   "execution_count": 167,
   "metadata": {
    "ExecuteTime": {
     "end_time": "2019-02-19T04:46:47.079602Z",
     "start_time": "2019-02-19T04:46:47.076181Z"
    }
   },
   "outputs": [],
   "source": [
    "xg_model2 = XGBClassifier(max_depth=5, learning_rate=0.3, n_estimators=200, n_jobs=-1)"
   ]
  },
  {
   "cell_type": "code",
   "execution_count": 168,
   "metadata": {
    "ExecuteTime": {
     "end_time": "2019-02-19T04:47:26.876638Z",
     "start_time": "2019-02-19T04:46:47.082621Z"
    }
   },
   "outputs": [
    {
     "data": {
      "text/plain": [
       "XGBClassifier(base_score=0.5, booster='gbtree', colsample_bylevel=1,\n",
       "       colsample_bytree=1, gamma=0, learning_rate=0.3, max_delta_step=0,\n",
       "       max_depth=5, min_child_weight=1, missing=None, n_estimators=200,\n",
       "       n_jobs=-1, nthread=None, objective='binary:logistic',\n",
       "       random_state=0, reg_alpha=0, reg_lambda=1, scale_pos_weight=1,\n",
       "       seed=None, silent=True, subsample=1)"
      ]
     },
     "execution_count": 168,
     "metadata": {},
     "output_type": "execute_result"
    }
   ],
   "source": [
    "xg_model2.fit(x_train, y2_train)"
   ]
  },
  {
   "cell_type": "code",
   "execution_count": 169,
   "metadata": {
    "ExecuteTime": {
     "end_time": "2019-02-19T04:47:27.686724Z",
     "start_time": "2019-02-19T04:47:26.882312Z"
    }
   },
   "outputs": [],
   "source": [
    "y2_hat_train = xg_model2.predict(x_train)"
   ]
  },
  {
   "cell_type": "code",
   "execution_count": 170,
   "metadata": {
    "ExecuteTime": {
     "end_time": "2019-02-19T04:47:28.478688Z",
     "start_time": "2019-02-19T04:47:27.692485Z"
    }
   },
   "outputs": [],
   "source": [
    "y2_hat_train = xg_model2.predict(x_train)"
   ]
  },
  {
   "cell_type": "code",
   "execution_count": 171,
   "metadata": {
    "ExecuteTime": {
     "end_time": "2019-02-19T04:47:28.569770Z",
     "start_time": "2019-02-19T04:47:28.484555Z"
    }
   },
   "outputs": [
    {
     "data": {
      "text/plain": [
       "0.9646501592208058"
      ]
     },
     "execution_count": 171,
     "metadata": {},
     "output_type": "execute_result"
    }
   ],
   "source": [
    "accuracy_score(y2_train, y2_hat_train)"
   ]
  },
  {
   "cell_type": "code",
   "execution_count": 172,
   "metadata": {
    "ExecuteTime": {
     "end_time": "2019-02-19T04:47:28.691166Z",
     "start_time": "2019-02-19T04:47:28.575068Z"
    }
   },
   "outputs": [],
   "source": [
    "y1_hat_test = xg_model1.predict(x_test)\n",
    "y2_hat_test = xg_model2.predict(x_test)"
   ]
  },
  {
   "cell_type": "code",
   "execution_count": 173,
   "metadata": {
    "ExecuteTime": {
     "end_time": "2019-02-19T04:47:28.711278Z",
     "start_time": "2019-02-19T04:47:28.696824Z"
    }
   },
   "outputs": [
    {
     "data": {
      "text/plain": [
       "0.9594446082504624"
      ]
     },
     "execution_count": 173,
     "metadata": {},
     "output_type": "execute_result"
    }
   ],
   "source": [
    "accuracy_score(y2_test, y2_hat_test)"
   ]
  },
  {
   "cell_type": "code",
   "execution_count": 174,
   "metadata": {
    "ExecuteTime": {
     "end_time": "2019-02-19T04:47:28.730576Z",
     "start_time": "2019-02-19T04:47:28.716687Z"
    }
   },
   "outputs": [
    {
     "data": {
      "text/plain": [
       "0.9668828906103413"
      ]
     },
     "execution_count": 174,
     "metadata": {},
     "output_type": "execute_result"
    }
   ],
   "source": [
    "accuracy_score(y1_test, y1_hat_test)"
   ]
  },
  {
   "cell_type": "code",
   "execution_count": 175,
   "metadata": {
    "ExecuteTime": {
     "end_time": "2019-02-19T04:47:28.923930Z",
     "start_time": "2019-02-19T04:47:28.735435Z"
    }
   },
   "outputs": [
    {
     "name": "stdout",
     "output_type": "stream",
     "text": [
      "attributes_sample.csv\r\n",
      "events_sample.csv\r\n",
      "sample_submission_2.csv\r\n",
      "sessions_sample.csv\r\n"
     ]
    }
   ],
   "source": [
    "!ls ../ | grep sample"
   ]
  },
  {
   "cell_type": "code",
   "execution_count": 176,
   "metadata": {
    "ExecuteTime": {
     "end_time": "2019-02-19T04:47:29.103422Z",
     "start_time": "2019-02-19T04:47:28.926196Z"
    }
   },
   "outputs": [
    {
     "name": "stdout",
     "output_type": "stream",
     "text": [
      "user_id_hash,user_purchase_binary_7_days,user_purchase_binary_14_days\r\n",
      "e469dfaed039ead9110165d9bc457acb11609ca34057dc77aad7c5e266b3c09f,0.01,0.02\r\n",
      "afcc639a324b6c598ef83d360450afa011cb2dd1358bf95acbf29decbe3bf4e2,0.01,0.02\r\n",
      "fd5a7cf211d08e3e00f7be6a9df6e6ea3d2e5c22a5d9c37a867730a869f661a9,0.01,0.02\r\n",
      "00bfff98b9d0329f014c2eeac7ce47cd18b2bc6e10d608dcb18625c9957398b5,0.01,0.02\r\n",
      "0d298f3638c43e915c119d4935e1ce8d168f81b5e3e8c16e422524c298adfbe7,0.01,0.02\r\n",
      "7f7e3c5da13a555b2c2047c2c94b45d289ffa8083908cb55a9d32692d675aac7,0.01,0.02\r\n",
      "28b5edd0510e8517462bae9d67a99f272d8ccc8ba2f79d65624f98c6a8a50012,0.01,0.02\r\n",
      "b9433b9c4d559218e64469b6807cb516a5866572c1c30bb75f7ecb9ee5379ef7,0.01,0.02\r\n",
      "607da741597a3b15fecf9a30c76e2e418b629c975e069aba60af709a277e84b9,0.01,0.02\r\n"
     ]
    }
   ],
   "source": [
    "! head ../sample_submission_2.csv"
   ]
  },
  {
   "cell_type": "markdown",
   "metadata": {},
   "source": [
    "# submission"
   ]
  },
  {
   "cell_type": "code",
   "execution_count": 177,
   "metadata": {
    "ExecuteTime": {
     "end_time": "2019-02-19T04:47:29.114691Z",
     "start_time": "2019-02-19T04:47:29.105628Z"
    }
   },
   "outputs": [
    {
     "data": {
      "text/plain": [
       "array(['2018-10-01T00:00:00.000000000', '2018-10-08T00:00:00.000000000',\n",
       "       '2018-10-15T00:00:00.000000000', '2018-10-22T00:00:00.000000000',\n",
       "       '2018-10-29T00:00:00.000000000', '2018-11-05T00:00:00.000000000',\n",
       "       '2018-11-12T00:00:00.000000000', '2018-11-19T00:00:00.000000000',\n",
       "       '2018-11-26T00:00:00.000000000', '2018-12-03T00:00:00.000000000',\n",
       "       '2018-12-10T00:00:00.000000000'], dtype='datetime64[ns]')"
      ]
     },
     "execution_count": 177,
     "metadata": {},
     "output_type": "execute_result"
    }
   ],
   "source": [
    "features.week_start.unique()"
   ]
  },
  {
   "cell_type": "code",
   "execution_count": 178,
   "metadata": {
    "ExecuteTime": {
     "end_time": "2019-02-19T04:47:29.597010Z",
     "start_time": "2019-02-19T04:47:29.116293Z"
    }
   },
   "outputs": [],
   "source": [
    "submission = pd.read_csv('../sample_submission_2.csv')"
   ]
  },
  {
   "cell_type": "code",
   "execution_count": 179,
   "metadata": {
    "ExecuteTime": {
     "end_time": "2019-02-19T04:47:29.697125Z",
     "start_time": "2019-02-19T04:47:29.599008Z"
    }
   },
   "outputs": [],
   "source": [
    "req_uids = set(submission.user_id_hash)"
   ]
  },
  {
   "cell_type": "code",
   "execution_count": 180,
   "metadata": {
    "ExecuteTime": {
     "end_time": "2019-02-19T04:47:30.035214Z",
     "start_time": "2019-02-19T04:47:29.699205Z"
    }
   },
   "outputs": [],
   "source": [
    "dates = features.week_start.dt.date.unique()"
   ]
  },
  {
   "cell_type": "code",
   "execution_count": 181,
   "metadata": {
    "ExecuteTime": {
     "end_time": "2019-02-19T04:47:30.042057Z",
     "start_time": "2019-02-19T04:47:30.039335Z"
    }
   },
   "outputs": [],
   "source": [
    "dates.sort()"
   ]
  },
  {
   "cell_type": "code",
   "execution_count": 182,
   "metadata": {
    "ExecuteTime": {
     "end_time": "2019-02-19T04:47:30.050237Z",
     "start_time": "2019-02-19T04:47:30.044118Z"
    }
   },
   "outputs": [
    {
     "data": {
      "text/plain": [
       "array([datetime.date(2018, 10, 1), datetime.date(2018, 10, 8),\n",
       "       datetime.date(2018, 10, 15), datetime.date(2018, 10, 22),\n",
       "       datetime.date(2018, 10, 29), datetime.date(2018, 11, 5),\n",
       "       datetime.date(2018, 11, 12), datetime.date(2018, 11, 19),\n",
       "       datetime.date(2018, 11, 26), datetime.date(2018, 12, 3),\n",
       "       datetime.date(2018, 12, 10)], dtype=object)"
      ]
     },
     "execution_count": 182,
     "metadata": {},
     "output_type": "execute_result"
    }
   ],
   "source": [
    "dates"
   ]
  },
  {
   "cell_type": "code",
   "execution_count": 183,
   "metadata": {
    "ExecuteTime": {
     "end_time": "2019-02-19T04:47:40.818351Z",
     "start_time": "2019-02-19T04:47:30.052082Z"
    }
   },
   "outputs": [
    {
     "name": "stderr",
     "output_type": "stream",
     "text": [
      "/home/jupyter/anaconda3/lib/python3.7/site-packages/ipykernel_launcher.py:9: FutureWarning: Comparing Series of datetimes with 'datetime.date'.  Currently, the\n",
      "'datetime.date' is coerced to a datetime. In the future pandas will\n",
      "not coerce, and 'the values will not compare equal to the\n",
      "'datetime.date'. To retain the current behavior, convert the\n",
      "'datetime.date' to a datetime with 'pd.Timestamp'.\n",
      "  if __name__ == '__main__':\n",
      "/home/jupyter/anaconda3/lib/python3.7/site-packages/ipykernel_launcher.py:11: FutureWarning: Comparing Series of datetimes with 'datetime.date'.  Currently, the\n",
      "'datetime.date' is coerced to a datetime. In the future pandas will\n",
      "not coerce, and 'the values will not compare equal to the\n",
      "'datetime.date'. To retain the current behavior, convert the\n",
      "'datetime.date' to a datetime with 'pd.Timestamp'.\n",
      "  # This is added back by InteractiveShellApp.init_path()\n"
     ]
    },
    {
     "name": "stdout",
     "output_type": "stream",
     "text": [
      "2018-12-10: (16078,)\n",
      "296490\n",
      "2018-12-03: (12312,)\n",
      "284178\n",
      "2018-11-26: (27373,)\n",
      "256805\n",
      "2018-11-19: (36462,)\n",
      "220343\n",
      "2018-11-12: (35441,)\n",
      "184902\n",
      "2018-11-05: (34747,)\n",
      "150155\n",
      "2018-10-29: (34385,)\n",
      "115770\n",
      "2018-10-22: (33293,)\n",
      "82477\n",
      "2018-10-15: (31835,)\n",
      "50642\n",
      "2018-10-08: (27642,)\n",
      "23000\n",
      "2018-10-01: (21997,)\n",
      "1003\n"
     ]
    }
   ],
   "source": [
    "req_uids = set(submission.user_id_hash)\n",
    "run_ids = req_uids\n",
    "predict_df = pd.DataFrame(columns=['user_id_hash',\n",
    "                                   'user_purchase_binary_7_days',\n",
    "                                   'user_purchase_binary_14_days'])\n",
    "\n",
    "for dts in reversed(dates):\n",
    "    t = features.loc[(features.user_id_hash.isin(run_ids)) &\\\n",
    "                     (features.week_start == dts), feature_cols].values\n",
    "    cur_uids = features.loc[(features.user_id_hash.isin(run_ids)) &\\\n",
    "                     (features.week_start == dts), ['user_id_hash']].values\n",
    "\n",
    "    pp1 = xg_model1.predict_proba(t)\n",
    "    pp2 = xg_model2.predict_proba(t)\n",
    "\n",
    "    print(f'{dts}: {pp1[:, 1].shape}')\n",
    "    temp = pd.DataFrame(data={'user_id_hash': cur_uids.reshape(-1),\n",
    "                              'user_purchase_binary_7_days': pp1[:,1],\n",
    "                              'user_purchase_binary_14_days': pp2[:,1]})\n",
    "    predict_df = pd.concat([predict_df, temp])\n",
    "    run_ids = run_ids - set(cur_uids.reshape(-1))\n",
    "    print(len(list(run_ids)))"
   ]
  },
  {
   "cell_type": "code",
   "execution_count": 184,
   "metadata": {
    "ExecuteTime": {
     "end_time": "2019-02-19T04:47:40.831057Z",
     "start_time": "2019-02-19T04:47:40.820694Z"
    }
   },
   "outputs": [
    {
     "data": {
      "text/html": [
       "<div>\n",
       "<style scoped>\n",
       "    .dataframe tbody tr th:only-of-type {\n",
       "        vertical-align: middle;\n",
       "    }\n",
       "\n",
       "    .dataframe tbody tr th {\n",
       "        vertical-align: top;\n",
       "    }\n",
       "\n",
       "    .dataframe thead th {\n",
       "        text-align: right;\n",
       "    }\n",
       "</style>\n",
       "<table border=\"1\" class=\"dataframe\">\n",
       "  <thead>\n",
       "    <tr style=\"text-align: right;\">\n",
       "      <th></th>\n",
       "      <th>user_id_hash</th>\n",
       "      <th>user_purchase_binary_7_days</th>\n",
       "      <th>user_purchase_binary_14_days</th>\n",
       "    </tr>\n",
       "  </thead>\n",
       "  <tbody>\n",
       "    <tr>\n",
       "      <th>0</th>\n",
       "      <td>00000db35682058bb7916cb90f85709f54c1a0f7a3b6de...</td>\n",
       "      <td>0.031334</td>\n",
       "      <td>0.068852</td>\n",
       "    </tr>\n",
       "    <tr>\n",
       "      <th>1</th>\n",
       "      <td>000640d9f785d21ded61bdff159144b25dea23300ae1b8...</td>\n",
       "      <td>0.010067</td>\n",
       "      <td>0.006221</td>\n",
       "    </tr>\n",
       "    <tr>\n",
       "      <th>2</th>\n",
       "      <td>00098f33baf63f15d2b801a712d5609a1b132cebb30bc5...</td>\n",
       "      <td>0.005320</td>\n",
       "      <td>0.005339</td>\n",
       "    </tr>\n",
       "    <tr>\n",
       "      <th>3</th>\n",
       "      <td>000d99c8e82878915b33ffe27ac3585ce9fb7cd4b82ace...</td>\n",
       "      <td>0.405542</td>\n",
       "      <td>0.576305</td>\n",
       "    </tr>\n",
       "    <tr>\n",
       "      <th>4</th>\n",
       "      <td>00124c21b3ec87a2f17f884c5eee25462b67d489ebad09...</td>\n",
       "      <td>0.041159</td>\n",
       "      <td>0.051097</td>\n",
       "    </tr>\n",
       "  </tbody>\n",
       "</table>\n",
       "</div>"
      ],
      "text/plain": [
       "                                        user_id_hash  \\\n",
       "0  00000db35682058bb7916cb90f85709f54c1a0f7a3b6de...   \n",
       "1  000640d9f785d21ded61bdff159144b25dea23300ae1b8...   \n",
       "2  00098f33baf63f15d2b801a712d5609a1b132cebb30bc5...   \n",
       "3  000d99c8e82878915b33ffe27ac3585ce9fb7cd4b82ace...   \n",
       "4  00124c21b3ec87a2f17f884c5eee25462b67d489ebad09...   \n",
       "\n",
       "   user_purchase_binary_7_days  user_purchase_binary_14_days  \n",
       "0                     0.031334                      0.068852  \n",
       "1                     0.010067                      0.006221  \n",
       "2                     0.005320                      0.005339  \n",
       "3                     0.405542                      0.576305  \n",
       "4                     0.041159                      0.051097  "
      ]
     },
     "execution_count": 184,
     "metadata": {},
     "output_type": "execute_result"
    }
   ],
   "source": [
    "predict_df.head()"
   ]
  },
  {
   "cell_type": "code",
   "execution_count": 185,
   "metadata": {
    "ExecuteTime": {
     "end_time": "2019-02-19T04:47:41.122948Z",
     "start_time": "2019-02-19T04:47:40.833280Z"
    }
   },
   "outputs": [],
   "source": [
    "predict_df.drop_duplicates(inplace=True)"
   ]
  },
  {
   "cell_type": "code",
   "execution_count": 186,
   "metadata": {
    "ExecuteTime": {
     "end_time": "2019-02-19T04:47:41.129106Z",
     "start_time": "2019-02-19T04:47:41.124943Z"
    }
   },
   "outputs": [
    {
     "data": {
      "text/plain": [
       "(311565, 3)"
      ]
     },
     "execution_count": 186,
     "metadata": {},
     "output_type": "execute_result"
    }
   ],
   "source": [
    "predict_df.shape"
   ]
  },
  {
   "cell_type": "code",
   "execution_count": 187,
   "metadata": {
    "ExecuteTime": {
     "end_time": "2019-02-19T04:47:41.135766Z",
     "start_time": "2019-02-19T04:47:41.130913Z"
    }
   },
   "outputs": [
    {
     "data": {
      "text/plain": [
       "(312568, 3)"
      ]
     },
     "execution_count": 187,
     "metadata": {},
     "output_type": "execute_result"
    }
   ],
   "source": [
    "submission.shape"
   ]
  },
  {
   "cell_type": "code",
   "execution_count": 188,
   "metadata": {
    "ExecuteTime": {
     "end_time": "2019-02-19T04:47:41.141868Z",
     "start_time": "2019-02-19T04:47:41.137500Z"
    }
   },
   "outputs": [
    {
     "data": {
      "text/plain": [
       "(312568, 3)"
      ]
     },
     "execution_count": 188,
     "metadata": {},
     "output_type": "execute_result"
    }
   ],
   "source": [
    "submission.shape"
   ]
  },
  {
   "cell_type": "code",
   "execution_count": 189,
   "metadata": {
    "ExecuteTime": {
     "end_time": "2019-02-19T04:47:41.621462Z",
     "start_time": "2019-02-19T04:47:41.143399Z"
    }
   },
   "outputs": [],
   "source": [
    "left_out = list(set(submission.user_id_hash.unique()) - set(predict_df.user_id_hash.unique()))"
   ]
  },
  {
   "cell_type": "code",
   "execution_count": 192,
   "metadata": {
    "ExecuteTime": {
     "end_time": "2019-02-19T04:48:25.527589Z",
     "start_time": "2019-02-19T04:48:25.518550Z"
    }
   },
   "outputs": [
    {
     "data": {
      "text/plain": [
       "0.005480049178004265"
      ]
     },
     "execution_count": 192,
     "metadata": {},
     "output_type": "execute_result"
    }
   ],
   "source": [
    "predict_df.user_purchase_binary_7_days.median()"
   ]
  },
  {
   "cell_type": "code",
   "execution_count": 193,
   "metadata": {
    "ExecuteTime": {
     "end_time": "2019-02-19T04:48:26.290494Z",
     "start_time": "2019-02-19T04:48:26.281750Z"
    }
   },
   "outputs": [
    {
     "data": {
      "text/plain": [
       "0.007323031779378653"
      ]
     },
     "execution_count": 193,
     "metadata": {},
     "output_type": "execute_result"
    }
   ],
   "source": [
    "predict_df.user_purchase_binary_14_days.median()"
   ]
  },
  {
   "cell_type": "code",
   "execution_count": 194,
   "metadata": {
    "ExecuteTime": {
     "end_time": "2019-02-19T04:48:30.085668Z",
     "start_time": "2019-02-19T04:48:30.080075Z"
    }
   },
   "outputs": [],
   "source": [
    "temp = pd.DataFrame(data={'user_id_hash': left_out,\n",
    "                          'user_purchase_binary_7_days': 0.005 * np.ones(len(left_out)),\n",
    "                          'user_purchase_binary_14_days': 0.007 * np.ones(len(left_out))})"
   ]
  },
  {
   "cell_type": "code",
   "execution_count": 195,
   "metadata": {
    "ExecuteTime": {
     "end_time": "2019-02-19T04:48:48.468991Z",
     "start_time": "2019-02-19T04:48:48.464596Z"
    }
   },
   "outputs": [
    {
     "data": {
      "text/plain": [
       "(1003, 3)"
      ]
     },
     "execution_count": 195,
     "metadata": {},
     "output_type": "execute_result"
    }
   ],
   "source": [
    "temp.shape"
   ]
  },
  {
   "cell_type": "code",
   "execution_count": 196,
   "metadata": {
    "ExecuteTime": {
     "end_time": "2019-02-19T04:48:49.769922Z",
     "start_time": "2019-02-19T04:48:49.739141Z"
    }
   },
   "outputs": [],
   "source": [
    "predict_df = pd.concat([predict_df, temp])"
   ]
  },
  {
   "cell_type": "code",
   "execution_count": 197,
   "metadata": {
    "ExecuteTime": {
     "end_time": "2019-02-19T04:48:50.100179Z",
     "start_time": "2019-02-19T04:48:50.095344Z"
    }
   },
   "outputs": [
    {
     "data": {
      "text/plain": [
       "(312568, 3)"
      ]
     },
     "execution_count": 197,
     "metadata": {},
     "output_type": "execute_result"
    }
   ],
   "source": [
    "predict_df.shape"
   ]
  },
  {
   "cell_type": "code",
   "execution_count": 198,
   "metadata": {
    "ExecuteTime": {
     "end_time": "2019-02-19T04:48:52.033490Z",
     "start_time": "2019-02-19T04:48:51.551911Z"
    }
   },
   "outputs": [],
   "source": [
    "left_out = list(set(submission.user_id_hash.unique()) - set(predict_df.user_id_hash.unique()))"
   ]
  },
  {
   "cell_type": "code",
   "execution_count": 199,
   "metadata": {
    "ExecuteTime": {
     "end_time": "2019-02-19T04:48:52.040652Z",
     "start_time": "2019-02-19T04:48:52.036123Z"
    }
   },
   "outputs": [
    {
     "data": {
      "text/plain": [
       "[]"
      ]
     },
     "execution_count": 199,
     "metadata": {},
     "output_type": "execute_result"
    }
   ],
   "source": [
    "left_out"
   ]
  },
  {
   "cell_type": "code",
   "execution_count": 200,
   "metadata": {
    "ExecuteTime": {
     "end_time": "2019-02-19T04:48:57.792574Z",
     "start_time": "2019-02-19T04:48:56.318286Z"
    }
   },
   "outputs": [],
   "source": [
    "predict_df.to_csv('../third_sub.csv', index=False, float_format='%.3f')"
   ]
  },
  {
   "cell_type": "code",
   "execution_count": null,
   "metadata": {},
   "outputs": [],
   "source": []
  }
 ],
 "metadata": {
  "kernelspec": {
   "display_name": "Python 3",
   "language": "python",
   "name": "python3"
  },
  "language_info": {
   "codemirror_mode": {
    "name": "ipython",
    "version": 3
   },
   "file_extension": ".py",
   "mimetype": "text/x-python",
   "name": "python",
   "nbconvert_exporter": "python",
   "pygments_lexer": "ipython3",
   "version": "3.7.1"
  },
  "toc": {
   "base_numbering": 1,
   "nav_menu": {},
   "number_sections": true,
   "sideBar": true,
   "skip_h1_title": false,
   "title_cell": "Table of Contents",
   "title_sidebar": "Contents",
   "toc_cell": false,
   "toc_position": {},
   "toc_section_display": true,
   "toc_window_display": false
  }
 },
 "nbformat": 4,
 "nbformat_minor": 2
}
