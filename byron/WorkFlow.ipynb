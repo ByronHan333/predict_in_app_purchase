{
 "cells": [
  {
   "cell_type": "markdown",
   "metadata": {},
   "source": [
    "## WorkFlow"
   ]
  },
  {
   "cell_type": "markdown",
   "metadata": {},
   "source": [
    "for better reading please install nb.extension and view table of contents"
   ]
  },
  {
   "cell_type": "markdown",
   "metadata": {},
   "source": [
    "### Load events and EDA"
   ]
  },
  {
   "cell_type": "code",
   "execution_count": 44,
   "metadata": {
    "ExecuteTime": {
     "end_time": "2019-02-27T21:56:58.715058Z",
     "start_time": "2019-02-27T21:56:58.710941Z"
    }
   },
   "outputs": [],
   "source": [
    "import pandas as pd\n",
    "import numpy as np\n",
    "import datetime\n",
    "from sklearn.model_selection import train_test_split\n",
    "from sklearn.ensemble import GradientBoostingClassifier\n",
    "from sklearn.metrics import roc_auc_score"
   ]
  },
  {
   "cell_type": "code",
   "execution_count": 45,
   "metadata": {
    "ExecuteTime": {
     "end_time": "2019-02-27T21:59:36.863592Z",
     "start_time": "2019-02-27T21:57:08.511858Z"
    }
   },
   "outputs": [],
   "source": [
    "events = pd.read_csv('events.csv')"
   ]
  },
  {
   "cell_type": "code",
   "execution_count": 47,
   "metadata": {
    "ExecuteTime": {
     "end_time": "2019-02-27T21:59:59.733395Z",
     "start_time": "2019-02-27T21:59:38.949661Z"
    }
   },
   "outputs": [],
   "source": [
    "# encode user_id\n",
    "uniq = events['user_id_hash'].unique()\n",
    "name2idx = {o:i for i,o in enumerate(uniq)}\n",
    "new_col = np.array([name2idx[x] for x in events['user_id_hash']])\n",
    "events['user_id_hash'] = new_col"
   ]
  },
  {
   "cell_type": "code",
   "execution_count": 50,
   "metadata": {
    "ExecuteTime": {
     "end_time": "2019-02-27T22:00:02.632375Z",
     "start_time": "2019-02-27T22:00:02.626776Z"
    }
   },
   "outputs": [],
   "source": [
    "# important time window\n",
    "oct_7 = datetime.datetime(2018, 10, 7, 23, 59, 59, 0)\n",
    "oct_14 = datetime.datetime(2018, 10, 14, 23, 59, 59, 0)\n",
    "oct_21 = datetime.datetime(2018, 10, 21, 23, 59, 59, 0)\n",
    "oct_28 = datetime.datetime(2018, 10, 28, 23, 59, 59, 0)\n",
    "nov_4 = datetime.datetime(2018, 11, 4, 23, 59, 59, 0)\n",
    "nov_11 = datetime.datetime(2018, 11, 11, 23, 59, 59, 0)\n",
    "nov_18 = datetime.datetime(2018, 11, 18, 23, 59, 59, 0)\n",
    "nov_25 = datetime.datetime(2018, 11, 25, 23, 59, 59, 0)\n",
    "dec_1 = datetime.datetime(2018, 12, 1, 23, 59, 59, 0)\n",
    "dec_7 = datetime.datetime(2018, 12, 7, 23, 59, 59, 0)\n",
    "dec_14 = datetime.datetime(2018, 12, 14, 23, 59, 59, 0)"
   ]
  },
  {
   "cell_type": "code",
   "execution_count": 51,
   "metadata": {
    "ExecuteTime": {
     "end_time": "2019-02-27T22:00:03.387552Z",
     "start_time": "2019-02-27T22:00:03.382143Z"
    }
   },
   "outputs": [
    {
     "name": "stdout",
     "output_type": "stream",
     "text": [
      "time point Dec 1st late night: 1543737599000\n",
      "time point Dec 7th late night: 1544255999000\n",
      "time point Dec 14th late night: 1544860799000\n"
     ]
    }
   ],
   "source": [
    "# date time to milliseconds\n",
    "def to_milli(t):\n",
    "    return int(t.strftime(\"%s\"))*1000"
   ]
  },
  {
   "cell_type": "code",
   "execution_count": 52,
   "metadata": {
    "ExecuteTime": {
     "end_time": "2019-02-27T22:00:21.959372Z",
     "start_time": "2019-02-27T22:00:04.124041Z"
    }
   },
   "outputs": [
    {
     "data": {
      "text/html": [
       "<div>\n",
       "<style scoped>\n",
       "    .dataframe tbody tr th:only-of-type {\n",
       "        vertical-align: middle;\n",
       "    }\n",
       "\n",
       "    .dataframe tbody tr th {\n",
       "        vertical-align: top;\n",
       "    }\n",
       "\n",
       "    .dataframe thead th {\n",
       "        text-align: right;\n",
       "    }\n",
       "</style>\n",
       "<table border=\"1\" class=\"dataframe\">\n",
       "  <thead>\n",
       "    <tr style=\"text-align: right;\">\n",
       "      <th></th>\n",
       "      <th>session_id</th>\n",
       "      <th>event</th>\n",
       "      <th>event_timestamp</th>\n",
       "      <th>event_value</th>\n",
       "      <th>user_id_hash</th>\n",
       "    </tr>\n",
       "  </thead>\n",
       "  <tbody>\n",
       "    <tr>\n",
       "      <th>0</th>\n",
       "      <td>5558845121177764917</td>\n",
       "      <td>45</td>\n",
       "      <td>1542215397132</td>\n",
       "      <td>0.0</td>\n",
       "      <td>0</td>\n",
       "    </tr>\n",
       "    <tr>\n",
       "      <th>1</th>\n",
       "      <td>5558845121177764917</td>\n",
       "      <td>45</td>\n",
       "      <td>1542215484895</td>\n",
       "      <td>0.0</td>\n",
       "      <td>0</td>\n",
       "    </tr>\n",
       "    <tr>\n",
       "      <th>2</th>\n",
       "      <td>7689508378645584666</td>\n",
       "      <td>.m5100869650219008</td>\n",
       "      <td>1541124410372</td>\n",
       "      <td>0.0</td>\n",
       "      <td>0</td>\n",
       "    </tr>\n",
       "  </tbody>\n",
       "</table>\n",
       "</div>"
      ],
      "text/plain": [
       "            session_id               event  event_timestamp  event_value  \\\n",
       "0  5558845121177764917                  45    1542215397132          0.0   \n",
       "1  5558845121177764917                  45    1542215484895          0.0   \n",
       "2  7689508378645584666  .m5100869650219008    1541124410372          0.0   \n",
       "\n",
       "   user_id_hash  \n",
       "0             0  \n",
       "1             0  \n",
       "2             0  "
      ]
     },
     "execution_count": 52,
     "metadata": {},
     "output_type": "execute_result"
    }
   ],
   "source": [
    "events = events.drop(['app_id'],axis=1)\n",
    "events.head(3)"
   ]
  },
  {
   "cell_type": "markdown",
   "metadata": {},
   "source": [
    "#### filter those who bought"
   ]
  },
  {
   "cell_type": "code",
   "execution_count": 55,
   "metadata": {
    "ExecuteTime": {
     "end_time": "2019-02-27T22:01:29.867604Z",
     "start_time": "2019-02-27T22:01:24.795118Z"
    }
   },
   "outputs": [],
   "source": [
    "bought = events[events['event']=='8'].reset_index()\n",
    "bought = bought.drop(['index'],axis=1)"
   ]
  },
  {
   "cell_type": "code",
   "execution_count": 56,
   "metadata": {
    "ExecuteTime": {
     "end_time": "2019-02-27T22:01:30.668165Z",
     "start_time": "2019-02-27T22:01:30.660889Z"
    }
   },
   "outputs": [
    {
     "data": {
      "text/html": [
       "<div>\n",
       "<style scoped>\n",
       "    .dataframe tbody tr th:only-of-type {\n",
       "        vertical-align: middle;\n",
       "    }\n",
       "\n",
       "    .dataframe tbody tr th {\n",
       "        vertical-align: top;\n",
       "    }\n",
       "\n",
       "    .dataframe thead th {\n",
       "        text-align: right;\n",
       "    }\n",
       "</style>\n",
       "<table border=\"1\" class=\"dataframe\">\n",
       "  <thead>\n",
       "    <tr style=\"text-align: right;\">\n",
       "      <th></th>\n",
       "      <th>session_id</th>\n",
       "      <th>event</th>\n",
       "      <th>event_timestamp</th>\n",
       "      <th>event_value</th>\n",
       "      <th>user_id_hash</th>\n",
       "    </tr>\n",
       "  </thead>\n",
       "  <tbody>\n",
       "    <tr>\n",
       "      <th>0</th>\n",
       "      <td>5159335150551901701</td>\n",
       "      <td>8</td>\n",
       "      <td>1541912600211</td>\n",
       "      <td>3.493</td>\n",
       "      <td>0</td>\n",
       "    </tr>\n",
       "    <tr>\n",
       "      <th>1</th>\n",
       "      <td>845986603555615931</td>\n",
       "      <td>8</td>\n",
       "      <td>1543357433771</td>\n",
       "      <td>3.493</td>\n",
       "      <td>14</td>\n",
       "    </tr>\n",
       "    <tr>\n",
       "      <th>2</th>\n",
       "      <td>2846996524173831068</td>\n",
       "      <td>8</td>\n",
       "      <td>1543023539172</td>\n",
       "      <td>3.493</td>\n",
       "      <td>14</td>\n",
       "    </tr>\n",
       "  </tbody>\n",
       "</table>\n",
       "</div>"
      ],
      "text/plain": [
       "            session_id event  event_timestamp  event_value  user_id_hash\n",
       "0  5159335150551901701     8    1541912600211        3.493             0\n",
       "1   845986603555615931     8    1543357433771        3.493            14\n",
       "2  2846996524173831068     8    1543023539172        3.493            14"
      ]
     },
     "execution_count": 56,
     "metadata": {},
     "output_type": "execute_result"
    }
   ],
   "source": [
    "bought.head(3)"
   ]
  },
  {
   "cell_type": "code",
   "execution_count": 57,
   "metadata": {
    "ExecuteTime": {
     "end_time": "2019-02-27T22:01:32.391837Z",
     "start_time": "2019-02-27T22:01:31.399379Z"
    }
   },
   "outputs": [
    {
     "name": "stdout",
     "output_type": "stream",
     "text": [
      "621001\n",
      "34200\n"
     ]
    }
   ],
   "source": [
    "print(len(events['user_id_hash'].unique()))\n",
    "print(len(bought['user_id_hash'].unique()))"
   ]
  },
  {
   "cell_type": "markdown",
   "metadata": {},
   "source": [
    "### Feature engineeringg"
   ]
  },
  {
   "cell_type": "markdown",
   "metadata": {},
   "source": [
    "####  time window for those who bought"
   ]
  },
  {
   "cell_type": "code",
   "execution_count": 58,
   "metadata": {
    "ExecuteTime": {
     "end_time": "2019-02-27T22:05:38.251117Z",
     "start_time": "2019-02-27T22:01:33.183941Z"
    }
   },
   "outputs": [
    {
     "name": "stdout",
     "output_type": "stream",
     "text": [
      "12213\n",
      "22946\n",
      "27145\n",
      "29510\n",
      "31233\n",
      "30290\n",
      "30767\n",
      "31141\n",
      "23719\n"
     ]
    }
   ],
   "source": [
    "# https://stackoverflow.com/questions/45752601/python-pandas-conditional-count-after-groupby\n",
    "\n",
    "bought_1001_1007 = bought.groupby('user_id_hash')['event_timestamp']\\\n",
    "                        .apply(lambda x: (x < to_milli(oct_7)).sum()).reset_index(name='count')\n",
    "print(sum(bought_1001_1007['count']))\n",
    "\n",
    "\n",
    "bought_1007_1014 = bought.groupby('user_id_hash')['event_timestamp']\\\n",
    "                        .apply(lambda x: ((x > to_milli(oct_7))&(x < to_milli(oct_14))).sum()).reset_index(name='count')\n",
    "print(sum(bought_1007_1014['count']))\n",
    "\n",
    "\n",
    "bought_1014_1021 = bought.groupby('user_id_hash')['event_timestamp']\\\n",
    "                        .apply(lambda x: ((x > to_milli(oct_14))&(x < to_milli(oct_21))).sum()).reset_index(name='count')\n",
    "print(sum(bought_1014_1021['count']))\n",
    "\n",
    "\n",
    "bought_1021_1028 = bought.groupby('user_id_hash')['event_timestamp']\\\n",
    "                        .apply(lambda x: ((x > to_milli(oct_21))&(x < to_milli(oct_28))).sum()).reset_index(name='count')\n",
    "print(sum(bought_1021_1028['count']))\n",
    "\n",
    "\n",
    "bought_1028_1104 = bought.groupby('user_id_hash')['event_timestamp']\\\n",
    "                        .apply(lambda x: ((x > to_milli(oct_28))&(x < to_milli(nov_4))).sum()).reset_index(name='count')\n",
    "print(sum(bought_1028_1104['count']))\n",
    "\n",
    "\n",
    "bought_1104_1111 = bought.groupby('user_id_hash')['event_timestamp']\\\n",
    "                        .apply(lambda x: ((x > to_milli(nov_4))&(x < to_milli(nov_11))).sum()).reset_index(name='count')\n",
    "print(sum(bought_1104_1111['count']))\n",
    "\n",
    "\n",
    "bought_1111_1118 = bought.groupby('user_id_hash')['event_timestamp']\\\n",
    "                        .apply(lambda x: ((x > to_milli(nov_11))&(x < to_milli(nov_18))).sum()).reset_index(name='count')\n",
    "print(sum(bought_1111_1118['count']))\n",
    "\n",
    "\n",
    "bought_1118_1125 = bought.groupby('user_id_hash')['event_timestamp']\\\n",
    "                        .apply(lambda x: ((x > to_milli(nov_18))&(x < to_milli(nov_25))).sum()).reset_index(name='count')\n",
    "print(sum(bought_1118_1125['count']))\n",
    "\n",
    "\n",
    "bought_1125_1201 = bought.groupby('user_id_hash')['event_timestamp']\\\n",
    "                        .apply(lambda x: ((x > to_milli(nov_25))&(x < to_milli(dec_1))).sum()).reset_index(name='count')\n",
    "print(sum(bought_1125_1201['count']))\n",
    "\n"
   ]
  },
  {
   "cell_type": "markdown",
   "metadata": {},
   "source": [
    "#### create target y"
   ]
  },
  {
   "cell_type": "code",
   "execution_count": 59,
   "metadata": {
    "ExecuteTime": {
     "end_time": "2019-02-27T22:05:39.145568Z",
     "start_time": "2019-02-27T22:05:39.114543Z"
    }
   },
   "outputs": [
    {
     "name": "stdout",
     "output_type": "stream",
     "text": [
      "[ 86 396 402]\n",
      "[ 86 396 402]\n"
     ]
    }
   ],
   "source": [
    "# bought after 12.1\n",
    "# already_bought = []\n",
    "bought_after_12_1 = bought[bought['event_timestamp']>to_milli(dec_1)]['user_id_hash'].unique()\n",
    "print(bought_after_12_1[:3])\n",
    "# bought after 12.1 before 12.7\n",
    "bought_between_12_1_7 = bought[(bought['event_timestamp']>to_milli(dec_1)) & (bought['event_timestamp']<to_milli(dec_7))]['user_id_hash'].unique()\n",
    "print(bought_between_12_1_7[:3])"
   ]
  },
  {
   "cell_type": "code",
   "execution_count": 60,
   "metadata": {
    "ExecuteTime": {
     "end_time": "2019-02-27T22:05:39.995143Z",
     "start_time": "2019-02-27T22:05:39.992411Z"
    }
   },
   "outputs": [
    {
     "name": "stdout",
     "output_type": "stream",
     "text": [
      "5398\n",
      "4001\n"
     ]
    }
   ],
   "source": [
    "print(len(bought_after_12_1))\n",
    "print(len(bought_between_12_1_7))"
   ]
  },
  {
   "cell_type": "markdown",
   "metadata": {},
   "source": [
    "#### create X and adding features"
   ]
  },
  {
   "cell_type": "code",
   "execution_count": 195,
   "metadata": {
    "ExecuteTime": {
     "end_time": "2019-02-28T00:35:34.821651Z",
     "start_time": "2019-02-28T00:35:34.349919Z"
    }
   },
   "outputs": [],
   "source": [
    "df = events['user_id_hash'].unique()\n",
    "df = pd.DataFrame(data = df, columns=['user_id_hash'])"
   ]
  },
  {
   "cell_type": "code",
   "execution_count": 196,
   "metadata": {
    "ExecuteTime": {
     "end_time": "2019-02-28T00:35:43.343363Z",
     "start_time": "2019-02-28T00:35:36.967662Z"
    }
   },
   "outputs": [],
   "source": [
    "df['dec1_14'] = df['user_id_hash'].apply(lambda x: 1 if x in bought_after_12_1 else 0)\n",
    "df['dec1_7'] = df['user_id_hash'].apply(lambda x: 1 if x in bought_between_12_1_7 else 0)"
   ]
  },
  {
   "cell_type": "code",
   "execution_count": 64,
   "metadata": {
    "ExecuteTime": {
     "end_time": "2019-02-27T22:05:50.170476Z",
     "start_time": "2019-02-27T22:05:50.163617Z"
    }
   },
   "outputs": [
    {
     "data": {
      "text/html": [
       "<div>\n",
       "<style scoped>\n",
       "    .dataframe tbody tr th:only-of-type {\n",
       "        vertical-align: middle;\n",
       "    }\n",
       "\n",
       "    .dataframe tbody tr th {\n",
       "        vertical-align: top;\n",
       "    }\n",
       "\n",
       "    .dataframe thead th {\n",
       "        text-align: right;\n",
       "    }\n",
       "</style>\n",
       "<table border=\"1\" class=\"dataframe\">\n",
       "  <thead>\n",
       "    <tr style=\"text-align: right;\">\n",
       "      <th></th>\n",
       "      <th>user_id_hash</th>\n",
       "      <th>dec1_14</th>\n",
       "      <th>dec1_7</th>\n",
       "    </tr>\n",
       "  </thead>\n",
       "  <tbody>\n",
       "    <tr>\n",
       "      <th>0</th>\n",
       "      <td>0</td>\n",
       "      <td>0</td>\n",
       "      <td>0</td>\n",
       "    </tr>\n",
       "    <tr>\n",
       "      <th>1</th>\n",
       "      <td>1</td>\n",
       "      <td>0</td>\n",
       "      <td>0</td>\n",
       "    </tr>\n",
       "    <tr>\n",
       "      <th>2</th>\n",
       "      <td>2</td>\n",
       "      <td>0</td>\n",
       "      <td>0</td>\n",
       "    </tr>\n",
       "  </tbody>\n",
       "</table>\n",
       "</div>"
      ],
      "text/plain": [
       "   user_id_hash  dec1_14  dec1_7\n",
       "0             0        0       0\n",
       "1             1        0       0\n",
       "2             2        0       0"
      ]
     },
     "execution_count": 64,
     "metadata": {},
     "output_type": "execute_result"
    }
   ],
   "source": [
    "df.head(3)"
   ]
  },
  {
   "cell_type": "code",
   "execution_count": 65,
   "metadata": {
    "ExecuteTime": {
     "end_time": "2019-02-27T22:05:51.178755Z",
     "start_time": "2019-02-27T22:05:51.097597Z"
    }
   },
   "outputs": [
    {
     "name": "stdout",
     "output_type": "stream",
     "text": [
      "4001\n",
      "5398\n"
     ]
    }
   ],
   "source": [
    "print(sum(df['dec1_7']))\n",
    "print(sum(df['dec1_14']))"
   ]
  },
  {
   "cell_type": "code",
   "execution_count": 197,
   "metadata": {
    "ExecuteTime": {
     "end_time": "2019-02-28T00:35:47.879022Z",
     "start_time": "2019-02-28T00:35:47.875005Z"
    }
   },
   "outputs": [
    {
     "data": {
      "text/plain": [
       "621001"
      ]
     },
     "execution_count": 197,
     "metadata": {},
     "output_type": "execute_result"
    }
   ],
   "source": [
    "len(df)"
   ]
  },
  {
   "cell_type": "code",
   "execution_count": 194,
   "metadata": {
    "ExecuteTime": {
     "end_time": "2019-02-28T00:35:27.896583Z",
     "start_time": "2019-02-28T00:35:27.894004Z"
    }
   },
   "outputs": [],
   "source": [
    "# bought_1125_1201"
   ]
  },
  {
   "cell_type": "code",
   "execution_count": 198,
   "metadata": {
    "ExecuteTime": {
     "end_time": "2019-02-28T00:35:54.922520Z",
     "start_time": "2019-02-28T00:35:50.461004Z"
    }
   },
   "outputs": [],
   "source": [
    "df = df.merge(bought_1001_1007, left_on='user_id_hash', right_on='user_id_hash', how='left')\n",
    "df = df.rename(index=str, columns={\"count\": \"count_1001_1007\"})\n",
    "df = df.merge(bought_1007_1014, left_on='user_id_hash', right_on='user_id_hash', how='left')\n",
    "df = df.rename(index=str, columns={\"count\": \"count_1007_1014\"})\n",
    "df = df.merge(bought_1014_1021, left_on='user_id_hash', right_on='user_id_hash', how='left')\n",
    "df = df.rename(index=str, columns={\"count\": \"count_1014_1021\"})\n",
    "df = df.merge(bought_1021_1028, left_on='user_id_hash', right_on='user_id_hash', how='left')\n",
    "df = df.rename(index=str, columns={\"count\": \"count_1021_1028\"})\n",
    "df = df.merge(bought_1028_1104, left_on='user_id_hash', right_on='user_id_hash', how='left')\n",
    "df = df.rename(index=str, columns={\"count\": \"count_1028_1104\"})\n",
    "df = df.merge(bought_1104_1111, left_on='user_id_hash', right_on='user_id_hash', how='left')\n",
    "df = df.rename(index=str, columns={\"count\": \"count_1104_1111\"})\n",
    "df = df.merge(bought_1111_1118, left_on='user_id_hash', right_on='user_id_hash', how='left')\n",
    "df = df.rename(index=str, columns={\"count\": \"count_1111_1118\"})\n",
    "df = df.merge(bought_1118_1125, left_on='user_id_hash', right_on='user_id_hash', how='left')\n",
    "df = df.rename(index=str, columns={\"count\": \"count_1118_1125\"})\n",
    "df = df.merge(bought_1125_1201, left_on='user_id_hash', right_on='user_id_hash', how='left')\n",
    "df = df.rename(index=str, columns={\"count\": \"count_1125_1201\"})"
   ]
  },
  {
   "cell_type": "code",
   "execution_count": 199,
   "metadata": {
    "ExecuteTime": {
     "end_time": "2019-02-28T00:35:57.427601Z",
     "start_time": "2019-02-28T00:35:57.423668Z"
    }
   },
   "outputs": [
    {
     "data": {
      "text/plain": [
       "621001"
      ]
     },
     "execution_count": 199,
     "metadata": {},
     "output_type": "execute_result"
    }
   ],
   "source": [
    "len(df)"
   ]
  },
  {
   "cell_type": "code",
   "execution_count": 69,
   "metadata": {
    "ExecuteTime": {
     "end_time": "2019-02-27T22:05:55.660136Z",
     "start_time": "2019-02-27T22:05:55.646895Z"
    }
   },
   "outputs": [
    {
     "data": {
      "text/html": [
       "<div>\n",
       "<style scoped>\n",
       "    .dataframe tbody tr th:only-of-type {\n",
       "        vertical-align: middle;\n",
       "    }\n",
       "\n",
       "    .dataframe tbody tr th {\n",
       "        vertical-align: top;\n",
       "    }\n",
       "\n",
       "    .dataframe thead th {\n",
       "        text-align: right;\n",
       "    }\n",
       "</style>\n",
       "<table border=\"1\" class=\"dataframe\">\n",
       "  <thead>\n",
       "    <tr style=\"text-align: right;\">\n",
       "      <th></th>\n",
       "      <th>user_id_hash</th>\n",
       "      <th>dec1_14</th>\n",
       "      <th>dec1_7</th>\n",
       "      <th>count_1001_1007</th>\n",
       "      <th>count_1007_1014</th>\n",
       "      <th>count_1014_1021</th>\n",
       "      <th>count_1021_1028</th>\n",
       "      <th>count_1028_1104</th>\n",
       "      <th>count_1104_1111</th>\n",
       "      <th>count_1111_1118</th>\n",
       "      <th>count_1118_1125</th>\n",
       "      <th>count_1125_1201</th>\n",
       "    </tr>\n",
       "  </thead>\n",
       "  <tbody>\n",
       "    <tr>\n",
       "      <th>0</th>\n",
       "      <td>0</td>\n",
       "      <td>0</td>\n",
       "      <td>0</td>\n",
       "      <td>0</td>\n",
       "      <td>0</td>\n",
       "      <td>0</td>\n",
       "      <td>0</td>\n",
       "      <td>0</td>\n",
       "      <td>1</td>\n",
       "      <td>0</td>\n",
       "      <td>0</td>\n",
       "      <td>0</td>\n",
       "    </tr>\n",
       "    <tr>\n",
       "      <th>1</th>\n",
       "      <td>14</td>\n",
       "      <td>0</td>\n",
       "      <td>0</td>\n",
       "      <td>0</td>\n",
       "      <td>0</td>\n",
       "      <td>0</td>\n",
       "      <td>0</td>\n",
       "      <td>0</td>\n",
       "      <td>0</td>\n",
       "      <td>0</td>\n",
       "      <td>1</td>\n",
       "      <td>2</td>\n",
       "    </tr>\n",
       "  </tbody>\n",
       "</table>\n",
       "</div>"
      ],
      "text/plain": [
       "   user_id_hash  dec1_14  dec1_7  count_1001_1007  count_1007_1014  \\\n",
       "0             0        0       0                0                0   \n",
       "1            14        0       0                0                0   \n",
       "\n",
       "   count_1014_1021  count_1021_1028  count_1028_1104  count_1104_1111  \\\n",
       "0                0                0                0                1   \n",
       "1                0                0                0                0   \n",
       "\n",
       "   count_1111_1118  count_1118_1125  count_1125_1201  \n",
       "0                0                0                0  \n",
       "1                0                1                2  "
      ]
     },
     "execution_count": 69,
     "metadata": {},
     "output_type": "execute_result"
    }
   ],
   "source": [
    "# df.head(50)\n",
    "df.head(2)"
   ]
  },
  {
   "cell_type": "markdown",
   "metadata": {},
   "source": [
    "#### check performance of first set of features"
   ]
  },
  {
   "cell_type": "code",
   "execution_count": 71,
   "metadata": {
    "ExecuteTime": {
     "end_time": "2019-02-27T22:06:31.393899Z",
     "start_time": "2019-02-27T22:06:30.671357Z"
    }
   },
   "outputs": [
    {
     "data": {
      "text/plain": [
       "0.9843744038420481"
      ]
     },
     "execution_count": 71,
     "metadata": {},
     "output_type": "execute_result"
    }
   ],
   "source": [
    "X = df.drop(['dec1_7','dec1_14'], axis=1)\n",
    "y = df['dec1_7']\n",
    "X_train, X_test, y_train, y_test = train_test_split(X, y, test_size=0.33, random_state=42)\n",
    "clf_dec1_7 = GradientBoostingClassifier()\n",
    "clf_dec1_7.fit(X_train, y_train)\n",
    "y_scores = clf_dec1_7.predict_proba(X_test)\n",
    "roc_auc_score(y_test, y_scores[:,1])\n",
    "# len(y_scores[:,1])"
   ]
  },
  {
   "cell_type": "code",
   "execution_count": 72,
   "metadata": {
    "ExecuteTime": {
     "end_time": "2019-02-27T22:06:42.102011Z",
     "start_time": "2019-02-27T22:06:41.107026Z"
    }
   },
   "outputs": [
    {
     "data": {
      "text/plain": [
       "0.8734261027764274"
      ]
     },
     "execution_count": 72,
     "metadata": {},
     "output_type": "execute_result"
    }
   ],
   "source": [
    "X = df.drop(['dec1_7','dec1_14'], axis=1)\n",
    "y = df['dec1_14']\n",
    "X_train, X_test, y_train, y_test = train_test_split(X, y, test_size=0.33, random_state=42)\n",
    "clf_dec1_14 = GradientBoostingClassifier()\n",
    "clf_dec1_14.fit(X_train, y_train)\n",
    "y_scores = clf_dec1_14.predict_proba(X_test)[:,1]\n",
    "y_scores = [1 if i>=0.5 else 0 for i in y_scores]\n",
    "roc_auc_score(y_test, y_scores)\n",
    "# len(y_scores[:,1])"
   ]
  },
  {
   "cell_type": "markdown",
   "metadata": {},
   "source": [
    "#### create second set of features"
   ]
  },
  {
   "cell_type": "code",
   "execution_count": 73,
   "metadata": {
    "ExecuteTime": {
     "end_time": "2019-02-27T23:18:03.168929Z",
     "start_time": "2019-02-27T22:06:47.088095Z"
    }
   },
   "outputs": [
    {
     "name": "stdout",
     "output_type": "stream",
     "text": [
      "5854801\n",
      "9080303\n",
      "10927830\n",
      "11997705\n",
      "12515096\n",
      "12619315\n",
      "30767\n",
      "13602230\n",
      "9891204\n"
     ]
    }
   ],
   "source": [
    "# https://stackoverflow.com/questions/45752601/python-pandas-conditional-count-after-groupby\n",
    "\n",
    "events_1001_1007 = events.groupby('user_id_hash')['event_timestamp']\\\n",
    "                        .apply(lambda x: (x < to_milli(oct_7)).sum()).reset_index(name='count')\n",
    "print(sum(events_1001_1007['count']))\n",
    "\n",
    "\n",
    "events_1007_1014 = events.groupby('user_id_hash')['event_timestamp']\\\n",
    "                        .apply(lambda x: ((x > to_milli(oct_7))&(x < to_milli(oct_14))).sum()).reset_index(name='count')\n",
    "print(sum(events_1007_1014['count']))\n",
    "\n",
    "\n",
    "events_1014_1021 = events.groupby('user_id_hash')['event_timestamp']\\\n",
    "                        .apply(lambda x: ((x > to_milli(oct_14))&(x < to_milli(oct_21))).sum()).reset_index(name='count')\n",
    "print(sum(events_1014_1021['count']))\n",
    "\n",
    "\n",
    "events_1021_1028 = events.groupby('user_id_hash')['event_timestamp']\\\n",
    "                        .apply(lambda x: ((x > to_milli(oct_21))&(x < to_milli(oct_28))).sum()).reset_index(name='count')\n",
    "print(sum(events_1021_1028['count']))\n",
    "\n",
    "\n",
    "events_1028_1104 = events.groupby('user_id_hash')['event_timestamp']\\\n",
    "                        .apply(lambda x: ((x > to_milli(oct_28))&(x < to_milli(nov_4))).sum()).reset_index(name='count')\n",
    "print(sum(events_1028_1104['count']))\n",
    "\n",
    "\n",
    "events_1104_1111 = events.groupby('user_id_hash')['event_timestamp']\\\n",
    "                        .apply(lambda x: ((x > to_milli(nov_4))&(x < to_milli(nov_11))).sum()).reset_index(name='count')\n",
    "print(sum(events_1104_1111['count']))\n",
    "\n",
    "\n",
    "events_1111_1118 = bought.groupby('user_id_hash')['event_timestamp']\\\n",
    "                        .apply(lambda x: ((x > to_milli(nov_11))&(x < to_milli(nov_18))).sum()).reset_index(name='count')\n",
    "print(sum(events_1111_1118['count']))\n",
    "\n",
    "\n",
    "events_1118_1125 = events.groupby('user_id_hash')['event_timestamp']\\\n",
    "                        .apply(lambda x: ((x > to_milli(nov_18))&(x < to_milli(nov_25))).sum()).reset_index(name='count')\n",
    "print(sum(events_1118_1125['count']))\n",
    "\n",
    "\n",
    "events_1125_1201 = events.groupby('user_id_hash')['event_timestamp']\\\n",
    "                        .apply(lambda x: ((x > to_milli(nov_25))&(x < to_milli(dec_1))).sum()).reset_index(name='count')\n",
    "print(sum(events_1125_1201['count']))\n",
    "\n"
   ]
  },
  {
   "cell_type": "code",
   "execution_count": 74,
   "metadata": {
    "ExecuteTime": {
     "end_time": "2019-02-27T23:18:04.563300Z",
     "start_time": "2019-02-27T23:18:04.551321Z"
    }
   },
   "outputs": [
    {
     "data": {
      "text/html": [
       "<div>\n",
       "<style scoped>\n",
       "    .dataframe tbody tr th:only-of-type {\n",
       "        vertical-align: middle;\n",
       "    }\n",
       "\n",
       "    .dataframe tbody tr th {\n",
       "        vertical-align: top;\n",
       "    }\n",
       "\n",
       "    .dataframe thead th {\n",
       "        text-align: right;\n",
       "    }\n",
       "</style>\n",
       "<table border=\"1\" class=\"dataframe\">\n",
       "  <thead>\n",
       "    <tr style=\"text-align: right;\">\n",
       "      <th></th>\n",
       "      <th>user_id_hash</th>\n",
       "      <th>count</th>\n",
       "    </tr>\n",
       "  </thead>\n",
       "  <tbody>\n",
       "    <tr>\n",
       "      <th>0</th>\n",
       "      <td>0</td>\n",
       "      <td>51</td>\n",
       "    </tr>\n",
       "    <tr>\n",
       "      <th>1</th>\n",
       "      <td>1</td>\n",
       "      <td>0</td>\n",
       "    </tr>\n",
       "    <tr>\n",
       "      <th>2</th>\n",
       "      <td>2</td>\n",
       "      <td>0</td>\n",
       "    </tr>\n",
       "  </tbody>\n",
       "</table>\n",
       "</div>"
      ],
      "text/plain": [
       "   user_id_hash  count\n",
       "0             0     51\n",
       "1             1      0\n",
       "2             2      0"
      ]
     },
     "execution_count": 74,
     "metadata": {},
     "output_type": "execute_result"
    }
   ],
   "source": [
    "events_1125_1201.head(3)"
   ]
  },
  {
   "cell_type": "markdown",
   "metadata": {},
   "source": [
    "#### add second set of features"
   ]
  },
  {
   "cell_type": "code",
   "execution_count": 200,
   "metadata": {
    "ExecuteTime": {
     "end_time": "2019-02-28T00:36:20.380024Z",
     "start_time": "2019-02-28T00:36:14.540374Z"
    }
   },
   "outputs": [],
   "source": [
    "df = df.merge(events_1001_1007, left_on='user_id_hash', right_on='user_id_hash', how='left')\n",
    "df = df.rename(index=str, columns={\"count\": \"events_1001_1007\"})\n",
    "df = df.merge(events_1007_1014, left_on='user_id_hash', right_on='user_id_hash', how='left')\n",
    "df = df.rename(index=str, columns={\"count\": \"events_1007_1014\"})\n",
    "df = df.merge(events_1014_1021, left_on='user_id_hash', right_on='user_id_hash', how='left')\n",
    "df = df.rename(index=str, columns={\"count\": \"events_1014_1021\"})\n",
    "df = df.merge(events_1021_1028, left_on='user_id_hash', right_on='user_id_hash', how='left')\n",
    "df = df.rename(index=str, columns={\"count\": \"events_1021_1028\"})\n",
    "df = df.merge(events_1028_1104, left_on='user_id_hash', right_on='user_id_hash', how='left')\n",
    "df = df.rename(index=str, columns={\"count\": \"events_1028_1104\"})\n",
    "df = df.merge(events_1104_1111, left_on='user_id_hash', right_on='user_id_hash', how='left')\n",
    "df = df.rename(index=str, columns={\"count\": \"events_1104_1111\"})\n",
    "df = df.merge(events_1111_1118, left_on='user_id_hash', right_on='user_id_hash', how='left')\n",
    "df = df.rename(index=str, columns={\"count\": \"events_1111_1118\"})\n",
    "df = df.merge(events_1118_1125, left_on='user_id_hash', right_on='user_id_hash', how='left')\n",
    "df = df.rename(index=str, columns={\"count\": \"events_1118_1125\"})\n",
    "df = df.merge(events_1125_1201, left_on='user_id_hash', right_on='user_id_hash', how='left')\n",
    "df = df.rename(index=str, columns={\"count\": \"events_1125_1201\"})"
   ]
  },
  {
   "cell_type": "code",
   "execution_count": 76,
   "metadata": {
    "ExecuteTime": {
     "end_time": "2019-02-27T23:18:08.074916Z",
     "start_time": "2019-02-27T23:18:08.048286Z"
    }
   },
   "outputs": [
    {
     "data": {
      "text/html": [
       "<div>\n",
       "<style scoped>\n",
       "    .dataframe tbody tr th:only-of-type {\n",
       "        vertical-align: middle;\n",
       "    }\n",
       "\n",
       "    .dataframe tbody tr th {\n",
       "        vertical-align: top;\n",
       "    }\n",
       "\n",
       "    .dataframe thead th {\n",
       "        text-align: right;\n",
       "    }\n",
       "</style>\n",
       "<table border=\"1\" class=\"dataframe\">\n",
       "  <thead>\n",
       "    <tr style=\"text-align: right;\">\n",
       "      <th></th>\n",
       "      <th>user_id_hash</th>\n",
       "      <th>dec1_14</th>\n",
       "      <th>dec1_7</th>\n",
       "      <th>count_1001_1007</th>\n",
       "      <th>count_1007_1014</th>\n",
       "      <th>count_1014_1021</th>\n",
       "      <th>count_1021_1028</th>\n",
       "      <th>count_1028_1104</th>\n",
       "      <th>count_1104_1111</th>\n",
       "      <th>count_1111_1118</th>\n",
       "      <th>count_1118_1125</th>\n",
       "      <th>count_1125_1201</th>\n",
       "      <th>events_1001_1007</th>\n",
       "      <th>events_1007_1014</th>\n",
       "      <th>events_1014_1021</th>\n",
       "      <th>events_1021_1028</th>\n",
       "      <th>events_1028_1104</th>\n",
       "      <th>events_1104_1111</th>\n",
       "      <th>events_1111_1118</th>\n",
       "      <th>events_1118_1125</th>\n",
       "      <th>events_1125_1201</th>\n",
       "    </tr>\n",
       "  </thead>\n",
       "  <tbody>\n",
       "    <tr>\n",
       "      <th>0</th>\n",
       "      <td>0</td>\n",
       "      <td>0</td>\n",
       "      <td>0</td>\n",
       "      <td>0</td>\n",
       "      <td>0</td>\n",
       "      <td>0</td>\n",
       "      <td>0</td>\n",
       "      <td>0</td>\n",
       "      <td>1</td>\n",
       "      <td>0</td>\n",
       "      <td>0</td>\n",
       "      <td>0</td>\n",
       "      <td>109</td>\n",
       "      <td>124</td>\n",
       "      <td>32</td>\n",
       "      <td>0</td>\n",
       "      <td>4</td>\n",
       "      <td>157</td>\n",
       "      <td>0</td>\n",
       "      <td>28</td>\n",
       "      <td>51</td>\n",
       "    </tr>\n",
       "    <tr>\n",
       "      <th>1</th>\n",
       "      <td>14</td>\n",
       "      <td>0</td>\n",
       "      <td>0</td>\n",
       "      <td>0</td>\n",
       "      <td>0</td>\n",
       "      <td>0</td>\n",
       "      <td>0</td>\n",
       "      <td>0</td>\n",
       "      <td>0</td>\n",
       "      <td>0</td>\n",
       "      <td>1</td>\n",
       "      <td>2</td>\n",
       "      <td>0</td>\n",
       "      <td>0</td>\n",
       "      <td>0</td>\n",
       "      <td>0</td>\n",
       "      <td>0</td>\n",
       "      <td>0</td>\n",
       "      <td>0</td>\n",
       "      <td>78</td>\n",
       "      <td>125</td>\n",
       "    </tr>\n",
       "    <tr>\n",
       "      <th>2</th>\n",
       "      <td>17</td>\n",
       "      <td>0</td>\n",
       "      <td>0</td>\n",
       "      <td>0</td>\n",
       "      <td>0</td>\n",
       "      <td>0</td>\n",
       "      <td>0</td>\n",
       "      <td>0</td>\n",
       "      <td>2</td>\n",
       "      <td>0</td>\n",
       "      <td>0</td>\n",
       "      <td>0</td>\n",
       "      <td>0</td>\n",
       "      <td>0</td>\n",
       "      <td>0</td>\n",
       "      <td>8</td>\n",
       "      <td>0</td>\n",
       "      <td>162</td>\n",
       "      <td>0</td>\n",
       "      <td>0</td>\n",
       "      <td>0</td>\n",
       "    </tr>\n",
       "    <tr>\n",
       "      <th>3</th>\n",
       "      <td>39</td>\n",
       "      <td>0</td>\n",
       "      <td>0</td>\n",
       "      <td>0</td>\n",
       "      <td>0</td>\n",
       "      <td>0</td>\n",
       "      <td>0</td>\n",
       "      <td>7</td>\n",
       "      <td>3</td>\n",
       "      <td>0</td>\n",
       "      <td>0</td>\n",
       "      <td>0</td>\n",
       "      <td>0</td>\n",
       "      <td>0</td>\n",
       "      <td>0</td>\n",
       "      <td>0</td>\n",
       "      <td>489</td>\n",
       "      <td>274</td>\n",
       "      <td>0</td>\n",
       "      <td>0</td>\n",
       "      <td>0</td>\n",
       "    </tr>\n",
       "    <tr>\n",
       "      <th>4</th>\n",
       "      <td>41</td>\n",
       "      <td>0</td>\n",
       "      <td>0</td>\n",
       "      <td>0</td>\n",
       "      <td>0</td>\n",
       "      <td>2</td>\n",
       "      <td>4</td>\n",
       "      <td>3</td>\n",
       "      <td>0</td>\n",
       "      <td>0</td>\n",
       "      <td>0</td>\n",
       "      <td>0</td>\n",
       "      <td>0</td>\n",
       "      <td>0</td>\n",
       "      <td>202</td>\n",
       "      <td>288</td>\n",
       "      <td>357</td>\n",
       "      <td>0</td>\n",
       "      <td>0</td>\n",
       "      <td>0</td>\n",
       "      <td>0</td>\n",
       "    </tr>\n",
       "    <tr>\n",
       "      <th>5</th>\n",
       "      <td>47</td>\n",
       "      <td>0</td>\n",
       "      <td>0</td>\n",
       "      <td>0</td>\n",
       "      <td>0</td>\n",
       "      <td>0</td>\n",
       "      <td>0</td>\n",
       "      <td>1</td>\n",
       "      <td>0</td>\n",
       "      <td>0</td>\n",
       "      <td>0</td>\n",
       "      <td>0</td>\n",
       "      <td>0</td>\n",
       "      <td>0</td>\n",
       "      <td>0</td>\n",
       "      <td>154</td>\n",
       "      <td>192</td>\n",
       "      <td>0</td>\n",
       "      <td>0</td>\n",
       "      <td>1</td>\n",
       "      <td>0</td>\n",
       "    </tr>\n",
       "    <tr>\n",
       "      <th>6</th>\n",
       "      <td>49</td>\n",
       "      <td>0</td>\n",
       "      <td>0</td>\n",
       "      <td>0</td>\n",
       "      <td>0</td>\n",
       "      <td>0</td>\n",
       "      <td>0</td>\n",
       "      <td>0</td>\n",
       "      <td>3</td>\n",
       "      <td>0</td>\n",
       "      <td>0</td>\n",
       "      <td>0</td>\n",
       "      <td>0</td>\n",
       "      <td>0</td>\n",
       "      <td>0</td>\n",
       "      <td>0</td>\n",
       "      <td>0</td>\n",
       "      <td>128</td>\n",
       "      <td>0</td>\n",
       "      <td>0</td>\n",
       "      <td>0</td>\n",
       "    </tr>\n",
       "    <tr>\n",
       "      <th>7</th>\n",
       "      <td>62</td>\n",
       "      <td>0</td>\n",
       "      <td>0</td>\n",
       "      <td>0</td>\n",
       "      <td>0</td>\n",
       "      <td>0</td>\n",
       "      <td>0</td>\n",
       "      <td>7</td>\n",
       "      <td>3</td>\n",
       "      <td>4</td>\n",
       "      <td>0</td>\n",
       "      <td>0</td>\n",
       "      <td>0</td>\n",
       "      <td>0</td>\n",
       "      <td>0</td>\n",
       "      <td>0</td>\n",
       "      <td>368</td>\n",
       "      <td>149</td>\n",
       "      <td>4</td>\n",
       "      <td>0</td>\n",
       "      <td>0</td>\n",
       "    </tr>\n",
       "    <tr>\n",
       "      <th>8</th>\n",
       "      <td>64</td>\n",
       "      <td>0</td>\n",
       "      <td>0</td>\n",
       "      <td>0</td>\n",
       "      <td>1</td>\n",
       "      <td>1</td>\n",
       "      <td>2</td>\n",
       "      <td>6</td>\n",
       "      <td>2</td>\n",
       "      <td>4</td>\n",
       "      <td>0</td>\n",
       "      <td>6</td>\n",
       "      <td>0</td>\n",
       "      <td>242</td>\n",
       "      <td>1085</td>\n",
       "      <td>860</td>\n",
       "      <td>1374</td>\n",
       "      <td>964</td>\n",
       "      <td>4</td>\n",
       "      <td>529</td>\n",
       "      <td>834</td>\n",
       "    </tr>\n",
       "    <tr>\n",
       "      <th>9</th>\n",
       "      <td>86</td>\n",
       "      <td>1</td>\n",
       "      <td>1</td>\n",
       "      <td>0</td>\n",
       "      <td>0</td>\n",
       "      <td>0</td>\n",
       "      <td>0</td>\n",
       "      <td>0</td>\n",
       "      <td>0</td>\n",
       "      <td>2</td>\n",
       "      <td>0</td>\n",
       "      <td>0</td>\n",
       "      <td>0</td>\n",
       "      <td>0</td>\n",
       "      <td>0</td>\n",
       "      <td>0</td>\n",
       "      <td>0</td>\n",
       "      <td>0</td>\n",
       "      <td>2</td>\n",
       "      <td>53</td>\n",
       "      <td>0</td>\n",
       "    </tr>\n",
       "    <tr>\n",
       "      <th>10</th>\n",
       "      <td>99</td>\n",
       "      <td>0</td>\n",
       "      <td>0</td>\n",
       "      <td>0</td>\n",
       "      <td>0</td>\n",
       "      <td>0</td>\n",
       "      <td>0</td>\n",
       "      <td>0</td>\n",
       "      <td>0</td>\n",
       "      <td>0</td>\n",
       "      <td>4</td>\n",
       "      <td>0</td>\n",
       "      <td>0</td>\n",
       "      <td>0</td>\n",
       "      <td>0</td>\n",
       "      <td>0</td>\n",
       "      <td>0</td>\n",
       "      <td>0</td>\n",
       "      <td>0</td>\n",
       "      <td>130</td>\n",
       "      <td>2</td>\n",
       "    </tr>\n",
       "    <tr>\n",
       "      <th>11</th>\n",
       "      <td>100</td>\n",
       "      <td>0</td>\n",
       "      <td>0</td>\n",
       "      <td>0</td>\n",
       "      <td>0</td>\n",
       "      <td>0</td>\n",
       "      <td>7</td>\n",
       "      <td>10</td>\n",
       "      <td>0</td>\n",
       "      <td>0</td>\n",
       "      <td>0</td>\n",
       "      <td>1</td>\n",
       "      <td>0</td>\n",
       "      <td>0</td>\n",
       "      <td>0</td>\n",
       "      <td>286</td>\n",
       "      <td>444</td>\n",
       "      <td>164</td>\n",
       "      <td>0</td>\n",
       "      <td>0</td>\n",
       "      <td>26</td>\n",
       "    </tr>\n",
       "    <tr>\n",
       "      <th>12</th>\n",
       "      <td>102</td>\n",
       "      <td>0</td>\n",
       "      <td>0</td>\n",
       "      <td>2</td>\n",
       "      <td>3</td>\n",
       "      <td>0</td>\n",
       "      <td>0</td>\n",
       "      <td>0</td>\n",
       "      <td>0</td>\n",
       "      <td>0</td>\n",
       "      <td>0</td>\n",
       "      <td>0</td>\n",
       "      <td>171</td>\n",
       "      <td>177</td>\n",
       "      <td>0</td>\n",
       "      <td>4</td>\n",
       "      <td>0</td>\n",
       "      <td>0</td>\n",
       "      <td>0</td>\n",
       "      <td>0</td>\n",
       "      <td>0</td>\n",
       "    </tr>\n",
       "    <tr>\n",
       "      <th>13</th>\n",
       "      <td>106</td>\n",
       "      <td>0</td>\n",
       "      <td>0</td>\n",
       "      <td>0</td>\n",
       "      <td>0</td>\n",
       "      <td>0</td>\n",
       "      <td>1</td>\n",
       "      <td>0</td>\n",
       "      <td>0</td>\n",
       "      <td>0</td>\n",
       "      <td>0</td>\n",
       "      <td>0</td>\n",
       "      <td>0</td>\n",
       "      <td>0</td>\n",
       "      <td>0</td>\n",
       "      <td>51</td>\n",
       "      <td>11</td>\n",
       "      <td>0</td>\n",
       "      <td>0</td>\n",
       "      <td>0</td>\n",
       "      <td>0</td>\n",
       "    </tr>\n",
       "    <tr>\n",
       "      <th>14</th>\n",
       "      <td>107</td>\n",
       "      <td>0</td>\n",
       "      <td>0</td>\n",
       "      <td>0</td>\n",
       "      <td>0</td>\n",
       "      <td>0</td>\n",
       "      <td>0</td>\n",
       "      <td>0</td>\n",
       "      <td>3</td>\n",
       "      <td>7</td>\n",
       "      <td>0</td>\n",
       "      <td>0</td>\n",
       "      <td>0</td>\n",
       "      <td>0</td>\n",
       "      <td>0</td>\n",
       "      <td>0</td>\n",
       "      <td>0</td>\n",
       "      <td>207</td>\n",
       "      <td>7</td>\n",
       "      <td>0</td>\n",
       "      <td>0</td>\n",
       "    </tr>\n",
       "    <tr>\n",
       "      <th>15</th>\n",
       "      <td>135</td>\n",
       "      <td>0</td>\n",
       "      <td>0</td>\n",
       "      <td>0</td>\n",
       "      <td>0</td>\n",
       "      <td>10</td>\n",
       "      <td>2</td>\n",
       "      <td>0</td>\n",
       "      <td>0</td>\n",
       "      <td>0</td>\n",
       "      <td>0</td>\n",
       "      <td>0</td>\n",
       "      <td>0</td>\n",
       "      <td>0</td>\n",
       "      <td>666</td>\n",
       "      <td>67</td>\n",
       "      <td>0</td>\n",
       "      <td>0</td>\n",
       "      <td>0</td>\n",
       "      <td>0</td>\n",
       "      <td>1</td>\n",
       "    </tr>\n",
       "    <tr>\n",
       "      <th>16</th>\n",
       "      <td>146</td>\n",
       "      <td>0</td>\n",
       "      <td>0</td>\n",
       "      <td>0</td>\n",
       "      <td>0</td>\n",
       "      <td>0</td>\n",
       "      <td>0</td>\n",
       "      <td>0</td>\n",
       "      <td>11</td>\n",
       "      <td>7</td>\n",
       "      <td>0</td>\n",
       "      <td>0</td>\n",
       "      <td>0</td>\n",
       "      <td>0</td>\n",
       "      <td>0</td>\n",
       "      <td>0</td>\n",
       "      <td>0</td>\n",
       "      <td>474</td>\n",
       "      <td>7</td>\n",
       "      <td>42</td>\n",
       "      <td>0</td>\n",
       "    </tr>\n",
       "    <tr>\n",
       "      <th>17</th>\n",
       "      <td>159</td>\n",
       "      <td>0</td>\n",
       "      <td>0</td>\n",
       "      <td>0</td>\n",
       "      <td>0</td>\n",
       "      <td>5</td>\n",
       "      <td>0</td>\n",
       "      <td>0</td>\n",
       "      <td>0</td>\n",
       "      <td>0</td>\n",
       "      <td>0</td>\n",
       "      <td>0</td>\n",
       "      <td>0</td>\n",
       "      <td>0</td>\n",
       "      <td>398</td>\n",
       "      <td>273</td>\n",
       "      <td>0</td>\n",
       "      <td>0</td>\n",
       "      <td>0</td>\n",
       "      <td>0</td>\n",
       "      <td>0</td>\n",
       "    </tr>\n",
       "    <tr>\n",
       "      <th>18</th>\n",
       "      <td>162</td>\n",
       "      <td>0</td>\n",
       "      <td>0</td>\n",
       "      <td>0</td>\n",
       "      <td>0</td>\n",
       "      <td>0</td>\n",
       "      <td>5</td>\n",
       "      <td>0</td>\n",
       "      <td>0</td>\n",
       "      <td>0</td>\n",
       "      <td>0</td>\n",
       "      <td>0</td>\n",
       "      <td>0</td>\n",
       "      <td>0</td>\n",
       "      <td>0</td>\n",
       "      <td>261</td>\n",
       "      <td>0</td>\n",
       "      <td>0</td>\n",
       "      <td>0</td>\n",
       "      <td>0</td>\n",
       "      <td>0</td>\n",
       "    </tr>\n",
       "    <tr>\n",
       "      <th>19</th>\n",
       "      <td>220</td>\n",
       "      <td>0</td>\n",
       "      <td>0</td>\n",
       "      <td>4</td>\n",
       "      <td>0</td>\n",
       "      <td>0</td>\n",
       "      <td>0</td>\n",
       "      <td>0</td>\n",
       "      <td>0</td>\n",
       "      <td>0</td>\n",
       "      <td>0</td>\n",
       "      <td>0</td>\n",
       "      <td>525</td>\n",
       "      <td>283</td>\n",
       "      <td>0</td>\n",
       "      <td>0</td>\n",
       "      <td>0</td>\n",
       "      <td>0</td>\n",
       "      <td>0</td>\n",
       "      <td>0</td>\n",
       "      <td>0</td>\n",
       "    </tr>\n",
       "  </tbody>\n",
       "</table>\n",
       "</div>"
      ],
      "text/plain": [
       "    user_id_hash  dec1_14  dec1_7  count_1001_1007  count_1007_1014  \\\n",
       "0              0        0       0                0                0   \n",
       "1             14        0       0                0                0   \n",
       "2             17        0       0                0                0   \n",
       "3             39        0       0                0                0   \n",
       "4             41        0       0                0                0   \n",
       "5             47        0       0                0                0   \n",
       "6             49        0       0                0                0   \n",
       "7             62        0       0                0                0   \n",
       "8             64        0       0                0                1   \n",
       "9             86        1       1                0                0   \n",
       "10            99        0       0                0                0   \n",
       "11           100        0       0                0                0   \n",
       "12           102        0       0                2                3   \n",
       "13           106        0       0                0                0   \n",
       "14           107        0       0                0                0   \n",
       "15           135        0       0                0                0   \n",
       "16           146        0       0                0                0   \n",
       "17           159        0       0                0                0   \n",
       "18           162        0       0                0                0   \n",
       "19           220        0       0                4                0   \n",
       "\n",
       "    count_1014_1021  count_1021_1028  count_1028_1104  count_1104_1111  \\\n",
       "0                 0                0                0                1   \n",
       "1                 0                0                0                0   \n",
       "2                 0                0                0                2   \n",
       "3                 0                0                7                3   \n",
       "4                 2                4                3                0   \n",
       "5                 0                0                1                0   \n",
       "6                 0                0                0                3   \n",
       "7                 0                0                7                3   \n",
       "8                 1                2                6                2   \n",
       "9                 0                0                0                0   \n",
       "10                0                0                0                0   \n",
       "11                0                7               10                0   \n",
       "12                0                0                0                0   \n",
       "13                0                1                0                0   \n",
       "14                0                0                0                3   \n",
       "15               10                2                0                0   \n",
       "16                0                0                0               11   \n",
       "17                5                0                0                0   \n",
       "18                0                5                0                0   \n",
       "19                0                0                0                0   \n",
       "\n",
       "    count_1111_1118  count_1118_1125  count_1125_1201  events_1001_1007  \\\n",
       "0                 0                0                0               109   \n",
       "1                 0                1                2                 0   \n",
       "2                 0                0                0                 0   \n",
       "3                 0                0                0                 0   \n",
       "4                 0                0                0                 0   \n",
       "5                 0                0                0                 0   \n",
       "6                 0                0                0                 0   \n",
       "7                 4                0                0                 0   \n",
       "8                 4                0                6                 0   \n",
       "9                 2                0                0                 0   \n",
       "10                0                4                0                 0   \n",
       "11                0                0                1                 0   \n",
       "12                0                0                0               171   \n",
       "13                0                0                0                 0   \n",
       "14                7                0                0                 0   \n",
       "15                0                0                0                 0   \n",
       "16                7                0                0                 0   \n",
       "17                0                0                0                 0   \n",
       "18                0                0                0                 0   \n",
       "19                0                0                0               525   \n",
       "\n",
       "    events_1007_1014  events_1014_1021  events_1021_1028  events_1028_1104  \\\n",
       "0                124                32                 0                 4   \n",
       "1                  0                 0                 0                 0   \n",
       "2                  0                 0                 8                 0   \n",
       "3                  0                 0                 0               489   \n",
       "4                  0               202               288               357   \n",
       "5                  0                 0               154               192   \n",
       "6                  0                 0                 0                 0   \n",
       "7                  0                 0                 0               368   \n",
       "8                242              1085               860              1374   \n",
       "9                  0                 0                 0                 0   \n",
       "10                 0                 0                 0                 0   \n",
       "11                 0                 0               286               444   \n",
       "12               177                 0                 4                 0   \n",
       "13                 0                 0                51                11   \n",
       "14                 0                 0                 0                 0   \n",
       "15                 0               666                67                 0   \n",
       "16                 0                 0                 0                 0   \n",
       "17                 0               398               273                 0   \n",
       "18                 0                 0               261                 0   \n",
       "19               283                 0                 0                 0   \n",
       "\n",
       "    events_1104_1111  events_1111_1118  events_1118_1125  events_1125_1201  \n",
       "0                157                 0                28                51  \n",
       "1                  0                 0                78               125  \n",
       "2                162                 0                 0                 0  \n",
       "3                274                 0                 0                 0  \n",
       "4                  0                 0                 0                 0  \n",
       "5                  0                 0                 1                 0  \n",
       "6                128                 0                 0                 0  \n",
       "7                149                 4                 0                 0  \n",
       "8                964                 4               529               834  \n",
       "9                  0                 2                53                 0  \n",
       "10                 0                 0               130                 2  \n",
       "11               164                 0                 0                26  \n",
       "12                 0                 0                 0                 0  \n",
       "13                 0                 0                 0                 0  \n",
       "14               207                 7                 0                 0  \n",
       "15                 0                 0                 0                 1  \n",
       "16               474                 7                42                 0  \n",
       "17                 0                 0                 0                 0  \n",
       "18                 0                 0                 0                 0  \n",
       "19                 0                 0                 0                 0  "
      ]
     },
     "execution_count": 76,
     "metadata": {},
     "output_type": "execute_result"
    }
   ],
   "source": [
    "df.head(20)"
   ]
  },
  {
   "cell_type": "markdown",
   "metadata": {},
   "source": [
    "#### check second set of features performance"
   ]
  },
  {
   "cell_type": "code",
   "execution_count": 202,
   "metadata": {
    "ExecuteTime": {
     "end_time": "2019-02-28T00:37:13.844438Z",
     "start_time": "2019-02-28T00:36:41.899617Z"
    }
   },
   "outputs": [
    {
     "data": {
      "text/plain": [
       "0.9659353910035892"
      ]
     },
     "execution_count": 202,
     "metadata": {},
     "output_type": "execute_result"
    }
   ],
   "source": [
    "df = df.fillna(0)\n",
    "X = df.drop(['dec1_7','dec1_14'], axis=1)\n",
    "y = df['dec1_7']\n",
    "X_train, X_test, y_train, y_test = train_test_split(X, y, test_size=0.33, random_state=42)\n",
    "clf_dec1_7 = GradientBoostingClassifier()\n",
    "clf_dec1_7.fit(X_train, y_train)\n",
    "y_scores = clf_dec1_7.predict_proba(X_test)\n",
    "roc_auc_score(y_test, y_scores[:,1])\n",
    "# len(y_scores[:,1])"
   ]
  },
  {
   "cell_type": "code",
   "execution_count": 203,
   "metadata": {
    "ExecuteTime": {
     "end_time": "2019-02-28T00:38:30.030503Z",
     "start_time": "2019-02-28T00:37:54.253815Z"
    }
   },
   "outputs": [
    {
     "data": {
      "text/plain": [
       "0.9581662148509528"
      ]
     },
     "execution_count": 203,
     "metadata": {},
     "output_type": "execute_result"
    }
   ],
   "source": [
    "X = df.drop(['dec1_7','dec1_14'], axis=1)\n",
    "y = df['dec1_14']\n",
    "X_train, X_test, y_train, y_test = train_test_split(X, y, test_size=0.33, random_state=42)\n",
    "clf_dec1_14 = GradientBoostingClassifier()\n",
    "clf_dec1_14.fit(X_train, y_train)\n",
    "y_scores = clf_dec1_14.predict_proba(X_test)[:,1]\n",
    "# y_scores = [1 if i>=0.99 elif 0 for i in y_scores]\n",
    "# for i in range(len(y_scores)):\n",
    "#     if y_scores[i]>0.99:\n",
    "#         y_scores[i]=1\n",
    "#     elif y_scores[i]<0.01:\n",
    "#         y_scores[i]=0\n",
    "roc_auc_score(y_test, y_scores)\n",
    "# len(y_scores[:,1])"
   ]
  },
  {
   "cell_type": "markdown",
   "metadata": {},
   "source": [
    "### Load sessions and EDA"
   ]
  },
  {
   "cell_type": "code",
   "execution_count": 3,
   "metadata": {
    "ExecuteTime": {
     "end_time": "2019-02-27T21:26:45.488267Z",
     "start_time": "2019-02-27T21:26:20.181359Z"
    },
    "scrolled": true
   },
   "outputs": [],
   "source": [
    "sessions = pd.read_csv(\"sessions.csv\")"
   ]
  },
  {
   "cell_type": "code",
   "execution_count": 4,
   "metadata": {
    "ExecuteTime": {
     "end_time": "2019-02-27T21:26:49.506641Z",
     "start_time": "2019-02-27T21:26:49.503183Z"
    }
   },
   "outputs": [],
   "source": [
    "pd.set_option('display.max_columns', 500)"
   ]
  },
  {
   "cell_type": "code",
   "execution_count": 5,
   "metadata": {
    "ExecuteTime": {
     "end_time": "2019-02-27T21:26:49.643913Z",
     "start_time": "2019-02-27T21:26:49.611729Z"
    }
   },
   "outputs": [
    {
     "data": {
      "text/plain": [
       "array([4724682771660800])"
      ]
     },
     "execution_count": 5,
     "metadata": {},
     "output_type": "execute_result"
    }
   ],
   "source": [
    "sessions['app_id'].unique()"
   ]
  },
  {
   "cell_type": "code",
   "execution_count": 6,
   "metadata": {
    "ExecuteTime": {
     "end_time": "2019-02-27T21:26:50.397485Z",
     "start_time": "2019-02-27T21:26:49.739201Z"
    }
   },
   "outputs": [],
   "source": [
    "sessions = sessions.drop(['app_id'], axis=1)"
   ]
  },
  {
   "cell_type": "code",
   "execution_count": 7,
   "metadata": {
    "ExecuteTime": {
     "end_time": "2019-02-27T21:26:50.510071Z",
     "start_time": "2019-02-27T21:26:50.486797Z"
    }
   },
   "outputs": [
    {
     "data": {
      "text/html": [
       "<div>\n",
       "<style scoped>\n",
       "    .dataframe tbody tr th:only-of-type {\n",
       "        vertical-align: middle;\n",
       "    }\n",
       "\n",
       "    .dataframe tbody tr th {\n",
       "        vertical-align: top;\n",
       "    }\n",
       "\n",
       "    .dataframe thead th {\n",
       "        text-align: right;\n",
       "    }\n",
       "</style>\n",
       "<table border=\"1\" class=\"dataframe\">\n",
       "  <thead>\n",
       "    <tr style=\"text-align: right;\">\n",
       "      <th></th>\n",
       "      <th>session_id</th>\n",
       "      <th>start_timestamp</th>\n",
       "      <th>timezone</th>\n",
       "      <th>timezone_offset</th>\n",
       "      <th>previous_sessions_duration</th>\n",
       "      <th>user_created_timestamp</th>\n",
       "      <th>is_user_first_session</th>\n",
       "      <th>is_session</th>\n",
       "      <th>is_developer</th>\n",
       "      <th>is_wau</th>\n",
       "      <th>is_mau</th>\n",
       "      <th>country</th>\n",
       "      <th>region</th>\n",
       "      <th>city</th>\n",
       "      <th>latitude</th>\n",
       "      <th>longitude</th>\n",
       "      <th>locale</th>\n",
       "      <th>os_name</th>\n",
       "      <th>session_index</th>\n",
       "      <th>device_id</th>\n",
       "      <th>user_id_hash</th>\n",
       "    </tr>\n",
       "  </thead>\n",
       "  <tbody>\n",
       "    <tr>\n",
       "      <th>0</th>\n",
       "      <td>5558845121177764917</td>\n",
       "      <td>1542215364580</td>\n",
       "      <td>Asia/Manila</td>\n",
       "      <td>28800000.0</td>\n",
       "      <td>25837591</td>\n",
       "      <td>1538874289458</td>\n",
       "      <td>False</td>\n",
       "      <td>True</td>\n",
       "      <td>False</td>\n",
       "      <td>False</td>\n",
       "      <td>False</td>\n",
       "      <td>PH</td>\n",
       "      <td>00</td>\n",
       "      <td>makati</td>\n",
       "      <td>14.554729</td>\n",
       "      <td>121.024445</td>\n",
       "      <td>en_GB</td>\n",
       "      <td>Android OS</td>\n",
       "      <td>30</td>\n",
       "      <td>546a3d98-d540-4e72-ad82-9ebd64e0839b</td>\n",
       "      <td>9943447915df3a45fd6720a026af905b6da6b56a37701b...</td>\n",
       "    </tr>\n",
       "    <tr>\n",
       "      <th>1</th>\n",
       "      <td>2201961907282901522</td>\n",
       "      <td>1543712977293</td>\n",
       "      <td>Asia/Manila</td>\n",
       "      <td>28800000.0</td>\n",
       "      <td>35050130</td>\n",
       "      <td>1538874289458</td>\n",
       "      <td>False</td>\n",
       "      <td>True</td>\n",
       "      <td>False</td>\n",
       "      <td>False</td>\n",
       "      <td>False</td>\n",
       "      <td>PH</td>\n",
       "      <td>00</td>\n",
       "      <td>quezon city</td>\n",
       "      <td>14.676041</td>\n",
       "      <td>121.043701</td>\n",
       "      <td>en_GB</td>\n",
       "      <td>Android OS</td>\n",
       "      <td>47</td>\n",
       "      <td>546a3d98-d540-4e72-ad82-9ebd64e0839b</td>\n",
       "      <td>9943447915df3a45fd6720a026af905b6da6b56a37701b...</td>\n",
       "    </tr>\n",
       "    <tr>\n",
       "      <th>2</th>\n",
       "      <td>18781111175537580</td>\n",
       "      <td>1539215568666</td>\n",
       "      <td>Asia/Manila</td>\n",
       "      <td>28800000.0</td>\n",
       "      <td>11343848</td>\n",
       "      <td>1538874289458</td>\n",
       "      <td>False</td>\n",
       "      <td>True</td>\n",
       "      <td>False</td>\n",
       "      <td>False</td>\n",
       "      <td>False</td>\n",
       "      <td>PH</td>\n",
       "      <td>00</td>\n",
       "      <td>makati</td>\n",
       "      <td>14.554729</td>\n",
       "      <td>121.024445</td>\n",
       "      <td>en_GB</td>\n",
       "      <td>Android OS</td>\n",
       "      <td>10</td>\n",
       "      <td>546a3d98-d540-4e72-ad82-9ebd64e0839b</td>\n",
       "      <td>9943447915df3a45fd6720a026af905b6da6b56a37701b...</td>\n",
       "    </tr>\n",
       "  </tbody>\n",
       "</table>\n",
       "</div>"
      ],
      "text/plain": [
       "            session_id  start_timestamp     timezone  timezone_offset  \\\n",
       "0  5558845121177764917    1542215364580  Asia/Manila       28800000.0   \n",
       "1  2201961907282901522    1543712977293  Asia/Manila       28800000.0   \n",
       "2    18781111175537580    1539215568666  Asia/Manila       28800000.0   \n",
       "\n",
       "   previous_sessions_duration  user_created_timestamp  is_user_first_session  \\\n",
       "0                    25837591           1538874289458                  False   \n",
       "1                    35050130           1538874289458                  False   \n",
       "2                    11343848           1538874289458                  False   \n",
       "\n",
       "   is_session  is_developer  is_wau  is_mau country region         city  \\\n",
       "0        True         False   False   False      PH     00       makati   \n",
       "1        True         False   False   False      PH     00  quezon city   \n",
       "2        True         False   False   False      PH     00       makati   \n",
       "\n",
       "    latitude   longitude locale     os_name  session_index  \\\n",
       "0  14.554729  121.024445  en_GB  Android OS             30   \n",
       "1  14.676041  121.043701  en_GB  Android OS             47   \n",
       "2  14.554729  121.024445  en_GB  Android OS             10   \n",
       "\n",
       "                              device_id  \\\n",
       "0  546a3d98-d540-4e72-ad82-9ebd64e0839b   \n",
       "1  546a3d98-d540-4e72-ad82-9ebd64e0839b   \n",
       "2  546a3d98-d540-4e72-ad82-9ebd64e0839b   \n",
       "\n",
       "                                        user_id_hash  \n",
       "0  9943447915df3a45fd6720a026af905b6da6b56a37701b...  \n",
       "1  9943447915df3a45fd6720a026af905b6da6b56a37701b...  \n",
       "2  9943447915df3a45fd6720a026af905b6da6b56a37701b...  "
      ]
     },
     "execution_count": 7,
     "metadata": {},
     "output_type": "execute_result"
    }
   ],
   "source": [
    "sessions.head(3)"
   ]
  },
  {
   "cell_type": "code",
   "execution_count": 8,
   "metadata": {
    "ExecuteTime": {
     "end_time": "2019-02-27T21:26:51.301836Z",
     "start_time": "2019-02-27T21:26:50.613115Z"
    }
   },
   "outputs": [
    {
     "data": {
      "text/plain": [
       "621106"
      ]
     },
     "execution_count": 8,
     "metadata": {},
     "output_type": "execute_result"
    }
   ],
   "source": [
    "len(sessions['user_id_hash'].unique())"
   ]
  },
  {
   "cell_type": "code",
   "execution_count": 9,
   "metadata": {
    "ExecuteTime": {
     "end_time": "2019-02-27T21:26:54.216026Z",
     "start_time": "2019-02-27T21:26:51.406966Z"
    }
   },
   "outputs": [],
   "source": [
    "uniq = sessions['user_id_hash'].unique()\n",
    "name2idx = {o:i for i,o in enumerate(uniq)}\n",
    "new_col = np.array([name2idx[x] for x in sessions['user_id_hash']])\n",
    "sessions['user_id_hash'] = new_col"
   ]
  },
  {
   "cell_type": "code",
   "execution_count": 10,
   "metadata": {
    "ExecuteTime": {
     "end_time": "2019-02-27T21:26:54.902126Z",
     "start_time": "2019-02-27T21:26:54.886332Z"
    }
   },
   "outputs": [
    {
     "data": {
      "text/html": [
       "<div>\n",
       "<style scoped>\n",
       "    .dataframe tbody tr th:only-of-type {\n",
       "        vertical-align: middle;\n",
       "    }\n",
       "\n",
       "    .dataframe tbody tr th {\n",
       "        vertical-align: top;\n",
       "    }\n",
       "\n",
       "    .dataframe thead th {\n",
       "        text-align: right;\n",
       "    }\n",
       "</style>\n",
       "<table border=\"1\" class=\"dataframe\">\n",
       "  <thead>\n",
       "    <tr style=\"text-align: right;\">\n",
       "      <th></th>\n",
       "      <th>session_id</th>\n",
       "      <th>start_timestamp</th>\n",
       "      <th>timezone</th>\n",
       "      <th>timezone_offset</th>\n",
       "      <th>previous_sessions_duration</th>\n",
       "      <th>user_created_timestamp</th>\n",
       "      <th>is_user_first_session</th>\n",
       "      <th>is_session</th>\n",
       "      <th>is_developer</th>\n",
       "      <th>is_wau</th>\n",
       "      <th>is_mau</th>\n",
       "      <th>country</th>\n",
       "      <th>region</th>\n",
       "      <th>city</th>\n",
       "      <th>latitude</th>\n",
       "      <th>longitude</th>\n",
       "      <th>locale</th>\n",
       "      <th>os_name</th>\n",
       "      <th>session_index</th>\n",
       "      <th>device_id</th>\n",
       "      <th>user_id_hash</th>\n",
       "    </tr>\n",
       "  </thead>\n",
       "  <tbody>\n",
       "    <tr>\n",
       "      <th>0</th>\n",
       "      <td>5558845121177764917</td>\n",
       "      <td>1542215364580</td>\n",
       "      <td>Asia/Manila</td>\n",
       "      <td>28800000.0</td>\n",
       "      <td>25837591</td>\n",
       "      <td>1538874289458</td>\n",
       "      <td>False</td>\n",
       "      <td>True</td>\n",
       "      <td>False</td>\n",
       "      <td>False</td>\n",
       "      <td>False</td>\n",
       "      <td>PH</td>\n",
       "      <td>00</td>\n",
       "      <td>makati</td>\n",
       "      <td>14.554729</td>\n",
       "      <td>121.024445</td>\n",
       "      <td>en_GB</td>\n",
       "      <td>Android OS</td>\n",
       "      <td>30</td>\n",
       "      <td>546a3d98-d540-4e72-ad82-9ebd64e0839b</td>\n",
       "      <td>0</td>\n",
       "    </tr>\n",
       "    <tr>\n",
       "      <th>1</th>\n",
       "      <td>2201961907282901522</td>\n",
       "      <td>1543712977293</td>\n",
       "      <td>Asia/Manila</td>\n",
       "      <td>28800000.0</td>\n",
       "      <td>35050130</td>\n",
       "      <td>1538874289458</td>\n",
       "      <td>False</td>\n",
       "      <td>True</td>\n",
       "      <td>False</td>\n",
       "      <td>False</td>\n",
       "      <td>False</td>\n",
       "      <td>PH</td>\n",
       "      <td>00</td>\n",
       "      <td>quezon city</td>\n",
       "      <td>14.676041</td>\n",
       "      <td>121.043701</td>\n",
       "      <td>en_GB</td>\n",
       "      <td>Android OS</td>\n",
       "      <td>47</td>\n",
       "      <td>546a3d98-d540-4e72-ad82-9ebd64e0839b</td>\n",
       "      <td>0</td>\n",
       "    </tr>\n",
       "    <tr>\n",
       "      <th>2</th>\n",
       "      <td>18781111175537580</td>\n",
       "      <td>1539215568666</td>\n",
       "      <td>Asia/Manila</td>\n",
       "      <td>28800000.0</td>\n",
       "      <td>11343848</td>\n",
       "      <td>1538874289458</td>\n",
       "      <td>False</td>\n",
       "      <td>True</td>\n",
       "      <td>False</td>\n",
       "      <td>False</td>\n",
       "      <td>False</td>\n",
       "      <td>PH</td>\n",
       "      <td>00</td>\n",
       "      <td>makati</td>\n",
       "      <td>14.554729</td>\n",
       "      <td>121.024445</td>\n",
       "      <td>en_GB</td>\n",
       "      <td>Android OS</td>\n",
       "      <td>10</td>\n",
       "      <td>546a3d98-d540-4e72-ad82-9ebd64e0839b</td>\n",
       "      <td>0</td>\n",
       "    </tr>\n",
       "  </tbody>\n",
       "</table>\n",
       "</div>"
      ],
      "text/plain": [
       "            session_id  start_timestamp     timezone  timezone_offset  \\\n",
       "0  5558845121177764917    1542215364580  Asia/Manila       28800000.0   \n",
       "1  2201961907282901522    1543712977293  Asia/Manila       28800000.0   \n",
       "2    18781111175537580    1539215568666  Asia/Manila       28800000.0   \n",
       "\n",
       "   previous_sessions_duration  user_created_timestamp  is_user_first_session  \\\n",
       "0                    25837591           1538874289458                  False   \n",
       "1                    35050130           1538874289458                  False   \n",
       "2                    11343848           1538874289458                  False   \n",
       "\n",
       "   is_session  is_developer  is_wau  is_mau country region         city  \\\n",
       "0        True         False   False   False      PH     00       makati   \n",
       "1        True         False   False   False      PH     00  quezon city   \n",
       "2        True         False   False   False      PH     00       makati   \n",
       "\n",
       "    latitude   longitude locale     os_name  session_index  \\\n",
       "0  14.554729  121.024445  en_GB  Android OS             30   \n",
       "1  14.676041  121.043701  en_GB  Android OS             47   \n",
       "2  14.554729  121.024445  en_GB  Android OS             10   \n",
       "\n",
       "                              device_id  user_id_hash  \n",
       "0  546a3d98-d540-4e72-ad82-9ebd64e0839b             0  \n",
       "1  546a3d98-d540-4e72-ad82-9ebd64e0839b             0  \n",
       "2  546a3d98-d540-4e72-ad82-9ebd64e0839b             0  "
      ]
     },
     "execution_count": 10,
     "metadata": {},
     "output_type": "execute_result"
    }
   ],
   "source": [
    "sessions.head(3)"
   ]
  },
  {
   "cell_type": "code",
   "execution_count": 11,
   "metadata": {
    "ExecuteTime": {
     "end_time": "2019-02-27T21:26:57.112067Z",
     "start_time": "2019-02-27T21:26:55.571330Z"
    }
   },
   "outputs": [],
   "source": [
    "sessions = sessions[(sessions.is_session == True) & (sessions.is_wau == False) & (sessions.is_mau == False) & (sessions.is_developer == False)]\n",
    "sessions = sessions.drop(['is_session','is_developer','is_wau','is_mau'], axis=1)\n"
   ]
  },
  {
   "cell_type": "code",
   "execution_count": 12,
   "metadata": {
    "ExecuteTime": {
     "end_time": "2019-02-27T21:26:57.797165Z",
     "start_time": "2019-02-27T21:26:57.780301Z"
    }
   },
   "outputs": [
    {
     "data": {
      "text/html": [
       "<div>\n",
       "<style scoped>\n",
       "    .dataframe tbody tr th:only-of-type {\n",
       "        vertical-align: middle;\n",
       "    }\n",
       "\n",
       "    .dataframe tbody tr th {\n",
       "        vertical-align: top;\n",
       "    }\n",
       "\n",
       "    .dataframe thead th {\n",
       "        text-align: right;\n",
       "    }\n",
       "</style>\n",
       "<table border=\"1\" class=\"dataframe\">\n",
       "  <thead>\n",
       "    <tr style=\"text-align: right;\">\n",
       "      <th></th>\n",
       "      <th>session_id</th>\n",
       "      <th>start_timestamp</th>\n",
       "      <th>timezone</th>\n",
       "      <th>timezone_offset</th>\n",
       "      <th>previous_sessions_duration</th>\n",
       "      <th>user_created_timestamp</th>\n",
       "      <th>is_user_first_session</th>\n",
       "      <th>country</th>\n",
       "      <th>region</th>\n",
       "      <th>city</th>\n",
       "      <th>latitude</th>\n",
       "      <th>longitude</th>\n",
       "      <th>locale</th>\n",
       "      <th>os_name</th>\n",
       "      <th>session_index</th>\n",
       "      <th>device_id</th>\n",
       "      <th>user_id_hash</th>\n",
       "    </tr>\n",
       "  </thead>\n",
       "  <tbody>\n",
       "    <tr>\n",
       "      <th>0</th>\n",
       "      <td>5558845121177764917</td>\n",
       "      <td>1542215364580</td>\n",
       "      <td>Asia/Manila</td>\n",
       "      <td>28800000.0</td>\n",
       "      <td>25837591</td>\n",
       "      <td>1538874289458</td>\n",
       "      <td>False</td>\n",
       "      <td>PH</td>\n",
       "      <td>00</td>\n",
       "      <td>makati</td>\n",
       "      <td>14.554729</td>\n",
       "      <td>121.024445</td>\n",
       "      <td>en_GB</td>\n",
       "      <td>Android OS</td>\n",
       "      <td>30</td>\n",
       "      <td>546a3d98-d540-4e72-ad82-9ebd64e0839b</td>\n",
       "      <td>0</td>\n",
       "    </tr>\n",
       "    <tr>\n",
       "      <th>1</th>\n",
       "      <td>2201961907282901522</td>\n",
       "      <td>1543712977293</td>\n",
       "      <td>Asia/Manila</td>\n",
       "      <td>28800000.0</td>\n",
       "      <td>35050130</td>\n",
       "      <td>1538874289458</td>\n",
       "      <td>False</td>\n",
       "      <td>PH</td>\n",
       "      <td>00</td>\n",
       "      <td>quezon city</td>\n",
       "      <td>14.676041</td>\n",
       "      <td>121.043701</td>\n",
       "      <td>en_GB</td>\n",
       "      <td>Android OS</td>\n",
       "      <td>47</td>\n",
       "      <td>546a3d98-d540-4e72-ad82-9ebd64e0839b</td>\n",
       "      <td>0</td>\n",
       "    </tr>\n",
       "    <tr>\n",
       "      <th>2</th>\n",
       "      <td>18781111175537580</td>\n",
       "      <td>1539215568666</td>\n",
       "      <td>Asia/Manila</td>\n",
       "      <td>28800000.0</td>\n",
       "      <td>11343848</td>\n",
       "      <td>1538874289458</td>\n",
       "      <td>False</td>\n",
       "      <td>PH</td>\n",
       "      <td>00</td>\n",
       "      <td>makati</td>\n",
       "      <td>14.554729</td>\n",
       "      <td>121.024445</td>\n",
       "      <td>en_GB</td>\n",
       "      <td>Android OS</td>\n",
       "      <td>10</td>\n",
       "      <td>546a3d98-d540-4e72-ad82-9ebd64e0839b</td>\n",
       "      <td>0</td>\n",
       "    </tr>\n",
       "  </tbody>\n",
       "</table>\n",
       "</div>"
      ],
      "text/plain": [
       "            session_id  start_timestamp     timezone  timezone_offset  \\\n",
       "0  5558845121177764917    1542215364580  Asia/Manila       28800000.0   \n",
       "1  2201961907282901522    1543712977293  Asia/Manila       28800000.0   \n",
       "2    18781111175537580    1539215568666  Asia/Manila       28800000.0   \n",
       "\n",
       "   previous_sessions_duration  user_created_timestamp  is_user_first_session  \\\n",
       "0                    25837591           1538874289458                  False   \n",
       "1                    35050130           1538874289458                  False   \n",
       "2                    11343848           1538874289458                  False   \n",
       "\n",
       "  country region         city   latitude   longitude locale     os_name  \\\n",
       "0      PH     00       makati  14.554729  121.024445  en_GB  Android OS   \n",
       "1      PH     00  quezon city  14.676041  121.043701  en_GB  Android OS   \n",
       "2      PH     00       makati  14.554729  121.024445  en_GB  Android OS   \n",
       "\n",
       "   session_index                             device_id  user_id_hash  \n",
       "0             30  546a3d98-d540-4e72-ad82-9ebd64e0839b             0  \n",
       "1             47  546a3d98-d540-4e72-ad82-9ebd64e0839b             0  \n",
       "2             10  546a3d98-d540-4e72-ad82-9ebd64e0839b             0  "
      ]
     },
     "execution_count": 12,
     "metadata": {},
     "output_type": "execute_result"
    }
   ],
   "source": [
    "sessions.head(3)"
   ]
  },
  {
   "cell_type": "code",
   "execution_count": 13,
   "metadata": {
    "ExecuteTime": {
     "end_time": "2019-02-27T21:26:58.480580Z",
     "start_time": "2019-02-27T21:26:58.474654Z"
    }
   },
   "outputs": [],
   "source": [
    "oct_7 = datetime.datetime(2018, 10, 7, 23, 59, 59, 0)\n",
    "oct_14 = datetime.datetime(2018, 10, 14, 23, 59, 59, 0)\n",
    "oct_21 = datetime.datetime(2018, 10, 21, 23, 59, 59, 0)\n",
    "oct_28 = datetime.datetime(2018, 10, 28, 23, 59, 59, 0)\n",
    "nov_4 = datetime.datetime(2018, 11, 4, 23, 59, 59, 0)\n",
    "nov_11 = datetime.datetime(2018, 11, 11, 23, 59, 59, 0)\n",
    "nov_18 = datetime.datetime(2018, 11, 18, 23, 59, 59, 0)\n",
    "nov_25 = datetime.datetime(2018, 11, 25, 23, 59, 59, 0)\n",
    "dec_1 = datetime.datetime(2018, 12, 1, 23, 59, 59, 0)\n",
    "dec_7 = datetime.datetime(2018, 12, 7, 23, 59, 59, 0)\n",
    "dec_14 = datetime.datetime(2018, 12, 14, 23, 59, 59, 0)"
   ]
  },
  {
   "cell_type": "code",
   "execution_count": 14,
   "metadata": {
    "ExecuteTime": {
     "end_time": "2019-02-27T21:26:59.171353Z",
     "start_time": "2019-02-27T21:26:59.119248Z"
    }
   },
   "outputs": [
    {
     "data": {
      "text/plain": [
       "619519"
      ]
     },
     "execution_count": 14,
     "metadata": {},
     "output_type": "execute_result"
    }
   ],
   "source": [
    "len(sessions['user_id_hash'].unique())"
   ]
  },
  {
   "cell_type": "markdown",
   "metadata": {},
   "source": [
    "### Second round of feature engineering"
   ]
  },
  {
   "cell_type": "code",
   "execution_count": 81,
   "metadata": {
    "ExecuteTime": {
     "end_time": "2019-02-27T23:19:00.428280Z",
     "start_time": "2019-02-27T23:18:57.063771Z"
    },
    "scrolled": true
   },
   "outputs": [
    {
     "data": {
      "text/html": [
       "<div>\n",
       "<style scoped>\n",
       "    .dataframe tbody tr th:only-of-type {\n",
       "        vertical-align: middle;\n",
       "    }\n",
       "\n",
       "    .dataframe tbody tr th {\n",
       "        vertical-align: top;\n",
       "    }\n",
       "\n",
       "    .dataframe thead th {\n",
       "        text-align: right;\n",
       "    }\n",
       "</style>\n",
       "<table border=\"1\" class=\"dataframe\">\n",
       "  <thead>\n",
       "    <tr style=\"text-align: right;\">\n",
       "      <th></th>\n",
       "      <th>user_id_hash</th>\n",
       "      <th>sum</th>\n",
       "      <th>count</th>\n",
       "    </tr>\n",
       "  </thead>\n",
       "  <tbody>\n",
       "    <tr>\n",
       "      <th>0</th>\n",
       "      <td>0</td>\n",
       "      <td>1.683396e+07</td>\n",
       "      <td>48</td>\n",
       "    </tr>\n",
       "    <tr>\n",
       "      <th>1</th>\n",
       "      <td>1</td>\n",
       "      <td>1.012469e+05</td>\n",
       "      <td>3</td>\n",
       "    </tr>\n",
       "    <tr>\n",
       "      <th>2</th>\n",
       "      <td>2</td>\n",
       "      <td>0.000000e+00</td>\n",
       "      <td>1</td>\n",
       "    </tr>\n",
       "    <tr>\n",
       "      <th>3</th>\n",
       "      <td>3</td>\n",
       "      <td>0.000000e+00</td>\n",
       "      <td>1</td>\n",
       "    </tr>\n",
       "    <tr>\n",
       "      <th>4</th>\n",
       "      <td>4</td>\n",
       "      <td>0.000000e+00</td>\n",
       "      <td>1</td>\n",
       "    </tr>\n",
       "  </tbody>\n",
       "</table>\n",
       "</div>"
      ],
      "text/plain": [
       "   user_id_hash           sum  count\n",
       "0             0  1.683396e+07     48\n",
       "1             1  1.012469e+05      3\n",
       "2             2  0.000000e+00      1\n",
       "3             3  0.000000e+00      1\n",
       "4             4  0.000000e+00      1"
      ]
     },
     "execution_count": 81,
     "metadata": {},
     "output_type": "execute_result"
    }
   ],
   "source": [
    "# https://stackoverflow.com/questions/38174155/group-dataframe-and-get-sum-and-count/38174164\n",
    "\n",
    "\n",
    "# user_num_session_creation = sessions.groupby('user_id_hash').aggregate(['sum','count'])['session_id'].reset_index()\n",
    "# user_num_session_creation = user_num_session_creation.rename(index=str, columns={\"count\":\"_\"})\n",
    "sessions_before_12_1 = sessions[sessions['start_timestamp']<to_milli(dec_1)]\n",
    "user_num_ses_cre_and_tot_ses_time = sessions_before_12_1.groupby('user_id_hash')['previous_sessions_duration']\\\n",
    "                                                            .agg(['sum','count']).reset_index()\n",
    "\n",
    "user_num_ses_cre_and_tot_ses_time['sum'] = user_num_ses_cre_and_tot_ses_time['sum']/60\n",
    "\n",
    "user_num_ses_cre_and_tot_ses_time.head(5)\n",
    "# .size().reset_index(name='counts')\n"
   ]
  },
  {
   "cell_type": "code",
   "execution_count": 82,
   "metadata": {
    "ExecuteTime": {
     "end_time": "2019-02-27T23:19:06.323346Z",
     "start_time": "2019-02-27T23:19:06.320971Z"
    }
   },
   "outputs": [],
   "source": [
    "# user_num_day_cre = sessions[['user_id_hash','user_created_timestamp']].drop_duplicates(sub)\n",
    "# print(len(user_num_day_cre))\n",
    "# print(len(user_num_day_cre['user_id_hash'].unique()))"
   ]
  },
  {
   "cell_type": "code",
   "execution_count": 83,
   "metadata": {
    "ExecuteTime": {
     "end_time": "2019-02-27T23:19:07.711247Z",
     "start_time": "2019-02-27T23:19:07.708606Z"
    }
   },
   "outputs": [],
   "source": [
    "# user_num_day_cre.groupby('user_id_hash').count()\\\n",
    "#                 .rename(index=str, columns={\"user_created_timestamp\": \"count\"}).reset_index()\\\n",
    "#                 .sort_values(by=['count'],ascending=False).head(5)"
   ]
  },
  {
   "cell_type": "code",
   "execution_count": 317,
   "metadata": {
    "ExecuteTime": {
     "end_time": "2019-02-27T21:18:54.360915Z",
     "start_time": "2019-02-27T21:18:54.354279Z"
    }
   },
   "outputs": [
    {
     "data": {
      "text/html": [
       "<div>\n",
       "<style scoped>\n",
       "    .dataframe tbody tr th:only-of-type {\n",
       "        vertical-align: middle;\n",
       "    }\n",
       "\n",
       "    .dataframe tbody tr th {\n",
       "        vertical-align: top;\n",
       "    }\n",
       "\n",
       "    .dataframe thead th {\n",
       "        text-align: right;\n",
       "    }\n",
       "</style>\n",
       "<table border=\"1\" class=\"dataframe\">\n",
       "  <thead>\n",
       "    <tr style=\"text-align: right;\">\n",
       "      <th></th>\n",
       "      <th>user_id_hash</th>\n",
       "      <th>user_created_timestamp</th>\n",
       "    </tr>\n",
       "  </thead>\n",
       "  <tbody>\n",
       "    <tr>\n",
       "      <th>5634945</th>\n",
       "      <td>561382</td>\n",
       "      <td>1541769723451</td>\n",
       "    </tr>\n",
       "    <tr>\n",
       "      <th>5634946</th>\n",
       "      <td>561382</td>\n",
       "      <td>1541769740176</td>\n",
       "    </tr>\n",
       "  </tbody>\n",
       "</table>\n",
       "</div>"
      ],
      "text/plain": [
       "         user_id_hash  user_created_timestamp\n",
       "5634945        561382           1541769723451\n",
       "5634946        561382           1541769740176"
      ]
     },
     "execution_count": 317,
     "metadata": {},
     "output_type": "execute_result"
    }
   ],
   "source": [
    "# user_num_day_cre[user_num_day_cre['user_id_hash']==561382]"
   ]
  },
  {
   "cell_type": "code",
   "execution_count": null,
   "metadata": {
    "ExecuteTime": {
     "start_time": "2019-02-27T21:23:30.001Z"
    }
   },
   "outputs": [],
   "source": [
    "# user_num_day_cre.pivot(index='user_id_hash', columns='user_created_timestamp')"
   ]
  },
  {
   "cell_type": "code",
   "execution_count": 84,
   "metadata": {
    "ExecuteTime": {
     "end_time": "2019-02-27T23:19:12.190249Z",
     "start_time": "2019-02-27T23:19:11.874555Z"
    }
   },
   "outputs": [
    {
     "name": "stdout",
     "output_type": "stream",
     "text": [
      "619037\n",
      "619037\n"
     ]
    }
   ],
   "source": [
    "user_num_day_cre = sessions_before_12_1[['user_id_hash','user_created_timestamp']]\\\n",
    "                    .drop_duplicates(subset='user_id_hash', keep='first')\\\n",
    "                    .reset_index(drop=True)\n",
    "print(len(user_num_day_cre))\n",
    "print(len(user_num_day_cre['user_id_hash'].unique()))"
   ]
  },
  {
   "cell_type": "code",
   "execution_count": 85,
   "metadata": {
    "ExecuteTime": {
     "end_time": "2019-02-27T23:19:14.313449Z",
     "start_time": "2019-02-27T23:19:14.305043Z"
    }
   },
   "outputs": [
    {
     "data": {
      "text/html": [
       "<div>\n",
       "<style scoped>\n",
       "    .dataframe tbody tr th:only-of-type {\n",
       "        vertical-align: middle;\n",
       "    }\n",
       "\n",
       "    .dataframe tbody tr th {\n",
       "        vertical-align: top;\n",
       "    }\n",
       "\n",
       "    .dataframe thead th {\n",
       "        text-align: right;\n",
       "    }\n",
       "</style>\n",
       "<table border=\"1\" class=\"dataframe\">\n",
       "  <thead>\n",
       "    <tr style=\"text-align: right;\">\n",
       "      <th></th>\n",
       "      <th>user_id_hash</th>\n",
       "      <th>sum</th>\n",
       "      <th>count</th>\n",
       "    </tr>\n",
       "  </thead>\n",
       "  <tbody>\n",
       "    <tr>\n",
       "      <th>0</th>\n",
       "      <td>0</td>\n",
       "      <td>1.683396e+07</td>\n",
       "      <td>48</td>\n",
       "    </tr>\n",
       "    <tr>\n",
       "      <th>1</th>\n",
       "      <td>1</td>\n",
       "      <td>1.012469e+05</td>\n",
       "      <td>3</td>\n",
       "    </tr>\n",
       "    <tr>\n",
       "      <th>2</th>\n",
       "      <td>2</td>\n",
       "      <td>0.000000e+00</td>\n",
       "      <td>1</td>\n",
       "    </tr>\n",
       "  </tbody>\n",
       "</table>\n",
       "</div>"
      ],
      "text/plain": [
       "   user_id_hash           sum  count\n",
       "0             0  1.683396e+07     48\n",
       "1             1  1.012469e+05      3\n",
       "2             2  0.000000e+00      1"
      ]
     },
     "execution_count": 85,
     "metadata": {},
     "output_type": "execute_result"
    }
   ],
   "source": [
    "user_num_ses_cre_and_tot_ses_time.head(3)"
   ]
  },
  {
   "cell_type": "code",
   "execution_count": 86,
   "metadata": {
    "ExecuteTime": {
     "end_time": "2019-02-27T23:19:16.419092Z",
     "start_time": "2019-02-27T23:19:16.383084Z"
    }
   },
   "outputs": [
    {
     "data": {
      "text/html": [
       "<div>\n",
       "<style scoped>\n",
       "    .dataframe tbody tr th:only-of-type {\n",
       "        vertical-align: middle;\n",
       "    }\n",
       "\n",
       "    .dataframe tbody tr th {\n",
       "        vertical-align: top;\n",
       "    }\n",
       "\n",
       "    .dataframe thead th {\n",
       "        text-align: right;\n",
       "    }\n",
       "</style>\n",
       "<table border=\"1\" class=\"dataframe\">\n",
       "  <thead>\n",
       "    <tr style=\"text-align: right;\">\n",
       "      <th></th>\n",
       "      <th>user_id_hash</th>\n",
       "      <th>user_created_timestamp</th>\n",
       "      <th>num_day_created</th>\n",
       "    </tr>\n",
       "  </thead>\n",
       "  <tbody>\n",
       "    <tr>\n",
       "      <th>0</th>\n",
       "      <td>0</td>\n",
       "      <td>1538874289458</td>\n",
       "      <td>0.288305</td>\n",
       "    </tr>\n",
       "    <tr>\n",
       "      <th>1</th>\n",
       "      <td>1</td>\n",
       "      <td>1541886003916</td>\n",
       "      <td>0.430499</td>\n",
       "    </tr>\n",
       "    <tr>\n",
       "      <th>2</th>\n",
       "      <td>2</td>\n",
       "      <td>1539830331932</td>\n",
       "      <td>3.222998</td>\n",
       "    </tr>\n",
       "  </tbody>\n",
       "</table>\n",
       "</div>"
      ],
      "text/plain": [
       "   user_id_hash  user_created_timestamp  num_day_created\n",
       "0             0           1538874289458         0.288305\n",
       "1             1           1541886003916         0.430499\n",
       "2             2           1539830331932         3.222998"
      ]
     },
     "execution_count": 86,
     "metadata": {},
     "output_type": "execute_result"
    }
   ],
   "source": [
    "# https://stackoverflow.com/questions/7829571/milliseconds-to-days\n",
    "# int days = (int) ((milliseconds / (1000*60*60*24)) % 7);\n",
    "\n",
    "user_num_day_cre['num_day_created'] = ((to_milli(dec_1)-user_num_day_cre['user_created_timestamp'])/(1000*60*60*24)) % 7\n",
    "user_num_day_cre.head(3)"
   ]
  },
  {
   "cell_type": "code",
   "execution_count": 87,
   "metadata": {
    "ExecuteTime": {
     "end_time": "2019-02-27T23:19:19.495067Z",
     "start_time": "2019-02-27T23:19:19.227850Z"
    }
   },
   "outputs": [
    {
     "data": {
      "text/html": [
       "<div>\n",
       "<style scoped>\n",
       "    .dataframe tbody tr th:only-of-type {\n",
       "        vertical-align: middle;\n",
       "    }\n",
       "\n",
       "    .dataframe tbody tr th {\n",
       "        vertical-align: top;\n",
       "    }\n",
       "\n",
       "    .dataframe thead th {\n",
       "        text-align: right;\n",
       "    }\n",
       "</style>\n",
       "<table border=\"1\" class=\"dataframe\">\n",
       "  <thead>\n",
       "    <tr style=\"text-align: right;\">\n",
       "      <th></th>\n",
       "      <th>user_id_hash</th>\n",
       "      <th>sum</th>\n",
       "      <th>count</th>\n",
       "      <th>num_day_created</th>\n",
       "    </tr>\n",
       "  </thead>\n",
       "  <tbody>\n",
       "    <tr>\n",
       "      <th>0</th>\n",
       "      <td>0</td>\n",
       "      <td>1.683396e+07</td>\n",
       "      <td>48</td>\n",
       "      <td>0.288305</td>\n",
       "    </tr>\n",
       "    <tr>\n",
       "      <th>1</th>\n",
       "      <td>1</td>\n",
       "      <td>1.012469e+05</td>\n",
       "      <td>3</td>\n",
       "      <td>0.430499</td>\n",
       "    </tr>\n",
       "    <tr>\n",
       "      <th>2</th>\n",
       "      <td>2</td>\n",
       "      <td>0.000000e+00</td>\n",
       "      <td>1</td>\n",
       "      <td>3.222998</td>\n",
       "    </tr>\n",
       "  </tbody>\n",
       "</table>\n",
       "</div>"
      ],
      "text/plain": [
       "   user_id_hash           sum  count  num_day_created\n",
       "0             0  1.683396e+07     48         0.288305\n",
       "1             1  1.012469e+05      3         0.430499\n",
       "2             2  0.000000e+00      1         3.222998"
      ]
     },
     "execution_count": 87,
     "metadata": {},
     "output_type": "execute_result"
    }
   ],
   "source": [
    "user_ave = user_num_ses_cre_and_tot_ses_time.merge(user_num_day_cre, left_on='user_id_hash', right_on='user_id_hash')\n",
    "# df = df.rename(index=str, columns={\"count\": \"events_1125_1201\"})\n",
    "user_ave = user_ave.drop(['user_created_timestamp'],axis=1)\n",
    "user_ave.head(3)\n",
    "\n"
   ]
  },
  {
   "cell_type": "code",
   "execution_count": 88,
   "metadata": {
    "ExecuteTime": {
     "end_time": "2019-02-27T23:19:20.739244Z",
     "start_time": "2019-02-27T23:19:20.721773Z"
    }
   },
   "outputs": [
    {
     "data": {
      "text/html": [
       "<div>\n",
       "<style scoped>\n",
       "    .dataframe tbody tr th:only-of-type {\n",
       "        vertical-align: middle;\n",
       "    }\n",
       "\n",
       "    .dataframe tbody tr th {\n",
       "        vertical-align: top;\n",
       "    }\n",
       "\n",
       "    .dataframe thead th {\n",
       "        text-align: right;\n",
       "    }\n",
       "</style>\n",
       "<table border=\"1\" class=\"dataframe\">\n",
       "  <thead>\n",
       "    <tr style=\"text-align: right;\">\n",
       "      <th></th>\n",
       "      <th>user_id_hash</th>\n",
       "      <th>sum</th>\n",
       "      <th>count</th>\n",
       "      <th>num_day_created</th>\n",
       "      <th>average_minutes</th>\n",
       "      <th>average_counts</th>\n",
       "    </tr>\n",
       "  </thead>\n",
       "  <tbody>\n",
       "    <tr>\n",
       "      <th>0</th>\n",
       "      <td>0</td>\n",
       "      <td>1.683396e+07</td>\n",
       "      <td>48</td>\n",
       "      <td>0.288305</td>\n",
       "      <td>5.838944e+07</td>\n",
       "      <td>166.490416</td>\n",
       "    </tr>\n",
       "    <tr>\n",
       "      <th>1</th>\n",
       "      <td>1</td>\n",
       "      <td>1.012469e+05</td>\n",
       "      <td>3</td>\n",
       "      <td>0.430499</td>\n",
       "      <td>2.351852e+05</td>\n",
       "      <td>6.968663</td>\n",
       "    </tr>\n",
       "    <tr>\n",
       "      <th>2</th>\n",
       "      <td>2</td>\n",
       "      <td>0.000000e+00</td>\n",
       "      <td>1</td>\n",
       "      <td>3.222998</td>\n",
       "      <td>0.000000e+00</td>\n",
       "      <td>0.310270</td>\n",
       "    </tr>\n",
       "  </tbody>\n",
       "</table>\n",
       "</div>"
      ],
      "text/plain": [
       "   user_id_hash           sum  count  num_day_created  average_minutes  \\\n",
       "0             0  1.683396e+07     48         0.288305     5.838944e+07   \n",
       "1             1  1.012469e+05      3         0.430499     2.351852e+05   \n",
       "2             2  0.000000e+00      1         3.222998     0.000000e+00   \n",
       "\n",
       "   average_counts  \n",
       "0      166.490416  \n",
       "1        6.968663  \n",
       "2        0.310270  "
      ]
     },
     "execution_count": 88,
     "metadata": {},
     "output_type": "execute_result"
    }
   ],
   "source": [
    "user_ave['average_minutes'] = user_ave['sum']/user_ave['num_day_created']\n",
    "user_ave['average_counts'] = user_ave['count']/user_ave['num_day_created']\n",
    "user_ave.head(3)"
   ]
  },
  {
   "cell_type": "code",
   "execution_count": 89,
   "metadata": {
    "ExecuteTime": {
     "end_time": "2019-02-27T23:19:22.757048Z",
     "start_time": "2019-02-27T23:19:22.718479Z"
    }
   },
   "outputs": [
    {
     "data": {
      "text/html": [
       "<div>\n",
       "<style scoped>\n",
       "    .dataframe tbody tr th:only-of-type {\n",
       "        vertical-align: middle;\n",
       "    }\n",
       "\n",
       "    .dataframe tbody tr th {\n",
       "        vertical-align: top;\n",
       "    }\n",
       "\n",
       "    .dataframe thead th {\n",
       "        text-align: right;\n",
       "    }\n",
       "</style>\n",
       "<table border=\"1\" class=\"dataframe\">\n",
       "  <thead>\n",
       "    <tr style=\"text-align: right;\">\n",
       "      <th></th>\n",
       "      <th>user_id_hash</th>\n",
       "      <th>num_day_created</th>\n",
       "      <th>average_minutes</th>\n",
       "      <th>average_counts</th>\n",
       "    </tr>\n",
       "  </thead>\n",
       "  <tbody>\n",
       "    <tr>\n",
       "      <th>0</th>\n",
       "      <td>0</td>\n",
       "      <td>0.288305</td>\n",
       "      <td>5.838944e+07</td>\n",
       "      <td>166.490416</td>\n",
       "    </tr>\n",
       "    <tr>\n",
       "      <th>1</th>\n",
       "      <td>1</td>\n",
       "      <td>0.430499</td>\n",
       "      <td>2.351852e+05</td>\n",
       "      <td>6.968663</td>\n",
       "    </tr>\n",
       "    <tr>\n",
       "      <th>2</th>\n",
       "      <td>2</td>\n",
       "      <td>3.222998</td>\n",
       "      <td>0.000000e+00</td>\n",
       "      <td>0.310270</td>\n",
       "    </tr>\n",
       "  </tbody>\n",
       "</table>\n",
       "</div>"
      ],
      "text/plain": [
       "   user_id_hash  num_day_created  average_minutes  average_counts\n",
       "0             0         0.288305     5.838944e+07      166.490416\n",
       "1             1         0.430499     2.351852e+05        6.968663\n",
       "2             2         3.222998     0.000000e+00        0.310270"
      ]
     },
     "execution_count": 89,
     "metadata": {},
     "output_type": "execute_result"
    }
   ],
   "source": [
    "user_ave = user_ave.drop(['sum','count'], axis=1)\n",
    "user_ave.head(3)"
   ]
  },
  {
   "cell_type": "markdown",
   "metadata": {},
   "source": [
    "#### add third round of features"
   ]
  },
  {
   "cell_type": "code",
   "execution_count": 204,
   "metadata": {
    "ExecuteTime": {
     "end_time": "2019-02-28T00:39:36.345868Z",
     "start_time": "2019-02-28T00:39:35.983493Z"
    }
   },
   "outputs": [],
   "source": [
    "df = df.merge(user_ave, left_on='user_id_hash', right_on='user_id_hash')\n",
    "# df = df.rename(index=str, columns={\"count\": \"events_1125_1201\"})"
   ]
  },
  {
   "cell_type": "code",
   "execution_count": 205,
   "metadata": {
    "ExecuteTime": {
     "end_time": "2019-02-28T00:39:38.581993Z",
     "start_time": "2019-02-28T00:39:38.395990Z"
    }
   },
   "outputs": [
    {
     "data": {
      "text/html": [
       "<div>\n",
       "<style scoped>\n",
       "    .dataframe tbody tr th:only-of-type {\n",
       "        vertical-align: middle;\n",
       "    }\n",
       "\n",
       "    .dataframe tbody tr th {\n",
       "        vertical-align: top;\n",
       "    }\n",
       "\n",
       "    .dataframe thead th {\n",
       "        text-align: right;\n",
       "    }\n",
       "</style>\n",
       "<table border=\"1\" class=\"dataframe\">\n",
       "  <thead>\n",
       "    <tr style=\"text-align: right;\">\n",
       "      <th></th>\n",
       "      <th>count_1001_1007</th>\n",
       "      <th>count_1007_1014</th>\n",
       "      <th>count_1014_1021</th>\n",
       "      <th>count_1021_1028</th>\n",
       "      <th>count_1028_1104</th>\n",
       "      <th>count_1104_1111</th>\n",
       "      <th>count_1111_1118</th>\n",
       "      <th>count_1118_1125</th>\n",
       "      <th>count_1125_1201</th>\n",
       "      <th>events_1001_1007</th>\n",
       "      <th>events_1007_1014</th>\n",
       "      <th>events_1014_1021</th>\n",
       "      <th>events_1021_1028</th>\n",
       "      <th>events_1028_1104</th>\n",
       "      <th>events_1104_1111</th>\n",
       "      <th>events_1111_1118</th>\n",
       "      <th>events_1118_1125</th>\n",
       "      <th>events_1125_1201</th>\n",
       "      <th>num_day_created</th>\n",
       "      <th>average_minutes</th>\n",
       "      <th>average_counts</th>\n",
       "    </tr>\n",
       "  </thead>\n",
       "  <tbody>\n",
       "    <tr>\n",
       "      <th>0</th>\n",
       "      <td>0.0</td>\n",
       "      <td>0.0</td>\n",
       "      <td>0.0</td>\n",
       "      <td>0.0</td>\n",
       "      <td>0.0</td>\n",
       "      <td>1.0</td>\n",
       "      <td>0.0</td>\n",
       "      <td>0.0</td>\n",
       "      <td>0.0</td>\n",
       "      <td>109</td>\n",
       "      <td>124</td>\n",
       "      <td>32</td>\n",
       "      <td>0</td>\n",
       "      <td>4</td>\n",
       "      <td>157</td>\n",
       "      <td>0.0</td>\n",
       "      <td>28</td>\n",
       "      <td>51</td>\n",
       "      <td>6.288305</td>\n",
       "      <td>2.462272e+06</td>\n",
       "      <td>5.883939</td>\n",
       "    </tr>\n",
       "    <tr>\n",
       "      <th>1</th>\n",
       "      <td>0.0</td>\n",
       "      <td>0.0</td>\n",
       "      <td>0.0</td>\n",
       "      <td>0.0</td>\n",
       "      <td>0.0</td>\n",
       "      <td>0.0</td>\n",
       "      <td>0.0</td>\n",
       "      <td>0.0</td>\n",
       "      <td>0.0</td>\n",
       "      <td>0</td>\n",
       "      <td>0</td>\n",
       "      <td>0</td>\n",
       "      <td>0</td>\n",
       "      <td>0</td>\n",
       "      <td>86</td>\n",
       "      <td>0.0</td>\n",
       "      <td>0</td>\n",
       "      <td>0</td>\n",
       "      <td>6.430499</td>\n",
       "      <td>1.574480e+04</td>\n",
       "      <td>0.466527</td>\n",
       "    </tr>\n",
       "    <tr>\n",
       "      <th>2</th>\n",
       "      <td>0.0</td>\n",
       "      <td>0.0</td>\n",
       "      <td>0.0</td>\n",
       "      <td>0.0</td>\n",
       "      <td>0.0</td>\n",
       "      <td>0.0</td>\n",
       "      <td>0.0</td>\n",
       "      <td>0.0</td>\n",
       "      <td>0.0</td>\n",
       "      <td>0</td>\n",
       "      <td>0</td>\n",
       "      <td>33</td>\n",
       "      <td>0</td>\n",
       "      <td>0</td>\n",
       "      <td>0</td>\n",
       "      <td>0.0</td>\n",
       "      <td>0</td>\n",
       "      <td>0</td>\n",
       "      <td>2.222998</td>\n",
       "      <td>0.000000e+00</td>\n",
       "      <td>0.449843</td>\n",
       "    </tr>\n",
       "    <tr>\n",
       "      <th>3</th>\n",
       "      <td>0.0</td>\n",
       "      <td>0.0</td>\n",
       "      <td>0.0</td>\n",
       "      <td>0.0</td>\n",
       "      <td>0.0</td>\n",
       "      <td>0.0</td>\n",
       "      <td>0.0</td>\n",
       "      <td>0.0</td>\n",
       "      <td>0.0</td>\n",
       "      <td>0</td>\n",
       "      <td>0</td>\n",
       "      <td>0</td>\n",
       "      <td>0</td>\n",
       "      <td>0</td>\n",
       "      <td>0</td>\n",
       "      <td>0.0</td>\n",
       "      <td>1</td>\n",
       "      <td>0</td>\n",
       "      <td>6.057656</td>\n",
       "      <td>0.000000e+00</td>\n",
       "      <td>0.165080</td>\n",
       "    </tr>\n",
       "    <tr>\n",
       "      <th>4</th>\n",
       "      <td>0.0</td>\n",
       "      <td>0.0</td>\n",
       "      <td>0.0</td>\n",
       "      <td>0.0</td>\n",
       "      <td>0.0</td>\n",
       "      <td>0.0</td>\n",
       "      <td>0.0</td>\n",
       "      <td>0.0</td>\n",
       "      <td>0.0</td>\n",
       "      <td>0</td>\n",
       "      <td>0</td>\n",
       "      <td>0</td>\n",
       "      <td>8</td>\n",
       "      <td>0</td>\n",
       "      <td>0</td>\n",
       "      <td>0.0</td>\n",
       "      <td>0</td>\n",
       "      <td>0</td>\n",
       "      <td>4.672814</td>\n",
       "      <td>0.000000e+00</td>\n",
       "      <td>0.214004</td>\n",
       "    </tr>\n",
       "  </tbody>\n",
       "</table>\n",
       "</div>"
      ],
      "text/plain": [
       "   count_1001_1007  count_1007_1014  count_1014_1021  count_1021_1028  \\\n",
       "0              0.0              0.0              0.0              0.0   \n",
       "1              0.0              0.0              0.0              0.0   \n",
       "2              0.0              0.0              0.0              0.0   \n",
       "3              0.0              0.0              0.0              0.0   \n",
       "4              0.0              0.0              0.0              0.0   \n",
       "\n",
       "   count_1028_1104  count_1104_1111  count_1111_1118  count_1118_1125  \\\n",
       "0              0.0              1.0              0.0              0.0   \n",
       "1              0.0              0.0              0.0              0.0   \n",
       "2              0.0              0.0              0.0              0.0   \n",
       "3              0.0              0.0              0.0              0.0   \n",
       "4              0.0              0.0              0.0              0.0   \n",
       "\n",
       "   count_1125_1201  events_1001_1007  events_1007_1014  events_1014_1021  \\\n",
       "0              0.0               109               124                32   \n",
       "1              0.0                 0                 0                 0   \n",
       "2              0.0                 0                 0                33   \n",
       "3              0.0                 0                 0                 0   \n",
       "4              0.0                 0                 0                 0   \n",
       "\n",
       "   events_1021_1028  events_1028_1104  events_1104_1111  events_1111_1118  \\\n",
       "0                 0                 4               157               0.0   \n",
       "1                 0                 0                86               0.0   \n",
       "2                 0                 0                 0               0.0   \n",
       "3                 0                 0                 0               0.0   \n",
       "4                 8                 0                 0               0.0   \n",
       "\n",
       "   events_1118_1125  events_1125_1201  num_day_created  average_minutes  \\\n",
       "0                28                51         6.288305     2.462272e+06   \n",
       "1                 0                 0         6.430499     1.574480e+04   \n",
       "2                 0                 0         2.222998     0.000000e+00   \n",
       "3                 1                 0         6.057656     0.000000e+00   \n",
       "4                 0                 0         4.672814     0.000000e+00   \n",
       "\n",
       "   average_counts  \n",
       "0        5.883939  \n",
       "1        0.466527  \n",
       "2        0.449843  \n",
       "3        0.165080  \n",
       "4        0.214004  "
      ]
     },
     "execution_count": 205,
     "metadata": {},
     "output_type": "execute_result"
    }
   ],
   "source": [
    "df.drop(['dec1_7','dec1_14'], axis=1).iloc[:,1:].head()"
   ]
  },
  {
   "cell_type": "markdown",
   "metadata": {
    "ExecuteTime": {
     "end_time": "2019-02-28T04:44:00.435857Z",
     "start_time": "2019-02-28T04:44:00.433219Z"
    }
   },
   "source": [
    "#### see third features performance"
   ]
  },
  {
   "cell_type": "code",
   "execution_count": 234,
   "metadata": {
    "ExecuteTime": {
     "end_time": "2019-02-28T01:03:54.909324Z",
     "start_time": "2019-02-28T01:02:14.279036Z"
    }
   },
   "outputs": [
    {
     "data": {
      "text/plain": [
       "0.9804802346557037"
      ]
     },
     "execution_count": 234,
     "metadata": {},
     "output_type": "execute_result"
    }
   ],
   "source": [
    "X = df.drop(['dec1_7','dec1_14'], axis=1).iloc[:,1:]\n",
    "y = df['dec1_7']\n",
    "X_train, X_test, y_train, y_test = train_test_split(X, y, test_size=0.33, random_state=42)\n",
    "clf_dec1_7 = GradientBoostingClassifier(max_depth=6, min_samples_leaf=5, loss='exponential')\n",
    "clf_dec1_7.fit(X_train, y_train)\n",
    "y_scores = clf_dec1_7.predict_proba(X_test)\n",
    "roc_auc_score(y_test, y_scores[:,1])"
   ]
  },
  {
   "cell_type": "code",
   "execution_count": 235,
   "metadata": {
    "ExecuteTime": {
     "end_time": "2019-02-28T01:05:40.114897Z",
     "start_time": "2019-02-28T01:03:56.857042Z"
    }
   },
   "outputs": [
    {
     "data": {
      "text/plain": [
       "0.9758971999663928"
      ]
     },
     "execution_count": 235,
     "metadata": {},
     "output_type": "execute_result"
    }
   ],
   "source": [
    "X = df.drop(['dec1_7','dec1_14'], axis=1).iloc[:,1:]\n",
    "y = df['dec1_14']\n",
    "X_train, X_test, y_train, y_test = train_test_split(X, y, test_size=0.33, random_state=42)\n",
    "clf_dec1_14 = GradientBoostingClassifier(max_depth=6, min_samples_leaf=5,loss='exponential')\n",
    "clf_dec1_14.fit(X_train, y_train)\n",
    "y_scores = clf_dec1_14.predict_proba(X_test)[:,1]\n",
    "# y_scores = [1 if i>=0.99 elif 0 for i in y_scores]\n",
    "# for i in range(len(y_scores)):\n",
    "#     if y_scores[i]>0.99:\n",
    "#         y_scores[i]=1\n",
    "#     elif y_scores[i]<0.01:\n",
    "#         y_scores[i]=0\n",
    "roc_auc_score(y_test, y_scores)\n",
    "# len(y_scores[:,1])"
   ]
  },
  {
   "cell_type": "code",
   "execution_count": 193,
   "metadata": {
    "ExecuteTime": {
     "end_time": "2019-02-28T00:33:50.872936Z",
     "start_time": "2019-02-28T00:33:50.868452Z"
    }
   },
   "outputs": [
    {
     "data": {
      "text/plain": [
       "34173"
      ]
     },
     "execution_count": 193,
     "metadata": {},
     "output_type": "execute_result"
    }
   ],
   "source": [
    "len(X)"
   ]
  },
  {
   "cell_type": "code",
   "execution_count": 238,
   "metadata": {
    "ExecuteTime": {
     "end_time": "2019-02-28T01:16:00.796556Z",
     "start_time": "2019-02-28T01:16:00.774312Z"
    }
   },
   "outputs": [
    {
     "data": {
      "text/html": [
       "<div>\n",
       "<style scoped>\n",
       "    .dataframe tbody tr th:only-of-type {\n",
       "        vertical-align: middle;\n",
       "    }\n",
       "\n",
       "    .dataframe tbody tr th {\n",
       "        vertical-align: top;\n",
       "    }\n",
       "\n",
       "    .dataframe thead th {\n",
       "        text-align: right;\n",
       "    }\n",
       "</style>\n",
       "<table border=\"1\" class=\"dataframe\">\n",
       "  <thead>\n",
       "    <tr style=\"text-align: right;\">\n",
       "      <th></th>\n",
       "      <th>count_1001_1007</th>\n",
       "      <th>count_1007_1014</th>\n",
       "      <th>count_1014_1021</th>\n",
       "      <th>count_1021_1028</th>\n",
       "      <th>count_1028_1104</th>\n",
       "      <th>count_1104_1111</th>\n",
       "      <th>count_1111_1118</th>\n",
       "      <th>count_1118_1125</th>\n",
       "      <th>count_1125_1201</th>\n",
       "      <th>events_1001_1007</th>\n",
       "      <th>events_1007_1014</th>\n",
       "      <th>events_1014_1021</th>\n",
       "      <th>events_1021_1028</th>\n",
       "      <th>events_1028_1104</th>\n",
       "      <th>events_1104_1111</th>\n",
       "      <th>events_1111_1118</th>\n",
       "      <th>events_1118_1125</th>\n",
       "      <th>events_1125_1201</th>\n",
       "      <th>num_day_created</th>\n",
       "      <th>average_minutes</th>\n",
       "      <th>average_counts</th>\n",
       "    </tr>\n",
       "  </thead>\n",
       "  <tbody>\n",
       "    <tr>\n",
       "      <th>0</th>\n",
       "      <td>0.0</td>\n",
       "      <td>0.0</td>\n",
       "      <td>0.0</td>\n",
       "      <td>0.0</td>\n",
       "      <td>0.0</td>\n",
       "      <td>1.0</td>\n",
       "      <td>0.0</td>\n",
       "      <td>0.0</td>\n",
       "      <td>0.0</td>\n",
       "      <td>109</td>\n",
       "      <td>124</td>\n",
       "      <td>32</td>\n",
       "      <td>0</td>\n",
       "      <td>4</td>\n",
       "      <td>157</td>\n",
       "      <td>0.0</td>\n",
       "      <td>28</td>\n",
       "      <td>51</td>\n",
       "      <td>6.288305</td>\n",
       "      <td>2.462272e+06</td>\n",
       "      <td>5.883939</td>\n",
       "    </tr>\n",
       "    <tr>\n",
       "      <th>1</th>\n",
       "      <td>0.0</td>\n",
       "      <td>0.0</td>\n",
       "      <td>0.0</td>\n",
       "      <td>0.0</td>\n",
       "      <td>0.0</td>\n",
       "      <td>0.0</td>\n",
       "      <td>0.0</td>\n",
       "      <td>0.0</td>\n",
       "      <td>0.0</td>\n",
       "      <td>0</td>\n",
       "      <td>0</td>\n",
       "      <td>0</td>\n",
       "      <td>0</td>\n",
       "      <td>0</td>\n",
       "      <td>86</td>\n",
       "      <td>0.0</td>\n",
       "      <td>0</td>\n",
       "      <td>0</td>\n",
       "      <td>6.430499</td>\n",
       "      <td>1.574480e+04</td>\n",
       "      <td>0.466527</td>\n",
       "    </tr>\n",
       "    <tr>\n",
       "      <th>2</th>\n",
       "      <td>0.0</td>\n",
       "      <td>0.0</td>\n",
       "      <td>0.0</td>\n",
       "      <td>0.0</td>\n",
       "      <td>0.0</td>\n",
       "      <td>0.0</td>\n",
       "      <td>0.0</td>\n",
       "      <td>0.0</td>\n",
       "      <td>0.0</td>\n",
       "      <td>0</td>\n",
       "      <td>0</td>\n",
       "      <td>33</td>\n",
       "      <td>0</td>\n",
       "      <td>0</td>\n",
       "      <td>0</td>\n",
       "      <td>0.0</td>\n",
       "      <td>0</td>\n",
       "      <td>0</td>\n",
       "      <td>2.222998</td>\n",
       "      <td>0.000000e+00</td>\n",
       "      <td>0.449843</td>\n",
       "    </tr>\n",
       "    <tr>\n",
       "      <th>3</th>\n",
       "      <td>0.0</td>\n",
       "      <td>0.0</td>\n",
       "      <td>0.0</td>\n",
       "      <td>0.0</td>\n",
       "      <td>0.0</td>\n",
       "      <td>0.0</td>\n",
       "      <td>0.0</td>\n",
       "      <td>0.0</td>\n",
       "      <td>0.0</td>\n",
       "      <td>0</td>\n",
       "      <td>0</td>\n",
       "      <td>0</td>\n",
       "      <td>0</td>\n",
       "      <td>0</td>\n",
       "      <td>0</td>\n",
       "      <td>0.0</td>\n",
       "      <td>1</td>\n",
       "      <td>0</td>\n",
       "      <td>6.057656</td>\n",
       "      <td>0.000000e+00</td>\n",
       "      <td>0.165080</td>\n",
       "    </tr>\n",
       "    <tr>\n",
       "      <th>4</th>\n",
       "      <td>0.0</td>\n",
       "      <td>0.0</td>\n",
       "      <td>0.0</td>\n",
       "      <td>0.0</td>\n",
       "      <td>0.0</td>\n",
       "      <td>0.0</td>\n",
       "      <td>0.0</td>\n",
       "      <td>0.0</td>\n",
       "      <td>0.0</td>\n",
       "      <td>0</td>\n",
       "      <td>0</td>\n",
       "      <td>0</td>\n",
       "      <td>8</td>\n",
       "      <td>0</td>\n",
       "      <td>0</td>\n",
       "      <td>0.0</td>\n",
       "      <td>0</td>\n",
       "      <td>0</td>\n",
       "      <td>4.672814</td>\n",
       "      <td>0.000000e+00</td>\n",
       "      <td>0.214004</td>\n",
       "    </tr>\n",
       "  </tbody>\n",
       "</table>\n",
       "</div>"
      ],
      "text/plain": [
       "   count_1001_1007  count_1007_1014  count_1014_1021  count_1021_1028  \\\n",
       "0              0.0              0.0              0.0              0.0   \n",
       "1              0.0              0.0              0.0              0.0   \n",
       "2              0.0              0.0              0.0              0.0   \n",
       "3              0.0              0.0              0.0              0.0   \n",
       "4              0.0              0.0              0.0              0.0   \n",
       "\n",
       "   count_1028_1104  count_1104_1111  count_1111_1118  count_1118_1125  \\\n",
       "0              0.0              1.0              0.0              0.0   \n",
       "1              0.0              0.0              0.0              0.0   \n",
       "2              0.0              0.0              0.0              0.0   \n",
       "3              0.0              0.0              0.0              0.0   \n",
       "4              0.0              0.0              0.0              0.0   \n",
       "\n",
       "   count_1125_1201  events_1001_1007  events_1007_1014  events_1014_1021  \\\n",
       "0              0.0               109               124                32   \n",
       "1              0.0                 0                 0                 0   \n",
       "2              0.0                 0                 0                33   \n",
       "3              0.0                 0                 0                 0   \n",
       "4              0.0                 0                 0                 0   \n",
       "\n",
       "   events_1021_1028  events_1028_1104  events_1104_1111  events_1111_1118  \\\n",
       "0                 0                 4               157               0.0   \n",
       "1                 0                 0                86               0.0   \n",
       "2                 0                 0                 0               0.0   \n",
       "3                 0                 0                 0               0.0   \n",
       "4                 8                 0                 0               0.0   \n",
       "\n",
       "   events_1118_1125  events_1125_1201  num_day_created  average_minutes  \\\n",
       "0                28                51         6.288305     2.462272e+06   \n",
       "1                 0                 0         6.430499     1.574480e+04   \n",
       "2                 0                 0         2.222998     0.000000e+00   \n",
       "3                 1                 0         6.057656     0.000000e+00   \n",
       "4                 0                 0         4.672814     0.000000e+00   \n",
       "\n",
       "   average_counts  \n",
       "0        5.883939  \n",
       "1        0.466527  \n",
       "2        0.449843  \n",
       "3        0.165080  \n",
       "4        0.214004  "
      ]
     },
     "execution_count": 238,
     "metadata": {},
     "output_type": "execute_result"
    }
   ],
   "source": [
    "X.head()"
   ]
  },
  {
   "cell_type": "code",
   "execution_count": 236,
   "metadata": {
    "ExecuteTime": {
     "end_time": "2019-02-28T01:12:38.832808Z",
     "start_time": "2019-02-28T01:06:13.722126Z"
    }
   },
   "outputs": [
    {
     "data": {
      "text/plain": [
       "GradientBoostingClassifier(criterion='friedman_mse', init=None,\n",
       "              learning_rate=0.1, loss='exponential', max_depth=6,\n",
       "              max_features=None, max_leaf_nodes=None,\n",
       "              min_impurity_decrease=0.0, min_impurity_split=None,\n",
       "              min_samples_leaf=5, min_samples_split=2,\n",
       "              min_weight_fraction_leaf=0.0, n_estimators=100,\n",
       "              n_iter_no_change=None, presort='auto', random_state=None,\n",
       "              subsample=1.0, tol=0.0001, validation_fraction=0.1,\n",
       "              verbose=0, warm_start=False)"
      ]
     },
     "execution_count": 236,
     "metadata": {},
     "output_type": "execute_result"
    }
   ],
   "source": [
    "clf_dec1_7.fit(X, y)\n",
    "clf_dec1_14.fit(X, y)"
   ]
  },
  {
   "cell_type": "markdown",
   "metadata": {},
   "source": [
    "### Grid Search this is manually tuned"
   ]
  },
  {
   "cell_type": "code",
   "execution_count": 259,
   "metadata": {
    "ExecuteTime": {
     "end_time": "2019-02-28T04:01:18.298793Z",
     "start_time": "2019-02-28T04:01:18.295551Z"
    }
   },
   "outputs": [],
   "source": [
    "# from sklearn.model_selection import GridSearchCV\n",
    "\n",
    "# param_grid = dict(loss = ['deviance', 'exponential'],\n",
    "#                   learning_rate=[0.1, 0.4, 0.7],\n",
    "#                   n_estimators = [50,100],\n",
    "#                   subsample = [0.5, 0.75, 1],\n",
    "#                   min_samples_split = [2,5,50],\n",
    "#                   max_depth = [3,5])\n",
    "\n",
    "# gbc_cv = GridSearchCV(estimator=GradientBoostingClassifier(), \n",
    "#                       param_grid=param_grid, \n",
    "#                       cv=5)\n",
    "# gbc_cv.fit(X, y)\n",
    "# print(gbc_cv.best_params_)\n",
    "# print(f\"{gbc_cv.best_score_:,.4f}\")"
   ]
  },
  {
   "cell_type": "markdown",
   "metadata": {},
   "source": [
    "### Prediction"
   ]
  },
  {
   "cell_type": "code",
   "execution_count": 113,
   "metadata": {
    "ExecuteTime": {
     "end_time": "2019-02-27T23:34:25.135843Z",
     "start_time": "2019-02-27T23:34:25.131501Z"
    }
   },
   "outputs": [],
   "source": [
    "dec_1 = datetime.datetime(2018, 12, 1, 23, 59, 59, 0)\n",
    "dec_7 = datetime.datetime(2018, 12, 7, 23, 59, 59, 0)\n",
    "dec_8 = datetime.datetime(2018, 12, 8, 23, 59, 59, 0)\n",
    "dec_14 = datetime.datetime(2018, 12, 14, 23, 59, 59, 0)"
   ]
  },
  {
   "cell_type": "code",
   "execution_count": 114,
   "metadata": {
    "ExecuteTime": {
     "end_time": "2019-02-27T23:35:31.565796Z",
     "start_time": "2019-02-27T23:34:26.781714Z"
    }
   },
   "outputs": [
    {
     "name": "stdout",
     "output_type": "stream",
     "text": [
      "31141\n",
      "23719\n"
     ]
    }
   ],
   "source": [
    "bought_1201_1208 = bought.groupby('user_id_hash')['event_timestamp']\\\n",
    "                        .apply(lambda x: ((x > to_milli(dec_1))&(x < to_milli(dec_8))).sum()).reset_index(name='count')\n",
    "print(sum(bought_1118_1125['count']))\n",
    "\n",
    "\n",
    "bought_1207_1214 = bought.groupby('user_id_hash')['event_timestamp']\\\n",
    "                        .apply(lambda x: ((x > to_milli(dec_7))&(x < to_milli(dec_14))).sum()).reset_index(name='count')\n",
    "print(sum(bought_1125_1201['count']))"
   ]
  },
  {
   "cell_type": "markdown",
   "metadata": {},
   "source": [
    "#### build and merging features for testing"
   ]
  },
  {
   "cell_type": "code",
   "execution_count": 208,
   "metadata": {
    "ExecuteTime": {
     "end_time": "2019-02-28T00:42:35.043176Z",
     "start_time": "2019-02-28T00:42:34.568998Z"
    }
   },
   "outputs": [],
   "source": [
    "df2 = events['user_id_hash'].unique()\n",
    "df2 = pd.DataFrame(data = df2, columns=['user_id_hash'])"
   ]
  },
  {
   "cell_type": "code",
   "execution_count": 209,
   "metadata": {
    "ExecuteTime": {
     "end_time": "2019-02-28T00:42:37.143263Z",
     "start_time": "2019-02-28T00:42:37.139148Z"
    }
   },
   "outputs": [
    {
     "data": {
      "text/plain": [
       "621001"
      ]
     },
     "execution_count": 209,
     "metadata": {},
     "output_type": "execute_result"
    }
   ],
   "source": [
    "len(df2)"
   ]
  },
  {
   "cell_type": "code",
   "execution_count": 210,
   "metadata": {
    "ExecuteTime": {
     "end_time": "2019-02-28T00:42:43.374423Z",
     "start_time": "2019-02-28T00:42:39.159264Z"
    }
   },
   "outputs": [],
   "source": [
    "df2 = df2.merge(bought_1014_1021, left_on='user_id_hash', right_on='user_id_hash',how='left')\n",
    "df2 = df2.rename(index=str, columns={\"count\": \"count_1001_1007\"})\n",
    "df2 = df2.merge(bought_1021_1028, left_on='user_id_hash', right_on='user_id_hash',how='left')\n",
    "df2 = df2.rename(index=str, columns={\"count\": \"count_1007_1014\"})\n",
    "df2 = df2.merge(bought_1028_1104, left_on='user_id_hash', right_on='user_id_hash',how='left')\n",
    "df2 = df2.rename(index=str, columns={\"count\": \"count_1014_1021\"})\n",
    "df2 = df2.merge(bought_1104_1111, left_on='user_id_hash', right_on='user_id_hash',how='left')\n",
    "df2 = df2.rename(index=str, columns={\"count\": \"count_1021_1028\"})\n",
    "df2 = df2.merge(bought_1111_1118, left_on='user_id_hash', right_on='user_id_hash',how='left')\n",
    "df2 = df2.rename(index=str, columns={\"count\": \"count_1028_1104\"})\n",
    "df2 = df2.merge(bought_1118_1125, left_on='user_id_hash', right_on='user_id_hash',how='left')\n",
    "df2 = df2.rename(index=str, columns={\"count\": \"count_1104_1111\"})\n",
    "df2 = df2.merge(bought_1125_1201, left_on='user_id_hash', right_on='user_id_hash',how='left')\n",
    "df2 = df2.rename(index=str, columns={\"count\": \"count_1111_1118\"})\n",
    "df2 = df2.merge(bought_1201_1208, left_on='user_id_hash', right_on='user_id_hash',how='left')\n",
    "df2 = df2.rename(index=str, columns={\"count\": \"count_1118_1125\"})\n",
    "df2 = df2.merge(bought_1207_1214, left_on='user_id_hash', right_on='user_id_hash',how='left')\n",
    "df2 = df2.rename(index=str, columns={\"count\": \"count_1125_1201\"})"
   ]
  },
  {
   "cell_type": "code",
   "execution_count": 211,
   "metadata": {
    "ExecuteTime": {
     "end_time": "2019-02-28T00:42:45.587024Z",
     "start_time": "2019-02-28T00:42:45.583252Z"
    }
   },
   "outputs": [
    {
     "data": {
      "text/plain": [
       "621001"
      ]
     },
     "execution_count": 211,
     "metadata": {},
     "output_type": "execute_result"
    }
   ],
   "source": [
    "len(df2)"
   ]
  },
  {
   "cell_type": "code",
   "execution_count": 118,
   "metadata": {
    "ExecuteTime": {
     "end_time": "2019-02-27T23:54:39.873717Z",
     "start_time": "2019-02-27T23:36:14.297532Z"
    }
   },
   "outputs": [
    {
     "name": "stdout",
     "output_type": "stream",
     "text": [
      "13602230\n",
      "9891204\n"
     ]
    }
   ],
   "source": [
    "events_1201_1208 = events.groupby('user_id_hash')['event_timestamp']\\\n",
    "                        .apply(lambda x: ((x > to_milli(dec_1))&(x < to_milli(dec_8))).sum()).reset_index(name='count')\n",
    "print(sum(events_1118_1125['count']))\n",
    "\n",
    "\n",
    "events_1207_1214 = events.groupby('user_id_hash')['event_timestamp']\\\n",
    "                        .apply(lambda x: ((x > to_milli(dec_7))&(x < to_milli(dec_14))).sum()).reset_index(name='count')\n",
    "print(sum(events_1125_1201['count']))\n"
   ]
  },
  {
   "cell_type": "code",
   "execution_count": 212,
   "metadata": {
    "ExecuteTime": {
     "end_time": "2019-02-28T00:43:01.562811Z",
     "start_time": "2019-02-28T00:42:56.060855Z"
    }
   },
   "outputs": [],
   "source": [
    "df2 = df2.merge(events_1014_1021, left_on='user_id_hash', right_on='user_id_hash',how='left')\n",
    "df2 = df2.rename(index=str, columns={\"count\": \"events_1001_1007\"})\n",
    "df2 = df2.merge(events_1021_1028, left_on='user_id_hash', right_on='user_id_hash',how='left')\n",
    "df2 = df2.rename(index=str, columns={\"count\": \"events_1007_1014\"})\n",
    "df2 = df2.merge(events_1028_1104, left_on='user_id_hash', right_on='user_id_hash',how='left')\n",
    "df2 = df2.rename(index=str, columns={\"count\": \"events_1014_1021\"})\n",
    "df2 = df2.merge(events_1104_1111, left_on='user_id_hash', right_on='user_id_hash',how='left')\n",
    "df2 = df2.rename(index=str, columns={\"count\": \"events_1021_1028\"})\n",
    "df2 = df2.merge(events_1111_1118, left_on='user_id_hash', right_on='user_id_hash',how='left')\n",
    "df2 = df2.rename(index=str, columns={\"count\": \"events_1028_1104\"})\n",
    "df2 = df2.merge(events_1118_1125, left_on='user_id_hash', right_on='user_id_hash',how='left')\n",
    "df2 = df2.rename(index=str, columns={\"count\": \"events_1104_1111\"})\n",
    "df2 = df2.merge(events_1125_1201, left_on='user_id_hash', right_on='user_id_hash',how='left')\n",
    "df2 = df2.rename(index=str, columns={\"count\": \"events_1111_1118\"})\n",
    "df2 = df2.merge(events_1201_1208, left_on='user_id_hash', right_on='user_id_hash',how='left')\n",
    "df2 = df2.rename(index=str, columns={\"count\": \"events_1118_1125\"})\n",
    "df2 = df2.merge(events_1207_1214, left_on='user_id_hash', right_on='user_id_hash',how='left')\n",
    "df2 = df2.rename(index=str, columns={\"count\": \"events_1125_1201\"})"
   ]
  },
  {
   "cell_type": "code",
   "execution_count": 120,
   "metadata": {
    "ExecuteTime": {
     "end_time": "2019-02-27T23:54:43.795404Z",
     "start_time": "2019-02-27T23:54:43.267723Z"
    }
   },
   "outputs": [],
   "source": [
    "session_after_10_14 = sessions[sessions['start_timestamp']>to_milli(oct_14)]"
   ]
  },
  {
   "cell_type": "code",
   "execution_count": 121,
   "metadata": {
    "ExecuteTime": {
     "end_time": "2019-02-27T23:54:45.626537Z",
     "start_time": "2019-02-27T23:54:44.972160Z"
    }
   },
   "outputs": [
    {
     "data": {
      "text/html": [
       "<div>\n",
       "<style scoped>\n",
       "    .dataframe tbody tr th:only-of-type {\n",
       "        vertical-align: middle;\n",
       "    }\n",
       "\n",
       "    .dataframe tbody tr th {\n",
       "        vertical-align: top;\n",
       "    }\n",
       "\n",
       "    .dataframe thead th {\n",
       "        text-align: right;\n",
       "    }\n",
       "</style>\n",
       "<table border=\"1\" class=\"dataframe\">\n",
       "  <thead>\n",
       "    <tr style=\"text-align: right;\">\n",
       "      <th></th>\n",
       "      <th>user_id_hash</th>\n",
       "      <th>sum</th>\n",
       "      <th>count</th>\n",
       "    </tr>\n",
       "  </thead>\n",
       "  <tbody>\n",
       "    <tr>\n",
       "      <th>0</th>\n",
       "      <td>0</td>\n",
       "      <td>1.548352e+07</td>\n",
       "      <td>37</td>\n",
       "    </tr>\n",
       "    <tr>\n",
       "      <th>1</th>\n",
       "      <td>1</td>\n",
       "      <td>1.012469e+05</td>\n",
       "      <td>3</td>\n",
       "    </tr>\n",
       "    <tr>\n",
       "      <th>2</th>\n",
       "      <td>2</td>\n",
       "      <td>0.000000e+00</td>\n",
       "      <td>1</td>\n",
       "    </tr>\n",
       "    <tr>\n",
       "      <th>3</th>\n",
       "      <td>3</td>\n",
       "      <td>0.000000e+00</td>\n",
       "      <td>1</td>\n",
       "    </tr>\n",
       "    <tr>\n",
       "      <th>4</th>\n",
       "      <td>4</td>\n",
       "      <td>0.000000e+00</td>\n",
       "      <td>1</td>\n",
       "    </tr>\n",
       "  </tbody>\n",
       "</table>\n",
       "</div>"
      ],
      "text/plain": [
       "   user_id_hash           sum  count\n",
       "0             0  1.548352e+07     37\n",
       "1             1  1.012469e+05      3\n",
       "2             2  0.000000e+00      1\n",
       "3             3  0.000000e+00      1\n",
       "4             4  0.000000e+00      1"
      ]
     },
     "execution_count": 121,
     "metadata": {},
     "output_type": "execute_result"
    }
   ],
   "source": [
    "user_num_ses_cre_and_tot_ses_time = session_after_10_14.groupby('user_id_hash')['previous_sessions_duration']\\\n",
    "                                                            .agg(['sum','count']).reset_index()\n",
    "\n",
    "user_num_ses_cre_and_tot_ses_time['sum'] = user_num_ses_cre_and_tot_ses_time['sum']/60\n",
    "\n",
    "user_num_ses_cre_and_tot_ses_time.head(5)"
   ]
  },
  {
   "cell_type": "code",
   "execution_count": 122,
   "metadata": {
    "ExecuteTime": {
     "end_time": "2019-02-27T23:54:47.164001Z",
     "start_time": "2019-02-27T23:54:46.924364Z"
    }
   },
   "outputs": [
    {
     "name": "stdout",
     "output_type": "stream",
     "text": [
      "517219\n",
      "517219\n"
     ]
    }
   ],
   "source": [
    "user_num_day_cre = session_after_10_14[['user_id_hash','user_created_timestamp']]\\\n",
    "                    .drop_duplicates(subset='user_id_hash', keep='first')\\\n",
    "                    .reset_index(drop=True)\n",
    "print(len(user_num_day_cre))\n",
    "print(len(user_num_day_cre['user_id_hash'].unique()))"
   ]
  },
  {
   "cell_type": "code",
   "execution_count": 123,
   "metadata": {
    "ExecuteTime": {
     "end_time": "2019-02-27T23:54:48.628562Z",
     "start_time": "2019-02-27T23:54:48.607008Z"
    }
   },
   "outputs": [
    {
     "data": {
      "text/html": [
       "<div>\n",
       "<style scoped>\n",
       "    .dataframe tbody tr th:only-of-type {\n",
       "        vertical-align: middle;\n",
       "    }\n",
       "\n",
       "    .dataframe tbody tr th {\n",
       "        vertical-align: top;\n",
       "    }\n",
       "\n",
       "    .dataframe thead th {\n",
       "        text-align: right;\n",
       "    }\n",
       "</style>\n",
       "<table border=\"1\" class=\"dataframe\">\n",
       "  <thead>\n",
       "    <tr style=\"text-align: right;\">\n",
       "      <th></th>\n",
       "      <th>user_id_hash</th>\n",
       "      <th>user_created_timestamp</th>\n",
       "      <th>num_day_created</th>\n",
       "    </tr>\n",
       "  </thead>\n",
       "  <tbody>\n",
       "    <tr>\n",
       "      <th>0</th>\n",
       "      <td>0</td>\n",
       "      <td>1538874289458</td>\n",
       "      <td>6.288305</td>\n",
       "    </tr>\n",
       "    <tr>\n",
       "      <th>1</th>\n",
       "      <td>1</td>\n",
       "      <td>1541886003916</td>\n",
       "      <td>6.430499</td>\n",
       "    </tr>\n",
       "    <tr>\n",
       "      <th>2</th>\n",
       "      <td>2</td>\n",
       "      <td>1539830331932</td>\n",
       "      <td>2.222998</td>\n",
       "    </tr>\n",
       "  </tbody>\n",
       "</table>\n",
       "</div>"
      ],
      "text/plain": [
       "   user_id_hash  user_created_timestamp  num_day_created\n",
       "0             0           1538874289458         6.288305\n",
       "1             1           1541886003916         6.430499\n",
       "2             2           1539830331932         2.222998"
      ]
     },
     "execution_count": 123,
     "metadata": {},
     "output_type": "execute_result"
    }
   ],
   "source": [
    "user_num_day_cre['num_day_created'] = ((to_milli(dec_14)-user_num_day_cre['user_created_timestamp'])/(1000*60*60*24)) % 7\n",
    "user_num_day_cre.head(3)"
   ]
  },
  {
   "cell_type": "code",
   "execution_count": 124,
   "metadata": {
    "ExecuteTime": {
     "end_time": "2019-02-27T23:54:50.114829Z",
     "start_time": "2019-02-27T23:54:49.934955Z"
    }
   },
   "outputs": [
    {
     "data": {
      "text/html": [
       "<div>\n",
       "<style scoped>\n",
       "    .dataframe tbody tr th:only-of-type {\n",
       "        vertical-align: middle;\n",
       "    }\n",
       "\n",
       "    .dataframe tbody tr th {\n",
       "        vertical-align: top;\n",
       "    }\n",
       "\n",
       "    .dataframe thead th {\n",
       "        text-align: right;\n",
       "    }\n",
       "</style>\n",
       "<table border=\"1\" class=\"dataframe\">\n",
       "  <thead>\n",
       "    <tr style=\"text-align: right;\">\n",
       "      <th></th>\n",
       "      <th>user_id_hash</th>\n",
       "      <th>sum</th>\n",
       "      <th>count</th>\n",
       "      <th>num_day_created</th>\n",
       "    </tr>\n",
       "  </thead>\n",
       "  <tbody>\n",
       "    <tr>\n",
       "      <th>0</th>\n",
       "      <td>0</td>\n",
       "      <td>1.548352e+07</td>\n",
       "      <td>37</td>\n",
       "      <td>6.288305</td>\n",
       "    </tr>\n",
       "    <tr>\n",
       "      <th>1</th>\n",
       "      <td>1</td>\n",
       "      <td>1.012469e+05</td>\n",
       "      <td>3</td>\n",
       "      <td>6.430499</td>\n",
       "    </tr>\n",
       "    <tr>\n",
       "      <th>2</th>\n",
       "      <td>2</td>\n",
       "      <td>0.000000e+00</td>\n",
       "      <td>1</td>\n",
       "      <td>2.222998</td>\n",
       "    </tr>\n",
       "  </tbody>\n",
       "</table>\n",
       "</div>"
      ],
      "text/plain": [
       "   user_id_hash           sum  count  num_day_created\n",
       "0             0  1.548352e+07     37         6.288305\n",
       "1             1  1.012469e+05      3         6.430499\n",
       "2             2  0.000000e+00      1         2.222998"
      ]
     },
     "execution_count": 124,
     "metadata": {},
     "output_type": "execute_result"
    }
   ],
   "source": [
    "user_ave = user_num_ses_cre_and_tot_ses_time.merge(user_num_day_cre, left_on='user_id_hash', right_on='user_id_hash')\n",
    "user_ave = user_ave.drop(['user_created_timestamp'],axis=1)\n",
    "user_ave.head(3)"
   ]
  },
  {
   "cell_type": "code",
   "execution_count": 125,
   "metadata": {
    "ExecuteTime": {
     "end_time": "2019-02-27T23:54:51.413105Z",
     "start_time": "2019-02-27T23:54:51.399406Z"
    }
   },
   "outputs": [
    {
     "data": {
      "text/html": [
       "<div>\n",
       "<style scoped>\n",
       "    .dataframe tbody tr th:only-of-type {\n",
       "        vertical-align: middle;\n",
       "    }\n",
       "\n",
       "    .dataframe tbody tr th {\n",
       "        vertical-align: top;\n",
       "    }\n",
       "\n",
       "    .dataframe thead th {\n",
       "        text-align: right;\n",
       "    }\n",
       "</style>\n",
       "<table border=\"1\" class=\"dataframe\">\n",
       "  <thead>\n",
       "    <tr style=\"text-align: right;\">\n",
       "      <th></th>\n",
       "      <th>user_id_hash</th>\n",
       "      <th>sum</th>\n",
       "      <th>count</th>\n",
       "      <th>num_day_created</th>\n",
       "      <th>average_minutes</th>\n",
       "      <th>average_counts</th>\n",
       "    </tr>\n",
       "  </thead>\n",
       "  <tbody>\n",
       "    <tr>\n",
       "      <th>0</th>\n",
       "      <td>0</td>\n",
       "      <td>1.548352e+07</td>\n",
       "      <td>37</td>\n",
       "      <td>6.288305</td>\n",
       "      <td>2.462272e+06</td>\n",
       "      <td>5.883939</td>\n",
       "    </tr>\n",
       "    <tr>\n",
       "      <th>1</th>\n",
       "      <td>1</td>\n",
       "      <td>1.012469e+05</td>\n",
       "      <td>3</td>\n",
       "      <td>6.430499</td>\n",
       "      <td>1.574480e+04</td>\n",
       "      <td>0.466527</td>\n",
       "    </tr>\n",
       "    <tr>\n",
       "      <th>2</th>\n",
       "      <td>2</td>\n",
       "      <td>0.000000e+00</td>\n",
       "      <td>1</td>\n",
       "      <td>2.222998</td>\n",
       "      <td>0.000000e+00</td>\n",
       "      <td>0.449843</td>\n",
       "    </tr>\n",
       "  </tbody>\n",
       "</table>\n",
       "</div>"
      ],
      "text/plain": [
       "   user_id_hash           sum  count  num_day_created  average_minutes  \\\n",
       "0             0  1.548352e+07     37         6.288305     2.462272e+06   \n",
       "1             1  1.012469e+05      3         6.430499     1.574480e+04   \n",
       "2             2  0.000000e+00      1         2.222998     0.000000e+00   \n",
       "\n",
       "   average_counts  \n",
       "0        5.883939  \n",
       "1        0.466527  \n",
       "2        0.449843  "
      ]
     },
     "execution_count": 125,
     "metadata": {},
     "output_type": "execute_result"
    }
   ],
   "source": [
    "user_ave['average_minutes'] = user_ave['sum']/user_ave['num_day_created']\n",
    "user_ave['average_counts'] = user_ave['count']/user_ave['num_day_created']\n",
    "user_ave.head(3)"
   ]
  },
  {
   "cell_type": "code",
   "execution_count": 126,
   "metadata": {
    "ExecuteTime": {
     "end_time": "2019-02-27T23:54:52.704700Z",
     "start_time": "2019-02-27T23:54:52.680968Z"
    }
   },
   "outputs": [
    {
     "data": {
      "text/html": [
       "<div>\n",
       "<style scoped>\n",
       "    .dataframe tbody tr th:only-of-type {\n",
       "        vertical-align: middle;\n",
       "    }\n",
       "\n",
       "    .dataframe tbody tr th {\n",
       "        vertical-align: top;\n",
       "    }\n",
       "\n",
       "    .dataframe thead th {\n",
       "        text-align: right;\n",
       "    }\n",
       "</style>\n",
       "<table border=\"1\" class=\"dataframe\">\n",
       "  <thead>\n",
       "    <tr style=\"text-align: right;\">\n",
       "      <th></th>\n",
       "      <th>user_id_hash</th>\n",
       "      <th>num_day_created</th>\n",
       "      <th>average_minutes</th>\n",
       "      <th>average_counts</th>\n",
       "    </tr>\n",
       "  </thead>\n",
       "  <tbody>\n",
       "    <tr>\n",
       "      <th>0</th>\n",
       "      <td>0</td>\n",
       "      <td>6.288305</td>\n",
       "      <td>2.462272e+06</td>\n",
       "      <td>5.883939</td>\n",
       "    </tr>\n",
       "    <tr>\n",
       "      <th>1</th>\n",
       "      <td>1</td>\n",
       "      <td>6.430499</td>\n",
       "      <td>1.574480e+04</td>\n",
       "      <td>0.466527</td>\n",
       "    </tr>\n",
       "    <tr>\n",
       "      <th>2</th>\n",
       "      <td>2</td>\n",
       "      <td>2.222998</td>\n",
       "      <td>0.000000e+00</td>\n",
       "      <td>0.449843</td>\n",
       "    </tr>\n",
       "  </tbody>\n",
       "</table>\n",
       "</div>"
      ],
      "text/plain": [
       "   user_id_hash  num_day_created  average_minutes  average_counts\n",
       "0             0         6.288305     2.462272e+06        5.883939\n",
       "1             1         6.430499     1.574480e+04        0.466527\n",
       "2             2         2.222998     0.000000e+00        0.449843"
      ]
     },
     "execution_count": 126,
     "metadata": {},
     "output_type": "execute_result"
    }
   ],
   "source": [
    "user_ave = user_ave.drop(['sum','count'], axis=1)\n",
    "user_ave.head(3)"
   ]
  },
  {
   "cell_type": "code",
   "execution_count": 213,
   "metadata": {
    "ExecuteTime": {
     "end_time": "2019-02-28T00:43:15.912158Z",
     "start_time": "2019-02-28T00:43:15.529396Z"
    }
   },
   "outputs": [],
   "source": [
    "df2 = df2.merge(user_ave, left_on='user_id_hash', right_on='user_id_hash',how='left')"
   ]
  },
  {
   "cell_type": "code",
   "execution_count": 214,
   "metadata": {
    "ExecuteTime": {
     "end_time": "2019-02-28T00:43:19.536055Z",
     "start_time": "2019-02-28T00:43:19.514768Z"
    }
   },
   "outputs": [
    {
     "data": {
      "text/html": [
       "<div>\n",
       "<style scoped>\n",
       "    .dataframe tbody tr th:only-of-type {\n",
       "        vertical-align: middle;\n",
       "    }\n",
       "\n",
       "    .dataframe tbody tr th {\n",
       "        vertical-align: top;\n",
       "    }\n",
       "\n",
       "    .dataframe thead th {\n",
       "        text-align: right;\n",
       "    }\n",
       "</style>\n",
       "<table border=\"1\" class=\"dataframe\">\n",
       "  <thead>\n",
       "    <tr style=\"text-align: right;\">\n",
       "      <th></th>\n",
       "      <th>user_id_hash</th>\n",
       "      <th>count_1001_1007</th>\n",
       "      <th>count_1007_1014</th>\n",
       "      <th>count_1014_1021</th>\n",
       "      <th>count_1021_1028</th>\n",
       "      <th>count_1028_1104</th>\n",
       "      <th>count_1104_1111</th>\n",
       "      <th>count_1111_1118</th>\n",
       "      <th>count_1118_1125</th>\n",
       "      <th>count_1125_1201</th>\n",
       "      <th>events_1001_1007</th>\n",
       "      <th>events_1007_1014</th>\n",
       "      <th>events_1014_1021</th>\n",
       "      <th>events_1021_1028</th>\n",
       "      <th>events_1028_1104</th>\n",
       "      <th>events_1104_1111</th>\n",
       "      <th>events_1111_1118</th>\n",
       "      <th>events_1118_1125</th>\n",
       "      <th>events_1125_1201</th>\n",
       "      <th>num_day_created</th>\n",
       "      <th>average_minutes</th>\n",
       "      <th>average_counts</th>\n",
       "    </tr>\n",
       "  </thead>\n",
       "  <tbody>\n",
       "    <tr>\n",
       "      <th>0</th>\n",
       "      <td>0</td>\n",
       "      <td>0.0</td>\n",
       "      <td>0.0</td>\n",
       "      <td>0.0</td>\n",
       "      <td>1.0</td>\n",
       "      <td>0.0</td>\n",
       "      <td>0.0</td>\n",
       "      <td>0.0</td>\n",
       "      <td>0.0</td>\n",
       "      <td>0.0</td>\n",
       "      <td>32</td>\n",
       "      <td>0</td>\n",
       "      <td>4</td>\n",
       "      <td>157</td>\n",
       "      <td>0.0</td>\n",
       "      <td>28</td>\n",
       "      <td>51</td>\n",
       "      <td>0</td>\n",
       "      <td>0</td>\n",
       "      <td>6.288305</td>\n",
       "      <td>2.462272e+06</td>\n",
       "      <td>5.883939</td>\n",
       "    </tr>\n",
       "    <tr>\n",
       "      <th>1</th>\n",
       "      <td>1</td>\n",
       "      <td>NaN</td>\n",
       "      <td>NaN</td>\n",
       "      <td>NaN</td>\n",
       "      <td>NaN</td>\n",
       "      <td>NaN</td>\n",
       "      <td>NaN</td>\n",
       "      <td>NaN</td>\n",
       "      <td>NaN</td>\n",
       "      <td>NaN</td>\n",
       "      <td>0</td>\n",
       "      <td>0</td>\n",
       "      <td>0</td>\n",
       "      <td>86</td>\n",
       "      <td>NaN</td>\n",
       "      <td>0</td>\n",
       "      <td>0</td>\n",
       "      <td>0</td>\n",
       "      <td>0</td>\n",
       "      <td>6.430499</td>\n",
       "      <td>1.574480e+04</td>\n",
       "      <td>0.466527</td>\n",
       "    </tr>\n",
       "    <tr>\n",
       "      <th>2</th>\n",
       "      <td>2</td>\n",
       "      <td>NaN</td>\n",
       "      <td>NaN</td>\n",
       "      <td>NaN</td>\n",
       "      <td>NaN</td>\n",
       "      <td>NaN</td>\n",
       "      <td>NaN</td>\n",
       "      <td>NaN</td>\n",
       "      <td>NaN</td>\n",
       "      <td>NaN</td>\n",
       "      <td>33</td>\n",
       "      <td>0</td>\n",
       "      <td>0</td>\n",
       "      <td>0</td>\n",
       "      <td>NaN</td>\n",
       "      <td>0</td>\n",
       "      <td>0</td>\n",
       "      <td>0</td>\n",
       "      <td>0</td>\n",
       "      <td>2.222998</td>\n",
       "      <td>0.000000e+00</td>\n",
       "      <td>0.449843</td>\n",
       "    </tr>\n",
       "  </tbody>\n",
       "</table>\n",
       "</div>"
      ],
      "text/plain": [
       "   user_id_hash  count_1001_1007  count_1007_1014  count_1014_1021  \\\n",
       "0             0              0.0              0.0              0.0   \n",
       "1             1              NaN              NaN              NaN   \n",
       "2             2              NaN              NaN              NaN   \n",
       "\n",
       "   count_1021_1028  count_1028_1104  count_1104_1111  count_1111_1118  \\\n",
       "0              1.0              0.0              0.0              0.0   \n",
       "1              NaN              NaN              NaN              NaN   \n",
       "2              NaN              NaN              NaN              NaN   \n",
       "\n",
       "   count_1118_1125  count_1125_1201  events_1001_1007  events_1007_1014  \\\n",
       "0              0.0              0.0                32                 0   \n",
       "1              NaN              NaN                 0                 0   \n",
       "2              NaN              NaN                33                 0   \n",
       "\n",
       "   events_1014_1021  events_1021_1028  events_1028_1104  events_1104_1111  \\\n",
       "0                 4               157               0.0                28   \n",
       "1                 0                86               NaN                 0   \n",
       "2                 0                 0               NaN                 0   \n",
       "\n",
       "   events_1111_1118  events_1118_1125  events_1125_1201  num_day_created  \\\n",
       "0                51                 0                 0         6.288305   \n",
       "1                 0                 0                 0         6.430499   \n",
       "2                 0                 0                 0         2.222998   \n",
       "\n",
       "   average_minutes  average_counts  \n",
       "0     2.462272e+06        5.883939  \n",
       "1     1.574480e+04        0.466527  \n",
       "2     0.000000e+00        0.449843  "
      ]
     },
     "execution_count": 214,
     "metadata": {},
     "output_type": "execute_result"
    }
   ],
   "source": [
    "df2.head(3)"
   ]
  },
  {
   "cell_type": "code",
   "execution_count": 215,
   "metadata": {
    "ExecuteTime": {
     "end_time": "2019-02-28T00:43:25.766580Z",
     "start_time": "2019-02-28T00:43:25.762574Z"
    }
   },
   "outputs": [
    {
     "data": {
      "text/plain": [
       "621001"
      ]
     },
     "execution_count": 215,
     "metadata": {},
     "output_type": "execute_result"
    }
   ],
   "source": [
    "len(df2)"
   ]
  },
  {
   "cell_type": "code",
   "execution_count": 216,
   "metadata": {
    "ExecuteTime": {
     "end_time": "2019-02-28T00:44:34.585594Z",
     "start_time": "2019-02-28T00:44:34.436079Z"
    }
   },
   "outputs": [],
   "source": [
    "df2 = df2.fillna(0)"
   ]
  },
  {
   "cell_type": "code",
   "execution_count": 241,
   "metadata": {
    "ExecuteTime": {
     "end_time": "2019-02-28T01:18:21.933172Z",
     "start_time": "2019-02-28T01:18:21.866870Z"
    }
   },
   "outputs": [],
   "source": [
    "df2 = df2.drop(['pred_7','pred_14'], axis=1)"
   ]
  },
  {
   "cell_type": "code",
   "execution_count": 242,
   "metadata": {
    "ExecuteTime": {
     "end_time": "2019-02-28T01:18:24.388084Z",
     "start_time": "2019-02-28T01:18:24.261402Z"
    }
   },
   "outputs": [
    {
     "data": {
      "text/html": [
       "<div>\n",
       "<style scoped>\n",
       "    .dataframe tbody tr th:only-of-type {\n",
       "        vertical-align: middle;\n",
       "    }\n",
       "\n",
       "    .dataframe tbody tr th {\n",
       "        vertical-align: top;\n",
       "    }\n",
       "\n",
       "    .dataframe thead th {\n",
       "        text-align: right;\n",
       "    }\n",
       "</style>\n",
       "<table border=\"1\" class=\"dataframe\">\n",
       "  <thead>\n",
       "    <tr style=\"text-align: right;\">\n",
       "      <th></th>\n",
       "      <th>count_1001_1007</th>\n",
       "      <th>count_1007_1014</th>\n",
       "      <th>count_1014_1021</th>\n",
       "      <th>count_1021_1028</th>\n",
       "      <th>count_1028_1104</th>\n",
       "      <th>count_1104_1111</th>\n",
       "      <th>count_1111_1118</th>\n",
       "      <th>count_1118_1125</th>\n",
       "      <th>count_1125_1201</th>\n",
       "      <th>events_1001_1007</th>\n",
       "      <th>events_1007_1014</th>\n",
       "      <th>events_1014_1021</th>\n",
       "      <th>events_1021_1028</th>\n",
       "      <th>events_1028_1104</th>\n",
       "      <th>events_1104_1111</th>\n",
       "      <th>events_1111_1118</th>\n",
       "      <th>events_1118_1125</th>\n",
       "      <th>events_1125_1201</th>\n",
       "      <th>num_day_created</th>\n",
       "      <th>average_minutes</th>\n",
       "      <th>average_counts</th>\n",
       "    </tr>\n",
       "  </thead>\n",
       "  <tbody>\n",
       "    <tr>\n",
       "      <th>0</th>\n",
       "      <td>0.0</td>\n",
       "      <td>0.0</td>\n",
       "      <td>0.0</td>\n",
       "      <td>1.0</td>\n",
       "      <td>0.0</td>\n",
       "      <td>0.0</td>\n",
       "      <td>0.0</td>\n",
       "      <td>0.0</td>\n",
       "      <td>0.0</td>\n",
       "      <td>32</td>\n",
       "      <td>0</td>\n",
       "      <td>4</td>\n",
       "      <td>157</td>\n",
       "      <td>0.0</td>\n",
       "      <td>28</td>\n",
       "      <td>51</td>\n",
       "      <td>0</td>\n",
       "      <td>0</td>\n",
       "      <td>6.288305</td>\n",
       "      <td>2.462272e+06</td>\n",
       "      <td>5.883939</td>\n",
       "    </tr>\n",
       "    <tr>\n",
       "      <th>1</th>\n",
       "      <td>0.0</td>\n",
       "      <td>0.0</td>\n",
       "      <td>0.0</td>\n",
       "      <td>0.0</td>\n",
       "      <td>0.0</td>\n",
       "      <td>0.0</td>\n",
       "      <td>0.0</td>\n",
       "      <td>0.0</td>\n",
       "      <td>0.0</td>\n",
       "      <td>0</td>\n",
       "      <td>0</td>\n",
       "      <td>0</td>\n",
       "      <td>86</td>\n",
       "      <td>0.0</td>\n",
       "      <td>0</td>\n",
       "      <td>0</td>\n",
       "      <td>0</td>\n",
       "      <td>0</td>\n",
       "      <td>6.430499</td>\n",
       "      <td>1.574480e+04</td>\n",
       "      <td>0.466527</td>\n",
       "    </tr>\n",
       "    <tr>\n",
       "      <th>2</th>\n",
       "      <td>0.0</td>\n",
       "      <td>0.0</td>\n",
       "      <td>0.0</td>\n",
       "      <td>0.0</td>\n",
       "      <td>0.0</td>\n",
       "      <td>0.0</td>\n",
       "      <td>0.0</td>\n",
       "      <td>0.0</td>\n",
       "      <td>0.0</td>\n",
       "      <td>33</td>\n",
       "      <td>0</td>\n",
       "      <td>0</td>\n",
       "      <td>0</td>\n",
       "      <td>0.0</td>\n",
       "      <td>0</td>\n",
       "      <td>0</td>\n",
       "      <td>0</td>\n",
       "      <td>0</td>\n",
       "      <td>2.222998</td>\n",
       "      <td>0.000000e+00</td>\n",
       "      <td>0.449843</td>\n",
       "    </tr>\n",
       "    <tr>\n",
       "      <th>3</th>\n",
       "      <td>0.0</td>\n",
       "      <td>0.0</td>\n",
       "      <td>0.0</td>\n",
       "      <td>0.0</td>\n",
       "      <td>0.0</td>\n",
       "      <td>0.0</td>\n",
       "      <td>0.0</td>\n",
       "      <td>0.0</td>\n",
       "      <td>0.0</td>\n",
       "      <td>0</td>\n",
       "      <td>0</td>\n",
       "      <td>0</td>\n",
       "      <td>0</td>\n",
       "      <td>0.0</td>\n",
       "      <td>1</td>\n",
       "      <td>0</td>\n",
       "      <td>0</td>\n",
       "      <td>0</td>\n",
       "      <td>6.057656</td>\n",
       "      <td>0.000000e+00</td>\n",
       "      <td>0.165080</td>\n",
       "    </tr>\n",
       "    <tr>\n",
       "      <th>4</th>\n",
       "      <td>0.0</td>\n",
       "      <td>0.0</td>\n",
       "      <td>0.0</td>\n",
       "      <td>0.0</td>\n",
       "      <td>0.0</td>\n",
       "      <td>0.0</td>\n",
       "      <td>0.0</td>\n",
       "      <td>0.0</td>\n",
       "      <td>0.0</td>\n",
       "      <td>0</td>\n",
       "      <td>8</td>\n",
       "      <td>0</td>\n",
       "      <td>0</td>\n",
       "      <td>0.0</td>\n",
       "      <td>0</td>\n",
       "      <td>0</td>\n",
       "      <td>0</td>\n",
       "      <td>0</td>\n",
       "      <td>4.672814</td>\n",
       "      <td>0.000000e+00</td>\n",
       "      <td>0.214004</td>\n",
       "    </tr>\n",
       "  </tbody>\n",
       "</table>\n",
       "</div>"
      ],
      "text/plain": [
       "   count_1001_1007  count_1007_1014  count_1014_1021  count_1021_1028  \\\n",
       "0              0.0              0.0              0.0              1.0   \n",
       "1              0.0              0.0              0.0              0.0   \n",
       "2              0.0              0.0              0.0              0.0   \n",
       "3              0.0              0.0              0.0              0.0   \n",
       "4              0.0              0.0              0.0              0.0   \n",
       "\n",
       "   count_1028_1104  count_1104_1111  count_1111_1118  count_1118_1125  \\\n",
       "0              0.0              0.0              0.0              0.0   \n",
       "1              0.0              0.0              0.0              0.0   \n",
       "2              0.0              0.0              0.0              0.0   \n",
       "3              0.0              0.0              0.0              0.0   \n",
       "4              0.0              0.0              0.0              0.0   \n",
       "\n",
       "   count_1125_1201  events_1001_1007  events_1007_1014  events_1014_1021  \\\n",
       "0              0.0                32                 0                 4   \n",
       "1              0.0                 0                 0                 0   \n",
       "2              0.0                33                 0                 0   \n",
       "3              0.0                 0                 0                 0   \n",
       "4              0.0                 0                 8                 0   \n",
       "\n",
       "   events_1021_1028  events_1028_1104  events_1104_1111  events_1111_1118  \\\n",
       "0               157               0.0                28                51   \n",
       "1                86               0.0                 0                 0   \n",
       "2                 0               0.0                 0                 0   \n",
       "3                 0               0.0                 1                 0   \n",
       "4                 0               0.0                 0                 0   \n",
       "\n",
       "   events_1118_1125  events_1125_1201  num_day_created  average_minutes  \\\n",
       "0                 0                 0         6.288305     2.462272e+06   \n",
       "1                 0                 0         6.430499     1.574480e+04   \n",
       "2                 0                 0         2.222998     0.000000e+00   \n",
       "3                 0                 0         6.057656     0.000000e+00   \n",
       "4                 0                 0         4.672814     0.000000e+00   \n",
       "\n",
       "   average_counts  \n",
       "0        5.883939  \n",
       "1        0.466527  \n",
       "2        0.449843  \n",
       "3        0.165080  \n",
       "4        0.214004  "
      ]
     },
     "execution_count": 242,
     "metadata": {},
     "output_type": "execute_result"
    }
   ],
   "source": [
    "df2.iloc[:,1:].head()"
   ]
  },
  {
   "cell_type": "markdown",
   "metadata": {},
   "source": [
    "#### predict using previous models"
   ]
  },
  {
   "cell_type": "code",
   "execution_count": 243,
   "metadata": {
    "ExecuteTime": {
     "end_time": "2019-02-28T01:18:31.345440Z",
     "start_time": "2019-02-28T01:18:28.939063Z"
    }
   },
   "outputs": [],
   "source": [
    "df2['pred_7'] = clf_dec1_7.predict_proba(df2.iloc[:,1:])[:,1]\n",
    "df2['pred_14'] = clf_dec1_14.predict_proba(df2.iloc[:,1:-1])[:,1]"
   ]
  },
  {
   "cell_type": "code",
   "execution_count": 218,
   "metadata": {
    "ExecuteTime": {
     "end_time": "2019-02-28T00:44:46.574565Z",
     "start_time": "2019-02-28T00:44:46.551911Z"
    }
   },
   "outputs": [
    {
     "data": {
      "text/html": [
       "<div>\n",
       "<style scoped>\n",
       "    .dataframe tbody tr th:only-of-type {\n",
       "        vertical-align: middle;\n",
       "    }\n",
       "\n",
       "    .dataframe tbody tr th {\n",
       "        vertical-align: top;\n",
       "    }\n",
       "\n",
       "    .dataframe thead th {\n",
       "        text-align: right;\n",
       "    }\n",
       "</style>\n",
       "<table border=\"1\" class=\"dataframe\">\n",
       "  <thead>\n",
       "    <tr style=\"text-align: right;\">\n",
       "      <th></th>\n",
       "      <th>user_id_hash</th>\n",
       "      <th>count_1001_1007</th>\n",
       "      <th>count_1007_1014</th>\n",
       "      <th>count_1014_1021</th>\n",
       "      <th>count_1021_1028</th>\n",
       "      <th>count_1028_1104</th>\n",
       "      <th>count_1104_1111</th>\n",
       "      <th>count_1111_1118</th>\n",
       "      <th>count_1118_1125</th>\n",
       "      <th>count_1125_1201</th>\n",
       "      <th>events_1001_1007</th>\n",
       "      <th>events_1007_1014</th>\n",
       "      <th>events_1014_1021</th>\n",
       "      <th>events_1021_1028</th>\n",
       "      <th>events_1028_1104</th>\n",
       "      <th>events_1104_1111</th>\n",
       "      <th>events_1111_1118</th>\n",
       "      <th>events_1118_1125</th>\n",
       "      <th>events_1125_1201</th>\n",
       "      <th>num_day_created</th>\n",
       "      <th>average_minutes</th>\n",
       "      <th>average_counts</th>\n",
       "      <th>pred_7</th>\n",
       "      <th>pred_14</th>\n",
       "    </tr>\n",
       "  </thead>\n",
       "  <tbody>\n",
       "    <tr>\n",
       "      <th>0</th>\n",
       "      <td>0</td>\n",
       "      <td>0.0</td>\n",
       "      <td>0.0</td>\n",
       "      <td>0.0</td>\n",
       "      <td>1.0</td>\n",
       "      <td>0.0</td>\n",
       "      <td>0.0</td>\n",
       "      <td>0.0</td>\n",
       "      <td>0.0</td>\n",
       "      <td>0.0</td>\n",
       "      <td>32</td>\n",
       "      <td>0</td>\n",
       "      <td>4</td>\n",
       "      <td>157</td>\n",
       "      <td>0.0</td>\n",
       "      <td>28</td>\n",
       "      <td>51</td>\n",
       "      <td>0</td>\n",
       "      <td>0</td>\n",
       "      <td>6.288305</td>\n",
       "      <td>2.462272e+06</td>\n",
       "      <td>5.883939</td>\n",
       "      <td>0.003783</td>\n",
       "      <td>0.017206</td>\n",
       "    </tr>\n",
       "    <tr>\n",
       "      <th>1</th>\n",
       "      <td>1</td>\n",
       "      <td>0.0</td>\n",
       "      <td>0.0</td>\n",
       "      <td>0.0</td>\n",
       "      <td>0.0</td>\n",
       "      <td>0.0</td>\n",
       "      <td>0.0</td>\n",
       "      <td>0.0</td>\n",
       "      <td>0.0</td>\n",
       "      <td>0.0</td>\n",
       "      <td>0</td>\n",
       "      <td>0</td>\n",
       "      <td>0</td>\n",
       "      <td>86</td>\n",
       "      <td>0.0</td>\n",
       "      <td>0</td>\n",
       "      <td>0</td>\n",
       "      <td>0</td>\n",
       "      <td>0</td>\n",
       "      <td>6.430499</td>\n",
       "      <td>1.574480e+04</td>\n",
       "      <td>0.466527</td>\n",
       "      <td>0.000024</td>\n",
       "      <td>0.000103</td>\n",
       "    </tr>\n",
       "    <tr>\n",
       "      <th>2</th>\n",
       "      <td>2</td>\n",
       "      <td>0.0</td>\n",
       "      <td>0.0</td>\n",
       "      <td>0.0</td>\n",
       "      <td>0.0</td>\n",
       "      <td>0.0</td>\n",
       "      <td>0.0</td>\n",
       "      <td>0.0</td>\n",
       "      <td>0.0</td>\n",
       "      <td>0.0</td>\n",
       "      <td>33</td>\n",
       "      <td>0</td>\n",
       "      <td>0</td>\n",
       "      <td>0</td>\n",
       "      <td>0.0</td>\n",
       "      <td>0</td>\n",
       "      <td>0</td>\n",
       "      <td>0</td>\n",
       "      <td>0</td>\n",
       "      <td>2.222998</td>\n",
       "      <td>0.000000e+00</td>\n",
       "      <td>0.449843</td>\n",
       "      <td>0.000004</td>\n",
       "      <td>0.000022</td>\n",
       "    </tr>\n",
       "  </tbody>\n",
       "</table>\n",
       "</div>"
      ],
      "text/plain": [
       "   user_id_hash  count_1001_1007  count_1007_1014  count_1014_1021  \\\n",
       "0             0              0.0              0.0              0.0   \n",
       "1             1              0.0              0.0              0.0   \n",
       "2             2              0.0              0.0              0.0   \n",
       "\n",
       "   count_1021_1028  count_1028_1104  count_1104_1111  count_1111_1118  \\\n",
       "0              1.0              0.0              0.0              0.0   \n",
       "1              0.0              0.0              0.0              0.0   \n",
       "2              0.0              0.0              0.0              0.0   \n",
       "\n",
       "   count_1118_1125  count_1125_1201  events_1001_1007  events_1007_1014  \\\n",
       "0              0.0              0.0                32                 0   \n",
       "1              0.0              0.0                 0                 0   \n",
       "2              0.0              0.0                33                 0   \n",
       "\n",
       "   events_1014_1021  events_1021_1028  events_1028_1104  events_1104_1111  \\\n",
       "0                 4               157               0.0                28   \n",
       "1                 0                86               0.0                 0   \n",
       "2                 0                 0               0.0                 0   \n",
       "\n",
       "   events_1111_1118  events_1118_1125  events_1125_1201  num_day_created  \\\n",
       "0                51                 0                 0         6.288305   \n",
       "1                 0                 0                 0         6.430499   \n",
       "2                 0                 0                 0         2.222998   \n",
       "\n",
       "   average_minutes  average_counts    pred_7   pred_14  \n",
       "0     2.462272e+06        5.883939  0.003783  0.017206  \n",
       "1     1.574480e+04        0.466527  0.000024  0.000103  \n",
       "2     0.000000e+00        0.449843  0.000004  0.000022  "
      ]
     },
     "execution_count": 218,
     "metadata": {},
     "output_type": "execute_result"
    }
   ],
   "source": [
    "df2.head(3)"
   ]
  },
  {
   "cell_type": "code",
   "execution_count": 244,
   "metadata": {
    "ExecuteTime": {
     "end_time": "2019-02-28T01:18:34.001450Z",
     "start_time": "2019-02-28T01:18:33.910315Z"
    }
   },
   "outputs": [],
   "source": [
    "answer = df2[['user_id_hash','pred_7','pred_14']]"
   ]
  },
  {
   "cell_type": "code",
   "execution_count": 245,
   "metadata": {
    "ExecuteTime": {
     "end_time": "2019-02-28T01:18:36.330783Z",
     "start_time": "2019-02-28T01:18:36.323404Z"
    }
   },
   "outputs": [
    {
     "data": {
      "text/html": [
       "<div>\n",
       "<style scoped>\n",
       "    .dataframe tbody tr th:only-of-type {\n",
       "        vertical-align: middle;\n",
       "    }\n",
       "\n",
       "    .dataframe tbody tr th {\n",
       "        vertical-align: top;\n",
       "    }\n",
       "\n",
       "    .dataframe thead th {\n",
       "        text-align: right;\n",
       "    }\n",
       "</style>\n",
       "<table border=\"1\" class=\"dataframe\">\n",
       "  <thead>\n",
       "    <tr style=\"text-align: right;\">\n",
       "      <th></th>\n",
       "      <th>user_id_hash</th>\n",
       "      <th>pred_7</th>\n",
       "      <th>pred_14</th>\n",
       "    </tr>\n",
       "  </thead>\n",
       "  <tbody>\n",
       "    <tr>\n",
       "      <th>0</th>\n",
       "      <td>0</td>\n",
       "      <td>0.020371</td>\n",
       "      <td>0.014972</td>\n",
       "    </tr>\n",
       "    <tr>\n",
       "      <th>1</th>\n",
       "      <td>1</td>\n",
       "      <td>0.000195</td>\n",
       "      <td>0.000195</td>\n",
       "    </tr>\n",
       "    <tr>\n",
       "      <th>2</th>\n",
       "      <td>2</td>\n",
       "      <td>0.000010</td>\n",
       "      <td>0.000010</td>\n",
       "    </tr>\n",
       "  </tbody>\n",
       "</table>\n",
       "</div>"
      ],
      "text/plain": [
       "   user_id_hash    pred_7   pred_14\n",
       "0             0  0.020371  0.014972\n",
       "1             1  0.000195  0.000195\n",
       "2             2  0.000010  0.000010"
      ]
     },
     "execution_count": 245,
     "metadata": {},
     "output_type": "execute_result"
    }
   ],
   "source": [
    "answer.head(3)"
   ]
  },
  {
   "cell_type": "code",
   "execution_count": 246,
   "metadata": {
    "ExecuteTime": {
     "end_time": "2019-02-28T01:18:38.267470Z",
     "start_time": "2019-02-28T01:18:38.263537Z"
    }
   },
   "outputs": [
    {
     "data": {
      "text/plain": [
       "621001"
      ]
     },
     "execution_count": 246,
     "metadata": {},
     "output_type": "execute_result"
    }
   ],
   "source": [
    "len(answer)"
   ]
  },
  {
   "cell_type": "markdown",
   "metadata": {},
   "source": [
    "#### join output and ready to submit to kaggle"
   ]
  },
  {
   "cell_type": "code",
   "execution_count": 247,
   "metadata": {
    "ExecuteTime": {
     "end_time": "2019-02-28T01:18:45.357653Z",
     "start_time": "2019-02-28T01:18:44.796203Z"
    }
   },
   "outputs": [
    {
     "data": {
      "text/html": [
       "<div>\n",
       "<style scoped>\n",
       "    .dataframe tbody tr th:only-of-type {\n",
       "        vertical-align: middle;\n",
       "    }\n",
       "\n",
       "    .dataframe tbody tr th {\n",
       "        vertical-align: top;\n",
       "    }\n",
       "\n",
       "    .dataframe thead th {\n",
       "        text-align: right;\n",
       "    }\n",
       "</style>\n",
       "<table border=\"1\" class=\"dataframe\">\n",
       "  <thead>\n",
       "    <tr style=\"text-align: right;\">\n",
       "      <th></th>\n",
       "      <th>user_id_hash</th>\n",
       "      <th>user_purchase_binary_7_days</th>\n",
       "      <th>user_purchase_binary_14_days</th>\n",
       "    </tr>\n",
       "  </thead>\n",
       "  <tbody>\n",
       "    <tr>\n",
       "      <th>0</th>\n",
       "      <td>e469dfaed039ead9110165d9bc457acb11609ca34057dc...</td>\n",
       "      <td>0.01</td>\n",
       "      <td>0.02</td>\n",
       "    </tr>\n",
       "    <tr>\n",
       "      <th>1</th>\n",
       "      <td>afcc639a324b6c598ef83d360450afa011cb2dd1358bf9...</td>\n",
       "      <td>0.01</td>\n",
       "      <td>0.02</td>\n",
       "    </tr>\n",
       "    <tr>\n",
       "      <th>2</th>\n",
       "      <td>fd5a7cf211d08e3e00f7be6a9df6e6ea3d2e5c22a5d9c3...</td>\n",
       "      <td>0.01</td>\n",
       "      <td>0.02</td>\n",
       "    </tr>\n",
       "  </tbody>\n",
       "</table>\n",
       "</div>"
      ],
      "text/plain": [
       "                                        user_id_hash  \\\n",
       "0  e469dfaed039ead9110165d9bc457acb11609ca34057dc...   \n",
       "1  afcc639a324b6c598ef83d360450afa011cb2dd1358bf9...   \n",
       "2  fd5a7cf211d08e3e00f7be6a9df6e6ea3d2e5c22a5d9c3...   \n",
       "\n",
       "   user_purchase_binary_7_days  user_purchase_binary_14_days  \n",
       "0                         0.01                          0.02  \n",
       "1                         0.01                          0.02  \n",
       "2                         0.01                          0.02  "
      ]
     },
     "execution_count": 247,
     "metadata": {},
     "output_type": "execute_result"
    }
   ],
   "source": [
    "submission = pd.read_csv('sample_submission_2.csv')\n",
    "submission.head(3)"
   ]
  },
  {
   "cell_type": "code",
   "execution_count": 248,
   "metadata": {
    "ExecuteTime": {
     "end_time": "2019-02-28T01:18:48.611861Z",
     "start_time": "2019-02-28T01:18:48.608863Z"
    }
   },
   "outputs": [],
   "source": [
    "def tryconvert(value):\n",
    "    try:\n",
    "        return name2idx[value]\n",
    "    except KeyError:\n",
    "        return value"
   ]
  },
  {
   "cell_type": "code",
   "execution_count": 250,
   "metadata": {
    "ExecuteTime": {
     "end_time": "2019-02-28T01:18:59.027257Z",
     "start_time": "2019-02-28T01:18:58.776083Z"
    }
   },
   "outputs": [
    {
     "data": {
      "text/html": [
       "<div>\n",
       "<style scoped>\n",
       "    .dataframe tbody tr th:only-of-type {\n",
       "        vertical-align: middle;\n",
       "    }\n",
       "\n",
       "    .dataframe tbody tr th {\n",
       "        vertical-align: top;\n",
       "    }\n",
       "\n",
       "    .dataframe thead th {\n",
       "        text-align: right;\n",
       "    }\n",
       "</style>\n",
       "<table border=\"1\" class=\"dataframe\">\n",
       "  <thead>\n",
       "    <tr style=\"text-align: right;\">\n",
       "      <th></th>\n",
       "      <th>user_id_hash</th>\n",
       "      <th>user_purchase_binary_7_days</th>\n",
       "      <th>user_purchase_binary_14_days</th>\n",
       "      <th>user</th>\n",
       "    </tr>\n",
       "  </thead>\n",
       "  <tbody>\n",
       "    <tr>\n",
       "      <th>0</th>\n",
       "      <td>e469dfaed039ead9110165d9bc457acb11609ca34057dc...</td>\n",
       "      <td>0.01</td>\n",
       "      <td>0.02</td>\n",
       "      <td>415160</td>\n",
       "    </tr>\n",
       "    <tr>\n",
       "      <th>1</th>\n",
       "      <td>afcc639a324b6c598ef83d360450afa011cb2dd1358bf9...</td>\n",
       "      <td>0.01</td>\n",
       "      <td>0.02</td>\n",
       "      <td>536100</td>\n",
       "    </tr>\n",
       "    <tr>\n",
       "      <th>2</th>\n",
       "      <td>fd5a7cf211d08e3e00f7be6a9df6e6ea3d2e5c22a5d9c3...</td>\n",
       "      <td>0.01</td>\n",
       "      <td>0.02</td>\n",
       "      <td>343300</td>\n",
       "    </tr>\n",
       "  </tbody>\n",
       "</table>\n",
       "</div>"
      ],
      "text/plain": [
       "                                        user_id_hash  \\\n",
       "0  e469dfaed039ead9110165d9bc457acb11609ca34057dc...   \n",
       "1  afcc639a324b6c598ef83d360450afa011cb2dd1358bf9...   \n",
       "2  fd5a7cf211d08e3e00f7be6a9df6e6ea3d2e5c22a5d9c3...   \n",
       "\n",
       "   user_purchase_binary_7_days  user_purchase_binary_14_days    user  \n",
       "0                         0.01                          0.02  415160  \n",
       "1                         0.01                          0.02  536100  \n",
       "2                         0.01                          0.02  343300  "
      ]
     },
     "execution_count": 250,
     "metadata": {},
     "output_type": "execute_result"
    }
   ],
   "source": [
    "submission['user'] = submission['user_id_hash'].apply(lambda x: tryconvert(x))\n",
    "submission.head(3)"
   ]
  },
  {
   "cell_type": "code",
   "execution_count": 251,
   "metadata": {
    "ExecuteTime": {
     "end_time": "2019-02-28T01:19:02.990309Z",
     "start_time": "2019-02-28T01:19:02.753193Z"
    }
   },
   "outputs": [
    {
     "data": {
      "text/html": [
       "<div>\n",
       "<style scoped>\n",
       "    .dataframe tbody tr th:only-of-type {\n",
       "        vertical-align: middle;\n",
       "    }\n",
       "\n",
       "    .dataframe tbody tr th {\n",
       "        vertical-align: top;\n",
       "    }\n",
       "\n",
       "    .dataframe thead th {\n",
       "        text-align: right;\n",
       "    }\n",
       "</style>\n",
       "<table border=\"1\" class=\"dataframe\">\n",
       "  <thead>\n",
       "    <tr style=\"text-align: right;\">\n",
       "      <th></th>\n",
       "      <th>user</th>\n",
       "      <th>pred_7</th>\n",
       "      <th>pred_14</th>\n",
       "    </tr>\n",
       "  </thead>\n",
       "  <tbody>\n",
       "    <tr>\n",
       "      <th>0</th>\n",
       "      <td>0</td>\n",
       "      <td>0.020371</td>\n",
       "      <td>0.014972</td>\n",
       "    </tr>\n",
       "    <tr>\n",
       "      <th>1</th>\n",
       "      <td>1</td>\n",
       "      <td>0.000195</td>\n",
       "      <td>0.000195</td>\n",
       "    </tr>\n",
       "    <tr>\n",
       "      <th>2</th>\n",
       "      <td>2</td>\n",
       "      <td>0.000010</td>\n",
       "      <td>0.000010</td>\n",
       "    </tr>\n",
       "  </tbody>\n",
       "</table>\n",
       "</div>"
      ],
      "text/plain": [
       "   user    pred_7   pred_14\n",
       "0     0  0.020371  0.014972\n",
       "1     1  0.000195  0.000195\n",
       "2     2  0.000010  0.000010"
      ]
     },
     "execution_count": 251,
     "metadata": {},
     "output_type": "execute_result"
    }
   ],
   "source": [
    "answer = answer.rename(index=str, columns={\"user_id_hash\": \"user\"})\n",
    "answer.head(3)"
   ]
  },
  {
   "cell_type": "code",
   "execution_count": 255,
   "metadata": {
    "ExecuteTime": {
     "end_time": "2019-02-28T01:20:55.922902Z",
     "start_time": "2019-02-28T01:20:55.918447Z"
    }
   },
   "outputs": [
    {
     "data": {
      "text/plain": [
       "621001"
      ]
     },
     "execution_count": 255,
     "metadata": {},
     "output_type": "execute_result"
    }
   ],
   "source": [
    "len(answer)"
   ]
  },
  {
   "cell_type": "code",
   "execution_count": 252,
   "metadata": {
    "ExecuteTime": {
     "end_time": "2019-02-28T01:19:11.875149Z",
     "start_time": "2019-02-28T01:19:11.089127Z"
    }
   },
   "outputs": [
    {
     "data": {
      "text/html": [
       "<div>\n",
       "<style scoped>\n",
       "    .dataframe tbody tr th:only-of-type {\n",
       "        vertical-align: middle;\n",
       "    }\n",
       "\n",
       "    .dataframe tbody tr th {\n",
       "        vertical-align: top;\n",
       "    }\n",
       "\n",
       "    .dataframe thead th {\n",
       "        text-align: right;\n",
       "    }\n",
       "</style>\n",
       "<table border=\"1\" class=\"dataframe\">\n",
       "  <thead>\n",
       "    <tr style=\"text-align: right;\">\n",
       "      <th></th>\n",
       "      <th>user_id_hash</th>\n",
       "      <th>user_purchase_binary_7_days</th>\n",
       "      <th>user_purchase_binary_14_days</th>\n",
       "      <th>user</th>\n",
       "      <th>pred_7</th>\n",
       "      <th>pred_14</th>\n",
       "    </tr>\n",
       "  </thead>\n",
       "  <tbody>\n",
       "    <tr>\n",
       "      <th>0</th>\n",
       "      <td>e469dfaed039ead9110165d9bc457acb11609ca34057dc...</td>\n",
       "      <td>0.01</td>\n",
       "      <td>0.02</td>\n",
       "      <td>415160</td>\n",
       "      <td>0.000598</td>\n",
       "      <td>0.000598</td>\n",
       "    </tr>\n",
       "    <tr>\n",
       "      <th>1</th>\n",
       "      <td>afcc639a324b6c598ef83d360450afa011cb2dd1358bf9...</td>\n",
       "      <td>0.01</td>\n",
       "      <td>0.02</td>\n",
       "      <td>536100</td>\n",
       "      <td>0.000013</td>\n",
       "      <td>0.000013</td>\n",
       "    </tr>\n",
       "    <tr>\n",
       "      <th>2</th>\n",
       "      <td>fd5a7cf211d08e3e00f7be6a9df6e6ea3d2e5c22a5d9c3...</td>\n",
       "      <td>0.01</td>\n",
       "      <td>0.02</td>\n",
       "      <td>343300</td>\n",
       "      <td>0.000010</td>\n",
       "      <td>0.000010</td>\n",
       "    </tr>\n",
       "  </tbody>\n",
       "</table>\n",
       "</div>"
      ],
      "text/plain": [
       "                                        user_id_hash  \\\n",
       "0  e469dfaed039ead9110165d9bc457acb11609ca34057dc...   \n",
       "1  afcc639a324b6c598ef83d360450afa011cb2dd1358bf9...   \n",
       "2  fd5a7cf211d08e3e00f7be6a9df6e6ea3d2e5c22a5d9c3...   \n",
       "\n",
       "   user_purchase_binary_7_days  user_purchase_binary_14_days    user  \\\n",
       "0                         0.01                          0.02  415160   \n",
       "1                         0.01                          0.02  536100   \n",
       "2                         0.01                          0.02  343300   \n",
       "\n",
       "     pred_7   pred_14  \n",
       "0  0.000598  0.000598  \n",
       "1  0.000013  0.000013  \n",
       "2  0.000010  0.000010  "
      ]
     },
     "execution_count": 252,
     "metadata": {},
     "output_type": "execute_result"
    }
   ],
   "source": [
    "final = submission.merge(answer, on='user', how='left').fillna(0)\n",
    "final.head(3)"
   ]
  },
  {
   "cell_type": "code",
   "execution_count": 253,
   "metadata": {
    "ExecuteTime": {
     "end_time": "2019-02-28T01:19:21.148831Z",
     "start_time": "2019-02-28T01:19:19.407715Z"
    }
   },
   "outputs": [],
   "source": [
    "final = final.drop(['user','user_purchase_binary_7_days','user_purchase_binary_14_days'],axis=1)\n",
    "final = final.rename(index=str, columns={\"pred_7\": \"user_purchase_binary_7_days\", \"pred_14\":\"user_purchase_binary_14_days\"})\n",
    "final.to_csv(\"final.csv\",index=False)"
   ]
  },
  {
   "cell_type": "code",
   "execution_count": 254,
   "metadata": {
    "ExecuteTime": {
     "end_time": "2019-02-28T01:19:23.820992Z",
     "start_time": "2019-02-28T01:19:23.299462Z"
    }
   },
   "outputs": [
    {
     "data": {
      "text/html": [
       "<div>\n",
       "<style scoped>\n",
       "    .dataframe tbody tr th:only-of-type {\n",
       "        vertical-align: middle;\n",
       "    }\n",
       "\n",
       "    .dataframe tbody tr th {\n",
       "        vertical-align: top;\n",
       "    }\n",
       "\n",
       "    .dataframe thead th {\n",
       "        text-align: right;\n",
       "    }\n",
       "</style>\n",
       "<table border=\"1\" class=\"dataframe\">\n",
       "  <thead>\n",
       "    <tr style=\"text-align: right;\">\n",
       "      <th></th>\n",
       "      <th>user_id_hash</th>\n",
       "      <th>user_purchase_binary_7_days</th>\n",
       "      <th>user_purchase_binary_14_days</th>\n",
       "    </tr>\n",
       "  </thead>\n",
       "  <tbody>\n",
       "    <tr>\n",
       "      <th>0</th>\n",
       "      <td>e469dfaed039ead9110165d9bc457acb11609ca34057dc...</td>\n",
       "      <td>0.000598</td>\n",
       "      <td>0.000598</td>\n",
       "    </tr>\n",
       "    <tr>\n",
       "      <th>1</th>\n",
       "      <td>afcc639a324b6c598ef83d360450afa011cb2dd1358bf9...</td>\n",
       "      <td>0.000013</td>\n",
       "      <td>0.000013</td>\n",
       "    </tr>\n",
       "    <tr>\n",
       "      <th>2</th>\n",
       "      <td>fd5a7cf211d08e3e00f7be6a9df6e6ea3d2e5c22a5d9c3...</td>\n",
       "      <td>0.000010</td>\n",
       "      <td>0.000010</td>\n",
       "    </tr>\n",
       "    <tr>\n",
       "      <th>3</th>\n",
       "      <td>00bfff98b9d0329f014c2eeac7ce47cd18b2bc6e10d608...</td>\n",
       "      <td>0.005836</td>\n",
       "      <td>0.005836</td>\n",
       "    </tr>\n",
       "    <tr>\n",
       "      <th>4</th>\n",
       "      <td>0d298f3638c43e915c119d4935e1ce8d168f81b5e3e8c1...</td>\n",
       "      <td>0.000003</td>\n",
       "      <td>0.000003</td>\n",
       "    </tr>\n",
       "  </tbody>\n",
       "</table>\n",
       "</div>"
      ],
      "text/plain": [
       "                                        user_id_hash  \\\n",
       "0  e469dfaed039ead9110165d9bc457acb11609ca34057dc...   \n",
       "1  afcc639a324b6c598ef83d360450afa011cb2dd1358bf9...   \n",
       "2  fd5a7cf211d08e3e00f7be6a9df6e6ea3d2e5c22a5d9c3...   \n",
       "3  00bfff98b9d0329f014c2eeac7ce47cd18b2bc6e10d608...   \n",
       "4  0d298f3638c43e915c119d4935e1ce8d168f81b5e3e8c1...   \n",
       "\n",
       "   user_purchase_binary_7_days  user_purchase_binary_14_days  \n",
       "0                     0.000598                      0.000598  \n",
       "1                     0.000013                      0.000013  \n",
       "2                     0.000010                      0.000010  \n",
       "3                     0.005836                      0.005836  \n",
       "4                     0.000003                      0.000003  "
      ]
     },
     "execution_count": 254,
     "metadata": {},
     "output_type": "execute_result"
    }
   ],
   "source": [
    "final = pd.read_csv('final.csv')\n",
    "final.head()"
   ]
  },
  {
   "cell_type": "code",
   "execution_count": null,
   "metadata": {},
   "outputs": [],
   "source": []
  }
 ],
 "metadata": {
  "kernelspec": {
   "display_name": "Python 3",
   "language": "python",
   "name": "python3"
  },
  "language_info": {
   "codemirror_mode": {
    "name": "ipython",
    "version": 3
   },
   "file_extension": ".py",
   "mimetype": "text/x-python",
   "name": "python",
   "nbconvert_exporter": "python",
   "pygments_lexer": "ipython3",
   "version": "3.6.8"
  },
  "toc": {
   "base_numbering": 1,
   "nav_menu": {},
   "number_sections": true,
   "sideBar": true,
   "skip_h1_title": false,
   "title_cell": "Table of Contents",
   "title_sidebar": "Contents",
   "toc_cell": false,
   "toc_position": {},
   "toc_section_display": true,
   "toc_window_display": true
  },
  "varInspector": {
   "cols": {
    "lenName": 16,
    "lenType": 16,
    "lenVar": 40
   },
   "kernels_config": {
    "python": {
     "delete_cmd_postfix": "",
     "delete_cmd_prefix": "del ",
     "library": "var_list.py",
     "varRefreshCmd": "print(var_dic_list())"
    },
    "r": {
     "delete_cmd_postfix": ") ",
     "delete_cmd_prefix": "rm(",
     "library": "var_list.r",
     "varRefreshCmd": "cat(var_dic_list()) "
    }
   },
   "types_to_exclude": [
    "module",
    "function",
    "builtin_function_or_method",
    "instance",
    "_Feature"
   ],
   "window_display": false
  }
 },
 "nbformat": 4,
 "nbformat_minor": 2
}
