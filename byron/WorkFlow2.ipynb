{
 "cells": [
  {
   "cell_type": "markdown",
   "metadata": {},
   "source": [
    "### Training Phase"
   ]
  },
  {
   "cell_type": "code",
   "execution_count": 1,
   "metadata": {
    "ExecuteTime": {
     "end_time": "2019-03-06T23:59:09.052655Z",
     "start_time": "2019-03-06T23:59:07.148563Z"
    }
   },
   "outputs": [],
   "source": [
    "import pandas as pd\n",
    "import numpy as np\n",
    "import datetime\n",
    "from sklearn.model_selection import train_test_split\n",
    "from sklearn.ensemble import GradientBoostingClassifier\n",
    "from sklearn.metrics import roc_auc_score"
   ]
  },
  {
   "cell_type": "code",
   "execution_count": 2,
   "metadata": {
    "ExecuteTime": {
     "end_time": "2019-03-07T00:07:03.564178Z",
     "start_time": "2019-03-06T23:59:09.066043Z"
    }
   },
   "outputs": [],
   "source": [
    "attributes = pd.read_csv(\"attributes.csv\", error_bad_lines=False, warn_bad_lines=False)"
   ]
  },
  {
   "cell_type": "code",
   "execution_count": 3,
   "metadata": {
    "ExecuteTime": {
     "end_time": "2019-03-07T00:07:03.653522Z",
     "start_time": "2019-03-07T00:07:03.642667Z"
    }
   },
   "outputs": [
    {
     "data": {
      "text/plain": [
       "184880449"
      ]
     },
     "execution_count": 3,
     "metadata": {},
     "output_type": "execute_result"
    }
   ],
   "source": [
    "len(attributes)"
   ]
  },
  {
   "cell_type": "code",
   "execution_count": 4,
   "metadata": {
    "ExecuteTime": {
     "end_time": "2019-03-07T00:07:05.666316Z",
     "start_time": "2019-03-07T00:07:03.679126Z"
    }
   },
   "outputs": [
    {
     "data": {
      "text/plain": [
       "array([ 0,  1,  3,  4,  5,  6,  7,  8,  9, 10, 11, 13, 14, 15, 16, 17, 18,\n",
       "       19, 20, 21, 48, 52, 75, 76, 77, 78, 66, 96, 67, 49])"
      ]
     },
     "execution_count": 4,
     "metadata": {},
     "output_type": "execute_result"
    }
   ],
   "source": [
    "attributes.attribute.unique()"
   ]
  },
  {
   "cell_type": "code",
   "execution_count": 5,
   "metadata": {
    "ExecuteTime": {
     "end_time": "2019-03-07T00:07:08.427236Z",
     "start_time": "2019-03-07T00:07:05.692881Z"
    }
   },
   "outputs": [
    {
     "data": {
      "text/plain": [
       "array([4724682771660800])"
      ]
     },
     "execution_count": 5,
     "metadata": {},
     "output_type": "execute_result"
    }
   ],
   "source": [
    "attributes.app_id.unique()"
   ]
  },
  {
   "cell_type": "code",
   "execution_count": 6,
   "metadata": {
    "ExecuteTime": {
     "end_time": "2019-03-07T00:07:20.934212Z",
     "start_time": "2019-03-07T00:07:08.461145Z"
    }
   },
   "outputs": [
    {
     "data": {
      "text/html": [
       "<div>\n",
       "<style scoped>\n",
       "    .dataframe tbody tr th:only-of-type {\n",
       "        vertical-align: middle;\n",
       "    }\n",
       "\n",
       "    .dataframe tbody tr th {\n",
       "        vertical-align: top;\n",
       "    }\n",
       "\n",
       "    .dataframe thead th {\n",
       "        text-align: right;\n",
       "    }\n",
       "</style>\n",
       "<table border=\"1\" class=\"dataframe\">\n",
       "  <thead>\n",
       "    <tr style=\"text-align: right;\">\n",
       "      <th></th>\n",
       "      <th>session_id</th>\n",
       "      <th>attribute</th>\n",
       "      <th>attribute_value</th>\n",
       "      <th>user_id_hash</th>\n",
       "    </tr>\n",
       "  </thead>\n",
       "  <tbody>\n",
       "    <tr>\n",
       "      <th>0</th>\n",
       "      <td>2201961907282901522</td>\n",
       "      <td>0</td>\n",
       "      <td>1</td>\n",
       "      <td>9943447915df3a45fd6720a026af905b6da6b56a37701b...</td>\n",
       "    </tr>\n",
       "    <tr>\n",
       "      <th>1</th>\n",
       "      <td>2201961907282901522</td>\n",
       "      <td>1</td>\n",
       "      <td>1</td>\n",
       "      <td>9943447915df3a45fd6720a026af905b6da6b56a37701b...</td>\n",
       "    </tr>\n",
       "    <tr>\n",
       "      <th>2</th>\n",
       "      <td>2201961907282901522</td>\n",
       "      <td>3</td>\n",
       "      <td>0</td>\n",
       "      <td>9943447915df3a45fd6720a026af905b6da6b56a37701b...</td>\n",
       "    </tr>\n",
       "    <tr>\n",
       "      <th>3</th>\n",
       "      <td>2201961907282901522</td>\n",
       "      <td>4</td>\n",
       "      <td>0.00</td>\n",
       "      <td>9943447915df3a45fd6720a026af905b6da6b56a37701b...</td>\n",
       "    </tr>\n",
       "    <tr>\n",
       "      <th>4</th>\n",
       "      <td>2201961907282901522</td>\n",
       "      <td>5</td>\n",
       "      <td>romance_the_royal_romance_02:11</td>\n",
       "      <td>9943447915df3a45fd6720a026af905b6da6b56a37701b...</td>\n",
       "    </tr>\n",
       "  </tbody>\n",
       "</table>\n",
       "</div>"
      ],
      "text/plain": [
       "            session_id  attribute                  attribute_value  \\\n",
       "0  2201961907282901522          0                                1   \n",
       "1  2201961907282901522          1                                1   \n",
       "2  2201961907282901522          3                                0   \n",
       "3  2201961907282901522          4                             0.00   \n",
       "4  2201961907282901522          5  romance_the_royal_romance_02:11   \n",
       "\n",
       "                                        user_id_hash  \n",
       "0  9943447915df3a45fd6720a026af905b6da6b56a37701b...  \n",
       "1  9943447915df3a45fd6720a026af905b6da6b56a37701b...  \n",
       "2  9943447915df3a45fd6720a026af905b6da6b56a37701b...  \n",
       "3  9943447915df3a45fd6720a026af905b6da6b56a37701b...  \n",
       "4  9943447915df3a45fd6720a026af905b6da6b56a37701b...  "
      ]
     },
     "execution_count": 6,
     "metadata": {},
     "output_type": "execute_result"
    }
   ],
   "source": [
    "attributes = attributes.drop(['app_id'], axis=1)\n",
    "attributes.head()"
   ]
  },
  {
   "cell_type": "code",
   "execution_count": 29,
   "metadata": {
    "ExecuteTime": {
     "end_time": "2019-03-06T19:22:51.610891Z",
     "start_time": "2019-03-06T19:22:29.305749Z"
    }
   },
   "outputs": [
    {
     "data": {
      "text/plain": [
       "622641"
      ]
     },
     "execution_count": 29,
     "metadata": {},
     "output_type": "execute_result"
    }
   ],
   "source": [
    "attributes['user_id_hash'].nunique()"
   ]
  },
  {
   "cell_type": "code",
   "execution_count": 31,
   "metadata": {
    "ExecuteTime": {
     "end_time": "2019-03-06T19:23:39.084444Z",
     "start_time": "2019-03-06T19:23:29.427238Z"
    }
   },
   "outputs": [
    {
     "name": "stdout",
     "output_type": "stream",
     "text": [
      "621106\n",
      "621001\n"
     ]
    }
   ],
   "source": [
    "print(sessions['user_id_hash'].nunique())\n",
    "print(events['user_id_hash'].nunique())"
   ]
  },
  {
   "cell_type": "code",
   "execution_count": 7,
   "metadata": {
    "ExecuteTime": {
     "end_time": "2019-03-07T00:07:47.561578Z",
     "start_time": "2019-03-07T00:07:20.969048Z"
    },
    "scrolled": true
   },
   "outputs": [
    {
     "data": {
      "text/html": [
       "<div>\n",
       "<style scoped>\n",
       "    .dataframe tbody tr th:only-of-type {\n",
       "        vertical-align: middle;\n",
       "    }\n",
       "\n",
       "    .dataframe tbody tr th {\n",
       "        vertical-align: top;\n",
       "    }\n",
       "\n",
       "    .dataframe thead th {\n",
       "        text-align: right;\n",
       "    }\n",
       "</style>\n",
       "<table border=\"1\" class=\"dataframe\">\n",
       "  <thead>\n",
       "    <tr style=\"text-align: right;\">\n",
       "      <th></th>\n",
       "      <th>session_id</th>\n",
       "      <th>start_timestamp</th>\n",
       "      <th>timezone</th>\n",
       "      <th>timezone_offset</th>\n",
       "      <th>previous_sessions_duration</th>\n",
       "      <th>user_created_timestamp</th>\n",
       "      <th>is_user_first_session</th>\n",
       "      <th>is_session</th>\n",
       "      <th>is_developer</th>\n",
       "      <th>is_wau</th>\n",
       "      <th>...</th>\n",
       "      <th>country</th>\n",
       "      <th>region</th>\n",
       "      <th>city</th>\n",
       "      <th>latitude</th>\n",
       "      <th>longitude</th>\n",
       "      <th>locale</th>\n",
       "      <th>os_name</th>\n",
       "      <th>session_index</th>\n",
       "      <th>device_id</th>\n",
       "      <th>user_id_hash</th>\n",
       "    </tr>\n",
       "  </thead>\n",
       "  <tbody>\n",
       "    <tr>\n",
       "      <th>0</th>\n",
       "      <td>5558845121177764917</td>\n",
       "      <td>1542215364580</td>\n",
       "      <td>Asia/Manila</td>\n",
       "      <td>28800000.0</td>\n",
       "      <td>25837591</td>\n",
       "      <td>1538874289458</td>\n",
       "      <td>False</td>\n",
       "      <td>True</td>\n",
       "      <td>False</td>\n",
       "      <td>False</td>\n",
       "      <td>...</td>\n",
       "      <td>PH</td>\n",
       "      <td>00</td>\n",
       "      <td>makati</td>\n",
       "      <td>14.554729</td>\n",
       "      <td>121.024445</td>\n",
       "      <td>en_GB</td>\n",
       "      <td>Android OS</td>\n",
       "      <td>30</td>\n",
       "      <td>546a3d98-d540-4e72-ad82-9ebd64e0839b</td>\n",
       "      <td>9943447915df3a45fd6720a026af905b6da6b56a37701b...</td>\n",
       "    </tr>\n",
       "    <tr>\n",
       "      <th>1</th>\n",
       "      <td>2201961907282901522</td>\n",
       "      <td>1543712977293</td>\n",
       "      <td>Asia/Manila</td>\n",
       "      <td>28800000.0</td>\n",
       "      <td>35050130</td>\n",
       "      <td>1538874289458</td>\n",
       "      <td>False</td>\n",
       "      <td>True</td>\n",
       "      <td>False</td>\n",
       "      <td>False</td>\n",
       "      <td>...</td>\n",
       "      <td>PH</td>\n",
       "      <td>00</td>\n",
       "      <td>quezon city</td>\n",
       "      <td>14.676041</td>\n",
       "      <td>121.043701</td>\n",
       "      <td>en_GB</td>\n",
       "      <td>Android OS</td>\n",
       "      <td>47</td>\n",
       "      <td>546a3d98-d540-4e72-ad82-9ebd64e0839b</td>\n",
       "      <td>9943447915df3a45fd6720a026af905b6da6b56a37701b...</td>\n",
       "    </tr>\n",
       "    <tr>\n",
       "      <th>2</th>\n",
       "      <td>18781111175537580</td>\n",
       "      <td>1539215568666</td>\n",
       "      <td>Asia/Manila</td>\n",
       "      <td>28800000.0</td>\n",
       "      <td>11343848</td>\n",
       "      <td>1538874289458</td>\n",
       "      <td>False</td>\n",
       "      <td>True</td>\n",
       "      <td>False</td>\n",
       "      <td>False</td>\n",
       "      <td>...</td>\n",
       "      <td>PH</td>\n",
       "      <td>00</td>\n",
       "      <td>makati</td>\n",
       "      <td>14.554729</td>\n",
       "      <td>121.024445</td>\n",
       "      <td>en_GB</td>\n",
       "      <td>Android OS</td>\n",
       "      <td>10</td>\n",
       "      <td>546a3d98-d540-4e72-ad82-9ebd64e0839b</td>\n",
       "      <td>9943447915df3a45fd6720a026af905b6da6b56a37701b...</td>\n",
       "    </tr>\n",
       "    <tr>\n",
       "      <th>3</th>\n",
       "      <td>1477540082628742048</td>\n",
       "      <td>1540120743010</td>\n",
       "      <td>Asia/Manila</td>\n",
       "      <td>28800000.0</td>\n",
       "      <td>13499724</td>\n",
       "      <td>1538874289458</td>\n",
       "      <td>False</td>\n",
       "      <td>True</td>\n",
       "      <td>False</td>\n",
       "      <td>False</td>\n",
       "      <td>...</td>\n",
       "      <td>PH</td>\n",
       "      <td>11</td>\n",
       "      <td>davao city</td>\n",
       "      <td>7.190708</td>\n",
       "      <td>125.455338</td>\n",
       "      <td>en_GB</td>\n",
       "      <td>Android OS</td>\n",
       "      <td>13</td>\n",
       "      <td>546a3d98-d540-4e72-ad82-9ebd64e0839b</td>\n",
       "      <td>9943447915df3a45fd6720a026af905b6da6b56a37701b...</td>\n",
       "    </tr>\n",
       "    <tr>\n",
       "      <th>4</th>\n",
       "      <td>8184875317380844086</td>\n",
       "      <td>1542671625528</td>\n",
       "      <td>Asia/Manila</td>\n",
       "      <td>28800000.0</td>\n",
       "      <td>32788010</td>\n",
       "      <td>1538874289458</td>\n",
       "      <td>False</td>\n",
       "      <td>True</td>\n",
       "      <td>False</td>\n",
       "      <td>False</td>\n",
       "      <td>...</td>\n",
       "      <td>PH</td>\n",
       "      <td>00</td>\n",
       "      <td>makati</td>\n",
       "      <td>14.554729</td>\n",
       "      <td>121.024445</td>\n",
       "      <td>en_GB</td>\n",
       "      <td>Android OS</td>\n",
       "      <td>41</td>\n",
       "      <td>546a3d98-d540-4e72-ad82-9ebd64e0839b</td>\n",
       "      <td>9943447915df3a45fd6720a026af905b6da6b56a37701b...</td>\n",
       "    </tr>\n",
       "  </tbody>\n",
       "</table>\n",
       "<p>5 rows × 21 columns</p>\n",
       "</div>"
      ],
      "text/plain": [
       "            session_id  start_timestamp     timezone  timezone_offset  \\\n",
       "0  5558845121177764917    1542215364580  Asia/Manila       28800000.0   \n",
       "1  2201961907282901522    1543712977293  Asia/Manila       28800000.0   \n",
       "2    18781111175537580    1539215568666  Asia/Manila       28800000.0   \n",
       "3  1477540082628742048    1540120743010  Asia/Manila       28800000.0   \n",
       "4  8184875317380844086    1542671625528  Asia/Manila       28800000.0   \n",
       "\n",
       "   previous_sessions_duration  user_created_timestamp  is_user_first_session  \\\n",
       "0                    25837591           1538874289458                  False   \n",
       "1                    35050130           1538874289458                  False   \n",
       "2                    11343848           1538874289458                  False   \n",
       "3                    13499724           1538874289458                  False   \n",
       "4                    32788010           1538874289458                  False   \n",
       "\n",
       "   is_session  is_developer  is_wau  ...  country region         city  \\\n",
       "0        True         False   False  ...       PH     00       makati   \n",
       "1        True         False   False  ...       PH     00  quezon city   \n",
       "2        True         False   False  ...       PH     00       makati   \n",
       "3        True         False   False  ...       PH     11   davao city   \n",
       "4        True         False   False  ...       PH     00       makati   \n",
       "\n",
       "    latitude   longitude  locale     os_name session_index  \\\n",
       "0  14.554729  121.024445   en_GB  Android OS            30   \n",
       "1  14.676041  121.043701   en_GB  Android OS            47   \n",
       "2  14.554729  121.024445   en_GB  Android OS            10   \n",
       "3   7.190708  125.455338   en_GB  Android OS            13   \n",
       "4  14.554729  121.024445   en_GB  Android OS            41   \n",
       "\n",
       "                              device_id  \\\n",
       "0  546a3d98-d540-4e72-ad82-9ebd64e0839b   \n",
       "1  546a3d98-d540-4e72-ad82-9ebd64e0839b   \n",
       "2  546a3d98-d540-4e72-ad82-9ebd64e0839b   \n",
       "3  546a3d98-d540-4e72-ad82-9ebd64e0839b   \n",
       "4  546a3d98-d540-4e72-ad82-9ebd64e0839b   \n",
       "\n",
       "                                        user_id_hash  \n",
       "0  9943447915df3a45fd6720a026af905b6da6b56a37701b...  \n",
       "1  9943447915df3a45fd6720a026af905b6da6b56a37701b...  \n",
       "2  9943447915df3a45fd6720a026af905b6da6b56a37701b...  \n",
       "3  9943447915df3a45fd6720a026af905b6da6b56a37701b...  \n",
       "4  9943447915df3a45fd6720a026af905b6da6b56a37701b...  \n",
       "\n",
       "[5 rows x 21 columns]"
      ]
     },
     "execution_count": 7,
     "metadata": {},
     "output_type": "execute_result"
    }
   ],
   "source": [
    "sessions = pd.read_csv(\"sessions.csv\")\n",
    "sessions = sessions.drop(['app_id'], axis=1)\n",
    "sessions.head()"
   ]
  },
  {
   "cell_type": "code",
   "execution_count": 8,
   "metadata": {
    "ExecuteTime": {
     "end_time": "2019-03-07T00:07:52.151438Z",
     "start_time": "2019-03-07T00:07:50.771604Z"
    }
   },
   "outputs": [],
   "source": [
    "sessions = sessions[(sessions.is_session == True) & (sessions.is_wau == False) & (sessions.is_mau == False) & (sessions.is_developer == False)]\n",
    "sessions = sessions.drop(['is_session','is_developer','is_wau','is_mau'], axis=1)"
   ]
  },
  {
   "cell_type": "code",
   "execution_count": 9,
   "metadata": {
    "ExecuteTime": {
     "end_time": "2019-03-07T00:07:52.272235Z",
     "start_time": "2019-03-07T00:07:52.244821Z"
    }
   },
   "outputs": [
    {
     "data": {
      "text/html": [
       "<div>\n",
       "<style scoped>\n",
       "    .dataframe tbody tr th:only-of-type {\n",
       "        vertical-align: middle;\n",
       "    }\n",
       "\n",
       "    .dataframe tbody tr th {\n",
       "        vertical-align: top;\n",
       "    }\n",
       "\n",
       "    .dataframe thead th {\n",
       "        text-align: right;\n",
       "    }\n",
       "</style>\n",
       "<table border=\"1\" class=\"dataframe\">\n",
       "  <thead>\n",
       "    <tr style=\"text-align: right;\">\n",
       "      <th></th>\n",
       "      <th>session_id</th>\n",
       "      <th>start_timestamp</th>\n",
       "      <th>timezone</th>\n",
       "      <th>timezone_offset</th>\n",
       "      <th>previous_sessions_duration</th>\n",
       "      <th>user_created_timestamp</th>\n",
       "      <th>is_user_first_session</th>\n",
       "      <th>country</th>\n",
       "      <th>region</th>\n",
       "      <th>city</th>\n",
       "      <th>latitude</th>\n",
       "      <th>longitude</th>\n",
       "      <th>locale</th>\n",
       "      <th>os_name</th>\n",
       "      <th>session_index</th>\n",
       "      <th>device_id</th>\n",
       "      <th>user_id_hash</th>\n",
       "    </tr>\n",
       "  </thead>\n",
       "  <tbody>\n",
       "    <tr>\n",
       "      <th>0</th>\n",
       "      <td>5558845121177764917</td>\n",
       "      <td>1542215364580</td>\n",
       "      <td>Asia/Manila</td>\n",
       "      <td>28800000.0</td>\n",
       "      <td>25837591</td>\n",
       "      <td>1538874289458</td>\n",
       "      <td>False</td>\n",
       "      <td>PH</td>\n",
       "      <td>00</td>\n",
       "      <td>makati</td>\n",
       "      <td>14.554729</td>\n",
       "      <td>121.024445</td>\n",
       "      <td>en_GB</td>\n",
       "      <td>Android OS</td>\n",
       "      <td>30</td>\n",
       "      <td>546a3d98-d540-4e72-ad82-9ebd64e0839b</td>\n",
       "      <td>9943447915df3a45fd6720a026af905b6da6b56a37701b...</td>\n",
       "    </tr>\n",
       "    <tr>\n",
       "      <th>1</th>\n",
       "      <td>2201961907282901522</td>\n",
       "      <td>1543712977293</td>\n",
       "      <td>Asia/Manila</td>\n",
       "      <td>28800000.0</td>\n",
       "      <td>35050130</td>\n",
       "      <td>1538874289458</td>\n",
       "      <td>False</td>\n",
       "      <td>PH</td>\n",
       "      <td>00</td>\n",
       "      <td>quezon city</td>\n",
       "      <td>14.676041</td>\n",
       "      <td>121.043701</td>\n",
       "      <td>en_GB</td>\n",
       "      <td>Android OS</td>\n",
       "      <td>47</td>\n",
       "      <td>546a3d98-d540-4e72-ad82-9ebd64e0839b</td>\n",
       "      <td>9943447915df3a45fd6720a026af905b6da6b56a37701b...</td>\n",
       "    </tr>\n",
       "    <tr>\n",
       "      <th>2</th>\n",
       "      <td>18781111175537580</td>\n",
       "      <td>1539215568666</td>\n",
       "      <td>Asia/Manila</td>\n",
       "      <td>28800000.0</td>\n",
       "      <td>11343848</td>\n",
       "      <td>1538874289458</td>\n",
       "      <td>False</td>\n",
       "      <td>PH</td>\n",
       "      <td>00</td>\n",
       "      <td>makati</td>\n",
       "      <td>14.554729</td>\n",
       "      <td>121.024445</td>\n",
       "      <td>en_GB</td>\n",
       "      <td>Android OS</td>\n",
       "      <td>10</td>\n",
       "      <td>546a3d98-d540-4e72-ad82-9ebd64e0839b</td>\n",
       "      <td>9943447915df3a45fd6720a026af905b6da6b56a37701b...</td>\n",
       "    </tr>\n",
       "  </tbody>\n",
       "</table>\n",
       "</div>"
      ],
      "text/plain": [
       "            session_id  start_timestamp     timezone  timezone_offset  \\\n",
       "0  5558845121177764917    1542215364580  Asia/Manila       28800000.0   \n",
       "1  2201961907282901522    1543712977293  Asia/Manila       28800000.0   \n",
       "2    18781111175537580    1539215568666  Asia/Manila       28800000.0   \n",
       "\n",
       "   previous_sessions_duration  user_created_timestamp  is_user_first_session  \\\n",
       "0                    25837591           1538874289458                  False   \n",
       "1                    35050130           1538874289458                  False   \n",
       "2                    11343848           1538874289458                  False   \n",
       "\n",
       "  country region         city   latitude   longitude locale     os_name  \\\n",
       "0      PH     00       makati  14.554729  121.024445  en_GB  Android OS   \n",
       "1      PH     00  quezon city  14.676041  121.043701  en_GB  Android OS   \n",
       "2      PH     00       makati  14.554729  121.024445  en_GB  Android OS   \n",
       "\n",
       "   session_index                             device_id  \\\n",
       "0             30  546a3d98-d540-4e72-ad82-9ebd64e0839b   \n",
       "1             47  546a3d98-d540-4e72-ad82-9ebd64e0839b   \n",
       "2             10  546a3d98-d540-4e72-ad82-9ebd64e0839b   \n",
       "\n",
       "                                        user_id_hash  \n",
       "0  9943447915df3a45fd6720a026af905b6da6b56a37701b...  \n",
       "1  9943447915df3a45fd6720a026af905b6da6b56a37701b...  \n",
       "2  9943447915df3a45fd6720a026af905b6da6b56a37701b...  "
      ]
     },
     "execution_count": 9,
     "metadata": {},
     "output_type": "execute_result"
    }
   ],
   "source": [
    "sessions.head(3)"
   ]
  },
  {
   "cell_type": "code",
   "execution_count": 10,
   "metadata": {
    "ExecuteTime": {
     "end_time": "2019-03-07T00:07:52.380022Z",
     "start_time": "2019-03-07T00:07:52.374788Z"
    }
   },
   "outputs": [
    {
     "data": {
      "text/plain": [
       "Index(['session_id', 'start_timestamp', 'timezone', 'timezone_offset',\n",
       "       'previous_sessions_duration', 'user_created_timestamp',\n",
       "       'is_user_first_session', 'country', 'region', 'city', 'latitude',\n",
       "       'longitude', 'locale', 'os_name', 'session_index', 'device_id',\n",
       "       'user_id_hash'],\n",
       "      dtype='object')"
      ]
     },
     "execution_count": 10,
     "metadata": {},
     "output_type": "execute_result"
    }
   ],
   "source": [
    "sessions.columns"
   ]
  },
  {
   "cell_type": "code",
   "execution_count": 11,
   "metadata": {
    "ExecuteTime": {
     "end_time": "2019-03-07T00:10:31.854000Z",
     "start_time": "2019-03-07T00:07:52.496849Z"
    }
   },
   "outputs": [
    {
     "data": {
      "text/html": [
       "<div>\n",
       "<style scoped>\n",
       "    .dataframe tbody tr th:only-of-type {\n",
       "        vertical-align: middle;\n",
       "    }\n",
       "\n",
       "    .dataframe tbody tr th {\n",
       "        vertical-align: top;\n",
       "    }\n",
       "\n",
       "    .dataframe thead th {\n",
       "        text-align: right;\n",
       "    }\n",
       "</style>\n",
       "<table border=\"1\" class=\"dataframe\">\n",
       "  <thead>\n",
       "    <tr style=\"text-align: right;\">\n",
       "      <th></th>\n",
       "      <th>session_id</th>\n",
       "      <th>event</th>\n",
       "      <th>event_timestamp</th>\n",
       "      <th>event_value</th>\n",
       "      <th>user_id_hash</th>\n",
       "    </tr>\n",
       "  </thead>\n",
       "  <tbody>\n",
       "    <tr>\n",
       "      <th>0</th>\n",
       "      <td>5558845121177764917</td>\n",
       "      <td>45</td>\n",
       "      <td>1542215397132</td>\n",
       "      <td>0.0</td>\n",
       "      <td>9943447915df3a45fd6720a026af905b6da6b56a37701b...</td>\n",
       "    </tr>\n",
       "    <tr>\n",
       "      <th>1</th>\n",
       "      <td>5558845121177764917</td>\n",
       "      <td>45</td>\n",
       "      <td>1542215484895</td>\n",
       "      <td>0.0</td>\n",
       "      <td>9943447915df3a45fd6720a026af905b6da6b56a37701b...</td>\n",
       "    </tr>\n",
       "    <tr>\n",
       "      <th>2</th>\n",
       "      <td>7689508378645584666</td>\n",
       "      <td>.m5100869650219008</td>\n",
       "      <td>1541124410372</td>\n",
       "      <td>0.0</td>\n",
       "      <td>9943447915df3a45fd6720a026af905b6da6b56a37701b...</td>\n",
       "    </tr>\n",
       "    <tr>\n",
       "      <th>3</th>\n",
       "      <td>2201961907282901522</td>\n",
       "      <td>4</td>\n",
       "      <td>1543713091129</td>\n",
       "      <td>0.0</td>\n",
       "      <td>9943447915df3a45fd6720a026af905b6da6b56a37701b...</td>\n",
       "    </tr>\n",
       "    <tr>\n",
       "      <th>4</th>\n",
       "      <td>2201961907282901522</td>\n",
       "      <td>6</td>\n",
       "      <td>1543713093116</td>\n",
       "      <td>0.0</td>\n",
       "      <td>9943447915df3a45fd6720a026af905b6da6b56a37701b...</td>\n",
       "    </tr>\n",
       "  </tbody>\n",
       "</table>\n",
       "</div>"
      ],
      "text/plain": [
       "            session_id               event  event_timestamp  event_value  \\\n",
       "0  5558845121177764917                  45    1542215397132          0.0   \n",
       "1  5558845121177764917                  45    1542215484895          0.0   \n",
       "2  7689508378645584666  .m5100869650219008    1541124410372          0.0   \n",
       "3  2201961907282901522                   4    1543713091129          0.0   \n",
       "4  2201961907282901522                   6    1543713093116          0.0   \n",
       "\n",
       "                                        user_id_hash  \n",
       "0  9943447915df3a45fd6720a026af905b6da6b56a37701b...  \n",
       "1  9943447915df3a45fd6720a026af905b6da6b56a37701b...  \n",
       "2  9943447915df3a45fd6720a026af905b6da6b56a37701b...  \n",
       "3  9943447915df3a45fd6720a026af905b6da6b56a37701b...  \n",
       "4  9943447915df3a45fd6720a026af905b6da6b56a37701b...  "
      ]
     },
     "execution_count": 11,
     "metadata": {},
     "output_type": "execute_result"
    }
   ],
   "source": [
    "events = pd.read_csv(\"events.csv\")\n",
    "events = events.drop(['app_id'], axis=1)\n",
    "events.head()"
   ]
  },
  {
   "cell_type": "code",
   "execution_count": 12,
   "metadata": {
    "ExecuteTime": {
     "end_time": "2019-03-07T00:10:59.406622Z",
     "start_time": "2019-03-07T00:10:32.015033Z"
    }
   },
   "outputs": [],
   "source": [
    "a = attributes['user_id_hash'].unique()\n",
    "b = sessions['user_id_hash'].unique()\n",
    "c = events['user_id_hash'].unique()\n",
    "end = np.concatenate([a,b,c])\n",
    "uniq = set(end)"
   ]
  },
  {
   "cell_type": "code",
   "execution_count": 135,
   "metadata": {
    "ExecuteTime": {
     "end_time": "2019-03-07T02:20:59.620222Z",
     "start_time": "2019-03-07T02:20:59.395584Z"
    }
   },
   "outputs": [],
   "source": [
    "the_col = [i[1] for i in list(name2idx.items())]"
   ]
  },
  {
   "cell_type": "code",
   "execution_count": 13,
   "metadata": {
    "ExecuteTime": {
     "end_time": "2019-03-07T00:11:39.283599Z",
     "start_time": "2019-03-07T00:11:00.259521Z"
    }
   },
   "outputs": [],
   "source": [
    "name2idx = {o:i for i,o in enumerate(uniq)}\n",
    "new_col = np.array([name2idx[x] for x in attributes['user_id_hash']])\n",
    "attributes['user_id_hash'] = new_col"
   ]
  },
  {
   "cell_type": "code",
   "execution_count": 14,
   "metadata": {
    "ExecuteTime": {
     "end_time": "2019-03-07T00:11:43.743433Z",
     "start_time": "2019-03-07T00:11:40.880375Z"
    }
   },
   "outputs": [],
   "source": [
    "new_col = np.array([name2idx[x] for x in sessions['user_id_hash']])\n",
    "sessions['user_id_hash'] = new_col"
   ]
  },
  {
   "cell_type": "code",
   "execution_count": 16,
   "metadata": {
    "ExecuteTime": {
     "end_time": "2019-03-07T00:12:22.563722Z",
     "start_time": "2019-03-07T00:11:58.784962Z"
    }
   },
   "outputs": [],
   "source": [
    "new_col = np.array([name2idx[x] for x in events['user_id_hash']])\n",
    "events['user_id_hash'] = new_col"
   ]
  },
  {
   "cell_type": "code",
   "execution_count": 19,
   "metadata": {
    "ExecuteTime": {
     "end_time": "2019-03-07T00:13:34.664667Z",
     "start_time": "2019-03-07T00:13:30.460241Z"
    }
   },
   "outputs": [],
   "source": [
    "attributes_1314 = attributes[(attributes['attribute']==13)|(attributes['attribute']==14)]"
   ]
  },
  {
   "cell_type": "code",
   "execution_count": 20,
   "metadata": {
    "ExecuteTime": {
     "end_time": "2019-03-07T00:13:36.283648Z",
     "start_time": "2019-03-07T00:13:36.274959Z"
    }
   },
   "outputs": [
    {
     "data": {
      "text/html": [
       "<div>\n",
       "<style scoped>\n",
       "    .dataframe tbody tr th:only-of-type {\n",
       "        vertical-align: middle;\n",
       "    }\n",
       "\n",
       "    .dataframe tbody tr th {\n",
       "        vertical-align: top;\n",
       "    }\n",
       "\n",
       "    .dataframe thead th {\n",
       "        text-align: right;\n",
       "    }\n",
       "</style>\n",
       "<table border=\"1\" class=\"dataframe\">\n",
       "  <thead>\n",
       "    <tr style=\"text-align: right;\">\n",
       "      <th></th>\n",
       "      <th>session_id</th>\n",
       "      <th>attribute</th>\n",
       "      <th>attribute_value</th>\n",
       "      <th>user_id_hash</th>\n",
       "    </tr>\n",
       "  </thead>\n",
       "  <tbody>\n",
       "    <tr>\n",
       "      <th>11</th>\n",
       "      <td>2201961907282901522</td>\n",
       "      <td>13</td>\n",
       "      <td>3.49</td>\n",
       "      <td>514036</td>\n",
       "    </tr>\n",
       "    <tr>\n",
       "      <th>12</th>\n",
       "      <td>2201961907282901522</td>\n",
       "      <td>14</td>\n",
       "      <td>3.49</td>\n",
       "      <td>514036</td>\n",
       "    </tr>\n",
       "    <tr>\n",
       "      <th>37</th>\n",
       "      <td>2250719844051320866</td>\n",
       "      <td>13</td>\n",
       "      <td>0.00</td>\n",
       "      <td>514036</td>\n",
       "    </tr>\n",
       "    <tr>\n",
       "      <th>38</th>\n",
       "      <td>2250719844051320866</td>\n",
       "      <td>14</td>\n",
       "      <td>0.00</td>\n",
       "      <td>514036</td>\n",
       "    </tr>\n",
       "    <tr>\n",
       "      <th>63</th>\n",
       "      <td>5076942931271552500</td>\n",
       "      <td>13</td>\n",
       "      <td>3.49</td>\n",
       "      <td>514036</td>\n",
       "    </tr>\n",
       "  </tbody>\n",
       "</table>\n",
       "</div>"
      ],
      "text/plain": [
       "             session_id  attribute attribute_value  user_id_hash\n",
       "11  2201961907282901522         13            3.49        514036\n",
       "12  2201961907282901522         14            3.49        514036\n",
       "37  2250719844051320866         13            0.00        514036\n",
       "38  2250719844051320866         14            0.00        514036\n",
       "63  5076942931271552500         13            3.49        514036"
      ]
     },
     "execution_count": 20,
     "metadata": {},
     "output_type": "execute_result"
    }
   ],
   "source": [
    "attributes_1314.head()"
   ]
  },
  {
   "cell_type": "code",
   "execution_count": 21,
   "metadata": {
    "ExecuteTime": {
     "end_time": "2019-03-07T00:13:57.192519Z",
     "start_time": "2019-03-07T00:13:37.897048Z"
    }
   },
   "outputs": [
    {
     "data": {
      "text/html": [
       "<div>\n",
       "<style scoped>\n",
       "    .dataframe tbody tr th:only-of-type {\n",
       "        vertical-align: middle;\n",
       "    }\n",
       "\n",
       "    .dataframe tbody tr th {\n",
       "        vertical-align: top;\n",
       "    }\n",
       "\n",
       "    .dataframe thead th {\n",
       "        text-align: right;\n",
       "    }\n",
       "</style>\n",
       "<table border=\"1\" class=\"dataframe\">\n",
       "  <thead>\n",
       "    <tr style=\"text-align: right;\">\n",
       "      <th></th>\n",
       "      <th>session_id</th>\n",
       "      <th>start_timestamp</th>\n",
       "      <th>timezone</th>\n",
       "      <th>timezone_offset</th>\n",
       "      <th>previous_sessions_duration</th>\n",
       "      <th>user_created_timestamp</th>\n",
       "      <th>is_user_first_session</th>\n",
       "      <th>country</th>\n",
       "      <th>region</th>\n",
       "      <th>city</th>\n",
       "      <th>latitude</th>\n",
       "      <th>longitude</th>\n",
       "      <th>locale</th>\n",
       "      <th>os_name</th>\n",
       "      <th>session_index</th>\n",
       "      <th>device_id</th>\n",
       "      <th>user_id_hash</th>\n",
       "      <th>attribute</th>\n",
       "      <th>attribute_value</th>\n",
       "    </tr>\n",
       "  </thead>\n",
       "  <tbody>\n",
       "    <tr>\n",
       "      <th>0</th>\n",
       "      <td>5558845121177764917</td>\n",
       "      <td>1.542215e+12</td>\n",
       "      <td>Asia/Manila</td>\n",
       "      <td>28800000.0</td>\n",
       "      <td>25837591.0</td>\n",
       "      <td>1.538874e+12</td>\n",
       "      <td>False</td>\n",
       "      <td>PH</td>\n",
       "      <td>00</td>\n",
       "      <td>makati</td>\n",
       "      <td>14.554729</td>\n",
       "      <td>121.024445</td>\n",
       "      <td>en_GB</td>\n",
       "      <td>Android OS</td>\n",
       "      <td>30.0</td>\n",
       "      <td>546a3d98-d540-4e72-ad82-9ebd64e0839b</td>\n",
       "      <td>514036</td>\n",
       "      <td>13</td>\n",
       "      <td>3.49</td>\n",
       "    </tr>\n",
       "    <tr>\n",
       "      <th>1</th>\n",
       "      <td>5558845121177764917</td>\n",
       "      <td>1.542215e+12</td>\n",
       "      <td>Asia/Manila</td>\n",
       "      <td>28800000.0</td>\n",
       "      <td>25837591.0</td>\n",
       "      <td>1.538874e+12</td>\n",
       "      <td>False</td>\n",
       "      <td>PH</td>\n",
       "      <td>00</td>\n",
       "      <td>makati</td>\n",
       "      <td>14.554729</td>\n",
       "      <td>121.024445</td>\n",
       "      <td>en_GB</td>\n",
       "      <td>Android OS</td>\n",
       "      <td>30.0</td>\n",
       "      <td>546a3d98-d540-4e72-ad82-9ebd64e0839b</td>\n",
       "      <td>514036</td>\n",
       "      <td>14</td>\n",
       "      <td>3.49</td>\n",
       "    </tr>\n",
       "    <tr>\n",
       "      <th>2</th>\n",
       "      <td>2201961907282901522</td>\n",
       "      <td>1.543713e+12</td>\n",
       "      <td>Asia/Manila</td>\n",
       "      <td>28800000.0</td>\n",
       "      <td>35050130.0</td>\n",
       "      <td>1.538874e+12</td>\n",
       "      <td>False</td>\n",
       "      <td>PH</td>\n",
       "      <td>00</td>\n",
       "      <td>quezon city</td>\n",
       "      <td>14.676041</td>\n",
       "      <td>121.043701</td>\n",
       "      <td>en_GB</td>\n",
       "      <td>Android OS</td>\n",
       "      <td>47.0</td>\n",
       "      <td>546a3d98-d540-4e72-ad82-9ebd64e0839b</td>\n",
       "      <td>514036</td>\n",
       "      <td>13</td>\n",
       "      <td>3.49</td>\n",
       "    </tr>\n",
       "    <tr>\n",
       "      <th>3</th>\n",
       "      <td>2201961907282901522</td>\n",
       "      <td>1.543713e+12</td>\n",
       "      <td>Asia/Manila</td>\n",
       "      <td>28800000.0</td>\n",
       "      <td>35050130.0</td>\n",
       "      <td>1.538874e+12</td>\n",
       "      <td>False</td>\n",
       "      <td>PH</td>\n",
       "      <td>00</td>\n",
       "      <td>quezon city</td>\n",
       "      <td>14.676041</td>\n",
       "      <td>121.043701</td>\n",
       "      <td>en_GB</td>\n",
       "      <td>Android OS</td>\n",
       "      <td>47.0</td>\n",
       "      <td>546a3d98-d540-4e72-ad82-9ebd64e0839b</td>\n",
       "      <td>514036</td>\n",
       "      <td>14</td>\n",
       "      <td>3.49</td>\n",
       "    </tr>\n",
       "    <tr>\n",
       "      <th>4</th>\n",
       "      <td>18781111175537580</td>\n",
       "      <td>1.539216e+12</td>\n",
       "      <td>Asia/Manila</td>\n",
       "      <td>28800000.0</td>\n",
       "      <td>11343848.0</td>\n",
       "      <td>1.538874e+12</td>\n",
       "      <td>False</td>\n",
       "      <td>PH</td>\n",
       "      <td>00</td>\n",
       "      <td>makati</td>\n",
       "      <td>14.554729</td>\n",
       "      <td>121.024445</td>\n",
       "      <td>en_GB</td>\n",
       "      <td>Android OS</td>\n",
       "      <td>10.0</td>\n",
       "      <td>546a3d98-d540-4e72-ad82-9ebd64e0839b</td>\n",
       "      <td>514036</td>\n",
       "      <td>13</td>\n",
       "      <td>0.00</td>\n",
       "    </tr>\n",
       "  </tbody>\n",
       "</table>\n",
       "</div>"
      ],
      "text/plain": [
       "            session_id  start_timestamp     timezone  timezone_offset  \\\n",
       "0  5558845121177764917     1.542215e+12  Asia/Manila       28800000.0   \n",
       "1  5558845121177764917     1.542215e+12  Asia/Manila       28800000.0   \n",
       "2  2201961907282901522     1.543713e+12  Asia/Manila       28800000.0   \n",
       "3  2201961907282901522     1.543713e+12  Asia/Manila       28800000.0   \n",
       "4    18781111175537580     1.539216e+12  Asia/Manila       28800000.0   \n",
       "\n",
       "   previous_sessions_duration  user_created_timestamp is_user_first_session  \\\n",
       "0                  25837591.0            1.538874e+12                 False   \n",
       "1                  25837591.0            1.538874e+12                 False   \n",
       "2                  35050130.0            1.538874e+12                 False   \n",
       "3                  35050130.0            1.538874e+12                 False   \n",
       "4                  11343848.0            1.538874e+12                 False   \n",
       "\n",
       "  country region         city   latitude   longitude locale     os_name  \\\n",
       "0      PH     00       makati  14.554729  121.024445  en_GB  Android OS   \n",
       "1      PH     00       makati  14.554729  121.024445  en_GB  Android OS   \n",
       "2      PH     00  quezon city  14.676041  121.043701  en_GB  Android OS   \n",
       "3      PH     00  quezon city  14.676041  121.043701  en_GB  Android OS   \n",
       "4      PH     00       makati  14.554729  121.024445  en_GB  Android OS   \n",
       "\n",
       "   session_index                             device_id  user_id_hash  \\\n",
       "0           30.0  546a3d98-d540-4e72-ad82-9ebd64e0839b        514036   \n",
       "1           30.0  546a3d98-d540-4e72-ad82-9ebd64e0839b        514036   \n",
       "2           47.0  546a3d98-d540-4e72-ad82-9ebd64e0839b        514036   \n",
       "3           47.0  546a3d98-d540-4e72-ad82-9ebd64e0839b        514036   \n",
       "4           10.0  546a3d98-d540-4e72-ad82-9ebd64e0839b        514036   \n",
       "\n",
       "   attribute attribute_value  \n",
       "0         13            3.49  \n",
       "1         14            3.49  \n",
       "2         13            3.49  \n",
       "3         14            3.49  \n",
       "4         13            0.00  "
      ]
     },
     "execution_count": 21,
     "metadata": {},
     "output_type": "execute_result"
    }
   ],
   "source": [
    "sess_att = pd.merge(sessions, attributes_1314,  how='outer', \\\n",
    "                          left_on=['session_id','user_id_hash'], right_on = ['session_id','user_id_hash'])\n",
    "sess_att.head()"
   ]
  },
  {
   "cell_type": "code",
   "execution_count": 47,
   "metadata": {
    "ExecuteTime": {
     "end_time": "2019-03-07T00:28:22.290275Z",
     "start_time": "2019-03-07T00:28:22.281518Z"
    }
   },
   "outputs": [],
   "source": [
    "oct_1 = datetime.datetime(2018, 10, 1, 23, 59, 59, 0)\n",
    "oct_7 = datetime.datetime(2018, 10, 7, 23, 59, 59, 0)\n",
    "oct_14 = datetime.datetime(2018, 10, 14, 23, 59, 59, 0)\n",
    "oct_21 = datetime.datetime(2018, 10, 21, 23, 59, 59, 0)\n",
    "oct_28 = datetime.datetime(2018, 10, 28, 23, 59, 59, 0)\n",
    "nov_4 = datetime.datetime(2018, 11, 4, 23, 59, 59, 0)\n",
    "nov_11 = datetime.datetime(2018, 11, 11, 23, 59, 59, 0)\n",
    "nov_18 = datetime.datetime(2018, 11, 18, 23, 59, 59, 0)\n",
    "nov_25 = datetime.datetime(2018, 11, 25, 23, 59, 59, 0)\n",
    "\n",
    "\n",
    "nov_17 = datetime.datetime(2018, 11, 17, 23, 59, 59, 0)\n",
    "nov_24 = datetime.datetime(2018, 11, 24, 23, 59, 59, 0)\n",
    "dec_1 = datetime.datetime(2018, 12, 1, 23, 59, 59, 0)\n",
    "dec_7 = datetime.datetime(2018, 12, 7, 23, 59, 59, 0)\n",
    "dec_14 = datetime.datetime(2018, 12, 14, 23, 59, 59, 0)"
   ]
  },
  {
   "cell_type": "code",
   "execution_count": 23,
   "metadata": {
    "ExecuteTime": {
     "end_time": "2019-03-07T00:14:00.208040Z",
     "start_time": "2019-03-07T00:14:00.201247Z"
    }
   },
   "outputs": [],
   "source": [
    "# date time to milliseconds\n",
    "def to_milli(t):\n",
    "    return int(t.strftime(\"%s\"))*1000"
   ]
  },
  {
   "cell_type": "code",
   "execution_count": 24,
   "metadata": {
    "ExecuteTime": {
     "end_time": "2019-03-07T00:14:12.155772Z",
     "start_time": "2019-03-07T00:14:01.658402Z"
    }
   },
   "outputs": [
    {
     "data": {
      "text/html": [
       "<div>\n",
       "<style scoped>\n",
       "    .dataframe tbody tr th:only-of-type {\n",
       "        vertical-align: middle;\n",
       "    }\n",
       "\n",
       "    .dataframe tbody tr th {\n",
       "        vertical-align: top;\n",
       "    }\n",
       "\n",
       "    .dataframe thead th {\n",
       "        text-align: right;\n",
       "    }\n",
       "</style>\n",
       "<table border=\"1\" class=\"dataframe\">\n",
       "  <thead>\n",
       "    <tr style=\"text-align: right;\">\n",
       "      <th></th>\n",
       "      <th>session_id</th>\n",
       "      <th>start_timestamp</th>\n",
       "      <th>timezone</th>\n",
       "      <th>timezone_offset</th>\n",
       "      <th>previous_sessions_duration</th>\n",
       "      <th>user_created_timestamp</th>\n",
       "      <th>is_user_first_session</th>\n",
       "      <th>country</th>\n",
       "      <th>region</th>\n",
       "      <th>city</th>\n",
       "      <th>latitude</th>\n",
       "      <th>longitude</th>\n",
       "      <th>locale</th>\n",
       "      <th>os_name</th>\n",
       "      <th>session_index</th>\n",
       "      <th>device_id</th>\n",
       "      <th>user_id_hash</th>\n",
       "      <th>attribute</th>\n",
       "      <th>attribute_value</th>\n",
       "    </tr>\n",
       "  </thead>\n",
       "  <tbody>\n",
       "    <tr>\n",
       "      <th>0</th>\n",
       "      <td>5558845121177764917</td>\n",
       "      <td>1.542215e+12</td>\n",
       "      <td>Asia/Manila</td>\n",
       "      <td>28800000.0</td>\n",
       "      <td>25837591.0</td>\n",
       "      <td>1.538874e+12</td>\n",
       "      <td>False</td>\n",
       "      <td>PH</td>\n",
       "      <td>00</td>\n",
       "      <td>makati</td>\n",
       "      <td>14.554729</td>\n",
       "      <td>121.024445</td>\n",
       "      <td>en_GB</td>\n",
       "      <td>Android OS</td>\n",
       "      <td>30.0</td>\n",
       "      <td>546a3d98-d540-4e72-ad82-9ebd64e0839b</td>\n",
       "      <td>514036</td>\n",
       "      <td>13</td>\n",
       "      <td>3.49</td>\n",
       "    </tr>\n",
       "    <tr>\n",
       "      <th>1</th>\n",
       "      <td>5558845121177764917</td>\n",
       "      <td>1.542215e+12</td>\n",
       "      <td>Asia/Manila</td>\n",
       "      <td>28800000.0</td>\n",
       "      <td>25837591.0</td>\n",
       "      <td>1.538874e+12</td>\n",
       "      <td>False</td>\n",
       "      <td>PH</td>\n",
       "      <td>00</td>\n",
       "      <td>makati</td>\n",
       "      <td>14.554729</td>\n",
       "      <td>121.024445</td>\n",
       "      <td>en_GB</td>\n",
       "      <td>Android OS</td>\n",
       "      <td>30.0</td>\n",
       "      <td>546a3d98-d540-4e72-ad82-9ebd64e0839b</td>\n",
       "      <td>514036</td>\n",
       "      <td>14</td>\n",
       "      <td>3.49</td>\n",
       "    </tr>\n",
       "    <tr>\n",
       "      <th>2</th>\n",
       "      <td>2201961907282901522</td>\n",
       "      <td>1.543713e+12</td>\n",
       "      <td>Asia/Manila</td>\n",
       "      <td>28800000.0</td>\n",
       "      <td>35050130.0</td>\n",
       "      <td>1.538874e+12</td>\n",
       "      <td>False</td>\n",
       "      <td>PH</td>\n",
       "      <td>00</td>\n",
       "      <td>quezon city</td>\n",
       "      <td>14.676041</td>\n",
       "      <td>121.043701</td>\n",
       "      <td>en_GB</td>\n",
       "      <td>Android OS</td>\n",
       "      <td>47.0</td>\n",
       "      <td>546a3d98-d540-4e72-ad82-9ebd64e0839b</td>\n",
       "      <td>514036</td>\n",
       "      <td>13</td>\n",
       "      <td>3.49</td>\n",
       "    </tr>\n",
       "    <tr>\n",
       "      <th>3</th>\n",
       "      <td>2201961907282901522</td>\n",
       "      <td>1.543713e+12</td>\n",
       "      <td>Asia/Manila</td>\n",
       "      <td>28800000.0</td>\n",
       "      <td>35050130.0</td>\n",
       "      <td>1.538874e+12</td>\n",
       "      <td>False</td>\n",
       "      <td>PH</td>\n",
       "      <td>00</td>\n",
       "      <td>quezon city</td>\n",
       "      <td>14.676041</td>\n",
       "      <td>121.043701</td>\n",
       "      <td>en_GB</td>\n",
       "      <td>Android OS</td>\n",
       "      <td>47.0</td>\n",
       "      <td>546a3d98-d540-4e72-ad82-9ebd64e0839b</td>\n",
       "      <td>514036</td>\n",
       "      <td>14</td>\n",
       "      <td>3.49</td>\n",
       "    </tr>\n",
       "    <tr>\n",
       "      <th>4</th>\n",
       "      <td>18781111175537580</td>\n",
       "      <td>1.539216e+12</td>\n",
       "      <td>Asia/Manila</td>\n",
       "      <td>28800000.0</td>\n",
       "      <td>11343848.0</td>\n",
       "      <td>1.538874e+12</td>\n",
       "      <td>False</td>\n",
       "      <td>PH</td>\n",
       "      <td>00</td>\n",
       "      <td>makati</td>\n",
       "      <td>14.554729</td>\n",
       "      <td>121.024445</td>\n",
       "      <td>en_GB</td>\n",
       "      <td>Android OS</td>\n",
       "      <td>10.0</td>\n",
       "      <td>546a3d98-d540-4e72-ad82-9ebd64e0839b</td>\n",
       "      <td>514036</td>\n",
       "      <td>13</td>\n",
       "      <td>0.00</td>\n",
       "    </tr>\n",
       "  </tbody>\n",
       "</table>\n",
       "</div>"
      ],
      "text/plain": [
       "            session_id  start_timestamp     timezone  timezone_offset  \\\n",
       "0  5558845121177764917     1.542215e+12  Asia/Manila       28800000.0   \n",
       "1  5558845121177764917     1.542215e+12  Asia/Manila       28800000.0   \n",
       "2  2201961907282901522     1.543713e+12  Asia/Manila       28800000.0   \n",
       "3  2201961907282901522     1.543713e+12  Asia/Manila       28800000.0   \n",
       "4    18781111175537580     1.539216e+12  Asia/Manila       28800000.0   \n",
       "\n",
       "   previous_sessions_duration  user_created_timestamp is_user_first_session  \\\n",
       "0                  25837591.0            1.538874e+12                 False   \n",
       "1                  25837591.0            1.538874e+12                 False   \n",
       "2                  35050130.0            1.538874e+12                 False   \n",
       "3                  35050130.0            1.538874e+12                 False   \n",
       "4                  11343848.0            1.538874e+12                 False   \n",
       "\n",
       "  country region         city   latitude   longitude locale     os_name  \\\n",
       "0      PH     00       makati  14.554729  121.024445  en_GB  Android OS   \n",
       "1      PH     00       makati  14.554729  121.024445  en_GB  Android OS   \n",
       "2      PH     00  quezon city  14.676041  121.043701  en_GB  Android OS   \n",
       "3      PH     00  quezon city  14.676041  121.043701  en_GB  Android OS   \n",
       "4      PH     00       makati  14.554729  121.024445  en_GB  Android OS   \n",
       "\n",
       "   session_index                             device_id  user_id_hash  \\\n",
       "0           30.0  546a3d98-d540-4e72-ad82-9ebd64e0839b        514036   \n",
       "1           30.0  546a3d98-d540-4e72-ad82-9ebd64e0839b        514036   \n",
       "2           47.0  546a3d98-d540-4e72-ad82-9ebd64e0839b        514036   \n",
       "3           47.0  546a3d98-d540-4e72-ad82-9ebd64e0839b        514036   \n",
       "4           10.0  546a3d98-d540-4e72-ad82-9ebd64e0839b        514036   \n",
       "\n",
       "   attribute attribute_value  \n",
       "0         13            3.49  \n",
       "1         14            3.49  \n",
       "2         13            3.49  \n",
       "3         14            3.49  \n",
       "4         13            0.00  "
      ]
     },
     "execution_count": 24,
     "metadata": {},
     "output_type": "execute_result"
    }
   ],
   "source": [
    "sess_att_train = sess_att[sess_att['start_timestamp']<to_milli(dec_1)]\n",
    "sess_att_train.head()"
   ]
  },
  {
   "cell_type": "code",
   "execution_count": 26,
   "metadata": {
    "ExecuteTime": {
     "end_time": "2019-03-07T00:14:53.297495Z",
     "start_time": "2019-03-07T00:14:50.596625Z"
    }
   },
   "outputs": [
    {
     "name": "stderr",
     "output_type": "stream",
     "text": [
      "/Users/ziyuanhan/anaconda3/lib/python3.6/site-packages/ipykernel_launcher.py:1: SettingWithCopyWarning: \n",
      "A value is trying to be set on a copy of a slice from a DataFrame.\n",
      "Try using .loc[row_indexer,col_indexer] = value instead\n",
      "\n",
      "See the caveats in the documentation: http://pandas.pydata.org/pandas-docs/stable/indexing.html#indexing-view-versus-copy\n",
      "  \"\"\"Entry point for launching an IPython kernel.\n"
     ]
    }
   ],
   "source": [
    "sess_att_train['attribute_value'] = sess_att_train['attribute_value'].apply(lambda x: float(x))"
   ]
  },
  {
   "cell_type": "code",
   "execution_count": 108,
   "metadata": {
    "ExecuteTime": {
     "end_time": "2019-03-06T22:55:40.583729Z",
     "start_time": "2019-03-06T22:48:53.281468Z"
    }
   },
   "outputs": [
    {
     "data": {
      "text/html": [
       "<div>\n",
       "<style scoped>\n",
       "    .dataframe tbody tr th:only-of-type {\n",
       "        vertical-align: middle;\n",
       "    }\n",
       "\n",
       "    .dataframe tbody tr th {\n",
       "        vertical-align: top;\n",
       "    }\n",
       "\n",
       "    .dataframe thead th {\n",
       "        text-align: right;\n",
       "    }\n",
       "</style>\n",
       "<table border=\"1\" class=\"dataframe\">\n",
       "  <thead>\n",
       "    <tr style=\"text-align: right;\">\n",
       "      <th></th>\n",
       "      <th>user_id_hash</th>\n",
       "      <th>start_timestamp</th>\n",
       "      <th>attribute_value</th>\n",
       "    </tr>\n",
       "  </thead>\n",
       "  <tbody>\n",
       "    <tr>\n",
       "      <th>0</th>\n",
       "      <td>0</td>\n",
       "      <td>1.542998e+12</td>\n",
       "      <td>0.00</td>\n",
       "    </tr>\n",
       "    <tr>\n",
       "      <th>1</th>\n",
       "      <td>1</td>\n",
       "      <td>1.541243e+12</td>\n",
       "      <td>0.00</td>\n",
       "    </tr>\n",
       "    <tr>\n",
       "      <th>2</th>\n",
       "      <td>2</td>\n",
       "      <td>1.539347e+12</td>\n",
       "      <td>0.01</td>\n",
       "    </tr>\n",
       "    <tr>\n",
       "      <th>3</th>\n",
       "      <td>3</td>\n",
       "      <td>1.542305e+12</td>\n",
       "      <td>0.00</td>\n",
       "    </tr>\n",
       "    <tr>\n",
       "      <th>4</th>\n",
       "      <td>4</td>\n",
       "      <td>1.543405e+12</td>\n",
       "      <td>0.00</td>\n",
       "    </tr>\n",
       "  </tbody>\n",
       "</table>\n",
       "</div>"
      ],
      "text/plain": [
       "   user_id_hash  start_timestamp  attribute_value\n",
       "0             0     1.542998e+12             0.00\n",
       "1             1     1.541243e+12             0.00\n",
       "2             2     1.539347e+12             0.01\n",
       "3             3     1.542305e+12             0.00\n",
       "4             4     1.543405e+12             0.00"
      ]
     },
     "execution_count": 108,
     "metadata": {},
     "output_type": "execute_result"
    }
   ],
   "source": [
    "outcome_13 = sess_att_train[sess_att_train['attribute']==13][['user_id_hash','start_timestamp','attribute_value']]\\\n",
    "                    .groupby(['user_id_hash'])\\\n",
    "                    .agg(lambda x: x.iloc[x['start_timestamp'].values.argmax()]).reset_index()\n",
    "outcome_13.head()"
   ]
  },
  {
   "cell_type": "code",
   "execution_count": 111,
   "metadata": {
    "ExecuteTime": {
     "end_time": "2019-03-06T23:05:56.721564Z",
     "start_time": "2019-03-06T22:58:00.737875Z"
    }
   },
   "outputs": [
    {
     "data": {
      "text/html": [
       "<div>\n",
       "<style scoped>\n",
       "    .dataframe tbody tr th:only-of-type {\n",
       "        vertical-align: middle;\n",
       "    }\n",
       "\n",
       "    .dataframe tbody tr th {\n",
       "        vertical-align: top;\n",
       "    }\n",
       "\n",
       "    .dataframe thead th {\n",
       "        text-align: right;\n",
       "    }\n",
       "</style>\n",
       "<table border=\"1\" class=\"dataframe\">\n",
       "  <thead>\n",
       "    <tr style=\"text-align: right;\">\n",
       "      <th></th>\n",
       "      <th>user_id_hash</th>\n",
       "      <th>session_id</th>\n",
       "      <th>start_timestamp</th>\n",
       "      <th>timezone</th>\n",
       "      <th>timezone_offset</th>\n",
       "      <th>previous_sessions_duration</th>\n",
       "      <th>user_created_timestamp</th>\n",
       "      <th>is_user_first_session</th>\n",
       "      <th>country</th>\n",
       "      <th>region</th>\n",
       "      <th>city</th>\n",
       "      <th>latitude</th>\n",
       "      <th>longitude</th>\n",
       "      <th>locale</th>\n",
       "      <th>os_name</th>\n",
       "      <th>session_index</th>\n",
       "      <th>device_id</th>\n",
       "      <th>attribute</th>\n",
       "      <th>attribute_value</th>\n",
       "      <th>attribute_value_f</th>\n",
       "    </tr>\n",
       "  </thead>\n",
       "  <tbody>\n",
       "    <tr>\n",
       "      <th>0</th>\n",
       "      <td>0</td>\n",
       "      <td>4325654999572362475</td>\n",
       "      <td>1.542998e+12</td>\n",
       "      <td>Europe/London</td>\n",
       "      <td>0.0</td>\n",
       "      <td>550360.0</td>\n",
       "      <td>1.542801e+12</td>\n",
       "      <td>False</td>\n",
       "      <td>GB</td>\n",
       "      <td>eng</td>\n",
       "      <td>bristol</td>\n",
       "      <td>51.454514</td>\n",
       "      <td>-2.587910</td>\n",
       "      <td>en_GB</td>\n",
       "      <td>Android OS</td>\n",
       "      <td>2.0</td>\n",
       "      <td>d46750fa-995e-4dde-81cf-9785af69230b</td>\n",
       "      <td>14</td>\n",
       "      <td>0.0</td>\n",
       "      <td>0.0</td>\n",
       "    </tr>\n",
       "    <tr>\n",
       "      <th>1</th>\n",
       "      <td>1</td>\n",
       "      <td>538779361517557750</td>\n",
       "      <td>1.541243e+12</td>\n",
       "      <td>Asia/Kolkata</td>\n",
       "      <td>19800000.0</td>\n",
       "      <td>0.0</td>\n",
       "      <td>1.541243e+12</td>\n",
       "      <td>True</td>\n",
       "      <td>IN</td>\n",
       "      <td>dl</td>\n",
       "      <td>delhi</td>\n",
       "      <td>28.686274</td>\n",
       "      <td>77.221786</td>\n",
       "      <td>en_IN</td>\n",
       "      <td>Android OS</td>\n",
       "      <td>1.0</td>\n",
       "      <td>06ad20ca-c866-4242-bca5-e71ad039e636</td>\n",
       "      <td>14</td>\n",
       "      <td>0.0</td>\n",
       "      <td>0.0</td>\n",
       "    </tr>\n",
       "    <tr>\n",
       "      <th>2</th>\n",
       "      <td>2</td>\n",
       "      <td>3618021605312627847</td>\n",
       "      <td>1.539347e+12</td>\n",
       "      <td>Europe/London</td>\n",
       "      <td>3600000.0</td>\n",
       "      <td>6974272.0</td>\n",
       "      <td>1.539272e+12</td>\n",
       "      <td>False</td>\n",
       "      <td>GB</td>\n",
       "      <td>sct</td>\n",
       "      <td>kilwinning</td>\n",
       "      <td>55.655918</td>\n",
       "      <td>-4.703117</td>\n",
       "      <td>en-GB_GB</td>\n",
       "      <td>iOS</td>\n",
       "      <td>6.0</td>\n",
       "      <td>205317ED-E358-402F-9568-C9AADE332699</td>\n",
       "      <td>14</td>\n",
       "      <td>0.0</td>\n",
       "      <td>0.0</td>\n",
       "    </tr>\n",
       "    <tr>\n",
       "      <th>3</th>\n",
       "      <td>3</td>\n",
       "      <td>5908698171697520519</td>\n",
       "      <td>1.542305e+12</td>\n",
       "      <td>America/Chicago</td>\n",
       "      <td>-21600000.0</td>\n",
       "      <td>0.0</td>\n",
       "      <td>1.542305e+12</td>\n",
       "      <td>True</td>\n",
       "      <td>US</td>\n",
       "      <td>tn</td>\n",
       "      <td>union city</td>\n",
       "      <td>36.424229</td>\n",
       "      <td>-89.057007</td>\n",
       "      <td>en_US</td>\n",
       "      <td>Android OS</td>\n",
       "      <td>1.0</td>\n",
       "      <td>a2d586ee-e484-481c-99bd-74156873a09d</td>\n",
       "      <td>14</td>\n",
       "      <td>0.0</td>\n",
       "      <td>0.0</td>\n",
       "    </tr>\n",
       "    <tr>\n",
       "      <th>4</th>\n",
       "      <td>4</td>\n",
       "      <td>756913619296302504</td>\n",
       "      <td>1.543405e+12</td>\n",
       "      <td>Europe/Stockholm</td>\n",
       "      <td>3600000.0</td>\n",
       "      <td>14777.0</td>\n",
       "      <td>1.543324e+12</td>\n",
       "      <td>False</td>\n",
       "      <td>SE</td>\n",
       "      <td>ab</td>\n",
       "      <td>stockholm</td>\n",
       "      <td>59.329323</td>\n",
       "      <td>18.068581</td>\n",
       "      <td>sv-SE_SE</td>\n",
       "      <td>iOS</td>\n",
       "      <td>2.0</td>\n",
       "      <td>952C8FDA-F729-4264-A1D8-8878A0473F46</td>\n",
       "      <td>14</td>\n",
       "      <td>0.0</td>\n",
       "      <td>0.0</td>\n",
       "    </tr>\n",
       "  </tbody>\n",
       "</table>\n",
       "</div>"
      ],
      "text/plain": [
       "   user_id_hash           session_id  start_timestamp          timezone  \\\n",
       "0             0  4325654999572362475     1.542998e+12     Europe/London   \n",
       "1             1   538779361517557750     1.541243e+12      Asia/Kolkata   \n",
       "2             2  3618021605312627847     1.539347e+12     Europe/London   \n",
       "3             3  5908698171697520519     1.542305e+12   America/Chicago   \n",
       "4             4   756913619296302504     1.543405e+12  Europe/Stockholm   \n",
       "\n",
       "   timezone_offset  previous_sessions_duration  user_created_timestamp  \\\n",
       "0              0.0                    550360.0            1.542801e+12   \n",
       "1       19800000.0                         0.0            1.541243e+12   \n",
       "2        3600000.0                   6974272.0            1.539272e+12   \n",
       "3      -21600000.0                         0.0            1.542305e+12   \n",
       "4        3600000.0                     14777.0            1.543324e+12   \n",
       "\n",
       "   is_user_first_session country region        city   latitude  longitude  \\\n",
       "0                  False      GB    eng     bristol  51.454514  -2.587910   \n",
       "1                   True      IN     dl       delhi  28.686274  77.221786   \n",
       "2                  False      GB    sct  kilwinning  55.655918  -4.703117   \n",
       "3                   True      US     tn  union city  36.424229 -89.057007   \n",
       "4                  False      SE     ab   stockholm  59.329323  18.068581   \n",
       "\n",
       "     locale     os_name  session_index                             device_id  \\\n",
       "0     en_GB  Android OS            2.0  d46750fa-995e-4dde-81cf-9785af69230b   \n",
       "1     en_IN  Android OS            1.0  06ad20ca-c866-4242-bca5-e71ad039e636   \n",
       "2  en-GB_GB         iOS            6.0  205317ED-E358-402F-9568-C9AADE332699   \n",
       "3     en_US  Android OS            1.0  a2d586ee-e484-481c-99bd-74156873a09d   \n",
       "4  sv-SE_SE         iOS            2.0  952C8FDA-F729-4264-A1D8-8878A0473F46   \n",
       "\n",
       "   attribute  attribute_value  attribute_value_f  \n",
       "0         14              0.0                0.0  \n",
       "1         14              0.0                0.0  \n",
       "2         14              0.0                0.0  \n",
       "3         14              0.0                0.0  \n",
       "4         14              0.0                0.0  "
      ]
     },
     "execution_count": 111,
     "metadata": {},
     "output_type": "execute_result"
    }
   ],
   "source": [
    "outcome_14 = sess_att_train[sess_att_train['attribute']==14]\\\n",
    "                    .groupby(['user_id_hash'])\\\n",
    "                    .agg(lambda x: x.iloc[x['start_timestamp'].values.argmax()]).reset_index()\n",
    "outcome_14.head()"
   ]
  },
  {
   "cell_type": "code",
   "execution_count": 110,
   "metadata": {
    "ExecuteTime": {
     "end_time": "2019-03-06T22:57:55.508662Z",
     "start_time": "2019-03-06T22:57:55.504829Z"
    }
   },
   "outputs": [
    {
     "data": {
      "text/plain": [
       "3.49"
      ]
     },
     "execution_count": 110,
     "metadata": {},
     "output_type": "execute_result"
    }
   ],
   "source": [
    "sess_att_train['attribute_value'][0]"
   ]
  },
  {
   "cell_type": "code",
   "execution_count": 199,
   "metadata": {
    "ExecuteTime": {
     "end_time": "2019-03-06T23:48:09.105329Z",
     "start_time": "2019-03-06T23:48:08.978425Z"
    }
   },
   "outputs": [
    {
     "data": {
      "text/plain": [
       "array([13, 14])"
      ]
     },
     "execution_count": 199,
     "metadata": {},
     "output_type": "execute_result"
    }
   ],
   "source": [
    "sess_att['attribute'].unique()"
   ]
  },
  {
   "cell_type": "code",
   "execution_count": null,
   "metadata": {},
   "outputs": [],
   "source": []
  },
  {
   "cell_type": "code",
   "execution_count": 27,
   "metadata": {
    "ExecuteTime": {
     "end_time": "2019-03-07T00:15:10.757147Z",
     "start_time": "2019-03-07T00:15:07.519518Z"
    }
   },
   "outputs": [],
   "source": [
    "outcome_13_mean = sess_att_train[sess_att_train['attribute']==13]\\\n",
    "                    .groupby(['user_id_hash'])['attribute_value']\\\n",
    "                    .agg('mean').reset_index()\n",
    "\n",
    "outcome_14_mean = sess_att_train[sess_att_train['attribute']==14]\\\n",
    "                    .groupby(['user_id_hash'])['attribute_value']\\\n",
    "                    .agg('mean').reset_index()"
   ]
  },
  {
   "cell_type": "code",
   "execution_count": 28,
   "metadata": {
    "ExecuteTime": {
     "end_time": "2019-03-07T00:15:14.468878Z",
     "start_time": "2019-03-07T00:15:12.292004Z"
    }
   },
   "outputs": [],
   "source": [
    "outcome_13_max = sess_att_train[sess_att_train['attribute']==13]\\\n",
    "                    .groupby(['user_id_hash'])['attribute_value']\\\n",
    "                    .agg('max').reset_index()\n",
    "\n",
    "outcome_14_max = sess_att_train[sess_att_train['attribute']==14]\\\n",
    "                    .groupby(['user_id_hash'])['attribute_value']\\\n",
    "                    .agg('max').reset_index()"
   ]
  },
  {
   "cell_type": "code",
   "execution_count": 32,
   "metadata": {
    "ExecuteTime": {
     "end_time": "2019-03-07T00:15:32.791217Z",
     "start_time": "2019-03-07T00:15:32.782985Z"
    }
   },
   "outputs": [
    {
     "data": {
      "text/html": [
       "<div>\n",
       "<style scoped>\n",
       "    .dataframe tbody tr th:only-of-type {\n",
       "        vertical-align: middle;\n",
       "    }\n",
       "\n",
       "    .dataframe tbody tr th {\n",
       "        vertical-align: top;\n",
       "    }\n",
       "\n",
       "    .dataframe thead th {\n",
       "        text-align: right;\n",
       "    }\n",
       "</style>\n",
       "<table border=\"1\" class=\"dataframe\">\n",
       "  <thead>\n",
       "    <tr style=\"text-align: right;\">\n",
       "      <th></th>\n",
       "      <th>user_id_hash</th>\n",
       "      <th>attribute_value</th>\n",
       "    </tr>\n",
       "  </thead>\n",
       "  <tbody>\n",
       "    <tr>\n",
       "      <th>0</th>\n",
       "      <td>0</td>\n",
       "      <td>0.0</td>\n",
       "    </tr>\n",
       "    <tr>\n",
       "      <th>1</th>\n",
       "      <td>1</td>\n",
       "      <td>0.0</td>\n",
       "    </tr>\n",
       "    <tr>\n",
       "      <th>2</th>\n",
       "      <td>2</td>\n",
       "      <td>0.0</td>\n",
       "    </tr>\n",
       "    <tr>\n",
       "      <th>3</th>\n",
       "      <td>3</td>\n",
       "      <td>0.0</td>\n",
       "    </tr>\n",
       "    <tr>\n",
       "      <th>4</th>\n",
       "      <td>4</td>\n",
       "      <td>0.0</td>\n",
       "    </tr>\n",
       "  </tbody>\n",
       "</table>\n",
       "</div>"
      ],
      "text/plain": [
       "   user_id_hash  attribute_value\n",
       "0             0              0.0\n",
       "1             1              0.0\n",
       "2             2              0.0\n",
       "3             3              0.0\n",
       "4             4              0.0"
      ]
     },
     "execution_count": 32,
     "metadata": {},
     "output_type": "execute_result"
    }
   ],
   "source": [
    "outcome_14_max.head(5)"
   ]
  },
  {
   "cell_type": "code",
   "execution_count": 38,
   "metadata": {
    "ExecuteTime": {
     "end_time": "2019-03-07T00:19:39.084072Z",
     "start_time": "2019-03-07T00:19:39.074213Z"
    }
   },
   "outputs": [
    {
     "data": {
      "text/html": [
       "<div>\n",
       "<style scoped>\n",
       "    .dataframe tbody tr th:only-of-type {\n",
       "        vertical-align: middle;\n",
       "    }\n",
       "\n",
       "    .dataframe tbody tr th {\n",
       "        vertical-align: top;\n",
       "    }\n",
       "\n",
       "    .dataframe thead th {\n",
       "        text-align: right;\n",
       "    }\n",
       "</style>\n",
       "<table border=\"1\" class=\"dataframe\">\n",
       "  <thead>\n",
       "    <tr style=\"text-align: right;\">\n",
       "      <th></th>\n",
       "      <th>session_id</th>\n",
       "      <th>event</th>\n",
       "      <th>event_timestamp</th>\n",
       "      <th>event_value</th>\n",
       "      <th>user_id_hash</th>\n",
       "    </tr>\n",
       "  </thead>\n",
       "  <tbody>\n",
       "    <tr>\n",
       "      <th>0</th>\n",
       "      <td>5159335150551901701</td>\n",
       "      <td>8</td>\n",
       "      <td>1541912600211</td>\n",
       "      <td>3.493</td>\n",
       "      <td>514036</td>\n",
       "    </tr>\n",
       "    <tr>\n",
       "      <th>1</th>\n",
       "      <td>845986603555615931</td>\n",
       "      <td>8</td>\n",
       "      <td>1543357433771</td>\n",
       "      <td>3.493</td>\n",
       "      <td>575129</td>\n",
       "    </tr>\n",
       "    <tr>\n",
       "      <th>2</th>\n",
       "      <td>2846996524173831068</td>\n",
       "      <td>8</td>\n",
       "      <td>1543023539172</td>\n",
       "      <td>3.493</td>\n",
       "      <td>575129</td>\n",
       "    </tr>\n",
       "  </tbody>\n",
       "</table>\n",
       "</div>"
      ],
      "text/plain": [
       "            session_id event  event_timestamp  event_value  user_id_hash\n",
       "0  5159335150551901701     8    1541912600211        3.493        514036\n",
       "1   845986603555615931     8    1543357433771        3.493        575129\n",
       "2  2846996524173831068     8    1543023539172        3.493        575129"
      ]
     },
     "execution_count": 38,
     "metadata": {},
     "output_type": "execute_result"
    }
   ],
   "source": [
    "bought.head(3)"
   ]
  },
  {
   "cell_type": "code",
   "execution_count": 40,
   "metadata": {
    "ExecuteTime": {
     "end_time": "2019-03-07T00:23:00.154593Z",
     "start_time": "2019-03-07T00:22:56.497506Z"
    }
   },
   "outputs": [],
   "source": [
    "bought = pd.merge(bought, sessions[['user_id_hash','user_created_timestamp']], \\\n",
    "                          how='left', left_on='user_id_hash',right_on='user_id_hash')"
   ]
  },
  {
   "cell_type": "code",
   "execution_count": 41,
   "metadata": {
    "ExecuteTime": {
     "end_time": "2019-03-07T00:23:15.676501Z",
     "start_time": "2019-03-07T00:23:15.668006Z"
    }
   },
   "outputs": [
    {
     "data": {
      "text/html": [
       "<div>\n",
       "<style scoped>\n",
       "    .dataframe tbody tr th:only-of-type {\n",
       "        vertical-align: middle;\n",
       "    }\n",
       "\n",
       "    .dataframe tbody tr th {\n",
       "        vertical-align: top;\n",
       "    }\n",
       "\n",
       "    .dataframe thead th {\n",
       "        text-align: right;\n",
       "    }\n",
       "</style>\n",
       "<table border=\"1\" class=\"dataframe\">\n",
       "  <thead>\n",
       "    <tr style=\"text-align: right;\">\n",
       "      <th></th>\n",
       "      <th>session_id</th>\n",
       "      <th>event</th>\n",
       "      <th>event_timestamp</th>\n",
       "      <th>event_value</th>\n",
       "      <th>user_id_hash</th>\n",
       "      <th>user_created_timestamp</th>\n",
       "    </tr>\n",
       "  </thead>\n",
       "  <tbody>\n",
       "    <tr>\n",
       "      <th>0</th>\n",
       "      <td>5159335150551901701</td>\n",
       "      <td>8</td>\n",
       "      <td>1541912600211</td>\n",
       "      <td>3.493</td>\n",
       "      <td>514036</td>\n",
       "      <td>1.538874e+12</td>\n",
       "    </tr>\n",
       "    <tr>\n",
       "      <th>1</th>\n",
       "      <td>5159335150551901701</td>\n",
       "      <td>8</td>\n",
       "      <td>1541912600211</td>\n",
       "      <td>3.493</td>\n",
       "      <td>514036</td>\n",
       "      <td>1.538874e+12</td>\n",
       "    </tr>\n",
       "    <tr>\n",
       "      <th>2</th>\n",
       "      <td>5159335150551901701</td>\n",
       "      <td>8</td>\n",
       "      <td>1541912600211</td>\n",
       "      <td>3.493</td>\n",
       "      <td>514036</td>\n",
       "      <td>1.538874e+12</td>\n",
       "    </tr>\n",
       "  </tbody>\n",
       "</table>\n",
       "</div>"
      ],
      "text/plain": [
       "            session_id event  event_timestamp  event_value  user_id_hash  \\\n",
       "0  5159335150551901701     8    1541912600211        3.493        514036   \n",
       "1  5159335150551901701     8    1541912600211        3.493        514036   \n",
       "2  5159335150551901701     8    1541912600211        3.493        514036   \n",
       "\n",
       "   user_created_timestamp  \n",
       "0            1.538874e+12  \n",
       "1            1.538874e+12  \n",
       "2            1.538874e+12  "
      ]
     },
     "execution_count": 41,
     "metadata": {},
     "output_type": "execute_result"
    }
   ],
   "source": [
    "bought.head(3)"
   ]
  },
  {
   "cell_type": "code",
   "execution_count": 46,
   "metadata": {
    "ExecuteTime": {
     "end_time": "2019-03-07T00:27:32.900334Z",
     "start_time": "2019-03-07T00:27:32.892850Z"
    }
   },
   "outputs": [
    {
     "data": {
      "text/html": [
       "<div>\n",
       "<style scoped>\n",
       "    .dataframe tbody tr th:only-of-type {\n",
       "        vertical-align: middle;\n",
       "    }\n",
       "\n",
       "    .dataframe tbody tr th {\n",
       "        vertical-align: top;\n",
       "    }\n",
       "\n",
       "    .dataframe thead th {\n",
       "        text-align: right;\n",
       "    }\n",
       "</style>\n",
       "<table border=\"1\" class=\"dataframe\">\n",
       "  <thead>\n",
       "    <tr style=\"text-align: right;\">\n",
       "      <th></th>\n",
       "      <th>user_id_hash</th>\n",
       "      <th>count</th>\n",
       "    </tr>\n",
       "  </thead>\n",
       "  <tbody>\n",
       "    <tr>\n",
       "      <th>0</th>\n",
       "      <td>7</td>\n",
       "      <td>0</td>\n",
       "    </tr>\n",
       "    <tr>\n",
       "      <th>1</th>\n",
       "      <td>30</td>\n",
       "      <td>0</td>\n",
       "    </tr>\n",
       "    <tr>\n",
       "      <th>2</th>\n",
       "      <td>31</td>\n",
       "      <td>0</td>\n",
       "    </tr>\n",
       "  </tbody>\n",
       "</table>\n",
       "</div>"
      ],
      "text/plain": [
       "   user_id_hash  count\n",
       "0             7      0\n",
       "1            30      0\n",
       "2            31      0"
      ]
     },
     "execution_count": 46,
     "metadata": {},
     "output_type": "execute_result"
    }
   ],
   "source": [
    "bought_1111_1118.head(3)"
   ]
  },
  {
   "cell_type": "code",
   "execution_count": 48,
   "metadata": {
    "ExecuteTime": {
     "end_time": "2019-03-07T00:30:49.398268Z",
     "start_time": "2019-03-07T00:28:38.876634Z"
    }
   },
   "outputs": [
    {
     "name": "stdout",
     "output_type": "stream",
     "text": [
      "1944394\n",
      "1934062\n",
      "1520236\n",
      "14797251\n"
     ]
    }
   ],
   "source": [
    "bought_1111_1118 = bought.groupby('user_id_hash')['event_timestamp']\\\n",
    "                        .apply(lambda x: ((x > to_milli(nov_11))&(x < to_milli(nov_18))).sum()).reset_index(name='count')\n",
    "print(sum(bought_1111_1118['count']))\n",
    "\n",
    "\n",
    "bought_1118_1125 = bought.groupby('user_id_hash')['event_timestamp']\\\n",
    "                        .apply(lambda x: ((x > to_milli(nov_18))&(x < to_milli(nov_25))).sum()).reset_index(name='count')\n",
    "print(sum(bought_1118_1125['count']))\n",
    "\n",
    "\n",
    "bought_1125_1201 = bought.groupby('user_id_hash')['event_timestamp']\\\n",
    "                        .apply(lambda x: ((x > to_milli(nov_25))&(x < to_milli(dec_1))).sum()).reset_index(name='count')\n",
    "print(sum(bought_1125_1201['count']))\n",
    "\n",
    "bought_sum = bought.groupby('user_id_hash')['event_timestamp']\\\n",
    "                        .apply(lambda x: ((x > to_milli(oct_1))&(x < to_milli(dec_1))).sum()).reset_index(name='count')\n",
    "print(sum(bought_sum['count']))"
   ]
  },
  {
   "cell_type": "code",
   "execution_count": 51,
   "metadata": {
    "ExecuteTime": {
     "end_time": "2019-03-07T00:56:49.131460Z",
     "start_time": "2019-03-07T00:47:11.152961Z"
    }
   },
   "outputs": [
    {
     "name": "stdout",
     "output_type": "stream",
     "text": [
      "9891204\n"
     ]
    }
   ],
   "source": [
    "# events_1111_1118 = events.groupby('user_id_hash')['event_timestamp']\\\n",
    "#                         .apply(lambda x: ((x > to_milli(nov_11))&(x < to_milli(nov_18))).sum()).reset_index(name='count')\n",
    "# print(sum(events_1111_1118['count']))\n",
    "\n",
    "\n",
    "# events_1118_1125 = events.groupby('user_id_hash')['event_timestamp']\\\n",
    "#                         .apply(lambda x: ((x > to_milli(nov_18))&(x < to_milli(nov_25))).sum()).reset_index(name='count')\n",
    "# print(sum(events_1118_1125['count']))\n",
    "\n",
    "\n",
    "events_1125_1201 = events.groupby('user_id_hash')['event_timestamp']\\\n",
    "                        .apply(lambda x: ((x > to_milli(nov_25))&(x < to_milli(dec_1))).sum()).reset_index(name='count')\n",
    "print(sum(events_1125_1201['count']))\n",
    "\n",
    "# events_sum = events.groupby('user_id_hash')['event_timestamp']\\\n",
    "#                         .apply(lambda x: ((x > to_milli(oct_1))&(x < to_milli(dec_1))).sum()).reset_index(name='count')\n",
    "# print(sum(events_sum['count']))\n"
   ]
  },
  {
   "cell_type": "code",
   "execution_count": 58,
   "metadata": {
    "ExecuteTime": {
     "end_time": "2019-03-07T01:02:47.597182Z",
     "start_time": "2019-03-07T01:02:47.589406Z"
    }
   },
   "outputs": [
    {
     "data": {
      "text/html": [
       "<div>\n",
       "<style scoped>\n",
       "    .dataframe tbody tr th:only-of-type {\n",
       "        vertical-align: middle;\n",
       "    }\n",
       "\n",
       "    .dataframe tbody tr th {\n",
       "        vertical-align: top;\n",
       "    }\n",
       "\n",
       "    .dataframe thead th {\n",
       "        text-align: right;\n",
       "    }\n",
       "</style>\n",
       "<table border=\"1\" class=\"dataframe\">\n",
       "  <thead>\n",
       "    <tr style=\"text-align: right;\">\n",
       "      <th></th>\n",
       "      <th>user_id_hash</th>\n",
       "      <th>count</th>\n",
       "    </tr>\n",
       "  </thead>\n",
       "  <tbody>\n",
       "    <tr>\n",
       "      <th>0</th>\n",
       "      <td>0</td>\n",
       "      <td>0</td>\n",
       "    </tr>\n",
       "    <tr>\n",
       "      <th>1</th>\n",
       "      <td>1</td>\n",
       "      <td>0</td>\n",
       "    </tr>\n",
       "    <tr>\n",
       "      <th>2</th>\n",
       "      <td>2</td>\n",
       "      <td>0</td>\n",
       "    </tr>\n",
       "  </tbody>\n",
       "</table>\n",
       "</div>"
      ],
      "text/plain": [
       "   user_id_hash  count\n",
       "0             0      0\n",
       "1             1      0\n",
       "2             2      0"
      ]
     },
     "execution_count": 58,
     "metadata": {},
     "output_type": "execute_result"
    }
   ],
   "source": [
    "events_1125_1201.head(3)"
   ]
  },
  {
   "cell_type": "code",
   "execution_count": 52,
   "metadata": {
    "ExecuteTime": {
     "end_time": "2019-03-07T00:58:03.550104Z",
     "start_time": "2019-03-07T00:57:59.936188Z"
    }
   },
   "outputs": [
    {
     "data": {
      "text/html": [
       "<div>\n",
       "<style scoped>\n",
       "    .dataframe tbody tr th:only-of-type {\n",
       "        vertical-align: middle;\n",
       "    }\n",
       "\n",
       "    .dataframe tbody tr th {\n",
       "        vertical-align: top;\n",
       "    }\n",
       "\n",
       "    .dataframe thead th {\n",
       "        text-align: right;\n",
       "    }\n",
       "</style>\n",
       "<table border=\"1\" class=\"dataframe\">\n",
       "  <thead>\n",
       "    <tr style=\"text-align: right;\">\n",
       "      <th></th>\n",
       "      <th>user_id_hash</th>\n",
       "      <th>sum</th>\n",
       "      <th>count</th>\n",
       "    </tr>\n",
       "  </thead>\n",
       "  <tbody>\n",
       "    <tr>\n",
       "      <th>0</th>\n",
       "      <td>0</td>\n",
       "      <td>0.0</td>\n",
       "      <td>1</td>\n",
       "    </tr>\n",
       "    <tr>\n",
       "      <th>1</th>\n",
       "      <td>1</td>\n",
       "      <td>0.0</td>\n",
       "      <td>1</td>\n",
       "    </tr>\n",
       "    <tr>\n",
       "      <th>2</th>\n",
       "      <td>2</td>\n",
       "      <td>0.0</td>\n",
       "      <td>1</td>\n",
       "    </tr>\n",
       "    <tr>\n",
       "      <th>3</th>\n",
       "      <td>3</td>\n",
       "      <td>0.0</td>\n",
       "      <td>1</td>\n",
       "    </tr>\n",
       "    <tr>\n",
       "      <th>4</th>\n",
       "      <td>4</td>\n",
       "      <td>0.0</td>\n",
       "      <td>1</td>\n",
       "    </tr>\n",
       "  </tbody>\n",
       "</table>\n",
       "</div>"
      ],
      "text/plain": [
       "   user_id_hash  sum  count\n",
       "0             0  0.0      1\n",
       "1             1  0.0      1\n",
       "2             2  0.0      1\n",
       "3             3  0.0      1\n",
       "4             4  0.0      1"
      ]
     },
     "execution_count": 52,
     "metadata": {},
     "output_type": "execute_result"
    }
   ],
   "source": [
    "sessions_before_12_1 = sessions[sessions['start_timestamp']<to_milli(dec_1)]\n",
    "user_num_ses_cre_and_tot_ses_time = sessions_before_12_1.groupby('user_id_hash')['previous_sessions_duration']\\\n",
    "                                                            .agg(['sum','count']).reset_index()\n",
    "\n",
    "user_num_ses_cre_and_tot_ses_time['sum'] = user_num_ses_cre_and_tot_ses_time['sum']/60\n",
    "\n",
    "user_num_ses_cre_and_tot_ses_time.head(5)\n",
    "# .size().reset_index(name='counts')"
   ]
  },
  {
   "cell_type": "code",
   "execution_count": 53,
   "metadata": {
    "ExecuteTime": {
     "end_time": "2019-03-07T00:58:05.306846Z",
     "start_time": "2019-03-07T00:58:05.049463Z"
    }
   },
   "outputs": [
    {
     "name": "stdout",
     "output_type": "stream",
     "text": [
      "619037\n",
      "619037\n"
     ]
    }
   ],
   "source": [
    "user_num_day_cre = sessions_before_12_1[['user_id_hash','user_created_timestamp']]\\\n",
    "                    .drop_duplicates(subset='user_id_hash', keep='first')\\\n",
    "                    .reset_index(drop=True)\n",
    "print(len(user_num_day_cre))\n",
    "print(len(user_num_day_cre['user_id_hash'].unique()))"
   ]
  },
  {
   "cell_type": "code",
   "execution_count": 54,
   "metadata": {
    "ExecuteTime": {
     "end_time": "2019-03-07T00:58:06.858073Z",
     "start_time": "2019-03-07T00:58:06.831088Z"
    }
   },
   "outputs": [
    {
     "data": {
      "text/html": [
       "<div>\n",
       "<style scoped>\n",
       "    .dataframe tbody tr th:only-of-type {\n",
       "        vertical-align: middle;\n",
       "    }\n",
       "\n",
       "    .dataframe tbody tr th {\n",
       "        vertical-align: top;\n",
       "    }\n",
       "\n",
       "    .dataframe thead th {\n",
       "        text-align: right;\n",
       "    }\n",
       "</style>\n",
       "<table border=\"1\" class=\"dataframe\">\n",
       "  <thead>\n",
       "    <tr style=\"text-align: right;\">\n",
       "      <th></th>\n",
       "      <th>user_id_hash</th>\n",
       "      <th>user_created_timestamp</th>\n",
       "      <th>num_day_created</th>\n",
       "    </tr>\n",
       "  </thead>\n",
       "  <tbody>\n",
       "    <tr>\n",
       "      <th>0</th>\n",
       "      <td>514036</td>\n",
       "      <td>1538874289458</td>\n",
       "      <td>0.288305</td>\n",
       "    </tr>\n",
       "    <tr>\n",
       "      <th>1</th>\n",
       "      <td>317277</td>\n",
       "      <td>1541886003916</td>\n",
       "      <td>0.430499</td>\n",
       "    </tr>\n",
       "    <tr>\n",
       "      <th>2</th>\n",
       "      <td>11171</td>\n",
       "      <td>1539830331932</td>\n",
       "      <td>3.222998</td>\n",
       "    </tr>\n",
       "  </tbody>\n",
       "</table>\n",
       "</div>"
      ],
      "text/plain": [
       "   user_id_hash  user_created_timestamp  num_day_created\n",
       "0        514036           1538874289458         0.288305\n",
       "1        317277           1541886003916         0.430499\n",
       "2         11171           1539830331932         3.222998"
      ]
     },
     "execution_count": 54,
     "metadata": {},
     "output_type": "execute_result"
    }
   ],
   "source": [
    "user_num_day_cre['num_day_created'] = ((to_milli(dec_1)-user_num_day_cre['user_created_timestamp'])/(1000*60*60*24)) % 7\n",
    "user_num_day_cre.head(3)"
   ]
  },
  {
   "cell_type": "code",
   "execution_count": 55,
   "metadata": {
    "ExecuteTime": {
     "end_time": "2019-03-07T00:58:08.666605Z",
     "start_time": "2019-03-07T00:58:08.318403Z"
    }
   },
   "outputs": [
    {
     "data": {
      "text/html": [
       "<div>\n",
       "<style scoped>\n",
       "    .dataframe tbody tr th:only-of-type {\n",
       "        vertical-align: middle;\n",
       "    }\n",
       "\n",
       "    .dataframe tbody tr th {\n",
       "        vertical-align: top;\n",
       "    }\n",
       "\n",
       "    .dataframe thead th {\n",
       "        text-align: right;\n",
       "    }\n",
       "</style>\n",
       "<table border=\"1\" class=\"dataframe\">\n",
       "  <thead>\n",
       "    <tr style=\"text-align: right;\">\n",
       "      <th></th>\n",
       "      <th>user_id_hash</th>\n",
       "      <th>sum</th>\n",
       "      <th>count</th>\n",
       "      <th>num_day_created</th>\n",
       "    </tr>\n",
       "  </thead>\n",
       "  <tbody>\n",
       "    <tr>\n",
       "      <th>0</th>\n",
       "      <td>0</td>\n",
       "      <td>0.0</td>\n",
       "      <td>1</td>\n",
       "      <td>0.793792</td>\n",
       "    </tr>\n",
       "    <tr>\n",
       "      <th>1</th>\n",
       "      <td>1</td>\n",
       "      <td>0.0</td>\n",
       "      <td>1</td>\n",
       "      <td>2.642547</td>\n",
       "    </tr>\n",
       "    <tr>\n",
       "      <th>2</th>\n",
       "      <td>2</td>\n",
       "      <td>0.0</td>\n",
       "      <td>1</td>\n",
       "      <td>2.717589</td>\n",
       "    </tr>\n",
       "  </tbody>\n",
       "</table>\n",
       "</div>"
      ],
      "text/plain": [
       "   user_id_hash  sum  count  num_day_created\n",
       "0             0  0.0      1         0.793792\n",
       "1             1  0.0      1         2.642547\n",
       "2             2  0.0      1         2.717589"
      ]
     },
     "execution_count": 55,
     "metadata": {},
     "output_type": "execute_result"
    }
   ],
   "source": [
    "user_ave = user_num_ses_cre_and_tot_ses_time.merge(user_num_day_cre, left_on='user_id_hash', right_on='user_id_hash')\n",
    "# df = df.rename(index=str, columns={\"count\": \"events_1125_1201\"})\n",
    "user_ave = user_ave.drop(['user_created_timestamp'],axis=1)\n",
    "user_ave.head(3)"
   ]
  },
  {
   "cell_type": "code",
   "execution_count": 56,
   "metadata": {
    "ExecuteTime": {
     "end_time": "2019-03-07T00:58:10.084353Z",
     "start_time": "2019-03-07T00:58:10.070696Z"
    }
   },
   "outputs": [
    {
     "data": {
      "text/html": [
       "<div>\n",
       "<style scoped>\n",
       "    .dataframe tbody tr th:only-of-type {\n",
       "        vertical-align: middle;\n",
       "    }\n",
       "\n",
       "    .dataframe tbody tr th {\n",
       "        vertical-align: top;\n",
       "    }\n",
       "\n",
       "    .dataframe thead th {\n",
       "        text-align: right;\n",
       "    }\n",
       "</style>\n",
       "<table border=\"1\" class=\"dataframe\">\n",
       "  <thead>\n",
       "    <tr style=\"text-align: right;\">\n",
       "      <th></th>\n",
       "      <th>user_id_hash</th>\n",
       "      <th>sum</th>\n",
       "      <th>count</th>\n",
       "      <th>num_day_created</th>\n",
       "      <th>average_minutes</th>\n",
       "      <th>average_counts</th>\n",
       "    </tr>\n",
       "  </thead>\n",
       "  <tbody>\n",
       "    <tr>\n",
       "      <th>0</th>\n",
       "      <td>0</td>\n",
       "      <td>0.0</td>\n",
       "      <td>1</td>\n",
       "      <td>0.793792</td>\n",
       "      <td>0.0</td>\n",
       "      <td>1.259776</td>\n",
       "    </tr>\n",
       "    <tr>\n",
       "      <th>1</th>\n",
       "      <td>1</td>\n",
       "      <td>0.0</td>\n",
       "      <td>1</td>\n",
       "      <td>2.642547</td>\n",
       "      <td>0.0</td>\n",
       "      <td>0.378423</td>\n",
       "    </tr>\n",
       "    <tr>\n",
       "      <th>2</th>\n",
       "      <td>2</td>\n",
       "      <td>0.0</td>\n",
       "      <td>1</td>\n",
       "      <td>2.717589</td>\n",
       "      <td>0.0</td>\n",
       "      <td>0.367973</td>\n",
       "    </tr>\n",
       "  </tbody>\n",
       "</table>\n",
       "</div>"
      ],
      "text/plain": [
       "   user_id_hash  sum  count  num_day_created  average_minutes  average_counts\n",
       "0             0  0.0      1         0.793792              0.0        1.259776\n",
       "1             1  0.0      1         2.642547              0.0        0.378423\n",
       "2             2  0.0      1         2.717589              0.0        0.367973"
      ]
     },
     "execution_count": 56,
     "metadata": {},
     "output_type": "execute_result"
    }
   ],
   "source": [
    "user_ave['average_minutes'] = user_ave['sum']/user_ave['num_day_created']\n",
    "user_ave['average_counts'] = user_ave['count']/user_ave['num_day_created']\n",
    "user_ave.head(3)"
   ]
  },
  {
   "cell_type": "code",
   "execution_count": 57,
   "metadata": {
    "ExecuteTime": {
     "end_time": "2019-03-07T00:58:11.495579Z",
     "start_time": "2019-03-07T00:58:11.464748Z"
    }
   },
   "outputs": [
    {
     "data": {
      "text/html": [
       "<div>\n",
       "<style scoped>\n",
       "    .dataframe tbody tr th:only-of-type {\n",
       "        vertical-align: middle;\n",
       "    }\n",
       "\n",
       "    .dataframe tbody tr th {\n",
       "        vertical-align: top;\n",
       "    }\n",
       "\n",
       "    .dataframe thead th {\n",
       "        text-align: right;\n",
       "    }\n",
       "</style>\n",
       "<table border=\"1\" class=\"dataframe\">\n",
       "  <thead>\n",
       "    <tr style=\"text-align: right;\">\n",
       "      <th></th>\n",
       "      <th>user_id_hash</th>\n",
       "      <th>num_day_created</th>\n",
       "      <th>average_minutes</th>\n",
       "      <th>average_counts</th>\n",
       "    </tr>\n",
       "  </thead>\n",
       "  <tbody>\n",
       "    <tr>\n",
       "      <th>0</th>\n",
       "      <td>0</td>\n",
       "      <td>0.793792</td>\n",
       "      <td>0.0</td>\n",
       "      <td>1.259776</td>\n",
       "    </tr>\n",
       "    <tr>\n",
       "      <th>1</th>\n",
       "      <td>1</td>\n",
       "      <td>2.642547</td>\n",
       "      <td>0.0</td>\n",
       "      <td>0.378423</td>\n",
       "    </tr>\n",
       "    <tr>\n",
       "      <th>2</th>\n",
       "      <td>2</td>\n",
       "      <td>2.717589</td>\n",
       "      <td>0.0</td>\n",
       "      <td>0.367973</td>\n",
       "    </tr>\n",
       "  </tbody>\n",
       "</table>\n",
       "</div>"
      ],
      "text/plain": [
       "   user_id_hash  num_day_created  average_minutes  average_counts\n",
       "0             0         0.793792              0.0        1.259776\n",
       "1             1         2.642547              0.0        0.378423\n",
       "2             2         2.717589              0.0        0.367973"
      ]
     },
     "execution_count": 57,
     "metadata": {},
     "output_type": "execute_result"
    }
   ],
   "source": [
    "user_ave = user_ave.drop(['sum','count'], axis=1)\n",
    "user_ave.head(3)"
   ]
  },
  {
   "cell_type": "code",
   "execution_count": null,
   "metadata": {},
   "outputs": [],
   "source": []
  },
  {
   "cell_type": "code",
   "execution_count": 69,
   "metadata": {
    "ExecuteTime": {
     "end_time": "2019-03-07T01:07:14.362062Z",
     "start_time": "2019-03-07T01:07:11.618823Z"
    }
   },
   "outputs": [
    {
     "data": {
      "text/html": [
       "<div>\n",
       "<style scoped>\n",
       "    .dataframe tbody tr th:only-of-type {\n",
       "        vertical-align: middle;\n",
       "    }\n",
       "\n",
       "    .dataframe tbody tr th {\n",
       "        vertical-align: top;\n",
       "    }\n",
       "\n",
       "    .dataframe thead th {\n",
       "        text-align: right;\n",
       "    }\n",
       "</style>\n",
       "<table border=\"1\" class=\"dataframe\">\n",
       "  <thead>\n",
       "    <tr style=\"text-align: right;\">\n",
       "      <th></th>\n",
       "      <th>user_id_hash</th>\n",
       "      <th>dec1_14</th>\n",
       "      <th>dec1_7</th>\n",
       "      <th>attribute_value_13_max</th>\n",
       "      <th>attribute_value_14_max</th>\n",
       "      <th>count_1111_1118</th>\n",
       "      <th>count_1118_1125</th>\n",
       "      <th>count_1125_1201</th>\n",
       "      <th>event_1125_1201</th>\n",
       "      <th>num_day_created</th>\n",
       "      <th>average_minutes</th>\n",
       "      <th>average_counts</th>\n",
       "    </tr>\n",
       "  </thead>\n",
       "  <tbody>\n",
       "    <tr>\n",
       "      <th>0</th>\n",
       "      <td>514036</td>\n",
       "      <td>0</td>\n",
       "      <td>0</td>\n",
       "      <td>3.49</td>\n",
       "      <td>3.49</td>\n",
       "      <td>0.0</td>\n",
       "      <td>0.0</td>\n",
       "      <td>0.0</td>\n",
       "      <td>51</td>\n",
       "      <td>0.288305</td>\n",
       "      <td>5.838944e+07</td>\n",
       "      <td>166.490416</td>\n",
       "    </tr>\n",
       "    <tr>\n",
       "      <th>1</th>\n",
       "      <td>317277</td>\n",
       "      <td>0</td>\n",
       "      <td>0</td>\n",
       "      <td>0.01</td>\n",
       "      <td>0.00</td>\n",
       "      <td>0.0</td>\n",
       "      <td>0.0</td>\n",
       "      <td>0.0</td>\n",
       "      <td>0</td>\n",
       "      <td>0.430499</td>\n",
       "      <td>2.351852e+05</td>\n",
       "      <td>6.968663</td>\n",
       "    </tr>\n",
       "    <tr>\n",
       "      <th>2</th>\n",
       "      <td>11171</td>\n",
       "      <td>0</td>\n",
       "      <td>0</td>\n",
       "      <td>0.00</td>\n",
       "      <td>0.00</td>\n",
       "      <td>0.0</td>\n",
       "      <td>0.0</td>\n",
       "      <td>0.0</td>\n",
       "      <td>0</td>\n",
       "      <td>3.222998</td>\n",
       "      <td>0.000000e+00</td>\n",
       "      <td>0.310270</td>\n",
       "    </tr>\n",
       "    <tr>\n",
       "      <th>3</th>\n",
       "      <td>90676</td>\n",
       "      <td>0</td>\n",
       "      <td>0</td>\n",
       "      <td>0.00</td>\n",
       "      <td>0.00</td>\n",
       "      <td>0.0</td>\n",
       "      <td>0.0</td>\n",
       "      <td>0.0</td>\n",
       "      <td>0</td>\n",
       "      <td>0.057656</td>\n",
       "      <td>0.000000e+00</td>\n",
       "      <td>17.344389</td>\n",
       "    </tr>\n",
       "    <tr>\n",
       "      <th>4</th>\n",
       "      <td>76763</td>\n",
       "      <td>0</td>\n",
       "      <td>0</td>\n",
       "      <td>0.00</td>\n",
       "      <td>0.00</td>\n",
       "      <td>0.0</td>\n",
       "      <td>0.0</td>\n",
       "      <td>0.0</td>\n",
       "      <td>0</td>\n",
       "      <td>5.672814</td>\n",
       "      <td>0.000000e+00</td>\n",
       "      <td>0.176279</td>\n",
       "    </tr>\n",
       "  </tbody>\n",
       "</table>\n",
       "</div>"
      ],
      "text/plain": [
       "   user_id_hash  dec1_14  dec1_7  attribute_value_13_max  \\\n",
       "0        514036        0       0                    3.49   \n",
       "1        317277        0       0                    0.01   \n",
       "2         11171        0       0                    0.00   \n",
       "3         90676        0       0                    0.00   \n",
       "4         76763        0       0                    0.00   \n",
       "\n",
       "   attribute_value_14_max  count_1111_1118  count_1118_1125  count_1125_1201  \\\n",
       "0                    3.49              0.0              0.0              0.0   \n",
       "1                    0.00              0.0              0.0              0.0   \n",
       "2                    0.00              0.0              0.0              0.0   \n",
       "3                    0.00              0.0              0.0              0.0   \n",
       "4                    0.00              0.0              0.0              0.0   \n",
       "\n",
       "   event_1125_1201  num_day_created  average_minutes  average_counts  \n",
       "0               51         0.288305     5.838944e+07      166.490416  \n",
       "1                0         0.430499     2.351852e+05        6.968663  \n",
       "2                0         3.222998     0.000000e+00        0.310270  \n",
       "3                0         0.057656     0.000000e+00       17.344389  \n",
       "4                0         5.672814     0.000000e+00        0.176279  "
      ]
     },
     "execution_count": 69,
     "metadata": {},
     "output_type": "execute_result"
    }
   ],
   "source": [
    "# test_1 = pd.merge(df, outcome_13[['user_id_hash','attribute_value']], \\\n",
    "#                       how='left', left_on='user_id_hash',right_on='user_id_hash')\n",
    "# test_1 = test_1.rename(index=str, columns={\"attribute_value\": \"attribute_value_13\"})\n",
    "\n",
    "# test_1 = pd.merge(test_1, outcome_14[['user_id_hash','attribute_value']], \\\n",
    "#                       how='left', left_on='user_id_hash',right_on='user_id_hash')\n",
    "# test_1 = test_1.rename(index=str, columns={\"attribute_value\": \"attribute_value_14\"})\n",
    "\n",
    "# test_1 = test_1.fillna(0)\n",
    "# test_1.head()\n",
    "\n",
    "test_1 = pd.merge(df, outcome_13_max[['user_id_hash','attribute_value']], \\\n",
    "                      how='left', left_on='user_id_hash',right_on='user_id_hash')\n",
    "test_1 = test_1.rename(index=str, columns={\"attribute_value\": \"attribute_value_13_max\"})\n",
    "\n",
    "test_1 = pd.merge(test_1, outcome_14_max[['user_id_hash','attribute_value']], \\\n",
    "                      how='left', left_on='user_id_hash',right_on='user_id_hash')\n",
    "test_1 = test_1.rename(index=str, columns={\"attribute_value\": \"attribute_value_14_max\"})\n",
    "\n",
    "test_1 = pd.merge(test_1, bought_1111_1118, \\\n",
    "                      how='left', left_on='user_id_hash',right_on='user_id_hash')\n",
    "test_1 = test_1.rename(index=str, columns={\"count\": \"count_1111_1118\"})\n",
    "\n",
    "test_1 = pd.merge(test_1, bought_1118_1125, \\\n",
    "                      how='left', left_on='user_id_hash',right_on='user_id_hash')\n",
    "test_1 = test_1.rename(index=str, columns={\"count\": \"count_1118_1125\"})\n",
    "\n",
    "test_1 = pd.merge(test_1, bought_1125_1201, \\\n",
    "                      how='left', left_on='user_id_hash',right_on='user_id_hash')\n",
    "test_1 = test_1.rename(index=str, columns={\"count\": \"count_1125_1201\"})\n",
    "\n",
    "test_1 = pd.merge(test_1, events_1125_1201, \\\n",
    "                      how='left', left_on='user_id_hash',right_on='user_id_hash')\n",
    "test_1 = test_1.rename(index=str, columns={\"count\": \"event_1125_1201\"})\n",
    "\n",
    "test_1 = pd.merge(test_1, user_ave, \\\n",
    "                      how='left', left_on='user_id_hash',right_on='user_id_hash')\n",
    "\n",
    "\n",
    "test_1 = test_1.fillna(0)\n",
    "test_1.head()"
   ]
  },
  {
   "cell_type": "code",
   "execution_count": 72,
   "metadata": {
    "ExecuteTime": {
     "end_time": "2019-03-07T01:10:17.073312Z",
     "start_time": "2019-03-07T01:10:17.047914Z"
    }
   },
   "outputs": [
    {
     "data": {
      "text/plain": [
       "(621001, 9)"
      ]
     },
     "execution_count": 72,
     "metadata": {},
     "output_type": "execute_result"
    }
   ],
   "source": [
    "test_1.drop(['user_id_hash','dec1_7','dec1_14'], axis=1).shape"
   ]
  },
  {
   "cell_type": "code",
   "execution_count": 222,
   "metadata": {
    "ExecuteTime": {
     "end_time": "2019-03-07T03:40:44.802492Z",
     "start_time": "2019-03-07T03:40:16.366862Z"
    }
   },
   "outputs": [
    {
     "data": {
      "text/plain": [
       "0.9722152189319492"
      ]
     },
     "execution_count": 222,
     "metadata": {},
     "output_type": "execute_result"
    }
   ],
   "source": [
    "X = test_1.drop(['user_id_hash','dec1_7','dec1_14'], axis=1)\n",
    "y = test_1['dec1_7']\n",
    "X_train, X_test, y_train, y_test = train_test_split(X, y, test_size=0.33, random_state=42)\n",
    "clf_dec1_7 = GradientBoostingClassifier(loss = 'exponential', min_samples_split = 50, \\\n",
    "                                        min_samples_leaf=10)\n",
    "clf_dec1_7.fit(X_train, y_train)\n",
    "y_scores = clf_dec1_7.predict_proba(X_test)\n",
    "roc_auc_score(y_test, y_scores[:,1])"
   ]
  },
  {
   "cell_type": "code",
   "execution_count": 221,
   "metadata": {
    "ExecuteTime": {
     "end_time": "2019-03-07T03:40:03.236253Z",
     "start_time": "2019-03-07T03:39:32.033947Z"
    }
   },
   "outputs": [
    {
     "data": {
      "text/plain": [
       "0.9625064162207312"
      ]
     },
     "execution_count": 221,
     "metadata": {},
     "output_type": "execute_result"
    }
   ],
   "source": [
    "X = test_1.drop(['user_id_hash','dec1_7','dec1_14'], axis=1)\n",
    "y = test_1['dec1_14']\n",
    "X_train, X_test, y_train, y_test = train_test_split(X, y, test_size=0.33, random_state=42)\n",
    "clf_dec1_14 = GradientBoostingClassifier(loss = 'exponential', min_samples_split = 50, \\\n",
    "                                         min_samples_leaf=10)\n",
    "clf_dec1_14.fit(X_train, y_train)\n",
    "y_scores = clf_dec1_14.predict_proba(X_test)\n",
    "roc_auc_score(y_test, y_scores[:,1])"
   ]
  },
  {
   "cell_type": "code",
   "execution_count": 187,
   "metadata": {
    "ExecuteTime": {
     "end_time": "2019-03-07T02:55:38.075841Z",
     "start_time": "2019-03-07T02:55:38.072868Z"
    }
   },
   "outputs": [],
   "source": [
    "# from sklearn.model_selection import GridSearchCV\n",
    "\n",
    "# param_grid = dict(loss = ['deviance', 'exponential'],\n",
    "#                   learning_rate=[0.1, 0.4],\n",
    "#                   n_estimators = [100],\n",
    "#                   subsample = [0.5, 0.75, 1],\n",
    "#                   min_samples_split = [2,5,50],\n",
    "#                   max_depth = [3,5],\n",
    "#                   min_samples_leaf=[1,3,5])\n",
    "\n",
    "# gbc_cv = GridSearchCV(estimator=GradientBoostingClassifier(), \n",
    "#                       param_grid=param_grid, \n",
    "#                       cv=5)\n",
    "# gbc_cv.fit(X, y)\n",
    "# print(gbc_cv.best_params_)\n",
    "# print(f\"{gbc_cv.best_score_:,.4f}\")"
   ]
  },
  {
   "cell_type": "code",
   "execution_count": null,
   "metadata": {},
   "outputs": [],
   "source": []
  },
  {
   "cell_type": "markdown",
   "metadata": {},
   "source": [
    "#### training models"
   ]
  },
  {
   "cell_type": "code",
   "execution_count": 223,
   "metadata": {
    "ExecuteTime": {
     "end_time": "2019-03-07T03:42:12.398801Z",
     "start_time": "2019-03-07T03:41:05.682998Z"
    }
   },
   "outputs": [
    {
     "data": {
      "text/plain": [
       "GradientBoostingClassifier(criterion='friedman_mse', init=None,\n",
       "              learning_rate=0.1, loss='exponential', max_depth=3,\n",
       "              max_features=None, max_leaf_nodes=None,\n",
       "              min_impurity_decrease=0.0, min_impurity_split=None,\n",
       "              min_samples_leaf=10, min_samples_split=50,\n",
       "              min_weight_fraction_leaf=0.0, n_estimators=100,\n",
       "              n_iter_no_change=None, presort='auto', random_state=None,\n",
       "              subsample=1.0, tol=0.0001, validation_fraction=0.1,\n",
       "              verbose=0, warm_start=False)"
      ]
     },
     "execution_count": 223,
     "metadata": {},
     "output_type": "execute_result"
    }
   ],
   "source": [
    "X = test_1.drop(['user_id_hash','dec1_7','dec1_14'], axis=1)\n",
    "y = test_1['dec1_7']\n",
    "clf_dec1_7 = GradientBoostingClassifier(loss = 'exponential', min_samples_split = 50, \\\n",
    "                                        min_samples_leaf=10)\n",
    "clf_dec1_7.fit(X, y)"
   ]
  },
  {
   "cell_type": "code",
   "execution_count": 108,
   "metadata": {
    "ExecuteTime": {
     "end_time": "2019-03-07T02:00:52.230333Z",
     "start_time": "2019-03-07T01:57:57.451123Z"
    }
   },
   "outputs": [
    {
     "data": {
      "text/plain": [
       "RandomForestClassifier(bootstrap=True, class_weight=None, criterion='gini',\n",
       "            max_depth=None, max_features='auto', max_leaf_nodes=None,\n",
       "            min_impurity_decrease=0.0, min_impurity_split=None,\n",
       "            min_samples_leaf=1, min_samples_split=2,\n",
       "            min_weight_fraction_leaf=0.0, n_estimators=100, n_jobs=None,\n",
       "            oob_score=False, random_state=None, verbose=0,\n",
       "            warm_start=False)"
      ]
     },
     "execution_count": 108,
     "metadata": {},
     "output_type": "execute_result"
    }
   ],
   "source": [
    "from sklearn.ensemble import RandomForestClassifier\n",
    "X = test_1.drop(['user_id_hash','dec1_7','dec1_14'], axis=1)\n",
    "y = test_1['dec1_7']\n",
    "clf_dec1_7 = RandomForestClassifier(n_estimators=100)\n",
    "clf_dec1_7.fit(X, y)"
   ]
  },
  {
   "cell_type": "code",
   "execution_count": 126,
   "metadata": {
    "ExecuteTime": {
     "end_time": "2019-03-07T02:14:20.232461Z",
     "start_time": "2019-03-07T02:13:54.399061Z"
    }
   },
   "outputs": [
    {
     "data": {
      "text/plain": [
       "XGBClassifier(base_score=0.5, booster='gbtree', colsample_bylevel=1,\n",
       "       colsample_bytree=1, gamma=0, learning_rate=0.1, max_delta_step=0,\n",
       "       max_depth=3, min_child_weight=1, missing=None, n_estimators=100,\n",
       "       n_jobs=1, nthread=None, objective='binary:logistic',\n",
       "       random_state=42, reg_alpha=0, reg_lambda=1, scale_pos_weight=1,\n",
       "       seed=None, silent=True, subsample=1)"
      ]
     },
     "execution_count": 126,
     "metadata": {},
     "output_type": "execute_result"
    }
   ],
   "source": [
    "import xgboost as xgb\n",
    "X = test_1.drop(['user_id_hash','dec1_7','dec1_14'], axis=1)\n",
    "y = test_1['dec1_7']\n",
    "clf_dec1_7 = xgb.XGBClassifier(objective=\"binary:logistic\", random_state=42)\n",
    "clf_dec1_7.fit(X, y)"
   ]
  },
  {
   "cell_type": "code",
   "execution_count": null,
   "metadata": {},
   "outputs": [],
   "source": []
  },
  {
   "cell_type": "code",
   "execution_count": 224,
   "metadata": {
    "ExecuteTime": {
     "end_time": "2019-03-07T03:43:13.915183Z",
     "start_time": "2019-03-07T03:42:14.878825Z"
    }
   },
   "outputs": [
    {
     "data": {
      "text/plain": [
       "GradientBoostingClassifier(criterion='friedman_mse', init=None,\n",
       "              learning_rate=0.1, loss='exponential', max_depth=3,\n",
       "              max_features=None, max_leaf_nodes=None,\n",
       "              min_impurity_decrease=0.0, min_impurity_split=None,\n",
       "              min_samples_leaf=10, min_samples_split=50,\n",
       "              min_weight_fraction_leaf=0.0, n_estimators=100,\n",
       "              n_iter_no_change=None, presort='auto', random_state=None,\n",
       "              subsample=1.0, tol=0.0001, validation_fraction=0.1,\n",
       "              verbose=0, warm_start=False)"
      ]
     },
     "execution_count": 224,
     "metadata": {},
     "output_type": "execute_result"
    }
   ],
   "source": [
    "X = test_1.drop(['user_id_hash','dec1_7','dec1_14'], axis=1)\n",
    "y = test_1['dec1_14']\n",
    "clf_dec1_14 = GradientBoostingClassifier(loss = 'exponential', min_samples_split = 50, \\\n",
    "                                        min_samples_leaf=10)\n",
    "clf_dec1_14.fit(X, y)"
   ]
  },
  {
   "cell_type": "code",
   "execution_count": 109,
   "metadata": {
    "ExecuteTime": {
     "end_time": "2019-03-07T02:04:10.790292Z",
     "start_time": "2019-03-07T02:00:54.244865Z"
    }
   },
   "outputs": [
    {
     "data": {
      "text/plain": [
       "RandomForestClassifier(bootstrap=True, class_weight=None, criterion='gini',\n",
       "            max_depth=None, max_features='auto', max_leaf_nodes=None,\n",
       "            min_impurity_decrease=0.0, min_impurity_split=None,\n",
       "            min_samples_leaf=1, min_samples_split=2,\n",
       "            min_weight_fraction_leaf=0.0, n_estimators=100, n_jobs=None,\n",
       "            oob_score=False, random_state=None, verbose=0,\n",
       "            warm_start=False)"
      ]
     },
     "execution_count": 109,
     "metadata": {},
     "output_type": "execute_result"
    }
   ],
   "source": [
    "X = test_1.drop(['user_id_hash','dec1_7','dec1_14'], axis=1)\n",
    "y = test_1['dec1_14']\n",
    "clf_dec1_14 = RandomForestClassifier(n_estimators=100)\n",
    "clf_dec1_14.fit(X, y)"
   ]
  },
  {
   "cell_type": "code",
   "execution_count": 127,
   "metadata": {
    "ExecuteTime": {
     "end_time": "2019-03-07T02:14:48.497003Z",
     "start_time": "2019-03-07T02:14:24.922465Z"
    }
   },
   "outputs": [
    {
     "data": {
      "text/plain": [
       "XGBClassifier(base_score=0.5, booster='gbtree', colsample_bylevel=1,\n",
       "       colsample_bytree=1, gamma=0, learning_rate=0.1, max_delta_step=0,\n",
       "       max_depth=3, min_child_weight=1, missing=None, n_estimators=100,\n",
       "       n_jobs=1, nthread=None, objective='binary:logistic',\n",
       "       random_state=42, reg_alpha=0, reg_lambda=1, scale_pos_weight=1,\n",
       "       seed=None, silent=True, subsample=1)"
      ]
     },
     "execution_count": 127,
     "metadata": {},
     "output_type": "execute_result"
    }
   ],
   "source": [
    "X = test_1.drop(['user_id_hash','dec1_7','dec1_14'], axis=1)\n",
    "y = test_1['dec1_14']\n",
    "clf_dec1_14 = xgb.XGBClassifier(objective=\"binary:logistic\", random_state=42)\n",
    "clf_dec1_14.fit(X, y)"
   ]
  },
  {
   "cell_type": "code",
   "execution_count": 81,
   "metadata": {
    "ExecuteTime": {
     "end_time": "2019-03-07T01:21:29.342947Z",
     "start_time": "2019-03-07T01:21:29.328875Z"
    }
   },
   "outputs": [],
   "source": [
    "import pickle\n",
    "# save the classifier\n",
    "with open('clf_dec1_7.pkl', 'wb') as fid:\n",
    "    pickle.dump(clf_dec1_7, fid)    \n",
    "\n",
    "with open('clf_dec1_14.pkl', 'wb') as fid:\n",
    "    pickle.dump(clf_dec1_14, fid)  \n",
    "\n",
    "    \n",
    "# load it again\n",
    "# with open('my_dumped_classifier.pkl', 'rb') as fid:\n",
    "#     gnb_loaded = cPickle.load(fid)"
   ]
  },
  {
   "cell_type": "code",
   "execution_count": null,
   "metadata": {},
   "outputs": [],
   "source": []
  },
  {
   "cell_type": "markdown",
   "metadata": {},
   "source": [
    "#### Create id-labels"
   ]
  },
  {
   "cell_type": "code",
   "execution_count": 33,
   "metadata": {
    "ExecuteTime": {
     "end_time": "2019-03-07T00:17:38.181133Z",
     "start_time": "2019-03-07T00:17:21.161191Z"
    }
   },
   "outputs": [],
   "source": [
    "bought = events[events['event']=='8'].reset_index()\n",
    "bought = bought.drop(['index'],axis=1)"
   ]
  },
  {
   "cell_type": "code",
   "execution_count": 34,
   "metadata": {
    "ExecuteTime": {
     "end_time": "2019-03-07T00:17:40.074612Z",
     "start_time": "2019-03-07T00:17:40.037975Z"
    }
   },
   "outputs": [
    {
     "name": "stdout",
     "output_type": "stream",
     "text": [
      "[545157 235308 431370]\n",
      "[545157 235308 431370]\n"
     ]
    }
   ],
   "source": [
    "# bought after 12.1\n",
    "# already_bought = []\n",
    "bought_after_12_1 = bought[bought['event_timestamp']>to_milli(dec_1)]['user_id_hash'].unique()\n",
    "print(bought_after_12_1[:3])\n",
    "# bought after 12.1 before 12.7\n",
    "bought_between_12_1_7 = bought[(bought['event_timestamp']>to_milli(dec_1)) & (bought['event_timestamp']<to_milli(dec_7))]['user_id_hash'].unique()\n",
    "print(bought_between_12_1_7[:3])"
   ]
  },
  {
   "cell_type": "code",
   "execution_count": 60,
   "metadata": {
    "ExecuteTime": {
     "end_time": "2019-03-07T01:04:11.764208Z",
     "start_time": "2019-03-07T01:04:10.403206Z"
    }
   },
   "outputs": [],
   "source": [
    "df = events['user_id_hash'].unique()\n",
    "df = pd.DataFrame(data = df, columns=['user_id_hash'])"
   ]
  },
  {
   "cell_type": "code",
   "execution_count": 61,
   "metadata": {
    "ExecuteTime": {
     "end_time": "2019-03-07T01:04:19.580412Z",
     "start_time": "2019-03-07T01:04:13.570420Z"
    }
   },
   "outputs": [],
   "source": [
    "df['dec1_14'] = df['user_id_hash'].apply(lambda x: 1 if x in bought_after_12_1 else 0)\n",
    "df['dec1_7'] = df['user_id_hash'].apply(lambda x: 1 if x in bought_between_12_1_7 else 0)"
   ]
  },
  {
   "cell_type": "code",
   "execution_count": 62,
   "metadata": {
    "ExecuteTime": {
     "end_time": "2019-03-07T01:04:21.023694Z",
     "start_time": "2019-03-07T01:04:21.015631Z"
    }
   },
   "outputs": [
    {
     "data": {
      "text/html": [
       "<div>\n",
       "<style scoped>\n",
       "    .dataframe tbody tr th:only-of-type {\n",
       "        vertical-align: middle;\n",
       "    }\n",
       "\n",
       "    .dataframe tbody tr th {\n",
       "        vertical-align: top;\n",
       "    }\n",
       "\n",
       "    .dataframe thead th {\n",
       "        text-align: right;\n",
       "    }\n",
       "</style>\n",
       "<table border=\"1\" class=\"dataframe\">\n",
       "  <thead>\n",
       "    <tr style=\"text-align: right;\">\n",
       "      <th></th>\n",
       "      <th>user_id_hash</th>\n",
       "      <th>dec1_14</th>\n",
       "      <th>dec1_7</th>\n",
       "    </tr>\n",
       "  </thead>\n",
       "  <tbody>\n",
       "    <tr>\n",
       "      <th>0</th>\n",
       "      <td>514036</td>\n",
       "      <td>0</td>\n",
       "      <td>0</td>\n",
       "    </tr>\n",
       "    <tr>\n",
       "      <th>1</th>\n",
       "      <td>317277</td>\n",
       "      <td>0</td>\n",
       "      <td>0</td>\n",
       "    </tr>\n",
       "    <tr>\n",
       "      <th>2</th>\n",
       "      <td>11171</td>\n",
       "      <td>0</td>\n",
       "      <td>0</td>\n",
       "    </tr>\n",
       "  </tbody>\n",
       "</table>\n",
       "</div>"
      ],
      "text/plain": [
       "   user_id_hash  dec1_14  dec1_7\n",
       "0        514036        0       0\n",
       "1        317277        0       0\n",
       "2         11171        0       0"
      ]
     },
     "execution_count": 62,
     "metadata": {},
     "output_type": "execute_result"
    }
   ],
   "source": [
    "df.head(3)"
   ]
  },
  {
   "cell_type": "code",
   "execution_count": null,
   "metadata": {},
   "outputs": [],
   "source": []
  },
  {
   "cell_type": "markdown",
   "metadata": {},
   "source": [
    "### Feature engineering for predicting phase"
   ]
  },
  {
   "cell_type": "code",
   "execution_count": 73,
   "metadata": {
    "ExecuteTime": {
     "end_time": "2019-03-07T01:11:41.230935Z",
     "start_time": "2019-03-07T01:11:32.720135Z"
    }
   },
   "outputs": [],
   "source": [
    "sess_att['attribute_value'] = sess_att['attribute_value'].apply(lambda x: float(x))"
   ]
  },
  {
   "cell_type": "code",
   "execution_count": 82,
   "metadata": {
    "ExecuteTime": {
     "end_time": "2019-03-07T01:29:44.606168Z",
     "start_time": "2019-03-07T01:21:40.497284Z"
    }
   },
   "outputs": [
    {
     "data": {
      "text/html": [
       "<div>\n",
       "<style scoped>\n",
       "    .dataframe tbody tr th:only-of-type {\n",
       "        vertical-align: middle;\n",
       "    }\n",
       "\n",
       "    .dataframe tbody tr th {\n",
       "        vertical-align: top;\n",
       "    }\n",
       "\n",
       "    .dataframe thead th {\n",
       "        text-align: right;\n",
       "    }\n",
       "</style>\n",
       "<table border=\"1\" class=\"dataframe\">\n",
       "  <thead>\n",
       "    <tr style=\"text-align: right;\">\n",
       "      <th></th>\n",
       "      <th>user_id_hash</th>\n",
       "      <th>session_id</th>\n",
       "      <th>start_timestamp</th>\n",
       "      <th>timezone</th>\n",
       "      <th>timezone_offset</th>\n",
       "      <th>previous_sessions_duration</th>\n",
       "      <th>user_created_timestamp</th>\n",
       "      <th>is_user_first_session</th>\n",
       "      <th>country</th>\n",
       "      <th>region</th>\n",
       "      <th>city</th>\n",
       "      <th>latitude</th>\n",
       "      <th>longitude</th>\n",
       "      <th>locale</th>\n",
       "      <th>os_name</th>\n",
       "      <th>session_index</th>\n",
       "      <th>device_id</th>\n",
       "      <th>attribute</th>\n",
       "      <th>attribute_value</th>\n",
       "    </tr>\n",
       "  </thead>\n",
       "  <tbody>\n",
       "    <tr>\n",
       "      <th>0</th>\n",
       "      <td>0</td>\n",
       "      <td>4392535094850097365</td>\n",
       "      <td>NaN</td>\n",
       "      <td>NaN</td>\n",
       "      <td>NaN</td>\n",
       "      <td>NaN</td>\n",
       "      <td>NaN</td>\n",
       "      <td>NaN</td>\n",
       "      <td>NaN</td>\n",
       "      <td>NaN</td>\n",
       "      <td>NaN</td>\n",
       "      <td>NaN</td>\n",
       "      <td>NaN</td>\n",
       "      <td>NaN</td>\n",
       "      <td>NaN</td>\n",
       "      <td>NaN</td>\n",
       "      <td>NaN</td>\n",
       "      <td>13</td>\n",
       "      <td>0.0</td>\n",
       "    </tr>\n",
       "    <tr>\n",
       "      <th>1</th>\n",
       "      <td>1</td>\n",
       "      <td>266660243141322578</td>\n",
       "      <td>NaN</td>\n",
       "      <td>NaN</td>\n",
       "      <td>NaN</td>\n",
       "      <td>NaN</td>\n",
       "      <td>NaN</td>\n",
       "      <td>NaN</td>\n",
       "      <td>NaN</td>\n",
       "      <td>NaN</td>\n",
       "      <td>NaN</td>\n",
       "      <td>NaN</td>\n",
       "      <td>NaN</td>\n",
       "      <td>NaN</td>\n",
       "      <td>NaN</td>\n",
       "      <td>NaN</td>\n",
       "      <td>NaN</td>\n",
       "      <td>13</td>\n",
       "      <td>0.0</td>\n",
       "    </tr>\n",
       "    <tr>\n",
       "      <th>2</th>\n",
       "      <td>2</td>\n",
       "      <td>7786193078488883616</td>\n",
       "      <td>1.541084e+12</td>\n",
       "      <td>Asia/Kuala_Lumpur</td>\n",
       "      <td>28800000.0</td>\n",
       "      <td>0.0</td>\n",
       "      <td>1.541084e+12</td>\n",
       "      <td>True</td>\n",
       "      <td>MY</td>\n",
       "      <td>14</td>\n",
       "      <td>kuala lumpur</td>\n",
       "      <td>3.139003</td>\n",
       "      <td>101.686852</td>\n",
       "      <td>en_GB</td>\n",
       "      <td>Android OS</td>\n",
       "      <td>1.0</td>\n",
       "      <td>094aa744-eea2-4db0-a1c7-7bbf08d3e2de</td>\n",
       "      <td>13</td>\n",
       "      <td>0.0</td>\n",
       "    </tr>\n",
       "    <tr>\n",
       "      <th>3</th>\n",
       "      <td>3</td>\n",
       "      <td>2664398413429705038</td>\n",
       "      <td>NaN</td>\n",
       "      <td>NaN</td>\n",
       "      <td>NaN</td>\n",
       "      <td>NaN</td>\n",
       "      <td>NaN</td>\n",
       "      <td>NaN</td>\n",
       "      <td>NaN</td>\n",
       "      <td>NaN</td>\n",
       "      <td>NaN</td>\n",
       "      <td>NaN</td>\n",
       "      <td>NaN</td>\n",
       "      <td>NaN</td>\n",
       "      <td>NaN</td>\n",
       "      <td>NaN</td>\n",
       "      <td>NaN</td>\n",
       "      <td>13</td>\n",
       "      <td>0.0</td>\n",
       "    </tr>\n",
       "    <tr>\n",
       "      <th>4</th>\n",
       "      <td>4</td>\n",
       "      <td>7238754199158869779</td>\n",
       "      <td>NaN</td>\n",
       "      <td>NaN</td>\n",
       "      <td>NaN</td>\n",
       "      <td>NaN</td>\n",
       "      <td>NaN</td>\n",
       "      <td>NaN</td>\n",
       "      <td>NaN</td>\n",
       "      <td>NaN</td>\n",
       "      <td>NaN</td>\n",
       "      <td>NaN</td>\n",
       "      <td>NaN</td>\n",
       "      <td>NaN</td>\n",
       "      <td>NaN</td>\n",
       "      <td>NaN</td>\n",
       "      <td>NaN</td>\n",
       "      <td>13</td>\n",
       "      <td>0.0</td>\n",
       "    </tr>\n",
       "  </tbody>\n",
       "</table>\n",
       "</div>"
      ],
      "text/plain": [
       "   user_id_hash           session_id  start_timestamp           timezone  \\\n",
       "0             0  4392535094850097365              NaN                NaN   \n",
       "1             1   266660243141322578              NaN                NaN   \n",
       "2             2  7786193078488883616     1.541084e+12  Asia/Kuala_Lumpur   \n",
       "3             3  2664398413429705038              NaN                NaN   \n",
       "4             4  7238754199158869779              NaN                NaN   \n",
       "\n",
       "   timezone_offset  previous_sessions_duration  user_created_timestamp  \\\n",
       "0              NaN                         NaN                     NaN   \n",
       "1              NaN                         NaN                     NaN   \n",
       "2       28800000.0                         0.0            1.541084e+12   \n",
       "3              NaN                         NaN                     NaN   \n",
       "4              NaN                         NaN                     NaN   \n",
       "\n",
       "  is_user_first_session country region          city  latitude   longitude  \\\n",
       "0                   NaN     NaN    NaN           NaN       NaN         NaN   \n",
       "1                   NaN     NaN    NaN           NaN       NaN         NaN   \n",
       "2                  True      MY     14  kuala lumpur  3.139003  101.686852   \n",
       "3                   NaN     NaN    NaN           NaN       NaN         NaN   \n",
       "4                   NaN     NaN    NaN           NaN       NaN         NaN   \n",
       "\n",
       "  locale     os_name  session_index                             device_id  \\\n",
       "0    NaN         NaN            NaN                                   NaN   \n",
       "1    NaN         NaN            NaN                                   NaN   \n",
       "2  en_GB  Android OS            1.0  094aa744-eea2-4db0-a1c7-7bbf08d3e2de   \n",
       "3    NaN         NaN            NaN                                   NaN   \n",
       "4    NaN         NaN            NaN                                   NaN   \n",
       "\n",
       "   attribute  attribute_value  \n",
       "0         13              0.0  \n",
       "1         13              0.0  \n",
       "2         13              0.0  \n",
       "3         13              0.0  \n",
       "4         13              0.0  "
      ]
     },
     "execution_count": 82,
     "metadata": {},
     "output_type": "execute_result"
    }
   ],
   "source": [
    "outcome_13_pred = sess_att[sess_att['attribute']==13]\\\n",
    "                    .groupby(['user_id_hash'])\\\n",
    "                    .agg(lambda x: x.iloc[x['start_timestamp'].values.argmax()]).reset_index()\n",
    "outcome_13_pred.head()"
   ]
  },
  {
   "cell_type": "code",
   "execution_count": 83,
   "metadata": {
    "ExecuteTime": {
     "end_time": "2019-03-07T01:38:04.176957Z",
     "start_time": "2019-03-07T01:29:46.518852Z"
    }
   },
   "outputs": [
    {
     "data": {
      "text/html": [
       "<div>\n",
       "<style scoped>\n",
       "    .dataframe tbody tr th:only-of-type {\n",
       "        vertical-align: middle;\n",
       "    }\n",
       "\n",
       "    .dataframe tbody tr th {\n",
       "        vertical-align: top;\n",
       "    }\n",
       "\n",
       "    .dataframe thead th {\n",
       "        text-align: right;\n",
       "    }\n",
       "</style>\n",
       "<table border=\"1\" class=\"dataframe\">\n",
       "  <thead>\n",
       "    <tr style=\"text-align: right;\">\n",
       "      <th></th>\n",
       "      <th>user_id_hash</th>\n",
       "      <th>session_id</th>\n",
       "      <th>start_timestamp</th>\n",
       "      <th>timezone</th>\n",
       "      <th>timezone_offset</th>\n",
       "      <th>previous_sessions_duration</th>\n",
       "      <th>user_created_timestamp</th>\n",
       "      <th>is_user_first_session</th>\n",
       "      <th>country</th>\n",
       "      <th>region</th>\n",
       "      <th>city</th>\n",
       "      <th>latitude</th>\n",
       "      <th>longitude</th>\n",
       "      <th>locale</th>\n",
       "      <th>os_name</th>\n",
       "      <th>session_index</th>\n",
       "      <th>device_id</th>\n",
       "      <th>attribute</th>\n",
       "      <th>attribute_value</th>\n",
       "    </tr>\n",
       "  </thead>\n",
       "  <tbody>\n",
       "    <tr>\n",
       "      <th>0</th>\n",
       "      <td>0</td>\n",
       "      <td>4392535094850097365</td>\n",
       "      <td>NaN</td>\n",
       "      <td>NaN</td>\n",
       "      <td>NaN</td>\n",
       "      <td>NaN</td>\n",
       "      <td>NaN</td>\n",
       "      <td>NaN</td>\n",
       "      <td>NaN</td>\n",
       "      <td>NaN</td>\n",
       "      <td>NaN</td>\n",
       "      <td>NaN</td>\n",
       "      <td>NaN</td>\n",
       "      <td>NaN</td>\n",
       "      <td>NaN</td>\n",
       "      <td>NaN</td>\n",
       "      <td>NaN</td>\n",
       "      <td>14</td>\n",
       "      <td>0.0</td>\n",
       "    </tr>\n",
       "    <tr>\n",
       "      <th>1</th>\n",
       "      <td>1</td>\n",
       "      <td>266660243141322578</td>\n",
       "      <td>NaN</td>\n",
       "      <td>NaN</td>\n",
       "      <td>NaN</td>\n",
       "      <td>NaN</td>\n",
       "      <td>NaN</td>\n",
       "      <td>NaN</td>\n",
       "      <td>NaN</td>\n",
       "      <td>NaN</td>\n",
       "      <td>NaN</td>\n",
       "      <td>NaN</td>\n",
       "      <td>NaN</td>\n",
       "      <td>NaN</td>\n",
       "      <td>NaN</td>\n",
       "      <td>NaN</td>\n",
       "      <td>NaN</td>\n",
       "      <td>14</td>\n",
       "      <td>0.0</td>\n",
       "    </tr>\n",
       "    <tr>\n",
       "      <th>2</th>\n",
       "      <td>2</td>\n",
       "      <td>7786193078488883616</td>\n",
       "      <td>1.541084e+12</td>\n",
       "      <td>Asia/Kuala_Lumpur</td>\n",
       "      <td>28800000.0</td>\n",
       "      <td>0.0</td>\n",
       "      <td>1.541084e+12</td>\n",
       "      <td>True</td>\n",
       "      <td>MY</td>\n",
       "      <td>14</td>\n",
       "      <td>kuala lumpur</td>\n",
       "      <td>3.139003</td>\n",
       "      <td>101.686852</td>\n",
       "      <td>en_GB</td>\n",
       "      <td>Android OS</td>\n",
       "      <td>1.0</td>\n",
       "      <td>094aa744-eea2-4db0-a1c7-7bbf08d3e2de</td>\n",
       "      <td>14</td>\n",
       "      <td>0.0</td>\n",
       "    </tr>\n",
       "    <tr>\n",
       "      <th>3</th>\n",
       "      <td>3</td>\n",
       "      <td>2664398413429705038</td>\n",
       "      <td>NaN</td>\n",
       "      <td>NaN</td>\n",
       "      <td>NaN</td>\n",
       "      <td>NaN</td>\n",
       "      <td>NaN</td>\n",
       "      <td>NaN</td>\n",
       "      <td>NaN</td>\n",
       "      <td>NaN</td>\n",
       "      <td>NaN</td>\n",
       "      <td>NaN</td>\n",
       "      <td>NaN</td>\n",
       "      <td>NaN</td>\n",
       "      <td>NaN</td>\n",
       "      <td>NaN</td>\n",
       "      <td>NaN</td>\n",
       "      <td>14</td>\n",
       "      <td>0.0</td>\n",
       "    </tr>\n",
       "    <tr>\n",
       "      <th>4</th>\n",
       "      <td>4</td>\n",
       "      <td>7238754199158869779</td>\n",
       "      <td>NaN</td>\n",
       "      <td>NaN</td>\n",
       "      <td>NaN</td>\n",
       "      <td>NaN</td>\n",
       "      <td>NaN</td>\n",
       "      <td>NaN</td>\n",
       "      <td>NaN</td>\n",
       "      <td>NaN</td>\n",
       "      <td>NaN</td>\n",
       "      <td>NaN</td>\n",
       "      <td>NaN</td>\n",
       "      <td>NaN</td>\n",
       "      <td>NaN</td>\n",
       "      <td>NaN</td>\n",
       "      <td>NaN</td>\n",
       "      <td>14</td>\n",
       "      <td>0.0</td>\n",
       "    </tr>\n",
       "  </tbody>\n",
       "</table>\n",
       "</div>"
      ],
      "text/plain": [
       "   user_id_hash           session_id  start_timestamp           timezone  \\\n",
       "0             0  4392535094850097365              NaN                NaN   \n",
       "1             1   266660243141322578              NaN                NaN   \n",
       "2             2  7786193078488883616     1.541084e+12  Asia/Kuala_Lumpur   \n",
       "3             3  2664398413429705038              NaN                NaN   \n",
       "4             4  7238754199158869779              NaN                NaN   \n",
       "\n",
       "   timezone_offset  previous_sessions_duration  user_created_timestamp  \\\n",
       "0              NaN                         NaN                     NaN   \n",
       "1              NaN                         NaN                     NaN   \n",
       "2       28800000.0                         0.0            1.541084e+12   \n",
       "3              NaN                         NaN                     NaN   \n",
       "4              NaN                         NaN                     NaN   \n",
       "\n",
       "  is_user_first_session country region          city  latitude   longitude  \\\n",
       "0                   NaN     NaN    NaN           NaN       NaN         NaN   \n",
       "1                   NaN     NaN    NaN           NaN       NaN         NaN   \n",
       "2                  True      MY     14  kuala lumpur  3.139003  101.686852   \n",
       "3                   NaN     NaN    NaN           NaN       NaN         NaN   \n",
       "4                   NaN     NaN    NaN           NaN       NaN         NaN   \n",
       "\n",
       "  locale     os_name  session_index                             device_id  \\\n",
       "0    NaN         NaN            NaN                                   NaN   \n",
       "1    NaN         NaN            NaN                                   NaN   \n",
       "2  en_GB  Android OS            1.0  094aa744-eea2-4db0-a1c7-7bbf08d3e2de   \n",
       "3    NaN         NaN            NaN                                   NaN   \n",
       "4    NaN         NaN            NaN                                   NaN   \n",
       "\n",
       "   attribute  attribute_value  \n",
       "0         14              0.0  \n",
       "1         14              0.0  \n",
       "2         14              0.0  \n",
       "3         14              0.0  \n",
       "4         14              0.0  "
      ]
     },
     "execution_count": 83,
     "metadata": {},
     "output_type": "execute_result"
    }
   ],
   "source": [
    "outcome_14_pred = sess_att[sess_att['attribute']==14]\\\n",
    "                    .groupby(['user_id_hash'])\\\n",
    "                    .agg(lambda x: x.iloc[x['start_timestamp'].values.argmax()]).reset_index()\n",
    "outcome_14_pred.head()"
   ]
  },
  {
   "cell_type": "code",
   "execution_count": 135,
   "metadata": {
    "ExecuteTime": {
     "end_time": "2019-03-06T23:15:44.064452Z",
     "start_time": "2019-03-06T23:15:39.713893Z"
    }
   },
   "outputs": [],
   "source": [
    "outcome_13_pred_mean = sess_att[sess_att['attribute']==13]\\\n",
    "                    .groupby(['user_id_hash'])['attribute_value']\\\n",
    "                    .agg('mean').reset_index()\n",
    "\n",
    "outcome_14_pred_mean = sess_att[sess_att['attribute']==14]\\\n",
    "                    .groupby(['user_id_hash'])['attribute_value']\\\n",
    "                    .agg('mean').reset_index()"
   ]
  },
  {
   "cell_type": "code",
   "execution_count": 84,
   "metadata": {
    "ExecuteTime": {
     "end_time": "2019-03-07T01:38:08.612802Z",
     "start_time": "2019-03-07T01:38:05.875580Z"
    }
   },
   "outputs": [],
   "source": [
    "outcome_13_pred_max = sess_att[sess_att['attribute']==13]\\\n",
    "                    .groupby(['user_id_hash'])['attribute_value']\\\n",
    "                    .agg('max').reset_index()\n",
    "\n",
    "outcome_14_pred_max = sess_att[sess_att['attribute']==14]\\\n",
    "                    .groupby(['user_id_hash'])['attribute_value']\\\n",
    "                    .agg('max').reset_index()"
   ]
  },
  {
   "cell_type": "code",
   "execution_count": 225,
   "metadata": {
    "ExecuteTime": {
     "end_time": "2019-03-07T03:43:25.200821Z",
     "start_time": "2019-03-07T03:43:25.065527Z"
    }
   },
   "outputs": [],
   "source": [
    "# col = sess_att['user_id_hash'].unique()\n",
    "col = the_col\n",
    "final_df = pd.DataFrame(data = col, columns=['user_id_hash'])"
   ]
  },
  {
   "cell_type": "code",
   "execution_count": 226,
   "metadata": {
    "ExecuteTime": {
     "end_time": "2019-03-07T03:43:27.500282Z",
     "start_time": "2019-03-07T03:43:27.495638Z"
    }
   },
   "outputs": [
    {
     "data": {
      "text/plain": [
       "622681"
      ]
     },
     "execution_count": 226,
     "metadata": {},
     "output_type": "execute_result"
    }
   ],
   "source": [
    "len(final_df)"
   ]
  },
  {
   "cell_type": "code",
   "execution_count": 146,
   "metadata": {
    "ExecuteTime": {
     "end_time": "2019-03-07T02:23:59.879342Z",
     "start_time": "2019-03-07T02:22:21.566395Z"
    }
   },
   "outputs": [
    {
     "name": "stdout",
     "output_type": "stream",
     "text": [
      "1856256\n",
      "1421153\n",
      "1015267\n"
     ]
    }
   ],
   "source": [
    "nov_23 = datetime.datetime(2018, 11, 23, 23, 59, 59, 0)\n",
    "nov_30 = datetime.datetime(2018, 11, 30, 23, 59, 59, 0)\n",
    "dec_7 = datetime.datetime(2018, 12, 7, 23, 59, 59, 0)\n",
    "\n",
    "bought_1123_1130 = bought.groupby('user_id_hash')['event_timestamp']\\\n",
    "                        .apply(lambda x: ((x > to_milli(nov_23))&(x < to_milli(nov_30))).sum()).reset_index(name='count')\n",
    "print(sum(bought_1123_1130['count']))\n",
    "\n",
    "bought_1130_1207 = bought.groupby('user_id_hash')['event_timestamp']\\\n",
    "                        .apply(lambda x: ((x > to_milli(nov_30))&(x < to_milli(dec_7))).sum()).reset_index(name='count')\n",
    "print(sum(bought_1130_1207['count']))\n",
    "\n",
    "\n",
    "bought_1207_1214 = bought.groupby('user_id_hash')['event_timestamp']\\\n",
    "                        .apply(lambda x: ((x > to_milli(dec_7))&(x < to_milli(dec_14))).sum()).reset_index(name='count')\n",
    "print(sum(bought_1207_1214['count']))"
   ]
  },
  {
   "cell_type": "code",
   "execution_count": 147,
   "metadata": {
    "ExecuteTime": {
     "end_time": "2019-03-07T02:33:51.692927Z",
     "start_time": "2019-03-07T02:24:01.916946Z"
    }
   },
   "outputs": [
    {
     "name": "stdout",
     "output_type": "stream",
     "text": [
      "6157769\n"
     ]
    }
   ],
   "source": [
    "events_1207_1214 = events.groupby('user_id_hash')['event_timestamp']\\\n",
    "                        .apply(lambda x: ((x > to_milli(dec_7))&(x < to_milli(dec_14))).sum()).reset_index(name='count')\n",
    "print(sum(events_1207_1214['count']))"
   ]
  },
  {
   "cell_type": "code",
   "execution_count": 148,
   "metadata": {
    "ExecuteTime": {
     "end_time": "2019-03-07T02:33:57.287685Z",
     "start_time": "2019-03-07T02:33:54.352674Z"
    }
   },
   "outputs": [],
   "source": [
    "session_after_10_14 = sessions[sessions['start_timestamp']>to_milli(oct_14)]"
   ]
  },
  {
   "cell_type": "code",
   "execution_count": 149,
   "metadata": {
    "ExecuteTime": {
     "end_time": "2019-03-07T02:34:00.572495Z",
     "start_time": "2019-03-07T02:33:59.622536Z"
    }
   },
   "outputs": [
    {
     "data": {
      "text/html": [
       "<div>\n",
       "<style scoped>\n",
       "    .dataframe tbody tr th:only-of-type {\n",
       "        vertical-align: middle;\n",
       "    }\n",
       "\n",
       "    .dataframe tbody tr th {\n",
       "        vertical-align: top;\n",
       "    }\n",
       "\n",
       "    .dataframe thead th {\n",
       "        text-align: right;\n",
       "    }\n",
       "</style>\n",
       "<table border=\"1\" class=\"dataframe\">\n",
       "  <thead>\n",
       "    <tr style=\"text-align: right;\">\n",
       "      <th></th>\n",
       "      <th>user_id_hash</th>\n",
       "      <th>sum</th>\n",
       "      <th>count</th>\n",
       "    </tr>\n",
       "  </thead>\n",
       "  <tbody>\n",
       "    <tr>\n",
       "      <th>0</th>\n",
       "      <td>0</td>\n",
       "      <td>0.0</td>\n",
       "      <td>1</td>\n",
       "    </tr>\n",
       "    <tr>\n",
       "      <th>1</th>\n",
       "      <td>1</td>\n",
       "      <td>0.0</td>\n",
       "      <td>1</td>\n",
       "    </tr>\n",
       "    <tr>\n",
       "      <th>2</th>\n",
       "      <td>2</td>\n",
       "      <td>0.0</td>\n",
       "      <td>1</td>\n",
       "    </tr>\n",
       "    <tr>\n",
       "      <th>3</th>\n",
       "      <td>3</td>\n",
       "      <td>0.0</td>\n",
       "      <td>1</td>\n",
       "    </tr>\n",
       "    <tr>\n",
       "      <th>4</th>\n",
       "      <td>4</td>\n",
       "      <td>0.0</td>\n",
       "      <td>1</td>\n",
       "    </tr>\n",
       "  </tbody>\n",
       "</table>\n",
       "</div>"
      ],
      "text/plain": [
       "   user_id_hash  sum  count\n",
       "0             0  0.0      1\n",
       "1             1  0.0      1\n",
       "2             2  0.0      1\n",
       "3             3  0.0      1\n",
       "4             4  0.0      1"
      ]
     },
     "execution_count": 149,
     "metadata": {},
     "output_type": "execute_result"
    }
   ],
   "source": [
    "user_num_ses_cre_and_tot_ses_time = session_after_10_14.groupby('user_id_hash')['previous_sessions_duration']\\\n",
    "                                                            .agg(['sum','count']).reset_index()\n",
    "\n",
    "user_num_ses_cre_and_tot_ses_time['sum'] = user_num_ses_cre_and_tot_ses_time['sum']/60\n",
    "\n",
    "user_num_ses_cre_and_tot_ses_time.head(5)"
   ]
  },
  {
   "cell_type": "code",
   "execution_count": 150,
   "metadata": {
    "ExecuteTime": {
     "end_time": "2019-03-07T02:34:03.089869Z",
     "start_time": "2019-03-07T02:34:02.859760Z"
    }
   },
   "outputs": [
    {
     "name": "stdout",
     "output_type": "stream",
     "text": [
      "517219\n",
      "517219\n"
     ]
    }
   ],
   "source": [
    "user_num_day_cre = session_after_10_14[['user_id_hash','user_created_timestamp']]\\\n",
    "                    .drop_duplicates(subset='user_id_hash', keep='first')\\\n",
    "                    .reset_index(drop=True)\n",
    "print(len(user_num_day_cre))\n",
    "print(len(user_num_day_cre['user_id_hash'].unique()))"
   ]
  },
  {
   "cell_type": "code",
   "execution_count": 151,
   "metadata": {
    "ExecuteTime": {
     "end_time": "2019-03-07T02:34:05.237388Z",
     "start_time": "2019-03-07T02:34:05.216117Z"
    }
   },
   "outputs": [
    {
     "data": {
      "text/html": [
       "<div>\n",
       "<style scoped>\n",
       "    .dataframe tbody tr th:only-of-type {\n",
       "        vertical-align: middle;\n",
       "    }\n",
       "\n",
       "    .dataframe tbody tr th {\n",
       "        vertical-align: top;\n",
       "    }\n",
       "\n",
       "    .dataframe thead th {\n",
       "        text-align: right;\n",
       "    }\n",
       "</style>\n",
       "<table border=\"1\" class=\"dataframe\">\n",
       "  <thead>\n",
       "    <tr style=\"text-align: right;\">\n",
       "      <th></th>\n",
       "      <th>user_id_hash</th>\n",
       "      <th>user_created_timestamp</th>\n",
       "      <th>num_day_created</th>\n",
       "    </tr>\n",
       "  </thead>\n",
       "  <tbody>\n",
       "    <tr>\n",
       "      <th>0</th>\n",
       "      <td>514036</td>\n",
       "      <td>1538874289458</td>\n",
       "      <td>6.288305</td>\n",
       "    </tr>\n",
       "    <tr>\n",
       "      <th>1</th>\n",
       "      <td>317277</td>\n",
       "      <td>1541886003916</td>\n",
       "      <td>6.430499</td>\n",
       "    </tr>\n",
       "    <tr>\n",
       "      <th>2</th>\n",
       "      <td>11171</td>\n",
       "      <td>1539830331932</td>\n",
       "      <td>2.222998</td>\n",
       "    </tr>\n",
       "  </tbody>\n",
       "</table>\n",
       "</div>"
      ],
      "text/plain": [
       "   user_id_hash  user_created_timestamp  num_day_created\n",
       "0        514036           1538874289458         6.288305\n",
       "1        317277           1541886003916         6.430499\n",
       "2         11171           1539830331932         2.222998"
      ]
     },
     "execution_count": 151,
     "metadata": {},
     "output_type": "execute_result"
    }
   ],
   "source": [
    "user_num_day_cre['num_day_created'] = ((to_milli(dec_14)-user_num_day_cre['user_created_timestamp'])/(1000*60*60*24)) % 7\n",
    "user_num_day_cre.head(3)"
   ]
  },
  {
   "cell_type": "code",
   "execution_count": 152,
   "metadata": {
    "ExecuteTime": {
     "end_time": "2019-03-07T02:34:07.696097Z",
     "start_time": "2019-03-07T02:34:07.470492Z"
    }
   },
   "outputs": [
    {
     "data": {
      "text/html": [
       "<div>\n",
       "<style scoped>\n",
       "    .dataframe tbody tr th:only-of-type {\n",
       "        vertical-align: middle;\n",
       "    }\n",
       "\n",
       "    .dataframe tbody tr th {\n",
       "        vertical-align: top;\n",
       "    }\n",
       "\n",
       "    .dataframe thead th {\n",
       "        text-align: right;\n",
       "    }\n",
       "</style>\n",
       "<table border=\"1\" class=\"dataframe\">\n",
       "  <thead>\n",
       "    <tr style=\"text-align: right;\">\n",
       "      <th></th>\n",
       "      <th>user_id_hash</th>\n",
       "      <th>sum</th>\n",
       "      <th>count</th>\n",
       "      <th>num_day_created</th>\n",
       "    </tr>\n",
       "  </thead>\n",
       "  <tbody>\n",
       "    <tr>\n",
       "      <th>0</th>\n",
       "      <td>0</td>\n",
       "      <td>0.0</td>\n",
       "      <td>1</td>\n",
       "      <td>6.793792</td>\n",
       "    </tr>\n",
       "    <tr>\n",
       "      <th>1</th>\n",
       "      <td>1</td>\n",
       "      <td>0.0</td>\n",
       "      <td>1</td>\n",
       "      <td>1.642547</td>\n",
       "    </tr>\n",
       "    <tr>\n",
       "      <th>2</th>\n",
       "      <td>2</td>\n",
       "      <td>0.0</td>\n",
       "      <td>1</td>\n",
       "      <td>1.717589</td>\n",
       "    </tr>\n",
       "  </tbody>\n",
       "</table>\n",
       "</div>"
      ],
      "text/plain": [
       "   user_id_hash  sum  count  num_day_created\n",
       "0             0  0.0      1         6.793792\n",
       "1             1  0.0      1         1.642547\n",
       "2             2  0.0      1         1.717589"
      ]
     },
     "execution_count": 152,
     "metadata": {},
     "output_type": "execute_result"
    }
   ],
   "source": [
    "user_ave = user_num_ses_cre_and_tot_ses_time.merge(user_num_day_cre, left_on='user_id_hash', right_on='user_id_hash')\n",
    "user_ave = user_ave.drop(['user_created_timestamp'],axis=1)\n",
    "user_ave.head(3)"
   ]
  },
  {
   "cell_type": "code",
   "execution_count": 153,
   "metadata": {
    "ExecuteTime": {
     "end_time": "2019-03-07T02:34:10.119003Z",
     "start_time": "2019-03-07T02:34:10.092898Z"
    }
   },
   "outputs": [
    {
     "data": {
      "text/html": [
       "<div>\n",
       "<style scoped>\n",
       "    .dataframe tbody tr th:only-of-type {\n",
       "        vertical-align: middle;\n",
       "    }\n",
       "\n",
       "    .dataframe tbody tr th {\n",
       "        vertical-align: top;\n",
       "    }\n",
       "\n",
       "    .dataframe thead th {\n",
       "        text-align: right;\n",
       "    }\n",
       "</style>\n",
       "<table border=\"1\" class=\"dataframe\">\n",
       "  <thead>\n",
       "    <tr style=\"text-align: right;\">\n",
       "      <th></th>\n",
       "      <th>user_id_hash</th>\n",
       "      <th>sum</th>\n",
       "      <th>count</th>\n",
       "      <th>num_day_created</th>\n",
       "      <th>average_minutes</th>\n",
       "      <th>average_counts</th>\n",
       "    </tr>\n",
       "  </thead>\n",
       "  <tbody>\n",
       "    <tr>\n",
       "      <th>0</th>\n",
       "      <td>0</td>\n",
       "      <td>0.0</td>\n",
       "      <td>1</td>\n",
       "      <td>6.793792</td>\n",
       "      <td>0.0</td>\n",
       "      <td>0.147193</td>\n",
       "    </tr>\n",
       "    <tr>\n",
       "      <th>1</th>\n",
       "      <td>1</td>\n",
       "      <td>0.0</td>\n",
       "      <td>1</td>\n",
       "      <td>1.642547</td>\n",
       "      <td>0.0</td>\n",
       "      <td>0.608810</td>\n",
       "    </tr>\n",
       "    <tr>\n",
       "      <th>2</th>\n",
       "      <td>2</td>\n",
       "      <td>0.0</td>\n",
       "      <td>1</td>\n",
       "      <td>1.717589</td>\n",
       "      <td>0.0</td>\n",
       "      <td>0.582211</td>\n",
       "    </tr>\n",
       "  </tbody>\n",
       "</table>\n",
       "</div>"
      ],
      "text/plain": [
       "   user_id_hash  sum  count  num_day_created  average_minutes  average_counts\n",
       "0             0  0.0      1         6.793792              0.0        0.147193\n",
       "1             1  0.0      1         1.642547              0.0        0.608810\n",
       "2             2  0.0      1         1.717589              0.0        0.582211"
      ]
     },
     "execution_count": 153,
     "metadata": {},
     "output_type": "execute_result"
    }
   ],
   "source": [
    "user_ave['average_minutes'] = user_ave['sum']/user_ave['num_day_created']\n",
    "user_ave['average_counts'] = user_ave['count']/user_ave['num_day_created']\n",
    "user_ave.head(3)"
   ]
  },
  {
   "cell_type": "code",
   "execution_count": 154,
   "metadata": {
    "ExecuteTime": {
     "end_time": "2019-03-07T02:34:12.621945Z",
     "start_time": "2019-03-07T02:34:12.591233Z"
    }
   },
   "outputs": [
    {
     "data": {
      "text/html": [
       "<div>\n",
       "<style scoped>\n",
       "    .dataframe tbody tr th:only-of-type {\n",
       "        vertical-align: middle;\n",
       "    }\n",
       "\n",
       "    .dataframe tbody tr th {\n",
       "        vertical-align: top;\n",
       "    }\n",
       "\n",
       "    .dataframe thead th {\n",
       "        text-align: right;\n",
       "    }\n",
       "</style>\n",
       "<table border=\"1\" class=\"dataframe\">\n",
       "  <thead>\n",
       "    <tr style=\"text-align: right;\">\n",
       "      <th></th>\n",
       "      <th>user_id_hash</th>\n",
       "      <th>num_day_created</th>\n",
       "      <th>average_minutes</th>\n",
       "      <th>average_counts</th>\n",
       "    </tr>\n",
       "  </thead>\n",
       "  <tbody>\n",
       "    <tr>\n",
       "      <th>0</th>\n",
       "      <td>0</td>\n",
       "      <td>6.793792</td>\n",
       "      <td>0.0</td>\n",
       "      <td>0.147193</td>\n",
       "    </tr>\n",
       "    <tr>\n",
       "      <th>1</th>\n",
       "      <td>1</td>\n",
       "      <td>1.642547</td>\n",
       "      <td>0.0</td>\n",
       "      <td>0.608810</td>\n",
       "    </tr>\n",
       "    <tr>\n",
       "      <th>2</th>\n",
       "      <td>2</td>\n",
       "      <td>1.717589</td>\n",
       "      <td>0.0</td>\n",
       "      <td>0.582211</td>\n",
       "    </tr>\n",
       "  </tbody>\n",
       "</table>\n",
       "</div>"
      ],
      "text/plain": [
       "   user_id_hash  num_day_created  average_minutes  average_counts\n",
       "0             0         6.793792              0.0        0.147193\n",
       "1             1         1.642547              0.0        0.608810\n",
       "2             2         1.717589              0.0        0.582211"
      ]
     },
     "execution_count": 154,
     "metadata": {},
     "output_type": "execute_result"
    }
   ],
   "source": [
    "user_ave = user_ave.drop(['sum','count'], axis=1)\n",
    "user_ave.head(3)"
   ]
  },
  {
   "cell_type": "code",
   "execution_count": 227,
   "metadata": {
    "ExecuteTime": {
     "end_time": "2019-03-07T03:43:45.166042Z",
     "start_time": "2019-03-07T03:43:42.191036Z"
    }
   },
   "outputs": [
    {
     "data": {
      "text/html": [
       "<div>\n",
       "<style scoped>\n",
       "    .dataframe tbody tr th:only-of-type {\n",
       "        vertical-align: middle;\n",
       "    }\n",
       "\n",
       "    .dataframe tbody tr th {\n",
       "        vertical-align: top;\n",
       "    }\n",
       "\n",
       "    .dataframe thead th {\n",
       "        text-align: right;\n",
       "    }\n",
       "</style>\n",
       "<table border=\"1\" class=\"dataframe\">\n",
       "  <thead>\n",
       "    <tr style=\"text-align: right;\">\n",
       "      <th></th>\n",
       "      <th>user_id_hash</th>\n",
       "      <th>attribute_value_13_max</th>\n",
       "      <th>attribute_value_14_max</th>\n",
       "      <th>count_1111_1118</th>\n",
       "      <th>count_1118_1125</th>\n",
       "      <th>count_1125_1201</th>\n",
       "      <th>event_1125_1201</th>\n",
       "      <th>num_day_created</th>\n",
       "      <th>average_minutes</th>\n",
       "      <th>average_counts</th>\n",
       "    </tr>\n",
       "  </thead>\n",
       "  <tbody>\n",
       "    <tr>\n",
       "      <th>0</th>\n",
       "      <td>0</td>\n",
       "      <td>0.0</td>\n",
       "      <td>0.0</td>\n",
       "      <td>0.0</td>\n",
       "      <td>0.0</td>\n",
       "      <td>0.0</td>\n",
       "      <td>0.0</td>\n",
       "      <td>6.793792</td>\n",
       "      <td>0.0</td>\n",
       "      <td>0.147193</td>\n",
       "    </tr>\n",
       "    <tr>\n",
       "      <th>1</th>\n",
       "      <td>1</td>\n",
       "      <td>0.0</td>\n",
       "      <td>0.0</td>\n",
       "      <td>0.0</td>\n",
       "      <td>0.0</td>\n",
       "      <td>0.0</td>\n",
       "      <td>0.0</td>\n",
       "      <td>1.642547</td>\n",
       "      <td>0.0</td>\n",
       "      <td>0.608810</td>\n",
       "    </tr>\n",
       "    <tr>\n",
       "      <th>2</th>\n",
       "      <td>2</td>\n",
       "      <td>0.0</td>\n",
       "      <td>0.0</td>\n",
       "      <td>0.0</td>\n",
       "      <td>0.0</td>\n",
       "      <td>0.0</td>\n",
       "      <td>0.0</td>\n",
       "      <td>1.717589</td>\n",
       "      <td>0.0</td>\n",
       "      <td>0.582211</td>\n",
       "    </tr>\n",
       "    <tr>\n",
       "      <th>3</th>\n",
       "      <td>3</td>\n",
       "      <td>0.0</td>\n",
       "      <td>0.0</td>\n",
       "      <td>0.0</td>\n",
       "      <td>0.0</td>\n",
       "      <td>0.0</td>\n",
       "      <td>0.0</td>\n",
       "      <td>2.680869</td>\n",
       "      <td>0.0</td>\n",
       "      <td>0.373013</td>\n",
       "    </tr>\n",
       "    <tr>\n",
       "      <th>4</th>\n",
       "      <td>4</td>\n",
       "      <td>0.0</td>\n",
       "      <td>0.0</td>\n",
       "      <td>0.0</td>\n",
       "      <td>0.0</td>\n",
       "      <td>0.0</td>\n",
       "      <td>0.0</td>\n",
       "      <td>0.207004</td>\n",
       "      <td>0.0</td>\n",
       "      <td>4.830819</td>\n",
       "    </tr>\n",
       "  </tbody>\n",
       "</table>\n",
       "</div>"
      ],
      "text/plain": [
       "   user_id_hash  attribute_value_13_max  attribute_value_14_max  \\\n",
       "0             0                     0.0                     0.0   \n",
       "1             1                     0.0                     0.0   \n",
       "2             2                     0.0                     0.0   \n",
       "3             3                     0.0                     0.0   \n",
       "4             4                     0.0                     0.0   \n",
       "\n",
       "   count_1111_1118  count_1118_1125  count_1125_1201  event_1125_1201  \\\n",
       "0              0.0              0.0              0.0              0.0   \n",
       "1              0.0              0.0              0.0              0.0   \n",
       "2              0.0              0.0              0.0              0.0   \n",
       "3              0.0              0.0              0.0              0.0   \n",
       "4              0.0              0.0              0.0              0.0   \n",
       "\n",
       "   num_day_created  average_minutes  average_counts  \n",
       "0         6.793792              0.0        0.147193  \n",
       "1         1.642547              0.0        0.608810  \n",
       "2         1.717589              0.0        0.582211  \n",
       "3         2.680869              0.0        0.373013  \n",
       "4         0.207004              0.0        4.830819  "
      ]
     },
     "execution_count": 227,
     "metadata": {},
     "output_type": "execute_result"
    }
   ],
   "source": [
    "# final_df = pd.merge(final_df, outcome_13_pred[['user_id_hash','attribute_value']], \\\n",
    "#                       how='left', left_on='user_id_hash',right_on='user_id_hash')\n",
    "# final_df = final_df.rename(index=str, columns={\"attribute_value\": \"attribute_value_13\"})\n",
    "\n",
    "# final_df = pd.merge(final_df, outcome_14_pred[['user_id_hash','attribute_value']], \\\n",
    "#                       how='left', left_on='user_id_hash',right_on='user_id_hash')\n",
    "# final_df = final_df.rename(index=str, columns={\"attribute_value\": \"attribute_value_14\"})\n",
    "\n",
    "final_df = pd.merge(final_df, outcome_13_pred_max[['user_id_hash','attribute_value']], \\\n",
    "                      how='left', left_on='user_id_hash',right_on='user_id_hash')\n",
    "final_df = final_df.rename(index=str, columns={\"attribute_value\": \"attribute_value_13_max\"})\n",
    "\n",
    "final_df = pd.merge(final_df, outcome_14_pred_max[['user_id_hash','attribute_value']], \\\n",
    "                      how='left', left_on='user_id_hash',right_on='user_id_hash')\n",
    "final_df = final_df.rename(index=str, columns={\"attribute_value\": \"attribute_value_14_max\"})\n",
    "\n",
    "final_df = pd.merge(final_df, bought_1123_1130, \\\n",
    "                      how='left', left_on='user_id_hash',right_on='user_id_hash')\n",
    "final_df = final_df.rename(index=str, columns={\"count\": \"count_1111_1118\"})\n",
    "\n",
    "final_df = pd.merge(final_df, bought_1130_1207, \\\n",
    "                      how='left', left_on='user_id_hash',right_on='user_id_hash')\n",
    "final_df = final_df.rename(index=str, columns={\"count\": \"count_1118_1125\"})\n",
    "\n",
    "final_df = pd.merge(final_df, bought_1207_1214, \\\n",
    "                      how='left', left_on='user_id_hash',right_on='user_id_hash')\n",
    "final_df = final_df.rename(index=str, columns={\"count\": \"count_1125_1201\"})\n",
    "\n",
    "final_df = pd.merge(final_df, events_1207_1214, \\\n",
    "                      how='left', left_on='user_id_hash',right_on='user_id_hash')\n",
    "final_df = final_df.rename(index=str, columns={\"count\": \"event_1125_1201\"})\n",
    "\n",
    "final_df = pd.merge(final_df, user_ave, \\\n",
    "                      how='left', left_on='user_id_hash',right_on='user_id_hash')\n",
    "\n",
    "final_df = final_df.fillna(0)\n",
    "final_df.head()"
   ]
  },
  {
   "cell_type": "code",
   "execution_count": 175,
   "metadata": {
    "ExecuteTime": {
     "end_time": "2019-03-07T02:39:57.244195Z",
     "start_time": "2019-03-07T02:39:57.235225Z"
    }
   },
   "outputs": [],
   "source": [
    "# final_df['attribute_value_13'] = final_df['attribute_value_13'].apply(lambda x: float(x))\n",
    "# final_df['attribute_value_14'] = final_df['attribute_value_14'].apply(lambda x: float(x))"
   ]
  },
  {
   "cell_type": "code",
   "execution_count": 228,
   "metadata": {
    "ExecuteTime": {
     "end_time": "2019-03-07T03:43:49.605406Z",
     "start_time": "2019-03-07T03:43:48.494708Z"
    }
   },
   "outputs": [],
   "source": [
    "final_df['pred_7'] = clf_dec1_7.predict_proba(final_df.iloc[:,1:])[:,1]\n",
    "final_df['pred_14'] = clf_dec1_14.predict_proba(final_df.iloc[:,1:-1])[:,1]"
   ]
  },
  {
   "cell_type": "code",
   "execution_count": 229,
   "metadata": {
    "ExecuteTime": {
     "end_time": "2019-03-07T03:43:52.103647Z",
     "start_time": "2019-03-07T03:43:52.086381Z"
    }
   },
   "outputs": [
    {
     "data": {
      "text/html": [
       "<div>\n",
       "<style scoped>\n",
       "    .dataframe tbody tr th:only-of-type {\n",
       "        vertical-align: middle;\n",
       "    }\n",
       "\n",
       "    .dataframe tbody tr th {\n",
       "        vertical-align: top;\n",
       "    }\n",
       "\n",
       "    .dataframe thead th {\n",
       "        text-align: right;\n",
       "    }\n",
       "</style>\n",
       "<table border=\"1\" class=\"dataframe\">\n",
       "  <thead>\n",
       "    <tr style=\"text-align: right;\">\n",
       "      <th></th>\n",
       "      <th>user_id_hash</th>\n",
       "      <th>attribute_value_13_max</th>\n",
       "      <th>attribute_value_14_max</th>\n",
       "      <th>count_1111_1118</th>\n",
       "      <th>count_1118_1125</th>\n",
       "      <th>count_1125_1201</th>\n",
       "      <th>event_1125_1201</th>\n",
       "      <th>num_day_created</th>\n",
       "      <th>average_minutes</th>\n",
       "      <th>average_counts</th>\n",
       "      <th>pred_7</th>\n",
       "      <th>pred_14</th>\n",
       "    </tr>\n",
       "  </thead>\n",
       "  <tbody>\n",
       "    <tr>\n",
       "      <th>0</th>\n",
       "      <td>0</td>\n",
       "      <td>0.0</td>\n",
       "      <td>0.0</td>\n",
       "      <td>0.0</td>\n",
       "      <td>0.0</td>\n",
       "      <td>0.0</td>\n",
       "      <td>0.0</td>\n",
       "      <td>6.793792</td>\n",
       "      <td>0.0</td>\n",
       "      <td>0.147193</td>\n",
       "      <td>0.000084</td>\n",
       "      <td>0.000206</td>\n",
       "    </tr>\n",
       "    <tr>\n",
       "      <th>1</th>\n",
       "      <td>1</td>\n",
       "      <td>0.0</td>\n",
       "      <td>0.0</td>\n",
       "      <td>0.0</td>\n",
       "      <td>0.0</td>\n",
       "      <td>0.0</td>\n",
       "      <td>0.0</td>\n",
       "      <td>1.642547</td>\n",
       "      <td>0.0</td>\n",
       "      <td>0.608810</td>\n",
       "      <td>0.000126</td>\n",
       "      <td>0.000280</td>\n",
       "    </tr>\n",
       "    <tr>\n",
       "      <th>2</th>\n",
       "      <td>2</td>\n",
       "      <td>0.0</td>\n",
       "      <td>0.0</td>\n",
       "      <td>0.0</td>\n",
       "      <td>0.0</td>\n",
       "      <td>0.0</td>\n",
       "      <td>0.0</td>\n",
       "      <td>1.717589</td>\n",
       "      <td>0.0</td>\n",
       "      <td>0.582211</td>\n",
       "      <td>0.000126</td>\n",
       "      <td>0.000280</td>\n",
       "    </tr>\n",
       "    <tr>\n",
       "      <th>3</th>\n",
       "      <td>3</td>\n",
       "      <td>0.0</td>\n",
       "      <td>0.0</td>\n",
       "      <td>0.0</td>\n",
       "      <td>0.0</td>\n",
       "      <td>0.0</td>\n",
       "      <td>0.0</td>\n",
       "      <td>2.680869</td>\n",
       "      <td>0.0</td>\n",
       "      <td>0.373013</td>\n",
       "      <td>0.000134</td>\n",
       "      <td>0.000280</td>\n",
       "    </tr>\n",
       "    <tr>\n",
       "      <th>4</th>\n",
       "      <td>4</td>\n",
       "      <td>0.0</td>\n",
       "      <td>0.0</td>\n",
       "      <td>0.0</td>\n",
       "      <td>0.0</td>\n",
       "      <td>0.0</td>\n",
       "      <td>0.0</td>\n",
       "      <td>0.207004</td>\n",
       "      <td>0.0</td>\n",
       "      <td>4.830819</td>\n",
       "      <td>0.000115</td>\n",
       "      <td>0.000289</td>\n",
       "    </tr>\n",
       "  </tbody>\n",
       "</table>\n",
       "</div>"
      ],
      "text/plain": [
       "   user_id_hash  attribute_value_13_max  attribute_value_14_max  \\\n",
       "0             0                     0.0                     0.0   \n",
       "1             1                     0.0                     0.0   \n",
       "2             2                     0.0                     0.0   \n",
       "3             3                     0.0                     0.0   \n",
       "4             4                     0.0                     0.0   \n",
       "\n",
       "   count_1111_1118  count_1118_1125  count_1125_1201  event_1125_1201  \\\n",
       "0              0.0              0.0              0.0              0.0   \n",
       "1              0.0              0.0              0.0              0.0   \n",
       "2              0.0              0.0              0.0              0.0   \n",
       "3              0.0              0.0              0.0              0.0   \n",
       "4              0.0              0.0              0.0              0.0   \n",
       "\n",
       "   num_day_created  average_minutes  average_counts    pred_7   pred_14  \n",
       "0         6.793792              0.0        0.147193  0.000084  0.000206  \n",
       "1         1.642547              0.0        0.608810  0.000126  0.000280  \n",
       "2         1.717589              0.0        0.582211  0.000126  0.000280  \n",
       "3         2.680869              0.0        0.373013  0.000134  0.000280  \n",
       "4         0.207004              0.0        4.830819  0.000115  0.000289  "
      ]
     },
     "execution_count": 229,
     "metadata": {},
     "output_type": "execute_result"
    }
   ],
   "source": [
    "final_df.head()"
   ]
  },
  {
   "cell_type": "code",
   "execution_count": 230,
   "metadata": {
    "ExecuteTime": {
     "end_time": "2019-03-07T03:43:54.648459Z",
     "start_time": "2019-03-07T03:43:54.579578Z"
    }
   },
   "outputs": [],
   "source": [
    "answer = final_df[['user_id_hash','pred_7','pred_14']]"
   ]
  },
  {
   "cell_type": "code",
   "execution_count": null,
   "metadata": {},
   "outputs": [],
   "source": []
  },
  {
   "cell_type": "markdown",
   "metadata": {},
   "source": [
    "### Prediction"
   ]
  },
  {
   "cell_type": "code",
   "execution_count": 231,
   "metadata": {
    "ExecuteTime": {
     "end_time": "2019-03-07T03:43:57.535229Z",
     "start_time": "2019-03-07T03:43:56.959388Z"
    }
   },
   "outputs": [
    {
     "data": {
      "text/html": [
       "<div>\n",
       "<style scoped>\n",
       "    .dataframe tbody tr th:only-of-type {\n",
       "        vertical-align: middle;\n",
       "    }\n",
       "\n",
       "    .dataframe tbody tr th {\n",
       "        vertical-align: top;\n",
       "    }\n",
       "\n",
       "    .dataframe thead th {\n",
       "        text-align: right;\n",
       "    }\n",
       "</style>\n",
       "<table border=\"1\" class=\"dataframe\">\n",
       "  <thead>\n",
       "    <tr style=\"text-align: right;\">\n",
       "      <th></th>\n",
       "      <th>user_id_hash</th>\n",
       "      <th>user_purchase_binary_7_days</th>\n",
       "      <th>user_purchase_binary_14_days</th>\n",
       "    </tr>\n",
       "  </thead>\n",
       "  <tbody>\n",
       "    <tr>\n",
       "      <th>0</th>\n",
       "      <td>e469dfaed039ead9110165d9bc457acb11609ca34057dc...</td>\n",
       "      <td>0.01</td>\n",
       "      <td>0.02</td>\n",
       "    </tr>\n",
       "    <tr>\n",
       "      <th>1</th>\n",
       "      <td>afcc639a324b6c598ef83d360450afa011cb2dd1358bf9...</td>\n",
       "      <td>0.01</td>\n",
       "      <td>0.02</td>\n",
       "    </tr>\n",
       "    <tr>\n",
       "      <th>2</th>\n",
       "      <td>fd5a7cf211d08e3e00f7be6a9df6e6ea3d2e5c22a5d9c3...</td>\n",
       "      <td>0.01</td>\n",
       "      <td>0.02</td>\n",
       "    </tr>\n",
       "  </tbody>\n",
       "</table>\n",
       "</div>"
      ],
      "text/plain": [
       "                                        user_id_hash  \\\n",
       "0  e469dfaed039ead9110165d9bc457acb11609ca34057dc...   \n",
       "1  afcc639a324b6c598ef83d360450afa011cb2dd1358bf9...   \n",
       "2  fd5a7cf211d08e3e00f7be6a9df6e6ea3d2e5c22a5d9c3...   \n",
       "\n",
       "   user_purchase_binary_7_days  user_purchase_binary_14_days  \n",
       "0                         0.01                          0.02  \n",
       "1                         0.01                          0.02  \n",
       "2                         0.01                          0.02  "
      ]
     },
     "execution_count": 231,
     "metadata": {},
     "output_type": "execute_result"
    }
   ],
   "source": [
    "submission = pd.read_csv('sample_submission_2.csv')\n",
    "submission.head(3)"
   ]
  },
  {
   "cell_type": "code",
   "execution_count": 232,
   "metadata": {
    "ExecuteTime": {
     "end_time": "2019-03-07T03:44:00.053270Z",
     "start_time": "2019-03-07T03:44:00.050721Z"
    }
   },
   "outputs": [],
   "source": [
    "def tryconvert(value):\n",
    "    try:\n",
    "        return name2idx[value]\n",
    "    except KeyError:\n",
    "        return value"
   ]
  },
  {
   "cell_type": "code",
   "execution_count": 233,
   "metadata": {
    "ExecuteTime": {
     "end_time": "2019-03-07T03:44:02.620307Z",
     "start_time": "2019-03-07T03:44:02.193230Z"
    }
   },
   "outputs": [
    {
     "data": {
      "text/html": [
       "<div>\n",
       "<style scoped>\n",
       "    .dataframe tbody tr th:only-of-type {\n",
       "        vertical-align: middle;\n",
       "    }\n",
       "\n",
       "    .dataframe tbody tr th {\n",
       "        vertical-align: top;\n",
       "    }\n",
       "\n",
       "    .dataframe thead th {\n",
       "        text-align: right;\n",
       "    }\n",
       "</style>\n",
       "<table border=\"1\" class=\"dataframe\">\n",
       "  <thead>\n",
       "    <tr style=\"text-align: right;\">\n",
       "      <th></th>\n",
       "      <th>user_id_hash</th>\n",
       "      <th>user_purchase_binary_7_days</th>\n",
       "      <th>user_purchase_binary_14_days</th>\n",
       "      <th>user</th>\n",
       "    </tr>\n",
       "  </thead>\n",
       "  <tbody>\n",
       "    <tr>\n",
       "      <th>0</th>\n",
       "      <td>e469dfaed039ead9110165d9bc457acb11609ca34057dc...</td>\n",
       "      <td>0.01</td>\n",
       "      <td>0.02</td>\n",
       "      <td>332490</td>\n",
       "    </tr>\n",
       "    <tr>\n",
       "      <th>1</th>\n",
       "      <td>afcc639a324b6c598ef83d360450afa011cb2dd1358bf9...</td>\n",
       "      <td>0.01</td>\n",
       "      <td>0.02</td>\n",
       "      <td>590690</td>\n",
       "    </tr>\n",
       "    <tr>\n",
       "      <th>2</th>\n",
       "      <td>fd5a7cf211d08e3e00f7be6a9df6e6ea3d2e5c22a5d9c3...</td>\n",
       "      <td>0.01</td>\n",
       "      <td>0.02</td>\n",
       "      <td>163489</td>\n",
       "    </tr>\n",
       "  </tbody>\n",
       "</table>\n",
       "</div>"
      ],
      "text/plain": [
       "                                        user_id_hash  \\\n",
       "0  e469dfaed039ead9110165d9bc457acb11609ca34057dc...   \n",
       "1  afcc639a324b6c598ef83d360450afa011cb2dd1358bf9...   \n",
       "2  fd5a7cf211d08e3e00f7be6a9df6e6ea3d2e5c22a5d9c3...   \n",
       "\n",
       "   user_purchase_binary_7_days  user_purchase_binary_14_days    user  \n",
       "0                         0.01                          0.02  332490  \n",
       "1                         0.01                          0.02  590690  \n",
       "2                         0.01                          0.02  163489  "
      ]
     },
     "execution_count": 233,
     "metadata": {},
     "output_type": "execute_result"
    }
   ],
   "source": [
    "submission['user'] = submission['user_id_hash'].apply(lambda x: tryconvert(x))\n",
    "submission.head(3)"
   ]
  },
  {
   "cell_type": "code",
   "execution_count": 234,
   "metadata": {
    "ExecuteTime": {
     "end_time": "2019-03-07T03:44:05.287480Z",
     "start_time": "2019-03-07T03:44:05.036661Z"
    }
   },
   "outputs": [
    {
     "data": {
      "text/html": [
       "<div>\n",
       "<style scoped>\n",
       "    .dataframe tbody tr th:only-of-type {\n",
       "        vertical-align: middle;\n",
       "    }\n",
       "\n",
       "    .dataframe tbody tr th {\n",
       "        vertical-align: top;\n",
       "    }\n",
       "\n",
       "    .dataframe thead th {\n",
       "        text-align: right;\n",
       "    }\n",
       "</style>\n",
       "<table border=\"1\" class=\"dataframe\">\n",
       "  <thead>\n",
       "    <tr style=\"text-align: right;\">\n",
       "      <th></th>\n",
       "      <th>user</th>\n",
       "      <th>pred_7</th>\n",
       "      <th>pred_14</th>\n",
       "    </tr>\n",
       "  </thead>\n",
       "  <tbody>\n",
       "    <tr>\n",
       "      <th>0</th>\n",
       "      <td>0</td>\n",
       "      <td>0.000084</td>\n",
       "      <td>0.000206</td>\n",
       "    </tr>\n",
       "    <tr>\n",
       "      <th>1</th>\n",
       "      <td>1</td>\n",
       "      <td>0.000126</td>\n",
       "      <td>0.000280</td>\n",
       "    </tr>\n",
       "    <tr>\n",
       "      <th>2</th>\n",
       "      <td>2</td>\n",
       "      <td>0.000126</td>\n",
       "      <td>0.000280</td>\n",
       "    </tr>\n",
       "  </tbody>\n",
       "</table>\n",
       "</div>"
      ],
      "text/plain": [
       "   user    pred_7   pred_14\n",
       "0     0  0.000084  0.000206\n",
       "1     1  0.000126  0.000280\n",
       "2     2  0.000126  0.000280"
      ]
     },
     "execution_count": 234,
     "metadata": {},
     "output_type": "execute_result"
    }
   ],
   "source": [
    "answer = answer.rename(index=str, columns={\"user_id_hash\": \"user\"})\n",
    "answer.head(3)"
   ]
  },
  {
   "cell_type": "code",
   "execution_count": 235,
   "metadata": {
    "ExecuteTime": {
     "end_time": "2019-03-07T03:44:07.839343Z",
     "start_time": "2019-03-07T03:44:07.581035Z"
    }
   },
   "outputs": [
    {
     "data": {
      "text/html": [
       "<div>\n",
       "<style scoped>\n",
       "    .dataframe tbody tr th:only-of-type {\n",
       "        vertical-align: middle;\n",
       "    }\n",
       "\n",
       "    .dataframe tbody tr th {\n",
       "        vertical-align: top;\n",
       "    }\n",
       "\n",
       "    .dataframe thead th {\n",
       "        text-align: right;\n",
       "    }\n",
       "</style>\n",
       "<table border=\"1\" class=\"dataframe\">\n",
       "  <thead>\n",
       "    <tr style=\"text-align: right;\">\n",
       "      <th></th>\n",
       "      <th>user_id_hash</th>\n",
       "      <th>user_purchase_binary_7_days</th>\n",
       "      <th>user_purchase_binary_14_days</th>\n",
       "      <th>user</th>\n",
       "      <th>pred_7</th>\n",
       "      <th>pred_14</th>\n",
       "    </tr>\n",
       "  </thead>\n",
       "  <tbody>\n",
       "    <tr>\n",
       "      <th>0</th>\n",
       "      <td>e469dfaed039ead9110165d9bc457acb11609ca34057dc...</td>\n",
       "      <td>0.01</td>\n",
       "      <td>0.02</td>\n",
       "      <td>332490</td>\n",
       "      <td>0.000428</td>\n",
       "      <td>0.000952</td>\n",
       "    </tr>\n",
       "    <tr>\n",
       "      <th>1</th>\n",
       "      <td>afcc639a324b6c598ef83d360450afa011cb2dd1358bf9...</td>\n",
       "      <td>0.01</td>\n",
       "      <td>0.02</td>\n",
       "      <td>590690</td>\n",
       "      <td>0.000715</td>\n",
       "      <td>0.001404</td>\n",
       "    </tr>\n",
       "    <tr>\n",
       "      <th>2</th>\n",
       "      <td>fd5a7cf211d08e3e00f7be6a9df6e6ea3d2e5c22a5d9c3...</td>\n",
       "      <td>0.01</td>\n",
       "      <td>0.02</td>\n",
       "      <td>163489</td>\n",
       "      <td>0.000185</td>\n",
       "      <td>0.000389</td>\n",
       "    </tr>\n",
       "  </tbody>\n",
       "</table>\n",
       "</div>"
      ],
      "text/plain": [
       "                                        user_id_hash  \\\n",
       "0  e469dfaed039ead9110165d9bc457acb11609ca34057dc...   \n",
       "1  afcc639a324b6c598ef83d360450afa011cb2dd1358bf9...   \n",
       "2  fd5a7cf211d08e3e00f7be6a9df6e6ea3d2e5c22a5d9c3...   \n",
       "\n",
       "   user_purchase_binary_7_days  user_purchase_binary_14_days    user  \\\n",
       "0                         0.01                          0.02  332490   \n",
       "1                         0.01                          0.02  590690   \n",
       "2                         0.01                          0.02  163489   \n",
       "\n",
       "     pred_7   pred_14  \n",
       "0  0.000428  0.000952  \n",
       "1  0.000715  0.001404  \n",
       "2  0.000185  0.000389  "
      ]
     },
     "execution_count": 235,
     "metadata": {},
     "output_type": "execute_result"
    }
   ],
   "source": [
    "final = submission.merge(answer, on='user', how='left').fillna(0)\n",
    "final.head(3)"
   ]
  },
  {
   "cell_type": "code",
   "execution_count": 236,
   "metadata": {
    "ExecuteTime": {
     "end_time": "2019-03-07T03:44:11.703203Z",
     "start_time": "2019-03-07T03:44:10.103795Z"
    }
   },
   "outputs": [],
   "source": [
    "final = final.drop(['user','user_purchase_binary_7_days','user_purchase_binary_14_days'],axis=1)\n",
    "final = final.rename(index=str, columns={\"pred_7\": \"user_purchase_binary_7_days\", \"pred_14\":\"user_purchase_binary_14_days\"})\n",
    "final.to_csv(\"final2.csv\",index=False)"
   ]
  },
  {
   "cell_type": "code",
   "execution_count": 237,
   "metadata": {
    "ExecuteTime": {
     "end_time": "2019-03-07T03:44:14.467860Z",
     "start_time": "2019-03-07T03:44:13.908846Z"
    }
   },
   "outputs": [
    {
     "data": {
      "text/html": [
       "<div>\n",
       "<style scoped>\n",
       "    .dataframe tbody tr th:only-of-type {\n",
       "        vertical-align: middle;\n",
       "    }\n",
       "\n",
       "    .dataframe tbody tr th {\n",
       "        vertical-align: top;\n",
       "    }\n",
       "\n",
       "    .dataframe thead th {\n",
       "        text-align: right;\n",
       "    }\n",
       "</style>\n",
       "<table border=\"1\" class=\"dataframe\">\n",
       "  <thead>\n",
       "    <tr style=\"text-align: right;\">\n",
       "      <th></th>\n",
       "      <th>user_id_hash</th>\n",
       "      <th>user_purchase_binary_7_days</th>\n",
       "      <th>user_purchase_binary_14_days</th>\n",
       "    </tr>\n",
       "  </thead>\n",
       "  <tbody>\n",
       "    <tr>\n",
       "      <th>0</th>\n",
       "      <td>e469dfaed039ead9110165d9bc457acb11609ca34057dc...</td>\n",
       "      <td>0.000428</td>\n",
       "      <td>0.000952</td>\n",
       "    </tr>\n",
       "    <tr>\n",
       "      <th>1</th>\n",
       "      <td>afcc639a324b6c598ef83d360450afa011cb2dd1358bf9...</td>\n",
       "      <td>0.000715</td>\n",
       "      <td>0.001404</td>\n",
       "    </tr>\n",
       "    <tr>\n",
       "      <th>2</th>\n",
       "      <td>fd5a7cf211d08e3e00f7be6a9df6e6ea3d2e5c22a5d9c3...</td>\n",
       "      <td>0.000185</td>\n",
       "      <td>0.000389</td>\n",
       "    </tr>\n",
       "    <tr>\n",
       "      <th>3</th>\n",
       "      <td>00bfff98b9d0329f014c2eeac7ce47cd18b2bc6e10d608...</td>\n",
       "      <td>0.001032</td>\n",
       "      <td>0.001839</td>\n",
       "    </tr>\n",
       "    <tr>\n",
       "      <th>4</th>\n",
       "      <td>0d298f3638c43e915c119d4935e1ce8d168f81b5e3e8c1...</td>\n",
       "      <td>0.000973</td>\n",
       "      <td>0.003514</td>\n",
       "    </tr>\n",
       "  </tbody>\n",
       "</table>\n",
       "</div>"
      ],
      "text/plain": [
       "                                        user_id_hash  \\\n",
       "0  e469dfaed039ead9110165d9bc457acb11609ca34057dc...   \n",
       "1  afcc639a324b6c598ef83d360450afa011cb2dd1358bf9...   \n",
       "2  fd5a7cf211d08e3e00f7be6a9df6e6ea3d2e5c22a5d9c3...   \n",
       "3  00bfff98b9d0329f014c2eeac7ce47cd18b2bc6e10d608...   \n",
       "4  0d298f3638c43e915c119d4935e1ce8d168f81b5e3e8c1...   \n",
       "\n",
       "   user_purchase_binary_7_days  user_purchase_binary_14_days  \n",
       "0                     0.000428                      0.000952  \n",
       "1                     0.000715                      0.001404  \n",
       "2                     0.000185                      0.000389  \n",
       "3                     0.001032                      0.001839  \n",
       "4                     0.000973                      0.003514  "
      ]
     },
     "execution_count": 237,
     "metadata": {},
     "output_type": "execute_result"
    }
   ],
   "source": [
    "final = pd.read_csv('final2.csv')\n",
    "final.head()"
   ]
  },
  {
   "cell_type": "code",
   "execution_count": null,
   "metadata": {},
   "outputs": [],
   "source": []
  }
 ],
 "metadata": {
  "kernelspec": {
   "display_name": "Python 3",
   "language": "python",
   "name": "python3"
  },
  "language_info": {
   "codemirror_mode": {
    "name": "ipython",
    "version": 3
   },
   "file_extension": ".py",
   "mimetype": "text/x-python",
   "name": "python",
   "nbconvert_exporter": "python",
   "pygments_lexer": "ipython3",
   "version": "3.6.8"
  },
  "toc": {
   "base_numbering": 1,
   "nav_menu": {},
   "number_sections": true,
   "sideBar": true,
   "skip_h1_title": false,
   "title_cell": "Table of Contents",
   "title_sidebar": "Contents",
   "toc_cell": false,
   "toc_position": {},
   "toc_section_display": true,
   "toc_window_display": false
  },
  "varInspector": {
   "cols": {
    "lenName": 16,
    "lenType": 16,
    "lenVar": 40
   },
   "kernels_config": {
    "python": {
     "delete_cmd_postfix": "",
     "delete_cmd_prefix": "del ",
     "library": "var_list.py",
     "varRefreshCmd": "print(var_dic_list())"
    },
    "r": {
     "delete_cmd_postfix": ") ",
     "delete_cmd_prefix": "rm(",
     "library": "var_list.r",
     "varRefreshCmd": "cat(var_dic_list()) "
    }
   },
   "types_to_exclude": [
    "module",
    "function",
    "builtin_function_or_method",
    "instance",
    "_Feature"
   ],
   "window_display": false
  }
 },
 "nbformat": 4,
 "nbformat_minor": 2
}
